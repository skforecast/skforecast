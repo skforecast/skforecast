{
 "cells": [
  {
   "cell_type": "code",
   "execution_count": null,
   "metadata": {},
   "outputs": [
    {
     "name": "stdout",
     "output_type": "stream",
     "text": [
      "c:\\Users\\jaesc2\\GitHub\\skforecast\n"
     ]
    }
   ],
   "source": [
    "%load_ext autoreload\n",
    "%autoreload 2\n",
    "import sys\n",
    "from pathlib import Path\n",
    "path = str(Path.cwd().parent)\n",
    "print(path)\n",
    "sys.path.insert(1, path)\n",
    "\n",
    "import numpy as np\n",
    "import pandas as pd"
   ]
  },
  {
   "cell_type": "code",
   "execution_count": 6,
   "metadata": {},
   "outputs": [
    {
     "name": "stdout",
     "output_type": "stream",
     "text": [
      "Benchmarking prediction performance:\n",
      "\n",
      "Predict with array shape (1000, 20) and memory order C_CONTIGUOUS=True, F_CONTIGUOUS=False: 2.024 ms per run\n",
      "Predict with array shape (1000, 20) and memory order C_CONTIGUOUS=False, F_CONTIGUOUS=True: 2.248 ms per run\n",
      "Predict with array shape (1000, 20) and memory order C_CONTIGUOUS=True, F_CONTIGUOUS=False: 2.110 ms per run\n"
     ]
    },
    {
     "name": "stderr",
     "output_type": "stream",
     "text": [
      "/home/joaquin/miniconda3/envs/skforecast_benchmark/lib/python3.12/site-packages/sklearn/utils/validation.py:2749: UserWarning: X does not have valid feature names, but LGBMRegressor was fitted with feature names\n",
      "  warnings.warn(\n",
      "/home/joaquin/miniconda3/envs/skforecast_benchmark/lib/python3.12/site-packages/sklearn/utils/validation.py:2749: UserWarning: X does not have valid feature names, but LGBMRegressor was fitted with feature names\n",
      "  warnings.warn(\n",
      "/home/joaquin/miniconda3/envs/skforecast_benchmark/lib/python3.12/site-packages/sklearn/utils/validation.py:2749: UserWarning: X does not have valid feature names, but LGBMRegressor was fitted with feature names\n",
      "  warnings.warn(\n",
      "/home/joaquin/miniconda3/envs/skforecast_benchmark/lib/python3.12/site-packages/sklearn/utils/validation.py:2749: UserWarning: X does not have valid feature names, but LGBMRegressor was fitted with feature names\n",
      "  warnings.warn(\n",
      "/home/joaquin/miniconda3/envs/skforecast_benchmark/lib/python3.12/site-packages/sklearn/utils/validation.py:2749: UserWarning: X does not have valid feature names, but LGBMRegressor was fitted with feature names\n",
      "  warnings.warn(\n",
      "/home/joaquin/miniconda3/envs/skforecast_benchmark/lib/python3.12/site-packages/sklearn/utils/validation.py:2749: UserWarning: X does not have valid feature names, but LGBMRegressor was fitted with feature names\n",
      "  warnings.warn(\n",
      "/home/joaquin/miniconda3/envs/skforecast_benchmark/lib/python3.12/site-packages/sklearn/utils/validation.py:2749: UserWarning: X does not have valid feature names, but LGBMRegressor was fitted with feature names\n",
      "  warnings.warn(\n",
      "/home/joaquin/miniconda3/envs/skforecast_benchmark/lib/python3.12/site-packages/sklearn/utils/validation.py:2749: UserWarning: X does not have valid feature names, but LGBMRegressor was fitted with feature names\n",
      "  warnings.warn(\n",
      "/home/joaquin/miniconda3/envs/skforecast_benchmark/lib/python3.12/site-packages/sklearn/utils/validation.py:2749: UserWarning: X does not have valid feature names, but LGBMRegressor was fitted with feature names\n",
      "  warnings.warn(\n",
      "/home/joaquin/miniconda3/envs/skforecast_benchmark/lib/python3.12/site-packages/sklearn/utils/validation.py:2749: UserWarning: X does not have valid feature names, but LGBMRegressor was fitted with feature names\n",
      "  warnings.warn(\n",
      "/home/joaquin/miniconda3/envs/skforecast_benchmark/lib/python3.12/site-packages/sklearn/utils/validation.py:2749: UserWarning: X does not have valid feature names, but LGBMRegressor was fitted with feature names\n",
      "  warnings.warn(\n",
      "/home/joaquin/miniconda3/envs/skforecast_benchmark/lib/python3.12/site-packages/sklearn/utils/validation.py:2749: UserWarning: X does not have valid feature names, but LGBMRegressor was fitted with feature names\n",
      "  warnings.warn(\n",
      "/home/joaquin/miniconda3/envs/skforecast_benchmark/lib/python3.12/site-packages/sklearn/utils/validation.py:2749: UserWarning: X does not have valid feature names, but LGBMRegressor was fitted with feature names\n",
      "  warnings.warn(\n",
      "/home/joaquin/miniconda3/envs/skforecast_benchmark/lib/python3.12/site-packages/sklearn/utils/validation.py:2749: UserWarning: X does not have valid feature names, but LGBMRegressor was fitted with feature names\n",
      "  warnings.warn(\n",
      "/home/joaquin/miniconda3/envs/skforecast_benchmark/lib/python3.12/site-packages/sklearn/utils/validation.py:2749: UserWarning: X does not have valid feature names, but LGBMRegressor was fitted with feature names\n",
      "  warnings.warn(\n",
      "/home/joaquin/miniconda3/envs/skforecast_benchmark/lib/python3.12/site-packages/sklearn/utils/validation.py:2749: UserWarning: X does not have valid feature names, but LGBMRegressor was fitted with feature names\n",
      "  warnings.warn(\n",
      "/home/joaquin/miniconda3/envs/skforecast_benchmark/lib/python3.12/site-packages/sklearn/utils/validation.py:2749: UserWarning: X does not have valid feature names, but LGBMRegressor was fitted with feature names\n",
      "  warnings.warn(\n",
      "/home/joaquin/miniconda3/envs/skforecast_benchmark/lib/python3.12/site-packages/sklearn/utils/validation.py:2749: UserWarning: X does not have valid feature names, but LGBMRegressor was fitted with feature names\n",
      "  warnings.warn(\n",
      "/home/joaquin/miniconda3/envs/skforecast_benchmark/lib/python3.12/site-packages/sklearn/utils/validation.py:2749: UserWarning: X does not have valid feature names, but LGBMRegressor was fitted with feature names\n",
      "  warnings.warn(\n",
      "/home/joaquin/miniconda3/envs/skforecast_benchmark/lib/python3.12/site-packages/sklearn/utils/validation.py:2749: UserWarning: X does not have valid feature names, but LGBMRegressor was fitted with feature names\n",
      "  warnings.warn(\n",
      "/home/joaquin/miniconda3/envs/skforecast_benchmark/lib/python3.12/site-packages/sklearn/utils/validation.py:2749: UserWarning: X does not have valid feature names, but LGBMRegressor was fitted with feature names\n",
      "  warnings.warn(\n",
      "/home/joaquin/miniconda3/envs/skforecast_benchmark/lib/python3.12/site-packages/sklearn/utils/validation.py:2749: UserWarning: X does not have valid feature names, but LGBMRegressor was fitted with feature names\n",
      "  warnings.warn(\n",
      "/home/joaquin/miniconda3/envs/skforecast_benchmark/lib/python3.12/site-packages/sklearn/utils/validation.py:2749: UserWarning: X does not have valid feature names, but LGBMRegressor was fitted with feature names\n",
      "  warnings.warn(\n",
      "/home/joaquin/miniconda3/envs/skforecast_benchmark/lib/python3.12/site-packages/sklearn/utils/validation.py:2749: UserWarning: X does not have valid feature names, but LGBMRegressor was fitted with feature names\n",
      "  warnings.warn(\n",
      "/home/joaquin/miniconda3/envs/skforecast_benchmark/lib/python3.12/site-packages/sklearn/utils/validation.py:2749: UserWarning: X does not have valid feature names, but LGBMRegressor was fitted with feature names\n",
      "  warnings.warn(\n",
      "/home/joaquin/miniconda3/envs/skforecast_benchmark/lib/python3.12/site-packages/sklearn/utils/validation.py:2749: UserWarning: X does not have valid feature names, but LGBMRegressor was fitted with feature names\n",
      "  warnings.warn(\n",
      "/home/joaquin/miniconda3/envs/skforecast_benchmark/lib/python3.12/site-packages/sklearn/utils/validation.py:2749: UserWarning: X does not have valid feature names, but LGBMRegressor was fitted with feature names\n",
      "  warnings.warn(\n",
      "/home/joaquin/miniconda3/envs/skforecast_benchmark/lib/python3.12/site-packages/sklearn/utils/validation.py:2749: UserWarning: X does not have valid feature names, but LGBMRegressor was fitted with feature names\n",
      "  warnings.warn(\n",
      "/home/joaquin/miniconda3/envs/skforecast_benchmark/lib/python3.12/site-packages/sklearn/utils/validation.py:2749: UserWarning: X does not have valid feature names, but LGBMRegressor was fitted with feature names\n",
      "  warnings.warn(\n",
      "/home/joaquin/miniconda3/envs/skforecast_benchmark/lib/python3.12/site-packages/sklearn/utils/validation.py:2749: UserWarning: X does not have valid feature names, but LGBMRegressor was fitted with feature names\n",
      "  warnings.warn(\n",
      "/home/joaquin/miniconda3/envs/skforecast_benchmark/lib/python3.12/site-packages/sklearn/utils/validation.py:2749: UserWarning: X does not have valid feature names, but LGBMRegressor was fitted with feature names\n",
      "  warnings.warn(\n",
      "/home/joaquin/miniconda3/envs/skforecast_benchmark/lib/python3.12/site-packages/sklearn/utils/validation.py:2749: UserWarning: X does not have valid feature names, but LGBMRegressor was fitted with feature names\n",
      "  warnings.warn(\n",
      "/home/joaquin/miniconda3/envs/skforecast_benchmark/lib/python3.12/site-packages/sklearn/utils/validation.py:2749: UserWarning: X does not have valid feature names, but LGBMRegressor was fitted with feature names\n",
      "  warnings.warn(\n"
     ]
    }
   ],
   "source": [
    "import numpy as np\n",
    "import pandas as pd\n",
    "from sklearn.ensemble import RandomForestRegressor\n",
    "from lightgbm import LGBMRegressor\n",
    "from sklearn.datasets import make_regression\n",
    "import time\n",
    "\n",
    "# Create synthetic data for training\n",
    "X_train, y_train = make_regression(n_samples=1000, n_features=20, random_state=42)\n",
    "X_train_df = pd.DataFrame(X_train)  # Training with DataFrame, as you mentioned\n",
    "\n",
    "# Train model\n",
    "model = LGBMRegressor(n_estimators=50, random_state=42, verbose=-1)\n",
    "model.fit(X_train_df, y_train)\n",
    "\n",
    "# Create test input in different memory orders\n",
    "X_test = np.array(X_train[:1000])  # Base array for testing\n",
    "\n",
    "# C-contiguous (default)\n",
    "X_c = np.ascontiguousarray(X_test)\n",
    "\n",
    "# Fortran-contiguous\n",
    "X_f = np.asfortranarray(X_test)\n",
    "\n",
    "# Non-contiguous (e.g., a transpose slice)\n",
    "X_nc = X_test.T[:,:]  # shape changes to (20, 10) but let's fix it by transposing back\n",
    "X_nc = X_nc.T  # Back to (10, 20), still non-contiguous\n",
    "\n",
    "def benchmark_predict(X, model, n_runs=10):\n",
    "    # Warm-up\n",
    "    model.predict(X)\n",
    "    start = time.time()\n",
    "    for _ in range(n_runs):\n",
    "        model.predict(X)\n",
    "    end = time.time()\n",
    "    avg_time = (end - start) / n_runs\n",
    "    print(f\"Predict with array shape {X.shape} and memory order \"\n",
    "          f\"C_CONTIGUOUS={X.flags['C_CONTIGUOUS']}, F_CONTIGUOUS={X.flags['F_CONTIGUOUS']}: \"\n",
    "          f\"{avg_time*1000:.3f} ms per run\")\n",
    "\n",
    "print(\"Benchmarking prediction performance:\\n\")\n",
    "\n",
    "benchmark_predict(X_c, model)\n",
    "benchmark_predict(X_f, model)\n",
    "benchmark_predict(X_nc, model)\n"
   ]
  },
  {
   "cell_type": "code",
   "execution_count": 13,
   "metadata": {},
   "outputs": [],
   "source": [
    "import pandas as pd\n",
    "import numpy as np\n",
    "import time\n",
    "\n",
    "# Create a large Series with some NaNs\n",
    "n = 10_000_000\n",
    "data = np.random.rand(n)\n",
    "# data[1_000_000] = np.nan  # insert NaNs sparsely\n",
    "s = pd.Series(data)\n"
   ]
  }
 ],
 "metadata": {
  "kernelspec": {
   "display_name": "skforecast_benchmark",
   "language": "python",
   "name": "python3"
  },
  "language_info": {
   "codemirror_mode": {
    "name": "ipython",
    "version": 3
   },
   "file_extension": ".py",
   "mimetype": "text/x-python",
   "name": "python",
   "nbconvert_exporter": "python",
   "pygments_lexer": "ipython3",
   "version": "3.12.11"
  },
  "orig_nbformat": 4
 },
 "nbformat": 4,
 "nbformat_minor": 2
}
