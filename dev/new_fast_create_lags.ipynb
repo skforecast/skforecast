{
 "cells": [
  {
   "cell_type": "code",
   "execution_count": 15,
   "metadata": {},
   "outputs": [
    {
     "name": "stdout",
     "output_type": "stream",
     "text": [
      "The autoreload extension is already loaded. To reload it, use:\n",
      "  %reload_ext autoreload\n",
      "/home/joaquin/Documents/GitHub/skforecast\n"
     ]
    }
   ],
   "source": [
    "%load_ext autoreload\n",
    "%autoreload 2\n",
    "import sys\n",
    "from pathlib import Path\n",
    "path = str(Path.cwd().parent)\n",
    "print(path)\n",
    "sys.path.insert(1, path)\n",
    "\n",
    "import numpy as np\n",
    "import pandas as pd"
   ]
  },
  {
   "cell_type": "code",
   "execution_count": 16,
   "metadata": {},
   "outputs": [],
   "source": [
    "from skforecast.recursive import ForecasterRecursive\n",
    "from sklearn.linear_model import LinearRegression"
   ]
  },
  {
   "cell_type": "code",
   "execution_count": 17,
   "metadata": {},
   "outputs": [],
   "source": [
    "def _create_lags(\n",
    "    self,\n",
    "    y: np.ndarray,\n",
    "    X_as_pandas: bool = False,\n",
    "    train_index: pd.Index | None = None\n",
    ") -> tuple[np.ndarray | pd.DataFrame | None, np.ndarray]:\n",
    "    \"\"\"\n",
    "    Create the lagged values and their target variable from a time series.    \n",
    "    Note that the returned matrix `X_data` contains the lag 1 in the first \n",
    "    column, the lag 2 in the in the second column and so on.\n",
    "    \n",
    "    Parameters\n",
    "    ----------\n",
    "    y : numpy ndarray\n",
    "        Training time series values.\n",
    "    X_as_pandas : bool, default False\n",
    "        If `True`, the returned matrix `X_data` is a pandas DataFrame.\n",
    "    train_index : pandas Index, default None\n",
    "        Index of the training data. It is used to create the pandas DataFrame\n",
    "        `X_data` when `X_as_pandas` is `True`.\n",
    "\n",
    "    Returns\n",
    "    -------\n",
    "    X_data : numpy ndarray, pandas DataFrame, None\n",
    "        Lagged values (predictors).\n",
    "    y_data : numpy ndarray\n",
    "        Values of the time series related to each row of `X_data`.\n",
    "    \n",
    "    \"\"\"\n",
    "\n",
    "    X_data = None\n",
    "    if self.lags is not None:\n",
    "        n_rows = len(y) - self.window_size\n",
    "        X_data = np.full(\n",
    "            shape=(n_rows, len(self.lags)), fill_value=np.nan, order='F', dtype=float\n",
    "        )\n",
    "        for i, lag in enumerate(self.lags):\n",
    "            X_data[:, i] = y[self.window_size - lag: -lag]\n",
    "\n",
    "        if X_as_pandas:\n",
    "            X_data = pd.DataFrame(\n",
    "                         data    = X_data,\n",
    "                         columns = self.lags_names,\n",
    "                         index   = train_index\n",
    "                     )\n",
    "\n",
    "    y_data = y[self.window_size:]\n",
    "\n",
    "    return X_data, y_data"
   ]
  },
  {
   "cell_type": "code",
   "execution_count": null,
   "metadata": {},
   "outputs": [],
   "source": [
    "import numpy as np\n",
    "import pandas as pd\n",
    "from numpy.lib.stride_tricks import as_strided\n",
    "\n",
    "def _create_lags_new(\n",
    "    self,\n",
    "    y: np.ndarray,\n",
    "    X_as_pandas: bool = False,\n",
    "    train_index: pd.Index | None = None\n",
    ") -> tuple[np.ndarray | pd.DataFrame | None, np.ndarray]:\n",
    "    \"\"\"\n",
    "    Create the lagged values and their target variable from a time series,\n",
    "    optimized with stride tricks (no Python loops).\n",
    "    \"\"\"\n",
    "    X_data = None\n",
    "    if self.lags is not None:\n",
    "        n_rows = len(y) - self.window_size\n",
    "\n",
    "        # Rolling window view: shape = (n_rows, window_size)\n",
    "        y_strided = as_strided(\n",
    "            y,\n",
    "            shape=(n_rows, self.window_size),\n",
    "            strides=(y.strides[0], y.strides[0]),\n",
    "            writeable=False\n",
    "        )\n",
    "\n",
    "        # Column indices corresponding to desired lags\n",
    "        cols = [self.window_size - lag for lag in self.lags]\n",
    "        X_data = y_strided[:, cols]\n",
    "\n",
    "        if X_as_pandas:\n",
    "            X_data = pd.DataFrame(\n",
    "                data=X_data,\n",
    "                columns=self.lags_names,\n",
    "                index=train_index\n",
    "            )\n",
    "\n",
    "    # Target values\n",
    "    y_data = y[self.window_size:]\n",
    "\n",
    "    return X_data, y_data\n"
   ]
  },
  {
   "cell_type": "code",
   "execution_count": 19,
   "metadata": {},
   "outputs": [],
   "source": [
    "y = np.arange(10000)\n",
    "forecaster = ForecasterRecursive(\n",
    "    regressor=LinearRegression(),\n",
    "    lags=100\n",
    ")"
   ]
  },
  {
   "cell_type": "code",
   "execution_count": 20,
   "metadata": {},
   "outputs": [
    {
     "name": "stdout",
     "output_type": "stream",
     "text": [
      "2.04 ms ± 24.1 μs per loop (mean ± std. dev. of 7 runs, 100 loops each)\n"
     ]
    }
   ],
   "source": [
    "%%timeit\n",
    "_create_lags(\n",
    "    forecaster,\n",
    "    y\n",
    ")"
   ]
  },
  {
   "cell_type": "code",
   "execution_count": 21,
   "metadata": {},
   "outputs": [
    {
     "name": "stdout",
     "output_type": "stream",
     "text": [
      "847 μs ± 10.1 μs per loop (mean ± std. dev. of 7 runs, 1,000 loops each)\n"
     ]
    }
   ],
   "source": [
    "%%timeit\n",
    "_create_lags_new(\n",
    "    forecaster,\n",
    "    y\n",
    ")"
   ]
  }
 ],
 "metadata": {
  "kernelspec": {
   "display_name": "skforecast_16_py12",
   "language": "python",
   "name": "python3"
  },
  "language_info": {
   "codemirror_mode": {
    "name": "ipython",
    "version": 3
   },
   "file_extension": ".py",
   "mimetype": "text/x-python",
   "name": "python",
   "nbconvert_exporter": "python",
   "pygments_lexer": "ipython3",
   "version": "3.12.9"
  },
  "orig_nbformat": 4
 },
 "nbformat": 4,
 "nbformat_minor": 2
}
