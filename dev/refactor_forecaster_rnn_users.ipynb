{
 "cells": [
  {
   "cell_type": "code",
   "execution_count": 1,
   "metadata": {},
   "outputs": [
    {
     "name": "stdout",
     "output_type": "stream",
     "text": [
      "c:\\Users\\jaesc2\\GitHub\\skforecast\n"
     ]
    }
   ],
   "source": [
    "%load_ext autoreload\n",
    "%autoreload 2\n",
    "import sys\n",
    "from pathlib import Path\n",
    "path = str(Path.cwd().parent)\n",
    "print(path)\n",
    "sys.path.insert(1, path)\n",
    "\n",
    "import numpy as np\n",
    "import pandas as pd"
   ]
  },
  {
   "cell_type": "code",
   "execution_count": 2,
   "metadata": {},
   "outputs": [
    {
     "name": "stdout",
     "output_type": "stream",
     "text": [
      "3.6.0\n",
      "tensorflow\n"
     ]
    }
   ],
   "source": [
    "import os\n",
    "# os.environ[\"KERAS_BACKEND\"] = \"torch\"\n",
    "# os.environ[\"CUDA_VISIBLE_DEVICES\"] = \"-1\"\n",
    "\n",
    "import numpy as np\n",
    "import pandas as pd\n",
    "\n",
    "from skforecast.deep_learning import ForecasterRnn\n",
    "from skforecast.deep_learning.utils import create_and_compile_model\n",
    "\n",
    "# set backend torch\n",
    "import torch\n",
    "import keras\n",
    "print(keras.__version__)\n",
    "print(keras.backend.backend())"
   ]
  },
  {
   "cell_type": "markdown",
   "metadata": {},
   "source": [
    "# Test with Ximo"
   ]
  },
  {
   "cell_type": "code",
   "execution_count": 3,
   "metadata": {},
   "outputs": [
    {
     "data": {
      "text/html": [
       "<div>\n",
       "<style scoped>\n",
       "    .dataframe tbody tr th:only-of-type {\n",
       "        vertical-align: middle;\n",
       "    }\n",
       "\n",
       "    .dataframe tbody tr th {\n",
       "        vertical-align: top;\n",
       "    }\n",
       "\n",
       "    .dataframe thead th {\n",
       "        text-align: right;\n",
       "    }\n",
       "</style>\n",
       "<table border=\"1\" class=\"dataframe\">\n",
       "  <thead>\n",
       "    <tr style=\"text-align: right;\">\n",
       "      <th></th>\n",
       "      <th>datetime</th>\n",
       "      <th>so2</th>\n",
       "      <th>co</th>\n",
       "      <th>no</th>\n",
       "      <th>no2</th>\n",
       "      <th>pm10</th>\n",
       "      <th>nox</th>\n",
       "      <th>o3</th>\n",
       "      <th>veloc.</th>\n",
       "      <th>direc.</th>\n",
       "      <th>pm2.5</th>\n",
       "    </tr>\n",
       "  </thead>\n",
       "  <tbody>\n",
       "    <tr>\n",
       "      <th>0</th>\n",
       "      <td>2019-01-01 00:00:00</td>\n",
       "      <td>8.0</td>\n",
       "      <td>0.2</td>\n",
       "      <td>3.0</td>\n",
       "      <td>36.0</td>\n",
       "      <td>22.0</td>\n",
       "      <td>40.0</td>\n",
       "      <td>16.0</td>\n",
       "      <td>0.5</td>\n",
       "      <td>262.0</td>\n",
       "      <td>19.0</td>\n",
       "    </tr>\n",
       "    <tr>\n",
       "      <th>1</th>\n",
       "      <td>2019-01-01 01:00:00</td>\n",
       "      <td>8.0</td>\n",
       "      <td>0.1</td>\n",
       "      <td>2.0</td>\n",
       "      <td>40.0</td>\n",
       "      <td>32.0</td>\n",
       "      <td>44.0</td>\n",
       "      <td>6.0</td>\n",
       "      <td>0.6</td>\n",
       "      <td>248.0</td>\n",
       "      <td>26.0</td>\n",
       "    </tr>\n",
       "    <tr>\n",
       "      <th>2</th>\n",
       "      <td>2019-01-01 02:00:00</td>\n",
       "      <td>8.0</td>\n",
       "      <td>0.1</td>\n",
       "      <td>11.0</td>\n",
       "      <td>42.0</td>\n",
       "      <td>36.0</td>\n",
       "      <td>58.0</td>\n",
       "      <td>3.0</td>\n",
       "      <td>0.3</td>\n",
       "      <td>224.0</td>\n",
       "      <td>31.0</td>\n",
       "    </tr>\n",
       "    <tr>\n",
       "      <th>3</th>\n",
       "      <td>2019-01-01 03:00:00</td>\n",
       "      <td>10.0</td>\n",
       "      <td>0.1</td>\n",
       "      <td>15.0</td>\n",
       "      <td>41.0</td>\n",
       "      <td>35.0</td>\n",
       "      <td>63.0</td>\n",
       "      <td>3.0</td>\n",
       "      <td>0.2</td>\n",
       "      <td>220.0</td>\n",
       "      <td>30.0</td>\n",
       "    </tr>\n",
       "    <tr>\n",
       "      <th>4</th>\n",
       "      <td>2019-01-01 04:00:00</td>\n",
       "      <td>11.0</td>\n",
       "      <td>0.1</td>\n",
       "      <td>16.0</td>\n",
       "      <td>39.0</td>\n",
       "      <td>36.0</td>\n",
       "      <td>63.0</td>\n",
       "      <td>3.0</td>\n",
       "      <td>0.4</td>\n",
       "      <td>221.0</td>\n",
       "      <td>30.0</td>\n",
       "    </tr>\n",
       "    <tr>\n",
       "      <th>...</th>\n",
       "      <td>...</td>\n",
       "      <td>...</td>\n",
       "      <td>...</td>\n",
       "      <td>...</td>\n",
       "      <td>...</td>\n",
       "      <td>...</td>\n",
       "      <td>...</td>\n",
       "      <td>...</td>\n",
       "      <td>...</td>\n",
       "      <td>...</td>\n",
       "      <td>...</td>\n",
       "    </tr>\n",
       "    <tr>\n",
       "      <th>43819</th>\n",
       "      <td>2023-12-31 19:00:00</td>\n",
       "      <td>3.0</td>\n",
       "      <td>0.1</td>\n",
       "      <td>6.0</td>\n",
       "      <td>18.0</td>\n",
       "      <td>8.0</td>\n",
       "      <td>26.0</td>\n",
       "      <td>47.0</td>\n",
       "      <td>1.7</td>\n",
       "      <td>246.0</td>\n",
       "      <td>7.0</td>\n",
       "    </tr>\n",
       "    <tr>\n",
       "      <th>43820</th>\n",
       "      <td>2023-12-31 20:00:00</td>\n",
       "      <td>3.0</td>\n",
       "      <td>0.1</td>\n",
       "      <td>6.0</td>\n",
       "      <td>19.0</td>\n",
       "      <td>7.0</td>\n",
       "      <td>27.0</td>\n",
       "      <td>49.0</td>\n",
       "      <td>1.3</td>\n",
       "      <td>239.0</td>\n",
       "      <td>6.0</td>\n",
       "    </tr>\n",
       "    <tr>\n",
       "      <th>43821</th>\n",
       "      <td>2023-12-31 21:00:00</td>\n",
       "      <td>3.0</td>\n",
       "      <td>0.1</td>\n",
       "      <td>4.0</td>\n",
       "      <td>15.0</td>\n",
       "      <td>5.0</td>\n",
       "      <td>22.0</td>\n",
       "      <td>55.0</td>\n",
       "      <td>1.5</td>\n",
       "      <td>247.0</td>\n",
       "      <td>4.0</td>\n",
       "    </tr>\n",
       "    <tr>\n",
       "      <th>43822</th>\n",
       "      <td>2023-12-31 22:00:00</td>\n",
       "      <td>3.0</td>\n",
       "      <td>0.1</td>\n",
       "      <td>5.0</td>\n",
       "      <td>13.0</td>\n",
       "      <td>5.0</td>\n",
       "      <td>20.0</td>\n",
       "      <td>57.0</td>\n",
       "      <td>1.1</td>\n",
       "      <td>246.0</td>\n",
       "      <td>5.0</td>\n",
       "    </tr>\n",
       "    <tr>\n",
       "      <th>43823</th>\n",
       "      <td>2023-12-31 23:00:00</td>\n",
       "      <td>3.0</td>\n",
       "      <td>0.1</td>\n",
       "      <td>5.0</td>\n",
       "      <td>12.0</td>\n",
       "      <td>5.0</td>\n",
       "      <td>20.0</td>\n",
       "      <td>55.0</td>\n",
       "      <td>0.5</td>\n",
       "      <td>247.0</td>\n",
       "      <td>4.0</td>\n",
       "    </tr>\n",
       "  </tbody>\n",
       "</table>\n",
       "<p>43824 rows × 11 columns</p>\n",
       "</div>"
      ],
      "text/plain": [
       "                  datetime   so2   co    no   no2  pm10   nox    o3  veloc.  \\\n",
       "0      2019-01-01 00:00:00   8.0  0.2   3.0  36.0  22.0  40.0  16.0     0.5   \n",
       "1      2019-01-01 01:00:00   8.0  0.1   2.0  40.0  32.0  44.0   6.0     0.6   \n",
       "2      2019-01-01 02:00:00   8.0  0.1  11.0  42.0  36.0  58.0   3.0     0.3   \n",
       "3      2019-01-01 03:00:00  10.0  0.1  15.0  41.0  35.0  63.0   3.0     0.2   \n",
       "4      2019-01-01 04:00:00  11.0  0.1  16.0  39.0  36.0  63.0   3.0     0.4   \n",
       "...                    ...   ...  ...   ...   ...   ...   ...   ...     ...   \n",
       "43819  2023-12-31 19:00:00   3.0  0.1   6.0  18.0   8.0  26.0  47.0     1.7   \n",
       "43820  2023-12-31 20:00:00   3.0  0.1   6.0  19.0   7.0  27.0  49.0     1.3   \n",
       "43821  2023-12-31 21:00:00   3.0  0.1   4.0  15.0   5.0  22.0  55.0     1.5   \n",
       "43822  2023-12-31 22:00:00   3.0  0.1   5.0  13.0   5.0  20.0  57.0     1.1   \n",
       "43823  2023-12-31 23:00:00   3.0  0.1   5.0  12.0   5.0  20.0  55.0     0.5   \n",
       "\n",
       "       direc.  pm2.5  \n",
       "0       262.0   19.0  \n",
       "1       248.0   26.0  \n",
       "2       224.0   31.0  \n",
       "3       220.0   30.0  \n",
       "4       221.0   30.0  \n",
       "...       ...    ...  \n",
       "43819   246.0    7.0  \n",
       "43820   239.0    6.0  \n",
       "43821   247.0    4.0  \n",
       "43822   246.0    5.0  \n",
       "43823   247.0    4.0  \n",
       "\n",
       "[43824 rows x 11 columns]"
      ]
     },
     "execution_count": 3,
     "metadata": {},
     "output_type": "execute_result"
    }
   ],
   "source": [
    "from skforecast.datasets import fetch_dataset\n",
    "# data = fetch_dataset('air_quality_valencia_no_missing')\n",
    "data = pd.read_csv(\n",
    "    r\"C:\\Users\\jaesc2\\Downloads\\air_quality_valencia_no_missing.csv\", sep=','\n",
    ")\n",
    "data"
   ]
  },
  {
   "cell_type": "code",
   "execution_count": 4,
   "metadata": {},
   "outputs": [],
   "source": [
    "data = data.set_index('datetime')\n",
    "data.index = pd.to_datetime(data.index, format='%Y-%m-%d %H:%M:%S')\n",
    "data = data.asfreq('h')\n",
    "data = data.sort_index()\n",
    "\n",
    "end_train = '2021-03-31 23:59:00'\n",
    "end_validation = '2021-09-30 23:59:00'\n",
    "data_train = data.loc[: end_train, :]\n",
    "data_val = data.loc[end_train:end_validation, :]\n",
    "data_test = data.loc[end_validation:, :]"
   ]
  },
  {
   "cell_type": "code",
   "execution_count": 5,
   "metadata": {},
   "outputs": [
    {
     "data": {
      "text/html": [
       "<div>\n",
       "<style scoped>\n",
       "    .dataframe tbody tr th:only-of-type {\n",
       "        vertical-align: middle;\n",
       "    }\n",
       "\n",
       "    .dataframe tbody tr th {\n",
       "        vertical-align: top;\n",
       "    }\n",
       "\n",
       "    .dataframe thead th {\n",
       "        text-align: right;\n",
       "    }\n",
       "</style>\n",
       "<table border=\"1\" class=\"dataframe\">\n",
       "  <thead>\n",
       "    <tr style=\"text-align: right;\">\n",
       "      <th></th>\n",
       "      <th>so2</th>\n",
       "      <th>co</th>\n",
       "      <th>no</th>\n",
       "      <th>no2</th>\n",
       "      <th>pm10</th>\n",
       "      <th>nox</th>\n",
       "      <th>o3</th>\n",
       "      <th>veloc.</th>\n",
       "      <th>direc.</th>\n",
       "      <th>pm2.5</th>\n",
       "    </tr>\n",
       "    <tr>\n",
       "      <th>datetime</th>\n",
       "      <th></th>\n",
       "      <th></th>\n",
       "      <th></th>\n",
       "      <th></th>\n",
       "      <th></th>\n",
       "      <th></th>\n",
       "      <th></th>\n",
       "      <th></th>\n",
       "      <th></th>\n",
       "      <th></th>\n",
       "    </tr>\n",
       "  </thead>\n",
       "  <tbody>\n",
       "    <tr>\n",
       "      <th>2019-01-01 00:00:00</th>\n",
       "      <td>8.0</td>\n",
       "      <td>0.2</td>\n",
       "      <td>3.0</td>\n",
       "      <td>36.0</td>\n",
       "      <td>22.0</td>\n",
       "      <td>40.0</td>\n",
       "      <td>16.0</td>\n",
       "      <td>0.5</td>\n",
       "      <td>262.0</td>\n",
       "      <td>19.0</td>\n",
       "    </tr>\n",
       "    <tr>\n",
       "      <th>2019-01-01 01:00:00</th>\n",
       "      <td>8.0</td>\n",
       "      <td>0.1</td>\n",
       "      <td>2.0</td>\n",
       "      <td>40.0</td>\n",
       "      <td>32.0</td>\n",
       "      <td>44.0</td>\n",
       "      <td>6.0</td>\n",
       "      <td>0.6</td>\n",
       "      <td>248.0</td>\n",
       "      <td>26.0</td>\n",
       "    </tr>\n",
       "    <tr>\n",
       "      <th>2019-01-01 02:00:00</th>\n",
       "      <td>8.0</td>\n",
       "      <td>0.1</td>\n",
       "      <td>11.0</td>\n",
       "      <td>42.0</td>\n",
       "      <td>36.0</td>\n",
       "      <td>58.0</td>\n",
       "      <td>3.0</td>\n",
       "      <td>0.3</td>\n",
       "      <td>224.0</td>\n",
       "      <td>31.0</td>\n",
       "    </tr>\n",
       "    <tr>\n",
       "      <th>2019-01-01 03:00:00</th>\n",
       "      <td>10.0</td>\n",
       "      <td>0.1</td>\n",
       "      <td>15.0</td>\n",
       "      <td>41.0</td>\n",
       "      <td>35.0</td>\n",
       "      <td>63.0</td>\n",
       "      <td>3.0</td>\n",
       "      <td>0.2</td>\n",
       "      <td>220.0</td>\n",
       "      <td>30.0</td>\n",
       "    </tr>\n",
       "    <tr>\n",
       "      <th>2019-01-01 04:00:00</th>\n",
       "      <td>11.0</td>\n",
       "      <td>0.1</td>\n",
       "      <td>16.0</td>\n",
       "      <td>39.0</td>\n",
       "      <td>36.0</td>\n",
       "      <td>63.0</td>\n",
       "      <td>3.0</td>\n",
       "      <td>0.4</td>\n",
       "      <td>221.0</td>\n",
       "      <td>30.0</td>\n",
       "    </tr>\n",
       "    <tr>\n",
       "      <th>...</th>\n",
       "      <td>...</td>\n",
       "      <td>...</td>\n",
       "      <td>...</td>\n",
       "      <td>...</td>\n",
       "      <td>...</td>\n",
       "      <td>...</td>\n",
       "      <td>...</td>\n",
       "      <td>...</td>\n",
       "      <td>...</td>\n",
       "      <td>...</td>\n",
       "    </tr>\n",
       "    <tr>\n",
       "      <th>2021-03-31 19:00:00</th>\n",
       "      <td>3.0</td>\n",
       "      <td>0.1</td>\n",
       "      <td>1.0</td>\n",
       "      <td>11.0</td>\n",
       "      <td>7.0</td>\n",
       "      <td>13.0</td>\n",
       "      <td>80.0</td>\n",
       "      <td>1.3</td>\n",
       "      <td>50.0</td>\n",
       "      <td>6.0</td>\n",
       "    </tr>\n",
       "    <tr>\n",
       "      <th>2021-03-31 20:00:00</th>\n",
       "      <td>3.0</td>\n",
       "      <td>0.1</td>\n",
       "      <td>1.0</td>\n",
       "      <td>14.0</td>\n",
       "      <td>7.0</td>\n",
       "      <td>16.0</td>\n",
       "      <td>77.0</td>\n",
       "      <td>0.9</td>\n",
       "      <td>42.0</td>\n",
       "      <td>6.0</td>\n",
       "    </tr>\n",
       "    <tr>\n",
       "      <th>2021-03-31 21:00:00</th>\n",
       "      <td>3.0</td>\n",
       "      <td>0.2</td>\n",
       "      <td>1.0</td>\n",
       "      <td>15.0</td>\n",
       "      <td>10.0</td>\n",
       "      <td>17.0</td>\n",
       "      <td>71.0</td>\n",
       "      <td>0.1</td>\n",
       "      <td>27.0</td>\n",
       "      <td>8.0</td>\n",
       "    </tr>\n",
       "    <tr>\n",
       "      <th>2021-03-31 22:00:00</th>\n",
       "      <td>3.0</td>\n",
       "      <td>0.2</td>\n",
       "      <td>1.0</td>\n",
       "      <td>19.0</td>\n",
       "      <td>15.0</td>\n",
       "      <td>21.0</td>\n",
       "      <td>59.0</td>\n",
       "      <td>0.2</td>\n",
       "      <td>15.0</td>\n",
       "      <td>12.0</td>\n",
       "    </tr>\n",
       "    <tr>\n",
       "      <th>2021-03-31 23:00:00</th>\n",
       "      <td>3.0</td>\n",
       "      <td>0.1</td>\n",
       "      <td>1.0</td>\n",
       "      <td>21.0</td>\n",
       "      <td>17.0</td>\n",
       "      <td>24.0</td>\n",
       "      <td>50.0</td>\n",
       "      <td>0.2</td>\n",
       "      <td>6.0</td>\n",
       "      <td>14.0</td>\n",
       "    </tr>\n",
       "  </tbody>\n",
       "</table>\n",
       "<p>19704 rows × 10 columns</p>\n",
       "</div>"
      ],
      "text/plain": [
       "                      so2   co    no   no2  pm10   nox    o3  veloc.  direc.  \\\n",
       "datetime                                                                       \n",
       "2019-01-01 00:00:00   8.0  0.2   3.0  36.0  22.0  40.0  16.0     0.5   262.0   \n",
       "2019-01-01 01:00:00   8.0  0.1   2.0  40.0  32.0  44.0   6.0     0.6   248.0   \n",
       "2019-01-01 02:00:00   8.0  0.1  11.0  42.0  36.0  58.0   3.0     0.3   224.0   \n",
       "2019-01-01 03:00:00  10.0  0.1  15.0  41.0  35.0  63.0   3.0     0.2   220.0   \n",
       "2019-01-01 04:00:00  11.0  0.1  16.0  39.0  36.0  63.0   3.0     0.4   221.0   \n",
       "...                   ...  ...   ...   ...   ...   ...   ...     ...     ...   \n",
       "2021-03-31 19:00:00   3.0  0.1   1.0  11.0   7.0  13.0  80.0     1.3    50.0   \n",
       "2021-03-31 20:00:00   3.0  0.1   1.0  14.0   7.0  16.0  77.0     0.9    42.0   \n",
       "2021-03-31 21:00:00   3.0  0.2   1.0  15.0  10.0  17.0  71.0     0.1    27.0   \n",
       "2021-03-31 22:00:00   3.0  0.2   1.0  19.0  15.0  21.0  59.0     0.2    15.0   \n",
       "2021-03-31 23:00:00   3.0  0.1   1.0  21.0  17.0  24.0  50.0     0.2     6.0   \n",
       "\n",
       "                     pm2.5  \n",
       "datetime                    \n",
       "2019-01-01 00:00:00   19.0  \n",
       "2019-01-01 01:00:00   26.0  \n",
       "2019-01-01 02:00:00   31.0  \n",
       "2019-01-01 03:00:00   30.0  \n",
       "2019-01-01 04:00:00   30.0  \n",
       "...                    ...  \n",
       "2021-03-31 19:00:00    6.0  \n",
       "2021-03-31 20:00:00    6.0  \n",
       "2021-03-31 21:00:00    8.0  \n",
       "2021-03-31 22:00:00   12.0  \n",
       "2021-03-31 23:00:00   14.0  \n",
       "\n",
       "[19704 rows x 10 columns]"
      ]
     },
     "execution_count": 5,
     "metadata": {},
     "output_type": "execute_result"
    }
   ],
   "source": [
    "data_train"
   ]
  },
  {
   "cell_type": "markdown",
   "metadata": {},
   "source": [
    "# Without Exog"
   ]
  },
  {
   "cell_type": "code",
   "execution_count": 6,
   "metadata": {},
   "outputs": [
    {
     "data": {
      "text/html": [
       "<pre style=\"white-space:pre;overflow-x:auto;line-height:normal;font-family:Menlo,'DejaVu Sans Mono',consolas,'Courier New',monospace\"><span style=\"font-weight: bold\">Model: \"functional\"</span>\n",
       "</pre>\n"
      ],
      "text/plain": [
       "\u001b[1mModel: \"functional\"\u001b[0m\n"
      ]
     },
     "metadata": {},
     "output_type": "display_data"
    },
    {
     "data": {
      "text/html": [
       "<pre style=\"white-space:pre;overflow-x:auto;line-height:normal;font-family:Menlo,'DejaVu Sans Mono',consolas,'Courier New',monospace\">┏━━━━━━━━━━━━━━━━━━━━━━━━━━━━━━━━━┳━━━━━━━━━━━━━━━━━━━━━━━━┳━━━━━━━━━━━━━━━┓\n",
       "┃<span style=\"font-weight: bold\"> Layer (type)                    </span>┃<span style=\"font-weight: bold\"> Output Shape           </span>┃<span style=\"font-weight: bold\">       Param # </span>┃\n",
       "┡━━━━━━━━━━━━━━━━━━━━━━━━━━━━━━━━━╇━━━━━━━━━━━━━━━━━━━━━━━━╇━━━━━━━━━━━━━━━┩\n",
       "│ series_input (<span style=\"color: #0087ff; text-decoration-color: #0087ff\">InputLayer</span>)       │ (<span style=\"color: #00d7ff; text-decoration-color: #00d7ff\">None</span>, <span style=\"color: #00af00; text-decoration-color: #00af00\">4</span>, <span style=\"color: #00af00; text-decoration-color: #00af00\">10</span>)          │             <span style=\"color: #00af00; text-decoration-color: #00af00\">0</span> │\n",
       "├─────────────────────────────────┼────────────────────────┼───────────────┤\n",
       "│ lstm (<span style=\"color: #0087ff; text-decoration-color: #0087ff\">LSTM</span>)                     │ (<span style=\"color: #00d7ff; text-decoration-color: #00d7ff\">None</span>, <span style=\"color: #00af00; text-decoration-color: #00af00\">100</span>)            │        <span style=\"color: #00af00; text-decoration-color: #00af00\">44,400</span> │\n",
       "├─────────────────────────────────┼────────────────────────┼───────────────┤\n",
       "│ repeat_vector (<span style=\"color: #0087ff; text-decoration-color: #0087ff\">RepeatVector</span>)    │ (<span style=\"color: #00d7ff; text-decoration-color: #00d7ff\">None</span>, <span style=\"color: #00af00; text-decoration-color: #00af00\">5</span>, <span style=\"color: #00af00; text-decoration-color: #00af00\">100</span>)         │             <span style=\"color: #00af00; text-decoration-color: #00af00\">0</span> │\n",
       "├─────────────────────────────────┼────────────────────────┼───────────────┤\n",
       "│ time_distributed                │ (<span style=\"color: #00d7ff; text-decoration-color: #00d7ff\">None</span>, <span style=\"color: #00af00; text-decoration-color: #00af00\">5</span>, <span style=\"color: #00af00; text-decoration-color: #00af00\">128</span>)         │        <span style=\"color: #00af00; text-decoration-color: #00af00\">12,928</span> │\n",
       "│ (<span style=\"color: #0087ff; text-decoration-color: #0087ff\">TimeDistributed</span>)               │                        │               │\n",
       "├─────────────────────────────────┼────────────────────────┼───────────────┤\n",
       "│ time_distributed_1              │ (<span style=\"color: #00d7ff; text-decoration-color: #00d7ff\">None</span>, <span style=\"color: #00af00; text-decoration-color: #00af00\">5</span>, <span style=\"color: #00af00; text-decoration-color: #00af00\">64</span>)          │         <span style=\"color: #00af00; text-decoration-color: #00af00\">8,256</span> │\n",
       "│ (<span style=\"color: #0087ff; text-decoration-color: #0087ff\">TimeDistributed</span>)               │                        │               │\n",
       "├─────────────────────────────────┼────────────────────────┼───────────────┤\n",
       "│ output_layer (<span style=\"color: #0087ff; text-decoration-color: #0087ff\">TimeDistributed</span>)  │ (<span style=\"color: #00d7ff; text-decoration-color: #00d7ff\">None</span>, <span style=\"color: #00af00; text-decoration-color: #00af00\">5</span>, <span style=\"color: #00af00; text-decoration-color: #00af00\">3</span>)           │           <span style=\"color: #00af00; text-decoration-color: #00af00\">195</span> │\n",
       "└─────────────────────────────────┴────────────────────────┴───────────────┘\n",
       "</pre>\n"
      ],
      "text/plain": [
       "┏━━━━━━━━━━━━━━━━━━━━━━━━━━━━━━━━━┳━━━━━━━━━━━━━━━━━━━━━━━━┳━━━━━━━━━━━━━━━┓\n",
       "┃\u001b[1m \u001b[0m\u001b[1mLayer (type)                   \u001b[0m\u001b[1m \u001b[0m┃\u001b[1m \u001b[0m\u001b[1mOutput Shape          \u001b[0m\u001b[1m \u001b[0m┃\u001b[1m \u001b[0m\u001b[1m      Param #\u001b[0m\u001b[1m \u001b[0m┃\n",
       "┡━━━━━━━━━━━━━━━━━━━━━━━━━━━━━━━━━╇━━━━━━━━━━━━━━━━━━━━━━━━╇━━━━━━━━━━━━━━━┩\n",
       "│ series_input (\u001b[38;5;33mInputLayer\u001b[0m)       │ (\u001b[38;5;45mNone\u001b[0m, \u001b[38;5;34m4\u001b[0m, \u001b[38;5;34m10\u001b[0m)          │             \u001b[38;5;34m0\u001b[0m │\n",
       "├─────────────────────────────────┼────────────────────────┼───────────────┤\n",
       "│ lstm (\u001b[38;5;33mLSTM\u001b[0m)                     │ (\u001b[38;5;45mNone\u001b[0m, \u001b[38;5;34m100\u001b[0m)            │        \u001b[38;5;34m44,400\u001b[0m │\n",
       "├─────────────────────────────────┼────────────────────────┼───────────────┤\n",
       "│ repeat_vector (\u001b[38;5;33mRepeatVector\u001b[0m)    │ (\u001b[38;5;45mNone\u001b[0m, \u001b[38;5;34m5\u001b[0m, \u001b[38;5;34m100\u001b[0m)         │             \u001b[38;5;34m0\u001b[0m │\n",
       "├─────────────────────────────────┼────────────────────────┼───────────────┤\n",
       "│ time_distributed                │ (\u001b[38;5;45mNone\u001b[0m, \u001b[38;5;34m5\u001b[0m, \u001b[38;5;34m128\u001b[0m)         │        \u001b[38;5;34m12,928\u001b[0m │\n",
       "│ (\u001b[38;5;33mTimeDistributed\u001b[0m)               │                        │               │\n",
       "├─────────────────────────────────┼────────────────────────┼───────────────┤\n",
       "│ time_distributed_1              │ (\u001b[38;5;45mNone\u001b[0m, \u001b[38;5;34m5\u001b[0m, \u001b[38;5;34m64\u001b[0m)          │         \u001b[38;5;34m8,256\u001b[0m │\n",
       "│ (\u001b[38;5;33mTimeDistributed\u001b[0m)               │                        │               │\n",
       "├─────────────────────────────────┼────────────────────────┼───────────────┤\n",
       "│ output_layer (\u001b[38;5;33mTimeDistributed\u001b[0m)  │ (\u001b[38;5;45mNone\u001b[0m, \u001b[38;5;34m5\u001b[0m, \u001b[38;5;34m3\u001b[0m)           │           \u001b[38;5;34m195\u001b[0m │\n",
       "└─────────────────────────────────┴────────────────────────┴───────────────┘\n"
      ]
     },
     "metadata": {},
     "output_type": "display_data"
    },
    {
     "data": {
      "text/html": [
       "<pre style=\"white-space:pre;overflow-x:auto;line-height:normal;font-family:Menlo,'DejaVu Sans Mono',consolas,'Courier New',monospace\"><span style=\"font-weight: bold\"> Total params: </span><span style=\"color: #00af00; text-decoration-color: #00af00\">65,779</span> (256.95 KB)\n",
       "</pre>\n"
      ],
      "text/plain": [
       "\u001b[1m Total params: \u001b[0m\u001b[38;5;34m65,779\u001b[0m (256.95 KB)\n"
      ]
     },
     "metadata": {},
     "output_type": "display_data"
    },
    {
     "data": {
      "text/html": [
       "<pre style=\"white-space:pre;overflow-x:auto;line-height:normal;font-family:Menlo,'DejaVu Sans Mono',consolas,'Courier New',monospace\"><span style=\"font-weight: bold\"> Trainable params: </span><span style=\"color: #00af00; text-decoration-color: #00af00\">65,779</span> (256.95 KB)\n",
       "</pre>\n"
      ],
      "text/plain": [
       "\u001b[1m Trainable params: \u001b[0m\u001b[38;5;34m65,779\u001b[0m (256.95 KB)\n"
      ]
     },
     "metadata": {},
     "output_type": "display_data"
    },
    {
     "data": {
      "text/html": [
       "<pre style=\"white-space:pre;overflow-x:auto;line-height:normal;font-family:Menlo,'DejaVu Sans Mono',consolas,'Courier New',monospace\"><span style=\"font-weight: bold\"> Non-trainable params: </span><span style=\"color: #00af00; text-decoration-color: #00af00\">0</span> (0.00 B)\n",
       "</pre>\n"
      ],
      "text/plain": [
       "\u001b[1m Non-trainable params: \u001b[0m\u001b[38;5;34m0\u001b[0m (0.00 B)\n"
      ]
     },
     "metadata": {},
     "output_type": "display_data"
    },
    {
     "name": "stdout",
     "output_type": "stream",
     "text": [
      "<Functional name=functional, built=True>\n",
      "False\n"
     ]
    },
    {
     "name": "stderr",
     "output_type": "stream",
     "text": [
      "c:\\Users\\jaesc2\\Miniconda3\\envs\\skforecast_py11_2\\Lib\\site-packages\\keras\\src\\saving\\saving_lib.py:719: UserWarning: Skipping variable loading for optimizer 'adam', because it has 20 variables whereas the saved optimizer has 2 variables. \n",
      "  saveable.load_own_variables(weights_store.get(inner_path))\n"
     ]
    },
    {
     "ename": "AttributeError",
     "evalue": "'Functional' object has no attribute 'exog_in_'",
     "output_type": "error",
     "traceback": [
      "\u001b[31m---------------------------------------------------------------------------\u001b[39m",
      "\u001b[31mAttributeError\u001b[39m                            Traceback (most recent call last)",
      "\u001b[36mCell\u001b[39m\u001b[36m \u001b[39m\u001b[32mIn[6]\u001b[39m\u001b[32m, line 28\u001b[39m\n\u001b[32m     24\u001b[39m model.summary()\n\u001b[32m     26\u001b[39m \u001b[38;5;66;03m# ==============================================================================\u001b[39;00m\n\u001b[32m---> \u001b[39m\u001b[32m28\u001b[39m forecaster = \u001b[43mForecasterRnn\u001b[49m\u001b[43m(\u001b[49m\n\u001b[32m     29\u001b[39m \u001b[43m    \u001b[49m\u001b[43mregressor\u001b[49m\u001b[43m=\u001b[49m\u001b[43mmodel\u001b[49m\u001b[43m,\u001b[49m\n\u001b[32m     30\u001b[39m \u001b[43m    \u001b[49m\u001b[43mlevels\u001b[49m\u001b[43m=\u001b[49m\u001b[43mlevels\u001b[49m\u001b[43m,\u001b[49m\n\u001b[32m     31\u001b[39m \u001b[43m    \u001b[49m\u001b[43mfit_kwargs\u001b[49m\u001b[43m=\u001b[49m\u001b[43m{\u001b[49m\n\u001b[32m     32\u001b[39m \u001b[43m        \u001b[49m\u001b[33;43m\"\u001b[39;49m\u001b[33;43mepochs\u001b[39;49m\u001b[33;43m\"\u001b[39;49m\u001b[43m:\u001b[49m\u001b[43m \u001b[49m\u001b[32;43m2\u001b[39;49m\u001b[43m,\u001b[49m\u001b[43m  \u001b[49m\u001b[38;5;66;43;03m# Number of epochs to train the model.\u001b[39;49;00m\n\u001b[32m     33\u001b[39m \u001b[43m        \u001b[49m\u001b[33;43m\"\u001b[39;49m\u001b[33;43mbatch_size\u001b[39;49m\u001b[33;43m\"\u001b[39;49m\u001b[43m:\u001b[49m\u001b[43m \u001b[49m\u001b[32;43m2048\u001b[39;49m\u001b[43m,\u001b[49m\u001b[43m  \u001b[49m\u001b[38;5;66;43;03m# Batch size to train the model.\u001b[39;49;00m\n\u001b[32m     34\u001b[39m \u001b[43m    \u001b[49m\u001b[43m}\u001b[49m\u001b[43m,\u001b[49m\n\u001b[32m     35\u001b[39m \u001b[43m)\u001b[49m    \n\u001b[32m     38\u001b[39m \u001b[38;5;66;03m# Backtesting model with exogenous variables on test data \u001b[39;00m\n\u001b[32m     39\u001b[39m \u001b[38;5;66;03m# # ============================================================================== \u001b[39;00m\n\u001b[32m     40\u001b[39m \u001b[38;5;28;01mfrom\u001b[39;00m\u001b[38;5;250m \u001b[39m\u001b[34;01mskforecast\u001b[39;00m\u001b[34;01m.\u001b[39;00m\u001b[34;01mmodel_selection\u001b[39;00m\u001b[38;5;250m \u001b[39m\u001b[38;5;28;01mimport\u001b[39;00m TimeSeriesFold, backtesting_forecaster_multiseries\n",
      "\u001b[36mFile \u001b[39m\u001b[32mc:\\Users\\jaesc2\\GitHub\\skforecast\\skforecast\\deep_learning\\_forecaster_rnn.py:222\u001b[39m, in \u001b[36mForecasterRnn.__init__\u001b[39m\u001b[34m(self, regressor, levels, lags, transformer_series, transformer_exog, fit_kwargs, forecaster_id)\u001b[39m\n\u001b[32m    219\u001b[39m \u001b[38;5;28mprint\u001b[39m(regressor.exog_in_)\n\u001b[32m    221\u001b[39m \u001b[38;5;28mself\u001b[39m.regressor = deepcopy(regressor)\n\u001b[32m--> \u001b[39m\u001b[32m222\u001b[39m \u001b[38;5;28mprint\u001b[39m(\u001b[38;5;28;43mself\u001b[39;49m\u001b[43m.\u001b[49m\u001b[43mregressor\u001b[49m\u001b[43m.\u001b[49m\u001b[43mexog_in_\u001b[49m)\n\u001b[32m    223\u001b[39m \u001b[38;5;28mself\u001b[39m.levels = \u001b[38;5;28;01mNone\u001b[39;00m\n\u001b[32m    224\u001b[39m \u001b[38;5;28mself\u001b[39m.transformer_series = transformer_series\n",
      "\u001b[31mAttributeError\u001b[39m: 'Functional' object has no attribute 'exog_in_'"
     ]
    }
   ],
   "source": [
    "lags = 4\n",
    "steps = 5\n",
    "levels = [\"o3\", \"co\", \"no\"]\n",
    "\n",
    "activation = \"relu\"\n",
    "optimizer = keras.optimizers.Adam(learning_rate=0.01)\n",
    "loss = keras.losses.MeanSquaredError()\n",
    "recurrent_units = 100\n",
    "dense_units = [128, 64]\n",
    "\n",
    "model = create_and_compile_model(\n",
    "    series=data,\n",
    "    lags=lags,\n",
    "    steps=steps,\n",
    "    levels=levels,\n",
    "    # exog=data[exog_features],\n",
    "    recurrent_units=recurrent_units,\n",
    "    dense_units=dense_units,\n",
    "    activation=activation,\n",
    "    optimizer=optimizer,\n",
    "    loss=loss,\n",
    ")\n",
    "\n",
    "model.summary()\n",
    "\n",
    "# ==============================================================================\n",
    "\n",
    "forecaster = ForecasterRnn(\n",
    "    regressor=model,\n",
    "    levels=levels,\n",
    "    fit_kwargs={\n",
    "        \"epochs\": 2,  # Number of epochs to train the model.\n",
    "        \"batch_size\": 2048,  # Batch size to train the model.\n",
    "    },\n",
    ")    \n",
    "\n",
    "\n",
    "# Backtesting model with exogenous variables on test data \n",
    "# # ============================================================================== \n",
    "from skforecast.model_selection import TimeSeriesFold, backtesting_forecaster_multiseries\n",
    " \n",
    "cv = TimeSeriesFold( steps = 36, initial_train_size = len(data[:end_validation]), refit = False, allow_incomplete_fold=False)\n",
    "metric, predictions = backtesting_forecaster_multiseries(\n",
    "    forecaster = forecaster, \n",
    "    series = data[levels], \n",
    "    # exog = data[exog_features], \n",
    "    cv = cv, \n",
    "    metric = 'mean_absolute_error'\n",
    "    )\n",
    "\n",
    "metric"
   ]
  },
  {
   "cell_type": "code",
   "execution_count": null,
   "metadata": {},
   "outputs": [
    {
     "name": "stdout",
     "output_type": "stream",
     "text": [
      "Using device: cuda\n",
      "Epoch 1/2\n",
      "\u001b[1m9/9\u001b[0m \u001b[32m━━━━━━━━━━━━━━━━━━━━\u001b[0m\u001b[37m\u001b[0m \u001b[1m9s\u001b[0m 629ms/step - loss: 0.0549\n",
      "Epoch 2/2\n",
      "\u001b[1m9/9\u001b[0m \u001b[32m━━━━━━━━━━━━━━━━━━━━\u001b[0m\u001b[37m\u001b[0m \u001b[1m7s\u001b[0m 822ms/step - loss: 0.0356\n"
     ]
    }
   ],
   "source": [
    "forecaster.fit(series = data[levels])"
   ]
  },
  {
   "cell_type": "code",
   "execution_count": null,
   "metadata": {},
   "outputs": [
    {
     "name": "stdout",
     "output_type": "stream",
     "text": [
      "{0: DatetimeIndex(['2011-01-09 00:00:00', '2011-01-09 01:00:00',\n",
      "               '2011-01-09 02:00:00', '2011-01-09 03:00:00',\n",
      "               '2011-01-09 04:00:00', '2011-01-09 05:00:00',\n",
      "               '2011-01-09 06:00:00', '2011-01-09 07:00:00',\n",
      "               '2011-01-09 08:00:00', '2011-01-09 09:00:00',\n",
      "               ...\n",
      "               '2012-12-29 03:00:00', '2012-12-29 04:00:00',\n",
      "               '2012-12-29 05:00:00', '2012-12-29 06:00:00',\n",
      "               '2012-12-29 07:00:00', '2012-12-29 08:00:00',\n",
      "               '2012-12-29 09:00:00', '2012-12-29 10:00:00',\n",
      "               '2012-12-29 11:00:00', '2012-12-29 12:00:00'],\n",
      "              dtype='datetime64[ns]', name='date_time', length=17293, freq='h'), 1: ['lag_1', 'lag_2', 'lag_3', 'lag_4', 'lag_5', 'lag_6', 'lag_7', 'lag_8', 'lag_9', 'lag_10', 'lag_11', 'lag_12', 'lag_13', 'lag_14', 'lag_15', 'lag_16', 'lag_17', 'lag_18', 'lag_19', 'lag_20', 'lag_21', 'lag_22', 'lag_23', 'lag_24'], 2: ['users']}\n",
      "{0: DatetimeIndex(['2011-01-09 00:00:00', '2011-01-09 01:00:00',\n",
      "               '2011-01-09 02:00:00', '2011-01-09 03:00:00',\n",
      "               '2011-01-09 04:00:00', '2011-01-09 05:00:00',\n",
      "               '2011-01-09 06:00:00', '2011-01-09 07:00:00',\n",
      "               '2011-01-09 08:00:00', '2011-01-09 09:00:00',\n",
      "               ...\n",
      "               '2012-12-29 03:00:00', '2012-12-29 04:00:00',\n",
      "               '2012-12-29 05:00:00', '2012-12-29 06:00:00',\n",
      "               '2012-12-29 07:00:00', '2012-12-29 08:00:00',\n",
      "               '2012-12-29 09:00:00', '2012-12-29 10:00:00',\n",
      "               '2012-12-29 11:00:00', '2012-12-29 12:00:00'],\n",
      "              dtype='datetime64[ns]', name='date_time', length=17293, freq='h'), 1: ['step_1', 'step_2', 'step_3', 'step_4', 'step_5', 'step_6', 'step_7', 'step_8', 'step_9', 'step_10', 'step_11', 'step_12', 'step_13', 'step_14', 'step_15', 'step_16', 'step_17', 'step_18', 'step_19', 'step_20', 'step_21', 'step_22', 'step_23', 'step_24', 'step_25', 'step_26', 'step_27', 'step_28', 'step_29', 'step_30', 'step_31', 'step_32', 'step_33', 'step_34', 'step_35', 'step_36'], 2: ['users']}\n",
      "['users']\n",
      "False\n"
     ]
    }
   ],
   "source": [
    "# print(forecaster.keras_backend)\n",
    "print(forecaster.X_train_dim_names_)\n",
    "print(forecaster.y_train_dim_names_)\n",
    "print(forecaster.series_names_in_)\n",
    "print(forecaster.exog_in_)"
   ]
  },
  {
   "cell_type": "code",
   "execution_count": null,
   "metadata": {},
   "outputs": [
    {
     "data": {
      "text/plain": [
       "['lag_1',\n",
       " 'lag_2',\n",
       " 'lag_3',\n",
       " 'lag_4',\n",
       " 'lag_5',\n",
       " 'lag_6',\n",
       " 'lag_7',\n",
       " 'lag_8',\n",
       " 'lag_9',\n",
       " 'lag_10',\n",
       " 'lag_11',\n",
       " 'lag_12',\n",
       " 'lag_13',\n",
       " 'lag_14',\n",
       " 'lag_15',\n",
       " 'lag_16',\n",
       " 'lag_17',\n",
       " 'lag_18',\n",
       " 'lag_19',\n",
       " 'lag_20',\n",
       " 'lag_21',\n",
       " 'lag_22',\n",
       " 'lag_23',\n",
       " 'lag_24']"
      ]
     },
     "execution_count": 34,
     "metadata": {},
     "output_type": "execute_result"
    }
   ],
   "source": [
    "forecaster.X_train_dim_names_[1]"
   ]
  },
  {
   "cell_type": "code",
   "execution_count": null,
   "metadata": {},
   "outputs": [
    {
     "data": {
      "text/plain": [
       "['users']"
      ]
     },
     "execution_count": 35,
     "metadata": {},
     "output_type": "execute_result"
    }
   ],
   "source": [
    "forecaster.y_train_dim_names_[2]"
   ]
  },
  {
   "cell_type": "code",
   "execution_count": null,
   "metadata": {},
   "outputs": [
    {
     "data": {
      "text/plain": [
       "(array([[[0.04098361],\n",
       "         [0.02766393],\n",
       "         [0.01844262],\n",
       "         [0.01434426],\n",
       "         [0.00614754],\n",
       "         [0.00102459],\n",
       "         [0.00717213],\n",
       "         [0.01229508],\n",
       "         [0.03278689],\n",
       "         [0.07479508],\n",
       "         [0.12397541],\n",
       "         [0.13831967],\n",
       "         [0.14651639],\n",
       "         [0.17213115],\n",
       "         [0.16290984],\n",
       "         [0.14036885],\n",
       "         [0.1352459 ],\n",
       "         [0.125     ],\n",
       "         [0.12704918],\n",
       "         [0.10348361],\n",
       "         [0.0727459 ],\n",
       "         [0.04713115],\n",
       "         [0.03586066],\n",
       "         [0.04918033]]]),\n",
       " [],\n",
       " [1,\n",
       "  2,\n",
       "  3,\n",
       "  4,\n",
       "  5,\n",
       "  6,\n",
       "  7,\n",
       "  8,\n",
       "  9,\n",
       "  10,\n",
       "  11,\n",
       "  12,\n",
       "  13,\n",
       "  14,\n",
       "  15,\n",
       "  16,\n",
       "  17,\n",
       "  18,\n",
       "  19,\n",
       "  20,\n",
       "  21,\n",
       "  22,\n",
       "  23,\n",
       "  24,\n",
       "  25,\n",
       "  26,\n",
       "  27,\n",
       "  28,\n",
       "  29,\n",
       "  30,\n",
       "  31,\n",
       "  32,\n",
       "  33,\n",
       "  34,\n",
       "  35,\n",
       "  36],\n",
       " ['users'],\n",
       " DatetimeIndex(['2012-12-31 00:00:00', '2012-12-31 01:00:00',\n",
       "                '2012-12-31 02:00:00', '2012-12-31 03:00:00',\n",
       "                '2012-12-31 04:00:00', '2012-12-31 05:00:00',\n",
       "                '2012-12-31 06:00:00', '2012-12-31 07:00:00',\n",
       "                '2012-12-31 08:00:00', '2012-12-31 09:00:00',\n",
       "                '2012-12-31 10:00:00', '2012-12-31 11:00:00',\n",
       "                '2012-12-31 12:00:00', '2012-12-31 13:00:00',\n",
       "                '2012-12-31 14:00:00', '2012-12-31 15:00:00',\n",
       "                '2012-12-31 16:00:00', '2012-12-31 17:00:00',\n",
       "                '2012-12-31 18:00:00', '2012-12-31 19:00:00',\n",
       "                '2012-12-31 20:00:00', '2012-12-31 21:00:00',\n",
       "                '2012-12-31 22:00:00', '2012-12-31 23:00:00',\n",
       "                '2013-01-01 00:00:00', '2013-01-01 01:00:00',\n",
       "                '2013-01-01 02:00:00', '2013-01-01 03:00:00',\n",
       "                '2013-01-01 04:00:00', '2013-01-01 05:00:00',\n",
       "                '2013-01-01 06:00:00', '2013-01-01 07:00:00',\n",
       "                '2013-01-01 08:00:00', '2013-01-01 09:00:00',\n",
       "                '2013-01-01 10:00:00', '2013-01-01 11:00:00'],\n",
       "               dtype='datetime64[ns]', freq=None))"
      ]
     },
     "execution_count": 36,
     "metadata": {},
     "output_type": "execute_result"
    }
   ],
   "source": [
    "forecaster._create_predict_inputs()"
   ]
  },
  {
   "cell_type": "code",
   "execution_count": null,
   "metadata": {},
   "outputs": [],
   "source": []
  },
  {
   "cell_type": "markdown",
   "metadata": {},
   "source": [
    "# With Exog Features"
   ]
  },
  {
   "cell_type": "code",
   "execution_count": null,
   "metadata": {},
   "outputs": [],
   "source": [
    "exog_features = [ 'month_sin', 'month_cos', 'week_of_year_sin', 'week_of_year_cos', 'week_day_sin', 'week_day_cos', 'hour_day_sin', 'hour_day_cos', 'sunrise_hour_sin', 'sunrise_hour_cos', 'sunset_hour_sin', 'sunset_hour_cos', 'holiday_previous_day', 'holiday_next_day', 'temp_roll_mean_1_day', 'temp_roll_mean_7_day', 'temp_roll_max_1_day', 'temp_roll_min_1_day', 'temp_roll_max_7_day', 'temp_roll_min_7_day', 'temp', 'holiday' ]"
   ]
  },
  {
   "cell_type": "code",
   "execution_count": 6,
   "metadata": {},
   "outputs": [
    {
     "data": {
      "text/html": [
       "<div>\n",
       "<style scoped>\n",
       "    .dataframe tbody tr th:only-of-type {\n",
       "        vertical-align: middle;\n",
       "    }\n",
       "\n",
       "    .dataframe tbody tr th {\n",
       "        vertical-align: top;\n",
       "    }\n",
       "\n",
       "    .dataframe thead th {\n",
       "        text-align: right;\n",
       "    }\n",
       "</style>\n",
       "<table border=\"1\" class=\"dataframe\">\n",
       "  <thead>\n",
       "    <tr style=\"text-align: right;\">\n",
       "      <th></th>\n",
       "      <th>so2</th>\n",
       "      <th>co</th>\n",
       "      <th>no</th>\n",
       "      <th>no2</th>\n",
       "      <th>pm10</th>\n",
       "      <th>nox</th>\n",
       "      <th>o3</th>\n",
       "      <th>veloc.</th>\n",
       "      <th>direc.</th>\n",
       "      <th>pm2.5</th>\n",
       "    </tr>\n",
       "    <tr>\n",
       "      <th>datetime</th>\n",
       "      <th></th>\n",
       "      <th></th>\n",
       "      <th></th>\n",
       "      <th></th>\n",
       "      <th></th>\n",
       "      <th></th>\n",
       "      <th></th>\n",
       "      <th></th>\n",
       "      <th></th>\n",
       "      <th></th>\n",
       "    </tr>\n",
       "  </thead>\n",
       "  <tbody>\n",
       "    <tr>\n",
       "      <th>2019-01-01 00:00:00</th>\n",
       "      <td>8.0</td>\n",
       "      <td>0.2</td>\n",
       "      <td>3.0</td>\n",
       "      <td>36.0</td>\n",
       "      <td>22.0</td>\n",
       "      <td>40.0</td>\n",
       "      <td>16.0</td>\n",
       "      <td>0.5</td>\n",
       "      <td>262.0</td>\n",
       "      <td>19.0</td>\n",
       "    </tr>\n",
       "    <tr>\n",
       "      <th>2019-01-01 01:00:00</th>\n",
       "      <td>8.0</td>\n",
       "      <td>0.1</td>\n",
       "      <td>2.0</td>\n",
       "      <td>40.0</td>\n",
       "      <td>32.0</td>\n",
       "      <td>44.0</td>\n",
       "      <td>6.0</td>\n",
       "      <td>0.6</td>\n",
       "      <td>248.0</td>\n",
       "      <td>26.0</td>\n",
       "    </tr>\n",
       "    <tr>\n",
       "      <th>2019-01-01 02:00:00</th>\n",
       "      <td>8.0</td>\n",
       "      <td>0.1</td>\n",
       "      <td>11.0</td>\n",
       "      <td>42.0</td>\n",
       "      <td>36.0</td>\n",
       "      <td>58.0</td>\n",
       "      <td>3.0</td>\n",
       "      <td>0.3</td>\n",
       "      <td>224.0</td>\n",
       "      <td>31.0</td>\n",
       "    </tr>\n",
       "    <tr>\n",
       "      <th>2019-01-01 03:00:00</th>\n",
       "      <td>10.0</td>\n",
       "      <td>0.1</td>\n",
       "      <td>15.0</td>\n",
       "      <td>41.0</td>\n",
       "      <td>35.0</td>\n",
       "      <td>63.0</td>\n",
       "      <td>3.0</td>\n",
       "      <td>0.2</td>\n",
       "      <td>220.0</td>\n",
       "      <td>30.0</td>\n",
       "    </tr>\n",
       "    <tr>\n",
       "      <th>2019-01-01 04:00:00</th>\n",
       "      <td>11.0</td>\n",
       "      <td>0.1</td>\n",
       "      <td>16.0</td>\n",
       "      <td>39.0</td>\n",
       "      <td>36.0</td>\n",
       "      <td>63.0</td>\n",
       "      <td>3.0</td>\n",
       "      <td>0.4</td>\n",
       "      <td>221.0</td>\n",
       "      <td>30.0</td>\n",
       "    </tr>\n",
       "    <tr>\n",
       "      <th>...</th>\n",
       "      <td>...</td>\n",
       "      <td>...</td>\n",
       "      <td>...</td>\n",
       "      <td>...</td>\n",
       "      <td>...</td>\n",
       "      <td>...</td>\n",
       "      <td>...</td>\n",
       "      <td>...</td>\n",
       "      <td>...</td>\n",
       "      <td>...</td>\n",
       "    </tr>\n",
       "    <tr>\n",
       "      <th>2021-03-31 19:00:00</th>\n",
       "      <td>3.0</td>\n",
       "      <td>0.1</td>\n",
       "      <td>1.0</td>\n",
       "      <td>11.0</td>\n",
       "      <td>7.0</td>\n",
       "      <td>13.0</td>\n",
       "      <td>80.0</td>\n",
       "      <td>1.3</td>\n",
       "      <td>50.0</td>\n",
       "      <td>6.0</td>\n",
       "    </tr>\n",
       "    <tr>\n",
       "      <th>2021-03-31 20:00:00</th>\n",
       "      <td>3.0</td>\n",
       "      <td>0.1</td>\n",
       "      <td>1.0</td>\n",
       "      <td>14.0</td>\n",
       "      <td>7.0</td>\n",
       "      <td>16.0</td>\n",
       "      <td>77.0</td>\n",
       "      <td>0.9</td>\n",
       "      <td>42.0</td>\n",
       "      <td>6.0</td>\n",
       "    </tr>\n",
       "    <tr>\n",
       "      <th>2021-03-31 21:00:00</th>\n",
       "      <td>3.0</td>\n",
       "      <td>0.2</td>\n",
       "      <td>1.0</td>\n",
       "      <td>15.0</td>\n",
       "      <td>10.0</td>\n",
       "      <td>17.0</td>\n",
       "      <td>71.0</td>\n",
       "      <td>0.1</td>\n",
       "      <td>27.0</td>\n",
       "      <td>8.0</td>\n",
       "    </tr>\n",
       "    <tr>\n",
       "      <th>2021-03-31 22:00:00</th>\n",
       "      <td>3.0</td>\n",
       "      <td>0.2</td>\n",
       "      <td>1.0</td>\n",
       "      <td>19.0</td>\n",
       "      <td>15.0</td>\n",
       "      <td>21.0</td>\n",
       "      <td>59.0</td>\n",
       "      <td>0.2</td>\n",
       "      <td>15.0</td>\n",
       "      <td>12.0</td>\n",
       "    </tr>\n",
       "    <tr>\n",
       "      <th>2021-03-31 23:00:00</th>\n",
       "      <td>3.0</td>\n",
       "      <td>0.1</td>\n",
       "      <td>1.0</td>\n",
       "      <td>21.0</td>\n",
       "      <td>17.0</td>\n",
       "      <td>24.0</td>\n",
       "      <td>50.0</td>\n",
       "      <td>0.2</td>\n",
       "      <td>6.0</td>\n",
       "      <td>14.0</td>\n",
       "    </tr>\n",
       "  </tbody>\n",
       "</table>\n",
       "<p>19704 rows × 10 columns</p>\n",
       "</div>"
      ],
      "text/plain": [
       "                      so2   co    no   no2  pm10   nox    o3  veloc.  direc.  \\\n",
       "datetime                                                                       \n",
       "2019-01-01 00:00:00   8.0  0.2   3.0  36.0  22.0  40.0  16.0     0.5   262.0   \n",
       "2019-01-01 01:00:00   8.0  0.1   2.0  40.0  32.0  44.0   6.0     0.6   248.0   \n",
       "2019-01-01 02:00:00   8.0  0.1  11.0  42.0  36.0  58.0   3.0     0.3   224.0   \n",
       "2019-01-01 03:00:00  10.0  0.1  15.0  41.0  35.0  63.0   3.0     0.2   220.0   \n",
       "2019-01-01 04:00:00  11.0  0.1  16.0  39.0  36.0  63.0   3.0     0.4   221.0   \n",
       "...                   ...  ...   ...   ...   ...   ...   ...     ...     ...   \n",
       "2021-03-31 19:00:00   3.0  0.1   1.0  11.0   7.0  13.0  80.0     1.3    50.0   \n",
       "2021-03-31 20:00:00   3.0  0.1   1.0  14.0   7.0  16.0  77.0     0.9    42.0   \n",
       "2021-03-31 21:00:00   3.0  0.2   1.0  15.0  10.0  17.0  71.0     0.1    27.0   \n",
       "2021-03-31 22:00:00   3.0  0.2   1.0  19.0  15.0  21.0  59.0     0.2    15.0   \n",
       "2021-03-31 23:00:00   3.0  0.1   1.0  21.0  17.0  24.0  50.0     0.2     6.0   \n",
       "\n",
       "                     pm2.5  \n",
       "datetime                    \n",
       "2019-01-01 00:00:00   19.0  \n",
       "2019-01-01 01:00:00   26.0  \n",
       "2019-01-01 02:00:00   31.0  \n",
       "2019-01-01 03:00:00   30.0  \n",
       "2019-01-01 04:00:00   30.0  \n",
       "...                    ...  \n",
       "2021-03-31 19:00:00    6.0  \n",
       "2021-03-31 20:00:00    6.0  \n",
       "2021-03-31 21:00:00    8.0  \n",
       "2021-03-31 22:00:00   12.0  \n",
       "2021-03-31 23:00:00   14.0  \n",
       "\n",
       "[19704 rows x 10 columns]"
      ]
     },
     "execution_count": 6,
     "metadata": {},
     "output_type": "execute_result"
    }
   ],
   "source": [
    "data_train"
   ]
  },
  {
   "cell_type": "code",
   "execution_count": 23,
   "metadata": {},
   "outputs": [
    {
     "data": {
      "text/html": [
       "<pre style=\"white-space:pre;overflow-x:auto;line-height:normal;font-family:Menlo,'DejaVu Sans Mono',consolas,'Courier New',monospace\"><span style=\"font-weight: bold\">Model: \"functional_1\"</span>\n",
       "</pre>\n"
      ],
      "text/plain": [
       "\u001b[1mModel: \"functional_1\"\u001b[0m\n"
      ]
     },
     "metadata": {},
     "output_type": "display_data"
    },
    {
     "data": {
      "text/html": [
       "<pre style=\"white-space:pre;overflow-x:auto;line-height:normal;font-family:Menlo,'DejaVu Sans Mono',consolas,'Courier New',monospace\">┏━━━━━━━━━━━━━━━━━━━━━┳━━━━━━━━━━━━━━━━━━━┳━━━━━━━━━━━━┳━━━━━━━━━━━━━━━━━━━┓\n",
       "┃<span style=\"font-weight: bold\"> Layer (type)        </span>┃<span style=\"font-weight: bold\"> Output Shape      </span>┃<span style=\"font-weight: bold\">    Param # </span>┃<span style=\"font-weight: bold\"> Connected to      </span>┃\n",
       "┡━━━━━━━━━━━━━━━━━━━━━╇━━━━━━━━━━━━━━━━━━━╇━━━━━━━━━━━━╇━━━━━━━━━━━━━━━━━━━┩\n",
       "│ series_input        │ (<span style=\"color: #00d7ff; text-decoration-color: #00d7ff\">None</span>, <span style=\"color: #00af00; text-decoration-color: #00af00\">4</span>, <span style=\"color: #00af00; text-decoration-color: #00af00\">5</span>)      │          <span style=\"color: #00af00; text-decoration-color: #00af00\">0</span> │ -                 │\n",
       "│ (<span style=\"color: #0087ff; text-decoration-color: #0087ff\">InputLayer</span>)        │                   │            │                   │\n",
       "├─────────────────────┼───────────────────┼────────────┼───────────────────┤\n",
       "│ lstm_1 (<span style=\"color: #0087ff; text-decoration-color: #0087ff\">LSTM</span>)       │ (<span style=\"color: #00d7ff; text-decoration-color: #00d7ff\">None</span>, <span style=\"color: #00af00; text-decoration-color: #00af00\">100</span>)       │     <span style=\"color: #00af00; text-decoration-color: #00af00\">42,400</span> │ series_input[<span style=\"color: #00af00; text-decoration-color: #00af00\">0</span>][<span style=\"color: #00af00; text-decoration-color: #00af00\">…</span> │\n",
       "├─────────────────────┼───────────────────┼────────────┼───────────────────┤\n",
       "│ repeat_vector_1     │ (<span style=\"color: #00d7ff; text-decoration-color: #00d7ff\">None</span>, <span style=\"color: #00af00; text-decoration-color: #00af00\">5</span>, <span style=\"color: #00af00; text-decoration-color: #00af00\">100</span>)    │          <span style=\"color: #00af00; text-decoration-color: #00af00\">0</span> │ lstm_1[<span style=\"color: #00af00; text-decoration-color: #00af00\">0</span>][<span style=\"color: #00af00; text-decoration-color: #00af00\">0</span>]      │\n",
       "│ (<span style=\"color: #0087ff; text-decoration-color: #0087ff\">RepeatVector</span>)      │                   │            │                   │\n",
       "├─────────────────────┼───────────────────┼────────────┼───────────────────┤\n",
       "│ exog_input          │ (<span style=\"color: #00d7ff; text-decoration-color: #00d7ff\">None</span>, <span style=\"color: #00af00; text-decoration-color: #00af00\">5</span>, <span style=\"color: #00af00; text-decoration-color: #00af00\">1</span>)      │          <span style=\"color: #00af00; text-decoration-color: #00af00\">0</span> │ -                 │\n",
       "│ (<span style=\"color: #0087ff; text-decoration-color: #0087ff\">InputLayer</span>)        │                   │            │                   │\n",
       "├─────────────────────┼───────────────────┼────────────┼───────────────────┤\n",
       "│ concatenate_1       │ (<span style=\"color: #00d7ff; text-decoration-color: #00d7ff\">None</span>, <span style=\"color: #00af00; text-decoration-color: #00af00\">5</span>, <span style=\"color: #00af00; text-decoration-color: #00af00\">101</span>)    │          <span style=\"color: #00af00; text-decoration-color: #00af00\">0</span> │ repeat_vector_1[<span style=\"color: #00af00; text-decoration-color: #00af00\">…</span> │\n",
       "│ (<span style=\"color: #0087ff; text-decoration-color: #0087ff\">Concatenate</span>)       │                   │            │ exog_input[<span style=\"color: #00af00; text-decoration-color: #00af00\">0</span>][<span style=\"color: #00af00; text-decoration-color: #00af00\">0</span>]  │\n",
       "├─────────────────────┼───────────────────┼────────────┼───────────────────┤\n",
       "│ time_distributed_2  │ (<span style=\"color: #00d7ff; text-decoration-color: #00d7ff\">None</span>, <span style=\"color: #00af00; text-decoration-color: #00af00\">5</span>, <span style=\"color: #00af00; text-decoration-color: #00af00\">128</span>)    │     <span style=\"color: #00af00; text-decoration-color: #00af00\">13,056</span> │ concatenate_1[<span style=\"color: #00af00; text-decoration-color: #00af00\">0</span>]… │\n",
       "│ (<span style=\"color: #0087ff; text-decoration-color: #0087ff\">TimeDistributed</span>)   │                   │            │                   │\n",
       "├─────────────────────┼───────────────────┼────────────┼───────────────────┤\n",
       "│ time_distributed_3  │ (<span style=\"color: #00d7ff; text-decoration-color: #00d7ff\">None</span>, <span style=\"color: #00af00; text-decoration-color: #00af00\">5</span>, <span style=\"color: #00af00; text-decoration-color: #00af00\">64</span>)     │      <span style=\"color: #00af00; text-decoration-color: #00af00\">8,256</span> │ time_distributed… │\n",
       "│ (<span style=\"color: #0087ff; text-decoration-color: #0087ff\">TimeDistributed</span>)   │                   │            │                   │\n",
       "├─────────────────────┼───────────────────┼────────────┼───────────────────┤\n",
       "│ output_layer        │ (<span style=\"color: #00d7ff; text-decoration-color: #00d7ff\">None</span>, <span style=\"color: #00af00; text-decoration-color: #00af00\">5</span>, <span style=\"color: #00af00; text-decoration-color: #00af00\">3</span>)      │        <span style=\"color: #00af00; text-decoration-color: #00af00\">195</span> │ time_distributed… │\n",
       "│ (<span style=\"color: #0087ff; text-decoration-color: #0087ff\">TimeDistributed</span>)   │                   │            │                   │\n",
       "└─────────────────────┴───────────────────┴────────────┴───────────────────┘\n",
       "</pre>\n"
      ],
      "text/plain": [
       "┏━━━━━━━━━━━━━━━━━━━━━┳━━━━━━━━━━━━━━━━━━━┳━━━━━━━━━━━━┳━━━━━━━━━━━━━━━━━━━┓\n",
       "┃\u001b[1m \u001b[0m\u001b[1mLayer (type)       \u001b[0m\u001b[1m \u001b[0m┃\u001b[1m \u001b[0m\u001b[1mOutput Shape     \u001b[0m\u001b[1m \u001b[0m┃\u001b[1m \u001b[0m\u001b[1m   Param #\u001b[0m\u001b[1m \u001b[0m┃\u001b[1m \u001b[0m\u001b[1mConnected to     \u001b[0m\u001b[1m \u001b[0m┃\n",
       "┡━━━━━━━━━━━━━━━━━━━━━╇━━━━━━━━━━━━━━━━━━━╇━━━━━━━━━━━━╇━━━━━━━━━━━━━━━━━━━┩\n",
       "│ series_input        │ (\u001b[38;5;45mNone\u001b[0m, \u001b[38;5;34m4\u001b[0m, \u001b[38;5;34m5\u001b[0m)      │          \u001b[38;5;34m0\u001b[0m │ -                 │\n",
       "│ (\u001b[38;5;33mInputLayer\u001b[0m)        │                   │            │                   │\n",
       "├─────────────────────┼───────────────────┼────────────┼───────────────────┤\n",
       "│ lstm_1 (\u001b[38;5;33mLSTM\u001b[0m)       │ (\u001b[38;5;45mNone\u001b[0m, \u001b[38;5;34m100\u001b[0m)       │     \u001b[38;5;34m42,400\u001b[0m │ series_input[\u001b[38;5;34m0\u001b[0m][\u001b[38;5;34m…\u001b[0m │\n",
       "├─────────────────────┼───────────────────┼────────────┼───────────────────┤\n",
       "│ repeat_vector_1     │ (\u001b[38;5;45mNone\u001b[0m, \u001b[38;5;34m5\u001b[0m, \u001b[38;5;34m100\u001b[0m)    │          \u001b[38;5;34m0\u001b[0m │ lstm_1[\u001b[38;5;34m0\u001b[0m][\u001b[38;5;34m0\u001b[0m]      │\n",
       "│ (\u001b[38;5;33mRepeatVector\u001b[0m)      │                   │            │                   │\n",
       "├─────────────────────┼───────────────────┼────────────┼───────────────────┤\n",
       "│ exog_input          │ (\u001b[38;5;45mNone\u001b[0m, \u001b[38;5;34m5\u001b[0m, \u001b[38;5;34m1\u001b[0m)      │          \u001b[38;5;34m0\u001b[0m │ -                 │\n",
       "│ (\u001b[38;5;33mInputLayer\u001b[0m)        │                   │            │                   │\n",
       "├─────────────────────┼───────────────────┼────────────┼───────────────────┤\n",
       "│ concatenate_1       │ (\u001b[38;5;45mNone\u001b[0m, \u001b[38;5;34m5\u001b[0m, \u001b[38;5;34m101\u001b[0m)    │          \u001b[38;5;34m0\u001b[0m │ repeat_vector_1[\u001b[38;5;34m…\u001b[0m │\n",
       "│ (\u001b[38;5;33mConcatenate\u001b[0m)       │                   │            │ exog_input[\u001b[38;5;34m0\u001b[0m][\u001b[38;5;34m0\u001b[0m]  │\n",
       "├─────────────────────┼───────────────────┼────────────┼───────────────────┤\n",
       "│ time_distributed_2  │ (\u001b[38;5;45mNone\u001b[0m, \u001b[38;5;34m5\u001b[0m, \u001b[38;5;34m128\u001b[0m)    │     \u001b[38;5;34m13,056\u001b[0m │ concatenate_1[\u001b[38;5;34m0\u001b[0m]… │\n",
       "│ (\u001b[38;5;33mTimeDistributed\u001b[0m)   │                   │            │                   │\n",
       "├─────────────────────┼───────────────────┼────────────┼───────────────────┤\n",
       "│ time_distributed_3  │ (\u001b[38;5;45mNone\u001b[0m, \u001b[38;5;34m5\u001b[0m, \u001b[38;5;34m64\u001b[0m)     │      \u001b[38;5;34m8,256\u001b[0m │ time_distributed… │\n",
       "│ (\u001b[38;5;33mTimeDistributed\u001b[0m)   │                   │            │                   │\n",
       "├─────────────────────┼───────────────────┼────────────┼───────────────────┤\n",
       "│ output_layer        │ (\u001b[38;5;45mNone\u001b[0m, \u001b[38;5;34m5\u001b[0m, \u001b[38;5;34m3\u001b[0m)      │        \u001b[38;5;34m195\u001b[0m │ time_distributed… │\n",
       "│ (\u001b[38;5;33mTimeDistributed\u001b[0m)   │                   │            │                   │\n",
       "└─────────────────────┴───────────────────┴────────────┴───────────────────┘\n"
      ]
     },
     "metadata": {},
     "output_type": "display_data"
    },
    {
     "data": {
      "text/html": [
       "<pre style=\"white-space:pre;overflow-x:auto;line-height:normal;font-family:Menlo,'DejaVu Sans Mono',consolas,'Courier New',monospace\"><span style=\"font-weight: bold\"> Total params: </span><span style=\"color: #00af00; text-decoration-color: #00af00\">63,907</span> (249.64 KB)\n",
       "</pre>\n"
      ],
      "text/plain": [
       "\u001b[1m Total params: \u001b[0m\u001b[38;5;34m63,907\u001b[0m (249.64 KB)\n"
      ]
     },
     "metadata": {},
     "output_type": "display_data"
    },
    {
     "data": {
      "text/html": [
       "<pre style=\"white-space:pre;overflow-x:auto;line-height:normal;font-family:Menlo,'DejaVu Sans Mono',consolas,'Courier New',monospace\"><span style=\"font-weight: bold\"> Trainable params: </span><span style=\"color: #00af00; text-decoration-color: #00af00\">63,907</span> (249.64 KB)\n",
       "</pre>\n"
      ],
      "text/plain": [
       "\u001b[1m Trainable params: \u001b[0m\u001b[38;5;34m63,907\u001b[0m (249.64 KB)\n"
      ]
     },
     "metadata": {},
     "output_type": "display_data"
    },
    {
     "data": {
      "text/html": [
       "<pre style=\"white-space:pre;overflow-x:auto;line-height:normal;font-family:Menlo,'DejaVu Sans Mono',consolas,'Courier New',monospace\"><span style=\"font-weight: bold\"> Non-trainable params: </span><span style=\"color: #00af00; text-decoration-color: #00af00\">0</span> (0.00 B)\n",
       "</pre>\n"
      ],
      "text/plain": [
       "\u001b[1m Non-trainable params: \u001b[0m\u001b[38;5;34m0\u001b[0m (0.00 B)\n"
      ]
     },
     "metadata": {},
     "output_type": "display_data"
    }
   ],
   "source": [
    "lags = 24\n",
    "steps = 36\n",
    "levels = [\"users\"]\n",
    "activation = \"relu\"\n",
    "# optimizer = keras.optimizers.Adam(learning_rate=0.01)\n",
    "loss = keras.losses.MeanSquaredError()\n",
    "recurrent_units = 100\n",
    "dense_units = [128, 64]\n",
    "\n",
    "lags = 4\n",
    "steps = 5\n",
    "series = [\"o3\", \"co\", \"no\", \"so2\", \"pm10\"]\n",
    "levels = [\"o3\", \"co\", \"no\"]\n",
    "exog = [\"veloc.\"]\n",
    "\n",
    "model = create_and_compile_model(\n",
    "    series=data[series],\n",
    "    lags=lags,\n",
    "    steps=steps,\n",
    "    levels=levels,\n",
    "    exog=data[exog],\n",
    "    recurrent_units=recurrent_units,\n",
    "    dense_units=dense_units,\n",
    "    activation=activation,\n",
    "    # optimizer=optimizer,\n",
    "    loss=loss,\n",
    ")\n",
    "\n",
    "model.summary()"
   ]
  },
  {
   "cell_type": "code",
   "execution_count": 39,
   "metadata": {},
   "outputs": [
    {
     "name": "stderr",
     "output_type": "stream",
     "text": [
      "c:\\Users\\jaesc2\\Miniconda3\\envs\\skforecast_py11_2\\Lib\\site-packages\\keras\\src\\saving\\saving_lib.py:719: UserWarning: Skipping variable loading for optimizer 'adam', because it has 20 variables whereas the saved optimizer has 2 variables. \n",
      "  saveable.load_own_variables(weights_store.get(inner_path))\n"
     ]
    }
   ],
   "source": [
    "\n",
    "# ==============================================================================\n",
    "\n",
    "forecaster = ForecasterRnn(\n",
    "    regressor=model,\n",
    "    levels=levels,\n",
    "    fit_kwargs={\n",
    "        \"epochs\": 2,  # Number of epochs to train the model.\n",
    "        \"batch_size\": 2048,  # Batch size to train the model.\n",
    "    },\n",
    ")    \n",
    "\n"
   ]
  },
  {
   "cell_type": "code",
   "execution_count": 33,
   "metadata": {},
   "outputs": [
    {
     "name": "stdout",
     "output_type": "stream",
     "text": [
      "Using device: cuda\n",
      "Epoch 1/2\n"
     ]
    },
    {
     "name": "stderr",
     "output_type": "stream",
     "text": [
      "c:\\Users\\jaesc2\\Miniconda3\\envs\\skforecast_py11_2\\Lib\\site-packages\\keras\\src\\models\\functional.py:225: UserWarning: The structure of `inputs` doesn't match the expected structure: ['series_input', 'exog_input']. Received: the structure of inputs=('*', '*')\n",
      "  warnings.warn(\n"
     ]
    },
    {
     "name": "stdout",
     "output_type": "stream",
     "text": [
      "\u001b[1m22/22\u001b[0m \u001b[32m━━━━━━━━━━━━━━━━━━━━\u001b[0m\u001b[37m\u001b[0m \u001b[1m3s\u001b[0m 47ms/step - loss: 0.0226\n",
      "Epoch 2/2\n",
      "\u001b[1m22/22\u001b[0m \u001b[32m━━━━━━━━━━━━━━━━━━━━\u001b[0m\u001b[37m\u001b[0m \u001b[1m1s\u001b[0m 49ms/step - loss: 0.0063\n"
     ]
    }
   ],
   "source": [
    "_ = forecaster.fit(series = data[series], exog = data[exog])"
   ]
  },
  {
   "cell_type": "code",
   "execution_count": 37,
   "metadata": {},
   "outputs": [
    {
     "data": {
      "text/plain": [
       "{0: DatetimeIndex(['2019-01-01 04:00:00', '2019-01-01 05:00:00',\n",
       "                '2019-01-01 06:00:00', '2019-01-01 07:00:00',\n",
       "                '2019-01-01 08:00:00', '2019-01-01 09:00:00',\n",
       "                '2019-01-01 10:00:00', '2019-01-01 11:00:00',\n",
       "                '2019-01-01 12:00:00', '2019-01-01 13:00:00',\n",
       "                ...\n",
       "                '2023-12-31 10:00:00', '2023-12-31 11:00:00',\n",
       "                '2023-12-31 12:00:00', '2023-12-31 13:00:00',\n",
       "                '2023-12-31 14:00:00', '2023-12-31 15:00:00',\n",
       "                '2023-12-31 16:00:00', '2023-12-31 17:00:00',\n",
       "                '2023-12-31 18:00:00', '2023-12-31 19:00:00'],\n",
       "               dtype='datetime64[ns]', name='datetime', length=43816, freq='h'),\n",
       " 1: ['lag_1', 'lag_2', 'lag_3', 'lag_4'],\n",
       " 2: ['o3', 'co', 'no', 'so2', 'pm10']}"
      ]
     },
     "execution_count": 37,
     "metadata": {},
     "output_type": "execute_result"
    }
   ],
   "source": [
    "forecaster.X_train_dim_names_"
   ]
  },
  {
   "cell_type": "code",
   "execution_count": 38,
   "metadata": {},
   "outputs": [
    {
     "data": {
      "text/plain": [
       "{0: DatetimeIndex(['2019-01-01 04:00:00', '2019-01-01 05:00:00',\n",
       "                '2019-01-01 06:00:00', '2019-01-01 07:00:00',\n",
       "                '2019-01-01 08:00:00', '2019-01-01 09:00:00',\n",
       "                '2019-01-01 10:00:00', '2019-01-01 11:00:00',\n",
       "                '2019-01-01 12:00:00', '2019-01-01 13:00:00',\n",
       "                ...\n",
       "                '2023-12-31 10:00:00', '2023-12-31 11:00:00',\n",
       "                '2023-12-31 12:00:00', '2023-12-31 13:00:00',\n",
       "                '2023-12-31 14:00:00', '2023-12-31 15:00:00',\n",
       "                '2023-12-31 16:00:00', '2023-12-31 17:00:00',\n",
       "                '2023-12-31 18:00:00', '2023-12-31 19:00:00'],\n",
       "               dtype='datetime64[ns]', name='datetime', length=43816, freq='h'),\n",
       " 1: ['step_1', 'step_2', 'step_3', 'step_4', 'step_5'],\n",
       " 2: ['veloc.']}"
      ]
     },
     "execution_count": 38,
     "metadata": {},
     "output_type": "execute_result"
    }
   ],
   "source": [
    "forecaster.exog_train_dim_names_"
   ]
  },
  {
   "cell_type": "code",
   "execution_count": 40,
   "metadata": {},
   "outputs": [
    {
     "name": "stdout",
     "output_type": "stream",
     "text": [
      "Using device: cuda\n",
      "Epoch 1/2\n"
     ]
    },
    {
     "name": "stderr",
     "output_type": "stream",
     "text": [
      "c:\\Users\\jaesc2\\Miniconda3\\envs\\skforecast_py11_2\\Lib\\site-packages\\keras\\src\\models\\functional.py:225: UserWarning: The structure of `inputs` doesn't match the expected structure: ['series_input', 'exog_input']. Received: the structure of inputs=('*', '*')\n",
      "  warnings.warn(\n"
     ]
    },
    {
     "name": "stdout",
     "output_type": "stream",
     "text": [
      "\u001b[1m10/10\u001b[0m \u001b[32m━━━━━━━━━━━━━━━━━━━━\u001b[0m\u001b[37m\u001b[0m \u001b[1m2s\u001b[0m 59ms/step - loss: 0.0366\n",
      "Epoch 2/2\n",
      "\u001b[1m10/10\u001b[0m \u001b[32m━━━━━━━━━━━━━━━━━━━━\u001b[0m\u001b[37m\u001b[0m \u001b[1m1s\u001b[0m 47ms/step - loss: 0.0106\n"
     ]
    }
   ],
   "source": [
    "_ = forecaster.fit(series = data_train[series], exog = data_train[exog])"
   ]
  },
  {
   "cell_type": "code",
   "execution_count": null,
   "metadata": {},
   "outputs": [
    {
     "data": {
      "text/plain": [
       "([array([[[0.54411765, 0.        , 0.        , 0.        , 0.01869159],\n",
       "          [0.5       , 0.07142857, 0.        , 0.        , 0.02803738],\n",
       "          [0.41176471, 0.07142857, 0.        , 0.        , 0.04361371],\n",
       "          [0.34558824, 0.        , 0.        , 0.        , 0.04984424]]]),\n",
       "  array([[[0.01052632],\n",
       "          [0.01052632],\n",
       "          [0.01052632],\n",
       "          [0.01052632],\n",
       "          [0.02105263]]])],\n",
       " {0: DatetimeIndex(['2021-04-01 00:00:00', '2021-04-01 01:00:00'], dtype='datetime64[ns]', freq=None),\n",
       "  1: ['lag_1', 'lag_2', 'lag_3', 'lag_4', 'veloc.'],\n",
       "  2: 'series_names_in_'},\n",
       " [1, 2],\n",
       " ['o3', 'co', 'no'],\n",
       " DatetimeIndex(['2021-04-01 00:00:00', '2021-04-01 01:00:00'], dtype='datetime64[ns]', freq=None))"
      ]
     },
     "execution_count": 42,
     "metadata": {},
     "output_type": "execute_result"
    }
   ],
   "source": [
    "lags = 4\n",
    "steps = 5\n",
    "series = [\"o3\", \"co\", \"no\", \"so2\", \"pm10\"]\n",
    "levels = [\"o3\", \"co\", \"no\"]\n",
    "exog = [\"veloc.\"]\n",
    "\n",
    "forecaster._create_predict_inputs(steps=2, exog=data_val[exog])"
   ]
  },
  {
   "cell_type": "code",
   "execution_count": 17,
   "metadata": {},
   "outputs": [
    {
     "name": "stderr",
     "output_type": "stream",
     "text": [
      "c:\\Users\\jaesc2\\Miniconda3\\envs\\skforecast_py11_2\\Lib\\site-packages\\keras\\src\\saving\\saving_lib.py:719: UserWarning: Skipping variable loading for optimizer 'adam', because it has 20 variables whereas the saved optimizer has 2 variables. \n",
      "  saveable.load_own_variables(weights_store.get(inner_path))\n"
     ]
    }
   ],
   "source": [
    "\n",
    "# ==============================================================================\n",
    "from sklearn.preprocessing import OneHotEncoder\n",
    "\n",
    "forecaster = ForecasterRnn(\n",
    "    regressor=model,\n",
    "    levels=levels,\n",
    "    transformer_exog=OneHotEncoder(),\n",
    "    fit_kwargs={\n",
    "        \"epochs\": 2,  # Number of epochs to train the model.\n",
    "        \"batch_size\": 2048,  # Batch size to train the model.\n",
    "    },\n",
    ")    \n",
    "\n"
   ]
  },
  {
   "cell_type": "code",
   "execution_count": 19,
   "metadata": {},
   "outputs": [
    {
     "data": {
      "text/html": [
       "<div>\n",
       "<style scoped>\n",
       "    .dataframe tbody tr th:only-of-type {\n",
       "        vertical-align: middle;\n",
       "    }\n",
       "\n",
       "    .dataframe tbody tr th {\n",
       "        vertical-align: top;\n",
       "    }\n",
       "\n",
       "    .dataframe thead th {\n",
       "        text-align: right;\n",
       "    }\n",
       "</style>\n",
       "<table border=\"1\" class=\"dataframe\">\n",
       "  <thead>\n",
       "    <tr style=\"text-align: right;\">\n",
       "      <th></th>\n",
       "      <th>so2</th>\n",
       "      <th>co</th>\n",
       "      <th>no</th>\n",
       "      <th>no2</th>\n",
       "      <th>pm10</th>\n",
       "      <th>nox</th>\n",
       "      <th>o3</th>\n",
       "      <th>veloc.</th>\n",
       "      <th>direc.</th>\n",
       "      <th>pm2.5</th>\n",
       "      <th>onehot</th>\n",
       "    </tr>\n",
       "    <tr>\n",
       "      <th>datetime</th>\n",
       "      <th></th>\n",
       "      <th></th>\n",
       "      <th></th>\n",
       "      <th></th>\n",
       "      <th></th>\n",
       "      <th></th>\n",
       "      <th></th>\n",
       "      <th></th>\n",
       "      <th></th>\n",
       "      <th></th>\n",
       "      <th></th>\n",
       "    </tr>\n",
       "  </thead>\n",
       "  <tbody>\n",
       "    <tr>\n",
       "      <th>2019-01-01 00:00:00</th>\n",
       "      <td>8.0</td>\n",
       "      <td>0.2</td>\n",
       "      <td>3.0</td>\n",
       "      <td>36.0</td>\n",
       "      <td>22.0</td>\n",
       "      <td>40.0</td>\n",
       "      <td>16.0</td>\n",
       "      <td>0.5</td>\n",
       "      <td>262.0</td>\n",
       "      <td>19.0</td>\n",
       "      <td>1</td>\n",
       "    </tr>\n",
       "    <tr>\n",
       "      <th>2019-01-01 01:00:00</th>\n",
       "      <td>8.0</td>\n",
       "      <td>0.1</td>\n",
       "      <td>2.0</td>\n",
       "      <td>40.0</td>\n",
       "      <td>32.0</td>\n",
       "      <td>44.0</td>\n",
       "      <td>6.0</td>\n",
       "      <td>0.6</td>\n",
       "      <td>248.0</td>\n",
       "      <td>26.0</td>\n",
       "      <td>1</td>\n",
       "    </tr>\n",
       "    <tr>\n",
       "      <th>2019-01-01 02:00:00</th>\n",
       "      <td>8.0</td>\n",
       "      <td>0.1</td>\n",
       "      <td>11.0</td>\n",
       "      <td>42.0</td>\n",
       "      <td>36.0</td>\n",
       "      <td>58.0</td>\n",
       "      <td>3.0</td>\n",
       "      <td>0.3</td>\n",
       "      <td>224.0</td>\n",
       "      <td>31.0</td>\n",
       "      <td>1</td>\n",
       "    </tr>\n",
       "    <tr>\n",
       "      <th>2019-01-01 03:00:00</th>\n",
       "      <td>10.0</td>\n",
       "      <td>0.1</td>\n",
       "      <td>15.0</td>\n",
       "      <td>41.0</td>\n",
       "      <td>35.0</td>\n",
       "      <td>63.0</td>\n",
       "      <td>3.0</td>\n",
       "      <td>0.2</td>\n",
       "      <td>220.0</td>\n",
       "      <td>30.0</td>\n",
       "      <td>0</td>\n",
       "    </tr>\n",
       "    <tr>\n",
       "      <th>2019-01-01 04:00:00</th>\n",
       "      <td>11.0</td>\n",
       "      <td>0.1</td>\n",
       "      <td>16.0</td>\n",
       "      <td>39.0</td>\n",
       "      <td>36.0</td>\n",
       "      <td>63.0</td>\n",
       "      <td>3.0</td>\n",
       "      <td>0.4</td>\n",
       "      <td>221.0</td>\n",
       "      <td>30.0</td>\n",
       "      <td>1</td>\n",
       "    </tr>\n",
       "    <tr>\n",
       "      <th>...</th>\n",
       "      <td>...</td>\n",
       "      <td>...</td>\n",
       "      <td>...</td>\n",
       "      <td>...</td>\n",
       "      <td>...</td>\n",
       "      <td>...</td>\n",
       "      <td>...</td>\n",
       "      <td>...</td>\n",
       "      <td>...</td>\n",
       "      <td>...</td>\n",
       "      <td>...</td>\n",
       "    </tr>\n",
       "    <tr>\n",
       "      <th>2023-12-31 19:00:00</th>\n",
       "      <td>3.0</td>\n",
       "      <td>0.1</td>\n",
       "      <td>6.0</td>\n",
       "      <td>18.0</td>\n",
       "      <td>8.0</td>\n",
       "      <td>26.0</td>\n",
       "      <td>47.0</td>\n",
       "      <td>1.7</td>\n",
       "      <td>246.0</td>\n",
       "      <td>7.0</td>\n",
       "      <td>1</td>\n",
       "    </tr>\n",
       "    <tr>\n",
       "      <th>2023-12-31 20:00:00</th>\n",
       "      <td>3.0</td>\n",
       "      <td>0.1</td>\n",
       "      <td>6.0</td>\n",
       "      <td>19.0</td>\n",
       "      <td>7.0</td>\n",
       "      <td>27.0</td>\n",
       "      <td>49.0</td>\n",
       "      <td>1.3</td>\n",
       "      <td>239.0</td>\n",
       "      <td>6.0</td>\n",
       "      <td>0</td>\n",
       "    </tr>\n",
       "    <tr>\n",
       "      <th>2023-12-31 21:00:00</th>\n",
       "      <td>3.0</td>\n",
       "      <td>0.1</td>\n",
       "      <td>4.0</td>\n",
       "      <td>15.0</td>\n",
       "      <td>5.0</td>\n",
       "      <td>22.0</td>\n",
       "      <td>55.0</td>\n",
       "      <td>1.5</td>\n",
       "      <td>247.0</td>\n",
       "      <td>4.0</td>\n",
       "      <td>1</td>\n",
       "    </tr>\n",
       "    <tr>\n",
       "      <th>2023-12-31 22:00:00</th>\n",
       "      <td>3.0</td>\n",
       "      <td>0.1</td>\n",
       "      <td>5.0</td>\n",
       "      <td>13.0</td>\n",
       "      <td>5.0</td>\n",
       "      <td>20.0</td>\n",
       "      <td>57.0</td>\n",
       "      <td>1.1</td>\n",
       "      <td>246.0</td>\n",
       "      <td>5.0</td>\n",
       "      <td>1</td>\n",
       "    </tr>\n",
       "    <tr>\n",
       "      <th>2023-12-31 23:00:00</th>\n",
       "      <td>3.0</td>\n",
       "      <td>0.1</td>\n",
       "      <td>5.0</td>\n",
       "      <td>12.0</td>\n",
       "      <td>5.0</td>\n",
       "      <td>20.0</td>\n",
       "      <td>55.0</td>\n",
       "      <td>0.5</td>\n",
       "      <td>247.0</td>\n",
       "      <td>4.0</td>\n",
       "      <td>0</td>\n",
       "    </tr>\n",
       "  </tbody>\n",
       "</table>\n",
       "<p>43824 rows × 11 columns</p>\n",
       "</div>"
      ],
      "text/plain": [
       "                      so2   co    no   no2  pm10   nox    o3  veloc.  direc.  \\\n",
       "datetime                                                                       \n",
       "2019-01-01 00:00:00   8.0  0.2   3.0  36.0  22.0  40.0  16.0     0.5   262.0   \n",
       "2019-01-01 01:00:00   8.0  0.1   2.0  40.0  32.0  44.0   6.0     0.6   248.0   \n",
       "2019-01-01 02:00:00   8.0  0.1  11.0  42.0  36.0  58.0   3.0     0.3   224.0   \n",
       "2019-01-01 03:00:00  10.0  0.1  15.0  41.0  35.0  63.0   3.0     0.2   220.0   \n",
       "2019-01-01 04:00:00  11.0  0.1  16.0  39.0  36.0  63.0   3.0     0.4   221.0   \n",
       "...                   ...  ...   ...   ...   ...   ...   ...     ...     ...   \n",
       "2023-12-31 19:00:00   3.0  0.1   6.0  18.0   8.0  26.0  47.0     1.7   246.0   \n",
       "2023-12-31 20:00:00   3.0  0.1   6.0  19.0   7.0  27.0  49.0     1.3   239.0   \n",
       "2023-12-31 21:00:00   3.0  0.1   4.0  15.0   5.0  22.0  55.0     1.5   247.0   \n",
       "2023-12-31 22:00:00   3.0  0.1   5.0  13.0   5.0  20.0  57.0     1.1   246.0   \n",
       "2023-12-31 23:00:00   3.0  0.1   5.0  12.0   5.0  20.0  55.0     0.5   247.0   \n",
       "\n",
       "                     pm2.5  onehot  \n",
       "datetime                            \n",
       "2019-01-01 00:00:00   19.0       1  \n",
       "2019-01-01 01:00:00   26.0       1  \n",
       "2019-01-01 02:00:00   31.0       1  \n",
       "2019-01-01 03:00:00   30.0       0  \n",
       "2019-01-01 04:00:00   30.0       1  \n",
       "...                    ...     ...  \n",
       "2023-12-31 19:00:00    7.0       1  \n",
       "2023-12-31 20:00:00    6.0       0  \n",
       "2023-12-31 21:00:00    4.0       1  \n",
       "2023-12-31 22:00:00    5.0       1  \n",
       "2023-12-31 23:00:00    4.0       0  \n",
       "\n",
       "[43824 rows x 11 columns]"
      ]
     },
     "execution_count": 19,
     "metadata": {},
     "output_type": "execute_result"
    }
   ],
   "source": [
    "data['onehot'] = np.random.randint(0, 2, size=len(data))\n",
    "data"
   ]
  },
  {
   "cell_type": "code",
   "execution_count": 22,
   "metadata": {},
   "outputs": [
    {
     "name": "stdout",
     "output_type": "stream",
     "text": [
      "Using device: cuda\n",
      "Epoch 1/2\n"
     ]
    },
    {
     "name": "stderr",
     "output_type": "stream",
     "text": [
      "c:\\Users\\jaesc2\\Miniconda3\\envs\\skforecast_py11_2\\Lib\\site-packages\\keras\\src\\models\\functional.py:225: UserWarning: The structure of `inputs` doesn't match the expected structure: ['series_input', 'exog_input']. Received: the structure of inputs=('*', '*')\n",
      "  warnings.warn(\n"
     ]
    },
    {
     "ename": "ValueError",
     "evalue": "Exception encountered when calling TimeDistributed.call().\n\n\u001b[1mDimensions must be equal, but are 102 and 101 for '{{node functional_1/time_distributed_1/MatMul}} = MatMul[T=DT_FLOAT, grad_a=false, grad_b=false, transpose_a=false, transpose_b=false](functional_1/time_distributed_1/strided_slice_1, functional_1/time_distributed_1/Cast/ReadVariableOp)' with input shapes: [?,102], [101,128].\u001b[0m\n\nArguments received by TimeDistributed.call():\n  • inputs=tf.Tensor(shape=(None, 5, 102), dtype=float32)\n  • training=True\n  • mask=None",
     "output_type": "error",
     "traceback": [
      "\u001b[31m---------------------------------------------------------------------------\u001b[39m",
      "\u001b[31mValueError\u001b[39m                                Traceback (most recent call last)",
      "\u001b[36mCell\u001b[39m\u001b[36m \u001b[39m\u001b[32mIn[22]\u001b[39m\u001b[32m, line 1\u001b[39m\n\u001b[32m----> \u001b[39m\u001b[32m1\u001b[39m \u001b[43mforecaster\u001b[49m\u001b[43m.\u001b[49m\u001b[43mfit\u001b[49m\u001b[43m(\u001b[49m\u001b[43mseries\u001b[49m\u001b[43m \u001b[49m\u001b[43m=\u001b[49m\u001b[43m \u001b[49m\u001b[43mdata\u001b[49m\u001b[43m[\u001b[49m\u001b[43mseries\u001b[49m\u001b[43m]\u001b[49m\u001b[43m,\u001b[49m\u001b[43m \u001b[49m\u001b[43mexog\u001b[49m\u001b[43m \u001b[49m\u001b[43m=\u001b[49m\u001b[43m \u001b[49m\u001b[43mdata\u001b[49m\u001b[43m[\u001b[49m\u001b[33;43m'\u001b[39;49m\u001b[33;43monehot\u001b[39;49m\u001b[33;43m'\u001b[39;49m\u001b[43m]\u001b[49m\u001b[43m)\u001b[49m[\u001b[32m2\u001b[39m]\n",
      "\u001b[36mFile \u001b[39m\u001b[32m<string>:75\u001b[39m, in \u001b[36mfit\u001b[39m\u001b[34m(self, series, exog, store_in_sample_residuals, suppress_warnings, store_last_window)\u001b[39m\n",
      "\u001b[36mFile \u001b[39m\u001b[32mc:\\Users\\jaesc2\\Miniconda3\\envs\\skforecast_py11_2\\Lib\\site-packages\\keras\\src\\utils\\traceback_utils.py:122\u001b[39m, in \u001b[36mfilter_traceback.<locals>.error_handler\u001b[39m\u001b[34m(*args, **kwargs)\u001b[39m\n\u001b[32m    119\u001b[39m     filtered_tb = _process_traceback_frames(e.__traceback__)\n\u001b[32m    120\u001b[39m     \u001b[38;5;66;03m# To get the full stack trace, call:\u001b[39;00m\n\u001b[32m    121\u001b[39m     \u001b[38;5;66;03m# `keras.config.disable_traceback_filtering()`\u001b[39;00m\n\u001b[32m--> \u001b[39m\u001b[32m122\u001b[39m     \u001b[38;5;28;01mraise\u001b[39;00m e.with_traceback(filtered_tb) \u001b[38;5;28;01mfrom\u001b[39;00m\u001b[38;5;250m \u001b[39m\u001b[38;5;28;01mNone\u001b[39;00m\n\u001b[32m    123\u001b[39m \u001b[38;5;28;01mfinally\u001b[39;00m:\n\u001b[32m    124\u001b[39m     \u001b[38;5;28;01mdel\u001b[39;00m filtered_tb\n",
      "\u001b[36mFile \u001b[39m\u001b[32mc:\\Users\\jaesc2\\Miniconda3\\envs\\skforecast_py11_2\\Lib\\site-packages\\keras\\src\\utils\\traceback_utils.py:122\u001b[39m, in \u001b[36mfilter_traceback.<locals>.error_handler\u001b[39m\u001b[34m(*args, **kwargs)\u001b[39m\n\u001b[32m    119\u001b[39m     filtered_tb = _process_traceback_frames(e.__traceback__)\n\u001b[32m    120\u001b[39m     \u001b[38;5;66;03m# To get the full stack trace, call:\u001b[39;00m\n\u001b[32m    121\u001b[39m     \u001b[38;5;66;03m# `keras.config.disable_traceback_filtering()`\u001b[39;00m\n\u001b[32m--> \u001b[39m\u001b[32m122\u001b[39m     \u001b[38;5;28;01mraise\u001b[39;00m e.with_traceback(filtered_tb) \u001b[38;5;28;01mfrom\u001b[39;00m\u001b[38;5;250m \u001b[39m\u001b[38;5;28;01mNone\u001b[39;00m\n\u001b[32m    123\u001b[39m \u001b[38;5;28;01mfinally\u001b[39;00m:\n\u001b[32m    124\u001b[39m     \u001b[38;5;28;01mdel\u001b[39;00m filtered_tb\n",
      "\u001b[31mValueError\u001b[39m: Exception encountered when calling TimeDistributed.call().\n\n\u001b[1mDimensions must be equal, but are 102 and 101 for '{{node functional_1/time_distributed_1/MatMul}} = MatMul[T=DT_FLOAT, grad_a=false, grad_b=false, transpose_a=false, transpose_b=false](functional_1/time_distributed_1/strided_slice_1, functional_1/time_distributed_1/Cast/ReadVariableOp)' with input shapes: [?,102], [101,128].\u001b[0m\n\nArguments received by TimeDistributed.call():\n  • inputs=tf.Tensor(shape=(None, 5, 102), dtype=float32)\n  • training=True\n  • mask=None"
     ]
    }
   ],
   "source": [
    "forecaster.fit(series = data[series], exog = data['onehot'])[2]"
   ]
  },
  {
   "cell_type": "code",
   "execution_count": null,
   "metadata": {},
   "outputs": [],
   "source": [
    "forecaster._create_predict_inputs(series = data[levels], exog = data[exog_features])[2]"
   ]
  },
  {
   "cell_type": "code",
   "execution_count": null,
   "metadata": {},
   "outputs": [
    {
     "name": "stdout",
     "output_type": "stream",
     "text": [
      "tensorflow\n",
      "['users']\n",
      "['users']\n",
      "['month_sin', 'month_cos', 'week_of_year_sin', 'week_of_year_cos', 'week_day_sin', 'week_day_cos', 'hour_day_sin', 'hour_day_cos', 'sunrise_hour_sin', 'sunrise_hour_cos', 'sunset_hour_sin', 'sunset_hour_cos', 'holiday_previous_day', 'holiday_next_day', 'temp_roll_mean_1_day', 'temp_roll_mean_7_day', 'temp_roll_max_1_day', 'temp_roll_min_1_day', 'temp_roll_max_7_day', 'temp_roll_min_7_day', 'temp', 'holiday']\n",
      "['users']\n",
      "True\n"
     ]
    }
   ],
   "source": [
    "key = 2\n",
    "\n",
    "print(forecaster.keras_backend_)\n",
    "print(forecaster.X_train_dim_names_[key])\n",
    "print(forecaster.y_train_dim_names_[key])\n",
    "print(forecaster.exog_train_dim_names_[key])\n",
    "print(forecaster.series_names_in_)\n",
    "print(forecaster.exog_in_)"
   ]
  },
  {
   "cell_type": "code",
   "execution_count": 26,
   "metadata": {},
   "outputs": [
    {
     "data": {
      "text/plain": [
       "{1: array([[-0.06500238],\n",
       "        [-0.0714306 ],\n",
       "        [-0.06677454],\n",
       "        ...,\n",
       "        [-0.07362577],\n",
       "        [-0.07212345],\n",
       "        [-0.07297853]], shape=(17293, 1)),\n",
       " 2: array([[-0.07144733],\n",
       "        [-0.06680337],\n",
       "        [-0.07019052],\n",
       "        ...,\n",
       "        [-0.07211882],\n",
       "        [-0.07297212],\n",
       "        [-0.04094816]], shape=(17293, 1)),\n",
       " 3: array([[-0.06681903],\n",
       "        [-0.07021936],\n",
       "        [-0.07019781],\n",
       "        ...,\n",
       "        [-0.0729673 ],\n",
       "        [-0.04094798],\n",
       "        [-0.03463231]], shape=(17293, 1)),\n",
       " 4: array([[-0.07023501],\n",
       "        [-0.07022664],\n",
       "        [-0.06981433],\n",
       "        ...,\n",
       "        [-0.04094875],\n",
       "        [-0.03463169],\n",
       "        [-0.00712099]], shape=(17293, 1)),\n",
       " 5: array([[-0.07024227],\n",
       "        [-0.06984409],\n",
       "        [-0.0719807 ],\n",
       "        ...,\n",
       "        [-0.03463212],\n",
       "        [-0.00712109],\n",
       "        [ 0.0032284 ]], shape=(17293, 1)),\n",
       " 6: array([[-0.06986038],\n",
       "        [-0.07201028],\n",
       "        [-0.0698631 ],\n",
       "        ...,\n",
       "        [-0.00712248],\n",
       "        [ 0.00322837],\n",
       "        [-0.02413592]], shape=(17293, 1)),\n",
       " 7: array([[-0.07202657],\n",
       "        [-0.06989264],\n",
       "        [-0.07171298],\n",
       "        ...,\n",
       "        [ 0.0032267 ],\n",
       "        [-0.024136  ],\n",
       "        [-0.0336825 ]], shape=(17293, 1)),\n",
       " 8: array([[-0.06990888],\n",
       "        [-0.07173604],\n",
       "        [-0.0678696 ],\n",
       "        ...,\n",
       "        [-0.02413777],\n",
       "        [-0.03367767],\n",
       "        [-0.04172905]], shape=(17293, 1)),\n",
       " 9: array([[-0.07174862],\n",
       "        [-0.06789412],\n",
       "        [-0.0429862 ],\n",
       "        ...,\n",
       "        [-0.03367493],\n",
       "        [-0.0417234 ],\n",
       "        [-0.06629085]], shape=(17293, 1)),\n",
       " 10: array([[-0.06790779],\n",
       "        [-0.04300814],\n",
       "        [-0.04958995],\n",
       "        ...,\n",
       "        [-0.04171993],\n",
       "        [-0.06628522],\n",
       "        [-0.06231384]], shape=(17293, 1)),\n",
       " 11: array([[-0.04302063],\n",
       "        [-0.0496136 ],\n",
       "        [-0.02230646],\n",
       "        ...,\n",
       "        [-0.06628176],\n",
       "        [-0.06230727],\n",
       "        [-0.05764654]], shape=(17293, 1)),\n",
       " 12: array([[-0.04962708],\n",
       "        [-0.02233003],\n",
       "        [-0.03670645],\n",
       "        ...,\n",
       "        [-0.0623031 ],\n",
       "        [-0.05763937],\n",
       "        [-0.07009836]], shape=(17293, 1)),\n",
       " 13: array([[-0.02234322],\n",
       "        [-0.03673412],\n",
       "        [-0.04481814],\n",
       "        ...,\n",
       "        [-0.05763465],\n",
       "        [-0.07009137],\n",
       "        [-0.05665217]], shape=(17293, 1)),\n",
       " 14: array([[-0.03674963],\n",
       "        [-0.04484268],\n",
       "        [-0.03880679],\n",
       "        ...,\n",
       "        [-0.07008679],\n",
       "        [-0.05664661],\n",
       "        [-0.06227803]], shape=(17293, 1)),\n",
       " 15: array([[-0.0448563 ],\n",
       "        [-0.03882716],\n",
       "        [-0.03181333],\n",
       "        ...,\n",
       "        [-0.05664324],\n",
       "        [-0.06226599],\n",
       "        [-0.06628572]], shape=(17293, 1)),\n",
       " 16: array([[-0.03883768],\n",
       "        [-0.03182294],\n",
       "        [-0.06399636],\n",
       "        ...,\n",
       "        [-0.06225674],\n",
       "        [-0.06627359],\n",
       "        [-0.06722568]], shape=(17293, 1)),\n",
       " 17: array([[-0.03182768],\n",
       "        [-0.06400828],\n",
       "        [-0.07712941],\n",
       "        ...,\n",
       "        [-0.06626422],\n",
       "        [-0.0672138 ],\n",
       "        [-0.07415142]], shape=(17293, 1)),\n",
       " 18: array([[-0.06401424],\n",
       "        [-0.07714088],\n",
       "        [-0.08038283],\n",
       "        ...,\n",
       "        [-0.06720465],\n",
       "        [-0.07413955],\n",
       "        [-0.08029385]], shape=(17293, 1)),\n",
       " 19: array([[-0.07714661],\n",
       "        [-0.08039431],\n",
       "        [-0.07594874],\n",
       "        ...,\n",
       "        [-0.07413039],\n",
       "        [-0.08028087],\n",
       "        [-0.07625714]], shape=(17293, 1)),\n",
       " 20: array([[-0.0804    ],\n",
       "        [-0.07596001],\n",
       "        [-0.08582298],\n",
       "        ...,\n",
       "        [-0.08027075],\n",
       "        [-0.07624484],\n",
       "        [-0.07576484]], shape=(17293, 1)),\n",
       " 21: array([[-0.07596537],\n",
       "        [-0.08583496],\n",
       "        [-0.08346315],\n",
       "        ...,\n",
       "        [-0.07623524],\n",
       "        [-0.07575254],\n",
       "        [-0.06244609]], shape=(17293, 1)),\n",
       " 22: array([[-0.08584074],\n",
       "        [-0.08349272],\n",
       "        [-0.0848947 ],\n",
       "        ...,\n",
       "        [-0.07574295],\n",
       "        [-0.06243469],\n",
       "        [-0.02840178]], shape=(17293, 1)),\n",
       " 23: array([[-0.08350874],\n",
       "        [-0.0849243 ],\n",
       "        [-0.06632874],\n",
       "        ...,\n",
       "        [-0.06242545],\n",
       "        [-0.02839039],\n",
       "        [ 0.01267514]], shape=(17293, 1)),\n",
       " 24: array([[-0.08494032],\n",
       "        [-0.06635802],\n",
       "        [-0.06360199],\n",
       "        ...,\n",
       "        [-0.02838114],\n",
       "        [ 0.01268594],\n",
       "        [ 0.02061237]], shape=(17293, 1)),\n",
       " 25: array([[-0.06637336],\n",
       "        [-0.06363124],\n",
       "        [-0.05652525],\n",
       "        ...,\n",
       "        [ 0.01269464],\n",
       "        [ 0.02062315],\n",
       "        [ 0.02195106]], shape=(17293, 1)),\n",
       " 26: array([[-0.06364659],\n",
       "        [-0.05655426],\n",
       "        [-0.05582966],\n",
       "        ...,\n",
       "        [ 0.02063187],\n",
       "        [ 0.02196219],\n",
       "        [ 0.03886269]], shape=(17293, 1)),\n",
       " 27: array([[-0.05656951],\n",
       "        [-0.05585171],\n",
       "        [-0.05092843],\n",
       "        ...,\n",
       "        [ 0.02197113],\n",
       "        [ 0.03886628],\n",
       "        [ 0.02164382]], shape=(17293, 1)),\n",
       " 28: array([[-0.05586323],\n",
       "        [-0.05095049],\n",
       "        [-0.05099002],\n",
       "        ...,\n",
       "        [ 0.03886836],\n",
       "        [ 0.02164775],\n",
       "        [-0.00540858]], shape=(17293, 1)),\n",
       " 29: array([[-0.05096201],\n",
       "        [-0.05101209],\n",
       "        [-0.02508199],\n",
       "        ...,\n",
       "        [ 0.02164957],\n",
       "        [-0.0054042 ],\n",
       "        [-0.01400437]], shape=(17293, 1)),\n",
       " 30: array([[-0.0510236 ],\n",
       "        [-0.02511279],\n",
       "        [ 0.01986944],\n",
       "        ...,\n",
       "        [-0.00540203],\n",
       "        [-0.01400002],\n",
       "        [-0.02375439]], shape=(17293, 1)),\n",
       " 31: array([[-0.02513005],\n",
       "        [ 0.01983803],\n",
       "        [ 0.13045205],\n",
       "        ...,\n",
       "        [-0.01399781],\n",
       "        [-0.02374902],\n",
       "        [-0.01918337]], shape=(17293, 1)),\n",
       " 32: array([[ 0.01982056],\n",
       "        [ 0.13042915],\n",
       "        [ 0.02849002],\n",
       "        ...,\n",
       "        [-0.02374609],\n",
       "        [-0.01917821],\n",
       "        [-0.04513757]], shape=(17293, 1)),\n",
       " 33: array([[ 0.13041706],\n",
       "        [ 0.0284671 ],\n",
       "        [-0.04112177],\n",
       "        ...,\n",
       "        [-0.01917536],\n",
       "        [-0.04513241],\n",
       "        [-0.06223646]], shape=(17293, 1)),\n",
       " 34: array([[ 0.02845502],\n",
       "        [-0.04114355],\n",
       "        [-0.04905441],\n",
       "        ...,\n",
       "        [-0.04512958],\n",
       "        [-0.06223069],\n",
       "        [-0.07688119]], shape=(17293, 1)),\n",
       " 35: array([[-0.04115485],\n",
       "        [-0.04907771],\n",
       "        [-0.03510319],\n",
       "        ...,\n",
       "        [-0.06222733],\n",
       "        [-0.07687602],\n",
       "        [-0.07862251]], shape=(17293, 1)),\n",
       " 36: array([[-0.04908987],\n",
       "        [-0.03512624],\n",
       "        [-0.0396603 ],\n",
       "        ...,\n",
       "        [-0.07687311],\n",
       "        [-0.07861667],\n",
       "        [-0.05552282]], shape=(17293, 1))}"
      ]
     },
     "execution_count": 26,
     "metadata": {},
     "output_type": "execute_result"
    }
   ],
   "source": [
    "forecaster.in_sample_residuals_"
   ]
  },
  {
   "cell_type": "code",
   "execution_count": null,
   "metadata": {},
   "outputs": [],
   "source": [
    "\n",
    "# Backtesting model with exogenous variables on test data \n",
    "# # ============================================================================== \n",
    "from skforecast.model_selection import TimeSeriesFold, backtesting_forecaster_multiseries\n",
    " \n",
    "cv = TimeSeriesFold(steps = 36, initial_train_size = len(data[:end_validation]), refit = False, allow_incomplete_fold=False)\n",
    "metric, predictions = backtesting_forecaster_multiseries( forecaster = forecaster, series = data[levels], exog = data[exog_features], cv = cv, metric = 'mean_absolute_error' )\n",
    "\n",
    "metric"
   ]
  },
  {
   "cell_type": "markdown",
   "metadata": {},
   "source": [
    "# Naive test"
   ]
  },
  {
   "cell_type": "code",
   "execution_count": 6,
   "metadata": {},
   "outputs": [
    {
     "data": {
      "text/html": [
       "<div>\n",
       "<style scoped>\n",
       "    .dataframe tbody tr th:only-of-type {\n",
       "        vertical-align: middle;\n",
       "    }\n",
       "\n",
       "    .dataframe tbody tr th {\n",
       "        vertical-align: top;\n",
       "    }\n",
       "\n",
       "    .dataframe thead th {\n",
       "        text-align: right;\n",
       "    }\n",
       "</style>\n",
       "<table border=\"1\" class=\"dataframe\">\n",
       "  <thead>\n",
       "    <tr style=\"text-align: right;\">\n",
       "      <th></th>\n",
       "      <th>l1</th>\n",
       "      <th>l2</th>\n",
       "      <th>l3</th>\n",
       "      <th>exog1</th>\n",
       "      <th>exog2</th>\n",
       "    </tr>\n",
       "  </thead>\n",
       "  <tbody>\n",
       "    <tr>\n",
       "      <th>2019-01-01 00:00:00</th>\n",
       "      <td>1.0</td>\n",
       "      <td>2.0</td>\n",
       "      <td>3.0</td>\n",
       "      <td>4.0</td>\n",
       "      <td>5.0</td>\n",
       "    </tr>\n",
       "    <tr>\n",
       "      <th>2019-01-01 01:00:00</th>\n",
       "      <td>1.0</td>\n",
       "      <td>2.0</td>\n",
       "      <td>3.0</td>\n",
       "      <td>4.0</td>\n",
       "      <td>5.0</td>\n",
       "    </tr>\n",
       "    <tr>\n",
       "      <th>2019-01-01 02:00:00</th>\n",
       "      <td>1.0</td>\n",
       "      <td>2.0</td>\n",
       "      <td>3.0</td>\n",
       "      <td>4.0</td>\n",
       "      <td>5.0</td>\n",
       "    </tr>\n",
       "  </tbody>\n",
       "</table>\n",
       "</div>"
      ],
      "text/plain": [
       "                      l1   l2   l3  exog1  exog2\n",
       "2019-01-01 00:00:00  1.0  2.0  3.0    4.0    5.0\n",
       "2019-01-01 01:00:00  1.0  2.0  3.0    4.0    5.0\n",
       "2019-01-01 02:00:00  1.0  2.0  3.0    4.0    5.0"
      ]
     },
     "execution_count": 6,
     "metadata": {},
     "output_type": "execute_result"
    }
   ],
   "source": [
    "df_naive = pd.DataFrame(\n",
    "    data = {\n",
    "        'l1': np.ones(len(data)),\n",
    "        'l2': np.array([2] * len(data), dtype=float),\n",
    "        'l3': np.array([3] * len(data), dtype=float),\n",
    "        \"exog1\": np.array([4] * len(data), dtype=float),\n",
    "        \"exog2\": np.array([5] * len(data), dtype=float),\n",
    "    },\n",
    "    index = pd.date_range(start=data.index[0], periods=len(data), freq='h')\n",
    ")\n",
    "df_naive.head(3)"
   ]
  },
  {
   "cell_type": "code",
   "execution_count": 7,
   "metadata": {},
   "outputs": [
    {
     "name": "stdout",
     "output_type": "stream",
     "text": [
      "19704 4392 19728\n"
     ]
    }
   ],
   "source": [
    "end_train = '2021-03-31 23:59:00'\n",
    "end_validation = '2021-09-30 23:59:00'\n",
    "df_naive_train = df_naive.loc[: end_train, :]\n",
    "df_naive_val = df_naive.loc[end_train:end_validation, :]\n",
    "df_naive_test = df_naive.loc[end_validation:, :]\n",
    "\n",
    "print(len(df_naive_train), len(df_naive_val), len(df_naive_test))"
   ]
  },
  {
   "cell_type": "code",
   "execution_count": 21,
   "metadata": {},
   "outputs": [
    {
     "data": {
      "text/html": [
       "<pre style=\"white-space:pre;overflow-x:auto;line-height:normal;font-family:Menlo,'DejaVu Sans Mono',consolas,'Courier New',monospace\"><span style=\"font-weight: bold\">Model: \"functional_1\"</span>\n",
       "</pre>\n"
      ],
      "text/plain": [
       "\u001b[1mModel: \"functional_1\"\u001b[0m\n"
      ]
     },
     "metadata": {},
     "output_type": "display_data"
    },
    {
     "data": {
      "text/html": [
       "<pre style=\"white-space:pre;overflow-x:auto;line-height:normal;font-family:Menlo,'DejaVu Sans Mono',consolas,'Courier New',monospace\">┏━━━━━━━━━━━━━━━━━━━━━━━━━━━━━━━━━┳━━━━━━━━━━━━━━━━━━━━━━━━┳━━━━━━━━━━━━━━━┓\n",
       "┃<span style=\"font-weight: bold\"> Layer (type)                    </span>┃<span style=\"font-weight: bold\"> Output Shape           </span>┃<span style=\"font-weight: bold\">       Param # </span>┃\n",
       "┡━━━━━━━━━━━━━━━━━━━━━━━━━━━━━━━━━╇━━━━━━━━━━━━━━━━━━━━━━━━╇━━━━━━━━━━━━━━━┩\n",
       "│ series_input (<span style=\"color: #0087ff; text-decoration-color: #0087ff\">InputLayer</span>)       │ (<span style=\"color: #00d7ff; text-decoration-color: #00d7ff\">None</span>, <span style=\"color: #00af00; text-decoration-color: #00af00\">4</span>, <span style=\"color: #00af00; text-decoration-color: #00af00\">3</span>)           │             <span style=\"color: #00af00; text-decoration-color: #00af00\">0</span> │\n",
       "├─────────────────────────────────┼────────────────────────┼───────────────┤\n",
       "│ lstm_1 (<span style=\"color: #0087ff; text-decoration-color: #0087ff\">LSTM</span>)                   │ (<span style=\"color: #00d7ff; text-decoration-color: #00d7ff\">None</span>, <span style=\"color: #00af00; text-decoration-color: #00af00\">10</span>)             │           <span style=\"color: #00af00; text-decoration-color: #00af00\">560</span> │\n",
       "├─────────────────────────────────┼────────────────────────┼───────────────┤\n",
       "│ repeat_vector (<span style=\"color: #0087ff; text-decoration-color: #0087ff\">RepeatVector</span>)    │ (<span style=\"color: #00d7ff; text-decoration-color: #00d7ff\">None</span>, <span style=\"color: #00af00; text-decoration-color: #00af00\">5</span>, <span style=\"color: #00af00; text-decoration-color: #00af00\">10</span>)          │             <span style=\"color: #00af00; text-decoration-color: #00af00\">0</span> │\n",
       "├─────────────────────────────────┼────────────────────────┼───────────────┤\n",
       "│ dense_td_1 (<span style=\"color: #0087ff; text-decoration-color: #0087ff\">TimeDistributed</span>)    │ (<span style=\"color: #00d7ff; text-decoration-color: #00d7ff\">None</span>, <span style=\"color: #00af00; text-decoration-color: #00af00\">5</span>, <span style=\"color: #00af00; text-decoration-color: #00af00\">64</span>)          │           <span style=\"color: #00af00; text-decoration-color: #00af00\">704</span> │\n",
       "├─────────────────────────────────┼────────────────────────┼───────────────┤\n",
       "│ dense_td_2 (<span style=\"color: #0087ff; text-decoration-color: #0087ff\">TimeDistributed</span>)    │ (<span style=\"color: #00d7ff; text-decoration-color: #00d7ff\">None</span>, <span style=\"color: #00af00; text-decoration-color: #00af00\">5</span>, <span style=\"color: #00af00; text-decoration-color: #00af00\">32</span>)          │         <span style=\"color: #00af00; text-decoration-color: #00af00\">2,080</span> │\n",
       "├─────────────────────────────────┼────────────────────────┼───────────────┤\n",
       "│ output_dense_td_layer           │ (<span style=\"color: #00d7ff; text-decoration-color: #00d7ff\">None</span>, <span style=\"color: #00af00; text-decoration-color: #00af00\">5</span>, <span style=\"color: #00af00; text-decoration-color: #00af00\">2</span>)           │            <span style=\"color: #00af00; text-decoration-color: #00af00\">66</span> │\n",
       "│ (<span style=\"color: #0087ff; text-decoration-color: #0087ff\">TimeDistributed</span>)               │                        │               │\n",
       "└─────────────────────────────────┴────────────────────────┴───────────────┘\n",
       "</pre>\n"
      ],
      "text/plain": [
       "┏━━━━━━━━━━━━━━━━━━━━━━━━━━━━━━━━━┳━━━━━━━━━━━━━━━━━━━━━━━━┳━━━━━━━━━━━━━━━┓\n",
       "┃\u001b[1m \u001b[0m\u001b[1mLayer (type)                   \u001b[0m\u001b[1m \u001b[0m┃\u001b[1m \u001b[0m\u001b[1mOutput Shape          \u001b[0m\u001b[1m \u001b[0m┃\u001b[1m \u001b[0m\u001b[1m      Param #\u001b[0m\u001b[1m \u001b[0m┃\n",
       "┡━━━━━━━━━━━━━━━━━━━━━━━━━━━━━━━━━╇━━━━━━━━━━━━━━━━━━━━━━━━╇━━━━━━━━━━━━━━━┩\n",
       "│ series_input (\u001b[38;5;33mInputLayer\u001b[0m)       │ (\u001b[38;5;45mNone\u001b[0m, \u001b[38;5;34m4\u001b[0m, \u001b[38;5;34m3\u001b[0m)           │             \u001b[38;5;34m0\u001b[0m │\n",
       "├─────────────────────────────────┼────────────────────────┼───────────────┤\n",
       "│ lstm_1 (\u001b[38;5;33mLSTM\u001b[0m)                   │ (\u001b[38;5;45mNone\u001b[0m, \u001b[38;5;34m10\u001b[0m)             │           \u001b[38;5;34m560\u001b[0m │\n",
       "├─────────────────────────────────┼────────────────────────┼───────────────┤\n",
       "│ repeat_vector (\u001b[38;5;33mRepeatVector\u001b[0m)    │ (\u001b[38;5;45mNone\u001b[0m, \u001b[38;5;34m5\u001b[0m, \u001b[38;5;34m10\u001b[0m)          │             \u001b[38;5;34m0\u001b[0m │\n",
       "├─────────────────────────────────┼────────────────────────┼───────────────┤\n",
       "│ dense_td_1 (\u001b[38;5;33mTimeDistributed\u001b[0m)    │ (\u001b[38;5;45mNone\u001b[0m, \u001b[38;5;34m5\u001b[0m, \u001b[38;5;34m64\u001b[0m)          │           \u001b[38;5;34m704\u001b[0m │\n",
       "├─────────────────────────────────┼────────────────────────┼───────────────┤\n",
       "│ dense_td_2 (\u001b[38;5;33mTimeDistributed\u001b[0m)    │ (\u001b[38;5;45mNone\u001b[0m, \u001b[38;5;34m5\u001b[0m, \u001b[38;5;34m32\u001b[0m)          │         \u001b[38;5;34m2,080\u001b[0m │\n",
       "├─────────────────────────────────┼────────────────────────┼───────────────┤\n",
       "│ output_dense_td_layer           │ (\u001b[38;5;45mNone\u001b[0m, \u001b[38;5;34m5\u001b[0m, \u001b[38;5;34m2\u001b[0m)           │            \u001b[38;5;34m66\u001b[0m │\n",
       "│ (\u001b[38;5;33mTimeDistributed\u001b[0m)               │                        │               │\n",
       "└─────────────────────────────────┴────────────────────────┴───────────────┘\n"
      ]
     },
     "metadata": {},
     "output_type": "display_data"
    },
    {
     "data": {
      "text/html": [
       "<pre style=\"white-space:pre;overflow-x:auto;line-height:normal;font-family:Menlo,'DejaVu Sans Mono',consolas,'Courier New',monospace\"><span style=\"font-weight: bold\"> Total params: </span><span style=\"color: #00af00; text-decoration-color: #00af00\">3,410</span> (13.32 KB)\n",
       "</pre>\n"
      ],
      "text/plain": [
       "\u001b[1m Total params: \u001b[0m\u001b[38;5;34m3,410\u001b[0m (13.32 KB)\n"
      ]
     },
     "metadata": {},
     "output_type": "display_data"
    },
    {
     "data": {
      "text/html": [
       "<pre style=\"white-space:pre;overflow-x:auto;line-height:normal;font-family:Menlo,'DejaVu Sans Mono',consolas,'Courier New',monospace\"><span style=\"font-weight: bold\"> Trainable params: </span><span style=\"color: #00af00; text-decoration-color: #00af00\">3,410</span> (13.32 KB)\n",
       "</pre>\n"
      ],
      "text/plain": [
       "\u001b[1m Trainable params: \u001b[0m\u001b[38;5;34m3,410\u001b[0m (13.32 KB)\n"
      ]
     },
     "metadata": {},
     "output_type": "display_data"
    },
    {
     "data": {
      "text/html": [
       "<pre style=\"white-space:pre;overflow-x:auto;line-height:normal;font-family:Menlo,'DejaVu Sans Mono',consolas,'Courier New',monospace\"><span style=\"font-weight: bold\"> Non-trainable params: </span><span style=\"color: #00af00; text-decoration-color: #00af00\">0</span> (0.00 B)\n",
       "</pre>\n"
      ],
      "text/plain": [
       "\u001b[1m Non-trainable params: \u001b[0m\u001b[38;5;34m0\u001b[0m (0.00 B)\n"
      ]
     },
     "metadata": {},
     "output_type": "display_data"
    }
   ],
   "source": [
    "lags = 4\n",
    "steps = 5\n",
    "activation = \"relu\"\n",
    "# optimizer = keras.optimizers.Adam(learning_rate=0.01)\n",
    "loss = keras.losses.MeanSquaredError()\n",
    "recurrent_units = 10\n",
    "dense_units = [64, 32]\n",
    "\n",
    "series = [\"l1\", \"l2\", \"l3\"]\n",
    "levels = [\"l1\", \"l2\"]\n",
    "exog = [\"exog1\", \"exog2\"]\n",
    "\n",
    "model = create_and_compile_model(\n",
    "    series=df_naive[series],\n",
    "    lags=lags,\n",
    "    steps=steps,\n",
    "    levels=levels,\n",
    "    # exog=df_naive[exog],\n",
    "    recurrent_units=recurrent_units,\n",
    "    dense_units=dense_units,\n",
    ")\n",
    "\n",
    "model.summary()"
   ]
  },
  {
   "cell_type": "code",
   "execution_count": 22,
   "metadata": {},
   "outputs": [],
   "source": [
    "from keras.utils import plot_model\n",
    "# plot_model(model, show_shapes=True, show_layer_names=True, to_file='model.png')"
   ]
  },
  {
   "cell_type": "code",
   "execution_count": 23,
   "metadata": {},
   "outputs": [
    {
     "name": "stderr",
     "output_type": "stream",
     "text": [
      "c:\\Users\\jaesc2\\Miniconda3\\envs\\skforecast_py11_2\\Lib\\site-packages\\keras\\src\\saving\\saving_lib.py:719: UserWarning: Skipping variable loading for optimizer 'adam', because it has 20 variables whereas the saved optimizer has 2 variables. \n",
      "  saveable.load_own_variables(weights_store.get(inner_path))\n"
     ]
    }
   ],
   "source": [
    "\n",
    "# ==============================================================================\n",
    "\n",
    "forecaster = ForecasterRnn(\n",
    "    regressor=model,\n",
    "    levels=levels,\n",
    "    transformer_series=None,\n",
    "    transformer_exog=None,\n",
    "    fit_kwargs={\n",
    "        \"epochs\": 2,  # Number of epochs to train the model.\n",
    "        \"batch_size\": 64,  # Batch size to train the model.\n",
    "    },\n",
    ")    \n",
    "\n"
   ]
  },
  {
   "cell_type": "code",
   "execution_count": 10,
   "metadata": {},
   "outputs": [
    {
     "data": {
      "text/plain": [
       "(19696, 4, 3)"
      ]
     },
     "execution_count": 10,
     "metadata": {},
     "output_type": "execute_result"
    }
   ],
   "source": [
    "_ = forecaster.create_train_X_y(series = df_naive_train[series], exog = df_naive_train[exog])\n",
    "_[0].shape"
   ]
  },
  {
   "cell_type": "code",
   "execution_count": 11,
   "metadata": {},
   "outputs": [
    {
     "data": {
      "text/plain": [
       "{0: DatetimeIndex(['2019-01-01 04:00:00', '2019-01-01 05:00:00',\n",
       "                '2019-01-01 06:00:00', '2019-01-01 07:00:00',\n",
       "                '2019-01-01 08:00:00', '2019-01-01 09:00:00',\n",
       "                '2019-01-01 10:00:00', '2019-01-01 11:00:00',\n",
       "                '2019-01-01 12:00:00', '2019-01-01 13:00:00',\n",
       "                ...\n",
       "                '2021-03-31 10:00:00', '2021-03-31 11:00:00',\n",
       "                '2021-03-31 12:00:00', '2021-03-31 13:00:00',\n",
       "                '2021-03-31 14:00:00', '2021-03-31 15:00:00',\n",
       "                '2021-03-31 16:00:00', '2021-03-31 17:00:00',\n",
       "                '2021-03-31 18:00:00', '2021-03-31 19:00:00'],\n",
       "               dtype='datetime64[ns]', length=19696, freq='h'),\n",
       " 1: ['lag_1', 'lag_2', 'lag_3', 'lag_4'],\n",
       " 2: ['l1', 'l2', 'l3']}"
      ]
     },
     "execution_count": 11,
     "metadata": {},
     "output_type": "execute_result"
    }
   ],
   "source": [
    "_[-1][\"X_train\"]"
   ]
  },
  {
   "cell_type": "code",
   "execution_count": 24,
   "metadata": {},
   "outputs": [
    {
     "name": "stdout",
     "output_type": "stream",
     "text": [
      "Using device: cuda\n",
      "Epoch 1/2\n",
      "\u001b[1m308/308\u001b[0m \u001b[32m━━━━━━━━━━━━━━━━━━━━\u001b[0m\u001b[37m\u001b[0m \u001b[1m4s\u001b[0m 5ms/step - loss: 0.1193\n",
      "Epoch 2/2\n",
      "\u001b[1m308/308\u001b[0m \u001b[32m━━━━━━━━━━━━━━━━━━━━\u001b[0m\u001b[37m\u001b[0m \u001b[1m1s\u001b[0m 4ms/step - loss: 7.1197e-15\n"
     ]
    }
   ],
   "source": [
    "forecaster.fit(\n",
    "    series = df_naive_train[series], \n",
    "    # exog = df_naive_train[exog], \n",
    "    store_in_sample_residuals=True\n",
    ")"
   ]
  },
  {
   "cell_type": "code",
   "execution_count": 25,
   "metadata": {},
   "outputs": [
    {
     "data": {
      "text/plain": [
       "{'l1': array([0., 0., 0., ..., 0., 0., 0.], shape=(10000,)),\n",
       " 'l2': array([0., 0., 0., ..., 0., 0., 0.], shape=(10000,))}"
      ]
     },
     "execution_count": 25,
     "metadata": {},
     "output_type": "execute_result"
    }
   ],
   "source": [
    "forecaster.in_sample_residuals_"
   ]
  },
  {
   "cell_type": "code",
   "execution_count": 26,
   "metadata": {},
   "outputs": [
    {
     "data": {
      "text/plain": [
       "(4392, 5)"
      ]
     },
     "execution_count": 26,
     "metadata": {},
     "output_type": "execute_result"
    }
   ],
   "source": [
    "df_naive_val.shape"
   ]
  },
  {
   "cell_type": "code",
   "execution_count": 29,
   "metadata": {},
   "outputs": [
    {
     "data": {
      "text/html": [
       "<div>\n",
       "<style scoped>\n",
       "    .dataframe tbody tr th:only-of-type {\n",
       "        vertical-align: middle;\n",
       "    }\n",
       "\n",
       "    .dataframe tbody tr th {\n",
       "        vertical-align: top;\n",
       "    }\n",
       "\n",
       "    .dataframe thead th {\n",
       "        text-align: right;\n",
       "    }\n",
       "</style>\n",
       "<table border=\"1\" class=\"dataframe\">\n",
       "  <thead>\n",
       "    <tr style=\"text-align: right;\">\n",
       "      <th></th>\n",
       "      <th>level</th>\n",
       "      <th>pred</th>\n",
       "    </tr>\n",
       "  </thead>\n",
       "  <tbody>\n",
       "    <tr>\n",
       "      <th>2021-04-01 00:00:00</th>\n",
       "      <td>l1</td>\n",
       "      <td>1.0</td>\n",
       "    </tr>\n",
       "    <tr>\n",
       "      <th>2021-04-01 00:00:00</th>\n",
       "      <td>l2</td>\n",
       "      <td>2.0</td>\n",
       "    </tr>\n",
       "    <tr>\n",
       "      <th>2021-04-01 01:00:00</th>\n",
       "      <td>l1</td>\n",
       "      <td>1.0</td>\n",
       "    </tr>\n",
       "    <tr>\n",
       "      <th>2021-04-01 01:00:00</th>\n",
       "      <td>l2</td>\n",
       "      <td>2.0</td>\n",
       "    </tr>\n",
       "    <tr>\n",
       "      <th>2021-04-01 02:00:00</th>\n",
       "      <td>l1</td>\n",
       "      <td>1.0</td>\n",
       "    </tr>\n",
       "    <tr>\n",
       "      <th>2021-04-01 02:00:00</th>\n",
       "      <td>l2</td>\n",
       "      <td>2.0</td>\n",
       "    </tr>\n",
       "    <tr>\n",
       "      <th>2021-04-01 03:00:00</th>\n",
       "      <td>l1</td>\n",
       "      <td>1.0</td>\n",
       "    </tr>\n",
       "    <tr>\n",
       "      <th>2021-04-01 03:00:00</th>\n",
       "      <td>l2</td>\n",
       "      <td>2.0</td>\n",
       "    </tr>\n",
       "    <tr>\n",
       "      <th>2021-04-01 04:00:00</th>\n",
       "      <td>l1</td>\n",
       "      <td>1.0</td>\n",
       "    </tr>\n",
       "    <tr>\n",
       "      <th>2021-04-01 04:00:00</th>\n",
       "      <td>l2</td>\n",
       "      <td>2.0</td>\n",
       "    </tr>\n",
       "  </tbody>\n",
       "</table>\n",
       "</div>"
      ],
      "text/plain": [
       "                    level  pred\n",
       "2021-04-01 00:00:00    l1   1.0\n",
       "2021-04-01 00:00:00    l2   2.0\n",
       "2021-04-01 01:00:00    l1   1.0\n",
       "2021-04-01 01:00:00    l2   2.0\n",
       "2021-04-01 02:00:00    l1   1.0\n",
       "2021-04-01 02:00:00    l2   2.0\n",
       "2021-04-01 03:00:00    l1   1.0\n",
       "2021-04-01 03:00:00    l2   2.0\n",
       "2021-04-01 04:00:00    l1   1.0\n",
       "2021-04-01 04:00:00    l2   2.0"
      ]
     },
     "execution_count": 29,
     "metadata": {},
     "output_type": "execute_result"
    }
   ],
   "source": [
    "forecaster.predict(\n",
    "    # exog=df_naive_val[exog]\n",
    ")"
   ]
  },
  {
   "cell_type": "code",
   "execution_count": 30,
   "metadata": {},
   "outputs": [
    {
     "data": {
      "text/html": [
       "<div>\n",
       "<style scoped>\n",
       "    .dataframe tbody tr th:only-of-type {\n",
       "        vertical-align: middle;\n",
       "    }\n",
       "\n",
       "    .dataframe tbody tr th {\n",
       "        vertical-align: top;\n",
       "    }\n",
       "\n",
       "    .dataframe thead th {\n",
       "        text-align: right;\n",
       "    }\n",
       "</style>\n",
       "<table border=\"1\" class=\"dataframe\">\n",
       "  <thead>\n",
       "    <tr style=\"text-align: right;\">\n",
       "      <th></th>\n",
       "      <th>level</th>\n",
       "      <th>pred</th>\n",
       "      <th>lower_bound</th>\n",
       "      <th>upper_bound</th>\n",
       "    </tr>\n",
       "  </thead>\n",
       "  <tbody>\n",
       "    <tr>\n",
       "      <th>2021-04-01 00:00:00</th>\n",
       "      <td>l1</td>\n",
       "      <td>1.0</td>\n",
       "      <td>1.0</td>\n",
       "      <td>1.0</td>\n",
       "    </tr>\n",
       "    <tr>\n",
       "      <th>2021-04-01 00:00:00</th>\n",
       "      <td>l2</td>\n",
       "      <td>2.0</td>\n",
       "      <td>2.0</td>\n",
       "      <td>2.0</td>\n",
       "    </tr>\n",
       "    <tr>\n",
       "      <th>2021-04-01 01:00:00</th>\n",
       "      <td>l1</td>\n",
       "      <td>1.0</td>\n",
       "      <td>1.0</td>\n",
       "      <td>1.0</td>\n",
       "    </tr>\n",
       "    <tr>\n",
       "      <th>2021-04-01 01:00:00</th>\n",
       "      <td>l2</td>\n",
       "      <td>2.0</td>\n",
       "      <td>2.0</td>\n",
       "      <td>2.0</td>\n",
       "    </tr>\n",
       "    <tr>\n",
       "      <th>2021-04-01 02:00:00</th>\n",
       "      <td>l1</td>\n",
       "      <td>1.0</td>\n",
       "      <td>1.0</td>\n",
       "      <td>1.0</td>\n",
       "    </tr>\n",
       "    <tr>\n",
       "      <th>2021-04-01 02:00:00</th>\n",
       "      <td>l2</td>\n",
       "      <td>2.0</td>\n",
       "      <td>2.0</td>\n",
       "      <td>2.0</td>\n",
       "    </tr>\n",
       "    <tr>\n",
       "      <th>2021-04-01 03:00:00</th>\n",
       "      <td>l1</td>\n",
       "      <td>1.0</td>\n",
       "      <td>1.0</td>\n",
       "      <td>1.0</td>\n",
       "    </tr>\n",
       "    <tr>\n",
       "      <th>2021-04-01 03:00:00</th>\n",
       "      <td>l2</td>\n",
       "      <td>2.0</td>\n",
       "      <td>2.0</td>\n",
       "      <td>2.0</td>\n",
       "    </tr>\n",
       "    <tr>\n",
       "      <th>2021-04-01 04:00:00</th>\n",
       "      <td>l1</td>\n",
       "      <td>1.0</td>\n",
       "      <td>1.0</td>\n",
       "      <td>1.0</td>\n",
       "    </tr>\n",
       "    <tr>\n",
       "      <th>2021-04-01 04:00:00</th>\n",
       "      <td>l2</td>\n",
       "      <td>2.0</td>\n",
       "      <td>2.0</td>\n",
       "      <td>2.0</td>\n",
       "    </tr>\n",
       "  </tbody>\n",
       "</table>\n",
       "</div>"
      ],
      "text/plain": [
       "                    level  pred  lower_bound  upper_bound\n",
       "2021-04-01 00:00:00    l1   1.0          1.0          1.0\n",
       "2021-04-01 00:00:00    l2   2.0          2.0          2.0\n",
       "2021-04-01 01:00:00    l1   1.0          1.0          1.0\n",
       "2021-04-01 01:00:00    l2   2.0          2.0          2.0\n",
       "2021-04-01 02:00:00    l1   1.0          1.0          1.0\n",
       "2021-04-01 02:00:00    l2   2.0          2.0          2.0\n",
       "2021-04-01 03:00:00    l1   1.0          1.0          1.0\n",
       "2021-04-01 03:00:00    l2   2.0          2.0          2.0\n",
       "2021-04-01 04:00:00    l1   1.0          1.0          1.0\n",
       "2021-04-01 04:00:00    l2   2.0          2.0          2.0"
      ]
     },
     "execution_count": 30,
     "metadata": {},
     "output_type": "execute_result"
    }
   ],
   "source": [
    "forecaster.predict_interval(\n",
    "    # exog=df_naive_val[exog], \n",
    "    interval=0.95\n",
    ")"
   ]
  },
  {
   "cell_type": "code",
   "execution_count": null,
   "metadata": {},
   "outputs": [],
   "source": []
  },
  {
   "cell_type": "code",
   "execution_count": 32,
   "metadata": {},
   "outputs": [
    {
     "name": "stdout",
     "output_type": "stream",
     "text": [
      "lags: 4\n",
      "steps: 5\n",
      "series: ['l1', 'l2', 'l3']\n",
      "exog: ['exog1', 'exog2']\n",
      "levels: ['l1', 'l2']\n",
      "([array([[[1., 2., 3.],\n",
      "        [1., 2., 3.],\n",
      "        [1., 2., 3.],\n",
      "        [1., 2., 3.]]])], {'X_autoreg': {0: 'batch', 1: ['lag_1', 'lag_2', 'lag_3', 'lag_4'], 2: ['l1', 'l2', 'l3']}}, [1, 2, 3, 4, 5], ['l1', 'l2'], DatetimeIndex(['2021-04-01 00:00:00', '2021-04-01 01:00:00',\n",
      "               '2021-04-01 02:00:00', '2021-04-01 03:00:00',\n",
      "               '2021-04-01 04:00:00'],\n",
      "              dtype='datetime64[ns]', freq='h'))\n"
     ]
    },
    {
     "data": {
      "text/plain": [
       "(1, 4, 3)"
      ]
     },
     "execution_count": 32,
     "metadata": {},
     "output_type": "execute_result"
    }
   ],
   "source": [
    "print(\"lags:\", lags)\n",
    "print(\"steps:\", steps)\n",
    "print(\"series:\", series)\n",
    "print(\"exog:\", exog)\n",
    "print(\"levels:\", levels)\n",
    "\n",
    "_ = forecaster._create_predict_inputs(\n",
    "    # exog=df_naive_val[exog]\n",
    ")\n",
    "print(_)\n",
    "_[0][0].shape"
   ]
  },
  {
   "cell_type": "code",
   "execution_count": 33,
   "metadata": {},
   "outputs": [
    {
     "data": {
      "text/plain": [
       "(        l1   l2   l3\n",
       " lag_1  1.0  2.0  3.0\n",
       " lag_2  1.0  2.0  3.0\n",
       " lag_3  1.0  2.0  3.0\n",
       " lag_4  1.0  2.0  3.0,\n",
       " None)"
      ]
     },
     "execution_count": 33,
     "metadata": {},
     "output_type": "execute_result"
    }
   ],
   "source": [
    "forecaster.create_predict_X(\n",
    "    # exog=df_naive_val[exog]\n",
    ")"
   ]
  },
  {
   "cell_type": "code",
   "execution_count": 36,
   "metadata": {},
   "outputs": [
    {
     "data": {
      "text/plain": [
       "['l1', 'l2']"
      ]
     },
     "execution_count": 36,
     "metadata": {},
     "output_type": "execute_result"
    }
   ],
   "source": [
    "forecaster.levels"
   ]
  },
  {
   "cell_type": "code",
   "execution_count": 40,
   "metadata": {},
   "outputs": [
    {
     "data": {
      "text/plain": [
       "0       0.085548\n",
       "1       0.079050\n",
       "2       0.539900\n",
       "3       0.972439\n",
       "4       0.666502\n",
       "          ...   \n",
       "9995    0.647199\n",
       "9996    0.166544\n",
       "9997    0.931465\n",
       "9998    0.268302\n",
       "9999    0.382473\n",
       "Length: 10000, dtype: float64"
      ]
     },
     "execution_count": 40,
     "metadata": {},
     "output_type": "execute_result"
    }
   ],
   "source": [
    "y_true['l1']"
   ]
  },
  {
   "cell_type": "code",
   "execution_count": 66,
   "metadata": {},
   "outputs": [],
   "source": [
    "y_true = {\n",
    "    'l1': np.random.rand(10000),\n",
    "}\n",
    "y_pred = {\n",
    "    'l1': np.random.rand(10000),\n",
    "}"
   ]
  },
  {
   "cell_type": "code",
   "execution_count": 67,
   "metadata": {},
   "outputs": [
    {
     "data": {
      "text/plain": [
       "{'l1': array([0.36622161, 0.39258387, 0.01690263, ..., 0.18528668, 0.78766997,\n",
       "        0.82129562], shape=(10000,))}"
      ]
     },
     "execution_count": 67,
     "metadata": {},
     "output_type": "execute_result"
    }
   ],
   "source": [
    "y_true"
   ]
  },
  {
   "cell_type": "code",
   "execution_count": 68,
   "metadata": {},
   "outputs": [],
   "source": [
    "forecaster.set_out_sample_residuals(y_true, y_pred)"
   ]
  },
  {
   "cell_type": "code",
   "execution_count": 69,
   "metadata": {},
   "outputs": [
    {
     "data": {
      "text/plain": [
       "{'l1': array([-0.18145271, -0.08832574, -0.69724148, ..., -0.42631531,\n",
       "        -0.10288974,  0.46977393], shape=(10000,)),\n",
       " 'l2': None}"
      ]
     },
     "execution_count": 69,
     "metadata": {},
     "output_type": "execute_result"
    }
   ],
   "source": [
    "forecaster.out_sample_residuals_ "
   ]
  },
  {
   "cell_type": "code",
   "execution_count": null,
   "metadata": {},
   "outputs": [],
   "source": []
  }
 ],
 "metadata": {
  "kernelspec": {
   "display_name": "skforecast_py11_2",
   "language": "python",
   "name": "python3"
  },
  "language_info": {
   "codemirror_mode": {
    "name": "ipython",
    "version": 3
   },
   "file_extension": ".py",
   "mimetype": "text/x-python",
   "name": "python",
   "nbconvert_exporter": "python",
   "pygments_lexer": "ipython3",
   "version": "3.11.10"
  }
 },
 "nbformat": 4,
 "nbformat_minor": 2
}
