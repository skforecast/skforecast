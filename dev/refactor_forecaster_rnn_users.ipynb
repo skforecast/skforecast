{
 "cells": [
  {
   "cell_type": "code",
   "execution_count": 1,
   "metadata": {},
   "outputs": [
    {
     "name": "stdout",
     "output_type": "stream",
     "text": [
      "c:\\Users\\jaesc2\\GitHub\\skforecast\n"
     ]
    }
   ],
   "source": [
    "%load_ext autoreload\n",
    "%autoreload 2\n",
    "import sys\n",
    "from pathlib import Path\n",
    "path = str(Path.cwd().parent)\n",
    "print(path)\n",
    "sys.path.insert(1, path)\n",
    "\n",
    "import numpy as np\n",
    "import pandas as pd"
   ]
  },
  {
   "cell_type": "code",
   "execution_count": 2,
   "metadata": {},
   "outputs": [
    {
     "name": "stdout",
     "output_type": "stream",
     "text": [
      "3.6.0\n",
      "tensorflow\n"
     ]
    }
   ],
   "source": [
    "import os\n",
    "# os.environ[\"KERAS_BACKEND\"] = \"torch\"\n",
    "# os.environ[\"CUDA_VISIBLE_DEVICES\"] = \"-1\"\n",
    "\n",
    "import numpy as np\n",
    "import pandas as pd\n",
    "\n",
    "from skforecast.deep_learning import ForecasterRnn\n",
    "from skforecast.deep_learning.utils import create_and_compile_model\n",
    "\n",
    "# set backend torch\n",
    "import torch\n",
    "import keras\n",
    "print(keras.__version__)\n",
    "print(keras.backend.backend())\n",
    "\n"
   ]
  },
  {
   "cell_type": "markdown",
   "metadata": {},
   "source": [
    "# Test with Ximo"
   ]
  },
  {
   "cell_type": "code",
   "execution_count": 3,
   "metadata": {},
   "outputs": [
    {
     "name": "stdout",
     "output_type": "stream",
     "text": [
      "bike_sharing_extended_features\n",
      "------------------------------\n",
      "Hourly usage of the bike share system in the city of Washington D.C. during the\n",
      "years 2011 and 2012. In addition to the number of users per hour, the dataset\n",
      "was enriched by introducing supplementary features. Addition includes calendar-\n",
      "based variables (day of the week, hour of the day, month, etc.), indicators for\n",
      "sunlight, incorporation of rolling temperature averages, and the creation of\n",
      "polynomial features generated from variable pairs. All cyclic variables are\n",
      "encoded using sine and cosine functions to ensure accurate representation.\n",
      "Fanaee-T,Hadi. (2013). Bike Sharing Dataset. UCI Machine Learning Repository.\n",
      "https://doi.org/10.24432/C5W894.\n",
      "Shape of the dataset: (17352, 90)\n"
     ]
    }
   ],
   "source": [
    "from skforecast.datasets import fetch_dataset\n",
    "data = fetch_dataset('bike_sharing_extended_features')\n",
    "\n",
    "end_train = '2012-03-31 23:59:00'\n",
    "end_validation = '2012-08-31 23:59:00'\n",
    "data_train = data.loc[: end_train, :]\n",
    "data_val = data.loc[end_train:end_validation, :]\n",
    "data_test = data.loc[end_validation:, :]\n"
   ]
  },
  {
   "cell_type": "markdown",
   "metadata": {},
   "source": [
    "# Without Exog"
   ]
  },
  {
   "cell_type": "code",
   "execution_count": 31,
   "metadata": {},
   "outputs": [
    {
     "data": {
      "text/html": [
       "<pre style=\"white-space:pre;overflow-x:auto;line-height:normal;font-family:Menlo,'DejaVu Sans Mono',consolas,'Courier New',monospace\"><span style=\"font-weight: bold\">Model: \"functional_2\"</span>\n",
       "</pre>\n"
      ],
      "text/plain": [
       "\u001b[1mModel: \"functional_2\"\u001b[0m\n"
      ]
     },
     "metadata": {},
     "output_type": "display_data"
    },
    {
     "data": {
      "text/html": [
       "<pre style=\"white-space:pre;overflow-x:auto;line-height:normal;font-family:Menlo,'DejaVu Sans Mono',consolas,'Courier New',monospace\">┏━━━━━━━━━━━━━━━━━━━━━━━━━━━━━━━━━┳━━━━━━━━━━━━━━━━━━━━━━━━┳━━━━━━━━━━━━━━━┓\n",
       "┃<span style=\"font-weight: bold\"> Layer (type)                    </span>┃<span style=\"font-weight: bold\"> Output Shape           </span>┃<span style=\"font-weight: bold\">       Param # </span>┃\n",
       "┡━━━━━━━━━━━━━━━━━━━━━━━━━━━━━━━━━╇━━━━━━━━━━━━━━━━━━━━━━━━╇━━━━━━━━━━━━━━━┩\n",
       "│ series_input (<span style=\"color: #0087ff; text-decoration-color: #0087ff\">InputLayer</span>)       │ (<span style=\"color: #00d7ff; text-decoration-color: #00d7ff\">None</span>, <span style=\"color: #00af00; text-decoration-color: #00af00\">24</span>, <span style=\"color: #00af00; text-decoration-color: #00af00\">1</span>)          │             <span style=\"color: #00af00; text-decoration-color: #00af00\">0</span> │\n",
       "├─────────────────────────────────┼────────────────────────┼───────────────┤\n",
       "│ lstm_2 (<span style=\"color: #0087ff; text-decoration-color: #0087ff\">LSTM</span>)                   │ (<span style=\"color: #00d7ff; text-decoration-color: #00d7ff\">None</span>, <span style=\"color: #00af00; text-decoration-color: #00af00\">100</span>)            │        <span style=\"color: #00af00; text-decoration-color: #00af00\">40,800</span> │\n",
       "├─────────────────────────────────┼────────────────────────┼───────────────┤\n",
       "│ repeat_vector_2 (<span style=\"color: #0087ff; text-decoration-color: #0087ff\">RepeatVector</span>)  │ (<span style=\"color: #00d7ff; text-decoration-color: #00d7ff\">None</span>, <span style=\"color: #00af00; text-decoration-color: #00af00\">36</span>, <span style=\"color: #00af00; text-decoration-color: #00af00\">100</span>)        │             <span style=\"color: #00af00; text-decoration-color: #00af00\">0</span> │\n",
       "├─────────────────────────────────┼────────────────────────┼───────────────┤\n",
       "│ time_distributed_6              │ (<span style=\"color: #00d7ff; text-decoration-color: #00d7ff\">None</span>, <span style=\"color: #00af00; text-decoration-color: #00af00\">36</span>, <span style=\"color: #00af00; text-decoration-color: #00af00\">128</span>)        │        <span style=\"color: #00af00; text-decoration-color: #00af00\">12,928</span> │\n",
       "│ (<span style=\"color: #0087ff; text-decoration-color: #0087ff\">TimeDistributed</span>)               │                        │               │\n",
       "├─────────────────────────────────┼────────────────────────┼───────────────┤\n",
       "│ time_distributed_7              │ (<span style=\"color: #00d7ff; text-decoration-color: #00d7ff\">None</span>, <span style=\"color: #00af00; text-decoration-color: #00af00\">36</span>, <span style=\"color: #00af00; text-decoration-color: #00af00\">64</span>)         │         <span style=\"color: #00af00; text-decoration-color: #00af00\">8,256</span> │\n",
       "│ (<span style=\"color: #0087ff; text-decoration-color: #0087ff\">TimeDistributed</span>)               │                        │               │\n",
       "├─────────────────────────────────┼────────────────────────┼───────────────┤\n",
       "│ time_distributed_8              │ (<span style=\"color: #00d7ff; text-decoration-color: #00d7ff\">None</span>, <span style=\"color: #00af00; text-decoration-color: #00af00\">36</span>, <span style=\"color: #00af00; text-decoration-color: #00af00\">1</span>)          │            <span style=\"color: #00af00; text-decoration-color: #00af00\">65</span> │\n",
       "│ (<span style=\"color: #0087ff; text-decoration-color: #0087ff\">TimeDistributed</span>)               │                        │               │\n",
       "└─────────────────────────────────┴────────────────────────┴───────────────┘\n",
       "</pre>\n"
      ],
      "text/plain": [
       "┏━━━━━━━━━━━━━━━━━━━━━━━━━━━━━━━━━┳━━━━━━━━━━━━━━━━━━━━━━━━┳━━━━━━━━━━━━━━━┓\n",
       "┃\u001b[1m \u001b[0m\u001b[1mLayer (type)                   \u001b[0m\u001b[1m \u001b[0m┃\u001b[1m \u001b[0m\u001b[1mOutput Shape          \u001b[0m\u001b[1m \u001b[0m┃\u001b[1m \u001b[0m\u001b[1m      Param #\u001b[0m\u001b[1m \u001b[0m┃\n",
       "┡━━━━━━━━━━━━━━━━━━━━━━━━━━━━━━━━━╇━━━━━━━━━━━━━━━━━━━━━━━━╇━━━━━━━━━━━━━━━┩\n",
       "│ series_input (\u001b[38;5;33mInputLayer\u001b[0m)       │ (\u001b[38;5;45mNone\u001b[0m, \u001b[38;5;34m24\u001b[0m, \u001b[38;5;34m1\u001b[0m)          │             \u001b[38;5;34m0\u001b[0m │\n",
       "├─────────────────────────────────┼────────────────────────┼───────────────┤\n",
       "│ lstm_2 (\u001b[38;5;33mLSTM\u001b[0m)                   │ (\u001b[38;5;45mNone\u001b[0m, \u001b[38;5;34m100\u001b[0m)            │        \u001b[38;5;34m40,800\u001b[0m │\n",
       "├─────────────────────────────────┼────────────────────────┼───────────────┤\n",
       "│ repeat_vector_2 (\u001b[38;5;33mRepeatVector\u001b[0m)  │ (\u001b[38;5;45mNone\u001b[0m, \u001b[38;5;34m36\u001b[0m, \u001b[38;5;34m100\u001b[0m)        │             \u001b[38;5;34m0\u001b[0m │\n",
       "├─────────────────────────────────┼────────────────────────┼───────────────┤\n",
       "│ time_distributed_6              │ (\u001b[38;5;45mNone\u001b[0m, \u001b[38;5;34m36\u001b[0m, \u001b[38;5;34m128\u001b[0m)        │        \u001b[38;5;34m12,928\u001b[0m │\n",
       "│ (\u001b[38;5;33mTimeDistributed\u001b[0m)               │                        │               │\n",
       "├─────────────────────────────────┼────────────────────────┼───────────────┤\n",
       "│ time_distributed_7              │ (\u001b[38;5;45mNone\u001b[0m, \u001b[38;5;34m36\u001b[0m, \u001b[38;5;34m64\u001b[0m)         │         \u001b[38;5;34m8,256\u001b[0m │\n",
       "│ (\u001b[38;5;33mTimeDistributed\u001b[0m)               │                        │               │\n",
       "├─────────────────────────────────┼────────────────────────┼───────────────┤\n",
       "│ time_distributed_8              │ (\u001b[38;5;45mNone\u001b[0m, \u001b[38;5;34m36\u001b[0m, \u001b[38;5;34m1\u001b[0m)          │            \u001b[38;5;34m65\u001b[0m │\n",
       "│ (\u001b[38;5;33mTimeDistributed\u001b[0m)               │                        │               │\n",
       "└─────────────────────────────────┴────────────────────────┴───────────────┘\n"
      ]
     },
     "metadata": {},
     "output_type": "display_data"
    },
    {
     "data": {
      "text/html": [
       "<pre style=\"white-space:pre;overflow-x:auto;line-height:normal;font-family:Menlo,'DejaVu Sans Mono',consolas,'Courier New',monospace\"><span style=\"font-weight: bold\"> Total params: </span><span style=\"color: #00af00; text-decoration-color: #00af00\">62,049</span> (242.38 KB)\n",
       "</pre>\n"
      ],
      "text/plain": [
       "\u001b[1m Total params: \u001b[0m\u001b[38;5;34m62,049\u001b[0m (242.38 KB)\n"
      ]
     },
     "metadata": {},
     "output_type": "display_data"
    },
    {
     "data": {
      "text/html": [
       "<pre style=\"white-space:pre;overflow-x:auto;line-height:normal;font-family:Menlo,'DejaVu Sans Mono',consolas,'Courier New',monospace\"><span style=\"font-weight: bold\"> Trainable params: </span><span style=\"color: #00af00; text-decoration-color: #00af00\">62,049</span> (242.38 KB)\n",
       "</pre>\n"
      ],
      "text/plain": [
       "\u001b[1m Trainable params: \u001b[0m\u001b[38;5;34m62,049\u001b[0m (242.38 KB)\n"
      ]
     },
     "metadata": {},
     "output_type": "display_data"
    },
    {
     "data": {
      "text/html": [
       "<pre style=\"white-space:pre;overflow-x:auto;line-height:normal;font-family:Menlo,'DejaVu Sans Mono',consolas,'Courier New',monospace\"><span style=\"font-weight: bold\"> Non-trainable params: </span><span style=\"color: #00af00; text-decoration-color: #00af00\">0</span> (0.00 B)\n",
       "</pre>\n"
      ],
      "text/plain": [
       "\u001b[1m Non-trainable params: \u001b[0m\u001b[38;5;34m0\u001b[0m (0.00 B)\n"
      ]
     },
     "metadata": {},
     "output_type": "display_data"
    },
    {
     "name": "stderr",
     "output_type": "stream",
     "text": [
      "c:\\Users\\jaesc2\\Miniconda3\\envs\\skforecast_py11_2\\Lib\\site-packages\\keras\\src\\saving\\saving_lib.py:719: UserWarning: Skipping variable loading for optimizer 'adam', because it has 20 variables whereas the saved optimizer has 2 variables. \n",
      "  saveable.load_own_variables(weights_store.get(inner_path))\n"
     ]
    },
    {
     "name": "stdout",
     "output_type": "stream",
     "text": [
      "Using device: cuda\n",
      "Epoch 1/2\n",
      "\u001b[1m8/8\u001b[0m \u001b[32m━━━━━━━━━━━━━━━━━━━━\u001b[0m\u001b[37m\u001b[0m \u001b[1m9s\u001b[0m 596ms/step - loss: 0.0469\n",
      "Epoch 2/2\n",
      "\u001b[1m8/8\u001b[0m \u001b[32m━━━━━━━━━━━━━━━━━━━━\u001b[0m\u001b[37m\u001b[0m \u001b[1m5s\u001b[0m 581ms/step - loss: 0.0323\n"
     ]
    },
    {
     "data": {
      "application/vnd.jupyter.widget-view+json": {
       "model_id": "28b6e8e5fe4b49bba6e043a752cba7ed",
       "version_major": 2,
       "version_minor": 0
      },
      "text/plain": [
       "  0%|          | 0/80 [00:00<?, ?it/s]"
      ]
     },
     "metadata": {},
     "output_type": "display_data"
    },
    {
     "data": {
      "text/html": [
       "<div>\n",
       "<style scoped>\n",
       "    .dataframe tbody tr th:only-of-type {\n",
       "        vertical-align: middle;\n",
       "    }\n",
       "\n",
       "    .dataframe tbody tr th {\n",
       "        vertical-align: top;\n",
       "    }\n",
       "\n",
       "    .dataframe thead th {\n",
       "        text-align: right;\n",
       "    }\n",
       "</style>\n",
       "<table border=\"1\" class=\"dataframe\">\n",
       "  <thead>\n",
       "    <tr style=\"text-align: right;\">\n",
       "      <th></th>\n",
       "      <th>levels</th>\n",
       "      <th>mean_absolute_error</th>\n",
       "    </tr>\n",
       "  </thead>\n",
       "  <tbody>\n",
       "    <tr>\n",
       "      <th>0</th>\n",
       "      <td>users</td>\n",
       "      <td>169.796026</td>\n",
       "    </tr>\n",
       "  </tbody>\n",
       "</table>\n",
       "</div>"
      ],
      "text/plain": [
       "  levels  mean_absolute_error\n",
       "0  users           169.796026"
      ]
     },
     "execution_count": 31,
     "metadata": {},
     "output_type": "execute_result"
    }
   ],
   "source": [
    "lags = 24\n",
    "steps = 36\n",
    "levels = [\"users\"]\n",
    "activation = \"relu\"\n",
    "optimizer = keras.optimizers.Adam(learning_rate=0.01)\n",
    "loss = keras.losses.MeanSquaredError()\n",
    "recurrent_units = 100\n",
    "dense_units = [128, 64]\n",
    "\n",
    "model = create_and_compile_model(\n",
    "    series=data[levels],\n",
    "    lags=lags,\n",
    "    steps=steps,\n",
    "    levels=levels,\n",
    "    # exog=data[exog_features],\n",
    "    recurrent_units=recurrent_units,\n",
    "    dense_units=dense_units,\n",
    "    activation=activation,\n",
    "    optimizer=optimizer,\n",
    "    loss=loss,\n",
    ")\n",
    "\n",
    "model.summary()\n",
    "\n",
    "# ==============================================================================\n",
    "\n",
    "forecaster = ForecasterRnn(\n",
    "    regressor=model,\n",
    "    levels=levels,\n",
    "    fit_kwargs={\n",
    "        \"epochs\": 2,  # Number of epochs to train the model.\n",
    "        \"batch_size\": 2048,  # Batch size to train the model.\n",
    "    },\n",
    ")    \n",
    "\n",
    "\n",
    "# Backtesting model with exogenous variables on test data \n",
    "# # ============================================================================== \n",
    "from skforecast.model_selection import TimeSeriesFold, backtesting_forecaster_multiseries\n",
    " \n",
    "cv = TimeSeriesFold( steps = 36, initial_train_size = len(data[:end_validation]), refit = False, allow_incomplete_fold=False)\n",
    "metric, predictions = backtesting_forecaster_multiseries(\n",
    "    forecaster = forecaster, \n",
    "    series = data[levels], \n",
    "    # exog = data[exog_features], \n",
    "    cv = cv, \n",
    "    metric = 'mean_absolute_error'\n",
    "    )\n",
    "\n",
    "metric"
   ]
  },
  {
   "cell_type": "code",
   "execution_count": 32,
   "metadata": {},
   "outputs": [
    {
     "name": "stdout",
     "output_type": "stream",
     "text": [
      "Using device: cuda\n",
      "Epoch 1/2\n",
      "\u001b[1m9/9\u001b[0m \u001b[32m━━━━━━━━━━━━━━━━━━━━\u001b[0m\u001b[37m\u001b[0m \u001b[1m9s\u001b[0m 629ms/step - loss: 0.0549\n",
      "Epoch 2/2\n",
      "\u001b[1m9/9\u001b[0m \u001b[32m━━━━━━━━━━━━━━━━━━━━\u001b[0m\u001b[37m\u001b[0m \u001b[1m7s\u001b[0m 822ms/step - loss: 0.0356\n"
     ]
    }
   ],
   "source": [
    "forecaster.fit(series = data[levels])"
   ]
  },
  {
   "cell_type": "code",
   "execution_count": 33,
   "metadata": {},
   "outputs": [
    {
     "name": "stdout",
     "output_type": "stream",
     "text": [
      "{0: DatetimeIndex(['2011-01-09 00:00:00', '2011-01-09 01:00:00',\n",
      "               '2011-01-09 02:00:00', '2011-01-09 03:00:00',\n",
      "               '2011-01-09 04:00:00', '2011-01-09 05:00:00',\n",
      "               '2011-01-09 06:00:00', '2011-01-09 07:00:00',\n",
      "               '2011-01-09 08:00:00', '2011-01-09 09:00:00',\n",
      "               ...\n",
      "               '2012-12-29 03:00:00', '2012-12-29 04:00:00',\n",
      "               '2012-12-29 05:00:00', '2012-12-29 06:00:00',\n",
      "               '2012-12-29 07:00:00', '2012-12-29 08:00:00',\n",
      "               '2012-12-29 09:00:00', '2012-12-29 10:00:00',\n",
      "               '2012-12-29 11:00:00', '2012-12-29 12:00:00'],\n",
      "              dtype='datetime64[ns]', name='date_time', length=17293, freq='h'), 1: ['lag_1', 'lag_2', 'lag_3', 'lag_4', 'lag_5', 'lag_6', 'lag_7', 'lag_8', 'lag_9', 'lag_10', 'lag_11', 'lag_12', 'lag_13', 'lag_14', 'lag_15', 'lag_16', 'lag_17', 'lag_18', 'lag_19', 'lag_20', 'lag_21', 'lag_22', 'lag_23', 'lag_24'], 2: ['users']}\n",
      "{0: DatetimeIndex(['2011-01-09 00:00:00', '2011-01-09 01:00:00',\n",
      "               '2011-01-09 02:00:00', '2011-01-09 03:00:00',\n",
      "               '2011-01-09 04:00:00', '2011-01-09 05:00:00',\n",
      "               '2011-01-09 06:00:00', '2011-01-09 07:00:00',\n",
      "               '2011-01-09 08:00:00', '2011-01-09 09:00:00',\n",
      "               ...\n",
      "               '2012-12-29 03:00:00', '2012-12-29 04:00:00',\n",
      "               '2012-12-29 05:00:00', '2012-12-29 06:00:00',\n",
      "               '2012-12-29 07:00:00', '2012-12-29 08:00:00',\n",
      "               '2012-12-29 09:00:00', '2012-12-29 10:00:00',\n",
      "               '2012-12-29 11:00:00', '2012-12-29 12:00:00'],\n",
      "              dtype='datetime64[ns]', name='date_time', length=17293, freq='h'), 1: ['step_1', 'step_2', 'step_3', 'step_4', 'step_5', 'step_6', 'step_7', 'step_8', 'step_9', 'step_10', 'step_11', 'step_12', 'step_13', 'step_14', 'step_15', 'step_16', 'step_17', 'step_18', 'step_19', 'step_20', 'step_21', 'step_22', 'step_23', 'step_24', 'step_25', 'step_26', 'step_27', 'step_28', 'step_29', 'step_30', 'step_31', 'step_32', 'step_33', 'step_34', 'step_35', 'step_36'], 2: ['users']}\n",
      "['users']\n",
      "False\n"
     ]
    }
   ],
   "source": [
    "# print(forecaster.keras_backend)\n",
    "print(forecaster.X_train_dim_names_)\n",
    "print(forecaster.y_train_dim_names_)\n",
    "print(forecaster.series_names_in_)\n",
    "print(forecaster.exog_in_)"
   ]
  },
  {
   "cell_type": "code",
   "execution_count": 34,
   "metadata": {},
   "outputs": [
    {
     "data": {
      "text/plain": [
       "['lag_1',\n",
       " 'lag_2',\n",
       " 'lag_3',\n",
       " 'lag_4',\n",
       " 'lag_5',\n",
       " 'lag_6',\n",
       " 'lag_7',\n",
       " 'lag_8',\n",
       " 'lag_9',\n",
       " 'lag_10',\n",
       " 'lag_11',\n",
       " 'lag_12',\n",
       " 'lag_13',\n",
       " 'lag_14',\n",
       " 'lag_15',\n",
       " 'lag_16',\n",
       " 'lag_17',\n",
       " 'lag_18',\n",
       " 'lag_19',\n",
       " 'lag_20',\n",
       " 'lag_21',\n",
       " 'lag_22',\n",
       " 'lag_23',\n",
       " 'lag_24']"
      ]
     },
     "execution_count": 34,
     "metadata": {},
     "output_type": "execute_result"
    }
   ],
   "source": [
    "forecaster.X_train_dim_names_[1]"
   ]
  },
  {
   "cell_type": "code",
   "execution_count": 35,
   "metadata": {},
   "outputs": [
    {
     "data": {
      "text/plain": [
       "['users']"
      ]
     },
     "execution_count": 35,
     "metadata": {},
     "output_type": "execute_result"
    }
   ],
   "source": [
    "forecaster.y_train_dim_names_[2]"
   ]
  },
  {
   "cell_type": "code",
   "execution_count": 36,
   "metadata": {},
   "outputs": [
    {
     "data": {
      "text/plain": [
       "(array([[[0.04098361],\n",
       "         [0.02766393],\n",
       "         [0.01844262],\n",
       "         [0.01434426],\n",
       "         [0.00614754],\n",
       "         [0.00102459],\n",
       "         [0.00717213],\n",
       "         [0.01229508],\n",
       "         [0.03278689],\n",
       "         [0.07479508],\n",
       "         [0.12397541],\n",
       "         [0.13831967],\n",
       "         [0.14651639],\n",
       "         [0.17213115],\n",
       "         [0.16290984],\n",
       "         [0.14036885],\n",
       "         [0.1352459 ],\n",
       "         [0.125     ],\n",
       "         [0.12704918],\n",
       "         [0.10348361],\n",
       "         [0.0727459 ],\n",
       "         [0.04713115],\n",
       "         [0.03586066],\n",
       "         [0.04918033]]]),\n",
       " [],\n",
       " [1,\n",
       "  2,\n",
       "  3,\n",
       "  4,\n",
       "  5,\n",
       "  6,\n",
       "  7,\n",
       "  8,\n",
       "  9,\n",
       "  10,\n",
       "  11,\n",
       "  12,\n",
       "  13,\n",
       "  14,\n",
       "  15,\n",
       "  16,\n",
       "  17,\n",
       "  18,\n",
       "  19,\n",
       "  20,\n",
       "  21,\n",
       "  22,\n",
       "  23,\n",
       "  24,\n",
       "  25,\n",
       "  26,\n",
       "  27,\n",
       "  28,\n",
       "  29,\n",
       "  30,\n",
       "  31,\n",
       "  32,\n",
       "  33,\n",
       "  34,\n",
       "  35,\n",
       "  36],\n",
       " ['users'],\n",
       " DatetimeIndex(['2012-12-31 00:00:00', '2012-12-31 01:00:00',\n",
       "                '2012-12-31 02:00:00', '2012-12-31 03:00:00',\n",
       "                '2012-12-31 04:00:00', '2012-12-31 05:00:00',\n",
       "                '2012-12-31 06:00:00', '2012-12-31 07:00:00',\n",
       "                '2012-12-31 08:00:00', '2012-12-31 09:00:00',\n",
       "                '2012-12-31 10:00:00', '2012-12-31 11:00:00',\n",
       "                '2012-12-31 12:00:00', '2012-12-31 13:00:00',\n",
       "                '2012-12-31 14:00:00', '2012-12-31 15:00:00',\n",
       "                '2012-12-31 16:00:00', '2012-12-31 17:00:00',\n",
       "                '2012-12-31 18:00:00', '2012-12-31 19:00:00',\n",
       "                '2012-12-31 20:00:00', '2012-12-31 21:00:00',\n",
       "                '2012-12-31 22:00:00', '2012-12-31 23:00:00',\n",
       "                '2013-01-01 00:00:00', '2013-01-01 01:00:00',\n",
       "                '2013-01-01 02:00:00', '2013-01-01 03:00:00',\n",
       "                '2013-01-01 04:00:00', '2013-01-01 05:00:00',\n",
       "                '2013-01-01 06:00:00', '2013-01-01 07:00:00',\n",
       "                '2013-01-01 08:00:00', '2013-01-01 09:00:00',\n",
       "                '2013-01-01 10:00:00', '2013-01-01 11:00:00'],\n",
       "               dtype='datetime64[ns]', freq=None))"
      ]
     },
     "execution_count": 36,
     "metadata": {},
     "output_type": "execute_result"
    }
   ],
   "source": [
    "forecaster._create_predict_inputs()"
   ]
  },
  {
   "cell_type": "code",
   "execution_count": null,
   "metadata": {},
   "outputs": [],
   "source": []
  },
  {
   "cell_type": "markdown",
   "metadata": {},
   "source": [
    "# With Exog Features"
   ]
  },
  {
   "cell_type": "code",
   "execution_count": 18,
   "metadata": {},
   "outputs": [],
   "source": [
    "exog_features = [ 'month_sin', 'month_cos', 'week_of_year_sin', 'week_of_year_cos', 'week_day_sin', 'week_day_cos', 'hour_day_sin', 'hour_day_cos', 'sunrise_hour_sin', 'sunrise_hour_cos', 'sunset_hour_sin', 'sunset_hour_cos', 'holiday_previous_day', 'holiday_next_day', 'temp_roll_mean_1_day', 'temp_roll_mean_7_day', 'temp_roll_max_1_day', 'temp_roll_min_1_day', 'temp_roll_max_7_day', 'temp_roll_min_7_day', 'temp', 'holiday' ]"
   ]
  },
  {
   "cell_type": "code",
   "execution_count": 19,
   "metadata": {},
   "outputs": [
    {
     "data": {
      "text/html": [
       "<pre style=\"white-space:pre;overflow-x:auto;line-height:normal;font-family:Menlo,'DejaVu Sans Mono',consolas,'Courier New',monospace\"><span style=\"font-weight: bold\">Model: \"functional_1\"</span>\n",
       "</pre>\n"
      ],
      "text/plain": [
       "\u001b[1mModel: \"functional_1\"\u001b[0m\n"
      ]
     },
     "metadata": {},
     "output_type": "display_data"
    },
    {
     "data": {
      "text/html": [
       "<pre style=\"white-space:pre;overflow-x:auto;line-height:normal;font-family:Menlo,'DejaVu Sans Mono',consolas,'Courier New',monospace\">┏━━━━━━━━━━━━━━━━━━━━━┳━━━━━━━━━━━━━━━━━━━┳━━━━━━━━━━━━┳━━━━━━━━━━━━━━━━━━━┓\n",
       "┃<span style=\"font-weight: bold\"> Layer (type)        </span>┃<span style=\"font-weight: bold\"> Output Shape      </span>┃<span style=\"font-weight: bold\">    Param # </span>┃<span style=\"font-weight: bold\"> Connected to      </span>┃\n",
       "┡━━━━━━━━━━━━━━━━━━━━━╇━━━━━━━━━━━━━━━━━━━╇━━━━━━━━━━━━╇━━━━━━━━━━━━━━━━━━━┩\n",
       "│ series_input        │ (<span style=\"color: #00d7ff; text-decoration-color: #00d7ff\">None</span>, <span style=\"color: #00af00; text-decoration-color: #00af00\">24</span>, <span style=\"color: #00af00; text-decoration-color: #00af00\">1</span>)     │          <span style=\"color: #00af00; text-decoration-color: #00af00\">0</span> │ -                 │\n",
       "│ (<span style=\"color: #0087ff; text-decoration-color: #0087ff\">InputLayer</span>)        │                   │            │                   │\n",
       "├─────────────────────┼───────────────────┼────────────┼───────────────────┤\n",
       "│ lstm_1 (<span style=\"color: #0087ff; text-decoration-color: #0087ff\">LSTM</span>)       │ (<span style=\"color: #00d7ff; text-decoration-color: #00d7ff\">None</span>, <span style=\"color: #00af00; text-decoration-color: #00af00\">100</span>)       │     <span style=\"color: #00af00; text-decoration-color: #00af00\">40,800</span> │ series_input[<span style=\"color: #00af00; text-decoration-color: #00af00\">0</span>][<span style=\"color: #00af00; text-decoration-color: #00af00\">…</span> │\n",
       "├─────────────────────┼───────────────────┼────────────┼───────────────────┤\n",
       "│ repeat_vector_1     │ (<span style=\"color: #00d7ff; text-decoration-color: #00d7ff\">None</span>, <span style=\"color: #00af00; text-decoration-color: #00af00\">36</span>, <span style=\"color: #00af00; text-decoration-color: #00af00\">100</span>)   │          <span style=\"color: #00af00; text-decoration-color: #00af00\">0</span> │ lstm_1[<span style=\"color: #00af00; text-decoration-color: #00af00\">0</span>][<span style=\"color: #00af00; text-decoration-color: #00af00\">0</span>]      │\n",
       "│ (<span style=\"color: #0087ff; text-decoration-color: #0087ff\">RepeatVector</span>)      │                   │            │                   │\n",
       "├─────────────────────┼───────────────────┼────────────┼───────────────────┤\n",
       "│ exog_input          │ (<span style=\"color: #00d7ff; text-decoration-color: #00d7ff\">None</span>, <span style=\"color: #00af00; text-decoration-color: #00af00\">36</span>, <span style=\"color: #00af00; text-decoration-color: #00af00\">22</span>)    │          <span style=\"color: #00af00; text-decoration-color: #00af00\">0</span> │ -                 │\n",
       "│ (<span style=\"color: #0087ff; text-decoration-color: #0087ff\">InputLayer</span>)        │                   │            │                   │\n",
       "├─────────────────────┼───────────────────┼────────────┼───────────────────┤\n",
       "│ concatenate         │ (<span style=\"color: #00d7ff; text-decoration-color: #00d7ff\">None</span>, <span style=\"color: #00af00; text-decoration-color: #00af00\">36</span>, <span style=\"color: #00af00; text-decoration-color: #00af00\">122</span>)   │          <span style=\"color: #00af00; text-decoration-color: #00af00\">0</span> │ repeat_vector_1[<span style=\"color: #00af00; text-decoration-color: #00af00\">…</span> │\n",
       "│ (<span style=\"color: #0087ff; text-decoration-color: #0087ff\">Concatenate</span>)       │                   │            │ exog_input[<span style=\"color: #00af00; text-decoration-color: #00af00\">0</span>][<span style=\"color: #00af00; text-decoration-color: #00af00\">0</span>]  │\n",
       "├─────────────────────┼───────────────────┼────────────┼───────────────────┤\n",
       "│ time_distributed_3  │ (<span style=\"color: #00d7ff; text-decoration-color: #00d7ff\">None</span>, <span style=\"color: #00af00; text-decoration-color: #00af00\">36</span>, <span style=\"color: #00af00; text-decoration-color: #00af00\">128</span>)   │     <span style=\"color: #00af00; text-decoration-color: #00af00\">15,744</span> │ concatenate[<span style=\"color: #00af00; text-decoration-color: #00af00\">0</span>][<span style=\"color: #00af00; text-decoration-color: #00af00\">0</span>] │\n",
       "│ (<span style=\"color: #0087ff; text-decoration-color: #0087ff\">TimeDistributed</span>)   │                   │            │                   │\n",
       "├─────────────────────┼───────────────────┼────────────┼───────────────────┤\n",
       "│ time_distributed_4  │ (<span style=\"color: #00d7ff; text-decoration-color: #00d7ff\">None</span>, <span style=\"color: #00af00; text-decoration-color: #00af00\">36</span>, <span style=\"color: #00af00; text-decoration-color: #00af00\">64</span>)    │      <span style=\"color: #00af00; text-decoration-color: #00af00\">8,256</span> │ time_distributed… │\n",
       "│ (<span style=\"color: #0087ff; text-decoration-color: #0087ff\">TimeDistributed</span>)   │                   │            │                   │\n",
       "├─────────────────────┼───────────────────┼────────────┼───────────────────┤\n",
       "│ time_distributed_5  │ (<span style=\"color: #00d7ff; text-decoration-color: #00d7ff\">None</span>, <span style=\"color: #00af00; text-decoration-color: #00af00\">36</span>, <span style=\"color: #00af00; text-decoration-color: #00af00\">1</span>)     │         <span style=\"color: #00af00; text-decoration-color: #00af00\">65</span> │ time_distributed… │\n",
       "│ (<span style=\"color: #0087ff; text-decoration-color: #0087ff\">TimeDistributed</span>)   │                   │            │                   │\n",
       "└─────────────────────┴───────────────────┴────────────┴───────────────────┘\n",
       "</pre>\n"
      ],
      "text/plain": [
       "┏━━━━━━━━━━━━━━━━━━━━━┳━━━━━━━━━━━━━━━━━━━┳━━━━━━━━━━━━┳━━━━━━━━━━━━━━━━━━━┓\n",
       "┃\u001b[1m \u001b[0m\u001b[1mLayer (type)       \u001b[0m\u001b[1m \u001b[0m┃\u001b[1m \u001b[0m\u001b[1mOutput Shape     \u001b[0m\u001b[1m \u001b[0m┃\u001b[1m \u001b[0m\u001b[1m   Param #\u001b[0m\u001b[1m \u001b[0m┃\u001b[1m \u001b[0m\u001b[1mConnected to     \u001b[0m\u001b[1m \u001b[0m┃\n",
       "┡━━━━━━━━━━━━━━━━━━━━━╇━━━━━━━━━━━━━━━━━━━╇━━━━━━━━━━━━╇━━━━━━━━━━━━━━━━━━━┩\n",
       "│ series_input        │ (\u001b[38;5;45mNone\u001b[0m, \u001b[38;5;34m24\u001b[0m, \u001b[38;5;34m1\u001b[0m)     │          \u001b[38;5;34m0\u001b[0m │ -                 │\n",
       "│ (\u001b[38;5;33mInputLayer\u001b[0m)        │                   │            │                   │\n",
       "├─────────────────────┼───────────────────┼────────────┼───────────────────┤\n",
       "│ lstm_1 (\u001b[38;5;33mLSTM\u001b[0m)       │ (\u001b[38;5;45mNone\u001b[0m, \u001b[38;5;34m100\u001b[0m)       │     \u001b[38;5;34m40,800\u001b[0m │ series_input[\u001b[38;5;34m0\u001b[0m][\u001b[38;5;34m…\u001b[0m │\n",
       "├─────────────────────┼───────────────────┼────────────┼───────────────────┤\n",
       "│ repeat_vector_1     │ (\u001b[38;5;45mNone\u001b[0m, \u001b[38;5;34m36\u001b[0m, \u001b[38;5;34m100\u001b[0m)   │          \u001b[38;5;34m0\u001b[0m │ lstm_1[\u001b[38;5;34m0\u001b[0m][\u001b[38;5;34m0\u001b[0m]      │\n",
       "│ (\u001b[38;5;33mRepeatVector\u001b[0m)      │                   │            │                   │\n",
       "├─────────────────────┼───────────────────┼────────────┼───────────────────┤\n",
       "│ exog_input          │ (\u001b[38;5;45mNone\u001b[0m, \u001b[38;5;34m36\u001b[0m, \u001b[38;5;34m22\u001b[0m)    │          \u001b[38;5;34m0\u001b[0m │ -                 │\n",
       "│ (\u001b[38;5;33mInputLayer\u001b[0m)        │                   │            │                   │\n",
       "├─────────────────────┼───────────────────┼────────────┼───────────────────┤\n",
       "│ concatenate         │ (\u001b[38;5;45mNone\u001b[0m, \u001b[38;5;34m36\u001b[0m, \u001b[38;5;34m122\u001b[0m)   │          \u001b[38;5;34m0\u001b[0m │ repeat_vector_1[\u001b[38;5;34m…\u001b[0m │\n",
       "│ (\u001b[38;5;33mConcatenate\u001b[0m)       │                   │            │ exog_input[\u001b[38;5;34m0\u001b[0m][\u001b[38;5;34m0\u001b[0m]  │\n",
       "├─────────────────────┼───────────────────┼────────────┼───────────────────┤\n",
       "│ time_distributed_3  │ (\u001b[38;5;45mNone\u001b[0m, \u001b[38;5;34m36\u001b[0m, \u001b[38;5;34m128\u001b[0m)   │     \u001b[38;5;34m15,744\u001b[0m │ concatenate[\u001b[38;5;34m0\u001b[0m][\u001b[38;5;34m0\u001b[0m] │\n",
       "│ (\u001b[38;5;33mTimeDistributed\u001b[0m)   │                   │            │                   │\n",
       "├─────────────────────┼───────────────────┼────────────┼───────────────────┤\n",
       "│ time_distributed_4  │ (\u001b[38;5;45mNone\u001b[0m, \u001b[38;5;34m36\u001b[0m, \u001b[38;5;34m64\u001b[0m)    │      \u001b[38;5;34m8,256\u001b[0m │ time_distributed… │\n",
       "│ (\u001b[38;5;33mTimeDistributed\u001b[0m)   │                   │            │                   │\n",
       "├─────────────────────┼───────────────────┼────────────┼───────────────────┤\n",
       "│ time_distributed_5  │ (\u001b[38;5;45mNone\u001b[0m, \u001b[38;5;34m36\u001b[0m, \u001b[38;5;34m1\u001b[0m)     │         \u001b[38;5;34m65\u001b[0m │ time_distributed… │\n",
       "│ (\u001b[38;5;33mTimeDistributed\u001b[0m)   │                   │            │                   │\n",
       "└─────────────────────┴───────────────────┴────────────┴───────────────────┘\n"
      ]
     },
     "metadata": {},
     "output_type": "display_data"
    },
    {
     "data": {
      "text/html": [
       "<pre style=\"white-space:pre;overflow-x:auto;line-height:normal;font-family:Menlo,'DejaVu Sans Mono',consolas,'Courier New',monospace\"><span style=\"font-weight: bold\"> Total params: </span><span style=\"color: #00af00; text-decoration-color: #00af00\">64,865</span> (253.38 KB)\n",
       "</pre>\n"
      ],
      "text/plain": [
       "\u001b[1m Total params: \u001b[0m\u001b[38;5;34m64,865\u001b[0m (253.38 KB)\n"
      ]
     },
     "metadata": {},
     "output_type": "display_data"
    },
    {
     "data": {
      "text/html": [
       "<pre style=\"white-space:pre;overflow-x:auto;line-height:normal;font-family:Menlo,'DejaVu Sans Mono',consolas,'Courier New',monospace\"><span style=\"font-weight: bold\"> Trainable params: </span><span style=\"color: #00af00; text-decoration-color: #00af00\">64,865</span> (253.38 KB)\n",
       "</pre>\n"
      ],
      "text/plain": [
       "\u001b[1m Trainable params: \u001b[0m\u001b[38;5;34m64,865\u001b[0m (253.38 KB)\n"
      ]
     },
     "metadata": {},
     "output_type": "display_data"
    },
    {
     "data": {
      "text/html": [
       "<pre style=\"white-space:pre;overflow-x:auto;line-height:normal;font-family:Menlo,'DejaVu Sans Mono',consolas,'Courier New',monospace\"><span style=\"font-weight: bold\"> Non-trainable params: </span><span style=\"color: #00af00; text-decoration-color: #00af00\">0</span> (0.00 B)\n",
       "</pre>\n"
      ],
      "text/plain": [
       "\u001b[1m Non-trainable params: \u001b[0m\u001b[38;5;34m0\u001b[0m (0.00 B)\n"
      ]
     },
     "metadata": {},
     "output_type": "display_data"
    },
    {
     "name": "stderr",
     "output_type": "stream",
     "text": [
      "c:\\Users\\jaesc2\\Miniconda3\\envs\\skforecast_py11_2\\Lib\\site-packages\\keras\\src\\saving\\saving_lib.py:719: UserWarning: Skipping variable loading for optimizer 'adam', because it has 20 variables whereas the saved optimizer has 2 variables. \n",
      "  saveable.load_own_variables(weights_store.get(inner_path))\n"
     ]
    }
   ],
   "source": [
    "lags = 24\n",
    "steps = 36\n",
    "levels = [\"users\"]\n",
    "activation = \"relu\"\n",
    "# optimizer = keras.optimizers.Adam(learning_rate=0.01)\n",
    "loss = keras.losses.MeanSquaredError()\n",
    "recurrent_units = 100\n",
    "dense_units = [128, 64]\n",
    "\n",
    "model = create_and_compile_model(\n",
    "    series=data[levels],\n",
    "    lags=lags,\n",
    "    steps=steps,\n",
    "    levels=levels,\n",
    "    exog=data[exog_features],\n",
    "    recurrent_units=recurrent_units,\n",
    "    dense_units=dense_units,\n",
    "    activation=activation,\n",
    "    # optimizer=optimizer,\n",
    "    loss=loss,\n",
    ")\n",
    "\n",
    "model.summary()\n",
    "\n",
    "# ==============================================================================\n",
    "\n",
    "forecaster = ForecasterRnn(\n",
    "    regressor=model,\n",
    "    levels=levels,\n",
    "    fit_kwargs={\n",
    "        \"epochs\": 2,  # Number of epochs to train the model.\n",
    "        \"batch_size\": 2048,  # Batch size to train the model.\n",
    "    },\n",
    ")    \n",
    "\n"
   ]
  },
  {
   "cell_type": "code",
   "execution_count": 20,
   "metadata": {},
   "outputs": [
    {
     "name": "stdout",
     "output_type": "stream",
     "text": [
      "Epoch 1/2\n"
     ]
    },
    {
     "name": "stderr",
     "output_type": "stream",
     "text": [
      "c:\\Users\\jaesc2\\Miniconda3\\envs\\skforecast_py11_2\\Lib\\site-packages\\keras\\src\\models\\functional.py:225: UserWarning: The structure of `inputs` doesn't match the expected structure: ['series_input', 'exog_input']. Received: the structure of inputs=('*', '*')\n",
      "  warnings.warn(\n"
     ]
    },
    {
     "name": "stdout",
     "output_type": "stream",
     "text": [
      "\u001b[1m9/9\u001b[0m \u001b[32m━━━━━━━━━━━━━━━━━━━━\u001b[0m\u001b[37m\u001b[0m \u001b[1m8s\u001b[0m 587ms/step - loss: 0.0738\n",
      "Epoch 2/2\n",
      "\u001b[1m9/9\u001b[0m \u001b[32m━━━━━━━━━━━━━━━━━━━━\u001b[0m\u001b[37m\u001b[0m \u001b[1m6s\u001b[0m 614ms/step - loss: 0.0362\n"
     ]
    }
   ],
   "source": [
    "forecaster.fit(series = data[levels], exog = data[exog_features])"
   ]
  },
  {
   "cell_type": "code",
   "execution_count": 30,
   "metadata": {},
   "outputs": [
    {
     "name": "stdout",
     "output_type": "stream",
     "text": [
      "DatetimeIndex(['2011-01-09 00:00:00', '2011-01-09 01:00:00',\n",
      "               '2011-01-09 02:00:00', '2011-01-09 03:00:00',\n",
      "               '2011-01-09 04:00:00', '2011-01-09 05:00:00',\n",
      "               '2011-01-09 06:00:00', '2011-01-09 07:00:00',\n",
      "               '2011-01-09 08:00:00', '2011-01-09 09:00:00',\n",
      "               ...\n",
      "               '2012-12-29 03:00:00', '2012-12-29 04:00:00',\n",
      "               '2012-12-29 05:00:00', '2012-12-29 06:00:00',\n",
      "               '2012-12-29 07:00:00', '2012-12-29 08:00:00',\n",
      "               '2012-12-29 09:00:00', '2012-12-29 10:00:00',\n",
      "               '2012-12-29 11:00:00', '2012-12-29 12:00:00'],\n",
      "              dtype='datetime64[ns]', name='date_time', length=17293, freq='h')\n"
     ]
    },
    {
     "data": {
      "text/plain": [
       "array([[[0.02459016],\n",
       "        [0.01127049],\n",
       "        [0.0102459 ],\n",
       "        ...,\n",
       "        [0.09528689],\n",
       "        [0.0307377 ],\n",
       "        [0.02971311]],\n",
       "\n",
       "       [[0.01127049],\n",
       "        [0.0102459 ],\n",
       "        [0.00307377],\n",
       "        ...,\n",
       "        [0.0307377 ],\n",
       "        [0.02971311],\n",
       "        [0.0522541 ]],\n",
       "\n",
       "       [[0.0102459 ],\n",
       "        [0.00307377],\n",
       "        [0.        ],\n",
       "        ...,\n",
       "        [0.02971311],\n",
       "        [0.0522541 ],\n",
       "        [0.05430328]],\n",
       "\n",
       "       ...,\n",
       "\n",
       "       [[0.04098361],\n",
       "        [0.04508197],\n",
       "        [0.04815574],\n",
       "        ...,\n",
       "        [0.10348361],\n",
       "        [0.0727459 ],\n",
       "        [0.04713115]],\n",
       "\n",
       "       [[0.04508197],\n",
       "        [0.04815574],\n",
       "        [0.08504098],\n",
       "        ...,\n",
       "        [0.0727459 ],\n",
       "        [0.04713115],\n",
       "        [0.03586066]],\n",
       "\n",
       "       [[0.04815574],\n",
       "        [0.08504098],\n",
       "        [0.09938525],\n",
       "        ...,\n",
       "        [0.04713115],\n",
       "        [0.03586066],\n",
       "        [0.04918033]]], shape=(17293, 36, 1))"
      ]
     },
     "execution_count": 30,
     "metadata": {},
     "output_type": "execute_result"
    }
   ],
   "source": [
    "forecaster.create_train_X_y(series = data[levels], exog = data[exog_features])[2]"
   ]
  },
  {
   "cell_type": "code",
   "execution_count": null,
   "metadata": {},
   "outputs": [],
   "source": [
    "forecaster._create_predict_inputs(series = data[levels], exog = data[exog_features])[2]"
   ]
  },
  {
   "cell_type": "code",
   "execution_count": 25,
   "metadata": {},
   "outputs": [
    {
     "name": "stdout",
     "output_type": "stream",
     "text": [
      "tensorflow\n",
      "['users']\n",
      "['users']\n",
      "['month_sin', 'month_cos', 'week_of_year_sin', 'week_of_year_cos', 'week_day_sin', 'week_day_cos', 'hour_day_sin', 'hour_day_cos', 'sunrise_hour_sin', 'sunrise_hour_cos', 'sunset_hour_sin', 'sunset_hour_cos', 'holiday_previous_day', 'holiday_next_day', 'temp_roll_mean_1_day', 'temp_roll_mean_7_day', 'temp_roll_max_1_day', 'temp_roll_min_1_day', 'temp_roll_max_7_day', 'temp_roll_min_7_day', 'temp', 'holiday']\n",
      "['users']\n",
      "True\n"
     ]
    }
   ],
   "source": [
    "key = 2\n",
    "\n",
    "print(forecaster.keras_backend)\n",
    "print(forecaster.X_train_dim_names_[key])\n",
    "print(forecaster.y_train_dim_names_[key])\n",
    "print(forecaster.exog_train_dim_names_[key])\n",
    "print(forecaster.series_names_in_)\n",
    "print(forecaster.exog_in_)"
   ]
  },
  {
   "cell_type": "code",
   "execution_count": 26,
   "metadata": {},
   "outputs": [
    {
     "data": {
      "text/plain": [
       "{1: array([[-0.06500238],\n",
       "        [-0.0714306 ],\n",
       "        [-0.06677454],\n",
       "        ...,\n",
       "        [-0.07362577],\n",
       "        [-0.07212345],\n",
       "        [-0.07297853]], shape=(17293, 1)),\n",
       " 2: array([[-0.07144733],\n",
       "        [-0.06680337],\n",
       "        [-0.07019052],\n",
       "        ...,\n",
       "        [-0.07211882],\n",
       "        [-0.07297212],\n",
       "        [-0.04094816]], shape=(17293, 1)),\n",
       " 3: array([[-0.06681903],\n",
       "        [-0.07021936],\n",
       "        [-0.07019781],\n",
       "        ...,\n",
       "        [-0.0729673 ],\n",
       "        [-0.04094798],\n",
       "        [-0.03463231]], shape=(17293, 1)),\n",
       " 4: array([[-0.07023501],\n",
       "        [-0.07022664],\n",
       "        [-0.06981433],\n",
       "        ...,\n",
       "        [-0.04094875],\n",
       "        [-0.03463169],\n",
       "        [-0.00712099]], shape=(17293, 1)),\n",
       " 5: array([[-0.07024227],\n",
       "        [-0.06984409],\n",
       "        [-0.0719807 ],\n",
       "        ...,\n",
       "        [-0.03463212],\n",
       "        [-0.00712109],\n",
       "        [ 0.0032284 ]], shape=(17293, 1)),\n",
       " 6: array([[-0.06986038],\n",
       "        [-0.07201028],\n",
       "        [-0.0698631 ],\n",
       "        ...,\n",
       "        [-0.00712248],\n",
       "        [ 0.00322837],\n",
       "        [-0.02413592]], shape=(17293, 1)),\n",
       " 7: array([[-0.07202657],\n",
       "        [-0.06989264],\n",
       "        [-0.07171298],\n",
       "        ...,\n",
       "        [ 0.0032267 ],\n",
       "        [-0.024136  ],\n",
       "        [-0.0336825 ]], shape=(17293, 1)),\n",
       " 8: array([[-0.06990888],\n",
       "        [-0.07173604],\n",
       "        [-0.0678696 ],\n",
       "        ...,\n",
       "        [-0.02413777],\n",
       "        [-0.03367767],\n",
       "        [-0.04172905]], shape=(17293, 1)),\n",
       " 9: array([[-0.07174862],\n",
       "        [-0.06789412],\n",
       "        [-0.0429862 ],\n",
       "        ...,\n",
       "        [-0.03367493],\n",
       "        [-0.0417234 ],\n",
       "        [-0.06629085]], shape=(17293, 1)),\n",
       " 10: array([[-0.06790779],\n",
       "        [-0.04300814],\n",
       "        [-0.04958995],\n",
       "        ...,\n",
       "        [-0.04171993],\n",
       "        [-0.06628522],\n",
       "        [-0.06231384]], shape=(17293, 1)),\n",
       " 11: array([[-0.04302063],\n",
       "        [-0.0496136 ],\n",
       "        [-0.02230646],\n",
       "        ...,\n",
       "        [-0.06628176],\n",
       "        [-0.06230727],\n",
       "        [-0.05764654]], shape=(17293, 1)),\n",
       " 12: array([[-0.04962708],\n",
       "        [-0.02233003],\n",
       "        [-0.03670645],\n",
       "        ...,\n",
       "        [-0.0623031 ],\n",
       "        [-0.05763937],\n",
       "        [-0.07009836]], shape=(17293, 1)),\n",
       " 13: array([[-0.02234322],\n",
       "        [-0.03673412],\n",
       "        [-0.04481814],\n",
       "        ...,\n",
       "        [-0.05763465],\n",
       "        [-0.07009137],\n",
       "        [-0.05665217]], shape=(17293, 1)),\n",
       " 14: array([[-0.03674963],\n",
       "        [-0.04484268],\n",
       "        [-0.03880679],\n",
       "        ...,\n",
       "        [-0.07008679],\n",
       "        [-0.05664661],\n",
       "        [-0.06227803]], shape=(17293, 1)),\n",
       " 15: array([[-0.0448563 ],\n",
       "        [-0.03882716],\n",
       "        [-0.03181333],\n",
       "        ...,\n",
       "        [-0.05664324],\n",
       "        [-0.06226599],\n",
       "        [-0.06628572]], shape=(17293, 1)),\n",
       " 16: array([[-0.03883768],\n",
       "        [-0.03182294],\n",
       "        [-0.06399636],\n",
       "        ...,\n",
       "        [-0.06225674],\n",
       "        [-0.06627359],\n",
       "        [-0.06722568]], shape=(17293, 1)),\n",
       " 17: array([[-0.03182768],\n",
       "        [-0.06400828],\n",
       "        [-0.07712941],\n",
       "        ...,\n",
       "        [-0.06626422],\n",
       "        [-0.0672138 ],\n",
       "        [-0.07415142]], shape=(17293, 1)),\n",
       " 18: array([[-0.06401424],\n",
       "        [-0.07714088],\n",
       "        [-0.08038283],\n",
       "        ...,\n",
       "        [-0.06720465],\n",
       "        [-0.07413955],\n",
       "        [-0.08029385]], shape=(17293, 1)),\n",
       " 19: array([[-0.07714661],\n",
       "        [-0.08039431],\n",
       "        [-0.07594874],\n",
       "        ...,\n",
       "        [-0.07413039],\n",
       "        [-0.08028087],\n",
       "        [-0.07625714]], shape=(17293, 1)),\n",
       " 20: array([[-0.0804    ],\n",
       "        [-0.07596001],\n",
       "        [-0.08582298],\n",
       "        ...,\n",
       "        [-0.08027075],\n",
       "        [-0.07624484],\n",
       "        [-0.07576484]], shape=(17293, 1)),\n",
       " 21: array([[-0.07596537],\n",
       "        [-0.08583496],\n",
       "        [-0.08346315],\n",
       "        ...,\n",
       "        [-0.07623524],\n",
       "        [-0.07575254],\n",
       "        [-0.06244609]], shape=(17293, 1)),\n",
       " 22: array([[-0.08584074],\n",
       "        [-0.08349272],\n",
       "        [-0.0848947 ],\n",
       "        ...,\n",
       "        [-0.07574295],\n",
       "        [-0.06243469],\n",
       "        [-0.02840178]], shape=(17293, 1)),\n",
       " 23: array([[-0.08350874],\n",
       "        [-0.0849243 ],\n",
       "        [-0.06632874],\n",
       "        ...,\n",
       "        [-0.06242545],\n",
       "        [-0.02839039],\n",
       "        [ 0.01267514]], shape=(17293, 1)),\n",
       " 24: array([[-0.08494032],\n",
       "        [-0.06635802],\n",
       "        [-0.06360199],\n",
       "        ...,\n",
       "        [-0.02838114],\n",
       "        [ 0.01268594],\n",
       "        [ 0.02061237]], shape=(17293, 1)),\n",
       " 25: array([[-0.06637336],\n",
       "        [-0.06363124],\n",
       "        [-0.05652525],\n",
       "        ...,\n",
       "        [ 0.01269464],\n",
       "        [ 0.02062315],\n",
       "        [ 0.02195106]], shape=(17293, 1)),\n",
       " 26: array([[-0.06364659],\n",
       "        [-0.05655426],\n",
       "        [-0.05582966],\n",
       "        ...,\n",
       "        [ 0.02063187],\n",
       "        [ 0.02196219],\n",
       "        [ 0.03886269]], shape=(17293, 1)),\n",
       " 27: array([[-0.05656951],\n",
       "        [-0.05585171],\n",
       "        [-0.05092843],\n",
       "        ...,\n",
       "        [ 0.02197113],\n",
       "        [ 0.03886628],\n",
       "        [ 0.02164382]], shape=(17293, 1)),\n",
       " 28: array([[-0.05586323],\n",
       "        [-0.05095049],\n",
       "        [-0.05099002],\n",
       "        ...,\n",
       "        [ 0.03886836],\n",
       "        [ 0.02164775],\n",
       "        [-0.00540858]], shape=(17293, 1)),\n",
       " 29: array([[-0.05096201],\n",
       "        [-0.05101209],\n",
       "        [-0.02508199],\n",
       "        ...,\n",
       "        [ 0.02164957],\n",
       "        [-0.0054042 ],\n",
       "        [-0.01400437]], shape=(17293, 1)),\n",
       " 30: array([[-0.0510236 ],\n",
       "        [-0.02511279],\n",
       "        [ 0.01986944],\n",
       "        ...,\n",
       "        [-0.00540203],\n",
       "        [-0.01400002],\n",
       "        [-0.02375439]], shape=(17293, 1)),\n",
       " 31: array([[-0.02513005],\n",
       "        [ 0.01983803],\n",
       "        [ 0.13045205],\n",
       "        ...,\n",
       "        [-0.01399781],\n",
       "        [-0.02374902],\n",
       "        [-0.01918337]], shape=(17293, 1)),\n",
       " 32: array([[ 0.01982056],\n",
       "        [ 0.13042915],\n",
       "        [ 0.02849002],\n",
       "        ...,\n",
       "        [-0.02374609],\n",
       "        [-0.01917821],\n",
       "        [-0.04513757]], shape=(17293, 1)),\n",
       " 33: array([[ 0.13041706],\n",
       "        [ 0.0284671 ],\n",
       "        [-0.04112177],\n",
       "        ...,\n",
       "        [-0.01917536],\n",
       "        [-0.04513241],\n",
       "        [-0.06223646]], shape=(17293, 1)),\n",
       " 34: array([[ 0.02845502],\n",
       "        [-0.04114355],\n",
       "        [-0.04905441],\n",
       "        ...,\n",
       "        [-0.04512958],\n",
       "        [-0.06223069],\n",
       "        [-0.07688119]], shape=(17293, 1)),\n",
       " 35: array([[-0.04115485],\n",
       "        [-0.04907771],\n",
       "        [-0.03510319],\n",
       "        ...,\n",
       "        [-0.06222733],\n",
       "        [-0.07687602],\n",
       "        [-0.07862251]], shape=(17293, 1)),\n",
       " 36: array([[-0.04908987],\n",
       "        [-0.03512624],\n",
       "        [-0.0396603 ],\n",
       "        ...,\n",
       "        [-0.07687311],\n",
       "        [-0.07861667],\n",
       "        [-0.05552282]], shape=(17293, 1))}"
      ]
     },
     "execution_count": 26,
     "metadata": {},
     "output_type": "execute_result"
    }
   ],
   "source": [
    "forecaster.in_sample_residuals_"
   ]
  },
  {
   "cell_type": "code",
   "execution_count": null,
   "metadata": {},
   "outputs": [],
   "source": [
    "\n",
    "# Backtesting model with exogenous variables on test data \n",
    "# # ============================================================================== \n",
    "from skforecast.model_selection import TimeSeriesFold, backtesting_forecaster_multiseries\n",
    " \n",
    "cv = TimeSeriesFold(steps = 36, initial_train_size = len(data[:end_validation]), refit = False, allow_incomplete_fold=False)\n",
    "metric, predictions = backtesting_forecaster_multiseries( forecaster = forecaster, series = data[levels], exog = data[exog_features], cv = cv, metric = 'mean_absolute_error' )\n",
    "\n",
    "metric"
   ]
  },
  {
   "cell_type": "code",
   "execution_count": null,
   "metadata": {},
   "outputs": [],
   "source": []
  }
 ],
 "metadata": {
  "kernelspec": {
   "display_name": "skforecast_py11_2",
   "language": "python",
   "name": "python3"
  },
  "language_info": {
   "codemirror_mode": {
    "name": "ipython",
    "version": 3
   },
   "file_extension": ".py",
   "mimetype": "text/x-python",
   "name": "python",
   "nbconvert_exporter": "python",
   "pygments_lexer": "ipython3",
   "version": "3.11.10"
  }
 },
 "nbformat": 4,
 "nbformat_minor": 2
}
