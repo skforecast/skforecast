{
 "cells": [
  {
   "cell_type": "code",
   "execution_count": 1,
   "metadata": {},
   "outputs": [
    {
     "name": "stdout",
     "output_type": "stream",
     "text": [
      "c:\\Users\\jaesc2\\GitHub\\skforecast\n",
      "0.18.0\n"
     ]
    }
   ],
   "source": [
    "%load_ext autoreload\n",
    "%autoreload 2\n",
    "import sys\n",
    "from pathlib import Path\n",
    "path = str(Path.cwd().parent)\n",
    "print(path)\n",
    "sys.path.insert(1, path)\n",
    "\n",
    "import numpy as np\n",
    "import pandas as pd\n",
    "import skforecast\n",
    "\n",
    "print(skforecast.__version__)"
   ]
  },
  {
   "cell_type": "code",
   "execution_count": 2,
   "metadata": {},
   "outputs": [],
   "source": [
    "import re\n",
    "import pytest\n",
    "import numpy as np\n",
    "import pandas as pd\n",
    "from pandas.tseries.offsets import DateOffset\n",
    "from skforecast.model_selection._split import TimeSeriesFold, OneStepAheadFold\n",
    "from skforecast.plot.plot import backtesting_gif_creator"
   ]
  },
  {
   "cell_type": "code",
   "execution_count": 3,
   "metadata": {},
   "outputs": [
    {
     "name": "stdout",
     "output_type": "stream",
     "text": [
      "Information of folds\n",
      "--------------------\n",
      "Number of observations used for initial training: 70\n",
      "Number of observations used for backtesting: 30\n",
      "    Number of folds: 4\n",
      "    Number skipped folds: 0 \n",
      "    Number of steps per fold: 7\n",
      "    Number of steps to exclude between last observed data (last window) and predictions (gap): 5\n",
      "    Last fold only includes 4 observations.\n",
      "\n",
      "Fold: 0\n",
      "    Training:   0 -- 69  (n=70)\n",
      "    Validation: 75 -- 81  (n=7)\n",
      "Fold: 1\n",
      "    Training:   7 -- 76  (n=70)\n",
      "    Validation: 82 -- 88  (n=7)\n",
      "Fold: 2\n",
      "    Training:   14 -- 83  (n=70)\n",
      "    Validation: 89 -- 95  (n=7)\n",
      "Fold: 3\n",
      "    Training:   21 -- 90  (n=70)\n",
      "    Validation: 96 -- 99  (n=4)\n",
      "\n"
     ]
    },
    {
     "data": {
      "text/plain": [
       "[[0, [0, 70], [65, 70], [70, 82], [75, 82], True],\n",
       " [1, [7, 77], [72, 77], [77, 89], [82, 89], True],\n",
       " [2, [14, 84], [79, 84], [84, 96], [89, 96], True],\n",
       " [3, [21, 91], [86, 91], [91, 100], [96, 100], True]]"
      ]
     },
     "execution_count": 3,
     "metadata": {},
     "output_type": "execute_result"
    }
   ],
   "source": [
    "y = pd.Series(np.arange(100))\n",
    "# y.index = pd.date_range(start='2022-01-01', periods=100, freq='D')\n",
    "cv = TimeSeriesFold(\n",
    "        steps                 = 7,\n",
    "        initial_train_size    = 70,\n",
    "        window_size           = 5,\n",
    "        differentiation       = None,\n",
    "        refit                 = True,\n",
    "        fixed_train_size      = True,\n",
    "        gap                   = 5,\n",
    "        skip_folds            = None,\n",
    "        allow_incomplete_fold = True,\n",
    "        return_all_indexes    = False,\n",
    "    )\n",
    "folds = cv.split(X=y, as_pandas=False)\n",
    "folds"
   ]
  },
  {
   "cell_type": "code",
   "execution_count": 4,
   "metadata": {},
   "outputs": [
    {
     "data": {
      "text/plain": [
       "[[0, 70], [70, 100], True]"
      ]
     },
     "execution_count": 4,
     "metadata": {},
     "output_type": "execute_result"
    }
   ],
   "source": [
    "y = pd.Series(np.arange(100))\n",
    "y.index = pd.date_range(start='2022-01-01', periods=100, freq='D')\n",
    "cv = OneStepAheadFold(\n",
    "        initial_train_size    = 70,\n",
    "        window_size           = 3,\n",
    "        differentiation       = None,\n",
    "        return_all_indexes    = False,\n",
    "        verbose               = False\n",
    "    )\n",
    "folds = cv.split(X=y)\n",
    "folds"
   ]
  },
  {
   "cell_type": "code",
   "execution_count": 5,
   "metadata": {},
   "outputs": [],
   "source": [
    "import re\n",
    "import pytest\n",
    "import numpy as np\n",
    "import pandas as pd\n",
    "from sklearn.linear_model import LinearRegression\n",
    "from sklearn.linear_model import Ridge\n",
    "from sklearn.metrics import mean_squared_error\n",
    "from skforecast.recursive import ForecasterRecursive\n",
    "from skforecast.direct import ForecasterDirect\n",
    "from skforecast.model_selection._split import TimeSeriesFold\n",
    "from skforecast.model_selection._validation import _backtesting_forecaster\n",
    "from skforecast.preprocessing import RollingFeatures\n",
    "import re\n",
    "import pytest\n",
    "import numpy as np\n",
    "import pandas as pd\n",
    "from lightgbm import LGBMRegressor\n",
    "from sklearn.linear_model import Ridge\n",
    "from sklearn.preprocessing import StandardScaler\n",
    "from sklearn.metrics import mean_absolute_error\n",
    "from scipy.stats import norm\n",
    "\n",
    "from skforecast.exceptions import IgnoredArgumentWarning\n",
    "from skforecast.recursive import ForecasterRecursive\n",
    "from skforecast.recursive import ForecasterRecursiveMultiSeries\n",
    "from skforecast.direct import ForecasterDirectMultiVariate\n",
    "from skforecast.model_selection import backtesting_forecaster_multiseries\n",
    "from skforecast.model_selection._split import TimeSeriesFold\n",
    "from skforecast.preprocessing import RollingFeatures\n",
    "\n",
    "import re\n",
    "import pytest\n",
    "import numpy as np\n",
    "import pandas as pd\n",
    "from sklearn.linear_model import Ridge\n",
    "from skforecast.sarimax import Sarimax\n",
    "from skforecast.recursive import ForecasterRecursive\n",
    "from skforecast.recursive import ForecasterSarimax\n",
    "from skforecast.model_selection._split import TimeSeriesFold\n",
    "from skforecast.model_selection import backtesting_sarimax\n",
    "\n",
    "# Fixtures\n",
    "from skforecast.exceptions import IgnoredArgumentWarning\n",
    "from skforecast.model_selection.tests.fixtures_model_selection import y\n",
    "from skforecast.model_selection.tests.fixtures_model_selection import exog\n",
    "from skforecast.model_selection.tests.fixtures_model_selection import out_sample_residuals\n",
    "\n",
    "from skforecast.recursive.tests.tests_forecaster_sarimax.fixtures_forecaster_sarimax import y_datetime\n",
    "from skforecast.recursive.tests.tests_forecaster_sarimax.fixtures_forecaster_sarimax import exog_datetime\n",
    "\n",
    "from skforecast.recursive.tests.tests_forecaster_recursive_multiseries.fixtures_forecaster_recursive_multiseries import expected_df_to_long_format\n",
    "from skforecast.model_selection.tests.fixtures_model_selection_multiseries import (\n",
    "    series_wide_range,\n",
    "    series_wide_dt,\n",
    "    series_wide_dt_nans,\n",
    "    series_long_dt,\n",
    "    series_long_dt_nans,\n",
    "    series_dict_range,\n",
    "    series_dict_dt,\n",
    "    series_dict_nans,\n",
    "    exog_dict_nans,\n",
    "    series_dict_nans_train,\n",
    "    exog_dict_nans_train,\n",
    "    custom_metric\n",
    ")"
   ]
  },
  {
   "cell_type": "code",
   "execution_count": 16,
   "metadata": {},
   "outputs": [
    {
     "data": {
      "application/vnd.jupyter.widget-view+json": {
       "model_id": "82ecdb1d54b0472c9ce4a958069dbfde",
       "version_major": 2,
       "version_minor": 0
      },
      "text/plain": [
       "  0%|          | 0/3 [00:00<?, ?it/s]"
      ]
     },
     "metadata": {},
     "output_type": "display_data"
    }
   ],
   "source": [
    "\n",
    "forecaster = ForecasterSarimax(\n",
    "                    regressor = Sarimax(order=(3, 2, 0), maxiter=1000, method='cg', disp=False)\n",
    "                )\n",
    "\n",
    "cv = TimeSeriesFold(\n",
    "            steps                 = 2,\n",
    "            initial_train_size    = len(y_datetime) - 12,\n",
    "            fold_stride           = 4,\n",
    "            refit                 = True,\n",
    "            fixed_train_size      = True,\n",
    "            gap                   = 0,\n",
    "            allow_incomplete_fold = True\n",
    "        )\n",
    "\n",
    "metric, backtest_predictions = backtesting_sarimax(\n",
    "                                    forecaster = forecaster,\n",
    "                                    y          = y_datetime,\n",
    "                                    cv         = cv,\n",
    "                                    exog       = exog_datetime,\n",
    "                                    metric     = 'mean_absolute_error',\n",
    "                                    alpha      = None,\n",
    "                                    interval   = None,\n",
    "                                    verbose    = False\n",
    "                                )"
   ]
  },
  {
   "cell_type": "code",
   "execution_count": 17,
   "metadata": {},
   "outputs": [
    {
     "data": {
      "text/plain": [
       "array([[0.080745243332592]])"
      ]
     },
     "execution_count": 17,
     "metadata": {},
     "output_type": "execute_result"
    }
   ],
   "source": [
    "# More decimals numpy\n",
    "np.set_printoptions(precision=15, suppress=True)\n",
    "metric.to_numpy()"
   ]
  },
  {
   "cell_type": "code",
   "execution_count": 18,
   "metadata": {},
   "outputs": [
    {
     "data": {
      "text/html": [
       "<div>\n",
       "<style scoped>\n",
       "    .dataframe tbody tr th:only-of-type {\n",
       "        vertical-align: middle;\n",
       "    }\n",
       "\n",
       "    .dataframe tbody tr th {\n",
       "        vertical-align: top;\n",
       "    }\n",
       "\n",
       "    .dataframe thead th {\n",
       "        text-align: right;\n",
       "    }\n",
       "</style>\n",
       "<table border=\"1\" class=\"dataframe\">\n",
       "  <thead>\n",
       "    <tr style=\"text-align: right;\">\n",
       "      <th></th>\n",
       "      <th>fold</th>\n",
       "      <th>pred</th>\n",
       "    </tr>\n",
       "  </thead>\n",
       "  <tbody>\n",
       "    <tr>\n",
       "      <th>2038-12-31</th>\n",
       "      <td>0</td>\n",
       "      <td>0.594091</td>\n",
       "    </tr>\n",
       "    <tr>\n",
       "      <th>2039-12-31</th>\n",
       "      <td>0</td>\n",
       "      <td>0.783234</td>\n",
       "    </tr>\n",
       "    <tr>\n",
       "      <th>2042-12-31</th>\n",
       "      <td>1</td>\n",
       "      <td>0.768954</td>\n",
       "    </tr>\n",
       "    <tr>\n",
       "      <th>2043-12-31</th>\n",
       "      <td>1</td>\n",
       "      <td>0.815940</td>\n",
       "    </tr>\n",
       "    <tr>\n",
       "      <th>2046-12-31</th>\n",
       "      <td>2</td>\n",
       "      <td>0.774603</td>\n",
       "    </tr>\n",
       "    <tr>\n",
       "      <th>2047-12-31</th>\n",
       "      <td>2</td>\n",
       "      <td>0.583977</td>\n",
       "    </tr>\n",
       "  </tbody>\n",
       "</table>\n",
       "</div>"
      ],
      "text/plain": [
       "            fold      pred\n",
       "2038-12-31     0  0.594091\n",
       "2039-12-31     0  0.783234\n",
       "2042-12-31     1  0.768954\n",
       "2043-12-31     1  0.815940\n",
       "2046-12-31     2  0.774603\n",
       "2047-12-31     2  0.583977"
      ]
     },
     "execution_count": 18,
     "metadata": {},
     "output_type": "execute_result"
    }
   ],
   "source": [
    "backtest_predictions"
   ]
  },
  {
   "cell_type": "code",
   "execution_count": 19,
   "metadata": {},
   "outputs": [
    {
     "data": {
      "text/html": [
       "<div>\n",
       "<style scoped>\n",
       "    .dataframe tbody tr th:only-of-type {\n",
       "        vertical-align: middle;\n",
       "    }\n",
       "\n",
       "    .dataframe tbody tr th {\n",
       "        vertical-align: top;\n",
       "    }\n",
       "\n",
       "    .dataframe thead th {\n",
       "        text-align: right;\n",
       "    }\n",
       "</style>\n",
       "<table border=\"1\" class=\"dataframe\">\n",
       "  <thead>\n",
       "    <tr style=\"text-align: right;\">\n",
       "      <th></th>\n",
       "      <th>fold</th>\n",
       "      <th>pred</th>\n",
       "    </tr>\n",
       "  </thead>\n",
       "  <tbody>\n",
       "    <tr>\n",
       "      <th>2038-12-31</th>\n",
       "      <td>0</td>\n",
       "      <td>0.594091</td>\n",
       "    </tr>\n",
       "    <tr>\n",
       "      <th>2039-12-31</th>\n",
       "      <td>0</td>\n",
       "      <td>0.783234</td>\n",
       "    </tr>\n",
       "    <tr>\n",
       "      <th>2042-12-31</th>\n",
       "      <td>1</td>\n",
       "      <td>0.768954</td>\n",
       "    </tr>\n",
       "    <tr>\n",
       "      <th>2043-12-31</th>\n",
       "      <td>1</td>\n",
       "      <td>0.815940</td>\n",
       "    </tr>\n",
       "    <tr>\n",
       "      <th>2046-12-31</th>\n",
       "      <td>2</td>\n",
       "      <td>0.774603</td>\n",
       "    </tr>\n",
       "    <tr>\n",
       "      <th>2047-12-31</th>\n",
       "      <td>2</td>\n",
       "      <td>0.583977</td>\n",
       "    </tr>\n",
       "  </tbody>\n",
       "</table>\n",
       "</div>"
      ],
      "text/plain": [
       "            fold      pred\n",
       "2038-12-31     0  0.594091\n",
       "2039-12-31     0  0.783234\n",
       "2042-12-31     1  0.768954\n",
       "2043-12-31     1  0.815940\n",
       "2046-12-31     2  0.774603\n",
       "2047-12-31     2  0.583977"
      ]
     },
     "execution_count": 19,
     "metadata": {},
     "output_type": "execute_result"
    }
   ],
   "source": [
    "\n",
    "# backtest_predictions = (\n",
    "#     backtest_predictions\n",
    "#     .rename_axis('idx', axis=0)\n",
    "#     .set_index('level', append=True)\n",
    "# )\n",
    "\n",
    "(\n",
    "    backtest_predictions\n",
    "    .loc[~backtest_predictions.index.duplicated(keep='last')]\n",
    ").head(30)"
   ]
  },
  {
   "cell_type": "code",
   "execution_count": 20,
   "metadata": {},
   "outputs": [
    {
     "data": {
      "text/plain": [
       "array([[0.        , 0.59409098],\n",
       "       [0.        , 0.78323365],\n",
       "       [1.        , 0.76895405],\n",
       "       [1.        , 0.81593985],\n",
       "       [2.        , 0.77460313],\n",
       "       [2.        , 0.5839772 ]])"
      ]
     },
     "execution_count": 20,
     "metadata": {},
     "output_type": "execute_result"
    }
   ],
   "source": [
    "np.set_printoptions(precision=8, suppress=True)\n",
    "backtest_predictions[['fold', 'pred']].to_numpy()"
   ]
  },
  {
   "cell_type": "code",
   "execution_count": 21,
   "metadata": {},
   "outputs": [
    {
     "data": {
      "text/plain": [
       "DatetimeIndex(['2038-12-31', '2039-12-31', '2042-12-31', '2043-12-31',\n",
       "               '2046-12-31', '2047-12-31'],\n",
       "              dtype='datetime64[ns]', freq=None)"
      ]
     },
     "execution_count": 21,
     "metadata": {},
     "output_type": "execute_result"
    }
   ],
   "source": [
    "backtest_predictions.index"
   ]
  },
  {
   "cell_type": "code",
   "execution_count": 16,
   "metadata": {},
   "outputs": [
    {
     "data": {
      "text/plain": [
       "DatetimeIndex(['2022-02-03', '2022-02-04', '2022-02-05', '2022-02-06',\n",
       "               '2022-02-05', '2022-02-06', '2022-02-07', '2022-02-08',\n",
       "               '2022-02-07', '2022-02-08', '2022-02-09', '2022-02-10',\n",
       "               '2022-02-09', '2022-02-10', '2022-02-11', '2022-02-12',\n",
       "               '2022-02-11', '2022-02-12', '2022-02-13', '2022-02-14',\n",
       "               '2022-02-13', '2022-02-14', '2022-02-15', '2022-02-16',\n",
       "               '2022-02-15', '2022-02-16', '2022-02-17', '2022-02-18'],\n",
       "              dtype='datetime64[ns]', freq=None)"
      ]
     },
     "execution_count": 16,
     "metadata": {},
     "output_type": "execute_result"
    }
   ],
   "source": [
    "pd.DatetimeIndex(['2022-02-03', '2022-02-04', '2022-02-05', '2022-02-06',\n",
    "               '2022-02-05', '2022-02-06', '2022-02-07', '2022-02-08',\n",
    "               '2022-02-07', '2022-02-08', '2022-02-09', '2022-02-10',\n",
    "               '2022-02-09', '2022-02-10', '2022-02-11', '2022-02-12',\n",
    "               '2022-02-11', '2022-02-12', '2022-02-13', '2022-02-14',\n",
    "               '2022-02-13', '2022-02-14', '2022-02-15', '2022-02-16',\n",
    "               '2022-02-15', '2022-02-16', '2022-02-17', '2022-02-18'])"
   ]
  },
  {
   "cell_type": "code",
   "execution_count": null,
   "metadata": {},
   "outputs": [],
   "source": []
  }
 ],
 "metadata": {
  "kernelspec": {
   "display_name": "skforecast_py12",
   "language": "python",
   "name": "python3"
  },
  "language_info": {
   "codemirror_mode": {
    "name": "ipython",
    "version": 3
   },
   "file_extension": ".py",
   "mimetype": "text/x-python",
   "name": "python",
   "nbconvert_exporter": "python",
   "pygments_lexer": "ipython3",
   "version": "3.12.11"
  },
  "orig_nbformat": 4
 },
 "nbformat": 4,
 "nbformat_minor": 2
}
