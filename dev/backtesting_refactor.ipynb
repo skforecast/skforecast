{
 "cells": [
  {
   "cell_type": "code",
   "execution_count": 1,
   "metadata": {},
   "outputs": [
    {
     "name": "stdout",
     "output_type": "stream",
     "text": [
      "c:\\Users\\jaesc2\\GitHub\\skforecast\n",
      "0.18.0\n"
     ]
    }
   ],
   "source": [
    "%load_ext autoreload\n",
    "%autoreload 2\n",
    "import sys\n",
    "from pathlib import Path\n",
    "path = str(Path.cwd().parent)\n",
    "print(path)\n",
    "sys.path.insert(1, path)\n",
    "\n",
    "import numpy as np\n",
    "import pandas as pd\n",
    "import skforecast\n",
    "\n",
    "print(skforecast.__version__)"
   ]
  },
  {
   "cell_type": "code",
   "execution_count": 2,
   "metadata": {},
   "outputs": [],
   "source": [
    "import re\n",
    "import pytest\n",
    "import numpy as np\n",
    "import pandas as pd\n",
    "from pandas.tseries.offsets import DateOffset\n",
    "from skforecast.model_selection._split import TimeSeriesFold_New"
   ]
  },
  {
   "cell_type": "code",
   "execution_count": null,
   "metadata": {},
   "outputs": [
    {
     "name": "stdout",
     "output_type": "stream",
     "text": [
      "Information of folds\n",
      "--------------------\n",
      "Number of observations used for initial training: 70\n",
      "Number of observations used for backtesting: 30\n",
      "    Number of folds: 6\n",
      "    Number skipped folds: 0 \n",
      "    Number of steps per fold: 30\n",
      "    Number of steps to exclude between last observed data (last window) and predictions (gap): 2\n",
      "    Last fold only includes 3 observations.\n",
      "\n",
      "Fold: 0\n",
      "    Training:   0 -- 69  (n=70)\n",
      "    Validation: 72 -- 99  (n=28)\n",
      "Fold: 1\n",
      "    Training:   No training in this fold\n",
      "    Validation: 77 -- 99  (n=23)\n",
      "Fold: 2\n",
      "    Training:   No training in this fold\n",
      "    Validation: 82 -- 99  (n=18)\n",
      "Fold: 3\n",
      "    Training:   No training in this fold\n",
      "    Validation: 87 -- 99  (n=13)\n",
      "Fold: 4\n",
      "    Training:   No training in this fold\n",
      "    Validation: 92 -- 99  (n=8)\n",
      "Fold: 5\n",
      "    Training:   No training in this fold\n",
      "    Validation: 97 -- 99  (n=3)\n",
      "\n"
     ]
    },
    {
     "data": {
      "text/plain": [
       "[[[0, 70], [67, 70], [70, 100], [72, 100], True],\n",
       " [[0, 70], [72, 75], [75, 100], [77, 100], False],\n",
       " [[0, 70], [77, 80], [80, 100], [82, 100], False],\n",
       " [[0, 70], [82, 85], [85, 100], [87, 100], False],\n",
       " [[0, 70], [87, 90], [90, 100], [92, 100], False],\n",
       " [[0, 70], [92, 95], [95, 100], [97, 100], False]]"
      ]
     },
     "execution_count": 29,
     "metadata": {},
     "output_type": "execute_result"
    }
   ],
   "source": [
    "y = pd.Series(np.arange(100))\n",
    "# y.index = pd.date_range(start='2022-01-01', periods=100, freq='D')\n",
    "cv = TimeSeriesFold_New(\n",
    "        steps                 = 30,\n",
    "        initial_train_size    = 70,\n",
    "        fold_stride           = 5,\n",
    "        window_size           = 3,\n",
    "        differentiation       = None,\n",
    "        refit                 = False,\n",
    "        fixed_train_size      = False,\n",
    "        gap                   = 2,\n",
    "        skip_folds            = None,\n",
    "        allow_incomplete_fold = False,\n",
    "        return_all_indexes    = False,\n",
    "        verbose               = True\n",
    "    )\n",
    "folds = cv.split(X=y)\n",
    "folds"
   ]
  },
  {
   "cell_type": "code",
   "execution_count": null,
   "metadata": {},
   "outputs": [
    {
     "data": {
      "text/plain": [
       "True"
      ]
     },
     "execution_count": 11,
     "metadata": {},
     "output_type": "execute_result"
    }
   ],
   "source": [
    "# initial_train_size, last_window, test, test with gap\n",
    "folds == [[[0, 70], [67, 70], [70, 80], [70, 80], True],\n",
    "[[0, 70], [77, 80], [80, 90], [80, 90], False],\n",
    "[[0, 70], [87, 90], [90, 100], [90, 100], False]]"
   ]
  },
  {
   "cell_type": "code",
   "execution_count": null,
   "metadata": {},
   "outputs": [],
   "source": []
  }
 ],
 "metadata": {
  "kernelspec": {
   "display_name": "skforecast_py12",
   "language": "python",
   "name": "python3"
  },
  "language_info": {
   "codemirror_mode": {
    "name": "ipython",
    "version": 3
   },
   "file_extension": ".py",
   "mimetype": "text/x-python",
   "name": "python",
   "nbconvert_exporter": "python",
   "pygments_lexer": "ipython3",
   "version": "3.12.11"
  },
  "orig_nbformat": 4
 },
 "nbformat": 4,
 "nbformat_minor": 2
}
