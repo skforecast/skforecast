{
 "cells": [
  {
   "cell_type": "code",
   "execution_count": 1,
   "metadata": {},
   "outputs": [
    {
     "name": "stdout",
     "output_type": "stream",
     "text": [
      "c:\\Users\\jaesc2\\GitHub\\skforecast\n",
      "0.18.0\n"
     ]
    }
   ],
   "source": [
    "%load_ext autoreload\n",
    "%autoreload 2\n",
    "import sys\n",
    "from pathlib import Path\n",
    "path = str(Path.cwd().parent)\n",
    "print(path)\n",
    "sys.path.insert(1, path)\n",
    "\n",
    "import numpy as np\n",
    "import pandas as pd\n",
    "import skforecast\n",
    "\n",
    "print(skforecast.__version__)"
   ]
  },
  {
   "cell_type": "code",
   "execution_count": 2,
   "metadata": {},
   "outputs": [],
   "source": [
    "import re\n",
    "import pytest\n",
    "import numpy as np\n",
    "import pandas as pd\n",
    "from pandas.tseries.offsets import DateOffset\n",
    "from skforecast.model_selection._split import TimeSeriesFold_New\n",
    "from skforecast.plot.plot import backtesting_gif_creator"
   ]
  },
  {
   "cell_type": "code",
   "execution_count": 6,
   "metadata": {},
   "outputs": [
    {
     "name": "stdout",
     "output_type": "stream",
     "text": [
      "[[range(0, 70), range(67, 70), range(70, 81), range(70, 81)], [range(5, 75), range(72, 75), range(75, 86), range(75, 86)], [range(10, 80), range(77, 80), range(80, 91), range(80, 91)], [range(15, 85), range(82, 85), range(85, 96), range(85, 96)], [range(20, 90), range(87, 90), range(90, 100), range(90, 100)], [range(25, 95), range(92, 95), range(95, 100), range(95, 100)]]\n",
      "Information of folds\n",
      "--------------------\n",
      "Number of observations used for initial training: 70\n",
      "Number of observations used for backtesting: 30\n",
      "    Number of folds: 6\n",
      "    Number skipped folds: 0 \n",
      "    Number of steps per fold: 11\n",
      "    Number of steps to exclude between folds (fold stride): 5\n",
      "    Number of steps to exclude between last observed data (last window) and predictions (gap): 0\n",
      "    Last fold only includes 5 observations.\n",
      "\n",
      "Fold: 0\n",
      "    Training:   2022-01-01 00:00:00 -- 2022-03-11 00:00:00  (n=70)\n",
      "    Validation: 2022-03-12 00:00:00 -- 2022-03-22 00:00:00  (n=11)\n",
      "Fold: 1\n",
      "    Training:   2022-01-06 00:00:00 -- 2022-03-16 00:00:00  (n=70)\n",
      "    Validation: 2022-03-17 00:00:00 -- 2022-03-27 00:00:00  (n=11)\n",
      "Fold: 2\n",
      "    Training:   2022-01-11 00:00:00 -- 2022-03-21 00:00:00  (n=70)\n",
      "    Validation: 2022-03-22 00:00:00 -- 2022-04-01 00:00:00  (n=11)\n",
      "Fold: 3\n",
      "    Training:   2022-01-16 00:00:00 -- 2022-03-26 00:00:00  (n=70)\n",
      "    Validation: 2022-03-27 00:00:00 -- 2022-04-06 00:00:00  (n=11)\n",
      "Fold: 4\n",
      "    Training:   2022-01-21 00:00:00 -- 2022-03-31 00:00:00  (n=70)\n",
      "    Validation: 2022-04-01 00:00:00 -- 2022-04-10 00:00:00  (n=10)\n",
      "Fold: 5\n",
      "    Training:   2022-01-26 00:00:00 -- 2022-04-05 00:00:00  (n=70)\n",
      "    Validation: 2022-04-06 00:00:00 -- 2022-04-10 00:00:00  (n=5)\n",
      "\n"
     ]
    },
    {
     "data": {
      "text/plain": [
       "[[[0, 70], [67, 70], [70, 81], [70, 81], True],\n",
       " [[5, 75], [72, 75], [75, 86], [75, 86], True],\n",
       " [[10, 80], [77, 80], [80, 91], [80, 91], True],\n",
       " [[15, 85], [82, 85], [85, 96], [85, 96], True],\n",
       " [[20, 90], [87, 90], [90, 100], [90, 100], True],\n",
       " [[25, 95], [92, 95], [95, 100], [95, 100], True]]"
      ]
     },
     "execution_count": 6,
     "metadata": {},
     "output_type": "execute_result"
    }
   ],
   "source": [
    "y = pd.Series(np.arange(100))\n",
    "y.index = pd.date_range(start='2022-01-01', periods=100, freq='D')\n",
    "cv = TimeSeriesFold_New(\n",
    "        steps                 = 11,\n",
    "        initial_train_size    = 70,\n",
    "        fold_stride           = 5,\n",
    "        window_size           = 3,\n",
    "        differentiation       = None,\n",
    "        refit                 = True,\n",
    "        fixed_train_size      = True,\n",
    "        gap                   = 0,\n",
    "        skip_folds            = None,\n",
    "        allow_incomplete_fold = True,\n",
    "        return_all_indexes    = False,\n",
    "        verbose               = True\n",
    "    )\n",
    "folds = cv.split(X=y)\n",
    "folds"
   ]
  },
  {
   "cell_type": "code",
   "execution_count": 87,
   "metadata": {},
   "outputs": [
    {
     "name": "stdout",
     "output_type": "stream",
     "text": [
      "Information of folds\n",
      "--------------------\n",
      "Number of observations used for initial training: 70\n",
      "Number of observations used for backtesting: 30\n",
      "    Number of folds: 6\n",
      "    Number skipped folds: 0 \n",
      "    Number of steps per fold: 10\n",
      "    Number of steps to exclude between folds (fold stride): 5\n",
      "    Number of steps to exclude between last observed data (last window) and predictions (gap): 0\n",
      "    Last fold only includes 5 observations.\n",
      "\n",
      "Fold: 0\n",
      "    Training:   2022-01-01 00:00:00 -- 2022-03-11 00:00:00  (n=70)\n",
      "    Validation: 2022-03-12 00:00:00 -- 2022-03-21 00:00:00  (n=10)\n",
      "Fold: 1\n",
      "    Training:   2022-01-06 00:00:00 -- 2022-03-16 00:00:00  (n=70)\n",
      "    Validation: 2022-03-17 00:00:00 -- 2022-03-26 00:00:00  (n=10)\n",
      "Fold: 2\n",
      "    Training:   2022-01-11 00:00:00 -- 2022-03-21 00:00:00  (n=70)\n",
      "    Validation: 2022-03-22 00:00:00 -- 2022-03-31 00:00:00  (n=10)\n",
      "Fold: 3\n",
      "    Training:   2022-01-16 00:00:00 -- 2022-03-26 00:00:00  (n=70)\n",
      "    Validation: 2022-03-27 00:00:00 -- 2022-04-05 00:00:00  (n=10)\n",
      "Fold: 4\n",
      "    Training:   2022-01-21 00:00:00 -- 2022-03-31 00:00:00  (n=70)\n",
      "    Validation: 2022-04-01 00:00:00 -- 2022-04-10 00:00:00  (n=10)\n",
      "Fold: 5\n",
      "    Training:   2022-01-26 00:00:00 -- 2022-04-05 00:00:00  (n=70)\n",
      "    Validation: 2022-04-06 00:00:00 -- 2022-04-10 00:00:00  (n=5)\n",
      "\n"
     ]
    },
    {
     "data": {
      "text/plain": [
       "'c:\\\\Users\\\\jaesc2\\\\GitHub\\\\skforecast\\\\dev\\\\backtesting.gif'"
      ]
     },
     "execution_count": 87,
     "metadata": {},
     "output_type": "execute_result"
    }
   ],
   "source": [
    "backtesting_gif_creator(\n",
    "    data=y,\n",
    "    cv=cv,\n",
    "    plot_last_window=False,\n",
    "    filename=\"backtesting.gif\",\n",
    "    fps=1\n",
    ")"
   ]
  },
  {
   "cell_type": "code",
   "execution_count": 88,
   "metadata": {},
   "outputs": [],
   "source": [
    "# Libraries\n",
    "# ==============================================================================\n",
    "import pandas as pd\n",
    "import matplotlib.pyplot as plt\n",
    "from sklearn.linear_model import Ridge\n",
    "from lightgbm import LGBMRegressor\n",
    "from sklearn.metrics import mean_squared_error\n",
    "from skforecast.datasets import fetch_dataset\n",
    "from skforecast.preprocessing import RollingFeatures\n",
    "from skforecast.recursive import ForecasterRecursive\n",
    "from skforecast.model_selection import TimeSeriesFold\n",
    "from skforecast.model_selection import backtesting_forecaster\n",
    "from skforecast.plot import plot_prediction_intervals, set_dark_theme"
   ]
  },
  {
   "cell_type": "code",
   "execution_count": 89,
   "metadata": {},
   "outputs": [
    {
     "name": "stdout",
     "output_type": "stream",
     "text": [
      "h2o\n",
      "---\n",
      "Monthly expenditure ($AUD) on corticosteroid drugs that the Australian health\n",
      "system had between 1991 and 2008.\n",
      "Hyndman R (2023). fpp3: Data for Forecasting: Principles and Practice(3rd\n",
      "Edition). http://pkg.robjhyndman.com/fpp3package/,https://github.com/robjhyndman\n",
      "/fpp3package, http://OTexts.com/fpp3.\n",
      "Shape of the dataset: (204, 2)\n"
     ]
    }
   ],
   "source": [
    "data = fetch_dataset(\n",
    "    name=\"h2o\", raw=True, kwargs_read_csv={\"names\": [\"y\", \"datetime\"], \"header\": 0}\n",
    ")"
   ]
  },
  {
   "cell_type": "code",
   "execution_count": 90,
   "metadata": {},
   "outputs": [
    {
     "data": {
      "text/html": [
       "<div>\n",
       "<style scoped>\n",
       "    .dataframe tbody tr th:only-of-type {\n",
       "        vertical-align: middle;\n",
       "    }\n",
       "\n",
       "    .dataframe tbody tr th {\n",
       "        vertical-align: top;\n",
       "    }\n",
       "\n",
       "    .dataframe thead th {\n",
       "        text-align: right;\n",
       "    }\n",
       "</style>\n",
       "<table border=\"1\" class=\"dataframe\">\n",
       "  <thead>\n",
       "    <tr style=\"text-align: right;\">\n",
       "      <th></th>\n",
       "      <th>y</th>\n",
       "    </tr>\n",
       "    <tr>\n",
       "      <th>datetime</th>\n",
       "      <th></th>\n",
       "    </tr>\n",
       "  </thead>\n",
       "  <tbody>\n",
       "    <tr>\n",
       "      <th>1991-07-01</th>\n",
       "      <td>0.429795</td>\n",
       "    </tr>\n",
       "    <tr>\n",
       "      <th>1991-08-01</th>\n",
       "      <td>0.400906</td>\n",
       "    </tr>\n",
       "    <tr>\n",
       "      <th>1991-09-01</th>\n",
       "      <td>0.432159</td>\n",
       "    </tr>\n",
       "  </tbody>\n",
       "</table>\n",
       "</div>"
      ],
      "text/plain": [
       "                   y\n",
       "datetime            \n",
       "1991-07-01  0.429795\n",
       "1991-08-01  0.400906\n",
       "1991-09-01  0.432159"
      ]
     },
     "execution_count": 90,
     "metadata": {},
     "output_type": "execute_result"
    }
   ],
   "source": [
    "# Data preprocessing\n",
    "# ==============================================================================\n",
    "data['datetime'] = pd.to_datetime(data['datetime'], format='%Y-%m-%d')\n",
    "data = data.set_index('datetime')\n",
    "data = data.asfreq('MS')\n",
    "data = data[['y']]\n",
    "data = data.sort_index()\n",
    "data.head(3)"
   ]
  },
  {
   "cell_type": "code",
   "execution_count": 94,
   "metadata": {},
   "outputs": [],
   "source": [
    "# Create TimeSeriesFold\n",
    "# ==============================================================================\n",
    "end_train = '2002-01-01 23:59:00'\n",
    "cv = TimeSeriesFold_New(\n",
    "         steps                 = 10,\n",
    "         initial_train_size    = len(data.loc[:end_train]),\n",
    "         window_size           = 10,\n",
    "         refit                 = True,\n",
    "         fixed_train_size      = False,\n",
    "         gap                   = 0,\n",
    "         allow_incomplete_fold = True,\n",
    "         verbose               = False\n",
    "     )"
   ]
  },
  {
   "cell_type": "code",
   "execution_count": 103,
   "metadata": {},
   "outputs": [
    {
     "data": {
      "text/plain": [
       "'c:\\\\Users\\\\jaesc2\\\\GitHub\\\\skforecast\\\\dev\\\\backtesting.gif'"
      ]
     },
     "execution_count": 103,
     "metadata": {},
     "output_type": "execute_result"
    }
   ],
   "source": [
    "backtesting_gif_creator(\n",
    "    data=data,\n",
    "    cv=cv,\n",
    "    plot_last_window=False,\n",
    "    filename=\"backtesting.gif\",\n",
    "    fps=1\n",
    ")"
   ]
  },
  {
   "cell_type": "code",
   "execution_count": 104,
   "metadata": {},
   "outputs": [],
   "source": [
    "data = pd.DataFrame({\n",
    "        'y': np.arange(0, 100),\n",
    "        'exog': np.arange(100, 200)\n",
    "    })\n",
    "cv = TimeSeriesFold(\n",
    "         steps                 = 10,\n",
    "         initial_train_size    = 70,\n",
    "         window_size           = 10,\n",
    "         refit                 = True,\n",
    "         fixed_train_size      = False,\n",
    "         gap                   = 0,\n",
    "         allow_incomplete_fold = True,\n",
    "         verbose               = False\n",
    "     )"
   ]
  },
  {
   "cell_type": "code",
   "execution_count": 105,
   "metadata": {},
   "outputs": [
    {
     "data": {
      "text/plain": [
       "'c:\\\\Users\\\\jaesc2\\\\GitHub\\\\skforecast\\\\dev\\\\backtesting.gif'"
      ]
     },
     "execution_count": 105,
     "metadata": {},
     "output_type": "execute_result"
    }
   ],
   "source": [
    "backtesting_gif_creator(\n",
    "    data=data,\n",
    "    cv=cv,\n",
    "    plot_last_window=False,\n",
    "    filename=\"backtesting.gif\",\n",
    "    fps=1\n",
    ")"
   ]
  },
  {
   "cell_type": "code",
   "execution_count": null,
   "metadata": {},
   "outputs": [],
   "source": []
  }
 ],
 "metadata": {
  "kernelspec": {
   "display_name": "skforecast_py12",
   "language": "python",
   "name": "python3"
  },
  "language_info": {
   "codemirror_mode": {
    "name": "ipython",
    "version": 3
   },
   "file_extension": ".py",
   "mimetype": "text/x-python",
   "name": "python",
   "nbconvert_exporter": "python",
   "pygments_lexer": "ipython3",
   "version": "3.12.11"
  },
  "orig_nbformat": 4
 },
 "nbformat": 4,
 "nbformat_minor": 2
}
