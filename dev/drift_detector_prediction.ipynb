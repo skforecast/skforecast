{
 "cells": [
  {
   "cell_type": "code",
   "execution_count": 1,
   "metadata": {},
   "outputs": [
    {
     "name": "stdout",
     "output_type": "stream",
     "text": [
      "/home/joaquin/Documents/GitHub/skforecast\n"
     ]
    }
   ],
   "source": [
    "%load_ext autoreload\n",
    "%autoreload 2\n",
    "import sys\n",
    "from pathlib import Path\n",
    "path = str(Path.cwd().parent)\n",
    "print(path)\n",
    "sys.path.insert(1, path)\n",
    "\n",
    "import numpy as np\n",
    "import pandas as pd"
   ]
  },
  {
   "cell_type": "code",
   "execution_count": 2,
   "metadata": {},
   "outputs": [],
   "source": [
    "from skforecast.utils import get_features_range, check_features_range"
   ]
  },
  {
   "cell_type": "code",
   "execution_count": 3,
   "metadata": {},
   "outputs": [],
   "source": [
    "\n",
    "# Example data used in the notebook\n",
    "df = pd.DataFrame()\n",
    "for i in range(5):\n",
    "    df[f\"feature_{i}\"] = np.random.rand(5000)\n",
    "\n",
    "for i in range(5):\n",
    "    df[f\"cat_feature_{i}\"] = np.random.choice([\"A\", \"B\", \"C\"], 5000)\n",
    "\n",
    "dict_dfs = {'series_1': df, 'series_2': df.iloc[:1000]}"
   ]
  },
  {
   "cell_type": "code",
   "execution_count": 4,
   "metadata": {},
   "outputs": [
    {
     "name": "stdout",
     "output_type": "stream",
     "text": [
      "{'cat_feature_0': {'B', 'A', 'C'},\n",
      " 'cat_feature_1': {'B', 'A', 'C'},\n",
      " 'cat_feature_2': {'B', 'A', 'C'},\n",
      " 'cat_feature_3': {'B', 'A', 'C'},\n",
      " 'cat_feature_4': {'B', 'A', 'C'},\n",
      " 'feature_0': (np.float64(2.315605896519024e-05),\n",
      "               np.float64(0.9999567115696526)),\n",
      " 'feature_1': (np.float64(7.477701474944976e-05), np.float64(0.99992123302979)),\n",
      " 'feature_2': (np.float64(4.37062293138224e-05),\n",
      "               np.float64(0.9993282917950216)),\n",
      " 'feature_3': (np.float64(9.610341122223698e-05),\n",
      "               np.float64(0.9998782362887609)),\n",
      " 'feature_4': (np.float64(2.909597788203211e-05),\n",
      "               np.float64(0.9999325738578635))}\n"
     ]
    }
   ],
   "source": [
    "from pprint import pprint\n",
    "ranges = get_features_range(df)\n",
    "pprint(ranges)"
   ]
  },
  {
   "cell_type": "code",
   "execution_count": 5,
   "metadata": {},
   "outputs": [
    {
     "name": "stdout",
     "output_type": "stream",
     "text": [
      "{'series_1': {'cat_feature_0': {'B', 'A', 'C'},\n",
      "              'cat_feature_1': {'B', 'A', 'C'},\n",
      "              'cat_feature_2': {'B', 'A', 'C'},\n",
      "              'cat_feature_3': {'B', 'A', 'C'},\n",
      "              'cat_feature_4': {'B', 'A', 'C'},\n",
      "              'feature_0': (np.float64(2.315605896519024e-05),\n",
      "                            np.float64(0.9999567115696526)),\n",
      "              'feature_1': (np.float64(7.477701474944976e-05),\n",
      "                            np.float64(0.99992123302979)),\n",
      "              'feature_2': (np.float64(4.37062293138224e-05),\n",
      "                            np.float64(0.9993282917950216)),\n",
      "              'feature_3': (np.float64(9.610341122223698e-05),\n",
      "                            np.float64(0.9998782362887609)),\n",
      "              'feature_4': (np.float64(2.909597788203211e-05),\n",
      "                            np.float64(0.9999325738578635))},\n",
      " 'series_2': {'cat_feature_0': {'B', 'A', 'C'},\n",
      "              'cat_feature_1': {'B', 'A', 'C'},\n",
      "              'cat_feature_2': {'B', 'A', 'C'},\n",
      "              'cat_feature_3': {'B', 'A', 'C'},\n",
      "              'cat_feature_4': {'B', 'A', 'C'},\n",
      "              'feature_0': (np.float64(0.0019554618758780284),\n",
      "                            np.float64(0.9991072004623416)),\n",
      "              'feature_1': (np.float64(7.477701474944976e-05),\n",
      "                            np.float64(0.9978411966369855)),\n",
      "              'feature_2': (np.float64(0.00043750843736245493),\n",
      "                            np.float64(0.9985625852050922)),\n",
      "              'feature_3': (np.float64(0.0001775998506149401),\n",
      "                            np.float64(0.9998782362887609)),\n",
      "              'feature_4': (np.float64(0.00012619002192360007),\n",
      "                            np.float64(0.998250785059547))}}\n"
     ]
    }
   ],
   "source": [
    "ranges_dict = get_features_range(dict_dfs)\n",
    "pprint(ranges_dict)\n"
   ]
  },
  {
   "cell_type": "code",
   "execution_count": 6,
   "metadata": {},
   "outputs": [
    {
     "data": {
      "text/html": [
       "<pre style=\"white-space:pre;overflow-x:auto;line-height:normal;font-family:Menlo,'DejaVu Sans Mono',consolas,'Courier New',monospace\"><span style=\"color: #ffaf00; text-decoration-color: #ffaf00\">╭────────────────────────────── FeatureOutOfRangeWarning ──────────────────────────────╮</span>\n",
       "<span style=\"color: #ffaf00; text-decoration-color: #ffaf00\">│</span> 'feature_0' has one or more values outside the range seen during training [0.00002,  <span style=\"color: #ffaf00; text-decoration-color: #ffaf00\">│</span>\n",
       "<span style=\"color: #ffaf00; text-decoration-color: #ffaf00\">│</span> 0.99996]. Predictions may be less reliable.                                          <span style=\"color: #ffaf00; text-decoration-color: #ffaf00\">│</span>\n",
       "<span style=\"color: #ffaf00; text-decoration-color: #ffaf00\">│</span>                                                                                      <span style=\"color: #ffaf00; text-decoration-color: #ffaf00\">│</span>\n",
       "<span style=\"color: #ffaf00; text-decoration-color: #ffaf00\">│</span> Category : skforecast.exceptions.FeatureOutOfRangeWarning                            <span style=\"color: #ffaf00; text-decoration-color: #ffaf00\">│</span>\n",
       "<span style=\"color: #ffaf00; text-decoration-color: #ffaf00\">│</span> Location : /home/joaquin/Documents/GitHub/skforecast/skforecast/utils/utils.py:3036  <span style=\"color: #ffaf00; text-decoration-color: #ffaf00\">│</span>\n",
       "<span style=\"color: #ffaf00; text-decoration-color: #ffaf00\">│</span> Suppress : warnings.simplefilter('ignore', category=FeatureOutOfRangeWarning)        <span style=\"color: #ffaf00; text-decoration-color: #ffaf00\">│</span>\n",
       "<span style=\"color: #ffaf00; text-decoration-color: #ffaf00\">╰──────────────────────────────────────────────────────────────────────────────────────╯</span>\n",
       "</pre>\n"
      ],
      "text/plain": [
       "\u001b[38;5;214m╭─\u001b[0m\u001b[38;5;214m─────────────────────────────\u001b[0m\u001b[38;5;214m FeatureOutOfRangeWarning \u001b[0m\u001b[38;5;214m─────────────────────────────\u001b[0m\u001b[38;5;214m─╮\u001b[0m\n",
       "\u001b[38;5;214m│\u001b[0m 'feature_0' has one or more values outside the range seen during training [0.00002,  \u001b[38;5;214m│\u001b[0m\n",
       "\u001b[38;5;214m│\u001b[0m 0.99996]. Predictions may be less reliable.                                          \u001b[38;5;214m│\u001b[0m\n",
       "\u001b[38;5;214m│\u001b[0m                                                                                      \u001b[38;5;214m│\u001b[0m\n",
       "\u001b[38;5;214m│\u001b[0m Category : skforecast.exceptions.FeatureOutOfRangeWarning                            \u001b[38;5;214m│\u001b[0m\n",
       "\u001b[38;5;214m│\u001b[0m Location : /home/joaquin/Documents/GitHub/skforecast/skforecast/utils/utils.py:3036  \u001b[38;5;214m│\u001b[0m\n",
       "\u001b[38;5;214m│\u001b[0m Suppress : warnings.simplefilter('ignore', category=FeatureOutOfRangeWarning)        \u001b[38;5;214m│\u001b[0m\n",
       "\u001b[38;5;214m╰──────────────────────────────────────────────────────────────────────────────────────╯\u001b[0m\n"
      ]
     },
     "metadata": {},
     "output_type": "display_data"
    },
    {
     "data": {
      "text/html": [
       "<pre style=\"white-space:pre;overflow-x:auto;line-height:normal;font-family:Menlo,'DejaVu Sans Mono',consolas,'Courier New',monospace\"><span style=\"color: #ffaf00; text-decoration-color: #ffaf00\">╭────────────────────────────── FeatureOutOfRangeWarning ──────────────────────────────╮</span>\n",
       "<span style=\"color: #ffaf00; text-decoration-color: #ffaf00\">│</span> 'cat_feature_0' has values not seen during training. Seen values: {'B', 'A', 'C'}.   <span style=\"color: #ffaf00; text-decoration-color: #ffaf00\">│</span>\n",
       "<span style=\"color: #ffaf00; text-decoration-color: #ffaf00\">│</span> Predictions may be less reliable.                                                    <span style=\"color: #ffaf00; text-decoration-color: #ffaf00\">│</span>\n",
       "<span style=\"color: #ffaf00; text-decoration-color: #ffaf00\">│</span>                                                                                      <span style=\"color: #ffaf00; text-decoration-color: #ffaf00\">│</span>\n",
       "<span style=\"color: #ffaf00; text-decoration-color: #ffaf00\">│</span> Category : skforecast.exceptions.FeatureOutOfRangeWarning                            <span style=\"color: #ffaf00; text-decoration-color: #ffaf00\">│</span>\n",
       "<span style=\"color: #ffaf00; text-decoration-color: #ffaf00\">│</span> Location : /home/joaquin/Documents/GitHub/skforecast/skforecast/utils/utils.py:3045  <span style=\"color: #ffaf00; text-decoration-color: #ffaf00\">│</span>\n",
       "<span style=\"color: #ffaf00; text-decoration-color: #ffaf00\">│</span> Suppress : warnings.simplefilter('ignore', category=FeatureOutOfRangeWarning)        <span style=\"color: #ffaf00; text-decoration-color: #ffaf00\">│</span>\n",
       "<span style=\"color: #ffaf00; text-decoration-color: #ffaf00\">╰──────────────────────────────────────────────────────────────────────────────────────╯</span>\n",
       "</pre>\n"
      ],
      "text/plain": [
       "\u001b[38;5;214m╭─\u001b[0m\u001b[38;5;214m─────────────────────────────\u001b[0m\u001b[38;5;214m FeatureOutOfRangeWarning \u001b[0m\u001b[38;5;214m─────────────────────────────\u001b[0m\u001b[38;5;214m─╮\u001b[0m\n",
       "\u001b[38;5;214m│\u001b[0m 'cat_feature_0' has values not seen during training. Seen values: {'B', 'A', 'C'}.   \u001b[38;5;214m│\u001b[0m\n",
       "\u001b[38;5;214m│\u001b[0m Predictions may be less reliable.                                                    \u001b[38;5;214m│\u001b[0m\n",
       "\u001b[38;5;214m│\u001b[0m                                                                                      \u001b[38;5;214m│\u001b[0m\n",
       "\u001b[38;5;214m│\u001b[0m Category : skforecast.exceptions.FeatureOutOfRangeWarning                            \u001b[38;5;214m│\u001b[0m\n",
       "\u001b[38;5;214m│\u001b[0m Location : /home/joaquin/Documents/GitHub/skforecast/skforecast/utils/utils.py:3045  \u001b[38;5;214m│\u001b[0m\n",
       "\u001b[38;5;214m│\u001b[0m Suppress : warnings.simplefilter('ignore', category=FeatureOutOfRangeWarning)        \u001b[38;5;214m│\u001b[0m\n",
       "\u001b[38;5;214m╰──────────────────────────────────────────────────────────────────────────────────────╯\u001b[0m\n"
      ]
     },
     "metadata": {},
     "output_type": "display_data"
    }
   ],
   "source": [
    "new_data_valid = pd.DataFrame({\n",
    "    'feature_0': [0.1, 0.1, 0.1, 0.1, 0.1],\n",
    "    'cat_feature_0': ['A', 'B', 'C', 'A', 'B']\n",
    "})\n",
    "\n",
    "new_data_invalid = pd.DataFrame({\n",
    "    'feature_0': [0.1, 0.1, 0.1, 0.1, 10],\n",
    "    'cat_feature_0': ['A', 'B', 'C', 'A', 'D']\n",
    "})\n",
    "\n",
    "new_data_invalid_dict = {'series_1': new_data_invalid, 'series_2': new_data_invalid}\n",
    "\n",
    "check_features_range(ranges, new_data_valid)\n",
    "check_features_range(ranges, new_data_invalid)"
   ]
  },
  {
   "cell_type": "code",
   "execution_count": 7,
   "metadata": {},
   "outputs": [
    {
     "data": {
      "text/html": [
       "<pre style=\"white-space:pre;overflow-x:auto;line-height:normal;font-family:Menlo,'DejaVu Sans Mono',consolas,'Courier New',monospace\"><span style=\"color: #ffaf00; text-decoration-color: #ffaf00\">╭────────────────────────────── FeatureOutOfRangeWarning ──────────────────────────────╮</span>\n",
       "<span style=\"color: #ffaf00; text-decoration-color: #ffaf00\">│</span> 'series_1': 'feature_0' has one or more values outside the range seen during         <span style=\"color: #ffaf00; text-decoration-color: #ffaf00\">│</span>\n",
       "<span style=\"color: #ffaf00; text-decoration-color: #ffaf00\">│</span> training [0.00002, 0.99996]. Predictions may be less reliable.                       <span style=\"color: #ffaf00; text-decoration-color: #ffaf00\">│</span>\n",
       "<span style=\"color: #ffaf00; text-decoration-color: #ffaf00\">│</span>                                                                                      <span style=\"color: #ffaf00; text-decoration-color: #ffaf00\">│</span>\n",
       "<span style=\"color: #ffaf00; text-decoration-color: #ffaf00\">│</span> Category : skforecast.exceptions.FeatureOutOfRangeWarning                            <span style=\"color: #ffaf00; text-decoration-color: #ffaf00\">│</span>\n",
       "<span style=\"color: #ffaf00; text-decoration-color: #ffaf00\">│</span> Location : /home/joaquin/Documents/GitHub/skforecast/skforecast/utils/utils.py:3036  <span style=\"color: #ffaf00; text-decoration-color: #ffaf00\">│</span>\n",
       "<span style=\"color: #ffaf00; text-decoration-color: #ffaf00\">│</span> Suppress : warnings.simplefilter('ignore', category=FeatureOutOfRangeWarning)        <span style=\"color: #ffaf00; text-decoration-color: #ffaf00\">│</span>\n",
       "<span style=\"color: #ffaf00; text-decoration-color: #ffaf00\">╰──────────────────────────────────────────────────────────────────────────────────────╯</span>\n",
       "</pre>\n"
      ],
      "text/plain": [
       "\u001b[38;5;214m╭─\u001b[0m\u001b[38;5;214m─────────────────────────────\u001b[0m\u001b[38;5;214m FeatureOutOfRangeWarning \u001b[0m\u001b[38;5;214m─────────────────────────────\u001b[0m\u001b[38;5;214m─╮\u001b[0m\n",
       "\u001b[38;5;214m│\u001b[0m 'series_1': 'feature_0' has one or more values outside the range seen during         \u001b[38;5;214m│\u001b[0m\n",
       "\u001b[38;5;214m│\u001b[0m training [0.00002, 0.99996]. Predictions may be less reliable.                       \u001b[38;5;214m│\u001b[0m\n",
       "\u001b[38;5;214m│\u001b[0m                                                                                      \u001b[38;5;214m│\u001b[0m\n",
       "\u001b[38;5;214m│\u001b[0m Category : skforecast.exceptions.FeatureOutOfRangeWarning                            \u001b[38;5;214m│\u001b[0m\n",
       "\u001b[38;5;214m│\u001b[0m Location : /home/joaquin/Documents/GitHub/skforecast/skforecast/utils/utils.py:3036  \u001b[38;5;214m│\u001b[0m\n",
       "\u001b[38;5;214m│\u001b[0m Suppress : warnings.simplefilter('ignore', category=FeatureOutOfRangeWarning)        \u001b[38;5;214m│\u001b[0m\n",
       "\u001b[38;5;214m╰──────────────────────────────────────────────────────────────────────────────────────╯\u001b[0m\n"
      ]
     },
     "metadata": {},
     "output_type": "display_data"
    },
    {
     "data": {
      "text/html": [
       "<pre style=\"white-space:pre;overflow-x:auto;line-height:normal;font-family:Menlo,'DejaVu Sans Mono',consolas,'Courier New',monospace\"><span style=\"color: #ffaf00; text-decoration-color: #ffaf00\">╭────────────────────────────── FeatureOutOfRangeWarning ──────────────────────────────╮</span>\n",
       "<span style=\"color: #ffaf00; text-decoration-color: #ffaf00\">│</span> 'series_1': 'cat_feature_0' has values not seen during training. Seen values: {'B',  <span style=\"color: #ffaf00; text-decoration-color: #ffaf00\">│</span>\n",
       "<span style=\"color: #ffaf00; text-decoration-color: #ffaf00\">│</span> 'A', 'C'}. Predictions may be less reliable.                                         <span style=\"color: #ffaf00; text-decoration-color: #ffaf00\">│</span>\n",
       "<span style=\"color: #ffaf00; text-decoration-color: #ffaf00\">│</span>                                                                                      <span style=\"color: #ffaf00; text-decoration-color: #ffaf00\">│</span>\n",
       "<span style=\"color: #ffaf00; text-decoration-color: #ffaf00\">│</span> Category : skforecast.exceptions.FeatureOutOfRangeWarning                            <span style=\"color: #ffaf00; text-decoration-color: #ffaf00\">│</span>\n",
       "<span style=\"color: #ffaf00; text-decoration-color: #ffaf00\">│</span> Location : /home/joaquin/Documents/GitHub/skforecast/skforecast/utils/utils.py:3045  <span style=\"color: #ffaf00; text-decoration-color: #ffaf00\">│</span>\n",
       "<span style=\"color: #ffaf00; text-decoration-color: #ffaf00\">│</span> Suppress : warnings.simplefilter('ignore', category=FeatureOutOfRangeWarning)        <span style=\"color: #ffaf00; text-decoration-color: #ffaf00\">│</span>\n",
       "<span style=\"color: #ffaf00; text-decoration-color: #ffaf00\">╰──────────────────────────────────────────────────────────────────────────────────────╯</span>\n",
       "</pre>\n"
      ],
      "text/plain": [
       "\u001b[38;5;214m╭─\u001b[0m\u001b[38;5;214m─────────────────────────────\u001b[0m\u001b[38;5;214m FeatureOutOfRangeWarning \u001b[0m\u001b[38;5;214m─────────────────────────────\u001b[0m\u001b[38;5;214m─╮\u001b[0m\n",
       "\u001b[38;5;214m│\u001b[0m 'series_1': 'cat_feature_0' has values not seen during training. Seen values: {'B',  \u001b[38;5;214m│\u001b[0m\n",
       "\u001b[38;5;214m│\u001b[0m 'A', 'C'}. Predictions may be less reliable.                                         \u001b[38;5;214m│\u001b[0m\n",
       "\u001b[38;5;214m│\u001b[0m                                                                                      \u001b[38;5;214m│\u001b[0m\n",
       "\u001b[38;5;214m│\u001b[0m Category : skforecast.exceptions.FeatureOutOfRangeWarning                            \u001b[38;5;214m│\u001b[0m\n",
       "\u001b[38;5;214m│\u001b[0m Location : /home/joaquin/Documents/GitHub/skforecast/skforecast/utils/utils.py:3045  \u001b[38;5;214m│\u001b[0m\n",
       "\u001b[38;5;214m│\u001b[0m Suppress : warnings.simplefilter('ignore', category=FeatureOutOfRangeWarning)        \u001b[38;5;214m│\u001b[0m\n",
       "\u001b[38;5;214m╰──────────────────────────────────────────────────────────────────────────────────────╯\u001b[0m\n"
      ]
     },
     "metadata": {},
     "output_type": "display_data"
    }
   ],
   "source": [
    "check_features_range(ranges_dict, new_data_invalid_dict)"
   ]
  },
  {
   "cell_type": "code",
   "execution_count": 8,
   "metadata": {},
   "outputs": [],
   "source": [
    "# Libraries\n",
    "# ==============================================================================\n",
    "import pandas as pd\n",
    "import matplotlib.pyplot as plt\n",
    "from lightgbm import LGBMRegressor\n",
    "from sklearn.metrics import mean_squared_error\n",
    "from skforecast.datasets import fetch_dataset\n",
    "from skforecast.preprocessing import RollingFeatures\n",
    "from skforecast.recursive import ForecasterRecursive\n",
    "from skforecast.plot import plot_prediction_intervals, set_dark_theme"
   ]
  },
  {
   "cell_type": "code",
   "execution_count": 9,
   "metadata": {},
   "outputs": [
    {
     "name": "stdout",
     "output_type": "stream",
     "text": [
      "h2o_exog\n",
      "--------\n",
      "Monthly expenditure ($AUD) on corticosteroid drugs that the Australian health\n",
      "system had between 1991 and 2008. Two additional variables (exog_1, exog_2) are\n",
      "simulated.\n",
      "Hyndman R (2023). fpp3: Data for Forecasting: Principles and Practice (3rd\n",
      "Edition). http://pkg.robjhyndman.com/fpp3package/,\n",
      "https://github.com/robjhyndman/fpp3package, http://OTexts.com/fpp3.\n",
      "Shape of the dataset: (195, 3)\n"
     ]
    },
    {
     "data": {
      "text/html": [
       "\n",
       "    <style>\n",
       "        .container-072758dbb1bb4ea5b47a473c5af1c892 {\n",
       "            font-family: 'Arial', sans-serif;\n",
       "            font-size: 0.9em;\n",
       "            color: #333333;\n",
       "            border: 1px solid #ddd;\n",
       "            background-color: #f0f8ff;\n",
       "            padding: 5px 15px;\n",
       "            border-radius: 8px;\n",
       "            max-width: 600px;\n",
       "            #margin: auto;\n",
       "        }\n",
       "        .container-072758dbb1bb4ea5b47a473c5af1c892 h2 {\n",
       "            font-size: 1.5em;\n",
       "            color: #222222;\n",
       "            border-bottom: 2px solid #ddd;\n",
       "            padding-bottom: 5px;\n",
       "            margin-bottom: 15px;\n",
       "            margin-top: 5px;\n",
       "        }\n",
       "        .container-072758dbb1bb4ea5b47a473c5af1c892 details {\n",
       "            margin: 10px 0;\n",
       "        }\n",
       "        .container-072758dbb1bb4ea5b47a473c5af1c892 summary {\n",
       "            font-weight: bold;\n",
       "            font-size: 1.1em;\n",
       "            color: #000000;\n",
       "            cursor: pointer;\n",
       "            margin-bottom: 5px;\n",
       "            background-color: #b3dbfd;\n",
       "            padding: 5px;\n",
       "            border-radius: 5px;\n",
       "        }\n",
       "        .container-072758dbb1bb4ea5b47a473c5af1c892 summary:hover {\n",
       "            color: #000000;\n",
       "            background-color: #e0e0e0;\n",
       "        }\n",
       "        .container-072758dbb1bb4ea5b47a473c5af1c892 ul {\n",
       "            font-family: 'Courier New', monospace;\n",
       "            list-style-type: none;\n",
       "            padding-left: 20px;\n",
       "            margin: 10px 0;\n",
       "            line-height: normal;\n",
       "        }\n",
       "        .container-072758dbb1bb4ea5b47a473c5af1c892 li {\n",
       "            margin: 5px 0;\n",
       "            font-family: 'Courier New', monospace;\n",
       "        }\n",
       "        .container-072758dbb1bb4ea5b47a473c5af1c892 li strong {\n",
       "            font-weight: bold;\n",
       "            color: #444444;\n",
       "        }\n",
       "        .container-072758dbb1bb4ea5b47a473c5af1c892 li::before {\n",
       "            content: \"- \";\n",
       "            color: #666666;\n",
       "        }\n",
       "        .container-072758dbb1bb4ea5b47a473c5af1c892 a {\n",
       "            color: #001633;\n",
       "            text-decoration: none;\n",
       "        }\n",
       "        .container-072758dbb1bb4ea5b47a473c5af1c892 a:hover {\n",
       "            color: #359ccb; \n",
       "        }\n",
       "    </style>\n",
       "    \n",
       "        <div class=\"container-072758dbb1bb4ea5b47a473c5af1c892\">\n",
       "            <h2>ForecasterRecursive</h2>\n",
       "            <details open>\n",
       "                <summary>General Information</summary>\n",
       "                <ul>\n",
       "                    <li><strong>Regressor:</strong> LGBMRegressor</li>\n",
       "                    <li><strong>Lags:</strong> [ 1  2  3  4  5  6  7  8  9 10 11 12 13 14 15]</li>\n",
       "                    <li><strong>Window features:</strong> ['roll_mean_10']</li>\n",
       "                    <li><strong>Window size:</strong> 15</li>\n",
       "                    <li><strong>Series name:</strong> y</li>\n",
       "                    <li><strong>Exogenous included:</strong> True</li>\n",
       "                    <li><strong>Weight function included:</strong> False</li>\n",
       "                    <li><strong>Differentiation order:</strong> None</li>\n",
       "                    <li><strong>Creation date:</strong> 2025-09-01 20:49:03</li>\n",
       "                    <li><strong>Last fit date:</strong> 2025-09-01 20:49:03</li>\n",
       "                    <li><strong>Skforecast version:</strong> 0.17.0</li>\n",
       "                    <li><strong>Python version:</strong> 3.12.9</li>\n",
       "                    <li><strong>Forecaster id:</strong> None</li>\n",
       "                </ul>\n",
       "            </details>\n",
       "            <details>\n",
       "                <summary>Exogenous Variables</summary>\n",
       "                <ul>\n",
       "                    exog_1, exog_2\n",
       "                </ul>\n",
       "            </details>\n",
       "            <details>\n",
       "                <summary>Data Transformations</summary>\n",
       "                <ul>\n",
       "                    <li><strong>Transformer for y:</strong> None</li>\n",
       "                    <li><strong>Transformer for exog:</strong> None</li>\n",
       "                </ul>\n",
       "            </details>\n",
       "            <details>\n",
       "                <summary>Training Information</summary>\n",
       "                <ul>\n",
       "                    <li><strong>Training range:</strong> [Timestamp('1992-04-01 00:00:00'), Timestamp('2005-06-01 00:00:00')]</li>\n",
       "                    <li><strong>Training index type:</strong> DatetimeIndex</li>\n",
       "                    <li><strong>Training index frequency:</strong> MS</li>\n",
       "                </ul>\n",
       "            </details>\n",
       "            <details>\n",
       "                <summary>Regressor Parameters</summary>\n",
       "                <ul>\n",
       "                    {'boosting_type': 'gbdt', 'class_weight': None, 'colsample_bytree': 1.0, 'importance_type': 'split', 'learning_rate': 0.1, 'max_depth': -1, 'min_child_samples': 20, 'min_child_weight': 0.001, 'min_split_gain': 0.0, 'n_estimators': 100, 'n_jobs': None, 'num_leaves': 31, 'objective': None, 'random_state': 123, 'reg_alpha': 0.0, 'reg_lambda': 0.0, 'subsample': 1.0, 'subsample_for_bin': 200000, 'subsample_freq': 0, 'verbose': -1}\n",
       "                </ul>\n",
       "            </details>\n",
       "            <details>\n",
       "                <summary>Fit Kwargs</summary>\n",
       "                <ul>\n",
       "                    {}\n",
       "                </ul>\n",
       "            </details>\n",
       "            <p>\n",
       "                <a href=\"https://skforecast.org/0.17.0/api/forecasterrecursive.html\">&#128712 <strong>API Reference</strong></a>\n",
       "                &nbsp;&nbsp;\n",
       "                <a href=\"https://skforecast.org/0.17.0/user_guides/autoregresive-forecaster.html\">&#128462 <strong>User Guide</strong></a>\n",
       "            </p>\n",
       "        </div>\n",
       "        "
      ],
      "text/plain": [
       "=================== \n",
       "ForecasterRecursive \n",
       "=================== \n",
       "Regressor: LGBMRegressor \n",
       "Lags: [ 1  2  3  4  5  6  7  8  9 10 11 12 13 14 15] \n",
       "Window features: ['roll_mean_10'] \n",
       "Window size: 15 \n",
       "Series name: y \n",
       "Exogenous included: True \n",
       "Exogenous names: exog_1, exog_2 \n",
       "Transformer for y: None \n",
       "Transformer for exog: None \n",
       "Weight function included: False \n",
       "Differentiation order: None \n",
       "Training range: [Timestamp('1992-04-01 00:00:00'), Timestamp('2005-06-01 00:00:00')] \n",
       "Training index type: DatetimeIndex \n",
       "Training index frequency: MS \n",
       "Regressor parameters: \n",
       "    {'boosting_type': 'gbdt', 'class_weight': None, 'colsample_bytree': 1.0,\n",
       "    'importance_type': 'split', 'learning_rate': 0.1, 'max_depth': -1,\n",
       "    'min_child_samples': 20, 'min_child_weight': 0.001, 'min_split_gain': 0.0,\n",
       "    'n_estimators': 100, 'n_jobs': None, 'num_leaves': 31, 'objective': None,\n",
       "    'random_state': 123, 'reg_alpha': 0.0, 'reg_lambda': 0.0, 'subsample': 1.0,\n",
       "    'subsample_for_bin': 200000, 'subsample_freq': 0, 'verbose': -1} \n",
       "fit_kwargs: {} \n",
       "Creation date: 2025-09-01 20:49:03 \n",
       "Last fit date: 2025-09-01 20:49:03 \n",
       "Skforecast version: 0.17.0 \n",
       "Python version: 3.12.9 \n",
       "Forecaster id: None "
      ]
     },
     "execution_count": 9,
     "metadata": {},
     "output_type": "execute_result"
    }
   ],
   "source": [
    "# Download data\n",
    "# ==============================================================================\n",
    "data = fetch_dataset(name='h2o_exog', raw=False)\n",
    "data.index.name = 'datetime'\n",
    "# Split data in train and test\n",
    "# ==============================================================================\n",
    "steps = 36\n",
    "data_train = data.iloc[:-steps, :]\n",
    "data_test  = data.iloc[-steps:, :]\n",
    "\n",
    "# Create and fit forecaster\n",
    "# ==============================================================================\n",
    "forecaster = ForecasterRecursive(\n",
    "                 regressor       = LGBMRegressor(random_state=123, verbose=-1),\n",
    "                 lags            = 15,\n",
    "                 window_features = RollingFeatures(stats=['mean'], window_sizes=10),\n",
    "                 transformer_y   = None, \n",
    "             )\n",
    "\n",
    "forecaster.fit(y=data_train['y'], exog=data_train.drop(columns='y'))\n",
    "forecaster"
   ]
  },
  {
   "cell_type": "code",
   "execution_count": 10,
   "metadata": {},
   "outputs": [
    {
     "data": {
      "text/plain": [
       "{'y': (np.float64(0.361801), np.float64(1.257238))}"
      ]
     },
     "execution_count": 10,
     "metadata": {},
     "output_type": "execute_result"
    }
   ],
   "source": [
    "forecaster.series_values_range_\n"
   ]
  },
  {
   "cell_type": "code",
   "execution_count": 11,
   "metadata": {},
   "outputs": [
    {
     "data": {
      "text/plain": [
       "{'exog_1': (np.float64(0.949715355), np.float64(1.534778297)),\n",
       " 'exog_2': (np.float64(1.0679422), np.float64(1.8918816))}"
      ]
     },
     "execution_count": 11,
     "metadata": {},
     "output_type": "execute_result"
    }
   ],
   "source": [
    "forecaster.exog_values_range_"
   ]
  },
  {
   "cell_type": "code",
   "execution_count": 12,
   "metadata": {},
   "outputs": [
    {
     "data": {
      "text/html": [
       "<div>\n",
       "<style scoped>\n",
       "    .dataframe tbody tr th:only-of-type {\n",
       "        vertical-align: middle;\n",
       "    }\n",
       "\n",
       "    .dataframe tbody tr th {\n",
       "        vertical-align: top;\n",
       "    }\n",
       "\n",
       "    .dataframe thead th {\n",
       "        text-align: right;\n",
       "    }\n",
       "</style>\n",
       "<table border=\"1\" class=\"dataframe\">\n",
       "  <thead>\n",
       "    <tr style=\"text-align: right;\">\n",
       "      <th></th>\n",
       "      <th>y</th>\n",
       "      <th>exog_1</th>\n",
       "      <th>exog_2</th>\n",
       "    </tr>\n",
       "    <tr>\n",
       "      <th>datetime</th>\n",
       "      <th></th>\n",
       "      <th></th>\n",
       "      <th></th>\n",
       "    </tr>\n",
       "  </thead>\n",
       "  <tbody>\n",
       "    <tr>\n",
       "      <th>2005-07-01</th>\n",
       "      <td>0.874336</td>\n",
       "      <td>1.415756</td>\n",
       "      <td>1.446988</td>\n",
       "    </tr>\n",
       "    <tr>\n",
       "      <th>2005-08-01</th>\n",
       "      <td>1.006497</td>\n",
       "      <td>1.398304</td>\n",
       "      <td>1.517770</td>\n",
       "    </tr>\n",
       "    <tr>\n",
       "      <th>2005-09-01</th>\n",
       "      <td>1.094736</td>\n",
       "      <td>1.386174</td>\n",
       "      <td>1.602616</td>\n",
       "    </tr>\n",
       "    <tr>\n",
       "      <th>2005-10-01</th>\n",
       "      <td>1.027043</td>\n",
       "      <td>1.363155</td>\n",
       "      <td>1.668975</td>\n",
       "    </tr>\n",
       "    <tr>\n",
       "      <th>2005-11-01</th>\n",
       "      <td>1.149232</td>\n",
       "      <td>1.361009</td>\n",
       "      <td>1.730369</td>\n",
       "    </tr>\n",
       "    <tr>\n",
       "      <th>2005-12-01</th>\n",
       "      <td>1.160712</td>\n",
       "      <td>1.417316</td>\n",
       "      <td>1.787644</td>\n",
       "    </tr>\n",
       "    <tr>\n",
       "      <th>2006-01-01</th>\n",
       "      <td>1.230691</td>\n",
       "      <td>1.475126</td>\n",
       "      <td>1.832483</td>\n",
       "    </tr>\n",
       "    <tr>\n",
       "      <th>2006-02-01</th>\n",
       "      <td>0.587135</td>\n",
       "      <td>1.466789</td>\n",
       "      <td>1.730963</td>\n",
       "    </tr>\n",
       "    <tr>\n",
       "      <th>2006-03-01</th>\n",
       "      <td>0.706959</td>\n",
       "      <td>1.467960</td>\n",
       "      <td>1.666946</td>\n",
       "    </tr>\n",
       "    <tr>\n",
       "      <th>2006-04-01</th>\n",
       "      <td>0.639641</td>\n",
       "      <td>1.447698</td>\n",
       "      <td>1.565028</td>\n",
       "    </tr>\n",
       "    <tr>\n",
       "      <th>2006-05-01</th>\n",
       "      <td>0.807405</td>\n",
       "      <td>1.441005</td>\n",
       "      <td>1.494366</td>\n",
       "    </tr>\n",
       "    <tr>\n",
       "      <th>2006-06-01</th>\n",
       "      <td>0.797970</td>\n",
       "      <td>1.420152</td>\n",
       "      <td>1.407822</td>\n",
       "    </tr>\n",
       "    <tr>\n",
       "      <th>2006-07-01</th>\n",
       "      <td>0.884312</td>\n",
       "      <td>1.399110</td>\n",
       "      <td>1.467257</td>\n",
       "    </tr>\n",
       "    <tr>\n",
       "      <th>2006-08-01</th>\n",
       "      <td>1.049648</td>\n",
       "      <td>1.401371</td>\n",
       "      <td>1.535795</td>\n",
       "    </tr>\n",
       "    <tr>\n",
       "      <th>2006-09-01</th>\n",
       "      <td>0.995709</td>\n",
       "      <td>1.386018</td>\n",
       "      <td>1.607009</td>\n",
       "    </tr>\n",
       "    <tr>\n",
       "      <th>2006-10-01</th>\n",
       "      <td>1.168253</td>\n",
       "      <td>1.386772</td>\n",
       "      <td>1.679178</td>\n",
       "    </tr>\n",
       "    <tr>\n",
       "      <th>2006-11-01</th>\n",
       "      <td>1.108038</td>\n",
       "      <td>1000.000000</td>\n",
       "      <td>-1000.000000</td>\n",
       "    </tr>\n",
       "    <tr>\n",
       "      <th>2006-12-01</th>\n",
       "      <td>1.120053</td>\n",
       "      <td>1.427799</td>\n",
       "      <td>1.788340</td>\n",
       "    </tr>\n",
       "    <tr>\n",
       "      <th>2007-01-01</th>\n",
       "      <td>1.223319</td>\n",
       "      <td>1.479435</td>\n",
       "      <td>1.823074</td>\n",
       "    </tr>\n",
       "    <tr>\n",
       "      <th>2007-02-01</th>\n",
       "      <td>0.597753</td>\n",
       "      <td>1.475246</td>\n",
       "      <td>1.743483</td>\n",
       "    </tr>\n",
       "    <tr>\n",
       "      <th>2007-03-01</th>\n",
       "      <td>0.704398</td>\n",
       "      <td>1.464945</td>\n",
       "      <td>1.650712</td>\n",
       "    </tr>\n",
       "    <tr>\n",
       "      <th>2007-04-01</th>\n",
       "      <td>0.561760</td>\n",
       "      <td>1.441324</td>\n",
       "      <td>1.541457</td>\n",
       "    </tr>\n",
       "    <tr>\n",
       "      <th>2007-05-01</th>\n",
       "      <td>0.745258</td>\n",
       "      <td>1.427419</td>\n",
       "      <td>1.466498</td>\n",
       "    </tr>\n",
       "    <tr>\n",
       "      <th>2007-06-01</th>\n",
       "      <td>0.837934</td>\n",
       "      <td>1.406248</td>\n",
       "      <td>1.389421</td>\n",
       "    </tr>\n",
       "    <tr>\n",
       "      <th>2007-07-01</th>\n",
       "      <td>0.954144</td>\n",
       "      <td>1.402091</td>\n",
       "      <td>1.460699</td>\n",
       "    </tr>\n",
       "    <tr>\n",
       "      <th>2007-08-01</th>\n",
       "      <td>1.078219</td>\n",
       "      <td>1.393088</td>\n",
       "      <td>1.535463</td>\n",
       "    </tr>\n",
       "    <tr>\n",
       "      <th>2007-09-01</th>\n",
       "      <td>1.110982</td>\n",
       "      <td>1.393382</td>\n",
       "      <td>1.645307</td>\n",
       "    </tr>\n",
       "    <tr>\n",
       "      <th>2007-10-01</th>\n",
       "      <td>1.109979</td>\n",
       "      <td>1.392375</td>\n",
       "      <td>1.718252</td>\n",
       "    </tr>\n",
       "    <tr>\n",
       "      <th>2007-11-01</th>\n",
       "      <td>1.163534</td>\n",
       "      <td>1.386396</td>\n",
       "      <td>1.783372</td>\n",
       "    </tr>\n",
       "    <tr>\n",
       "      <th>2007-12-01</th>\n",
       "      <td>1.176589</td>\n",
       "      <td>1.444280</td>\n",
       "      <td>1.827861</td>\n",
       "    </tr>\n",
       "    <tr>\n",
       "      <th>2008-01-01</th>\n",
       "      <td>1.219941</td>\n",
       "      <td>1.495834</td>\n",
       "      <td>1.856205</td>\n",
       "    </tr>\n",
       "    <tr>\n",
       "      <th>2008-02-01</th>\n",
       "      <td>0.761822</td>\n",
       "      <td>1.515840</td>\n",
       "      <td>1.786373</td>\n",
       "    </tr>\n",
       "    <tr>\n",
       "      <th>2008-03-01</th>\n",
       "      <td>0.649435</td>\n",
       "      <td>1.506258</td>\n",
       "      <td>1.694264</td>\n",
       "    </tr>\n",
       "    <tr>\n",
       "      <th>2008-04-01</th>\n",
       "      <td>0.827887</td>\n",
       "      <td>1.505253</td>\n",
       "      <td>1.627135</td>\n",
       "    </tr>\n",
       "    <tr>\n",
       "      <th>2008-05-01</th>\n",
       "      <td>0.816255</td>\n",
       "      <td>1.491464</td>\n",
       "      <td>1.555068</td>\n",
       "    </tr>\n",
       "    <tr>\n",
       "      <th>2008-06-01</th>\n",
       "      <td>0.762137</td>\n",
       "      <td>1.459856</td>\n",
       "      <td>1.463507</td>\n",
       "    </tr>\n",
       "  </tbody>\n",
       "</table>\n",
       "</div>"
      ],
      "text/plain": [
       "                   y       exog_1       exog_2\n",
       "datetime                                      \n",
       "2005-07-01  0.874336     1.415756     1.446988\n",
       "2005-08-01  1.006497     1.398304     1.517770\n",
       "2005-09-01  1.094736     1.386174     1.602616\n",
       "2005-10-01  1.027043     1.363155     1.668975\n",
       "2005-11-01  1.149232     1.361009     1.730369\n",
       "2005-12-01  1.160712     1.417316     1.787644\n",
       "2006-01-01  1.230691     1.475126     1.832483\n",
       "2006-02-01  0.587135     1.466789     1.730963\n",
       "2006-03-01  0.706959     1.467960     1.666946\n",
       "2006-04-01  0.639641     1.447698     1.565028\n",
       "2006-05-01  0.807405     1.441005     1.494366\n",
       "2006-06-01  0.797970     1.420152     1.407822\n",
       "2006-07-01  0.884312     1.399110     1.467257\n",
       "2006-08-01  1.049648     1.401371     1.535795\n",
       "2006-09-01  0.995709     1.386018     1.607009\n",
       "2006-10-01  1.168253     1.386772     1.679178\n",
       "2006-11-01  1.108038  1000.000000 -1000.000000\n",
       "2006-12-01  1.120053     1.427799     1.788340\n",
       "2007-01-01  1.223319     1.479435     1.823074\n",
       "2007-02-01  0.597753     1.475246     1.743483\n",
       "2007-03-01  0.704398     1.464945     1.650712\n",
       "2007-04-01  0.561760     1.441324     1.541457\n",
       "2007-05-01  0.745258     1.427419     1.466498\n",
       "2007-06-01  0.837934     1.406248     1.389421\n",
       "2007-07-01  0.954144     1.402091     1.460699\n",
       "2007-08-01  1.078219     1.393088     1.535463\n",
       "2007-09-01  1.110982     1.393382     1.645307\n",
       "2007-10-01  1.109979     1.392375     1.718252\n",
       "2007-11-01  1.163534     1.386396     1.783372\n",
       "2007-12-01  1.176589     1.444280     1.827861\n",
       "2008-01-01  1.219941     1.495834     1.856205\n",
       "2008-02-01  0.761822     1.515840     1.786373\n",
       "2008-03-01  0.649435     1.506258     1.694264\n",
       "2008-04-01  0.827887     1.505253     1.627135\n",
       "2008-05-01  0.816255     1.491464     1.555068\n",
       "2008-06-01  0.762137     1.459856     1.463507"
      ]
     },
     "execution_count": 12,
     "metadata": {},
     "output_type": "execute_result"
    }
   ],
   "source": [
    "data_test = data_test.copy()\n",
    "data_test.loc['2006-11-01', 'exog_1'] = 1000\n",
    "data_test.loc['2006-11-01', 'exog_2'] = -1000\n",
    "data_test"
   ]
  },
  {
   "cell_type": "code",
   "execution_count": 13,
   "metadata": {},
   "outputs": [
    {
     "data": {
      "text/html": [
       "<pre style=\"white-space:pre;overflow-x:auto;line-height:normal;font-family:Menlo,'DejaVu Sans Mono',consolas,'Courier New',monospace\"><span style=\"color: #ffaf00; text-decoration-color: #ffaf00\">╭────────────────────────────── FeatureOutOfRangeWarning ──────────────────────────────╮</span>\n",
       "<span style=\"color: #ffaf00; text-decoration-color: #ffaf00\">│</span> 'exog_1' has one or more values outside the range seen during training [0.94972,     <span style=\"color: #ffaf00; text-decoration-color: #ffaf00\">│</span>\n",
       "<span style=\"color: #ffaf00; text-decoration-color: #ffaf00\">│</span> 1.53478]. Predictions may be less reliable.                                          <span style=\"color: #ffaf00; text-decoration-color: #ffaf00\">│</span>\n",
       "<span style=\"color: #ffaf00; text-decoration-color: #ffaf00\">│</span>                                                                                      <span style=\"color: #ffaf00; text-decoration-color: #ffaf00\">│</span>\n",
       "<span style=\"color: #ffaf00; text-decoration-color: #ffaf00\">│</span> Category : skforecast.exceptions.FeatureOutOfRangeWarning                            <span style=\"color: #ffaf00; text-decoration-color: #ffaf00\">│</span>\n",
       "<span style=\"color: #ffaf00; text-decoration-color: #ffaf00\">│</span> Location : /home/joaquin/Documents/GitHub/skforecast/skforecast/utils/utils.py:3036  <span style=\"color: #ffaf00; text-decoration-color: #ffaf00\">│</span>\n",
       "<span style=\"color: #ffaf00; text-decoration-color: #ffaf00\">│</span> Suppress : warnings.simplefilter('ignore', category=FeatureOutOfRangeWarning)        <span style=\"color: #ffaf00; text-decoration-color: #ffaf00\">│</span>\n",
       "<span style=\"color: #ffaf00; text-decoration-color: #ffaf00\">╰──────────────────────────────────────────────────────────────────────────────────────╯</span>\n",
       "</pre>\n"
      ],
      "text/plain": [
       "\u001b[38;5;214m╭─\u001b[0m\u001b[38;5;214m─────────────────────────────\u001b[0m\u001b[38;5;214m FeatureOutOfRangeWarning \u001b[0m\u001b[38;5;214m─────────────────────────────\u001b[0m\u001b[38;5;214m─╮\u001b[0m\n",
       "\u001b[38;5;214m│\u001b[0m 'exog_1' has one or more values outside the range seen during training [0.94972,     \u001b[38;5;214m│\u001b[0m\n",
       "\u001b[38;5;214m│\u001b[0m 1.53478]. Predictions may be less reliable.                                          \u001b[38;5;214m│\u001b[0m\n",
       "\u001b[38;5;214m│\u001b[0m                                                                                      \u001b[38;5;214m│\u001b[0m\n",
       "\u001b[38;5;214m│\u001b[0m Category : skforecast.exceptions.FeatureOutOfRangeWarning                            \u001b[38;5;214m│\u001b[0m\n",
       "\u001b[38;5;214m│\u001b[0m Location : /home/joaquin/Documents/GitHub/skforecast/skforecast/utils/utils.py:3036  \u001b[38;5;214m│\u001b[0m\n",
       "\u001b[38;5;214m│\u001b[0m Suppress : warnings.simplefilter('ignore', category=FeatureOutOfRangeWarning)        \u001b[38;5;214m│\u001b[0m\n",
       "\u001b[38;5;214m╰──────────────────────────────────────────────────────────────────────────────────────╯\u001b[0m\n"
      ]
     },
     "metadata": {},
     "output_type": "display_data"
    },
    {
     "data": {
      "text/html": [
       "<pre style=\"white-space:pre;overflow-x:auto;line-height:normal;font-family:Menlo,'DejaVu Sans Mono',consolas,'Courier New',monospace\"><span style=\"color: #ffaf00; text-decoration-color: #ffaf00\">╭────────────────────────────── FeatureOutOfRangeWarning ──────────────────────────────╮</span>\n",
       "<span style=\"color: #ffaf00; text-decoration-color: #ffaf00\">│</span> 'exog_2' has one or more values outside the range seen during training [1.06794,     <span style=\"color: #ffaf00; text-decoration-color: #ffaf00\">│</span>\n",
       "<span style=\"color: #ffaf00; text-decoration-color: #ffaf00\">│</span> 1.89188]. Predictions may be less reliable.                                          <span style=\"color: #ffaf00; text-decoration-color: #ffaf00\">│</span>\n",
       "<span style=\"color: #ffaf00; text-decoration-color: #ffaf00\">│</span>                                                                                      <span style=\"color: #ffaf00; text-decoration-color: #ffaf00\">│</span>\n",
       "<span style=\"color: #ffaf00; text-decoration-color: #ffaf00\">│</span> Category : skforecast.exceptions.FeatureOutOfRangeWarning                            <span style=\"color: #ffaf00; text-decoration-color: #ffaf00\">│</span>\n",
       "<span style=\"color: #ffaf00; text-decoration-color: #ffaf00\">│</span> Location : /home/joaquin/Documents/GitHub/skforecast/skforecast/utils/utils.py:3036  <span style=\"color: #ffaf00; text-decoration-color: #ffaf00\">│</span>\n",
       "<span style=\"color: #ffaf00; text-decoration-color: #ffaf00\">│</span> Suppress : warnings.simplefilter('ignore', category=FeatureOutOfRangeWarning)        <span style=\"color: #ffaf00; text-decoration-color: #ffaf00\">│</span>\n",
       "<span style=\"color: #ffaf00; text-decoration-color: #ffaf00\">╰──────────────────────────────────────────────────────────────────────────────────────╯</span>\n",
       "</pre>\n"
      ],
      "text/plain": [
       "\u001b[38;5;214m╭─\u001b[0m\u001b[38;5;214m─────────────────────────────\u001b[0m\u001b[38;5;214m FeatureOutOfRangeWarning \u001b[0m\u001b[38;5;214m─────────────────────────────\u001b[0m\u001b[38;5;214m─╮\u001b[0m\n",
       "\u001b[38;5;214m│\u001b[0m 'exog_2' has one or more values outside the range seen during training [1.06794,     \u001b[38;5;214m│\u001b[0m\n",
       "\u001b[38;5;214m│\u001b[0m 1.89188]. Predictions may be less reliable.                                          \u001b[38;5;214m│\u001b[0m\n",
       "\u001b[38;5;214m│\u001b[0m                                                                                      \u001b[38;5;214m│\u001b[0m\n",
       "\u001b[38;5;214m│\u001b[0m Category : skforecast.exceptions.FeatureOutOfRangeWarning                            \u001b[38;5;214m│\u001b[0m\n",
       "\u001b[38;5;214m│\u001b[0m Location : /home/joaquin/Documents/GitHub/skforecast/skforecast/utils/utils.py:3036  \u001b[38;5;214m│\u001b[0m\n",
       "\u001b[38;5;214m│\u001b[0m Suppress : warnings.simplefilter('ignore', category=FeatureOutOfRangeWarning)        \u001b[38;5;214m│\u001b[0m\n",
       "\u001b[38;5;214m╰──────────────────────────────────────────────────────────────────────────────────────╯\u001b[0m\n"
      ]
     },
     "metadata": {},
     "output_type": "display_data"
    }
   ],
   "source": [
    "check_features_range(\n",
    "    forecaster.exog_values_range_, \n",
    "    data_test.drop(columns='y')\n",
    ")"
   ]
  },
  {
   "cell_type": "code",
   "execution_count": 14,
   "metadata": {},
   "outputs": [
    {
     "data": {
      "text/html": [
       "<pre style=\"white-space:pre;overflow-x:auto;line-height:normal;font-family:Menlo,'DejaVu Sans Mono',consolas,'Courier New',monospace\"><span style=\"color: #ffaf00; text-decoration-color: #ffaf00\">╭────────────────────────────── FeatureOutOfRangeWarning ──────────────────────────────╮</span>\n",
       "<span style=\"color: #ffaf00; text-decoration-color: #ffaf00\">│</span> 'exog_1' has one or more values outside the range seen during training [0.94972,     <span style=\"color: #ffaf00; text-decoration-color: #ffaf00\">│</span>\n",
       "<span style=\"color: #ffaf00; text-decoration-color: #ffaf00\">│</span> 1.53478]. Predictions may be less reliable.                                          <span style=\"color: #ffaf00; text-decoration-color: #ffaf00\">│</span>\n",
       "<span style=\"color: #ffaf00; text-decoration-color: #ffaf00\">│</span>                                                                                      <span style=\"color: #ffaf00; text-decoration-color: #ffaf00\">│</span>\n",
       "<span style=\"color: #ffaf00; text-decoration-color: #ffaf00\">│</span> Category : skforecast.exceptions.FeatureOutOfRangeWarning                            <span style=\"color: #ffaf00; text-decoration-color: #ffaf00\">│</span>\n",
       "<span style=\"color: #ffaf00; text-decoration-color: #ffaf00\">│</span> Location : /home/joaquin/Documents/GitHub/skforecast/skforecast/utils/utils.py:3036  <span style=\"color: #ffaf00; text-decoration-color: #ffaf00\">│</span>\n",
       "<span style=\"color: #ffaf00; text-decoration-color: #ffaf00\">│</span> Suppress : warnings.simplefilter('ignore', category=FeatureOutOfRangeWarning)        <span style=\"color: #ffaf00; text-decoration-color: #ffaf00\">│</span>\n",
       "<span style=\"color: #ffaf00; text-decoration-color: #ffaf00\">╰──────────────────────────────────────────────────────────────────────────────────────╯</span>\n",
       "</pre>\n"
      ],
      "text/plain": [
       "\u001b[38;5;214m╭─\u001b[0m\u001b[38;5;214m─────────────────────────────\u001b[0m\u001b[38;5;214m FeatureOutOfRangeWarning \u001b[0m\u001b[38;5;214m─────────────────────────────\u001b[0m\u001b[38;5;214m─╮\u001b[0m\n",
       "\u001b[38;5;214m│\u001b[0m 'exog_1' has one or more values outside the range seen during training [0.94972,     \u001b[38;5;214m│\u001b[0m\n",
       "\u001b[38;5;214m│\u001b[0m 1.53478]. Predictions may be less reliable.                                          \u001b[38;5;214m│\u001b[0m\n",
       "\u001b[38;5;214m│\u001b[0m                                                                                      \u001b[38;5;214m│\u001b[0m\n",
       "\u001b[38;5;214m│\u001b[0m Category : skforecast.exceptions.FeatureOutOfRangeWarning                            \u001b[38;5;214m│\u001b[0m\n",
       "\u001b[38;5;214m│\u001b[0m Location : /home/joaquin/Documents/GitHub/skforecast/skforecast/utils/utils.py:3036  \u001b[38;5;214m│\u001b[0m\n",
       "\u001b[38;5;214m│\u001b[0m Suppress : warnings.simplefilter('ignore', category=FeatureOutOfRangeWarning)        \u001b[38;5;214m│\u001b[0m\n",
       "\u001b[38;5;214m╰──────────────────────────────────────────────────────────────────────────────────────╯\u001b[0m\n"
      ]
     },
     "metadata": {},
     "output_type": "display_data"
    },
    {
     "data": {
      "text/html": [
       "<pre style=\"white-space:pre;overflow-x:auto;line-height:normal;font-family:Menlo,'DejaVu Sans Mono',consolas,'Courier New',monospace\"><span style=\"color: #ffaf00; text-decoration-color: #ffaf00\">╭────────────────────────────── FeatureOutOfRangeWarning ──────────────────────────────╮</span>\n",
       "<span style=\"color: #ffaf00; text-decoration-color: #ffaf00\">│</span> 'exog_2' has one or more values outside the range seen during training [1.06794,     <span style=\"color: #ffaf00; text-decoration-color: #ffaf00\">│</span>\n",
       "<span style=\"color: #ffaf00; text-decoration-color: #ffaf00\">│</span> 1.89188]. Predictions may be less reliable.                                          <span style=\"color: #ffaf00; text-decoration-color: #ffaf00\">│</span>\n",
       "<span style=\"color: #ffaf00; text-decoration-color: #ffaf00\">│</span>                                                                                      <span style=\"color: #ffaf00; text-decoration-color: #ffaf00\">│</span>\n",
       "<span style=\"color: #ffaf00; text-decoration-color: #ffaf00\">│</span> Category : skforecast.exceptions.FeatureOutOfRangeWarning                            <span style=\"color: #ffaf00; text-decoration-color: #ffaf00\">│</span>\n",
       "<span style=\"color: #ffaf00; text-decoration-color: #ffaf00\">│</span> Location : /home/joaquin/Documents/GitHub/skforecast/skforecast/utils/utils.py:3036  <span style=\"color: #ffaf00; text-decoration-color: #ffaf00\">│</span>\n",
       "<span style=\"color: #ffaf00; text-decoration-color: #ffaf00\">│</span> Suppress : warnings.simplefilter('ignore', category=FeatureOutOfRangeWarning)        <span style=\"color: #ffaf00; text-decoration-color: #ffaf00\">│</span>\n",
       "<span style=\"color: #ffaf00; text-decoration-color: #ffaf00\">╰──────────────────────────────────────────────────────────────────────────────────────╯</span>\n",
       "</pre>\n"
      ],
      "text/plain": [
       "\u001b[38;5;214m╭─\u001b[0m\u001b[38;5;214m─────────────────────────────\u001b[0m\u001b[38;5;214m FeatureOutOfRangeWarning \u001b[0m\u001b[38;5;214m─────────────────────────────\u001b[0m\u001b[38;5;214m─╮\u001b[0m\n",
       "\u001b[38;5;214m│\u001b[0m 'exog_2' has one or more values outside the range seen during training [1.06794,     \u001b[38;5;214m│\u001b[0m\n",
       "\u001b[38;5;214m│\u001b[0m 1.89188]. Predictions may be less reliable.                                          \u001b[38;5;214m│\u001b[0m\n",
       "\u001b[38;5;214m│\u001b[0m                                                                                      \u001b[38;5;214m│\u001b[0m\n",
       "\u001b[38;5;214m│\u001b[0m Category : skforecast.exceptions.FeatureOutOfRangeWarning                            \u001b[38;5;214m│\u001b[0m\n",
       "\u001b[38;5;214m│\u001b[0m Location : /home/joaquin/Documents/GitHub/skforecast/skforecast/utils/utils.py:3036  \u001b[38;5;214m│\u001b[0m\n",
       "\u001b[38;5;214m│\u001b[0m Suppress : warnings.simplefilter('ignore', category=FeatureOutOfRangeWarning)        \u001b[38;5;214m│\u001b[0m\n",
       "\u001b[38;5;214m╰──────────────────────────────────────────────────────────────────────────────────────╯\u001b[0m\n"
      ]
     },
     "metadata": {},
     "output_type": "display_data"
    },
    {
     "name": "stderr",
     "output_type": "stream",
     "text": [
      "/home/joaquin/miniconda3/envs/skforecast_16_py12/lib/python3.12/site-packages/sklearn/utils/deprecation.py:132: FutureWarning: 'force_all_finite' was renamed to 'ensure_all_finite' in 1.6 and will be removed in 1.8.\n",
      "  warnings.warn(\n",
      "/home/joaquin/miniconda3/envs/skforecast_16_py12/lib/python3.12/site-packages/sklearn/utils/deprecation.py:132: FutureWarning: 'force_all_finite' was renamed to 'ensure_all_finite' in 1.6 and will be removed in 1.8.\n",
      "  warnings.warn(\n",
      "/home/joaquin/miniconda3/envs/skforecast_16_py12/lib/python3.12/site-packages/sklearn/utils/deprecation.py:132: FutureWarning: 'force_all_finite' was renamed to 'ensure_all_finite' in 1.6 and will be removed in 1.8.\n",
      "  warnings.warn(\n",
      "/home/joaquin/miniconda3/envs/skforecast_16_py12/lib/python3.12/site-packages/sklearn/utils/deprecation.py:132: FutureWarning: 'force_all_finite' was renamed to 'ensure_all_finite' in 1.6 and will be removed in 1.8.\n",
      "  warnings.warn(\n",
      "/home/joaquin/miniconda3/envs/skforecast_16_py12/lib/python3.12/site-packages/sklearn/utils/deprecation.py:132: FutureWarning: 'force_all_finite' was renamed to 'ensure_all_finite' in 1.6 and will be removed in 1.8.\n",
      "  warnings.warn(\n",
      "/home/joaquin/miniconda3/envs/skforecast_16_py12/lib/python3.12/site-packages/sklearn/utils/deprecation.py:132: FutureWarning: 'force_all_finite' was renamed to 'ensure_all_finite' in 1.6 and will be removed in 1.8.\n",
      "  warnings.warn(\n",
      "/home/joaquin/miniconda3/envs/skforecast_16_py12/lib/python3.12/site-packages/sklearn/utils/deprecation.py:132: FutureWarning: 'force_all_finite' was renamed to 'ensure_all_finite' in 1.6 and will be removed in 1.8.\n",
      "  warnings.warn(\n",
      "/home/joaquin/miniconda3/envs/skforecast_16_py12/lib/python3.12/site-packages/sklearn/utils/deprecation.py:132: FutureWarning: 'force_all_finite' was renamed to 'ensure_all_finite' in 1.6 and will be removed in 1.8.\n",
      "  warnings.warn(\n",
      "/home/joaquin/miniconda3/envs/skforecast_16_py12/lib/python3.12/site-packages/sklearn/utils/deprecation.py:132: FutureWarning: 'force_all_finite' was renamed to 'ensure_all_finite' in 1.6 and will be removed in 1.8.\n",
      "  warnings.warn(\n",
      "/home/joaquin/miniconda3/envs/skforecast_16_py12/lib/python3.12/site-packages/sklearn/utils/deprecation.py:132: FutureWarning: 'force_all_finite' was renamed to 'ensure_all_finite' in 1.6 and will be removed in 1.8.\n",
      "  warnings.warn(\n",
      "/home/joaquin/miniconda3/envs/skforecast_16_py12/lib/python3.12/site-packages/sklearn/utils/deprecation.py:132: FutureWarning: 'force_all_finite' was renamed to 'ensure_all_finite' in 1.6 and will be removed in 1.8.\n",
      "  warnings.warn(\n",
      "/home/joaquin/miniconda3/envs/skforecast_16_py12/lib/python3.12/site-packages/sklearn/utils/deprecation.py:132: FutureWarning: 'force_all_finite' was renamed to 'ensure_all_finite' in 1.6 and will be removed in 1.8.\n",
      "  warnings.warn(\n",
      "/home/joaquin/miniconda3/envs/skforecast_16_py12/lib/python3.12/site-packages/sklearn/utils/deprecation.py:132: FutureWarning: 'force_all_finite' was renamed to 'ensure_all_finite' in 1.6 and will be removed in 1.8.\n",
      "  warnings.warn(\n",
      "/home/joaquin/miniconda3/envs/skforecast_16_py12/lib/python3.12/site-packages/sklearn/utils/deprecation.py:132: FutureWarning: 'force_all_finite' was renamed to 'ensure_all_finite' in 1.6 and will be removed in 1.8.\n",
      "  warnings.warn(\n",
      "/home/joaquin/miniconda3/envs/skforecast_16_py12/lib/python3.12/site-packages/sklearn/utils/deprecation.py:132: FutureWarning: 'force_all_finite' was renamed to 'ensure_all_finite' in 1.6 and will be removed in 1.8.\n",
      "  warnings.warn(\n",
      "/home/joaquin/miniconda3/envs/skforecast_16_py12/lib/python3.12/site-packages/sklearn/utils/deprecation.py:132: FutureWarning: 'force_all_finite' was renamed to 'ensure_all_finite' in 1.6 and will be removed in 1.8.\n",
      "  warnings.warn(\n",
      "/home/joaquin/miniconda3/envs/skforecast_16_py12/lib/python3.12/site-packages/sklearn/utils/deprecation.py:132: FutureWarning: 'force_all_finite' was renamed to 'ensure_all_finite' in 1.6 and will be removed in 1.8.\n",
      "  warnings.warn(\n",
      "/home/joaquin/miniconda3/envs/skforecast_16_py12/lib/python3.12/site-packages/sklearn/utils/deprecation.py:132: FutureWarning: 'force_all_finite' was renamed to 'ensure_all_finite' in 1.6 and will be removed in 1.8.\n",
      "  warnings.warn(\n",
      "/home/joaquin/miniconda3/envs/skforecast_16_py12/lib/python3.12/site-packages/sklearn/utils/deprecation.py:132: FutureWarning: 'force_all_finite' was renamed to 'ensure_all_finite' in 1.6 and will be removed in 1.8.\n",
      "  warnings.warn(\n",
      "/home/joaquin/miniconda3/envs/skforecast_16_py12/lib/python3.12/site-packages/sklearn/utils/deprecation.py:132: FutureWarning: 'force_all_finite' was renamed to 'ensure_all_finite' in 1.6 and will be removed in 1.8.\n",
      "  warnings.warn(\n",
      "/home/joaquin/miniconda3/envs/skforecast_16_py12/lib/python3.12/site-packages/sklearn/utils/deprecation.py:132: FutureWarning: 'force_all_finite' was renamed to 'ensure_all_finite' in 1.6 and will be removed in 1.8.\n",
      "  warnings.warn(\n",
      "/home/joaquin/miniconda3/envs/skforecast_16_py12/lib/python3.12/site-packages/sklearn/utils/deprecation.py:132: FutureWarning: 'force_all_finite' was renamed to 'ensure_all_finite' in 1.6 and will be removed in 1.8.\n",
      "  warnings.warn(\n",
      "/home/joaquin/miniconda3/envs/skforecast_16_py12/lib/python3.12/site-packages/sklearn/utils/deprecation.py:132: FutureWarning: 'force_all_finite' was renamed to 'ensure_all_finite' in 1.6 and will be removed in 1.8.\n",
      "  warnings.warn(\n",
      "/home/joaquin/miniconda3/envs/skforecast_16_py12/lib/python3.12/site-packages/sklearn/utils/deprecation.py:132: FutureWarning: 'force_all_finite' was renamed to 'ensure_all_finite' in 1.6 and will be removed in 1.8.\n",
      "  warnings.warn(\n",
      "/home/joaquin/miniconda3/envs/skforecast_16_py12/lib/python3.12/site-packages/sklearn/utils/deprecation.py:132: FutureWarning: 'force_all_finite' was renamed to 'ensure_all_finite' in 1.6 and will be removed in 1.8.\n",
      "  warnings.warn(\n",
      "/home/joaquin/miniconda3/envs/skforecast_16_py12/lib/python3.12/site-packages/sklearn/utils/deprecation.py:132: FutureWarning: 'force_all_finite' was renamed to 'ensure_all_finite' in 1.6 and will be removed in 1.8.\n",
      "  warnings.warn(\n",
      "/home/joaquin/miniconda3/envs/skforecast_16_py12/lib/python3.12/site-packages/sklearn/utils/deprecation.py:132: FutureWarning: 'force_all_finite' was renamed to 'ensure_all_finite' in 1.6 and will be removed in 1.8.\n",
      "  warnings.warn(\n",
      "/home/joaquin/miniconda3/envs/skforecast_16_py12/lib/python3.12/site-packages/sklearn/utils/deprecation.py:132: FutureWarning: 'force_all_finite' was renamed to 'ensure_all_finite' in 1.6 and will be removed in 1.8.\n",
      "  warnings.warn(\n",
      "/home/joaquin/miniconda3/envs/skforecast_16_py12/lib/python3.12/site-packages/sklearn/utils/deprecation.py:132: FutureWarning: 'force_all_finite' was renamed to 'ensure_all_finite' in 1.6 and will be removed in 1.8.\n",
      "  warnings.warn(\n",
      "/home/joaquin/miniconda3/envs/skforecast_16_py12/lib/python3.12/site-packages/sklearn/utils/deprecation.py:132: FutureWarning: 'force_all_finite' was renamed to 'ensure_all_finite' in 1.6 and will be removed in 1.8.\n",
      "  warnings.warn(\n",
      "/home/joaquin/miniconda3/envs/skforecast_16_py12/lib/python3.12/site-packages/sklearn/utils/deprecation.py:132: FutureWarning: 'force_all_finite' was renamed to 'ensure_all_finite' in 1.6 and will be removed in 1.8.\n",
      "  warnings.warn(\n",
      "/home/joaquin/miniconda3/envs/skforecast_16_py12/lib/python3.12/site-packages/sklearn/utils/deprecation.py:132: FutureWarning: 'force_all_finite' was renamed to 'ensure_all_finite' in 1.6 and will be removed in 1.8.\n",
      "  warnings.warn(\n",
      "/home/joaquin/miniconda3/envs/skforecast_16_py12/lib/python3.12/site-packages/sklearn/utils/deprecation.py:132: FutureWarning: 'force_all_finite' was renamed to 'ensure_all_finite' in 1.6 and will be removed in 1.8.\n",
      "  warnings.warn(\n",
      "/home/joaquin/miniconda3/envs/skforecast_16_py12/lib/python3.12/site-packages/sklearn/utils/deprecation.py:132: FutureWarning: 'force_all_finite' was renamed to 'ensure_all_finite' in 1.6 and will be removed in 1.8.\n",
      "  warnings.warn(\n",
      "/home/joaquin/miniconda3/envs/skforecast_16_py12/lib/python3.12/site-packages/sklearn/utils/deprecation.py:132: FutureWarning: 'force_all_finite' was renamed to 'ensure_all_finite' in 1.6 and will be removed in 1.8.\n",
      "  warnings.warn(\n",
      "/home/joaquin/miniconda3/envs/skforecast_16_py12/lib/python3.12/site-packages/sklearn/utils/deprecation.py:132: FutureWarning: 'force_all_finite' was renamed to 'ensure_all_finite' in 1.6 and will be removed in 1.8.\n",
      "  warnings.warn(\n"
     ]
    },
    {
     "data": {
      "text/plain": [
       "2005-07-01    1.022492\n",
       "2005-08-01    1.038417\n",
       "2005-09-01    1.121040\n",
       "2005-10-01    1.137967\n",
       "2005-11-01    1.128166\n",
       "2005-12-01    1.159866\n",
       "2006-01-01    1.113893\n",
       "2006-02-01    0.616014\n",
       "2006-03-01    0.665318\n",
       "2006-04-01    0.681968\n",
       "2006-05-01    0.730368\n",
       "2006-06-01    0.873993\n",
       "2006-07-01    1.032972\n",
       "2006-08-01    1.090603\n",
       "2006-09-01    1.127225\n",
       "2006-10-01    1.137967\n",
       "2006-11-01    1.087979\n",
       "2006-12-01    1.146875\n",
       "2007-01-01    1.113893\n",
       "2007-02-01    0.654316\n",
       "2007-03-01    0.665181\n",
       "2007-04-01    0.698342\n",
       "2007-05-01    0.734199\n",
       "2007-06-01    0.878402\n",
       "2007-07-01    1.016443\n",
       "2007-08-01    1.082752\n",
       "2007-09-01    1.134024\n",
       "2007-10-01    1.141134\n",
       "2007-11-01    1.129810\n",
       "2007-12-01    1.146875\n",
       "2008-01-01    1.119187\n",
       "2008-02-01    0.679257\n",
       "2008-03-01    0.685721\n",
       "2008-04-01    0.736172\n",
       "2008-05-01    0.750875\n",
       "2008-06-01    0.894247\n",
       "Freq: MS, Name: pred, dtype: float64"
      ]
     },
     "execution_count": 14,
     "metadata": {},
     "output_type": "execute_result"
    }
   ],
   "source": [
    "forecaster.predict(\n",
    "    steps=steps,\n",
    "    exog=data_test.drop(columns='y'),\n",
    "    last_window=forecaster.last_window_,\n",
    "    warning_drift=True\n",
    ")"
   ]
  },
  {
   "cell_type": "code",
   "execution_count": 1,
   "metadata": {},
   "outputs": [
    {
     "name": "stdout",
     "output_type": "stream",
     "text": [
      "/home/joaquin/Documents/GitHub/skforecast\n"
     ]
    }
   ],
   "source": [
    "%load_ext autoreload\n",
    "%autoreload 2\n",
    "import sys\n",
    "from pathlib import Path\n",
    "path = str(Path.cwd().parent)\n",
    "print(path)\n",
    "sys.path.insert(1, path)"
   ]
  },
  {
   "cell_type": "code",
   "execution_count": 2,
   "metadata": {},
   "outputs": [],
   "source": [
    "from skforecast.recursive import ForecasterRecursive, ForecasterRecursiveMultiSeries\n",
    "from sklearn.dummy import DummyRegressor\n",
    "from sklearn.linear_model import LinearRegression\n",
    "import numpy as np\n",
    "import pandas as pd\n",
    "import timeit\n",
    "import skforecast\n",
    "import warnings\n",
    "\n",
    "rng = np.random.default_rng()\n",
    "y = pd.Series(rng.standard_normal(10_000), index=pd.date_range(\"2020-01-01\", periods=10_000, freq=\"h\"))\n",
    "exog = pd.DataFrame({\n",
    "    f\"exog_{i}\": pd.Series(rng.standard_normal(10_000), index=pd.date_range(\"2020-01-01\", periods=10_000, freq=\"h\"))\n",
    "    for i in range(50)\n",
    "})\n",
    "\n",
    "series = {\n",
    "    f\"series_{i}\": pd.Series(rng.standard_normal(1_000), index=pd.date_range(\"2020-01-01\", periods=1_000, freq=\"h\")) for i in range(500)\n",
    "}\n",
    "\n",
    "exog_dict = {\n",
    "    f\"series_{i}\": pd.DataFrame({\n",
    "        f\"exog_{j}\": pd.Series(rng.standard_normal(1_000), index=pd.date_range(\"2020-01-01\", periods=1_000, freq=\"h\")) for j in range(50)\n",
    "    }) for i in range(500)\n",
    "}\n"
   ]
  },
  {
   "cell_type": "code",
   "execution_count": 3,
   "metadata": {},
   "outputs": [
    {
     "name": "stdout",
     "output_type": "stream",
     "text": [
      "Average: 0.0360 s, Std: 0.0063 s\n",
      "Average: 0.8190 s, Std: 0.2299 s\n"
     ]
    }
   ],
   "source": [
    "def run_dummy():\n",
    "    f = ForecasterRecursive(regressor=DummyRegressor(constant=0.1), lags=5)\n",
    "    f.fit(y=y, exog=exog)\n",
    "\n",
    "def run_linear():\n",
    "    f = ForecasterRecursive(regressor=LinearRegression(), lags=5)\n",
    "    f.fit(y=y, exog=exog)\n",
    "\n",
    "t = timeit.Timer(run_dummy)\n",
    "repeats = t.repeat(repeat=10, number=3)\n",
    "avg = np.mean(repeats)\n",
    "std = np.std(repeats)\n",
    "print(f\"Average: {avg:.4f} s, Std: {std:.4f} s\")\n",
    "\n",
    "t = timeit.Timer(run_linear)\n",
    "repeats = t.repeat(repeat=10, number=3)\n",
    "avg = np.mean(repeats)\n",
    "std = np.std(repeats)\n",
    "print(f\"Average: {avg:.4f} s, Std: {std:.4f} s\")\n"
   ]
  },
  {
   "cell_type": "raw",
   "metadata": {
    "vscode": {
     "languageId": "raw"
    }
   },
   "source": [
    "OLD:\n",
    "    Average: 0.0124 s, Std: 0.0029 s\n",
    "    Average: 0.5101 s, Std: 0.0489 s\n",
    "\n",
    "NEW:\n",
    "    Average: 0.0230 s, Std: 0.0028 s\n",
    "    Average: 0.5282 s, Std: 0.0446 s"
   ]
  },
  {
   "cell_type": "code",
   "execution_count": 4,
   "metadata": {},
   "outputs": [
    {
     "name": "stdout",
     "output_type": "stream",
     "text": [
      "Average: 9.2105 s, Std: 0.5594 s\n",
      "Average: 13.6214 s, Std: 1.4057 s\n"
     ]
    }
   ],
   "source": [
    "def run_dummy():\n",
    "    warnings.simplefilter('ignore', category=skforecast.exceptions.DataTransformationWarning)\n",
    "    f = ForecasterRecursiveMultiSeries(regressor=DummyRegressor(constant=0.1), lags=5)\n",
    "    f.fit(series=series, exog=exog_dict, suppress_warnings=True)\n",
    "\n",
    "def run_linear():\n",
    "    warnings.simplefilter('ignore', category=skforecast.exceptions.DataTransformationWarning)\n",
    "    f = ForecasterRecursiveMultiSeries(regressor=LinearRegression(), lags=5)\n",
    "    f.fit(series=series, exog=exog_dict, suppress_warnings=True)\n",
    "\n",
    "t = timeit.Timer(run_dummy)\n",
    "repeats = t.repeat(repeat=5, number=3)\n",
    "avg = np.mean(repeats)\n",
    "std = np.std(repeats)\n",
    "print(f\"Average: {avg:.4f} s, Std: {std:.4f} s\")\n",
    "\n",
    "t = timeit.Timer(run_linear)\n",
    "repeats = t.repeat(repeat=5, number=3)\n",
    "avg = np.mean(repeats)\n",
    "std = np.std(repeats)\n",
    "print(f\"Average: {avg:.4f} s, Std: {std:.4f} s\")"
   ]
  },
  {
   "cell_type": "raw",
   "metadata": {
    "vscode": {
     "languageId": "raw"
    }
   },
   "source": [
    "OLD:\n",
    "    Average: 3.4369 s, Std: 0.5019 s\n",
    "    Average: 8.4334 s, Std: 0.6423 s\n",
    "\n",
    "NEW:\n",
    "    Average: 8.6356 s, Std: 0.1513 s\n",
    "    Average: 13.8362 s, Std: 0.1204 s"
   ]
  },
  {
   "cell_type": "markdown",
   "metadata": {},
   "source": [
    "## DOS opciones\n",
    "\n",
    "+ Poner un argumento en el fit que sea: fit_drift_detector\n",
    "+ En el initialize, pasar un objeto de clase DriftDetector"
   ]
  },
  {
   "cell_type": "code",
   "execution_count": 13,
   "metadata": {},
   "outputs": [
    {
     "data": {
      "text/html": [
       "<pre style=\"white-space:pre;overflow-x:auto;line-height:normal;font-family:Menlo,'DejaVu Sans Mono',consolas,'Courier New',monospace\"><span style=\"color: #ffaf00; text-decoration-color: #ffaf00\">╭────────────────────────────── FeatureOutOfRangeWarning ──────────────────────────────╮</span>\n",
       "<span style=\"color: #ffaf00; text-decoration-color: #ffaf00\">│</span> 'cat_feature_0' has values not seen during training. Seen values: {'A', 'B', 'C'}.   <span style=\"color: #ffaf00; text-decoration-color: #ffaf00\">│</span>\n",
       "<span style=\"color: #ffaf00; text-decoration-color: #ffaf00\">│</span> This may affect the accuracy of the predictions.                                     <span style=\"color: #ffaf00; text-decoration-color: #ffaf00\">│</span>\n",
       "<span style=\"color: #ffaf00; text-decoration-color: #ffaf00\">│</span>                                                                                      <span style=\"color: #ffaf00; text-decoration-color: #ffaf00\">│</span>\n",
       "<span style=\"color: #ffaf00; text-decoration-color: #ffaf00\">│</span> Category : skforecast.exceptions.FeatureOutOfRangeWarning                            <span style=\"color: #ffaf00; text-decoration-color: #ffaf00\">│</span>\n",
       "<span style=\"color: #ffaf00; text-decoration-color: #ffaf00\">│</span> Location : /home/joaquin/Documents/GitHub/skforecast/skforecast/utils/utils.py:3151  <span style=\"color: #ffaf00; text-decoration-color: #ffaf00\">│</span>\n",
       "<span style=\"color: #ffaf00; text-decoration-color: #ffaf00\">│</span> Suppress : warnings.simplefilter('ignore', category=FeatureOutOfRangeWarning)        <span style=\"color: #ffaf00; text-decoration-color: #ffaf00\">│</span>\n",
       "<span style=\"color: #ffaf00; text-decoration-color: #ffaf00\">╰──────────────────────────────────────────────────────────────────────────────────────╯</span>\n",
       "</pre>\n"
      ],
      "text/plain": [
       "\u001b[38;5;214m╭─\u001b[0m\u001b[38;5;214m─────────────────────────────\u001b[0m\u001b[38;5;214m FeatureOutOfRangeWarning \u001b[0m\u001b[38;5;214m─────────────────────────────\u001b[0m\u001b[38;5;214m─╮\u001b[0m\n",
       "\u001b[38;5;214m│\u001b[0m 'cat_feature_0' has values not seen during training. Seen values: {'A', 'B', 'C'}.   \u001b[38;5;214m│\u001b[0m\n",
       "\u001b[38;5;214m│\u001b[0m This may affect the accuracy of the predictions.                                     \u001b[38;5;214m│\u001b[0m\n",
       "\u001b[38;5;214m│\u001b[0m                                                                                      \u001b[38;5;214m│\u001b[0m\n",
       "\u001b[38;5;214m│\u001b[0m Category : skforecast.exceptions.FeatureOutOfRangeWarning                            \u001b[38;5;214m│\u001b[0m\n",
       "\u001b[38;5;214m│\u001b[0m Location : /home/joaquin/Documents/GitHub/skforecast/skforecast/utils/utils.py:3151  \u001b[38;5;214m│\u001b[0m\n",
       "\u001b[38;5;214m│\u001b[0m Suppress : warnings.simplefilter('ignore', category=FeatureOutOfRangeWarning)        \u001b[38;5;214m│\u001b[0m\n",
       "\u001b[38;5;214m╰──────────────────────────────────────────────────────────────────────────────────────╯\u001b[0m\n"
      ]
     },
     "metadata": {},
     "output_type": "display_data"
    },
    {
     "data": {
      "text/html": [
       "<pre style=\"white-space:pre;overflow-x:auto;line-height:normal;font-family:Menlo,'DejaVu Sans Mono',consolas,'Courier New',monospace\"><span style=\"color: #ffaf00; text-decoration-color: #ffaf00\">╭────────────────────────────── FeatureOutOfRangeWarning ──────────────────────────────╮</span>\n",
       "<span style=\"color: #ffaf00; text-decoration-color: #ffaf00\">│</span> 'feature_0' has one or more values outside the range seen during training [0.00011,  <span style=\"color: #ffaf00; text-decoration-color: #ffaf00\">│</span>\n",
       "<span style=\"color: #ffaf00; text-decoration-color: #ffaf00\">│</span> 0.99997]. This may affect the accuracy of the predictions.                           <span style=\"color: #ffaf00; text-decoration-color: #ffaf00\">│</span>\n",
       "<span style=\"color: #ffaf00; text-decoration-color: #ffaf00\">│</span>                                                                                      <span style=\"color: #ffaf00; text-decoration-color: #ffaf00\">│</span>\n",
       "<span style=\"color: #ffaf00; text-decoration-color: #ffaf00\">│</span> Category : skforecast.exceptions.FeatureOutOfRangeWarning                            <span style=\"color: #ffaf00; text-decoration-color: #ffaf00\">│</span>\n",
       "<span style=\"color: #ffaf00; text-decoration-color: #ffaf00\">│</span> Location : /home/joaquin/Documents/GitHub/skforecast/skforecast/utils/utils.py:3141  <span style=\"color: #ffaf00; text-decoration-color: #ffaf00\">│</span>\n",
       "<span style=\"color: #ffaf00; text-decoration-color: #ffaf00\">│</span> Suppress : warnings.simplefilter('ignore', category=FeatureOutOfRangeWarning)        <span style=\"color: #ffaf00; text-decoration-color: #ffaf00\">│</span>\n",
       "<span style=\"color: #ffaf00; text-decoration-color: #ffaf00\">╰──────────────────────────────────────────────────────────────────────────────────────╯</span>\n",
       "</pre>\n"
      ],
      "text/plain": [
       "\u001b[38;5;214m╭─\u001b[0m\u001b[38;5;214m─────────────────────────────\u001b[0m\u001b[38;5;214m FeatureOutOfRangeWarning \u001b[0m\u001b[38;5;214m─────────────────────────────\u001b[0m\u001b[38;5;214m─╮\u001b[0m\n",
       "\u001b[38;5;214m│\u001b[0m 'feature_0' has one or more values outside the range seen during training [0.00011,  \u001b[38;5;214m│\u001b[0m\n",
       "\u001b[38;5;214m│\u001b[0m 0.99997]. This may affect the accuracy of the predictions.                           \u001b[38;5;214m│\u001b[0m\n",
       "\u001b[38;5;214m│\u001b[0m                                                                                      \u001b[38;5;214m│\u001b[0m\n",
       "\u001b[38;5;214m│\u001b[0m Category : skforecast.exceptions.FeatureOutOfRangeWarning                            \u001b[38;5;214m│\u001b[0m\n",
       "\u001b[38;5;214m│\u001b[0m Location : /home/joaquin/Documents/GitHub/skforecast/skforecast/utils/utils.py:3141  \u001b[38;5;214m│\u001b[0m\n",
       "\u001b[38;5;214m│\u001b[0m Suppress : warnings.simplefilter('ignore', category=FeatureOutOfRangeWarning)        \u001b[38;5;214m│\u001b[0m\n",
       "\u001b[38;5;214m╰──────────────────────────────────────────────────────────────────────────────────────╯\u001b[0m\n"
      ]
     },
     "metadata": {},
     "output_type": "display_data"
    }
   ],
   "source": [
    "from skforecast.utils import DriftDetector\n",
    "import pandas as pd\n",
    "import numpy as np\n",
    "\n",
    "drift_detector = DriftDetector()\n",
    "\n",
    "df = pd.DataFrame()\n",
    "for i in range(5):\n",
    "    df[f\"feature_{i}\"] = np.random.rand(5000)\n",
    "\n",
    "for i in range(5):\n",
    "    df[f\"cat_feature_{i}\"] = np.random.choice([\"A\", \"B\", \"C\"], 5000)\n",
    "\n",
    "dict_dfs = {'series_1': df, 'series_2': df.iloc[:1000]}\n",
    "\n",
    "\n",
    "drift_detector.fit(df)\n",
    "\n",
    "new_data_valid = pd.DataFrame({\n",
    "    'feature_0': [0.1, 0.1, 0.1, 0.1, 0.1],\n",
    "    'cat_feature_0': ['A', 'B', 'C', 'A', 'B']\n",
    "})\n",
    "\n",
    "new_data_invalid = pd.DataFrame({\n",
    "    'feature_0': [0.1, 0.1, 0.1, 0.1, 10],\n",
    "    'cat_feature_0': ['A', 'B', 'C', 'A', 'D']\n",
    "})\n",
    "\n",
    "drift_detector.predict(new_data_invalid)"
   ]
  }
 ],
 "metadata": {
  "kernelspec": {
   "display_name": "skforecast_16_py12",
   "language": "python",
   "name": "python3"
  },
  "language_info": {
   "codemirror_mode": {
    "name": "ipython",
    "version": 3
   },
   "file_extension": ".py",
   "mimetype": "text/x-python",
   "name": "python",
   "nbconvert_exporter": "python",
   "pygments_lexer": "ipython3",
   "version": "3.12.9"
  },
  "orig_nbformat": 4
 },
 "nbformat": 4,
 "nbformat_minor": 2
}
