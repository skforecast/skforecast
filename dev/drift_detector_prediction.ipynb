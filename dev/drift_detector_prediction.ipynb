{
 "cells": [
  {
   "cell_type": "code",
   "execution_count": 1,
   "metadata": {},
   "outputs": [
    {
     "name": "stdout",
     "output_type": "stream",
     "text": [
      "/home/joaquin/Documents/GitHub/skforecast\n"
     ]
    }
   ],
   "source": [
    "%load_ext autoreload\n",
    "%autoreload 2\n",
    "import sys\n",
    "from pathlib import Path\n",
    "path = str(Path.cwd().parent)\n",
    "print(path)\n",
    "sys.path.insert(1, path)\n",
    "\n",
    "import numpy as np\n",
    "import pandas as pd"
   ]
  },
  {
   "cell_type": "code",
   "execution_count": 2,
   "metadata": {},
   "outputs": [],
   "source": [
    "from skforecast.utils import get_features_range, check_features_range"
   ]
  },
  {
   "cell_type": "code",
   "execution_count": 3,
   "metadata": {},
   "outputs": [],
   "source": [
    "\n",
    "# Example data used in the notebook\n",
    "df = pd.DataFrame()\n",
    "for i in range(5):\n",
    "    df[f\"feature_{i}\"] = np.random.rand(5000)\n",
    "\n",
    "for i in range(5):\n",
    "    df[f\"cat_feature_{i}\"] = np.random.choice([\"A\", \"B\", \"C\"], 5000)\n",
    "\n",
    "dict_dfs = {'series_1': df, 'series_2': df.iloc[:1000]}"
   ]
  },
  {
   "cell_type": "code",
   "execution_count": 4,
   "metadata": {},
   "outputs": [
    {
     "name": "stdout",
     "output_type": "stream",
     "text": [
      "{'cat_feature_0': {'B', 'C', 'A'},\n",
      " 'cat_feature_1': {'B', 'C', 'A'},\n",
      " 'cat_feature_2': {'B', 'C', 'A'},\n",
      " 'cat_feature_3': {'B', 'C', 'A'},\n",
      " 'cat_feature_4': {'B', 'C', 'A'},\n",
      " 'feature_0': (np.float64(6.20623100388018e-05),\n",
      "               np.float64(0.9995459722186273)),\n",
      " 'feature_1': (np.float64(0.00025131826789559497),\n",
      "               np.float64(0.99986486622088)),\n",
      " 'feature_2': (np.float64(6.954580155149603e-05),\n",
      "               np.float64(0.9998946070577805)),\n",
      " 'feature_3': (np.float64(1.8543863598896593e-05),\n",
      "               np.float64(0.9990430402129542)),\n",
      " 'feature_4': (np.float64(9.851836958174598e-05),\n",
      "               np.float64(0.9996280695157298))}\n"
     ]
    }
   ],
   "source": [
    "from pprint import pprint\n",
    "ranges = get_features_range(df)\n",
    "pprint(ranges)"
   ]
  },
  {
   "cell_type": "code",
   "execution_count": 5,
   "metadata": {},
   "outputs": [
    {
     "name": "stdout",
     "output_type": "stream",
     "text": [
      "{'series_1': {'cat_feature_0': {'B', 'C', 'A'},\n",
      "              'cat_feature_1': {'B', 'C', 'A'},\n",
      "              'cat_feature_2': {'B', 'C', 'A'},\n",
      "              'cat_feature_3': {'B', 'C', 'A'},\n",
      "              'cat_feature_4': {'B', 'C', 'A'},\n",
      "              'feature_0': (np.float64(6.20623100388018e-05),\n",
      "                            np.float64(0.9995459722186273)),\n",
      "              'feature_1': (np.float64(0.00025131826789559497),\n",
      "                            np.float64(0.99986486622088)),\n",
      "              'feature_2': (np.float64(6.954580155149603e-05),\n",
      "                            np.float64(0.9998946070577805)),\n",
      "              'feature_3': (np.float64(1.8543863598896593e-05),\n",
      "                            np.float64(0.9990430402129542)),\n",
      "              'feature_4': (np.float64(9.851836958174598e-05),\n",
      "                            np.float64(0.9996280695157298))},\n",
      " 'series_2': {'cat_feature_0': {'B', 'C', 'A'},\n",
      "              'cat_feature_1': {'B', 'C', 'A'},\n",
      "              'cat_feature_2': {'B', 'C', 'A'},\n",
      "              'cat_feature_3': {'B', 'C', 'A'},\n",
      "              'cat_feature_4': {'B', 'C', 'A'},\n",
      "              'feature_0': (np.float64(0.00022120370721423477),\n",
      "                            np.float64(0.9993947108740474)),\n",
      "              'feature_1': (np.float64(0.002324107255610275),\n",
      "                            np.float64(0.9994521635891718)),\n",
      "              'feature_2': (np.float64(0.0001186387850707904),\n",
      "                            np.float64(0.9994767582231568)),\n",
      "              'feature_3': (np.float64(0.00016011519875480662),\n",
      "                            np.float64(0.9986636958119495)),\n",
      "              'feature_4': (np.float64(0.0003481561124459853),\n",
      "                            np.float64(0.9984764935018047))}}\n"
     ]
    }
   ],
   "source": [
    "ranges_dict = get_features_range(dict_dfs)\n",
    "pprint(ranges_dict)\n"
   ]
  },
  {
   "cell_type": "code",
   "execution_count": 6,
   "metadata": {},
   "outputs": [
    {
     "name": "stderr",
     "output_type": "stream",
     "text": [
      "/home/joaquin/Documents/GitHub/skforecast/skforecast/utils/utils.py:3031: UserWarning: 'feature_0' has one or more values outside the range seen during training [0.00006, 0.99955]. This may affect the accuracy of the predictions.\n",
      "  warnings.warn(msg)\n",
      "/home/joaquin/Documents/GitHub/skforecast/skforecast/utils/utils.py:3040: UserWarning: 'cat_feature_0' has values not seen during training. Seen values: {'B', 'C', 'A'}. This may affect the accuracy of the predictions.\n",
      "  warnings.warn(msg)\n"
     ]
    }
   ],
   "source": [
    "new_data_valid = pd.DataFrame({\n",
    "    'feature_0': [0.1, 0.1, 0.1, 0.1, 0.1],\n",
    "    'cat_feature_0': ['A', 'B', 'C', 'A', 'B']\n",
    "})\n",
    "\n",
    "new_data_invalid = pd.DataFrame({\n",
    "    'feature_0': [0.1, 0.1, 0.1, 0.1, 10],\n",
    "    'cat_feature_0': ['A', 'B', 'C', 'A', 'D']\n",
    "})\n",
    "\n",
    "new_data_invalid_dict = {'series_1': new_data_invalid, 'series_2': new_data_invalid}\n",
    "\n",
    "check_features_range(ranges, new_data_valid)\n",
    "check_features_range(ranges, new_data_invalid)"
   ]
  },
  {
   "cell_type": "code",
   "execution_count": 7,
   "metadata": {},
   "outputs": [
    {
     "name": "stderr",
     "output_type": "stream",
     "text": [
      "/home/joaquin/Documents/GitHub/skforecast/skforecast/utils/utils.py:3031: UserWarning: 'series_1': 'feature_0' has one or more values outside the range seen during training [0.00006, 0.99955]. This may affect the accuracy of the predictions.\n",
      "  warnings.warn(msg)\n",
      "/home/joaquin/Documents/GitHub/skforecast/skforecast/utils/utils.py:3040: UserWarning: 'series_1': 'cat_feature_0' has values not seen during training. Seen values: {'B', 'C', 'A'}. This may affect the accuracy of the predictions.\n",
      "  warnings.warn(msg)\n"
     ]
    }
   ],
   "source": [
    "check_features_range(ranges_dict, new_data_invalid_dict)"
   ]
  },
  {
   "cell_type": "code",
   "execution_count": null,
   "metadata": {},
   "outputs": [],
   "source": []
  },
  {
   "cell_type": "code",
   "execution_count": 8,
   "metadata": {},
   "outputs": [],
   "source": [
    "# Libraries\n",
    "# ==============================================================================\n",
    "import pandas as pd\n",
    "import matplotlib.pyplot as plt\n",
    "from lightgbm import LGBMRegressor\n",
    "from sklearn.metrics import mean_squared_error\n",
    "from skforecast.datasets import fetch_dataset\n",
    "from skforecast.preprocessing import RollingFeatures\n",
    "from skforecast.recursive import ForecasterRecursive\n",
    "from skforecast.plot import plot_prediction_intervals, set_dark_theme"
   ]
  },
  {
   "cell_type": "code",
   "execution_count": 9,
   "metadata": {},
   "outputs": [
    {
     "name": "stdout",
     "output_type": "stream",
     "text": [
      "h2o\n",
      "---\n",
      "Monthly expenditure ($AUD) on corticosteroid drugs that the Australian health\n",
      "system had between 1991 and 2008.\n",
      "Hyndman R (2023). fpp3: Data for Forecasting: Principles and Practice(3rd\n",
      "Edition). http://pkg.robjhyndman.com/fpp3package/,https://github.com/robjhyndman\n",
      "/fpp3package, http://OTexts.com/fpp3.\n",
      "Shape of the dataset: (204, 2)\n"
     ]
    },
    {
     "data": {
      "text/html": [
       "\n",
       "    <style>\n",
       "        .container-fe15540784bd4a279686de402e201c75 {\n",
       "            font-family: 'Arial', sans-serif;\n",
       "            font-size: 0.9em;\n",
       "            color: #333333;\n",
       "            border: 1px solid #ddd;\n",
       "            background-color: #f0f8ff;\n",
       "            padding: 5px 15px;\n",
       "            border-radius: 8px;\n",
       "            max-width: 600px;\n",
       "            #margin: auto;\n",
       "        }\n",
       "        .container-fe15540784bd4a279686de402e201c75 h2 {\n",
       "            font-size: 1.5em;\n",
       "            color: #222222;\n",
       "            border-bottom: 2px solid #ddd;\n",
       "            padding-bottom: 5px;\n",
       "            margin-bottom: 15px;\n",
       "            margin-top: 5px;\n",
       "        }\n",
       "        .container-fe15540784bd4a279686de402e201c75 details {\n",
       "            margin: 10px 0;\n",
       "        }\n",
       "        .container-fe15540784bd4a279686de402e201c75 summary {\n",
       "            font-weight: bold;\n",
       "            font-size: 1.1em;\n",
       "            color: #000000;\n",
       "            cursor: pointer;\n",
       "            margin-bottom: 5px;\n",
       "            background-color: #b3dbfd;\n",
       "            padding: 5px;\n",
       "            border-radius: 5px;\n",
       "        }\n",
       "        .container-fe15540784bd4a279686de402e201c75 summary:hover {\n",
       "            color: #000000;\n",
       "            background-color: #e0e0e0;\n",
       "        }\n",
       "        .container-fe15540784bd4a279686de402e201c75 ul {\n",
       "            font-family: 'Courier New', monospace;\n",
       "            list-style-type: none;\n",
       "            padding-left: 20px;\n",
       "            margin: 10px 0;\n",
       "            line-height: normal;\n",
       "        }\n",
       "        .container-fe15540784bd4a279686de402e201c75 li {\n",
       "            margin: 5px 0;\n",
       "            font-family: 'Courier New', monospace;\n",
       "        }\n",
       "        .container-fe15540784bd4a279686de402e201c75 li strong {\n",
       "            font-weight: bold;\n",
       "            color: #444444;\n",
       "        }\n",
       "        .container-fe15540784bd4a279686de402e201c75 li::before {\n",
       "            content: \"- \";\n",
       "            color: #666666;\n",
       "        }\n",
       "        .container-fe15540784bd4a279686de402e201c75 a {\n",
       "            color: #001633;\n",
       "            text-decoration: none;\n",
       "        }\n",
       "        .container-fe15540784bd4a279686de402e201c75 a:hover {\n",
       "            color: #359ccb; \n",
       "        }\n",
       "    </style>\n",
       "    \n",
       "        <div class=\"container-fe15540784bd4a279686de402e201c75\">\n",
       "            <h2>ForecasterRecursive</h2>\n",
       "            <details open>\n",
       "                <summary>General Information</summary>\n",
       "                <ul>\n",
       "                    <li><strong>Regressor:</strong> LGBMRegressor</li>\n",
       "                    <li><strong>Lags:</strong> [ 1  2  3  4  5  6  7  8  9 10 11 12 13 14 15]</li>\n",
       "                    <li><strong>Window features:</strong> ['roll_mean_10']</li>\n",
       "                    <li><strong>Window size:</strong> 15</li>\n",
       "                    <li><strong>Series name:</strong> y</li>\n",
       "                    <li><strong>Exogenous included:</strong> False</li>\n",
       "                    <li><strong>Weight function included:</strong> False</li>\n",
       "                    <li><strong>Differentiation order:</strong> None</li>\n",
       "                    <li><strong>Creation date:</strong> 2025-08-21 17:49:55</li>\n",
       "                    <li><strong>Last fit date:</strong> 2025-08-21 17:49:55</li>\n",
       "                    <li><strong>Skforecast version:</strong> 0.17.0</li>\n",
       "                    <li><strong>Python version:</strong> 3.12.9</li>\n",
       "                    <li><strong>Forecaster id:</strong> None</li>\n",
       "                </ul>\n",
       "            </details>\n",
       "            <details>\n",
       "                <summary>Exogenous Variables</summary>\n",
       "                <ul>\n",
       "                    None\n",
       "                </ul>\n",
       "            </details>\n",
       "            <details>\n",
       "                <summary>Data Transformations</summary>\n",
       "                <ul>\n",
       "                    <li><strong>Transformer for y:</strong> None</li>\n",
       "                    <li><strong>Transformer for exog:</strong> None</li>\n",
       "                </ul>\n",
       "            </details>\n",
       "            <details>\n",
       "                <summary>Training Information</summary>\n",
       "                <ul>\n",
       "                    <li><strong>Training range:</strong> [Timestamp('1991-07-01 00:00:00'), Timestamp('2005-06-01 00:00:00')]</li>\n",
       "                    <li><strong>Training index type:</strong> DatetimeIndex</li>\n",
       "                    <li><strong>Training index frequency:</strong> MS</li>\n",
       "                </ul>\n",
       "            </details>\n",
       "            <details>\n",
       "                <summary>Regressor Parameters</summary>\n",
       "                <ul>\n",
       "                    {'boosting_type': 'gbdt', 'class_weight': None, 'colsample_bytree': 1.0, 'importance_type': 'split', 'learning_rate': 0.1, 'max_depth': -1, 'min_child_samples': 20, 'min_child_weight': 0.001, 'min_split_gain': 0.0, 'n_estimators': 100, 'n_jobs': None, 'num_leaves': 31, 'objective': None, 'random_state': 123, 'reg_alpha': 0.0, 'reg_lambda': 0.0, 'subsample': 1.0, 'subsample_for_bin': 200000, 'subsample_freq': 0, 'verbose': -1}\n",
       "                </ul>\n",
       "            </details>\n",
       "            <details>\n",
       "                <summary>Fit Kwargs</summary>\n",
       "                <ul>\n",
       "                    {}\n",
       "                </ul>\n",
       "            </details>\n",
       "            <p>\n",
       "                <a href=\"https://skforecast.org/0.17.0/api/forecasterrecursive.html\">&#128712 <strong>API Reference</strong></a>\n",
       "                &nbsp;&nbsp;\n",
       "                <a href=\"https://skforecast.org/0.17.0/user_guides/autoregresive-forecaster.html\">&#128462 <strong>User Guide</strong></a>\n",
       "            </p>\n",
       "        </div>\n",
       "        "
      ],
      "text/plain": [
       "=================== \n",
       "ForecasterRecursive \n",
       "=================== \n",
       "Regressor: LGBMRegressor \n",
       "Lags: [ 1  2  3  4  5  6  7  8  9 10 11 12 13 14 15] \n",
       "Window features: ['roll_mean_10'] \n",
       "Window size: 15 \n",
       "Series name: y \n",
       "Exogenous included: False \n",
       "Exogenous names: None \n",
       "Transformer for y: None \n",
       "Transformer for exog: None \n",
       "Weight function included: False \n",
       "Differentiation order: None \n",
       "Training range: [Timestamp('1991-07-01 00:00:00'), Timestamp('2005-06-01 00:00:00')] \n",
       "Training index type: DatetimeIndex \n",
       "Training index frequency: MS \n",
       "Regressor parameters: \n",
       "    {'boosting_type': 'gbdt', 'class_weight': None, 'colsample_bytree': 1.0,\n",
       "    'importance_type': 'split', 'learning_rate': 0.1, 'max_depth': -1,\n",
       "    'min_child_samples': 20, 'min_child_weight': 0.001, 'min_split_gain': 0.0,\n",
       "    'n_estimators': 100, 'n_jobs': None, 'num_leaves': 31, 'objective': None,\n",
       "    'random_state': 123, 'reg_alpha': 0.0, 'reg_lambda': 0.0, 'subsample': 1.0,\n",
       "    'subsample_for_bin': 200000, 'subsample_freq': 0, 'verbose': -1} \n",
       "fit_kwargs: {} \n",
       "Creation date: 2025-08-21 17:49:55 \n",
       "Last fit date: 2025-08-21 17:49:55 \n",
       "Skforecast version: 0.17.0 \n",
       "Python version: 3.12.9 \n",
       "Forecaster id: None "
      ]
     },
     "execution_count": 9,
     "metadata": {},
     "output_type": "execute_result"
    }
   ],
   "source": [
    "# Download data\n",
    "# ==============================================================================\n",
    "data = fetch_dataset(\n",
    "    name=\"h2o\", raw=True, kwargs_read_csv={\"names\": [\"y\", \"datetime\"], \"header\": 0}\n",
    ")\n",
    "\n",
    "# Data preprocessing\n",
    "# ==============================================================================\n",
    "data['datetime'] = pd.to_datetime(data['datetime'], format='%Y-%m-%d')\n",
    "data = data.set_index('datetime')\n",
    "data = data.asfreq('MS')\n",
    "data = data['y']\n",
    "data = data.sort_index()\n",
    "\n",
    "# Split train-test\n",
    "# ==============================================================================\n",
    "steps = 36\n",
    "data_train = data[:-steps]\n",
    "data_test  = data[-steps:]\n",
    "\n",
    "# Create and fit forecaster\n",
    "# ==============================================================================\n",
    "forecaster = ForecasterRecursive(\n",
    "                 regressor       = LGBMRegressor(random_state=123, verbose=-1),\n",
    "                 lags            = 15,\n",
    "                 window_features = RollingFeatures(stats=['mean'], window_sizes=10),\n",
    "                 transformer_y   = None, \n",
    "             )\n",
    "\n",
    "forecaster.fit(y=data_train, store_in_sample_residuals=True)\n",
    "forecaster"
   ]
  },
  {
   "cell_type": "code",
   "execution_count": 24,
   "metadata": {},
   "outputs": [
    {
     "data": {
      "text/plain": [
       "2005-07-01    1.142379\n",
       "2005-08-01    1.142379\n",
       "2005-09-01    1.142379\n",
       "2005-10-01    1.142379\n",
       "2005-11-01    1.142379\n",
       "2005-12-01    1.142379\n",
       "2006-01-01    1.142379\n",
       "2006-02-01    1.142379\n",
       "2006-03-01    1.142379\n",
       "2006-04-01    1.142379\n",
       "2006-05-01    1.142379\n",
       "2006-06-01    1.142379\n",
       "2006-07-01    1.142379\n",
       "2006-08-01    1.142379\n",
       "2006-09-01    1.142379\n",
       "2006-10-01    1.142379\n",
       "2006-11-01    1.142379\n",
       "2006-12-01    1.142379\n",
       "2007-01-01    1.142379\n",
       "2007-02-01    1.142379\n",
       "2007-03-01    1.142379\n",
       "2007-04-01    1.142379\n",
       "2007-05-01    1.142379\n",
       "2007-06-01    1.142379\n",
       "2007-07-01    1.142379\n",
       "2007-08-01    1.142379\n",
       "2007-09-01    1.142379\n",
       "2007-10-01    1.142379\n",
       "2007-11-01    1.142379\n",
       "2007-12-01    1.142379\n",
       "2008-01-01    1.142379\n",
       "2008-02-01    1.142379\n",
       "2008-03-01    1.142379\n",
       "2008-04-01    1.142379\n",
       "2008-05-01    1.142379\n",
       "2008-06-01    1.142379\n",
       "Freq: MS, Name: pred, dtype: float64"
      ]
     },
     "execution_count": 24,
     "metadata": {},
     "output_type": "execute_result"
    }
   ],
   "source": [
    "forecaster.predict(steps=steps, last_window=forecaster.last_window_ *1000, warning_drift=True)"
   ]
  }
 ],
 "metadata": {
  "kernelspec": {
   "display_name": "skforecast_16_py12",
   "language": "python",
   "name": "python3"
  },
  "language_info": {
   "codemirror_mode": {
    "name": "ipython",
    "version": 3
   },
   "file_extension": ".py",
   "mimetype": "text/x-python",
   "name": "python",
   "nbconvert_exporter": "python",
   "pygments_lexer": "ipython3",
   "version": "3.12.9"
  },
  "orig_nbformat": 4
 },
 "nbformat": 4,
 "nbformat_minor": 2
}
