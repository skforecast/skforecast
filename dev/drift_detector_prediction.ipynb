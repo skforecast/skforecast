{
 "cells": [
  {
   "cell_type": "code",
   "execution_count": 7,
   "metadata": {},
   "outputs": [
    {
     "name": "stdout",
     "output_type": "stream",
     "text": [
      "The autoreload extension is already loaded. To reload it, use:\n",
      "  %reload_ext autoreload\n",
      "/home/joaquin/Documents/GitHub/skforecast\n"
     ]
    }
   ],
   "source": [
    "%load_ext autoreload\n",
    "%autoreload 2\n",
    "import sys\n",
    "from pathlib import Path\n",
    "path = str(Path.cwd().parent)\n",
    "print(path)\n",
    "sys.path.insert(1, path)\n",
    "\n",
    "import numpy as np\n",
    "import pandas as pd"
   ]
  },
  {
   "cell_type": "code",
   "execution_count": 8,
   "metadata": {},
   "outputs": [
    {
     "name": "stderr",
     "output_type": "stream",
     "text": [
      "/tmp/ipykernel_20341/3062819514.py:62: UserWarning: cat_feature_0 has values not seen during training: {'B', 'A', 'C'}. This may affect the accuracy of the predictions.\n",
      "  warnings.warn(\n",
      "/tmp/ipykernel_20341/3062819514.py:55: UserWarning: feature_0 has values outside the range seen during training: [0.00060, 0.99997]. This may affect the accuracy of the predictions.\n",
      "  warnings.warn(\n"
     ]
    }
   ],
   "source": [
    "import pandas as pd\n",
    "import warnings\n",
    "\n",
    "def get_features_range(df: pd.DataFrame | pd.Series) -> dict:\n",
    "    \"\"\"\n",
    "    Get a summary of the features in the DataFrame or Series. For numeric features,\n",
    "    it returns the min and max values. For categorical features, it returns the\n",
    "    unique values.\n",
    "\n",
    "    Arguments\n",
    "    ---------\n",
    "    df : pd.DataFrame or pd.Series\n",
    "        Input data to summarize.\n",
    "\n",
    "\n",
    "    Returns\n",
    "    -------\n",
    "    dict\n",
    "        Summary of the features in the input data.\n",
    "\n",
    "    \"\"\"\n",
    "    if isinstance(df, pd.Series):\n",
    "        df = df.to_frame()\n",
    "\n",
    "    num_cols = [col for col, dt in df.dtypes.items() if np.issubdtype(dt, np.number)]\n",
    "    cat_cols = [col for col in df.columns if col not in num_cols]\n",
    "    \n",
    "    features_ranges = {col: (df[col].min(), df[col].max()) for col in num_cols}\n",
    "    features_ranges.update({col: set(df[col].dropna().unique()) for col in cat_cols})\n",
    "\n",
    "    return features_ranges\n",
    "\n",
    "\n",
    "def check_features_range(features_ranges: dict, X: pd.DataFrame | pd.Series) -> bool:\n",
    "    \"\"\"\n",
    "    Check if there is any value outside the training range. For numeric features,\n",
    "    it checks if the values are within the min and max range. For categorical features,\n",
    "    it checks if the values are among the seen categories.\n",
    "\n",
    "    Parameters\n",
    "    ----------\n",
    "    features_ranges : dict\n",
    "        Output from get_feature_summary()\n",
    "    X : pd.DataFrame or pd.Series\n",
    "        New data to validate\n",
    "    \"\"\"\n",
    "\n",
    "    if isinstance(X, pd.Series):\n",
    "        X = X.to_frame()\n",
    "\n",
    "    for col in set(X.columns).intersection(features_ranges.keys()):\n",
    "        rule = features_ranges[col]\n",
    "        if isinstance(rule, tuple):  # numeric\n",
    "            if X[col].min() < rule[0] or X[col].max() > rule[1]:\n",
    "                warnings.warn(\n",
    "                    f\"{col} has values outside the range seen during training: \"\n",
    "                    f\"[{rule[0]:.5f}, {rule[1]:.5f}]. \"\n",
    "                    f\"This may affect the accuracy of the predictions.\"\n",
    "                )\n",
    "        else:  # categorical\n",
    "            if (~X[col].isin(rule)).any():\n",
    "                warnings.warn(\n",
    "                    f\"{col} has values not seen during training: \"\n",
    "                    f\"{rule}. This may affect the accuracy of the predictions.\"\n",
    "                )\n",
    "\n",
    "    return\n",
    "\n",
    "\n",
    "\n",
    "df = pd.DataFrame()\n",
    "for i in range(5):\n",
    "    df[f\"feature_{i}\"] = np.random.rand(5000)\n",
    "\n",
    "for i in range(5):\n",
    "    df[f\"cat_feature_{i}\"] = np.random.choice([\"A\", \"B\", \"C\"], 5000)\n",
    "\n",
    "new_data_valid = pd.DataFrame({\n",
    "    'feature_0': [0.1, 0.1, 0.1, 0.1, 0.1],\n",
    "    'cat_feature_0': ['A', 'B', 'C', 'A', 'B']\n",
    "})\n",
    "\n",
    "new_data_invalid = pd.DataFrame({\n",
    "    'feature_0': [0.1, 0.1, 0.1, 0.1, 10],\n",
    "    'cat_feature_0': ['A', 'B', 'C', 'A', 'D']\n",
    "})\n",
    "\n",
    "ranges = get_features_range(df)\n",
    "check_features_range(ranges, new_data_valid)\n",
    "check_features_range(ranges, new_data_invalid)"
   ]
  }
 ],
 "metadata": {
  "kernelspec": {
   "display_name": "skforecast_16_py12",
   "language": "python",
   "name": "python3"
  },
  "language_info": {
   "codemirror_mode": {
    "name": "ipython",
    "version": 3
   },
   "file_extension": ".py",
   "mimetype": "text/x-python",
   "name": "python",
   "nbconvert_exporter": "python",
   "pygments_lexer": "ipython3",
   "version": "3.12.9"
  },
  "orig_nbformat": 4
 },
 "nbformat": 4,
 "nbformat_minor": 2
}
