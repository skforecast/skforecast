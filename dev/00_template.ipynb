{
 "cells": [
  {
   "cell_type": "code",
   "execution_count": 1,
   "metadata": {},
   "outputs": [
    {
     "name": "stdout",
     "output_type": "stream",
     "text": [
      "c:\\Users\\jaesc2\\GitHub\\skforecast\n"
     ]
    }
   ],
   "source": [
    "%load_ext autoreload\n",
    "%autoreload 2\n",
    "import sys\n",
    "from pathlib import Path\n",
    "path = str(Path.cwd().parent)\n",
    "print(path)\n",
    "sys.path.insert(1, path)\n",
    "\n",
    "import numpy as np\n",
    "import pandas as pd"
   ]
  },
  {
   "cell_type": "code",
   "execution_count": 22,
   "metadata": {},
   "outputs": [
    {
     "name": "stdout",
     "output_type": "stream",
     "text": [
      "1\n"
     ]
    },
    {
     "data": {
      "text/plain": [
       "<pandas.core.groupby.generic.DataFrameGroupBy object at 0x00000184FDFBAE10>"
      ]
     },
     "execution_count": 22,
     "metadata": {},
     "output_type": "execute_result"
    }
   ],
   "source": [
    "idx= pd.date_range(start=\"2023-01-01\", periods=6, freq=\"D\")\n",
    "idx = pd.RangeIndex(start=0, stop=len(idx), step=1)\n",
    "\n",
    "if isinstance(idx, pd.DatetimeIndex):\n",
    "    freq = idx.freq\n",
    "else:\n",
    "    freq = idx.step\n",
    "\n",
    "y_train_per_level = pd.DataFrame(\n",
    "    {\"y_train\": np.arange(6), \"_level_skforecast\": [1, 2] * 3},\n",
    "    index= idx\n",
    ").groupby(\"_level_skforecast\")\n",
    "\n",
    "print(freq)\n",
    "y_train_per_level"
   ]
  },
  {
   "cell_type": "code",
   "execution_count": 23,
   "metadata": {},
   "outputs": [
    {
     "data": {
      "text/plain": [
       "{1:    y_train  _level_skforecast\n",
       " 0        0                  1\n",
       " 2        2                  1\n",
       " 4        4                  1,\n",
       " 2:    y_train  _level_skforecast\n",
       " 1        1                  2\n",
       " 3        3                  2\n",
       " 5        5                  2}"
      ]
     },
     "execution_count": 23,
     "metadata": {},
     "output_type": "execute_result"
    }
   ],
   "source": [
    "# NOTE: Interleaved Nan values were excluded fom y_train. They are restored\n",
    "y_train_per_level = {key: group for key, group in y_train_per_level}\n",
    "y_train_per_level"
   ]
  },
  {
   "cell_type": "code",
   "execution_count": 24,
   "metadata": {},
   "outputs": [
    {
     "data": {
      "text/plain": [
       "Index([0, 2, 4], dtype='int64')"
      ]
     },
     "execution_count": 24,
     "metadata": {},
     "output_type": "execute_result"
    }
   ],
   "source": [
    "y_train_per_level[1].index"
   ]
  },
  {
   "cell_type": "code",
   "execution_count": 25,
   "metadata": {},
   "outputs": [],
   "source": [
    "import re\n",
    "import pytest\n",
    "import numpy as np\n",
    "import pandas as pd\n",
    "from lightgbm import LGBMRegressor\n",
    "from sklearn.linear_model import Ridge\n",
    "from skforecast.recursive import ForecasterRecursiveMultiSeries\n",
    "from skforecast.direct import ForecasterDirectMultiVariate\n",
    "from skforecast.model_selection import backtesting_forecaster_multiseries\n",
    "from skforecast.model_selection._utils import _predict_and_calculate_metrics_one_step_ahead_multiseries\n",
    "from skforecast.model_selection._split import TimeSeriesFold\n",
    "from sklearn.preprocessing import StandardScaler\n",
    "from sklearn.metrics import mean_absolute_percentage_error\n",
    "from skforecast.metrics import mean_absolute_scaled_error\n",
    "\n",
    "# Fixtures\n",
    "from skforecast.model_selection.tests.fixtures_model_selection_multiseries import (\n",
    "    series_wide_dt_item_sales,\n",
    "    series_dict_range_item_sales,\n",
    "    series_dict_dt_item_sales,\n",
    "    exog_wide_range_item_sales,\n",
    "    exog_wide_dt_item_sales,\n",
    "    series_dict_nans,\n",
    "    exog_dict_nans,\n",
    ")"
   ]
  },
  {
   "cell_type": "code",
   "execution_count": 29,
   "metadata": {},
   "outputs": [
    {
     "name": "stdout",
     "output_type": "stream",
     "text": [
      "      y_train _level_skforecast\n",
      "4   -1.762523            item_1\n",
      "5   -0.106383            item_1\n",
      "6   -0.223529            item_1\n",
      "7   -0.181292            item_1\n",
      "8   -0.024651            item_1\n",
      "..        ...               ...\n",
      "922  0.129919            item_3\n",
      "923  1.037589            item_3\n",
      "924 -0.561985            item_3\n",
      "925 -0.671003            item_3\n",
      "926  0.107253            item_3\n",
      "\n",
      "[2769 rows x 2 columns]\n",
      "y_train              0\n",
      "_level_skforecast    0\n",
      "dtype: int64\n",
      "Index([  4,   5,   6,   7,   8,   9,  10,  11,  12,  13,\n",
      "       ...\n",
      "       917, 918, 919, 920, 921, 922, 923, 924, 925, 926],\n",
      "      dtype='int64', length=2769)\n"
     ]
    },
    {
     "ename": "ValueError",
     "evalue": "Invalid frequency: 1",
     "output_type": "error",
     "traceback": [
      "\u001b[31m---------------------------------------------------------------------------\u001b[39m",
      "\u001b[31mValueError\u001b[39m                                Traceback (most recent call last)",
      "\u001b[36mCell\u001b[39m\u001b[36m \u001b[39m\u001b[32mIn[29]\u001b[39m\u001b[32m, line 27\u001b[39m\n\u001b[32m     12\u001b[39m levels = [\u001b[33m'\u001b[39m\u001b[33mitem_1\u001b[39m\u001b[33m'\u001b[39m, \u001b[33m'\u001b[39m\u001b[33mitem_2\u001b[39m\u001b[33m'\u001b[39m, \u001b[33m'\u001b[39m\u001b[33mitem_3\u001b[39m\u001b[33m'\u001b[39m]\n\u001b[32m     14\u001b[39m (\n\u001b[32m     15\u001b[39m     X_train,\n\u001b[32m     16\u001b[39m     y_train,\n\u001b[32m   (...)\u001b[39m\u001b[32m     24\u001b[39m         initial_train_size = initial_train_size,\n\u001b[32m     25\u001b[39m     )\n\u001b[32m---> \u001b[39m\u001b[32m27\u001b[39m results = \u001b[43m_predict_and_calculate_metrics_one_step_ahead_multiseries\u001b[49m\u001b[43m(\u001b[49m\n\u001b[32m     28\u001b[39m \u001b[43m    \u001b[49m\u001b[43mforecaster\u001b[49m\u001b[43m=\u001b[49m\u001b[43mforecaster\u001b[49m\u001b[43m,\u001b[49m\n\u001b[32m     29\u001b[39m \u001b[43m    \u001b[49m\u001b[43mseries\u001b[49m\u001b[43m=\u001b[49m\u001b[43mseries_dict_range_item_sales\u001b[49m\u001b[43m,\u001b[49m\n\u001b[32m     30\u001b[39m \u001b[43m    \u001b[49m\u001b[43mX_train\u001b[49m\u001b[43m \u001b[49m\u001b[43m=\u001b[49m\u001b[43m \u001b[49m\u001b[43mX_train\u001b[49m\u001b[43m,\u001b[49m\n\u001b[32m     31\u001b[39m \u001b[43m    \u001b[49m\u001b[43my_train\u001b[49m\u001b[43m \u001b[49m\u001b[43m=\u001b[49m\u001b[43m \u001b[49m\u001b[43my_train\u001b[49m\u001b[43m,\u001b[49m\n\u001b[32m     32\u001b[39m \u001b[43m    \u001b[49m\u001b[43mX_test\u001b[49m\u001b[43m \u001b[49m\u001b[43m=\u001b[49m\u001b[43m \u001b[49m\u001b[43mX_test\u001b[49m\u001b[43m,\u001b[49m\n\u001b[32m     33\u001b[39m \u001b[43m    \u001b[49m\u001b[43my_test\u001b[49m\u001b[43m \u001b[49m\u001b[43m=\u001b[49m\u001b[43m \u001b[49m\u001b[43my_test\u001b[49m\u001b[43m,\u001b[49m\n\u001b[32m     34\u001b[39m \u001b[43m    \u001b[49m\u001b[43mX_train_encoding\u001b[49m\u001b[43m \u001b[49m\u001b[43m=\u001b[49m\u001b[43m \u001b[49m\u001b[43mX_train_encoding\u001b[49m\u001b[43m,\u001b[49m\n\u001b[32m     35\u001b[39m \u001b[43m    \u001b[49m\u001b[43mX_test_encoding\u001b[49m\u001b[43m \u001b[49m\u001b[43m=\u001b[49m\u001b[43m \u001b[49m\u001b[43mX_test_encoding\u001b[49m\u001b[43m,\u001b[49m\n\u001b[32m     36\u001b[39m \u001b[43m    \u001b[49m\u001b[43mlevels\u001b[49m\u001b[43m \u001b[49m\u001b[43m=\u001b[49m\u001b[43m \u001b[49m\u001b[43mlevels\u001b[49m\u001b[43m,\u001b[49m\n\u001b[32m     37\u001b[39m \u001b[43m    \u001b[49m\u001b[43mmetrics\u001b[49m\u001b[43m \u001b[49m\u001b[43m=\u001b[49m\u001b[43m \u001b[49m\u001b[43mmetrics\u001b[49m\u001b[43m,\u001b[49m\n\u001b[32m     38\u001b[39m \u001b[43m    \u001b[49m\u001b[43madd_aggregated_metric\u001b[49m\u001b[43m \u001b[49m\u001b[43m=\u001b[49m\u001b[43m \u001b[49m\u001b[38;5;28;43;01mTrue\u001b[39;49;00m\n\u001b[32m     39\u001b[39m \u001b[43m)\u001b[49m\n",
      "\u001b[36mFile \u001b[39m\u001b[32m<string>:96\u001b[39m, in \u001b[36m_predict_and_calculate_metrics_one_step_ahead_multiseries\u001b[39m\u001b[34m(forecaster, series, X_train, y_train, X_test, y_test, X_train_encoding, X_test_encoding, levels, metrics, add_aggregated_metric)\u001b[39m\n",
      "\u001b[36mFile \u001b[39m\u001b[32m<string>:96\u001b[39m, in \u001b[36m<dictcomp>\u001b[39m\u001b[34m(.0)\u001b[39m\n",
      "\u001b[36mFile \u001b[39m\u001b[32mc:\\Users\\jaesc2\\Miniconda3\\envs\\skforecast_py11_2\\Lib\\site-packages\\pandas\\core\\generic.py:9231\u001b[39m, in \u001b[36mNDFrame.asfreq\u001b[39m\u001b[34m(self, freq, method, how, normalize, fill_value)\u001b[39m\n\u001b[32m   9124\u001b[39m \u001b[38;5;250m\u001b[39m\u001b[33;03m\"\"\"\u001b[39;00m\n\u001b[32m   9125\u001b[39m \u001b[33;03mConvert time series to specified frequency.\u001b[39;00m\n\u001b[32m   9126\u001b[39m \n\u001b[32m   (...)\u001b[39m\u001b[32m   9227\u001b[39m \u001b[33;03m2000-01-01 00:03:00    3.0\u001b[39;00m\n\u001b[32m   9228\u001b[39m \u001b[33;03m\"\"\"\u001b[39;00m\n\u001b[32m   9229\u001b[39m \u001b[38;5;28;01mfrom\u001b[39;00m\u001b[38;5;250m \u001b[39m\u001b[34;01mpandas\u001b[39;00m\u001b[34;01m.\u001b[39;00m\u001b[34;01mcore\u001b[39;00m\u001b[34;01m.\u001b[39;00m\u001b[34;01mresample\u001b[39;00m\u001b[38;5;250m \u001b[39m\u001b[38;5;28;01mimport\u001b[39;00m asfreq\n\u001b[32m-> \u001b[39m\u001b[32m9231\u001b[39m \u001b[38;5;28;01mreturn\u001b[39;00m \u001b[43masfreq\u001b[49m\u001b[43m(\u001b[49m\n\u001b[32m   9232\u001b[39m \u001b[43m    \u001b[49m\u001b[38;5;28;43mself\u001b[39;49m\u001b[43m,\u001b[49m\n\u001b[32m   9233\u001b[39m \u001b[43m    \u001b[49m\u001b[43mfreq\u001b[49m\u001b[43m,\u001b[49m\n\u001b[32m   9234\u001b[39m \u001b[43m    \u001b[49m\u001b[43mmethod\u001b[49m\u001b[43m=\u001b[49m\u001b[43mmethod\u001b[49m\u001b[43m,\u001b[49m\n\u001b[32m   9235\u001b[39m \u001b[43m    \u001b[49m\u001b[43mhow\u001b[49m\u001b[43m=\u001b[49m\u001b[43mhow\u001b[49m\u001b[43m,\u001b[49m\n\u001b[32m   9236\u001b[39m \u001b[43m    \u001b[49m\u001b[43mnormalize\u001b[49m\u001b[43m=\u001b[49m\u001b[43mnormalize\u001b[49m\u001b[43m,\u001b[49m\n\u001b[32m   9237\u001b[39m \u001b[43m    \u001b[49m\u001b[43mfill_value\u001b[49m\u001b[43m=\u001b[49m\u001b[43mfill_value\u001b[49m\u001b[43m,\u001b[49m\n\u001b[32m   9238\u001b[39m \u001b[43m\u001b[49m\u001b[43m)\u001b[49m\n",
      "\u001b[36mFile \u001b[39m\u001b[32mc:\\Users\\jaesc2\\Miniconda3\\envs\\skforecast_py11_2\\Lib\\site-packages\\pandas\\core\\resample.py:2835\u001b[39m, in \u001b[36masfreq\u001b[39m\u001b[34m(obj, freq, method, how, normalize, fill_value)\u001b[39m\n\u001b[32m   2832\u001b[39m \u001b[38;5;28;01mif\u001b[39;00m \u001b[38;5;28misinstance\u001b[39m(obj.index, DatetimeIndex):\n\u001b[32m   2833\u001b[39m     \u001b[38;5;66;03m# TODO: should we disallow non-DatetimeIndex?\u001b[39;00m\n\u001b[32m   2834\u001b[39m     unit = obj.index.unit\n\u001b[32m-> \u001b[39m\u001b[32m2835\u001b[39m dti = \u001b[43mdate_range\u001b[49m\u001b[43m(\u001b[49m\u001b[43mobj\u001b[49m\u001b[43m.\u001b[49m\u001b[43mindex\u001b[49m\u001b[43m.\u001b[49m\u001b[43mmin\u001b[49m\u001b[43m(\u001b[49m\u001b[43m)\u001b[49m\u001b[43m,\u001b[49m\u001b[43m \u001b[49m\u001b[43mobj\u001b[49m\u001b[43m.\u001b[49m\u001b[43mindex\u001b[49m\u001b[43m.\u001b[49m\u001b[43mmax\u001b[49m\u001b[43m(\u001b[49m\u001b[43m)\u001b[49m\u001b[43m,\u001b[49m\u001b[43m \u001b[49m\u001b[43mfreq\u001b[49m\u001b[43m=\u001b[49m\u001b[43mfreq\u001b[49m\u001b[43m,\u001b[49m\u001b[43m \u001b[49m\u001b[43munit\u001b[49m\u001b[43m=\u001b[49m\u001b[43munit\u001b[49m\u001b[43m)\u001b[49m\n\u001b[32m   2836\u001b[39m dti.name = obj.index.name\n\u001b[32m   2837\u001b[39m new_obj = obj.reindex(dti, method=method, fill_value=fill_value)\n",
      "\u001b[36mFile \u001b[39m\u001b[32mc:\\Users\\jaesc2\\Miniconda3\\envs\\skforecast_py11_2\\Lib\\site-packages\\pandas\\core\\indexes\\datetimes.py:1008\u001b[39m, in \u001b[36mdate_range\u001b[39m\u001b[34m(start, end, periods, freq, tz, normalize, name, inclusive, unit, **kwargs)\u001b[39m\n\u001b[32m   1005\u001b[39m \u001b[38;5;28;01mif\u001b[39;00m freq \u001b[38;5;129;01mis\u001b[39;00m \u001b[38;5;28;01mNone\u001b[39;00m \u001b[38;5;129;01mand\u001b[39;00m com.any_none(periods, start, end):\n\u001b[32m   1006\u001b[39m     freq = \u001b[33m\"\u001b[39m\u001b[33mD\u001b[39m\u001b[33m\"\u001b[39m\n\u001b[32m-> \u001b[39m\u001b[32m1008\u001b[39m dtarr = \u001b[43mDatetimeArray\u001b[49m\u001b[43m.\u001b[49m\u001b[43m_generate_range\u001b[49m\u001b[43m(\u001b[49m\n\u001b[32m   1009\u001b[39m \u001b[43m    \u001b[49m\u001b[43mstart\u001b[49m\u001b[43m=\u001b[49m\u001b[43mstart\u001b[49m\u001b[43m,\u001b[49m\n\u001b[32m   1010\u001b[39m \u001b[43m    \u001b[49m\u001b[43mend\u001b[49m\u001b[43m=\u001b[49m\u001b[43mend\u001b[49m\u001b[43m,\u001b[49m\n\u001b[32m   1011\u001b[39m \u001b[43m    \u001b[49m\u001b[43mperiods\u001b[49m\u001b[43m=\u001b[49m\u001b[43mperiods\u001b[49m\u001b[43m,\u001b[49m\n\u001b[32m   1012\u001b[39m \u001b[43m    \u001b[49m\u001b[43mfreq\u001b[49m\u001b[43m=\u001b[49m\u001b[43mfreq\u001b[49m\u001b[43m,\u001b[49m\n\u001b[32m   1013\u001b[39m \u001b[43m    \u001b[49m\u001b[43mtz\u001b[49m\u001b[43m=\u001b[49m\u001b[43mtz\u001b[49m\u001b[43m,\u001b[49m\n\u001b[32m   1014\u001b[39m \u001b[43m    \u001b[49m\u001b[43mnormalize\u001b[49m\u001b[43m=\u001b[49m\u001b[43mnormalize\u001b[49m\u001b[43m,\u001b[49m\n\u001b[32m   1015\u001b[39m \u001b[43m    \u001b[49m\u001b[43minclusive\u001b[49m\u001b[43m=\u001b[49m\u001b[43minclusive\u001b[49m\u001b[43m,\u001b[49m\n\u001b[32m   1016\u001b[39m \u001b[43m    \u001b[49m\u001b[43munit\u001b[49m\u001b[43m=\u001b[49m\u001b[43munit\u001b[49m\u001b[43m,\u001b[49m\n\u001b[32m   1017\u001b[39m \u001b[43m    \u001b[49m\u001b[43m*\u001b[49m\u001b[43m*\u001b[49m\u001b[43mkwargs\u001b[49m\u001b[43m,\u001b[49m\n\u001b[32m   1018\u001b[39m \u001b[43m\u001b[49m\u001b[43m)\u001b[49m\n\u001b[32m   1019\u001b[39m \u001b[38;5;28;01mreturn\u001b[39;00m DatetimeIndex._simple_new(dtarr, name=name)\n",
      "\u001b[36mFile \u001b[39m\u001b[32mc:\\Users\\jaesc2\\Miniconda3\\envs\\skforecast_py11_2\\Lib\\site-packages\\pandas\\core\\arrays\\datetimes.py:421\u001b[39m, in \u001b[36mDatetimeArray._generate_range\u001b[39m\u001b[34m(cls, start, end, periods, freq, tz, normalize, ambiguous, nonexistent, inclusive, unit)\u001b[39m\n\u001b[32m    416\u001b[39m \u001b[38;5;28;01mif\u001b[39;00m com.count_not_none(start, end, periods, freq) != \u001b[32m3\u001b[39m:\n\u001b[32m    417\u001b[39m     \u001b[38;5;28;01mraise\u001b[39;00m \u001b[38;5;167;01mValueError\u001b[39;00m(\n\u001b[32m    418\u001b[39m         \u001b[33m\"\u001b[39m\u001b[33mOf the four parameters: start, end, periods, \u001b[39m\u001b[33m\"\u001b[39m\n\u001b[32m    419\u001b[39m         \u001b[33m\"\u001b[39m\u001b[33mand freq, exactly three must be specified\u001b[39m\u001b[33m\"\u001b[39m\n\u001b[32m    420\u001b[39m     )\n\u001b[32m--> \u001b[39m\u001b[32m421\u001b[39m freq = \u001b[43mto_offset\u001b[49m\u001b[43m(\u001b[49m\u001b[43mfreq\u001b[49m\u001b[43m)\u001b[49m\n\u001b[32m    423\u001b[39m \u001b[38;5;28;01mif\u001b[39;00m start \u001b[38;5;129;01mis\u001b[39;00m \u001b[38;5;129;01mnot\u001b[39;00m \u001b[38;5;28;01mNone\u001b[39;00m:\n\u001b[32m    424\u001b[39m     start = Timestamp(start)\n",
      "\u001b[36mFile \u001b[39m\u001b[32moffsets.pyx:4791\u001b[39m, in \u001b[36mpandas._libs.tslibs.offsets.to_offset\u001b[39m\u001b[34m()\u001b[39m\n",
      "\u001b[36mFile \u001b[39m\u001b[32moffsets.pyx:4961\u001b[39m, in \u001b[36mpandas._libs.tslibs.offsets.to_offset\u001b[39m\u001b[34m()\u001b[39m\n",
      "\u001b[31mValueError\u001b[39m: Invalid frequency: 1"
     ]
    }
   ],
   "source": [
    "forecaster = ForecasterRecursiveMultiSeries(\n",
    "                    regressor          = Ridge(random_state=678),\n",
    "                    lags               = 3,\n",
    "                    transformer_series = StandardScaler(),\n",
    "                    transformer_exog   = StandardScaler(),\n",
    "                    differentiation    = 1,\n",
    "                    forecaster_id      = 'multiseries_transformer_diff'\n",
    "                )\n",
    "\n",
    "initial_train_size = 927\n",
    "metrics = ['mean_absolute_error', mean_absolute_percentage_error, mean_absolute_scaled_error]\n",
    "levels = ['item_1', 'item_2', 'item_3']\n",
    "\n",
    "(\n",
    "    X_train,\n",
    "    y_train,\n",
    "    X_test,\n",
    "    y_test,\n",
    "    X_train_encoding,\n",
    "    X_test_encoding\n",
    ") = forecaster._train_test_split_one_step_ahead(\n",
    "        series             = series_dict_range_item_sales,\n",
    "        exog               = exog_wide_range_item_sales,\n",
    "        initial_train_size = initial_train_size,\n",
    "    )\n",
    "\n",
    "results = _predict_and_calculate_metrics_one_step_ahead_multiseries(\n",
    "    forecaster=forecaster,\n",
    "    series=series_dict_range_item_sales,\n",
    "    X_train = X_train,\n",
    "    y_train = y_train,\n",
    "    X_test = X_test,\n",
    "    y_test = y_test,\n",
    "    X_train_encoding = X_train_encoding,\n",
    "    X_test_encoding = X_test_encoding,\n",
    "    levels = levels,\n",
    "    metrics = metrics,\n",
    "    add_aggregated_metric = True\n",
    ")"
   ]
  },
  {
   "cell_type": "code",
   "execution_count": null,
   "metadata": {},
   "outputs": [],
   "source": []
  }
 ],
 "metadata": {
  "kernelspec": {
   "display_name": "skforecast_py11_2",
   "language": "python",
   "name": "python3"
  },
  "language_info": {
   "codemirror_mode": {
    "name": "ipython",
    "version": 3
   },
   "file_extension": ".py",
   "mimetype": "text/x-python",
   "name": "python",
   "nbconvert_exporter": "python",
   "pygments_lexer": "ipython3",
   "version": "3.11.10"
  },
  "orig_nbformat": 4
 },
 "nbformat": 4,
 "nbformat_minor": 2
}
