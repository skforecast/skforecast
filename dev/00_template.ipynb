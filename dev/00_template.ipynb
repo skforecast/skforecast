{
 "cells": [
  {
   "cell_type": "code",
   "execution_count": 1,
   "metadata": {},
   "outputs": [
    {
     "name": "stdout",
     "output_type": "stream",
     "text": [
      "c:\\Users\\jaesc2\\GitHub\\skforecast\n"
     ]
    }
   ],
   "source": [
    "%load_ext autoreload\n",
    "%autoreload 2\n",
    "import sys\n",
    "from pathlib import Path\n",
    "path = str(Path.cwd().parent)\n",
    "print(path)\n",
    "sys.path.insert(1, path)\n",
    "\n",
    "import numpy as np\n",
    "import pandas as pd"
   ]
  },
  {
   "cell_type": "code",
   "execution_count": 2,
   "metadata": {},
   "outputs": [],
   "source": [
    "import re\n",
    "import pytest\n",
    "import numpy as np\n",
    "import pandas as pd\n",
    "from sklearn.exceptions import NotFittedError\n",
    "from skforecast.exceptions import MissingValuesWarning\n",
    "from skforecast.recursive import ForecasterEquivalentDate\n"
   ]
  },
  {
   "cell_type": "code",
   "execution_count": 38,
   "metadata": {},
   "outputs": [
    {
     "data": {
      "text/plain": [
       "6"
      ]
     },
     "execution_count": 38,
     "metadata": {},
     "output_type": "execute_result"
    }
   ],
   "source": [
    "y = pd.Series(\n",
    "    np.arange(51), \n",
    "    index=pd.date_range(start='2000-02-25', periods=51, freq='D')\n",
    ")\n",
    "\n",
    "forecaster = ForecasterEquivalentDate(\n",
    "                    offset    = pd.offsets.MonthEnd(1),\n",
    "                    n_offsets = 2,\n",
    "                    agg_func  = np.mean\n",
    "                )\n",
    "\n",
    "forecaster = ForecasterEquivalentDate(\n",
    "                    offset    = 3,\n",
    "                    n_offsets = 2,\n",
    "                    agg_func  = np.mean\n",
    "                )\n",
    "forecaster.fit(y=y)\n",
    "forecaster.window_size"
   ]
  },
  {
   "cell_type": "code",
   "execution_count": 24,
   "metadata": {},
   "outputs": [
    {
     "data": {
      "text/plain": [
       "2000-04-10    45\n",
       "2000-04-11    46\n",
       "2000-04-12    47\n",
       "2000-04-13    48\n",
       "2000-04-14    49\n",
       "2000-04-15    50\n",
       "Freq: D, dtype: int64"
      ]
     },
     "execution_count": 24,
     "metadata": {},
     "output_type": "execute_result"
    }
   ],
   "source": [
    "forecaster.last_window_[-6:]"
   ]
  },
  {
   "cell_type": "code",
   "execution_count": 25,
   "metadata": {},
   "outputs": [
    {
     "name": "stdout",
     "output_type": "stream",
     "text": [
      "[-3 -2 -1 -3 -2 -1 -3 -2 -1 -3 -2 -1]\n",
      "[-3 -2 -1 -3 -2 -1 -3 -2 -1 -3]\n"
     ]
    }
   ],
   "source": [
    "equivalent_indexes = np.tile(\n",
    "                            np.arange(-forecaster.offset, 0),\n",
    "                            int(np.ceil(10 / forecaster.offset))\n",
    "                        )\n",
    "print(equivalent_indexes)\n",
    "equivalent_indexes = equivalent_indexes[:10]\n",
    "print(equivalent_indexes)"
   ]
  },
  {
   "cell_type": "code",
   "execution_count": 26,
   "metadata": {},
   "outputs": [
    {
     "name": "stdout",
     "output_type": "stream",
     "text": [
      "[array([-3, -2, -1, -3, -2, -1, -3, -2, -1, -3]), array([-6, -5, -4, -6, -5, -4, -6, -5, -4, -6])]\n",
      "[[-3 -2 -1 -3 -2 -1 -3 -2 -1 -3]\n",
      " [-6 -5 -4 -6 -5 -4 -6 -5 -4 -6]]\n",
      "[[48 49 50 48 49 50 48 49 50 48]\n",
      " [45 46 47 45 46 47 45 46 47 45]]\n"
     ]
    }
   ],
   "source": [
    "equivalent_indexes = [\n",
    "    equivalent_indexes - n * forecaster.offset \n",
    "    for n in np.arange(forecaster.n_offsets)\n",
    "]\n",
    "print(equivalent_indexes)\n",
    "equivalent_indexes = np.vstack(equivalent_indexes)\n",
    "print(equivalent_indexes)\n",
    "equivalent_values = forecaster.last_window_.to_numpy()[equivalent_indexes]\n",
    "print(equivalent_values)"
   ]
  },
  {
   "cell_type": "code",
   "execution_count": 12,
   "metadata": {},
   "outputs": [
    {
     "data": {
      "text/plain": [
       "2000-04-16    48\n",
       "2000-04-17    49\n",
       "2000-04-18    50\n",
       "2000-04-19    48\n",
       "2000-04-20    49\n",
       "2000-04-21    50\n",
       "2000-04-22    48\n",
       "2000-04-23    49\n",
       "2000-04-24    50\n",
       "2000-04-25    48\n",
       "Freq: D, Name: pred, dtype: int64"
      ]
     },
     "execution_count": 12,
     "metadata": {},
     "output_type": "execute_result"
    }
   ],
   "source": [
    "forecaster.predict(steps=10, last_window=None)"
   ]
  },
  {
   "cell_type": "code",
   "execution_count": 28,
   "metadata": {},
   "outputs": [
    {
     "data": {
      "text/plain": [
       "2000-02-25    0\n",
       "2000-02-26    1\n",
       "2000-02-27    2\n",
       "Freq: D, dtype: int64"
      ]
     },
     "execution_count": 28,
     "metadata": {},
     "output_type": "execute_result"
    }
   ],
   "source": [
    "y.head(3)"
   ]
  },
  {
   "cell_type": "code",
   "execution_count": 121,
   "metadata": {},
   "outputs": [],
   "source": [
    "np.random.seed(123)\n",
    "y_rnd = pd.Series(\n",
    "    np.random.randint(0, 100, 51), \n",
    "    index=pd.date_range(start='2000-02-25', periods=51, freq='D')\n",
    ")"
   ]
  },
  {
   "cell_type": "code",
   "execution_count": 122,
   "metadata": {},
   "outputs": [
    {
     "data": {
      "text/plain": [
       "6"
      ]
     },
     "execution_count": 122,
     "metadata": {},
     "output_type": "execute_result"
    }
   ],
   "source": [
    "forecaster = ForecasterEquivalentDate(\n",
    "                    offset    = 3,\n",
    "                    n_offsets = 2,\n",
    "                    agg_func  = np.mean\n",
    "                )\n",
    "forecaster.fit(y=y_rnd, store_in_sample_residuals=True)\n",
    "forecaster.window_size"
   ]
  },
  {
   "cell_type": "code",
   "execution_count": 123,
   "metadata": {},
   "outputs": [
    {
     "data": {
      "text/plain": [
       "array([ 44.5,   9.5,  18.5,  -4.5, -17. , -44.5, -20.5,  11. , -39. ,\n",
       "        36.5,  -6.5,   7.5,  31.5,  -7. ,  37.5, -40.5, -24. ,  15. ,\n",
       "       -70.5,  16.5, -28.5,  40.5,  14.5,  -6. ,  27. , -36. , -36. ,\n",
       "        35.5,  26. ,  25. ,  17. ,  15. ,  64.5, -71. , -54.5,  24. ,\n",
       "        14. , -19.5, -92.5,  17.5,  27. ,  25. , -38.5,   6. , -29. ])"
      ]
     },
     "execution_count": 123,
     "metadata": {},
     "output_type": "execute_result"
    }
   ],
   "source": [
    "forecaster.in_sample_residuals_"
   ]
  },
  {
   "cell_type": "code",
   "execution_count": 124,
   "metadata": {},
   "outputs": [
    {
     "data": {
      "text/plain": [
       "{0: array([ 7.5, 37.5, 40.5, 25. , 64.5]),\n",
       " 1: array([ 44.5,  27. ,  27. , -29. ]),\n",
       " 2: array([ -4.5,  36.5, -36. ,  17.5,  25. ]),\n",
       " 3: array([ 15. ,  -6. , -19.5,   6. ]),\n",
       " 4: array([-39. ,  31.5,  35.5,  14. ]),\n",
       " 5: array([-20.5,  16.5, -28.5,  14.5,  26. ]),\n",
       " 6: array([-70.5,  15. ,  24. , -38.5]),\n",
       " 7: array([ 18.5, -44.5, -24. , -36. ,  17. ]),\n",
       " 8: array([ 9.5, 11. , -6.5, -7. ]),\n",
       " 9: array([-17. , -40.5, -71. , -54.5, -92.5])}"
      ]
     },
     "execution_count": 124,
     "metadata": {},
     "output_type": "execute_result"
    }
   ],
   "source": [
    "forecaster.in_sample_residuals_by_bin_"
   ]
  },
  {
   "cell_type": "code",
   "execution_count": 105,
   "metadata": {},
   "outputs": [
    {
     "data": {
      "text/plain": [
       "{0: (1.5, 5.9),\n",
       " 1: (5.9, 10.3),\n",
       " 2: (10.3, 14.7),\n",
       " 3: (14.7, 19.1),\n",
       " 4: (19.1, 23.5),\n",
       " 5: (23.5, 27.9),\n",
       " 6: (27.9, 32.3),\n",
       " 7: (32.3, 36.7),\n",
       " 8: (36.7, 41.1),\n",
       " 9: (41.1, 45.5)}"
      ]
     },
     "execution_count": 105,
     "metadata": {},
     "output_type": "execute_result"
    }
   ],
   "source": [
    "forecaster.binner_intervals_"
   ]
  },
  {
   "cell_type": "code",
   "execution_count": null,
   "metadata": {},
   "outputs": [],
   "source": []
  },
  {
   "cell_type": "code",
   "execution_count": 88,
   "metadata": {},
   "outputs": [
    {
     "data": {
      "text/plain": [
       "3"
      ]
     },
     "execution_count": 88,
     "metadata": {},
     "output_type": "execute_result"
    }
   ],
   "source": [
    "forecaster.offset"
   ]
  },
  {
   "cell_type": "code",
   "execution_count": 126,
   "metadata": {},
   "outputs": [
    {
     "name": "stdout",
     "output_type": "stream",
     "text": [
      "<2 * MonthEnds>\n"
     ]
    },
    {
     "data": {
      "text/plain": [
       "46"
      ]
     },
     "execution_count": 126,
     "metadata": {},
     "output_type": "execute_result"
    }
   ],
   "source": [
    "y = pd.Series(\n",
    "    np.arange(51), \n",
    "    index=pd.date_range(start='2000-02-25', periods=51, freq='D')\n",
    ")\n",
    "\n",
    "forecaster = ForecasterEquivalentDate(\n",
    "                    offset    = pd.offsets.MonthEnd(1),\n",
    "                    n_offsets = 2,\n",
    "                    agg_func  = np.mean\n",
    "                )\n",
    "print(forecaster.window_size)\n",
    "forecaster.fit(y=y_rnd, store_in_sample_residuals=True)\n",
    "forecaster.window_size"
   ]
  },
  {
   "cell_type": "code",
   "execution_count": 127,
   "metadata": {},
   "outputs": [
    {
     "data": {
      "text/plain": [
       "array([ -3.5,   7.5, -33.5,  -9.5, -57.5])"
      ]
     },
     "execution_count": 127,
     "metadata": {},
     "output_type": "execute_result"
    }
   ],
   "source": [
    "forecaster.in_sample_residuals_"
   ]
  },
  {
   "cell_type": "code",
   "execution_count": 129,
   "metadata": {},
   "outputs": [
    {
     "data": {
      "text/plain": [
       "{0: (67.5, 67.5),\n",
       " 1: (67.5, 67.5),\n",
       " 2: (67.5, 67.5),\n",
       " 3: (67.5, 67.5),\n",
       " 4: (67.5, 67.5),\n",
       " 5: (67.5, 67.5),\n",
       " 6: (67.5, 67.5),\n",
       " 7: (67.5, 67.5),\n",
       " 8: (67.5, 67.5),\n",
       " 9: (67.5, 67.5)}"
      ]
     },
     "execution_count": 129,
     "metadata": {},
     "output_type": "execute_result"
    }
   ],
   "source": [
    "forecaster.binner_intervals_"
   ]
  },
  {
   "cell_type": "code",
   "execution_count": 128,
   "metadata": {},
   "outputs": [
    {
     "data": {
      "text/plain": [
       "{9: array([ -3.5,   7.5, -33.5,  -9.5, -57.5])}"
      ]
     },
     "execution_count": 128,
     "metadata": {},
     "output_type": "execute_result"
    }
   ],
   "source": [
    "forecaster.in_sample_residuals_by_bin_"
   ]
  },
  {
   "cell_type": "code",
   "execution_count": 26,
   "metadata": {},
   "outputs": [],
   "source": [
    "from pandas.tseries.offsets import DateOffset\n",
    "\n",
    "y = pd.Series(\n",
    "        data = np.array([0.69646919, 0.28613933, 0.22685145, 0.55131477, 0.71946897,\n",
    "                         0.42310646, 0.9807642 , 0.68482974, 0.4809319 , 0.39211752,\n",
    "                         0.34317802, 0.72904971, 0.43857224, 0.0596779 , 0.39804426,\n",
    "                         0.73799541, 0.18249173, 0.17545176, 0.53155137, 0.53182759,\n",
    "                         0.63440096, 0.84943179, 0.72445532, 0.61102351, 0.72244338,\n",
    "                         0.32295891, 0.36178866, 0.22826323, 0.29371405, 0.63097612,\n",
    "                         0.09210494, 0.43370117, 0.43086276, 0.4936851 , 0.42583029,\n",
    "                         0.31226122, 0.42635131, 0.89338916, 0.94416002, 0.50183668,\n",
    "                         0.62395295, 0.1156184 , 0.31728548, 0.41482621, 0.86630916,\n",
    "                         0.25045537, 0.48303426, 0.98555979, 0.51948512, 0.61289453]\n",
    "            ),\n",
    "        index=pd.date_range(start='2000-01-01', periods=50, freq='D'),\n",
    "        name = 'y'\n",
    "    )"
   ]
  },
  {
   "cell_type": "code",
   "execution_count": 24,
   "metadata": {},
   "outputs": [
    {
     "data": {
      "text/plain": [
       "{9: array([26.5, 27.5, 28.5, 29.5, 30.5])}"
      ]
     },
     "execution_count": 24,
     "metadata": {},
     "output_type": "execute_result"
    }
   ],
   "source": [
    "y = pd.Series(\n",
    "    np.arange(51), \n",
    "    index=pd.date_range(start='2000-02-25', periods=51, freq='D')\n",
    ")\n",
    "\n",
    "forecaster = ForecasterEquivalentDate(\n",
    "                    offset    = pd.offsets.MonthEnd(1),\n",
    "                    n_offsets = 2,\n",
    "                    agg_func  = np.mean\n",
    "                )\n",
    "forecaster.fit(y=y, store_in_sample_residuals=True)\n",
    "forecaster.in_sample_residuals_by_bin_"
   ]
  },
  {
   "cell_type": "code",
   "execution_count": null,
   "metadata": {},
   "outputs": [],
   "source": [
    "\n",
    "last_window = pd.Series(\n",
    "    np.arange(50), \n",
    "    index=pd.date_range(start='2000-02-10', periods=50, freq='D')\n",
    ")\n",
    "\n",
    "warn_msg = re.escape(\n",
    "    \"Steps: ['2000-03-31', '2000-04-01', '2000-04-02'] \"\n",
    "    \"are calculated with less than 2 `n_offsets`. \"\n",
    "    \"To avoid this, increase the `last_window` size or decrease \"\n",
    "    \"the number of `n_offsets`. The current configuration requires \" \n",
    "    \"a total offset of <2 * MonthEnds>.\"\n",
    ")\n",
    "with pytest.warns(MissingValuesWarning, match = warn_msg):\n",
    "    predictions = forecaster.predict_interval(steps=3, last_window=last_window)\n",
    "\n",
    "predictions"
   ]
  },
  {
   "cell_type": "code",
   "execution_count": 20,
   "metadata": {},
   "outputs": [
    {
     "data": {
      "text/plain": [
       "array([[ 0.49422539,  0.05874109,  0.92970969],\n",
       "       [ 0.332763  , -0.18714832,  0.85267431],\n",
       "       [ 0.58050578,  0.23107803,  0.92993352],\n",
       "       [ 0.52551824,  0.09003394,  0.96100255],\n",
       "       [ 0.57236106,  0.22293331,  0.92178881],\n",
       "       [ 0.49422539,  0.05874109,  0.92970969],\n",
       "       [ 0.332763  , -0.18714832,  0.85267431]])"
      ]
     },
     "execution_count": 20,
     "metadata": {},
     "output_type": "execute_result"
    }
   ],
   "source": [
    "predictions.to_numpy()"
   ]
  },
  {
   "cell_type": "code",
   "execution_count": 6,
   "metadata": {},
   "outputs": [
    {
     "data": {
      "text/plain": [
       "{0: (0.192909495, 0.41830825),\n",
       " 1: (0.41830825, 0.5539681),\n",
       " 2: (0.5539681, 0.850116585)}"
      ]
     },
     "execution_count": 6,
     "metadata": {},
     "output_type": "execute_result"
    }
   ],
   "source": [
    "forecaster.binner_intervals_"
   ]
  },
  {
   "cell_type": "code",
   "execution_count": 5,
   "metadata": {},
   "outputs": [
    {
     "data": {
      "text/html": [
       "<div>\n",
       "<style scoped>\n",
       "    .dataframe tbody tr th:only-of-type {\n",
       "        vertical-align: middle;\n",
       "    }\n",
       "\n",
       "    .dataframe tbody tr th {\n",
       "        vertical-align: top;\n",
       "    }\n",
       "\n",
       "    .dataframe thead th {\n",
       "        text-align: right;\n",
       "    }\n",
       "</style>\n",
       "<table border=\"1\" class=\"dataframe\">\n",
       "  <thead>\n",
       "    <tr style=\"text-align: right;\">\n",
       "      <th></th>\n",
       "      <th>pred</th>\n",
       "      <th>lower_bound</th>\n",
       "      <th>upper_bound</th>\n",
       "    </tr>\n",
       "  </thead>\n",
       "  <tbody>\n",
       "    <tr>\n",
       "      <th>2000-02-20</th>\n",
       "      <td>0.501260</td>\n",
       "      <td>0.038421</td>\n",
       "      <td>0.964098</td>\n",
       "    </tr>\n",
       "    <tr>\n",
       "      <th>2000-02-21</th>\n",
       "      <td>0.799227</td>\n",
       "      <td>0.315389</td>\n",
       "      <td>1.283066</td>\n",
       "    </tr>\n",
       "    <tr>\n",
       "      <th>2000-02-22</th>\n",
       "      <td>0.501260</td>\n",
       "      <td>0.038421</td>\n",
       "      <td>0.964098</td>\n",
       "    </tr>\n",
       "    <tr>\n",
       "      <th>2000-02-23</th>\n",
       "      <td>0.799227</td>\n",
       "      <td>0.315389</td>\n",
       "      <td>1.283066</td>\n",
       "    </tr>\n",
       "    <tr>\n",
       "      <th>2000-02-24</th>\n",
       "      <td>0.501260</td>\n",
       "      <td>0.038421</td>\n",
       "      <td>0.964098</td>\n",
       "    </tr>\n",
       "  </tbody>\n",
       "</table>\n",
       "</div>"
      ],
      "text/plain": [
       "                pred  lower_bound  upper_bound\n",
       "2000-02-20  0.501260     0.038421     0.964098\n",
       "2000-02-21  0.799227     0.315389     1.283066\n",
       "2000-02-22  0.501260     0.038421     0.964098\n",
       "2000-02-23  0.799227     0.315389     1.283066\n",
       "2000-02-24  0.501260     0.038421     0.964098"
      ]
     },
     "execution_count": 5,
     "metadata": {},
     "output_type": "execute_result"
    }
   ],
   "source": [
    "forecaster.predict_interval(steps=5)"
   ]
  },
  {
   "cell_type": "code",
   "execution_count": 27,
   "metadata": {},
   "outputs": [
    {
     "data": {
      "text/html": [
       "<div>\n",
       "<style scoped>\n",
       "    .dataframe tbody tr th:only-of-type {\n",
       "        vertical-align: middle;\n",
       "    }\n",
       "\n",
       "    .dataframe tbody tr th {\n",
       "        vertical-align: top;\n",
       "    }\n",
       "\n",
       "    .dataframe thead th {\n",
       "        text-align: right;\n",
       "    }\n",
       "</style>\n",
       "<table border=\"1\" class=\"dataframe\">\n",
       "  <thead>\n",
       "    <tr style=\"text-align: right;\">\n",
       "      <th></th>\n",
       "      <th>pred</th>\n",
       "      <th>lower_bound</th>\n",
       "      <th>upper_bound</th>\n",
       "    </tr>\n",
       "  </thead>\n",
       "  <tbody>\n",
       "    <tr>\n",
       "      <th>2001-07-01</th>\n",
       "      <td>0.501260</td>\n",
       "      <td>0.002911</td>\n",
       "      <td>0.999609</td>\n",
       "    </tr>\n",
       "    <tr>\n",
       "      <th>2001-08-01</th>\n",
       "      <td>0.799227</td>\n",
       "      <td>0.300878</td>\n",
       "      <td>1.297576</td>\n",
       "    </tr>\n",
       "    <tr>\n",
       "      <th>2001-09-01</th>\n",
       "      <td>0.501260</td>\n",
       "      <td>0.002911</td>\n",
       "      <td>0.999609</td>\n",
       "    </tr>\n",
       "    <tr>\n",
       "      <th>2001-10-01</th>\n",
       "      <td>0.799227</td>\n",
       "      <td>0.300878</td>\n",
       "      <td>1.297576</td>\n",
       "    </tr>\n",
       "    <tr>\n",
       "      <th>2001-11-01</th>\n",
       "      <td>0.501260</td>\n",
       "      <td>0.002911</td>\n",
       "      <td>0.999609</td>\n",
       "    </tr>\n",
       "    <tr>\n",
       "      <th>2001-12-01</th>\n",
       "      <td>0.799227</td>\n",
       "      <td>0.300878</td>\n",
       "      <td>1.297576</td>\n",
       "    </tr>\n",
       "    <tr>\n",
       "      <th>2002-01-01</th>\n",
       "      <td>0.501260</td>\n",
       "      <td>0.002911</td>\n",
       "      <td>0.999609</td>\n",
       "    </tr>\n",
       "  </tbody>\n",
       "</table>\n",
       "</div>"
      ],
      "text/plain": [
       "                pred  lower_bound  upper_bound\n",
       "2001-07-01  0.501260     0.002911     0.999609\n",
       "2001-08-01  0.799227     0.300878     1.297576\n",
       "2001-09-01  0.501260     0.002911     0.999609\n",
       "2001-10-01  0.799227     0.300878     1.297576\n",
       "2001-11-01  0.501260     0.002911     0.999609\n",
       "2001-12-01  0.799227     0.300878     1.297576\n",
       "2002-01-01  0.501260     0.002911     0.999609"
      ]
     },
     "execution_count": 27,
     "metadata": {},
     "output_type": "execute_result"
    }
   ],
   "source": [
    "y_monthly = y.copy()\n",
    "y_monthly.index = pd.date_range(start='1990-01-01', periods=50, freq='MS')\n",
    "last_window = pd.Series(\n",
    "    data = np.array([0.73799541, 0.18249173, 0.17545176, 0.53155137, 0.53182759,\n",
    "                        0.25045537, 0.48303426, 0.98555979, 0.51948512, 0.61289453]),\n",
    "    index = pd.date_range(start='2000-08-05', periods=10, freq='MS'),\n",
    "    name = 'y'\n",
    ")\n",
    "\n",
    "forecaster = ForecasterEquivalentDate(\n",
    "                    offset    = pd.DateOffset(months=2),\n",
    "                    n_offsets = 2,\n",
    "                    agg_func  = np.mean\n",
    "                )\n",
    "forecaster.fit(y=y_monthly, store_in_sample_residuals=True)\n",
    "forecaster.out_sample_residuals_ = forecaster.in_sample_residuals_\n",
    "forecaster.out_sample_residuals_by_bin_ = forecaster.in_sample_residuals_by_bin_\n",
    "predictions = forecaster.predict_interval(\n",
    "    steps=7, last_window=last_window, use_in_sample_residuals=False, use_binned_residuals=False\n",
    ")\n",
    "predictions"
   ]
  },
  {
   "cell_type": "code",
   "execution_count": 30,
   "metadata": {},
   "outputs": [
    {
     "data": {
      "text/plain": [
       "array([[ 0.42058876,  0.02043732,  0.8207402 ],\n",
       "       [ 0.87984916,  0.47969772,  1.2800006 ],\n",
       "       [ 0.5973077 ,  0.19715626,  0.99745913],\n",
       "       [ 0.49243547,  0.09228403,  0.89258691],\n",
       "       [ 0.80475637,  0.40460493,  1.20490781],\n",
       "       [ 0.31755176, -0.08259968,  0.7177032 ],\n",
       "       [ 0.46509001,  0.06493857,  0.86524144]])"
      ]
     },
     "execution_count": 30,
     "metadata": {},
     "output_type": "execute_result"
    }
   ],
   "source": [
    "predictions.to_numpy()"
   ]
  },
  {
   "cell_type": "code",
   "execution_count": 31,
   "metadata": {},
   "outputs": [
    {
     "data": {
      "text/html": [
       "<div>\n",
       "<style scoped>\n",
       "    .dataframe tbody tr th:only-of-type {\n",
       "        vertical-align: middle;\n",
       "    }\n",
       "\n",
       "    .dataframe tbody tr th {\n",
       "        vertical-align: top;\n",
       "    }\n",
       "\n",
       "    .dataframe thead th {\n",
       "        text-align: right;\n",
       "    }\n",
       "</style>\n",
       "<table border=\"1\" class=\"dataframe\">\n",
       "  <thead>\n",
       "    <tr style=\"text-align: right;\">\n",
       "      <th></th>\n",
       "      <th>pred</th>\n",
       "      <th>lower_bound</th>\n",
       "      <th>upper_bound</th>\n",
       "    </tr>\n",
       "  </thead>\n",
       "  <tbody>\n",
       "    <tr>\n",
       "      <th>2000-02-20</th>\n",
       "      <td>0.420589</td>\n",
       "      <td>0.020437</td>\n",
       "      <td>0.820740</td>\n",
       "    </tr>\n",
       "    <tr>\n",
       "      <th>2000-02-21</th>\n",
       "      <td>0.879849</td>\n",
       "      <td>0.479698</td>\n",
       "      <td>1.280001</td>\n",
       "    </tr>\n",
       "    <tr>\n",
       "      <th>2000-02-22</th>\n",
       "      <td>0.597308</td>\n",
       "      <td>0.197156</td>\n",
       "      <td>0.997459</td>\n",
       "    </tr>\n",
       "    <tr>\n",
       "      <th>2000-02-23</th>\n",
       "      <td>0.492435</td>\n",
       "      <td>0.092284</td>\n",
       "      <td>0.892587</td>\n",
       "    </tr>\n",
       "    <tr>\n",
       "      <th>2000-02-24</th>\n",
       "      <td>0.804756</td>\n",
       "      <td>0.404605</td>\n",
       "      <td>1.204908</td>\n",
       "    </tr>\n",
       "    <tr>\n",
       "      <th>2000-02-25</th>\n",
       "      <td>0.317552</td>\n",
       "      <td>-0.082600</td>\n",
       "      <td>0.717703</td>\n",
       "    </tr>\n",
       "    <tr>\n",
       "      <th>2000-02-26</th>\n",
       "      <td>0.465090</td>\n",
       "      <td>0.064939</td>\n",
       "      <td>0.865241</td>\n",
       "    </tr>\n",
       "  </tbody>\n",
       "</table>\n",
       "</div>"
      ],
      "text/plain": [
       "                pred  lower_bound  upper_bound\n",
       "2000-02-20  0.420589     0.020437     0.820740\n",
       "2000-02-21  0.879849     0.479698     1.280001\n",
       "2000-02-22  0.597308     0.197156     0.997459\n",
       "2000-02-23  0.492435     0.092284     0.892587\n",
       "2000-02-24  0.804756     0.404605     1.204908\n",
       "2000-02-25  0.317552    -0.082600     0.717703\n",
       "2000-02-26  0.465090     0.064939     0.865241"
      ]
     },
     "execution_count": 31,
     "metadata": {},
     "output_type": "execute_result"
    }
   ],
   "source": [
    "forecaster = ForecasterEquivalentDate(\n",
    "                     offset    = 7,\n",
    "                     n_offsets = 2,\n",
    "                     agg_func  = np.mean\n",
    "                 )\n",
    "forecaster.fit(y=y, store_in_sample_residuals=True)\n",
    "predictions = forecaster.predict_interval(steps=7, use_binned_residuals=False)\n",
    "predictions"
   ]
  },
  {
   "cell_type": "code",
   "execution_count": 35,
   "metadata": {},
   "outputs": [
    {
     "data": {
      "text/plain": [
       "2"
      ]
     },
     "execution_count": 35,
     "metadata": {},
     "output_type": "execute_result"
    }
   ],
   "source": [
    "y = pd.Series(\n",
    "    np.arange(7), \n",
    "    index=pd.date_range(start='2000-02-25', periods=7, freq='D')\n",
    ")\n",
    "\n",
    "forecaster = ForecasterEquivalentDate(\n",
    "                    offset    = pd.offsets.MonthEnd(1),\n",
    "                    n_offsets = 1\n",
    "                )\n",
    "forecaster._probabilistic_mode = False\n",
    "forecaster.fit(y=y, store_in_sample_residuals=False)\n",
    "forecaster.window_size"
   ]
  },
  {
   "cell_type": "code",
   "execution_count": null,
   "metadata": {},
   "outputs": [],
   "source": []
  }
 ],
 "metadata": {
  "kernelspec": {
   "display_name": "skforecast_py11_2",
   "language": "python",
   "name": "python3"
  },
  "language_info": {
   "codemirror_mode": {
    "name": "ipython",
    "version": 3
   },
   "file_extension": ".py",
   "mimetype": "text/x-python",
   "name": "python",
   "nbconvert_exporter": "python",
   "pygments_lexer": "ipython3",
   "version": "3.11.10"
  },
  "orig_nbformat": 4
 },
 "nbformat": 4,
 "nbformat_minor": 2
}
