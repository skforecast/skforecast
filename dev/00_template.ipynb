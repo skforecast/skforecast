{
 "cells": [
  {
   "cell_type": "code",
   "execution_count": 1,
   "metadata": {},
   "outputs": [
    {
     "name": "stdout",
     "output_type": "stream",
     "text": [
      "c:\\Users\\jaesc2\\GitHub\\skforecast\n"
     ]
    }
   ],
   "source": [
    "%load_ext autoreload\n",
    "%autoreload 2\n",
    "import sys\n",
    "from pathlib import Path\n",
    "path = str(Path.cwd().parent)\n",
    "print(path)\n",
    "sys.path.insert(1, path)\n",
    "\n",
    "import numpy as np\n",
    "import pandas as pd"
   ]
  },
  {
   "cell_type": "code",
   "execution_count": 2,
   "metadata": {},
   "outputs": [],
   "source": [
    "import re\n",
    "import pytest\n",
    "import numpy as np\n",
    "import pandas as pd\n",
    "from sklearn.exceptions import NotFittedError\n",
    "from skforecast.exceptions import MissingValuesWarning\n",
    "from skforecast.recursive import ForecasterEquivalentDate\n"
   ]
  },
  {
   "cell_type": "code",
   "execution_count": 3,
   "metadata": {},
   "outputs": [],
   "source": [
    "y = pd.Series(\n",
    "    np.arange(51), \n",
    "    index=pd.date_range(start='2000-02-25', periods=51, freq='D')\n",
    ")\n"
   ]
  },
  {
   "cell_type": "code",
   "execution_count": null,
   "metadata": {},
   "outputs": [
    {
     "ename": "TypeError",
     "evalue": "Addition/subtraction of integers and integer-arrays with DatetimeArray is no longer supported.  Instead of adding/subtracting `n`, use `n * obj.freq`",
     "output_type": "error",
     "traceback": [
      "\u001b[31m---------------------------------------------------------------------------\u001b[39m",
      "\u001b[31mTypeError\u001b[39m                                 Traceback (most recent call last)",
      "\u001b[36mCell\u001b[39m\u001b[36m \u001b[39m\u001b[32mIn[4]\u001b[39m\u001b[32m, line 1\u001b[39m\n\u001b[32m----> \u001b[39m\u001b[32m1\u001b[39m y_pred = \u001b[43m[\u001b[49m\n\u001b[32m      2\u001b[39m \u001b[43m                \u001b[49m\u001b[43my\u001b[49m\u001b[43m.\u001b[49m\u001b[43mloc\u001b[49m\u001b[43m[\u001b[49m\u001b[43m(\u001b[49m\u001b[43my\u001b[49m\u001b[43m.\u001b[49m\u001b[43mindex\u001b[49m\u001b[43m \u001b[49m\u001b[43m-\u001b[49m\u001b[43m \u001b[49m\u001b[32;43m1\u001b[39;49m\u001b[43m)\u001b[49m\u001b[43m[\u001b[49m\u001b[32;43m1\u001b[39;49m\u001b[43m:\u001b[49m\u001b[43m]\u001b[49m\u001b[43m]\u001b[49m\n\u001b[32m      3\u001b[39m \u001b[43m                \u001b[49m\u001b[38;5;28;43;01mfor\u001b[39;49;00m\u001b[43m \u001b[49m\u001b[43mn_off\u001b[49m\u001b[43m \u001b[49m\u001b[38;5;129;43;01min\u001b[39;49;00m\u001b[43m \u001b[49m\u001b[38;5;28;43mrange\u001b[39;49m\u001b[43m(\u001b[49m\u001b[32;43m1\u001b[39;49m\u001b[43m,\u001b[49m\u001b[43m \u001b[49m\u001b[32;43m1\u001b[39;49m\u001b[43m \u001b[49m\u001b[43m+\u001b[49m\u001b[43m \u001b[49m\u001b[32;43m1\u001b[39;49m\u001b[43m)\u001b[49m\n\u001b[32m      4\u001b[39m \u001b[43m            \u001b[49m\u001b[43m]\u001b[49m\n",
      "\u001b[36mCell\u001b[39m\u001b[36m \u001b[39m\u001b[32mIn[4]\u001b[39m\u001b[32m, line 2\u001b[39m, in \u001b[36m<listcomp>\u001b[39m\u001b[34m(.0)\u001b[39m\n\u001b[32m      1\u001b[39m y_pred = [\n\u001b[32m----> \u001b[39m\u001b[32m2\u001b[39m                 y.loc[(\u001b[43my\u001b[49m\u001b[43m.\u001b[49m\u001b[43mindex\u001b[49m\u001b[43m \u001b[49m\u001b[43m-\u001b[49m\u001b[43m \u001b[49m\u001b[32;43m1\u001b[39;49m)[\u001b[32m1\u001b[39m:]]\n\u001b[32m      3\u001b[39m                 \u001b[38;5;28;01mfor\u001b[39;00m n_off \u001b[38;5;129;01min\u001b[39;00m \u001b[38;5;28mrange\u001b[39m(\u001b[32m1\u001b[39m, \u001b[32m1\u001b[39m + \u001b[32m1\u001b[39m)\n\u001b[32m      4\u001b[39m             ]\n",
      "\u001b[36mFile \u001b[39m\u001b[32mc:\\Users\\jaesc2\\Miniconda3\\envs\\skforecast_py11_2\\Lib\\site-packages\\pandas\\core\\ops\\common.py:76\u001b[39m, in \u001b[36m_unpack_zerodim_and_defer.<locals>.new_method\u001b[39m\u001b[34m(self, other)\u001b[39m\n\u001b[32m     72\u001b[39m             \u001b[38;5;28;01mreturn\u001b[39;00m \u001b[38;5;28mNotImplemented\u001b[39m\n\u001b[32m     74\u001b[39m other = item_from_zerodim(other)\n\u001b[32m---> \u001b[39m\u001b[32m76\u001b[39m \u001b[38;5;28;01mreturn\u001b[39;00m \u001b[43mmethod\u001b[49m\u001b[43m(\u001b[49m\u001b[38;5;28;43mself\u001b[39;49m\u001b[43m,\u001b[49m\u001b[43m \u001b[49m\u001b[43mother\u001b[49m\u001b[43m)\u001b[49m\n",
      "\u001b[36mFile \u001b[39m\u001b[32mc:\\Users\\jaesc2\\Miniconda3\\envs\\skforecast_py11_2\\Lib\\site-packages\\pandas\\core\\arraylike.py:194\u001b[39m, in \u001b[36mOpsMixin.__sub__\u001b[39m\u001b[34m(self, other)\u001b[39m\n\u001b[32m    192\u001b[39m \u001b[38;5;129m@unpack_zerodim_and_defer\u001b[39m(\u001b[33m\"\u001b[39m\u001b[33m__sub__\u001b[39m\u001b[33m\"\u001b[39m)\n\u001b[32m    193\u001b[39m \u001b[38;5;28;01mdef\u001b[39;00m\u001b[38;5;250m \u001b[39m\u001b[34m__sub__\u001b[39m(\u001b[38;5;28mself\u001b[39m, other):\n\u001b[32m--> \u001b[39m\u001b[32m194\u001b[39m     \u001b[38;5;28;01mreturn\u001b[39;00m \u001b[38;5;28;43mself\u001b[39;49m\u001b[43m.\u001b[49m\u001b[43m_arith_method\u001b[49m\u001b[43m(\u001b[49m\u001b[43mother\u001b[49m\u001b[43m,\u001b[49m\u001b[43m \u001b[49m\u001b[43moperator\u001b[49m\u001b[43m.\u001b[49m\u001b[43msub\u001b[49m\u001b[43m)\u001b[49m\n",
      "\u001b[36mFile \u001b[39m\u001b[32mc:\\Users\\jaesc2\\Miniconda3\\envs\\skforecast_py11_2\\Lib\\site-packages\\pandas\\core\\indexes\\base.py:7238\u001b[39m, in \u001b[36mIndex._arith_method\u001b[39m\u001b[34m(self, other, op)\u001b[39m\n\u001b[32m   7228\u001b[39m \u001b[38;5;28;01mif\u001b[39;00m (\n\u001b[32m   7229\u001b[39m     \u001b[38;5;28misinstance\u001b[39m(other, Index)\n\u001b[32m   7230\u001b[39m     \u001b[38;5;129;01mand\u001b[39;00m is_object_dtype(other.dtype)\n\u001b[32m   (...)\u001b[39m\u001b[32m   7234\u001b[39m     \u001b[38;5;66;03m# a chance to implement ops before we unwrap them.\u001b[39;00m\n\u001b[32m   7235\u001b[39m     \u001b[38;5;66;03m# See https://github.com/pandas-dev/pandas/issues/31109\u001b[39;00m\n\u001b[32m   7236\u001b[39m     \u001b[38;5;28;01mreturn\u001b[39;00m \u001b[38;5;28mNotImplemented\u001b[39m\n\u001b[32m-> \u001b[39m\u001b[32m7238\u001b[39m \u001b[38;5;28;01mreturn\u001b[39;00m \u001b[38;5;28;43msuper\u001b[39;49m\u001b[43m(\u001b[49m\u001b[43m)\u001b[49m\u001b[43m.\u001b[49m\u001b[43m_arith_method\u001b[49m\u001b[43m(\u001b[49m\u001b[43mother\u001b[49m\u001b[43m,\u001b[49m\u001b[43m \u001b[49m\u001b[43mop\u001b[49m\u001b[43m)\u001b[49m\n",
      "\u001b[36mFile \u001b[39m\u001b[32mc:\\Users\\jaesc2\\Miniconda3\\envs\\skforecast_py11_2\\Lib\\site-packages\\pandas\\core\\base.py:1382\u001b[39m, in \u001b[36mIndexOpsMixin._arith_method\u001b[39m\u001b[34m(self, other, op)\u001b[39m\n\u001b[32m   1379\u001b[39m     rvalues = np.arange(rvalues.start, rvalues.stop, rvalues.step)\n\u001b[32m   1381\u001b[39m \u001b[38;5;28;01mwith\u001b[39;00m np.errstate(\u001b[38;5;28mall\u001b[39m=\u001b[33m\"\u001b[39m\u001b[33mignore\u001b[39m\u001b[33m\"\u001b[39m):\n\u001b[32m-> \u001b[39m\u001b[32m1382\u001b[39m     result = \u001b[43mops\u001b[49m\u001b[43m.\u001b[49m\u001b[43marithmetic_op\u001b[49m\u001b[43m(\u001b[49m\u001b[43mlvalues\u001b[49m\u001b[43m,\u001b[49m\u001b[43m \u001b[49m\u001b[43mrvalues\u001b[49m\u001b[43m,\u001b[49m\u001b[43m \u001b[49m\u001b[43mop\u001b[49m\u001b[43m)\u001b[49m\n\u001b[32m   1384\u001b[39m \u001b[38;5;28;01mreturn\u001b[39;00m \u001b[38;5;28mself\u001b[39m._construct_result(result, name=res_name)\n",
      "\u001b[36mFile \u001b[39m\u001b[32mc:\\Users\\jaesc2\\Miniconda3\\envs\\skforecast_py11_2\\Lib\\site-packages\\pandas\\core\\ops\\array_ops.py:273\u001b[39m, in \u001b[36marithmetic_op\u001b[39m\u001b[34m(left, right, op)\u001b[39m\n\u001b[32m    260\u001b[39m \u001b[38;5;66;03m# NB: We assume that extract_array and ensure_wrapped_if_datetimelike\u001b[39;00m\n\u001b[32m    261\u001b[39m \u001b[38;5;66;03m#  have already been called on `left` and `right`,\u001b[39;00m\n\u001b[32m    262\u001b[39m \u001b[38;5;66;03m#  and `maybe_prepare_scalar_for_op` has already been called on `right`\u001b[39;00m\n\u001b[32m    263\u001b[39m \u001b[38;5;66;03m# We need to special-case datetime64/timedelta64 dtypes (e.g. because numpy\u001b[39;00m\n\u001b[32m    264\u001b[39m \u001b[38;5;66;03m# casts integer dtypes to timedelta64 when operating with timedelta64 - GH#22390)\u001b[39;00m\n\u001b[32m    266\u001b[39m \u001b[38;5;28;01mif\u001b[39;00m (\n\u001b[32m    267\u001b[39m     should_extension_dispatch(left, right)\n\u001b[32m    268\u001b[39m     \u001b[38;5;129;01mor\u001b[39;00m \u001b[38;5;28misinstance\u001b[39m(right, (Timedelta, BaseOffset, Timestamp))\n\u001b[32m   (...)\u001b[39m\u001b[32m    271\u001b[39m     \u001b[38;5;66;03m# Timedelta/Timestamp and other custom scalars are included in the check\u001b[39;00m\n\u001b[32m    272\u001b[39m     \u001b[38;5;66;03m# because numexpr will fail on it, see GH#31457\u001b[39;00m\n\u001b[32m--> \u001b[39m\u001b[32m273\u001b[39m     res_values = \u001b[43mop\u001b[49m\u001b[43m(\u001b[49m\u001b[43mleft\u001b[49m\u001b[43m,\u001b[49m\u001b[43m \u001b[49m\u001b[43mright\u001b[49m\u001b[43m)\u001b[49m\n\u001b[32m    274\u001b[39m \u001b[38;5;28;01melse\u001b[39;00m:\n\u001b[32m    275\u001b[39m     \u001b[38;5;66;03m# TODO we should handle EAs consistently and move this check before the if/else\u001b[39;00m\n\u001b[32m    276\u001b[39m     \u001b[38;5;66;03m# (https://github.com/pandas-dev/pandas/issues/41165)\u001b[39;00m\n\u001b[32m    277\u001b[39m     \u001b[38;5;66;03m# error: Argument 2 to \"_bool_arith_check\" has incompatible type\u001b[39;00m\n\u001b[32m    278\u001b[39m     \u001b[38;5;66;03m# \"Union[ExtensionArray, ndarray[Any, Any]]\"; expected \"ndarray[Any, Any]\"\u001b[39;00m\n\u001b[32m    279\u001b[39m     _bool_arith_check(op, left, right)  \u001b[38;5;66;03m# type: ignore[arg-type]\u001b[39;00m\n",
      "\u001b[36mFile \u001b[39m\u001b[32mc:\\Users\\jaesc2\\Miniconda3\\envs\\skforecast_py11_2\\Lib\\site-packages\\pandas\\core\\ops\\common.py:76\u001b[39m, in \u001b[36m_unpack_zerodim_and_defer.<locals>.new_method\u001b[39m\u001b[34m(self, other)\u001b[39m\n\u001b[32m     72\u001b[39m             \u001b[38;5;28;01mreturn\u001b[39;00m \u001b[38;5;28mNotImplemented\u001b[39m\n\u001b[32m     74\u001b[39m other = item_from_zerodim(other)\n\u001b[32m---> \u001b[39m\u001b[32m76\u001b[39m \u001b[38;5;28;01mreturn\u001b[39;00m \u001b[43mmethod\u001b[49m\u001b[43m(\u001b[49m\u001b[38;5;28;43mself\u001b[39;49m\u001b[43m,\u001b[49m\u001b[43m \u001b[49m\u001b[43mother\u001b[49m\u001b[43m)\u001b[49m\n",
      "\u001b[36mFile \u001b[39m\u001b[32mc:\\Users\\jaesc2\\Miniconda3\\envs\\skforecast_py11_2\\Lib\\site-packages\\pandas\\core\\arrays\\datetimelike.py:1441\u001b[39m, in \u001b[36mDatetimeLikeArrayMixin.__sub__\u001b[39m\u001b[34m(self, other)\u001b[39m\n\u001b[32m   1437\u001b[39m \u001b[38;5;28;01melif\u001b[39;00m lib.is_integer(other):\n\u001b[32m   1438\u001b[39m     \u001b[38;5;66;03m# This check must come after the check for np.timedelta64\u001b[39;00m\n\u001b[32m   1439\u001b[39m     \u001b[38;5;66;03m# as is_integer returns True for these\u001b[39;00m\n\u001b[32m   1440\u001b[39m     \u001b[38;5;28;01mif\u001b[39;00m \u001b[38;5;129;01mnot\u001b[39;00m \u001b[38;5;28misinstance\u001b[39m(\u001b[38;5;28mself\u001b[39m.dtype, PeriodDtype):\n\u001b[32m-> \u001b[39m\u001b[32m1441\u001b[39m         \u001b[38;5;28;01mraise\u001b[39;00m integer_op_not_supported(\u001b[38;5;28mself\u001b[39m)\n\u001b[32m   1442\u001b[39m     obj = cast(\u001b[33m\"\u001b[39m\u001b[33mPeriodArray\u001b[39m\u001b[33m\"\u001b[39m, \u001b[38;5;28mself\u001b[39m)\n\u001b[32m   1443\u001b[39m     result = obj._addsub_int_array_or_scalar(other * obj.dtype._n, operator.sub)\n",
      "\u001b[31mTypeError\u001b[39m: Addition/subtraction of integers and integer-arrays with DatetimeArray is no longer supported.  Instead of adding/subtracting `n`, use `n * obj.freq`"
     ]
    }
   ],
   "source": [
    "y_pred = [\n",
    "                y.loc[(y.index - 1)[1:]]\n",
    "                for n_off in range(1, 1 + 1)\n",
    "            ]\n",
    "y_pred"
   ]
  },
  {
   "cell_type": "code",
   "execution_count": 5,
   "metadata": {},
   "outputs": [
    {
     "data": {
      "text/plain": [
       "1"
      ]
     },
     "execution_count": 5,
     "metadata": {},
     "output_type": "execute_result"
    }
   ],
   "source": [
    "y = pd.Series(\n",
    "    np.arange(51), \n",
    "    index=pd.date_range(start='2000-02-25', periods=51, freq='D')\n",
    ")\n",
    "\n",
    "forecaster = ForecasterEquivalentDate(\n",
    "                    offset    = 1,\n",
    "                    n_offsets = 1,\n",
    "                    agg_func  = np.mean\n",
    "                )\n",
    "forecaster.fit(y=y)\n",
    "forecaster.window_size"
   ]
  },
  {
   "cell_type": "code",
   "execution_count": 11,
   "metadata": {},
   "outputs": [
    {
     "data": {
      "text/plain": [
       "(1, 50)"
      ]
     },
     "execution_count": 11,
     "metadata": {},
     "output_type": "execute_result"
    }
   ],
   "source": [
    "_ = [np.array([1., 1., 1., 1., 1., 1., 1., 1., 1., 1., 1., 1., 1., 1., 1., 1., 1.,\n",
    "       1., 1., 1., 1., 1., 1., 1., 1., 1., 1., 1., 1., 1., 1., 1., 1., 1.,\n",
    "       1., 1., 1., 1., 1., 1., 1., 1., 1., 1., 1., 1., 1., 1., 1., 1.])]\n",
    "np.vstack(_).shape"
   ]
  },
  {
   "cell_type": "code",
   "execution_count": 8,
   "metadata": {},
   "outputs": [
    {
     "data": {
      "text/plain": [
       "array([1., 1., 1., 1., 1., 1., 1., 1., 1., 1., 1., 1., 1., 1., 1., 1., 1.,\n",
       "       1., 1., 1., 1., 1., 1., 1., 1., 1., 1., 1., 1., 1., 1., 1., 1., 1.,\n",
       "       1., 1., 1., 1., 1., 1., 1., 1., 1., 1., 1., 1., 1., 1., 1., 1.])"
      ]
     },
     "execution_count": 8,
     "metadata": {},
     "output_type": "execute_result"
    }
   ],
   "source": [
    "forecaster._binning_in_sample_residuals(y, store_in_sample_residuals=True)\n",
    "forecaster.in_sample_residuals_"
   ]
  },
  {
   "cell_type": "code",
   "execution_count": 24,
   "metadata": {},
   "outputs": [
    {
     "data": {
      "text/plain": [
       "2000-04-10    45\n",
       "2000-04-11    46\n",
       "2000-04-12    47\n",
       "2000-04-13    48\n",
       "2000-04-14    49\n",
       "2000-04-15    50\n",
       "Freq: D, dtype: int64"
      ]
     },
     "execution_count": 24,
     "metadata": {},
     "output_type": "execute_result"
    }
   ],
   "source": [
    "forecaster.last_window_[-6:]"
   ]
  },
  {
   "cell_type": "code",
   "execution_count": 25,
   "metadata": {},
   "outputs": [
    {
     "name": "stdout",
     "output_type": "stream",
     "text": [
      "[-3 -2 -1 -3 -2 -1 -3 -2 -1 -3 -2 -1]\n",
      "[-3 -2 -1 -3 -2 -1 -3 -2 -1 -3]\n"
     ]
    }
   ],
   "source": [
    "equivalent_indexes = np.tile(\n",
    "                            np.arange(-forecaster.offset, 0),\n",
    "                            int(np.ceil(10 / forecaster.offset))\n",
    "                        )\n",
    "print(equivalent_indexes)\n",
    "equivalent_indexes = equivalent_indexes[:10]\n",
    "print(equivalent_indexes)"
   ]
  },
  {
   "cell_type": "code",
   "execution_count": 26,
   "metadata": {},
   "outputs": [
    {
     "name": "stdout",
     "output_type": "stream",
     "text": [
      "[array([-3, -2, -1, -3, -2, -1, -3, -2, -1, -3]), array([-6, -5, -4, -6, -5, -4, -6, -5, -4, -6])]\n",
      "[[-3 -2 -1 -3 -2 -1 -3 -2 -1 -3]\n",
      " [-6 -5 -4 -6 -5 -4 -6 -5 -4 -6]]\n",
      "[[48 49 50 48 49 50 48 49 50 48]\n",
      " [45 46 47 45 46 47 45 46 47 45]]\n"
     ]
    }
   ],
   "source": [
    "equivalent_indexes = [\n",
    "    equivalent_indexes - n * forecaster.offset \n",
    "    for n in np.arange(forecaster.n_offsets)\n",
    "]\n",
    "print(equivalent_indexes)\n",
    "equivalent_indexes = np.vstack(equivalent_indexes)\n",
    "print(equivalent_indexes)\n",
    "equivalent_values = forecaster.last_window_.to_numpy()[equivalent_indexes]\n",
    "print(equivalent_values)"
   ]
  },
  {
   "cell_type": "code",
   "execution_count": 12,
   "metadata": {},
   "outputs": [
    {
     "data": {
      "text/plain": [
       "2000-04-16    48\n",
       "2000-04-17    49\n",
       "2000-04-18    50\n",
       "2000-04-19    48\n",
       "2000-04-20    49\n",
       "2000-04-21    50\n",
       "2000-04-22    48\n",
       "2000-04-23    49\n",
       "2000-04-24    50\n",
       "2000-04-25    48\n",
       "Freq: D, Name: pred, dtype: int64"
      ]
     },
     "execution_count": 12,
     "metadata": {},
     "output_type": "execute_result"
    }
   ],
   "source": [
    "forecaster.predict(steps=10, last_window=None)"
   ]
  },
  {
   "cell_type": "code",
   "execution_count": 28,
   "metadata": {},
   "outputs": [
    {
     "data": {
      "text/plain": [
       "2000-02-25    0\n",
       "2000-02-26    1\n",
       "2000-02-27    2\n",
       "Freq: D, dtype: int64"
      ]
     },
     "execution_count": 28,
     "metadata": {},
     "output_type": "execute_result"
    }
   ],
   "source": [
    "y.head(3)"
   ]
  },
  {
   "cell_type": "code",
   "execution_count": 121,
   "metadata": {},
   "outputs": [],
   "source": [
    "np.random.seed(123)\n",
    "y_rnd = pd.Series(\n",
    "    np.random.randint(0, 100, 51), \n",
    "    index=pd.date_range(start='2000-02-25', periods=51, freq='D')\n",
    ")"
   ]
  },
  {
   "cell_type": "code",
   "execution_count": 122,
   "metadata": {},
   "outputs": [
    {
     "data": {
      "text/plain": [
       "6"
      ]
     },
     "execution_count": 122,
     "metadata": {},
     "output_type": "execute_result"
    }
   ],
   "source": [
    "forecaster = ForecasterEquivalentDate(\n",
    "                    offset    = 3,\n",
    "                    n_offsets = 2,\n",
    "                    agg_func  = np.mean\n",
    "                )\n",
    "forecaster.fit(y=y_rnd, store_in_sample_residuals=True)\n",
    "forecaster.window_size"
   ]
  },
  {
   "cell_type": "code",
   "execution_count": 123,
   "metadata": {},
   "outputs": [
    {
     "data": {
      "text/plain": [
       "array([ 44.5,   9.5,  18.5,  -4.5, -17. , -44.5, -20.5,  11. , -39. ,\n",
       "        36.5,  -6.5,   7.5,  31.5,  -7. ,  37.5, -40.5, -24. ,  15. ,\n",
       "       -70.5,  16.5, -28.5,  40.5,  14.5,  -6. ,  27. , -36. , -36. ,\n",
       "        35.5,  26. ,  25. ,  17. ,  15. ,  64.5, -71. , -54.5,  24. ,\n",
       "        14. , -19.5, -92.5,  17.5,  27. ,  25. , -38.5,   6. , -29. ])"
      ]
     },
     "execution_count": 123,
     "metadata": {},
     "output_type": "execute_result"
    }
   ],
   "source": [
    "forecaster.in_sample_residuals_"
   ]
  },
  {
   "cell_type": "code",
   "execution_count": 124,
   "metadata": {},
   "outputs": [
    {
     "data": {
      "text/plain": [
       "{0: array([ 7.5, 37.5, 40.5, 25. , 64.5]),\n",
       " 1: array([ 44.5,  27. ,  27. , -29. ]),\n",
       " 2: array([ -4.5,  36.5, -36. ,  17.5,  25. ]),\n",
       " 3: array([ 15. ,  -6. , -19.5,   6. ]),\n",
       " 4: array([-39. ,  31.5,  35.5,  14. ]),\n",
       " 5: array([-20.5,  16.5, -28.5,  14.5,  26. ]),\n",
       " 6: array([-70.5,  15. ,  24. , -38.5]),\n",
       " 7: array([ 18.5, -44.5, -24. , -36. ,  17. ]),\n",
       " 8: array([ 9.5, 11. , -6.5, -7. ]),\n",
       " 9: array([-17. , -40.5, -71. , -54.5, -92.5])}"
      ]
     },
     "execution_count": 124,
     "metadata": {},
     "output_type": "execute_result"
    }
   ],
   "source": [
    "forecaster.in_sample_residuals_by_bin_"
   ]
  },
  {
   "cell_type": "code",
   "execution_count": 105,
   "metadata": {},
   "outputs": [
    {
     "data": {
      "text/plain": [
       "{0: (1.5, 5.9),\n",
       " 1: (5.9, 10.3),\n",
       " 2: (10.3, 14.7),\n",
       " 3: (14.7, 19.1),\n",
       " 4: (19.1, 23.5),\n",
       " 5: (23.5, 27.9),\n",
       " 6: (27.9, 32.3),\n",
       " 7: (32.3, 36.7),\n",
       " 8: (36.7, 41.1),\n",
       " 9: (41.1, 45.5)}"
      ]
     },
     "execution_count": 105,
     "metadata": {},
     "output_type": "execute_result"
    }
   ],
   "source": [
    "forecaster.binner_intervals_"
   ]
  },
  {
   "cell_type": "code",
   "execution_count": null,
   "metadata": {},
   "outputs": [],
   "source": []
  },
  {
   "cell_type": "code",
   "execution_count": 88,
   "metadata": {},
   "outputs": [
    {
     "data": {
      "text/plain": [
       "3"
      ]
     },
     "execution_count": 88,
     "metadata": {},
     "output_type": "execute_result"
    }
   ],
   "source": [
    "forecaster.offset"
   ]
  },
  {
   "cell_type": "code",
   "execution_count": 126,
   "metadata": {},
   "outputs": [
    {
     "name": "stdout",
     "output_type": "stream",
     "text": [
      "<2 * MonthEnds>\n"
     ]
    },
    {
     "data": {
      "text/plain": [
       "46"
      ]
     },
     "execution_count": 126,
     "metadata": {},
     "output_type": "execute_result"
    }
   ],
   "source": [
    "y = pd.Series(\n",
    "    np.arange(51), \n",
    "    index=pd.date_range(start='2000-02-25', periods=51, freq='D')\n",
    ")\n",
    "\n",
    "forecaster = ForecasterEquivalentDate(\n",
    "                    offset    = pd.offsets.MonthEnd(1),\n",
    "                    n_offsets = 2,\n",
    "                    agg_func  = np.mean\n",
    "                )\n",
    "print(forecaster.window_size)\n",
    "forecaster.fit(y=y_rnd, store_in_sample_residuals=True)\n",
    "forecaster.window_size"
   ]
  },
  {
   "cell_type": "code",
   "execution_count": 127,
   "metadata": {},
   "outputs": [
    {
     "data": {
      "text/plain": [
       "array([ -3.5,   7.5, -33.5,  -9.5, -57.5])"
      ]
     },
     "execution_count": 127,
     "metadata": {},
     "output_type": "execute_result"
    }
   ],
   "source": [
    "forecaster.in_sample_residuals_"
   ]
  },
  {
   "cell_type": "code",
   "execution_count": 129,
   "metadata": {},
   "outputs": [
    {
     "data": {
      "text/plain": [
       "{0: (67.5, 67.5),\n",
       " 1: (67.5, 67.5),\n",
       " 2: (67.5, 67.5),\n",
       " 3: (67.5, 67.5),\n",
       " 4: (67.5, 67.5),\n",
       " 5: (67.5, 67.5),\n",
       " 6: (67.5, 67.5),\n",
       " 7: (67.5, 67.5),\n",
       " 8: (67.5, 67.5),\n",
       " 9: (67.5, 67.5)}"
      ]
     },
     "execution_count": 129,
     "metadata": {},
     "output_type": "execute_result"
    }
   ],
   "source": [
    "forecaster.binner_intervals_"
   ]
  },
  {
   "cell_type": "code",
   "execution_count": 128,
   "metadata": {},
   "outputs": [
    {
     "data": {
      "text/plain": [
       "{9: array([ -3.5,   7.5, -33.5,  -9.5, -57.5])}"
      ]
     },
     "execution_count": 128,
     "metadata": {},
     "output_type": "execute_result"
    }
   ],
   "source": [
    "forecaster.in_sample_residuals_by_bin_"
   ]
  },
  {
   "cell_type": "code",
   "execution_count": 26,
   "metadata": {},
   "outputs": [],
   "source": [
    "from pandas.tseries.offsets import DateOffset\n",
    "\n",
    "y = pd.Series(\n",
    "        data = np.array([0.69646919, 0.28613933, 0.22685145, 0.55131477, 0.71946897,\n",
    "                         0.42310646, 0.9807642 , 0.68482974, 0.4809319 , 0.39211752,\n",
    "                         0.34317802, 0.72904971, 0.43857224, 0.0596779 , 0.39804426,\n",
    "                         0.73799541, 0.18249173, 0.17545176, 0.53155137, 0.53182759,\n",
    "                         0.63440096, 0.84943179, 0.72445532, 0.61102351, 0.72244338,\n",
    "                         0.32295891, 0.36178866, 0.22826323, 0.29371405, 0.63097612,\n",
    "                         0.09210494, 0.43370117, 0.43086276, 0.4936851 , 0.42583029,\n",
    "                         0.31226122, 0.42635131, 0.89338916, 0.94416002, 0.50183668,\n",
    "                         0.62395295, 0.1156184 , 0.31728548, 0.41482621, 0.86630916,\n",
    "                         0.25045537, 0.48303426, 0.98555979, 0.51948512, 0.61289453]\n",
    "            ),\n",
    "        index=pd.date_range(start='2000-01-01', periods=50, freq='D'),\n",
    "        name = 'y'\n",
    "    )"
   ]
  },
  {
   "cell_type": "code",
   "execution_count": 24,
   "metadata": {},
   "outputs": [
    {
     "data": {
      "text/plain": [
       "{9: array([26.5, 27.5, 28.5, 29.5, 30.5])}"
      ]
     },
     "execution_count": 24,
     "metadata": {},
     "output_type": "execute_result"
    }
   ],
   "source": [
    "y = pd.Series(\n",
    "    np.arange(51), \n",
    "    index=pd.date_range(start='2000-02-25', periods=51, freq='D')\n",
    ")\n",
    "\n",
    "forecaster = ForecasterEquivalentDate(\n",
    "                    offset    = pd.offsets.MonthEnd(1),\n",
    "                    n_offsets = 2,\n",
    "                    agg_func  = np.mean\n",
    "                )\n",
    "forecaster.fit(y=y, store_in_sample_residuals=True)\n",
    "forecaster.in_sample_residuals_by_bin_"
   ]
  },
  {
   "cell_type": "code",
   "execution_count": null,
   "metadata": {},
   "outputs": [],
   "source": [
    "\n",
    "last_window = pd.Series(\n",
    "    np.arange(50), \n",
    "    index=pd.date_range(start='2000-02-10', periods=50, freq='D')\n",
    ")\n",
    "\n",
    "warn_msg = re.escape(\n",
    "    \"Steps: ['2000-03-31', '2000-04-01', '2000-04-02'] \"\n",
    "    \"are calculated with less than 2 `n_offsets`. \"\n",
    "    \"To avoid this, increase the `last_window` size or decrease \"\n",
    "    \"the number of `n_offsets`. The current configuration requires \" \n",
    "    \"a total offset of <2 * MonthEnds>.\"\n",
    ")\n",
    "with pytest.warns(MissingValuesWarning, match = warn_msg):\n",
    "    predictions = forecaster.predict_interval(steps=3, last_window=last_window)\n",
    "\n",
    "predictions"
   ]
  },
  {
   "cell_type": "code",
   "execution_count": 20,
   "metadata": {},
   "outputs": [
    {
     "data": {
      "text/plain": [
       "array([[ 0.49422539,  0.05874109,  0.92970969],\n",
       "       [ 0.332763  , -0.18714832,  0.85267431],\n",
       "       [ 0.58050578,  0.23107803,  0.92993352],\n",
       "       [ 0.52551824,  0.09003394,  0.96100255],\n",
       "       [ 0.57236106,  0.22293331,  0.92178881],\n",
       "       [ 0.49422539,  0.05874109,  0.92970969],\n",
       "       [ 0.332763  , -0.18714832,  0.85267431]])"
      ]
     },
     "execution_count": 20,
     "metadata": {},
     "output_type": "execute_result"
    }
   ],
   "source": [
    "predictions.to_numpy()"
   ]
  },
  {
   "cell_type": "code",
   "execution_count": 6,
   "metadata": {},
   "outputs": [
    {
     "data": {
      "text/plain": [
       "{0: (0.192909495, 0.41830825),\n",
       " 1: (0.41830825, 0.5539681),\n",
       " 2: (0.5539681, 0.850116585)}"
      ]
     },
     "execution_count": 6,
     "metadata": {},
     "output_type": "execute_result"
    }
   ],
   "source": [
    "forecaster.binner_intervals_"
   ]
  },
  {
   "cell_type": "code",
   "execution_count": 5,
   "metadata": {},
   "outputs": [
    {
     "data": {
      "text/html": [
       "<div>\n",
       "<style scoped>\n",
       "    .dataframe tbody tr th:only-of-type {\n",
       "        vertical-align: middle;\n",
       "    }\n",
       "\n",
       "    .dataframe tbody tr th {\n",
       "        vertical-align: top;\n",
       "    }\n",
       "\n",
       "    .dataframe thead th {\n",
       "        text-align: right;\n",
       "    }\n",
       "</style>\n",
       "<table border=\"1\" class=\"dataframe\">\n",
       "  <thead>\n",
       "    <tr style=\"text-align: right;\">\n",
       "      <th></th>\n",
       "      <th>pred</th>\n",
       "      <th>lower_bound</th>\n",
       "      <th>upper_bound</th>\n",
       "    </tr>\n",
       "  </thead>\n",
       "  <tbody>\n",
       "    <tr>\n",
       "      <th>2000-02-20</th>\n",
       "      <td>0.501260</td>\n",
       "      <td>0.038421</td>\n",
       "      <td>0.964098</td>\n",
       "    </tr>\n",
       "    <tr>\n",
       "      <th>2000-02-21</th>\n",
       "      <td>0.799227</td>\n",
       "      <td>0.315389</td>\n",
       "      <td>1.283066</td>\n",
       "    </tr>\n",
       "    <tr>\n",
       "      <th>2000-02-22</th>\n",
       "      <td>0.501260</td>\n",
       "      <td>0.038421</td>\n",
       "      <td>0.964098</td>\n",
       "    </tr>\n",
       "    <tr>\n",
       "      <th>2000-02-23</th>\n",
       "      <td>0.799227</td>\n",
       "      <td>0.315389</td>\n",
       "      <td>1.283066</td>\n",
       "    </tr>\n",
       "    <tr>\n",
       "      <th>2000-02-24</th>\n",
       "      <td>0.501260</td>\n",
       "      <td>0.038421</td>\n",
       "      <td>0.964098</td>\n",
       "    </tr>\n",
       "  </tbody>\n",
       "</table>\n",
       "</div>"
      ],
      "text/plain": [
       "                pred  lower_bound  upper_bound\n",
       "2000-02-20  0.501260     0.038421     0.964098\n",
       "2000-02-21  0.799227     0.315389     1.283066\n",
       "2000-02-22  0.501260     0.038421     0.964098\n",
       "2000-02-23  0.799227     0.315389     1.283066\n",
       "2000-02-24  0.501260     0.038421     0.964098"
      ]
     },
     "execution_count": 5,
     "metadata": {},
     "output_type": "execute_result"
    }
   ],
   "source": [
    "forecaster.predict_interval(steps=5)"
   ]
  },
  {
   "cell_type": "code",
   "execution_count": 27,
   "metadata": {},
   "outputs": [
    {
     "data": {
      "text/html": [
       "<div>\n",
       "<style scoped>\n",
       "    .dataframe tbody tr th:only-of-type {\n",
       "        vertical-align: middle;\n",
       "    }\n",
       "\n",
       "    .dataframe tbody tr th {\n",
       "        vertical-align: top;\n",
       "    }\n",
       "\n",
       "    .dataframe thead th {\n",
       "        text-align: right;\n",
       "    }\n",
       "</style>\n",
       "<table border=\"1\" class=\"dataframe\">\n",
       "  <thead>\n",
       "    <tr style=\"text-align: right;\">\n",
       "      <th></th>\n",
       "      <th>pred</th>\n",
       "      <th>lower_bound</th>\n",
       "      <th>upper_bound</th>\n",
       "    </tr>\n",
       "  </thead>\n",
       "  <tbody>\n",
       "    <tr>\n",
       "      <th>2001-07-01</th>\n",
       "      <td>0.501260</td>\n",
       "      <td>0.002911</td>\n",
       "      <td>0.999609</td>\n",
       "    </tr>\n",
       "    <tr>\n",
       "      <th>2001-08-01</th>\n",
       "      <td>0.799227</td>\n",
       "      <td>0.300878</td>\n",
       "      <td>1.297576</td>\n",
       "    </tr>\n",
       "    <tr>\n",
       "      <th>2001-09-01</th>\n",
       "      <td>0.501260</td>\n",
       "      <td>0.002911</td>\n",
       "      <td>0.999609</td>\n",
       "    </tr>\n",
       "    <tr>\n",
       "      <th>2001-10-01</th>\n",
       "      <td>0.799227</td>\n",
       "      <td>0.300878</td>\n",
       "      <td>1.297576</td>\n",
       "    </tr>\n",
       "    <tr>\n",
       "      <th>2001-11-01</th>\n",
       "      <td>0.501260</td>\n",
       "      <td>0.002911</td>\n",
       "      <td>0.999609</td>\n",
       "    </tr>\n",
       "    <tr>\n",
       "      <th>2001-12-01</th>\n",
       "      <td>0.799227</td>\n",
       "      <td>0.300878</td>\n",
       "      <td>1.297576</td>\n",
       "    </tr>\n",
       "    <tr>\n",
       "      <th>2002-01-01</th>\n",
       "      <td>0.501260</td>\n",
       "      <td>0.002911</td>\n",
       "      <td>0.999609</td>\n",
       "    </tr>\n",
       "  </tbody>\n",
       "</table>\n",
       "</div>"
      ],
      "text/plain": [
       "                pred  lower_bound  upper_bound\n",
       "2001-07-01  0.501260     0.002911     0.999609\n",
       "2001-08-01  0.799227     0.300878     1.297576\n",
       "2001-09-01  0.501260     0.002911     0.999609\n",
       "2001-10-01  0.799227     0.300878     1.297576\n",
       "2001-11-01  0.501260     0.002911     0.999609\n",
       "2001-12-01  0.799227     0.300878     1.297576\n",
       "2002-01-01  0.501260     0.002911     0.999609"
      ]
     },
     "execution_count": 27,
     "metadata": {},
     "output_type": "execute_result"
    }
   ],
   "source": [
    "y_monthly = y.copy()\n",
    "y_monthly.index = pd.date_range(start='1990-01-01', periods=50, freq='MS')\n",
    "last_window = pd.Series(\n",
    "    data = np.array([0.73799541, 0.18249173, 0.17545176, 0.53155137, 0.53182759,\n",
    "                        0.25045537, 0.48303426, 0.98555979, 0.51948512, 0.61289453]),\n",
    "    index = pd.date_range(start='2000-08-05', periods=10, freq='MS'),\n",
    "    name = 'y'\n",
    ")\n",
    "\n",
    "forecaster = ForecasterEquivalentDate(\n",
    "                    offset    = pd.DateOffset(months=2),\n",
    "                    n_offsets = 2,\n",
    "                    agg_func  = np.mean\n",
    "                )\n",
    "forecaster.fit(y=y_monthly, store_in_sample_residuals=True)\n",
    "forecaster.out_sample_residuals_ = forecaster.in_sample_residuals_\n",
    "forecaster.out_sample_residuals_by_bin_ = forecaster.in_sample_residuals_by_bin_\n",
    "predictions = forecaster.predict_interval(\n",
    "    steps=7, last_window=last_window, use_in_sample_residuals=False, use_binned_residuals=False\n",
    ")\n",
    "predictions"
   ]
  },
  {
   "cell_type": "code",
   "execution_count": 30,
   "metadata": {},
   "outputs": [
    {
     "data": {
      "text/plain": [
       "array([[ 0.42058876,  0.02043732,  0.8207402 ],\n",
       "       [ 0.87984916,  0.47969772,  1.2800006 ],\n",
       "       [ 0.5973077 ,  0.19715626,  0.99745913],\n",
       "       [ 0.49243547,  0.09228403,  0.89258691],\n",
       "       [ 0.80475637,  0.40460493,  1.20490781],\n",
       "       [ 0.31755176, -0.08259968,  0.7177032 ],\n",
       "       [ 0.46509001,  0.06493857,  0.86524144]])"
      ]
     },
     "execution_count": 30,
     "metadata": {},
     "output_type": "execute_result"
    }
   ],
   "source": [
    "predictions.to_numpy()"
   ]
  },
  {
   "cell_type": "code",
   "execution_count": 14,
   "metadata": {},
   "outputs": [
    {
     "ename": "ValueError",
     "evalue": "The length of `y` (7), must be greater than or equal to the window size (14). This is because  the offset (7) is larger than the available data. Try to decrease the size of the offset (7), the number of `n_offsets` (2) or increase the size of `y`.",
     "output_type": "error",
     "traceback": [
      "\u001b[31m---------------------------------------------------------------------------\u001b[39m",
      "\u001b[31mValueError\u001b[39m                                Traceback (most recent call last)",
      "\u001b[36mCell\u001b[39m\u001b[36m \u001b[39m\u001b[32mIn[14]\u001b[39m\u001b[32m, line 6\u001b[39m\n\u001b[32m      1\u001b[39m forecaster = ForecasterEquivalentDate(\n\u001b[32m      2\u001b[39m                      offset    = \u001b[32m7\u001b[39m,\n\u001b[32m      3\u001b[39m                      n_offsets = \u001b[32m2\u001b[39m,\n\u001b[32m      4\u001b[39m                      agg_func  = np.mean\n\u001b[32m      5\u001b[39m                  )\n\u001b[32m----> \u001b[39m\u001b[32m6\u001b[39m \u001b[43mforecaster\u001b[49m\u001b[43m.\u001b[49m\u001b[43mfit\u001b[49m\u001b[43m(\u001b[49m\u001b[43my\u001b[49m\u001b[43m=\u001b[49m\u001b[43my\u001b[49m\u001b[43m,\u001b[49m\u001b[43m \u001b[49m\u001b[43mstore_in_sample_residuals\u001b[49m\u001b[43m=\u001b[49m\u001b[38;5;28;43;01mTrue\u001b[39;49;00m\u001b[43m)\u001b[49m\n\u001b[32m      7\u001b[39m predictions = forecaster.predict_interval(steps=\u001b[32m7\u001b[39m, use_binned_residuals=\u001b[38;5;28;01mFalse\u001b[39;00m)\n\u001b[32m      8\u001b[39m predictions\n",
      "\u001b[36mFile \u001b[39m\u001b[32mc:\\Users\\jaesc2\\GitHub\\skforecast\\skforecast\\recursive\\_forecaster_equivalent_date.py:381\u001b[39m, in \u001b[36mForecasterEquivalentDate.fit\u001b[39m\u001b[34m(self, y, store_in_sample_residuals, random_state, exog)\u001b[39m\n\u001b[32m    379\u001b[39m \u001b[38;5;28;01melse\u001b[39;00m:\n\u001b[32m    380\u001b[39m     \u001b[38;5;28;01mif\u001b[39;00m \u001b[38;5;28mlen\u001b[39m(y) < \u001b[38;5;28mself\u001b[39m.window_size:\n\u001b[32m--> \u001b[39m\u001b[32m381\u001b[39m         \u001b[38;5;28;01mraise\u001b[39;00m \u001b[38;5;167;01mValueError\u001b[39;00m(\n\u001b[32m    382\u001b[39m             \u001b[33mf\u001b[39m\u001b[33m\"\u001b[39m\u001b[33mThe length of `y` (\u001b[39m\u001b[38;5;132;01m{\u001b[39;00m\u001b[38;5;28mlen\u001b[39m(y)\u001b[38;5;132;01m}\u001b[39;00m\u001b[33m), must be greater than or equal \u001b[39m\u001b[33m\"\u001b[39m\n\u001b[32m    383\u001b[39m             \u001b[33mf\u001b[39m\u001b[33m\"\u001b[39m\u001b[33mto the window size (\u001b[39m\u001b[38;5;132;01m{\u001b[39;00m\u001b[38;5;28mself\u001b[39m.window_size\u001b[38;5;132;01m}\u001b[39;00m\u001b[33m). This is because  \u001b[39m\u001b[33m\"\u001b[39m\n\u001b[32m    384\u001b[39m             \u001b[33mf\u001b[39m\u001b[33m\"\u001b[39m\u001b[33mthe offset (\u001b[39m\u001b[38;5;132;01m{\u001b[39;00m\u001b[38;5;28mself\u001b[39m.offset\u001b[38;5;132;01m}\u001b[39;00m\u001b[33m) is larger than the available \u001b[39m\u001b[33m\"\u001b[39m\n\u001b[32m    385\u001b[39m             \u001b[33mf\u001b[39m\u001b[33m\"\u001b[39m\u001b[33mdata. Try to decrease the size of the offset (\u001b[39m\u001b[38;5;132;01m{\u001b[39;00m\u001b[38;5;28mself\u001b[39m.offset\u001b[38;5;132;01m}\u001b[39;00m\u001b[33m), \u001b[39m\u001b[33m\"\u001b[39m\n\u001b[32m    386\u001b[39m             \u001b[33mf\u001b[39m\u001b[33m\"\u001b[39m\u001b[33mthe number of `n_offsets` (\u001b[39m\u001b[38;5;132;01m{\u001b[39;00m\u001b[38;5;28mself\u001b[39m.n_offsets\u001b[38;5;132;01m}\u001b[39;00m\u001b[33m) or increase the \u001b[39m\u001b[33m\"\u001b[39m\n\u001b[32m    387\u001b[39m             \u001b[33mf\u001b[39m\u001b[33m\"\u001b[39m\u001b[33msize of `y`.\u001b[39m\u001b[33m\"\u001b[39m\n\u001b[32m    388\u001b[39m         )\n\u001b[32m    390\u001b[39m \u001b[38;5;28mself\u001b[39m.is_fitted = \u001b[38;5;28;01mTrue\u001b[39;00m\n\u001b[32m    391\u001b[39m \u001b[38;5;28mself\u001b[39m.series_name_in_ = y.name \u001b[38;5;28;01mif\u001b[39;00m y.name \u001b[38;5;129;01mis\u001b[39;00m \u001b[38;5;129;01mnot\u001b[39;00m \u001b[38;5;28;01mNone\u001b[39;00m \u001b[38;5;28;01melse\u001b[39;00m \u001b[33m'\u001b[39m\u001b[33my\u001b[39m\u001b[33m'\u001b[39m\n",
      "\u001b[31mValueError\u001b[39m: The length of `y` (7), must be greater than or equal to the window size (14). This is because  the offset (7) is larger than the available data. Try to decrease the size of the offset (7), the number of `n_offsets` (2) or increase the size of `y`."
     ]
    }
   ],
   "source": [
    "forecaster = ForecasterEquivalentDate(\n",
    "                     offset    = 7,\n",
    "                     n_offsets = 2,\n",
    "                     agg_func  = np.mean\n",
    "                 )\n",
    "forecaster.fit(y=y, store_in_sample_residuals=True)\n",
    "predictions = forecaster.predict_interval(steps=7, use_binned_residuals=False)\n",
    "predictions"
   ]
  },
  {
   "cell_type": "code",
   "execution_count": 16,
   "metadata": {},
   "outputs": [
    {
     "name": "stdout",
     "output_type": "stream",
     "text": [
      "<MonthEnd>\n",
      "2\n"
     ]
    },
    {
     "ename": "KeyError",
     "evalue": "\"[Timestamp('2000-01-31 00:00:00')] not in index\"",
     "output_type": "error",
     "traceback": [
      "\u001b[31m---------------------------------------------------------------------------\u001b[39m",
      "\u001b[31mKeyError\u001b[39m                                  Traceback (most recent call last)",
      "\u001b[36mCell\u001b[39m\u001b[36m \u001b[39m\u001b[32mIn[16]\u001b[39m\u001b[32m, line 12\u001b[39m\n\u001b[32m     10\u001b[39m forecaster._probabilistic_mode = \u001b[33m\"\u001b[39m\u001b[33mbinned\u001b[39m\u001b[33m\"\u001b[39m\n\u001b[32m     11\u001b[39m \u001b[38;5;28mprint\u001b[39m(forecaster.window_size)\n\u001b[32m---> \u001b[39m\u001b[32m12\u001b[39m \u001b[43mforecaster\u001b[49m\u001b[43m.\u001b[49m\u001b[43mfit\u001b[49m\u001b[43m(\u001b[49m\u001b[43my\u001b[49m\u001b[43m=\u001b[49m\u001b[43my\u001b[49m\u001b[43m,\u001b[49m\u001b[43m \u001b[49m\u001b[43mstore_in_sample_residuals\u001b[49m\u001b[43m=\u001b[49m\u001b[38;5;28;43;01mTrue\u001b[39;49;00m\u001b[43m)\u001b[49m\n",
      "\u001b[36mFile \u001b[39m\u001b[32m<string>:58\u001b[39m, in \u001b[36mfit\u001b[39m\u001b[34m(self, y, store_in_sample_residuals, random_state, exog)\u001b[39m\n",
      "\u001b[36mFile \u001b[39m\u001b[32mc:\\Users\\jaesc2\\GitHub\\skforecast\\skforecast\\recursive\\_forecaster_equivalent_date.py:454\u001b[39m, in \u001b[36mForecasterEquivalentDate._binning_in_sample_residuals\u001b[39m\u001b[34m(self, y, store_in_sample_residuals, random_state)\u001b[39m\n\u001b[32m    451\u001b[39m \u001b[38;5;66;03m# TODO: Error cuando hay muy poco dato\u001b[39;00m\n\u001b[32m    452\u001b[39m \u001b[38;5;28;01mif\u001b[39;00m \u001b[38;5;28misinstance\u001b[39m(\u001b[38;5;28mself\u001b[39m.offset, pd.tseries.offsets.DateOffset):\n\u001b[32m    453\u001b[39m     y_pred = [\n\u001b[32m--> \u001b[39m\u001b[32m454\u001b[39m         y.loc[(y.index - \u001b[38;5;28mself\u001b[39m.offset * n_off)[\u001b[38;5;28mself\u001b[39m.window_size:]]\n\u001b[32m    455\u001b[39m         \u001b[38;5;28;01mfor\u001b[39;00m n_off \u001b[38;5;129;01min\u001b[39;00m \u001b[38;5;28mrange\u001b[39m(\u001b[32m1\u001b[39m, \u001b[38;5;28mself\u001b[39m.n_offsets + \u001b[32m1\u001b[39m)\n\u001b[32m    456\u001b[39m     ]\n\u001b[32m    457\u001b[39m \u001b[38;5;28;01melse\u001b[39;00m:\n\u001b[32m    458\u001b[39m     y_pred = [\n\u001b[32m    459\u001b[39m         y.shift(\u001b[38;5;28mself\u001b[39m.offset * n_off)[\u001b[38;5;28mself\u001b[39m.window_size:]\n\u001b[32m    460\u001b[39m         \u001b[38;5;28;01mfor\u001b[39;00m n_off \u001b[38;5;129;01min\u001b[39;00m \u001b[38;5;28mrange\u001b[39m(\u001b[32m1\u001b[39m, \u001b[38;5;28mself\u001b[39m.n_offsets + \u001b[32m1\u001b[39m)\n\u001b[32m    461\u001b[39m     ]\n",
      "\u001b[36mFile \u001b[39m\u001b[32mc:\\Users\\jaesc2\\GitHub\\skforecast\\skforecast\\recursive\\_forecaster_equivalent_date.py:455\u001b[39m, in \u001b[36m<listcomp>\u001b[39m\u001b[34m(.0)\u001b[39m\n\u001b[32m    451\u001b[39m \u001b[38;5;66;03m# TODO: Error cuando hay muy poco dato\u001b[39;00m\n\u001b[32m    452\u001b[39m \u001b[38;5;28;01mif\u001b[39;00m \u001b[38;5;28misinstance\u001b[39m(\u001b[38;5;28mself\u001b[39m.offset, pd.tseries.offsets.DateOffset):\n\u001b[32m    453\u001b[39m     y_pred = [\n\u001b[32m    454\u001b[39m         y.loc[(y.index - \u001b[38;5;28mself\u001b[39m.offset * n_off)[\u001b[38;5;28mself\u001b[39m.window_size:]]\n\u001b[32m--> \u001b[39m\u001b[32m455\u001b[39m         \u001b[38;5;28;01mfor\u001b[39;00m n_off \u001b[38;5;129;01min\u001b[39;00m \u001b[38;5;28mrange\u001b[39m(\u001b[32m1\u001b[39m, \u001b[38;5;28mself\u001b[39m.n_offsets + \u001b[32m1\u001b[39m)\n\u001b[32m    456\u001b[39m     ]\n\u001b[32m    457\u001b[39m \u001b[38;5;28;01melse\u001b[39;00m:\n\u001b[32m    458\u001b[39m     y_pred = [\n\u001b[32m    459\u001b[39m         y.shift(\u001b[38;5;28mself\u001b[39m.offset * n_off)[\u001b[38;5;28mself\u001b[39m.window_size:]\n\u001b[32m    460\u001b[39m         \u001b[38;5;28;01mfor\u001b[39;00m n_off \u001b[38;5;129;01min\u001b[39;00m \u001b[38;5;28mrange\u001b[39m(\u001b[32m1\u001b[39m, \u001b[38;5;28mself\u001b[39m.n_offsets + \u001b[32m1\u001b[39m)\n\u001b[32m    461\u001b[39m     ]\n",
      "\u001b[36mFile \u001b[39m\u001b[32mc:\\Users\\jaesc2\\Miniconda3\\envs\\skforecast_py11_2\\Lib\\site-packages\\pandas\\core\\indexing.py:1191\u001b[39m, in \u001b[36m_LocationIndexer.__getitem__\u001b[39m\u001b[34m(self, key)\u001b[39m\n\u001b[32m   1189\u001b[39m maybe_callable = com.apply_if_callable(key, \u001b[38;5;28mself\u001b[39m.obj)\n\u001b[32m   1190\u001b[39m maybe_callable = \u001b[38;5;28mself\u001b[39m._check_deprecated_callable_usage(key, maybe_callable)\n\u001b[32m-> \u001b[39m\u001b[32m1191\u001b[39m \u001b[38;5;28;01mreturn\u001b[39;00m \u001b[38;5;28;43mself\u001b[39;49m\u001b[43m.\u001b[49m\u001b[43m_getitem_axis\u001b[49m\u001b[43m(\u001b[49m\u001b[43mmaybe_callable\u001b[49m\u001b[43m,\u001b[49m\u001b[43m \u001b[49m\u001b[43maxis\u001b[49m\u001b[43m=\u001b[49m\u001b[43maxis\u001b[49m\u001b[43m)\u001b[49m\n",
      "\u001b[36mFile \u001b[39m\u001b[32mc:\\Users\\jaesc2\\Miniconda3\\envs\\skforecast_py11_2\\Lib\\site-packages\\pandas\\core\\indexing.py:1420\u001b[39m, in \u001b[36m_LocIndexer._getitem_axis\u001b[39m\u001b[34m(self, key, axis)\u001b[39m\n\u001b[32m   1417\u001b[39m     \u001b[38;5;28;01mif\u001b[39;00m \u001b[38;5;28mhasattr\u001b[39m(key, \u001b[33m\"\u001b[39m\u001b[33mndim\u001b[39m\u001b[33m\"\u001b[39m) \u001b[38;5;129;01mand\u001b[39;00m key.ndim > \u001b[32m1\u001b[39m:\n\u001b[32m   1418\u001b[39m         \u001b[38;5;28;01mraise\u001b[39;00m \u001b[38;5;167;01mValueError\u001b[39;00m(\u001b[33m\"\u001b[39m\u001b[33mCannot index with multidimensional key\u001b[39m\u001b[33m\"\u001b[39m)\n\u001b[32m-> \u001b[39m\u001b[32m1420\u001b[39m     \u001b[38;5;28;01mreturn\u001b[39;00m \u001b[38;5;28;43mself\u001b[39;49m\u001b[43m.\u001b[49m\u001b[43m_getitem_iterable\u001b[49m\u001b[43m(\u001b[49m\u001b[43mkey\u001b[49m\u001b[43m,\u001b[49m\u001b[43m \u001b[49m\u001b[43maxis\u001b[49m\u001b[43m=\u001b[49m\u001b[43maxis\u001b[49m\u001b[43m)\u001b[49m\n\u001b[32m   1422\u001b[39m \u001b[38;5;66;03m# nested tuple slicing\u001b[39;00m\n\u001b[32m   1423\u001b[39m \u001b[38;5;28;01mif\u001b[39;00m is_nested_tuple(key, labels):\n",
      "\u001b[36mFile \u001b[39m\u001b[32mc:\\Users\\jaesc2\\Miniconda3\\envs\\skforecast_py11_2\\Lib\\site-packages\\pandas\\core\\indexing.py:1360\u001b[39m, in \u001b[36m_LocIndexer._getitem_iterable\u001b[39m\u001b[34m(self, key, axis)\u001b[39m\n\u001b[32m   1357\u001b[39m \u001b[38;5;28mself\u001b[39m._validate_key(key, axis)\n\u001b[32m   1359\u001b[39m \u001b[38;5;66;03m# A collection of keys\u001b[39;00m\n\u001b[32m-> \u001b[39m\u001b[32m1360\u001b[39m keyarr, indexer = \u001b[38;5;28;43mself\u001b[39;49m\u001b[43m.\u001b[49m\u001b[43m_get_listlike_indexer\u001b[49m\u001b[43m(\u001b[49m\u001b[43mkey\u001b[49m\u001b[43m,\u001b[49m\u001b[43m \u001b[49m\u001b[43maxis\u001b[49m\u001b[43m)\u001b[49m\n\u001b[32m   1361\u001b[39m \u001b[38;5;28;01mreturn\u001b[39;00m \u001b[38;5;28mself\u001b[39m.obj._reindex_with_indexers(\n\u001b[32m   1362\u001b[39m     {axis: [keyarr, indexer]}, copy=\u001b[38;5;28;01mTrue\u001b[39;00m, allow_dups=\u001b[38;5;28;01mTrue\u001b[39;00m\n\u001b[32m   1363\u001b[39m )\n",
      "\u001b[36mFile \u001b[39m\u001b[32mc:\\Users\\jaesc2\\Miniconda3\\envs\\skforecast_py11_2\\Lib\\site-packages\\pandas\\core\\indexing.py:1558\u001b[39m, in \u001b[36m_LocIndexer._get_listlike_indexer\u001b[39m\u001b[34m(self, key, axis)\u001b[39m\n\u001b[32m   1555\u001b[39m ax = \u001b[38;5;28mself\u001b[39m.obj._get_axis(axis)\n\u001b[32m   1556\u001b[39m axis_name = \u001b[38;5;28mself\u001b[39m.obj._get_axis_name(axis)\n\u001b[32m-> \u001b[39m\u001b[32m1558\u001b[39m keyarr, indexer = \u001b[43max\u001b[49m\u001b[43m.\u001b[49m\u001b[43m_get_indexer_strict\u001b[49m\u001b[43m(\u001b[49m\u001b[43mkey\u001b[49m\u001b[43m,\u001b[49m\u001b[43m \u001b[49m\u001b[43maxis_name\u001b[49m\u001b[43m)\u001b[49m\n\u001b[32m   1560\u001b[39m \u001b[38;5;28;01mreturn\u001b[39;00m keyarr, indexer\n",
      "\u001b[36mFile \u001b[39m\u001b[32mc:\\Users\\jaesc2\\Miniconda3\\envs\\skforecast_py11_2\\Lib\\site-packages\\pandas\\core\\indexes\\base.py:6200\u001b[39m, in \u001b[36mIndex._get_indexer_strict\u001b[39m\u001b[34m(self, key, axis_name)\u001b[39m\n\u001b[32m   6197\u001b[39m \u001b[38;5;28;01melse\u001b[39;00m:\n\u001b[32m   6198\u001b[39m     keyarr, indexer, new_indexer = \u001b[38;5;28mself\u001b[39m._reindex_non_unique(keyarr)\n\u001b[32m-> \u001b[39m\u001b[32m6200\u001b[39m \u001b[38;5;28;43mself\u001b[39;49m\u001b[43m.\u001b[49m\u001b[43m_raise_if_missing\u001b[49m\u001b[43m(\u001b[49m\u001b[43mkeyarr\u001b[49m\u001b[43m,\u001b[49m\u001b[43m \u001b[49m\u001b[43mindexer\u001b[49m\u001b[43m,\u001b[49m\u001b[43m \u001b[49m\u001b[43maxis_name\u001b[49m\u001b[43m)\u001b[49m\n\u001b[32m   6202\u001b[39m keyarr = \u001b[38;5;28mself\u001b[39m.take(indexer)\n\u001b[32m   6203\u001b[39m \u001b[38;5;28;01mif\u001b[39;00m \u001b[38;5;28misinstance\u001b[39m(key, Index):\n\u001b[32m   6204\u001b[39m     \u001b[38;5;66;03m# GH 42790 - Preserve name from an Index\u001b[39;00m\n",
      "\u001b[36mFile \u001b[39m\u001b[32mc:\\Users\\jaesc2\\Miniconda3\\envs\\skforecast_py11_2\\Lib\\site-packages\\pandas\\core\\indexes\\base.py:6252\u001b[39m, in \u001b[36mIndex._raise_if_missing\u001b[39m\u001b[34m(self, key, indexer, axis_name)\u001b[39m\n\u001b[32m   6249\u001b[39m     \u001b[38;5;28;01mraise\u001b[39;00m \u001b[38;5;167;01mKeyError\u001b[39;00m(\u001b[33mf\u001b[39m\u001b[33m\"\u001b[39m\u001b[33mNone of [\u001b[39m\u001b[38;5;132;01m{\u001b[39;00mkey\u001b[38;5;132;01m}\u001b[39;00m\u001b[33m] are in the [\u001b[39m\u001b[38;5;132;01m{\u001b[39;00maxis_name\u001b[38;5;132;01m}\u001b[39;00m\u001b[33m]\u001b[39m\u001b[33m\"\u001b[39m)\n\u001b[32m   6251\u001b[39m not_found = \u001b[38;5;28mlist\u001b[39m(ensure_index(key)[missing_mask.nonzero()[\u001b[32m0\u001b[39m]].unique())\n\u001b[32m-> \u001b[39m\u001b[32m6252\u001b[39m \u001b[38;5;28;01mraise\u001b[39;00m \u001b[38;5;167;01mKeyError\u001b[39;00m(\u001b[33mf\u001b[39m\u001b[33m\"\u001b[39m\u001b[38;5;132;01m{\u001b[39;00mnot_found\u001b[38;5;132;01m}\u001b[39;00m\u001b[33m not in index\u001b[39m\u001b[33m\"\u001b[39m)\n",
      "\u001b[31mKeyError\u001b[39m: \"[Timestamp('2000-01-31 00:00:00')] not in index\""
     ]
    }
   ],
   "source": [
    "y = pd.Series(\n",
    "    np.arange(7), \n",
    "    index=pd.date_range(start='2000-02-25', periods=7, freq='D')\n",
    ")\n",
    "\n",
    "forecaster = ForecasterEquivalentDate(\n",
    "                    offset    = pd.offsets.MonthEnd(1),\n",
    "                    n_offsets = 1\n",
    "                )\n",
    "forecaster._probabilistic_mode = \"binned\"\n",
    "print(forecaster.window_size)\n",
    "forecaster.fit(y=y, store_in_sample_residuals=True)"
   ]
  },
  {
   "cell_type": "code",
   "execution_count": 23,
   "metadata": {},
   "outputs": [
    {
     "data": {
      "text/plain": [
       "2000-02-25    0\n",
       "2000-02-26    1\n",
       "2000-02-27    2\n",
       "2000-02-28    3\n",
       "2000-02-29    4\n",
       "2000-03-01    5\n",
       "2000-03-02    6\n",
       "Freq: D, dtype: int64"
      ]
     },
     "execution_count": 23,
     "metadata": {},
     "output_type": "execute_result"
    }
   ],
   "source": [
    "y = pd.Series(\n",
    "    np.arange(7), \n",
    "    index=pd.date_range(start='2000-02-25', periods=7, freq='D')\n",
    ")\n",
    "y"
   ]
  },
  {
   "cell_type": "code",
   "execution_count": 24,
   "metadata": {},
   "outputs": [
    {
     "name": "stdout",
     "output_type": "stream",
     "text": [
      "DatetimeIndex(['2000-01-31', '2000-01-31', '2000-01-31', '2000-01-31',\n",
      "               '2000-01-31', '2000-02-29', '2000-02-29'],\n",
      "              dtype='datetime64[ns]', freq=None)\n",
      "[False False False False False  True  True]\n",
      "DatetimeIndex(['2000-02-29', '2000-02-29'], dtype='datetime64[ns]', freq=None)\n",
      "2\n",
      "-3\n",
      "2000-02-29    4\n",
      "2000-02-29    4\n",
      "dtype: int64\n"
     ]
    }
   ],
   "source": [
    "n_offsets = 1\n",
    "offset    = pd.offsets.MonthEnd(1)\n",
    "window_size = 2\n",
    "\n",
    "for n_off in range(1, n_offsets + 1):\n",
    "    idx = y.index - offset * n_off\n",
    "    mask = idx >= y.index[0]\n",
    "    print(idx)\n",
    "    print(mask)\n",
    "    idx = idx[mask]\n",
    "    print(idx)\n",
    "    print(mask.sum())\n",
    "    print(~mask.sum())\n",
    "    y_pred = y.loc[idx]\n",
    "    print(y_pred)"
   ]
  },
  {
   "cell_type": "code",
   "execution_count": null,
   "metadata": {},
   "outputs": [],
   "source": []
  },
  {
   "cell_type": "code",
   "execution_count": 45,
   "metadata": {},
   "outputs": [
    {
     "name": "stdout",
     "output_type": "stream",
     "text": [
      "1\n",
      "DatetimeIndex(['2000-01-31', '2000-01-31', '2000-01-31', '2000-01-31',\n",
      "               '2000-01-31', '2000-02-29', '2000-02-29'],\n",
      "              dtype='datetime64[ns]', freq=None)\n",
      "[False False False False False  True  True]\n",
      "DatetimeIndex(['2000-02-29', '2000-02-29'], dtype='datetime64[ns]', freq=None)\n",
      "2000-03-31    4\n",
      "2000-03-31    4\n",
      "dtype: int64\n",
      "----------\n"
     ]
    }
   ],
   "source": [
    "y = pd.Series(\n",
    "    np.arange(10), \n",
    "    index=pd.date_range(start='2000-01-01', periods=10, freq='D')\n",
    ")\n",
    "y = pd.Series(\n",
    "    np.arange(7), \n",
    "    index=pd.date_range(start='2000-02-25', periods=7, freq='D')\n",
    ")\n",
    "\n",
    "n_offsets = 3\n",
    "offset    = pd.offsets.DateOffset(days=2)\n",
    "window_size = 6\n",
    "\n",
    "n_offsets = 1\n",
    "offset    = pd.offsets.MonthEnd(1)\n",
    "window_size = 2\n",
    "\n",
    "y_preds = []\n",
    "for n_off in range(1, n_offsets + 1):\n",
    "    print(n_off)\n",
    "    idx = y.index - offset * n_off\n",
    "    mask = idx >= y.index[0]\n",
    "    print(idx)\n",
    "    print(mask)\n",
    "    idx = idx[mask]\n",
    "    print(idx)\n",
    "    y_pred = y.loc[idx]\n",
    "    y_pred.index = y_pred.index + (offset * n_off)\n",
    "    y_preds.append(y_pred)\n",
    "    print(y_pred)\n",
    "    print(\"----------\")"
   ]
  },
  {
   "cell_type": "code",
   "execution_count": 46,
   "metadata": {},
   "outputs": [
    {
     "data": {
      "text/plain": [
       "2000-02-25    0\n",
       "2000-02-26    1\n",
       "2000-02-27    2\n",
       "2000-02-28    3\n",
       "2000-02-29    4\n",
       "2000-03-01    5\n",
       "2000-03-02    6\n",
       "Freq: D, dtype: int64"
      ]
     },
     "execution_count": 46,
     "metadata": {},
     "output_type": "execute_result"
    }
   ],
   "source": [
    "y"
   ]
  },
  {
   "cell_type": "code",
   "execution_count": 44,
   "metadata": {},
   "outputs": [
    {
     "data": {
      "text/html": [
       "<div>\n",
       "<style scoped>\n",
       "    .dataframe tbody tr th:only-of-type {\n",
       "        vertical-align: middle;\n",
       "    }\n",
       "\n",
       "    .dataframe tbody tr th {\n",
       "        vertical-align: top;\n",
       "    }\n",
       "\n",
       "    .dataframe thead th {\n",
       "        text-align: right;\n",
       "    }\n",
       "</style>\n",
       "<table border=\"1\" class=\"dataframe\">\n",
       "  <thead>\n",
       "    <tr style=\"text-align: right;\">\n",
       "      <th></th>\n",
       "      <th>0</th>\n",
       "      <th>1</th>\n",
       "    </tr>\n",
       "  </thead>\n",
       "  <tbody>\n",
       "    <tr>\n",
       "      <th>2000-03-31</th>\n",
       "      <td>4</td>\n",
       "      <td>NaN</td>\n",
       "    </tr>\n",
       "    <tr>\n",
       "      <th>2000-03-31</th>\n",
       "      <td>4</td>\n",
       "      <td>NaN</td>\n",
       "    </tr>\n",
       "  </tbody>\n",
       "</table>\n",
       "</div>"
      ],
      "text/plain": [
       "            0   1\n",
       "2000-03-31  4 NaN\n",
       "2000-03-31  4 NaN"
      ]
     },
     "execution_count": 44,
     "metadata": {},
     "output_type": "execute_result"
    }
   ],
   "source": [
    "pd.concat(y_preds, axis=1)"
   ]
  },
  {
   "cell_type": "code",
   "execution_count": 28,
   "metadata": {},
   "outputs": [
    {
     "data": {
      "text/plain": [
       "[2000-01-03    2\n",
       " 2000-01-04    3\n",
       " 2000-01-05    4\n",
       " 2000-01-06    5\n",
       " 2000-01-07    6\n",
       " 2000-01-08    7\n",
       " dtype: int64,\n",
       " 2000-01-01    0\n",
       " 2000-01-02    1\n",
       " 2000-01-03    2\n",
       " 2000-01-04    3\n",
       " 2000-01-05    4\n",
       " 2000-01-06    5\n",
       " dtype: int64]"
      ]
     },
     "execution_count": 28,
     "metadata": {},
     "output_type": "execute_result"
    }
   ],
   "source": [
    "y_pred = [\n",
    "    y.loc[(y.index - offset * n_off)[window_size:]]\n",
    "    for n_off in range(1, n_offsets + 1)\n",
    "]\n",
    "y_pred"
   ]
  },
  {
   "cell_type": "code",
   "execution_count": null,
   "metadata": {},
   "outputs": [
    {
     "name": "stdout",
     "output_type": "stream",
     "text": [
      "1\n",
      "DatetimeIndex(['1999-12-31', '1999-12-31', '1999-12-31', '1999-12-31',\n",
      "               '1999-12-31', '1999-12-31', '1999-12-31', '1999-12-31',\n",
      "               '1999-12-31', '1999-12-31', '1999-12-31', '1999-12-31',\n",
      "               '1999-12-31', '1999-12-31', '1999-12-31', '1999-12-31',\n",
      "               '1999-12-31', '1999-12-31', '1999-12-31', '1999-12-31',\n",
      "               '1999-12-31', '1999-12-31', '1999-12-31', '1999-12-31',\n",
      "               '1999-12-31', '1999-12-31', '1999-12-31', '1999-12-31',\n",
      "               '1999-12-31', '1999-12-31', '1999-12-31', '2000-01-31',\n",
      "               '2000-01-31', '2000-01-31', '2000-01-31', '2000-01-31',\n",
      "               '2000-01-31', '2000-01-31', '2000-01-31', '2000-01-31',\n",
      "               '2000-01-31', '2000-01-31', '2000-01-31', '2000-01-31',\n",
      "               '2000-01-31', '2000-01-31', '2000-01-31', '2000-01-31',\n",
      "               '2000-01-31', '2000-01-31', '2000-01-31', '2000-01-31',\n",
      "               '2000-01-31', '2000-01-31', '2000-01-31', '2000-01-31',\n",
      "               '2000-01-31', '2000-01-31', '2000-01-31', '2000-01-31',\n",
      "               '2000-02-29', '2000-02-29', '2000-02-29', '2000-02-29',\n",
      "               '2000-02-29', '2000-02-29', '2000-02-29', '2000-02-29',\n",
      "               '2000-02-29', '2000-02-29', '2000-02-29', '2000-02-29',\n",
      "               '2000-02-29', '2000-02-29', '2000-02-29', '2000-02-29',\n",
      "               '2000-02-29', '2000-02-29', '2000-02-29', '2000-02-29',\n",
      "               '2000-02-29', '2000-02-29', '2000-02-29', '2000-02-29',\n",
      "               '2000-02-29', '2000-02-29', '2000-02-29', '2000-02-29',\n",
      "               '2000-02-29', '2000-02-29', '2000-02-29', '2000-03-31',\n",
      "               '2000-03-31', '2000-03-31', '2000-03-31', '2000-03-31',\n",
      "               '2000-03-31', '2000-03-31', '2000-03-31', '2000-03-31'],\n",
      "              dtype='datetime64[ns]', freq=None)\n",
      "[False False False False False False False False False False False False\n",
      " False False False False False False False False False False False False\n",
      " False False False False False False False  True  True  True  True  True\n",
      "  True  True  True  True  True  True  True  True  True  True  True  True\n",
      "  True  True  True  True  True  True  True  True  True  True  True  True\n",
      "  True  True  True  True  True  True  True  True  True  True  True  True\n",
      "  True  True  True  True  True  True  True  True  True  True  True  True\n",
      "  True  True  True  True  True  True  True  True  True  True  True  True\n",
      "  True  True  True  True]\n",
      "DatetimeIndex(['2000-01-31', '2000-01-31', '2000-01-31', '2000-01-31',\n",
      "               '2000-01-31', '2000-01-31', '2000-01-31', '2000-01-31',\n",
      "               '2000-01-31', '2000-01-31', '2000-01-31', '2000-01-31',\n",
      "               '2000-01-31', '2000-01-31', '2000-01-31', '2000-01-31',\n",
      "               '2000-01-31', '2000-01-31', '2000-01-31', '2000-01-31',\n",
      "               '2000-01-31', '2000-01-31', '2000-01-31', '2000-01-31',\n",
      "               '2000-01-31', '2000-01-31', '2000-01-31', '2000-01-31',\n",
      "               '2000-01-31', '2000-02-29', '2000-02-29', '2000-02-29',\n",
      "               '2000-02-29', '2000-02-29', '2000-02-29', '2000-02-29',\n",
      "               '2000-02-29', '2000-02-29', '2000-02-29', '2000-02-29',\n",
      "               '2000-02-29', '2000-02-29', '2000-02-29', '2000-02-29',\n",
      "               '2000-02-29', '2000-02-29', '2000-02-29', '2000-02-29',\n",
      "               '2000-02-29', '2000-02-29', '2000-02-29', '2000-02-29',\n",
      "               '2000-02-29', '2000-02-29', '2000-02-29', '2000-02-29',\n",
      "               '2000-02-29', '2000-02-29', '2000-02-29', '2000-02-29',\n",
      "               '2000-03-31', '2000-03-31', '2000-03-31', '2000-03-31',\n",
      "               '2000-03-31', '2000-03-31', '2000-03-31', '2000-03-31',\n",
      "               '2000-03-31'],\n",
      "              dtype='datetime64[ns]', freq=None)\n",
      "2000-02-29    30\n",
      "2000-02-29    30\n",
      "2000-02-29    30\n",
      "2000-02-29    30\n",
      "2000-02-29    30\n",
      "              ..\n",
      "2000-04-30    90\n",
      "2000-04-30    90\n",
      "2000-04-30    90\n",
      "2000-04-30    90\n",
      "2000-04-30    90\n",
      "Length: 69, dtype: int64\n",
      "----------\n",
      "2\n",
      "DatetimeIndex(['1999-11-30', '1999-11-30', '1999-11-30', '1999-11-30',\n",
      "               '1999-11-30', '1999-11-30', '1999-11-30', '1999-11-30',\n",
      "               '1999-11-30', '1999-11-30', '1999-11-30', '1999-11-30',\n",
      "               '1999-11-30', '1999-11-30', '1999-11-30', '1999-11-30',\n",
      "               '1999-11-30', '1999-11-30', '1999-11-30', '1999-11-30',\n",
      "               '1999-11-30', '1999-11-30', '1999-11-30', '1999-11-30',\n",
      "               '1999-11-30', '1999-11-30', '1999-11-30', '1999-11-30',\n",
      "               '1999-11-30', '1999-11-30', '1999-11-30', '1999-12-31',\n",
      "               '1999-12-31', '1999-12-31', '1999-12-31', '1999-12-31',\n",
      "               '1999-12-31', '1999-12-31', '1999-12-31', '1999-12-31',\n",
      "               '1999-12-31', '1999-12-31', '1999-12-31', '1999-12-31',\n",
      "               '1999-12-31', '1999-12-31', '1999-12-31', '1999-12-31',\n",
      "               '1999-12-31', '1999-12-31', '1999-12-31', '1999-12-31',\n",
      "               '1999-12-31', '1999-12-31', '1999-12-31', '1999-12-31',\n",
      "               '1999-12-31', '1999-12-31', '1999-12-31', '1999-12-31',\n",
      "               '2000-01-31', '2000-01-31', '2000-01-31', '2000-01-31',\n",
      "               '2000-01-31', '2000-01-31', '2000-01-31', '2000-01-31',\n",
      "               '2000-01-31', '2000-01-31', '2000-01-31', '2000-01-31',\n",
      "               '2000-01-31', '2000-01-31', '2000-01-31', '2000-01-31',\n",
      "               '2000-01-31', '2000-01-31', '2000-01-31', '2000-01-31',\n",
      "               '2000-01-31', '2000-01-31', '2000-01-31', '2000-01-31',\n",
      "               '2000-01-31', '2000-01-31', '2000-01-31', '2000-01-31',\n",
      "               '2000-01-31', '2000-01-31', '2000-01-31', '2000-02-29',\n",
      "               '2000-02-29', '2000-02-29', '2000-02-29', '2000-02-29',\n",
      "               '2000-02-29', '2000-02-29', '2000-02-29', '2000-02-29'],\n",
      "              dtype='datetime64[ns]', freq=None)\n",
      "[False False False False False False False False False False False False\n",
      " False False False False False False False False False False False False\n",
      " False False False False False False False False False False False False\n",
      " False False False False False False False False False False False False\n",
      " False False False False False False False False False False False False\n",
      "  True  True  True  True  True  True  True  True  True  True  True  True\n",
      "  True  True  True  True  True  True  True  True  True  True  True  True\n",
      "  True  True  True  True  True  True  True  True  True  True  True  True\n",
      "  True  True  True  True]\n",
      "DatetimeIndex(['2000-01-31', '2000-01-31', '2000-01-31', '2000-01-31',\n",
      "               '2000-01-31', '2000-01-31', '2000-01-31', '2000-01-31',\n",
      "               '2000-01-31', '2000-01-31', '2000-01-31', '2000-01-31',\n",
      "               '2000-01-31', '2000-01-31', '2000-01-31', '2000-01-31',\n",
      "               '2000-01-31', '2000-01-31', '2000-01-31', '2000-01-31',\n",
      "               '2000-01-31', '2000-01-31', '2000-01-31', '2000-01-31',\n",
      "               '2000-01-31', '2000-01-31', '2000-01-31', '2000-01-31',\n",
      "               '2000-01-31', '2000-01-31', '2000-01-31', '2000-02-29',\n",
      "               '2000-02-29', '2000-02-29', '2000-02-29', '2000-02-29',\n",
      "               '2000-02-29', '2000-02-29', '2000-02-29', '2000-02-29'],\n",
      "              dtype='datetime64[ns]', freq=None)\n",
      "2000-03-31    30\n",
      "2000-03-31    30\n",
      "2000-03-31    30\n",
      "2000-03-31    30\n",
      "2000-03-31    30\n",
      "2000-03-31    30\n",
      "2000-03-31    30\n",
      "2000-03-31    30\n",
      "2000-03-31    30\n",
      "2000-03-31    30\n",
      "2000-03-31    30\n",
      "2000-03-31    30\n",
      "2000-03-31    30\n",
      "2000-03-31    30\n",
      "2000-03-31    30\n",
      "2000-03-31    30\n",
      "2000-03-31    30\n",
      "2000-03-31    30\n",
      "2000-03-31    30\n",
      "2000-03-31    30\n",
      "2000-03-31    30\n",
      "2000-03-31    30\n",
      "2000-03-31    30\n",
      "2000-03-31    30\n",
      "2000-03-31    30\n",
      "2000-03-31    30\n",
      "2000-03-31    30\n",
      "2000-03-31    30\n",
      "2000-03-31    30\n",
      "2000-03-31    30\n",
      "2000-03-31    30\n",
      "2000-04-30    59\n",
      "2000-04-30    59\n",
      "2000-04-30    59\n",
      "2000-04-30    59\n",
      "2000-04-30    59\n",
      "2000-04-30    59\n",
      "2000-04-30    59\n",
      "2000-04-30    59\n",
      "2000-04-30    59\n",
      "dtype: int64\n",
      "----------\n"
     ]
    }
   ],
   "source": [
    "y = pd.Series(\n",
    "    np.arange(100), \n",
    "    index=pd.date_range(start='2000-01-01', periods=100, freq='D')\n",
    ")\n",
    "\n",
    "n_offsets = 3\n",
    "offset    = pd.offsets.DateOffset(days=2)\n",
    "window_size = 6\n",
    "\n",
    "n_offsets = 2\n",
    "offset    = pd.offsets.MonthEnd(1)\n",
    "window_size = 2\n",
    "\n",
    "y_preds = []\n",
    "for n_off in range(1, n_offsets + 1):\n",
    "    print(n_off)\n",
    "    idx = y.index - offset * n_off\n",
    "    mask = idx >= y.index[0]\n",
    "    print(idx)\n",
    "    print(mask)\n",
    "    idx = idx[mask]\n",
    "    print(idx)\n",
    "    y_pred = y.loc[idx]\n",
    "    y_pred.index = y_pred.index + (offset * n_off)\n",
    "    y_preds.append(y_pred)\n",
    "    print(y_pred)\n",
    "    print(\"----------\")"
   ]
  },
  {
   "cell_type": "code",
   "execution_count": 51,
   "metadata": {},
   "outputs": [
    {
     "data": {
      "text/plain": [
       "2000-01-01     0\n",
       "2000-01-02     1\n",
       "2000-01-03     2\n",
       "2000-01-04     3\n",
       "2000-01-05     4\n",
       "              ..\n",
       "2000-04-05    95\n",
       "2000-04-06    96\n",
       "2000-04-07    97\n",
       "2000-04-08    98\n",
       "2000-04-09    99\n",
       "Freq: D, Length: 100, dtype: int64"
      ]
     },
     "execution_count": 51,
     "metadata": {},
     "output_type": "execute_result"
    }
   ],
   "source": [
    "y"
   ]
  },
  {
   "cell_type": "code",
   "execution_count": 53,
   "metadata": {},
   "outputs": [
    {
     "data": {
      "text/plain": [
       "2000-02-29    30\n",
       "2000-02-29    30\n",
       "2000-02-29    30\n",
       "2000-02-29    30\n",
       "2000-02-29    30\n",
       "              ..\n",
       "2000-04-30    90\n",
       "2000-04-30    90\n",
       "2000-04-30    90\n",
       "2000-04-30    90\n",
       "2000-04-30    90\n",
       "Length: 69, dtype: int64"
      ]
     },
     "execution_count": 53,
     "metadata": {},
     "output_type": "execute_result"
    }
   ],
   "source": [
    "y_preds[0]"
   ]
  },
  {
   "cell_type": "code",
   "execution_count": 55,
   "metadata": {},
   "outputs": [
    {
     "data": {
      "text/html": [
       "<div>\n",
       "<style scoped>\n",
       "    .dataframe tbody tr th:only-of-type {\n",
       "        vertical-align: middle;\n",
       "    }\n",
       "\n",
       "    .dataframe tbody tr th {\n",
       "        vertical-align: top;\n",
       "    }\n",
       "\n",
       "    .dataframe thead th {\n",
       "        text-align: right;\n",
       "    }\n",
       "</style>\n",
       "<table border=\"1\" class=\"dataframe\">\n",
       "  <thead>\n",
       "    <tr style=\"text-align: right;\">\n",
       "      <th></th>\n",
       "      <th>0</th>\n",
       "      <th>1</th>\n",
       "    </tr>\n",
       "  </thead>\n",
       "  <tbody>\n",
       "    <tr>\n",
       "      <th>2000-02-01</th>\n",
       "      <td>30</td>\n",
       "      <td>NaN</td>\n",
       "    </tr>\n",
       "    <tr>\n",
       "      <th>2000-02-02</th>\n",
       "      <td>30</td>\n",
       "      <td>NaN</td>\n",
       "    </tr>\n",
       "    <tr>\n",
       "      <th>2000-02-03</th>\n",
       "      <td>30</td>\n",
       "      <td>NaN</td>\n",
       "    </tr>\n",
       "    <tr>\n",
       "      <th>2000-02-04</th>\n",
       "      <td>30</td>\n",
       "      <td>NaN</td>\n",
       "    </tr>\n",
       "    <tr>\n",
       "      <th>2000-02-05</th>\n",
       "      <td>30</td>\n",
       "      <td>NaN</td>\n",
       "    </tr>\n",
       "    <tr>\n",
       "      <th>...</th>\n",
       "      <td>...</td>\n",
       "      <td>...</td>\n",
       "    </tr>\n",
       "    <tr>\n",
       "      <th>2000-04-05</th>\n",
       "      <td>90</td>\n",
       "      <td>59.0</td>\n",
       "    </tr>\n",
       "    <tr>\n",
       "      <th>2000-04-06</th>\n",
       "      <td>90</td>\n",
       "      <td>59.0</td>\n",
       "    </tr>\n",
       "    <tr>\n",
       "      <th>2000-04-07</th>\n",
       "      <td>90</td>\n",
       "      <td>59.0</td>\n",
       "    </tr>\n",
       "    <tr>\n",
       "      <th>2000-04-08</th>\n",
       "      <td>90</td>\n",
       "      <td>59.0</td>\n",
       "    </tr>\n",
       "    <tr>\n",
       "      <th>2000-04-09</th>\n",
       "      <td>90</td>\n",
       "      <td>59.0</td>\n",
       "    </tr>\n",
       "  </tbody>\n",
       "</table>\n",
       "<p>69 rows × 2 columns</p>\n",
       "</div>"
      ],
      "text/plain": [
       "             0     1\n",
       "2000-02-01  30   NaN\n",
       "2000-02-02  30   NaN\n",
       "2000-02-03  30   NaN\n",
       "2000-02-04  30   NaN\n",
       "2000-02-05  30   NaN\n",
       "...         ..   ...\n",
       "2000-04-05  90  59.0\n",
       "2000-04-06  90  59.0\n",
       "2000-04-07  90  59.0\n",
       "2000-04-08  90  59.0\n",
       "2000-04-09  90  59.0\n",
       "\n",
       "[69 rows x 2 columns]"
      ]
     },
     "execution_count": 55,
     "metadata": {},
     "output_type": "execute_result"
    }
   ],
   "source": [
    "pd.concat(y_preds, axis=1)"
   ]
  },
  {
   "cell_type": "code",
   "execution_count": 80,
   "metadata": {},
   "outputs": [
    {
     "ename": "TypeError",
     "evalue": "int() argument must be a string, a bytes-like object or a real number, not 'pandas._libs.tslibs.offsets.MonthEnd'",
     "output_type": "error",
     "traceback": [
      "\u001b[31m---------------------------------------------------------------------------\u001b[39m",
      "\u001b[31mLossySetitemError\u001b[39m                         Traceback (most recent call last)",
      "\u001b[36mFile \u001b[39m\u001b[32mc:\\Users\\jaesc2\\Miniconda3\\envs\\skforecast_py11_2\\Lib\\site-packages\\pandas\\core\\internals\\blocks.py:1855\u001b[39m, in \u001b[36mBlock.shift\u001b[39m\u001b[34m(self, periods, fill_value)\u001b[39m\n\u001b[32m   1852\u001b[39m \u001b[38;5;28;01mtry\u001b[39;00m:\n\u001b[32m   1853\u001b[39m     \u001b[38;5;66;03m# error: Argument 1 to \"np_can_hold_element\" has incompatible type\u001b[39;00m\n\u001b[32m   1854\u001b[39m     \u001b[38;5;66;03m# \"Union[dtype[Any], ExtensionDtype]\"; expected \"dtype[Any]\"\u001b[39;00m\n\u001b[32m-> \u001b[39m\u001b[32m1855\u001b[39m     casted = \u001b[43mnp_can_hold_element\u001b[49m\u001b[43m(\u001b[49m\n\u001b[32m   1856\u001b[39m \u001b[43m        \u001b[49m\u001b[38;5;28;43mself\u001b[39;49m\u001b[43m.\u001b[49m\u001b[43mdtype\u001b[49m\u001b[43m,\u001b[49m\u001b[43m \u001b[49m\u001b[43mfill_value\u001b[49m\u001b[43m  \u001b[49m\u001b[38;5;66;43;03m# type: ignore[arg-type]\u001b[39;49;00m\n\u001b[32m   1857\u001b[39m \u001b[43m    \u001b[49m\u001b[43m)\u001b[49m\n\u001b[32m   1858\u001b[39m \u001b[38;5;28;01mexcept\u001b[39;00m LossySetitemError:\n",
      "\u001b[36mFile \u001b[39m\u001b[32mc:\\Users\\jaesc2\\Miniconda3\\envs\\skforecast_py11_2\\Lib\\site-packages\\pandas\\core\\dtypes\\cast.py:1856\u001b[39m, in \u001b[36mnp_can_hold_element\u001b[39m\u001b[34m(dtype, element)\u001b[39m\n\u001b[32m   1854\u001b[39m         \u001b[38;5;28;01mreturn\u001b[39;00m element\n\u001b[32m-> \u001b[39m\u001b[32m1856\u001b[39m     \u001b[38;5;28;01mraise\u001b[39;00m LossySetitemError\n\u001b[32m   1858\u001b[39m \u001b[38;5;28;01mif\u001b[39;00m dtype.kind == \u001b[33m\"\u001b[39m\u001b[33mf\u001b[39m\u001b[33m\"\u001b[39m:\n",
      "\u001b[31mLossySetitemError\u001b[39m: ",
      "\nDuring handling of the above exception, another exception occurred:\n",
      "\u001b[31mTypeError\u001b[39m                                 Traceback (most recent call last)",
      "\u001b[36mCell\u001b[39m\u001b[36m \u001b[39m\u001b[32mIn[80]\u001b[39m\u001b[32m, line 14\u001b[39m\n\u001b[32m     11\u001b[39m offset    = pd.offsets.MonthEnd(\u001b[32m1\u001b[39m)\n\u001b[32m     12\u001b[39m window_size = \u001b[32m2\u001b[39m\n\u001b[32m---> \u001b[39m\u001b[32m14\u001b[39m y_pred = \u001b[43m[\u001b[49m\n\u001b[32m     15\u001b[39m \u001b[43m    \u001b[49m\u001b[43my\u001b[49m\u001b[43m.\u001b[49m\u001b[43mshift\u001b[49m\u001b[43m(\u001b[49m\u001b[43moffset\u001b[49m\u001b[43m \u001b[49m\u001b[43m*\u001b[49m\u001b[43m \u001b[49m\u001b[43mn_off\u001b[49m\u001b[43m)\u001b[49m\u001b[43m[\u001b[49m\u001b[43mwindow_size\u001b[49m\u001b[43m:\u001b[49m\u001b[43m]\u001b[49m\n\u001b[32m     16\u001b[39m \u001b[43m    \u001b[49m\u001b[38;5;28;43;01mfor\u001b[39;49;00m\u001b[43m \u001b[49m\u001b[43mn_off\u001b[49m\u001b[43m \u001b[49m\u001b[38;5;129;43;01min\u001b[39;49;00m\u001b[43m \u001b[49m\u001b[38;5;28;43mrange\u001b[39;49m\u001b[43m(\u001b[49m\u001b[32;43m1\u001b[39;49m\u001b[43m,\u001b[49m\u001b[43m \u001b[49m\u001b[43mn_offsets\u001b[49m\u001b[43m \u001b[49m\u001b[43m+\u001b[49m\u001b[43m \u001b[49m\u001b[32;43m1\u001b[39;49m\u001b[43m)\u001b[49m\n\u001b[32m     17\u001b[39m \u001b[43m]\u001b[49m\n",
      "\u001b[36mCell\u001b[39m\u001b[36m \u001b[39m\u001b[32mIn[80]\u001b[39m\u001b[32m, line 15\u001b[39m, in \u001b[36m<listcomp>\u001b[39m\u001b[34m(.0)\u001b[39m\n\u001b[32m     11\u001b[39m offset    = pd.offsets.MonthEnd(\u001b[32m1\u001b[39m)\n\u001b[32m     12\u001b[39m window_size = \u001b[32m2\u001b[39m\n\u001b[32m     14\u001b[39m y_pred = [\n\u001b[32m---> \u001b[39m\u001b[32m15\u001b[39m     \u001b[43my\u001b[49m\u001b[43m.\u001b[49m\u001b[43mshift\u001b[49m\u001b[43m(\u001b[49m\u001b[43moffset\u001b[49m\u001b[43m \u001b[49m\u001b[43m*\u001b[49m\u001b[43m \u001b[49m\u001b[43mn_off\u001b[49m\u001b[43m)\u001b[49m[window_size:]\n\u001b[32m     16\u001b[39m     \u001b[38;5;28;01mfor\u001b[39;00m n_off \u001b[38;5;129;01min\u001b[39;00m \u001b[38;5;28mrange\u001b[39m(\u001b[32m1\u001b[39m, n_offsets + \u001b[32m1\u001b[39m)\n\u001b[32m     17\u001b[39m ]\n",
      "\u001b[36mFile \u001b[39m\u001b[32mc:\\Users\\jaesc2\\Miniconda3\\envs\\skforecast_py11_2\\Lib\\site-packages\\pandas\\core\\generic.py:11228\u001b[39m, in \u001b[36mNDFrame.shift\u001b[39m\u001b[34m(self, periods, freq, axis, fill_value, suffix)\u001b[39m\n\u001b[32m  11226\u001b[39m     axis = \u001b[38;5;28mself\u001b[39m._get_axis_number(axis)\n\u001b[32m  11227\u001b[39m     \u001b[38;5;28;01massert\u001b[39;00m axis == \u001b[32m0\u001b[39m  \u001b[38;5;66;03m# axis == 1 cases handled in DataFrame.shift\u001b[39;00m\n\u001b[32m> \u001b[39m\u001b[32m11228\u001b[39m     new_data = \u001b[38;5;28;43mself\u001b[39;49m\u001b[43m.\u001b[49m\u001b[43m_mgr\u001b[49m\u001b[43m.\u001b[49m\u001b[43mshift\u001b[49m\u001b[43m(\u001b[49m\u001b[43mperiods\u001b[49m\u001b[43m=\u001b[49m\u001b[43mperiods\u001b[49m\u001b[43m,\u001b[49m\u001b[43m \u001b[49m\u001b[43mfill_value\u001b[49m\u001b[43m=\u001b[49m\u001b[43mfill_value\u001b[49m\u001b[43m)\u001b[49m\n\u001b[32m  11229\u001b[39m     \u001b[38;5;28;01mreturn\u001b[39;00m \u001b[38;5;28mself\u001b[39m._constructor_from_mgr(\n\u001b[32m  11230\u001b[39m         new_data, axes=new_data.axes\n\u001b[32m  11231\u001b[39m     ).__finalize__(\u001b[38;5;28mself\u001b[39m, method=\u001b[33m\"\u001b[39m\u001b[33mshift\u001b[39m\u001b[33m\"\u001b[39m)\n\u001b[32m  11233\u001b[39m \u001b[38;5;28;01mreturn\u001b[39;00m \u001b[38;5;28mself\u001b[39m._shift_with_freq(periods, axis, freq)\n",
      "\u001b[36mFile \u001b[39m\u001b[32mc:\\Users\\jaesc2\\Miniconda3\\envs\\skforecast_py11_2\\Lib\\site-packages\\pandas\\core\\internals\\base.py:312\u001b[39m, in \u001b[36mDataManager.shift\u001b[39m\u001b[34m(self, periods, fill_value)\u001b[39m\n\u001b[32m    309\u001b[39m \u001b[38;5;28;01mif\u001b[39;00m fill_value \u001b[38;5;129;01mis\u001b[39;00m lib.no_default:\n\u001b[32m    310\u001b[39m     fill_value = \u001b[38;5;28;01mNone\u001b[39;00m\n\u001b[32m--> \u001b[39m\u001b[32m312\u001b[39m \u001b[38;5;28;01mreturn\u001b[39;00m \u001b[38;5;28;43mself\u001b[39;49m\u001b[43m.\u001b[49m\u001b[43mapply_with_block\u001b[49m\u001b[43m(\u001b[49m\u001b[33;43m\"\u001b[39;49m\u001b[33;43mshift\u001b[39;49m\u001b[33;43m\"\u001b[39;49m\u001b[43m,\u001b[49m\u001b[43m \u001b[49m\u001b[43mperiods\u001b[49m\u001b[43m=\u001b[49m\u001b[43mperiods\u001b[49m\u001b[43m,\u001b[49m\u001b[43m \u001b[49m\u001b[43mfill_value\u001b[49m\u001b[43m=\u001b[49m\u001b[43mfill_value\u001b[49m\u001b[43m)\u001b[49m\n",
      "\u001b[36mFile \u001b[39m\u001b[32mc:\\Users\\jaesc2\\Miniconda3\\envs\\skforecast_py11_2\\Lib\\site-packages\\pandas\\core\\internals\\managers.py:363\u001b[39m, in \u001b[36mBaseBlockManager.apply\u001b[39m\u001b[34m(self, f, align_keys, **kwargs)\u001b[39m\n\u001b[32m    361\u001b[39m         applied = b.apply(f, **kwargs)\n\u001b[32m    362\u001b[39m     \u001b[38;5;28;01melse\u001b[39;00m:\n\u001b[32m--> \u001b[39m\u001b[32m363\u001b[39m         applied = \u001b[38;5;28;43mgetattr\u001b[39;49m\u001b[43m(\u001b[49m\u001b[43mb\u001b[49m\u001b[43m,\u001b[49m\u001b[43m \u001b[49m\u001b[43mf\u001b[49m\u001b[43m)\u001b[49m\u001b[43m(\u001b[49m\u001b[43m*\u001b[49m\u001b[43m*\u001b[49m\u001b[43mkwargs\u001b[49m\u001b[43m)\u001b[49m\n\u001b[32m    364\u001b[39m     result_blocks = extend_blocks(applied, result_blocks)\n\u001b[32m    366\u001b[39m out = \u001b[38;5;28mtype\u001b[39m(\u001b[38;5;28mself\u001b[39m).from_blocks(result_blocks, \u001b[38;5;28mself\u001b[39m.axes)\n",
      "\u001b[36mFile \u001b[39m\u001b[32mc:\\Users\\jaesc2\\Miniconda3\\envs\\skforecast_py11_2\\Lib\\site-packages\\pandas\\core\\internals\\blocks.py:1860\u001b[39m, in \u001b[36mBlock.shift\u001b[39m\u001b[34m(self, periods, fill_value)\u001b[39m\n\u001b[32m   1858\u001b[39m \u001b[38;5;28;01mexcept\u001b[39;00m LossySetitemError:\n\u001b[32m   1859\u001b[39m     nb = \u001b[38;5;28mself\u001b[39m.coerce_to_target_dtype(fill_value)\n\u001b[32m-> \u001b[39m\u001b[32m1860\u001b[39m     \u001b[38;5;28;01mreturn\u001b[39;00m \u001b[43mnb\u001b[49m\u001b[43m.\u001b[49m\u001b[43mshift\u001b[49m\u001b[43m(\u001b[49m\u001b[43mperiods\u001b[49m\u001b[43m,\u001b[49m\u001b[43m \u001b[49m\u001b[43mfill_value\u001b[49m\u001b[43m=\u001b[49m\u001b[43mfill_value\u001b[49m\u001b[43m)\u001b[49m\n\u001b[32m   1862\u001b[39m \u001b[38;5;28;01melse\u001b[39;00m:\n\u001b[32m   1863\u001b[39m     values = cast(np.ndarray, \u001b[38;5;28mself\u001b[39m.values)\n",
      "\u001b[36mFile \u001b[39m\u001b[32mc:\\Users\\jaesc2\\Miniconda3\\envs\\skforecast_py11_2\\Lib\\site-packages\\pandas\\core\\internals\\blocks.py:1864\u001b[39m, in \u001b[36mBlock.shift\u001b[39m\u001b[34m(self, periods, fill_value)\u001b[39m\n\u001b[32m   1862\u001b[39m \u001b[38;5;28;01melse\u001b[39;00m:\n\u001b[32m   1863\u001b[39m     values = cast(np.ndarray, \u001b[38;5;28mself\u001b[39m.values)\n\u001b[32m-> \u001b[39m\u001b[32m1864\u001b[39m     new_values = \u001b[43mshift\u001b[49m\u001b[43m(\u001b[49m\u001b[43mvalues\u001b[49m\u001b[43m,\u001b[49m\u001b[43m \u001b[49m\u001b[43mperiods\u001b[49m\u001b[43m,\u001b[49m\u001b[43m \u001b[49m\u001b[43maxis\u001b[49m\u001b[43m,\u001b[49m\u001b[43m \u001b[49m\u001b[43mcasted\u001b[49m\u001b[43m)\u001b[49m\n\u001b[32m   1865\u001b[39m     \u001b[38;5;28;01mreturn\u001b[39;00m [\u001b[38;5;28mself\u001b[39m.make_block_same_class(new_values)]\n",
      "\u001b[36mFile \u001b[39m\u001b[32mc:\\Users\\jaesc2\\Miniconda3\\envs\\skforecast_py11_2\\Lib\\site-packages\\pandas\\core\\array_algos\\transforms.py:35\u001b[39m, in \u001b[36mshift\u001b[39m\u001b[34m(values, periods, axis, fill_value)\u001b[39m\n\u001b[32m     30\u001b[39m     axis = new_values.ndim - axis - \u001b[32m1\u001b[39m\n\u001b[32m     32\u001b[39m \u001b[38;5;28;01mif\u001b[39;00m new_values.size:\n\u001b[32m     33\u001b[39m     new_values = np.roll(\n\u001b[32m     34\u001b[39m         new_values,\n\u001b[32m---> \u001b[39m\u001b[32m35\u001b[39m         \u001b[43mnp\u001b[49m\u001b[43m.\u001b[49m\u001b[43mintp\u001b[49m\u001b[43m(\u001b[49m\u001b[43mperiods\u001b[49m\u001b[43m)\u001b[49m,\n\u001b[32m     36\u001b[39m         axis=axis,\n\u001b[32m     37\u001b[39m     )\n\u001b[32m     39\u001b[39m axis_indexer = [\u001b[38;5;28mslice\u001b[39m(\u001b[38;5;28;01mNone\u001b[39;00m)] * values.ndim\n\u001b[32m     40\u001b[39m \u001b[38;5;28;01mif\u001b[39;00m periods > \u001b[32m0\u001b[39m:\n",
      "\u001b[31mTypeError\u001b[39m: int() argument must be a string, a bytes-like object or a real number, not 'pandas._libs.tslibs.offsets.MonthEnd'"
     ]
    }
   ],
   "source": [
    "y = pd.Series(\n",
    "    np.arange(100), \n",
    "    index=pd.date_range(start='2000-01-01', periods=100, freq='D')\n",
    ")\n",
    "\n",
    "n_offsets = 3\n",
    "offset    = pd.offsets.DateOffset(days=2)\n",
    "window_size = 6\n",
    "\n",
    "n_offsets = 2\n",
    "offset    = pd.offsets.MonthEnd(1)\n",
    "window_size = 2\n",
    "\n",
    "y_pred = [\n",
    "    y.shift(offset * n_off)[window_size:]\n",
    "    for n_off in range(1, n_offsets + 1)\n",
    "]"
   ]
  },
  {
   "cell_type": "code",
   "execution_count": 79,
   "metadata": {},
   "outputs": [
    {
     "data": {
      "text/plain": [
       "array([[ 4.,  2.,  0.],\n",
       "       [ 5.,  3.,  1.],\n",
       "       [ 6.,  4.,  2.],\n",
       "       [ 7.,  5.,  3.],\n",
       "       [ 8.,  6.,  4.],\n",
       "       [ 9.,  7.,  5.],\n",
       "       [10.,  8.,  6.],\n",
       "       [11.,  9.,  7.],\n",
       "       [12., 10.,  8.],\n",
       "       [13., 11.,  9.],\n",
       "       [14., 12., 10.],\n",
       "       [15., 13., 11.],\n",
       "       [16., 14., 12.],\n",
       "       [17., 15., 13.],\n",
       "       [18., 16., 14.],\n",
       "       [19., 17., 15.],\n",
       "       [20., 18., 16.],\n",
       "       [21., 19., 17.],\n",
       "       [22., 20., 18.],\n",
       "       [23., 21., 19.],\n",
       "       [24., 22., 20.],\n",
       "       [25., 23., 21.],\n",
       "       [26., 24., 22.],\n",
       "       [27., 25., 23.],\n",
       "       [28., 26., 24.],\n",
       "       [29., 27., 25.],\n",
       "       [30., 28., 26.],\n",
       "       [31., 29., 27.],\n",
       "       [32., 30., 28.],\n",
       "       [33., 31., 29.],\n",
       "       [34., 32., 30.],\n",
       "       [35., 33., 31.],\n",
       "       [36., 34., 32.],\n",
       "       [37., 35., 33.],\n",
       "       [38., 36., 34.],\n",
       "       [39., 37., 35.],\n",
       "       [40., 38., 36.],\n",
       "       [41., 39., 37.],\n",
       "       [42., 40., 38.],\n",
       "       [43., 41., 39.],\n",
       "       [44., 42., 40.],\n",
       "       [45., 43., 41.],\n",
       "       [46., 44., 42.],\n",
       "       [47., 45., 43.],\n",
       "       [48., 46., 44.],\n",
       "       [49., 47., 45.],\n",
       "       [50., 48., 46.],\n",
       "       [51., 49., 47.],\n",
       "       [52., 50., 48.],\n",
       "       [53., 51., 49.],\n",
       "       [54., 52., 50.],\n",
       "       [55., 53., 51.],\n",
       "       [56., 54., 52.],\n",
       "       [57., 55., 53.],\n",
       "       [58., 56., 54.],\n",
       "       [59., 57., 55.],\n",
       "       [60., 58., 56.],\n",
       "       [61., 59., 57.],\n",
       "       [62., 60., 58.],\n",
       "       [63., 61., 59.],\n",
       "       [64., 62., 60.],\n",
       "       [65., 63., 61.],\n",
       "       [66., 64., 62.],\n",
       "       [67., 65., 63.],\n",
       "       [68., 66., 64.],\n",
       "       [69., 67., 65.],\n",
       "       [70., 68., 66.],\n",
       "       [71., 69., 67.],\n",
       "       [72., 70., 68.],\n",
       "       [73., 71., 69.],\n",
       "       [74., 72., 70.],\n",
       "       [75., 73., 71.],\n",
       "       [76., 74., 72.],\n",
       "       [77., 75., 73.],\n",
       "       [78., 76., 74.],\n",
       "       [79., 77., 75.],\n",
       "       [80., 78., 76.],\n",
       "       [81., 79., 77.],\n",
       "       [82., 80., 78.],\n",
       "       [83., 81., 79.],\n",
       "       [84., 82., 80.],\n",
       "       [85., 83., 81.],\n",
       "       [86., 84., 82.],\n",
       "       [87., 85., 83.],\n",
       "       [88., 86., 84.],\n",
       "       [89., 87., 85.],\n",
       "       [90., 88., 86.],\n",
       "       [91., 89., 87.],\n",
       "       [92., 90., 88.],\n",
       "       [93., 91., 89.],\n",
       "       [94., 92., 90.],\n",
       "       [95., 93., 91.],\n",
       "       [96., 94., 92.],\n",
       "       [97., 95., 93.]])"
      ]
     },
     "execution_count": 79,
     "metadata": {},
     "output_type": "execute_result"
    }
   ],
   "source": [
    "y_preds = np.column_stack(y_pred)\n",
    "y_preds"
   ]
  },
  {
   "cell_type": "code",
   "execution_count": null,
   "metadata": {},
   "outputs": [],
   "source": [
    "\n",
    "y_pred = np.apply_along_axis(\n",
    "                     np.mean,\n",
    "                     axis = 1,\n",
    "                     arr  = y_preds\n",
    "                 )\n",
    "y_pred"
   ]
  },
  {
   "cell_type": "code",
   "execution_count": null,
   "metadata": {},
   "outputs": [],
   "source": []
  },
  {
   "cell_type": "code",
   "execution_count": null,
   "metadata": {},
   "outputs": [],
   "source": []
  },
  {
   "cell_type": "code",
   "execution_count": 68,
   "metadata": {},
   "outputs": [
    {
     "data": {
      "text/plain": [
       "2000-01-01     0\n",
       "2000-01-02     1\n",
       "2000-01-03     2\n",
       "2000-01-04     3\n",
       "2000-01-05     4\n",
       "              ..\n",
       "2000-04-05    95\n",
       "2000-04-06    96\n",
       "2000-04-07    97\n",
       "2000-04-08    98\n",
       "2000-04-09    99\n",
       "Freq: D, Length: 100, dtype: int64"
      ]
     },
     "execution_count": 68,
     "metadata": {},
     "output_type": "execute_result"
    }
   ],
   "source": [
    "y"
   ]
  },
  {
   "cell_type": "code",
   "execution_count": 69,
   "metadata": {},
   "outputs": [
    {
     "data": {
      "text/plain": [
       "2000-01-03     0.0\n",
       "2000-01-04     1.0\n",
       "2000-01-05     1.0\n",
       "2000-01-06     2.0\n",
       "2000-01-07     2.0\n",
       "              ... \n",
       "2000-04-05    91.0\n",
       "2000-04-06    92.0\n",
       "2000-04-07    93.0\n",
       "2000-04-08    94.0\n",
       "2000-04-09    95.0\n",
       "Freq: D, Length: 98, dtype: float64"
      ]
     },
     "execution_count": 69,
     "metadata": {},
     "output_type": "execute_result"
    }
   ],
   "source": [
    "pd.concat(y_preds, axis=1).mean(axis=1)"
   ]
  },
  {
   "cell_type": "code",
   "execution_count": 92,
   "metadata": {},
   "outputs": [
    {
     "name": "stdout",
     "output_type": "stream",
     "text": [
      "-2\n",
      "2000-02-29    4\n",
      "2000-02-29    4\n",
      "dtype: int64\n",
      "0\n",
      "Series([], dtype: int64)\n"
     ]
    },
    {
     "ename": "ValueError",
     "evalue": "Length mismatch: Expected axis has 0 elements, new values have 7 elements",
     "output_type": "error",
     "traceback": [
      "\u001b[31m---------------------------------------------------------------------------\u001b[39m",
      "\u001b[31mValueError\u001b[39m                                Traceback (most recent call last)",
      "\u001b[36mCell\u001b[39m\u001b[36m \u001b[39m\u001b[32mIn[92]\u001b[39m\u001b[32m, line 17\u001b[39m\n\u001b[32m     15\u001b[39m \u001b[38;5;28mprint\u001b[39m(-mask.sum())\n\u001b[32m     16\u001b[39m \u001b[38;5;28mprint\u001b[39m(y_pred)\n\u001b[32m---> \u001b[39m\u001b[32m17\u001b[39m \u001b[43my_pred\u001b[49m\u001b[43m.\u001b[49m\u001b[43mindex\u001b[49m = y.index[-mask.sum():]\n\u001b[32m     18\u001b[39m y_preds.append(y_pred)\n",
      "\u001b[36mFile \u001b[39m\u001b[32mc:\\Users\\jaesc2\\Miniconda3\\envs\\skforecast_py11_2\\Lib\\site-packages\\pandas\\core\\generic.py:6313\u001b[39m, in \u001b[36mNDFrame.__setattr__\u001b[39m\u001b[34m(self, name, value)\u001b[39m\n\u001b[32m   6311\u001b[39m \u001b[38;5;28;01mtry\u001b[39;00m:\n\u001b[32m   6312\u001b[39m     \u001b[38;5;28mobject\u001b[39m.\u001b[34m__getattribute__\u001b[39m(\u001b[38;5;28mself\u001b[39m, name)\n\u001b[32m-> \u001b[39m\u001b[32m6313\u001b[39m     \u001b[38;5;28;01mreturn\u001b[39;00m \u001b[38;5;28;43mobject\u001b[39;49m\u001b[43m.\u001b[49m\u001b[34;43m__setattr__\u001b[39;49m\u001b[43m(\u001b[49m\u001b[38;5;28;43mself\u001b[39;49m\u001b[43m,\u001b[49m\u001b[43m \u001b[49m\u001b[43mname\u001b[49m\u001b[43m,\u001b[49m\u001b[43m \u001b[49m\u001b[43mvalue\u001b[49m\u001b[43m)\u001b[49m\n\u001b[32m   6314\u001b[39m \u001b[38;5;28;01mexcept\u001b[39;00m \u001b[38;5;167;01mAttributeError\u001b[39;00m:\n\u001b[32m   6315\u001b[39m     \u001b[38;5;28;01mpass\u001b[39;00m\n",
      "\u001b[36mFile \u001b[39m\u001b[32mproperties.pyx:69\u001b[39m, in \u001b[36mpandas._libs.properties.AxisProperty.__set__\u001b[39m\u001b[34m()\u001b[39m\n",
      "\u001b[36mFile \u001b[39m\u001b[32mc:\\Users\\jaesc2\\Miniconda3\\envs\\skforecast_py11_2\\Lib\\site-packages\\pandas\\core\\generic.py:814\u001b[39m, in \u001b[36mNDFrame._set_axis\u001b[39m\u001b[34m(self, axis, labels)\u001b[39m\n\u001b[32m    809\u001b[39m \u001b[38;5;250m\u001b[39m\u001b[33;03m\"\"\"\u001b[39;00m\n\u001b[32m    810\u001b[39m \u001b[33;03mThis is called from the cython code when we set the `index` attribute\u001b[39;00m\n\u001b[32m    811\u001b[39m \u001b[33;03mdirectly, e.g. `series.index = [1, 2, 3]`.\u001b[39;00m\n\u001b[32m    812\u001b[39m \u001b[33;03m\"\"\"\u001b[39;00m\n\u001b[32m    813\u001b[39m labels = ensure_index(labels)\n\u001b[32m--> \u001b[39m\u001b[32m814\u001b[39m \u001b[38;5;28;43mself\u001b[39;49m\u001b[43m.\u001b[49m\u001b[43m_mgr\u001b[49m\u001b[43m.\u001b[49m\u001b[43mset_axis\u001b[49m\u001b[43m(\u001b[49m\u001b[43maxis\u001b[49m\u001b[43m,\u001b[49m\u001b[43m \u001b[49m\u001b[43mlabels\u001b[49m\u001b[43m)\u001b[49m\n\u001b[32m    815\u001b[39m \u001b[38;5;28mself\u001b[39m._clear_item_cache()\n",
      "\u001b[36mFile \u001b[39m\u001b[32mc:\\Users\\jaesc2\\Miniconda3\\envs\\skforecast_py11_2\\Lib\\site-packages\\pandas\\core\\internals\\managers.py:238\u001b[39m, in \u001b[36mBaseBlockManager.set_axis\u001b[39m\u001b[34m(self, axis, new_labels)\u001b[39m\n\u001b[32m    236\u001b[39m \u001b[38;5;28;01mdef\u001b[39;00m\u001b[38;5;250m \u001b[39m\u001b[34mset_axis\u001b[39m(\u001b[38;5;28mself\u001b[39m, axis: AxisInt, new_labels: Index) -> \u001b[38;5;28;01mNone\u001b[39;00m:\n\u001b[32m    237\u001b[39m     \u001b[38;5;66;03m# Caller is responsible for ensuring we have an Index object.\u001b[39;00m\n\u001b[32m--> \u001b[39m\u001b[32m238\u001b[39m     \u001b[38;5;28;43mself\u001b[39;49m\u001b[43m.\u001b[49m\u001b[43m_validate_set_axis\u001b[49m\u001b[43m(\u001b[49m\u001b[43maxis\u001b[49m\u001b[43m,\u001b[49m\u001b[43m \u001b[49m\u001b[43mnew_labels\u001b[49m\u001b[43m)\u001b[49m\n\u001b[32m    239\u001b[39m     \u001b[38;5;28mself\u001b[39m.axes[axis] = new_labels\n",
      "\u001b[36mFile \u001b[39m\u001b[32mc:\\Users\\jaesc2\\Miniconda3\\envs\\skforecast_py11_2\\Lib\\site-packages\\pandas\\core\\internals\\base.py:98\u001b[39m, in \u001b[36mDataManager._validate_set_axis\u001b[39m\u001b[34m(self, axis, new_labels)\u001b[39m\n\u001b[32m     95\u001b[39m     \u001b[38;5;28;01mpass\u001b[39;00m\n\u001b[32m     97\u001b[39m \u001b[38;5;28;01melif\u001b[39;00m new_len != old_len:\n\u001b[32m---> \u001b[39m\u001b[32m98\u001b[39m     \u001b[38;5;28;01mraise\u001b[39;00m \u001b[38;5;167;01mValueError\u001b[39;00m(\n\u001b[32m     99\u001b[39m         \u001b[33mf\u001b[39m\u001b[33m\"\u001b[39m\u001b[33mLength mismatch: Expected axis has \u001b[39m\u001b[38;5;132;01m{\u001b[39;00mold_len\u001b[38;5;132;01m}\u001b[39;00m\u001b[33m elements, new \u001b[39m\u001b[33m\"\u001b[39m\n\u001b[32m    100\u001b[39m         \u001b[33mf\u001b[39m\u001b[33m\"\u001b[39m\u001b[33mvalues have \u001b[39m\u001b[38;5;132;01m{\u001b[39;00mnew_len\u001b[38;5;132;01m}\u001b[39;00m\u001b[33m elements\u001b[39m\u001b[33m\"\u001b[39m\n\u001b[32m    101\u001b[39m     )\n",
      "\u001b[31mValueError\u001b[39m: Length mismatch: Expected axis has 0 elements, new values have 7 elements"
     ]
    }
   ],
   "source": [
    "y = pd.Series(\n",
    "        np.arange(7), \n",
    "        index=pd.date_range(start='2000-02-25', periods=7, freq='D')\n",
    "    )\n",
    "\n",
    "n_offsets = 2\n",
    "offset    = pd.offsets.MonthEnd(1)\n",
    "window_size = 2\n",
    "\n",
    "y_preds = []\n",
    "for n_off in range(1, n_offsets + 1):\n",
    "    idx = y.index - offset * n_off\n",
    "    mask = idx >= y.index[0]\n",
    "    y_pred = y.loc[idx[mask]]\n",
    "    print(-mask.sum())\n",
    "    print(y_pred)\n",
    "    y_pred.index = y.index[-mask.sum():]\n",
    "    y_preds.append(y_pred)"
   ]
  },
  {
   "cell_type": "code",
   "execution_count": 98,
   "metadata": {},
   "outputs": [],
   "source": [
    "y = pd.Series(\n",
    "        np.arange(10), \n",
    "        index=pd.date_range(start='2000-02-25', periods=10, freq='D')\n",
    "    )\n",
    "\n",
    "n_offsets = 2\n",
    "offset    = pd.offsets.DateOffset(days=2)\n",
    "window_size = 4\n",
    "\n",
    "y_preds = []\n",
    "for n_off in range(1, n_offsets + 1):\n",
    "    idx = y.index - offset * n_off\n",
    "    mask = idx >= y.index[0]\n",
    "    y_pred = y.loc[idx[mask]]\n",
    "    y_pred.index = y.index[-mask.sum():]\n",
    "    y_preds.append(y_pred)"
   ]
  },
  {
   "cell_type": "code",
   "execution_count": 99,
   "metadata": {},
   "outputs": [
    {
     "data": {
      "text/plain": [
       "array([[ 0., nan],\n",
       "       [ 1., nan],\n",
       "       [ 2.,  0.],\n",
       "       [ 3.,  1.],\n",
       "       [ 4.,  2.],\n",
       "       [ 5.,  3.],\n",
       "       [ 6.,  4.],\n",
       "       [ 7.,  5.]])"
      ]
     },
     "execution_count": 99,
     "metadata": {},
     "output_type": "execute_result"
    }
   ],
   "source": [
    "y_preds = pd.concat(y_preds, axis=1).to_numpy()\n",
    "y_preds"
   ]
  },
  {
   "cell_type": "code",
   "execution_count": 104,
   "metadata": {},
   "outputs": [
    {
     "data": {
      "text/plain": [
       "array([2, 3, 4, 5, 6, 7, 8, 9])"
      ]
     },
     "execution_count": 104,
     "metadata": {},
     "output_type": "execute_result"
    }
   ],
   "source": [
    "y.to_numpy()[-len(y_preds):]"
   ]
  },
  {
   "cell_type": "code",
   "execution_count": 102,
   "metadata": {},
   "outputs": [
    {
     "data": {
      "text/plain": [
       "array([nan, nan,  1.,  2.,  3.,  4.,  5.,  6.])"
      ]
     },
     "execution_count": 102,
     "metadata": {},
     "output_type": "execute_result"
    }
   ],
   "source": [
    "np.apply_along_axis(\n",
    "                     np.mean,\n",
    "                     axis = 1,\n",
    "                     arr  = y_preds\n",
    "                 )"
   ]
  },
  {
   "cell_type": "code",
   "execution_count": null,
   "metadata": {},
   "outputs": [],
   "source": []
  },
  {
   "cell_type": "code",
   "execution_count": null,
   "metadata": {},
   "outputs": [],
   "source": [
    "y = pd.Series(\n",
    "    np.random.rand(10), index=pd.date_range(start='1/1/2021', periods=10)\n",
    ")"
   ]
  },
  {
   "cell_type": "code",
   "execution_count": 106,
   "metadata": {},
   "outputs": [
    {
     "data": {
      "text/plain": [
       "[Series([], Freq: D, dtype: float64), Series([], Freq: D, dtype: float64)]"
      ]
     },
     "execution_count": 106,
     "metadata": {},
     "output_type": "execute_result"
    }
   ],
   "source": [
    "y_preds = [\n",
    "    y.shift(5 * n_off)[10:]\n",
    "    for n_off in range(1, 2 + 1)\n",
    "]\n",
    "y_preds"
   ]
  },
  {
   "cell_type": "code",
   "execution_count": 4,
   "metadata": {},
   "outputs": [
    {
     "name": "stdout",
     "output_type": "stream",
     "text": [
      "{0: (19.5, 19.5), 1: (19.5, 19.5), 2: (19.5, 19.5), 3: (19.5, 19.5), 4: (19.5, 19.5), 5: (19.5, 19.5), 6: (19.5, 19.5), 7: (19.5, 19.5), 8: (19.5, 19.5), 9: (19.5, 19.5)}\n"
     ]
    },
    {
     "data": {
      "text/plain": [
       "{9: array([16.5, 17.5, 18.5, 19.5, 20.5, 21.5, 22.5, 23.5, 24.5, 25.5, 26.5,\n",
       "        27.5, 28.5, 29.5, 30.5]),\n",
       " 0: array([23.5, 28.5, 18.5, 29.5, 21.5, 30.5, 17.5, 20.5, 16.5, 24.5, 27.5,\n",
       "        25.5, 26.5, 19.5, 22.5]),\n",
       " 1: array([22.5, 24.5, 20.5, 23.5, 25.5, 26.5, 29.5, 17.5, 30.5, 27.5, 28.5,\n",
       "        21.5, 16.5, 18.5, 19.5]),\n",
       " 2: array([28.5, 26.5, 17.5, 16.5, 30.5, 22.5, 29.5, 18.5, 27.5, 24.5, 20.5,\n",
       "        25.5, 21.5, 19.5, 23.5]),\n",
       " 3: array([27.5, 29.5, 23.5, 20.5, 21.5, 25.5, 24.5, 16.5, 19.5, 28.5, 18.5,\n",
       "        17.5, 30.5, 22.5, 26.5]),\n",
       " 4: array([24.5, 25.5, 17.5, 21.5, 29.5, 23.5, 18.5, 19.5, 26.5, 16.5, 27.5,\n",
       "        20.5, 30.5, 22.5, 28.5]),\n",
       " 5: array([28.5, 29.5, 25.5, 23.5, 27.5, 24.5, 22.5, 16.5, 20.5, 19.5, 18.5,\n",
       "        21.5, 30.5, 26.5, 17.5]),\n",
       " 6: array([19.5, 28.5, 30.5, 22.5, 29.5, 25.5, 16.5, 17.5, 21.5, 18.5, 24.5,\n",
       "        23.5, 26.5, 27.5, 20.5]),\n",
       " 7: array([19.5, 28.5, 29.5, 25.5, 20.5, 16.5, 17.5, 21.5, 30.5, 18.5, 26.5,\n",
       "        27.5, 23.5, 24.5, 22.5]),\n",
       " 8: array([18.5, 22.5, 30.5, 23.5, 16.5, 24.5, 19.5, 25.5, 29.5, 28.5, 17.5,\n",
       "        27.5, 21.5, 20.5, 26.5])}"
      ]
     },
     "execution_count": 4,
     "metadata": {},
     "output_type": "execute_result"
    }
   ],
   "source": [
    "y = pd.Series(\n",
    "    np.arange(51), \n",
    "    index=pd.date_range(start='2000-02-25', periods=51, freq='D')\n",
    ")\n",
    "\n",
    "forecaster = ForecasterEquivalentDate(\n",
    "                    offset    = pd.offsets.MonthEnd(1),\n",
    "                    n_offsets = 2,\n",
    "                    agg_func  = np.mean\n",
    "                )\n",
    "forecaster.fit(y=y, store_in_sample_residuals=True)\n",
    "print(forecaster.binner_intervals_)\n",
    "forecaster.in_sample_residuals_by_bin_"
   ]
  },
  {
   "cell_type": "code",
   "execution_count": null,
   "metadata": {},
   "outputs": [],
   "source": []
  }
 ],
 "metadata": {
  "kernelspec": {
   "display_name": "skforecast_py11_2",
   "language": "python",
   "name": "python3"
  },
  "language_info": {
   "codemirror_mode": {
    "name": "ipython",
    "version": 3
   },
   "file_extension": ".py",
   "mimetype": "text/x-python",
   "name": "python",
   "nbconvert_exporter": "python",
   "pygments_lexer": "ipython3",
   "version": "3.11.10"
  },
  "orig_nbformat": 4
 },
 "nbformat": 4,
 "nbformat_minor": 2
}
