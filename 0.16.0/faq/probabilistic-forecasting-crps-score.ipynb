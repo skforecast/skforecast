{
 "cells": [
  {
   "cell_type": "markdown",
   "metadata": {},
   "source": [
    "# Continuous Ranked Probability Score (CRPS) in probabilistic forecasting"
   ]
  },
  {
   "cell_type": "markdown",
   "metadata": {},
   "source": [
    "In point estimate forecasting, the model outputs a single value that ideally represents the most likely value of the time series at future steps. In this scenario, the quality of the predictions can be assessed by comparing the predicted value with the true value of the series. Examples of metrics used for this purpose are the Mean Absolute Error (MAE) and the Root Mean Squared Error (RMSE).\n",
    "\n",
    "In probabilistic forecasting, however, the model does not produce a single value, but rather a representation of the entire distribution of possible predicted values. In practice, this is often represented by a sample of the underlying distribution (e.g. 50 possible predicted values) or by specific quantiles that capture most of the information in the distribution.\n",
    "\n",
    "One of the main applications of probabilistic forecasting is the estimation of prediction intervals - ranges within which the actual value is expected to fall with a certain probability. In this case, the model should aim to achieve the desired coverage (e.g. 80%) while minimising the width of the prediction interval.\n",
    "\n",
    "The Continuous Ranked Probability Score (CRPS) is a generalisation of the Mean Absolute Error (MAE) tailored to probabilistic forecasting. Unlike the MAE, which compares point predictions to observations, the CRPS evaluates the accuracy of an entire predicted probability distribution against the observed value. It does this by comparing the empirical cumulative distribution function (CDF) of the predicted values with the step-function CDF of the true value. \n",
    "\n",
    "Two key components of the CRPS are the empirical CDF of the predicted values, 𝐹(𝑦), and the CDF of the observed value, 𝐻(𝑦). The CRPS is then calculated as the integral of the squared difference between these two functions over the entire real line:\n",
    "\n",
    "+ Empirical CDF of the forecast, $F(y)$: This is constructed from the ensemble of predicted values. Each predicted value contributes a \"step\" in the cumulative distribution. The predicted values are therefore treated  as a sample of the underlying probability distribution.\n",
    "\n",
    "+ CDF of the observed Value, $H(y)$: This is a step function that transitions from 0 to 1 at the true observed value. It represents the probability that the observed value falls below a given threshold.\n",
    "\n",
    "The CRPS measures the area between the two CDFs, $F(y)$ and $H(y)$, across all possible values of $y$. Mathematically, it is expressed as:\n",
    "\n",
    "\n",
    "$$\\text{CRPS}(F, H) = \\int_{-\\infty}^{\\infty} \\big(F(y) - H(y)\\big)^2 \\, dy$$\n",
    "\n",
    "\n",
    "This integral quantifies the squared difference between the forecasted and observed distributions. \n",
    "\n",
    "The CRPS can be computed for a single observation or for a set of observations. In the latter case, the CRPS is averaged over all observations to provide a summary measure of the model's performance.\n",
    "\n",
    "CRPS is widely used in probabilistic forecasting because it provides a unified framework for evaluating both the sharpness (narrowness) and calibration (accuracy) of predictive distributions. By doing so, it ensures that models are not only accurate in their point predictions but also appropriately represent uncertainty. Smaller values of CRPS indicate a better match between the forecast and the observed outcome."
   ]
  },
  {
   "cell_type": "markdown",
   "metadata": {},
   "source": [
    "<p style=\"text-align: center\">\n",
    "<img src=\"../img/crps.gif\" style=\"width: 600px;\">\n",
    "<br>\n",
    "<font size=\"2.5\"> <i>Example of CRPS calculation</i> </font>\n",
    "</p>"
   ]
  },
  {
   "cell_type": "markdown",
   "metadata": {},
   "source": [
    "## CRPS and Skforecast"
   ]
  },
  {
   "cell_type": "markdown",
   "metadata": {},
   "source": [
    "Skforecast provides different output options for probabilistic forecasting, two of which are:\n",
    "\n",
    "- **`predict_bootstrapping`**: Returns multiple predicted values for each forecasted step. Each value is a variation of the forecast generated through bootstrapping. For a given step \\(i\\), \\(n\\) predictions are estimated.\n",
    "\n",
    "- **`predict_quantile`**: Returns the estimated values for multiple quantiles. Internally, the forecaster uses `predict_bootstrapping` and then calculates the desired quantiles.\n",
    "\n",
    "For both outputs, the CRPS (Continuous Ranked Probability Score) can be calculated to evaluate the forecasting performance of the model.\n"
   ]
  },
  {
   "cell_type": "markdown",
   "metadata": {},
   "source": [
    "<div class=\"admonition note\" name=\"html-admonition\" style=\"background: rgba(0,191,191,.1); padding-top: 0px; padding-bottom: 6px; border-radius: 8px; border-left: 8px solid #00bfa5; border-color: #00bfa5; padding-left: 10px; padding-right: 10px;\">\n",
    "\n",
    "<p class=\"title\">\n",
    "    <i style=\"font-size: 18px; color:#00bfa5;\"></i>\n",
    "    <b style=\"color: #00bfa5;\">&#128161 Tip</b>\n",
    "</p>\n",
    "\n",
    "<p>For more examples on how to use probabilistic forecasting, check out the following articles:</p>\n",
    "<ul>\n",
    "    <li>\n",
    "        <a href=\"https://cienciadedatos.net/documentos/py42-probabilistic-forecasting\" target=\"_blank\">\n",
    "            Probabilistic forecasting with machine learning\n",
    "        </a>\n",
    "    </li>\n",
    "    <li>\n",
    "        <a href=\"https://cienciadedatos.net/documentos/py60-probabilistic-forecasting-prediction-intervals-multi-step-forecasting\" target=\"_blank\">\n",
    "            Probabilistic forecasting: prediction intervals for multi-step time series forecasting\n",
    "        </a>\n",
    "    </li>\n",
    "    <li>\n",
    "        <a href=\"../faq/probabilistic-forecasting-crps-score.html\" target=\"_blank\">\n",
    "            Continuous Ranked Probability Score (CRPS) in probabilistic forecasting\n",
    "        </a>\n",
    "    </li>\n",
    "</ul>\n",
    "\n",
    "\n",
    "</div>"
   ]
  },
  {
   "cell_type": "markdown",
   "metadata": {},
   "source": [
    "## CRPS from a sample of predictions"
   ]
  },
  {
   "cell_type": "markdown",
   "metadata": {},
   "source": [
    "The Continuous Ranked Probability Score (CRPS) is calculated by comparing the empirical cumulative distribution function (ECDF) of the forecasted values to the step function CDF of the true value. When the available information consists of the true value (`y_true`) and a sample of predictions (`y_pred`), the CRPS can be calculated by following these steps:\n",
    "\n",
    "1. Generate the Empirical Cumulative Distribution Function (ECDF) of the predictions:\n",
    "   - Sort the predictions.\n",
    "   - Use each sorted prediction as a step in the ECDF.\n",
    "\n",
    "2. Generate the Cumulative Distribution Function (CDF) of the true value:\n",
    "   - Since there is only a single true value, this is represented as a step function that jumps from 0 to 1 at the observed value (`y_true`).\n",
    "\n",
    "3. Calculate the CRPS by integrating the area between both curves:\n",
    "   - Create a grid of values to evaluate the ECDF. This grid is the combination of the predictions and the true value.\n",
    "   - Compute the squared differences between the forecasted ECDF and the true CDF, and then summing the areas between the two curves."
   ]
  },
  {
   "cell_type": "code",
   "execution_count": 1,
   "metadata": {},
   "outputs": [
    {
     "name": "stderr",
     "output_type": "stream",
     "text": [
      "WARNING (pytensor.configdefaults): g++ not detected!  PyTensor will be unable to compile C-implementations and will default to Python. Performance may be severely degraded. To remove this warning, set PyTensor flags cxx to an empty string.\n"
     ]
    }
   ],
   "source": [
    "# Libraries\n",
    "# ======================================================================================\n",
    "import pandas as pd\n",
    "import numpy as np\n",
    "from skforecast.metrics import crps_from_predictions\n",
    "from skforecast.metrics import crps_from_quantiles\n",
    "from scipy.interpolate import interp1d\n",
    "import properscoring as ps\n",
    "from CRPS import CRPS\n",
    "from pymc_marketing.metrics import crps"
   ]
  },
  {
   "cell_type": "code",
   "execution_count": 2,
   "metadata": {},
   "outputs": [
    {
     "data": {
      "text/plain": [
       "2.1767579851785803"
      ]
     },
     "execution_count": 2,
     "metadata": {},
     "output_type": "execute_result"
    }
   ],
   "source": [
    "# Simulate data: true value and and array of 100 predicted values for the same true value\n",
    "# ======================================================================================\n",
    "y_true = 500\n",
    "y_pred = np.random.normal(500, 10, 100)\n",
    "crps_from_predictions(y_true, y_pred)"
   ]
  },
  {
   "cell_type": "markdown",
   "metadata": {},
   "source": [
    "The result of <code>skforecast.metrics.crps_from_predictions</code> is compared with other implemented functions in the `properscoring`, `CRPS` and `pymc_marketing` libraries."
   ]
  },
  {
   "cell_type": "code",
   "execution_count": 3,
   "metadata": {},
   "outputs": [
    {
     "name": "stdout",
     "output_type": "stream",
     "text": [
      "properscoring : 2.1767579851785785\n",
      "CRPS          : 2.1767579851785803\n",
      "pymc-marketing: 2.1767579851785808\n"
     ]
    }
   ],
   "source": [
    "# properscoring, CRPS, pymc-mar\n",
    "# ==============================================================================\n",
    "print(f\"properscoring : {ps.crps_ensemble(y_true, y_pred)}\")\n",
    "print(f\"CRPS          : {CRPS(y_pred, y_true).compute()[0]}\")\n",
    "print(f\"pymc-marketing: {crps(y_true, y_pred.reshape(-1, 1))}\")"
   ]
  },
  {
   "cell_type": "markdown",
   "metadata": {},
   "source": [
    "When forecasting multiple steps, the CRPS can be calculated for each step and then averaged to provide a summary measure of the model's performance."
   ]
  },
  {
   "cell_type": "code",
   "execution_count": 4,
   "metadata": {},
   "outputs": [
    {
     "data": {
      "application/vnd.microsoft.datawrangler.viewer.v0+json": {
       "columns": [
        {
         "name": "index",
         "rawType": "int64",
         "type": "integer"
        },
        {
         "name": "y_true",
         "rawType": "float64",
         "type": "float"
        },
        {
         "name": "y_pred",
         "rawType": "object",
         "type": "unknown"
        },
        {
         "name": "crps_from_predictions",
         "rawType": "float64",
         "type": "float"
        },
        {
         "name": "properscoring",
         "rawType": "float64",
         "type": "float"
        },
        {
         "name": "CRPS",
         "rawType": "float64",
         "type": "float"
        },
        {
         "name": "pymc_marqueting",
         "rawType": "float64",
         "type": "float"
        }
       ],
       "conversionMethod": "pd.DataFrame",
       "ref": "8ea931ef-2234-4d4d-ac18-04d5ad54c3b5",
       "rows": [
        [
         "0",
         "90.10878649652149",
         "[ 8.64063779 -1.30800158 12.14969263  4.21762338  1.63120425  1.8046995\n  4.69319336  3.03607539 16.44954974  1.40909426  5.16303872  5.14024948\n  5.14136061  5.27672931  2.59218571  2.0829625   0.68919749 -2.44087307\n  6.08153417  9.92188175  2.28457929  2.2069248   3.41758585  2.69680129\n -2.18134875 11.82554016  7.19499944  1.44152486  6.48585881  2.80771364\n  3.94181283  6.81981916  9.76482246 12.59762065 13.51954724  3.75570646\n  2.50125704  5.49798751  5.64171606  1.32889054  1.89762356  9.0663686\n 13.20900507  3.86749576  1.76017395  3.58314397  0.0243432   3.63564115\n  7.11222071  4.59328519 11.17288799  5.75444016  7.40559764  4.25621234\n 11.57832853 -1.11172801  3.4820433  -0.86844338  9.13136754  9.25161145\n  2.42116203 13.29056659  3.51368702 -1.9168856   3.59397748  6.80010255\n  3.82803993 16.327603    9.27693325 13.65639719 11.92942722 -3.42892339\n  3.11120697 -8.64242843  1.76801632 10.57552128  0.78394452  1.81655781\n  6.63067084  8.93658251  3.21843308  3.72093912  9.04490851  6.27029342\n  3.57356614  6.57251746  5.38060754  6.27316462 15.00615591  3.47396038\n  2.30118571 12.06815397  1.47149678 13.59944738  4.02901097  5.36919759\n  8.66814141 11.06554848  9.98499326  3.98182322]",
         "82.10053800848151",
         "82.10053800848152",
         "82.10053800848151",
         "82.10053800848151"
        ],
        [
         "1",
         "96.32213348532117",
         "[ 3.16785582  6.73736323  5.67359536  1.78863446  7.05364037  9.9705981\n  5.83253352 12.81999859  7.05151065  4.220935    5.50107445  2.19945066\n -0.15648984  7.38264256  0.73374841  3.20854014  4.55399973  6.92552087\n  7.30580993  5.27111771 -4.65653827  3.96703651  1.12230295  4.44326224\n  9.95663081  9.02412146  6.10165134  7.52879899 -2.442041    5.97433733\n  8.12255389  1.46936357  7.02493801  3.09586874 10.00253376 10.54209393\n  2.32608453 12.31461295  4.04959852 15.30972279  2.54222893  5.31878157\n  6.06594709  1.24601976 -3.62689764  1.00198027 10.39802835  3.35666696\n  3.36646697 12.58400952  7.46768896  8.51154179  9.2472433   0.46291015\n  5.62363096  5.75108446  4.20566693 -0.46515905  7.31889878 -3.29231415\n  0.31466617  0.95330928  2.93934156  9.20546298 13.28340216 13.61147662\n  9.03129689  7.19846934 -6.68274433 10.65059823 18.14473283  7.26438216\n  6.17019657  8.49347913  8.64314293  5.67458167  3.13092067  6.80879605\n -1.85894605 -4.41213272 11.8046932   2.70969335  8.57977738 12.77296995\n 11.10140175  2.23303646  6.62377015 -0.83043489  4.47713449 10.23008476\n  5.1601312  -9.25684649 -6.25631704  0.99207215 11.6662083   5.99542631\n  5.70636562 -1.57983592  5.73215826 -6.37586156]",
         "88.41086439790637",
         "88.41086439790638",
         "88.41086439790637",
         "88.41086439790637"
        ],
        [
         "2",
         "112.87925261289249",
         "[ 6.70916092 10.89620186  0.91206337 10.42198039  1.40052309  5.73687377\n  4.32031923  5.46933761 12.63476868  9.40607984  1.61139276 -8.82481113\n  9.47401689  8.81954764  5.82755764  2.20904616 12.9920392  -3.93605933\n  1.07810829 -2.33172643  6.85653547  2.66728741 15.5559519   5.08903216\n  3.80596498  7.863502    1.33901595 -0.41954624  7.67502987  2.55490803\n  9.87987272  6.6738998   5.58210515  5.34225183  4.56844842  7.03764261\n  3.01387008 -4.7885235   5.38900048  2.69701435 -1.88460295  8.90342479\n  3.09877035 -3.72617249  4.62617262  1.62617132 -3.50773616  6.56093327\n -0.25279545  8.591854    0.5125528   9.88523195  7.12711747  5.54304948\n  1.22082307  9.52405317  7.51777763  3.1880037   7.9031865  -0.12791065\n -1.39882927  4.52216767  5.35558388  7.13953296  5.3252341  11.20356735\n -1.45251826  7.84163132  6.12821518 11.78105481  5.62457965  6.58151888\n 13.80641976  8.98145478  8.04277865  3.04933447  5.69475002 -3.26206397\n  0.78137303  8.23496672 -3.89584297  5.46445988  5.08917143  6.94549392\n -3.48148826 -5.15430496 10.54781046  5.55359893  7.05081039 13.08315759\n  5.86919024 -4.82074442  3.43955819  9.09187169  2.87294592  3.48564055\n  1.99221268 12.33937776 11.21651118 -4.04901211]",
         "105.46063011788674",
         "105.46063011788674",
         "105.46063011788674",
         "105.46063011788675"
        ],
        [
         "3",
         "101.93974419132613",
         "[ 14.52143429   1.12958761  15.1381953   -1.56967159  10.50808395\n   2.16785012   4.22139497   9.41687056   1.30171826   6.5765634\n   6.53732108  10.95633042  11.83328593  14.39507192   6.51935083\n   7.0436084    2.15703064   1.1655909   -1.6058497    3.8685826\n   5.78201196   5.10108522   7.86661061  -1.78097981  13.66302068\n   6.53554567  10.46601839   6.72623764   0.61742585   3.37067357\n -11.49140683   6.0692585    4.6534697   11.06507256  -3.77980124\n   4.60707373   3.47296222  -1.31593713  -2.34079795  -0.87753112\n   9.91943855   9.92647523  -2.19973006   4.16634147   7.36694061\n   6.62829948  -2.59238662   1.99162815  -2.17867799  10.0820554\n  17.97652895   4.75064506  -5.7284122    9.09281461  12.78418017\n  12.39336121   5.82320168   7.64907586   5.47426713   8.60277919\n   9.70707148   1.23211218   2.06746053   3.29165263   3.84850227\n   5.95865316  10.59329557  -1.53285025   9.59253019   4.01494437\n  -9.33060211   3.00645273   3.63556788   7.74105062   7.94779705\n   4.96817217   0.92777951   9.76383576   1.6143482   -0.94223679\n   1.79253753   2.30697827   4.42943727   2.76023286   3.17814484\n   8.70811934   8.98250375   7.66426257   3.45277706   1.66371295\n   3.84113025   4.26652569   9.20723541   3.59891095  -1.02361581\n   0.81362701  13.82092716   0.33669605  -1.31898405   3.54165248]",
         "94.25988522915776",
         "94.25988522915777",
         "94.25988522915776",
         "94.25988522915773"
        ],
        [
         "4",
         "109.20230899639857",
         "[ 13.80532539   5.48220376   6.46324297  -2.88281358  -2.49413222\n   4.9881464    2.71194212   6.94830445  -0.5123778   10.26524502\n  11.78736897  -2.73452647   6.22568763   3.60388201  12.21303209\n   6.12914693   9.76625965   4.61864855   6.57094594  15.66413364\n  15.38180481  -3.48217083   6.9062185    6.2064459   -0.36892469\n   1.15996776   5.92469058   9.78001401   7.61556538   2.90632756\n  -0.30582755  -5.46645559  12.700054     2.21627064   0.70284434\n   6.68813594   4.57052275   4.91670902   8.28584736   2.56891182\n  -0.28845252   4.28730284   5.32792996  -0.44216926  -0.52565807\n  -0.23691357   9.07910605  11.9220595   11.36740159   0.43438335\n   1.53149207  -1.38607914  14.18323622   2.57886323   4.81226234\n   2.6203365    5.83743156  -0.24309424   1.8981259    0.43944204\n  -6.82575926   6.27233031   8.69006745   9.84988264  12.7953081\n   9.7486754    4.63870739   7.71486833   2.34436498   8.9632904\n   3.56349031  -6.62531902   4.84225859   5.30604601  -0.8755026\n   7.37085971  10.93496591  -0.78050087   8.77980005   9.336924\n   0.24807722   2.78453162  -0.46600113   2.10642457   4.7499742\n  10.83109255   1.8054162   -2.77336479 -10.72226762   1.65272047\n  -1.56725599   5.9278844    6.14704417  -2.93471898   6.81143633\n   3.94204931   3.73405239   2.39708324   9.80204004   7.97287395]",
         "101.9085260282188",
         "101.90852602821882",
         "101.9085260282188",
         "101.90852602821882"
        ]
       ],
       "shape": {
        "columns": 6,
        "rows": 5
       }
      },
      "text/html": [
       "<div>\n",
       "<style scoped>\n",
       "    .dataframe tbody tr th:only-of-type {\n",
       "        vertical-align: middle;\n",
       "    }\n",
       "\n",
       "    .dataframe tbody tr th {\n",
       "        vertical-align: top;\n",
       "    }\n",
       "\n",
       "    .dataframe thead th {\n",
       "        text-align: right;\n",
       "    }\n",
       "</style>\n",
       "<table border=\"1\" class=\"dataframe\">\n",
       "  <thead>\n",
       "    <tr style=\"text-align: right;\">\n",
       "      <th></th>\n",
       "      <th>y_true</th>\n",
       "      <th>y_pred</th>\n",
       "      <th>crps_from_predictions</th>\n",
       "      <th>properscoring</th>\n",
       "      <th>CRPS</th>\n",
       "      <th>pymc_marqueting</th>\n",
       "    </tr>\n",
       "  </thead>\n",
       "  <tbody>\n",
       "    <tr>\n",
       "      <th>0</th>\n",
       "      <td>90.108786</td>\n",
       "      <td>[8.640637789445714, -1.3080015845984816, 12.14...</td>\n",
       "      <td>82.100538</td>\n",
       "      <td>82.100538</td>\n",
       "      <td>82.100538</td>\n",
       "      <td>82.100538</td>\n",
       "    </tr>\n",
       "    <tr>\n",
       "      <th>1</th>\n",
       "      <td>96.322133</td>\n",
       "      <td>[3.1678558225107745, 6.737363230274925, 5.6735...</td>\n",
       "      <td>88.410864</td>\n",
       "      <td>88.410864</td>\n",
       "      <td>88.410864</td>\n",
       "      <td>88.410864</td>\n",
       "    </tr>\n",
       "    <tr>\n",
       "      <th>2</th>\n",
       "      <td>112.879253</td>\n",
       "      <td>[6.709160916434245, 10.896201858093296, 0.9120...</td>\n",
       "      <td>105.460630</td>\n",
       "      <td>105.460630</td>\n",
       "      <td>105.460630</td>\n",
       "      <td>105.460630</td>\n",
       "    </tr>\n",
       "    <tr>\n",
       "      <th>3</th>\n",
       "      <td>101.939744</td>\n",
       "      <td>[14.521434285699028, 1.1295876122380442, 15.13...</td>\n",
       "      <td>94.259885</td>\n",
       "      <td>94.259885</td>\n",
       "      <td>94.259885</td>\n",
       "      <td>94.259885</td>\n",
       "    </tr>\n",
       "    <tr>\n",
       "      <th>4</th>\n",
       "      <td>109.202309</td>\n",
       "      <td>[13.80532539228533, 5.482203757147254, 6.46324...</td>\n",
       "      <td>101.908526</td>\n",
       "      <td>101.908526</td>\n",
       "      <td>101.908526</td>\n",
       "      <td>101.908526</td>\n",
       "    </tr>\n",
       "  </tbody>\n",
       "</table>\n",
       "</div>"
      ],
      "text/plain": [
       "       y_true                                             y_pred  \\\n",
       "0   90.108786  [8.640637789445714, -1.3080015845984816, 12.14...   \n",
       "1   96.322133  [3.1678558225107745, 6.737363230274925, 5.6735...   \n",
       "2  112.879253  [6.709160916434245, 10.896201858093296, 0.9120...   \n",
       "3  101.939744  [14.521434285699028, 1.1295876122380442, 15.13...   \n",
       "4  109.202309  [13.80532539228533, 5.482203757147254, 6.46324...   \n",
       "\n",
       "   crps_from_predictions  properscoring        CRPS  pymc_marqueting  \n",
       "0              82.100538      82.100538   82.100538        82.100538  \n",
       "1              88.410864      88.410864   88.410864        88.410864  \n",
       "2             105.460630     105.460630  105.460630       105.460630  \n",
       "3              94.259885      94.259885   94.259885        94.259885  \n",
       "4             101.908526     101.908526  101.908526       101.908526  "
      ]
     },
     "metadata": {},
     "output_type": "display_data"
    }
   ],
   "source": [
    "# CRPS for multiple steps\n",
    "# ==============================================================================\n",
    "rng = np.random.default_rng(123)\n",
    "n_steps = 40\n",
    "n_bootstraps = 100\n",
    "predictions = pd.DataFrame({\n",
    "    'y_true': rng.normal(100, 10, n_steps),\n",
    "    'y_pred': [rng.normal(5, 5, n_bootstraps) for _ in range(n_steps)]\n",
    "})\n",
    "\n",
    "predictions['crps_from_predictions'] = predictions.apply(lambda x: crps_from_predictions(x['y_true'], x['y_pred']), axis=1)\n",
    "predictions['properscoring'] = predictions.apply(lambda x: ps.crps_ensemble(x['y_true'], x['y_pred']), axis=1)\n",
    "predictions['CRPS'] = predictions.apply(lambda x: CRPS(x['y_pred'], x['y_true']).compute()[0], axis=1)\n",
    "predictions['pymc_marqueting'] = predictions.apply(lambda x: crps(x['y_true'], x['y_pred'].reshape(-1, 1)), axis=1)\n",
    "display(predictions.head())\n",
    "\n",
    "assert np.allclose(predictions['properscoring'], predictions['CRPS'])\n",
    "assert np.allclose(predictions['properscoring'], predictions['pymc_marqueting'])\n",
    "assert np.allclose(predictions['crps_from_predictions'], predictions['properscoring'])"
   ]
  },
  {
   "cell_type": "code",
   "execution_count": 5,
   "metadata": {},
   "outputs": [
    {
     "data": {
      "text/plain": [
       "crps_from_predictions    93.974753\n",
       "properscoring            93.974753\n",
       "CRPS                     93.974753\n",
       "pymc_marqueting          93.974753\n",
       "dtype: float64"
      ]
     },
     "execution_count": 5,
     "metadata": {},
     "output_type": "execute_result"
    }
   ],
   "source": [
    "# Average CRPS\n",
    "# ==============================================================================\n",
    "mean_crps = predictions[['crps_from_predictions', 'properscoring', 'CRPS', 'pymc_marqueting']].mean()\n",
    "mean_crps"
   ]
  },
  {
   "cell_type": "markdown",
   "metadata": {},
   "source": [
    "## CRPS from quantiles"
   ]
  },
  {
   "cell_type": "markdown",
   "metadata": {},
   "source": [
    "A quantile is a value that divides a data set into intervals, with a specific percentage of the data lying below it. Essentially, it is a point on the cumulative distribution function (CDF) that represents a threshold at which a given proportion of the data is less than or equal to that value.\n",
    "\n",
    "For example, the 40th percentile (or 0.4 quantile) is the value below which 40% of the data points fall. To find it, you would examine the CDF, which shows the cumulative proportion of the data as you move along the values of the data set. The 0.4 quantile corresponds to the point where the CDF reaches 0.4 on the vertical axis, indicating that 40% of the data lies at or below this value.\n",
    "\n",
    "This relationship between quantiles and the CDF means that, given several quantile values, it is possible to reconstruct the CDF. This is essential for calculating the **Continuous Ranked Probability Score (CRPS)**, which measures the accuracy of probabilistic forecasts by comparing how well the predicted distribution matches the true value.\n",
    "\n",
    "Given a set of quantiles, their associated probabilities, and the true value, the CRPS can be calculated as follows:\n",
    "\n",
    "1. Construct the Empirical Cumulative Distribution Function (ECDF) using the quantiles and their corresponding probabilities.\n",
    "   \n",
    "2. Generate the CDF for the true value: Since the true value is a single point, its CDF is represented as a step function that jumps from 0 to 1 at the observed value.\n",
    "   \n",
    "3. Calculate the CRPS as the squared diference between the two curves."
   ]
  },
  {
   "cell_type": "code",
   "execution_count": 6,
   "metadata": {},
   "outputs": [
    {
     "data": {
      "text/plain": [
       "1.7339183102042313"
      ]
     },
     "execution_count": 6,
     "metadata": {},
     "output_type": "execute_result"
    }
   ],
   "source": [
    "# CRPS score from quantiles\n",
    "# ==============================================================================\n",
    "y_true = 3.0\n",
    "\n",
    "quantile_levels = np.array([\n",
    "    0.00, 0.025, 0.05, 0.10, 0.15, 0.20, 0.25, 0.30, 0.35, 0.40, 0.45, 0.50, 0.55,\n",
    "    0.60, 0.65, 0.70, 0.75, 0.80, 0.85, 0.90, 0.95, 0.975, 1.00\n",
    "])\n",
    "pred_quantiles = np.array([\n",
    "    0.1, 1.0, 1.5, 2.0, 2.5, 3.0, 3.5, 4.0, 4.5, 5.0, 5.5, 6.0, 6.5, 7.0, 7.5,\n",
    "    8.0, 8.5, 9.0, 9.5, 10.0, 10.5, 11.0, 11.5\n",
    "])\n",
    "\n",
    "crps_from_quantiles(y_true, pred_quantiles, quantile_levels)"
   ]
  },
  {
   "cell_type": "markdown",
   "metadata": {},
   "source": [
    "Again, results are compared versus the `properscoring` package. In this case, a warapper function is used to calculate the CRPS score from the predicted quantiles using `crps_quadrature`."
   ]
  },
  {
   "cell_type": "code",
   "execution_count": 7,
   "metadata": {},
   "outputs": [
    {
     "data": {
      "text/plain": [
       "1.7342500001706027"
      ]
     },
     "execution_count": 7,
     "metadata": {},
     "output_type": "execute_result"
    }
   ],
   "source": [
    "def crps_from_quantiles_properscoring(y_true, predicted_quantiles, quantile_levels):\n",
    "    \"\"\"\n",
    "    Calculate the Continuous Ranked Probability Score (CRPS) for a given true value\n",
    "    and predicted quantiles using the function crps_quadrature from the properscoring\n",
    "    library.\n",
    "\n",
    "    Parameters\n",
    "    ----------\n",
    "    y_true : float\n",
    "        The true value of the random variable.\n",
    "    predicted_quantiles : np.array\n",
    "        The predicted quantile values.\n",
    "    quantile_levels : np.array\n",
    "        The quantile levels corresponding to the predicted quantiles.\n",
    "\n",
    "    Returns\n",
    "    -------\n",
    "    float\n",
    "        The CRPS score.\n",
    "    \"\"\"\n",
    "    if len(predicted_quantiles) != len(quantile_levels):\n",
    "        raise ValueError(\n",
    "            \"The number of predicted quantiles and quantile levels must be equal.\"\n",
    "        )\n",
    "    \n",
    "    # Ensure predicted_quantiles are sorted\n",
    "    sort_idx = np.argsort(predicted_quantiles)\n",
    "    predicted_quantiles = predicted_quantiles[sort_idx]\n",
    "    quantile_levels = quantile_levels[sort_idx]\n",
    "\n",
    "    def empirical_cdf(x):\n",
    "        # Interpolate between quantile levels and quantile values\n",
    "        cdf_func = interp1d(\n",
    "            predicted_quantiles,\n",
    "            quantile_levels,\n",
    "            bounds_error=False,\n",
    "            fill_value=(0.0, 1.0),\n",
    "        )\n",
    "        return cdf_func(x)\n",
    "\n",
    "    # Integration bounds\n",
    "    xmin = np.min(predicted_quantiles) * 0.9\n",
    "    xmax = np.max(predicted_quantiles) * 1.1\n",
    "\n",
    "    # Compute CRPS\n",
    "    crps = ps.crps_quadrature(np.array([y_true]), empirical_cdf, xmin, xmax)\n",
    "\n",
    "    return crps[0]\n",
    "\n",
    "\n",
    "crps_from_quantiles_properscoring(y_true, pred_quantiles, quantile_levels)"
   ]
  },
  {
   "cell_type": "markdown",
   "metadata": {},
   "source": [
    "Results are similar but not identical. This may be due to differences in the implementation of the CRPS calculation or the numerical methods used to approximate the integral. The skforecast team is working on validating the implementation of the CRPS function in the library."
   ]
  }
 ],
 "metadata": {
  "kernelspec": {
   "display_name": "skforecast_15_py12",
   "language": "python",
   "name": "python3"
  },
  "language_info": {
   "codemirror_mode": {
    "name": "ipython",
    "version": 3
   },
   "file_extension": ".py",
   "mimetype": "text/x-python",
   "name": "python",
   "nbconvert_exporter": "python",
   "pygments_lexer": "ipython3",
   "version": "3.12.9"
  },
  "orig_nbformat": 4
 },
 "nbformat": 4,
 "nbformat_minor": 2
}
