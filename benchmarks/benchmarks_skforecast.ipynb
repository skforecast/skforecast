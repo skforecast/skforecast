{
 "cells": [
  {
   "cell_type": "markdown",
   "metadata": {},
   "source": [
    "# Benchmarking skforecast\n",
    "\n",
    "Benchmarking is an essential part of the development process of **skforecast**. It provides a transparent view of how the **performance of the library** evolves across versions and helps users make informed decisions when choosing the right forecaster or configuration for their use case.\n",
    "\n",
    "In this section, we present benchmark results that measure the execution time of key methods (`fit`, `predict`, etc.) and their **performance evolution across versions**, allowing the detection of improvements or regressions.\n",
    "\n",
    "## Methodology\n",
    "\n",
    "The benchmarking results presented here are generated using a **custom benchmarking script** located in the `benchmarks/` directory of the repository. This script executes a series of performance tests for the main forecasting classes and their methods, recording both execution time and variability across multiple runs.\n",
    "\n",
    "To ensure **consistency and reproducibility**, all benchmarks are automatically executed as part of the continuous integration (CI) pipeline using GitHub Actions. This guarantees that each new release of the library is tested under the **same environment and dependency configuration**, making performance results directly comparable across versions.\n",
    "\n",
    "Users who wish to reproduce the benchmarks locally can execute the same script by running:\n",
    "\n",
    "```bash\n",
    "# From skforecast root directory\n",
    "python benchmarks/run_benchmarks.py\n",
    "```\n",
    "\n",
    "Results are stored in a structured format in `benchmarks/benchmarks.joblib`."
   ]
  },
  {
   "cell_type": "code",
   "execution_count": 1,
   "metadata": {},
   "outputs": [],
   "source": [
    "# Libraries\n",
    "# ==============================================================================\n",
    "import platform\n",
    "import psutil\n",
    "import numpy as np\n",
    "import pandas as pd\n",
    "import joblib\n",
    "\n",
    "import sklearn\n",
    "import skforecast\n",
    "from benchmarks.utils import plot_benchmark_results\n",
    "\n",
    "# Display all columns in pandas\n",
    "pd.set_option(\"display.max_columns\", None)"
   ]
  },
  {
   "cell_type": "code",
   "execution_count": 2,
   "metadata": {},
   "outputs": [
    {
     "name": "stdout",
     "output_type": "stream",
     "text": [
      "Python version           : 3.12.11\n",
      "skforecast version       : 0.17.0\n",
      "numpy version            : 2.1.3\n",
      "pandas version           : 2.3.1\n",
      "scikit-learn version     : 1.6.1\n",
      "Computer network name    : ITES015-NB0029\n",
      "Processor type           : Intel64 Family 6 Model 141 Stepping 1, GenuineIntel\n",
      "Platform type            : Windows-11-10.0.26100-SP0\n",
      "Number of physical cores : 8\n",
      "Number of logical cores  : 16\n",
      "Memory total             : 34.07 GB\n"
     ]
    }
   ],
   "source": [
    "# Environment information\n",
    "# ==============================================================================\n",
    "print(f\"Python version           : {platform.python_version()}\")\n",
    "print(f\"skforecast version       : {skforecast.__version__}\")\n",
    "print(f\"numpy version            : {np.__version__}\")\n",
    "print(f\"pandas version           : {pd.__version__}\")\n",
    "print(f\"scikit-learn version     : {sklearn.__version__}\")\n",
    "print(f\"Computer network name    : {platform.node()}\")\n",
    "print(f\"Processor type           : {platform.processor()}\")\n",
    "print(f\"Platform type            : {platform.platform()}\")\n",
    "print(f\"Number of physical cores : {psutil.cpu_count(logical=False)}\")\n",
    "print(f\"Number of logical cores  : {psutil.cpu_count(logical=True)}\")\n",
    "print(f\"Memory total             : {round(psutil.virtual_memory().total / 1e9, 2)} GB\")"
   ]
  },
  {
   "cell_type": "code",
   "execution_count": 3,
   "metadata": {},
   "outputs": [],
   "source": [
    "import warnings\n",
    "warnings.filterwarnings(\n",
    "    \"ignore\",\n",
    "    category=FutureWarning,\n",
    "    message=\"'force_all_finite' was renamed to 'ensure_all_finite'\"\n",
    ")"
   ]
  },
  {
   "cell_type": "markdown",
   "metadata": {},
   "source": [
    "## Global results"
   ]
  },
  {
   "cell_type": "code",
   "execution_count": 4,
   "metadata": {},
   "outputs": [
    {
     "data": {
      "text/html": [
       "<div>\n",
       "<style scoped>\n",
       "    .dataframe tbody tr th:only-of-type {\n",
       "        vertical-align: middle;\n",
       "    }\n",
       "\n",
       "    .dataframe tbody tr th {\n",
       "        vertical-align: top;\n",
       "    }\n",
       "\n",
       "    .dataframe thead th {\n",
       "        text-align: right;\n",
       "    }\n",
       "</style>\n",
       "<table border=\"1\" class=\"dataframe\">\n",
       "  <thead>\n",
       "    <tr style=\"text-align: right;\">\n",
       "      <th></th>\n",
       "      <th>forecaster_name</th>\n",
       "      <th>regressor_name</th>\n",
       "      <th>function_name</th>\n",
       "      <th>function_hash</th>\n",
       "      <th>method_name</th>\n",
       "      <th>run_time_avg</th>\n",
       "      <th>run_time_median</th>\n",
       "      <th>run_time_p95</th>\n",
       "      <th>run_time_std</th>\n",
       "      <th>n_repeats</th>\n",
       "      <th>datetime</th>\n",
       "      <th>python_version</th>\n",
       "      <th>skforecast_version</th>\n",
       "      <th>numpy_version</th>\n",
       "      <th>pandas_version</th>\n",
       "      <th>sklearn_version</th>\n",
       "      <th>lightgbm_version</th>\n",
       "      <th>platform</th>\n",
       "      <th>processor</th>\n",
       "      <th>cpu_count</th>\n",
       "      <th>memory_gb</th>\n",
       "    </tr>\n",
       "  </thead>\n",
       "  <tbody>\n",
       "    <tr>\n",
       "      <th>0</th>\n",
       "      <td>ForecasterRecursive</td>\n",
       "      <td>DummyRegressor</td>\n",
       "      <td>ForecasterRecursive__create_train_X_y</td>\n",
       "      <td>59b823f1ff395872fac4f7578bd859fa</td>\n",
       "      <td>ForecasterRecursive__create_train_X_y</td>\n",
       "      <td>0.004261</td>\n",
       "      <td>0.004189</td>\n",
       "      <td>0.004373</td>\n",
       "      <td>0.000321</td>\n",
       "      <td>30</td>\n",
       "      <td>2025-08-25 11:25:01.633692</td>\n",
       "      <td>3.12.11</td>\n",
       "      <td>0.17.0</td>\n",
       "      <td>2.1.3</td>\n",
       "      <td>2.3.2</td>\n",
       "      <td>1.6.1</td>\n",
       "      <td>4.6.0</td>\n",
       "      <td>Linux-6.11.0-1018-azure-x86_64-with-glibc2.39</td>\n",
       "      <td>x86_64</td>\n",
       "      <td>4</td>\n",
       "      <td>16.77</td>\n",
       "    </tr>\n",
       "    <tr>\n",
       "      <th>1</th>\n",
       "      <td>ForecasterRecursive</td>\n",
       "      <td>DummyRegressor</td>\n",
       "      <td>ForecasterRecursive_fit</td>\n",
       "      <td>9d73eaf5faa980194d715362601eed68</td>\n",
       "      <td>ForecasterRecursive_fit</td>\n",
       "      <td>0.005308</td>\n",
       "      <td>0.005252</td>\n",
       "      <td>0.005579</td>\n",
       "      <td>0.000161</td>\n",
       "      <td>10</td>\n",
       "      <td>2025-08-25 11:25:01.691309</td>\n",
       "      <td>3.12.11</td>\n",
       "      <td>0.17.0</td>\n",
       "      <td>2.1.3</td>\n",
       "      <td>2.3.2</td>\n",
       "      <td>1.6.1</td>\n",
       "      <td>4.6.0</td>\n",
       "      <td>Linux-6.11.0-1018-azure-x86_64-with-glibc2.39</td>\n",
       "      <td>x86_64</td>\n",
       "      <td>4</td>\n",
       "      <td>16.77</td>\n",
       "    </tr>\n",
       "  </tbody>\n",
       "</table>\n",
       "</div>"
      ],
      "text/plain": [
       "       forecaster_name  regressor_name                          function_name  \\\n",
       "0  ForecasterRecursive  DummyRegressor  ForecasterRecursive__create_train_X_y   \n",
       "1  ForecasterRecursive  DummyRegressor                ForecasterRecursive_fit   \n",
       "\n",
       "                      function_hash                            method_name  \\\n",
       "0  59b823f1ff395872fac4f7578bd859fa  ForecasterRecursive__create_train_X_y   \n",
       "1  9d73eaf5faa980194d715362601eed68                ForecasterRecursive_fit   \n",
       "\n",
       "   run_time_avg  run_time_median  run_time_p95  run_time_std  n_repeats  \\\n",
       "0      0.004261         0.004189      0.004373      0.000321         30   \n",
       "1      0.005308         0.005252      0.005579      0.000161         10   \n",
       "\n",
       "                    datetime python_version skforecast_version numpy_version  \\\n",
       "0 2025-08-25 11:25:01.633692        3.12.11             0.17.0         2.1.3   \n",
       "1 2025-08-25 11:25:01.691309        3.12.11             0.17.0         2.1.3   \n",
       "\n",
       "  pandas_version sklearn_version lightgbm_version  \\\n",
       "0          2.3.2           1.6.1            4.6.0   \n",
       "1          2.3.2           1.6.1            4.6.0   \n",
       "\n",
       "                                        platform processor  cpu_count  \\\n",
       "0  Linux-6.11.0-1018-azure-x86_64-with-glibc2.39    x86_64          4   \n",
       "1  Linux-6.11.0-1018-azure-x86_64-with-glibc2.39    x86_64          4   \n",
       "\n",
       "   memory_gb  \n",
       "0      16.77  \n",
       "1      16.77  "
      ]
     },
     "execution_count": 4,
     "metadata": {},
     "output_type": "execute_result"
    }
   ],
   "source": [
    "# Load benchmark results\n",
    "# ==============================================================================\n",
    "results_benchmark_all = joblib.load(\"./benchmark.joblib\")\n",
    "results_benchmark_all.head(2)"
   ]
  },
  {
   "cell_type": "markdown",
   "metadata": {},
   "source": [
    "## ForecasterRecursive\n",
    "\n",
    "The [`ForecasterRecursive` class](https://skforecast.org/latest/user_guides/autoregresive-forecaster.html) is benchmarked under a fixed experimental setup to ensure fair comparison across library versions. Key conditions are:\n",
    "\n",
    "| Condition          | Value                                                                                |\n",
    "|:-------------------|:-------------------------------------------------------------------------------------|\n",
    "| Regressor          | `sklearn.dummy.DummyRegressor` (to isolate forecaster overhead)                      |\n",
    "| Dataset length     | 2000 synthetic observations (generated with `bench_forecaster_recursive._make_data`) |\n",
    "| Exogenous features | 3                                                                                    |\n",
    "| Prediction horizon | 100 steps ahead                                                                      |\n",
    "| Backtesting split  | 1200 training, remaining for testing, step size = 50, no re-fitting (see [guide](https://skforecast.org/latest/user_guides/backtesting.html)) |\n",
    "\n",
    "**Note:** In versions `< 0.14.0`, `ForecasterRecursive` was named `ForecasterAutoreg`.  "
   ]
  },
  {
   "cell_type": "code",
   "execution_count": 5,
   "metadata": {},
   "outputs": [
    {
     "data": {
      "application/vnd.plotly.v1+json": {
       "config": {
        "plotlyServerURL": "https://plot.ly"
       },
       "data": [
        {
         "error_y": {
          "array": {
           "bdata": "oUZDLV90ND8=",
           "dtype": "f8"
          },
          "color": "#636EFA",
          "thickness": 1.5,
          "type": "data",
          "visible": true,
          "width": 5
         },
         "hovertemplate": "%{text}<extra></extra>",
         "marker": {
          "color": "#636EFA",
          "line": {
           "color": "white",
           "width": 1
          },
          "opacity": 0.85,
          "size": 10
         },
         "mode": "markers",
         "text": [
          "Forecaster: ForecasterRecursive<br>Regressor: DummyRegressor<br>Function: ForecasterRecursive__create_train_X_y<br>Function_hash: 59b823f1ff395872fac4f7578bd859fa<br>Method: ForecasterRecursive__create_train_X_y<br>Datetime: 2025-08-25 11:26:56.948536<br>Python version: 3.12.11<br>skforecast version: 0.16.0<br>numpy version: 2.1.3<br>pandas version: 2.3.2<br>sklearn version: 1.6.1<br>lightgbm version: 4.6.0<br>Platform: Linux-6.11.0-1018-azure-x86_64-with-glibc2.39<br>Processor: x86_64<br>CPU count: 4<br>Memory (GB): 16.77<br>Run time avg: 0.004312 s<br>Run time median: 0.004247 s<br>Run time p95: 0.004396 s<br>Run time std: 0.000312 s<br>Nº repeats: 30"
         ],
         "type": "scatter",
         "visible": true,
         "x": {
          "bdata": "1FY0OfzjlT8=",
          "dtype": "f8"
         },
         "y": {
          "bdata": "3l3FNKSpcT8=",
          "dtype": "f8"
         }
        },
        {
         "error_y": {
          "array": {
           "bdata": "JaeF7KQPNT8=",
           "dtype": "f8"
          },
          "color": "#EF553B",
          "thickness": 1.5,
          "type": "data",
          "visible": true,
          "width": 5
         },
         "hovertemplate": "%{text}<extra></extra>",
         "marker": {
          "color": "#EF553B",
          "line": {
           "color": "white",
           "width": 1
          },
          "opacity": 0.85,
          "size": 10
         },
         "mode": "markers",
         "text": [
          "Forecaster: ForecasterRecursive<br>Regressor: DummyRegressor<br>Function: ForecasterRecursive__create_train_X_y<br>Function_hash: 59b823f1ff395872fac4f7578bd859fa<br>Method: ForecasterRecursive__create_train_X_y<br>Datetime: 2025-08-25 11:25:01.633692<br>Python version: 3.12.11<br>skforecast version: 0.17.0<br>numpy version: 2.1.3<br>pandas version: 2.3.2<br>sklearn version: 1.6.1<br>lightgbm version: 4.6.0<br>Platform: Linux-6.11.0-1018-azure-x86_64-with-glibc2.39<br>Processor: x86_64<br>CPU count: 4<br>Memory (GB): 16.77<br>Run time avg: 0.004261 s<br>Run time median: 0.004189 s<br>Run time p95: 0.004373 s<br>Run time std: 0.000321 s<br>Nº repeats: 30"
         ],
         "type": "scatter",
         "visible": true,
         "x": {
          "bdata": "5jQ9It478D8=",
          "dtype": "f8"
         },
         "y": {
          "bdata": "72680etzcT8=",
          "dtype": "f8"
         }
        },
        {
         "error_y": {
          "array": {
           "bdata": "FWTbjSkoKz8=",
           "dtype": "f8"
          },
          "color": "#636EFA",
          "thickness": 1.5,
          "type": "data",
          "visible": true,
          "width": 5
         },
         "hovertemplate": "%{text}<extra></extra>",
         "marker": {
          "color": "#636EFA",
          "line": {
           "color": "white",
           "width": 1
          },
          "opacity": 0.85,
          "size": 10
         },
         "mode": "markers",
         "text": [
          "Forecaster: ForecasterRecursive<br>Regressor: DummyRegressor<br>Function: ForecasterRecursive_fit<br>Function_hash: 9d73eaf5faa980194d715362601eed68<br>Method: ForecasterRecursive_fit<br>Datetime: 2025-08-25 11:26:57.009134<br>Python version: 3.12.11<br>skforecast version: 0.16.0<br>numpy version: 2.1.3<br>pandas version: 2.3.2<br>sklearn version: 1.6.1<br>lightgbm version: 4.6.0<br>Platform: Linux-6.11.0-1018-azure-x86_64-with-glibc2.39<br>Processor: x86_64<br>CPU count: 4<br>Memory (GB): 16.77<br>Run time avg: 0.005409 s<br>Run time median: 0.005339 s<br>Run time p95: 0.005754 s<br>Run time std: 0.000207 s<br>Nº repeats: 10"
         ],
         "type": "scatter",
         "visible": false,
         "x": {
          "bdata": "HnBxBL7CkL8=",
          "dtype": "f8"
         },
         "y": {
          "bdata": "zezspvondj8=",
          "dtype": "f8"
         }
        },
        {
         "error_y": {
          "array": {
           "bdata": "WjWwxNMjJT8=",
           "dtype": "f8"
          },
          "color": "#EF553B",
          "thickness": 1.5,
          "type": "data",
          "visible": true,
          "width": 5
         },
         "hovertemplate": "%{text}<extra></extra>",
         "marker": {
          "color": "#EF553B",
          "line": {
           "color": "white",
           "width": 1
          },
          "opacity": 0.85,
          "size": 10
         },
         "mode": "markers",
         "text": [
          "Forecaster: ForecasterRecursive<br>Regressor: DummyRegressor<br>Function: ForecasterRecursive_fit<br>Function_hash: 9d73eaf5faa980194d715362601eed68<br>Method: ForecasterRecursive_fit<br>Datetime: 2025-08-25 11:25:01.691309<br>Python version: 3.12.11<br>skforecast version: 0.17.0<br>numpy version: 2.1.3<br>pandas version: 2.3.2<br>sklearn version: 1.6.1<br>lightgbm version: 4.6.0<br>Platform: Linux-6.11.0-1018-azure-x86_64-with-glibc2.39<br>Processor: x86_64<br>CPU count: 4<br>Memory (GB): 16.77<br>Run time avg: 0.005308 s<br>Run time median: 0.005252 s<br>Run time p95: 0.005579 s<br>Run time std: 0.000161 s<br>Nº repeats: 10"
         ],
         "type": "scatter",
         "visible": false,
         "x": {
          "bdata": "iMJ3ktcj8D8=",
          "dtype": "f8"
         },
         "y": {
          "bdata": "AADPFvm9dT8=",
          "dtype": "f8"
         }
        },
        {
         "error_y": {
          "array": {
           "bdata": "bEcKkKKl+j4=",
           "dtype": "f8"
          },
          "color": "#636EFA",
          "thickness": 1.5,
          "type": "data",
          "visible": true,
          "width": 5
         },
         "hovertemplate": "%{text}<extra></extra>",
         "marker": {
          "color": "#636EFA",
          "line": {
           "color": "white",
           "width": 1
          },
          "opacity": 0.85,
          "size": 10
         },
         "mode": "markers",
         "text": [
          "Forecaster: ForecasterRecursive<br>Regressor: DummyRegressor<br>Function: ForecasterRecursive_check_predict_inputs<br>Function_hash: e5142828938182d8f4d6d18f008a3ea4<br>Method: ForecasterRecursive_check_predict_inputs<br>Datetime: 2025-08-25 11:26:57.026558<br>Python version: 3.12.11<br>skforecast version: 0.16.0<br>numpy version: 2.1.3<br>pandas version: 2.3.2<br>sklearn version: 1.6.1<br>lightgbm version: 4.6.0<br>Platform: Linux-6.11.0-1018-azure-x86_64-with-glibc2.39<br>Processor: x86_64<br>CPU count: 4<br>Memory (GB): 16.77<br>Run time avg: 0.000211 s<br>Run time median: 0.000203 s<br>Run time p95: 0.000244 s<br>Run time std: 0.000025 s<br>Nº repeats: 30"
         ],
         "type": "scatter",
         "visible": false,
         "x": {
          "bdata": "jHz0kzfQlT8=",
          "dtype": "f8"
         },
         "y": {
          "bdata": "vLtDM3inKz8=",
          "dtype": "f8"
         }
        },
        {
         "error_y": {
          "array": {
           "bdata": "6xeiSvlW+D4=",
           "dtype": "f8"
          },
          "color": "#EF553B",
          "thickness": 1.5,
          "type": "data",
          "visible": true,
          "width": 5
         },
         "hovertemplate": "%{text}<extra></extra>",
         "marker": {
          "color": "#EF553B",
          "line": {
           "color": "white",
           "width": 1
          },
          "opacity": 0.85,
          "size": 10
         },
         "mode": "markers",
         "text": [
          "Forecaster: ForecasterRecursive<br>Regressor: DummyRegressor<br>Function: ForecasterRecursive_check_predict_inputs<br>Function_hash: e5142828938182d8f4d6d18f008a3ea4<br>Method: ForecasterRecursive_check_predict_inputs<br>Datetime: 2025-08-25 11:25:01.709046<br>Python version: 3.12.11<br>skforecast version: 0.17.0<br>numpy version: 2.1.3<br>pandas version: 2.3.2<br>sklearn version: 1.6.1<br>lightgbm version: 4.6.0<br>Platform: Linux-6.11.0-1018-azure-x86_64-with-glibc2.39<br>Processor: x86_64<br>CPU count: 4<br>Memory (GB): 16.77<br>Run time avg: 0.000216 s<br>Run time median: 0.000210 s<br>Run time p95: 0.000251 s<br>Run time std: 0.000023 s<br>Nº repeats: 30"
         ],
         "type": "scatter",
         "visible": false,
         "x": {
          "bdata": "/awQobh68D8=",
          "dtype": "f8"
         },
         "y": {
          "bdata": "d3dnzVJcLD8=",
          "dtype": "f8"
         }
        },
        {
         "error_y": {
          "array": {
           "bdata": "oM8F2XAGFz8=",
           "dtype": "f8"
          },
          "color": "#636EFA",
          "thickness": 1.5,
          "type": "data",
          "visible": true,
          "width": 5
         },
         "hovertemplate": "%{text}<extra></extra>",
         "marker": {
          "color": "#636EFA",
          "line": {
           "color": "white",
           "width": 1
          },
          "opacity": 0.85,
          "size": 10
         },
         "mode": "markers",
         "text": [
          "Forecaster: ForecasterRecursive<br>Regressor: DummyRegressor<br>Function: ForecasterRecursive__create_predict_inputs<br>Function_hash: 00720cf9fd37bb5bfbe41ab05dd1e25a<br>Method: ForecasterRecursive__create_predict_inputs<br>Datetime: 2025-08-25 11:26:57.094355<br>Python version: 3.12.11<br>skforecast version: 0.16.0<br>numpy version: 2.1.3<br>pandas version: 2.3.2<br>sklearn version: 1.6.1<br>lightgbm version: 4.6.0<br>Platform: Linux-6.11.0-1018-azure-x86_64-with-glibc2.39<br>Processor: x86_64<br>CPU count: 4<br>Memory (GB): 16.77<br>Run time avg: 0.002125 s<br>Run time median: 0.002097 s<br>Run time p95: 0.002240 s<br>Run time std: 0.000088 s<br>Nº repeats: 30"
         ],
         "type": "scatter",
         "visible": false,
         "x": {
          "bdata": "GJxvc5TXmD8=",
          "dtype": "f8"
         },
         "y": {
          "bdata": "mpnVqnloYT8=",
          "dtype": "f8"
         }
        },
        {
         "error_y": {
          "array": {
           "bdata": "MRp0BvcWEj8=",
           "dtype": "f8"
          },
          "color": "#EF553B",
          "thickness": 1.5,
          "type": "data",
          "visible": true,
          "width": 5
         },
         "hovertemplate": "%{text}<extra></extra>",
         "marker": {
          "color": "#EF553B",
          "line": {
           "color": "white",
           "width": 1
          },
          "opacity": 0.85,
          "size": 10
         },
         "mode": "markers",
         "text": [
          "Forecaster: ForecasterRecursive<br>Regressor: DummyRegressor<br>Function: ForecasterRecursive__create_predict_inputs<br>Function_hash: 00720cf9fd37bb5bfbe41ab05dd1e25a<br>Method: ForecasterRecursive__create_predict_inputs<br>Datetime: 2025-08-25 11:25:01.778164<br>Python version: 3.12.11<br>skforecast version: 0.17.0<br>numpy version: 2.1.3<br>pandas version: 2.3.2<br>sklearn version: 1.6.1<br>lightgbm version: 4.6.0<br>Platform: Linux-6.11.0-1018-azure-x86_64-with-glibc2.39<br>Processor: x86_64<br>CPU count: 4<br>Memory (GB): 16.77<br>Run time avg: 0.002169 s<br>Run time median: 0.002157 s<br>Run time p95: 0.002214 s<br>Run time std: 0.000069 s<br>Nº repeats: 30"
         ],
         "type": "scatter",
         "visible": false,
         "x": {
          "bdata": "yw0o/Smn8D8=",
          "dtype": "f8"
         },
         "y": {
          "bdata": "VVUgxLvDYT8=",
          "dtype": "f8"
         }
        },
        {
         "error_y": {
          "array": {
           "bdata": "RO/D+QxRET8=",
           "dtype": "f8"
          },
          "color": "#636EFA",
          "thickness": 1.5,
          "type": "data",
          "visible": true,
          "width": 5
         },
         "hovertemplate": "%{text}<extra></extra>",
         "marker": {
          "color": "#636EFA",
          "line": {
           "color": "white",
           "width": 1
          },
          "opacity": 0.85,
          "size": 10
         },
         "mode": "markers",
         "text": [
          "Forecaster: ForecasterRecursive<br>Regressor: DummyRegressor<br>Function: ForecasterRecursive_predict<br>Function_hash: 098241567b0d263ea500b9c57823af43<br>Method: ForecasterRecursive_predict<br>Datetime: 2025-08-25 11:26:57.263272<br>Python version: 3.12.11<br>skforecast version: 0.16.0<br>numpy version: 2.1.3<br>pandas version: 2.3.2<br>sklearn version: 1.6.1<br>lightgbm version: 4.6.0<br>Platform: Linux-6.11.0-1018-azure-x86_64-with-glibc2.39<br>Processor: x86_64<br>CPU count: 4<br>Memory (GB): 16.77<br>Run time avg: 0.005484 s<br>Run time median: 0.005477 s<br>Run time p95: 0.005581 s<br>Run time std: 0.000066 s<br>Nº repeats: 30"
         ],
         "type": "scatter",
         "visible": false,
         "x": {
          "bdata": "6FnEuU/LdL8=",
          "dtype": "f8"
         },
         "y": {
          "bdata": "VbVRXJ12dj8=",
          "dtype": "f8"
         }
        },
        {
         "error_y": {
          "array": {
           "bdata": "EMwKtAqDEz8=",
           "dtype": "f8"
          },
          "color": "#EF553B",
          "thickness": 1.5,
          "type": "data",
          "visible": true,
          "width": 5
         },
         "hovertemplate": "%{text}<extra></extra>",
         "marker": {
          "color": "#EF553B",
          "line": {
           "color": "white",
           "width": 1
          },
          "opacity": 0.85,
          "size": 10
         },
         "mode": "markers",
         "text": [
          "Forecaster: ForecasterRecursive<br>Regressor: DummyRegressor<br>Function: ForecasterRecursive_predict<br>Function_hash: 098241567b0d263ea500b9c57823af43<br>Method: ForecasterRecursive_predict<br>Datetime: 2025-08-25 11:25:01.956131<br>Python version: 3.12.11<br>skforecast version: 0.17.0<br>numpy version: 2.1.3<br>pandas version: 2.3.2<br>sklearn version: 1.6.1<br>lightgbm version: 4.6.0<br>Platform: Linux-6.11.0-1018-azure-x86_64-with-glibc2.39<br>Processor: x86_64<br>CPU count: 4<br>Memory (GB): 16.77<br>Run time avg: 0.005799 s<br>Run time median: 0.005780 s<br>Run time p95: 0.005965 s<br>Run time std: 0.000074 s<br>Nº repeats: 30"
         ],
         "type": "scatter",
         "visible": false,
         "x": {
          "bdata": "ZdCwco/r7z8=",
          "dtype": "f8"
         },
         "y": {
          "bdata": "IqLwS83Adz8=",
          "dtype": "f8"
         }
        },
        {
         "error_y": {
          "array": {
           "bdata": "hEJxLw9fEj8=",
           "dtype": "f8"
          },
          "color": "#636EFA",
          "thickness": 1.5,
          "type": "data",
          "visible": true,
          "width": 5
         },
         "hovertemplate": "%{text}<extra></extra>",
         "marker": {
          "color": "#636EFA",
          "line": {
           "color": "white",
           "width": 1
          },
          "opacity": 0.85,
          "size": 10
         },
         "mode": "markers",
         "text": [
          "Forecaster: ForecasterRecursive<br>Regressor: DummyRegressor<br>Function: ForecasterRecursive_predict_interval_conformal<br>Function_hash: e5b2b8e22e2931b304a30d8cdc7c802c<br>Method: ForecasterRecursive_predict_interval_conformal<br>Datetime: 2025-08-25 11:26:57.448052<br>Python version: 3.12.11<br>skforecast version: 0.16.0<br>numpy version: 2.1.3<br>pandas version: 2.3.2<br>sklearn version: 1.6.1<br>lightgbm version: 4.6.0<br>Platform: Linux-6.11.0-1018-azure-x86_64-with-glibc2.39<br>Processor: x86_64<br>CPU count: 4<br>Memory (GB): 16.77<br>Run time avg: 0.006011 s<br>Run time median: 0.006002 s<br>Run time p95: 0.006118 s<br>Run time std: 0.000070 s<br>Nº repeats: 30"
         ],
         "type": "scatter",
         "visible": false,
         "x": {
          "bdata": "QK7Skgk2cz8=",
          "dtype": "f8"
         },
         "y": {
          "bdata": "vPvV3wWfeD8=",
          "dtype": "f8"
         }
        },
        {
         "error_y": {
          "array": {
           "bdata": "K2v1pH75Jz8=",
           "dtype": "f8"
          },
          "color": "#EF553B",
          "thickness": 1.5,
          "type": "data",
          "visible": true,
          "width": 5
         },
         "hovertemplate": "%{text}<extra></extra>",
         "marker": {
          "color": "#EF553B",
          "line": {
           "color": "white",
           "width": 1
          },
          "opacity": 0.85,
          "size": 10
         },
         "mode": "markers",
         "text": [
          "Forecaster: ForecasterRecursive<br>Regressor: DummyRegressor<br>Function: ForecasterRecursive_predict_interval_conformal<br>Function_hash: e5b2b8e22e2931b304a30d8cdc7c802c<br>Method: ForecasterRecursive_predict_interval_conformal<br>Datetime: 2025-08-25 11:25:02.152195<br>Python version: 3.12.11<br>skforecast version: 0.17.0<br>numpy version: 2.1.3<br>pandas version: 2.3.2<br>sklearn version: 1.6.1<br>lightgbm version: 4.6.0<br>Platform: Linux-6.11.0-1018-azure-x86_64-with-glibc2.39<br>Processor: x86_64<br>CPU count: 4<br>Memory (GB): 16.77<br>Run time avg: 0.006398 s<br>Run time median: 0.006368 s<br>Run time p95: 0.006518 s<br>Run time std: 0.000183 s<br>Nº repeats: 30"
         ],
         "type": "scatter",
         "visible": false,
         "x": {
          "bdata": "8FlHT0S/8D8=",
          "dtype": "f8"
         },
         "y": {
          "bdata": "RMTTrJ00ej8=",
          "dtype": "f8"
         }
        },
        {
         "error_y": {
          "array": {
           "bdata": "w6NMMUF6PT8=",
           "dtype": "f8"
          },
          "color": "#636EFA",
          "thickness": 1.5,
          "type": "data",
          "visible": true,
          "width": 5
         },
         "hovertemplate": "%{text}<extra></extra>",
         "marker": {
          "color": "#636EFA",
          "line": {
           "color": "white",
           "width": 1
          },
          "opacity": 0.85,
          "size": 10
         },
         "mode": "markers",
         "text": [
          "Forecaster: ForecasterRecursive<br>Regressor: DummyRegressor<br>Function: ForecasterRecursive_backtesting<br>Function_hash: 936dae1ca00a8ed7ba0c97f2dde8c8ab<br>Method: ForecasterRecursive_backtesting<br>Datetime: 2025-08-25 11:26:57.820659<br>Python version: 3.12.11<br>skforecast version: 0.16.0<br>numpy version: 2.1.3<br>pandas version: 2.3.2<br>sklearn version: 1.6.1<br>lightgbm version: 4.6.0<br>Platform: Linux-6.11.0-1018-azure-x86_64-with-glibc2.39<br>Processor: x86_64<br>CPU count: 4<br>Memory (GB): 16.77<br>Run time avg: 0.073399 s<br>Run time median: 0.073117 s<br>Run time p95: 0.074089 s<br>Run time std: 0.000450 s<br>Nº repeats: 5"
         ],
         "type": "scatter",
         "visible": false,
         "x": {
          "bdata": "Xzkf8grIor8=",
          "dtype": "f8"
         },
         "y": {
          "bdata": "ZlZW80zKsj8=",
          "dtype": "f8"
         }
        },
        {
         "error_y": {
          "array": {
           "bdata": "YcdvwpO1Yj8=",
           "dtype": "f8"
          },
          "color": "#EF553B",
          "thickness": 1.5,
          "type": "data",
          "visible": true,
          "width": 5
         },
         "hovertemplate": "%{text}<extra></extra>",
         "marker": {
          "color": "#EF553B",
          "line": {
           "color": "white",
           "width": 1
          },
          "opacity": 0.85,
          "size": 10
         },
         "mode": "markers",
         "text": [
          "Forecaster: ForecasterRecursive<br>Regressor: DummyRegressor<br>Function: ForecasterRecursive_backtesting<br>Function_hash: 936dae1ca00a8ed7ba0c97f2dde8c8ab<br>Method: ForecasterRecursive_backtesting<br>Datetime: 2025-08-25 11:25:02.529025<br>Python version: 3.12.11<br>skforecast version: 0.17.0<br>numpy version: 2.1.3<br>pandas version: 2.3.2<br>sklearn version: 1.6.1<br>lightgbm version: 4.6.0<br>Platform: Linux-6.11.0-1018-azure-x86_64-with-glibc2.39<br>Processor: x86_64<br>CPU count: 4<br>Memory (GB): 16.77<br>Run time avg: 0.074496 s<br>Run time median: 0.075701 s<br>Run time p95: 0.076808 s<br>Run time std: 0.002284 s<br>Nº repeats: 5"
         ],
         "type": "scatter",
         "visible": false,
         "x": {
          "bdata": "hYasmLQR7z8=",
          "dtype": "f8"
         },
         "y": {
          "bdata": "mgk9fyUSsz8=",
          "dtype": "f8"
         }
        },
        {
         "error_y": {
          "array": {
           "bdata": "XI5ntAgeND8=",
           "dtype": "f8"
          },
          "color": "#636EFA",
          "thickness": 1.5,
          "type": "data",
          "visible": true,
          "width": 5
         },
         "hovertemplate": "%{text}<extra></extra>",
         "marker": {
          "color": "#636EFA",
          "line": {
           "color": "white",
           "width": 1
          },
          "opacity": 0.85,
          "size": 10
         },
         "mode": "markers",
         "text": [
          "Forecaster: ForecasterRecursive<br>Regressor: DummyRegressor<br>Function: ForecasterRecursive_backtesting_conformal<br>Function_hash: d4ae7ffd93daffa8f7d0b9c6a839cdc7<br>Method: ForecasterRecursive_backtesting_conformal<br>Datetime: 2025-08-25 11:26:58.244216<br>Python version: 3.12.11<br>skforecast version: 0.16.0<br>numpy version: 2.1.3<br>pandas version: 2.3.2<br>sklearn version: 1.6.1<br>lightgbm version: 4.6.0<br>Platform: Linux-6.11.0-1018-azure-x86_64-with-glibc2.39<br>Processor: x86_64<br>CPU count: 4<br>Memory (GB): 16.77<br>Run time avg: 0.083806 s<br>Run time median: 0.084010 s<br>Run time p95: 0.084089 s<br>Run time std: 0.000307 s<br>Nº repeats: 5"
         ],
         "type": "scatter",
         "visible": false,
         "x": {
          "bdata": "CDxu4v4OlD8=",
          "dtype": "f8"
         },
         "y": {
          "bdata": "zVB17kt0tT8=",
          "dtype": "f8"
         }
        },
        {
         "error_y": {
          "array": {
           "bdata": "AG3HAgYSGj8=",
           "dtype": "f8"
          },
          "color": "#EF553B",
          "thickness": 1.5,
          "type": "data",
          "visible": true,
          "width": 5
         },
         "hovertemplate": "%{text}<extra></extra>",
         "marker": {
          "color": "#EF553B",
          "line": {
           "color": "white",
           "width": 1
          },
          "opacity": 0.85,
          "size": 10
         },
         "mode": "markers",
         "text": [
          "Forecaster: ForecasterRecursive<br>Regressor: DummyRegressor<br>Function: ForecasterRecursive_backtesting_conformal<br>Function_hash: d4ae7ffd93daffa8f7d0b9c6a839cdc7<br>Method: ForecasterRecursive_backtesting_conformal<br>Datetime: 2025-08-25 11:25:02.940787<br>Python version: 3.12.11<br>skforecast version: 0.17.0<br>numpy version: 2.1.3<br>pandas version: 2.3.2<br>sklearn version: 1.6.1<br>lightgbm version: 4.6.0<br>Platform: Linux-6.11.0-1018-azure-x86_64-with-glibc2.39<br>Processor: x86_64<br>CPU count: 4<br>Memory (GB): 16.77<br>Run time avg: 0.081490 s<br>Run time median: 0.081428 s<br>Run time p95: 0.081620 s<br>Run time std: 0.000099 s<br>Nº repeats: 5"
         ],
         "type": "scatter",
         "visible": false,
         "x": {
          "bdata": "8zxW1E4G8D8=",
          "dtype": "f8"
         },
         "y": {
          "bdata": "MzN2so3ctD8=",
          "dtype": "f8"
         }
        },
        {
         "line": {
          "color": "#374151",
          "width": 2
         },
         "marker": {
          "color": "#374151",
          "size": 8
         },
         "mode": "lines+markers",
         "name": "Median (per version)",
         "type": "scatter",
         "visible": true,
         "x": {
          "bdata": "AAE=",
          "dtype": "i1"
         },
         "y": {
          "bdata": "3l3FNKSpcT/vbrzR63NxPw==",
          "dtype": "f8"
         }
        },
        {
         "line": {
          "color": "#374151",
          "width": 2
         },
         "marker": {
          "color": "#374151",
          "size": 8
         },
         "mode": "lines+markers",
         "name": "Median (per version)",
         "type": "scatter",
         "visible": false,
         "x": {
          "bdata": "AAE=",
          "dtype": "i1"
         },
         "y": {
          "bdata": "zezspvondj8AAM8W+b11Pw==",
          "dtype": "f8"
         }
        },
        {
         "line": {
          "color": "#374151",
          "width": 2
         },
         "marker": {
          "color": "#374151",
          "size": 8
         },
         "mode": "lines+markers",
         "name": "Median (per version)",
         "type": "scatter",
         "visible": false,
         "x": {
          "bdata": "AAE=",
          "dtype": "i1"
         },
         "y": {
          "bdata": "vLtDM3inKz93d2fNUlwsPw==",
          "dtype": "f8"
         }
        },
        {
         "line": {
          "color": "#374151",
          "width": 2
         },
         "marker": {
          "color": "#374151",
          "size": 8
         },
         "mode": "lines+markers",
         "name": "Median (per version)",
         "type": "scatter",
         "visible": false,
         "x": {
          "bdata": "AAE=",
          "dtype": "i1"
         },
         "y": {
          "bdata": "mpnVqnloYT9VVSDEu8NhPw==",
          "dtype": "f8"
         }
        },
        {
         "line": {
          "color": "#374151",
          "width": 2
         },
         "marker": {
          "color": "#374151",
          "size": 8
         },
         "mode": "lines+markers",
         "name": "Median (per version)",
         "type": "scatter",
         "visible": false,
         "x": {
          "bdata": "AAE=",
          "dtype": "i1"
         },
         "y": {
          "bdata": "VbVRXJ12dj8iovBLzcB3Pw==",
          "dtype": "f8"
         }
        },
        {
         "line": {
          "color": "#374151",
          "width": 2
         },
         "marker": {
          "color": "#374151",
          "size": 8
         },
         "mode": "lines+markers",
         "name": "Median (per version)",
         "type": "scatter",
         "visible": false,
         "x": {
          "bdata": "AAE=",
          "dtype": "i1"
         },
         "y": {
          "bdata": "vPvV3wWfeD9ExNOsnTR6Pw==",
          "dtype": "f8"
         }
        },
        {
         "line": {
          "color": "#374151",
          "width": 2
         },
         "marker": {
          "color": "#374151",
          "size": 8
         },
         "mode": "lines+markers",
         "name": "Median (per version)",
         "type": "scatter",
         "visible": false,
         "x": {
          "bdata": "AAE=",
          "dtype": "i1"
         },
         "y": {
          "bdata": "ZlZW80zKsj+aCT1/JRKzPw==",
          "dtype": "f8"
         }
        },
        {
         "line": {
          "color": "#374151",
          "width": 2
         },
         "marker": {
          "color": "#374151",
          "size": 8
         },
         "mode": "lines+markers",
         "name": "Median (per version)",
         "type": "scatter",
         "visible": false,
         "x": {
          "bdata": "AAE=",
          "dtype": "i1"
         },
         "y": {
          "bdata": "zVB17kt0tT8zM3ayjdy0Pw==",
          "dtype": "f8"
         }
        },
        {
         "line": {
          "color": "#9CA3AF",
          "dash": "dash",
          "width": 2
         },
         "marker": {
          "color": "#9CA3AF",
          "size": 8
         },
         "mode": "lines+markers",
         "name": "Mean (per version)",
         "type": "scatter",
         "visible": true,
         "x": {
          "bdata": "AAE=",
          "dtype": "i1"
         },
         "y": {
          "bdata": "3l3FNKSpcT/vbrzR63NxPw==",
          "dtype": "f8"
         }
        },
        {
         "line": {
          "color": "#9CA3AF",
          "dash": "dash",
          "width": 2
         },
         "marker": {
          "color": "#9CA3AF",
          "size": 8
         },
         "mode": "lines+markers",
         "name": "Mean (per version)",
         "type": "scatter",
         "visible": false,
         "x": {
          "bdata": "AAE=",
          "dtype": "i1"
         },
         "y": {
          "bdata": "zezspvondj8AAM8W+b11Pw==",
          "dtype": "f8"
         }
        },
        {
         "line": {
          "color": "#9CA3AF",
          "dash": "dash",
          "width": 2
         },
         "marker": {
          "color": "#9CA3AF",
          "size": 8
         },
         "mode": "lines+markers",
         "name": "Mean (per version)",
         "type": "scatter",
         "visible": false,
         "x": {
          "bdata": "AAE=",
          "dtype": "i1"
         },
         "y": {
          "bdata": "vLtDM3inKz93d2fNUlwsPw==",
          "dtype": "f8"
         }
        },
        {
         "line": {
          "color": "#9CA3AF",
          "dash": "dash",
          "width": 2
         },
         "marker": {
          "color": "#9CA3AF",
          "size": 8
         },
         "mode": "lines+markers",
         "name": "Mean (per version)",
         "type": "scatter",
         "visible": false,
         "x": {
          "bdata": "AAE=",
          "dtype": "i1"
         },
         "y": {
          "bdata": "mpnVqnloYT9VVSDEu8NhPw==",
          "dtype": "f8"
         }
        },
        {
         "line": {
          "color": "#9CA3AF",
          "dash": "dash",
          "width": 2
         },
         "marker": {
          "color": "#9CA3AF",
          "size": 8
         },
         "mode": "lines+markers",
         "name": "Mean (per version)",
         "type": "scatter",
         "visible": false,
         "x": {
          "bdata": "AAE=",
          "dtype": "i1"
         },
         "y": {
          "bdata": "VbVRXJ12dj8iovBLzcB3Pw==",
          "dtype": "f8"
         }
        },
        {
         "line": {
          "color": "#9CA3AF",
          "dash": "dash",
          "width": 2
         },
         "marker": {
          "color": "#9CA3AF",
          "size": 8
         },
         "mode": "lines+markers",
         "name": "Mean (per version)",
         "type": "scatter",
         "visible": false,
         "x": {
          "bdata": "AAE=",
          "dtype": "i1"
         },
         "y": {
          "bdata": "vPvV3wWfeD9ExNOsnTR6Pw==",
          "dtype": "f8"
         }
        },
        {
         "line": {
          "color": "#9CA3AF",
          "dash": "dash",
          "width": 2
         },
         "marker": {
          "color": "#9CA3AF",
          "size": 8
         },
         "mode": "lines+markers",
         "name": "Mean (per version)",
         "type": "scatter",
         "visible": false,
         "x": {
          "bdata": "AAE=",
          "dtype": "i1"
         },
         "y": {
          "bdata": "ZlZW80zKsj+aCT1/JRKzPw==",
          "dtype": "f8"
         }
        },
        {
         "line": {
          "color": "#9CA3AF",
          "dash": "dash",
          "width": 2
         },
         "marker": {
          "color": "#9CA3AF",
          "size": 8
         },
         "mode": "lines+markers",
         "name": "Mean (per version)",
         "type": "scatter",
         "visible": false,
         "x": {
          "bdata": "AAE=",
          "dtype": "i1"
         },
         "y": {
          "bdata": "zVB17kt0tT8zM3ayjdy0Pw==",
          "dtype": "f8"
         }
        }
       ],
       "layout": {
        "legend": {
         "title": {
          "text": ""
         }
        },
        "margin": {
         "b": 60,
         "l": 70,
         "r": 20,
         "t": 100
        },
        "showlegend": false,
        "template": {
         "data": {
          "bar": [
           {
            "error_x": {
             "color": "#2a3f5f"
            },
            "error_y": {
             "color": "#2a3f5f"
            },
            "marker": {
             "line": {
              "color": "#E5ECF6",
              "width": 0.5
             },
             "pattern": {
              "fillmode": "overlay",
              "size": 10,
              "solidity": 0.2
             }
            },
            "type": "bar"
           }
          ],
          "barpolar": [
           {
            "marker": {
             "line": {
              "color": "#E5ECF6",
              "width": 0.5
             },
             "pattern": {
              "fillmode": "overlay",
              "size": 10,
              "solidity": 0.2
             }
            },
            "type": "barpolar"
           }
          ],
          "carpet": [
           {
            "aaxis": {
             "endlinecolor": "#2a3f5f",
             "gridcolor": "white",
             "linecolor": "white",
             "minorgridcolor": "white",
             "startlinecolor": "#2a3f5f"
            },
            "baxis": {
             "endlinecolor": "#2a3f5f",
             "gridcolor": "white",
             "linecolor": "white",
             "minorgridcolor": "white",
             "startlinecolor": "#2a3f5f"
            },
            "type": "carpet"
           }
          ],
          "choropleth": [
           {
            "colorbar": {
             "outlinewidth": 0,
             "ticks": ""
            },
            "type": "choropleth"
           }
          ],
          "contour": [
           {
            "colorbar": {
             "outlinewidth": 0,
             "ticks": ""
            },
            "colorscale": [
             [
              0,
              "#0d0887"
             ],
             [
              0.1111111111111111,
              "#46039f"
             ],
             [
              0.2222222222222222,
              "#7201a8"
             ],
             [
              0.3333333333333333,
              "#9c179e"
             ],
             [
              0.4444444444444444,
              "#bd3786"
             ],
             [
              0.5555555555555556,
              "#d8576b"
             ],
             [
              0.6666666666666666,
              "#ed7953"
             ],
             [
              0.7777777777777778,
              "#fb9f3a"
             ],
             [
              0.8888888888888888,
              "#fdca26"
             ],
             [
              1,
              "#f0f921"
             ]
            ],
            "type": "contour"
           }
          ],
          "contourcarpet": [
           {
            "colorbar": {
             "outlinewidth": 0,
             "ticks": ""
            },
            "type": "contourcarpet"
           }
          ],
          "heatmap": [
           {
            "colorbar": {
             "outlinewidth": 0,
             "ticks": ""
            },
            "colorscale": [
             [
              0,
              "#0d0887"
             ],
             [
              0.1111111111111111,
              "#46039f"
             ],
             [
              0.2222222222222222,
              "#7201a8"
             ],
             [
              0.3333333333333333,
              "#9c179e"
             ],
             [
              0.4444444444444444,
              "#bd3786"
             ],
             [
              0.5555555555555556,
              "#d8576b"
             ],
             [
              0.6666666666666666,
              "#ed7953"
             ],
             [
              0.7777777777777778,
              "#fb9f3a"
             ],
             [
              0.8888888888888888,
              "#fdca26"
             ],
             [
              1,
              "#f0f921"
             ]
            ],
            "type": "heatmap"
           }
          ],
          "histogram": [
           {
            "marker": {
             "pattern": {
              "fillmode": "overlay",
              "size": 10,
              "solidity": 0.2
             }
            },
            "type": "histogram"
           }
          ],
          "histogram2d": [
           {
            "colorbar": {
             "outlinewidth": 0,
             "ticks": ""
            },
            "colorscale": [
             [
              0,
              "#0d0887"
             ],
             [
              0.1111111111111111,
              "#46039f"
             ],
             [
              0.2222222222222222,
              "#7201a8"
             ],
             [
              0.3333333333333333,
              "#9c179e"
             ],
             [
              0.4444444444444444,
              "#bd3786"
             ],
             [
              0.5555555555555556,
              "#d8576b"
             ],
             [
              0.6666666666666666,
              "#ed7953"
             ],
             [
              0.7777777777777778,
              "#fb9f3a"
             ],
             [
              0.8888888888888888,
              "#fdca26"
             ],
             [
              1,
              "#f0f921"
             ]
            ],
            "type": "histogram2d"
           }
          ],
          "histogram2dcontour": [
           {
            "colorbar": {
             "outlinewidth": 0,
             "ticks": ""
            },
            "colorscale": [
             [
              0,
              "#0d0887"
             ],
             [
              0.1111111111111111,
              "#46039f"
             ],
             [
              0.2222222222222222,
              "#7201a8"
             ],
             [
              0.3333333333333333,
              "#9c179e"
             ],
             [
              0.4444444444444444,
              "#bd3786"
             ],
             [
              0.5555555555555556,
              "#d8576b"
             ],
             [
              0.6666666666666666,
              "#ed7953"
             ],
             [
              0.7777777777777778,
              "#fb9f3a"
             ],
             [
              0.8888888888888888,
              "#fdca26"
             ],
             [
              1,
              "#f0f921"
             ]
            ],
            "type": "histogram2dcontour"
           }
          ],
          "mesh3d": [
           {
            "colorbar": {
             "outlinewidth": 0,
             "ticks": ""
            },
            "type": "mesh3d"
           }
          ],
          "parcoords": [
           {
            "line": {
             "colorbar": {
              "outlinewidth": 0,
              "ticks": ""
             }
            },
            "type": "parcoords"
           }
          ],
          "pie": [
           {
            "automargin": true,
            "type": "pie"
           }
          ],
          "scatter": [
           {
            "fillpattern": {
             "fillmode": "overlay",
             "size": 10,
             "solidity": 0.2
            },
            "type": "scatter"
           }
          ],
          "scatter3d": [
           {
            "line": {
             "colorbar": {
              "outlinewidth": 0,
              "ticks": ""
             }
            },
            "marker": {
             "colorbar": {
              "outlinewidth": 0,
              "ticks": ""
             }
            },
            "type": "scatter3d"
           }
          ],
          "scattercarpet": [
           {
            "marker": {
             "colorbar": {
              "outlinewidth": 0,
              "ticks": ""
             }
            },
            "type": "scattercarpet"
           }
          ],
          "scattergeo": [
           {
            "marker": {
             "colorbar": {
              "outlinewidth": 0,
              "ticks": ""
             }
            },
            "type": "scattergeo"
           }
          ],
          "scattergl": [
           {
            "marker": {
             "colorbar": {
              "outlinewidth": 0,
              "ticks": ""
             }
            },
            "type": "scattergl"
           }
          ],
          "scattermap": [
           {
            "marker": {
             "colorbar": {
              "outlinewidth": 0,
              "ticks": ""
             }
            },
            "type": "scattermap"
           }
          ],
          "scattermapbox": [
           {
            "marker": {
             "colorbar": {
              "outlinewidth": 0,
              "ticks": ""
             }
            },
            "type": "scattermapbox"
           }
          ],
          "scatterpolar": [
           {
            "marker": {
             "colorbar": {
              "outlinewidth": 0,
              "ticks": ""
             }
            },
            "type": "scatterpolar"
           }
          ],
          "scatterpolargl": [
           {
            "marker": {
             "colorbar": {
              "outlinewidth": 0,
              "ticks": ""
             }
            },
            "type": "scatterpolargl"
           }
          ],
          "scatterternary": [
           {
            "marker": {
             "colorbar": {
              "outlinewidth": 0,
              "ticks": ""
             }
            },
            "type": "scatterternary"
           }
          ],
          "surface": [
           {
            "colorbar": {
             "outlinewidth": 0,
             "ticks": ""
            },
            "colorscale": [
             [
              0,
              "#0d0887"
             ],
             [
              0.1111111111111111,
              "#46039f"
             ],
             [
              0.2222222222222222,
              "#7201a8"
             ],
             [
              0.3333333333333333,
              "#9c179e"
             ],
             [
              0.4444444444444444,
              "#bd3786"
             ],
             [
              0.5555555555555556,
              "#d8576b"
             ],
             [
              0.6666666666666666,
              "#ed7953"
             ],
             [
              0.7777777777777778,
              "#fb9f3a"
             ],
             [
              0.8888888888888888,
              "#fdca26"
             ],
             [
              1,
              "#f0f921"
             ]
            ],
            "type": "surface"
           }
          ],
          "table": [
           {
            "cells": {
             "fill": {
              "color": "#EBF0F8"
             },
             "line": {
              "color": "white"
             }
            },
            "header": {
             "fill": {
              "color": "#C8D4E3"
             },
             "line": {
              "color": "white"
             }
            },
            "type": "table"
           }
          ]
         },
         "layout": {
          "annotationdefaults": {
           "arrowcolor": "#2a3f5f",
           "arrowhead": 0,
           "arrowwidth": 1
          },
          "autotypenumbers": "strict",
          "coloraxis": {
           "colorbar": {
            "outlinewidth": 0,
            "ticks": ""
           }
          },
          "colorscale": {
           "diverging": [
            [
             0,
             "#8e0152"
            ],
            [
             0.1,
             "#c51b7d"
            ],
            [
             0.2,
             "#de77ae"
            ],
            [
             0.3,
             "#f1b6da"
            ],
            [
             0.4,
             "#fde0ef"
            ],
            [
             0.5,
             "#f7f7f7"
            ],
            [
             0.6,
             "#e6f5d0"
            ],
            [
             0.7,
             "#b8e186"
            ],
            [
             0.8,
             "#7fbc41"
            ],
            [
             0.9,
             "#4d9221"
            ],
            [
             1,
             "#276419"
            ]
           ],
           "sequential": [
            [
             0,
             "#0d0887"
            ],
            [
             0.1111111111111111,
             "#46039f"
            ],
            [
             0.2222222222222222,
             "#7201a8"
            ],
            [
             0.3333333333333333,
             "#9c179e"
            ],
            [
             0.4444444444444444,
             "#bd3786"
            ],
            [
             0.5555555555555556,
             "#d8576b"
            ],
            [
             0.6666666666666666,
             "#ed7953"
            ],
            [
             0.7777777777777778,
             "#fb9f3a"
            ],
            [
             0.8888888888888888,
             "#fdca26"
            ],
            [
             1,
             "#f0f921"
            ]
           ],
           "sequentialminus": [
            [
             0,
             "#0d0887"
            ],
            [
             0.1111111111111111,
             "#46039f"
            ],
            [
             0.2222222222222222,
             "#7201a8"
            ],
            [
             0.3333333333333333,
             "#9c179e"
            ],
            [
             0.4444444444444444,
             "#bd3786"
            ],
            [
             0.5555555555555556,
             "#d8576b"
            ],
            [
             0.6666666666666666,
             "#ed7953"
            ],
            [
             0.7777777777777778,
             "#fb9f3a"
            ],
            [
             0.8888888888888888,
             "#fdca26"
            ],
            [
             1,
             "#f0f921"
            ]
           ]
          },
          "colorway": [
           "#636efa",
           "#EF553B",
           "#00cc96",
           "#ab63fa",
           "#FFA15A",
           "#19d3f3",
           "#FF6692",
           "#B6E880",
           "#FF97FF",
           "#FECB52"
          ],
          "font": {
           "color": "#2a3f5f"
          },
          "geo": {
           "bgcolor": "white",
           "lakecolor": "white",
           "landcolor": "#E5ECF6",
           "showlakes": true,
           "showland": true,
           "subunitcolor": "white"
          },
          "hoverlabel": {
           "align": "left"
          },
          "hovermode": "closest",
          "mapbox": {
           "style": "light"
          },
          "paper_bgcolor": "white",
          "plot_bgcolor": "#E5ECF6",
          "polar": {
           "angularaxis": {
            "gridcolor": "white",
            "linecolor": "white",
            "ticks": ""
           },
           "bgcolor": "#E5ECF6",
           "radialaxis": {
            "gridcolor": "white",
            "linecolor": "white",
            "ticks": ""
           }
          },
          "scene": {
           "xaxis": {
            "backgroundcolor": "#E5ECF6",
            "gridcolor": "white",
            "gridwidth": 2,
            "linecolor": "white",
            "showbackground": true,
            "ticks": "",
            "zerolinecolor": "white"
           },
           "yaxis": {
            "backgroundcolor": "#E5ECF6",
            "gridcolor": "white",
            "gridwidth": 2,
            "linecolor": "white",
            "showbackground": true,
            "ticks": "",
            "zerolinecolor": "white"
           },
           "zaxis": {
            "backgroundcolor": "#E5ECF6",
            "gridcolor": "white",
            "gridwidth": 2,
            "linecolor": "white",
            "showbackground": true,
            "ticks": "",
            "zerolinecolor": "white"
           }
          },
          "shapedefaults": {
           "line": {
            "color": "#2a3f5f"
           }
          },
          "ternary": {
           "aaxis": {
            "gridcolor": "white",
            "linecolor": "white",
            "ticks": ""
           },
           "baxis": {
            "gridcolor": "white",
            "linecolor": "white",
            "ticks": ""
           },
           "bgcolor": "#E5ECF6",
           "caxis": {
            "gridcolor": "white",
            "linecolor": "white",
            "ticks": ""
           }
          },
          "title": {
           "x": 0.05
          },
          "xaxis": {
           "automargin": true,
           "gridcolor": "white",
           "linecolor": "white",
           "ticks": "",
           "title": {
            "standoff": 15
           },
           "zerolinecolor": "white",
           "zerolinewidth": 2
          },
          "yaxis": {
           "automargin": true,
           "gridcolor": "white",
           "linecolor": "white",
           "ticks": "",
           "title": {
            "standoff": 15
           },
           "zerolinecolor": "white",
           "zerolinewidth": 2
          }
         }
        },
        "title": {
         "text": "ForecasterRecursive — Execution time `ForecasterRecursive__create_train_X_y`"
        },
        "updatemenus": [
         {
          "buttons": [
           {
            "args": [
             {
              "visible": [
               true,
               true,
               false,
               false,
               false,
               false,
               false,
               false,
               false,
               false,
               false,
               false,
               false,
               false,
               false,
               false,
               true,
               false,
               false,
               false,
               false,
               false,
               false,
               false,
               true,
               false,
               false,
               false,
               false,
               false,
               false,
               false
              ]
             },
             {
              "title": "Execution time — method: ForecasterRecursive__create_train_X_y"
             }
            ],
            "label": "ForecasterRecursive__create_train_X_y",
            "method": "update"
           },
           {
            "args": [
             {
              "visible": [
               false,
               false,
               true,
               true,
               false,
               false,
               false,
               false,
               false,
               false,
               false,
               false,
               false,
               false,
               false,
               false,
               false,
               true,
               false,
               false,
               false,
               false,
               false,
               false,
               false,
               true,
               false,
               false,
               false,
               false,
               false,
               false
              ]
             },
             {
              "title": "Execution time — method: ForecasterRecursive_fit"
             }
            ],
            "label": "ForecasterRecursive_fit",
            "method": "update"
           },
           {
            "args": [
             {
              "visible": [
               false,
               false,
               false,
               false,
               true,
               true,
               false,
               false,
               false,
               false,
               false,
               false,
               false,
               false,
               false,
               false,
               false,
               false,
               true,
               false,
               false,
               false,
               false,
               false,
               false,
               false,
               true,
               false,
               false,
               false,
               false,
               false
              ]
             },
             {
              "title": "Execution time — method: ForecasterRecursive_check_predict_inputs"
             }
            ],
            "label": "ForecasterRecursive_check_predict_inputs",
            "method": "update"
           },
           {
            "args": [
             {
              "visible": [
               false,
               false,
               false,
               false,
               false,
               false,
               true,
               true,
               false,
               false,
               false,
               false,
               false,
               false,
               false,
               false,
               false,
               false,
               false,
               true,
               false,
               false,
               false,
               false,
               false,
               false,
               false,
               true,
               false,
               false,
               false,
               false
              ]
             },
             {
              "title": "Execution time — method: ForecasterRecursive__create_predict_inputs"
             }
            ],
            "label": "ForecasterRecursive__create_predict_inputs",
            "method": "update"
           },
           {
            "args": [
             {
              "visible": [
               false,
               false,
               false,
               false,
               false,
               false,
               false,
               false,
               true,
               true,
               false,
               false,
               false,
               false,
               false,
               false,
               false,
               false,
               false,
               false,
               true,
               false,
               false,
               false,
               false,
               false,
               false,
               false,
               true,
               false,
               false,
               false
              ]
             },
             {
              "title": "Execution time — method: ForecasterRecursive_predict"
             }
            ],
            "label": "ForecasterRecursive_predict",
            "method": "update"
           },
           {
            "args": [
             {
              "visible": [
               false,
               false,
               false,
               false,
               false,
               false,
               false,
               false,
               false,
               false,
               true,
               true,
               false,
               false,
               false,
               false,
               false,
               false,
               false,
               false,
               false,
               true,
               false,
               false,
               false,
               false,
               false,
               false,
               false,
               true,
               false,
               false
              ]
             },
             {
              "title": "Execution time — method: ForecasterRecursive_predict_interval_conformal"
             }
            ],
            "label": "ForecasterRecursive_predict_interval_conformal",
            "method": "update"
           },
           {
            "args": [
             {
              "visible": [
               false,
               false,
               false,
               false,
               false,
               false,
               false,
               false,
               false,
               false,
               false,
               false,
               true,
               true,
               false,
               false,
               false,
               false,
               false,
               false,
               false,
               false,
               true,
               false,
               false,
               false,
               false,
               false,
               false,
               false,
               true,
               false
              ]
             },
             {
              "title": "Execution time — method: ForecasterRecursive_backtesting"
             }
            ],
            "label": "ForecasterRecursive_backtesting",
            "method": "update"
           },
           {
            "args": [
             {
              "visible": [
               false,
               false,
               false,
               false,
               false,
               false,
               false,
               false,
               false,
               false,
               false,
               false,
               false,
               false,
               true,
               true,
               false,
               false,
               false,
               false,
               false,
               false,
               false,
               true,
               false,
               false,
               false,
               false,
               false,
               false,
               false,
               true
              ]
             },
             {
              "title": "Execution time — method: ForecasterRecursive_backtesting_conformal"
             }
            ],
            "label": "ForecasterRecursive_backtesting_conformal",
            "method": "update"
           }
          ],
          "direction": "down",
          "pad": {
           "r": 2,
           "t": 0
          },
          "showactive": true,
          "type": "dropdown",
          "x": 1,
          "xanchor": "right",
          "y": 1.03,
          "yanchor": "bottom"
         }
        ],
        "xaxis": {
         "automargin": true,
         "tickangle": 0,
         "tickmode": "array",
         "ticktext": [
          "0.16.0",
          "0.17.0"
         ],
         "tickvals": [
          0,
          1
         ],
         "title": {
          "text": "skforecast version"
         }
        },
        "yaxis": {
         "automargin": true,
         "title": {
          "text": "Execution time (s)"
         }
        }
       }
      }
     },
     "metadata": {},
     "output_type": "display_data"
    }
   ],
   "source": [
    "# Plot benchmark results\n",
    "# ==============================================================================\n",
    "plot_benchmark_results(\n",
    "    results_benchmark_all,\n",
    "    forecaster_names = ['ForecasterRecursive', 'ForecasterAutoreg'],\n",
    "    regressors       = ['DummyRegressor'],\n",
    "    add_mean         = True,\n",
    "    add_median       = True\n",
    ")"
   ]
  },
  {
   "cell_type": "code",
   "execution_count": null,
   "metadata": {},
   "outputs": [],
   "source": []
  },
  {
   "cell_type": "code",
   "execution_count": null,
   "metadata": {},
   "outputs": [],
   "source": []
  }
 ],
 "metadata": {
  "kernelspec": {
   "display_name": "skforecast_py12",
   "language": "python",
   "name": "python3"
  },
  "language_info": {
   "codemirror_mode": {
    "name": "ipython",
    "version": 3
   },
   "file_extension": ".py",
   "mimetype": "text/x-python",
   "name": "python",
   "nbconvert_exporter": "python",
   "pygments_lexer": "ipython3",
   "version": "3.12.11"
  },
  "orig_nbformat": 4
 },
 "nbformat": 4,
 "nbformat_minor": 2
}
