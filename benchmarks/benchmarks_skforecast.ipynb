{
 "cells": [
  {
   "cell_type": "markdown",
   "metadata": {},
   "source": [
    "# Benchmarking skforecast\n",
    "\n",
    "Benchmarking is an essential part of the development process of **skforecast**. It provides a transparent view of how the **performance of the library** evolves across versions and helps users make informed decisions when choosing the right forecaster or configuration for their use case.\n",
    "\n",
    "In this section, we present benchmark results that measure the execution time of key methods (`fit`, `predict`, etc.) and their **performance evolution across versions**, allowing the detection of improvements or regressions.\n",
    "\n",
    "## Methodology\n",
    "\n",
    "The benchmarking results presented here are generated using a **custom benchmarking script** located in the `benchmarks/` directory of the repository. This script executes a series of performance tests for the main forecasting classes and their methods, recording both execution time and variability across multiple runs.\n",
    "\n",
    "To ensure **consistency and reproducibility**, all benchmarks are automatically executed as part of the continuous integration (CI) pipeline using GitHub Actions. This guarantees that each new release of the library is tested under the **same environment and dependency configuration**, making performance results directly comparable across versions.\n",
    "\n",
    "Users who wish to reproduce the benchmarks locally can execute the same script by running:\n",
    "\n",
    "```bash\n",
    "# From skforecast root directory\n",
    "python benchmarks/run_benchmarks.py\n",
    "```\n",
    "\n",
    "Results are stored in a structured format in `benchmarks/benchmarks.joblib`."
   ]
  },
  {
   "cell_type": "code",
   "execution_count": 1,
   "metadata": {},
   "outputs": [],
   "source": [
    "# Libraries\n",
    "# ==============================================================================\n",
    "import platform\n",
    "import psutil\n",
    "import numpy as np\n",
    "import pandas as pd\n",
    "import joblib\n",
    "\n",
    "import sklearn\n",
    "import skforecast\n",
    "from benchmarks.utils import plot_benchmark_results\n",
    "\n",
    "# Display all columns in pandas\n",
    "pd.set_option(\"display.max_columns\", None)"
   ]
  },
  {
   "cell_type": "code",
   "execution_count": 2,
   "metadata": {},
   "outputs": [
    {
     "name": "stdout",
     "output_type": "stream",
     "text": [
      "Python version           : 3.12.11\n",
      "skforecast version       : 0.17.0\n",
      "numpy version            : 2.1.3\n",
      "pandas version           : 2.3.1\n",
      "scikit-learn version     : 1.6.1\n",
      "Computer network name    : ITES015-NB0029\n",
      "Processor type           : Intel64 Family 6 Model 141 Stepping 1, GenuineIntel\n",
      "Platform type            : Windows-11-10.0.26100-SP0\n",
      "Number of physical cores : 8\n",
      "Number of logical cores  : 16\n",
      "Memory total             : 34.07 GB\n"
     ]
    }
   ],
   "source": [
    "# Environment information\n",
    "# ==============================================================================\n",
    "print(f\"Python version           : {platform.python_version()}\")\n",
    "print(f\"skforecast version       : {skforecast.__version__}\")\n",
    "print(f\"numpy version            : {np.__version__}\")\n",
    "print(f\"pandas version           : {pd.__version__}\")\n",
    "print(f\"scikit-learn version     : {sklearn.__version__}\")\n",
    "print(f\"Computer network name    : {platform.node()}\")\n",
    "print(f\"Processor type           : {platform.processor()}\")\n",
    "print(f\"Platform type            : {platform.platform()}\")\n",
    "print(f\"Number of physical cores : {psutil.cpu_count(logical=False)}\")\n",
    "print(f\"Number of logical cores  : {psutil.cpu_count(logical=True)}\")\n",
    "print(f\"Memory total             : {round(psutil.virtual_memory().total / 1e9, 2)} GB\")"
   ]
  },
  {
   "cell_type": "code",
   "execution_count": 3,
   "metadata": {},
   "outputs": [],
   "source": [
    "import warnings\n",
    "warnings.filterwarnings(\n",
    "    \"ignore\",\n",
    "    category=FutureWarning,\n",
    "    message=\"'force_all_finite' was renamed to 'ensure_all_finite'\"\n",
    ")"
   ]
  },
  {
   "cell_type": "markdown",
   "metadata": {},
   "source": [
    "## Global results"
   ]
  },
  {
   "cell_type": "code",
   "execution_count": 4,
   "metadata": {},
   "outputs": [
    {
     "data": {
      "text/html": [
       "<div>\n",
       "<style scoped>\n",
       "    .dataframe tbody tr th:only-of-type {\n",
       "        vertical-align: middle;\n",
       "    }\n",
       "\n",
       "    .dataframe tbody tr th {\n",
       "        vertical-align: top;\n",
       "    }\n",
       "\n",
       "    .dataframe thead th {\n",
       "        text-align: right;\n",
       "    }\n",
       "</style>\n",
       "<table border=\"1\" class=\"dataframe\">\n",
       "  <thead>\n",
       "    <tr style=\"text-align: right;\">\n",
       "      <th></th>\n",
       "      <th>forecaster_name</th>\n",
       "      <th>regressor_name</th>\n",
       "      <th>function_name</th>\n",
       "      <th>function_hash</th>\n",
       "      <th>method_name</th>\n",
       "      <th>run_time_avg</th>\n",
       "      <th>run_time_median</th>\n",
       "      <th>run_time_p95</th>\n",
       "      <th>run_time_std</th>\n",
       "      <th>n_repeats</th>\n",
       "      <th>datetime</th>\n",
       "      <th>python_version</th>\n",
       "      <th>skforecast_version</th>\n",
       "      <th>numpy_version</th>\n",
       "      <th>pandas_version</th>\n",
       "      <th>sklearn_version</th>\n",
       "      <th>lightgbm_version</th>\n",
       "      <th>platform</th>\n",
       "      <th>processor</th>\n",
       "      <th>cpu_count</th>\n",
       "      <th>memory_gb</th>\n",
       "    </tr>\n",
       "  </thead>\n",
       "  <tbody>\n",
       "    <tr>\n",
       "      <th>0</th>\n",
       "      <td>ForecasterRecursive</td>\n",
       "      <td>DummyRegressor</td>\n",
       "      <td>ForecasterRecursive__create_train_X_y</td>\n",
       "      <td>59b823f1ff395872fac4f7578bd859fa</td>\n",
       "      <td>_create_train_X_y</td>\n",
       "      <td>0.004280</td>\n",
       "      <td>0.004191</td>\n",
       "      <td>0.004524</td>\n",
       "      <td>0.000344</td>\n",
       "      <td>30</td>\n",
       "      <td>2025-08-26 06:59:07.003048</td>\n",
       "      <td>3.12.11</td>\n",
       "      <td>0.17.0</td>\n",
       "      <td>2.1.3</td>\n",
       "      <td>2.3.2</td>\n",
       "      <td>1.6.1</td>\n",
       "      <td>4.6.0</td>\n",
       "      <td>Linux-6.11.0-1018-azure-x86_64-with-glibc2.39</td>\n",
       "      <td>x86_64</td>\n",
       "      <td>4</td>\n",
       "      <td>16.77</td>\n",
       "    </tr>\n",
       "    <tr>\n",
       "      <th>1</th>\n",
       "      <td>ForecasterRecursive</td>\n",
       "      <td>DummyRegressor</td>\n",
       "      <td>ForecasterRecursive_fit</td>\n",
       "      <td>9d73eaf5faa980194d715362601eed68</td>\n",
       "      <td>fit</td>\n",
       "      <td>0.005956</td>\n",
       "      <td>0.005379</td>\n",
       "      <td>0.008166</td>\n",
       "      <td>0.001107</td>\n",
       "      <td>10</td>\n",
       "      <td>2025-08-26 06:59:07.066656</td>\n",
       "      <td>3.12.11</td>\n",
       "      <td>0.17.0</td>\n",
       "      <td>2.1.3</td>\n",
       "      <td>2.3.2</td>\n",
       "      <td>1.6.1</td>\n",
       "      <td>4.6.0</td>\n",
       "      <td>Linux-6.11.0-1018-azure-x86_64-with-glibc2.39</td>\n",
       "      <td>x86_64</td>\n",
       "      <td>4</td>\n",
       "      <td>16.77</td>\n",
       "    </tr>\n",
       "  </tbody>\n",
       "</table>\n",
       "</div>"
      ],
      "text/plain": [
       "       forecaster_name  regressor_name                          function_name  \\\n",
       "0  ForecasterRecursive  DummyRegressor  ForecasterRecursive__create_train_X_y   \n",
       "1  ForecasterRecursive  DummyRegressor                ForecasterRecursive_fit   \n",
       "\n",
       "                      function_hash        method_name  run_time_avg  \\\n",
       "0  59b823f1ff395872fac4f7578bd859fa  _create_train_X_y      0.004280   \n",
       "1  9d73eaf5faa980194d715362601eed68                fit      0.005956   \n",
       "\n",
       "   run_time_median  run_time_p95  run_time_std  n_repeats  \\\n",
       "0         0.004191      0.004524      0.000344         30   \n",
       "1         0.005379      0.008166      0.001107         10   \n",
       "\n",
       "                    datetime python_version skforecast_version numpy_version  \\\n",
       "0 2025-08-26 06:59:07.003048        3.12.11             0.17.0         2.1.3   \n",
       "1 2025-08-26 06:59:07.066656        3.12.11             0.17.0         2.1.3   \n",
       "\n",
       "  pandas_version sklearn_version lightgbm_version  \\\n",
       "0          2.3.2           1.6.1            4.6.0   \n",
       "1          2.3.2           1.6.1            4.6.0   \n",
       "\n",
       "                                        platform processor  cpu_count  \\\n",
       "0  Linux-6.11.0-1018-azure-x86_64-with-glibc2.39    x86_64          4   \n",
       "1  Linux-6.11.0-1018-azure-x86_64-with-glibc2.39    x86_64          4   \n",
       "\n",
       "   memory_gb  \n",
       "0      16.77  \n",
       "1      16.77  "
      ]
     },
     "execution_count": 4,
     "metadata": {},
     "output_type": "execute_result"
    }
   ],
   "source": [
    "# Load benchmark results\n",
    "# ==============================================================================\n",
    "results_benchmark_all = joblib.load(\"./benchmark.joblib\")\n",
    "results_benchmark_all.head(2)"
   ]
  },
  {
   "cell_type": "markdown",
   "metadata": {},
   "source": [
    "## ForecasterRecursive\n",
    "\n",
    "The [`ForecasterRecursive` class](https://skforecast.org/latest/user_guides/autoregresive-forecaster.html) is benchmarked under a fixed experimental setup to ensure fair comparison across library versions. Key conditions are:\n",
    "\n",
    "| Condition          | Value                                                                                |\n",
    "|:-------------------|:-------------------------------------------------------------------------------------|\n",
    "| Regressor          | `sklearn.dummy.DummyRegressor` (to isolate forecaster overhead)                      |\n",
    "| Dataset length     | 2000 synthetic observations (generated with `bench_forecaster_recursive._make_data`) |\n",
    "| Exogenous features | 3                                                                                    |\n",
    "| Prediction horizon | 100 steps ahead                                                                      |\n",
    "| Backtesting split  | 1200 training, remaining for testing, step size = 50, no re-fitting (see [guide](https://skforecast.org/latest/user_guides/backtesting.html)) |\n",
    "\n",
    "**Note:** In versions `< 0.14.0`, `ForecasterRecursive` was named `ForecasterAutoreg`.  "
   ]
  },
  {
   "cell_type": "code",
   "execution_count": 5,
   "metadata": {},
   "outputs": [
    {
     "data": {
      "application/vnd.plotly.v1+json": {
       "config": {
        "plotlyServerURL": "https://plot.ly"
       },
       "data": [
        {
         "error_y": {
          "array": {
           "bdata": "soYjLinYND/caBeLQBA0P01wTlL8mjM/PINNe9HcMj8=",
           "dtype": "f8"
          },
          "color": "#636EFA",
          "thickness": 1.5,
          "type": "data",
          "visible": true,
          "width": 5
         },
         "hovertemplate": "%{text}<extra></extra>",
         "marker": {
          "color": "#636EFA",
          "line": {
           "color": "white",
           "width": 1
          },
          "opacity": 0.85,
          "size": 10
         },
         "mode": "markers",
         "text": [
          "Forecaster: ForecasterRecursive<br>Regressor: DummyRegressor<br>Function: ForecasterRecursive__create_train_X_y<br>Function_hash: 59b823f1ff395872fac4f7578bd859fa<br>Method: _create_train_X_y<br>Datetime: 2025-08-26 09:16:24.501701<br>Python version: 3.12.11<br>skforecast version: 0.15.1<br>numpy version: 2.1.3<br>pandas version: 2.3.2<br>sklearn version: 1.6.1<br>lightgbm version: 4.6.0<br>Platform: Linux-6.11.0-1018-azure-x86_64-with-glibc2.39<br>Processor: x86_64<br>CPU count: 4<br>Memory (GB): 16.77<br>Run time avg: 0.004335 s<br>Run time median: 0.004245 s<br>Run time p95: 0.004673 s<br>Run time std: 0.000318 s<br>Nº repeats: 30",
          "Forecaster: ForecasterRecursive<br>Regressor: DummyRegressor<br>Function: ForecasterRecursive__create_train_X_y<br>Function_hash: 59b823f1ff395872fac4f7578bd859fa<br>Method: _create_train_X_y<br>Datetime: 2025-08-26 09:32:24.754428<br>Python version: 3.12.11<br>skforecast version: 0.15.1<br>numpy version: 2.1.3<br>pandas version: 2.3.2<br>sklearn version: 1.6.1<br>lightgbm version: 4.6.0<br>Platform: Linux-6.11.0-1018-azure-x86_64-with-glibc2.39<br>Processor: x86_64<br>CPU count: 4<br>Memory (GB): 16.77<br>Run time avg: 0.004331 s<br>Run time median: 0.004265 s<br>Run time p95: 0.004510 s<br>Run time std: 0.000306 s<br>Nº repeats: 30",
          "Forecaster: ForecasterRecursive<br>Regressor: DummyRegressor<br>Function: ForecasterRecursive__create_train_X_y<br>Function_hash: 59b823f1ff395872fac4f7578bd859fa<br>Method: _create_train_X_y<br>Datetime: 2025-08-26 09:45:16.117787<br>Python version: 3.12.11<br>skforecast version: 0.15.1<br>numpy version: 2.1.3<br>pandas version: 2.3.2<br>sklearn version: 1.6.1<br>lightgbm version: 4.6.0<br>Platform: Linux-6.11.0-1018-azure-x86_64-with-glibc2.39<br>Processor: x86_64<br>CPU count: 4<br>Memory (GB): 16.77<br>Run time avg: 0.004295 s<br>Run time median: 0.004229 s<br>Run time p95: 0.004443 s<br>Run time std: 0.000299 s<br>Nº repeats: 30",
          "Forecaster: ForecasterRecursive<br>Regressor: DummyRegressor<br>Function: ForecasterRecursive__create_train_X_y<br>Function_hash: 59b823f1ff395872fac4f7578bd859fa<br>Method: _create_train_X_y<br>Datetime: 2025-08-26 10:08:51.281682<br>Python version: 3.12.11<br>skforecast version: 0.15.1<br>numpy version: 2.1.3<br>pandas version: 2.3.2<br>sklearn version: 1.6.1<br>lightgbm version: 4.6.0<br>Platform: Linux-6.11.0-1018-azure-x86_64-with-glibc2.39<br>Processor: x86_64<br>CPU count: 4<br>Memory (GB): 16.77<br>Run time avg: 0.004325 s<br>Run time median: 0.004255 s<br>Run time p95: 0.004467 s<br>Run time std: 0.000288 s<br>Nº repeats: 30"
         ],
         "type": "scatter",
         "visible": true,
         "x": {
          "bdata": "YJ/VWvmikT+0y/jHDSScv9zFds3qEZ4/YG5lCI9zkT8=",
          "dtype": "f8"
         },
         "y": {
          "bdata": "VVXljxDBcT9313lsH71xP94dpV4gl3E/zUx8bNe2cT8=",
          "dtype": "f8"
         }
        },
        {
         "error_y": {
          "array": {
           "bdata": "/hqDlQdPMj9hkueygn4zP3Ry6ywmKDM/E5WkEmv4Nj8=",
           "dtype": "f8"
          },
          "color": "#EF553B",
          "thickness": 1.5,
          "type": "data",
          "visible": true,
          "width": 5
         },
         "hovertemplate": "%{text}<extra></extra>",
         "marker": {
          "color": "#EF553B",
          "line": {
           "color": "white",
           "width": 1
          },
          "opacity": 0.85,
          "size": 10
         },
         "mode": "markers",
         "text": [
          "Forecaster: ForecasterRecursive<br>Regressor: DummyRegressor<br>Function: ForecasterRecursive__create_train_X_y<br>Function_hash: 59b823f1ff395872fac4f7578bd859fa<br>Method: _create_train_X_y<br>Datetime: 2025-08-26 08:30:00.820339<br>Python version: 3.12.11<br>skforecast version: 0.16.0<br>numpy version: 2.1.3<br>pandas version: 2.3.2<br>sklearn version: 1.6.1<br>lightgbm version: 4.6.0<br>Platform: Linux-6.11.0-1018-azure-x86_64-with-glibc2.39<br>Processor: x86_64<br>CPU count: 4<br>Memory (GB): 16.77<br>Run time avg: 0.004224 s<br>Run time median: 0.004172 s<br>Run time p95: 0.004311 s<br>Run time std: 0.000279 s<br>Nº repeats: 30",
          "Forecaster: ForecasterRecursive<br>Regressor: DummyRegressor<br>Function: ForecasterRecursive__create_train_X_y<br>Function_hash: 59b823f1ff395872fac4f7578bd859fa<br>Method: _create_train_X_y<br>Datetime: 2025-08-26 08:39:55.702980<br>Python version: 3.12.11<br>skforecast version: 0.16.0<br>numpy version: 2.1.3<br>pandas version: 2.3.2<br>sklearn version: 1.6.1<br>lightgbm version: 4.6.0<br>Platform: Linux-6.11.0-1018-azure-x86_64-with-glibc2.39<br>Processor: x86_64<br>CPU count: 4<br>Memory (GB): 16.77<br>Run time avg: 0.004225 s<br>Run time median: 0.004141 s<br>Run time p95: 0.004379 s<br>Run time std: 0.000297 s<br>Nº repeats: 30",
          "Forecaster: ForecasterRecursive<br>Regressor: DummyRegressor<br>Function: ForecasterRecursive__create_train_X_y<br>Function_hash: 59b823f1ff395872fac4f7578bd859fa<br>Method: _create_train_X_y<br>Datetime: 2025-08-26 08:54:10.543630<br>Python version: 3.12.11<br>skforecast version: 0.16.0<br>numpy version: 2.1.3<br>pandas version: 2.3.2<br>sklearn version: 1.6.1<br>lightgbm version: 4.6.0<br>Platform: Linux-6.11.0-1018-azure-x86_64-with-glibc2.39<br>Processor: x86_64<br>CPU count: 4<br>Memory (GB): 16.77<br>Run time avg: 0.004286 s<br>Run time median: 0.004232 s<br>Run time p95: 0.004482 s<br>Run time std: 0.000292 s<br>Nº repeats: 30",
          "Forecaster: ForecasterRecursive<br>Regressor: DummyRegressor<br>Function: ForecasterRecursive__create_train_X_y<br>Function_hash: 59b823f1ff395872fac4f7578bd859fa<br>Method: _create_train_X_y<br>Datetime: 2025-08-26 09:04:32.964284<br>Python version: 3.12.11<br>skforecast version: 0.16.0<br>numpy version: 2.1.3<br>pandas version: 2.3.2<br>sklearn version: 1.6.1<br>lightgbm version: 4.6.0<br>Platform: Linux-6.11.0-1018-azure-x86_64-with-glibc2.39<br>Processor: x86_64<br>CPU count: 4<br>Memory (GB): 16.77<br>Run time avg: 0.004391 s<br>Run time median: 0.004262 s<br>Run time p95: 0.005161 s<br>Run time std: 0.000351 s<br>Nº repeats: 30"
         ],
         "type": "scatter",
         "visible": true,
         "x": {
          "bdata": "CSEn1eQJ7z+zcuPXT1nvP3D6qMbFze8/VmcrJdUZ7z8=",
          "dtype": "f8"
         },
         "y": {
          "bdata": "7+4oyR5NcT+aeYGrxE1xPzMzn9kvjnE/746f3wX8cT8=",
          "dtype": "f8"
         }
        },
        {
         "error_y": {
          "array": {
           "bdata": "D0zK6lKRNj82G/rVAcc9P115da1c5zM//ctfYHxMNj8rzCrdUCozPw==",
           "dtype": "f8"
          },
          "color": "#00CC96",
          "thickness": 1.5,
          "type": "data",
          "visible": true,
          "width": 5
         },
         "hovertemplate": "%{text}<extra></extra>",
         "marker": {
          "color": "#00CC96",
          "line": {
           "color": "white",
           "width": 1
          },
          "opacity": 0.85,
          "size": 10
         },
         "mode": "markers",
         "text": [
          "Forecaster: ForecasterRecursive<br>Regressor: DummyRegressor<br>Function: ForecasterRecursive__create_train_X_y<br>Function_hash: 59b823f1ff395872fac4f7578bd859fa<br>Method: _create_train_X_y<br>Datetime: 2025-08-26 06:59:07.003048<br>Python version: 3.12.11<br>skforecast version: 0.17.0<br>numpy version: 2.1.3<br>pandas version: 2.3.2<br>sklearn version: 1.6.1<br>lightgbm version: 4.6.0<br>Platform: Linux-6.11.0-1018-azure-x86_64-with-glibc2.39<br>Processor: x86_64<br>CPU count: 4<br>Memory (GB): 16.77<br>Run time avg: 0.004280 s<br>Run time median: 0.004191 s<br>Run time p95: 0.004524 s<br>Run time std: 0.000344 s<br>Nº repeats: 30",
          "Forecaster: ForecasterRecursive<br>Regressor: DummyRegressor<br>Function: ForecasterRecursive__create_train_X_y<br>Function_hash: 59b823f1ff395872fac4f7578bd859fa<br>Method: _create_train_X_y<br>Datetime: 2025-08-26 07:11:54.564180<br>Python version: 3.12.11<br>skforecast version: 0.17.0<br>numpy version: 2.1.3<br>pandas version: 2.3.2<br>sklearn version: 1.6.1<br>lightgbm version: 4.6.0<br>Platform: Linux-6.11.0-1018-azure-x86_64-with-glibc2.39<br>Processor: x86_64<br>CPU count: 4<br>Memory (GB): 16.77<br>Run time avg: 0.004435 s<br>Run time median: 0.004279 s<br>Run time p95: 0.005447 s<br>Run time std: 0.000454 s<br>Nº repeats: 30",
          "Forecaster: ForecasterRecursive<br>Regressor: DummyRegressor<br>Function: ForecasterRecursive__create_train_X_y<br>Function_hash: 59b823f1ff395872fac4f7578bd859fa<br>Method: _create_train_X_y<br>Datetime: 2025-08-26 07:30:26.609290<br>Python version: 3.12.11<br>skforecast version: 0.17.0<br>numpy version: 2.1.3<br>pandas version: 2.3.2<br>sklearn version: 1.6.1<br>lightgbm version: 4.6.0<br>Platform: Linux-6.11.0-1018-azure-x86_64-with-glibc2.39<br>Processor: x86_64<br>CPU count: 4<br>Memory (GB): 16.77<br>Run time avg: 0.004355 s<br>Run time median: 0.004275 s<br>Run time p95: 0.004564 s<br>Run time std: 0.000304 s<br>Nº repeats: 30",
          "Forecaster: ForecasterRecursive<br>Regressor: DummyRegressor<br>Function: ForecasterRecursive__create_train_X_y<br>Function_hash: 59b823f1ff395872fac4f7578bd859fa<br>Method: _create_train_X_y<br>Datetime: 2025-08-26 07:43:05.226561<br>Python version: 3.12.11<br>skforecast version: 0.17.0<br>numpy version: 2.1.3<br>pandas version: 2.3.2<br>sklearn version: 1.6.1<br>lightgbm version: 4.6.0<br>Platform: Linux-6.11.0-1018-azure-x86_64-with-glibc2.39<br>Processor: x86_64<br>CPU count: 4<br>Memory (GB): 16.77<br>Run time avg: 0.004328 s<br>Run time median: 0.004219 s<br>Run time p95: 0.004817 s<br>Run time std: 0.000340 s<br>Nº repeats: 30",
          "Forecaster: ForecasterRecursive<br>Regressor: DummyRegressor<br>Function: ForecasterRecursive__create_train_X_y<br>Function_hash: 59b823f1ff395872fac4f7578bd859fa<br>Method: _create_train_X_y<br>Datetime: 2025-08-26 08:09:08.307522<br>Python version: 3.12.11<br>skforecast version: 0.17.0<br>numpy version: 2.1.3<br>pandas version: 2.3.2<br>sklearn version: 1.6.1<br>lightgbm version: 4.6.0<br>Platform: Linux-6.11.0-1018-azure-x86_64-with-glibc2.39<br>Processor: x86_64<br>CPU count: 4<br>Memory (GB): 16.77<br>Run time avg: 0.004288 s<br>Run time median: 0.004225 s<br>Run time p95: 0.004396 s<br>Run time std: 0.000292 s<br>Nº repeats: 30"
         ],
         "type": "scatter",
         "visible": true,
         "x": {
          "bdata": "G1G6Ikve/z8S7id8UiIAQExZKyEIDgBAvLogL/pLAEAMkah59jAAQA==",
          "dtype": "f8"
         },
         "y": {
          "bdata": "q6qbU3WHcT/vbtKnfipyPzNzLF2o1nE/3n0K7Zm6cT9ERPG0NZBxPw==",
          "dtype": "f8"
         }
        },
        {
         "error_y": {
          "array": {
           "bdata": "2c5yEG2XJj/cX1fhJawxP5o5buy6Ryw/+Hu6dBjyJj8=",
           "dtype": "f8"
          },
          "color": "#636EFA",
          "thickness": 1.5,
          "type": "data",
          "visible": true,
          "width": 5
         },
         "hovertemplate": "%{text}<extra></extra>",
         "marker": {
          "color": "#636EFA",
          "line": {
           "color": "white",
           "width": 1
          },
          "opacity": 0.85,
          "size": 10
         },
         "mode": "markers",
         "text": [
          "Forecaster: ForecasterRecursive<br>Regressor: DummyRegressor<br>Function: ForecasterRecursive_fit<br>Function_hash: 9d73eaf5faa980194d715362601eed68<br>Method: fit<br>Datetime: 2025-08-26 09:16:24.561552<br>Python version: 3.12.11<br>skforecast version: 0.15.1<br>numpy version: 2.1.3<br>pandas version: 2.3.2<br>sklearn version: 1.6.1<br>lightgbm version: 4.6.0<br>Platform: Linux-6.11.0-1018-azure-x86_64-with-glibc2.39<br>Processor: x86_64<br>CPU count: 4<br>Memory (GB): 16.77<br>Run time avg: 0.005330 s<br>Run time median: 0.005260 s<br>Run time p95: 0.005658 s<br>Run time std: 0.000172 s<br>Nº repeats: 10",
          "Forecaster: ForecasterRecursive<br>Regressor: DummyRegressor<br>Function: ForecasterRecursive_fit<br>Function_hash: 9d73eaf5faa980194d715362601eed68<br>Method: fit<br>Datetime: 2025-08-26 09:32:24.816393<br>Python version: 3.12.11<br>skforecast version: 0.15.1<br>numpy version: 2.1.3<br>pandas version: 2.3.2<br>sklearn version: 1.6.1<br>lightgbm version: 4.6.0<br>Platform: Linux-6.11.0-1018-azure-x86_64-with-glibc2.39<br>Processor: x86_64<br>CPU count: 4<br>Memory (GB): 16.77<br>Run time avg: 0.005481 s<br>Run time median: 0.005394 s<br>Run time p95: 0.005948 s<br>Run time std: 0.000270 s<br>Nº repeats: 10",
          "Forecaster: ForecasterRecursive<br>Regressor: DummyRegressor<br>Function: ForecasterRecursive_fit<br>Function_hash: 9d73eaf5faa980194d715362601eed68<br>Method: fit<br>Datetime: 2025-08-26 09:45:16.179265<br>Python version: 3.12.11<br>skforecast version: 0.15.1<br>numpy version: 2.1.3<br>pandas version: 2.3.2<br>sklearn version: 1.6.1<br>lightgbm version: 4.6.0<br>Platform: Linux-6.11.0-1018-azure-x86_64-with-glibc2.39<br>Processor: x86_64<br>CPU count: 4<br>Memory (GB): 16.77<br>Run time avg: 0.005439 s<br>Run time median: 0.005368 s<br>Run time p95: 0.005819 s<br>Run time std: 0.000216 s<br>Nº repeats: 10",
          "Forecaster: ForecasterRecursive<br>Regressor: DummyRegressor<br>Function: ForecasterRecursive_fit<br>Function_hash: 9d73eaf5faa980194d715362601eed68<br>Method: fit<br>Datetime: 2025-08-26 10:08:51.343537<br>Python version: 3.12.11<br>skforecast version: 0.15.1<br>numpy version: 2.1.3<br>pandas version: 2.3.2<br>sklearn version: 1.6.1<br>lightgbm version: 4.6.0<br>Platform: Linux-6.11.0-1018-azure-x86_64-with-glibc2.39<br>Processor: x86_64<br>CPU count: 4<br>Memory (GB): 16.77<br>Run time avg: 0.005470 s<br>Run time median: 0.005423 s<br>Run time p95: 0.005772 s<br>Run time std: 0.000175 s<br>Nº repeats: 10"
         ],
         "type": "scatter",
         "visible": false,
         "x": {
          "bdata": "mCPU+TGDh7/Isf3OlXCbP3giQXbOuqg/uPUONjVuhb8=",
          "dtype": "f8"
         },
         "y": {
          "bdata": "zUweDWTUdT/NjNwpQ3N2PwDAWJVXR3Y/zUyWrhNodj8=",
          "dtype": "f8"
         }
        },
        {
         "error_y": {
          "array": {
           "bdata": "iZ5IsbimKD/yP0JbNH8lP8DKUhhIhjE/2rr0ot1RKj8=",
           "dtype": "f8"
          },
          "color": "#EF553B",
          "thickness": 1.5,
          "type": "data",
          "visible": true,
          "width": 5
         },
         "hovertemplate": "%{text}<extra></extra>",
         "marker": {
          "color": "#EF553B",
          "line": {
           "color": "white",
           "width": 1
          },
          "opacity": 0.85,
          "size": 10
         },
         "mode": "markers",
         "text": [
          "Forecaster: ForecasterRecursive<br>Regressor: DummyRegressor<br>Function: ForecasterRecursive_fit<br>Function_hash: 9d73eaf5faa980194d715362601eed68<br>Method: fit<br>Datetime: 2025-08-26 08:30:00.880972<br>Python version: 3.12.11<br>skforecast version: 0.16.0<br>numpy version: 2.1.3<br>pandas version: 2.3.2<br>sklearn version: 1.6.1<br>lightgbm version: 4.6.0<br>Platform: Linux-6.11.0-1018-azure-x86_64-with-glibc2.39<br>Processor: x86_64<br>CPU count: 4<br>Memory (GB): 16.77<br>Run time avg: 0.005401 s<br>Run time median: 0.005342 s<br>Run time p95: 0.005722 s<br>Run time std: 0.000188 s<br>Nº repeats: 10",
          "Forecaster: ForecasterRecursive<br>Regressor: DummyRegressor<br>Function: ForecasterRecursive_fit<br>Function_hash: 9d73eaf5faa980194d715362601eed68<br>Method: fit<br>Datetime: 2025-08-26 08:39:55.762200<br>Python version: 3.12.11<br>skforecast version: 0.16.0<br>numpy version: 2.1.3<br>pandas version: 2.3.2<br>sklearn version: 1.6.1<br>lightgbm version: 4.6.0<br>Platform: Linux-6.11.0-1018-azure-x86_64-with-glibc2.39<br>Processor: x86_64<br>CPU count: 4<br>Memory (GB): 16.77<br>Run time avg: 0.005288 s<br>Run time median: 0.005227 s<br>Run time p95: 0.005574 s<br>Run time std: 0.000164 s<br>Nº repeats: 10",
          "Forecaster: ForecasterRecursive<br>Regressor: DummyRegressor<br>Function: ForecasterRecursive_fit<br>Function_hash: 9d73eaf5faa980194d715362601eed68<br>Method: fit<br>Datetime: 2025-08-26 08:54:10.634403<br>Python version: 3.12.11<br>skforecast version: 0.16.0<br>numpy version: 2.1.3<br>pandas version: 2.3.2<br>sklearn version: 1.6.1<br>lightgbm version: 4.6.0<br>Platform: Linux-6.11.0-1018-azure-x86_64-with-glibc2.39<br>Processor: x86_64<br>CPU count: 4<br>Memory (GB): 16.77<br>Run time avg: 0.005427 s<br>Run time median: 0.005338 s<br>Run time p95: 0.005871 s<br>Run time std: 0.000267 s<br>Nº repeats: 10",
          "Forecaster: ForecasterRecursive<br>Regressor: DummyRegressor<br>Function: ForecasterRecursive_fit<br>Function_hash: 9d73eaf5faa980194d715362601eed68<br>Method: fit<br>Datetime: 2025-08-26 09:04:33.025780<br>Python version: 3.12.11<br>skforecast version: 0.16.0<br>numpy version: 2.1.3<br>pandas version: 2.3.2<br>sklearn version: 1.6.1<br>lightgbm version: 4.6.0<br>Platform: Linux-6.11.0-1018-azure-x86_64-with-glibc2.39<br>Processor: x86_64<br>CPU count: 4<br>Memory (GB): 16.77<br>Run time avg: 0.005446 s<br>Run time median: 0.005419 s<br>Run time p95: 0.005789 s<br>Run time std: 0.000201 s<br>Nº repeats: 10"
         ],
         "type": "scatter",
         "visible": false,
         "x": {
          "bdata": "8aJPhjRU8D+s2UP/PkDwP1oclCoQB+8/9VhdOSRn7z8=",
          "dtype": "f8"
         },
         "y": {
          "bdata": "AAADbSIfdj9mxtGiSal1PzMzNw7HOnY/zeySLyZOdj8=",
          "dtype": "f8"
         }
        },
        {
         "error_y": {
          "array": {
           "bdata": "iO4cmAQlUj+h4in3ocEgP/rRAGvhWyY/BB1uXI2yJj+VnkgYNfomPw==",
           "dtype": "f8"
          },
          "color": "#00CC96",
          "thickness": 1.5,
          "type": "data",
          "visible": true,
          "width": 5
         },
         "hovertemplate": "%{text}<extra></extra>",
         "marker": {
          "color": "#00CC96",
          "line": {
           "color": "white",
           "width": 1
          },
          "opacity": 0.85,
          "size": 10
         },
         "mode": "markers",
         "text": [
          "Forecaster: ForecasterRecursive<br>Regressor: DummyRegressor<br>Function: ForecasterRecursive_fit<br>Function_hash: 9d73eaf5faa980194d715362601eed68<br>Method: fit<br>Datetime: 2025-08-26 06:59:07.066656<br>Python version: 3.12.11<br>skforecast version: 0.17.0<br>numpy version: 2.1.3<br>pandas version: 2.3.2<br>sklearn version: 1.6.1<br>lightgbm version: 4.6.0<br>Platform: Linux-6.11.0-1018-azure-x86_64-with-glibc2.39<br>Processor: x86_64<br>CPU count: 4<br>Memory (GB): 16.77<br>Run time avg: 0.005956 s<br>Run time median: 0.005379 s<br>Run time p95: 0.008166 s<br>Run time std: 0.001107 s<br>Nº repeats: 10",
          "Forecaster: ForecasterRecursive<br>Regressor: DummyRegressor<br>Function: ForecasterRecursive_fit<br>Function_hash: 9d73eaf5faa980194d715362601eed68<br>Method: fit<br>Datetime: 2025-08-26 07:11:54.624476<br>Python version: 3.12.11<br>skforecast version: 0.17.0<br>numpy version: 2.1.3<br>pandas version: 2.3.2<br>sklearn version: 1.6.1<br>lightgbm version: 4.6.0<br>Platform: Linux-6.11.0-1018-azure-x86_64-with-glibc2.39<br>Processor: x86_64<br>CPU count: 4<br>Memory (GB): 16.77<br>Run time avg: 0.005467 s<br>Run time median: 0.005425 s<br>Run time p95: 0.005692 s<br>Run time std: 0.000128 s<br>Nº repeats: 10",
          "Forecaster: ForecasterRecursive<br>Regressor: DummyRegressor<br>Function: ForecasterRecursive_fit<br>Function_hash: 9d73eaf5faa980194d715362601eed68<br>Method: fit<br>Datetime: 2025-08-26 07:30:26.670077<br>Python version: 3.12.11<br>skforecast version: 0.17.0<br>numpy version: 2.1.3<br>pandas version: 2.3.2<br>sklearn version: 1.6.1<br>lightgbm version: 4.6.0<br>Platform: Linux-6.11.0-1018-azure-x86_64-with-glibc2.39<br>Processor: x86_64<br>CPU count: 4<br>Memory (GB): 16.77<br>Run time avg: 0.005479 s<br>Run time median: 0.005429 s<br>Run time p95: 0.005768 s<br>Run time std: 0.000171 s<br>Nº repeats: 10",
          "Forecaster: ForecasterRecursive<br>Regressor: DummyRegressor<br>Function: ForecasterRecursive_fit<br>Function_hash: 9d73eaf5faa980194d715362601eed68<br>Method: fit<br>Datetime: 2025-08-26 07:43:05.287144<br>Python version: 3.12.11<br>skforecast version: 0.17.0<br>numpy version: 2.1.3<br>pandas version: 2.3.2<br>sklearn version: 1.6.1<br>lightgbm version: 4.6.0<br>Platform: Linux-6.11.0-1018-azure-x86_64-with-glibc2.39<br>Processor: x86_64<br>CPU count: 4<br>Memory (GB): 16.77<br>Run time avg: 0.005437 s<br>Run time median: 0.005382 s<br>Run time p95: 0.005726 s<br>Run time std: 0.000173 s<br>Nº repeats: 10",
          "Forecaster: ForecasterRecursive<br>Regressor: DummyRegressor<br>Function: ForecasterRecursive_fit<br>Function_hash: 9d73eaf5faa980194d715362601eed68<br>Method: fit<br>Datetime: 2025-08-26 08:09:08.367854<br>Python version: 3.12.11<br>skforecast version: 0.17.0<br>numpy version: 2.1.3<br>pandas version: 2.3.2<br>sklearn version: 1.6.1<br>lightgbm version: 4.6.0<br>Platform: Linux-6.11.0-1018-azure-x86_64-with-glibc2.39<br>Processor: x86_64<br>CPU count: 4<br>Memory (GB): 16.77<br>Run time avg: 0.005414 s<br>Run time median: 0.005345 s<br>Run time p95: 0.005706 s<br>Run time std: 0.000175 s<br>Nº repeats: 10"
         ],
         "type": "scatter",
         "visible": false,
         "x": {
          "bdata": "3qYCt5ft/z+251VxbLH/P0sKq8dLWv8//+G4cwOV/z9ccneoZxsAQA==",
          "dtype": "f8"
         },
         "y": {
          "bdata": "ZmaAXR1leD+aGebhFWR2PwCAdRGmcXY/AECVeQpFdj8zM2Nstix2Pw==",
          "dtype": "f8"
         }
        },
        {
         "error_y": {
          "array": {
           "bdata": "mjL2TDE2AT/hahKBGKcCP2va8BAbhwE/iII7h4cmAT8=",
           "dtype": "f8"
          },
          "color": "#636EFA",
          "thickness": 1.5,
          "type": "data",
          "visible": true,
          "width": 5
         },
         "hovertemplate": "%{text}<extra></extra>",
         "marker": {
          "color": "#636EFA",
          "line": {
           "color": "white",
           "width": 1
          },
          "opacity": 0.85,
          "size": 10
         },
         "mode": "markers",
         "text": [
          "Forecaster: ForecasterRecursive<br>Regressor: DummyRegressor<br>Function: ForecasterRecursive_check_predict_inputs<br>Function_hash: e5142828938182d8f4d6d18f008a3ea4<br>Method: check_predict_inputs<br>Datetime: 2025-08-26 09:16:24.592746<br>Python version: 3.12.11<br>skforecast version: 0.15.1<br>numpy version: 2.1.3<br>pandas version: 2.3.2<br>sklearn version: 1.6.1<br>lightgbm version: 4.6.0<br>Platform: Linux-6.11.0-1018-azure-x86_64-with-glibc2.39<br>Processor: x86_64<br>CPU count: 4<br>Memory (GB): 16.77<br>Run time avg: 0.000665 s<br>Run time median: 0.000658 s<br>Run time p95: 0.000713 s<br>Run time std: 0.000033 s<br>Nº repeats: 30",
          "Forecaster: ForecasterRecursive<br>Regressor: DummyRegressor<br>Function: ForecasterRecursive_check_predict_inputs<br>Function_hash: e5142828938182d8f4d6d18f008a3ea4<br>Method: check_predict_inputs<br>Datetime: 2025-08-26 09:32:24.848780<br>Python version: 3.12.11<br>skforecast version: 0.15.1<br>numpy version: 2.1.3<br>pandas version: 2.3.2<br>sklearn version: 1.6.1<br>lightgbm version: 4.6.0<br>Platform: Linux-6.11.0-1018-azure-x86_64-with-glibc2.39<br>Processor: x86_64<br>CPU count: 4<br>Memory (GB): 16.77<br>Run time avg: 0.000679 s<br>Run time median: 0.000668 s<br>Run time p95: 0.000724 s<br>Run time std: 0.000036 s<br>Nº repeats: 30",
          "Forecaster: ForecasterRecursive<br>Regressor: DummyRegressor<br>Function: ForecasterRecursive_check_predict_inputs<br>Function_hash: e5142828938182d8f4d6d18f008a3ea4<br>Method: check_predict_inputs<br>Datetime: 2025-08-26 09:45:16.211487<br>Python version: 3.12.11<br>skforecast version: 0.15.1<br>numpy version: 2.1.3<br>pandas version: 2.3.2<br>sklearn version: 1.6.1<br>lightgbm version: 4.6.0<br>Platform: Linux-6.11.0-1018-azure-x86_64-with-glibc2.39<br>Processor: x86_64<br>CPU count: 4<br>Memory (GB): 16.77<br>Run time avg: 0.000675 s<br>Run time median: 0.000670 s<br>Run time p95: 0.000721 s<br>Run time std: 0.000033 s<br>Nº repeats: 30",
          "Forecaster: ForecasterRecursive<br>Regressor: DummyRegressor<br>Function: ForecasterRecursive_check_predict_inputs<br>Function_hash: e5142828938182d8f4d6d18f008a3ea4<br>Method: check_predict_inputs<br>Datetime: 2025-08-26 10:08:51.376127<br>Python version: 3.12.11<br>skforecast version: 0.15.1<br>numpy version: 2.1.3<br>pandas version: 2.3.2<br>sklearn version: 1.6.1<br>lightgbm version: 4.6.0<br>Platform: Linux-6.11.0-1018-azure-x86_64-with-glibc2.39<br>Processor: x86_64<br>CPU count: 4<br>Memory (GB): 16.77<br>Run time avg: 0.000684 s<br>Run time median: 0.000678 s<br>Run time p95: 0.000727 s<br>Run time std: 0.000033 s<br>Nº repeats: 30"
         ],
         "type": "scatter",
         "visible": false,
         "x": {
          "bdata": "/sYRk1jooz9aVJp3ZYydv5Sm+oop4ZM/4EGxSstuqT8=",
          "dtype": "f8"
         },
         "y": {
          "bdata": "7+4Sga/JRT+JiCJxcUNGP5qZtycDHkY/q6rOOb1oRj8=",
          "dtype": "f8"
         }
        },
        {
         "error_y": {
          "array": {
           "bdata": "xvXBjWhh/z7xUfN7Ul7+Pmt4N9Z9fPw+B5JzVqW++z4=",
           "dtype": "f8"
          },
          "color": "#EF553B",
          "thickness": 1.5,
          "type": "data",
          "visible": true,
          "width": 5
         },
         "hovertemplate": "%{text}<extra></extra>",
         "marker": {
          "color": "#EF553B",
          "line": {
           "color": "white",
           "width": 1
          },
          "opacity": 0.85,
          "size": 10
         },
         "mode": "markers",
         "text": [
          "Forecaster: ForecasterRecursive<br>Regressor: DummyRegressor<br>Function: ForecasterRecursive_check_predict_inputs<br>Function_hash: e5142828938182d8f4d6d18f008a3ea4<br>Method: check_predict_inputs<br>Datetime: 2025-08-26 08:30:00.902603<br>Python version: 3.12.11<br>skforecast version: 0.16.0<br>numpy version: 2.1.3<br>pandas version: 2.3.2<br>sklearn version: 1.6.1<br>lightgbm version: 4.6.0<br>Platform: Linux-6.11.0-1018-azure-x86_64-with-glibc2.39<br>Processor: x86_64<br>CPU count: 4<br>Memory (GB): 16.77<br>Run time avg: 0.000303 s<br>Run time median: 0.000300 s<br>Run time p95: 0.000342 s<br>Run time std: 0.000030 s<br>Nº repeats: 30",
          "Forecaster: ForecasterRecursive<br>Regressor: DummyRegressor<br>Function: ForecasterRecursive_check_predict_inputs<br>Function_hash: e5142828938182d8f4d6d18f008a3ea4<br>Method: check_predict_inputs<br>Datetime: 2025-08-26 08:39:55.779734<br>Python version: 3.12.11<br>skforecast version: 0.16.0<br>numpy version: 2.1.3<br>pandas version: 2.3.2<br>sklearn version: 1.6.1<br>lightgbm version: 4.6.0<br>Platform: Linux-6.11.0-1018-azure-x86_64-with-glibc2.39<br>Processor: x86_64<br>CPU count: 4<br>Memory (GB): 16.77<br>Run time avg: 0.000206 s<br>Run time median: 0.000197 s<br>Run time p95: 0.000237 s<br>Run time std: 0.000029 s<br>Nº repeats: 30",
          "Forecaster: ForecasterRecursive<br>Regressor: DummyRegressor<br>Function: ForecasterRecursive_check_predict_inputs<br>Function_hash: e5142828938182d8f4d6d18f008a3ea4<br>Method: check_predict_inputs<br>Datetime: 2025-08-26 08:54:10.652652<br>Python version: 3.12.11<br>skforecast version: 0.16.0<br>numpy version: 2.1.3<br>pandas version: 2.3.2<br>sklearn version: 1.6.1<br>lightgbm version: 4.6.0<br>Platform: Linux-6.11.0-1018-azure-x86_64-with-glibc2.39<br>Processor: x86_64<br>CPU count: 4<br>Memory (GB): 16.77<br>Run time avg: 0.000214 s<br>Run time median: 0.000205 s<br>Run time p95: 0.000251 s<br>Run time std: 0.000027 s<br>Nº repeats: 30",
          "Forecaster: ForecasterRecursive<br>Regressor: DummyRegressor<br>Function: ForecasterRecursive_check_predict_inputs<br>Function_hash: e5142828938182d8f4d6d18f008a3ea4<br>Method: check_predict_inputs<br>Datetime: 2025-08-26 09:04:33.043842<br>Python version: 3.12.11<br>skforecast version: 0.16.0<br>numpy version: 2.1.3<br>pandas version: 2.3.2<br>sklearn version: 1.6.1<br>lightgbm version: 4.6.0<br>Platform: Linux-6.11.0-1018-azure-x86_64-with-glibc2.39<br>Processor: x86_64<br>CPU count: 4<br>Memory (GB): 16.77<br>Run time avg: 0.000213 s<br>Run time median: 0.000201 s<br>Run time p95: 0.000250 s<br>Run time std: 0.000026 s<br>Nº repeats: 30"
         ],
         "type": "scatter",
         "visible": false,
         "x": {
          "bdata": "1TbRBBqY8D8awC54c/DvPzAjDbSRXfA/tKOQy6In8D8=",
          "dtype": "f8"
         },
         "y": {
          "bdata": "RESEmKLbMz8REYkGJgkrPwAAAHhiCiw/ERGdT3z4Kz8=",
          "dtype": "f8"
         }
        },
        {
         "error_y": {
          "array": {
           "bdata": "1waV00SK+z6L2/b8QbH2PhYXUwbrhvc+ghskSDMg/D69eiU1XC76Pg==",
           "dtype": "f8"
          },
          "color": "#00CC96",
          "thickness": 1.5,
          "type": "data",
          "visible": true,
          "width": 5
         },
         "hovertemplate": "%{text}<extra></extra>",
         "marker": {
          "color": "#00CC96",
          "line": {
           "color": "white",
           "width": 1
          },
          "opacity": 0.85,
          "size": 10
         },
         "mode": "markers",
         "text": [
          "Forecaster: ForecasterRecursive<br>Regressor: DummyRegressor<br>Function: ForecasterRecursive_check_predict_inputs<br>Function_hash: e5142828938182d8f4d6d18f008a3ea4<br>Method: check_predict_inputs<br>Datetime: 2025-08-26 06:59:07.083365<br>Python version: 3.12.11<br>skforecast version: 0.17.0<br>numpy version: 2.1.3<br>pandas version: 2.3.2<br>sklearn version: 1.6.1<br>lightgbm version: 4.6.0<br>Platform: Linux-6.11.0-1018-azure-x86_64-with-glibc2.39<br>Processor: x86_64<br>CPU count: 4<br>Memory (GB): 16.77<br>Run time avg: 0.000204 s<br>Run time median: 0.000196 s<br>Run time p95: 0.000227 s<br>Run time std: 0.000026 s<br>Nº repeats: 30",
          "Forecaster: ForecasterRecursive<br>Regressor: DummyRegressor<br>Function: ForecasterRecursive_check_predict_inputs<br>Function_hash: e5142828938182d8f4d6d18f008a3ea4<br>Method: check_predict_inputs<br>Datetime: 2025-08-26 07:11:54.641270<br>Python version: 3.12.11<br>skforecast version: 0.17.0<br>numpy version: 2.1.3<br>pandas version: 2.3.2<br>sklearn version: 1.6.1<br>lightgbm version: 4.6.0<br>Platform: Linux-6.11.0-1018-azure-x86_64-with-glibc2.39<br>Processor: x86_64<br>CPU count: 4<br>Memory (GB): 16.77<br>Run time avg: 0.000205 s<br>Run time median: 0.000198 s<br>Run time p95: 0.000248 s<br>Run time std: 0.000022 s<br>Nº repeats: 30",
          "Forecaster: ForecasterRecursive<br>Regressor: DummyRegressor<br>Function: ForecasterRecursive_check_predict_inputs<br>Function_hash: e5142828938182d8f4d6d18f008a3ea4<br>Method: check_predict_inputs<br>Datetime: 2025-08-26 07:30:26.686990<br>Python version: 3.12.11<br>skforecast version: 0.17.0<br>numpy version: 2.1.3<br>pandas version: 2.3.2<br>sklearn version: 1.6.1<br>lightgbm version: 4.6.0<br>Platform: Linux-6.11.0-1018-azure-x86_64-with-glibc2.39<br>Processor: x86_64<br>CPU count: 4<br>Memory (GB): 16.77<br>Run time avg: 0.000207 s<br>Run time median: 0.000198 s<br>Run time p95: 0.000249 s<br>Run time std: 0.000022 s<br>Nº repeats: 30",
          "Forecaster: ForecasterRecursive<br>Regressor: DummyRegressor<br>Function: ForecasterRecursive_check_predict_inputs<br>Function_hash: e5142828938182d8f4d6d18f008a3ea4<br>Method: check_predict_inputs<br>Datetime: 2025-08-26 07:43:05.304246<br>Python version: 3.12.11<br>skforecast version: 0.17.0<br>numpy version: 2.1.3<br>pandas version: 2.3.2<br>sklearn version: 1.6.1<br>lightgbm version: 4.6.0<br>Platform: Linux-6.11.0-1018-azure-x86_64-with-glibc2.39<br>Processor: x86_64<br>CPU count: 4<br>Memory (GB): 16.77<br>Run time avg: 0.000202 s<br>Run time median: 0.000191 s<br>Run time p95: 0.000253 s<br>Run time std: 0.000027 s<br>Nº repeats: 30",
          "Forecaster: ForecasterRecursive<br>Regressor: DummyRegressor<br>Function: ForecasterRecursive_check_predict_inputs<br>Function_hash: e5142828938182d8f4d6d18f008a3ea4<br>Method: check_predict_inputs<br>Datetime: 2025-08-26 08:09:08.385048<br>Python version: 3.12.11<br>skforecast version: 0.17.0<br>numpy version: 2.1.3<br>pandas version: 2.3.2<br>sklearn version: 1.6.1<br>lightgbm version: 4.6.0<br>Platform: Linux-6.11.0-1018-azure-x86_64-with-glibc2.39<br>Processor: x86_64<br>CPU count: 4<br>Memory (GB): 16.77<br>Run time avg: 0.000207 s<br>Run time median: 0.000200 s<br>Run time p95: 0.000257 s<br>Run time std: 0.000025 s<br>Nº repeats: 30"
         ],
         "type": "scatter",
         "visible": false,
         "x": {
          "bdata": "YnsBnvoWAEAxeSKjd0v/P1LyCusLZf8/ir+W5uH7/z9gL1o87wkAQA==",
          "dtype": "f8"
         },
         "y": {
          "bdata": "7+5OZJCsKj+amfEh5t8qPyIiKqOOLys/q6rCslaIKj8zM3MDTRUrPw==",
          "dtype": "f8"
         }
        },
        {
         "error_y": {
          "array": {
           "bdata": "gemQRPzgFD/u8NYACRgdP35IxgnBSRY/OO4nIFslGT8=",
           "dtype": "f8"
          },
          "color": "#636EFA",
          "thickness": 1.5,
          "type": "data",
          "visible": true,
          "width": 5
         },
         "hovertemplate": "%{text}<extra></extra>",
         "marker": {
          "color": "#636EFA",
          "line": {
           "color": "white",
           "width": 1
          },
          "opacity": 0.85,
          "size": 10
         },
         "mode": "markers",
         "text": [
          "Forecaster: ForecasterRecursive<br>Regressor: DummyRegressor<br>Function: ForecasterRecursive__create_predict_inputs<br>Function_hash: 00720cf9fd37bb5bfbe41ab05dd1e25a<br>Method: _create_predict_inputs<br>Datetime: 2025-08-26 09:16:24.674871<br>Python version: 3.12.11<br>skforecast version: 0.15.1<br>numpy version: 2.1.3<br>pandas version: 2.3.2<br>sklearn version: 1.6.1<br>lightgbm version: 4.6.0<br>Platform: Linux-6.11.0-1018-azure-x86_64-with-glibc2.39<br>Processor: x86_64<br>CPU count: 4<br>Memory (GB): 16.77<br>Run time avg: 0.002590 s<br>Run time median: 0.002569 s<br>Run time p95: 0.002658 s<br>Run time std: 0.000080 s<br>Nº repeats: 30",
          "Forecaster: ForecasterRecursive<br>Regressor: DummyRegressor<br>Function: ForecasterRecursive__create_predict_inputs<br>Function_hash: 00720cf9fd37bb5bfbe41ab05dd1e25a<br>Method: _create_predict_inputs<br>Datetime: 2025-08-26 09:32:24.933835<br>Python version: 3.12.11<br>skforecast version: 0.15.1<br>numpy version: 2.1.3<br>pandas version: 2.3.2<br>sklearn version: 1.6.1<br>lightgbm version: 4.6.0<br>Platform: Linux-6.11.0-1018-azure-x86_64-with-glibc2.39<br>Processor: x86_64<br>CPU count: 4<br>Memory (GB): 16.77<br>Run time avg: 0.002672 s<br>Run time median: 0.002644 s<br>Run time p95: 0.002776 s<br>Run time std: 0.000111 s<br>Nº repeats: 30",
          "Forecaster: ForecasterRecursive<br>Regressor: DummyRegressor<br>Function: ForecasterRecursive__create_predict_inputs<br>Function_hash: 00720cf9fd37bb5bfbe41ab05dd1e25a<br>Method: _create_predict_inputs<br>Datetime: 2025-08-26 09:45:16.295569<br>Python version: 3.12.11<br>skforecast version: 0.15.1<br>numpy version: 2.1.3<br>pandas version: 2.3.2<br>sklearn version: 1.6.1<br>lightgbm version: 4.6.0<br>Platform: Linux-6.11.0-1018-azure-x86_64-with-glibc2.39<br>Processor: x86_64<br>CPU count: 4<br>Memory (GB): 16.77<br>Run time avg: 0.002644 s<br>Run time median: 0.002626 s<br>Run time p95: 0.002706 s<br>Run time std: 0.000085 s<br>Nº repeats: 30",
          "Forecaster: ForecasterRecursive<br>Regressor: DummyRegressor<br>Function: ForecasterRecursive__create_predict_inputs<br>Function_hash: 00720cf9fd37bb5bfbe41ab05dd1e25a<br>Method: _create_predict_inputs<br>Datetime: 2025-08-26 10:08:51.460426<br>Python version: 3.12.11<br>skforecast version: 0.15.1<br>numpy version: 2.1.3<br>pandas version: 2.3.2<br>sklearn version: 1.6.1<br>lightgbm version: 4.6.0<br>Platform: Linux-6.11.0-1018-azure-x86_64-with-glibc2.39<br>Processor: x86_64<br>CPU count: 4<br>Memory (GB): 16.77<br>Run time avg: 0.002649 s<br>Run time median: 0.002627 s<br>Run time p95: 0.002730 s<br>Run time std: 0.000096 s<br>Nº repeats: 30"
         ],
         "type": "scatter",
         "visible": false,
         "x": {
          "bdata": "TEvg9+wcoT8kgXmhdkKTP4SH6agjqJI/foTKK5cEob8=",
          "dtype": "f8"
         },
         "y": {
          "bdata": "vLsLZXc4ZT/e3U2hjuNlP7z7tYwhqWU/VVXZuSGzZT8=",
          "dtype": "f8"
         }
        },
        {
         "error_y": {
          "array": {
           "bdata": "Qi6XPOd9Mz+UITTskRUUP32OEEjeGCE/RAJtrhEdGj8=",
           "dtype": "f8"
          },
          "color": "#EF553B",
          "thickness": 1.5,
          "type": "data",
          "visible": true,
          "width": 5
         },
         "hovertemplate": "%{text}<extra></extra>",
         "marker": {
          "color": "#EF553B",
          "line": {
           "color": "white",
           "width": 1
          },
          "opacity": 0.85,
          "size": 10
         },
         "mode": "markers",
         "text": [
          "Forecaster: ForecasterRecursive<br>Regressor: DummyRegressor<br>Function: ForecasterRecursive__create_predict_inputs<br>Function_hash: 00720cf9fd37bb5bfbe41ab05dd1e25a<br>Method: _create_predict_inputs<br>Datetime: 2025-08-26 08:30:00.974379<br>Python version: 3.12.11<br>skforecast version: 0.16.0<br>numpy version: 2.1.3<br>pandas version: 2.3.2<br>sklearn version: 1.6.1<br>lightgbm version: 4.6.0<br>Platform: Linux-6.11.0-1018-azure-x86_64-with-glibc2.39<br>Processor: x86_64<br>CPU count: 4<br>Memory (GB): 16.77<br>Run time avg: 0.002178 s<br>Run time median: 0.002110 s<br>Run time p95: 0.002262 s<br>Run time std: 0.000297 s<br>Nº repeats: 30",
          "Forecaster: ForecasterRecursive<br>Regressor: DummyRegressor<br>Function: ForecasterRecursive__create_predict_inputs<br>Function_hash: 00720cf9fd37bb5bfbe41ab05dd1e25a<br>Method: _create_predict_inputs<br>Datetime: 2025-08-26 08:39:55.847045<br>Python version: 3.12.11<br>skforecast version: 0.16.0<br>numpy version: 2.1.3<br>pandas version: 2.3.2<br>sklearn version: 1.6.1<br>lightgbm version: 4.6.0<br>Platform: Linux-6.11.0-1018-azure-x86_64-with-glibc2.39<br>Processor: x86_64<br>CPU count: 4<br>Memory (GB): 16.77<br>Run time avg: 0.002104 s<br>Run time median: 0.002091 s<br>Run time p95: 0.002159 s<br>Run time std: 0.000077 s<br>Nº repeats: 30",
          "Forecaster: ForecasterRecursive<br>Regressor: DummyRegressor<br>Function: ForecasterRecursive__create_predict_inputs<br>Function_hash: 00720cf9fd37bb5bfbe41ab05dd1e25a<br>Method: _create_predict_inputs<br>Datetime: 2025-08-26 08:54:10.738011<br>Python version: 3.12.11<br>skforecast version: 0.16.0<br>numpy version: 2.1.3<br>pandas version: 2.3.2<br>sklearn version: 1.6.1<br>lightgbm version: 4.6.0<br>Platform: Linux-6.11.0-1018-azure-x86_64-with-glibc2.39<br>Processor: x86_64<br>CPU count: 4<br>Memory (GB): 16.77<br>Run time avg: 0.002124 s<br>Run time median: 0.002091 s<br>Run time p95: 0.002209 s<br>Run time std: 0.000130 s<br>Nº repeats: 30",
          "Forecaster: ForecasterRecursive<br>Regressor: DummyRegressor<br>Function: ForecasterRecursive__create_predict_inputs<br>Function_hash: 00720cf9fd37bb5bfbe41ab05dd1e25a<br>Method: _create_predict_inputs<br>Datetime: 2025-08-26 09:04:33.113426<br>Python version: 3.12.11<br>skforecast version: 0.16.0<br>numpy version: 2.1.3<br>pandas version: 2.3.2<br>sklearn version: 1.6.1<br>lightgbm version: 4.6.0<br>Platform: Linux-6.11.0-1018-azure-x86_64-with-glibc2.39<br>Processor: x86_64<br>CPU count: 4<br>Memory (GB): 16.77<br>Run time avg: 0.002171 s<br>Run time median: 0.002151 s<br>Run time p95: 0.002296 s<br>Run time std: 0.000100 s<br>Nº repeats: 30"
         ],
         "type": "scatter",
         "visible": false,
         "x": {
          "bdata": "80Vw+ewm7z/MGVWQI83uPyYhh1OOt/A/GLn2WM118D8=",
          "dtype": "f8"
         },
         "y": {
          "bdata": "q6oDac7WYT/enZrQ9jthP3d3ZzbwZmE/M3N/wbvIYT8=",
          "dtype": "f8"
         }
        },
        {
         "error_y": {
          "array": {
           "bdata": "w4WKtunGEz/f/6wGPWoeP++OQrc7FRQ/AEfFCkHNFD9gTMJkOAAUPw==",
           "dtype": "f8"
          },
          "color": "#00CC96",
          "thickness": 1.5,
          "type": "data",
          "visible": true,
          "width": 5
         },
         "hovertemplate": "%{text}<extra></extra>",
         "marker": {
          "color": "#00CC96",
          "line": {
           "color": "white",
           "width": 1
          },
          "opacity": 0.85,
          "size": 10
         },
         "mode": "markers",
         "text": [
          "Forecaster: ForecasterRecursive<br>Regressor: DummyRegressor<br>Function: ForecasterRecursive__create_predict_inputs<br>Function_hash: 00720cf9fd37bb5bfbe41ab05dd1e25a<br>Method: _create_predict_inputs<br>Datetime: 2025-08-26 06:59:07.149165<br>Python version: 3.12.11<br>skforecast version: 0.17.0<br>numpy version: 2.1.3<br>pandas version: 2.3.2<br>sklearn version: 1.6.1<br>lightgbm version: 4.6.0<br>Platform: Linux-6.11.0-1018-azure-x86_64-with-glibc2.39<br>Processor: x86_64<br>CPU count: 4<br>Memory (GB): 16.77<br>Run time avg: 0.002079 s<br>Run time median: 0.002070 s<br>Run time p95: 0.002147 s<br>Run time std: 0.000075 s<br>Nº repeats: 30",
          "Forecaster: ForecasterRecursive<br>Regressor: DummyRegressor<br>Function: ForecasterRecursive__create_predict_inputs<br>Function_hash: 00720cf9fd37bb5bfbe41ab05dd1e25a<br>Method: _create_predict_inputs<br>Datetime: 2025-08-26 07:11:54.708731<br>Python version: 3.12.11<br>skforecast version: 0.17.0<br>numpy version: 2.1.3<br>pandas version: 2.3.2<br>sklearn version: 1.6.1<br>lightgbm version: 4.6.0<br>Platform: Linux-6.11.0-1018-azure-x86_64-with-glibc2.39<br>Processor: x86_64<br>CPU count: 4<br>Memory (GB): 16.77<br>Run time avg: 0.002126 s<br>Run time median: 0.002084 s<br>Run time p95: 0.002346 s<br>Run time std: 0.000116 s<br>Nº repeats: 30",
          "Forecaster: ForecasterRecursive<br>Regressor: DummyRegressor<br>Function: ForecasterRecursive__create_predict_inputs<br>Function_hash: 00720cf9fd37bb5bfbe41ab05dd1e25a<br>Method: _create_predict_inputs<br>Datetime: 2025-08-26 07:30:26.753939<br>Python version: 3.12.11<br>skforecast version: 0.17.0<br>numpy version: 2.1.3<br>pandas version: 2.3.2<br>sklearn version: 1.6.1<br>lightgbm version: 4.6.0<br>Platform: Linux-6.11.0-1018-azure-x86_64-with-glibc2.39<br>Processor: x86_64<br>CPU count: 4<br>Memory (GB): 16.77<br>Run time avg: 0.002103 s<br>Run time median: 0.002086 s<br>Run time p95: 0.002184 s<br>Run time std: 0.000077 s<br>Nº repeats: 30",
          "Forecaster: ForecasterRecursive<br>Regressor: DummyRegressor<br>Function: ForecasterRecursive__create_predict_inputs<br>Function_hash: 00720cf9fd37bb5bfbe41ab05dd1e25a<br>Method: _create_predict_inputs<br>Datetime: 2025-08-26 07:43:05.370255<br>Python version: 3.12.11<br>skforecast version: 0.17.0<br>numpy version: 2.1.3<br>pandas version: 2.3.2<br>sklearn version: 1.6.1<br>lightgbm version: 4.6.0<br>Platform: Linux-6.11.0-1018-azure-x86_64-with-glibc2.39<br>Processor: x86_64<br>CPU count: 4<br>Memory (GB): 16.77<br>Run time avg: 0.002068 s<br>Run time median: 0.002050 s<br>Run time p95: 0.002126 s<br>Run time std: 0.000079 s<br>Nº repeats: 30",
          "Forecaster: ForecasterRecursive<br>Regressor: DummyRegressor<br>Function: ForecasterRecursive__create_predict_inputs<br>Function_hash: 00720cf9fd37bb5bfbe41ab05dd1e25a<br>Method: _create_predict_inputs<br>Datetime: 2025-08-26 08:09:08.451562<br>Python version: 3.12.11<br>skforecast version: 0.17.0<br>numpy version: 2.1.3<br>pandas version: 2.3.2<br>sklearn version: 1.6.1<br>lightgbm version: 4.6.0<br>Platform: Linux-6.11.0-1018-azure-x86_64-with-glibc2.39<br>Processor: x86_64<br>CPU count: 4<br>Memory (GB): 16.77<br>Run time avg: 0.002083 s<br>Run time median: 0.002066 s<br>Run time p95: 0.002118 s<br>Run time std: 0.000076 s<br>Nº repeats: 30"
         ],
         "type": "scatter",
         "visible": false,
         "x": {
          "bdata": "Q4GnYmt4/z+r9K1ZE2z/P8evDumWEgBAkdvpT9Vj/z9Wtu8b1SIAQA==",
          "dtype": "f8"
         },
         "y": {
          "bdata": "iYjUuZQIYT8RER2QdGphPwAApdY6O2E/VdVA2fHxYD8zM+nhiA9hPw==",
          "dtype": "f8"
         }
        },
        {
         "error_y": {
          "array": {
           "bdata": "KNFzrCchET/x1WMpNWM2PzCVDM3J/RQ/Nq5S68lYKD8=",
           "dtype": "f8"
          },
          "color": "#636EFA",
          "thickness": 1.5,
          "type": "data",
          "visible": true,
          "width": 5
         },
         "hovertemplate": "%{text}<extra></extra>",
         "marker": {
          "color": "#636EFA",
          "line": {
           "color": "white",
           "width": 1
          },
          "opacity": 0.85,
          "size": 10
         },
         "mode": "markers",
         "text": [
          "Forecaster: ForecasterRecursive<br>Regressor: DummyRegressor<br>Function: ForecasterRecursive_predict<br>Function_hash: 098241567b0d263ea500b9c57823af43<br>Method: predict<br>Datetime: 2025-08-26 09:16:24.855188<br>Python version: 3.12.11<br>skforecast version: 0.15.1<br>numpy version: 2.1.3<br>pandas version: 2.3.2<br>sklearn version: 1.6.1<br>lightgbm version: 4.6.0<br>Platform: Linux-6.11.0-1018-azure-x86_64-with-glibc2.39<br>Processor: x86_64<br>CPU count: 4<br>Memory (GB): 16.77<br>Run time avg: 0.005863 s<br>Run time median: 0.005858 s<br>Run time p95: 0.005985 s<br>Run time std: 0.000065 s<br>Nº repeats: 30",
          "Forecaster: ForecasterRecursive<br>Regressor: DummyRegressor<br>Function: ForecasterRecursive_predict<br>Function_hash: 098241567b0d263ea500b9c57823af43<br>Method: predict<br>Datetime: 2025-08-26 09:32:25.125362<br>Python version: 3.12.11<br>skforecast version: 0.15.1<br>numpy version: 2.1.3<br>pandas version: 2.3.2<br>sklearn version: 1.6.1<br>lightgbm version: 4.6.0<br>Platform: Linux-6.11.0-1018-azure-x86_64-with-glibc2.39<br>Processor: x86_64<br>CPU count: 4<br>Memory (GB): 16.77<br>Run time avg: 0.006221 s<br>Run time median: 0.006062 s<br>Run time p95: 0.006799 s<br>Run time std: 0.000342 s<br>Nº repeats: 30",
          "Forecaster: ForecasterRecursive<br>Regressor: DummyRegressor<br>Function: ForecasterRecursive_predict<br>Function_hash: 098241567b0d263ea500b9c57823af43<br>Method: predict<br>Datetime: 2025-08-26 09:45:16.476287<br>Python version: 3.12.11<br>skforecast version: 0.15.1<br>numpy version: 2.1.3<br>pandas version: 2.3.2<br>sklearn version: 1.6.1<br>lightgbm version: 4.6.0<br>Platform: Linux-6.11.0-1018-azure-x86_64-with-glibc2.39<br>Processor: x86_64<br>CPU count: 4<br>Memory (GB): 16.77<br>Run time avg: 0.005856 s<br>Run time median: 0.005839 s<br>Run time p95: 0.005953 s<br>Run time std: 0.000080 s<br>Nº repeats: 30",
          "Forecaster: ForecasterRecursive<br>Regressor: DummyRegressor<br>Function: ForecasterRecursive_predict<br>Function_hash: 098241567b0d263ea500b9c57823af43<br>Method: predict<br>Datetime: 2025-08-26 10:08:51.644151<br>Python version: 3.12.11<br>skforecast version: 0.15.1<br>numpy version: 2.1.3<br>pandas version: 2.3.2<br>sklearn version: 1.6.1<br>lightgbm version: 4.6.0<br>Platform: Linux-6.11.0-1018-azure-x86_64-with-glibc2.39<br>Processor: x86_64<br>CPU count: 4<br>Memory (GB): 16.77<br>Run time avg: 0.005960 s<br>Run time median: 0.005915 s<br>Run time p95: 0.006101 s<br>Run time std: 0.000186 s<br>Nº repeats: 30"
         ],
         "type": "scatter",
         "visible": false,
         "x": {
          "bdata": "oIVy6W26VT9CQ9bMAwajvwfhbSjc3J+/0K1UDrZuZz8=",
          "dtype": "f8"
         },
         "y": {
          "bdata": "ZuY+IrkDeD/vDgyntXp5P81sCsmh/Hc/EZG0L19peD8=",
          "dtype": "f8"
         }
        },
        {
         "error_y": {
          "array": {
           "bdata": "73ird9ptDT9Tjk+b3kMTP2wuwr48jQk/MZ9NhOKrEj8=",
           "dtype": "f8"
          },
          "color": "#EF553B",
          "thickness": 1.5,
          "type": "data",
          "visible": true,
          "width": 5
         },
         "hovertemplate": "%{text}<extra></extra>",
         "marker": {
          "color": "#EF553B",
          "line": {
           "color": "white",
           "width": 1
          },
          "opacity": 0.85,
          "size": 10
         },
         "mode": "markers",
         "text": [
          "Forecaster: ForecasterRecursive<br>Regressor: DummyRegressor<br>Function: ForecasterRecursive_predict<br>Function_hash: 098241567b0d263ea500b9c57823af43<br>Method: predict<br>Datetime: 2025-08-26 08:30:01.143207<br>Python version: 3.12.11<br>skforecast version: 0.16.0<br>numpy version: 2.1.3<br>pandas version: 2.3.2<br>sklearn version: 1.6.1<br>lightgbm version: 4.6.0<br>Platform: Linux-6.11.0-1018-azure-x86_64-with-glibc2.39<br>Processor: x86_64<br>CPU count: 4<br>Memory (GB): 16.77<br>Run time avg: 0.005477 s<br>Run time median: 0.005471 s<br>Run time p95: 0.005591 s<br>Run time std: 0.000056 s<br>Nº repeats: 30",
          "Forecaster: ForecasterRecursive<br>Regressor: DummyRegressor<br>Function: ForecasterRecursive_predict<br>Function_hash: 098241567b0d263ea500b9c57823af43<br>Method: predict<br>Datetime: 2025-08-26 08:39:56.014508<br>Python version: 3.12.11<br>skforecast version: 0.16.0<br>numpy version: 2.1.3<br>pandas version: 2.3.2<br>sklearn version: 1.6.1<br>lightgbm version: 4.6.0<br>Platform: Linux-6.11.0-1018-azure-x86_64-with-glibc2.39<br>Processor: x86_64<br>CPU count: 4<br>Memory (GB): 16.77<br>Run time avg: 0.005440 s<br>Run time median: 0.005428 s<br>Run time p95: 0.005536 s<br>Run time std: 0.000073 s<br>Nº repeats: 30",
          "Forecaster: ForecasterRecursive<br>Regressor: DummyRegressor<br>Function: ForecasterRecursive_predict<br>Function_hash: 098241567b0d263ea500b9c57823af43<br>Method: predict<br>Datetime: 2025-08-26 08:54:10.904857<br>Python version: 3.12.11<br>skforecast version: 0.16.0<br>numpy version: 2.1.3<br>pandas version: 2.3.2<br>sklearn version: 1.6.1<br>lightgbm version: 4.6.0<br>Platform: Linux-6.11.0-1018-azure-x86_64-with-glibc2.39<br>Processor: x86_64<br>CPU count: 4<br>Memory (GB): 16.77<br>Run time avg: 0.005409 s<br>Run time median: 0.005412 s<br>Run time p95: 0.005485 s<br>Run time std: 0.000049 s<br>Nº repeats: 30",
          "Forecaster: ForecasterRecursive<br>Regressor: DummyRegressor<br>Function: ForecasterRecursive_predict<br>Function_hash: 098241567b0d263ea500b9c57823af43<br>Method: predict<br>Datetime: 2025-08-26 09:04:33.283001<br>Python version: 3.12.11<br>skforecast version: 0.16.0<br>numpy version: 2.1.3<br>pandas version: 2.3.2<br>sklearn version: 1.6.1<br>lightgbm version: 4.6.0<br>Platform: Linux-6.11.0-1018-azure-x86_64-with-glibc2.39<br>Processor: x86_64<br>CPU count: 4<br>Memory (GB): 16.77<br>Run time avg: 0.005488 s<br>Run time median: 0.005462 s<br>Run time p95: 0.005632 s<br>Run time std: 0.000071 s<br>Nº repeats: 30"
         ],
         "type": "scatter",
         "visible": false,
         "x": {
          "bdata": "++3AfVJC7z8rWGgy/pHvP0jMjXqWMu8/daOHplHw7z8=",
          "dtype": "f8"
         },
         "y": {
          "bdata": "RMS3XOludj8zcxctsUh2P83MxD/+J3Y/zYw53Ll6dj8=",
          "dtype": "f8"
         }
        },
        {
         "error_y": {
          "array": {
           "bdata": "edAsxOF3CT8Lx50/Od0RPzoAEyaFXQs/UypWAxqFEz+xJ8ka5UNIPw==",
           "dtype": "f8"
          },
          "color": "#00CC96",
          "thickness": 1.5,
          "type": "data",
          "visible": true,
          "width": 5
         },
         "hovertemplate": "%{text}<extra></extra>",
         "marker": {
          "color": "#00CC96",
          "line": {
           "color": "white",
           "width": 1
          },
          "opacity": 0.85,
          "size": 10
         },
         "mode": "markers",
         "text": [
          "Forecaster: ForecasterRecursive<br>Regressor: DummyRegressor<br>Function: ForecasterRecursive_predict<br>Function_hash: 098241567b0d263ea500b9c57823af43<br>Method: predict<br>Datetime: 2025-08-26 06:59:07.314197<br>Python version: 3.12.11<br>skforecast version: 0.17.0<br>numpy version: 2.1.3<br>pandas version: 2.3.2<br>sklearn version: 1.6.1<br>lightgbm version: 4.6.0<br>Platform: Linux-6.11.0-1018-azure-x86_64-with-glibc2.39<br>Processor: x86_64<br>CPU count: 4<br>Memory (GB): 16.77<br>Run time avg: 0.005387 s<br>Run time median: 0.005382 s<br>Run time p95: 0.005474 s<br>Run time std: 0.000049 s<br>Nº repeats: 30",
          "Forecaster: ForecasterRecursive<br>Regressor: DummyRegressor<br>Function: ForecasterRecursive_predict<br>Function_hash: 098241567b0d263ea500b9c57823af43<br>Method: predict<br>Datetime: 2025-08-26 07:11:54.874783<br>Python version: 3.12.11<br>skforecast version: 0.17.0<br>numpy version: 2.1.3<br>pandas version: 2.3.2<br>sklearn version: 1.6.1<br>lightgbm version: 4.6.0<br>Platform: Linux-6.11.0-1018-azure-x86_64-with-glibc2.39<br>Processor: x86_64<br>CPU count: 4<br>Memory (GB): 16.77<br>Run time avg: 0.005413 s<br>Run time median: 0.005400 s<br>Run time p95: 0.005527 s<br>Run time std: 0.000068 s<br>Nº repeats: 30",
          "Forecaster: ForecasterRecursive<br>Regressor: DummyRegressor<br>Function: ForecasterRecursive_predict<br>Function_hash: 098241567b0d263ea500b9c57823af43<br>Method: predict<br>Datetime: 2025-08-26 07:30:26.920941<br>Python version: 3.12.11<br>skforecast version: 0.17.0<br>numpy version: 2.1.3<br>pandas version: 2.3.2<br>sklearn version: 1.6.1<br>lightgbm version: 4.6.0<br>Platform: Linux-6.11.0-1018-azure-x86_64-with-glibc2.39<br>Processor: x86_64<br>CPU count: 4<br>Memory (GB): 16.77<br>Run time avg: 0.005439 s<br>Run time median: 0.005433 s<br>Run time p95: 0.005527 s<br>Run time std: 0.000052 s<br>Nº repeats: 30",
          "Forecaster: ForecasterRecursive<br>Regressor: DummyRegressor<br>Function: ForecasterRecursive_predict<br>Function_hash: 098241567b0d263ea500b9c57823af43<br>Method: predict<br>Datetime: 2025-08-26 07:43:05.534660<br>Python version: 3.12.11<br>skforecast version: 0.17.0<br>numpy version: 2.1.3<br>pandas version: 2.3.2<br>sklearn version: 1.6.1<br>lightgbm version: 4.6.0<br>Platform: Linux-6.11.0-1018-azure-x86_64-with-glibc2.39<br>Processor: x86_64<br>CPU count: 4<br>Memory (GB): 16.77<br>Run time avg: 0.005342 s<br>Run time median: 0.005328 s<br>Run time p95: 0.005487 s<br>Run time std: 0.000074 s<br>Nº repeats: 30",
          "Forecaster: ForecasterRecursive<br>Regressor: DummyRegressor<br>Function: ForecasterRecursive_predict<br>Function_hash: 098241567b0d263ea500b9c57823af43<br>Method: predict<br>Datetime: 2025-08-26 08:09:08.622685<br>Python version: 3.12.11<br>skforecast version: 0.17.0<br>numpy version: 2.1.3<br>pandas version: 2.3.2<br>sklearn version: 1.6.1<br>lightgbm version: 4.6.0<br>Platform: Linux-6.11.0-1018-azure-x86_64-with-glibc2.39<br>Processor: x86_64<br>CPU count: 4<br>Memory (GB): 16.77<br>Run time avg: 0.005568 s<br>Run time median: 0.005390 s<br>Run time p95: 0.005873 s<br>Run time std: 0.000741 s<br>Nº repeats: 30"
         ],
         "type": "scatter",
         "visible": false,
         "x": {
          "bdata": "UhBT4RJPAEDFU6lAsAkAQIV2bOOBNP8/R9bfP7Td/z92UvojZSIAQA==",
          "dtype": "f8"
         },
         "y": {
          "bdata": "IiIhVWkQdj+JiIYDDSx2PwCAbvw6R3Y/RIT2y+7hdT/e3W1bB852Pw==",
          "dtype": "f8"
         }
        },
        {
         "error_y": {
          "array": {
           "bdata": "LiXYykyKVT9oDmi2PFcqP7eZxcp81yI/sB5No/dOFj8=",
           "dtype": "f8"
          },
          "color": "#636EFA",
          "thickness": 1.5,
          "type": "data",
          "visible": true,
          "width": 5
         },
         "hovertemplate": "%{text}<extra></extra>",
         "marker": {
          "color": "#636EFA",
          "line": {
           "color": "white",
           "width": 1
          },
          "opacity": 0.85,
          "size": 10
         },
         "mode": "markers",
         "text": [
          "Forecaster: ForecasterRecursive<br>Regressor: DummyRegressor<br>Function: ForecasterRecursive_predict_interval_conformal<br>Function_hash: e5b2b8e22e2931b304a30d8cdc7c802c<br>Method: predict_interval_conformal<br>Datetime: 2025-08-26 09:16:25.064279<br>Python version: 3.12.11<br>skforecast version: 0.15.1<br>numpy version: 2.1.3<br>pandas version: 2.3.2<br>sklearn version: 1.6.1<br>lightgbm version: 4.6.0<br>Platform: Linux-6.11.0-1018-azure-x86_64-with-glibc2.39<br>Processor: x86_64<br>CPU count: 4<br>Memory (GB): 16.77<br>Run time avg: 0.006813 s<br>Run time median: 0.006414 s<br>Run time p95: 0.009615 s<br>Run time std: 0.001315 s<br>Nº repeats: 30",
          "Forecaster: ForecasterRecursive<br>Regressor: DummyRegressor<br>Function: ForecasterRecursive_predict_interval_conformal<br>Function_hash: e5b2b8e22e2931b304a30d8cdc7c802c<br>Method: predict_interval_conformal<br>Datetime: 2025-08-26 09:32:25.333435<br>Python version: 3.12.11<br>skforecast version: 0.15.1<br>numpy version: 2.1.3<br>pandas version: 2.3.2<br>sklearn version: 1.6.1<br>lightgbm version: 4.6.0<br>Platform: Linux-6.11.0-1018-azure-x86_64-with-glibc2.39<br>Processor: x86_64<br>CPU count: 4<br>Memory (GB): 16.77<br>Run time avg: 0.006761 s<br>Run time median: 0.006742 s<br>Run time p95: 0.007174 s<br>Run time std: 0.000201 s<br>Nº repeats: 30",
          "Forecaster: ForecasterRecursive<br>Regressor: DummyRegressor<br>Function: ForecasterRecursive_predict_interval_conformal<br>Function_hash: e5b2b8e22e2931b304a30d8cdc7c802c<br>Method: predict_interval_conformal<br>Datetime: 2025-08-26 09:45:16.672354<br>Python version: 3.12.11<br>skforecast version: 0.15.1<br>numpy version: 2.1.3<br>pandas version: 2.3.2<br>sklearn version: 1.6.1<br>lightgbm version: 4.6.0<br>Platform: Linux-6.11.0-1018-azure-x86_64-with-glibc2.39<br>Processor: x86_64<br>CPU count: 4<br>Memory (GB): 16.77<br>Run time avg: 0.006371 s<br>Run time median: 0.006337 s<br>Run time p95: 0.006488 s<br>Run time std: 0.000144 s<br>Nº repeats: 30",
          "Forecaster: ForecasterRecursive<br>Regressor: DummyRegressor<br>Function: ForecasterRecursive_predict_interval_conformal<br>Function_hash: e5b2b8e22e2931b304a30d8cdc7c802c<br>Method: predict_interval_conformal<br>Datetime: 2025-08-26 10:08:51.843717<br>Python version: 3.12.11<br>skforecast version: 0.15.1<br>numpy version: 2.1.3<br>pandas version: 2.3.2<br>sklearn version: 1.6.1<br>lightgbm version: 4.6.0<br>Platform: Linux-6.11.0-1018-azure-x86_64-with-glibc2.39<br>Processor: x86_64<br>CPU count: 4<br>Memory (GB): 16.77<br>Run time avg: 0.006481 s<br>Run time median: 0.006451 s<br>Run time p95: 0.006679 s<br>Run time std: 0.000085 s<br>Nº repeats: 30"
         ],
         "type": "scatter",
         "visible": false,
         "x": {
          "bdata": "tLXCw9rNm7804z28yHOIPzSK+ez+46M/FNgeDJZkhr8=",
          "dtype": "f8"
         },
         "y": {
          "bdata": "vDthlFToez+JKAE9rLF7PzNT0wgQGHo/vDtUiLaLej8=",
          "dtype": "f8"
         }
        },
        {
         "error_y": {
          "array": {
           "bdata": "i4dU3YBbDj9IIRpUH1JbPy//kX4DD0U/a1rN08KYFD8=",
           "dtype": "f8"
          },
          "color": "#EF553B",
          "thickness": 1.5,
          "type": "data",
          "visible": true,
          "width": 5
         },
         "hovertemplate": "%{text}<extra></extra>",
         "marker": {
          "color": "#EF553B",
          "line": {
           "color": "white",
           "width": 1
          },
          "opacity": 0.85,
          "size": 10
         },
         "mode": "markers",
         "text": [
          "Forecaster: ForecasterRecursive<br>Regressor: DummyRegressor<br>Function: ForecasterRecursive_predict_interval_conformal<br>Function_hash: e5b2b8e22e2931b304a30d8cdc7c802c<br>Method: predict_interval_conformal<br>Datetime: 2025-08-26 08:30:01.327301<br>Python version: 3.12.11<br>skforecast version: 0.16.0<br>numpy version: 2.1.3<br>pandas version: 2.3.2<br>sklearn version: 1.6.1<br>lightgbm version: 4.6.0<br>Platform: Linux-6.11.0-1018-azure-x86_64-with-glibc2.39<br>Processor: x86_64<br>CPU count: 4<br>Memory (GB): 16.77<br>Run time avg: 0.005984 s<br>Run time median: 0.005973 s<br>Run time p95: 0.006063 s<br>Run time std: 0.000058 s<br>Nº repeats: 30",
          "Forecaster: ForecasterRecursive<br>Regressor: DummyRegressor<br>Function: ForecasterRecursive_predict_interval_conformal<br>Function_hash: e5b2b8e22e2931b304a30d8cdc7c802c<br>Method: predict_interval_conformal<br>Datetime: 2025-08-26 08:39:56.215422<br>Python version: 3.12.11<br>skforecast version: 0.16.0<br>numpy version: 2.1.3<br>pandas version: 2.3.2<br>sklearn version: 1.6.1<br>lightgbm version: 4.6.0<br>Platform: Linux-6.11.0-1018-azure-x86_64-with-glibc2.39<br>Processor: x86_64<br>CPU count: 4<br>Memory (GB): 16.77<br>Run time avg: 0.006531 s<br>Run time median: 0.005946 s<br>Run time p95: 0.011438 s<br>Run time std: 0.001668 s<br>Nº repeats: 30",
          "Forecaster: ForecasterRecursive<br>Regressor: DummyRegressor<br>Function: ForecasterRecursive_predict_interval_conformal<br>Function_hash: e5b2b8e22e2931b304a30d8cdc7c802c<br>Method: predict_interval_conformal<br>Datetime: 2025-08-26 08:54:11.094191<br>Python version: 3.12.11<br>skforecast version: 0.16.0<br>numpy version: 2.1.3<br>pandas version: 2.3.2<br>sklearn version: 1.6.1<br>lightgbm version: 4.6.0<br>Platform: Linux-6.11.0-1018-azure-x86_64-with-glibc2.39<br>Processor: x86_64<br>CPU count: 4<br>Memory (GB): 16.77<br>Run time avg: 0.006152 s<br>Run time median: 0.006005 s<br>Run time p95: 0.006421 s<br>Run time std: 0.000643 s<br>Nº repeats: 30",
          "Forecaster: ForecasterRecursive<br>Regressor: DummyRegressor<br>Function: ForecasterRecursive_predict_interval_conformal<br>Function_hash: e5b2b8e22e2931b304a30d8cdc7c802c<br>Method: predict_interval_conformal<br>Datetime: 2025-08-26 09:04:33.469051<br>Python version: 3.12.11<br>skforecast version: 0.16.0<br>numpy version: 2.1.3<br>pandas version: 2.3.2<br>sklearn version: 1.6.1<br>lightgbm version: 4.6.0<br>Platform: Linux-6.11.0-1018-azure-x86_64-with-glibc2.39<br>Processor: x86_64<br>CPU count: 4<br>Memory (GB): 16.77<br>Run time avg: 0.006036 s<br>Run time median: 0.006028 s<br>Run time p95: 0.006167 s<br>Run time std: 0.000079 s<br>Nº repeats: 30"
         ],
         "type": "scatter",
         "visible": false,
         "x": {
          "bdata": "7+O2tAvy7z+hCoP2CKjuP8fA6KqhtO4/sdPkvT7L7z8=",
          "dtype": "f8"
         },
         "y": {
          "bdata": "d/e2geqCeD9314Mzw8B6P4mIALl0Mnk/vBts+RK5eD8=",
          "dtype": "f8"
         }
        },
        {
         "error_y": {
          "array": {
           "bdata": "mvYEKBbpJT9WIObAybIQPy3lQhiR2yw/kjGlEzk1WT8nZL/GlwMqPw==",
           "dtype": "f8"
          },
          "color": "#00CC96",
          "thickness": 1.5,
          "type": "data",
          "visible": true,
          "width": 5
         },
         "hovertemplate": "%{text}<extra></extra>",
         "marker": {
          "color": "#00CC96",
          "line": {
           "color": "white",
           "width": 1
          },
          "opacity": 0.85,
          "size": 10
         },
         "mode": "markers",
         "text": [
          "Forecaster: ForecasterRecursive<br>Regressor: DummyRegressor<br>Function: ForecasterRecursive_predict_interval_conformal<br>Function_hash: e5b2b8e22e2931b304a30d8cdc7c802c<br>Method: predict_interval_conformal<br>Datetime: 2025-08-26 06:59:07.498213<br>Python version: 3.12.11<br>skforecast version: 0.17.0<br>numpy version: 2.1.3<br>pandas version: 2.3.2<br>sklearn version: 1.6.1<br>lightgbm version: 4.6.0<br>Platform: Linux-6.11.0-1018-azure-x86_64-with-glibc2.39<br>Processor: x86_64<br>CPU count: 4<br>Memory (GB): 16.77<br>Run time avg: 0.006018 s<br>Run time median: 0.005986 s<br>Run time p95: 0.006093 s<br>Run time std: 0.000167 s<br>Nº repeats: 30",
          "Forecaster: ForecasterRecursive<br>Regressor: DummyRegressor<br>Function: ForecasterRecursive_predict_interval_conformal<br>Function_hash: e5b2b8e22e2931b304a30d8cdc7c802c<br>Method: predict_interval_conformal<br>Datetime: 2025-08-26 07:11:55.058225<br>Python version: 3.12.11<br>skforecast version: 0.17.0<br>numpy version: 2.1.3<br>pandas version: 2.3.2<br>sklearn version: 1.6.1<br>lightgbm version: 4.6.0<br>Platform: Linux-6.11.0-1018-azure-x86_64-with-glibc2.39<br>Processor: x86_64<br>CPU count: 4<br>Memory (GB): 16.77<br>Run time avg: 0.005992 s<br>Run time median: 0.005977 s<br>Run time p95: 0.006065 s<br>Run time std: 0.000064 s<br>Nº repeats: 30",
          "Forecaster: ForecasterRecursive<br>Regressor: DummyRegressor<br>Function: ForecasterRecursive_predict_interval_conformal<br>Function_hash: e5b2b8e22e2931b304a30d8cdc7c802c<br>Method: predict_interval_conformal<br>Datetime: 2025-08-26 07:30:27.105081<br>Python version: 3.12.11<br>skforecast version: 0.17.0<br>numpy version: 2.1.3<br>pandas version: 2.3.2<br>sklearn version: 1.6.1<br>lightgbm version: 4.6.0<br>Platform: Linux-6.11.0-1018-azure-x86_64-with-glibc2.39<br>Processor: x86_64<br>CPU count: 4<br>Memory (GB): 16.77<br>Run time avg: 0.006006 s<br>Run time median: 0.005951 s<br>Run time p95: 0.006162 s<br>Run time std: 0.000220 s<br>Nº repeats: 30",
          "Forecaster: ForecasterRecursive<br>Regressor: DummyRegressor<br>Function: ForecasterRecursive_predict_interval_conformal<br>Function_hash: e5b2b8e22e2931b304a30d8cdc7c802c<br>Method: predict_interval_conformal<br>Datetime: 2025-08-26 07:43:05.741855<br>Python version: 3.12.11<br>skforecast version: 0.17.0<br>numpy version: 2.1.3<br>pandas version: 2.3.2<br>sklearn version: 1.6.1<br>lightgbm version: 4.6.0<br>Platform: Linux-6.11.0-1018-azure-x86_64-with-glibc2.39<br>Processor: x86_64<br>CPU count: 4<br>Memory (GB): 16.77<br>Run time avg: 0.006756 s<br>Run time median: 0.005911 s<br>Run time p95: 0.009779 s<br>Run time std: 0.001539 s<br>Nº repeats: 30",
          "Forecaster: ForecasterRecursive<br>Regressor: DummyRegressor<br>Function: ForecasterRecursive_predict_interval_conformal<br>Function_hash: e5b2b8e22e2931b304a30d8cdc7c802c<br>Method: predict_interval_conformal<br>Datetime: 2025-08-26 08:09:08.806605<br>Python version: 3.12.11<br>skforecast version: 0.17.0<br>numpy version: 2.1.3<br>pandas version: 2.3.2<br>sklearn version: 1.6.1<br>lightgbm version: 4.6.0<br>Platform: Linux-6.11.0-1018-azure-x86_64-with-glibc2.39<br>Processor: x86_64<br>CPU count: 4<br>Memory (GB): 16.77<br>Run time avg: 0.005988 s<br>Run time median: 0.005940 s<br>Run time p95: 0.006116 s<br>Run time std: 0.000198 s<br>Nº repeats: 30"
         ],
         "type": "scatter",
         "visible": false,
         "x": {
          "bdata": "KoNvnqSR/z/mPSDvipj/PyaVFC3XxP8/yYWqynJr/z+wYrDiH08AQA==",
          "dtype": "f8"
         },
         "y": {
          "bdata": "AADlH6qmeD+amXs4wIp4P0REmXTkmXg/M/MQRHqsez/v7kAKkoZ4Pw==",
          "dtype": "f8"
         }
        },
        {
         "error_y": {
          "array": {
           "bdata": "r0rOABfyQz/gAmzGT71QP289VmgMEEQ/71o2rRgQOD8=",
           "dtype": "f8"
          },
          "color": "#636EFA",
          "thickness": 1.5,
          "type": "data",
          "visible": true,
          "width": 5
         },
         "hovertemplate": "%{text}<extra></extra>",
         "marker": {
          "color": "#636EFA",
          "line": {
           "color": "white",
           "width": 1
          },
          "opacity": 0.85,
          "size": 10
         },
         "mode": "markers",
         "text": [
          "Forecaster: ForecasterRecursive<br>Regressor: DummyRegressor<br>Function: ForecasterRecursive_backtesting<br>Function_hash: 29be8f5eb310588c56bd21f7250fa3c8<br>Method: backtesting<br>Datetime: 2025-08-26 09:16:25.455327<br>Python version: 3.12.11<br>skforecast version: 0.15.1<br>numpy version: 2.1.3<br>pandas version: 2.3.2<br>sklearn version: 1.6.1<br>lightgbm version: 4.6.0<br>Platform: Linux-6.11.0-1018-azure-x86_64-with-glibc2.39<br>Processor: x86_64<br>CPU count: 4<br>Memory (GB): 16.77<br>Run time avg: 0.077201 s<br>Run time median: 0.076857 s<br>Run time p95: 0.078142 s<br>Run time std: 0.000609 s<br>Nº repeats: 5",
          "Forecaster: ForecasterRecursive<br>Regressor: DummyRegressor<br>Function: ForecasterRecursive_backtesting<br>Function_hash: 29be8f5eb310588c56bd21f7250fa3c8<br>Method: backtesting<br>Datetime: 2025-08-26 09:32:25.739931<br>Python version: 3.12.11<br>skforecast version: 0.15.1<br>numpy version: 2.1.3<br>pandas version: 2.3.2<br>sklearn version: 1.6.1<br>lightgbm version: 4.6.0<br>Platform: Linux-6.11.0-1018-azure-x86_64-with-glibc2.39<br>Processor: x86_64<br>CPU count: 4<br>Memory (GB): 16.77<br>Run time avg: 0.080274 s<br>Run time median: 0.080524 s<br>Run time p95: 0.081468 s<br>Run time std: 0.001022 s<br>Nº repeats: 5",
          "Forecaster: ForecasterRecursive<br>Regressor: DummyRegressor<br>Function: ForecasterRecursive_backtesting<br>Function_hash: 29be8f5eb310588c56bd21f7250fa3c8<br>Method: backtesting<br>Datetime: 2025-08-26 09:45:17.062863<br>Python version: 3.12.11<br>skforecast version: 0.15.1<br>numpy version: 2.1.3<br>pandas version: 2.3.2<br>sklearn version: 1.6.1<br>lightgbm version: 4.6.0<br>Platform: Linux-6.11.0-1018-azure-x86_64-with-glibc2.39<br>Processor: x86_64<br>CPU count: 4<br>Memory (GB): 16.77<br>Run time avg: 0.077072 s<br>Run time median: 0.076808 s<br>Run time p95: 0.078005 s<br>Run time std: 0.000612 s<br>Nº repeats: 5",
          "Forecaster: ForecasterRecursive<br>Regressor: DummyRegressor<br>Function: ForecasterRecursive_backtesting<br>Function_hash: 29be8f5eb310588c56bd21f7250fa3c8<br>Method: backtesting<br>Datetime: 2025-08-26 10:08:52.241610<br>Python version: 3.12.11<br>skforecast version: 0.15.1<br>numpy version: 2.1.3<br>pandas version: 2.3.2<br>sklearn version: 1.6.1<br>lightgbm version: 4.6.0<br>Platform: Linux-6.11.0-1018-azure-x86_64-with-glibc2.39<br>Processor: x86_64<br>CPU count: 4<br>Memory (GB): 16.77<br>Run time avg: 0.078537 s<br>Run time median: 0.078329 s<br>Run time p95: 0.079039 s<br>Run time std: 0.000367 s<br>Nº repeats: 5"
         ],
         "type": "scatter",
         "visible": false,
         "x": {
          "bdata": "3EIrUsedoz8a/88Uzfukv068g1bO15G/doho0l51qT8=",
          "dtype": "f8"
         },
         "y": {
          "bdata": "APAEYm7Dsz+a6aBWz4y0P2aqDmT1urM/AACMJP0atD8=",
          "dtype": "f8"
         }
        },
        {
         "error_y": {
          "array": {
           "bdata": "7+Nbg3AbRj8OION9ccpGP/4bI8BCZ0g/sKzcTMlbRT8=",
           "dtype": "f8"
          },
          "color": "#EF553B",
          "thickness": 1.5,
          "type": "data",
          "visible": true,
          "width": 5
         },
         "hovertemplate": "%{text}<extra></extra>",
         "marker": {
          "color": "#EF553B",
          "line": {
           "color": "white",
           "width": 1
          },
          "opacity": 0.85,
          "size": 10
         },
         "mode": "markers",
         "text": [
          "Forecaster: ForecasterRecursive<br>Regressor: DummyRegressor<br>Function: ForecasterRecursive_backtesting<br>Function_hash: 29be8f5eb310588c56bd21f7250fa3c8<br>Method: backtesting<br>Datetime: 2025-08-26 08:30:01.709309<br>Python version: 3.12.11<br>skforecast version: 0.16.0<br>numpy version: 2.1.3<br>pandas version: 2.3.2<br>sklearn version: 1.6.1<br>lightgbm version: 4.6.0<br>Platform: Linux-6.11.0-1018-azure-x86_64-with-glibc2.39<br>Processor: x86_64<br>CPU count: 4<br>Memory (GB): 16.77<br>Run time avg: 0.075488 s<br>Run time median: 0.075349 s<br>Run time p95: 0.076453 s<br>Run time std: 0.000675 s<br>Nº repeats: 5",
          "Forecaster: ForecasterRecursive<br>Regressor: DummyRegressor<br>Function: ForecasterRecursive_backtesting<br>Function_hash: 29be8f5eb310588c56bd21f7250fa3c8<br>Method: backtesting<br>Datetime: 2025-08-26 08:39:56.581152<br>Python version: 3.12.11<br>skforecast version: 0.16.0<br>numpy version: 2.1.3<br>pandas version: 2.3.2<br>sklearn version: 1.6.1<br>lightgbm version: 4.6.0<br>Platform: Linux-6.11.0-1018-azure-x86_64-with-glibc2.39<br>Processor: x86_64<br>CPU count: 4<br>Memory (GB): 16.77<br>Run time avg: 0.072229 s<br>Run time median: 0.071953 s<br>Run time p95: 0.073288 s<br>Run time std: 0.000696 s<br>Nº repeats: 5",
          "Forecaster: ForecasterRecursive<br>Regressor: DummyRegressor<br>Function: ForecasterRecursive_backtesting<br>Function_hash: 29be8f5eb310588c56bd21f7250fa3c8<br>Method: backtesting<br>Datetime: 2025-08-26 08:54:11.463781<br>Python version: 3.12.11<br>skforecast version: 0.16.0<br>numpy version: 2.1.3<br>pandas version: 2.3.2<br>sklearn version: 1.6.1<br>lightgbm version: 4.6.0<br>Platform: Linux-6.11.0-1018-azure-x86_64-with-glibc2.39<br>Processor: x86_64<br>CPU count: 4<br>Memory (GB): 16.77<br>Run time avg: 0.072944 s<br>Run time median: 0.072547 s<br>Run time p95: 0.074084 s<br>Run time std: 0.000745 s<br>Nº repeats: 5",
          "Forecaster: ForecasterRecursive<br>Regressor: DummyRegressor<br>Function: ForecasterRecursive_backtesting<br>Function_hash: 29be8f5eb310588c56bd21f7250fa3c8<br>Method: backtesting<br>Datetime: 2025-08-26 09:04:33.844242<br>Python version: 3.12.11<br>skforecast version: 0.16.0<br>numpy version: 2.1.3<br>pandas version: 2.3.2<br>sklearn version: 1.6.1<br>lightgbm version: 4.6.0<br>Platform: Linux-6.11.0-1018-azure-x86_64-with-glibc2.39<br>Processor: x86_64<br>CPU count: 4<br>Memory (GB): 16.77<br>Run time avg: 0.074023 s<br>Run time median: 0.073682 s<br>Run time p95: 0.075020 s<br>Run time std: 0.000652 s<br>Nº repeats: 5"
         ],
         "type": "scatter",
         "visible": false,
         "x": {
          "bdata": "tEmcviWl8D/Z3OlK4E3wPySaT6j0fu4/2nxrWEzM7z8=",
          "dtype": "f8"
         },
         "y": {
          "bdata": "ZlYtXDVTsz8AUCH6nX2yPzOzhV1trLI/zaCe9yzzsj8=",
          "dtype": "f8"
         }
        },
        {
         "error_y": {
          "array": {
           "bdata": "eErBX2L6Nz97sfoHq+9BPzIAqViefTI/AB6McwDPWz+YS53rQMwnPw==",
           "dtype": "f8"
          },
          "color": "#00CC96",
          "thickness": 1.5,
          "type": "data",
          "visible": true,
          "width": 5
         },
         "hovertemplate": "%{text}<extra></extra>",
         "marker": {
          "color": "#00CC96",
          "line": {
           "color": "white",
           "width": 1
          },
          "opacity": 0.85,
          "size": 10
         },
         "mode": "markers",
         "text": [
          "Forecaster: ForecasterRecursive<br>Regressor: DummyRegressor<br>Function: ForecasterRecursive_backtesting<br>Function_hash: 29be8f5eb310588c56bd21f7250fa3c8<br>Method: backtesting<br>Datetime: 2025-08-26 06:59:07.863046<br>Python version: 3.12.11<br>skforecast version: 0.17.0<br>numpy version: 2.1.3<br>pandas version: 2.3.2<br>sklearn version: 1.6.1<br>lightgbm version: 4.6.0<br>Platform: Linux-6.11.0-1018-azure-x86_64-with-glibc2.39<br>Processor: x86_64<br>CPU count: 4<br>Memory (GB): 16.77<br>Run time avg: 0.072247 s<br>Run time median: 0.072251 s<br>Run time p95: 0.072760 s<br>Run time std: 0.000366 s<br>Nº repeats: 5",
          "Forecaster: ForecasterRecursive<br>Regressor: DummyRegressor<br>Function: ForecasterRecursive_backtesting<br>Function_hash: 29be8f5eb310588c56bd21f7250fa3c8<br>Method: backtesting<br>Datetime: 2025-08-26 07:11:55.426708<br>Python version: 3.12.11<br>skforecast version: 0.17.0<br>numpy version: 2.1.3<br>pandas version: 2.3.2<br>sklearn version: 1.6.1<br>lightgbm version: 4.6.0<br>Platform: Linux-6.11.0-1018-azure-x86_64-with-glibc2.39<br>Processor: x86_64<br>CPU count: 4<br>Memory (GB): 16.77<br>Run time avg: 0.072949 s<br>Run time median: 0.072610 s<br>Run time p95: 0.073665 s<br>Run time std: 0.000547 s<br>Nº repeats: 5",
          "Forecaster: ForecasterRecursive<br>Regressor: DummyRegressor<br>Function: ForecasterRecursive_backtesting<br>Function_hash: 29be8f5eb310588c56bd21f7250fa3c8<br>Method: backtesting<br>Datetime: 2025-08-26 07:30:27.474522<br>Python version: 3.12.11<br>skforecast version: 0.17.0<br>numpy version: 2.1.3<br>pandas version: 2.3.2<br>sklearn version: 1.6.1<br>lightgbm version: 4.6.0<br>Platform: Linux-6.11.0-1018-azure-x86_64-with-glibc2.39<br>Processor: x86_64<br>CPU count: 4<br>Memory (GB): 16.77<br>Run time avg: 0.073063 s<br>Run time median: 0.072983 s<br>Run time p95: 0.073488 s<br>Run time std: 0.000282 s<br>Nº repeats: 5",
          "Forecaster: ForecasterRecursive<br>Regressor: DummyRegressor<br>Function: ForecasterRecursive_backtesting<br>Function_hash: 29be8f5eb310588c56bd21f7250fa3c8<br>Method: backtesting<br>Datetime: 2025-08-26 07:43:06.167071<br>Python version: 3.12.11<br>skforecast version: 0.17.0<br>numpy version: 2.1.3<br>pandas version: 2.3.2<br>sklearn version: 1.6.1<br>lightgbm version: 4.6.0<br>Platform: Linux-6.11.0-1018-azure-x86_64-with-glibc2.39<br>Processor: x86_64<br>CPU count: 4<br>Memory (GB): 16.77<br>Run time avg: 0.078863 s<br>Run time median: 0.078872 s<br>Run time p95: 0.081045 s<br>Run time std: 0.001697 s<br>Nº repeats: 5",
          "Forecaster: ForecasterRecursive<br>Regressor: DummyRegressor<br>Function: ForecasterRecursive_backtesting<br>Function_hash: 29be8f5eb310588c56bd21f7250fa3c8<br>Method: backtesting<br>Datetime: 2025-08-26 08:09:09.172694<br>Python version: 3.12.11<br>skforecast version: 0.17.0<br>numpy version: 2.1.3<br>pandas version: 2.3.2<br>sklearn version: 1.6.1<br>lightgbm version: 4.6.0<br>Platform: Linux-6.11.0-1018-azure-x86_64-with-glibc2.39<br>Processor: x86_64<br>CPU count: 4<br>Memory (GB): 16.77<br>Run time avg: 0.072353 s<br>Run time median: 0.072290 s<br>Run time p95: 0.072599 s<br>Run time std: 0.000182 s<br>Nº repeats: 5"
         ],
         "type": "scatter",
         "visible": false,
         "x": {
          "bdata": "1q90HPPl/z8QgrJyTcb/PzdvPNwj+f8/82MUTJJIAECiS8fUNcL/Pw==",
          "dtype": "f8"
         },
         "y": {
          "bdata": "MxM9T8h+sj+aiay8zayyP800U2g8tLI/Zhpqnl8wtD9mxq6GwYWyPw==",
          "dtype": "f8"
         }
        },
        {
         "error_y": {
          "array": {
           "bdata": "HAPXPquJMT+HUkg1YpFhP12WFN0WgSo/baM4EVlBSj8=",
           "dtype": "f8"
          },
          "color": "#636EFA",
          "thickness": 1.5,
          "type": "data",
          "visible": true,
          "width": 5
         },
         "hovertemplate": "%{text}<extra></extra>",
         "marker": {
          "color": "#636EFA",
          "line": {
           "color": "white",
           "width": 1
          },
          "opacity": 0.85,
          "size": 10
         },
         "mode": "markers",
         "text": [
          "Forecaster: ForecasterRecursive<br>Regressor: DummyRegressor<br>Function: ForecasterRecursive_backtesting_conformal<br>Function_hash: ee1a6d6d840e0cef76079fec52dc6388<br>Method: backtesting_conformal<br>Datetime: 2025-08-26 09:16:25.895220<br>Python version: 3.12.11<br>skforecast version: 0.15.1<br>numpy version: 2.1.3<br>pandas version: 2.3.2<br>sklearn version: 1.6.1<br>lightgbm version: 4.6.0<br>Platform: Linux-6.11.0-1018-azure-x86_64-with-glibc2.39<br>Processor: x86_64<br>CPU count: 4<br>Memory (GB): 16.77<br>Run time avg: 0.086956 s<br>Run time median: 0.086970 s<br>Run time p95: 0.087280 s<br>Run time std: 0.000268 s<br>Nº repeats: 5",
          "Forecaster: ForecasterRecursive<br>Regressor: DummyRegressor<br>Function: ForecasterRecursive_backtesting_conformal<br>Function_hash: ee1a6d6d840e0cef76079fec52dc6388<br>Method: backtesting_conformal<br>Datetime: 2025-08-26 09:32:26.208053<br>Python version: 3.12.11<br>skforecast version: 0.15.1<br>numpy version: 2.1.3<br>pandas version: 2.3.2<br>sklearn version: 1.6.1<br>lightgbm version: 4.6.0<br>Platform: Linux-6.11.0-1018-azure-x86_64-with-glibc2.39<br>Processor: x86_64<br>CPU count: 4<br>Memory (GB): 16.77<br>Run time avg: 0.092610 s<br>Run time median: 0.092537 s<br>Run time p95: 0.095632 s<br>Run time std: 0.002145 s<br>Nº repeats: 5",
          "Forecaster: ForecasterRecursive<br>Regressor: DummyRegressor<br>Function: ForecasterRecursive_backtesting_conformal<br>Function_hash: ee1a6d6d840e0cef76079fec52dc6388<br>Method: backtesting_conformal<br>Datetime: 2025-08-26 09:45:17.503021<br>Python version: 3.12.11<br>skforecast version: 0.15.1<br>numpy version: 2.1.3<br>pandas version: 2.3.2<br>sklearn version: 1.6.1<br>lightgbm version: 4.6.0<br>Platform: Linux-6.11.0-1018-azure-x86_64-with-glibc2.39<br>Processor: x86_64<br>CPU count: 4<br>Memory (GB): 16.77<br>Run time avg: 0.087008 s<br>Run time median: 0.087021 s<br>Run time p95: 0.087215 s<br>Run time std: 0.000202 s<br>Nº repeats: 5",
          "Forecaster: ForecasterRecursive<br>Regressor: DummyRegressor<br>Function: ForecasterRecursive_backtesting_conformal<br>Function_hash: ee1a6d6d840e0cef76079fec52dc6388<br>Method: backtesting_conformal<br>Datetime: 2025-08-26 10:08:52.692350<br>Python version: 3.12.11<br>skforecast version: 0.15.1<br>numpy version: 2.1.3<br>pandas version: 2.3.2<br>sklearn version: 1.6.1<br>lightgbm version: 4.6.0<br>Platform: Linux-6.11.0-1018-azure-x86_64-with-glibc2.39<br>Processor: x86_64<br>CPU count: 4<br>Memory (GB): 16.77<br>Run time avg: 0.089099 s<br>Run time median: 0.088776 s<br>Run time p95: 0.090321 s<br>Run time std: 0.000801 s<br>Nº repeats: 5"
         ],
         "type": "scatter",
         "visible": false,
         "x": {
          "bdata": "qPYOqqsOfD8mICxSJvWhP3THAb6yOaM/YOzROoQSVD8=",
          "dtype": "f8"
         },
         "y": {
          "bdata": "mnlC5sRCtj9mplgpTLW3PzNz22IgRrY/AADx+yzPtj8=",
          "dtype": "f8"
         }
        },
        {
         "error_y": {
          "array": {
           "bdata": "sPBpKtdgTj89gC/VKGeCP6qARhSwBzE/L9R2IEQfSz8=",
           "dtype": "f8"
          },
          "color": "#EF553B",
          "thickness": 1.5,
          "type": "data",
          "visible": true,
          "width": 5
         },
         "hovertemplate": "%{text}<extra></extra>",
         "marker": {
          "color": "#EF553B",
          "line": {
           "color": "white",
           "width": 1
          },
          "opacity": 0.85,
          "size": 10
         },
         "mode": "markers",
         "text": [
          "Forecaster: ForecasterRecursive<br>Regressor: DummyRegressor<br>Function: ForecasterRecursive_backtesting_conformal<br>Function_hash: ee1a6d6d840e0cef76079fec52dc6388<br>Method: backtesting_conformal<br>Datetime: 2025-08-26 08:30:02.150922<br>Python version: 3.12.11<br>skforecast version: 0.16.0<br>numpy version: 2.1.3<br>pandas version: 2.3.2<br>sklearn version: 1.6.1<br>lightgbm version: 4.6.0<br>Platform: Linux-6.11.0-1018-azure-x86_64-with-glibc2.39<br>Processor: x86_64<br>CPU count: 4<br>Memory (GB): 16.77<br>Run time avg: 0.087350 s<br>Run time median: 0.087134 s<br>Run time p95: 0.088516 s<br>Run time std: 0.000927 s<br>Nº repeats: 5",
          "Forecaster: ForecasterRecursive<br>Regressor: DummyRegressor<br>Function: ForecasterRecursive_backtesting_conformal<br>Function_hash: ee1a6d6d840e0cef76079fec52dc6388<br>Method: backtesting_conformal<br>Datetime: 2025-08-26 08:39:57.037689<br>Python version: 3.12.11<br>skforecast version: 0.16.0<br>numpy version: 2.1.3<br>pandas version: 2.3.2<br>sklearn version: 1.6.1<br>lightgbm version: 4.6.0<br>Platform: Linux-6.11.0-1018-azure-x86_64-with-glibc2.39<br>Processor: x86_64<br>CPU count: 4<br>Memory (GB): 16.77<br>Run time avg: 0.090394 s<br>Run time median: 0.085924 s<br>Run time p95: 0.104229 s<br>Run time std: 0.008986 s<br>Nº repeats: 5",
          "Forecaster: ForecasterRecursive<br>Regressor: DummyRegressor<br>Function: ForecasterRecursive_backtesting_conformal<br>Function_hash: ee1a6d6d840e0cef76079fec52dc6388<br>Method: backtesting_conformal<br>Datetime: 2025-08-26 08:54:11.883469<br>Python version: 3.12.11<br>skforecast version: 0.16.0<br>numpy version: 2.1.3<br>pandas version: 2.3.2<br>sklearn version: 1.6.1<br>lightgbm version: 4.6.0<br>Platform: Linux-6.11.0-1018-azure-x86_64-with-glibc2.39<br>Processor: x86_64<br>CPU count: 4<br>Memory (GB): 16.77<br>Run time avg: 0.082981 s<br>Run time median: 0.082955 s<br>Run time p95: 0.083316 s<br>Run time std: 0.000260 s<br>Nº repeats: 5",
          "Forecaster: ForecasterRecursive<br>Regressor: DummyRegressor<br>Function: ForecasterRecursive_backtesting_conformal<br>Function_hash: ee1a6d6d840e0cef76079fec52dc6388<br>Method: backtesting_conformal<br>Datetime: 2025-08-26 09:04:34.271858<br>Python version: 3.12.11<br>skforecast version: 0.16.0<br>numpy version: 2.1.3<br>pandas version: 2.3.2<br>sklearn version: 1.6.1<br>lightgbm version: 4.6.0<br>Platform: Linux-6.11.0-1018-azure-x86_64-with-glibc2.39<br>Processor: x86_64<br>CPU count: 4<br>Memory (GB): 16.77<br>Run time avg: 0.084496 s<br>Run time median: 0.084272 s<br>Run time p95: 0.085720 s<br>Run time std: 0.000828 s<br>Nº repeats: 5"
         ],
         "type": "scatter",
         "visible": false,
         "x": {
          "bdata": "7htxr89/8D/gmgJDB0vwPwDOijHdme8/H5+8+dKZ7z8=",
          "dtype": "f8"
         },
         "y": {
          "bdata": "mgmB44lctj9mxv+UFiS3P2ZmjLJCPrU/M/PXX4uhtT8=",
          "dtype": "f8"
         }
        },
        {
         "error_y": {
          "array": {
           "bdata": "fWn8NbJtKz8H52kWnF4mP9soW0WThTE/89ML59eXVT8wosGVW7tJPw==",
           "dtype": "f8"
          },
          "color": "#00CC96",
          "thickness": 1.5,
          "type": "data",
          "visible": true,
          "width": 5
         },
         "hovertemplate": "%{text}<extra></extra>",
         "marker": {
          "color": "#00CC96",
          "line": {
           "color": "white",
           "width": 1
          },
          "opacity": 0.85,
          "size": 10
         },
         "mode": "markers",
         "text": [
          "Forecaster: ForecasterRecursive<br>Regressor: DummyRegressor<br>Function: ForecasterRecursive_backtesting_conformal<br>Function_hash: ee1a6d6d840e0cef76079fec52dc6388<br>Method: backtesting_conformal<br>Datetime: 2025-08-26 06:59:08.276857<br>Python version: 3.12.11<br>skforecast version: 0.17.0<br>numpy version: 2.1.3<br>pandas version: 2.3.2<br>sklearn version: 1.6.1<br>lightgbm version: 4.6.0<br>Platform: Linux-6.11.0-1018-azure-x86_64-with-glibc2.39<br>Processor: x86_64<br>CPU count: 4<br>Memory (GB): 16.77<br>Run time avg: 0.082023 s<br>Run time median: 0.082049 s<br>Run time p95: 0.082259 s<br>Run time std: 0.000209 s<br>Nº repeats: 5",
          "Forecaster: ForecasterRecursive<br>Regressor: DummyRegressor<br>Function: ForecasterRecursive_backtesting_conformal<br>Function_hash: ee1a6d6d840e0cef76079fec52dc6388<br>Method: backtesting_conformal<br>Datetime: 2025-08-26 07:11:55.844133<br>Python version: 3.12.11<br>skforecast version: 0.17.0<br>numpy version: 2.1.3<br>pandas version: 2.3.2<br>sklearn version: 1.6.1<br>lightgbm version: 4.6.0<br>Platform: Linux-6.11.0-1018-azure-x86_64-with-glibc2.39<br>Processor: x86_64<br>CPU count: 4<br>Memory (GB): 16.77<br>Run time avg: 0.082683 s<br>Run time median: 0.082644 s<br>Run time p95: 0.082884 s<br>Run time std: 0.000171 s<br>Nº repeats: 5",
          "Forecaster: ForecasterRecursive<br>Regressor: DummyRegressor<br>Function: ForecasterRecursive_backtesting_conformal<br>Function_hash: ee1a6d6d840e0cef76079fec52dc6388<br>Method: backtesting_conformal<br>Datetime: 2025-08-26 07:30:27.892939<br>Python version: 3.12.11<br>skforecast version: 0.17.0<br>numpy version: 2.1.3<br>pandas version: 2.3.2<br>sklearn version: 1.6.1<br>lightgbm version: 4.6.0<br>Platform: Linux-6.11.0-1018-azure-x86_64-with-glibc2.39<br>Processor: x86_64<br>CPU count: 4<br>Memory (GB): 16.77<br>Run time avg: 0.082885 s<br>Run time median: 0.082775 s<br>Run time p95: 0.083295 s<br>Run time std: 0.000267 s<br>Nº repeats: 5",
          "Forecaster: ForecasterRecursive<br>Regressor: DummyRegressor<br>Function: ForecasterRecursive_backtesting_conformal<br>Function_hash: ee1a6d6d840e0cef76079fec52dc6388<br>Method: backtesting_conformal<br>Datetime: 2025-08-26 07:43:06.591296<br>Python version: 3.12.11<br>skforecast version: 0.17.0<br>numpy version: 2.1.3<br>pandas version: 2.3.2<br>sklearn version: 1.6.1<br>lightgbm version: 4.6.0<br>Platform: Linux-6.11.0-1018-azure-x86_64-with-glibc2.39<br>Processor: x86_64<br>CPU count: 4<br>Memory (GB): 16.77<br>Run time avg: 0.083846 s<br>Run time median: 0.083310 s<br>Run time p95: 0.085851 s<br>Run time std: 0.001318 s<br>Nº repeats: 5",
          "Forecaster: ForecasterRecursive<br>Regressor: DummyRegressor<br>Function: ForecasterRecursive_backtesting_conformal<br>Function_hash: ee1a6d6d840e0cef76079fec52dc6388<br>Method: backtesting_conformal<br>Datetime: 2025-08-26 08:09:09.588834<br>Python version: 3.12.11<br>skforecast version: 0.17.0<br>numpy version: 2.1.3<br>pandas version: 2.3.2<br>sklearn version: 1.6.1<br>lightgbm version: 4.6.0<br>Platform: Linux-6.11.0-1018-azure-x86_64-with-glibc2.39<br>Processor: x86_64<br>CPU count: 4<br>Memory (GB): 16.77<br>Run time avg: 0.082363 s<br>Run time median: 0.081942 s<br>Run time p95: 0.083575 s<br>Run time std: 0.000785 s<br>Nº repeats: 5"
         ],
         "type": "scatter",
         "visible": false,
         "x": {
          "bdata": "PO1VQyPP/z+MjEg3Qnb/P+KHKK+7Zv8/jaBE00s8AEAfttL0LEgAQA==",
          "dtype": "f8"
         },
         "y": {
          "bdata": "mrmkCm7/tD8AiJ1qtCq1P2ZeC131N7U/mrnSpPB2tT8AgLDPvBW1Pw==",
          "dtype": "f8"
         }
        },
        {
         "line": {
          "color": "#374151",
          "width": 2
         },
         "marker": {
          "color": "#374151",
          "size": 8
         },
         "mode": "lines+markers",
         "name": "Median (per version)",
         "type": "scatter",
         "visible": true,
         "x": {
          "bdata": "AAEC",
          "dtype": "i1"
         },
         "y": {
          "bdata": "IhJ7bPu5cT9mVpBC+m1xP959Cu2ZunE/",
          "dtype": "f8"
         }
        },
        {
         "line": {
          "color": "#374151",
          "width": 2
         },
         "marker": {
          "color": "#374151",
          "size": 8
         },
         "mode": "lines+markers",
         "name": "Median (per version)",
         "type": "scatter",
         "visible": false,
         "x": {
          "bdata": "AAEC",
          "dtype": "i1"
         },
         "y": {
          "bdata": "Zob3obVXdj+aGZ299Cx2P5oZ5uEVZHY/",
          "dtype": "f8"
         }
        },
        {
         "line": {
          "color": "#374151",
          "width": 2
         },
         "marker": {
          "color": "#374151",
          "size": 8
         },
         "mode": "lines+markers",
         "name": "Median (per version)",
         "type": "scatter",
         "visible": false,
         "x": {
          "bdata": "AAEC",
          "dtype": "i1"
         },
         "y": {
          "bdata": "EhFtTLowRj+IiM5jbwEsP5qZ8SHm3yo/",
          "dtype": "f8"
         }
        },
        {
         "line": {
          "color": "#374151",
          "width": 2
         },
         "marker": {
          "color": "#374151",
          "size": 8
         },
         "mode": "lines+markers",
         "name": "Median (per version)",
         "type": "scatter",
         "visible": false,
         "x": {
          "bdata": "AAEC",
          "dtype": "i1"
         },
         "y": {
          "bdata": "iKhHoyGuZT9VdfP71ZdhPzMz6eGID2E/",
          "dtype": "f8"
         }
        },
        {
         "line": {
          "color": "#374151",
          "width": 2
         },
         "marker": {
          "color": "#374151",
          "size": 8
         },
         "mode": "lines+markers",
         "name": "Median (per version)",
         "type": "scatter",
         "visible": false,
         "x": {
          "bdata": "AAEC",
          "dtype": "i1"
         },
         "y": {
          "bdata": "vLv5KIw2eD+8m+dEzVt2P4mIhgMNLHY/",
          "dtype": "f8"
         }
        },
        {
         "line": {
          "color": "#374151",
          "width": 2
         },
         "marker": {
          "color": "#374151",
          "size": 8
         },
         "mode": "lines+markers",
         "name": "Median (per version)",
         "type": "scatter",
         "visible": false,
         "x": {
          "bdata": "AAEC",
          "dtype": "i1"
         },
         "y": {
          "bdata": "IrKqYrEeez8iUjbZw/V4P0REmXTkmXg/",
          "dtype": "f8"
         }
        },
        {
         "line": {
          "color": "#374151",
          "width": 2
         },
         "marker": {
          "color": "#374151",
          "size": 8
         },
         "mode": "lines+markers",
         "name": "Median (per version)",
         "type": "scatter",
         "visible": false,
         "x": {
          "bdata": "AAEC",
          "dtype": "i1"
         },
         "y": {
          "bdata": "AHhIwzXvsz8AKpIqzc+yP5qJrLzNrLI/",
          "dtype": "f8"
         }
        },
        {
         "line": {
          "color": "#374151",
          "width": 2
         },
         "marker": {
          "color": "#374151",
          "size": 8
         },
         "mode": "lines+markers",
         "name": "Median (per version)",
         "type": "scatter",
         "visible": false,
         "x": {
          "bdata": "AAEC",
          "dtype": "i1"
         },
         "y": {
          "bdata": "mjlmr6aKtj9mfqyhCv+1PwCInWq0KrU/",
          "dtype": "f8"
         }
        },
        {
         "line": {
          "color": "#9CA3AF",
          "dash": "dash",
          "width": 2
         },
         "marker": {
          "color": "#9CA3AF",
          "size": 8
         },
         "mode": "lines+markers",
         "name": "Mean (per version)",
         "type": "scatter",
         "visible": true,
         "x": {
          "bdata": "AAEC",
          "dtype": "i1"
         },
         "y": {
          "bdata": "3iXg8QmzcT+rSnpLRolxP/1CUWXiw3E/",
          "dtype": "f8"
         }
        },
        {
         "line": {
          "color": "#9CA3AF",
          "dash": "dash",
          "width": 2
         },
         "marker": {
          "color": "#9CA3AF",
          "size": 8
         },
         "mode": "lines+markers",
         "name": "Mean (per version)",
         "type": "scatter",
         "visible": false,
         "x": {
          "bdata": "AAEC",
          "dtype": "i1"
         },
         "y": {
          "bdata": "mnm6nsQ9dj+auWdTVhR2PwoXxNcevHY/",
          "dtype": "f8"
         }
        },
        {
         "line": {
          "color": "#9CA3AF",
          "dash": "dash",
          "width": 2
         },
         "marker": {
          "color": "#9CA3AF",
          "size": 8
         },
         "mode": "lines+markers",
         "name": "Mean (per version)",
         "type": "scatter",
         "visible": false,
         "x": {
          "bdata": "AAEC",
          "dtype": "i1"
         },
         "y": {
          "bdata": "7+7uVPgkRj+qqst/0rAuPxvo7F+73io/",
          "dtype": "f8"
         }
        },
        {
         "line": {
          "color": "#9CA3AF",
          "dash": "dash",
          "width": 2
         },
         "marker": {
          "color": "#9CA3AF",
          "size": 8
         },
         "mode": "lines+markers",
         "name": "Mean (per version)",
         "type": "scatter",
         "visible": false,
         "x": {
          "bdata": "AAEC",
          "dtype": "i1"
         },
         "y": {
          "bdata": "qzo6UxKeZT/NTGFMnJBhP6BT8ysmI2E/",
          "dtype": "f8"
         }
        },
        {
         "line": {
          "color": "#9CA3AF",
          "dash": "dash",
          "width": 2
         },
         "marker": {
          "color": "#9CA3AF",
          "size": 8
         },
         "mode": "lines+markers",
         "name": "Mean (per version)",
         "type": "scatter",
         "visible": false,
         "x": {
          "bdata": "AAEC",
          "dtype": "i1"
         },
         "y": {
          "bdata": "zXyC8Bt5eD9EZHOplFZ2PykcsuWHPXY/",
          "dtype": "f8"
         }
        },
        {
         "line": {
          "color": "#9CA3AF",
          "dash": "dash",
          "width": 2
         },
         "marker": {
          "color": "#9CA3AF",
          "size": 8
         },
         "mode": "lines+markers",
         "name": "Mean (per version)",
         "type": "scatter",
         "visible": false,
         "x": {
          "bdata": "AAEC",
          "dtype": "i1"
         },
         "y": {
          "bdata": "zXyi2HEPez/N3OlZzUt5P82MdQXfMnk/",
          "dtype": "f8"
         }
        },
        {
         "line": {
          "color": "#9CA3AF",
          "dash": "dash",
          "width": 2
         },
         "marker": {
          "color": "#9CA3AF",
          "size": 8
         },
         "mode": "lines+markers",
         "name": "Mean (per version)",
         "type": "scatter",
         "visible": false,
         "x": {
          "bdata": "AAEC",
          "dtype": "i1"
         },
         "y": {
          "bdata": "ACFQEIwJtD+avtxqG9yyP3vw3VHK6rI/",
          "dtype": "f8"
         }
        },
        {
         "line": {
          "color": "#9CA3AF",
          "dash": "dash",
          "width": 2
         },
         "marker": {
          "color": "#9CA3AF",
          "size": 8
         },
         "mode": "lines+markers",
         "name": "Mean (per version)",
         "type": "scatter",
         "visible": false,
         "x": {
          "bdata": "AAEC",
          "dtype": "i1"
         },
         "y": {
          "bdata": "zeSZm1fDtj9mSrmiGxi2Px7FKQ7BL7U/",
          "dtype": "f8"
         }
        }
       ],
       "layout": {
        "legend": {
         "title": {
          "text": ""
         }
        },
        "margin": {
         "b": 60,
         "l": 70,
         "r": 20,
         "t": 100
        },
        "showlegend": false,
        "template": {
         "data": {
          "bar": [
           {
            "error_x": {
             "color": "#2a3f5f"
            },
            "error_y": {
             "color": "#2a3f5f"
            },
            "marker": {
             "line": {
              "color": "#E5ECF6",
              "width": 0.5
             },
             "pattern": {
              "fillmode": "overlay",
              "size": 10,
              "solidity": 0.2
             }
            },
            "type": "bar"
           }
          ],
          "barpolar": [
           {
            "marker": {
             "line": {
              "color": "#E5ECF6",
              "width": 0.5
             },
             "pattern": {
              "fillmode": "overlay",
              "size": 10,
              "solidity": 0.2
             }
            },
            "type": "barpolar"
           }
          ],
          "carpet": [
           {
            "aaxis": {
             "endlinecolor": "#2a3f5f",
             "gridcolor": "white",
             "linecolor": "white",
             "minorgridcolor": "white",
             "startlinecolor": "#2a3f5f"
            },
            "baxis": {
             "endlinecolor": "#2a3f5f",
             "gridcolor": "white",
             "linecolor": "white",
             "minorgridcolor": "white",
             "startlinecolor": "#2a3f5f"
            },
            "type": "carpet"
           }
          ],
          "choropleth": [
           {
            "colorbar": {
             "outlinewidth": 0,
             "ticks": ""
            },
            "type": "choropleth"
           }
          ],
          "contour": [
           {
            "colorbar": {
             "outlinewidth": 0,
             "ticks": ""
            },
            "colorscale": [
             [
              0,
              "#0d0887"
             ],
             [
              0.1111111111111111,
              "#46039f"
             ],
             [
              0.2222222222222222,
              "#7201a8"
             ],
             [
              0.3333333333333333,
              "#9c179e"
             ],
             [
              0.4444444444444444,
              "#bd3786"
             ],
             [
              0.5555555555555556,
              "#d8576b"
             ],
             [
              0.6666666666666666,
              "#ed7953"
             ],
             [
              0.7777777777777778,
              "#fb9f3a"
             ],
             [
              0.8888888888888888,
              "#fdca26"
             ],
             [
              1,
              "#f0f921"
             ]
            ],
            "type": "contour"
           }
          ],
          "contourcarpet": [
           {
            "colorbar": {
             "outlinewidth": 0,
             "ticks": ""
            },
            "type": "contourcarpet"
           }
          ],
          "heatmap": [
           {
            "colorbar": {
             "outlinewidth": 0,
             "ticks": ""
            },
            "colorscale": [
             [
              0,
              "#0d0887"
             ],
             [
              0.1111111111111111,
              "#46039f"
             ],
             [
              0.2222222222222222,
              "#7201a8"
             ],
             [
              0.3333333333333333,
              "#9c179e"
             ],
             [
              0.4444444444444444,
              "#bd3786"
             ],
             [
              0.5555555555555556,
              "#d8576b"
             ],
             [
              0.6666666666666666,
              "#ed7953"
             ],
             [
              0.7777777777777778,
              "#fb9f3a"
             ],
             [
              0.8888888888888888,
              "#fdca26"
             ],
             [
              1,
              "#f0f921"
             ]
            ],
            "type": "heatmap"
           }
          ],
          "histogram": [
           {
            "marker": {
             "pattern": {
              "fillmode": "overlay",
              "size": 10,
              "solidity": 0.2
             }
            },
            "type": "histogram"
           }
          ],
          "histogram2d": [
           {
            "colorbar": {
             "outlinewidth": 0,
             "ticks": ""
            },
            "colorscale": [
             [
              0,
              "#0d0887"
             ],
             [
              0.1111111111111111,
              "#46039f"
             ],
             [
              0.2222222222222222,
              "#7201a8"
             ],
             [
              0.3333333333333333,
              "#9c179e"
             ],
             [
              0.4444444444444444,
              "#bd3786"
             ],
             [
              0.5555555555555556,
              "#d8576b"
             ],
             [
              0.6666666666666666,
              "#ed7953"
             ],
             [
              0.7777777777777778,
              "#fb9f3a"
             ],
             [
              0.8888888888888888,
              "#fdca26"
             ],
             [
              1,
              "#f0f921"
             ]
            ],
            "type": "histogram2d"
           }
          ],
          "histogram2dcontour": [
           {
            "colorbar": {
             "outlinewidth": 0,
             "ticks": ""
            },
            "colorscale": [
             [
              0,
              "#0d0887"
             ],
             [
              0.1111111111111111,
              "#46039f"
             ],
             [
              0.2222222222222222,
              "#7201a8"
             ],
             [
              0.3333333333333333,
              "#9c179e"
             ],
             [
              0.4444444444444444,
              "#bd3786"
             ],
             [
              0.5555555555555556,
              "#d8576b"
             ],
             [
              0.6666666666666666,
              "#ed7953"
             ],
             [
              0.7777777777777778,
              "#fb9f3a"
             ],
             [
              0.8888888888888888,
              "#fdca26"
             ],
             [
              1,
              "#f0f921"
             ]
            ],
            "type": "histogram2dcontour"
           }
          ],
          "mesh3d": [
           {
            "colorbar": {
             "outlinewidth": 0,
             "ticks": ""
            },
            "type": "mesh3d"
           }
          ],
          "parcoords": [
           {
            "line": {
             "colorbar": {
              "outlinewidth": 0,
              "ticks": ""
             }
            },
            "type": "parcoords"
           }
          ],
          "pie": [
           {
            "automargin": true,
            "type": "pie"
           }
          ],
          "scatter": [
           {
            "fillpattern": {
             "fillmode": "overlay",
             "size": 10,
             "solidity": 0.2
            },
            "type": "scatter"
           }
          ],
          "scatter3d": [
           {
            "line": {
             "colorbar": {
              "outlinewidth": 0,
              "ticks": ""
             }
            },
            "marker": {
             "colorbar": {
              "outlinewidth": 0,
              "ticks": ""
             }
            },
            "type": "scatter3d"
           }
          ],
          "scattercarpet": [
           {
            "marker": {
             "colorbar": {
              "outlinewidth": 0,
              "ticks": ""
             }
            },
            "type": "scattercarpet"
           }
          ],
          "scattergeo": [
           {
            "marker": {
             "colorbar": {
              "outlinewidth": 0,
              "ticks": ""
             }
            },
            "type": "scattergeo"
           }
          ],
          "scattergl": [
           {
            "marker": {
             "colorbar": {
              "outlinewidth": 0,
              "ticks": ""
             }
            },
            "type": "scattergl"
           }
          ],
          "scattermap": [
           {
            "marker": {
             "colorbar": {
              "outlinewidth": 0,
              "ticks": ""
             }
            },
            "type": "scattermap"
           }
          ],
          "scattermapbox": [
           {
            "marker": {
             "colorbar": {
              "outlinewidth": 0,
              "ticks": ""
             }
            },
            "type": "scattermapbox"
           }
          ],
          "scatterpolar": [
           {
            "marker": {
             "colorbar": {
              "outlinewidth": 0,
              "ticks": ""
             }
            },
            "type": "scatterpolar"
           }
          ],
          "scatterpolargl": [
           {
            "marker": {
             "colorbar": {
              "outlinewidth": 0,
              "ticks": ""
             }
            },
            "type": "scatterpolargl"
           }
          ],
          "scatterternary": [
           {
            "marker": {
             "colorbar": {
              "outlinewidth": 0,
              "ticks": ""
             }
            },
            "type": "scatterternary"
           }
          ],
          "surface": [
           {
            "colorbar": {
             "outlinewidth": 0,
             "ticks": ""
            },
            "colorscale": [
             [
              0,
              "#0d0887"
             ],
             [
              0.1111111111111111,
              "#46039f"
             ],
             [
              0.2222222222222222,
              "#7201a8"
             ],
             [
              0.3333333333333333,
              "#9c179e"
             ],
             [
              0.4444444444444444,
              "#bd3786"
             ],
             [
              0.5555555555555556,
              "#d8576b"
             ],
             [
              0.6666666666666666,
              "#ed7953"
             ],
             [
              0.7777777777777778,
              "#fb9f3a"
             ],
             [
              0.8888888888888888,
              "#fdca26"
             ],
             [
              1,
              "#f0f921"
             ]
            ],
            "type": "surface"
           }
          ],
          "table": [
           {
            "cells": {
             "fill": {
              "color": "#EBF0F8"
             },
             "line": {
              "color": "white"
             }
            },
            "header": {
             "fill": {
              "color": "#C8D4E3"
             },
             "line": {
              "color": "white"
             }
            },
            "type": "table"
           }
          ]
         },
         "layout": {
          "annotationdefaults": {
           "arrowcolor": "#2a3f5f",
           "arrowhead": 0,
           "arrowwidth": 1
          },
          "autotypenumbers": "strict",
          "coloraxis": {
           "colorbar": {
            "outlinewidth": 0,
            "ticks": ""
           }
          },
          "colorscale": {
           "diverging": [
            [
             0,
             "#8e0152"
            ],
            [
             0.1,
             "#c51b7d"
            ],
            [
             0.2,
             "#de77ae"
            ],
            [
             0.3,
             "#f1b6da"
            ],
            [
             0.4,
             "#fde0ef"
            ],
            [
             0.5,
             "#f7f7f7"
            ],
            [
             0.6,
             "#e6f5d0"
            ],
            [
             0.7,
             "#b8e186"
            ],
            [
             0.8,
             "#7fbc41"
            ],
            [
             0.9,
             "#4d9221"
            ],
            [
             1,
             "#276419"
            ]
           ],
           "sequential": [
            [
             0,
             "#0d0887"
            ],
            [
             0.1111111111111111,
             "#46039f"
            ],
            [
             0.2222222222222222,
             "#7201a8"
            ],
            [
             0.3333333333333333,
             "#9c179e"
            ],
            [
             0.4444444444444444,
             "#bd3786"
            ],
            [
             0.5555555555555556,
             "#d8576b"
            ],
            [
             0.6666666666666666,
             "#ed7953"
            ],
            [
             0.7777777777777778,
             "#fb9f3a"
            ],
            [
             0.8888888888888888,
             "#fdca26"
            ],
            [
             1,
             "#f0f921"
            ]
           ],
           "sequentialminus": [
            [
             0,
             "#0d0887"
            ],
            [
             0.1111111111111111,
             "#46039f"
            ],
            [
             0.2222222222222222,
             "#7201a8"
            ],
            [
             0.3333333333333333,
             "#9c179e"
            ],
            [
             0.4444444444444444,
             "#bd3786"
            ],
            [
             0.5555555555555556,
             "#d8576b"
            ],
            [
             0.6666666666666666,
             "#ed7953"
            ],
            [
             0.7777777777777778,
             "#fb9f3a"
            ],
            [
             0.8888888888888888,
             "#fdca26"
            ],
            [
             1,
             "#f0f921"
            ]
           ]
          },
          "colorway": [
           "#636efa",
           "#EF553B",
           "#00cc96",
           "#ab63fa",
           "#FFA15A",
           "#19d3f3",
           "#FF6692",
           "#B6E880",
           "#FF97FF",
           "#FECB52"
          ],
          "font": {
           "color": "#2a3f5f"
          },
          "geo": {
           "bgcolor": "white",
           "lakecolor": "white",
           "landcolor": "#E5ECF6",
           "showlakes": true,
           "showland": true,
           "subunitcolor": "white"
          },
          "hoverlabel": {
           "align": "left"
          },
          "hovermode": "closest",
          "mapbox": {
           "style": "light"
          },
          "paper_bgcolor": "white",
          "plot_bgcolor": "#E5ECF6",
          "polar": {
           "angularaxis": {
            "gridcolor": "white",
            "linecolor": "white",
            "ticks": ""
           },
           "bgcolor": "#E5ECF6",
           "radialaxis": {
            "gridcolor": "white",
            "linecolor": "white",
            "ticks": ""
           }
          },
          "scene": {
           "xaxis": {
            "backgroundcolor": "#E5ECF6",
            "gridcolor": "white",
            "gridwidth": 2,
            "linecolor": "white",
            "showbackground": true,
            "ticks": "",
            "zerolinecolor": "white"
           },
           "yaxis": {
            "backgroundcolor": "#E5ECF6",
            "gridcolor": "white",
            "gridwidth": 2,
            "linecolor": "white",
            "showbackground": true,
            "ticks": "",
            "zerolinecolor": "white"
           },
           "zaxis": {
            "backgroundcolor": "#E5ECF6",
            "gridcolor": "white",
            "gridwidth": 2,
            "linecolor": "white",
            "showbackground": true,
            "ticks": "",
            "zerolinecolor": "white"
           }
          },
          "shapedefaults": {
           "line": {
            "color": "#2a3f5f"
           }
          },
          "ternary": {
           "aaxis": {
            "gridcolor": "white",
            "linecolor": "white",
            "ticks": ""
           },
           "baxis": {
            "gridcolor": "white",
            "linecolor": "white",
            "ticks": ""
           },
           "bgcolor": "#E5ECF6",
           "caxis": {
            "gridcolor": "white",
            "linecolor": "white",
            "ticks": ""
           }
          },
          "title": {
           "x": 0.05
          },
          "xaxis": {
           "automargin": true,
           "gridcolor": "white",
           "linecolor": "white",
           "ticks": "",
           "title": {
            "standoff": 15
           },
           "zerolinecolor": "white",
           "zerolinewidth": 2
          },
          "yaxis": {
           "automargin": true,
           "gridcolor": "white",
           "linecolor": "white",
           "ticks": "",
           "title": {
            "standoff": 15
           },
           "zerolinecolor": "white",
           "zerolinewidth": 2
          }
         }
        },
        "title": {
         "text": "ForecasterRecursive — Execution time `_create_train_X_y`"
        },
        "updatemenus": [
         {
          "buttons": [
           {
            "args": [
             {
              "visible": [
               true,
               true,
               true,
               false,
               false,
               false,
               false,
               false,
               false,
               false,
               false,
               false,
               false,
               false,
               false,
               false,
               false,
               false,
               false,
               false,
               false,
               false,
               false,
               false,
               true,
               false,
               false,
               false,
               false,
               false,
               false,
               false,
               true,
               false,
               false,
               false,
               false,
               false,
               false,
               false
              ]
             },
             {
              "title": "Execution time — method: _create_train_X_y"
             }
            ],
            "label": "_create_train_X_y",
            "method": "update"
           },
           {
            "args": [
             {
              "visible": [
               false,
               false,
               false,
               true,
               true,
               true,
               false,
               false,
               false,
               false,
               false,
               false,
               false,
               false,
               false,
               false,
               false,
               false,
               false,
               false,
               false,
               false,
               false,
               false,
               false,
               true,
               false,
               false,
               false,
               false,
               false,
               false,
               false,
               true,
               false,
               false,
               false,
               false,
               false,
               false
              ]
             },
             {
              "title": "Execution time — method: fit"
             }
            ],
            "label": "fit",
            "method": "update"
           },
           {
            "args": [
             {
              "visible": [
               false,
               false,
               false,
               false,
               false,
               false,
               true,
               true,
               true,
               false,
               false,
               false,
               false,
               false,
               false,
               false,
               false,
               false,
               false,
               false,
               false,
               false,
               false,
               false,
               false,
               false,
               true,
               false,
               false,
               false,
               false,
               false,
               false,
               false,
               true,
               false,
               false,
               false,
               false,
               false
              ]
             },
             {
              "title": "Execution time — method: check_predict_inputs"
             }
            ],
            "label": "check_predict_inputs",
            "method": "update"
           },
           {
            "args": [
             {
              "visible": [
               false,
               false,
               false,
               false,
               false,
               false,
               false,
               false,
               false,
               true,
               true,
               true,
               false,
               false,
               false,
               false,
               false,
               false,
               false,
               false,
               false,
               false,
               false,
               false,
               false,
               false,
               false,
               true,
               false,
               false,
               false,
               false,
               false,
               false,
               false,
               true,
               false,
               false,
               false,
               false
              ]
             },
             {
              "title": "Execution time — method: _create_predict_inputs"
             }
            ],
            "label": "_create_predict_inputs",
            "method": "update"
           },
           {
            "args": [
             {
              "visible": [
               false,
               false,
               false,
               false,
               false,
               false,
               false,
               false,
               false,
               false,
               false,
               false,
               true,
               true,
               true,
               false,
               false,
               false,
               false,
               false,
               false,
               false,
               false,
               false,
               false,
               false,
               false,
               false,
               true,
               false,
               false,
               false,
               false,
               false,
               false,
               false,
               true,
               false,
               false,
               false
              ]
             },
             {
              "title": "Execution time — method: predict"
             }
            ],
            "label": "predict",
            "method": "update"
           },
           {
            "args": [
             {
              "visible": [
               false,
               false,
               false,
               false,
               false,
               false,
               false,
               false,
               false,
               false,
               false,
               false,
               false,
               false,
               false,
               true,
               true,
               true,
               false,
               false,
               false,
               false,
               false,
               false,
               false,
               false,
               false,
               false,
               false,
               true,
               false,
               false,
               false,
               false,
               false,
               false,
               false,
               true,
               false,
               false
              ]
             },
             {
              "title": "Execution time — method: predict_interval_conformal"
             }
            ],
            "label": "predict_interval_conformal",
            "method": "update"
           },
           {
            "args": [
             {
              "visible": [
               false,
               false,
               false,
               false,
               false,
               false,
               false,
               false,
               false,
               false,
               false,
               false,
               false,
               false,
               false,
               false,
               false,
               false,
               true,
               true,
               true,
               false,
               false,
               false,
               false,
               false,
               false,
               false,
               false,
               false,
               true,
               false,
               false,
               false,
               false,
               false,
               false,
               false,
               true,
               false
              ]
             },
             {
              "title": "Execution time — method: backtesting"
             }
            ],
            "label": "backtesting",
            "method": "update"
           },
           {
            "args": [
             {
              "visible": [
               false,
               false,
               false,
               false,
               false,
               false,
               false,
               false,
               false,
               false,
               false,
               false,
               false,
               false,
               false,
               false,
               false,
               false,
               false,
               false,
               false,
               true,
               true,
               true,
               false,
               false,
               false,
               false,
               false,
               false,
               false,
               true,
               false,
               false,
               false,
               false,
               false,
               false,
               false,
               true
              ]
             },
             {
              "title": "Execution time — method: backtesting_conformal"
             }
            ],
            "label": "backtesting_conformal",
            "method": "update"
           }
          ],
          "direction": "down",
          "pad": {
           "r": 2,
           "t": 0
          },
          "showactive": true,
          "type": "dropdown",
          "x": 1,
          "xanchor": "right",
          "y": 1.03,
          "yanchor": "bottom"
         }
        ],
        "xaxis": {
         "automargin": true,
         "tickangle": 0,
         "tickmode": "array",
         "ticktext": [
          "0.15.1",
          "0.16.0",
          "0.17.0"
         ],
         "tickvals": [
          0,
          1,
          2
         ],
         "title": {
          "text": "skforecast version"
         }
        },
        "yaxis": {
         "automargin": true,
         "title": {
          "text": "Execution time (s)"
         }
        }
       }
      }
     },
     "metadata": {},
     "output_type": "display_data"
    }
   ],
   "source": [
    "# Plot benchmark results\n",
    "# ==============================================================================\n",
    "plot_benchmark_results(\n",
    "    results_benchmark_all,\n",
    "    forecaster_names = ['ForecasterRecursive', 'ForecasterAutoreg'],\n",
    "    regressors       = ['DummyRegressor'],\n",
    "    add_mean         = True,\n",
    "    add_median       = True\n",
    ")"
   ]
  },
  {
   "cell_type": "markdown",
   "metadata": {},
   "source": [
    "## ForecasterRecursiveMultiSeries\n",
    "\n",
    "The [`ForecasterRecursive` class](https://skforecast.org/latest/user_guides/autoregresive-forecaster.html) is benchmarked under a fixed experimental setup to ensure fair comparison across library versions. Key conditions are:\n",
    "\n",
    "| Condition          | Value                                                                                |\n",
    "|:-------------------|:-------------------------------------------------------------------------------------|\n",
    "| Regressor          | `sklearn.dummy.DummyRegressor` (to isolate forecaster overhead)                      |\n",
    "| Dataset length     | 2000 synthetic observations (generated with `bench_forecaster_recursive._make_data`) |\n",
    "| Exogenous features | 3                                                                                    |\n",
    "| Prediction horizon | 100 steps ahead                                                                      |\n",
    "| Backtesting split  | 1200 training, remaining for testing, step size = 50, no re-fitting (see [guide](https://skforecast.org/latest/user_guides/backtesting.html)) |\n",
    "\n",
    "**Note:** In versions `< 0.14.0`, `ForecasterRecursive` was named `ForecasterAutoreg`.  "
   ]
  },
  {
   "cell_type": "code",
   "execution_count": 6,
   "metadata": {},
   "outputs": [
    {
     "data": {
      "application/vnd.plotly.v1+json": {
       "config": {
        "plotlyServerURL": "https://plot.ly"
       },
       "data": [
        {
         "error_y": {
          "array": {
           "bdata": "E4+5x5usqz/2j3o1DzSsP+6fIew+x6Q/ey2P44PQpD8=",
           "dtype": "f8"
          },
          "color": "#636EFA",
          "thickness": 1.5,
          "type": "data",
          "visible": true,
          "width": 5
         },
         "hovertemplate": "%{text}<extra></extra>",
         "marker": {
          "color": "#636EFA",
          "line": {
           "color": "white",
           "width": 1
          },
          "opacity": 0.85,
          "size": 10
         },
         "mode": "markers",
         "text": [
          "Forecaster: ForecasterRecursiveMultiSeries<br>Regressor: DummyRegressor<br>Function: ForecasterRecursiveMultiSeries__create_train_X_y_series_is_dict_no_exog<br>Function_hash: 884eb9ee19bb306145a0fd967253bbfc<br>Method: _create_train_X_y_series_is_dict_no_exog<br>Datetime: 2025-08-26 09:16:44.855557<br>Python version: 3.12.11<br>skforecast version: 0.15.1<br>numpy version: 2.1.3<br>pandas version: 2.3.2<br>sklearn version: 1.6.1<br>lightgbm version: 4.6.0<br>Platform: Linux-6.11.0-1018-azure-x86_64-with-glibc2.39<br>Processor: x86_64<br>CPU count: 4<br>Memory (GB): 16.77<br>Run time avg: 1.817318 s<br>Run time median: 1.812321 s<br>Run time p95: 1.910855 s<br>Run time std: 0.054051 s<br>Nº repeats: 10",
          "Forecaster: ForecasterRecursiveMultiSeries<br>Regressor: DummyRegressor<br>Function: ForecasterRecursiveMultiSeries__create_train_X_y_series_is_dict_no_exog<br>Function_hash: 884eb9ee19bb306145a0fd967253bbfc<br>Method: _create_train_X_y_series_is_dict_no_exog<br>Datetime: 2025-08-26 09:32:45.343465<br>Python version: 3.12.11<br>skforecast version: 0.15.1<br>numpy version: 2.1.3<br>pandas version: 2.3.2<br>sklearn version: 1.6.1<br>lightgbm version: 4.6.0<br>Platform: Linux-6.11.0-1018-azure-x86_64-with-glibc2.39<br>Processor: x86_64<br>CPU count: 4<br>Memory (GB): 16.77<br>Run time avg: 1.831855 s<br>Run time median: 1.839436 s<br>Run time p95: 1.906595 s<br>Run time std: 0.055085 s<br>Nº repeats: 10",
          "Forecaster: ForecasterRecursiveMultiSeries<br>Regressor: DummyRegressor<br>Function: ForecasterRecursiveMultiSeries__create_train_X_y_series_is_dict_no_exog<br>Function_hash: 884eb9ee19bb306145a0fd967253bbfc<br>Method: _create_train_X_y_series_is_dict_no_exog<br>Datetime: 2025-08-26 09:45:36.411819<br>Python version: 3.12.11<br>skforecast version: 0.15.1<br>numpy version: 2.1.3<br>pandas version: 2.3.2<br>sklearn version: 1.6.1<br>lightgbm version: 4.6.0<br>Platform: Linux-6.11.0-1018-azure-x86_64-with-glibc2.39<br>Processor: x86_64<br>CPU count: 4<br>Memory (GB): 16.77<br>Run time avg: 1.810209 s<br>Run time median: 1.813572 s<br>Run time p95: 1.867506 s<br>Run time std: 0.040583 s<br>Nº repeats: 10",
          "Forecaster: ForecasterRecursiveMultiSeries<br>Regressor: DummyRegressor<br>Function: ForecasterRecursiveMultiSeries__create_train_X_y_series_is_dict_no_exog<br>Function_hash: 884eb9ee19bb306145a0fd967253bbfc<br>Method: _create_train_X_y_series_is_dict_no_exog<br>Datetime: 2025-08-26 10:09:11.540446<br>Python version: 3.12.11<br>skforecast version: 0.15.1<br>numpy version: 2.1.3<br>pandas version: 2.3.2<br>sklearn version: 1.6.1<br>lightgbm version: 4.6.0<br>Platform: Linux-6.11.0-1018-azure-x86_64-with-glibc2.39<br>Processor: x86_64<br>CPU count: 4<br>Memory (GB): 16.77<br>Run time avg: 1.803387 s<br>Run time median: 1.803819 s<br>Run time p95: 1.865457 s<br>Run time std: 0.040653 s<br>Nº repeats: 10"
         ],
         "type": "scatter",
         "visible": true,
         "x": {
          "bdata": "FUeXWdcap7+wXFzaXYamP7B/ndTpjnO/AGIhGnIDVz8=",
          "dtype": "f8"
         },
         "y": {
          "bdata": "GrwTjLsT/T8N55ctR0/9P0YjgJOd9vw/zYy6Cqza/D8=",
          "dtype": "f8"
         }
        },
        {
         "error_y": {
          "array": {
           "bdata": "vHWO8y3bpj9kmBNAydylP4DmZBDwvKY/pZLSxCTepj8=",
           "dtype": "f8"
          },
          "color": "#EF553B",
          "thickness": 1.5,
          "type": "data",
          "visible": true,
          "width": 5
         },
         "hovertemplate": "%{text}<extra></extra>",
         "marker": {
          "color": "#EF553B",
          "line": {
           "color": "white",
           "width": 1
          },
          "opacity": 0.85,
          "size": 10
         },
         "mode": "markers",
         "text": [
          "Forecaster: ForecasterRecursiveMultiSeries<br>Regressor: DummyRegressor<br>Function: ForecasterRecursiveMultiSeries__create_train_X_y_series_is_dict_no_exog<br>Function_hash: 884eb9ee19bb306145a0fd967253bbfc<br>Method: _create_train_X_y_series_is_dict_no_exog<br>Datetime: 2025-08-26 08:30:12.850007<br>Python version: 3.12.11<br>skforecast version: 0.16.0<br>numpy version: 2.1.3<br>pandas version: 2.3.2<br>sklearn version: 1.6.1<br>lightgbm version: 4.6.0<br>Platform: Linux-6.11.0-1018-azure-x86_64-with-glibc2.39<br>Processor: x86_64<br>CPU count: 4<br>Memory (GB): 16.77<br>Run time avg: 0.985971 s<br>Run time median: 0.992489 s<br>Run time p95: 1.050565 s<br>Run time std: 0.044641 s<br>Nº repeats: 10",
          "Forecaster: ForecasterRecursiveMultiSeries<br>Regressor: DummyRegressor<br>Function: ForecasterRecursiveMultiSeries__create_train_X_y_series_is_dict_no_exog<br>Function_hash: 884eb9ee19bb306145a0fd967253bbfc<br>Method: _create_train_X_y_series_is_dict_no_exog<br>Datetime: 2025-08-26 08:40:07.472622<br>Python version: 3.12.11<br>skforecast version: 0.16.0<br>numpy version: 2.1.3<br>pandas version: 2.3.2<br>sklearn version: 1.6.1<br>lightgbm version: 4.6.0<br>Platform: Linux-6.11.0-1018-azure-x86_64-with-glibc2.39<br>Processor: x86_64<br>CPU count: 4<br>Memory (GB): 16.77<br>Run time avg: 0.960706 s<br>Run time median: 0.961391 s<br>Run time p95: 1.028577 s<br>Run time std: 0.042700 s<br>Nº repeats: 10",
          "Forecaster: ForecasterRecursiveMultiSeries<br>Regressor: DummyRegressor<br>Function: ForecasterRecursiveMultiSeries__create_train_X_y_series_is_dict_no_exog<br>Function_hash: 884eb9ee19bb306145a0fd967253bbfc<br>Method: _create_train_X_y_series_is_dict_no_exog<br>Datetime: 2025-08-26 08:54:22.589828<br>Python version: 3.12.11<br>skforecast version: 0.16.0<br>numpy version: 2.1.3<br>pandas version: 2.3.2<br>sklearn version: 1.6.1<br>lightgbm version: 4.6.0<br>Platform: Linux-6.11.0-1018-azure-x86_64-with-glibc2.39<br>Processor: x86_64<br>CPU count: 4<br>Memory (GB): 16.77<br>Run time avg: 0.989098 s<br>Run time median: 0.995439 s<br>Run time p95: 1.052381 s<br>Run time std: 0.044410 s<br>Nº repeats: 10",
          "Forecaster: ForecasterRecursiveMultiSeries<br>Regressor: DummyRegressor<br>Function: ForecasterRecursiveMultiSeries__create_train_X_y_series_is_dict_no_exog<br>Function_hash: 884eb9ee19bb306145a0fd967253bbfc<br>Method: _create_train_X_y_series_is_dict_no_exog<br>Datetime: 2025-08-26 09:04:45.053085<br>Python version: 3.12.11<br>skforecast version: 0.16.0<br>numpy version: 2.1.3<br>pandas version: 2.3.2<br>sklearn version: 1.6.1<br>lightgbm version: 4.6.0<br>Platform: Linux-6.11.0-1018-azure-x86_64-with-glibc2.39<br>Processor: x86_64<br>CPU count: 4<br>Memory (GB): 16.77<br>Run time avg: 0.995495 s<br>Run time median: 1.001657 s<br>Run time p95: 1.060528 s<br>Run time std: 0.044664 s<br>Nº repeats: 10"
         ],
         "type": "scatter",
         "visible": true,
         "x": {
          "bdata": "wa+oISGh7z8Gf50424fvPwuSUV9ybe8/7GajmTjl7z8=",
          "dtype": "f8"
         },
         "y": {
          "bdata": "zQkYKxKN7z/N4jJeGr7uP81sSI+wpu8/DXTzVBnb7z8=",
          "dtype": "f8"
         }
        },
        {
         "error_y": {
          "array": {
           "bdata": "OxCiXU0Hpz9yQudLYNOoP+zCAcOO5aY/UYXvGdIipj9Chmdg+MulPw==",
           "dtype": "f8"
          },
          "color": "#00CC96",
          "thickness": 1.5,
          "type": "data",
          "visible": true,
          "width": 5
         },
         "hovertemplate": "%{text}<extra></extra>",
         "marker": {
          "color": "#00CC96",
          "line": {
           "color": "white",
           "width": 1
          },
          "opacity": 0.85,
          "size": 10
         },
         "mode": "markers",
         "text": [
          "Forecaster: ForecasterRecursiveMultiSeries<br>Regressor: DummyRegressor<br>Function: ForecasterRecursiveMultiSeries__create_train_X_y_series_is_dict_no_exog<br>Function_hash: 884eb9ee19bb306145a0fd967253bbfc<br>Method: _create_train_X_y_series_is_dict_no_exog<br>Datetime: 2025-08-26 06:59:18.632208<br>Python version: 3.12.11<br>skforecast version: 0.17.0<br>numpy version: 2.1.3<br>pandas version: 2.3.2<br>sklearn version: 1.6.1<br>lightgbm version: 4.6.0<br>Platform: Linux-6.11.0-1018-azure-x86_64-with-glibc2.39<br>Processor: x86_64<br>CPU count: 4<br>Memory (GB): 16.77<br>Run time avg: 0.957987 s<br>Run time median: 0.959988 s<br>Run time p95: 1.025637 s<br>Run time std: 0.044978 s<br>Nº repeats: 10",
          "Forecaster: ForecasterRecursiveMultiSeries<br>Regressor: DummyRegressor<br>Function: ForecasterRecursiveMultiSeries__create_train_X_y_series_is_dict_no_exog<br>Function_hash: 884eb9ee19bb306145a0fd967253bbfc<br>Method: _create_train_X_y_series_is_dict_no_exog<br>Datetime: 2025-08-26 07:12:06.499790<br>Python version: 3.12.11<br>skforecast version: 0.17.0<br>numpy version: 2.1.3<br>pandas version: 2.3.2<br>sklearn version: 1.6.1<br>lightgbm version: 4.6.0<br>Platform: Linux-6.11.0-1018-azure-x86_64-with-glibc2.39<br>Processor: x86_64<br>CPU count: 4<br>Memory (GB): 16.77<br>Run time avg: 0.987680 s<br>Run time median: 0.987770 s<br>Run time p95: 1.063823 s<br>Run time std: 0.048488 s<br>Nº repeats: 10",
          "Forecaster: ForecasterRecursiveMultiSeries<br>Regressor: DummyRegressor<br>Function: ForecasterRecursiveMultiSeries__create_train_X_y_series_is_dict_no_exog<br>Function_hash: 884eb9ee19bb306145a0fd967253bbfc<br>Method: _create_train_X_y_series_is_dict_no_exog<br>Datetime: 2025-08-26 07:30:38.425637<br>Python version: 3.12.11<br>skforecast version: 0.17.0<br>numpy version: 2.1.3<br>pandas version: 2.3.2<br>sklearn version: 1.6.1<br>lightgbm version: 4.6.0<br>Platform: Linux-6.11.0-1018-azure-x86_64-with-glibc2.39<br>Processor: x86_64<br>CPU count: 4<br>Memory (GB): 16.77<br>Run time avg: 0.973898 s<br>Run time median: 0.978560 s<br>Run time p95: 1.040727 s<br>Run time std: 0.044720 s<br>Nº repeats: 10",
          "Forecaster: ForecasterRecursiveMultiSeries<br>Regressor: DummyRegressor<br>Function: ForecasterRecursiveMultiSeries__create_train_X_y_series_is_dict_no_exog<br>Function_hash: 884eb9ee19bb306145a0fd967253bbfc<br>Method: _create_train_X_y_series_is_dict_no_exog<br>Datetime: 2025-08-26 07:43:17.267246<br>Python version: 3.12.11<br>skforecast version: 0.17.0<br>numpy version: 2.1.3<br>pandas version: 2.3.2<br>sklearn version: 1.6.1<br>lightgbm version: 4.6.0<br>Platform: Linux-6.11.0-1018-azure-x86_64-with-glibc2.39<br>Processor: x86_64<br>CPU count: 4<br>Memory (GB): 16.77<br>Run time avg: 0.987801 s<br>Run time median: 0.994495 s<br>Run time p95: 1.049480 s<br>Run time std: 0.043234 s<br>Nº repeats: 10",
          "Forecaster: ForecasterRecursiveMultiSeries<br>Regressor: DummyRegressor<br>Function: ForecasterRecursiveMultiSeries__create_train_X_y_series_is_dict_no_exog<br>Function_hash: 884eb9ee19bb306145a0fd967253bbfc<br>Method: _create_train_X_y_series_is_dict_no_exog<br>Datetime: 2025-08-26 08:09:20.125668<br>Python version: 3.12.11<br>skforecast version: 0.17.0<br>numpy version: 2.1.3<br>pandas version: 2.3.2<br>sklearn version: 1.6.1<br>lightgbm version: 4.6.0<br>Platform: Linux-6.11.0-1018-azure-x86_64-with-glibc2.39<br>Processor: x86_64<br>CPU count: 4<br>Memory (GB): 16.77<br>Run time avg: 0.974897 s<br>Run time median: 0.979442 s<br>Run time p95: 1.040247 s<br>Run time std: 0.042572 s<br>Nº repeats: 10"
         ],
         "type": "scatter",
         "visible": true,
         "x": {
          "bdata": "bvFIYxcRAECrlPTDaRMAQFx0dyZJe/8/Vg0CJzqr/z+QpTru+D0AQA==",
          "dtype": "f8"
         },
         "y": {
          "bdata": "ZoJrFdWn7j9mDlCjEpvvP5ppDcwrKu8/mtzDzw+c7z+aN+7xWjLvPw==",
          "dtype": "f8"
         }
        },
        {
         "error_y": {
          "array": {
           "bdata": "s3ikn6NqoT+dtPY0l/urP0G4n+kMeps/vO/sd0O+oz8=",
           "dtype": "f8"
          },
          "color": "#636EFA",
          "thickness": 1.5,
          "type": "data",
          "visible": true,
          "width": 5
         },
         "hovertemplate": "%{text}<extra></extra>",
         "marker": {
          "color": "#636EFA",
          "line": {
           "color": "white",
           "width": 1
          },
          "opacity": 0.85,
          "size": 10
         },
         "mode": "markers",
         "text": [
          "Forecaster: ForecasterRecursiveMultiSeries<br>Regressor: DummyRegressor<br>Function: ForecasterRecursiveMultiSeries__create_train_X_y_series_is_dict_exog_is_dict<br>Function_hash: c70cf08e09088bd1bcfbf3c005078457<br>Method: _create_train_X_y_series_is_dict_exog_is_dict<br>Datetime: 2025-08-26 09:17:05.521412<br>Python version: 3.12.11<br>skforecast version: 0.15.1<br>numpy version: 2.1.3<br>pandas version: 2.3.2<br>sklearn version: 1.6.1<br>lightgbm version: 4.6.0<br>Platform: Linux-6.11.0-1018-azure-x86_64-with-glibc2.39<br>Processor: x86_64<br>CPU count: 4<br>Memory (GB): 16.77<br>Run time avg: 2.066053 s<br>Run time median: 2.055871 s<br>Run time p95: 2.128615 s<br>Run time std: 0.034017 s<br>Nº repeats: 10",
          "Forecaster: ForecasterRecursiveMultiSeries<br>Regressor: DummyRegressor<br>Function: ForecasterRecursiveMultiSeries__create_train_X_y_series_is_dict_exog_is_dict<br>Function_hash: c70cf08e09088bd1bcfbf3c005078457<br>Method: _create_train_X_y_series_is_dict_exog_is_dict<br>Datetime: 2025-08-26 09:33:06.132015<br>Python version: 3.12.11<br>skforecast version: 0.15.1<br>numpy version: 2.1.3<br>pandas version: 2.3.2<br>sklearn version: 1.6.1<br>lightgbm version: 4.6.0<br>Platform: Linux-6.11.0-1018-azure-x86_64-with-glibc2.39<br>Processor: x86_64<br>CPU count: 4<br>Memory (GB): 16.77<br>Run time avg: 2.078292 s<br>Run time median: 2.072860 s<br>Run time p95: 2.166637 s<br>Run time std: 0.054654 s<br>Nº repeats: 10",
          "Forecaster: ForecasterRecursiveMultiSeries<br>Regressor: DummyRegressor<br>Function: ForecasterRecursiveMultiSeries__create_train_X_y_series_is_dict_exog_is_dict<br>Function_hash: c70cf08e09088bd1bcfbf3c005078457<br>Method: _create_train_X_y_series_is_dict_exog_is_dict<br>Datetime: 2025-08-26 09:45:57.153225<br>Python version: 3.12.11<br>skforecast version: 0.15.1<br>numpy version: 2.1.3<br>pandas version: 2.3.2<br>sklearn version: 1.6.1<br>lightgbm version: 4.6.0<br>Platform: Linux-6.11.0-1018-azure-x86_64-with-glibc2.39<br>Processor: x86_64<br>CPU count: 4<br>Memory (GB): 16.77<br>Run time avg: 2.073582 s<br>Run time median: 2.062931 s<br>Run time p95: 2.118569 s<br>Run time std: 0.026833 s<br>Nº repeats: 10",
          "Forecaster: ForecasterRecursiveMultiSeries<br>Regressor: DummyRegressor<br>Function: ForecasterRecursiveMultiSeries__create_train_X_y_series_is_dict_exog_is_dict<br>Function_hash: c70cf08e09088bd1bcfbf3c005078457<br>Method: _create_train_X_y_series_is_dict_exog_is_dict<br>Datetime: 2025-08-26 10:09:32.093155<br>Python version: 3.12.11<br>skforecast version: 0.15.1<br>numpy version: 2.1.3<br>pandas version: 2.3.2<br>sklearn version: 1.6.1<br>lightgbm version: 4.6.0<br>Platform: Linux-6.11.0-1018-azure-x86_64-with-glibc2.39<br>Processor: x86_64<br>CPU count: 4<br>Memory (GB): 16.77<br>Run time avg: 2.054710 s<br>Run time median: 2.051150 s<br>Run time p95: 2.111571 s<br>Run time std: 0.038561 s<br>Nº repeats: 10"
         ],
         "type": "scatter",
         "visible": false,
         "x": {
          "bdata": "TkFKLS2JqT9W/6MbywGSv+SPKk/1qKc/aD8xGvjzfT8=",
          "dtype": "f8"
         },
         "y": {
          "bdata": "jVDOnUaHAED2ydKRV6AAQOB5pyGylgBAQLaB8QtwAEA=",
          "dtype": "f8"
         }
        },
        {
         "error_y": {
          "array": {
           "bdata": "YtkIzbBJpT+64d1G0feWP0Gk9E+dO5Y/FWJcJMEcnT8=",
           "dtype": "f8"
          },
          "color": "#EF553B",
          "thickness": 1.5,
          "type": "data",
          "visible": true,
          "width": 5
         },
         "hovertemplate": "%{text}<extra></extra>",
         "marker": {
          "color": "#EF553B",
          "line": {
           "color": "white",
           "width": 1
          },
          "opacity": 0.85,
          "size": 10
         },
         "mode": "markers",
         "text": [
          "Forecaster: ForecasterRecursiveMultiSeries<br>Regressor: DummyRegressor<br>Function: ForecasterRecursiveMultiSeries__create_train_X_y_series_is_dict_exog_is_dict<br>Function_hash: c70cf08e09088bd1bcfbf3c005078457<br>Method: _create_train_X_y_series_is_dict_exog_is_dict<br>Datetime: 2025-08-26 08:30:25.349250<br>Python version: 3.12.11<br>skforecast version: 0.16.0<br>numpy version: 2.1.3<br>pandas version: 2.3.2<br>sklearn version: 1.6.1<br>lightgbm version: 4.6.0<br>Platform: Linux-6.11.0-1018-azure-x86_64-with-glibc2.39<br>Processor: x86_64<br>CPU count: 4<br>Memory (GB): 16.77<br>Run time avg: 1.249419 s<br>Run time median: 1.243370 s<br>Run time p95: 1.311856 s<br>Run time std: 0.041578 s<br>Nº repeats: 10",
          "Forecaster: ForecasterRecursiveMultiSeries<br>Regressor: DummyRegressor<br>Function: ForecasterRecursiveMultiSeries__create_train_X_y_series_is_dict_exog_is_dict<br>Function_hash: c70cf08e09088bd1bcfbf3c005078457<br>Method: _create_train_X_y_series_is_dict_exog_is_dict<br>Datetime: 2025-08-26 08:40:19.748276<br>Python version: 3.12.11<br>skforecast version: 0.16.0<br>numpy version: 2.1.3<br>pandas version: 2.3.2<br>sklearn version: 1.6.1<br>lightgbm version: 4.6.0<br>Platform: Linux-6.11.0-1018-azure-x86_64-with-glibc2.39<br>Processor: x86_64<br>CPU count: 4<br>Memory (GB): 16.77<br>Run time avg: 1.227065 s<br>Run time median: 1.216374 s<br>Run time p95: 1.269010 s<br>Run time std: 0.022430 s<br>Nº repeats: 10",
          "Forecaster: ForecasterRecursiveMultiSeries<br>Regressor: DummyRegressor<br>Function: ForecasterRecursiveMultiSeries__create_train_X_y_series_is_dict_exog_is_dict<br>Function_hash: c70cf08e09088bd1bcfbf3c005078457<br>Method: _create_train_X_y_series_is_dict_exog_is_dict<br>Datetime: 2025-08-26 08:54:35.455861<br>Python version: 3.12.11<br>skforecast version: 0.16.0<br>numpy version: 2.1.3<br>pandas version: 2.3.2<br>sklearn version: 1.6.1<br>lightgbm version: 4.6.0<br>Platform: Linux-6.11.0-1018-azure-x86_64-with-glibc2.39<br>Processor: x86_64<br>CPU count: 4<br>Memory (GB): 16.77<br>Run time avg: 1.286068 s<br>Run time median: 1.281044 s<br>Run time p95: 1.327373 s<br>Run time std: 0.021712 s<br>Nº repeats: 10",
          "Forecaster: ForecasterRecursiveMultiSeries<br>Regressor: DummyRegressor<br>Function: ForecasterRecursiveMultiSeries__create_train_X_y_series_is_dict_exog_is_dict<br>Function_hash: c70cf08e09088bd1bcfbf3c005078457<br>Method: _create_train_X_y_series_is_dict_exog_is_dict<br>Datetime: 2025-08-26 09:04:58.001682<br>Python version: 3.12.11<br>skforecast version: 0.16.0<br>numpy version: 2.1.3<br>pandas version: 2.3.2<br>sklearn version: 1.6.1<br>lightgbm version: 4.6.0<br>Platform: Linux-6.11.0-1018-azure-x86_64-with-glibc2.39<br>Processor: x86_64<br>CPU count: 4<br>Memory (GB): 16.77<br>Run time avg: 1.294300 s<br>Run time median: 1.285981 s<br>Run time p95: 1.344518 s<br>Run time std: 0.028430 s<br>Nº repeats: 10"
         ],
         "type": "scatter",
         "visible": false,
         "x": {
          "bdata": "4wx/R4U38D/sEki9CVfvPz1sIbApZPA/LjiUVbpW8D8=",
          "dtype": "f8"
         },
         "y": {
          "bdata": "GvmdIp/98z8tSRJCD6LzP83wWmi8k/Q/Grh2XHS19D8=",
          "dtype": "f8"
         }
        },
        {
         "error_y": {
          "array": {
           "bdata": "diKo+yBulj8DHdDVcVmkP5oBb8ergZw/hgZV8kxImT/4/x4IZsKkPw==",
           "dtype": "f8"
          },
          "color": "#00CC96",
          "thickness": 1.5,
          "type": "data",
          "visible": true,
          "width": 5
         },
         "hovertemplate": "%{text}<extra></extra>",
         "marker": {
          "color": "#00CC96",
          "line": {
           "color": "white",
           "width": 1
          },
          "opacity": 0.85,
          "size": 10
         },
         "mode": "markers",
         "text": [
          "Forecaster: ForecasterRecursiveMultiSeries<br>Regressor: DummyRegressor<br>Function: ForecasterRecursiveMultiSeries__create_train_X_y_series_is_dict_exog_is_dict<br>Function_hash: c70cf08e09088bd1bcfbf3c005078457<br>Method: _create_train_X_y_series_is_dict_exog_is_dict<br>Datetime: 2025-08-26 06:59:31.476707<br>Python version: 3.12.11<br>skforecast version: 0.17.0<br>numpy version: 2.1.3<br>pandas version: 2.3.2<br>sklearn version: 1.6.1<br>lightgbm version: 4.6.0<br>Platform: Linux-6.11.0-1018-azure-x86_64-with-glibc2.39<br>Processor: x86_64<br>CPU count: 4<br>Memory (GB): 16.77<br>Run time avg: 1.284028 s<br>Run time median: 1.276731 s<br>Run time p95: 1.324669 s<br>Run time std: 0.021904 s<br>Nº repeats: 10",
          "Forecaster: ForecasterRecursiveMultiSeries<br>Regressor: DummyRegressor<br>Function: ForecasterRecursiveMultiSeries__create_train_X_y_series_is_dict_exog_is_dict<br>Function_hash: c70cf08e09088bd1bcfbf3c005078457<br>Method: _create_train_X_y_series_is_dict_exog_is_dict<br>Datetime: 2025-08-26 07:12:19.883082<br>Python version: 3.12.11<br>skforecast version: 0.17.0<br>numpy version: 2.1.3<br>pandas version: 2.3.2<br>sklearn version: 1.6.1<br>lightgbm version: 4.6.0<br>Platform: Linux-6.11.0-1018-azure-x86_64-with-glibc2.39<br>Processor: x86_64<br>CPU count: 4<br>Memory (GB): 16.77<br>Run time avg: 1.337861 s<br>Run time median: 1.321587 s<br>Run time p95: 1.412478 s<br>Run time std: 0.039745 s<br>Nº repeats: 10",
          "Forecaster: ForecasterRecursiveMultiSeries<br>Regressor: DummyRegressor<br>Function: ForecasterRecursiveMultiSeries__create_train_X_y_series_is_dict_exog_is_dict<br>Function_hash: c70cf08e09088bd1bcfbf3c005078457<br>Method: _create_train_X_y_series_is_dict_exog_is_dict<br>Datetime: 2025-08-26 07:30:51.566071<br>Python version: 3.12.11<br>skforecast version: 0.17.0<br>numpy version: 2.1.3<br>pandas version: 2.3.2<br>sklearn version: 1.6.1<br>lightgbm version: 4.6.0<br>Platform: Linux-6.11.0-1018-azure-x86_64-with-glibc2.39<br>Processor: x86_64<br>CPU count: 4<br>Memory (GB): 16.77<br>Run time avg: 1.313582 s<br>Run time median: 1.301044 s<br>Run time p95: 1.364147 s<br>Run time std: 0.027838 s<br>Nº repeats: 10",
          "Forecaster: ForecasterRecursiveMultiSeries<br>Regressor: DummyRegressor<br>Function: ForecasterRecursiveMultiSeries__create_train_X_y_series_is_dict_exog_is_dict<br>Function_hash: c70cf08e09088bd1bcfbf3c005078457<br>Method: _create_train_X_y_series_is_dict_exog_is_dict<br>Datetime: 2025-08-26 07:43:30.532207<br>Python version: 3.12.11<br>skforecast version: 0.17.0<br>numpy version: 2.1.3<br>pandas version: 2.3.2<br>sklearn version: 1.6.1<br>lightgbm version: 4.6.0<br>Platform: Linux-6.11.0-1018-azure-x86_64-with-glibc2.39<br>Processor: x86_64<br>CPU count: 4<br>Memory (GB): 16.77<br>Run time avg: 1.326020 s<br>Run time median: 1.315841 s<br>Run time p95: 1.373672 s<br>Run time std: 0.024690 s<br>Nº repeats: 10",
          "Forecaster: ForecasterRecursiveMultiSeries<br>Regressor: DummyRegressor<br>Function: ForecasterRecursiveMultiSeries__create_train_X_y_series_is_dict_exog_is_dict<br>Function_hash: c70cf08e09088bd1bcfbf3c005078457<br>Method: _create_train_X_y_series_is_dict_exog_is_dict<br>Datetime: 2025-08-26 08:09:33.223066<br>Python version: 3.12.11<br>skforecast version: 0.17.0<br>numpy version: 2.1.3<br>pandas version: 2.3.2<br>sklearn version: 1.6.1<br>lightgbm version: 4.6.0<br>Platform: Linux-6.11.0-1018-azure-x86_64-with-glibc2.39<br>Processor: x86_64<br>CPU count: 4<br>Memory (GB): 16.77<br>Run time avg: 1.309244 s<br>Run time median: 1.292634 s<br>Run time p95: 1.388827 s<br>Run time std: 0.040546 s<br>Nº repeats: 10"
         ],
         "type": "scatter",
         "visible": false,
         "x": {
          "bdata": "d4Wy2jJAAEDUMBdcnjsAQFXb9jz+z/8/IhA58PhIAECKMeQlY7L/Pw==",
          "dtype": "f8"
         },
         "y": {
          "bdata": "mjOrqmCL9D/aYj/A4Gf1P0Be+NJuBPU/ZuCJdmA39T/NUrPBqfL0Pw==",
          "dtype": "f8"
         }
        },
        {
         "error_y": {
          "array": {
           "bdata": "kDvWIG+YoD/9m8Vdr+GmP1O9ASN3jpo/yY5B94wanz8=",
           "dtype": "f8"
          },
          "color": "#636EFA",
          "thickness": 1.5,
          "type": "data",
          "visible": true,
          "width": 5
         },
         "hovertemplate": "%{text}<extra></extra>",
         "marker": {
          "color": "#636EFA",
          "line": {
           "color": "white",
           "width": 1
          },
          "opacity": 0.85,
          "size": 10
         },
         "mode": "markers",
         "text": [
          "Forecaster: ForecasterRecursiveMultiSeries<br>Regressor: DummyRegressor<br>Function: ForecasterRecursiveMultiSeries__create_train_X_y_series_is_dict_different_length_exog_is_dict<br>Function_hash: 91a35cbbffcab7d1203c8394333ee5f9<br>Method: _create_train_X_y_series_is_dict_different_length_exog_is_dict<br>Datetime: 2025-08-26 09:17:25.875261<br>Python version: 3.12.11<br>skforecast version: 0.15.1<br>numpy version: 2.1.3<br>pandas version: 2.3.2<br>sklearn version: 1.6.1<br>lightgbm version: 4.6.0<br>Platform: Linux-6.11.0-1018-azure-x86_64-with-glibc2.39<br>Processor: x86_64<br>CPU count: 4<br>Memory (GB): 16.77<br>Run time avg: 2.034827 s<br>Run time median: 2.028280 s<br>Run time p95: 2.085911 s<br>Run time std: 0.032413 s<br>Nº repeats: 10",
          "Forecaster: ForecasterRecursiveMultiSeries<br>Regressor: DummyRegressor<br>Function: ForecasterRecursiveMultiSeries__create_train_X_y_series_is_dict_different_length_exog_is_dict<br>Function_hash: 91a35cbbffcab7d1203c8394333ee5f9<br>Method: _create_train_X_y_series_is_dict_different_length_exog_is_dict<br>Datetime: 2025-08-26 09:33:26.396286<br>Python version: 3.12.11<br>skforecast version: 0.15.1<br>numpy version: 2.1.3<br>pandas version: 2.3.2<br>sklearn version: 1.6.1<br>lightgbm version: 4.6.0<br>Platform: Linux-6.11.0-1018-azure-x86_64-with-glibc2.39<br>Processor: x86_64<br>CPU count: 4<br>Memory (GB): 16.77<br>Run time avg: 2.025838 s<br>Run time median: 2.018308 s<br>Run time p95: 2.100743 s<br>Run time std: 0.044691 s<br>Nº repeats: 10",
          "Forecaster: ForecasterRecursiveMultiSeries<br>Regressor: DummyRegressor<br>Function: ForecasterRecursiveMultiSeries__create_train_X_y_series_is_dict_different_length_exog_is_dict<br>Function_hash: 91a35cbbffcab7d1203c8394333ee5f9<br>Method: _create_train_X_y_series_is_dict_different_length_exog_is_dict<br>Datetime: 2025-08-26 09:46:17.343633<br>Python version: 3.12.11<br>skforecast version: 0.15.1<br>numpy version: 2.1.3<br>pandas version: 2.3.2<br>sklearn version: 1.6.1<br>lightgbm version: 4.6.0<br>Platform: Linux-6.11.0-1018-azure-x86_64-with-glibc2.39<br>Processor: x86_64<br>CPU count: 4<br>Memory (GB): 16.77<br>Run time avg: 2.018466 s<br>Run time median: 2.015099 s<br>Run time p95: 2.061831 s<br>Run time std: 0.025934 s<br>Nº repeats: 10",
          "Forecaster: ForecasterRecursiveMultiSeries<br>Regressor: DummyRegressor<br>Function: ForecasterRecursiveMultiSeries__create_train_X_y_series_is_dict_different_length_exog_is_dict<br>Function_hash: 91a35cbbffcab7d1203c8394333ee5f9<br>Method: _create_train_X_y_series_is_dict_different_length_exog_is_dict<br>Datetime: 2025-08-26 10:09:52.188971<br>Python version: 3.12.11<br>skforecast version: 0.15.1<br>numpy version: 2.1.3<br>pandas version: 2.3.2<br>sklearn version: 1.6.1<br>lightgbm version: 4.6.0<br>Platform: Linux-6.11.0-1018-azure-x86_64-with-glibc2.39<br>Processor: x86_64<br>CPU count: 4<br>Memory (GB): 16.77<br>Run time avg: 2.008998 s<br>Run time median: 1.997628 s<br>Run time p95: 2.067447 s<br>Run time std: 0.030375 s<br>Nº repeats: 10"
         ],
         "type": "scatter",
         "visible": false,
         "x": {
          "bdata": "LHJ2LxfeqL8Q3E2MOSegP/hYd+b05oE/gOHYmXZBpD8=",
          "dtype": "f8"
         },
         "y": {
          "bdata": "JtUMm1NHAEAzpdHM6jQAQKCYpkDRJQBAQNVCs20SAEA=",
          "dtype": "f8"
         }
        },
        {
         "error_y": {
          "array": {
           "bdata": "m9JWBXIZoz+0C3EhumeWPy9jkLdjU5Q//0tkjZ64pD8=",
           "dtype": "f8"
          },
          "color": "#EF553B",
          "thickness": 1.5,
          "type": "data",
          "visible": true,
          "width": 5
         },
         "hovertemplate": "%{text}<extra></extra>",
         "marker": {
          "color": "#EF553B",
          "line": {
           "color": "white",
           "width": 1
          },
          "opacity": 0.85,
          "size": 10
         },
         "mode": "markers",
         "text": [
          "Forecaster: ForecasterRecursiveMultiSeries<br>Regressor: DummyRegressor<br>Function: ForecasterRecursiveMultiSeries__create_train_X_y_series_is_dict_different_length_exog_is_dict<br>Function_hash: 91a35cbbffcab7d1203c8394333ee5f9<br>Method: _create_train_X_y_series_is_dict_different_length_exog_is_dict<br>Datetime: 2025-08-26 08:30:37.808794<br>Python version: 3.12.11<br>skforecast version: 0.16.0<br>numpy version: 2.1.3<br>pandas version: 2.3.2<br>sklearn version: 1.6.1<br>lightgbm version: 4.6.0<br>Platform: Linux-6.11.0-1018-azure-x86_64-with-glibc2.39<br>Processor: x86_64<br>CPU count: 4<br>Memory (GB): 16.77<br>Run time avg: 1.245427 s<br>Run time median: 1.238341 s<br>Run time p95: 1.313618 s<br>Run time std: 0.037304 s<br>Nº repeats: 10",
          "Forecaster: ForecasterRecursiveMultiSeries<br>Regressor: DummyRegressor<br>Function: ForecasterRecursiveMultiSeries__create_train_X_y_series_is_dict_different_length_exog_is_dict<br>Function_hash: 91a35cbbffcab7d1203c8394333ee5f9<br>Method: _create_train_X_y_series_is_dict_different_length_exog_is_dict<br>Datetime: 2025-08-26 08:40:31.631723<br>Python version: 3.12.11<br>skforecast version: 0.16.0<br>numpy version: 2.1.3<br>pandas version: 2.3.2<br>sklearn version: 1.6.1<br>lightgbm version: 4.6.0<br>Platform: Linux-6.11.0-1018-azure-x86_64-with-glibc2.39<br>Processor: x86_64<br>CPU count: 4<br>Memory (GB): 16.77<br>Run time avg: 1.187822 s<br>Run time median: 1.182003 s<br>Run time p95: 1.223061 s<br>Run time std: 0.021880 s<br>Nº repeats: 10",
          "Forecaster: ForecasterRecursiveMultiSeries<br>Regressor: DummyRegressor<br>Function: ForecasterRecursiveMultiSeries__create_train_X_y_series_is_dict_different_length_exog_is_dict<br>Function_hash: 91a35cbbffcab7d1203c8394333ee5f9<br>Method: _create_train_X_y_series_is_dict_different_length_exog_is_dict<br>Datetime: 2025-08-26 08:54:47.608290<br>Python version: 3.12.11<br>skforecast version: 0.16.0<br>numpy version: 2.1.3<br>pandas version: 2.3.2<br>sklearn version: 1.6.1<br>lightgbm version: 4.6.0<br>Platform: Linux-6.11.0-1018-azure-x86_64-with-glibc2.39<br>Processor: x86_64<br>CPU count: 4<br>Memory (GB): 16.77<br>Run time avg: 1.214716 s<br>Run time median: 1.210967 s<br>Run time p95: 1.247573 s<br>Run time std: 0.019849 s<br>Nº repeats: 10",
          "Forecaster: ForecasterRecursiveMultiSeries<br>Regressor: DummyRegressor<br>Function: ForecasterRecursiveMultiSeries__create_train_X_y_series_is_dict_different_length_exog_is_dict<br>Function_hash: 91a35cbbffcab7d1203c8394333ee5f9<br>Method: _create_train_X_y_series_is_dict_different_length_exog_is_dict<br>Datetime: 2025-08-26 09:05:10.548197<br>Python version: 3.12.11<br>skforecast version: 0.16.0<br>numpy version: 2.1.3<br>pandas version: 2.3.2<br>sklearn version: 1.6.1<br>lightgbm version: 4.6.0<br>Platform: Linux-6.11.0-1018-azure-x86_64-with-glibc2.39<br>Processor: x86_64<br>CPU count: 4<br>Memory (GB): 16.77<br>Run time avg: 1.254089 s<br>Run time median: 1.244341 s<br>Run time p95: 1.319811 s<br>Run time std: 0.040471 s<br>Nº repeats: 10"
         ],
         "type": "scatter",
         "visible": false,
         "x": {
          "bdata": "D5MC+sRs7j+SPE7OHXPwP45QOmBvH+8/UvEJ1qdO8D8=",
          "dtype": "f8"
         },
         "y": {
          "bdata": "M/CsZ0Tt8z8N7D7fUQHzP804pJR5b/M/wAsSlL8Q9D8=",
          "dtype": "f8"
         }
        },
        {
         "error_y": {
          "array": {
           "bdata": "K0sYZMoolj8kR7BHU8WXP3rNwwmvCZw/ehbm1soDnz+6Ud0vZ7SaPw==",
           "dtype": "f8"
          },
          "color": "#00CC96",
          "thickness": 1.5,
          "type": "data",
          "visible": true,
          "width": 5
         },
         "hovertemplate": "%{text}<extra></extra>",
         "marker": {
          "color": "#00CC96",
          "line": {
           "color": "white",
           "width": 1
          },
          "opacity": 0.85,
          "size": 10
         },
         "mode": "markers",
         "text": [
          "Forecaster: ForecasterRecursiveMultiSeries<br>Regressor: DummyRegressor<br>Function: ForecasterRecursiveMultiSeries__create_train_X_y_series_is_dict_different_length_exog_is_dict<br>Function_hash: 91a35cbbffcab7d1203c8394333ee5f9<br>Method: _create_train_X_y_series_is_dict_different_length_exog_is_dict<br>Datetime: 2025-08-26 06:59:43.329845<br>Python version: 3.12.11<br>skforecast version: 0.17.0<br>numpy version: 2.1.3<br>pandas version: 2.3.2<br>sklearn version: 1.6.1<br>lightgbm version: 4.6.0<br>Platform: Linux-6.11.0-1018-azure-x86_64-with-glibc2.39<br>Processor: x86_64<br>CPU count: 4<br>Memory (GB): 16.77<br>Run time avg: 1.184894 s<br>Run time median: 1.179469 s<br>Run time p95: 1.222944 s<br>Run time std: 0.021640 s<br>Nº repeats: 10",
          "Forecaster: ForecasterRecursiveMultiSeries<br>Regressor: DummyRegressor<br>Function: ForecasterRecursiveMultiSeries__create_train_X_y_series_is_dict_different_length_exog_is_dict<br>Function_hash: 91a35cbbffcab7d1203c8394333ee5f9<br>Method: _create_train_X_y_series_is_dict_different_length_exog_is_dict<br>Datetime: 2025-08-26 07:12:32.305632<br>Python version: 3.12.11<br>skforecast version: 0.17.0<br>numpy version: 2.1.3<br>pandas version: 2.3.2<br>sklearn version: 1.6.1<br>lightgbm version: 4.6.0<br>Platform: Linux-6.11.0-1018-azure-x86_64-with-glibc2.39<br>Processor: x86_64<br>CPU count: 4<br>Memory (GB): 16.77<br>Run time avg: 1.241758 s<br>Run time median: 1.235144 s<br>Run time p95: 1.281488 s<br>Run time std: 0.023214 s<br>Nº repeats: 10",
          "Forecaster: ForecasterRecursiveMultiSeries<br>Regressor: DummyRegressor<br>Function: ForecasterRecursiveMultiSeries__create_train_X_y_series_is_dict_different_length_exog_is_dict<br>Function_hash: 91a35cbbffcab7d1203c8394333ee5f9<br>Method: _create_train_X_y_series_is_dict_different_length_exog_is_dict<br>Datetime: 2025-08-26 07:31:03.767663<br>Python version: 3.12.11<br>skforecast version: 0.17.0<br>numpy version: 2.1.3<br>pandas version: 2.3.2<br>sklearn version: 1.6.1<br>lightgbm version: 4.6.0<br>Platform: Linux-6.11.0-1018-azure-x86_64-with-glibc2.39<br>Processor: x86_64<br>CPU count: 4<br>Memory (GB): 16.77<br>Run time avg: 1.219684 s<br>Run time median: 1.208901 s<br>Run time p95: 1.272002 s<br>Run time std: 0.027381 s<br>Nº repeats: 10",
          "Forecaster: ForecasterRecursiveMultiSeries<br>Regressor: DummyRegressor<br>Function: ForecasterRecursiveMultiSeries__create_train_X_y_series_is_dict_different_length_exog_is_dict<br>Function_hash: 91a35cbbffcab7d1203c8394333ee5f9<br>Method: _create_train_X_y_series_is_dict_different_length_exog_is_dict<br>Datetime: 2025-08-26 07:43:42.884037<br>Python version: 3.12.11<br>skforecast version: 0.17.0<br>numpy version: 2.1.3<br>pandas version: 2.3.2<br>sklearn version: 1.6.1<br>lightgbm version: 4.6.0<br>Platform: Linux-6.11.0-1018-azure-x86_64-with-glibc2.39<br>Processor: x86_64<br>CPU count: 4<br>Memory (GB): 16.77<br>Run time avg: 1.234690 s<br>Run time median: 1.224955 s<br>Run time p95: 1.285795 s<br>Run time std: 0.030288 s<br>Nº repeats: 10",
          "Forecaster: ForecasterRecursiveMultiSeries<br>Regressor: DummyRegressor<br>Function: ForecasterRecursiveMultiSeries__create_train_X_y_series_is_dict_different_length_exog_is_dict<br>Function_hash: 91a35cbbffcab7d1203c8394333ee5f9<br>Method: _create_train_X_y_series_is_dict_different_length_exog_is_dict<br>Datetime: 2025-08-26 08:09:45.403827<br>Python version: 3.12.11<br>skforecast version: 0.17.0<br>numpy version: 2.1.3<br>pandas version: 2.3.2<br>sklearn version: 1.6.1<br>lightgbm version: 4.6.0<br>Platform: Linux-6.11.0-1018-azure-x86_64-with-glibc2.39<br>Processor: x86_64<br>CPU count: 4<br>Memory (GB): 16.77<br>Run time avg: 1.217582 s<br>Run time median: 1.207164 s<br>Run time p95: 1.265811 s<br>Run time std: 0.026079 s<br>Nº repeats: 10"
         ],
         "type": "scatter",
         "visible": false,
         "x": {
          "bdata": "Md3YSgPK/z9kWU+Twj7/P+YMVXZYQwBA3Tb/iP1eAEArL3dPvBkAQA==",
          "dtype": "f8"
         },
         "y": {
          "bdata": "ze+1zFP18j+zn9cQPt7zP01dnt/Tg/M/89gs+UnB8z/NQcinN3vzPw==",
          "dtype": "f8"
         }
        },
        {
         "error_y": {
          "array": {
           "bdata": "d84FCwGeoT+NXOwT2zajP78yLrML0aQ/ZBk4F1HdpT8iIp5Z6oyqPw==",
           "dtype": "f8"
          },
          "color": "#00CC96",
          "thickness": 1.5,
          "type": "data",
          "visible": true,
          "width": 5
         },
         "hovertemplate": "%{text}<extra></extra>",
         "marker": {
          "color": "#00CC96",
          "line": {
           "color": "white",
           "width": 1
          },
          "opacity": 0.85,
          "size": 10
         },
         "mode": "markers",
         "text": [
          "Forecaster: ForecasterRecursiveMultiSeries<br>Regressor: DummyRegressor<br>Function: ForecasterRecursiveMultiSeries__create_train_X_y_series_is_dict_exog_is_df_wide<br>Function_hash: 26a326aa875d25a0daa46bd8a609bf42<br>Method: _create_train_X_y_series_is_dict_exog_is_df_wide<br>Datetime: 2025-08-26 06:59:55.285659<br>Python version: 3.12.11<br>skforecast version: 0.17.0<br>numpy version: 2.1.3<br>pandas version: 2.3.2<br>sklearn version: 1.6.1<br>lightgbm version: 4.6.0<br>Platform: Linux-6.11.0-1018-azure-x86_64-with-glibc2.39<br>Processor: x86_64<br>CPU count: 4<br>Memory (GB): 16.77<br>Run time avg: 1.195156 s<br>Run time median: 1.208084 s<br>Run time p95: 1.230520 s<br>Run time std: 0.034409 s<br>Nº repeats: 10",
          "Forecaster: ForecasterRecursiveMultiSeries<br>Regressor: DummyRegressor<br>Function: ForecasterRecursiveMultiSeries__create_train_X_y_series_is_dict_exog_is_df_wide<br>Function_hash: 26a326aa875d25a0daa46bd8a609bf42<br>Method: _create_train_X_y_series_is_dict_exog_is_df_wide<br>Datetime: 2025-08-26 07:12:44.687373<br>Python version: 3.12.11<br>skforecast version: 0.17.0<br>numpy version: 2.1.3<br>pandas version: 2.3.2<br>sklearn version: 1.6.1<br>lightgbm version: 4.6.0<br>Platform: Linux-6.11.0-1018-azure-x86_64-with-glibc2.39<br>Processor: x86_64<br>CPU count: 4<br>Memory (GB): 16.77<br>Run time avg: 1.237692 s<br>Run time median: 1.247577 s<br>Run time p95: 1.280117 s<br>Run time std: 0.037528 s<br>Nº repeats: 10",
          "Forecaster: ForecasterRecursiveMultiSeries<br>Regressor: DummyRegressor<br>Function: ForecasterRecursiveMultiSeries__create_train_X_y_series_is_dict_exog_is_df_wide<br>Function_hash: 26a326aa875d25a0daa46bd8a609bf42<br>Method: _create_train_X_y_series_is_dict_exog_is_df_wide<br>Datetime: 2025-08-26 07:31:16.042352<br>Python version: 3.12.11<br>skforecast version: 0.17.0<br>numpy version: 2.1.3<br>pandas version: 2.3.2<br>sklearn version: 1.6.1<br>lightgbm version: 4.6.0<br>Platform: Linux-6.11.0-1018-azure-x86_64-with-glibc2.39<br>Processor: x86_64<br>CPU count: 4<br>Memory (GB): 16.77<br>Run time avg: 1.226989 s<br>Run time median: 1.250877 s<br>Run time p95: 1.260425 s<br>Run time std: 0.040657 s<br>Nº repeats: 10",
          "Forecaster: ForecasterRecursiveMultiSeries<br>Regressor: DummyRegressor<br>Function: ForecasterRecursiveMultiSeries__create_train_X_y_series_is_dict_exog_is_df_wide<br>Function_hash: 26a326aa875d25a0daa46bd8a609bf42<br>Method: _create_train_X_y_series_is_dict_exog_is_df_wide<br>Datetime: 2025-08-26 07:43:55.196835<br>Python version: 3.12.11<br>skforecast version: 0.17.0<br>numpy version: 2.1.3<br>pandas version: 2.3.2<br>sklearn version: 1.6.1<br>lightgbm version: 4.6.0<br>Platform: Linux-6.11.0-1018-azure-x86_64-with-glibc2.39<br>Processor: x86_64<br>CPU count: 4<br>Memory (GB): 16.77<br>Run time avg: 1.230775 s<br>Run time median: 1.250620 s<br>Run time p95: 1.269881 s<br>Run time std: 0.042704 s<br>Nº repeats: 10",
          "Forecaster: ForecasterRecursiveMultiSeries<br>Regressor: DummyRegressor<br>Function: ForecasterRecursiveMultiSeries__create_train_X_y_series_is_dict_exog_is_df_wide<br>Function_hash: 26a326aa875d25a0daa46bd8a609bf42<br>Method: _create_train_X_y_series_is_dict_exog_is_df_wide<br>Datetime: 2025-08-26 08:09:57.913969<br>Python version: 3.12.11<br>skforecast version: 0.17.0<br>numpy version: 2.1.3<br>pandas version: 2.3.2<br>sklearn version: 1.6.1<br>lightgbm version: 4.6.0<br>Platform: Linux-6.11.0-1018-azure-x86_64-with-glibc2.39<br>Processor: x86_64<br>CPU count: 4<br>Memory (GB): 16.77<br>Run time avg: 1.250501 s<br>Run time median: 1.275024 s<br>Run time p95: 1.300164 s<br>Run time std: 0.051856 s<br>Nº repeats: 10"
         ],
         "type": "scatter",
         "visible": false,
         "x": {
          "bdata": "ukhQUSdXAEAw45P1f0oAQO8C5vh6OQBAgH9e/3RP/z8LYEkcgN//Pw==",
          "dtype": "f8"
         },
         "y": {
          "bdata": "mo+ag1sf8z+ASLZWls3zP401uXq/ofM/GvlpCEGx8z+aGRxWDQL0Pw==",
          "dtype": "f8"
         }
        },
        {
         "error_y": {
          "array": {
           "bdata": "EwMUYpHvpD/I7Y395rarPz0kq66yRaY/LMTvIbF8qD8J4t81EN2uPw==",
           "dtype": "f8"
          },
          "color": "#00CC96",
          "thickness": 1.5,
          "type": "data",
          "visible": true,
          "width": 5
         },
         "hovertemplate": "%{text}<extra></extra>",
         "marker": {
          "color": "#00CC96",
          "line": {
           "color": "white",
           "width": 1
          },
          "opacity": 0.85,
          "size": 10
         },
         "mode": "markers",
         "text": [
          "Forecaster: ForecasterRecursiveMultiSeries<br>Regressor: DummyRegressor<br>Function: ForecasterRecursiveMultiSeries__create_train_X_y_series_is_df_long_no_exog<br>Function_hash: d097835b20174d3f50f8da85080fb7f4<br>Method: _create_train_X_y_series_is_df_long_no_exog<br>Datetime: 2025-08-26 07:00:06.141793<br>Python version: 3.12.11<br>skforecast version: 0.17.0<br>numpy version: 2.1.3<br>pandas version: 2.3.2<br>sklearn version: 1.6.1<br>lightgbm version: 4.6.0<br>Platform: Linux-6.11.0-1018-azure-x86_64-with-glibc2.39<br>Processor: x86_64<br>CPU count: 4<br>Memory (GB): 16.77<br>Run time avg: 1.085193 s<br>Run time median: 1.107672 s<br>Run time p95: 1.129978 s<br>Run time std: 0.040890 s<br>Nº repeats: 10",
          "Forecaster: ForecasterRecursiveMultiSeries<br>Regressor: DummyRegressor<br>Function: ForecasterRecursiveMultiSeries__create_train_X_y_series_is_df_long_no_exog<br>Function_hash: d097835b20174d3f50f8da85080fb7f4<br>Method: _create_train_X_y_series_is_df_long_no_exog<br>Datetime: 2025-08-26 07:12:56.057857<br>Python version: 3.12.11<br>skforecast version: 0.17.0<br>numpy version: 2.1.3<br>pandas version: 2.3.2<br>sklearn version: 1.6.1<br>lightgbm version: 4.6.0<br>Platform: Linux-6.11.0-1018-azure-x86_64-with-glibc2.39<br>Processor: x86_64<br>CPU count: 4<br>Memory (GB): 16.77<br>Run time avg: 1.136563 s<br>Run time median: 1.167005 s<br>Run time p95: 1.192428 s<br>Run time std: 0.054130 s<br>Nº repeats: 10",
          "Forecaster: ForecasterRecursiveMultiSeries<br>Regressor: DummyRegressor<br>Function: ForecasterRecursiveMultiSeries__create_train_X_y_series_is_df_long_no_exog<br>Function_hash: d097835b20174d3f50f8da85080fb7f4<br>Method: _create_train_X_y_series_is_df_long_no_exog<br>Datetime: 2025-08-26 07:31:27.040213<br>Python version: 3.12.11<br>skforecast version: 0.17.0<br>numpy version: 2.1.3<br>pandas version: 2.3.2<br>sklearn version: 1.6.1<br>lightgbm version: 4.6.0<br>Platform: Linux-6.11.0-1018-azure-x86_64-with-glibc2.39<br>Processor: x86_64<br>CPU count: 4<br>Memory (GB): 16.77<br>Run time avg: 1.099307 s<br>Run time median: 1.128720 s<br>Run time p95: 1.140251 s<br>Run time std: 0.043501 s<br>Nº repeats: 10",
          "Forecaster: ForecasterRecursiveMultiSeries<br>Regressor: DummyRegressor<br>Function: ForecasterRecursiveMultiSeries__create_train_X_y_series_is_df_long_no_exog<br>Function_hash: d097835b20174d3f50f8da85080fb7f4<br>Method: _create_train_X_y_series_is_df_long_no_exog<br>Datetime: 2025-08-26 07:44:06.366794<br>Python version: 3.12.11<br>skforecast version: 0.17.0<br>numpy version: 2.1.3<br>pandas version: 2.3.2<br>sklearn version: 1.6.1<br>lightgbm version: 4.6.0<br>Platform: Linux-6.11.0-1018-azure-x86_64-with-glibc2.39<br>Processor: x86_64<br>CPU count: 4<br>Memory (GB): 16.77<br>Run time avg: 1.116491 s<br>Run time median: 1.147527 s<br>Run time p95: 1.165464 s<br>Run time std: 0.047826 s<br>Nº repeats: 10",
          "Forecaster: ForecasterRecursiveMultiSeries<br>Regressor: DummyRegressor<br>Function: ForecasterRecursiveMultiSeries__create_train_X_y_series_is_df_long_no_exog<br>Function_hash: d097835b20174d3f50f8da85080fb7f4<br>Method: _create_train_X_y_series_is_df_long_no_exog<br>Datetime: 2025-08-26 08:10:09.176050<br>Python version: 3.12.11<br>skforecast version: 0.17.0<br>numpy version: 2.1.3<br>pandas version: 2.3.2<br>sklearn version: 1.6.1<br>lightgbm version: 4.6.0<br>Platform: Linux-6.11.0-1018-azure-x86_64-with-glibc2.39<br>Processor: x86_64<br>CPU count: 4<br>Memory (GB): 16.77<br>Run time avg: 1.125688 s<br>Run time median: 1.155145 s<br>Run time p95: 1.192366 s<br>Run time std: 0.060280 s<br>Nº repeats: 10"
         ],
         "type": "scatter",
         "visible": false,
         "x": {
          "bdata": "P9s+ccVd/z/8hdEmVqT/Pwx0cAuUAQBAWRBkUxA7AEAspNeE1kIAQA==",
          "dtype": "f8"
         },
         "y": {
          "bdata": "ZgnE2PJc8T+ai423XC/yP3MYQ27DlvE/gPBnLCXd8T8AsttI0QLyPw==",
          "dtype": "f8"
         }
        },
        {
         "error_y": {
          "array": {
           "bdata": "IdQ+9+9zmT8wATSDl3WkP3PJ1bwZX5w/yqLxS2FooT/Gx9VVli6jPw==",
           "dtype": "f8"
          },
          "color": "#00CC96",
          "thickness": 1.5,
          "type": "data",
          "visible": true,
          "width": 5
         },
         "hovertemplate": "%{text}<extra></extra>",
         "marker": {
          "color": "#00CC96",
          "line": {
           "color": "white",
           "width": 1
          },
          "opacity": 0.85,
          "size": 10
         },
         "mode": "markers",
         "text": [
          "Forecaster: ForecasterRecursiveMultiSeries<br>Regressor: DummyRegressor<br>Function: ForecasterRecursiveMultiSeries__create_train_X_y_series_is_df_long_exog_is_df_long<br>Function_hash: ab84dd154f04628b9f730c84329c51df<br>Method: _create_train_X_y_series_is_df_long_exog_is_df_long<br>Datetime: 2025-08-26 07:00:24.946244<br>Python version: 3.12.11<br>skforecast version: 0.17.0<br>numpy version: 2.1.3<br>pandas version: 2.3.2<br>sklearn version: 1.6.1<br>lightgbm version: 4.6.0<br>Platform: Linux-6.11.0-1018-azure-x86_64-with-glibc2.39<br>Processor: x86_64<br>CPU count: 4<br>Memory (GB): 16.77<br>Run time avg: 1.880017 s<br>Run time median: 1.886362 s<br>Run time p95: 1.896357 s<br>Run time std: 0.024856 s<br>Nº repeats: 10",
          "Forecaster: ForecasterRecursiveMultiSeries<br>Regressor: DummyRegressor<br>Function: ForecasterRecursiveMultiSeries__create_train_X_y_series_is_df_long_exog_is_df_long<br>Function_hash: ab84dd154f04628b9f730c84329c51df<br>Method: _create_train_X_y_series_is_df_long_exog_is_df_long<br>Datetime: 2025-08-26 07:13:15.454354<br>Python version: 3.12.11<br>skforecast version: 0.17.0<br>numpy version: 2.1.3<br>pandas version: 2.3.2<br>sklearn version: 1.6.1<br>lightgbm version: 4.6.0<br>Platform: Linux-6.11.0-1018-azure-x86_64-with-glibc2.39<br>Processor: x86_64<br>CPU count: 4<br>Memory (GB): 16.77<br>Run time avg: 1.939182 s<br>Run time median: 1.951982 s<br>Run time p95: 1.982681 s<br>Run time std: 0.039960 s<br>Nº repeats: 10",
          "Forecaster: ForecasterRecursiveMultiSeries<br>Regressor: DummyRegressor<br>Function: ForecasterRecursiveMultiSeries__create_train_X_y_series_is_df_long_exog_is_df_long<br>Function_hash: ab84dd154f04628b9f730c84329c51df<br>Method: _create_train_X_y_series_is_df_long_exog_is_df_long<br>Datetime: 2025-08-26 07:31:46.185298<br>Python version: 3.12.11<br>skforecast version: 0.17.0<br>numpy version: 2.1.3<br>pandas version: 2.3.2<br>sklearn version: 1.6.1<br>lightgbm version: 4.6.0<br>Platform: Linux-6.11.0-1018-azure-x86_64-with-glibc2.39<br>Processor: x86_64<br>CPU count: 4<br>Memory (GB): 16.77<br>Run time avg: 1.914035 s<br>Run time median: 1.919346 s<br>Run time p95: 1.936008 s<br>Run time std: 0.027707 s<br>Nº repeats: 10",
          "Forecaster: ForecasterRecursiveMultiSeries<br>Regressor: DummyRegressor<br>Function: ForecasterRecursiveMultiSeries__create_train_X_y_series_is_df_long_exog_is_df_long<br>Function_hash: ab84dd154f04628b9f730c84329c51df<br>Method: _create_train_X_y_series_is_df_long_exog_is_df_long<br>Datetime: 2025-08-26 07:44:25.826793<br>Python version: 3.12.11<br>skforecast version: 0.17.0<br>numpy version: 2.1.3<br>pandas version: 2.3.2<br>sklearn version: 1.6.1<br>lightgbm version: 4.6.0<br>Platform: Linux-6.11.0-1018-azure-x86_64-with-glibc2.39<br>Processor: x86_64<br>CPU count: 4<br>Memory (GB): 16.77<br>Run time avg: 1.945497 s<br>Run time median: 1.951563 s<br>Run time p95: 1.976545 s<br>Run time std: 0.033999 s<br>Nº repeats: 10",
          "Forecaster: ForecasterRecursiveMultiSeries<br>Regressor: DummyRegressor<br>Function: ForecasterRecursiveMultiSeries__create_train_X_y_series_is_df_long_exog_is_df_long<br>Function_hash: ab84dd154f04628b9f730c84329c51df<br>Method: _create_train_X_y_series_is_df_long_exog_is_df_long<br>Datetime: 2025-08-26 08:10:28.582385<br>Python version: 3.12.11<br>skforecast version: 0.17.0<br>numpy version: 2.1.3<br>pandas version: 2.3.2<br>sklearn version: 1.6.1<br>lightgbm version: 4.6.0<br>Platform: Linux-6.11.0-1018-azure-x86_64-with-glibc2.39<br>Processor: x86_64<br>CPU count: 4<br>Memory (GB): 16.77<br>Run time avg: 1.940105 s<br>Run time median: 1.952116 s<br>Run time p95: 1.965234 s<br>Run time std: 0.037465 s<br>Nº repeats: 10"
         ],
         "type": "scatter",
         "visible": false,
         "x": {
          "bdata": "hw8n7cEMAEAwkjZlfD7/P0pgQgLRXQBAQg2VhDBG/z9o8+DuQzv/Pw==",
          "dtype": "f8"
         },
         "y": {
          "bdata": "M65e6owU/j8aPJ614wb/P40ZNKLjn/4/WqLU2MEg/z+aMq4Yqwr/Pw==",
          "dtype": "f8"
         }
        },
        {
         "error_y": {
          "array": {
           "bdata": "TZ5Eb/reoj8EuewQzOqmP+HhaZeZGKQ/9XDx6OTTpT9jWnOzP9qnPw==",
           "dtype": "f8"
          },
          "color": "#00CC96",
          "thickness": 1.5,
          "type": "data",
          "visible": true,
          "width": 5
         },
         "hovertemplate": "%{text}<extra></extra>",
         "marker": {
          "color": "#00CC96",
          "line": {
           "color": "white",
           "width": 1
          },
          "opacity": 0.85,
          "size": 10
         },
         "mode": "markers",
         "text": [
          "Forecaster: ForecasterRecursiveMultiSeries<br>Regressor: DummyRegressor<br>Function: ForecasterRecursiveMultiSeries__create_train_X_y_series_is_df_long_exog_is_df_wide<br>Function_hash: df5c78b2387302f0197bee35d7a75cd1<br>Method: _create_train_X_y_series_is_df_long_exog_is_df_wide<br>Datetime: 2025-08-26 07:00:38.317756<br>Python version: 3.12.11<br>skforecast version: 0.17.0<br>numpy version: 2.1.3<br>pandas version: 2.3.2<br>sklearn version: 1.6.1<br>lightgbm version: 4.6.0<br>Platform: Linux-6.11.0-1018-azure-x86_64-with-glibc2.39<br>Processor: x86_64<br>CPU count: 4<br>Memory (GB): 16.77<br>Run time avg: 1.336722 s<br>Run time median: 1.350804 s<br>Run time p95: 1.367878 s<br>Run time std: 0.036857 s<br>Nº repeats: 10",
          "Forecaster: ForecasterRecursiveMultiSeries<br>Regressor: DummyRegressor<br>Function: ForecasterRecursiveMultiSeries__create_train_X_y_series_is_df_long_exog_is_df_wide<br>Function_hash: df5c78b2387302f0197bee35d7a75cd1<br>Method: _create_train_X_y_series_is_df_long_exog_is_df_wide<br>Datetime: 2025-08-26 07:13:29.361486<br>Python version: 3.12.11<br>skforecast version: 0.17.0<br>numpy version: 2.1.3<br>pandas version: 2.3.2<br>sklearn version: 1.6.1<br>lightgbm version: 4.6.0<br>Platform: Linux-6.11.0-1018-azure-x86_64-with-glibc2.39<br>Processor: x86_64<br>CPU count: 4<br>Memory (GB): 16.77<br>Run time avg: 1.390252 s<br>Run time median: 1.396927 s<br>Run time p95: 1.447633 s<br>Run time std: 0.044760 s<br>Nº repeats: 10",
          "Forecaster: ForecasterRecursiveMultiSeries<br>Regressor: DummyRegressor<br>Function: ForecasterRecursiveMultiSeries__create_train_X_y_series_is_df_long_exog_is_df_wide<br>Function_hash: df5c78b2387302f0197bee35d7a75cd1<br>Method: _create_train_X_y_series_is_df_long_exog_is_df_wide<br>Datetime: 2025-08-26 07:31:59.907702<br>Python version: 3.12.11<br>skforecast version: 0.17.0<br>numpy version: 2.1.3<br>pandas version: 2.3.2<br>sklearn version: 1.6.1<br>lightgbm version: 4.6.0<br>Platform: Linux-6.11.0-1018-azure-x86_64-with-glibc2.39<br>Processor: x86_64<br>CPU count: 4<br>Memory (GB): 16.77<br>Run time avg: 1.371770 s<br>Run time median: 1.388683 s<br>Run time p95: 1.403220 s<br>Run time std: 0.039250 s<br>Nº repeats: 10",
          "Forecaster: ForecasterRecursiveMultiSeries<br>Regressor: DummyRegressor<br>Function: ForecasterRecursiveMultiSeries__create_train_X_y_series_is_df_long_exog_is_df_wide<br>Function_hash: df5c78b2387302f0197bee35d7a75cd1<br>Method: _create_train_X_y_series_is_df_long_exog_is_df_wide<br>Datetime: 2025-08-26 07:44:39.630532<br>Python version: 3.12.11<br>skforecast version: 0.17.0<br>numpy version: 2.1.3<br>pandas version: 2.3.2<br>sklearn version: 1.6.1<br>lightgbm version: 4.6.0<br>Platform: Linux-6.11.0-1018-azure-x86_64-with-glibc2.39<br>Processor: x86_64<br>CPU count: 4<br>Memory (GB): 16.77<br>Run time avg: 1.379877 s<br>Run time median: 1.394014 s<br>Run time p95: 1.412577 s<br>Run time std: 0.042632 s<br>Nº repeats: 10",
          "Forecaster: ForecasterRecursiveMultiSeries<br>Regressor: DummyRegressor<br>Function: ForecasterRecursiveMultiSeries__create_train_X_y_series_is_df_long_exog_is_df_wide<br>Function_hash: df5c78b2387302f0197bee35d7a75cd1<br>Method: _create_train_X_y_series_is_df_long_exog_is_df_wide<br>Datetime: 2025-08-26 08:10:42.505088<br>Python version: 3.12.11<br>skforecast version: 0.17.0<br>numpy version: 2.1.3<br>pandas version: 2.3.2<br>sklearn version: 1.6.1<br>lightgbm version: 4.6.0<br>Platform: Linux-6.11.0-1018-azure-x86_64-with-glibc2.39<br>Processor: x86_64<br>CPU count: 4<br>Memory (GB): 16.77<br>Run time avg: 1.391733 s<br>Run time median: 1.413731 s<br>Run time p95: 1.429273 s<br>Run time std: 0.046587 s<br>Nº repeats: 10"
         ],
         "type": "scatter",
         "visible": false,
         "x": {
          "bdata": "J0Z7fQ5C/z8vtEBHC6L/P2/yuJGVv/8/ePAN5y34/z/l3cPnXs3/Pw==",
          "dtype": "f8"
         },
         "y": {
          "bdata": "mkBREjdj9T/mMTAWeT72P+YvywrF8vU/WgAhNvoT9j+aF+lciUT2Pw==",
          "dtype": "f8"
         }
        },
        {
         "error_y": {
          "array": {
           "bdata": "gmDUgCuOID8PXNrUBNcfP3HCyOyhYx8/t+fK/LMRHj8=",
           "dtype": "f8"
          },
          "color": "#636EFA",
          "thickness": 1.5,
          "type": "data",
          "visible": true,
          "width": 5
         },
         "hovertemplate": "%{text}<extra></extra>",
         "marker": {
          "color": "#636EFA",
          "line": {
           "color": "white",
           "width": 1
          },
          "opacity": 0.85,
          "size": 10
         },
         "mode": "markers",
         "text": [
          "Forecaster: ForecasterRecursiveMultiSeries<br>Regressor: DummyRegressor<br>Function: ForecasterRecursiveMultiSeries__create_train_X_y_single_series<br>Function_hash: 3bf6c304af7db116a03c86a88d30ca70<br>Method: _create_train_X_y_single_series<br>Datetime: 2025-08-26 09:17:25.901463<br>Python version: 3.12.11<br>skforecast version: 0.15.1<br>numpy version: 2.1.3<br>pandas version: 2.3.2<br>sklearn version: 1.6.1<br>lightgbm version: 4.6.0<br>Platform: Linux-6.11.0-1018-azure-x86_64-with-glibc2.39<br>Processor: x86_64<br>CPU count: 4<br>Memory (GB): 16.77<br>Run time avg: 0.002068 s<br>Run time median: 0.002017 s<br>Run time p95: 0.002314 s<br>Run time std: 0.000126 s<br>Nº repeats: 10",
          "Forecaster: ForecasterRecursiveMultiSeries<br>Regressor: DummyRegressor<br>Function: ForecasterRecursiveMultiSeries__create_train_X_y_single_series<br>Function_hash: 3bf6c304af7db116a03c86a88d30ca70<br>Method: _create_train_X_y_single_series<br>Datetime: 2025-08-26 09:33:26.422572<br>Python version: 3.12.11<br>skforecast version: 0.15.1<br>numpy version: 2.1.3<br>pandas version: 2.3.2<br>sklearn version: 1.6.1<br>lightgbm version: 4.6.0<br>Platform: Linux-6.11.0-1018-azure-x86_64-with-glibc2.39<br>Processor: x86_64<br>CPU count: 4<br>Memory (GB): 16.77<br>Run time avg: 0.002078 s<br>Run time median: 0.002042 s<br>Run time p95: 0.002279 s<br>Run time std: 0.000121 s<br>Nº repeats: 10",
          "Forecaster: ForecasterRecursiveMultiSeries<br>Regressor: DummyRegressor<br>Function: ForecasterRecursiveMultiSeries__create_train_X_y_single_series<br>Function_hash: 3bf6c304af7db116a03c86a88d30ca70<br>Method: _create_train_X_y_single_series<br>Datetime: 2025-08-26 09:46:17.370395<br>Python version: 3.12.11<br>skforecast version: 0.15.1<br>numpy version: 2.1.3<br>pandas version: 2.3.2<br>sklearn version: 1.6.1<br>lightgbm version: 4.6.0<br>Platform: Linux-6.11.0-1018-azure-x86_64-with-glibc2.39<br>Processor: x86_64<br>CPU count: 4<br>Memory (GB): 16.77<br>Run time avg: 0.002098 s<br>Run time median: 0.002053 s<br>Run time p95: 0.002298 s<br>Run time std: 0.000120 s<br>Nº repeats: 10",
          "Forecaster: ForecasterRecursiveMultiSeries<br>Regressor: DummyRegressor<br>Function: ForecasterRecursiveMultiSeries__create_train_X_y_single_series<br>Function_hash: 3bf6c304af7db116a03c86a88d30ca70<br>Method: _create_train_X_y_single_series<br>Datetime: 2025-08-26 10:09:52.215458<br>Python version: 3.12.11<br>skforecast version: 0.15.1<br>numpy version: 2.1.3<br>pandas version: 2.3.2<br>sklearn version: 1.6.1<br>lightgbm version: 4.6.0<br>Platform: Linux-6.11.0-1018-azure-x86_64-with-glibc2.39<br>Processor: x86_64<br>CPU count: 4<br>Memory (GB): 16.77<br>Run time avg: 0.002075 s<br>Run time median: 0.002044 s<br>Run time p95: 0.002253 s<br>Run time std: 0.000115 s<br>Nº repeats: 10"
         ],
         "type": "scatter",
         "visible": false,
         "x": {
          "bdata": "vBdLKPKVlz+wA8M5zqx5v6JKTUEGdaG/hCOOESjEn78=",
          "dtype": "f8"
         },
         "y": {
          "bdata": "zcyuPTvxYD/NzKUQ1QZhP2ZmKWafMGE/ZmakVocAYT8=",
          "dtype": "f8"
         }
        },
        {
         "error_y": {
          "array": {
           "bdata": "FxGadh6aGj+H9ot2O8wTPzlO/PnY/hQ/Ng1RE/sKGj8=",
           "dtype": "f8"
          },
          "color": "#EF553B",
          "thickness": 1.5,
          "type": "data",
          "visible": true,
          "width": 5
         },
         "hovertemplate": "%{text}<extra></extra>",
         "marker": {
          "color": "#EF553B",
          "line": {
           "color": "white",
           "width": 1
          },
          "opacity": 0.85,
          "size": 10
         },
         "mode": "markers",
         "text": [
          "Forecaster: ForecasterRecursiveMultiSeries<br>Regressor: DummyRegressor<br>Function: ForecasterRecursiveMultiSeries__create_train_X_y_single_series<br>Function_hash: 3bf6c304af7db116a03c86a88d30ca70<br>Method: _create_train_X_y_single_series<br>Datetime: 2025-08-26 08:30:37.823346<br>Python version: 3.12.11<br>skforecast version: 0.16.0<br>numpy version: 2.1.3<br>pandas version: 2.3.2<br>sklearn version: 1.6.1<br>lightgbm version: 4.6.0<br>Platform: Linux-6.11.0-1018-azure-x86_64-with-glibc2.39<br>Processor: x86_64<br>CPU count: 4<br>Memory (GB): 16.77<br>Run time avg: 0.000938 s<br>Run time median: 0.000897 s<br>Run time p95: 0.001118 s<br>Run time std: 0.000101 s<br>Nº repeats: 10",
          "Forecaster: ForecasterRecursiveMultiSeries<br>Regressor: DummyRegressor<br>Function: ForecasterRecursiveMultiSeries__create_train_X_y_single_series<br>Function_hash: 3bf6c304af7db116a03c86a88d30ca70<br>Method: _create_train_X_y_single_series<br>Datetime: 2025-08-26 08:40:31.645970<br>Python version: 3.12.11<br>skforecast version: 0.16.0<br>numpy version: 2.1.3<br>pandas version: 2.3.2<br>sklearn version: 1.6.1<br>lightgbm version: 4.6.0<br>Platform: Linux-6.11.0-1018-azure-x86_64-with-glibc2.39<br>Processor: x86_64<br>CPU count: 4<br>Memory (GB): 16.77<br>Run time avg: 0.000914 s<br>Run time median: 0.000884 s<br>Run time p95: 0.001047 s<br>Run time std: 0.000076 s<br>Nº repeats: 10",
          "Forecaster: ForecasterRecursiveMultiSeries<br>Regressor: DummyRegressor<br>Function: ForecasterRecursiveMultiSeries__create_train_X_y_single_series<br>Function_hash: 3bf6c304af7db116a03c86a88d30ca70<br>Method: _create_train_X_y_single_series<br>Datetime: 2025-08-26 08:54:47.622738<br>Python version: 3.12.11<br>skforecast version: 0.16.0<br>numpy version: 2.1.3<br>pandas version: 2.3.2<br>sklearn version: 1.6.1<br>lightgbm version: 4.6.0<br>Platform: Linux-6.11.0-1018-azure-x86_64-with-glibc2.39<br>Processor: x86_64<br>CPU count: 4<br>Memory (GB): 16.77<br>Run time avg: 0.000931 s<br>Run time median: 0.000904 s<br>Run time p95: 0.001069 s<br>Run time std: 0.000080 s<br>Nº repeats: 10",
          "Forecaster: ForecasterRecursiveMultiSeries<br>Regressor: DummyRegressor<br>Function: ForecasterRecursiveMultiSeries__create_train_X_y_single_series<br>Function_hash: 3bf6c304af7db116a03c86a88d30ca70<br>Method: _create_train_X_y_single_series<br>Datetime: 2025-08-26 09:05:10.563388<br>Python version: 3.12.11<br>skforecast version: 0.16.0<br>numpy version: 2.1.3<br>pandas version: 2.3.2<br>sklearn version: 1.6.1<br>lightgbm version: 4.6.0<br>Platform: Linux-6.11.0-1018-azure-x86_64-with-glibc2.39<br>Processor: x86_64<br>CPU count: 4<br>Memory (GB): 16.77<br>Run time avg: 0.000963 s<br>Run time median: 0.000940 s<br>Run time p95: 0.001129 s<br>Run time std: 0.000099 s<br>Nº repeats: 10"
         ],
         "type": "scatter",
         "visible": false,
         "x": {
          "bdata": "yfv4tmUs8D9X6AmJCBjwP9PQoBOyr+8/xjsY6ecf7z8=",
          "dtype": "f8"
         },
         "y": {
          "bdata": "MzOPpH7ATj+amQXdX/dNPwAAIB3agE4/zcx9CcSLTz8=",
          "dtype": "f8"
         }
        },
        {
         "error_y": {
          "array": {
           "bdata": "rfTzmqkjEj9Y9zWAn/4YP7G4ao009BU/nyiJfhFoGT/JzCeSH6YfPw==",
           "dtype": "f8"
          },
          "color": "#00CC96",
          "thickness": 1.5,
          "type": "data",
          "visible": true,
          "width": 5
         },
         "hovertemplate": "%{text}<extra></extra>",
         "marker": {
          "color": "#00CC96",
          "line": {
           "color": "white",
           "width": 1
          },
          "opacity": 0.85,
          "size": 10
         },
         "mode": "markers",
         "text": [
          "Forecaster: ForecasterRecursiveMultiSeries<br>Regressor: DummyRegressor<br>Function: ForecasterRecursiveMultiSeries__create_train_X_y_single_series<br>Function_hash: 3bf6c304af7db116a03c86a88d30ca70<br>Method: _create_train_X_y_single_series<br>Datetime: 2025-08-26 07:00:38.330862<br>Python version: 3.12.11<br>skforecast version: 0.17.0<br>numpy version: 2.1.3<br>pandas version: 2.3.2<br>sklearn version: 1.6.1<br>lightgbm version: 4.6.0<br>Platform: Linux-6.11.0-1018-azure-x86_64-with-glibc2.39<br>Processor: x86_64<br>CPU count: 4<br>Memory (GB): 16.77<br>Run time avg: 0.000913 s<br>Run time median: 0.000896 s<br>Run time p95: 0.001026 s<br>Run time std: 0.000069 s<br>Nº repeats: 10",
          "Forecaster: ForecasterRecursiveMultiSeries<br>Regressor: DummyRegressor<br>Function: ForecasterRecursiveMultiSeries__create_train_X_y_single_series<br>Function_hash: 3bf6c304af7db116a03c86a88d30ca70<br>Method: _create_train_X_y_single_series<br>Datetime: 2025-08-26 07:13:29.375259<br>Python version: 3.12.11<br>skforecast version: 0.17.0<br>numpy version: 2.1.3<br>pandas version: 2.3.2<br>sklearn version: 1.6.1<br>lightgbm version: 4.6.0<br>Platform: Linux-6.11.0-1018-azure-x86_64-with-glibc2.39<br>Processor: x86_64<br>CPU count: 4<br>Memory (GB): 16.77<br>Run time avg: 0.000938 s<br>Run time median: 0.000918 s<br>Run time p95: 0.001088 s<br>Run time std: 0.000095 s<br>Nº repeats: 10",
          "Forecaster: ForecasterRecursiveMultiSeries<br>Regressor: DummyRegressor<br>Function: ForecasterRecursiveMultiSeries__create_train_X_y_single_series<br>Function_hash: 3bf6c304af7db116a03c86a88d30ca70<br>Method: _create_train_X_y_single_series<br>Datetime: 2025-08-26 07:31:59.921570<br>Python version: 3.12.11<br>skforecast version: 0.17.0<br>numpy version: 2.1.3<br>pandas version: 2.3.2<br>sklearn version: 1.6.1<br>lightgbm version: 4.6.0<br>Platform: Linux-6.11.0-1018-azure-x86_64-with-glibc2.39<br>Processor: x86_64<br>CPU count: 4<br>Memory (GB): 16.77<br>Run time avg: 0.000936 s<br>Run time median: 0.000901 s<br>Run time p95: 0.001079 s<br>Run time std: 0.000084 s<br>Nº repeats: 10",
          "Forecaster: ForecasterRecursiveMultiSeries<br>Regressor: DummyRegressor<br>Function: ForecasterRecursiveMultiSeries__create_train_X_y_single_series<br>Function_hash: 3bf6c304af7db116a03c86a88d30ca70<br>Method: _create_train_X_y_single_series<br>Datetime: 2025-08-26 07:44:39.644577<br>Python version: 3.12.11<br>skforecast version: 0.17.0<br>numpy version: 2.1.3<br>pandas version: 2.3.2<br>sklearn version: 1.6.1<br>lightgbm version: 4.6.0<br>Platform: Linux-6.11.0-1018-azure-x86_64-with-glibc2.39<br>Processor: x86_64<br>CPU count: 4<br>Memory (GB): 16.77<br>Run time avg: 0.000934 s<br>Run time median: 0.000896 s<br>Run time p95: 0.001098 s<br>Run time std: 0.000097 s<br>Nº repeats: 10",
          "Forecaster: ForecasterRecursiveMultiSeries<br>Regressor: DummyRegressor<br>Function: ForecasterRecursiveMultiSeries__create_train_X_y_single_series<br>Function_hash: 3bf6c304af7db116a03c86a88d30ca70<br>Method: _create_train_X_y_single_series<br>Datetime: 2025-08-26 08:10:42.519740<br>Python version: 3.12.11<br>skforecast version: 0.17.0<br>numpy version: 2.1.3<br>pandas version: 2.3.2<br>sklearn version: 1.6.1<br>lightgbm version: 4.6.0<br>Platform: Linux-6.11.0-1018-azure-x86_64-with-glibc2.39<br>Processor: x86_64<br>CPU count: 4<br>Memory (GB): 16.77<br>Run time avg: 0.000955 s<br>Run time median: 0.000907 s<br>Run time p95: 0.001172 s<br>Run time std: 0.000121 s<br>Nº repeats: 10"
         ],
         "type": "scatter",
         "visible": false,
         "x": {
          "bdata": "aFpUxzfH/z/smhnJtT4AQFpv8MDfk/8/ugUrSX0/AEAr2/SVfp7/Pw==",
          "dtype": "f8"
         },
         "y": {
          "bdata": "MzMzknLrTT/NzNjvKbpOP5qZBRWDrk4/zcwkk4SZTj8AABAX4ktPPw==",
          "dtype": "f8"
         }
        },
        {
         "error_y": {
          "array": {
           "bdata": "FQrJFxVeqD8paOEvDU6vP7VZpsUmlKc/WbpeLjBFpT8=",
           "dtype": "f8"
          },
          "color": "#636EFA",
          "thickness": 1.5,
          "type": "data",
          "visible": true,
          "width": 5
         },
         "hovertemplate": "%{text}<extra></extra>",
         "marker": {
          "color": "#636EFA",
          "line": {
           "color": "white",
           "width": 1
          },
          "opacity": 0.85,
          "size": 10
         },
         "mode": "markers",
         "text": [
          "Forecaster: ForecasterRecursiveMultiSeries<br>Regressor: DummyRegressor<br>Function: ForecasterRecursiveMultiSeries_fit_series_is_dict_no_exog<br>Function_hash: 1bf35d7af3e076bed0b1e6bd4b5fcb8a<br>Method: fit_series_is_dict_no_exog<br>Datetime: 2025-08-26 09:17:40.719349<br>Python version: 3.12.11<br>skforecast version: 0.15.1<br>numpy version: 2.1.3<br>pandas version: 2.3.2<br>sklearn version: 1.6.1<br>lightgbm version: 4.6.0<br>Platform: Linux-6.11.0-1018-azure-x86_64-with-glibc2.39<br>Processor: x86_64<br>CPU count: 4<br>Memory (GB): 16.77<br>Run time avg: 2.962357 s<br>Run time median: 2.992064 s<br>Run time p95: 3.008658 s<br>Run time std: 0.047593 s<br>Nº repeats: 5",
          "Forecaster: ForecasterRecursiveMultiSeries<br>Regressor: DummyRegressor<br>Function: ForecasterRecursiveMultiSeries_fit_series_is_dict_no_exog<br>Function_hash: 1bf35d7af3e076bed0b1e6bd4b5fcb8a<br>Method: fit_series_is_dict_no_exog<br>Datetime: 2025-08-26 09:33:41.617964<br>Python version: 3.12.11<br>skforecast version: 0.15.1<br>numpy version: 2.1.3<br>pandas version: 2.3.2<br>sklearn version: 1.6.1<br>lightgbm version: 4.6.0<br>Platform: Linux-6.11.0-1018-azure-x86_64-with-glibc2.39<br>Processor: x86_64<br>CPU count: 4<br>Memory (GB): 16.77<br>Run time avg: 3.037833 s<br>Run time median: 3.048690 s<br>Run time p95: 3.104033 s<br>Run time std: 0.061142 s<br>Nº repeats: 5",
          "Forecaster: ForecasterRecursiveMultiSeries<br>Regressor: DummyRegressor<br>Function: ForecasterRecursiveMultiSeries_fit_series_is_dict_no_exog<br>Function_hash: 1bf35d7af3e076bed0b1e6bd4b5fcb8a<br>Method: fit_series_is_dict_no_exog<br>Datetime: 2025-08-26 09:46:32.371836<br>Python version: 3.12.11<br>skforecast version: 0.15.1<br>numpy version: 2.1.3<br>pandas version: 2.3.2<br>sklearn version: 1.6.1<br>lightgbm version: 4.6.0<br>Platform: Linux-6.11.0-1018-azure-x86_64-with-glibc2.39<br>Processor: x86_64<br>CPU count: 4<br>Memory (GB): 16.77<br>Run time avg: 2.999029 s<br>Run time median: 3.015012 s<br>Run time p95: 3.052353 s<br>Run time std: 0.046052 s<br>Nº repeats: 5",
          "Forecaster: ForecasterRecursiveMultiSeries<br>Regressor: DummyRegressor<br>Function: ForecasterRecursiveMultiSeries_fit_series_is_dict_no_exog<br>Function_hash: 1bf35d7af3e076bed0b1e6bd4b5fcb8a<br>Method: fit_series_is_dict_no_exog<br>Datetime: 2025-08-26 10:10:07.186089<br>Python version: 3.12.11<br>skforecast version: 0.15.1<br>numpy version: 2.1.3<br>pandas version: 2.3.2<br>sklearn version: 1.6.1<br>lightgbm version: 4.6.0<br>Platform: Linux-6.11.0-1018-azure-x86_64-with-glibc2.39<br>Processor: x86_64<br>CPU count: 4<br>Memory (GB): 16.77<br>Run time avg: 2.992911 s<br>Run time median: 3.000175 s<br>Run time p95: 3.046443 s<br>Run time std: 0.041543 s<br>Nº repeats: 5"
         ],
         "type": "scatter",
         "visible": false,
         "x": {
          "bdata": "HdO2nDBdm79sICW4jvGiPyeLpIxSEZS/8Pw83qHnlb8=",
          "dtype": "f8"
         },
         "y": {
          "bdata": "5hfOd+iyB0CzEtgze00IQICqHfAC/gdAM8Iqf3vxB0A=",
          "dtype": "f8"
         }
        },
        {
         "error_y": {
          "array": {
           "bdata": "E7TTBeIRqj8PaIflrkakP/crberbYaQ/5vOWIAPlpz8=",
           "dtype": "f8"
          },
          "color": "#EF553B",
          "thickness": 1.5,
          "type": "data",
          "visible": true,
          "width": 5
         },
         "hovertemplate": "%{text}<extra></extra>",
         "marker": {
          "color": "#EF553B",
          "line": {
           "color": "white",
           "width": 1
          },
          "opacity": 0.85,
          "size": 10
         },
         "mode": "markers",
         "text": [
          "Forecaster: ForecasterRecursiveMultiSeries<br>Regressor: DummyRegressor<br>Function: ForecasterRecursiveMultiSeries_fit_series_is_dict_no_exog<br>Function_hash: 1bf35d7af3e076bed0b1e6bd4b5fcb8a<br>Method: fit_series_is_dict_no_exog<br>Datetime: 2025-08-26 08:30:45.710706<br>Python version: 3.12.11<br>skforecast version: 0.16.0<br>numpy version: 2.1.3<br>pandas version: 2.3.2<br>sklearn version: 1.6.1<br>lightgbm version: 4.6.0<br>Platform: Linux-6.11.0-1018-azure-x86_64-with-glibc2.39<br>Processor: x86_64<br>CPU count: 4<br>Memory (GB): 16.77<br>Run time avg: 1.576423 s<br>Run time median: 1.616219 s<br>Run time p95: 1.618986 s<br>Run time std: 0.050918 s<br>Nº repeats: 5",
          "Forecaster: ForecasterRecursiveMultiSeries<br>Regressor: DummyRegressor<br>Function: ForecasterRecursiveMultiSeries_fit_series_is_dict_no_exog<br>Function_hash: 1bf35d7af3e076bed0b1e6bd4b5fcb8a<br>Method: fit_series_is_dict_no_exog<br>Datetime: 2025-08-26 08:40:39.359927<br>Python version: 3.12.11<br>skforecast version: 0.16.0<br>numpy version: 2.1.3<br>pandas version: 2.3.2<br>sklearn version: 1.6.1<br>lightgbm version: 4.6.0<br>Platform: Linux-6.11.0-1018-azure-x86_64-with-glibc2.39<br>Processor: x86_64<br>CPU count: 4<br>Memory (GB): 16.77<br>Run time avg: 1.541736 s<br>Run time median: 1.552845 s<br>Run time p95: 1.584556 s<br>Run time std: 0.039602 s<br>Nº repeats: 5",
          "Forecaster: ForecasterRecursiveMultiSeries<br>Regressor: DummyRegressor<br>Function: ForecasterRecursiveMultiSeries_fit_series_is_dict_no_exog<br>Function_hash: 1bf35d7af3e076bed0b1e6bd4b5fcb8a<br>Method: fit_series_is_dict_no_exog<br>Datetime: 2025-08-26 08:54:55.404864<br>Python version: 3.12.11<br>skforecast version: 0.16.0<br>numpy version: 2.1.3<br>pandas version: 2.3.2<br>sklearn version: 1.6.1<br>lightgbm version: 4.6.0<br>Platform: Linux-6.11.0-1018-azure-x86_64-with-glibc2.39<br>Processor: x86_64<br>CPU count: 4<br>Memory (GB): 16.77<br>Run time avg: 1.555391 s<br>Run time median: 1.587126 s<br>Run time p95: 1.588318 s<br>Run time std: 0.039809 s<br>Nº repeats: 5",
          "Forecaster: ForecasterRecursiveMultiSeries<br>Regressor: DummyRegressor<br>Function: ForecasterRecursiveMultiSeries_fit_series_is_dict_no_exog<br>Function_hash: 1bf35d7af3e076bed0b1e6bd4b5fcb8a<br>Method: fit_series_is_dict_no_exog<br>Datetime: 2025-08-26 09:05:18.549123<br>Python version: 3.12.11<br>skforecast version: 0.16.0<br>numpy version: 2.1.3<br>pandas version: 2.3.2<br>sklearn version: 1.6.1<br>lightgbm version: 4.6.0<br>Platform: Linux-6.11.0-1018-azure-x86_64-with-glibc2.39<br>Processor: x86_64<br>CPU count: 4<br>Memory (GB): 16.77<br>Run time avg: 1.595971 s<br>Run time median: 1.627332 s<br>Run time p95: 1.639453 s<br>Run time std: 0.046669 s<br>Nº repeats: 5"
         ],
         "type": "scatter",
         "visible": false,
         "x": {
          "bdata": "/i0xbrNf8D8YJXW6YDPvP4cjbS7to+8/WZxh/FfA8D8=",
          "dtype": "f8"
         },
         "y": {
          "bdata": "Zp+Snwc5+T+zBbE086r4P2amuizh4vg/gILPoRiJ+T8=",
          "dtype": "f8"
         }
        },
        {
         "error_y": {
          "array": {
           "bdata": "fmfoS2ospD/FfaaZLxqsPzzijSdAd6c/PJbSl3QBqD+jvmC78+6rPw==",
           "dtype": "f8"
          },
          "color": "#00CC96",
          "thickness": 1.5,
          "type": "data",
          "visible": true,
          "width": 5
         },
         "hovertemplate": "%{text}<extra></extra>",
         "marker": {
          "color": "#00CC96",
          "line": {
           "color": "white",
           "width": 1
          },
          "opacity": 0.85,
          "size": 10
         },
         "mode": "markers",
         "text": [
          "Forecaster: ForecasterRecursiveMultiSeries<br>Regressor: DummyRegressor<br>Function: ForecasterRecursiveMultiSeries_fit_series_is_dict_no_exog<br>Function_hash: 1bf35d7af3e076bed0b1e6bd4b5fcb8a<br>Method: fit_series_is_dict_no_exog<br>Datetime: 2025-08-26 07:00:45.990541<br>Python version: 3.12.11<br>skforecast version: 0.17.0<br>numpy version: 2.1.3<br>pandas version: 2.3.2<br>sklearn version: 1.6.1<br>lightgbm version: 4.6.0<br>Platform: Linux-6.11.0-1018-azure-x86_64-with-glibc2.39<br>Processor: x86_64<br>CPU count: 4<br>Memory (GB): 16.77<br>Run time avg: 1.531072 s<br>Run time median: 1.550869 s<br>Run time p95: 1.570511 s<br>Run time std: 0.039401 s<br>Nº repeats: 5",
          "Forecaster: ForecasterRecursiveMultiSeries<br>Regressor: DummyRegressor<br>Function: ForecasterRecursiveMultiSeries_fit_series_is_dict_no_exog<br>Function_hash: 1bf35d7af3e076bed0b1e6bd4b5fcb8a<br>Method: fit_series_is_dict_no_exog<br>Datetime: 2025-08-26 07:13:37.358403<br>Python version: 3.12.11<br>skforecast version: 0.17.0<br>numpy version: 2.1.3<br>pandas version: 2.3.2<br>sklearn version: 1.6.1<br>lightgbm version: 4.6.0<br>Platform: Linux-6.11.0-1018-azure-x86_64-with-glibc2.39<br>Processor: x86_64<br>CPU count: 4<br>Memory (GB): 16.77<br>Run time avg: 1.595675 s<br>Run time median: 1.627876 s<br>Run time p95: 1.648532 s<br>Run time std: 0.054887 s<br>Nº repeats: 5",
          "Forecaster: ForecasterRecursiveMultiSeries<br>Regressor: DummyRegressor<br>Function: ForecasterRecursiveMultiSeries_fit_series_is_dict_no_exog<br>Function_hash: 1bf35d7af3e076bed0b1e6bd4b5fcb8a<br>Method: fit_series_is_dict_no_exog<br>Datetime: 2025-08-26 07:32:07.720850<br>Python version: 3.12.11<br>skforecast version: 0.17.0<br>numpy version: 2.1.3<br>pandas version: 2.3.2<br>sklearn version: 1.6.1<br>lightgbm version: 4.6.0<br>Platform: Linux-6.11.0-1018-azure-x86_64-with-glibc2.39<br>Processor: x86_64<br>CPU count: 4<br>Memory (GB): 16.77<br>Run time avg: 1.558897 s<br>Run time median: 1.592679 s<br>Run time p95: 1.599005 s<br>Run time std: 0.045832 s<br>Nº repeats: 5",
          "Forecaster: ForecasterRecursiveMultiSeries<br>Regressor: DummyRegressor<br>Function: ForecasterRecursiveMultiSeries_fit_series_is_dict_no_exog<br>Function_hash: 1bf35d7af3e076bed0b1e6bd4b5fcb8a<br>Method: fit_series_is_dict_no_exog<br>Datetime: 2025-08-26 07:44:47.494143<br>Python version: 3.12.11<br>skforecast version: 0.17.0<br>numpy version: 2.1.3<br>pandas version: 2.3.2<br>sklearn version: 1.6.1<br>lightgbm version: 4.6.0<br>Platform: Linux-6.11.0-1018-azure-x86_64-with-glibc2.39<br>Processor: x86_64<br>CPU count: 4<br>Memory (GB): 16.77<br>Run time avg: 1.568902 s<br>Run time median: 1.599604 s<br>Run time p95: 1.613802 s<br>Run time std: 0.046886 s<br>Nº repeats: 5",
          "Forecaster: ForecasterRecursiveMultiSeries<br>Regressor: DummyRegressor<br>Function: ForecasterRecursiveMultiSeries_fit_series_is_dict_no_exog<br>Function_hash: 1bf35d7af3e076bed0b1e6bd4b5fcb8a<br>Method: fit_series_is_dict_no_exog<br>Datetime: 2025-08-26 08:10:50.378313<br>Python version: 3.12.11<br>skforecast version: 0.17.0<br>numpy version: 2.1.3<br>pandas version: 2.3.2<br>sklearn version: 1.6.1<br>lightgbm version: 4.6.0<br>Platform: Linux-6.11.0-1018-azure-x86_64-with-glibc2.39<br>Processor: x86_64<br>CPU count: 4<br>Memory (GB): 16.77<br>Run time avg: 1.570579 s<br>Run time median: 1.606957 s<br>Run time p95: 1.619954 s<br>Run time std: 0.054557 s<br>Nº repeats: 5"
         ],
         "type": "scatter",
         "visible": false,
         "x": {
          "bdata": "psbHeUmx/z/WOUH4tSUAQK6GwIP9Sf8/NGJtff1XAECUHcIxaZv/Pw==",
          "dtype": "f8"
         },
         "y": {
          "bdata": "mj8V2UV/+D/Nh1ZG4of5P81qDaA98fg/GsNmQDka+T8z4Ui+FyH5Pw==",
          "dtype": "f8"
         }
        },
        {
         "error_y": {
          "array": {
           "bdata": "h5jScwIsoD+D7GcCOZKTPzDEd8MY6Zc/09w9IcBaeT8=",
           "dtype": "f8"
          },
          "color": "#636EFA",
          "thickness": 1.5,
          "type": "data",
          "visible": true,
          "width": 5
         },
         "hovertemplate": "%{text}<extra></extra>",
         "marker": {
          "color": "#636EFA",
          "line": {
           "color": "white",
           "width": 1
          },
          "opacity": 0.85,
          "size": 10
         },
         "mode": "markers",
         "text": [
          "Forecaster: ForecasterRecursiveMultiSeries<br>Regressor: DummyRegressor<br>Function: ForecasterRecursiveMultiSeries_fit_series_is_dict_exog_is_dict<br>Function_hash: 60954df9d9e8b50a801581c853a9d82e<br>Method: fit_series_is_dict_exog_is_dict<br>Datetime: 2025-08-26 09:17:57.097353<br>Python version: 3.12.11<br>skforecast version: 0.15.1<br>numpy version: 2.1.3<br>pandas version: 2.3.2<br>sklearn version: 1.6.1<br>lightgbm version: 4.6.0<br>Platform: Linux-6.11.0-1018-azure-x86_64-with-glibc2.39<br>Processor: x86_64<br>CPU count: 4<br>Memory (GB): 16.77<br>Run time avg: 3.274467 s<br>Run time median: 3.262632 s<br>Run time p95: 3.318261 s<br>Run time std: 0.031586 s<br>Nº repeats: 5",
          "Forecaster: ForecasterRecursiveMultiSeries<br>Regressor: DummyRegressor<br>Function: ForecasterRecursiveMultiSeries_fit_series_is_dict_exog_is_dict<br>Function_hash: 60954df9d9e8b50a801581c853a9d82e<br>Method: fit_series_is_dict_exog_is_dict<br>Datetime: 2025-08-26 09:33:58.388473<br>Python version: 3.12.11<br>skforecast version: 0.15.1<br>numpy version: 2.1.3<br>pandas version: 2.3.2<br>sklearn version: 1.6.1<br>lightgbm version: 4.6.0<br>Platform: Linux-6.11.0-1018-azure-x86_64-with-glibc2.39<br>Processor: x86_64<br>CPU count: 4<br>Memory (GB): 16.77<br>Run time avg: 3.352942 s<br>Run time median: 3.352169 s<br>Run time p95: 3.378420 s<br>Run time std: 0.019112 s<br>Nº repeats: 5",
          "Forecaster: ForecasterRecursiveMultiSeries<br>Regressor: DummyRegressor<br>Function: ForecasterRecursiveMultiSeries_fit_series_is_dict_exog_is_dict<br>Function_hash: 60954df9d9e8b50a801581c853a9d82e<br>Method: fit_series_is_dict_exog_is_dict<br>Datetime: 2025-08-26 09:46:48.911057<br>Python version: 3.12.11<br>skforecast version: 0.15.1<br>numpy version: 2.1.3<br>pandas version: 2.3.2<br>sklearn version: 1.6.1<br>lightgbm version: 4.6.0<br>Platform: Linux-6.11.0-1018-azure-x86_64-with-glibc2.39<br>Processor: x86_64<br>CPU count: 4<br>Memory (GB): 16.77<br>Run time avg: 3.306684 s<br>Run time median: 3.312488 s<br>Run time p95: 3.332403 s<br>Run time std: 0.023350 s<br>Nº repeats: 5",
          "Forecaster: ForecasterRecursiveMultiSeries<br>Regressor: DummyRegressor<br>Function: ForecasterRecursiveMultiSeries_fit_series_is_dict_exog_is_dict<br>Function_hash: 60954df9d9e8b50a801581c853a9d82e<br>Method: fit_series_is_dict_exog_is_dict<br>Datetime: 2025-08-26 10:10:23.498518<br>Python version: 3.12.11<br>skforecast version: 0.15.1<br>numpy version: 2.1.3<br>pandas version: 2.3.2<br>sklearn version: 1.6.1<br>lightgbm version: 4.6.0<br>Platform: Linux-6.11.0-1018-azure-x86_64-with-glibc2.39<br>Processor: x86_64<br>CPU count: 4<br>Memory (GB): 16.77<br>Run time avg: 3.261300 s<br>Run time median: 3.258836 s<br>Run time p95: 3.270777 s<br>Run time std: 0.006190 s<br>Nº repeats: 5"
         ],
         "type": "scatter",
         "visible": false,
         "x": {
          "bdata": "UFx32czsZD8ARs8FSQMuvxfjjGMR3aO/gA3NkTJqlL8=",
          "dtype": "f8"
         },
         "y": {
          "bdata": "zdPRihsyCkBzGXwu09IKQE39gNkWdApAzX9iOCQXCkA=",
          "dtype": "f8"
         }
        },
        {
         "error_y": {
          "array": {
           "bdata": "ysqPNWeqhj+Vz4UsERyBP/rfkZJ9A5E/xXNXyEbDcD8=",
           "dtype": "f8"
          },
          "color": "#EF553B",
          "thickness": 1.5,
          "type": "data",
          "visible": true,
          "width": 5
         },
         "hovertemplate": "%{text}<extra></extra>",
         "marker": {
          "color": "#EF553B",
          "line": {
           "color": "white",
           "width": 1
          },
          "opacity": 0.85,
          "size": 10
         },
         "mode": "markers",
         "text": [
          "Forecaster: ForecasterRecursiveMultiSeries<br>Regressor: DummyRegressor<br>Function: ForecasterRecursiveMultiSeries_fit_series_is_dict_exog_is_dict<br>Function_hash: 60954df9d9e8b50a801581c853a9d82e<br>Method: fit_series_is_dict_exog_is_dict<br>Datetime: 2025-08-26 08:30:55.105630<br>Python version: 3.12.11<br>skforecast version: 0.16.0<br>numpy version: 2.1.3<br>pandas version: 2.3.2<br>sklearn version: 1.6.1<br>lightgbm version: 4.6.0<br>Platform: Linux-6.11.0-1018-azure-x86_64-with-glibc2.39<br>Processor: x86_64<br>CPU count: 4<br>Memory (GB): 16.77<br>Run time avg: 1.877965 s<br>Run time median: 1.881936 s<br>Run time p95: 1.888902 s<br>Run time std: 0.011067 s<br>Nº repeats: 5",
          "Forecaster: ForecasterRecursiveMultiSeries<br>Regressor: DummyRegressor<br>Function: ForecasterRecursiveMultiSeries_fit_series_is_dict_exog_is_dict<br>Function_hash: 60954df9d9e8b50a801581c853a9d82e<br>Method: fit_series_is_dict_exog_is_dict<br>Datetime: 2025-08-26 08:40:48.416004<br>Python version: 3.12.11<br>skforecast version: 0.16.0<br>numpy version: 2.1.3<br>pandas version: 2.3.2<br>sklearn version: 1.6.1<br>lightgbm version: 4.6.0<br>Platform: Linux-6.11.0-1018-azure-x86_64-with-glibc2.39<br>Processor: x86_64<br>CPU count: 4<br>Memory (GB): 16.77<br>Run time avg: 1.810180 s<br>Run time median: 1.811976 s<br>Run time p95: 1.821234 s<br>Run time std: 0.008354 s<br>Nº repeats: 5",
          "Forecaster: ForecasterRecursiveMultiSeries<br>Regressor: DummyRegressor<br>Function: ForecasterRecursiveMultiSeries_fit_series_is_dict_exog_is_dict<br>Function_hash: 60954df9d9e8b50a801581c853a9d82e<br>Method: fit_series_is_dict_exog_is_dict<br>Datetime: 2025-08-26 08:55:04.571289<br>Python version: 3.12.11<br>skforecast version: 0.16.0<br>numpy version: 2.1.3<br>pandas version: 2.3.2<br>sklearn version: 1.6.1<br>lightgbm version: 4.6.0<br>Platform: Linux-6.11.0-1018-azure-x86_64-with-glibc2.39<br>Processor: x86_64<br>CPU count: 4<br>Memory (GB): 16.77<br>Run time avg: 1.832212 s<br>Run time median: 1.826301 s<br>Run time p95: 1.857650 s<br>Run time std: 0.016615 s<br>Nº repeats: 5",
          "Forecaster: ForecasterRecursiveMultiSeries<br>Regressor: DummyRegressor<br>Function: ForecasterRecursiveMultiSeries_fit_series_is_dict_exog_is_dict<br>Function_hash: 60954df9d9e8b50a801581c853a9d82e<br>Method: fit_series_is_dict_exog_is_dict<br>Datetime: 2025-08-26 09:05:28.015147<br>Python version: 3.12.11<br>skforecast version: 0.16.0<br>numpy version: 2.1.3<br>pandas version: 2.3.2<br>sklearn version: 1.6.1<br>lightgbm version: 4.6.0<br>Platform: Linux-6.11.0-1018-azure-x86_64-with-glibc2.39<br>Processor: x86_64<br>CPU count: 4<br>Memory (GB): 16.77<br>Run time avg: 1.892097 s<br>Run time median: 1.890682 s<br>Run time p95: 1.897901 s<br>Run time std: 0.004092 s<br>Nº repeats: 5"
         ],
         "type": "scatter",
         "visible": false,
         "x": {
          "bdata": "8ewo9iOt7j9cEw9bboPwPxxE/gAvF/A/ctdHlo1M8D8=",
          "dtype": "f8"
         },
         "y": {
          "bdata": "zd48MiUM/j8zenaCf/b8PzMz+tq9UP0/5if/5gdG/j8=",
          "dtype": "f8"
         }
        },
        {
         "error_y": {
          "array": {
           "bdata": "mOGPY39Fjj/huHhhKhJ1P2/7QXUFa3Q/bDuG03eWhT9bHUhH9+aVPw==",
           "dtype": "f8"
          },
          "color": "#00CC96",
          "thickness": 1.5,
          "type": "data",
          "visible": true,
          "width": 5
         },
         "hovertemplate": "%{text}<extra></extra>",
         "marker": {
          "color": "#00CC96",
          "line": {
           "color": "white",
           "width": 1
          },
          "opacity": 0.85,
          "size": 10
         },
         "mode": "markers",
         "text": [
          "Forecaster: ForecasterRecursiveMultiSeries<br>Regressor: DummyRegressor<br>Function: ForecasterRecursiveMultiSeries_fit_series_is_dict_exog_is_dict<br>Function_hash: 60954df9d9e8b50a801581c853a9d82e<br>Method: fit_series_is_dict_exog_is_dict<br>Datetime: 2025-08-26 07:00:55.370722<br>Python version: 3.12.11<br>skforecast version: 0.17.0<br>numpy version: 2.1.3<br>pandas version: 2.3.2<br>sklearn version: 1.6.1<br>lightgbm version: 4.6.0<br>Platform: Linux-6.11.0-1018-azure-x86_64-with-glibc2.39<br>Processor: x86_64<br>CPU count: 4<br>Memory (GB): 16.77<br>Run time avg: 1.875200 s<br>Run time median: 1.879321 s<br>Run time p95: 1.893503 s<br>Run time std: 0.014781 s<br>Nº repeats: 5",
          "Forecaster: ForecasterRecursiveMultiSeries<br>Regressor: DummyRegressor<br>Function: ForecasterRecursiveMultiSeries_fit_series_is_dict_exog_is_dict<br>Function_hash: 60954df9d9e8b50a801581c853a9d82e<br>Method: fit_series_is_dict_exog_is_dict<br>Datetime: 2025-08-26 07:13:46.939782<br>Python version: 3.12.11<br>skforecast version: 0.17.0<br>numpy version: 2.1.3<br>pandas version: 2.3.2<br>sklearn version: 1.6.1<br>lightgbm version: 4.6.0<br>Platform: Linux-6.11.0-1018-azure-x86_64-with-glibc2.39<br>Processor: x86_64<br>CPU count: 4<br>Memory (GB): 16.77<br>Run time avg: 1.915390 s<br>Run time median: 1.916939 s<br>Run time p95: 1.920915 s<br>Run time std: 0.005144 s<br>Nº repeats: 5",
          "Forecaster: ForecasterRecursiveMultiSeries<br>Regressor: DummyRegressor<br>Function: ForecasterRecursiveMultiSeries_fit_series_is_dict_exog_is_dict<br>Function_hash: 60954df9d9e8b50a801581c853a9d82e<br>Method: fit_series_is_dict_exog_is_dict<br>Datetime: 2025-08-26 07:32:17.259306<br>Python version: 3.12.11<br>skforecast version: 0.17.0<br>numpy version: 2.1.3<br>pandas version: 2.3.2<br>sklearn version: 1.6.1<br>lightgbm version: 4.6.0<br>Platform: Linux-6.11.0-1018-azure-x86_64-with-glibc2.39<br>Processor: x86_64<br>CPU count: 4<br>Memory (GB): 16.77<br>Run time avg: 1.906762 s<br>Run time median: 1.905771 s<br>Run time p95: 1.912964 s<br>Run time std: 0.004985 s<br>Nº repeats: 5",
          "Forecaster: ForecasterRecursiveMultiSeries<br>Regressor: DummyRegressor<br>Function: ForecasterRecursiveMultiSeries_fit_series_is_dict_exog_is_dict<br>Function_hash: 60954df9d9e8b50a801581c853a9d82e<br>Method: fit_series_is_dict_exog_is_dict<br>Datetime: 2025-08-26 07:44:57.145737<br>Python version: 3.12.11<br>skforecast version: 0.17.0<br>numpy version: 2.1.3<br>pandas version: 2.3.2<br>sklearn version: 1.6.1<br>lightgbm version: 4.6.0<br>Platform: Linux-6.11.0-1018-azure-x86_64-with-glibc2.39<br>Processor: x86_64<br>CPU count: 4<br>Memory (GB): 16.77<br>Run time avg: 1.929376 s<br>Run time median: 1.927465 s<br>Run time p95: 1.941250 s<br>Run time std: 0.010541 s<br>Nº repeats: 5",
          "Forecaster: ForecasterRecursiveMultiSeries<br>Regressor: DummyRegressor<br>Function: ForecasterRecursiveMultiSeries_fit_series_is_dict_exog_is_dict<br>Function_hash: 60954df9d9e8b50a801581c853a9d82e<br>Method: fit_series_is_dict_exog_is_dict<br>Datetime: 2025-08-26 08:11:00.000766<br>Python version: 3.12.11<br>skforecast version: 0.17.0<br>numpy version: 2.1.3<br>pandas version: 2.3.2<br>sklearn version: 1.6.1<br>lightgbm version: 4.6.0<br>Platform: Linux-6.11.0-1018-azure-x86_64-with-glibc2.39<br>Processor: x86_64<br>CPU count: 4<br>Memory (GB): 16.77<br>Run time avg: 1.923517 s<br>Run time median: 1.911288 s<br>Run time p95: 1.952947 s<br>Run time std: 0.021389 s<br>Nº repeats: 5"
         ],
         "type": "scatter",
         "visible": false,
         "x": {
          "bdata": "FVHb/qhg/z9fViw2XnH/PwhQ3Q5VUgBA5JmztmHa/z801B1QMab/Pw==",
          "dtype": "f8"
         },
         "y": {
          "bdata": "mqFlhtEA/j+a5eN3b6X+PzNKeVsYgv4/zc9fb7ne/j/NtP7xucb+Pw==",
          "dtype": "f8"
         }
        },
        {
         "error_y": {
          "array": {
           "bdata": "qKyoDoVelz8OtTAFMIeyP2GIPuUNeqk/dYkL+GtEqD8=",
           "dtype": "f8"
          },
          "color": "#636EFA",
          "thickness": 1.5,
          "type": "data",
          "visible": true,
          "width": 5
         },
         "hovertemplate": "%{text}<extra></extra>",
         "marker": {
          "color": "#636EFA",
          "line": {
           "color": "white",
           "width": 1
          },
          "opacity": 0.85,
          "size": 10
         },
         "mode": "markers",
         "text": [
          "Forecaster: ForecasterRecursiveMultiSeries<br>Regressor: DummyRegressor<br>Function: ForecasterRecursiveMultiSeries_fit_series_is_dict_different_length_exog_is_dict<br>Function_hash: 24ff7aa90f744c5f28f301482e3210f5<br>Method: fit_series_is_dict_different_length_exog_is_dict<br>Datetime: 2025-08-26 09:18:12.330366<br>Python version: 3.12.11<br>skforecast version: 0.15.1<br>numpy version: 2.1.3<br>pandas version: 2.3.2<br>sklearn version: 1.6.1<br>lightgbm version: 4.6.0<br>Platform: Linux-6.11.0-1018-azure-x86_64-with-glibc2.39<br>Processor: x86_64<br>CPU count: 4<br>Memory (GB): 16.77<br>Run time avg: 3.045465 s<br>Run time median: 3.035334 s<br>Run time p95: 3.080376 s<br>Run time std: 0.022822 s<br>Nº repeats: 5",
          "Forecaster: ForecasterRecursiveMultiSeries<br>Regressor: DummyRegressor<br>Function: ForecasterRecursiveMultiSeries_fit_series_is_dict_different_length_exog_is_dict<br>Function_hash: 24ff7aa90f744c5f28f301482e3210f5<br>Method: fit_series_is_dict_different_length_exog_is_dict<br>Datetime: 2025-08-26 09:34:13.593375<br>Python version: 3.12.11<br>skforecast version: 0.15.1<br>numpy version: 2.1.3<br>pandas version: 2.3.2<br>sklearn version: 1.6.1<br>lightgbm version: 4.6.0<br>Platform: Linux-6.11.0-1018-azure-x86_64-with-glibc2.39<br>Processor: x86_64<br>CPU count: 4<br>Memory (GB): 16.77<br>Run time avg: 3.039849 s<br>Run time median: 3.009227 s<br>Run time p95: 3.148139 s<br>Run time std: 0.072375 s<br>Nº repeats: 5",
          "Forecaster: ForecasterRecursiveMultiSeries<br>Regressor: DummyRegressor<br>Function: ForecasterRecursiveMultiSeries_fit_series_is_dict_different_length_exog_is_dict<br>Function_hash: 24ff7aa90f744c5f28f301482e3210f5<br>Method: fit_series_is_dict_different_length_exog_is_dict<br>Datetime: 2025-08-26 09:47:04.313915<br>Python version: 3.12.11<br>skforecast version: 0.15.1<br>numpy version: 2.1.3<br>pandas version: 2.3.2<br>sklearn version: 1.6.1<br>lightgbm version: 4.6.0<br>Platform: Linux-6.11.0-1018-azure-x86_64-with-glibc2.39<br>Processor: x86_64<br>CPU count: 4<br>Memory (GB): 16.77<br>Run time avg: 3.079389 s<br>Run time median: 3.054603 s<br>Run time p95: 3.154845 s<br>Run time std: 0.049759 s<br>Nº repeats: 5",
          "Forecaster: ForecasterRecursiveMultiSeries<br>Regressor: DummyRegressor<br>Function: ForecasterRecursiveMultiSeries_fit_series_is_dict_different_length_exog_is_dict<br>Function_hash: 24ff7aa90f744c5f28f301482e3210f5<br>Method: fit_series_is_dict_different_length_exog_is_dict<br>Datetime: 2025-08-26 10:10:38.480126<br>Python version: 3.12.11<br>skforecast version: 0.15.1<br>numpy version: 2.1.3<br>pandas version: 2.3.2<br>sklearn version: 1.6.1<br>lightgbm version: 4.6.0<br>Platform: Linux-6.11.0-1018-azure-x86_64-with-glibc2.39<br>Processor: x86_64<br>CPU count: 4<br>Memory (GB): 16.77<br>Run time avg: 2.995146 s<br>Run time median: 2.974015 s<br>Run time p95: 3.067651 s<br>Run time std: 0.047397 s<br>Nº repeats: 5"
         ],
         "type": "scatter",
         "visible": false,
         "x": {
          "bdata": "AElTywfZm78w7y2s5dSiv6DjyBr3nI8/wsEs1cz3pT8=",
          "dtype": "f8"
         },
         "y": {
          "bdata": "Gt9LihxdCECNuT9lnFEIQADNqcOWoghATbQBJA/2B0A=",
          "dtype": "f8"
         }
        },
        {
         "error_y": {
          "array": {
           "bdata": "3IZxcDD7jT+xpdvS9VedPwcPpd3zmqA/IBtLqJmNrj8=",
           "dtype": "f8"
          },
          "color": "#EF553B",
          "thickness": 1.5,
          "type": "data",
          "visible": true,
          "width": 5
         },
         "hovertemplate": "%{text}<extra></extra>",
         "marker": {
          "color": "#EF553B",
          "line": {
           "color": "white",
           "width": 1
          },
          "opacity": 0.85,
          "size": 10
         },
         "mode": "markers",
         "text": [
          "Forecaster: ForecasterRecursiveMultiSeries<br>Regressor: DummyRegressor<br>Function: ForecasterRecursiveMultiSeries_fit_series_is_dict_different_length_exog_is_dict<br>Function_hash: 24ff7aa90f744c5f28f301482e3210f5<br>Method: fit_series_is_dict_different_length_exog_is_dict<br>Datetime: 2025-08-26 08:31:03.863725<br>Python version: 3.12.11<br>skforecast version: 0.16.0<br>numpy version: 2.1.3<br>pandas version: 2.3.2<br>sklearn version: 1.6.1<br>lightgbm version: 4.6.0<br>Platform: Linux-6.11.0-1018-azure-x86_64-with-glibc2.39<br>Processor: x86_64<br>CPU count: 4<br>Memory (GB): 16.77<br>Run time avg: 1.750582 s<br>Run time median: 1.742928 s<br>Run time p95: 1.773064 s<br>Run time std: 0.014639 s<br>Nº repeats: 5",
          "Forecaster: ForecasterRecursiveMultiSeries<br>Regressor: DummyRegressor<br>Function: ForecasterRecursiveMultiSeries_fit_series_is_dict_different_length_exog_is_dict<br>Function_hash: 24ff7aa90f744c5f28f301482e3210f5<br>Method: fit_series_is_dict_different_length_exog_is_dict<br>Datetime: 2025-08-26 08:40:56.946517<br>Python version: 3.12.11<br>skforecast version: 0.16.0<br>numpy version: 2.1.3<br>pandas version: 2.3.2<br>sklearn version: 1.6.1<br>lightgbm version: 4.6.0<br>Platform: Linux-6.11.0-1018-azure-x86_64-with-glibc2.39<br>Processor: x86_64<br>CPU count: 4<br>Memory (GB): 16.77<br>Run time avg: 1.705092 s<br>Run time median: 1.695283 s<br>Run time p95: 1.748914 s<br>Run time std: 0.028656 s<br>Nº repeats: 5",
          "Forecaster: ForecasterRecursiveMultiSeries<br>Regressor: DummyRegressor<br>Function: ForecasterRecursiveMultiSeries_fit_series_is_dict_different_length_exog_is_dict<br>Function_hash: 24ff7aa90f744c5f28f301482e3210f5<br>Method: fit_series_is_dict_different_length_exog_is_dict<br>Datetime: 2025-08-26 08:55:13.208140<br>Python version: 3.12.11<br>skforecast version: 0.16.0<br>numpy version: 2.1.3<br>pandas version: 2.3.2<br>sklearn version: 1.6.1<br>lightgbm version: 4.6.0<br>Platform: Linux-6.11.0-1018-azure-x86_64-with-glibc2.39<br>Processor: x86_64<br>CPU count: 4<br>Memory (GB): 16.77<br>Run time avg: 1.726326 s<br>Run time median: 1.706364 s<br>Run time p95: 1.770039 s<br>Run time std: 0.032432 s<br>Nº repeats: 5",
          "Forecaster: ForecasterRecursiveMultiSeries<br>Regressor: DummyRegressor<br>Function: ForecasterRecursiveMultiSeries_fit_series_is_dict_different_length_exog_is_dict<br>Function_hash: 24ff7aa90f744c5f28f301482e3210f5<br>Method: fit_series_is_dict_different_length_exog_is_dict<br>Datetime: 2025-08-26 09:05:36.979518<br>Python version: 3.12.11<br>skforecast version: 0.16.0<br>numpy version: 2.1.3<br>pandas version: 2.3.2<br>sklearn version: 1.6.1<br>lightgbm version: 4.6.0<br>Platform: Linux-6.11.0-1018-azure-x86_64-with-glibc2.39<br>Processor: x86_64<br>CPU count: 4<br>Memory (GB): 16.77<br>Run time avg: 1.791762 s<br>Run time median: 1.772231 s<br>Run time p95: 1.882270 s<br>Run time std: 0.059674 s<br>Nº repeats: 5"
         ],
         "type": "scatter",
         "visible": false,
         "x": {
          "bdata": "DY2ppVbV7z+uI2XyignwP0atQJxKL/A//UnLR4ZI8D8=",
          "dtype": "f8"
         },
         "y": {
          "bdata": "mmOcjmIC/D/mLy+lDkj7P80MemUIn/s/mql2cQ6r/D8=",
          "dtype": "f8"
         }
        },
        {
         "error_y": {
          "array": {
           "bdata": "tAPcDMKcgT8zK9LqGzSDP+HHXgoSRHw/yr99mTsBgj8OQHl4Qc2PPw==",
           "dtype": "f8"
          },
          "color": "#00CC96",
          "thickness": 1.5,
          "type": "data",
          "visible": true,
          "width": 5
         },
         "hovertemplate": "%{text}<extra></extra>",
         "marker": {
          "color": "#00CC96",
          "line": {
           "color": "white",
           "width": 1
          },
          "opacity": 0.85,
          "size": 10
         },
         "mode": "markers",
         "text": [
          "Forecaster: ForecasterRecursiveMultiSeries<br>Regressor: DummyRegressor<br>Function: ForecasterRecursiveMultiSeries_fit_series_is_dict_different_length_exog_is_dict<br>Function_hash: 24ff7aa90f744c5f28f301482e3210f5<br>Method: fit_series_is_dict_different_length_exog_is_dict<br>Datetime: 2025-08-26 07:01:03.893242<br>Python version: 3.12.11<br>skforecast version: 0.17.0<br>numpy version: 2.1.3<br>pandas version: 2.3.2<br>sklearn version: 1.6.1<br>lightgbm version: 4.6.0<br>Platform: Linux-6.11.0-1018-azure-x86_64-with-glibc2.39<br>Processor: x86_64<br>CPU count: 4<br>Memory (GB): 16.77<br>Run time avg: 1.703668 s<br>Run time median: 1.700454 s<br>Run time p95: 1.715143 s<br>Run time std: 0.008600 s<br>Nº repeats: 5",
          "Forecaster: ForecasterRecursiveMultiSeries<br>Regressor: DummyRegressor<br>Function: ForecasterRecursiveMultiSeries_fit_series_is_dict_different_length_exog_is_dict<br>Function_hash: 24ff7aa90f744c5f28f301482e3210f5<br>Method: fit_series_is_dict_different_length_exog_is_dict<br>Datetime: 2025-08-26 07:13:55.632288<br>Python version: 3.12.11<br>skforecast version: 0.17.0<br>numpy version: 2.1.3<br>pandas version: 2.3.2<br>sklearn version: 1.6.1<br>lightgbm version: 4.6.0<br>Platform: Linux-6.11.0-1018-azure-x86_64-with-glibc2.39<br>Processor: x86_64<br>CPU count: 4<br>Memory (GB): 16.77<br>Run time avg: 1.737611 s<br>Run time median: 1.732148 s<br>Run time p95: 1.750798 s<br>Run time std: 0.009377 s<br>Nº repeats: 5",
          "Forecaster: ForecasterRecursiveMultiSeries<br>Regressor: DummyRegressor<br>Function: ForecasterRecursiveMultiSeries_fit_series_is_dict_different_length_exog_is_dict<br>Function_hash: 24ff7aa90f744c5f28f301482e3210f5<br>Method: fit_series_is_dict_different_length_exog_is_dict<br>Datetime: 2025-08-26 07:32:25.920968<br>Python version: 3.12.11<br>skforecast version: 0.17.0<br>numpy version: 2.1.3<br>pandas version: 2.3.2<br>sklearn version: 1.6.1<br>lightgbm version: 4.6.0<br>Platform: Linux-6.11.0-1018-azure-x86_64-with-glibc2.39<br>Processor: x86_64<br>CPU count: 4<br>Memory (GB): 16.77<br>Run time avg: 1.731398 s<br>Run time median: 1.729768 s<br>Run time p95: 1.740903 s<br>Run time std: 0.006901 s<br>Nº repeats: 5",
          "Forecaster: ForecasterRecursiveMultiSeries<br>Regressor: DummyRegressor<br>Function: ForecasterRecursiveMultiSeries_fit_series_is_dict_different_length_exog_is_dict<br>Function_hash: 24ff7aa90f744c5f28f301482e3210f5<br>Method: fit_series_is_dict_different_length_exog_is_dict<br>Datetime: 2025-08-26 07:45:05.926088<br>Python version: 3.12.11<br>skforecast version: 0.17.0<br>numpy version: 2.1.3<br>pandas version: 2.3.2<br>sklearn version: 1.6.1<br>lightgbm version: 4.6.0<br>Platform: Linux-6.11.0-1018-azure-x86_64-with-glibc2.39<br>Processor: x86_64<br>CPU count: 4<br>Memory (GB): 16.77<br>Run time avg: 1.755132 s<br>Run time median: 1.749663 s<br>Run time p95: 1.767293 s<br>Run time std: 0.008791 s<br>Nº repeats: 5",
          "Forecaster: ForecasterRecursiveMultiSeries<br>Regressor: DummyRegressor<br>Function: ForecasterRecursiveMultiSeries_fit_series_is_dict_different_length_exog_is_dict<br>Function_hash: 24ff7aa90f744c5f28f301482e3210f5<br>Method: fit_series_is_dict_different_length_exog_is_dict<br>Datetime: 2025-08-26 08:11:08.661153<br>Python version: 3.12.11<br>skforecast version: 0.17.0<br>numpy version: 2.1.3<br>pandas version: 2.3.2<br>sklearn version: 1.6.1<br>lightgbm version: 4.6.0<br>Platform: Linux-6.11.0-1018-azure-x86_64-with-glibc2.39<br>Processor: x86_64<br>CPU count: 4<br>Memory (GB): 16.77<br>Run time avg: 1.731081 s<br>Run time median: 1.728705 s<br>Run time p95: 1.753759 s<br>Run time std: 0.015528 s<br>Nº repeats: 5"
         ],
         "type": "scatter",
         "visible": false,
         "x": {
          "bdata": "LcyqnoMcAEDXifXUYgAAQLwWO8OxKQBAvAYmNRQ3/z+OtryBWHf/Pw==",
          "dtype": "f8"
         },
         "y": {
          "bdata": "AJSu+zhC+z+aoAutQc37PwCVtNnOs/s/zTPHEAUV/D+aRTLDgbL7Pw==",
          "dtype": "f8"
         }
        },
        {
         "error_y": {
          "array": {
           "bdata": "tZvRrHEjpD9vYR6gehGsP/1wd236n6o/0dUjamitqz+N3MAU4iGrPw==",
           "dtype": "f8"
          },
          "color": "#00CC96",
          "thickness": 1.5,
          "type": "data",
          "visible": true,
          "width": 5
         },
         "hovertemplate": "%{text}<extra></extra>",
         "marker": {
          "color": "#00CC96",
          "line": {
           "color": "white",
           "width": 1
          },
          "opacity": 0.85,
          "size": 10
         },
         "mode": "markers",
         "text": [
          "Forecaster: ForecasterRecursiveMultiSeries<br>Regressor: DummyRegressor<br>Function: ForecasterRecursiveMultiSeries_fit_series_is_dataframe_no_exog<br>Function_hash: da51fde5e25b72af3316343a7aec1255<br>Method: fit_series_is_dataframe_no_exog<br>Datetime: 2025-08-26 07:01:12.350241<br>Python version: 3.12.11<br>skforecast version: 0.17.0<br>numpy version: 2.1.3<br>pandas version: 2.3.2<br>sklearn version: 1.6.1<br>lightgbm version: 4.6.0<br>Platform: Linux-6.11.0-1018-azure-x86_64-with-glibc2.39<br>Processor: x86_64<br>CPU count: 4<br>Memory (GB): 16.77<br>Run time avg: 1.690570 s<br>Run time median: 1.711007 s<br>Run time p95: 1.725303 s<br>Run time std: 0.039333 s<br>Nº repeats: 5",
          "Forecaster: ForecasterRecursiveMultiSeries<br>Regressor: DummyRegressor<br>Function: ForecasterRecursiveMultiSeries_fit_series_is_dataframe_no_exog<br>Function_hash: da51fde5e25b72af3316343a7aec1255<br>Method: fit_series_is_dataframe_no_exog<br>Datetime: 2025-08-26 07:14:04.203711<br>Python version: 3.12.11<br>skforecast version: 0.17.0<br>numpy version: 2.1.3<br>pandas version: 2.3.2<br>sklearn version: 1.6.1<br>lightgbm version: 4.6.0<br>Platform: Linux-6.11.0-1018-azure-x86_64-with-glibc2.39<br>Processor: x86_64<br>CPU count: 4<br>Memory (GB): 16.77<br>Run time avg: 1.713400 s<br>Run time median: 1.745116 s<br>Run time p95: 1.769018 s<br>Run time std: 0.054821 s<br>Nº repeats: 5",
          "Forecaster: ForecasterRecursiveMultiSeries<br>Regressor: DummyRegressor<br>Function: ForecasterRecursiveMultiSeries_fit_series_is_dataframe_no_exog<br>Function_hash: da51fde5e25b72af3316343a7aec1255<br>Method: fit_series_is_dataframe_no_exog<br>Datetime: 2025-08-26 07:32:34.442574<br>Python version: 3.12.11<br>skforecast version: 0.17.0<br>numpy version: 2.1.3<br>pandas version: 2.3.2<br>sklearn version: 1.6.1<br>lightgbm version: 4.6.0<br>Platform: Linux-6.11.0-1018-azure-x86_64-with-glibc2.39<br>Processor: x86_64<br>CPU count: 4<br>Memory (GB): 16.77<br>Run time avg: 1.703409 s<br>Run time median: 1.734972 s<br>Run time p95: 1.751506 s<br>Run time std: 0.052002 s<br>Nº repeats: 5",
          "Forecaster: ForecasterRecursiveMultiSeries<br>Regressor: DummyRegressor<br>Function: ForecasterRecursiveMultiSeries_fit_series_is_dataframe_no_exog<br>Function_hash: da51fde5e25b72af3316343a7aec1255<br>Method: fit_series_is_dataframe_no_exog<br>Datetime: 2025-08-26 07:45:14.536360<br>Python version: 3.12.11<br>skforecast version: 0.17.0<br>numpy version: 2.1.3<br>pandas version: 2.3.2<br>sklearn version: 1.6.1<br>lightgbm version: 4.6.0<br>Platform: Linux-6.11.0-1018-azure-x86_64-with-glibc2.39<br>Processor: x86_64<br>CPU count: 4<br>Memory (GB): 16.77<br>Run time avg: 1.721098 s<br>Run time median: 1.750567 s<br>Run time p95: 1.773481 s<br>Run time std: 0.054057 s<br>Nº repeats: 5",
          "Forecaster: ForecasterRecursiveMultiSeries<br>Regressor: DummyRegressor<br>Function: ForecasterRecursiveMultiSeries_fit_series_is_dataframe_no_exog<br>Function_hash: da51fde5e25b72af3316343a7aec1255<br>Method: fit_series_is_dataframe_no_exog<br>Datetime: 2025-08-26 08:11:17.174345<br>Python version: 3.12.11<br>skforecast version: 0.17.0<br>numpy version: 2.1.3<br>pandas version: 2.3.2<br>sklearn version: 1.6.1<br>lightgbm version: 4.6.0<br>Platform: Linux-6.11.0-1018-azure-x86_64-with-glibc2.39<br>Processor: x86_64<br>CPU count: 4<br>Memory (GB): 16.77<br>Run time avg: 1.701663 s<br>Run time median: 1.733726 s<br>Run time p95: 1.755809 s<br>Run time std: 0.052993 s<br>Nº repeats: 5"
         ],
         "type": "scatter",
         "visible": false,
         "x": {
          "bdata": "WpD4TuR4/z/j2Aa35QcAQLTE6YkcFABAixcN1N1fAECMXvEwTWEAQA==",
          "dtype": "f8"
         },
         "y": {
          "bdata": "zWBUpJMM+z+aolZlFmr7P83I+B0qQfs/mgVPcp6J+z/NwOKyAjr7Pw==",
          "dtype": "f8"
         }
        },
        {
         "error_y": {
          "array": {
           "bdata": "KVhWba3sdT+IEJXiNcZ7Pw0mbHNYW4o/YchseSm0kD+pmaBL6/6YPw==",
           "dtype": "f8"
          },
          "color": "#00CC96",
          "thickness": 1.5,
          "type": "data",
          "visible": true,
          "width": 5
         },
         "hovertemplate": "%{text}<extra></extra>",
         "marker": {
          "color": "#00CC96",
          "line": {
           "color": "white",
           "width": 1
          },
          "opacity": 0.85,
          "size": 10
         },
         "mode": "markers",
         "text": [
          "Forecaster: ForecasterRecursiveMultiSeries<br>Regressor: DummyRegressor<br>Function: ForecasterRecursiveMultiSeries_fit_series_is_dataframe_exog_is_dataframe<br>Function_hash: 5cc81dc4752859f688f8f727ea07af38<br>Method: fit_series_is_dataframe_exog_is_dataframe<br>Datetime: 2025-08-26 07:01:24.810896<br>Python version: 3.12.11<br>skforecast version: 0.17.0<br>numpy version: 2.1.3<br>pandas version: 2.3.2<br>sklearn version: 1.6.1<br>lightgbm version: 4.6.0<br>Platform: Linux-6.11.0-1018-azure-x86_64-with-glibc2.39<br>Processor: x86_64<br>CPU count: 4<br>Memory (GB): 16.77<br>Run time avg: 2.491282 s<br>Run time median: 2.489968 s<br>Run time p95: 2.498520 s<br>Run time std: 0.005353 s<br>Nº repeats: 5",
          "Forecaster: ForecasterRecursiveMultiSeries<br>Regressor: DummyRegressor<br>Function: ForecasterRecursiveMultiSeries_fit_series_is_dataframe_exog_is_dataframe<br>Function_hash: 5cc81dc4752859f688f8f727ea07af38<br>Method: fit_series_is_dataframe_exog_is_dataframe<br>Datetime: 2025-08-26 07:14:16.938888<br>Python version: 3.12.11<br>skforecast version: 0.17.0<br>numpy version: 2.1.3<br>pandas version: 2.3.2<br>sklearn version: 1.6.1<br>lightgbm version: 4.6.0<br>Platform: Linux-6.11.0-1018-azure-x86_64-with-glibc2.39<br>Processor: x86_64<br>CPU count: 4<br>Memory (GB): 16.77<br>Run time avg: 2.546134 s<br>Run time median: 2.548640 s<br>Run time p95: 2.553417 s<br>Run time std: 0.006781 s<br>Nº repeats: 5",
          "Forecaster: ForecasterRecursiveMultiSeries<br>Regressor: DummyRegressor<br>Function: ForecasterRecursiveMultiSeries_fit_series_is_dataframe_exog_is_dataframe<br>Function_hash: 5cc81dc4752859f688f8f727ea07af38<br>Method: fit_series_is_dataframe_exog_is_dataframe<br>Datetime: 2025-08-26 07:32:47.167275<br>Python version: 3.12.11<br>skforecast version: 0.17.0<br>numpy version: 2.1.3<br>pandas version: 2.3.2<br>sklearn version: 1.6.1<br>lightgbm version: 4.6.0<br>Platform: Linux-6.11.0-1018-azure-x86_64-with-glibc2.39<br>Processor: x86_64<br>CPU count: 4<br>Memory (GB): 16.77<br>Run time avg: 2.544025 s<br>Run time median: 2.546608 s<br>Run time p95: 2.560522 s<br>Run time std: 0.012870 s<br>Nº repeats: 5",
          "Forecaster: ForecasterRecursiveMultiSeries<br>Regressor: DummyRegressor<br>Function: ForecasterRecursiveMultiSeries_fit_series_is_dataframe_exog_is_dataframe<br>Function_hash: 5cc81dc4752859f688f8f727ea07af38<br>Method: fit_series_is_dataframe_exog_is_dataframe<br>Datetime: 2025-08-26 07:45:27.338213<br>Python version: 3.12.11<br>skforecast version: 0.17.0<br>numpy version: 2.1.3<br>pandas version: 2.3.2<br>sklearn version: 1.6.1<br>lightgbm version: 4.6.0<br>Platform: Linux-6.11.0-1018-azure-x86_64-with-glibc2.39<br>Processor: x86_64<br>CPU count: 4<br>Memory (GB): 16.77<br>Run time avg: 2.559379 s<br>Run time median: 2.563897 s<br>Run time p95: 2.580746 s<br>Run time std: 0.016312 s<br>Nº repeats: 5",
          "Forecaster: ForecasterRecursiveMultiSeries<br>Regressor: DummyRegressor<br>Function: ForecasterRecursiveMultiSeries_fit_series_is_dataframe_exog_is_dataframe<br>Function_hash: 5cc81dc4752859f688f8f727ea07af38<br>Method: fit_series_is_dataframe_exog_is_dataframe<br>Datetime: 2025-08-26 08:11:29.903571<br>Python version: 3.12.11<br>skforecast version: 0.17.0<br>numpy version: 2.1.3<br>pandas version: 2.3.2<br>sklearn version: 1.6.1<br>lightgbm version: 4.6.0<br>Platform: Linux-6.11.0-1018-azure-x86_64-with-glibc2.39<br>Processor: x86_64<br>CPU count: 4<br>Memory (GB): 16.77<br>Run time avg: 2.544829 s<br>Run time median: 2.526630 s<br>Run time p95: 2.579884 s<br>Run time std: 0.024410 s<br>Nº repeats: 5"
         ],
         "type": "scatter",
         "visible": false,
         "x": {
          "bdata": "z6u87voaAEAYeRajLhgAQLUy+hQpIgBAtkkhsWRZAEBEKN/WhBQAQA==",
          "dtype": "f8"
         },
         "y": {
          "bdata": "Mzh7byXuA0DNi3qve14EQACp6bYpWgRAJoqDkJt5BEDN14Rzz1sEQA==",
          "dtype": "f8"
         }
        },
        {
         "error_y": {
          "array": {
           "bdata": "5g8135Ucrj8iZHgyX52vP/yaTF2cEbI/KbA6Qrmrsz/hqK4iqHC0Pw==",
           "dtype": "f8"
          },
          "color": "#00CC96",
          "thickness": 1.5,
          "type": "data",
          "visible": true,
          "width": 5
         },
         "hovertemplate": "%{text}<extra></extra>",
         "marker": {
          "color": "#00CC96",
          "line": {
           "color": "white",
           "width": 1
          },
          "opacity": 0.85,
          "size": 10
         },
         "mode": "markers",
         "text": [
          "Forecaster: ForecasterRecursiveMultiSeries<br>Regressor: DummyRegressor<br>Function: ForecasterRecursiveMultiSeries_fit_series_is_dataframe_exog_is_dict<br>Function_hash: 225fcb6ba44356037af28b7a68f2ed15<br>Method: fit_series_is_dataframe_exog_is_dict<br>Datetime: 2025-08-26 07:01:34.926065<br>Python version: 3.12.11<br>skforecast version: 0.17.0<br>numpy version: 2.1.3<br>pandas version: 2.3.2<br>sklearn version: 1.6.1<br>lightgbm version: 4.6.0<br>Platform: Linux-6.11.0-1018-azure-x86_64-with-glibc2.39<br>Processor: x86_64<br>CPU count: 4<br>Memory (GB): 16.77<br>Run time avg: 2.022188 s<br>Run time median: 2.018709 s<br>Run time p95: 2.097495 s<br>Run time std: 0.058812 s<br>Nº repeats: 5",
          "Forecaster: ForecasterRecursiveMultiSeries<br>Regressor: DummyRegressor<br>Function: ForecasterRecursiveMultiSeries_fit_series_is_dataframe_exog_is_dict<br>Function_hash: 225fcb6ba44356037af28b7a68f2ed15<br>Method: fit_series_is_dataframe_exog_is_dict<br>Datetime: 2025-08-26 07:14:27.354070<br>Python version: 3.12.11<br>skforecast version: 0.17.0<br>numpy version: 2.1.3<br>pandas version: 2.3.2<br>sklearn version: 1.6.1<br>lightgbm version: 4.6.0<br>Platform: Linux-6.11.0-1018-azure-x86_64-with-glibc2.39<br>Processor: x86_64<br>CPU count: 4<br>Memory (GB): 16.77<br>Run time avg: 2.082128 s<br>Run time median: 2.092354 s<br>Run time p95: 2.159720 s<br>Run time std: 0.061748 s<br>Nº repeats: 5",
          "Forecaster: ForecasterRecursiveMultiSeries<br>Regressor: DummyRegressor<br>Function: ForecasterRecursiveMultiSeries_fit_series_is_dataframe_exog_is_dict<br>Function_hash: 225fcb6ba44356037af28b7a68f2ed15<br>Method: fit_series_is_dataframe_exog_is_dict<br>Datetime: 2025-08-26 07:32:57.470399<br>Python version: 3.12.11<br>skforecast version: 0.17.0<br>numpy version: 2.1.3<br>pandas version: 2.3.2<br>sklearn version: 1.6.1<br>lightgbm version: 4.6.0<br>Platform: Linux-6.11.0-1018-azure-x86_64-with-glibc2.39<br>Processor: x86_64<br>CPU count: 4<br>Memory (GB): 16.77<br>Run time avg: 2.059704 s<br>Run time median: 2.072659 s<br>Run time p95: 2.143808 s<br>Run time std: 0.070581 s<br>Nº repeats: 5",
          "Forecaster: ForecasterRecursiveMultiSeries<br>Regressor: DummyRegressor<br>Function: ForecasterRecursiveMultiSeries_fit_series_is_dataframe_exog_is_dict<br>Function_hash: 225fcb6ba44356037af28b7a68f2ed15<br>Method: fit_series_is_dataframe_exog_is_dict<br>Datetime: 2025-08-26 07:45:37.812048<br>Python version: 3.12.11<br>skforecast version: 0.17.0<br>numpy version: 2.1.3<br>pandas version: 2.3.2<br>sklearn version: 1.6.1<br>lightgbm version: 4.6.0<br>Platform: Linux-6.11.0-1018-azure-x86_64-with-glibc2.39<br>Processor: x86_64<br>CPU count: 4<br>Memory (GB): 16.77<br>Run time avg: 2.093800 s<br>Run time median: 2.096131 s<br>Run time p95: 2.180652 s<br>Run time std: 0.076839 s<br>Nº repeats: 5",
          "Forecaster: ForecasterRecursiveMultiSeries<br>Regressor: DummyRegressor<br>Function: ForecasterRecursiveMultiSeries_fit_series_is_dataframe_exog_is_dict<br>Function_hash: 225fcb6ba44356037af28b7a68f2ed15<br>Method: fit_series_is_dataframe_exog_is_dict<br>Datetime: 2025-08-26 08:11:40.163999<br>Python version: 3.12.11<br>skforecast version: 0.17.0<br>numpy version: 2.1.3<br>pandas version: 2.3.2<br>sklearn version: 1.6.1<br>lightgbm version: 4.6.0<br>Platform: Linux-6.11.0-1018-azure-x86_64-with-glibc2.39<br>Processor: x86_64<br>CPU count: 4<br>Memory (GB): 16.77<br>Run time avg: 2.051073 s<br>Run time median: 2.047073 s<br>Run time p95: 2.155925 s<br>Run time std: 0.079844 s<br>Nº repeats: 5"
         ],
         "type": "scatter",
         "visible": false,
         "x": {
          "bdata": "3FgxZrNfAEA+SfWpJi8AQH/ML1dhLgBASTcxmrAtAEATS+TWb+D/Pw==",
          "dtype": "f8"
         },
         "y": {
          "bdata": "mo9hGnEtAECzNUmXMqgAQM1WhExGegBAAK5pERrAAEAzfRYImWgAQA==",
          "dtype": "f8"
         }
        },
        {
         "error_y": {
          "array": {
           "bdata": "u6pD09r8RD/WOjKu64KbP1be+/LkoE0/YL3kXXIhnT8=",
           "dtype": "f8"
          },
          "color": "#636EFA",
          "thickness": 1.5,
          "type": "data",
          "visible": true,
          "width": 5
         },
         "hovertemplate": "%{text}<extra></extra>",
         "marker": {
          "color": "#636EFA",
          "line": {
           "color": "white",
           "width": 1
          },
          "opacity": 0.85,
          "size": 10
         },
         "mode": "markers",
         "text": [
          "Forecaster: ForecasterRecursiveMultiSeries<br>Regressor: DummyRegressor<br>Function: ForecasterRecursiveMultiSeries_check_predict_inputs<br>Function_hash: 1ba49feb05f0ff3c32cf3bbff4d6a52b<br>Method: check_predict_inputs<br>Datetime: 2025-08-26 09:18:18.729852<br>Python version: 3.12.11<br>skforecast version: 0.15.1<br>numpy version: 2.1.3<br>pandas version: 2.3.2<br>sklearn version: 1.6.1<br>lightgbm version: 4.6.0<br>Platform: Linux-6.11.0-1018-azure-x86_64-with-glibc2.39<br>Processor: x86_64<br>CPU count: 4<br>Memory (GB): 16.77<br>Run time avg: 0.256828 s<br>Run time median: 0.256713 s<br>Run time p95: 0.257849 s<br>Run time std: 0.000640 s<br>Nº repeats: 10",
          "Forecaster: ForecasterRecursiveMultiSeries<br>Regressor: DummyRegressor<br>Function: ForecasterRecursiveMultiSeries_check_predict_inputs<br>Function_hash: 1ba49feb05f0ff3c32cf3bbff4d6a52b<br>Method: check_predict_inputs<br>Datetime: 2025-08-26 09:34:20.121940<br>Python version: 3.12.11<br>skforecast version: 0.15.1<br>numpy version: 2.1.3<br>pandas version: 2.3.2<br>sklearn version: 1.6.1<br>lightgbm version: 4.6.0<br>Platform: Linux-6.11.0-1018-azure-x86_64-with-glibc2.39<br>Processor: x86_64<br>CPU count: 4<br>Memory (GB): 16.77<br>Run time avg: 0.268028 s<br>Run time median: 0.259251 s<br>Run time p95: 0.309103 s<br>Run time std: 0.026867 s<br>Nº repeats: 10",
          "Forecaster: ForecasterRecursiveMultiSeries<br>Regressor: DummyRegressor<br>Function: ForecasterRecursiveMultiSeries_check_predict_inputs<br>Function_hash: 1ba49feb05f0ff3c32cf3bbff4d6a52b<br>Method: check_predict_inputs<br>Datetime: 2025-08-26 09:47:10.794977<br>Python version: 3.12.11<br>skforecast version: 0.15.1<br>numpy version: 2.1.3<br>pandas version: 2.3.2<br>sklearn version: 1.6.1<br>lightgbm version: 4.6.0<br>Platform: Linux-6.11.0-1018-azure-x86_64-with-glibc2.39<br>Processor: x86_64<br>CPU count: 4<br>Memory (GB): 16.77<br>Run time avg: 0.255982 s<br>Run time median: 0.255836 s<br>Run time p95: 0.257424 s<br>Run time std: 0.000904 s<br>Nº repeats: 10",
          "Forecaster: ForecasterRecursiveMultiSeries<br>Regressor: DummyRegressor<br>Function: ForecasterRecursiveMultiSeries_check_predict_inputs<br>Function_hash: 1ba49feb05f0ff3c32cf3bbff4d6a52b<br>Method: check_predict_inputs<br>Datetime: 2025-08-26 10:10:45.009507<br>Python version: 3.12.11<br>skforecast version: 0.15.1<br>numpy version: 2.1.3<br>pandas version: 2.3.2<br>sklearn version: 1.6.1<br>lightgbm version: 4.6.0<br>Platform: Linux-6.11.0-1018-azure-x86_64-with-glibc2.39<br>Processor: x86_64<br>CPU count: 4<br>Memory (GB): 16.77<br>Run time avg: 0.269375 s<br>Run time median: 0.259891 s<br>Run time p95: 0.312537 s<br>Run time std: 0.028448 s<br>Nº repeats: 10"
         ],
         "type": "scatter",
         "visible": false,
         "x": {
          "bdata": "QGK6qZh8Vz9tfw1mGIOXvwihiVNUaI2/qBkryxNfmD8=",
          "dtype": "f8"
         },
         "y": {
          "bdata": "AOh8eN9v0D8zF6utXyfRP5qooNYAYtA/M8Em2nE90T8=",
          "dtype": "f8"
         }
        },
        {
         "error_y": {
          "array": {
           "bdata": "aCjOpiOJTz8qAOhtH1BYPwoXFfHLZ0w/FtZYHIZeUD8=",
           "dtype": "f8"
          },
          "color": "#EF553B",
          "thickness": 1.5,
          "type": "data",
          "visible": true,
          "width": 5
         },
         "hovertemplate": "%{text}<extra></extra>",
         "marker": {
          "color": "#EF553B",
          "line": {
           "color": "white",
           "width": 1
          },
          "opacity": 0.85,
          "size": 10
         },
         "mode": "markers",
         "text": [
          "Forecaster: ForecasterRecursiveMultiSeries<br>Regressor: DummyRegressor<br>Function: ForecasterRecursiveMultiSeries_check_predict_inputs<br>Function_hash: 1ba49feb05f0ff3c32cf3bbff4d6a52b<br>Method: check_predict_inputs<br>Datetime: 2025-08-26 08:31:06.902898<br>Python version: 3.12.11<br>skforecast version: 0.16.0<br>numpy version: 2.1.3<br>pandas version: 2.3.2<br>sklearn version: 1.6.1<br>lightgbm version: 4.6.0<br>Platform: Linux-6.11.0-1018-azure-x86_64-with-glibc2.39<br>Processor: x86_64<br>CPU count: 4<br>Memory (GB): 16.77<br>Run time avg: 0.063272 s<br>Run time median: 0.063066 s<br>Run time p95: 0.064722 s<br>Run time std: 0.000962 s<br>Nº repeats: 10",
          "Forecaster: ForecasterRecursiveMultiSeries<br>Regressor: DummyRegressor<br>Function: ForecasterRecursiveMultiSeries_check_predict_inputs<br>Function_hash: 1ba49feb05f0ff3c32cf3bbff4d6a52b<br>Method: check_predict_inputs<br>Datetime: 2025-08-26 08:40:59.894910<br>Python version: 3.12.11<br>skforecast version: 0.16.0<br>numpy version: 2.1.3<br>pandas version: 2.3.2<br>sklearn version: 1.6.1<br>lightgbm version: 4.6.0<br>Platform: Linux-6.11.0-1018-azure-x86_64-with-glibc2.39<br>Processor: x86_64<br>CPU count: 4<br>Memory (GB): 16.77<br>Run time avg: 0.061206 s<br>Run time median: 0.060735 s<br>Run time p95: 0.063709 s<br>Run time std: 0.001484 s<br>Nº repeats: 10",
          "Forecaster: ForecasterRecursiveMultiSeries<br>Regressor: DummyRegressor<br>Function: ForecasterRecursiveMultiSeries_check_predict_inputs<br>Function_hash: 1ba49feb05f0ff3c32cf3bbff4d6a52b<br>Method: check_predict_inputs<br>Datetime: 2025-08-26 08:55:16.198775<br>Python version: 3.12.11<br>skforecast version: 0.16.0<br>numpy version: 2.1.3<br>pandas version: 2.3.2<br>sklearn version: 1.6.1<br>lightgbm version: 4.6.0<br>Platform: Linux-6.11.0-1018-azure-x86_64-with-glibc2.39<br>Processor: x86_64<br>CPU count: 4<br>Memory (GB): 16.77<br>Run time avg: 0.062172 s<br>Run time median: 0.061910 s<br>Run time p95: 0.063723 s<br>Run time std: 0.000867 s<br>Nº repeats: 10",
          "Forecaster: ForecasterRecursiveMultiSeries<br>Regressor: DummyRegressor<br>Function: ForecasterRecursiveMultiSeries_check_predict_inputs<br>Function_hash: 1ba49feb05f0ff3c32cf3bbff4d6a52b<br>Method: check_predict_inputs<br>Datetime: 2025-08-26 09:05:40.046001<br>Python version: 3.12.11<br>skforecast version: 0.16.0<br>numpy version: 2.1.3<br>pandas version: 2.3.2<br>sklearn version: 1.6.1<br>lightgbm version: 4.6.0<br>Platform: Linux-6.11.0-1018-azure-x86_64-with-glibc2.39<br>Processor: x86_64<br>CPU count: 4<br>Memory (GB): 16.77<br>Run time avg: 0.065158 s<br>Run time median: 0.065125 s<br>Run time p95: 0.066400 s<br>Run time std: 0.000999 s<br>Nº repeats: 10"
         ],
         "type": "scatter",
         "visible": false,
         "x": {
          "bdata": "9n3bAVp27z/514IamnvvPxJvTe9aMfA/uI8oKiyH7j8=",
          "dtype": "f8"
         },
         "y": {
          "bdata": "ABCF65kysD8z+8Z/VFavPzMzEOoH1a8/ABCa8TausD8=",
          "dtype": "f8"
         }
        },
        {
         "error_y": {
          "array": {
           "bdata": "FL3tteGHUz/+QjV0oEFjPwVke8JxfVQ/2deozpwuSj+FKclGdmpUPw==",
           "dtype": "f8"
          },
          "color": "#00CC96",
          "thickness": 1.5,
          "type": "data",
          "visible": true,
          "width": 5
         },
         "hovertemplate": "%{text}<extra></extra>",
         "marker": {
          "color": "#00CC96",
          "line": {
           "color": "white",
           "width": 1
          },
          "opacity": 0.85,
          "size": 10
         },
         "mode": "markers",
         "text": [
          "Forecaster: ForecasterRecursiveMultiSeries<br>Regressor: DummyRegressor<br>Function: ForecasterRecursiveMultiSeries_check_predict_inputs<br>Function_hash: 1ba49feb05f0ff3c32cf3bbff4d6a52b<br>Method: check_predict_inputs<br>Datetime: 2025-08-26 07:01:37.853267<br>Python version: 3.12.11<br>skforecast version: 0.17.0<br>numpy version: 2.1.3<br>pandas version: 2.3.2<br>sklearn version: 1.6.1<br>lightgbm version: 4.6.0<br>Platform: Linux-6.11.0-1018-azure-x86_64-with-glibc2.39<br>Processor: x86_64<br>CPU count: 4<br>Memory (GB): 16.77<br>Run time avg: 0.061537 s<br>Run time median: 0.060986 s<br>Run time p95: 0.063754 s<br>Run time std: 0.001192 s<br>Nº repeats: 10",
          "Forecaster: ForecasterRecursiveMultiSeries<br>Regressor: DummyRegressor<br>Function: ForecasterRecursiveMultiSeries_check_predict_inputs<br>Function_hash: 1ba49feb05f0ff3c32cf3bbff4d6a52b<br>Method: check_predict_inputs<br>Datetime: 2025-08-26 07:14:30.410572<br>Python version: 3.12.11<br>skforecast version: 0.17.0<br>numpy version: 2.1.3<br>pandas version: 2.3.2<br>sklearn version: 1.6.1<br>lightgbm version: 4.6.0<br>Platform: Linux-6.11.0-1018-azure-x86_64-with-glibc2.39<br>Processor: x86_64<br>CPU count: 4<br>Memory (GB): 16.77<br>Run time avg: 0.063572 s<br>Run time median: 0.062510 s<br>Run time p95: 0.067644 s<br>Run time std: 0.002351 s<br>Nº repeats: 10",
          "Forecaster: ForecasterRecursiveMultiSeries<br>Regressor: DummyRegressor<br>Function: ForecasterRecursiveMultiSeries_check_predict_inputs<br>Function_hash: 1ba49feb05f0ff3c32cf3bbff4d6a52b<br>Method: check_predict_inputs<br>Datetime: 2025-08-26 07:33:00.434773<br>Python version: 3.12.11<br>skforecast version: 0.17.0<br>numpy version: 2.1.3<br>pandas version: 2.3.2<br>sklearn version: 1.6.1<br>lightgbm version: 4.6.0<br>Platform: Linux-6.11.0-1018-azure-x86_64-with-glibc2.39<br>Processor: x86_64<br>CPU count: 4<br>Memory (GB): 16.77<br>Run time avg: 0.061690 s<br>Run time median: 0.061135 s<br>Run time p95: 0.063818 s<br>Run time std: 0.001251 s<br>Nº repeats: 10",
          "Forecaster: ForecasterRecursiveMultiSeries<br>Regressor: DummyRegressor<br>Function: ForecasterRecursiveMultiSeries_check_predict_inputs<br>Function_hash: 1ba49feb05f0ff3c32cf3bbff4d6a52b<br>Method: check_predict_inputs<br>Datetime: 2025-08-26 07:45:40.823438<br>Python version: 3.12.11<br>skforecast version: 0.17.0<br>numpy version: 2.1.3<br>pandas version: 2.3.2<br>sklearn version: 1.6.1<br>lightgbm version: 4.6.0<br>Platform: Linux-6.11.0-1018-azure-x86_64-with-glibc2.39<br>Processor: x86_64<br>CPU count: 4<br>Memory (GB): 16.77<br>Run time avg: 0.062987 s<br>Run time median: 0.062785 s<br>Run time p95: 0.064493 s<br>Run time std: 0.000799 s<br>Nº repeats: 10",
          "Forecaster: ForecasterRecursiveMultiSeries<br>Regressor: DummyRegressor<br>Function: ForecasterRecursiveMultiSeries_check_predict_inputs<br>Function_hash: 1ba49feb05f0ff3c32cf3bbff4d6a52b<br>Method: check_predict_inputs<br>Datetime: 2025-08-26 08:11:43.126399<br>Python version: 3.12.11<br>skforecast version: 0.17.0<br>numpy version: 2.1.3<br>pandas version: 2.3.2<br>sklearn version: 1.6.1<br>lightgbm version: 4.6.0<br>Platform: Linux-6.11.0-1018-azure-x86_64-with-glibc2.39<br>Processor: x86_64<br>CPU count: 4<br>Memory (GB): 16.77<br>Run time avg: 0.061921 s<br>Run time median: 0.061496 s<br>Run time p95: 0.064112 s<br>Run time std: 0.001246 s<br>Nº repeats: 10"
         ],
         "type": "scatter",
         "visible": false,
         "x": {
          "bdata": "SXw1QsFiAEB9aeN8r4r/P+LhKr3nDgBA9SZH0yFbAECw9VlXRrf/Pw==",
          "dtype": "f8"
         },
         "y": {
          "bdata": "mllAibiBrz8AWCrDRkawP83cxqfQla8/Zvb/g+4fsD9mZuJFFbSvPw==",
          "dtype": "f8"
         }
        },
        {
         "error_y": {
          "array": {
           "bdata": "J7zEFlYKZz+sxNnlUglzP5K9FsusE3k/E0sFdjczbT8=",
           "dtype": "f8"
          },
          "color": "#636EFA",
          "thickness": 1.5,
          "type": "data",
          "visible": true,
          "width": 5
         },
         "hovertemplate": "%{text}<extra></extra>",
         "marker": {
          "color": "#636EFA",
          "line": {
           "color": "white",
           "width": 1
          },
          "opacity": 0.85,
          "size": 10
         },
         "mode": "markers",
         "text": [
          "Forecaster: ForecasterRecursiveMultiSeries<br>Regressor: DummyRegressor<br>Function: ForecasterRecursiveMultiSeries__create_predict_inputs_exog_is_dict<br>Function_hash: 83cdd92e8d778b9e48a83bc8d05b4aa1<br>Method: _create_predict_inputs_exog_is_dict<br>Datetime: 2025-08-26 09:18:33.754968<br>Python version: 3.12.11<br>skforecast version: 0.15.1<br>numpy version: 2.1.3<br>pandas version: 2.3.2<br>sklearn version: 1.6.1<br>lightgbm version: 4.6.0<br>Platform: Linux-6.11.0-1018-azure-x86_64-with-glibc2.39<br>Processor: x86_64<br>CPU count: 4<br>Memory (GB): 16.77<br>Run time avg: 1.501947 s<br>Run time median: 1.501077 s<br>Run time p95: 1.506667 s<br>Run time std: 0.002813 s<br>Nº repeats: 10",
          "Forecaster: ForecasterRecursiveMultiSeries<br>Regressor: DummyRegressor<br>Function: ForecasterRecursiveMultiSeries__create_predict_inputs_exog_is_dict<br>Function_hash: 83cdd92e8d778b9e48a83bc8d05b4aa1<br>Method: _create_predict_inputs_exog_is_dict<br>Datetime: 2025-08-26 09:34:35.169648<br>Python version: 3.12.11<br>skforecast version: 0.15.1<br>numpy version: 2.1.3<br>pandas version: 2.3.2<br>sklearn version: 1.6.1<br>lightgbm version: 4.6.0<br>Platform: Linux-6.11.0-1018-azure-x86_64-with-glibc2.39<br>Processor: x86_64<br>CPU count: 4<br>Memory (GB): 16.77<br>Run time avg: 1.504215 s<br>Run time median: 1.503808 s<br>Run time p95: 1.511998 s<br>Run time std: 0.004648 s<br>Nº repeats: 10",
          "Forecaster: ForecasterRecursiveMultiSeries<br>Regressor: DummyRegressor<br>Function: ForecasterRecursiveMultiSeries__create_predict_inputs_exog_is_dict<br>Function_hash: 83cdd92e8d778b9e48a83bc8d05b4aa1<br>Method: _create_predict_inputs_exog_is_dict<br>Datetime: 2025-08-26 09:47:25.902353<br>Python version: 3.12.11<br>skforecast version: 0.15.1<br>numpy version: 2.1.3<br>pandas version: 2.3.2<br>sklearn version: 1.6.1<br>lightgbm version: 4.6.0<br>Platform: Linux-6.11.0-1018-azure-x86_64-with-glibc2.39<br>Processor: x86_64<br>CPU count: 4<br>Memory (GB): 16.77<br>Run time avg: 1.510142 s<br>Run time median: 1.508711 s<br>Run time p95: 1.519234 s<br>Run time std: 0.006122 s<br>Nº repeats: 10",
          "Forecaster: ForecasterRecursiveMultiSeries<br>Regressor: DummyRegressor<br>Function: ForecasterRecursiveMultiSeries__create_predict_inputs_exog_is_dict<br>Function_hash: 83cdd92e8d778b9e48a83bc8d05b4aa1<br>Method: _create_predict_inputs_exog_is_dict<br>Datetime: 2025-08-26 10:11:00.113260<br>Python version: 3.12.11<br>skforecast version: 0.15.1<br>numpy version: 2.1.3<br>pandas version: 2.3.2<br>sklearn version: 1.6.1<br>lightgbm version: 4.6.0<br>Platform: Linux-6.11.0-1018-azure-x86_64-with-glibc2.39<br>Processor: x86_64<br>CPU count: 4<br>Memory (GB): 16.77<br>Run time avg: 1.509798 s<br>Run time median: 1.511103 s<br>Run time p95: 1.514249 s<br>Run time std: 0.003564 s<br>Nº repeats: 10"
         ],
         "type": "scatter",
         "visible": false,
         "x": {
          "bdata": "tC7F175Mpb9QCuPb0y2nv2DgzThpYoI/oLyFD3iIWT8=",
          "dtype": "f8"
         },
         "y": {
          "bdata": "s8L85/kH+D+zDGynQxH4P2ZaVV6KKfg/s6cT1CEo+D8=",
          "dtype": "f8"
         }
        },
        {
         "error_y": {
          "array": {
           "bdata": "rnhu5JrQqT9tyedy5umiP8L+MdcwJaQ/umO9TxCwpD8=",
           "dtype": "f8"
          },
          "color": "#EF553B",
          "thickness": 1.5,
          "type": "data",
          "visible": true,
          "width": 5
         },
         "hovertemplate": "%{text}<extra></extra>",
         "marker": {
          "color": "#EF553B",
          "line": {
           "color": "white",
           "width": 1
          },
          "opacity": 0.85,
          "size": 10
         },
         "mode": "markers",
         "text": [
          "Forecaster: ForecasterRecursiveMultiSeries<br>Regressor: DummyRegressor<br>Function: ForecasterRecursiveMultiSeries__create_predict_inputs_exog_is_dict<br>Function_hash: 83cdd92e8d778b9e48a83bc8d05b4aa1<br>Method: _create_predict_inputs_exog_is_dict<br>Datetime: 2025-08-26 08:31:09.389508<br>Python version: 3.12.11<br>skforecast version: 0.16.0<br>numpy version: 2.1.3<br>pandas version: 2.3.2<br>sklearn version: 1.6.1<br>lightgbm version: 4.6.0<br>Platform: Linux-6.11.0-1018-azure-x86_64-with-glibc2.39<br>Processor: x86_64<br>CPU count: 4<br>Memory (GB): 16.77<br>Run time avg: 0.248155 s<br>Run time median: 0.216601 s<br>Run time p95: 0.330280 s<br>Run time std: 0.050420 s<br>Nº repeats: 10",
          "Forecaster: ForecasterRecursiveMultiSeries<br>Regressor: DummyRegressor<br>Function: ForecasterRecursiveMultiSeries__create_predict_inputs_exog_is_dict<br>Function_hash: 83cdd92e8d778b9e48a83bc8d05b4aa1<br>Method: _create_predict_inputs_exog_is_dict<br>Datetime: 2025-08-26 08:41:02.197850<br>Python version: 3.12.11<br>skforecast version: 0.16.0<br>numpy version: 2.1.3<br>pandas version: 2.3.2<br>sklearn version: 1.6.1<br>lightgbm version: 4.6.0<br>Platform: Linux-6.11.0-1018-azure-x86_64-with-glibc2.39<br>Processor: x86_64<br>CPU count: 4<br>Memory (GB): 16.77<br>Run time avg: 0.229804 s<br>Run time median: 0.211582 s<br>Run time p95: 0.303887 s<br>Run time std: 0.036941 s<br>Nº repeats: 10",
          "Forecaster: ForecasterRecursiveMultiSeries<br>Regressor: DummyRegressor<br>Function: ForecasterRecursiveMultiSeries__create_predict_inputs_exog_is_dict<br>Function_hash: 83cdd92e8d778b9e48a83bc8d05b4aa1<br>Method: _create_predict_inputs_exog_is_dict<br>Datetime: 2025-08-26 08:55:18.534470<br>Python version: 3.12.11<br>skforecast version: 0.16.0<br>numpy version: 2.1.3<br>pandas version: 2.3.2<br>sklearn version: 1.6.1<br>lightgbm version: 4.6.0<br>Platform: Linux-6.11.0-1018-azure-x86_64-with-glibc2.39<br>Processor: x86_64<br>CPU count: 4<br>Memory (GB): 16.77<br>Run time avg: 0.233069 s<br>Run time median: 0.216169 s<br>Run time p95: 0.312006 s<br>Run time std: 0.039346 s<br>Nº repeats: 10",
          "Forecaster: ForecasterRecursiveMultiSeries<br>Regressor: DummyRegressor<br>Function: ForecasterRecursiveMultiSeries__create_predict_inputs_exog_is_dict<br>Function_hash: 83cdd92e8d778b9e48a83bc8d05b4aa1<br>Method: _create_predict_inputs_exog_is_dict<br>Datetime: 2025-08-26 09:05:42.454559<br>Python version: 3.12.11<br>skforecast version: 0.16.0<br>numpy version: 2.1.3<br>pandas version: 2.3.2<br>sklearn version: 1.6.1<br>lightgbm version: 4.6.0<br>Platform: Linux-6.11.0-1018-azure-x86_64-with-glibc2.39<br>Processor: x86_64<br>CPU count: 4<br>Memory (GB): 16.77<br>Run time avg: 0.240306 s<br>Run time median: 0.220622 s<br>Run time p95: 0.321180 s<br>Run time std: 0.040406 s<br>Nº repeats: 10"
         ],
         "type": "scatter",
         "visible": false,
         "x": {
          "bdata": "TM7mxkJI8D/9NXoYAUjvP5jNWDYOovA/YFoJKqbj7z8=",
          "dtype": "f8"
         },
         "y": {
          "bdata": "M+sR0Y3Dzz8AHOjMNmrNP2bGcbsz1c0/zaaCGlbCzj8=",
          "dtype": "f8"
         }
        },
        {
         "error_y": {
          "array": {
           "bdata": "xrB+E1UapT+EPwEsv16oPw07ERFEQ6U/ja3UDCBrqT9k+In3OuKlPw==",
           "dtype": "f8"
          },
          "color": "#00CC96",
          "thickness": 1.5,
          "type": "data",
          "visible": true,
          "width": 5
         },
         "hovertemplate": "%{text}<extra></extra>",
         "marker": {
          "color": "#00CC96",
          "line": {
           "color": "white",
           "width": 1
          },
          "opacity": 0.85,
          "size": 10
         },
         "mode": "markers",
         "text": [
          "Forecaster: ForecasterRecursiveMultiSeries<br>Regressor: DummyRegressor<br>Function: ForecasterRecursiveMultiSeries__create_predict_inputs_exog_is_dict<br>Function_hash: 83cdd92e8d778b9e48a83bc8d05b4aa1<br>Method: _create_predict_inputs_exog_is_dict<br>Datetime: 2025-08-26 07:01:40.168655<br>Python version: 3.12.11<br>skforecast version: 0.17.0<br>numpy version: 2.1.3<br>pandas version: 2.3.2<br>sklearn version: 1.6.1<br>lightgbm version: 4.6.0<br>Platform: Linux-6.11.0-1018-azure-x86_64-with-glibc2.39<br>Processor: x86_64<br>CPU count: 4<br>Memory (GB): 16.77<br>Run time avg: 0.231142 s<br>Run time median: 0.210658 s<br>Run time p95: 0.313974 s<br>Run time std: 0.041217 s<br>Nº repeats: 10",
          "Forecaster: ForecasterRecursiveMultiSeries<br>Regressor: DummyRegressor<br>Function: ForecasterRecursiveMultiSeries__create_predict_inputs_exog_is_dict<br>Function_hash: 83cdd92e8d778b9e48a83bc8d05b4aa1<br>Method: _create_predict_inputs_exog_is_dict<br>Datetime: 2025-08-26 07:14:32.795689<br>Python version: 3.12.11<br>skforecast version: 0.17.0<br>numpy version: 2.1.3<br>pandas version: 2.3.2<br>sklearn version: 1.6.1<br>lightgbm version: 4.6.0<br>Platform: Linux-6.11.0-1018-azure-x86_64-with-glibc2.39<br>Processor: x86_64<br>CPU count: 4<br>Memory (GB): 16.77<br>Run time avg: 0.238084 s<br>Run time median: 0.214531 s<br>Run time p95: 0.333440 s<br>Run time std: 0.047598 s<br>Nº repeats: 10",
          "Forecaster: ForecasterRecursiveMultiSeries<br>Regressor: DummyRegressor<br>Function: ForecasterRecursiveMultiSeries__create_predict_inputs_exog_is_dict<br>Function_hash: 83cdd92e8d778b9e48a83bc8d05b4aa1<br>Method: _create_predict_inputs_exog_is_dict<br>Datetime: 2025-08-26 07:33:02.761340<br>Python version: 3.12.11<br>skforecast version: 0.17.0<br>numpy version: 2.1.3<br>pandas version: 2.3.2<br>sklearn version: 1.6.1<br>lightgbm version: 4.6.0<br>Platform: Linux-6.11.0-1018-azure-x86_64-with-glibc2.39<br>Processor: x86_64<br>CPU count: 4<br>Memory (GB): 16.77<br>Run time avg: 0.232213 s<br>Run time median: 0.211952 s<br>Run time p95: 0.315442 s<br>Run time std: 0.041529 s<br>Nº repeats: 10",
          "Forecaster: ForecasterRecursiveMultiSeries<br>Regressor: DummyRegressor<br>Function: ForecasterRecursiveMultiSeries__create_predict_inputs_exog_is_dict<br>Function_hash: 83cdd92e8d778b9e48a83bc8d05b4aa1<br>Method: _create_predict_inputs_exog_is_dict<br>Datetime: 2025-08-26 07:45:43.230752<br>Python version: 3.12.11<br>skforecast version: 0.17.0<br>numpy version: 2.1.3<br>pandas version: 2.3.2<br>sklearn version: 1.6.1<br>lightgbm version: 4.6.0<br>Platform: Linux-6.11.0-1018-azure-x86_64-with-glibc2.39<br>Processor: x86_64<br>CPU count: 4<br>Memory (GB): 16.77<br>Run time avg: 0.240244 s<br>Run time median: 0.215880 s<br>Run time p95: 0.339647 s<br>Run time std: 0.049645 s<br>Nº repeats: 10",
          "Forecaster: ForecasterRecursiveMultiSeries<br>Regressor: DummyRegressor<br>Function: ForecasterRecursiveMultiSeries__create_predict_inputs_exog_is_dict<br>Function_hash: 83cdd92e8d778b9e48a83bc8d05b4aa1<br>Method: _create_predict_inputs_exog_is_dict<br>Datetime: 2025-08-26 08:11:45.466675<br>Python version: 3.12.11<br>skforecast version: 0.17.0<br>numpy version: 2.1.3<br>pandas version: 2.3.2<br>sklearn version: 1.6.1<br>lightgbm version: 4.6.0<br>Platform: Linux-6.11.0-1018-azure-x86_64-with-glibc2.39<br>Processor: x86_64<br>CPU count: 4<br>Memory (GB): 16.77<br>Run time avg: 0.233559 s<br>Run time median: 0.212579 s<br>Run time p95: 0.319153 s<br>Run time std: 0.042742 s<br>Nº repeats: 10"
         ],
         "type": "scatter",
         "visible": false,
         "x": {
          "bdata": "VFLXm9vm/z/esJT52bf/P3jY8N//PABAN1jFOBpx/z/I5aCEGdr/Pw==",
          "dtype": "f8"
         },
         "y": {
          "bdata": "Zk5PEQ2WzT/NmD3yhnnOP81Y0KQruc0/zSalDlTAzj9m/ptXQuXNPw==",
          "dtype": "f8"
         }
        },
        {
         "error_y": {
          "array": {
           "bdata": "YjCkWht2qT88lScWkhquP95WT+2uX6s//g0BLxdPrz9XZdyst/msPw==",
           "dtype": "f8"
          },
          "color": "#00CC96",
          "thickness": 1.5,
          "type": "data",
          "visible": true,
          "width": 5
         },
         "hovertemplate": "%{text}<extra></extra>",
         "marker": {
          "color": "#00CC96",
          "line": {
           "color": "white",
           "width": 1
          },
          "opacity": 0.85,
          "size": 10
         },
         "mode": "markers",
         "text": [
          "Forecaster: ForecasterRecursiveMultiSeries<br>Regressor: DummyRegressor<br>Function: ForecasterRecursiveMultiSeries__create_predict_inputs_exog_is_df_long<br>Function_hash: 61d50fcbf09fd65a8d12d39705a591c1<br>Method: _create_predict_inputs_exog_is_df_long<br>Datetime: 2025-08-26 07:01:44.350613<br>Python version: 3.12.11<br>skforecast version: 0.17.0<br>numpy version: 2.1.3<br>pandas version: 2.3.2<br>sklearn version: 1.6.1<br>lightgbm version: 4.6.0<br>Platform: Linux-6.11.0-1018-azure-x86_64-with-glibc2.39<br>Processor: x86_64<br>CPU count: 4<br>Memory (GB): 16.77<br>Run time avg: 0.417798 s<br>Run time median: 0.379224 s<br>Run time p95: 0.483257 s<br>Run time std: 0.049729 s<br>Nº repeats: 10",
          "Forecaster: ForecasterRecursiveMultiSeries<br>Regressor: DummyRegressor<br>Function: ForecasterRecursiveMultiSeries__create_predict_inputs_exog_is_df_long<br>Function_hash: 61d50fcbf09fd65a8d12d39705a591c1<br>Method: _create_predict_inputs_exog_is_df_long<br>Datetime: 2025-08-26 07:14:37.123456<br>Python version: 3.12.11<br>skforecast version: 0.17.0<br>numpy version: 2.1.3<br>pandas version: 2.3.2<br>sklearn version: 1.6.1<br>lightgbm version: 4.6.0<br>Platform: Linux-6.11.0-1018-azure-x86_64-with-glibc2.39<br>Processor: x86_64<br>CPU count: 4<br>Memory (GB): 16.77<br>Run time avg: 0.432332 s<br>Run time median: 0.385313 s<br>Run time p95: 0.506849 s<br>Run time std: 0.058796 s<br>Nº repeats: 10",
          "Forecaster: ForecasterRecursiveMultiSeries<br>Regressor: DummyRegressor<br>Function: ForecasterRecursiveMultiSeries__create_predict_inputs_exog_is_df_long<br>Function_hash: 61d50fcbf09fd65a8d12d39705a591c1<br>Method: _create_predict_inputs_exog_is_df_long<br>Datetime: 2025-08-26 07:33:07.025339<br>Python version: 3.12.11<br>skforecast version: 0.17.0<br>numpy version: 2.1.3<br>pandas version: 2.3.2<br>sklearn version: 1.6.1<br>lightgbm version: 4.6.0<br>Platform: Linux-6.11.0-1018-azure-x86_64-with-glibc2.39<br>Processor: x86_64<br>CPU count: 4<br>Memory (GB): 16.77<br>Run time avg: 0.425961 s<br>Run time median: 0.383428 s<br>Run time p95: 0.493978 s<br>Run time std: 0.053464 s<br>Nº repeats: 10",
          "Forecaster: ForecasterRecursiveMultiSeries<br>Regressor: DummyRegressor<br>Function: ForecasterRecursiveMultiSeries__create_predict_inputs_exog_is_df_long<br>Function_hash: 61d50fcbf09fd65a8d12d39705a591c1<br>Method: _create_predict_inputs_exog_is_df_long<br>Datetime: 2025-08-26 07:45:47.580818<br>Python version: 3.12.11<br>skforecast version: 0.17.0<br>numpy version: 2.1.3<br>pandas version: 2.3.2<br>sklearn version: 1.6.1<br>lightgbm version: 4.6.0<br>Platform: Linux-6.11.0-1018-azure-x86_64-with-glibc2.39<br>Processor: x86_64<br>CPU count: 4<br>Memory (GB): 16.77<br>Run time avg: 0.434552 s<br>Run time median: 0.386467 s<br>Run time p95: 0.519571 s<br>Run time std: 0.061150 s<br>Nº repeats: 10",
          "Forecaster: ForecasterRecursiveMultiSeries<br>Regressor: DummyRegressor<br>Function: ForecasterRecursiveMultiSeries__create_predict_inputs_exog_is_df_long<br>Function_hash: 61d50fcbf09fd65a8d12d39705a591c1<br>Method: _create_predict_inputs_exog_is_df_long<br>Datetime: 2025-08-26 08:11:49.748357<br>Python version: 3.12.11<br>skforecast version: 0.17.0<br>numpy version: 2.1.3<br>pandas version: 2.3.2<br>sklearn version: 1.6.1<br>lightgbm version: 4.6.0<br>Platform: Linux-6.11.0-1018-azure-x86_64-with-glibc2.39<br>Processor: x86_64<br>CPU count: 4<br>Memory (GB): 16.77<br>Run time avg: 0.427716 s<br>Run time median: 0.387769 s<br>Run time p95: 0.503904 s<br>Run time std: 0.056593 s<br>Nº repeats: 10"
         ],
         "type": "scatter",
         "visible": false,
         "x": {
          "bdata": "I+zctslUAEAzMIrvTQ4AQLPl1ddeLgBAShxbw0oJAECk6GkCITUAQA==",
          "dtype": "f8"
         },
         "y": {
          "bdata": "zRydVDS92j8zy6EIU6vbP822gQXwQts/MwB9XbHP2z8z62zXs1/bPw==",
          "dtype": "f8"
         }
        },
        {
         "error_y": {
          "array": {
           "bdata": "iOpqQGmHYz++4TJILUVPPw5kVN8BZ0g/K39dCJjITT8DrZ54cstQPw==",
           "dtype": "f8"
          },
          "color": "#00CC96",
          "thickness": 1.5,
          "type": "data",
          "visible": true,
          "width": 5
         },
         "hovertemplate": "%{text}<extra></extra>",
         "marker": {
          "color": "#00CC96",
          "line": {
           "color": "white",
           "width": 1
          },
          "opacity": 0.85,
          "size": 10
         },
         "mode": "markers",
         "text": [
          "Forecaster: ForecasterRecursiveMultiSeries<br>Regressor: DummyRegressor<br>Function: ForecasterRecursiveMultiSeries__create_predict_inputs_exog_is_df_wide<br>Function_hash: c87d67f05cf35fbeac7206fd00f94b2d<br>Method: _create_predict_inputs_exog_is_df_wide<br>Datetime: 2025-08-26 07:01:47.832982<br>Python version: 3.12.11<br>skforecast version: 0.17.0<br>numpy version: 2.1.3<br>pandas version: 2.3.2<br>sklearn version: 1.6.1<br>lightgbm version: 4.6.0<br>Platform: Linux-6.11.0-1018-azure-x86_64-with-glibc2.39<br>Processor: x86_64<br>CPU count: 4<br>Memory (GB): 16.77<br>Run time avg: 0.110175 s<br>Run time median: 0.109210 s<br>Run time p95: 0.114647 s<br>Run time std: 0.002384 s<br>Nº repeats: 10",
          "Forecaster: ForecasterRecursiveMultiSeries<br>Regressor: DummyRegressor<br>Function: ForecasterRecursiveMultiSeries__create_predict_inputs_exog_is_df_wide<br>Function_hash: c87d67f05cf35fbeac7206fd00f94b2d<br>Method: _create_predict_inputs_exog_is_df_wide<br>Datetime: 2025-08-26 07:14:40.673150<br>Python version: 3.12.11<br>skforecast version: 0.17.0<br>numpy version: 2.1.3<br>pandas version: 2.3.2<br>sklearn version: 1.6.1<br>lightgbm version: 4.6.0<br>Platform: Linux-6.11.0-1018-azure-x86_64-with-glibc2.39<br>Processor: x86_64<br>CPU count: 4<br>Memory (GB): 16.77<br>Run time avg: 0.109003 s<br>Run time median: 0.108741 s<br>Run time p95: 0.110682 s<br>Run time std: 0.000954 s<br>Nº repeats: 10",
          "Forecaster: ForecasterRecursiveMultiSeries<br>Regressor: DummyRegressor<br>Function: ForecasterRecursiveMultiSeries__create_predict_inputs_exog_is_df_wide<br>Function_hash: c87d67f05cf35fbeac7206fd00f94b2d<br>Method: _create_predict_inputs_exog_is_df_wide<br>Datetime: 2025-08-26 07:33:10.519411<br>Python version: 3.12.11<br>skforecast version: 0.17.0<br>numpy version: 2.1.3<br>pandas version: 2.3.2<br>sklearn version: 1.6.1<br>lightgbm version: 4.6.0<br>Platform: Linux-6.11.0-1018-azure-x86_64-with-glibc2.39<br>Processor: x86_64<br>CPU count: 4<br>Memory (GB): 16.77<br>Run time avg: 0.108919 s<br>Run time median: 0.108667 s<br>Run time p95: 0.110226 s<br>Run time std: 0.000745 s<br>Nº repeats: 10",
          "Forecaster: ForecasterRecursiveMultiSeries<br>Regressor: DummyRegressor<br>Function: ForecasterRecursiveMultiSeries__create_predict_inputs_exog_is_df_wide<br>Function_hash: c87d67f05cf35fbeac7206fd00f94b2d<br>Method: _create_predict_inputs_exog_is_df_wide<br>Datetime: 2025-08-26 07:45:51.170809<br>Python version: 3.12.11<br>skforecast version: 0.17.0<br>numpy version: 2.1.3<br>pandas version: 2.3.2<br>sklearn version: 1.6.1<br>lightgbm version: 4.6.0<br>Platform: Linux-6.11.0-1018-azure-x86_64-with-glibc2.39<br>Processor: x86_64<br>CPU count: 4<br>Memory (GB): 16.77<br>Run time avg: 0.112002 s<br>Run time median: 0.111888 s<br>Run time p95: 0.113532 s<br>Run time std: 0.000909 s<br>Nº repeats: 10",
          "Forecaster: ForecasterRecursiveMultiSeries<br>Regressor: DummyRegressor<br>Function: ForecasterRecursiveMultiSeries__create_predict_inputs_exog_is_df_wide<br>Function_hash: c87d67f05cf35fbeac7206fd00f94b2d<br>Method: _create_predict_inputs_exog_is_df_wide<br>Datetime: 2025-08-26 08:11:53.267348<br>Python version: 3.12.11<br>skforecast version: 0.17.0<br>numpy version: 2.1.3<br>pandas version: 2.3.2<br>sklearn version: 1.6.1<br>lightgbm version: 4.6.0<br>Platform: Linux-6.11.0-1018-azure-x86_64-with-glibc2.39<br>Processor: x86_64<br>CPU count: 4<br>Memory (GB): 16.77<br>Run time avg: 0.110044 s<br>Run time median: 0.109679 s<br>Run time p95: 0.111775 s<br>Run time std: 0.001025 s<br>Nº repeats: 10"
         ],
         "type": "scatter",
         "visible": false,
         "x": {
          "bdata": "CkuowTZz/z8S+qaQHTf/P8JLy6xelf8/hd/D80sHAEDeTy8wf6f/Pw==",
          "dtype": "f8"
         },
         "y": {
          "bdata": "mtmXJmg0vD9mXsPzpue7P5qB/JMZ4rs/mv0r1CesvD9mhhzK2iu8Pw==",
          "dtype": "f8"
         }
        },
        {
         "error_y": {
          "array": {
           "bdata": "iguAOWQeoj/h6j2tYo2lPwIBZAXKuKg/Cfm06/fopj8=",
           "dtype": "f8"
          },
          "color": "#636EFA",
          "thickness": 1.5,
          "type": "data",
          "visible": true,
          "width": 5
         },
         "hovertemplate": "%{text}<extra></extra>",
         "marker": {
          "color": "#636EFA",
          "line": {
           "color": "white",
           "width": 1
          },
          "opacity": 0.85,
          "size": 10
         },
         "mode": "markers",
         "text": [
          "Forecaster: ForecasterRecursiveMultiSeries<br>Regressor: DummyRegressor<br>Function: ForecasterRecursiveMultiSeries_predict_exog_is_dict<br>Function_hash: 8626a423a7a4e5854c2626dd17722504<br>Method: predict_exog_is_dict<br>Datetime: 2025-08-26 09:18:49.552517<br>Python version: 3.12.11<br>skforecast version: 0.15.1<br>numpy version: 2.1.3<br>pandas version: 2.3.2<br>sklearn version: 1.6.1<br>lightgbm version: 4.6.0<br>Platform: Linux-6.11.0-1018-azure-x86_64-with-glibc2.39<br>Processor: x86_64<br>CPU count: 4<br>Memory (GB): 16.77<br>Run time avg: 1.579206 s<br>Run time median: 1.569598 s<br>Run time p95: 1.634275 s<br>Run time std: 0.035388 s<br>Nº repeats: 10",
          "Forecaster: ForecasterRecursiveMultiSeries<br>Regressor: DummyRegressor<br>Function: ForecasterRecursiveMultiSeries_predict_exog_is_dict<br>Function_hash: 8626a423a7a4e5854c2626dd17722504<br>Method: predict_exog_is_dict<br>Datetime: 2025-08-26 09:34:51.070536<br>Python version: 3.12.11<br>skforecast version: 0.15.1<br>numpy version: 2.1.3<br>pandas version: 2.3.2<br>sklearn version: 1.6.1<br>lightgbm version: 4.6.0<br>Platform: Linux-6.11.0-1018-azure-x86_64-with-glibc2.39<br>Processor: x86_64<br>CPU count: 4<br>Memory (GB): 16.77<br>Run time avg: 1.589536 s<br>Run time median: 1.577805 s<br>Run time p95: 1.653993 s<br>Run time std: 0.042094 s<br>Nº repeats: 10",
          "Forecaster: ForecasterRecursiveMultiSeries<br>Regressor: DummyRegressor<br>Function: ForecasterRecursiveMultiSeries_predict_exog_is_dict<br>Function_hash: 8626a423a7a4e5854c2626dd17722504<br>Method: predict_exog_is_dict<br>Datetime: 2025-08-26 09:47:41.877380<br>Python version: 3.12.11<br>skforecast version: 0.15.1<br>numpy version: 2.1.3<br>pandas version: 2.3.2<br>sklearn version: 1.6.1<br>lightgbm version: 4.6.0<br>Platform: Linux-6.11.0-1018-azure-x86_64-with-glibc2.39<br>Processor: x86_64<br>CPU count: 4<br>Memory (GB): 16.77<br>Run time avg: 1.596939 s<br>Run time median: 1.578284 s<br>Run time p95: 1.679329 s<br>Run time std: 0.048285 s<br>Nº repeats: 10",
          "Forecaster: ForecasterRecursiveMultiSeries<br>Regressor: DummyRegressor<br>Function: ForecasterRecursiveMultiSeries_predict_exog_is_dict<br>Function_hash: 8626a423a7a4e5854c2626dd17722504<br>Method: predict_exog_is_dict<br>Datetime: 2025-08-26 10:11:16.123461<br>Python version: 3.12.11<br>skforecast version: 0.15.1<br>numpy version: 2.1.3<br>pandas version: 2.3.2<br>sklearn version: 1.6.1<br>lightgbm version: 4.6.0<br>Platform: Linux-6.11.0-1018-azure-x86_64-with-glibc2.39<br>Processor: x86_64<br>CPU count: 4<br>Memory (GB): 16.77<br>Run time avg: 1.600454 s<br>Run time median: 1.587964 s<br>Run time p95: 1.670410 s<br>Run time std: 0.044746 s<br>Nº repeats: 10"
         ],
         "type": "scatter",
         "visible": false,
         "x": {
          "bdata": "ABWPqVldVr8EEr4+kfeXP9Q9eNU7LJA/KmYK/COOpb8=",
          "dtype": "f8"
         },
         "y": {
          "bdata": "gM54OW1E+T9m6qnDvW75P80epPgPjfk/s3pvHXab+T8=",
          "dtype": "f8"
         }
        },
        {
         "error_y": {
          "array": {
           "bdata": "62SRbJH7pD8ZR6dwm9ekP3FirDaIlqc/1D1urmwOpj8=",
           "dtype": "f8"
          },
          "color": "#EF553B",
          "thickness": 1.5,
          "type": "data",
          "visible": true,
          "width": 5
         },
         "hovertemplate": "%{text}<extra></extra>",
         "marker": {
          "color": "#EF553B",
          "line": {
           "color": "white",
           "width": 1
          },
          "opacity": 0.85,
          "size": 10
         },
         "mode": "markers",
         "text": [
          "Forecaster: ForecasterRecursiveMultiSeries<br>Regressor: DummyRegressor<br>Function: ForecasterRecursiveMultiSeries_predict_exog_is_dict<br>Function_hash: 8626a423a7a4e5854c2626dd17722504<br>Method: predict_exog_is_dict<br>Datetime: 2025-08-26 08:31:12.405044<br>Python version: 3.12.11<br>skforecast version: 0.16.0<br>numpy version: 2.1.3<br>pandas version: 2.3.2<br>sklearn version: 1.6.1<br>lightgbm version: 4.6.0<br>Platform: Linux-6.11.0-1018-azure-x86_64-with-glibc2.39<br>Processor: x86_64<br>CPU count: 4<br>Memory (GB): 16.77<br>Run time avg: 0.301051 s<br>Run time median: 0.280874 s<br>Run time p95: 0.383265 s<br>Run time std: 0.040982 s<br>Nº repeats: 10",
          "Forecaster: ForecasterRecursiveMultiSeries<br>Regressor: DummyRegressor<br>Function: ForecasterRecursiveMultiSeries_predict_exog_is_dict<br>Function_hash: 8626a423a7a4e5854c2626dd17722504<br>Method: predict_exog_is_dict<br>Datetime: 2025-08-26 08:41:05.171181<br>Python version: 3.12.11<br>skforecast version: 0.16.0<br>numpy version: 2.1.3<br>pandas version: 2.3.2<br>sklearn version: 1.6.1<br>lightgbm version: 4.6.0<br>Platform: Linux-6.11.0-1018-azure-x86_64-with-glibc2.39<br>Processor: x86_64<br>CPU count: 4<br>Memory (GB): 16.77<br>Run time avg: 0.296850 s<br>Run time median: 0.277266 s<br>Run time p95: 0.378740 s<br>Run time std: 0.040707 s<br>Nº repeats: 10",
          "Forecaster: ForecasterRecursiveMultiSeries<br>Regressor: DummyRegressor<br>Function: ForecasterRecursiveMultiSeries_predict_exog_is_dict<br>Function_hash: 8626a423a7a4e5854c2626dd17722504<br>Method: predict_exog_is_dict<br>Datetime: 2025-08-26 08:55:21.537173<br>Python version: 3.12.11<br>skforecast version: 0.16.0<br>numpy version: 2.1.3<br>pandas version: 2.3.2<br>sklearn version: 1.6.1<br>lightgbm version: 4.6.0<br>Platform: Linux-6.11.0-1018-azure-x86_64-with-glibc2.39<br>Processor: x86_64<br>CPU count: 4<br>Memory (GB): 16.77<br>Run time avg: 0.299780 s<br>Run time median: 0.277580 s<br>Run time p95: 0.392370 s<br>Run time std: 0.046070 s<br>Nº repeats: 10",
          "Forecaster: ForecasterRecursiveMultiSeries<br>Regressor: DummyRegressor<br>Function: ForecasterRecursiveMultiSeries_predict_exog_is_dict<br>Function_hash: 8626a423a7a4e5854c2626dd17722504<br>Method: predict_exog_is_dict<br>Datetime: 2025-08-26 09:05:45.537437<br>Python version: 3.12.11<br>skforecast version: 0.16.0<br>numpy version: 2.1.3<br>pandas version: 2.3.2<br>sklearn version: 1.6.1<br>lightgbm version: 4.6.0<br>Platform: Linux-6.11.0-1018-azure-x86_64-with-glibc2.39<br>Processor: x86_64<br>CPU count: 4<br>Memory (GB): 16.77<br>Run time avg: 0.307767 s<br>Run time median: 0.286469 s<br>Run time p95: 0.394091 s<br>Run time std: 0.043079 s<br>Nº repeats: 10"
         ],
         "type": "scatter",
         "visible": false,
         "x": {
          "bdata": "6B+dlj1M7z8e7dvywzrvPwWqB03LrvA/6rbdN0uG7j8=",
          "dtype": "f8"
         },
         "y": {
          "bdata": "M5mX52tE0z/NpzbFlv/SP81MHWCZL9M/ZipPXnSy0z8=",
          "dtype": "f8"
         }
        },
        {
         "error_y": {
          "array": {
           "bdata": "I7Sx1nqEpT+cmPd+NummPzJfWMvSmaU/vpBbEmKZqD+Q31z3/jyqPw==",
           "dtype": "f8"
          },
          "color": "#00CC96",
          "thickness": 1.5,
          "type": "data",
          "visible": true,
          "width": 5
         },
         "hovertemplate": "%{text}<extra></extra>",
         "marker": {
          "color": "#00CC96",
          "line": {
           "color": "white",
           "width": 1
          },
          "opacity": 0.85,
          "size": 10
         },
         "mode": "markers",
         "text": [
          "Forecaster: ForecasterRecursiveMultiSeries<br>Regressor: DummyRegressor<br>Function: ForecasterRecursiveMultiSeries_predict_exog_is_dict<br>Function_hash: 8626a423a7a4e5854c2626dd17722504<br>Method: predict_exog_is_dict<br>Datetime: 2025-08-26 07:01:50.809674<br>Python version: 3.12.11<br>skforecast version: 0.17.0<br>numpy version: 2.1.3<br>pandas version: 2.3.2<br>sklearn version: 1.6.1<br>lightgbm version: 4.6.0<br>Platform: Linux-6.11.0-1018-azure-x86_64-with-glibc2.39<br>Processor: x86_64<br>CPU count: 4<br>Memory (GB): 16.77<br>Run time avg: 0.297276 s<br>Run time median: 0.276100 s<br>Run time p95: 0.381392 s<br>Run time std: 0.042026 s<br>Nº repeats: 10",
          "Forecaster: ForecasterRecursiveMultiSeries<br>Regressor: DummyRegressor<br>Function: ForecasterRecursiveMultiSeries_predict_exog_is_dict<br>Function_hash: 8626a423a7a4e5854c2626dd17722504<br>Method: predict_exog_is_dict<br>Datetime: 2025-08-26 07:14:43.692721<br>Python version: 3.12.11<br>skforecast version: 0.17.0<br>numpy version: 2.1.3<br>pandas version: 2.3.2<br>sklearn version: 1.6.1<br>lightgbm version: 4.6.0<br>Platform: Linux-6.11.0-1018-azure-x86_64-with-glibc2.39<br>Processor: x86_64<br>CPU count: 4<br>Memory (GB): 16.77<br>Run time avg: 0.301538 s<br>Run time median: 0.280009 s<br>Run time p95: 0.391199 s<br>Run time std: 0.044748 s<br>Nº repeats: 10",
          "Forecaster: ForecasterRecursiveMultiSeries<br>Regressor: DummyRegressor<br>Function: ForecasterRecursiveMultiSeries_predict_exog_is_dict<br>Function_hash: 8626a423a7a4e5854c2626dd17722504<br>Method: predict_exog_is_dict<br>Datetime: 2025-08-26 07:33:13.494100<br>Python version: 3.12.11<br>skforecast version: 0.17.0<br>numpy version: 2.1.3<br>pandas version: 2.3.2<br>sklearn version: 1.6.1<br>lightgbm version: 4.6.0<br>Platform: Linux-6.11.0-1018-azure-x86_64-with-glibc2.39<br>Processor: x86_64<br>CPU count: 4<br>Memory (GB): 16.77<br>Run time avg: 0.297037 s<br>Run time median: 0.276677 s<br>Run time p95: 0.381452 s<br>Run time std: 0.042189 s<br>Nº repeats: 10",
          "Forecaster: ForecasterRecursiveMultiSeries<br>Regressor: DummyRegressor<br>Function: ForecasterRecursiveMultiSeries_predict_exog_is_dict<br>Function_hash: 8626a423a7a4e5854c2626dd17722504<br>Method: predict_exog_is_dict<br>Datetime: 2025-08-26 07:45:54.248236<br>Python version: 3.12.11<br>skforecast version: 0.17.0<br>numpy version: 2.1.3<br>pandas version: 2.3.2<br>sklearn version: 1.6.1<br>lightgbm version: 4.6.0<br>Platform: Linux-6.11.0-1018-azure-x86_64-with-glibc2.39<br>Processor: x86_64<br>CPU count: 4<br>Memory (GB): 16.77<br>Run time avg: 0.307268 s<br>Run time median: 0.282178 s<br>Run time p95: 0.403218 s<br>Run time std: 0.048045 s<br>Nº repeats: 10",
          "Forecaster: ForecasterRecursiveMultiSeries<br>Regressor: DummyRegressor<br>Function: ForecasterRecursiveMultiSeries_predict_exog_is_dict<br>Function_hash: 8626a423a7a4e5854c2626dd17722504<br>Method: predict_exog_is_dict<br>Datetime: 2025-08-26 08:11:56.300137<br>Python version: 3.12.11<br>skforecast version: 0.17.0<br>numpy version: 2.1.3<br>pandas version: 2.3.2<br>sklearn version: 1.6.1<br>lightgbm version: 4.6.0<br>Platform: Linux-6.11.0-1018-azure-x86_64-with-glibc2.39<br>Processor: x86_64<br>CPU count: 4<br>Memory (GB): 16.77<br>Run time avg: 0.302811 s<br>Run time median: 0.278812 s<br>Run time p95: 0.405894 s<br>Run time std: 0.051247 s<br>Nº repeats: 10"
         ],
         "type": "scatter",
         "visible": false,
         "x": {
          "bdata": "Sw3bGL+r/z8pCnrLcW//P7bese+vNQBAAkGg49ERAEB9hypdO7T/Pw==",
          "dtype": "f8"
         },
         "y": {
          "bdata": "MyOJYpEG0z9mpmLOZ0zTP2ZChQCnAtM/zcRHDEaq0z8AUEzLQWHTPw==",
          "dtype": "f8"
         }
        },
        {
         "error_y": {
          "array": {
           "bdata": "C5+Tnk90pz+LxqulAnWyP+ns1oe8cak/vf/eQSsuqz/7M27gA4KuPw==",
           "dtype": "f8"
          },
          "color": "#00CC96",
          "thickness": 1.5,
          "type": "data",
          "visible": true,
          "width": 5
         },
         "hovertemplate": "%{text}<extra></extra>",
         "marker": {
          "color": "#00CC96",
          "line": {
           "color": "white",
           "width": 1
          },
          "opacity": 0.85,
          "size": 10
         },
         "mode": "markers",
         "text": [
          "Forecaster: ForecasterRecursiveMultiSeries<br>Regressor: DummyRegressor<br>Function: ForecasterRecursiveMultiSeries_predict_exog_is_df_long<br>Function_hash: 40e4e852c2942a892c0074b0f055dd06<br>Method: predict_exog_is_df_long<br>Datetime: 2025-08-26 07:01:55.622885<br>Python version: 3.12.11<br>skforecast version: 0.17.0<br>numpy version: 2.1.3<br>pandas version: 2.3.2<br>sklearn version: 1.6.1<br>lightgbm version: 4.6.0<br>Platform: Linux-6.11.0-1018-azure-x86_64-with-glibc2.39<br>Processor: x86_64<br>CPU count: 4<br>Memory (GB): 16.77<br>Run time avg: 0.480914 s<br>Run time median: 0.454877 s<br>Run time p95: 0.553077 s<br>Run time std: 0.045809 s<br>Nº repeats: 10",
          "Forecaster: ForecasterRecursiveMultiSeries<br>Regressor: DummyRegressor<br>Function: ForecasterRecursiveMultiSeries_predict_exog_is_df_long<br>Function_hash: 40e4e852c2942a892c0074b0f055dd06<br>Method: predict_exog_is_df_long<br>Datetime: 2025-08-26 07:14:48.741536<br>Python version: 3.12.11<br>skforecast version: 0.17.0<br>numpy version: 2.1.3<br>pandas version: 2.3.2<br>sklearn version: 1.6.1<br>lightgbm version: 4.6.0<br>Platform: Linux-6.11.0-1018-azure-x86_64-with-glibc2.39<br>Processor: x86_64<br>CPU count: 4<br>Memory (GB): 16.77<br>Run time avg: 0.504441 s<br>Run time median: 0.461385 s<br>Run time p95: 0.617676 s<br>Run time std: 0.072098 s<br>Nº repeats: 10",
          "Forecaster: ForecasterRecursiveMultiSeries<br>Regressor: DummyRegressor<br>Function: ForecasterRecursiveMultiSeries_predict_exog_is_df_long<br>Function_hash: 40e4e852c2942a892c0074b0f055dd06<br>Method: predict_exog_is_df_long<br>Datetime: 2025-08-26 07:33:18.282486<br>Python version: 3.12.11<br>skforecast version: 0.17.0<br>numpy version: 2.1.3<br>pandas version: 2.3.2<br>sklearn version: 1.6.1<br>lightgbm version: 4.6.0<br>Platform: Linux-6.11.0-1018-azure-x86_64-with-glibc2.39<br>Processor: x86_64<br>CPU count: 4<br>Memory (GB): 16.77<br>Run time avg: 0.478409 s<br>Run time median: 0.446381 s<br>Run time p95: 0.554847 s<br>Run time std: 0.049696 s<br>Nº repeats: 10",
          "Forecaster: ForecasterRecursiveMultiSeries<br>Regressor: DummyRegressor<br>Function: ForecasterRecursiveMultiSeries_predict_exog_is_df_long<br>Function_hash: 40e4e852c2942a892c0074b0f055dd06<br>Method: predict_exog_is_df_long<br>Datetime: 2025-08-26 07:45:59.101034<br>Python version: 3.12.11<br>skforecast version: 0.17.0<br>numpy version: 2.1.3<br>pandas version: 2.3.2<br>sklearn version: 1.6.1<br>lightgbm version: 4.6.0<br>Platform: Linux-6.11.0-1018-azure-x86_64-with-glibc2.39<br>Processor: x86_64<br>CPU count: 4<br>Memory (GB): 16.77<br>Run time avg: 0.484804 s<br>Run time median: 0.450991 s<br>Run time p95: 0.567792 s<br>Run time std: 0.053087 s<br>Nº repeats: 10",
          "Forecaster: ForecasterRecursiveMultiSeries<br>Regressor: DummyRegressor<br>Function: ForecasterRecursiveMultiSeries_predict_exog_is_df_long<br>Function_hash: 40e4e852c2942a892c0074b0f055dd06<br>Method: predict_exog_is_df_long<br>Datetime: 2025-08-26 08:12:01.156571<br>Python version: 3.12.11<br>skforecast version: 0.17.0<br>numpy version: 2.1.3<br>pandas version: 2.3.2<br>sklearn version: 1.6.1<br>lightgbm version: 4.6.0<br>Platform: Linux-6.11.0-1018-azure-x86_64-with-glibc2.39<br>Processor: x86_64<br>CPU count: 4<br>Memory (GB): 16.77<br>Run time avg: 0.485160 s<br>Run time median: 0.448284 s<br>Run time p95: 0.585179 s<br>Run time std: 0.059586 s<br>Nº repeats: 10"
         ],
         "type": "scatter",
         "visible": false,
         "x": {
          "bdata": "vvLvMrPg/z8PkYbon0EAQLGzDOpZTABAPMPBAE5s/z9gGLA+io//Pw==",
          "dtype": "f8"
         },
         "y": {
          "bdata": "zYS1zkvH3j8A86Q3YSTgP5qFjco/nt4/miHslAYH3z8ARMs62wzfPw==",
          "dtype": "f8"
         }
        },
        {
         "error_y": {
          "array": {
           "bdata": "Goy30Ov8bz/ItlEGKUSAP3bisZB37YE/261KdJlGdj8=",
           "dtype": "f8"
          },
          "color": "#636EFA",
          "thickness": 1.5,
          "type": "data",
          "visible": true,
          "width": 5
         },
         "hovertemplate": "%{text}<extra></extra>",
         "marker": {
          "color": "#636EFA",
          "line": {
           "color": "white",
           "width": 1
          },
          "opacity": 0.85,
          "size": 10
         },
         "mode": "markers",
         "text": [
          "Forecaster: ForecasterRecursiveMultiSeries<br>Regressor: DummyRegressor<br>Function: ForecasterRecursiveMultiSeries_predict_interval_exog_is_dict_conformal<br>Function_hash: a906bd18c2d5634ddbc7fa3a22c073fa<br>Method: predict_interval_exog_is_dict_conformal<br>Datetime: 2025-08-26 09:19:07.618547<br>Python version: 3.12.11<br>skforecast version: 0.15.1<br>numpy version: 2.1.3<br>pandas version: 2.3.2<br>sklearn version: 1.6.1<br>lightgbm version: 4.6.0<br>Platform: Linux-6.11.0-1018-azure-x86_64-with-glibc2.39<br>Processor: x86_64<br>CPU count: 4<br>Memory (GB): 16.77<br>Run time avg: 1.806048 s<br>Run time median: 1.807644 s<br>Run time p95: 1.810957 s<br>Run time std: 0.003905 s<br>Nº repeats: 10",
          "Forecaster: ForecasterRecursiveMultiSeries<br>Regressor: DummyRegressor<br>Function: ForecasterRecursiveMultiSeries_predict_interval_exog_is_dict_conformal<br>Function_hash: a906bd18c2d5634ddbc7fa3a22c073fa<br>Method: predict_interval_exog_is_dict_conformal<br>Datetime: 2025-08-26 09:35:09.204649<br>Python version: 3.12.11<br>skforecast version: 0.15.1<br>numpy version: 2.1.3<br>pandas version: 2.3.2<br>sklearn version: 1.6.1<br>lightgbm version: 4.6.0<br>Platform: Linux-6.11.0-1018-azure-x86_64-with-glibc2.39<br>Processor: x86_64<br>CPU count: 4<br>Memory (GB): 16.77<br>Run time avg: 1.812855 s<br>Run time median: 1.813617 s<br>Run time p95: 1.823245 s<br>Run time std: 0.007943 s<br>Nº repeats: 10",
          "Forecaster: ForecasterRecursiveMultiSeries<br>Regressor: DummyRegressor<br>Function: ForecasterRecursiveMultiSeries_predict_interval_exog_is_dict_conformal<br>Function_hash: a906bd18c2d5634ddbc7fa3a22c073fa<br>Method: predict_interval_exog_is_dict_conformal<br>Datetime: 2025-08-26 09:47:59.992419<br>Python version: 3.12.11<br>skforecast version: 0.15.1<br>numpy version: 2.1.3<br>pandas version: 2.3.2<br>sklearn version: 1.6.1<br>lightgbm version: 4.6.0<br>Platform: Linux-6.11.0-1018-azure-x86_64-with-glibc2.39<br>Processor: x86_64<br>CPU count: 4<br>Memory (GB): 16.77<br>Run time avg: 1.810924 s<br>Run time median: 1.807730 s<br>Run time p95: 1.826270 s<br>Run time std: 0.008754 s<br>Nº repeats: 10",
          "Forecaster: ForecasterRecursiveMultiSeries<br>Regressor: DummyRegressor<br>Function: ForecasterRecursiveMultiSeries_predict_interval_exog_is_dict_conformal<br>Function_hash: a906bd18c2d5634ddbc7fa3a22c073fa<br>Method: predict_interval_exog_is_dict_conformal<br>Datetime: 2025-08-26 10:11:34.422893<br>Python version: 3.12.11<br>skforecast version: 0.15.1<br>numpy version: 2.1.3<br>pandas version: 2.3.2<br>sklearn version: 1.6.1<br>lightgbm version: 4.6.0<br>Platform: Linux-6.11.0-1018-azure-x86_64-with-glibc2.39<br>Processor: x86_64<br>CPU count: 4<br>Memory (GB): 16.77<br>Run time avg: 1.829356 s<br>Run time median: 1.831131 s<br>Run time p95: 1.835287 s<br>Run time std: 0.005438 s<br>Nº repeats: 10"
         ],
         "type": "scatter",
         "visible": false,
         "x": {
          "bdata": "kKnvHVQAlz+8VY/WxKeaP8BGu6pwq14/8PXY5A/zij8=",
          "dtype": "f8"
         },
         "y": {
          "bdata": "5u8HIJLl/D8z5omkdAH9P/MGcVeL+fw/TdSg5QpF/T8=",
          "dtype": "f8"
         }
        },
        {
         "error_y": {
          "array": {
           "bdata": "g828nzxDpz8VNnzH4vukP/aW2Cuu76g/HCfmyvANqD8=",
           "dtype": "f8"
          },
          "color": "#EF553B",
          "thickness": 1.5,
          "type": "data",
          "visible": true,
          "width": 5
         },
         "hovertemplate": "%{text}<extra></extra>",
         "marker": {
          "color": "#EF553B",
          "line": {
           "color": "white",
           "width": 1
          },
          "opacity": 0.85,
          "size": 10
         },
         "mode": "markers",
         "text": [
          "Forecaster: ForecasterRecursiveMultiSeries<br>Regressor: DummyRegressor<br>Function: ForecasterRecursiveMultiSeries_predict_interval_exog_is_dict_conformal<br>Function_hash: a906bd18c2d5634ddbc7fa3a22c073fa<br>Method: predict_interval_exog_is_dict_conformal<br>Datetime: 2025-08-26 08:31:17.823936<br>Python version: 3.12.11<br>skforecast version: 0.16.0<br>numpy version: 2.1.3<br>pandas version: 2.3.2<br>sklearn version: 1.6.1<br>lightgbm version: 4.6.0<br>Platform: Linux-6.11.0-1018-azure-x86_64-with-glibc2.39<br>Processor: x86_64<br>CPU count: 4<br>Memory (GB): 16.77<br>Run time avg: 0.541379 s<br>Run time median: 0.518628 s<br>Run time p95: 0.632236 s<br>Run time std: 0.045435 s<br>Nº repeats: 10",
          "Forecaster: ForecasterRecursiveMultiSeries<br>Regressor: DummyRegressor<br>Function: ForecasterRecursiveMultiSeries_predict_interval_exog_is_dict_conformal<br>Function_hash: a906bd18c2d5634ddbc7fa3a22c073fa<br>Method: predict_interval_exog_is_dict_conformal<br>Datetime: 2025-08-26 08:41:10.488731<br>Python version: 3.12.11<br>skforecast version: 0.16.0<br>numpy version: 2.1.3<br>pandas version: 2.3.2<br>sklearn version: 1.6.1<br>lightgbm version: 4.6.0<br>Platform: Linux-6.11.0-1018-azure-x86_64-with-glibc2.39<br>Processor: x86_64<br>CPU count: 4<br>Memory (GB): 16.77<br>Run time avg: 0.531262 s<br>Run time median: 0.511260 s<br>Run time p95: 0.613444 s<br>Run time std: 0.040984 s<br>Nº repeats: 10",
          "Forecaster: ForecasterRecursiveMultiSeries<br>Regressor: DummyRegressor<br>Function: ForecasterRecursiveMultiSeries_predict_interval_exog_is_dict_conformal<br>Function_hash: a906bd18c2d5634ddbc7fa3a22c073fa<br>Method: predict_interval_exog_is_dict_conformal<br>Datetime: 2025-08-26 08:55:26.989607<br>Python version: 3.12.11<br>skforecast version: 0.16.0<br>numpy version: 2.1.3<br>pandas version: 2.3.2<br>sklearn version: 1.6.1<br>lightgbm version: 4.6.0<br>Platform: Linux-6.11.0-1018-azure-x86_64-with-glibc2.39<br>Processor: x86_64<br>CPU count: 4<br>Memory (GB): 16.77<br>Run time avg: 0.544725 s<br>Run time median: 0.520184 s<br>Run time p95: 0.642255 s<br>Run time std: 0.048704 s<br>Nº repeats: 10",
          "Forecaster: ForecasterRecursiveMultiSeries<br>Regressor: DummyRegressor<br>Function: ForecasterRecursiveMultiSeries_predict_interval_exog_is_dict_conformal<br>Function_hash: a906bd18c2d5634ddbc7fa3a22c073fa<br>Method: predict_interval_exog_is_dict_conformal<br>Datetime: 2025-08-26 09:05:51.048470<br>Python version: 3.12.11<br>skforecast version: 0.16.0<br>numpy version: 2.1.3<br>pandas version: 2.3.2<br>sklearn version: 1.6.1<br>lightgbm version: 4.6.0<br>Platform: Linux-6.11.0-1018-azure-x86_64-with-glibc2.39<br>Processor: x86_64<br>CPU count: 4<br>Memory (GB): 16.77<br>Run time avg: 0.550553 s<br>Run time median: 0.527772 s<br>Run time p95: 0.644490 s<br>Run time std: 0.046981 s<br>Nº repeats: 10"
         ],
         "type": "scatter",
         "visible": false,
         "x": {
          "bdata": "fyZcOeKu7z9RRVBR2UnvP8cAEMCyJvA/XIFqWJNr7j8=",
          "dtype": "f8"
         },
         "y": {
          "bdata": "mvJgefpS4T/mMTU+GQDhPwBQCcRjbuE/5qtYbyGe4T8=",
          "dtype": "f8"
         }
        },
        {
         "error_y": {
          "array": {
           "bdata": "7JkLSEgxqD+KYRNGUDmuP6OJl1U4K6Y/9Xt9Al7Wqj/owlmtAVSpPw==",
           "dtype": "f8"
          },
          "color": "#00CC96",
          "thickness": 1.5,
          "type": "data",
          "visible": true,
          "width": 5
         },
         "hovertemplate": "%{text}<extra></extra>",
         "marker": {
          "color": "#00CC96",
          "line": {
           "color": "white",
           "width": 1
          },
          "opacity": 0.85,
          "size": 10
         },
         "mode": "markers",
         "text": [
          "Forecaster: ForecasterRecursiveMultiSeries<br>Regressor: DummyRegressor<br>Function: ForecasterRecursiveMultiSeries_predict_interval_exog_is_dict_conformal<br>Function_hash: a906bd18c2d5634ddbc7fa3a22c073fa<br>Method: predict_interval_exog_is_dict_conformal<br>Datetime: 2025-08-26 07:02:01.016683<br>Python version: 3.12.11<br>skforecast version: 0.17.0<br>numpy version: 2.1.3<br>pandas version: 2.3.2<br>sklearn version: 1.6.1<br>lightgbm version: 4.6.0<br>Platform: Linux-6.11.0-1018-azure-x86_64-with-glibc2.39<br>Processor: x86_64<br>CPU count: 4<br>Memory (GB): 16.77<br>Run time avg: 0.538928 s<br>Run time median: 0.516335 s<br>Run time p95: 0.633831 s<br>Run time std: 0.047251 s<br>Nº repeats: 10",
          "Forecaster: ForecasterRecursiveMultiSeries<br>Regressor: DummyRegressor<br>Function: ForecasterRecursiveMultiSeries_predict_interval_exog_is_dict_conformal<br>Function_hash: a906bd18c2d5634ddbc7fa3a22c073fa<br>Method: predict_interval_exog_is_dict_conformal<br>Datetime: 2025-08-26 07:14:54.347634<br>Python version: 3.12.11<br>skforecast version: 0.17.0<br>numpy version: 2.1.3<br>pandas version: 2.3.2<br>sklearn version: 1.6.1<br>lightgbm version: 4.6.0<br>Platform: Linux-6.11.0-1018-azure-x86_64-with-glibc2.39<br>Processor: x86_64<br>CPU count: 4<br>Memory (GB): 16.77<br>Run time avg: 0.560156 s<br>Run time median: 0.529442 s<br>Run time p95: 0.678345 s<br>Run time std: 0.059031 s<br>Nº repeats: 10",
          "Forecaster: ForecasterRecursiveMultiSeries<br>Regressor: DummyRegressor<br>Function: ForecasterRecursiveMultiSeries_predict_interval_exog_is_dict_conformal<br>Function_hash: a906bd18c2d5634ddbc7fa3a22c073fa<br>Method: predict_interval_exog_is_dict_conformal<br>Datetime: 2025-08-26 07:33:23.666471<br>Python version: 3.12.11<br>skforecast version: 0.17.0<br>numpy version: 2.1.3<br>pandas version: 2.3.2<br>sklearn version: 1.6.1<br>lightgbm version: 4.6.0<br>Platform: Linux-6.11.0-1018-azure-x86_64-with-glibc2.39<br>Processor: x86_64<br>CPU count: 4<br>Memory (GB): 16.77<br>Run time avg: 0.537962 s<br>Run time median: 0.516921 s<br>Run time p95: 0.624670 s<br>Run time std: 0.043298 s<br>Nº repeats: 10",
          "Forecaster: ForecasterRecursiveMultiSeries<br>Regressor: DummyRegressor<br>Function: ForecasterRecursiveMultiSeries_predict_interval_exog_is_dict_conformal<br>Function_hash: a906bd18c2d5634ddbc7fa3a22c073fa<br>Method: predict_interval_exog_is_dict_conformal<br>Datetime: 2025-08-26 07:46:04.576846<br>Python version: 3.12.11<br>skforecast version: 0.17.0<br>numpy version: 2.1.3<br>pandas version: 2.3.2<br>sklearn version: 1.6.1<br>lightgbm version: 4.6.0<br>Platform: Linux-6.11.0-1018-azure-x86_64-with-glibc2.39<br>Processor: x86_64<br>CPU count: 4<br>Memory (GB): 16.77<br>Run time avg: 0.547111 s<br>Run time median: 0.521399 s<br>Run time p95: 0.652135 s<br>Run time std: 0.052417 s<br>Nº repeats: 10",
          "Forecaster: ForecasterRecursiveMultiSeries<br>Regressor: DummyRegressor<br>Function: ForecasterRecursiveMultiSeries_predict_interval_exog_is_dict_conformal<br>Function_hash: a906bd18c2d5634ddbc7fa3a22c073fa<br>Method: predict_interval_exog_is_dict_conformal<br>Datetime: 2025-08-26 08:12:06.620886<br>Python version: 3.12.11<br>skforecast version: 0.17.0<br>numpy version: 2.1.3<br>pandas version: 2.3.2<br>sklearn version: 1.6.1<br>lightgbm version: 4.6.0<br>Platform: Linux-6.11.0-1018-azure-x86_64-with-glibc2.39<br>Processor: x86_64<br>CPU count: 4<br>Memory (GB): 16.77<br>Run time avg: 0.545964 s<br>Run time median: 0.523280 s<br>Run time p95: 0.645025 s<br>Run time std: 0.049469 s<br>Nº repeats: 10"
         ],
         "type": "scatter",
         "visible": false,
         "x": {
          "bdata": "tsTDCbVu/z9WwITeq+v/P9FCDcFmMABA0AoDUqELAEDVvbyj/lD/Pw==",
          "dtype": "f8"
         },
         "y": {
          "bdata": "mt9Eu+U+4T8zJA50zOzhPzMSFGj8NuE/ALIZiO+B4T8AUNWGiHjhPw==",
          "dtype": "f8"
         }
        },
        {
         "error_y": {
          "array": {
           "bdata": "908Lz21i3j9AKxjHBxfaPzIZSVL+WNc/dSCfAGof2j8=",
           "dtype": "f8"
          },
          "color": "#636EFA",
          "thickness": 1.5,
          "type": "data",
          "visible": true,
          "width": 5
         },
         "hovertemplate": "%{text}<extra></extra>",
         "marker": {
          "color": "#636EFA",
          "line": {
           "color": "white",
           "width": 1
          },
          "opacity": 0.85,
          "size": 10
         },
         "mode": "markers",
         "text": [
          "Forecaster: ForecasterRecursiveMultiSeries<br>Regressor: DummyRegressor<br>Function: ForecasterRecursiveMultiSeries_backtesting_series_is_dict_no_exog<br>Function_hash: 2c9727c449bbc1a8a9d5f25df1fae262<br>Method: backtesting_series_is_dict_no_exog<br>Datetime: 2025-08-26 09:20:21.666853<br>Python version: 3.12.11<br>skforecast version: 0.15.1<br>numpy version: 2.1.3<br>pandas version: 2.3.2<br>sklearn version: 1.6.1<br>lightgbm version: 4.6.0<br>Platform: Linux-6.11.0-1018-azure-x86_64-with-glibc2.39<br>Processor: x86_64<br>CPU count: 4<br>Memory (GB): 16.77<br>Run time avg: 14.807157 s<br>Run time median: 14.520143 s<br>Run time p95: 15.532535 s<br>Run time std: 0.474758 s<br>Nº repeats: 5",
          "Forecaster: ForecasterRecursiveMultiSeries<br>Regressor: DummyRegressor<br>Function: ForecasterRecursiveMultiSeries_backtesting_series_is_dict_no_exog<br>Function_hash: 2c9727c449bbc1a8a9d5f25df1fae262<br>Method: backtesting_series_is_dict_no_exog<br>Datetime: 2025-08-26 09:36:26.660104<br>Python version: 3.12.11<br>skforecast version: 0.15.1<br>numpy version: 2.1.3<br>pandas version: 2.3.2<br>sklearn version: 1.6.1<br>lightgbm version: 4.6.0<br>Platform: Linux-6.11.0-1018-azure-x86_64-with-glibc2.39<br>Processor: x86_64<br>CPU count: 4<br>Memory (GB): 16.77<br>Run time avg: 15.488637 s<br>Run time median: 15.362119 s<br>Run time p95: 16.085637 s<br>Run time std: 0.407656 s<br>Nº repeats: 5",
          "Forecaster: ForecasterRecursiveMultiSeries<br>Regressor: DummyRegressor<br>Function: ForecasterRecursiveMultiSeries_backtesting_series_is_dict_no_exog<br>Function_hash: 2c9727c449bbc1a8a9d5f25df1fae262<br>Method: backtesting_series_is_dict_no_exog<br>Datetime: 2025-08-26 09:49:16.798371<br>Python version: 3.12.11<br>skforecast version: 0.15.1<br>numpy version: 2.1.3<br>pandas version: 2.3.2<br>sklearn version: 1.6.1<br>lightgbm version: 4.6.0<br>Platform: Linux-6.11.0-1018-azure-x86_64-with-glibc2.39<br>Processor: x86_64<br>CPU count: 4<br>Memory (GB): 16.77<br>Run time avg: 15.358569 s<br>Run time median: 15.191430 s<br>Run time p95: 15.907909 s<br>Run time std: 0.364807 s<br>Nº repeats: 5",
          "Forecaster: ForecasterRecursiveMultiSeries<br>Regressor: DummyRegressor<br>Function: ForecasterRecursiveMultiSeries_backtesting_series_is_dict_no_exog<br>Function_hash: 2c9727c449bbc1a8a9d5f25df1fae262<br>Method: backtesting_series_is_dict_no_exog<br>Datetime: 2025-08-26 10:12:50.638611<br>Python version: 3.12.11<br>skforecast version: 0.15.1<br>numpy version: 2.1.3<br>pandas version: 2.3.2<br>sklearn version: 1.6.1<br>lightgbm version: 4.6.0<br>Platform: Linux-6.11.0-1018-azure-x86_64-with-glibc2.39<br>Processor: x86_64<br>CPU count: 4<br>Memory (GB): 16.77<br>Run time avg: 15.240642 s<br>Run time median: 15.122994 s<br>Run time p95: 15.849938 s<br>Run time std: 0.408167 s<br>Nº repeats: 5"
         ],
         "type": "scatter",
         "visible": false,
         "x": {
          "bdata": "oO1M3uXmmz/02fR+Rr6iv9Bw6KeU64k/8GfSg6iUkr8=",
          "dtype": "f8"
         },
         "y": {
          "bdata": "jYc4pkOdLUDaTUeXLvouQKbjBl6Wty5AgJ7JXjV7LkA=",
          "dtype": "f8"
         }
        },
        {
         "error_y": {
          "array": {
           "bdata": "q+35BN7B4z9fEHsst6ngP37+tBNH6NY/vj8k3NVi3T8=",
           "dtype": "f8"
          },
          "color": "#EF553B",
          "thickness": 1.5,
          "type": "data",
          "visible": true,
          "width": 5
         },
         "hovertemplate": "%{text}<extra></extra>",
         "marker": {
          "color": "#EF553B",
          "line": {
           "color": "white",
           "width": 1
          },
          "opacity": 0.85,
          "size": 10
         },
         "mode": "markers",
         "text": [
          "Forecaster: ForecasterRecursiveMultiSeries<br>Regressor: DummyRegressor<br>Function: ForecasterRecursiveMultiSeries_backtesting_series_is_dict_no_exog<br>Function_hash: 2c9727c449bbc1a8a9d5f25df1fae262<br>Method: backtesting_series_is_dict_no_exog<br>Datetime: 2025-08-26 08:32:26.098418<br>Python version: 3.12.11<br>skforecast version: 0.16.0<br>numpy version: 2.1.3<br>pandas version: 2.3.2<br>sklearn version: 1.6.1<br>lightgbm version: 4.6.0<br>Platform: Linux-6.11.0-1018-azure-x86_64-with-glibc2.39<br>Processor: x86_64<br>CPU count: 4<br>Memory (GB): 16.77<br>Run time avg: 13.652469 s<br>Run time median: 13.391164 s<br>Run time p95: 14.592776 s<br>Run time std: 0.617415 s<br>Nº repeats: 5",
          "Forecaster: ForecasterRecursiveMultiSeries<br>Regressor: DummyRegressor<br>Function: ForecasterRecursiveMultiSeries_backtesting_series_is_dict_no_exog<br>Function_hash: 2c9727c449bbc1a8a9d5f25df1fae262<br>Method: backtesting_series_is_dict_no_exog<br>Datetime: 2025-08-26 08:42:17.335011<br>Python version: 3.12.11<br>skforecast version: 0.16.0<br>numpy version: 2.1.3<br>pandas version: 2.3.2<br>sklearn version: 1.6.1<br>lightgbm version: 4.6.0<br>Platform: Linux-6.11.0-1018-azure-x86_64-with-glibc2.39<br>Processor: x86_64<br>CPU count: 4<br>Memory (GB): 16.77<br>Run time avg: 13.366964 s<br>Run time median: 13.136810 s<br>Run time p95: 14.164614 s<br>Run time std: 0.520717 s<br>Nº repeats: 5",
          "Forecaster: ForecasterRecursiveMultiSeries<br>Regressor: DummyRegressor<br>Function: ForecasterRecursiveMultiSeries_backtesting_series_is_dict_no_exog<br>Function_hash: 2c9727c449bbc1a8a9d5f25df1fae262<br>Method: backtesting_series_is_dict_no_exog<br>Datetime: 2025-08-26 08:56:33.039489<br>Python version: 3.12.11<br>skforecast version: 0.16.0<br>numpy version: 2.1.3<br>pandas version: 2.3.2<br>sklearn version: 1.6.1<br>lightgbm version: 4.6.0<br>Platform: Linux-6.11.0-1018-azure-x86_64-with-glibc2.39<br>Processor: x86_64<br>CPU count: 4<br>Memory (GB): 16.77<br>Run time avg: 13.207637 s<br>Run time median: 13.113517 s<br>Run time p95: 13.730100 s<br>Run time std: 0.357927 s<br>Nº repeats: 5",
          "Forecaster: ForecasterRecursiveMultiSeries<br>Regressor: DummyRegressor<br>Function: ForecasterRecursiveMultiSeries_backtesting_series_is_dict_no_exog<br>Function_hash: 2c9727c449bbc1a8a9d5f25df1fae262<br>Method: backtesting_series_is_dict_no_exog<br>Datetime: 2025-08-26 09:06:59.702447<br>Python version: 3.12.11<br>skforecast version: 0.16.0<br>numpy version: 2.1.3<br>pandas version: 2.3.2<br>sklearn version: 1.6.1<br>lightgbm version: 4.6.0<br>Platform: Linux-6.11.0-1018-azure-x86_64-with-glibc2.39<br>Processor: x86_64<br>CPU count: 4<br>Memory (GB): 16.77<br>Run time avg: 13.728345 s<br>Run time median: 13.694800 s<br>Run time p95: 14.406863 s<br>Run time std: 0.459157 s<br>Nº repeats: 5"
         ],
         "type": "scatter",
         "visible": false,
         "x": {
          "bdata": "kw0hISnL7z8ccWOzFo3wPxk8y9vkte8/OCD9LXRd7z8=",
          "dtype": "f8"
         },
         "y": {
          "bdata": "k37vWRBOK0AzzSy14rsqQM12P2lPaipAM/83mel0K0A=",
          "dtype": "f8"
         }
        },
        {
         "error_y": {
          "array": {
           "bdata": "Ia4YTwt81z+maRU+QmziP+3Jd8rI4tQ/ivjGIjaW1T/IuuNw5l3ePw==",
           "dtype": "f8"
          },
          "color": "#00CC96",
          "thickness": 1.5,
          "type": "data",
          "visible": true,
          "width": 5
         },
         "hovertemplate": "%{text}<extra></extra>",
         "marker": {
          "color": "#00CC96",
          "line": {
           "color": "white",
           "width": 1
          },
          "opacity": 0.85,
          "size": 10
         },
         "mode": "markers",
         "text": [
          "Forecaster: ForecasterRecursiveMultiSeries<br>Regressor: DummyRegressor<br>Function: ForecasterRecursiveMultiSeries_backtesting_series_is_dict_no_exog<br>Function_hash: 2c9727c449bbc1a8a9d5f25df1fae262<br>Method: backtesting_series_is_dict_no_exog<br>Datetime: 2025-08-26 07:03:08.263096<br>Python version: 3.12.11<br>skforecast version: 0.17.0<br>numpy version: 2.1.3<br>pandas version: 2.3.2<br>sklearn version: 1.6.1<br>lightgbm version: 4.6.0<br>Platform: Linux-6.11.0-1018-azure-x86_64-with-glibc2.39<br>Processor: x86_64<br>CPU count: 4<br>Memory (GB): 16.77<br>Run time avg: 13.447181 s<br>Run time median: 13.321802 s<br>Run time p95: 13.999729 s<br>Run time std: 0.366946 s<br>Nº repeats: 5",
          "Forecaster: ForecasterRecursiveMultiSeries<br>Regressor: DummyRegressor<br>Function: ForecasterRecursiveMultiSeries_backtesting_series_is_dict_no_exog<br>Function_hash: 2c9727c449bbc1a8a9d5f25df1fae262<br>Method: backtesting_series_is_dict_no_exog<br>Datetime: 2025-08-26 07:16:05.041767<br>Python version: 3.12.11<br>skforecast version: 0.17.0<br>numpy version: 2.1.3<br>pandas version: 2.3.2<br>sklearn version: 1.6.1<br>lightgbm version: 4.6.0<br>Platform: Linux-6.11.0-1018-azure-x86_64-with-glibc2.39<br>Processor: x86_64<br>CPU count: 4<br>Memory (GB): 16.77<br>Run time avg: 14.136429 s<br>Run time median: 14.021468 s<br>Run time p95: 14.962053 s<br>Run time std: 0.575715 s<br>Nº repeats: 5",
          "Forecaster: ForecasterRecursiveMultiSeries<br>Regressor: DummyRegressor<br>Function: ForecasterRecursiveMultiSeries_backtesting_series_is_dict_no_exog<br>Function_hash: 2c9727c449bbc1a8a9d5f25df1fae262<br>Method: backtesting_series_is_dict_no_exog<br>Datetime: 2025-08-26 07:34:31.769617<br>Python version: 3.12.11<br>skforecast version: 0.17.0<br>numpy version: 2.1.3<br>pandas version: 2.3.2<br>sklearn version: 1.6.1<br>lightgbm version: 4.6.0<br>Platform: Linux-6.11.0-1018-azure-x86_64-with-glibc2.39<br>Processor: x86_64<br>CPU count: 4<br>Memory (GB): 16.77<br>Run time avg: 13.618446 s<br>Run time median: 13.522158 s<br>Run time p95: 14.104516 s<br>Run time std: 0.326342 s<br>Nº repeats: 5",
          "Forecaster: ForecasterRecursiveMultiSeries<br>Regressor: DummyRegressor<br>Function: ForecasterRecursiveMultiSeries_backtesting_series_is_dict_no_exog<br>Function_hash: 2c9727c449bbc1a8a9d5f25df1fae262<br>Method: backtesting_series_is_dict_no_exog<br>Datetime: 2025-08-26 07:47:14.363980<br>Python version: 3.12.11<br>skforecast version: 0.17.0<br>numpy version: 2.1.3<br>pandas version: 2.3.2<br>sklearn version: 1.6.1<br>lightgbm version: 4.6.0<br>Platform: Linux-6.11.0-1018-azure-x86_64-with-glibc2.39<br>Processor: x86_64<br>CPU count: 4<br>Memory (GB): 16.77<br>Run time avg: 13.955177 s<br>Run time median: 13.951320 s<br>Run time p95: 14.423373 s<br>Run time std: 0.337293 s<br>Nº repeats: 5",
          "Forecaster: ForecasterRecursiveMultiSeries<br>Regressor: DummyRegressor<br>Function: ForecasterRecursiveMultiSeries_backtesting_series_is_dict_no_exog<br>Function_hash: 2c9727c449bbc1a8a9d5f25df1fae262<br>Method: backtesting_series_is_dict_no_exog<br>Datetime: 2025-08-26 08:13:14.293769<br>Python version: 3.12.11<br>skforecast version: 0.17.0<br>numpy version: 2.1.3<br>pandas version: 2.3.2<br>sklearn version: 1.6.1<br>lightgbm version: 4.6.0<br>Platform: Linux-6.11.0-1018-azure-x86_64-with-glibc2.39<br>Processor: x86_64<br>CPU count: 4<br>Memory (GB): 16.77<br>Run time avg: 13.532225 s<br>Run time median: 13.340956 s<br>Run time p95: 14.259422 s<br>Run time std: 0.474481 s<br>Nº repeats: 5"
         ],
         "type": "scatter",
         "visible": false,
         "x": {
          "bdata": "4W4yXAmo/z9EdEKa2UIAQMMCHyvQYP8/mxlg/CgYAEC+7pQNnRMAQA==",
          "dtype": "f8"
         },
         "y": {
          "bdata": "5rN23vTkKkAgXaED2kUsQMYx0eqkPCtAIDhO8QzpK0ANIC2+fxArQA==",
          "dtype": "f8"
         }
        },
        {
         "error_y": {
          "array": {
           "bdata": "tfRJuUCBxz96r+TsmIXjP5/yOMBkYNQ/qppTjphIyj8=",
           "dtype": "f8"
          },
          "color": "#636EFA",
          "thickness": 1.5,
          "type": "data",
          "visible": true,
          "width": 5
         },
         "hovertemplate": "%{text}<extra></extra>",
         "marker": {
          "color": "#636EFA",
          "line": {
           "color": "white",
           "width": 1
          },
          "opacity": 0.85,
          "size": 10
         },
         "mode": "markers",
         "text": [
          "Forecaster: ForecasterRecursiveMultiSeries<br>Regressor: DummyRegressor<br>Function: ForecasterRecursiveMultiSeries_backtesting_series_is_dict_exog_is_dict<br>Function_hash: c6c6f711ae63ba6ff3cf78862e9e0c54<br>Method: backtesting_series_is_dict_exog_is_dict<br>Datetime: 2025-08-26 09:22:35.913125<br>Python version: 3.12.11<br>skforecast version: 0.15.1<br>numpy version: 2.1.3<br>pandas version: 2.3.2<br>sklearn version: 1.6.1<br>lightgbm version: 4.6.0<br>Platform: Linux-6.11.0-1018-azure-x86_64-with-glibc2.39<br>Processor: x86_64<br>CPU count: 4<br>Memory (GB): 16.77<br>Run time avg: 26.848166 s<br>Run time median: 26.883672 s<br>Run time p95: 27.068516 s<br>Run time std: 0.183632 s<br>Nº repeats: 5",
          "Forecaster: ForecasterRecursiveMultiSeries<br>Regressor: DummyRegressor<br>Function: ForecasterRecursiveMultiSeries_backtesting_series_is_dict_exog_is_dict<br>Function_hash: c6c6f711ae63ba6ff3cf78862e9e0c54<br>Method: backtesting_series_is_dict_exog_is_dict<br>Datetime: 2025-08-26 09:38:44.982445<br>Python version: 3.12.11<br>skforecast version: 0.15.1<br>numpy version: 2.1.3<br>pandas version: 2.3.2<br>sklearn version: 1.6.1<br>lightgbm version: 4.6.0<br>Platform: Linux-6.11.0-1018-azure-x86_64-with-glibc2.39<br>Processor: x86_64<br>CPU count: 4<br>Memory (GB): 16.77<br>Run time avg: 27.663198 s<br>Run time median: 27.744243 s<br>Run time p95: 28.357218 s<br>Run time std: 0.610058 s<br>Nº repeats: 5",
          "Forecaster: ForecasterRecursiveMultiSeries<br>Regressor: DummyRegressor<br>Function: ForecasterRecursiveMultiSeries_backtesting_series_is_dict_exog_is_dict<br>Function_hash: c6c6f711ae63ba6ff3cf78862e9e0c54<br>Method: backtesting_series_is_dict_exog_is_dict<br>Datetime: 2025-08-26 09:51:31.800674<br>Python version: 3.12.11<br>skforecast version: 0.15.1<br>numpy version: 2.1.3<br>pandas version: 2.3.2<br>sklearn version: 1.6.1<br>lightgbm version: 4.6.0<br>Platform: Linux-6.11.0-1018-azure-x86_64-with-glibc2.39<br>Processor: x86_64<br>CPU count: 4<br>Memory (GB): 16.77<br>Run time avg: 26.999308 s<br>Run time median: 26.860108 s<br>Run time p95: 27.429605 s<br>Run time std: 0.318383 s<br>Nº repeats: 5",
          "Forecaster: ForecasterRecursiveMultiSeries<br>Regressor: DummyRegressor<br>Function: ForecasterRecursiveMultiSeries_backtesting_series_is_dict_exog_is_dict<br>Function_hash: c6c6f711ae63ba6ff3cf78862e9e0c54<br>Method: backtesting_series_is_dict_exog_is_dict<br>Datetime: 2025-08-26 10:15:05.344363<br>Python version: 3.12.11<br>skforecast version: 0.15.1<br>numpy version: 2.1.3<br>pandas version: 2.3.2<br>sklearn version: 1.6.1<br>lightgbm version: 4.6.0<br>Platform: Linux-6.11.0-1018-azure-x86_64-with-glibc2.39<br>Processor: x86_64<br>CPU count: 4<br>Memory (GB): 16.77<br>Run time avg: 26.939991 s<br>Run time median: 26.867162 s<br>Run time p95: 27.205189 s<br>Run time std: 0.205340 s<br>Nº repeats: 5"
         ],
         "type": "scatter",
         "visible": false,
         "x": {
          "bdata": "lz3Yqmednr8oIYM0poWEvxgsnX5EoIQ/6DT22KRsjD8=",
          "dtype": "f8"
         },
         "y": {
          "bdata": "IAOtZyHZOkBgd5VRx6k7QO0bCqDS/zpA2sg1OKPwOkA=",
          "dtype": "f8"
         }
        },
        {
         "error_y": {
          "array": {
           "bdata": "BOp3qn5G2D/WW7rGX5bMP9rrQZRPa8k/Q5U3njlT1z8=",
           "dtype": "f8"
          },
          "color": "#EF553B",
          "thickness": 1.5,
          "type": "data",
          "visible": true,
          "width": 5
         },
         "hovertemplate": "%{text}<extra></extra>",
         "marker": {
          "color": "#EF553B",
          "line": {
           "color": "white",
           "width": 1
          },
          "opacity": 0.85,
          "size": 10
         },
         "mode": "markers",
         "text": [
          "Forecaster: ForecasterRecursiveMultiSeries<br>Regressor: DummyRegressor<br>Function: ForecasterRecursiveMultiSeries_backtesting_series_is_dict_exog_is_dict<br>Function_hash: c6c6f711ae63ba6ff3cf78862e9e0c54<br>Method: backtesting_series_is_dict_exog_is_dict<br>Datetime: 2025-08-26 08:34:01.471827<br>Python version: 3.12.11<br>skforecast version: 0.16.0<br>numpy version: 2.1.3<br>pandas version: 2.3.2<br>sklearn version: 1.6.1<br>lightgbm version: 4.6.0<br>Platform: Linux-6.11.0-1018-azure-x86_64-with-glibc2.39<br>Processor: x86_64<br>CPU count: 4<br>Memory (GB): 16.77<br>Run time avg: 19.073650 s<br>Run time median: 18.881058 s<br>Run time p95: 19.590320 s<br>Run time std: 0.379303 s<br>Nº repeats: 5",
          "Forecaster: ForecasterRecursiveMultiSeries<br>Regressor: DummyRegressor<br>Function: ForecasterRecursiveMultiSeries_backtesting_series_is_dict_exog_is_dict<br>Function_hash: c6c6f711ae63ba6ff3cf78862e9e0c54<br>Method: backtesting_series_is_dict_exog_is_dict<br>Datetime: 2025-08-26 08:43:49.584778<br>Python version: 3.12.11<br>skforecast version: 0.16.0<br>numpy version: 2.1.3<br>pandas version: 2.3.2<br>sklearn version: 1.6.1<br>lightgbm version: 4.6.0<br>Platform: Linux-6.11.0-1018-azure-x86_64-with-glibc2.39<br>Processor: x86_64<br>CPU count: 4<br>Memory (GB): 16.77<br>Run time avg: 18.448883 s<br>Run time median: 18.362201 s<br>Run time p95: 18.791051 s<br>Run time std: 0.223339 s<br>Nº repeats: 5",
          "Forecaster: ForecasterRecursiveMultiSeries<br>Regressor: DummyRegressor<br>Function: ForecasterRecursiveMultiSeries_backtesting_series_is_dict_exog_is_dict<br>Function_hash: c6c6f711ae63ba6ff3cf78862e9e0c54<br>Method: backtesting_series_is_dict_exog_is_dict<br>Datetime: 2025-08-26 08:58:05.328521<br>Python version: 3.12.11<br>skforecast version: 0.16.0<br>numpy version: 2.1.3<br>pandas version: 2.3.2<br>sklearn version: 1.6.1<br>lightgbm version: 4.6.0<br>Platform: Linux-6.11.0-1018-azure-x86_64-with-glibc2.39<br>Processor: x86_64<br>CPU count: 4<br>Memory (GB): 16.77<br>Run time avg: 18.456723 s<br>Run time median: 18.457160 s<br>Run time p95: 18.716951 s<br>Run time std: 0.198587 s<br>Nº repeats: 5",
          "Forecaster: ForecasterRecursiveMultiSeries<br>Regressor: DummyRegressor<br>Function: ForecasterRecursiveMultiSeries_backtesting_series_is_dict_exog_is_dict<br>Function_hash: c6c6f711ae63ba6ff3cf78862e9e0c54<br>Method: backtesting_series_is_dict_exog_is_dict<br>Datetime: 2025-08-26 09:08:36.034997<br>Python version: 3.12.11<br>skforecast version: 0.16.0<br>numpy version: 2.1.3<br>pandas version: 2.3.2<br>sklearn version: 1.6.1<br>lightgbm version: 4.6.0<br>Platform: Linux-6.11.0-1018-azure-x86_64-with-glibc2.39<br>Processor: x86_64<br>CPU count: 4<br>Memory (GB): 16.77<br>Run time avg: 19.265394 s<br>Run time median: 19.108826 s<br>Run time p95: 19.747602 s<br>Run time std: 0.364455 s<br>Nº repeats: 5"
         ],
         "type": "scatter",
         "visible": false,
         "x": {
          "bdata": "QNVg8i967z/Lwr0Vku/vP/9DhZujEe8/a91Oj1RB8D8=",
          "dtype": "f8"
         },
         "y": {
          "bdata": "msy6wNoSM0AwMKgA6nIyQE0GpczrdDJArXnL4vBDM0A=",
          "dtype": "f8"
         }
        },
        {
         "error_y": {
          "array": {
           "bdata": "DYmfSt541j9p27iM5bvfP/eZdsL4acY/rTNWVkCpzD8lOYJQB63IPw==",
           "dtype": "f8"
          },
          "color": "#00CC96",
          "thickness": 1.5,
          "type": "data",
          "visible": true,
          "width": 5
         },
         "hovertemplate": "%{text}<extra></extra>",
         "marker": {
          "color": "#00CC96",
          "line": {
           "color": "white",
           "width": 1
          },
          "opacity": 0.85,
          "size": 10
         },
         "mode": "markers",
         "text": [
          "Forecaster: ForecasterRecursiveMultiSeries<br>Regressor: DummyRegressor<br>Function: ForecasterRecursiveMultiSeries_backtesting_series_is_dict_exog_is_dict<br>Function_hash: c6c6f711ae63ba6ff3cf78862e9e0c54<br>Method: backtesting_series_is_dict_exog_is_dict<br>Datetime: 2025-08-26 07:04:41.922650<br>Python version: 3.12.11<br>skforecast version: 0.17.0<br>numpy version: 2.1.3<br>pandas version: 2.3.2<br>sklearn version: 1.6.1<br>lightgbm version: 4.6.0<br>Platform: Linux-6.11.0-1018-azure-x86_64-with-glibc2.39<br>Processor: x86_64<br>CPU count: 4<br>Memory (GB): 16.77<br>Run time avg: 18.731009 s<br>Run time median: 18.732510 s<br>Run time p95: 19.237991 s<br>Run time std: 0.351127 s<br>Nº repeats: 5",
          "Forecaster: ForecasterRecursiveMultiSeries<br>Regressor: DummyRegressor<br>Function: ForecasterRecursiveMultiSeries_backtesting_series_is_dict_exog_is_dict<br>Function_hash: c6c6f711ae63ba6ff3cf78862e9e0c54<br>Method: backtesting_series_is_dict_exog_is_dict<br>Datetime: 2025-08-26 07:17:39.941753<br>Python version: 3.12.11<br>skforecast version: 0.17.0<br>numpy version: 2.1.3<br>pandas version: 2.3.2<br>sklearn version: 1.6.1<br>lightgbm version: 4.6.0<br>Platform: Linux-6.11.0-1018-azure-x86_64-with-glibc2.39<br>Processor: x86_64<br>CPU count: 4<br>Memory (GB): 16.77<br>Run time avg: 18.979054 s<br>Run time median: 18.774953 s<br>Run time p95: 19.722553 s<br>Run time std: 0.495843 s<br>Nº repeats: 5",
          "Forecaster: ForecasterRecursiveMultiSeries<br>Regressor: DummyRegressor<br>Function: ForecasterRecursiveMultiSeries_backtesting_series_is_dict_exog_is_dict<br>Function_hash: c6c6f711ae63ba6ff3cf78862e9e0c54<br>Method: backtesting_series_is_dict_exog_is_dict<br>Datetime: 2025-08-26 07:36:05.356627<br>Python version: 3.12.11<br>skforecast version: 0.17.0<br>numpy version: 2.1.3<br>pandas version: 2.3.2<br>sklearn version: 1.6.1<br>lightgbm version: 4.6.0<br>Platform: Linux-6.11.0-1018-azure-x86_64-with-glibc2.39<br>Processor: x86_64<br>CPU count: 4<br>Memory (GB): 16.77<br>Run time avg: 18.716430 s<br>Run time median: 18.643546 s<br>Run time p95: 18.985697 s<br>Run time std: 0.175109 s<br>Nº repeats: 5",
          "Forecaster: ForecasterRecursiveMultiSeries<br>Regressor: DummyRegressor<br>Function: ForecasterRecursiveMultiSeries_backtesting_series_is_dict_exog_is_dict<br>Function_hash: c6c6f711ae63ba6ff3cf78862e9e0c54<br>Method: backtesting_series_is_dict_exog_is_dict<br>Datetime: 2025-08-26 07:48:50.025529<br>Python version: 3.12.11<br>skforecast version: 0.17.0<br>numpy version: 2.1.3<br>pandas version: 2.3.2<br>sklearn version: 1.6.1<br>lightgbm version: 4.6.0<br>Platform: Linux-6.11.0-1018-azure-x86_64-with-glibc2.39<br>Processor: x86_64<br>CPU count: 4<br>Memory (GB): 16.77<br>Run time avg: 19.131313 s<br>Run time median: 19.102859 s<br>Run time p95: 19.449620 s<br>Run time std: 0.223915 s<br>Nº repeats: 5",
          "Forecaster: ForecasterRecursiveMultiSeries<br>Regressor: DummyRegressor<br>Function: ForecasterRecursiveMultiSeries_backtesting_series_is_dict_exog_is_dict<br>Function_hash: c6c6f711ae63ba6ff3cf78862e9e0c54<br>Method: backtesting_series_is_dict_exog_is_dict<br>Datetime: 2025-08-26 08:14:47.205408<br>Python version: 3.12.11<br>skforecast version: 0.17.0<br>numpy version: 2.1.3<br>pandas version: 2.3.2<br>sklearn version: 1.6.1<br>lightgbm version: 4.6.0<br>Platform: Linux-6.11.0-1018-azure-x86_64-with-glibc2.39<br>Processor: x86_64<br>CPU count: 4<br>Memory (GB): 16.77<br>Run time avg: 18.581301 s<br>Run time median: 18.572492 s<br>Run time p95: 18.792262 s<br>Run time std: 0.192780 s<br>Nº repeats: 5"
         ],
         "type": "scatter",
         "visible": false,
         "x": {
          "bdata": "ewTylTFOAEA6MMt9aKX/P2sKMcsLb/8/UuBnEN/k/z/YgSQUBwoAQA==",
          "dtype": "f8"
         },
         "y": {
          "bdata": "OmKebSO7MkD9hs1Ho/oyQMbrO/1ntzJA6if6vJ0hM0Ag9jQf0JQyQA==",
          "dtype": "f8"
         }
        },
        {
         "error_y": {
          "array": {
           "bdata": "5w8C9pyyyT9CukBX+43VP/OHcLLiXsQ/f/9R3DhYzD8=",
           "dtype": "f8"
          },
          "color": "#636EFA",
          "thickness": 1.5,
          "type": "data",
          "visible": true,
          "width": 5
         },
         "hovertemplate": "%{text}<extra></extra>",
         "marker": {
          "color": "#636EFA",
          "line": {
           "color": "white",
           "width": 1
          },
          "opacity": 0.85,
          "size": 10
         },
         "mode": "markers",
         "text": [
          "Forecaster: ForecasterRecursiveMultiSeries<br>Regressor: DummyRegressor<br>Function: ForecasterRecursiveMultiSeries_backtesting_series_is_dict_no_exog_conformal<br>Function_hash: 0bbb8879ad4c01b44244adbbf25f17e6<br>Method: backtesting_series_is_dict_no_exog_conformal<br>Datetime: 2025-08-26 09:24:07.083339<br>Python version: 3.12.11<br>skforecast version: 0.15.1<br>numpy version: 2.1.3<br>pandas version: 2.3.2<br>sklearn version: 1.6.1<br>lightgbm version: 4.6.0<br>Platform: Linux-6.11.0-1018-azure-x86_64-with-glibc2.39<br>Processor: x86_64<br>CPU count: 4<br>Memory (GB): 16.77<br>Run time avg: 18.232945 s<br>Run time median: 18.354727 s<br>Run time p95: 18.412991 s<br>Run time std: 0.200763 s<br>Nº repeats: 5",
          "Forecaster: ForecasterRecursiveMultiSeries<br>Regressor: DummyRegressor<br>Function: ForecasterRecursiveMultiSeries_backtesting_series_is_dict_no_exog_conformal<br>Function_hash: 0bbb8879ad4c01b44244adbbf25f17e6<br>Method: backtesting_series_is_dict_no_exog_conformal<br>Datetime: 2025-08-26 09:40:20.107802<br>Python version: 3.12.11<br>skforecast version: 0.15.1<br>numpy version: 2.1.3<br>pandas version: 2.3.2<br>sklearn version: 1.6.1<br>lightgbm version: 4.6.0<br>Platform: Linux-6.11.0-1018-azure-x86_64-with-glibc2.39<br>Processor: x86_64<br>CPU count: 4<br>Memory (GB): 16.77<br>Run time avg: 19.023941 s<br>Run time median: 19.192931 s<br>Run time p95: 19.283487 s<br>Run time std: 0.336791 s<br>Nº repeats: 5",
          "Forecaster: ForecasterRecursiveMultiSeries<br>Regressor: DummyRegressor<br>Function: ForecasterRecursiveMultiSeries_backtesting_series_is_dict_no_exog_conformal<br>Function_hash: 0bbb8879ad4c01b44244adbbf25f17e6<br>Method: backtesting_series_is_dict_no_exog_conformal<br>Datetime: 2025-08-26 09:53:04.276864<br>Python version: 3.12.11<br>skforecast version: 0.15.1<br>numpy version: 2.1.3<br>pandas version: 2.3.2<br>sklearn version: 1.6.1<br>lightgbm version: 4.6.0<br>Platform: Linux-6.11.0-1018-azure-x86_64-with-glibc2.39<br>Processor: x86_64<br>CPU count: 4<br>Memory (GB): 16.77<br>Run time avg: 18.494053 s<br>Run time median: 18.511279 s<br>Run time p95: 18.653098 s<br>Run time std: 0.159146 s<br>Nº repeats: 5",
          "Forecaster: ForecasterRecursiveMultiSeries<br>Regressor: DummyRegressor<br>Function: ForecasterRecursiveMultiSeries_backtesting_series_is_dict_no_exog_conformal<br>Function_hash: 0bbb8879ad4c01b44244adbbf25f17e6<br>Method: backtesting_series_is_dict_no_exog_conformal<br>Datetime: 2025-08-26 10:16:37.889414<br>Python version: 3.12.11<br>skforecast version: 0.15.1<br>numpy version: 2.1.3<br>pandas version: 2.3.2<br>sklearn version: 1.6.1<br>lightgbm version: 4.6.0<br>Platform: Linux-6.11.0-1018-azure-x86_64-with-glibc2.39<br>Processor: x86_64<br>CPU count: 4<br>Memory (GB): 16.77<br>Run time avg: 18.507823 s<br>Run time median: 18.408412 s<br>Run time p95: 18.840470 s<br>Run time std: 0.221442 s<br>Nº repeats: 5"
         ],
         "type": "scatter",
         "visible": false,
         "x": {
          "bdata": "ULaWj8sgn78oJhrYHRyZPyyaiGyQgpc/zA8id8u+nz8=",
          "dtype": "f8"
         },
         "y": {
          "bdata": "wBh7Q6I7MkBKXeT+IAYzQCPIuTx6fjJAgLmZrgCCMkA=",
          "dtype": "f8"
         }
        },
        {
         "error_y": {
          "array": {
           "bdata": "jllepotP0j9J816pwDDAP+9JR1OKebc/76aOGYZj0T8=",
           "dtype": "f8"
          },
          "color": "#EF553B",
          "thickness": 1.5,
          "type": "data",
          "visible": true,
          "width": 5
         },
         "hovertemplate": "%{text}<extra></extra>",
         "marker": {
          "color": "#EF553B",
          "line": {
           "color": "white",
           "width": 1
          },
          "opacity": 0.85,
          "size": 10
         },
         "mode": "markers",
         "text": [
          "Forecaster: ForecasterRecursiveMultiSeries<br>Regressor: DummyRegressor<br>Function: ForecasterRecursiveMultiSeries_backtesting_series_is_dict_no_exog_conformal<br>Function_hash: 0bbb8879ad4c01b44244adbbf25f17e6<br>Method: backtesting_series_is_dict_no_exog_conformal<br>Datetime: 2025-08-26 08:35:24.769047<br>Python version: 3.12.11<br>skforecast version: 0.16.0<br>numpy version: 2.1.3<br>pandas version: 2.3.2<br>sklearn version: 1.6.1<br>lightgbm version: 4.6.0<br>Platform: Linux-6.11.0-1018-azure-x86_64-with-glibc2.39<br>Processor: x86_64<br>CPU count: 4<br>Memory (GB): 16.77<br>Run time avg: 16.658379 s<br>Run time median: 16.781387 s<br>Run time p95: 16.901804 s<br>Run time std: 0.286105 s<br>Nº repeats: 5",
          "Forecaster: ForecasterRecursiveMultiSeries<br>Regressor: DummyRegressor<br>Function: ForecasterRecursiveMultiSeries_backtesting_series_is_dict_no_exog_conformal<br>Function_hash: 0bbb8879ad4c01b44244adbbf25f17e6<br>Method: backtesting_series_is_dict_no_exog_conformal<br>Datetime: 2025-08-26 08:45:10.665216<br>Python version: 3.12.11<br>skforecast version: 0.16.0<br>numpy version: 2.1.3<br>pandas version: 2.3.2<br>sklearn version: 1.6.1<br>lightgbm version: 4.6.0<br>Platform: Linux-6.11.0-1018-azure-x86_64-with-glibc2.39<br>Processor: x86_64<br>CPU count: 4<br>Memory (GB): 16.77<br>Run time avg: 16.215008 s<br>Run time median: 16.276606 s<br>Run time p95: 16.349597 s<br>Run time std: 0.126488 s<br>Nº repeats: 5",
          "Forecaster: ForecasterRecursiveMultiSeries<br>Regressor: DummyRegressor<br>Function: ForecasterRecursiveMultiSeries_backtesting_series_is_dict_no_exog_conformal<br>Function_hash: 0bbb8879ad4c01b44244adbbf25f17e6<br>Method: backtesting_series_is_dict_no_exog_conformal<br>Datetime: 2025-08-26 08:59:26.363439<br>Python version: 3.12.11<br>skforecast version: 0.16.0<br>numpy version: 2.1.3<br>pandas version: 2.3.2<br>sklearn version: 1.6.1<br>lightgbm version: 4.6.0<br>Platform: Linux-6.11.0-1018-azure-x86_64-with-glibc2.39<br>Processor: x86_64<br>CPU count: 4<br>Memory (GB): 16.77<br>Run time avg: 16.205922 s<br>Run time median: 16.251103 s<br>Run time p95: 16.301929 s<br>Run time std: 0.091698 s<br>Nº repeats: 5",
          "Forecaster: ForecasterRecursiveMultiSeries<br>Regressor: DummyRegressor<br>Function: ForecasterRecursiveMultiSeries_backtesting_series_is_dict_no_exog_conformal<br>Function_hash: 0bbb8879ad4c01b44244adbbf25f17e6<br>Method: backtesting_series_is_dict_no_exog_conformal<br>Datetime: 2025-08-26 09:10:00.324696<br>Python version: 3.12.11<br>skforecast version: 0.16.0<br>numpy version: 2.1.3<br>pandas version: 2.3.2<br>sklearn version: 1.6.1<br>lightgbm version: 4.6.0<br>Platform: Linux-6.11.0-1018-azure-x86_64-with-glibc2.39<br>Processor: x86_64<br>CPU count: 4<br>Memory (GB): 16.77<br>Run time avg: 16.856809 s<br>Run time median: 16.896751 s<br>Run time p95: 17.174687 s<br>Run time std: 0.271699 s<br>Nº repeats: 5"
         ],
         "type": "scatter",
         "visible": false,
         "x": {
          "bdata": "IdAnvAiG8D/W33Q4lajuP4/8fI6R1O4/RrlHsely7z8=",
          "dtype": "f8"
         },
         "y": {
          "bdata": "04LmjIuoMEC2vVDECjcwQM0TgUu3NDBAtiyc1VfbMEA=",
          "dtype": "f8"
         }
        },
        {
         "error_y": {
          "array": {
           "bdata": "vnmhmlL5xj/pBMLqSxy7P6iO5gmBcNU/mlyWz93Owz/ClZLxJOjNPw==",
           "dtype": "f8"
          },
          "color": "#00CC96",
          "thickness": 1.5,
          "type": "data",
          "visible": true,
          "width": 5
         },
         "hovertemplate": "%{text}<extra></extra>",
         "marker": {
          "color": "#00CC96",
          "line": {
           "color": "white",
           "width": 1
          },
          "opacity": 0.85,
          "size": 10
         },
         "mode": "markers",
         "text": [
          "Forecaster: ForecasterRecursiveMultiSeries<br>Regressor: DummyRegressor<br>Function: ForecasterRecursiveMultiSeries_backtesting_series_is_dict_no_exog_conformal<br>Function_hash: 0bbb8879ad4c01b44244adbbf25f17e6<br>Method: backtesting_series_is_dict_no_exog_conformal<br>Datetime: 2025-08-26 07:06:02.861383<br>Python version: 3.12.11<br>skforecast version: 0.17.0<br>numpy version: 2.1.3<br>pandas version: 2.3.2<br>sklearn version: 1.6.1<br>lightgbm version: 4.6.0<br>Platform: Linux-6.11.0-1018-azure-x86_64-with-glibc2.39<br>Processor: x86_64<br>CPU count: 4<br>Memory (GB): 16.77<br>Run time avg: 16.186857 s<br>Run time median: 16.126991 s<br>Run time p95: 16.435766 s<br>Run time std: 0.179484 s<br>Nº repeats: 5",
          "Forecaster: ForecasterRecursiveMultiSeries<br>Regressor: DummyRegressor<br>Function: ForecasterRecursiveMultiSeries_backtesting_series_is_dict_no_exog_conformal<br>Function_hash: 0bbb8879ad4c01b44244adbbf25f17e6<br>Method: backtesting_series_is_dict_no_exog_conformal<br>Datetime: 2025-08-26 07:19:01.151962<br>Python version: 3.12.11<br>skforecast version: 0.17.0<br>numpy version: 2.1.3<br>pandas version: 2.3.2<br>sklearn version: 1.6.1<br>lightgbm version: 4.6.0<br>Platform: Linux-6.11.0-1018-azure-x86_64-with-glibc2.39<br>Processor: x86_64<br>CPU count: 4<br>Memory (GB): 16.77<br>Run time avg: 16.241111 s<br>Run time median: 16.175255 s<br>Run time p95: 16.401526 s<br>Run time std: 0.105901 s<br>Nº repeats: 5",
          "Forecaster: ForecasterRecursiveMultiSeries<br>Regressor: DummyRegressor<br>Function: ForecasterRecursiveMultiSeries_backtesting_series_is_dict_no_exog_conformal<br>Function_hash: 0bbb8879ad4c01b44244adbbf25f17e6<br>Method: backtesting_series_is_dict_no_exog_conformal<br>Datetime: 2025-08-26 07:37:26.366613<br>Python version: 3.12.11<br>skforecast version: 0.17.0<br>numpy version: 2.1.3<br>pandas version: 2.3.2<br>sklearn version: 1.6.1<br>lightgbm version: 4.6.0<br>Platform: Linux-6.11.0-1018-azure-x86_64-with-glibc2.39<br>Processor: x86_64<br>CPU count: 4<br>Memory (GB): 16.77<br>Run time avg: 16.201029 s<br>Run time median: 16.151330 s<br>Run time p95: 16.670849 s<br>Run time std: 0.334992 s<br>Nº repeats: 5",
          "Forecaster: ForecasterRecursiveMultiSeries<br>Regressor: DummyRegressor<br>Function: ForecasterRecursiveMultiSeries_backtesting_series_is_dict_no_exog_conformal<br>Function_hash: 0bbb8879ad4c01b44244adbbf25f17e6<br>Method: backtesting_series_is_dict_no_exog_conformal<br>Datetime: 2025-08-26 07:50:10.932279<br>Python version: 3.12.11<br>skforecast version: 0.17.0<br>numpy version: 2.1.3<br>pandas version: 2.3.2<br>sklearn version: 1.6.1<br>lightgbm version: 4.6.0<br>Platform: Linux-6.11.0-1018-azure-x86_64-with-glibc2.39<br>Processor: x86_64<br>CPU count: 4<br>Memory (GB): 16.77<br>Run time avg: 16.180377 s<br>Run time median: 16.087699 s<br>Run time p95: 16.419988 s<br>Run time std: 0.154751 s<br>Nº repeats: 5",
          "Forecaster: ForecasterRecursiveMultiSeries<br>Regressor: DummyRegressor<br>Function: ForecasterRecursiveMultiSeries_backtesting_series_is_dict_no_exog_conformal<br>Function_hash: 0bbb8879ad4c01b44244adbbf25f17e6<br>Method: backtesting_series_is_dict_no_exog_conformal<br>Datetime: 2025-08-26 08:16:07.633480<br>Python version: 3.12.11<br>skforecast version: 0.17.0<br>numpy version: 2.1.3<br>pandas version: 2.3.2<br>sklearn version: 1.6.1<br>lightgbm version: 4.6.0<br>Platform: Linux-6.11.0-1018-azure-x86_64-with-glibc2.39<br>Processor: x86_64<br>CPU count: 4<br>Memory (GB): 16.77<br>Run time avg: 16.084589 s<br>Run time median: 16.162917 s<br>Run time p95: 16.309382 s<br>Run time std: 0.233647 s<br>Nº repeats: 5"
         ],
         "type": "scatter",
         "visible": false,
         "x": {
          "bdata": "Qc/sqkU8AECPWHZ+jbn/P/u1MZJKPQBAQcqtZrBm/z8wwSeizcD/Pw==",
          "dtype": "f8"
         },
         "y": {
          "bdata": "82kZ2tUvMECAILlwuT0wQNOjYaN2MzBAc/kTNC0uMECAPUOmpxUwQA==",
          "dtype": "f8"
         }
        },
        {
         "error_y": {
          "array": {
           "bdata": "08nluNWGzj/d1ujPjO7VPwG3/HLnF98/L0vMKZwS1T8=",
           "dtype": "f8"
          },
          "color": "#636EFA",
          "thickness": 1.5,
          "type": "data",
          "visible": true,
          "width": 5
         },
         "hovertemplate": "%{text}<extra></extra>",
         "marker": {
          "color": "#636EFA",
          "line": {
           "color": "white",
           "width": 1
          },
          "opacity": 0.85,
          "size": 10
         },
         "mode": "markers",
         "text": [
          "Forecaster: ForecasterRecursiveMultiSeries<br>Regressor: DummyRegressor<br>Function: ForecasterRecursiveMultiSeries_backtesting_series_is_dict_exog_dict_conformal<br>Function_hash: dfc7faacb372c27f41c7601de640b981<br>Method: backtesting_series_is_dict_exog_dict_conformal<br>Datetime: 2025-08-26 09:26:37.941499<br>Python version: 3.12.11<br>skforecast version: 0.15.1<br>numpy version: 2.1.3<br>pandas version: 2.3.2<br>sklearn version: 1.6.1<br>lightgbm version: 4.6.0<br>Platform: Linux-6.11.0-1018-azure-x86_64-with-glibc2.39<br>Processor: x86_64<br>CPU count: 4<br>Memory (GB): 16.77<br>Run time avg: 30.170466 s<br>Run time median: 30.139936 s<br>Run time p95: 30.508069 s<br>Run time std: 0.238490 s<br>Nº repeats: 5",
          "Forecaster: ForecasterRecursiveMultiSeries<br>Regressor: DummyRegressor<br>Function: ForecasterRecursiveMultiSeries_backtesting_series_is_dict_exog_dict_conformal<br>Function_hash: dfc7faacb372c27f41c7601de640b981<br>Method: backtesting_series_is_dict_exog_dict_conformal<br>Datetime: 2025-08-26 09:42:57.200119<br>Python version: 3.12.11<br>skforecast version: 0.15.1<br>numpy version: 2.1.3<br>pandas version: 2.3.2<br>sklearn version: 1.6.1<br>lightgbm version: 4.6.0<br>Platform: Linux-6.11.0-1018-azure-x86_64-with-glibc2.39<br>Processor: x86_64<br>CPU count: 4<br>Memory (GB): 16.77<br>Run time avg: 31.417281 s<br>Run time median: 31.337542 s<br>Run time p95: 31.921723 s<br>Run time std: 0.342685 s<br>Nº repeats: 5",
          "Forecaster: ForecasterRecursiveMultiSeries<br>Regressor: DummyRegressor<br>Function: ForecasterRecursiveMultiSeries_backtesting_series_is_dict_exog_dict_conformal<br>Function_hash: dfc7faacb372c27f41c7601de640b981<br>Method: backtesting_series_is_dict_exog_dict_conformal<br>Datetime: 2025-08-26 09:55:38.098927<br>Python version: 3.12.11<br>skforecast version: 0.15.1<br>numpy version: 2.1.3<br>pandas version: 2.3.2<br>sklearn version: 1.6.1<br>lightgbm version: 4.6.0<br>Platform: Linux-6.11.0-1018-azure-x86_64-with-glibc2.39<br>Processor: x86_64<br>CPU count: 4<br>Memory (GB): 16.77<br>Run time avg: 30.763247 s<br>Run time median: 30.789819 s<br>Run time p95: 31.339177 s<br>Run time std: 0.485834 s<br>Nº repeats: 5",
          "Forecaster: ForecasterRecursiveMultiSeries<br>Regressor: DummyRegressor<br>Function: ForecasterRecursiveMultiSeries_backtesting_series_is_dict_exog_dict_conformal<br>Function_hash: dfc7faacb372c27f41c7601de640b981<br>Method: backtesting_series_is_dict_exog_dict_conformal<br>Datetime: 2025-08-26 10:19:08.546112<br>Python version: 3.12.11<br>skforecast version: 0.15.1<br>numpy version: 2.1.3<br>pandas version: 2.3.2<br>sklearn version: 1.6.1<br>lightgbm version: 4.6.0<br>Platform: Linux-6.11.0-1018-azure-x86_64-with-glibc2.39<br>Processor: x86_64<br>CPU count: 4<br>Memory (GB): 16.77<br>Run time avg: 30.130186 s<br>Run time median: 30.118046 s<br>Run time p95: 30.553242 s<br>Run time std: 0.329261 s<br>Nº repeats: 5"
         ],
         "type": "scatter",
         "visible": false,
         "x": {
          "bdata": "BCwHif+kp78GmfiRpW2Qv/hkD5JYTYW/MCu23rxEjD8=",
          "dtype": "f8"
         },
         "y": {
          "bdata": "c1jArKMrPkBAikbn0mo/QCa5zSpkwz5AenQM2VMhPkA=",
          "dtype": "f8"
         }
        },
        {
         "error_y": {
          "array": {
           "bdata": "frt2VjJdxz9iHc9zMYjfP4cVikZJI9c/mar4l9nswT8=",
           "dtype": "f8"
          },
          "color": "#EF553B",
          "thickness": 1.5,
          "type": "data",
          "visible": true,
          "width": 5
         },
         "hovertemplate": "%{text}<extra></extra>",
         "marker": {
          "color": "#EF553B",
          "line": {
           "color": "white",
           "width": 1
          },
          "opacity": 0.85,
          "size": 10
         },
         "mode": "markers",
         "text": [
          "Forecaster: ForecasterRecursiveMultiSeries<br>Regressor: DummyRegressor<br>Function: ForecasterRecursiveMultiSeries_backtesting_series_is_dict_exog_dict_conformal<br>Function_hash: dfc7faacb372c27f41c7601de640b981<br>Method: backtesting_series_is_dict_exog_dict_conformal<br>Datetime: 2025-08-26 08:37:15.485067<br>Python version: 3.12.11<br>skforecast version: 0.16.0<br>numpy version: 2.1.3<br>pandas version: 2.3.2<br>sklearn version: 1.6.1<br>lightgbm version: 4.6.0<br>Platform: Linux-6.11.0-1018-azure-x86_64-with-glibc2.39<br>Processor: x86_64<br>CPU count: 4<br>Memory (GB): 16.77<br>Run time avg: 22.142142 s<br>Run time median: 22.210329 s<br>Run time p95: 22.317511 s<br>Run time std: 0.182532 s<br>Nº repeats: 5",
          "Forecaster: ForecasterRecursiveMultiSeries<br>Regressor: DummyRegressor<br>Function: ForecasterRecursiveMultiSeries_backtesting_series_is_dict_exog_dict_conformal<br>Function_hash: dfc7faacb372c27f41c7601de640b981<br>Method: backtesting_series_is_dict_exog_dict_conformal<br>Datetime: 2025-08-26 08:46:57.131022<br>Python version: 3.12.11<br>skforecast version: 0.16.0<br>numpy version: 2.1.3<br>pandas version: 2.3.2<br>sklearn version: 1.6.1<br>lightgbm version: 4.6.0<br>Platform: Linux-6.11.0-1018-azure-x86_64-with-glibc2.39<br>Processor: x86_64<br>CPU count: 4<br>Memory (GB): 16.77<br>Run time avg: 21.292102 s<br>Run time median: 20.994125 s<br>Run time p95: 21.950172 s<br>Run time std: 0.492688 s<br>Nº repeats: 5",
          "Forecaster: ForecasterRecursiveMultiSeries<br>Regressor: DummyRegressor<br>Function: ForecasterRecursiveMultiSeries_backtesting_series_is_dict_exog_dict_conformal<br>Function_hash: dfc7faacb372c27f41c7601de640b981<br>Method: backtesting_series_is_dict_exog_dict_conformal<br>Datetime: 2025-08-26 09:01:14.589453<br>Python version: 3.12.11<br>skforecast version: 0.16.0<br>numpy version: 2.1.3<br>pandas version: 2.3.2<br>sklearn version: 1.6.1<br>lightgbm version: 4.6.0<br>Platform: Linux-6.11.0-1018-azure-x86_64-with-glibc2.39<br>Processor: x86_64<br>CPU count: 4<br>Memory (GB): 16.77<br>Run time avg: 21.644087 s<br>Run time median: 21.838583 s<br>Run time p95: 22.028329 s<br>Run time std: 0.361529 s<br>Nº repeats: 5",
          "Forecaster: ForecasterRecursiveMultiSeries<br>Regressor: DummyRegressor<br>Function: ForecasterRecursiveMultiSeries_backtesting_series_is_dict_exog_dict_conformal<br>Function_hash: dfc7faacb372c27f41c7601de640b981<br>Method: backtesting_series_is_dict_exog_dict_conformal<br>Datetime: 2025-08-26 09:11:52.715009<br>Python version: 3.12.11<br>skforecast version: 0.16.0<br>numpy version: 2.1.3<br>pandas version: 2.3.2<br>sklearn version: 1.6.1<br>lightgbm version: 4.6.0<br>Platform: Linux-6.11.0-1018-azure-x86_64-with-glibc2.39<br>Processor: x86_64<br>CPU count: 4<br>Memory (GB): 16.77<br>Run time avg: 22.476901 s<br>Run time median: 22.533001 s<br>Run time p95: 22.632615 s<br>Run time std: 0.140041 s<br>Nº repeats: 5"
         ],
         "type": "scatter",
         "visible": false,
         "x": {
          "bdata": "NPCRe/jA8D8t6Jy4UffuP1Xh8SeYr+4/Ur8kbc6e7z8=",
          "dtype": "f8"
         },
         "y": {
          "bdata": "LWmPamMkNkDAWFA6x0o1QE3q7uHipDVAYz2FLxZ6NkA=",
          "dtype": "f8"
         }
        },
        {
         "error_y": {
          "array": {
           "bdata": "H0d5oENC0T8qbjfN/aTJP0EdkbvqttE/NxJfM4x10D+cMOJLBNvJPw==",
           "dtype": "f8"
          },
          "color": "#00CC96",
          "thickness": 1.5,
          "type": "data",
          "visible": true,
          "width": 5
         },
         "hovertemplate": "%{text}<extra></extra>",
         "marker": {
          "color": "#00CC96",
          "line": {
           "color": "white",
           "width": 1
          },
          "opacity": 0.85,
          "size": 10
         },
         "mode": "markers",
         "text": [
          "Forecaster: ForecasterRecursiveMultiSeries<br>Regressor: DummyRegressor<br>Function: ForecasterRecursiveMultiSeries_backtesting_series_is_dict_exog_dict_conformal<br>Function_hash: dfc7faacb372c27f41c7601de640b981<br>Method: backtesting_series_is_dict_exog_dict_conformal<br>Datetime: 2025-08-26 07:07:48.891039<br>Python version: 3.12.11<br>skforecast version: 0.17.0<br>numpy version: 2.1.3<br>pandas version: 2.3.2<br>sklearn version: 1.6.1<br>lightgbm version: 4.6.0<br>Platform: Linux-6.11.0-1018-azure-x86_64-with-glibc2.39<br>Processor: x86_64<br>CPU count: 4<br>Memory (GB): 16.77<br>Run time avg: 21.205036 s<br>Run time median: 21.227285 s<br>Run time p95: 21.560410 s<br>Run time std: 0.269669 s<br>Nº repeats: 5",
          "Forecaster: ForecasterRecursiveMultiSeries<br>Regressor: DummyRegressor<br>Function: ForecasterRecursiveMultiSeries_backtesting_series_is_dict_exog_dict_conformal<br>Function_hash: dfc7faacb372c27f41c7601de640b981<br>Method: backtesting_series_is_dict_exog_dict_conformal<br>Datetime: 2025-08-26 07:20:48.857766<br>Python version: 3.12.11<br>skforecast version: 0.17.0<br>numpy version: 2.1.3<br>pandas version: 2.3.2<br>sklearn version: 1.6.1<br>lightgbm version: 4.6.0<br>Platform: Linux-6.11.0-1018-azure-x86_64-with-glibc2.39<br>Processor: x86_64<br>CPU count: 4<br>Memory (GB): 16.77<br>Run time avg: 21.540190 s<br>Run time median: 21.402319 s<br>Run time p95: 21.829475 s<br>Run time std: 0.200348 s<br>Nº repeats: 5",
          "Forecaster: ForecasterRecursiveMultiSeries<br>Regressor: DummyRegressor<br>Function: ForecasterRecursiveMultiSeries_backtesting_series_is_dict_exog_dict_conformal<br>Function_hash: dfc7faacb372c27f41c7601de640b981<br>Method: backtesting_series_is_dict_exog_dict_conformal<br>Datetime: 2025-08-26 07:39:15.509573<br>Python version: 3.12.11<br>skforecast version: 0.17.0<br>numpy version: 2.1.3<br>pandas version: 2.3.2<br>sklearn version: 1.6.1<br>lightgbm version: 4.6.0<br>Platform: Linux-6.11.0-1018-azure-x86_64-with-glibc2.39<br>Processor: x86_64<br>CPU count: 4<br>Memory (GB): 16.77<br>Run time avg: 21.827602 s<br>Run time median: 21.930811 s<br>Run time p95: 22.158277 s<br>Run time std: 0.276789 s<br>Nº repeats: 5",
          "Forecaster: ForecasterRecursiveMultiSeries<br>Regressor: DummyRegressor<br>Function: ForecasterRecursiveMultiSeries_backtesting_series_is_dict_exog_dict_conformal<br>Function_hash: dfc7faacb372c27f41c7601de640b981<br>Method: backtesting_series_is_dict_exog_dict_conformal<br>Datetime: 2025-08-26 07:52:00.178874<br>Python version: 3.12.11<br>skforecast version: 0.17.0<br>numpy version: 2.1.3<br>pandas version: 2.3.2<br>sklearn version: 1.6.1<br>lightgbm version: 4.6.0<br>Platform: Linux-6.11.0-1018-azure-x86_64-with-glibc2.39<br>Processor: x86_64<br>CPU count: 4<br>Memory (GB): 16.77<br>Run time avg: 21.848323 s<br>Run time median: 21.773426 s<br>Run time p95: 22.204963 s<br>Run time std: 0.257175 s<br>Nº repeats: 5",
          "Forecaster: ForecasterRecursiveMultiSeries<br>Regressor: DummyRegressor<br>Function: ForecasterRecursiveMultiSeries_backtesting_series_is_dict_exog_dict_conformal<br>Function_hash: dfc7faacb372c27f41c7601de640b981<br>Method: backtesting_series_is_dict_exog_dict_conformal<br>Datetime: 2025-08-26 08:17:55.778124<br>Python version: 3.12.11<br>skforecast version: 0.17.0<br>numpy version: 2.1.3<br>pandas version: 2.3.2<br>sklearn version: 1.6.1<br>lightgbm version: 4.6.0<br>Platform: Linux-6.11.0-1018-azure-x86_64-with-glibc2.39<br>Processor: x86_64<br>CPU count: 4<br>Memory (GB): 16.77<br>Run time avg: 21.627897 s<br>Run time median: 21.734955 s<br>Run time p95: 21.848927 s<br>Run time std: 0.201996 s<br>Nº repeats: 5"
         ],
         "type": "scatter",
         "visible": false,
         "x": {
          "bdata": "3AmEdG/A/z9NWgoAJ/n/P3GvHmaSFQBAiLXgrDVG/z9QX5vI1sD/Pw==",
          "dtype": "f8"
         },
         "y": {
          "bdata": "TVjJPn00NUBzEo/qSYo1QPoi8bzd0zVA9r0mtyvZNUBm9oHZvaA1QA==",
          "dtype": "f8"
         }
        },
        {
         "line": {
          "color": "#374151",
          "width": 2
         },
         "marker": {
          "color": "#374151",
          "size": 8
         },
         "mode": "lines+markers",
         "name": "Median (per version)",
         "type": "scatter",
         "visible": true,
         "x": {
          "bdata": "AAEC",
          "dtype": "i1"
         },
         "y": {
          "bdata": "sO/JjywF/T9NOzBd4ZnvP5o37vFaMu8/",
          "dtype": "f8"
         }
        },
        {
         "line": {
          "color": "#374151",
          "width": 2
         },
         "marker": {
          "color": "#374151",
          "size": 8
         },
         "mode": "lines+markers",
         "name": "Median (per version)",
         "type": "scatter",
         "visible": false,
         "x": {
          "bdata": "AAEC",
          "dtype": "i1"
         },
         "y": {
          "bdata": "NuW6X/yOAED0dHzFrUj0P0Be+NJuBPU/",
          "dtype": "f8"
         }
        },
        {
         "line": {
          "color": "#374151",
          "width": 2
         },
         "marker": {
          "color": "#374151",
          "size": 8
         },
         "mode": "lines+markers",
         "name": "Median (per version)",
         "type": "scatter",
         "visible": false,
         "x": {
          "bdata": "AAEC",
          "dtype": "i1"
         },
         "y": {
          "bdata": "6h68Bl4tAECAlCj+Xq7zP01dnt/Tg/M/",
          "dtype": "f8"
         }
        },
        {
         "line": {
          "color": "#374151",
          "width": 2
         },
         "marker": {
          "color": "#374151",
          "size": 8
         },
         "mode": "lines+markers",
         "name": "Median (per version)",
         "type": "scatter",
         "visible": false,
         "x": {
          "bdata": "Ag==",
          "dtype": "i1"
         },
         "y": {
          "bdata": "GvlpCEGx8z8=",
          "dtype": "f8"
         }
        },
        {
         "line": {
          "color": "#374151",
          "width": 2
         },
         "marker": {
          "color": "#374151",
          "size": 8
         },
         "mode": "lines+markers",
         "name": "Median (per version)",
         "type": "scatter",
         "visible": false,
         "x": {
          "bdata": "Ag==",
          "dtype": "i1"
         },
         "y": {
          "bdata": "gPBnLCXd8T8=",
          "dtype": "f8"
         }
        },
        {
         "line": {
          "color": "#374151",
          "width": 2
         },
         "marker": {
          "color": "#374151",
          "size": 8
         },
         "mode": "lines+markers",
         "name": "Median (per version)",
         "type": "scatter",
         "visible": false,
         "x": {
          "bdata": "Ag==",
          "dtype": "i1"
         },
         "y": {
          "bdata": "GjyeteMG/z8=",
          "dtype": "f8"
         }
        },
        {
         "line": {
          "color": "#374151",
          "width": 2
         },
         "marker": {
          "color": "#374151",
          "size": 8
         },
         "mode": "lines+markers",
         "name": "Median (per version)",
         "type": "scatter",
         "visible": false,
         "x": {
          "bdata": "Ag==",
          "dtype": "i1"
         },
         "y": {
          "bdata": "WgAhNvoT9j8=",
          "dtype": "f8"
         }
        },
        {
         "line": {
          "color": "#374151",
          "width": 2
         },
         "marker": {
          "color": "#374151",
          "size": 8
         },
         "mode": "lines+markers",
         "name": "Median (per version)",
         "type": "scatter",
         "visible": false,
         "x": {
          "bdata": "AAEC",
          "dtype": "i1"
         },
         "y": {
          "bdata": "mhmlM64DYT+amddgrKBOP5qZBRWDrk4/",
          "dtype": "f8"
         }
        },
        {
         "line": {
          "color": "#374151",
          "width": 2
         },
         "marker": {
          "color": "#374151",
          "size": 8
         },
         "mode": "lines+markers",
         "name": "Median (per version)",
         "type": "scatter",
         "visible": false,
         "x": {
          "bdata": "AAEC",
          "dtype": "i1"
         },
         "y": {
          "bdata": "WjakN7/3B0DmoiZm9A35PxrDZkA5Gvk/",
          "dtype": "f8"
         }
        },
        {
         "line": {
          "color": "#374151",
          "width": 2
         },
         "marker": {
          "color": "#374151",
          "size": 8
         },
         "mode": "lines+markers",
         "name": "Median (per version)",
         "type": "scatter",
         "visible": false,
         "x": {
          "bdata": "AAEC",
          "dtype": "i1"
         },
         "y": {
          "bdata": "jWgpMhlTCkAAiZuGca79P5rl43dvpf4/",
          "dtype": "f8"
         }
        },
        {
         "line": {
          "color": "#374151",
          "width": 2
         },
         "marker": {
          "color": "#374151",
          "size": 8
         },
         "mode": "lines+markers",
         "name": "Median (per version)",
         "type": "scatter",
         "visible": false,
         "x": {
          "bdata": "AAEC",
          "dtype": "i1"
         },
         "y": {
          "bdata": "VMzFd1xXCEA0OAt6tdD7PwCVtNnOs/s/",
          "dtype": "f8"
         }
        },
        {
         "line": {
          "color": "#374151",
          "width": 2
         },
         "marker": {
          "color": "#374151",
          "size": 8
         },
         "mode": "lines+markers",
         "name": "Median (per version)",
         "type": "scatter",
         "visible": false,
         "x": {
          "bdata": "Ag==",
          "dtype": "i1"
         },
         "y": {
          "bdata": "zcj4HSpB+z8=",
          "dtype": "f8"
         }
        },
        {
         "line": {
          "color": "#374151",
          "width": 2
         },
         "marker": {
          "color": "#374151",
          "size": 8
         },
         "mode": "lines+markers",
         "name": "Median (per version)",
         "type": "scatter",
         "visible": false,
         "x": {
          "bdata": "Ag==",
          "dtype": "i1"
         },
         "y": {
          "bdata": "zdeEc89bBEA=",
          "dtype": "f8"
         }
        },
        {
         "line": {
          "color": "#374151",
          "width": 2
         },
         "marker": {
          "color": "#374151",
          "size": 8
         },
         "mode": "lines+markers",
         "name": "Median (per version)",
         "type": "scatter",
         "visible": false,
         "x": {
          "bdata": "Ag==",
          "dtype": "i1"
         },
         "y": {
          "bdata": "zVaETEZ6AEA=",
          "dtype": "f8"
         }
        },
        {
         "line": {
          "color": "#374151",
          "width": 2
         },
         "marker": {
          "color": "#374151",
          "size": 8
         },
         "mode": "lines+markers",
         "name": "Median (per version)",
         "type": "scatter",
         "visible": false,
         "x": {
          "bdata": "AAEC",
          "dtype": "i1"
         },
         "y": {
          "bdata": "mv8Tk5/L0D/NlEbwjg6wP2Zm4kUVtK8/",
          "dtype": "f8"
         }
        },
        {
         "line": {
          "color": "#374151",
          "width": 2
         },
         "marker": {
          "color": "#374151",
          "size": 8
         },
         "mode": "lines+markers",
         "name": "Median (per version)",
         "type": "scatter",
         "visible": false,
         "x": {
          "bdata": "AAEC",
          "dtype": "i1"
         },
         "y": {
          "bdata": "M9q/vbIc+D+aNvrqxEvOP2b+m1dC5c0/",
          "dtype": "f8"
         }
        },
        {
         "line": {
          "color": "#374151",
          "width": 2
         },
         "marker": {
          "color": "#374151",
          "size": 8
         },
         "mode": "lines+markers",
         "name": "Median (per version)",
         "type": "scatter",
         "visible": false,
         "x": {
          "bdata": "Ag==",
          "dtype": "i1"
         },
         "y": {
          "bdata": "M+ts17Nf2z8=",
          "dtype": "f8"
         }
        },
        {
         "line": {
          "color": "#374151",
          "width": 2
         },
         "marker": {
          "color": "#374151",
          "size": 8
         },
         "mode": "lines+markers",
         "name": "Median (per version)",
         "type": "scatter",
         "visible": false,
         "x": {
          "bdata": "Ag==",
          "dtype": "i1"
         },
         "y": {
          "bdata": "ZoYcytorvD8=",
          "dtype": "f8"
         }
        },
        {
         "line": {
          "color": "#374151",
          "width": 2
         },
         "marker": {
          "color": "#374151",
          "size": 8
         },
         "mode": "lines+markers",
         "name": "Median (per version)",
         "type": "scatter",
         "visible": false,
         "x": {
          "bdata": "AAEC",
          "dtype": "i1"
         },
         "y": {
          "bdata": "mgQn3uZ9+T8Ac9qjAjrTP2amYs5nTNM/",
          "dtype": "f8"
         }
        },
        {
         "line": {
          "color": "#374151",
          "width": 2
         },
         "marker": {
          "color": "#374151",
          "size": 8
         },
         "mode": "lines+markers",
         "name": "Median (per version)",
         "type": "scatter",
         "visible": false,
         "x": {
          "bdata": "Ag==",
          "dtype": "i1"
         },
         "y": {
          "bdata": "miHslAYH3z8=",
          "dtype": "f8"
         }
        },
        {
         "line": {
          "color": "#374151",
          "width": 2
         },
         "marker": {
          "color": "#374151",
          "size": 8
         },
         "mode": "lines+markers",
         "name": "Median (per version)",
         "type": "scatter",
         "visible": false,
         "x": {
          "bdata": "AAEC",
          "dtype": "i1"
         },
         "y": {
          "bdata": "k3b9/X/9/D9NIbUer2DhPwBQ1YaIeOE/",
          "dtype": "f8"
         }
        },
        {
         "line": {
          "color": "#374151",
          "width": 2
         },
         "marker": {
          "color": "#374151",
          "size": 8
         },
         "mode": "lines+markers",
         "name": "Median (per version)",
         "type": "scatter",
         "visible": false,
         "x": {
          "bdata": "AAEC",
          "dtype": "i1"
         },
         "y": {
          "bdata": "E0Fo3mWZLkDjJY6H+QQrQMYx0eqkPCtA",
          "dtype": "f8"
         }
        },
        {
         "line": {
          "color": "#374151",
          "width": 2
         },
         "marker": {
          "color": "#374151",
          "size": 8
         },
         "mode": "lines+markers",
         "name": "Median (per version)",
         "type": "scatter",
         "visible": false,
         "x": {
          "bdata": "AAEC",
          "dtype": "i1"
         },
         "y": {
          "bdata": "ZPIf7Dr4OkB06a9G48MyQDpinm0juzJA",
          "dtype": "f8"
         }
        },
        {
         "line": {
          "color": "#374151",
          "width": 2
         },
         "marker": {
          "color": "#374151",
          "size": 8
         },
         "mode": "lines+markers",
         "name": "Median (per version)",
         "type": "scatter",
         "visible": false,
         "x": {
          "bdata": "AAEC",
          "dtype": "i1"
         },
         "y": {
          "bdata": "0sCpdT2AMkBEoJsoy28wQPNpGdrVLzBA",
          "dtype": "f8"
         }
        },
        {
         "line": {
          "color": "#374151",
          "width": 2
         },
         "marker": {
          "color": "#374151",
          "size": 8
         },
         "mode": "lines+markers",
         "name": "Median (per version)",
         "type": "scatter",
         "visible": false,
         "x": {
          "bdata": "AAEC",
          "dtype": "i1"
         },
         "y": {
          "bdata": "zAjH64N3PkC9KT8mo+Q1QGb2gdm9oDVA",
          "dtype": "f8"
         }
        },
        {
         "line": {
          "color": "#9CA3AF",
          "dash": "dash",
          "width": 2
         },
         "marker": {
          "color": "#9CA3AF",
          "size": 8
         },
         "mode": "lines+markers",
         "name": "Mean (per version)",
         "type": "scatter",
         "visible": true,
         "x": {
          "bdata": "AAEC",
          "dtype": "i1"
         },
         "y": {
          "bdata": "zpT5FRMN/T9ds2GbPXPvP7jPS0EZP+8/",
          "dtype": "f8"
         }
        },
        {
         "line": {
          "color": "#9CA3AF",
          "dash": "dash",
          "width": 2
         },
         "marker": {
          "color": "#9CA3AF",
          "size": 8
         },
         "mode": "lines+markers",
         "name": "Mean (per version)",
         "type": "scatter",
         "visible": false,
         "x": {
          "bdata": "AAEC",
          "dtype": "i1"
         },
         "y": {
          "bdata": "qZKyEJeLAEDMemDKNzr0P8jUbOS+BvU/",
          "dtype": "f8"
         }
        },
        {
         "line": {
          "color": "#9CA3AF",
          "dash": "dash",
          "width": 2
         },
         "marker": {
          "color": "#9CA3AF",
          "size": 8
         },
         "mode": "lines+markers",
         "name": "Mean (per version)",
         "type": "scatter",
         "visible": false,
         "x": {
          "bdata": "AAEC",
          "dtype": "i1"
         },
         "y": {
          "bdata": "DvrxVh8tAEAziOjbs5vzP+ln0xL7g/M/",
          "dtype": "f8"
         }
        },
        {
         "line": {
          "color": "#9CA3AF",
          "dash": "dash",
          "width": 2
         },
         "marker": {
          "color": "#9CA3AF",
          "size": 8
         },
         "mode": "lines+markers",
         "name": "Mean (per version)",
         "type": "scatter",
         "visible": false,
         "x": {
          "bdata": "Ag==",
          "dtype": "i1"
         },
         "y": {
          "bdata": "rDmDvcym8z8=",
          "dtype": "f8"
         }
        },
        {
         "line": {
          "color": "#9CA3AF",
          "dash": "dash",
          "width": 2
         },
         "marker": {
          "color": "#9CA3AF",
          "size": 8
         },
         "mode": "lines+markers",
         "name": "Mean (per version)",
         "type": "scatter",
         "visible": false,
         "x": {
          "bdata": "Ag==",
          "dtype": "i1"
         },
         "y": {
          "bdata": "ZHZeSmjN8T8=",
          "dtype": "f8"
         }
        },
        {
         "line": {
          "color": "#9CA3AF",
          "dash": "dash",
          "width": 2
         },
         "marker": {
          "color": "#9CA3AF",
          "size": 8
         },
         "mode": "lines+markers",
         "name": "Mean (per version)",
         "type": "scatter",
         "visible": false,
         "x": {
          "bdata": "Ag==",
          "dtype": "i1"
         },
         "y": {
          "bdata": "kF6KPcDH/j8=",
          "dtype": "f8"
         }
        },
        {
         "line": {
          "color": "#9CA3AF",
          "dash": "dash",
          "width": 2
         },
         "marker": {
          "color": "#9CA3AF",
          "size": 8
         },
         "mode": "lines+markers",
         "name": "Mean (per version)",
         "type": "scatter",
         "visible": false,
         "x": {
          "bdata": "Ag==",
          "dtype": "i1"
         },
         "y": {
          "bdata": "q4tEwTH89T8=",
          "dtype": "f8"
         }
        },
        {
         "line": {
          "color": "#9CA3AF",
          "dash": "dash",
          "width": 2
         },
         "marker": {
          "color": "#9CA3AF",
          "size": 8
         },
         "mode": "lines+markers",
         "name": "Mean (per version)",
         "type": "scatter",
         "visible": false,
         "x": {
          "bdata": "AAEC",
          "dtype": "i1"
         },
         "y": {
          "bdata": "mpnIwk0KYT9mpgwqH7FOP0jh2tkapU4/",
          "dtype": "f8"
         }
        },
        {
         "line": {
          "color": "#9CA3AF",
          "dash": "dash",
          "width": 2
         },
         "marker": {
          "color": "#9CA3AF",
          "size": 8
         },
         "mode": "lines+markers",
         "name": "Mean (per version)",
         "type": "scatter",
         "visible": false,
         "x": {
          "bdata": "AAEC",
          "dtype": "i1"
         },
         "y": {
          "bdata": "06W7hvj7B0CAc7Mo/RP5P4DEob9XCvk/",
          "dtype": "f8"
         }
        },
        {
         "line": {
          "color": "#9CA3AF",
          "dash": "dash",
          "width": 2
         },
         "marker": {
          "color": "#9CA3AF",
          "size": 8
         },
         "mode": "lines+markers",
         "name": "Mean (per version)",
         "type": "scatter",
         "visible": false,
         "x": {
          "bdata": "AAEC",
          "dtype": "i1"
         },
         "y": {
          "bdata": "llrMcgpkCkAGLaudWqb9P2ZEoFiPj/4/",
          "dtype": "f8"
         }
        },
        {
         "line": {
          "color": "#9CA3AF",
          "dash": "dash",
          "width": 2
         },
         "marker": {
          "color": "#9CA3AF",
          "size": 8
         },
         "mode": "lines+markers",
         "name": "Mean (per version)",
         "type": "scatter",
         "visible": false,
         "x": {
          "bdata": "AAEC",
          "dtype": "i1"
         },
         "y": {
          "bdata": "fcbNtddRCEB6Eq8CIuX7PzPaFN5ctfs/",
          "dtype": "f8"
         }
        },
        {
         "line": {
          "color": "#9CA3AF",
          "dash": "dash",
          "width": 2
         },
         "marker": {
          "color": "#9CA3AF",
          "size": 8
         },
         "mode": "lines+markers",
         "name": "Mean (per version)",
         "type": "scatter",
         "visible": false,
         "x": {
          "bdata": "Ag==",
          "dtype": "i1"
         },
         "y": {
          "bdata": "Uh2RQuRL+z8=",
          "dtype": "f8"
         }
        },
        {
         "line": {
          "color": "#9CA3AF",
          "dash": "dash",
          "width": 2
         },
         "marker": {
          "color": "#9CA3AF",
          "size": 8
         },
         "mode": "lines+markers",
         "name": "Mean (per version)",
         "type": "scatter",
         "visible": false,
         "x": {
          "bdata": "Ag==",
          "dtype": "i1"
         },
         "y": {
          "bdata": "l1wuxQpMBEA=",
          "dtype": "f8"
         }
        },
        {
         "line": {
          "color": "#9CA3AF",
          "dash": "dash",
          "width": 2
         },
         "marker": {
          "color": "#9CA3AF",
          "size": 8
         },
         "mode": "lines+markers",
         "name": "Mean (per version)",
         "type": "scatter",
         "visible": false,
         "x": {
          "bdata": "Ag==",
          "dtype": "i1"
         },
         "y": {
          "bdata": "qXSJ0YV+AEA=",
          "dtype": "f8"
         }
        },
        {
         "line": {
          "color": "#9CA3AF",
          "dash": "dash",
          "width": 2
         },
         "marker": {
          "color": "#9CA3AF",
          "size": 8
         },
         "mode": "lines+markers",
         "name": "Mean (per version)",
         "type": "scatter",
         "visible": false,
         "x": {
          "bdata": "AAEC",
          "dtype": "i1"
         },
         "y": {
          "bdata": "QNq7dazN0D/NrYLEnx2wP+txDAE1668/",
          "dtype": "f8"
         }
        },
        {
         "line": {
          "color": "#9CA3AF",
          "dash": "dash",
          "width": 2
         },
         "marker": {
          "color": "#9CA3AF",
          "size": 8
         },
         "mode": "lines+markers",
         "name": "Mean (per version)",
         "type": "scatter",
         "visible": false,
         "x": {
          "bdata": "AAEC",
          "dtype": "i1"
         },
         "y": {
          "bdata": "YHR0cLoa+D8anfucU3HOP9atHzYRFs4/",
          "dtype": "f8"
         }
        },
        {
         "line": {
          "color": "#9CA3AF",
          "dash": "dash",
          "width": 2
         },
         "marker": {
          "color": "#9CA3AF",
          "size": 8
         },
         "mode": "lines+markers",
         "name": "Mean (per version)",
         "type": "scatter",
         "visible": false,
         "x": {
          "bdata": "Ag==",
          "dtype": "i1"
         },
         "y": {
          "bdata": "oxsi6/he2z8=",
          "dtype": "f8"
         }
        },
        {
         "line": {
          "color": "#9CA3AF",
          "dash": "dash",
          "width": 2
         },
         "marker": {
          "color": "#9CA3AF",
          "size": 8
         },
         "mode": "lines+markers",
         "name": "Mean (per version)",
         "type": "scatter",
         "visible": false,
         "x": {
          "bdata": "Ag==",
          "dtype": "i1"
         },
         "y": {
          "bdata": "66W5ddUqvD8=",
          "dtype": "f8"
         }
        },
        {
         "line": {
          "color": "#9CA3AF",
          "dash": "dash",
          "width": 2
         },
         "marker": {
          "color": "#9CA3AF",
          "size": 8
         },
         "mode": "lines+markers",
         "name": "Mean (per version)",
         "type": "scatter",
         "visible": false,
         "x": {
          "bdata": "AAEC",
          "dtype": "i1"
         },
         "y": {
          "bdata": "mpTNROx2+T8Nrs4ahEnTP/ZsZ5uhRtM/",
          "dtype": "f8"
         }
        },
        {
         "line": {
          "color": "#9CA3AF",
          "dash": "dash",
          "width": 2
         },
         "marker": {
          "color": "#9CA3AF",
          "size": 8
         },
         "mode": "lines+markers",
         "name": "Mean (per version)",
         "type": "scatter",
         "visible": false,
         "x": {
          "bdata": "Ag==",
          "dtype": "i1"
         },
         "y": {
          "bdata": "MxF0XtYm3z8=",
          "dtype": "f8"
         }
        },
        {
         "line": {
          "color": "#9CA3AF",
          "dash": "dash",
          "width": 2
         },
         "marker": {
          "color": "#9CA3AF",
          "size": 8
         },
         "mode": "lines+markers",
         "name": "Mean (per version)",
         "type": "scatter",
         "visible": false,
         "x": {
          "bdata": "AAEC",
          "dtype": "i1"
         },
         "y": {
          "bdata": "VuxoQGcJ/T8aCL465lfhP80E3roHeeE/",
          "dtype": "f8"
         }
        },
        {
         "line": {
          "color": "#9CA3AF",
          "dash": "dash",
          "width": 2
         },
         "marker": {
          "color": "#9CA3AF",
          "size": 8
         },
         "mode": "lines+markers",
         "name": "Mean (per version)",
         "type": "scatter",
         "visible": false,
         "x": {
          "bdata": "AAEC",
          "dtype": "i1"
         },
         "y": {
          "bdata": "4xWUfo9yLkBy8GQES/oqQJi4reXMeStA",
          "dtype": "f8"
         }
        },
        {
         "line": {
          "color": "#9CA3AF",
          "dash": "dash",
          "width": 2
         },
         "marker": {
          "color": "#9CA3AF",
          "size": 8
         },
         "mode": "lines+markers",
         "name": "Mean (per version)",
         "type": "scatter",
         "visible": false,
         "x": {
          "bdata": "AAEC",
          "dtype": "i1"
         },
         "y": {
          "bdata": "0pdgpNccO0Ax3zRcqM8yQM5jkRzs0zJA",
          "dtype": "f8"
         }
        },
        {
         "line": {
          "color": "#9CA3AF",
          "dash": "dash",
          "width": 2
         },
         "marker": {
          "color": "#9CA3AF",
          "size": 8
         },
         "mode": "lines+markers",
         "name": "Mean (per version)",
         "type": "scatter",
         "visible": false,
         "x": {
          "bdata": "AAEC",
          "dtype": "i1"
         },
         "y": {
          "bdata": "671si4+QMkBDIJVc6XswQD4UT1vFLTBA",
          "dtype": "f8"
         }
        },
        {
         "line": {
          "color": "#9CA3AF",
          "dash": "dash",
          "width": 2
         },
         "marker": {
          "color": "#9CA3AF",
          "size": 8
         },
         "mode": "lines+markers",
         "name": "Mean (per version)",
         "type": "scatter",
         "visible": false,
         "x": {
          "bdata": "AAEC",
          "dtype": "i1"
         },
         "y": {
          "bdata": "FUT4pcuePkBn+pTtiOM1QJ5zMH4cnDVA",
          "dtype": "f8"
         }
        }
       ],
       "layout": {
        "legend": {
         "title": {
          "text": ""
         }
        },
        "margin": {
         "b": 60,
         "l": 70,
         "r": 20,
         "t": 100
        },
        "showlegend": false,
        "template": {
         "data": {
          "bar": [
           {
            "error_x": {
             "color": "#2a3f5f"
            },
            "error_y": {
             "color": "#2a3f5f"
            },
            "marker": {
             "line": {
              "color": "#E5ECF6",
              "width": 0.5
             },
             "pattern": {
              "fillmode": "overlay",
              "size": 10,
              "solidity": 0.2
             }
            },
            "type": "bar"
           }
          ],
          "barpolar": [
           {
            "marker": {
             "line": {
              "color": "#E5ECF6",
              "width": 0.5
             },
             "pattern": {
              "fillmode": "overlay",
              "size": 10,
              "solidity": 0.2
             }
            },
            "type": "barpolar"
           }
          ],
          "carpet": [
           {
            "aaxis": {
             "endlinecolor": "#2a3f5f",
             "gridcolor": "white",
             "linecolor": "white",
             "minorgridcolor": "white",
             "startlinecolor": "#2a3f5f"
            },
            "baxis": {
             "endlinecolor": "#2a3f5f",
             "gridcolor": "white",
             "linecolor": "white",
             "minorgridcolor": "white",
             "startlinecolor": "#2a3f5f"
            },
            "type": "carpet"
           }
          ],
          "choropleth": [
           {
            "colorbar": {
             "outlinewidth": 0,
             "ticks": ""
            },
            "type": "choropleth"
           }
          ],
          "contour": [
           {
            "colorbar": {
             "outlinewidth": 0,
             "ticks": ""
            },
            "colorscale": [
             [
              0,
              "#0d0887"
             ],
             [
              0.1111111111111111,
              "#46039f"
             ],
             [
              0.2222222222222222,
              "#7201a8"
             ],
             [
              0.3333333333333333,
              "#9c179e"
             ],
             [
              0.4444444444444444,
              "#bd3786"
             ],
             [
              0.5555555555555556,
              "#d8576b"
             ],
             [
              0.6666666666666666,
              "#ed7953"
             ],
             [
              0.7777777777777778,
              "#fb9f3a"
             ],
             [
              0.8888888888888888,
              "#fdca26"
             ],
             [
              1,
              "#f0f921"
             ]
            ],
            "type": "contour"
           }
          ],
          "contourcarpet": [
           {
            "colorbar": {
             "outlinewidth": 0,
             "ticks": ""
            },
            "type": "contourcarpet"
           }
          ],
          "heatmap": [
           {
            "colorbar": {
             "outlinewidth": 0,
             "ticks": ""
            },
            "colorscale": [
             [
              0,
              "#0d0887"
             ],
             [
              0.1111111111111111,
              "#46039f"
             ],
             [
              0.2222222222222222,
              "#7201a8"
             ],
             [
              0.3333333333333333,
              "#9c179e"
             ],
             [
              0.4444444444444444,
              "#bd3786"
             ],
             [
              0.5555555555555556,
              "#d8576b"
             ],
             [
              0.6666666666666666,
              "#ed7953"
             ],
             [
              0.7777777777777778,
              "#fb9f3a"
             ],
             [
              0.8888888888888888,
              "#fdca26"
             ],
             [
              1,
              "#f0f921"
             ]
            ],
            "type": "heatmap"
           }
          ],
          "histogram": [
           {
            "marker": {
             "pattern": {
              "fillmode": "overlay",
              "size": 10,
              "solidity": 0.2
             }
            },
            "type": "histogram"
           }
          ],
          "histogram2d": [
           {
            "colorbar": {
             "outlinewidth": 0,
             "ticks": ""
            },
            "colorscale": [
             [
              0,
              "#0d0887"
             ],
             [
              0.1111111111111111,
              "#46039f"
             ],
             [
              0.2222222222222222,
              "#7201a8"
             ],
             [
              0.3333333333333333,
              "#9c179e"
             ],
             [
              0.4444444444444444,
              "#bd3786"
             ],
             [
              0.5555555555555556,
              "#d8576b"
             ],
             [
              0.6666666666666666,
              "#ed7953"
             ],
             [
              0.7777777777777778,
              "#fb9f3a"
             ],
             [
              0.8888888888888888,
              "#fdca26"
             ],
             [
              1,
              "#f0f921"
             ]
            ],
            "type": "histogram2d"
           }
          ],
          "histogram2dcontour": [
           {
            "colorbar": {
             "outlinewidth": 0,
             "ticks": ""
            },
            "colorscale": [
             [
              0,
              "#0d0887"
             ],
             [
              0.1111111111111111,
              "#46039f"
             ],
             [
              0.2222222222222222,
              "#7201a8"
             ],
             [
              0.3333333333333333,
              "#9c179e"
             ],
             [
              0.4444444444444444,
              "#bd3786"
             ],
             [
              0.5555555555555556,
              "#d8576b"
             ],
             [
              0.6666666666666666,
              "#ed7953"
             ],
             [
              0.7777777777777778,
              "#fb9f3a"
             ],
             [
              0.8888888888888888,
              "#fdca26"
             ],
             [
              1,
              "#f0f921"
             ]
            ],
            "type": "histogram2dcontour"
           }
          ],
          "mesh3d": [
           {
            "colorbar": {
             "outlinewidth": 0,
             "ticks": ""
            },
            "type": "mesh3d"
           }
          ],
          "parcoords": [
           {
            "line": {
             "colorbar": {
              "outlinewidth": 0,
              "ticks": ""
             }
            },
            "type": "parcoords"
           }
          ],
          "pie": [
           {
            "automargin": true,
            "type": "pie"
           }
          ],
          "scatter": [
           {
            "fillpattern": {
             "fillmode": "overlay",
             "size": 10,
             "solidity": 0.2
            },
            "type": "scatter"
           }
          ],
          "scatter3d": [
           {
            "line": {
             "colorbar": {
              "outlinewidth": 0,
              "ticks": ""
             }
            },
            "marker": {
             "colorbar": {
              "outlinewidth": 0,
              "ticks": ""
             }
            },
            "type": "scatter3d"
           }
          ],
          "scattercarpet": [
           {
            "marker": {
             "colorbar": {
              "outlinewidth": 0,
              "ticks": ""
             }
            },
            "type": "scattercarpet"
           }
          ],
          "scattergeo": [
           {
            "marker": {
             "colorbar": {
              "outlinewidth": 0,
              "ticks": ""
             }
            },
            "type": "scattergeo"
           }
          ],
          "scattergl": [
           {
            "marker": {
             "colorbar": {
              "outlinewidth": 0,
              "ticks": ""
             }
            },
            "type": "scattergl"
           }
          ],
          "scattermap": [
           {
            "marker": {
             "colorbar": {
              "outlinewidth": 0,
              "ticks": ""
             }
            },
            "type": "scattermap"
           }
          ],
          "scattermapbox": [
           {
            "marker": {
             "colorbar": {
              "outlinewidth": 0,
              "ticks": ""
             }
            },
            "type": "scattermapbox"
           }
          ],
          "scatterpolar": [
           {
            "marker": {
             "colorbar": {
              "outlinewidth": 0,
              "ticks": ""
             }
            },
            "type": "scatterpolar"
           }
          ],
          "scatterpolargl": [
           {
            "marker": {
             "colorbar": {
              "outlinewidth": 0,
              "ticks": ""
             }
            },
            "type": "scatterpolargl"
           }
          ],
          "scatterternary": [
           {
            "marker": {
             "colorbar": {
              "outlinewidth": 0,
              "ticks": ""
             }
            },
            "type": "scatterternary"
           }
          ],
          "surface": [
           {
            "colorbar": {
             "outlinewidth": 0,
             "ticks": ""
            },
            "colorscale": [
             [
              0,
              "#0d0887"
             ],
             [
              0.1111111111111111,
              "#46039f"
             ],
             [
              0.2222222222222222,
              "#7201a8"
             ],
             [
              0.3333333333333333,
              "#9c179e"
             ],
             [
              0.4444444444444444,
              "#bd3786"
             ],
             [
              0.5555555555555556,
              "#d8576b"
             ],
             [
              0.6666666666666666,
              "#ed7953"
             ],
             [
              0.7777777777777778,
              "#fb9f3a"
             ],
             [
              0.8888888888888888,
              "#fdca26"
             ],
             [
              1,
              "#f0f921"
             ]
            ],
            "type": "surface"
           }
          ],
          "table": [
           {
            "cells": {
             "fill": {
              "color": "#EBF0F8"
             },
             "line": {
              "color": "white"
             }
            },
            "header": {
             "fill": {
              "color": "#C8D4E3"
             },
             "line": {
              "color": "white"
             }
            },
            "type": "table"
           }
          ]
         },
         "layout": {
          "annotationdefaults": {
           "arrowcolor": "#2a3f5f",
           "arrowhead": 0,
           "arrowwidth": 1
          },
          "autotypenumbers": "strict",
          "coloraxis": {
           "colorbar": {
            "outlinewidth": 0,
            "ticks": ""
           }
          },
          "colorscale": {
           "diverging": [
            [
             0,
             "#8e0152"
            ],
            [
             0.1,
             "#c51b7d"
            ],
            [
             0.2,
             "#de77ae"
            ],
            [
             0.3,
             "#f1b6da"
            ],
            [
             0.4,
             "#fde0ef"
            ],
            [
             0.5,
             "#f7f7f7"
            ],
            [
             0.6,
             "#e6f5d0"
            ],
            [
             0.7,
             "#b8e186"
            ],
            [
             0.8,
             "#7fbc41"
            ],
            [
             0.9,
             "#4d9221"
            ],
            [
             1,
             "#276419"
            ]
           ],
           "sequential": [
            [
             0,
             "#0d0887"
            ],
            [
             0.1111111111111111,
             "#46039f"
            ],
            [
             0.2222222222222222,
             "#7201a8"
            ],
            [
             0.3333333333333333,
             "#9c179e"
            ],
            [
             0.4444444444444444,
             "#bd3786"
            ],
            [
             0.5555555555555556,
             "#d8576b"
            ],
            [
             0.6666666666666666,
             "#ed7953"
            ],
            [
             0.7777777777777778,
             "#fb9f3a"
            ],
            [
             0.8888888888888888,
             "#fdca26"
            ],
            [
             1,
             "#f0f921"
            ]
           ],
           "sequentialminus": [
            [
             0,
             "#0d0887"
            ],
            [
             0.1111111111111111,
             "#46039f"
            ],
            [
             0.2222222222222222,
             "#7201a8"
            ],
            [
             0.3333333333333333,
             "#9c179e"
            ],
            [
             0.4444444444444444,
             "#bd3786"
            ],
            [
             0.5555555555555556,
             "#d8576b"
            ],
            [
             0.6666666666666666,
             "#ed7953"
            ],
            [
             0.7777777777777778,
             "#fb9f3a"
            ],
            [
             0.8888888888888888,
             "#fdca26"
            ],
            [
             1,
             "#f0f921"
            ]
           ]
          },
          "colorway": [
           "#636efa",
           "#EF553B",
           "#00cc96",
           "#ab63fa",
           "#FFA15A",
           "#19d3f3",
           "#FF6692",
           "#B6E880",
           "#FF97FF",
           "#FECB52"
          ],
          "font": {
           "color": "#2a3f5f"
          },
          "geo": {
           "bgcolor": "white",
           "lakecolor": "white",
           "landcolor": "#E5ECF6",
           "showlakes": true,
           "showland": true,
           "subunitcolor": "white"
          },
          "hoverlabel": {
           "align": "left"
          },
          "hovermode": "closest",
          "mapbox": {
           "style": "light"
          },
          "paper_bgcolor": "white",
          "plot_bgcolor": "#E5ECF6",
          "polar": {
           "angularaxis": {
            "gridcolor": "white",
            "linecolor": "white",
            "ticks": ""
           },
           "bgcolor": "#E5ECF6",
           "radialaxis": {
            "gridcolor": "white",
            "linecolor": "white",
            "ticks": ""
           }
          },
          "scene": {
           "xaxis": {
            "backgroundcolor": "#E5ECF6",
            "gridcolor": "white",
            "gridwidth": 2,
            "linecolor": "white",
            "showbackground": true,
            "ticks": "",
            "zerolinecolor": "white"
           },
           "yaxis": {
            "backgroundcolor": "#E5ECF6",
            "gridcolor": "white",
            "gridwidth": 2,
            "linecolor": "white",
            "showbackground": true,
            "ticks": "",
            "zerolinecolor": "white"
           },
           "zaxis": {
            "backgroundcolor": "#E5ECF6",
            "gridcolor": "white",
            "gridwidth": 2,
            "linecolor": "white",
            "showbackground": true,
            "ticks": "",
            "zerolinecolor": "white"
           }
          },
          "shapedefaults": {
           "line": {
            "color": "#2a3f5f"
           }
          },
          "ternary": {
           "aaxis": {
            "gridcolor": "white",
            "linecolor": "white",
            "ticks": ""
           },
           "baxis": {
            "gridcolor": "white",
            "linecolor": "white",
            "ticks": ""
           },
           "bgcolor": "#E5ECF6",
           "caxis": {
            "gridcolor": "white",
            "linecolor": "white",
            "ticks": ""
           }
          },
          "title": {
           "x": 0.05
          },
          "xaxis": {
           "automargin": true,
           "gridcolor": "white",
           "linecolor": "white",
           "ticks": "",
           "title": {
            "standoff": 15
           },
           "zerolinecolor": "white",
           "zerolinewidth": 2
          },
          "yaxis": {
           "automargin": true,
           "gridcolor": "white",
           "linecolor": "white",
           "ticks": "",
           "title": {
            "standoff": 15
           },
           "zerolinecolor": "white",
           "zerolinewidth": 2
          }
         }
        },
        "title": {
         "text": "ForecasterRecursiveMultiSeries — Execution time `_create_train_X_y_series_is_dict_no_exog`"
        },
        "updatemenus": [
         {
          "buttons": [
           {
            "args": [
             {
              "visible": [
               true,
               true,
               true,
               false,
               false,
               false,
               false,
               false,
               false,
               false,
               false,
               false,
               false,
               false,
               false,
               false,
               false,
               false,
               false,
               false,
               false,
               false,
               false,
               false,
               false,
               false,
               false,
               false,
               false,
               false,
               false,
               false,
               false,
               false,
               false,
               false,
               false,
               false,
               false,
               false,
               false,
               false,
               false,
               false,
               false,
               false,
               false,
               false,
               false,
               false,
               false,
               false,
               false,
               false,
               false,
               true,
               false,
               false,
               false,
               false,
               false,
               false,
               false,
               false,
               false,
               false,
               false,
               false,
               false,
               false,
               false,
               false,
               false,
               false,
               false,
               false,
               false,
               false,
               false,
               false,
               true,
               false,
               false,
               false,
               false,
               false,
               false,
               false,
               false,
               false,
               false,
               false,
               false,
               false,
               false,
               false,
               false,
               false,
               false,
               false,
               false,
               false,
               false,
               false,
               false
              ]
             },
             {
              "title": "Execution time — method: _create_train_X_y_series_is_dict_no_exog"
             }
            ],
            "label": "_create_train_X_y_series_is_dict_no_exog",
            "method": "update"
           },
           {
            "args": [
             {
              "visible": [
               false,
               false,
               false,
               true,
               true,
               true,
               false,
               false,
               false,
               false,
               false,
               false,
               false,
               false,
               false,
               false,
               false,
               false,
               false,
               false,
               false,
               false,
               false,
               false,
               false,
               false,
               false,
               false,
               false,
               false,
               false,
               false,
               false,
               false,
               false,
               false,
               false,
               false,
               false,
               false,
               false,
               false,
               false,
               false,
               false,
               false,
               false,
               false,
               false,
               false,
               false,
               false,
               false,
               false,
               false,
               false,
               true,
               false,
               false,
               false,
               false,
               false,
               false,
               false,
               false,
               false,
               false,
               false,
               false,
               false,
               false,
               false,
               false,
               false,
               false,
               false,
               false,
               false,
               false,
               false,
               false,
               true,
               false,
               false,
               false,
               false,
               false,
               false,
               false,
               false,
               false,
               false,
               false,
               false,
               false,
               false,
               false,
               false,
               false,
               false,
               false,
               false,
               false,
               false,
               false
              ]
             },
             {
              "title": "Execution time — method: _create_train_X_y_series_is_dict_exog_is_dict"
             }
            ],
            "label": "_create_train_X_y_series_is_dict_exog_is_dict",
            "method": "update"
           },
           {
            "args": [
             {
              "visible": [
               false,
               false,
               false,
               false,
               false,
               false,
               true,
               true,
               true,
               false,
               false,
               false,
               false,
               false,
               false,
               false,
               false,
               false,
               false,
               false,
               false,
               false,
               false,
               false,
               false,
               false,
               false,
               false,
               false,
               false,
               false,
               false,
               false,
               false,
               false,
               false,
               false,
               false,
               false,
               false,
               false,
               false,
               false,
               false,
               false,
               false,
               false,
               false,
               false,
               false,
               false,
               false,
               false,
               false,
               false,
               false,
               false,
               true,
               false,
               false,
               false,
               false,
               false,
               false,
               false,
               false,
               false,
               false,
               false,
               false,
               false,
               false,
               false,
               false,
               false,
               false,
               false,
               false,
               false,
               false,
               false,
               false,
               true,
               false,
               false,
               false,
               false,
               false,
               false,
               false,
               false,
               false,
               false,
               false,
               false,
               false,
               false,
               false,
               false,
               false,
               false,
               false,
               false,
               false,
               false
              ]
             },
             {
              "title": "Execution time — method: _create_train_X_y_series_is_dict_different_length_exog_is_dict"
             }
            ],
            "label": "_create_train_X_y_series_is_dict_different_length_exog_is_dict",
            "method": "update"
           },
           {
            "args": [
             {
              "visible": [
               false,
               false,
               false,
               false,
               false,
               false,
               false,
               false,
               false,
               true,
               false,
               false,
               false,
               false,
               false,
               false,
               false,
               false,
               false,
               false,
               false,
               false,
               false,
               false,
               false,
               false,
               false,
               false,
               false,
               false,
               false,
               false,
               false,
               false,
               false,
               false,
               false,
               false,
               false,
               false,
               false,
               false,
               false,
               false,
               false,
               false,
               false,
               false,
               false,
               false,
               false,
               false,
               false,
               false,
               false,
               false,
               false,
               false,
               true,
               false,
               false,
               false,
               false,
               false,
               false,
               false,
               false,
               false,
               false,
               false,
               false,
               false,
               false,
               false,
               false,
               false,
               false,
               false,
               false,
               false,
               false,
               false,
               false,
               true,
               false,
               false,
               false,
               false,
               false,
               false,
               false,
               false,
               false,
               false,
               false,
               false,
               false,
               false,
               false,
               false,
               false,
               false,
               false,
               false,
               false
              ]
             },
             {
              "title": "Execution time — method: _create_train_X_y_series_is_dict_exog_is_df_wide"
             }
            ],
            "label": "_create_train_X_y_series_is_dict_exog_is_df_wide",
            "method": "update"
           },
           {
            "args": [
             {
              "visible": [
               false,
               false,
               false,
               false,
               false,
               false,
               false,
               false,
               false,
               false,
               true,
               false,
               false,
               false,
               false,
               false,
               false,
               false,
               false,
               false,
               false,
               false,
               false,
               false,
               false,
               false,
               false,
               false,
               false,
               false,
               false,
               false,
               false,
               false,
               false,
               false,
               false,
               false,
               false,
               false,
               false,
               false,
               false,
               false,
               false,
               false,
               false,
               false,
               false,
               false,
               false,
               false,
               false,
               false,
               false,
               false,
               false,
               false,
               false,
               true,
               false,
               false,
               false,
               false,
               false,
               false,
               false,
               false,
               false,
               false,
               false,
               false,
               false,
               false,
               false,
               false,
               false,
               false,
               false,
               false,
               false,
               false,
               false,
               false,
               true,
               false,
               false,
               false,
               false,
               false,
               false,
               false,
               false,
               false,
               false,
               false,
               false,
               false,
               false,
               false,
               false,
               false,
               false,
               false,
               false
              ]
             },
             {
              "title": "Execution time — method: _create_train_X_y_series_is_df_long_no_exog"
             }
            ],
            "label": "_create_train_X_y_series_is_df_long_no_exog",
            "method": "update"
           },
           {
            "args": [
             {
              "visible": [
               false,
               false,
               false,
               false,
               false,
               false,
               false,
               false,
               false,
               false,
               false,
               true,
               false,
               false,
               false,
               false,
               false,
               false,
               false,
               false,
               false,
               false,
               false,
               false,
               false,
               false,
               false,
               false,
               false,
               false,
               false,
               false,
               false,
               false,
               false,
               false,
               false,
               false,
               false,
               false,
               false,
               false,
               false,
               false,
               false,
               false,
               false,
               false,
               false,
               false,
               false,
               false,
               false,
               false,
               false,
               false,
               false,
               false,
               false,
               false,
               true,
               false,
               false,
               false,
               false,
               false,
               false,
               false,
               false,
               false,
               false,
               false,
               false,
               false,
               false,
               false,
               false,
               false,
               false,
               false,
               false,
               false,
               false,
               false,
               false,
               true,
               false,
               false,
               false,
               false,
               false,
               false,
               false,
               false,
               false,
               false,
               false,
               false,
               false,
               false,
               false,
               false,
               false,
               false,
               false
              ]
             },
             {
              "title": "Execution time — method: _create_train_X_y_series_is_df_long_exog_is_df_long"
             }
            ],
            "label": "_create_train_X_y_series_is_df_long_exog_is_df_long",
            "method": "update"
           },
           {
            "args": [
             {
              "visible": [
               false,
               false,
               false,
               false,
               false,
               false,
               false,
               false,
               false,
               false,
               false,
               false,
               true,
               false,
               false,
               false,
               false,
               false,
               false,
               false,
               false,
               false,
               false,
               false,
               false,
               false,
               false,
               false,
               false,
               false,
               false,
               false,
               false,
               false,
               false,
               false,
               false,
               false,
               false,
               false,
               false,
               false,
               false,
               false,
               false,
               false,
               false,
               false,
               false,
               false,
               false,
               false,
               false,
               false,
               false,
               false,
               false,
               false,
               false,
               false,
               false,
               true,
               false,
               false,
               false,
               false,
               false,
               false,
               false,
               false,
               false,
               false,
               false,
               false,
               false,
               false,
               false,
               false,
               false,
               false,
               false,
               false,
               false,
               false,
               false,
               false,
               true,
               false,
               false,
               false,
               false,
               false,
               false,
               false,
               false,
               false,
               false,
               false,
               false,
               false,
               false,
               false,
               false,
               false,
               false
              ]
             },
             {
              "title": "Execution time — method: _create_train_X_y_series_is_df_long_exog_is_df_wide"
             }
            ],
            "label": "_create_train_X_y_series_is_df_long_exog_is_df_wide",
            "method": "update"
           },
           {
            "args": [
             {
              "visible": [
               false,
               false,
               false,
               false,
               false,
               false,
               false,
               false,
               false,
               false,
               false,
               false,
               false,
               true,
               true,
               true,
               false,
               false,
               false,
               false,
               false,
               false,
               false,
               false,
               false,
               false,
               false,
               false,
               false,
               false,
               false,
               false,
               false,
               false,
               false,
               false,
               false,
               false,
               false,
               false,
               false,
               false,
               false,
               false,
               false,
               false,
               false,
               false,
               false,
               false,
               false,
               false,
               false,
               false,
               false,
               false,
               false,
               false,
               false,
               false,
               false,
               false,
               true,
               false,
               false,
               false,
               false,
               false,
               false,
               false,
               false,
               false,
               false,
               false,
               false,
               false,
               false,
               false,
               false,
               false,
               false,
               false,
               false,
               false,
               false,
               false,
               false,
               true,
               false,
               false,
               false,
               false,
               false,
               false,
               false,
               false,
               false,
               false,
               false,
               false,
               false,
               false,
               false,
               false,
               false
              ]
             },
             {
              "title": "Execution time — method: _create_train_X_y_single_series"
             }
            ],
            "label": "_create_train_X_y_single_series",
            "method": "update"
           },
           {
            "args": [
             {
              "visible": [
               false,
               false,
               false,
               false,
               false,
               false,
               false,
               false,
               false,
               false,
               false,
               false,
               false,
               false,
               false,
               false,
               true,
               true,
               true,
               false,
               false,
               false,
               false,
               false,
               false,
               false,
               false,
               false,
               false,
               false,
               false,
               false,
               false,
               false,
               false,
               false,
               false,
               false,
               false,
               false,
               false,
               false,
               false,
               false,
               false,
               false,
               false,
               false,
               false,
               false,
               false,
               false,
               false,
               false,
               false,
               false,
               false,
               false,
               false,
               false,
               false,
               false,
               false,
               true,
               false,
               false,
               false,
               false,
               false,
               false,
               false,
               false,
               false,
               false,
               false,
               false,
               false,
               false,
               false,
               false,
               false,
               false,
               false,
               false,
               false,
               false,
               false,
               false,
               true,
               false,
               false,
               false,
               false,
               false,
               false,
               false,
               false,
               false,
               false,
               false,
               false,
               false,
               false,
               false,
               false
              ]
             },
             {
              "title": "Execution time — method: fit_series_is_dict_no_exog"
             }
            ],
            "label": "fit_series_is_dict_no_exog",
            "method": "update"
           },
           {
            "args": [
             {
              "visible": [
               false,
               false,
               false,
               false,
               false,
               false,
               false,
               false,
               false,
               false,
               false,
               false,
               false,
               false,
               false,
               false,
               false,
               false,
               false,
               true,
               true,
               true,
               false,
               false,
               false,
               false,
               false,
               false,
               false,
               false,
               false,
               false,
               false,
               false,
               false,
               false,
               false,
               false,
               false,
               false,
               false,
               false,
               false,
               false,
               false,
               false,
               false,
               false,
               false,
               false,
               false,
               false,
               false,
               false,
               false,
               false,
               false,
               false,
               false,
               false,
               false,
               false,
               false,
               false,
               true,
               false,
               false,
               false,
               false,
               false,
               false,
               false,
               false,
               false,
               false,
               false,
               false,
               false,
               false,
               false,
               false,
               false,
               false,
               false,
               false,
               false,
               false,
               false,
               false,
               true,
               false,
               false,
               false,
               false,
               false,
               false,
               false,
               false,
               false,
               false,
               false,
               false,
               false,
               false,
               false
              ]
             },
             {
              "title": "Execution time — method: fit_series_is_dict_exog_is_dict"
             }
            ],
            "label": "fit_series_is_dict_exog_is_dict",
            "method": "update"
           },
           {
            "args": [
             {
              "visible": [
               false,
               false,
               false,
               false,
               false,
               false,
               false,
               false,
               false,
               false,
               false,
               false,
               false,
               false,
               false,
               false,
               false,
               false,
               false,
               false,
               false,
               false,
               true,
               true,
               true,
               false,
               false,
               false,
               false,
               false,
               false,
               false,
               false,
               false,
               false,
               false,
               false,
               false,
               false,
               false,
               false,
               false,
               false,
               false,
               false,
               false,
               false,
               false,
               false,
               false,
               false,
               false,
               false,
               false,
               false,
               false,
               false,
               false,
               false,
               false,
               false,
               false,
               false,
               false,
               false,
               true,
               false,
               false,
               false,
               false,
               false,
               false,
               false,
               false,
               false,
               false,
               false,
               false,
               false,
               false,
               false,
               false,
               false,
               false,
               false,
               false,
               false,
               false,
               false,
               false,
               true,
               false,
               false,
               false,
               false,
               false,
               false,
               false,
               false,
               false,
               false,
               false,
               false,
               false,
               false
              ]
             },
             {
              "title": "Execution time — method: fit_series_is_dict_different_length_exog_is_dict"
             }
            ],
            "label": "fit_series_is_dict_different_length_exog_is_dict",
            "method": "update"
           },
           {
            "args": [
             {
              "visible": [
               false,
               false,
               false,
               false,
               false,
               false,
               false,
               false,
               false,
               false,
               false,
               false,
               false,
               false,
               false,
               false,
               false,
               false,
               false,
               false,
               false,
               false,
               false,
               false,
               false,
               true,
               false,
               false,
               false,
               false,
               false,
               false,
               false,
               false,
               false,
               false,
               false,
               false,
               false,
               false,
               false,
               false,
               false,
               false,
               false,
               false,
               false,
               false,
               false,
               false,
               false,
               false,
               false,
               false,
               false,
               false,
               false,
               false,
               false,
               false,
               false,
               false,
               false,
               false,
               false,
               false,
               true,
               false,
               false,
               false,
               false,
               false,
               false,
               false,
               false,
               false,
               false,
               false,
               false,
               false,
               false,
               false,
               false,
               false,
               false,
               false,
               false,
               false,
               false,
               false,
               false,
               true,
               false,
               false,
               false,
               false,
               false,
               false,
               false,
               false,
               false,
               false,
               false,
               false,
               false
              ]
             },
             {
              "title": "Execution time — method: fit_series_is_dataframe_no_exog"
             }
            ],
            "label": "fit_series_is_dataframe_no_exog",
            "method": "update"
           },
           {
            "args": [
             {
              "visible": [
               false,
               false,
               false,
               false,
               false,
               false,
               false,
               false,
               false,
               false,
               false,
               false,
               false,
               false,
               false,
               false,
               false,
               false,
               false,
               false,
               false,
               false,
               false,
               false,
               false,
               false,
               true,
               false,
               false,
               false,
               false,
               false,
               false,
               false,
               false,
               false,
               false,
               false,
               false,
               false,
               false,
               false,
               false,
               false,
               false,
               false,
               false,
               false,
               false,
               false,
               false,
               false,
               false,
               false,
               false,
               false,
               false,
               false,
               false,
               false,
               false,
               false,
               false,
               false,
               false,
               false,
               false,
               true,
               false,
               false,
               false,
               false,
               false,
               false,
               false,
               false,
               false,
               false,
               false,
               false,
               false,
               false,
               false,
               false,
               false,
               false,
               false,
               false,
               false,
               false,
               false,
               false,
               true,
               false,
               false,
               false,
               false,
               false,
               false,
               false,
               false,
               false,
               false,
               false,
               false
              ]
             },
             {
              "title": "Execution time — method: fit_series_is_dataframe_exog_is_dataframe"
             }
            ],
            "label": "fit_series_is_dataframe_exog_is_dataframe",
            "method": "update"
           },
           {
            "args": [
             {
              "visible": [
               false,
               false,
               false,
               false,
               false,
               false,
               false,
               false,
               false,
               false,
               false,
               false,
               false,
               false,
               false,
               false,
               false,
               false,
               false,
               false,
               false,
               false,
               false,
               false,
               false,
               false,
               false,
               true,
               false,
               false,
               false,
               false,
               false,
               false,
               false,
               false,
               false,
               false,
               false,
               false,
               false,
               false,
               false,
               false,
               false,
               false,
               false,
               false,
               false,
               false,
               false,
               false,
               false,
               false,
               false,
               false,
               false,
               false,
               false,
               false,
               false,
               false,
               false,
               false,
               false,
               false,
               false,
               false,
               true,
               false,
               false,
               false,
               false,
               false,
               false,
               false,
               false,
               false,
               false,
               false,
               false,
               false,
               false,
               false,
               false,
               false,
               false,
               false,
               false,
               false,
               false,
               false,
               false,
               true,
               false,
               false,
               false,
               false,
               false,
               false,
               false,
               false,
               false,
               false,
               false
              ]
             },
             {
              "title": "Execution time — method: fit_series_is_dataframe_exog_is_dict"
             }
            ],
            "label": "fit_series_is_dataframe_exog_is_dict",
            "method": "update"
           },
           {
            "args": [
             {
              "visible": [
               false,
               false,
               false,
               false,
               false,
               false,
               false,
               false,
               false,
               false,
               false,
               false,
               false,
               false,
               false,
               false,
               false,
               false,
               false,
               false,
               false,
               false,
               false,
               false,
               false,
               false,
               false,
               false,
               true,
               true,
               true,
               false,
               false,
               false,
               false,
               false,
               false,
               false,
               false,
               false,
               false,
               false,
               false,
               false,
               false,
               false,
               false,
               false,
               false,
               false,
               false,
               false,
               false,
               false,
               false,
               false,
               false,
               false,
               false,
               false,
               false,
               false,
               false,
               false,
               false,
               false,
               false,
               false,
               false,
               true,
               false,
               false,
               false,
               false,
               false,
               false,
               false,
               false,
               false,
               false,
               false,
               false,
               false,
               false,
               false,
               false,
               false,
               false,
               false,
               false,
               false,
               false,
               false,
               false,
               true,
               false,
               false,
               false,
               false,
               false,
               false,
               false,
               false,
               false,
               false
              ]
             },
             {
              "title": "Execution time — method: check_predict_inputs"
             }
            ],
            "label": "check_predict_inputs",
            "method": "update"
           },
           {
            "args": [
             {
              "visible": [
               false,
               false,
               false,
               false,
               false,
               false,
               false,
               false,
               false,
               false,
               false,
               false,
               false,
               false,
               false,
               false,
               false,
               false,
               false,
               false,
               false,
               false,
               false,
               false,
               false,
               false,
               false,
               false,
               false,
               false,
               false,
               true,
               true,
               true,
               false,
               false,
               false,
               false,
               false,
               false,
               false,
               false,
               false,
               false,
               false,
               false,
               false,
               false,
               false,
               false,
               false,
               false,
               false,
               false,
               false,
               false,
               false,
               false,
               false,
               false,
               false,
               false,
               false,
               false,
               false,
               false,
               false,
               false,
               false,
               false,
               true,
               false,
               false,
               false,
               false,
               false,
               false,
               false,
               false,
               false,
               false,
               false,
               false,
               false,
               false,
               false,
               false,
               false,
               false,
               false,
               false,
               false,
               false,
               false,
               false,
               true,
               false,
               false,
               false,
               false,
               false,
               false,
               false,
               false,
               false
              ]
             },
             {
              "title": "Execution time — method: _create_predict_inputs_exog_is_dict"
             }
            ],
            "label": "_create_predict_inputs_exog_is_dict",
            "method": "update"
           },
           {
            "args": [
             {
              "visible": [
               false,
               false,
               false,
               false,
               false,
               false,
               false,
               false,
               false,
               false,
               false,
               false,
               false,
               false,
               false,
               false,
               false,
               false,
               false,
               false,
               false,
               false,
               false,
               false,
               false,
               false,
               false,
               false,
               false,
               false,
               false,
               false,
               false,
               false,
               true,
               false,
               false,
               false,
               false,
               false,
               false,
               false,
               false,
               false,
               false,
               false,
               false,
               false,
               false,
               false,
               false,
               false,
               false,
               false,
               false,
               false,
               false,
               false,
               false,
               false,
               false,
               false,
               false,
               false,
               false,
               false,
               false,
               false,
               false,
               false,
               false,
               true,
               false,
               false,
               false,
               false,
               false,
               false,
               false,
               false,
               false,
               false,
               false,
               false,
               false,
               false,
               false,
               false,
               false,
               false,
               false,
               false,
               false,
               false,
               false,
               false,
               true,
               false,
               false,
               false,
               false,
               false,
               false,
               false,
               false
              ]
             },
             {
              "title": "Execution time — method: _create_predict_inputs_exog_is_df_long"
             }
            ],
            "label": "_create_predict_inputs_exog_is_df_long",
            "method": "update"
           },
           {
            "args": [
             {
              "visible": [
               false,
               false,
               false,
               false,
               false,
               false,
               false,
               false,
               false,
               false,
               false,
               false,
               false,
               false,
               false,
               false,
               false,
               false,
               false,
               false,
               false,
               false,
               false,
               false,
               false,
               false,
               false,
               false,
               false,
               false,
               false,
               false,
               false,
               false,
               false,
               true,
               false,
               false,
               false,
               false,
               false,
               false,
               false,
               false,
               false,
               false,
               false,
               false,
               false,
               false,
               false,
               false,
               false,
               false,
               false,
               false,
               false,
               false,
               false,
               false,
               false,
               false,
               false,
               false,
               false,
               false,
               false,
               false,
               false,
               false,
               false,
               false,
               true,
               false,
               false,
               false,
               false,
               false,
               false,
               false,
               false,
               false,
               false,
               false,
               false,
               false,
               false,
               false,
               false,
               false,
               false,
               false,
               false,
               false,
               false,
               false,
               false,
               true,
               false,
               false,
               false,
               false,
               false,
               false,
               false
              ]
             },
             {
              "title": "Execution time — method: _create_predict_inputs_exog_is_df_wide"
             }
            ],
            "label": "_create_predict_inputs_exog_is_df_wide",
            "method": "update"
           },
           {
            "args": [
             {
              "visible": [
               false,
               false,
               false,
               false,
               false,
               false,
               false,
               false,
               false,
               false,
               false,
               false,
               false,
               false,
               false,
               false,
               false,
               false,
               false,
               false,
               false,
               false,
               false,
               false,
               false,
               false,
               false,
               false,
               false,
               false,
               false,
               false,
               false,
               false,
               false,
               false,
               true,
               true,
               true,
               false,
               false,
               false,
               false,
               false,
               false,
               false,
               false,
               false,
               false,
               false,
               false,
               false,
               false,
               false,
               false,
               false,
               false,
               false,
               false,
               false,
               false,
               false,
               false,
               false,
               false,
               false,
               false,
               false,
               false,
               false,
               false,
               false,
               false,
               true,
               false,
               false,
               false,
               false,
               false,
               false,
               false,
               false,
               false,
               false,
               false,
               false,
               false,
               false,
               false,
               false,
               false,
               false,
               false,
               false,
               false,
               false,
               false,
               false,
               true,
               false,
               false,
               false,
               false,
               false,
               false
              ]
             },
             {
              "title": "Execution time — method: predict_exog_is_dict"
             }
            ],
            "label": "predict_exog_is_dict",
            "method": "update"
           },
           {
            "args": [
             {
              "visible": [
               false,
               false,
               false,
               false,
               false,
               false,
               false,
               false,
               false,
               false,
               false,
               false,
               false,
               false,
               false,
               false,
               false,
               false,
               false,
               false,
               false,
               false,
               false,
               false,
               false,
               false,
               false,
               false,
               false,
               false,
               false,
               false,
               false,
               false,
               false,
               false,
               false,
               false,
               false,
               true,
               false,
               false,
               false,
               false,
               false,
               false,
               false,
               false,
               false,
               false,
               false,
               false,
               false,
               false,
               false,
               false,
               false,
               false,
               false,
               false,
               false,
               false,
               false,
               false,
               false,
               false,
               false,
               false,
               false,
               false,
               false,
               false,
               false,
               false,
               true,
               false,
               false,
               false,
               false,
               false,
               false,
               false,
               false,
               false,
               false,
               false,
               false,
               false,
               false,
               false,
               false,
               false,
               false,
               false,
               false,
               false,
               false,
               false,
               false,
               true,
               false,
               false,
               false,
               false,
               false
              ]
             },
             {
              "title": "Execution time — method: predict_exog_is_df_long"
             }
            ],
            "label": "predict_exog_is_df_long",
            "method": "update"
           },
           {
            "args": [
             {
              "visible": [
               false,
               false,
               false,
               false,
               false,
               false,
               false,
               false,
               false,
               false,
               false,
               false,
               false,
               false,
               false,
               false,
               false,
               false,
               false,
               false,
               false,
               false,
               false,
               false,
               false,
               false,
               false,
               false,
               false,
               false,
               false,
               false,
               false,
               false,
               false,
               false,
               false,
               false,
               false,
               false,
               true,
               true,
               true,
               false,
               false,
               false,
               false,
               false,
               false,
               false,
               false,
               false,
               false,
               false,
               false,
               false,
               false,
               false,
               false,
               false,
               false,
               false,
               false,
               false,
               false,
               false,
               false,
               false,
               false,
               false,
               false,
               false,
               false,
               false,
               false,
               true,
               false,
               false,
               false,
               false,
               false,
               false,
               false,
               false,
               false,
               false,
               false,
               false,
               false,
               false,
               false,
               false,
               false,
               false,
               false,
               false,
               false,
               false,
               false,
               false,
               true,
               false,
               false,
               false,
               false
              ]
             },
             {
              "title": "Execution time — method: predict_interval_exog_is_dict_conformal"
             }
            ],
            "label": "predict_interval_exog_is_dict_conformal",
            "method": "update"
           },
           {
            "args": [
             {
              "visible": [
               false,
               false,
               false,
               false,
               false,
               false,
               false,
               false,
               false,
               false,
               false,
               false,
               false,
               false,
               false,
               false,
               false,
               false,
               false,
               false,
               false,
               false,
               false,
               false,
               false,
               false,
               false,
               false,
               false,
               false,
               false,
               false,
               false,
               false,
               false,
               false,
               false,
               false,
               false,
               false,
               false,
               false,
               false,
               true,
               true,
               true,
               false,
               false,
               false,
               false,
               false,
               false,
               false,
               false,
               false,
               false,
               false,
               false,
               false,
               false,
               false,
               false,
               false,
               false,
               false,
               false,
               false,
               false,
               false,
               false,
               false,
               false,
               false,
               false,
               false,
               false,
               true,
               false,
               false,
               false,
               false,
               false,
               false,
               false,
               false,
               false,
               false,
               false,
               false,
               false,
               false,
               false,
               false,
               false,
               false,
               false,
               false,
               false,
               false,
               false,
               false,
               true,
               false,
               false,
               false
              ]
             },
             {
              "title": "Execution time — method: backtesting_series_is_dict_no_exog"
             }
            ],
            "label": "backtesting_series_is_dict_no_exog",
            "method": "update"
           },
           {
            "args": [
             {
              "visible": [
               false,
               false,
               false,
               false,
               false,
               false,
               false,
               false,
               false,
               false,
               false,
               false,
               false,
               false,
               false,
               false,
               false,
               false,
               false,
               false,
               false,
               false,
               false,
               false,
               false,
               false,
               false,
               false,
               false,
               false,
               false,
               false,
               false,
               false,
               false,
               false,
               false,
               false,
               false,
               false,
               false,
               false,
               false,
               false,
               false,
               false,
               true,
               true,
               true,
               false,
               false,
               false,
               false,
               false,
               false,
               false,
               false,
               false,
               false,
               false,
               false,
               false,
               false,
               false,
               false,
               false,
               false,
               false,
               false,
               false,
               false,
               false,
               false,
               false,
               false,
               false,
               false,
               true,
               false,
               false,
               false,
               false,
               false,
               false,
               false,
               false,
               false,
               false,
               false,
               false,
               false,
               false,
               false,
               false,
               false,
               false,
               false,
               false,
               false,
               false,
               false,
               false,
               true,
               false,
               false
              ]
             },
             {
              "title": "Execution time — method: backtesting_series_is_dict_exog_is_dict"
             }
            ],
            "label": "backtesting_series_is_dict_exog_is_dict",
            "method": "update"
           },
           {
            "args": [
             {
              "visible": [
               false,
               false,
               false,
               false,
               false,
               false,
               false,
               false,
               false,
               false,
               false,
               false,
               false,
               false,
               false,
               false,
               false,
               false,
               false,
               false,
               false,
               false,
               false,
               false,
               false,
               false,
               false,
               false,
               false,
               false,
               false,
               false,
               false,
               false,
               false,
               false,
               false,
               false,
               false,
               false,
               false,
               false,
               false,
               false,
               false,
               false,
               false,
               false,
               false,
               true,
               true,
               true,
               false,
               false,
               false,
               false,
               false,
               false,
               false,
               false,
               false,
               false,
               false,
               false,
               false,
               false,
               false,
               false,
               false,
               false,
               false,
               false,
               false,
               false,
               false,
               false,
               false,
               false,
               true,
               false,
               false,
               false,
               false,
               false,
               false,
               false,
               false,
               false,
               false,
               false,
               false,
               false,
               false,
               false,
               false,
               false,
               false,
               false,
               false,
               false,
               false,
               false,
               false,
               true,
               false
              ]
             },
             {
              "title": "Execution time — method: backtesting_series_is_dict_no_exog_conformal"
             }
            ],
            "label": "backtesting_series_is_dict_no_exog_conformal",
            "method": "update"
           },
           {
            "args": [
             {
              "visible": [
               false,
               false,
               false,
               false,
               false,
               false,
               false,
               false,
               false,
               false,
               false,
               false,
               false,
               false,
               false,
               false,
               false,
               false,
               false,
               false,
               false,
               false,
               false,
               false,
               false,
               false,
               false,
               false,
               false,
               false,
               false,
               false,
               false,
               false,
               false,
               false,
               false,
               false,
               false,
               false,
               false,
               false,
               false,
               false,
               false,
               false,
               false,
               false,
               false,
               false,
               false,
               false,
               true,
               true,
               true,
               false,
               false,
               false,
               false,
               false,
               false,
               false,
               false,
               false,
               false,
               false,
               false,
               false,
               false,
               false,
               false,
               false,
               false,
               false,
               false,
               false,
               false,
               false,
               false,
               true,
               false,
               false,
               false,
               false,
               false,
               false,
               false,
               false,
               false,
               false,
               false,
               false,
               false,
               false,
               false,
               false,
               false,
               false,
               false,
               false,
               false,
               false,
               false,
               false,
               true
              ]
             },
             {
              "title": "Execution time — method: backtesting_series_is_dict_exog_dict_conformal"
             }
            ],
            "label": "backtesting_series_is_dict_exog_dict_conformal",
            "method": "update"
           }
          ],
          "direction": "down",
          "pad": {
           "r": 2,
           "t": 0
          },
          "showactive": true,
          "type": "dropdown",
          "x": 1,
          "xanchor": "right",
          "y": 1.03,
          "yanchor": "bottom"
         }
        ],
        "xaxis": {
         "automargin": true,
         "tickangle": 0,
         "tickmode": "array",
         "ticktext": [
          "0.15.1",
          "0.16.0",
          "0.17.0"
         ],
         "tickvals": [
          0,
          1,
          2
         ],
         "title": {
          "text": "skforecast version"
         }
        },
        "yaxis": {
         "automargin": true,
         "title": {
          "text": "Execution time (s)"
         }
        }
       }
      }
     },
     "metadata": {},
     "output_type": "display_data"
    }
   ],
   "source": [
    "# Plot benchmark results\n",
    "# ==============================================================================\n",
    "plot_benchmark_results(\n",
    "    results_benchmark_all,\n",
    "    forecaster_names = ['ForecasterRecursiveMultiSeries', 'ForecasterAutoregMultiSeries'],\n",
    "    regressors       = ['DummyRegressor'],\n",
    "    add_mean         = True,\n",
    "    add_median       = True\n",
    ")"
   ]
  },
  {
   "cell_type": "code",
   "execution_count": null,
   "metadata": {},
   "outputs": [],
   "source": []
  }
 ],
 "metadata": {
  "kernelspec": {
   "display_name": "skforecast_py12",
   "language": "python",
   "name": "python3"
  },
  "language_info": {
   "codemirror_mode": {
    "name": "ipython",
    "version": 3
   },
   "file_extension": ".py",
   "mimetype": "text/x-python",
   "name": "python",
   "nbconvert_exporter": "python",
   "pygments_lexer": "ipython3",
   "version": "3.12.11"
  },
  "orig_nbformat": 4
 },
 "nbformat": 4,
 "nbformat_minor": 2
}
