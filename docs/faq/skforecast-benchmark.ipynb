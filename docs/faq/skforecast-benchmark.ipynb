{
 "cells": [
  {
   "cell_type": "markdown",
   "metadata": {},
   "source": [
    "# Benchmarking skforecast\n",
    "\n",
    "Benchmarking is an essential part of the development process of **skforecast**. It provides a transparent view of how the **performance of the library** evolves across versions and helps users make informed decisions when choosing the right forecaster or configuration for their use case.\n",
    "\n",
    "In this section, we present benchmark results that measure the execution time of key methods (`fit`, `predict`, etc.) and their **performance evolution across versions**, allowing the detection of improvements or regressions.\n",
    "\n",
    "## Methodology\n",
    "\n",
    "The benchmarking results presented here are generated using a **custom benchmarking script** located in the `benchmarks/` directory of the repository. This script executes a series of performance tests for the main forecasting classes and their methods, recording both execution time and variability across multiple runs.\n",
    "\n",
    "To ensure **consistency and reproducibility**, all benchmarks are automatically executed as part of the continuous integration (CI) pipeline using GitHub Actions. This guarantees that each new release of the library is tested under the **same environment and dependency configuration**, making performance results directly comparable across versions.\n",
    "\n",
    "Users who wish to reproduce the benchmarks locally can execute the same script by running:\n",
    "\n",
    "```bash\n",
    "# From skforecast root directory\n",
    "python benchmarks/run_benchmarks.py\n",
    "```\n",
    "\n",
    "Results are stored in a structured format in `benchmarks/benchmarks.joblib`."
   ]
  },
  {
   "cell_type": "markdown",
   "metadata": {},
   "source": [
    "<div class=\"admonition note\" name=\"html-admonition\" style=\"background: rgba(255,145,0,.1); padding-top: 0px; padding-bottom: 6px; border-radius: 8px; border-left: 8px solid #ff9100; border-color: #ff9100; padding-left: 10px; padding-right: 10px\">\n",
    "\n",
    "<p class=\"title\">\n",
    "    <i style=\"font-size: 18px; color:#ff9100; border-color: #ff1744;\"></i>\n",
    "    <b style=\"color: #ff9100;\"> <span style=\"color: #ff9100;\">&#9888;</span> Warning</b>\n",
    "</p>\n",
    "\n",
    "The <code>plot_benchmark_results</code> function is located at the end of the notebook. <a href=\"#plot-function\">Go to plot function</a>.\n",
    "\n",
    "</div>"
   ]
  },
  {
   "cell_type": "code",
   "execution_count": 14,
   "metadata": {},
   "outputs": [],
   "source": [
    "# Libraries\n",
    "# ==============================================================================\n",
    "import platform\n",
    "import psutil\n",
    "import numpy as np\n",
    "import pandas as pd\n",
    "import joblib\n",
    "\n",
    "import sklearn\n",
    "import skforecast\n",
    "\n",
    "# Display all columns in pandas\n",
    "pd.set_option(\"display.max_columns\", None)"
   ]
  },
  {
   "cell_type": "code",
   "execution_count": 15,
   "metadata": {},
   "outputs": [
    {
     "name": "stdout",
     "output_type": "stream",
     "text": [
      "Python version           : 3.12.11\n",
      "skforecast version       : 0.17.0\n",
      "numpy version            : 2.1.3\n",
      "pandas version           : 2.3.1\n",
      "scikit-learn version     : 1.6.1\n",
      "Computer network name    : ITES015-NB0029\n",
      "Processor type           : Intel64 Family 6 Model 141 Stepping 1, GenuineIntel\n",
      "Platform type            : Windows-11-10.0.26100-SP0\n",
      "Number of physical cores : 8\n",
      "Number of logical cores  : 16\n",
      "Memory total             : 34.07 GB\n"
     ]
    }
   ],
   "source": [
    "# Environment information\n",
    "# ==============================================================================\n",
    "print(f\"Python version           : {platform.python_version()}\")\n",
    "print(f\"skforecast version       : {skforecast.__version__}\")\n",
    "print(f\"numpy version            : {np.__version__}\")\n",
    "print(f\"pandas version           : {pd.__version__}\")\n",
    "print(f\"scikit-learn version     : {sklearn.__version__}\")\n",
    "print(f\"Computer network name    : {platform.node()}\")\n",
    "print(f\"Processor type           : {platform.processor()}\")\n",
    "print(f\"Platform type            : {platform.platform()}\")\n",
    "print(f\"Number of physical cores : {psutil.cpu_count(logical=False)}\")\n",
    "print(f\"Number of logical cores  : {psutil.cpu_count(logical=True)}\")\n",
    "print(f\"Memory total             : {round(psutil.virtual_memory().total / 1e9, 2)} GB\")"
   ]
  },
  {
   "cell_type": "code",
   "execution_count": 16,
   "metadata": {},
   "outputs": [],
   "source": [
    "import warnings\n",
    "warnings.filterwarnings(\n",
    "    \"ignore\",\n",
    "    category=FutureWarning,\n",
    "    message=\"'force_all_finite' was renamed to 'ensure_all_finite'\"\n",
    ")"
   ]
  },
  {
   "cell_type": "markdown",
   "metadata": {},
   "source": [
    "## Global results"
   ]
  },
  {
   "cell_type": "code",
   "execution_count": 17,
   "metadata": {},
   "outputs": [
    {
     "data": {
      "text/html": [
       "<div>\n",
       "<style scoped>\n",
       "    .dataframe tbody tr th:only-of-type {\n",
       "        vertical-align: middle;\n",
       "    }\n",
       "\n",
       "    .dataframe tbody tr th {\n",
       "        vertical-align: top;\n",
       "    }\n",
       "\n",
       "    .dataframe thead th {\n",
       "        text-align: right;\n",
       "    }\n",
       "</style>\n",
       "<table border=\"1\" class=\"dataframe\">\n",
       "  <thead>\n",
       "    <tr style=\"text-align: right;\">\n",
       "      <th></th>\n",
       "      <th>forecaster_name</th>\n",
       "      <th>regressor_name</th>\n",
       "      <th>function_name</th>\n",
       "      <th>function_hash</th>\n",
       "      <th>method_name</th>\n",
       "      <th>run_time_avg</th>\n",
       "      <th>run_time_median</th>\n",
       "      <th>run_time_p95</th>\n",
       "      <th>run_time_std</th>\n",
       "      <th>n_repeats</th>\n",
       "      <th>datetime</th>\n",
       "      <th>python_version</th>\n",
       "      <th>skforecast_version</th>\n",
       "      <th>numpy_version</th>\n",
       "      <th>pandas_version</th>\n",
       "      <th>sklearn_version</th>\n",
       "      <th>lightgbm_version</th>\n",
       "      <th>platform</th>\n",
       "      <th>processor</th>\n",
       "      <th>cpu_count</th>\n",
       "      <th>memory_gb</th>\n",
       "    </tr>\n",
       "  </thead>\n",
       "  <tbody>\n",
       "    <tr>\n",
       "      <th>0</th>\n",
       "      <td>ForecasterRecursive</td>\n",
       "      <td>DummyRegressor</td>\n",
       "      <td>ForecasterRecursive__create_train_X_y</td>\n",
       "      <td>59b823f1ff395872fac4f7578bd859fa</td>\n",
       "      <td>_create_train_X_y</td>\n",
       "      <td>0.004280</td>\n",
       "      <td>0.004191</td>\n",
       "      <td>0.004524</td>\n",
       "      <td>0.000344</td>\n",
       "      <td>30</td>\n",
       "      <td>2025-08-26 06:59:07.003048</td>\n",
       "      <td>3.12.11</td>\n",
       "      <td>0.17.0</td>\n",
       "      <td>2.1.3</td>\n",
       "      <td>2.3.2</td>\n",
       "      <td>1.6.1</td>\n",
       "      <td>4.6.0</td>\n",
       "      <td>Linux-6.11.0-1018-azure-x86_64-with-glibc2.39</td>\n",
       "      <td>x86_64</td>\n",
       "      <td>4</td>\n",
       "      <td>16.77</td>\n",
       "    </tr>\n",
       "    <tr>\n",
       "      <th>1</th>\n",
       "      <td>ForecasterRecursive</td>\n",
       "      <td>DummyRegressor</td>\n",
       "      <td>ForecasterRecursive_fit</td>\n",
       "      <td>9d73eaf5faa980194d715362601eed68</td>\n",
       "      <td>fit</td>\n",
       "      <td>0.005956</td>\n",
       "      <td>0.005379</td>\n",
       "      <td>0.008166</td>\n",
       "      <td>0.001107</td>\n",
       "      <td>10</td>\n",
       "      <td>2025-08-26 06:59:07.066656</td>\n",
       "      <td>3.12.11</td>\n",
       "      <td>0.17.0</td>\n",
       "      <td>2.1.3</td>\n",
       "      <td>2.3.2</td>\n",
       "      <td>1.6.1</td>\n",
       "      <td>4.6.0</td>\n",
       "      <td>Linux-6.11.0-1018-azure-x86_64-with-glibc2.39</td>\n",
       "      <td>x86_64</td>\n",
       "      <td>4</td>\n",
       "      <td>16.77</td>\n",
       "    </tr>\n",
       "  </tbody>\n",
       "</table>\n",
       "</div>"
      ],
      "text/plain": [
       "       forecaster_name  regressor_name                          function_name  \\\n",
       "0  ForecasterRecursive  DummyRegressor  ForecasterRecursive__create_train_X_y   \n",
       "1  ForecasterRecursive  DummyRegressor                ForecasterRecursive_fit   \n",
       "\n",
       "                      function_hash        method_name  run_time_avg  \\\n",
       "0  59b823f1ff395872fac4f7578bd859fa  _create_train_X_y      0.004280   \n",
       "1  9d73eaf5faa980194d715362601eed68                fit      0.005956   \n",
       "\n",
       "   run_time_median  run_time_p95  run_time_std  n_repeats  \\\n",
       "0         0.004191      0.004524      0.000344         30   \n",
       "1         0.005379      0.008166      0.001107         10   \n",
       "\n",
       "                    datetime python_version skforecast_version numpy_version  \\\n",
       "0 2025-08-26 06:59:07.003048        3.12.11             0.17.0         2.1.3   \n",
       "1 2025-08-26 06:59:07.066656        3.12.11             0.17.0         2.1.3   \n",
       "\n",
       "  pandas_version sklearn_version lightgbm_version  \\\n",
       "0          2.3.2           1.6.1            4.6.0   \n",
       "1          2.3.2           1.6.1            4.6.0   \n",
       "\n",
       "                                        platform processor  cpu_count  \\\n",
       "0  Linux-6.11.0-1018-azure-x86_64-with-glibc2.39    x86_64          4   \n",
       "1  Linux-6.11.0-1018-azure-x86_64-with-glibc2.39    x86_64          4   \n",
       "\n",
       "   memory_gb  \n",
       "0      16.77  \n",
       "1      16.77  "
      ]
     },
     "execution_count": 17,
     "metadata": {},
     "output_type": "execute_result"
    }
   ],
   "source": [
    "# Load benchmark results\n",
    "# ==============================================================================\n",
    "results_benchmark_all = joblib.load(\"../../benchmarks/benchmark.joblib\")\n",
    "results_benchmark_all.head(2)"
   ]
  },
  {
   "cell_type": "markdown",
   "metadata": {},
   "source": [
    "## ForecasterRecursive\n",
    "\n",
    "The [`ForecasterRecursive` class](https://skforecast.org/latest/user_guides/autoregresive-forecaster.html) is benchmarked under a fixed experimental setup to ensure fair comparison across library versions. Key conditions are:\n",
    "\n",
    "| Condition           | Value                                                                                |\n",
    "|:--------------------|:-------------------------------------------------------------------------------------|\n",
    "| Regressor           | `sklearn.dummy.DummyRegressor` (to isolate forecaster overhead)                      |\n",
    "| Dataset length      | 2000 synthetic observations (generated with `bench_forecaster_recursive._make_data`) |\n",
    "| Lags as predictors  | 50                                                                                   |\n",
    "| Exogenous features  | 3                                                                                    |\n",
    "| Data transformation | `StandardScaler()` for time series features and exogenous variables                  |\n",
    "| Prediction horizon  | 100 steps ahead                                                                      |\n",
    "| Backtesting split   | 1200 training, remaining for testing, step size = 50, no re-fitting (see [guide](https://skforecast.org/latest/user_guides/backtesting.html)) |\n",
    "\n",
    "**Note:** In versions `< 0.14.0`, `ForecasterRecursive` was named `ForecasterAutoreg`.  "
   ]
  },
  {
   "cell_type": "code",
   "execution_count": 18,
   "metadata": {},
   "outputs": [
    {
     "data": {
      "application/vnd.plotly.v1+json": {
       "config": {
        "plotlyServerURL": "https://plot.ly"
       },
       "data": [
        {
         "error_y": {
          "array": {
           "bdata": "soYjLinYND/caBeLQBA0P01wTlL8mjM/PINNe9HcMj8=",
           "dtype": "f8"
          },
          "color": "#636EFA",
          "thickness": 1.5,
          "type": "data",
          "visible": true,
          "width": 5
         },
         "hovertemplate": "%{text}<extra></extra>",
         "marker": {
          "color": "#636EFA",
          "line": {
           "color": "white",
           "width": 1
          },
          "opacity": 0.85,
          "size": 10
         },
         "mode": "markers",
         "text": [
          "Forecaster: ForecasterRecursive<br>Regressor: DummyRegressor<br>Function: ForecasterRecursive__create_train_X_y<br>Function_hash: 59b823f1ff395872fac4f7578bd859fa<br>Method: _create_train_X_y<br>Datetime: 2025-08-26 09:16:24.501701<br>Python version: 3.12.11<br>skforecast version: 0.15.1<br>numpy version: 2.1.3<br>pandas version: 2.3.2<br>sklearn version: 1.6.1<br>lightgbm version: 4.6.0<br>Platform: Linux-6.11.0-1018-azure-x86_64-with-glibc2.39<br>Processor: x86_64<br>CPU count: 4<br>Memory (GB): 16.77<br>Run time avg: 0.004335 s<br>Run time median: 0.004245 s<br>Run time p95: 0.004673 s<br>Run time std: 0.000318 s<br>Nº repeats: 30",
          "Forecaster: ForecasterRecursive<br>Regressor: DummyRegressor<br>Function: ForecasterRecursive__create_train_X_y<br>Function_hash: 59b823f1ff395872fac4f7578bd859fa<br>Method: _create_train_X_y<br>Datetime: 2025-08-26 09:32:24.754428<br>Python version: 3.12.11<br>skforecast version: 0.15.1<br>numpy version: 2.1.3<br>pandas version: 2.3.2<br>sklearn version: 1.6.1<br>lightgbm version: 4.6.0<br>Platform: Linux-6.11.0-1018-azure-x86_64-with-glibc2.39<br>Processor: x86_64<br>CPU count: 4<br>Memory (GB): 16.77<br>Run time avg: 0.004331 s<br>Run time median: 0.004265 s<br>Run time p95: 0.004510 s<br>Run time std: 0.000306 s<br>Nº repeats: 30",
          "Forecaster: ForecasterRecursive<br>Regressor: DummyRegressor<br>Function: ForecasterRecursive__create_train_X_y<br>Function_hash: 59b823f1ff395872fac4f7578bd859fa<br>Method: _create_train_X_y<br>Datetime: 2025-08-26 09:45:16.117787<br>Python version: 3.12.11<br>skforecast version: 0.15.1<br>numpy version: 2.1.3<br>pandas version: 2.3.2<br>sklearn version: 1.6.1<br>lightgbm version: 4.6.0<br>Platform: Linux-6.11.0-1018-azure-x86_64-with-glibc2.39<br>Processor: x86_64<br>CPU count: 4<br>Memory (GB): 16.77<br>Run time avg: 0.004295 s<br>Run time median: 0.004229 s<br>Run time p95: 0.004443 s<br>Run time std: 0.000299 s<br>Nº repeats: 30",
          "Forecaster: ForecasterRecursive<br>Regressor: DummyRegressor<br>Function: ForecasterRecursive__create_train_X_y<br>Function_hash: 59b823f1ff395872fac4f7578bd859fa<br>Method: _create_train_X_y<br>Datetime: 2025-08-26 10:08:51.281682<br>Python version: 3.12.11<br>skforecast version: 0.15.1<br>numpy version: 2.1.3<br>pandas version: 2.3.2<br>sklearn version: 1.6.1<br>lightgbm version: 4.6.0<br>Platform: Linux-6.11.0-1018-azure-x86_64-with-glibc2.39<br>Processor: x86_64<br>CPU count: 4<br>Memory (GB): 16.77<br>Run time avg: 0.004325 s<br>Run time median: 0.004255 s<br>Run time p95: 0.004467 s<br>Run time std: 0.000288 s<br>Nº repeats: 30"
         ],
         "type": "scatter",
         "visible": true,
         "x": {
          "bdata": "6MKafw2Dir8c6TvZw6SaPw4vlJua6qM/ULL/qA7QeT8=",
          "dtype": "f8"
         },
         "y": {
          "bdata": "VVXljxDBcT9313lsH71xP94dpV4gl3E/zUx8bNe2cT8=",
          "dtype": "f8"
         }
        },
        {
         "error_y": {
          "array": {
           "bdata": "/hqDlQdPMj9hkueygn4zP3Ry6ywmKDM/E5WkEmv4Nj8=",
           "dtype": "f8"
          },
          "color": "#EF553B",
          "thickness": 1.5,
          "type": "data",
          "visible": true,
          "width": 5
         },
         "hovertemplate": "%{text}<extra></extra>",
         "marker": {
          "color": "#EF553B",
          "line": {
           "color": "white",
           "width": 1
          },
          "opacity": 0.85,
          "size": 10
         },
         "mode": "markers",
         "text": [
          "Forecaster: ForecasterRecursive<br>Regressor: DummyRegressor<br>Function: ForecasterRecursive__create_train_X_y<br>Function_hash: 59b823f1ff395872fac4f7578bd859fa<br>Method: _create_train_X_y<br>Datetime: 2025-08-26 08:30:00.820339<br>Python version: 3.12.11<br>skforecast version: 0.16.0<br>numpy version: 2.1.3<br>pandas version: 2.3.2<br>sklearn version: 1.6.1<br>lightgbm version: 4.6.0<br>Platform: Linux-6.11.0-1018-azure-x86_64-with-glibc2.39<br>Processor: x86_64<br>CPU count: 4<br>Memory (GB): 16.77<br>Run time avg: 0.004224 s<br>Run time median: 0.004172 s<br>Run time p95: 0.004311 s<br>Run time std: 0.000279 s<br>Nº repeats: 30",
          "Forecaster: ForecasterRecursive<br>Regressor: DummyRegressor<br>Function: ForecasterRecursive__create_train_X_y<br>Function_hash: 59b823f1ff395872fac4f7578bd859fa<br>Method: _create_train_X_y<br>Datetime: 2025-08-26 08:39:55.702980<br>Python version: 3.12.11<br>skforecast version: 0.16.0<br>numpy version: 2.1.3<br>pandas version: 2.3.2<br>sklearn version: 1.6.1<br>lightgbm version: 4.6.0<br>Platform: Linux-6.11.0-1018-azure-x86_64-with-glibc2.39<br>Processor: x86_64<br>CPU count: 4<br>Memory (GB): 16.77<br>Run time avg: 0.004225 s<br>Run time median: 0.004141 s<br>Run time p95: 0.004379 s<br>Run time std: 0.000297 s<br>Nº repeats: 30",
          "Forecaster: ForecasterRecursive<br>Regressor: DummyRegressor<br>Function: ForecasterRecursive__create_train_X_y<br>Function_hash: 59b823f1ff395872fac4f7578bd859fa<br>Method: _create_train_X_y<br>Datetime: 2025-08-26 08:54:10.543630<br>Python version: 3.12.11<br>skforecast version: 0.16.0<br>numpy version: 2.1.3<br>pandas version: 2.3.2<br>sklearn version: 1.6.1<br>lightgbm version: 4.6.0<br>Platform: Linux-6.11.0-1018-azure-x86_64-with-glibc2.39<br>Processor: x86_64<br>CPU count: 4<br>Memory (GB): 16.77<br>Run time avg: 0.004286 s<br>Run time median: 0.004232 s<br>Run time p95: 0.004482 s<br>Run time std: 0.000292 s<br>Nº repeats: 30",
          "Forecaster: ForecasterRecursive<br>Regressor: DummyRegressor<br>Function: ForecasterRecursive__create_train_X_y<br>Function_hash: 59b823f1ff395872fac4f7578bd859fa<br>Method: _create_train_X_y<br>Datetime: 2025-08-26 09:04:32.964284<br>Python version: 3.12.11<br>skforecast version: 0.16.0<br>numpy version: 2.1.3<br>pandas version: 2.3.2<br>sklearn version: 1.6.1<br>lightgbm version: 4.6.0<br>Platform: Linux-6.11.0-1018-azure-x86_64-with-glibc2.39<br>Processor: x86_64<br>CPU count: 4<br>Memory (GB): 16.77<br>Run time avg: 0.004391 s<br>Run time median: 0.004262 s<br>Run time p95: 0.005161 s<br>Run time std: 0.000351 s<br>Nº repeats: 30"
         ],
         "type": "scatter",
         "visible": true,
         "x": {
          "bdata": "ZD6pVoCs8D+8eACc7VDwPweUCRsLYe8/ok3Ix9iz8D8=",
          "dtype": "f8"
         },
         "y": {
          "bdata": "7+4oyR5NcT+aeYGrxE1xPzMzn9kvjnE/746f3wX8cT8=",
          "dtype": "f8"
         }
        },
        {
         "error_y": {
          "array": {
           "bdata": "D0zK6lKRNj82G/rVAcc9P115da1c5zM//ctfYHxMNj8rzCrdUCozPw==",
           "dtype": "f8"
          },
          "color": "#00CC96",
          "thickness": 1.5,
          "type": "data",
          "visible": true,
          "width": 5
         },
         "hovertemplate": "%{text}<extra></extra>",
         "marker": {
          "color": "#00CC96",
          "line": {
           "color": "white",
           "width": 1
          },
          "opacity": 0.85,
          "size": 10
         },
         "mode": "markers",
         "text": [
          "Forecaster: ForecasterRecursive<br>Regressor: DummyRegressor<br>Function: ForecasterRecursive__create_train_X_y<br>Function_hash: 59b823f1ff395872fac4f7578bd859fa<br>Method: _create_train_X_y<br>Datetime: 2025-08-26 06:59:07.003048<br>Python version: 3.12.11<br>skforecast version: 0.17.0<br>numpy version: 2.1.3<br>pandas version: 2.3.2<br>sklearn version: 1.6.1<br>lightgbm version: 4.6.0<br>Platform: Linux-6.11.0-1018-azure-x86_64-with-glibc2.39<br>Processor: x86_64<br>CPU count: 4<br>Memory (GB): 16.77<br>Run time avg: 0.004280 s<br>Run time median: 0.004191 s<br>Run time p95: 0.004524 s<br>Run time std: 0.000344 s<br>Nº repeats: 30",
          "Forecaster: ForecasterRecursive<br>Regressor: DummyRegressor<br>Function: ForecasterRecursive__create_train_X_y<br>Function_hash: 59b823f1ff395872fac4f7578bd859fa<br>Method: _create_train_X_y<br>Datetime: 2025-08-26 07:11:54.564180<br>Python version: 3.12.11<br>skforecast version: 0.17.0<br>numpy version: 2.1.3<br>pandas version: 2.3.2<br>sklearn version: 1.6.1<br>lightgbm version: 4.6.0<br>Platform: Linux-6.11.0-1018-azure-x86_64-with-glibc2.39<br>Processor: x86_64<br>CPU count: 4<br>Memory (GB): 16.77<br>Run time avg: 0.004435 s<br>Run time median: 0.004279 s<br>Run time p95: 0.005447 s<br>Run time std: 0.000454 s<br>Nº repeats: 30",
          "Forecaster: ForecasterRecursive<br>Regressor: DummyRegressor<br>Function: ForecasterRecursive__create_train_X_y<br>Function_hash: 59b823f1ff395872fac4f7578bd859fa<br>Method: _create_train_X_y<br>Datetime: 2025-08-26 07:30:26.609290<br>Python version: 3.12.11<br>skforecast version: 0.17.0<br>numpy version: 2.1.3<br>pandas version: 2.3.2<br>sklearn version: 1.6.1<br>lightgbm version: 4.6.0<br>Platform: Linux-6.11.0-1018-azure-x86_64-with-glibc2.39<br>Processor: x86_64<br>CPU count: 4<br>Memory (GB): 16.77<br>Run time avg: 0.004355 s<br>Run time median: 0.004275 s<br>Run time p95: 0.004564 s<br>Run time std: 0.000304 s<br>Nº repeats: 30",
          "Forecaster: ForecasterRecursive<br>Regressor: DummyRegressor<br>Function: ForecasterRecursive__create_train_X_y<br>Function_hash: 59b823f1ff395872fac4f7578bd859fa<br>Method: _create_train_X_y<br>Datetime: 2025-08-26 07:43:05.226561<br>Python version: 3.12.11<br>skforecast version: 0.17.0<br>numpy version: 2.1.3<br>pandas version: 2.3.2<br>sklearn version: 1.6.1<br>lightgbm version: 4.6.0<br>Platform: Linux-6.11.0-1018-azure-x86_64-with-glibc2.39<br>Processor: x86_64<br>CPU count: 4<br>Memory (GB): 16.77<br>Run time avg: 0.004328 s<br>Run time median: 0.004219 s<br>Run time p95: 0.004817 s<br>Run time std: 0.000340 s<br>Nº repeats: 30",
          "Forecaster: ForecasterRecursive<br>Regressor: DummyRegressor<br>Function: ForecasterRecursive__create_train_X_y<br>Function_hash: 59b823f1ff395872fac4f7578bd859fa<br>Method: _create_train_X_y<br>Datetime: 2025-08-26 08:09:08.307522<br>Python version: 3.12.11<br>skforecast version: 0.17.0<br>numpy version: 2.1.3<br>pandas version: 2.3.2<br>sklearn version: 1.6.1<br>lightgbm version: 4.6.0<br>Platform: Linux-6.11.0-1018-azure-x86_64-with-glibc2.39<br>Processor: x86_64<br>CPU count: 4<br>Memory (GB): 16.77<br>Run time avg: 0.004288 s<br>Run time median: 0.004225 s<br>Run time p95: 0.004396 s<br>Run time std: 0.000292 s<br>Nº repeats: 30"
         ],
         "type": "scatter",
         "visible": true,
         "x": {
          "bdata": "+8lUgdtt/z8YbHUPi4H/PwI7w/Kp7f8/kxUp7nVJAEA41TFJ1/r/Pw==",
          "dtype": "f8"
         },
         "y": {
          "bdata": "q6qbU3WHcT/vbtKnfipyPzNzLF2o1nE/3n0K7Zm6cT9ERPG0NZBxPw==",
          "dtype": "f8"
         }
        },
        {
         "error_y": {
          "array": {
           "bdata": "2c5yEG2XJj/cX1fhJawxP5o5buy6Ryw/+Hu6dBjyJj8=",
           "dtype": "f8"
          },
          "color": "#636EFA",
          "thickness": 1.5,
          "type": "data",
          "visible": true,
          "width": 5
         },
         "hovertemplate": "%{text}<extra></extra>",
         "marker": {
          "color": "#636EFA",
          "line": {
           "color": "white",
           "width": 1
          },
          "opacity": 0.85,
          "size": 10
         },
         "mode": "markers",
         "text": [
          "Forecaster: ForecasterRecursive<br>Regressor: DummyRegressor<br>Function: ForecasterRecursive_fit<br>Function_hash: 9d73eaf5faa980194d715362601eed68<br>Method: fit<br>Datetime: 2025-08-26 09:16:24.561552<br>Python version: 3.12.11<br>skforecast version: 0.15.1<br>numpy version: 2.1.3<br>pandas version: 2.3.2<br>sklearn version: 1.6.1<br>lightgbm version: 4.6.0<br>Platform: Linux-6.11.0-1018-azure-x86_64-with-glibc2.39<br>Processor: x86_64<br>CPU count: 4<br>Memory (GB): 16.77<br>Run time avg: 0.005330 s<br>Run time median: 0.005260 s<br>Run time p95: 0.005658 s<br>Run time std: 0.000172 s<br>Nº repeats: 10",
          "Forecaster: ForecasterRecursive<br>Regressor: DummyRegressor<br>Function: ForecasterRecursive_fit<br>Function_hash: 9d73eaf5faa980194d715362601eed68<br>Method: fit<br>Datetime: 2025-08-26 09:32:24.816393<br>Python version: 3.12.11<br>skforecast version: 0.15.1<br>numpy version: 2.1.3<br>pandas version: 2.3.2<br>sklearn version: 1.6.1<br>lightgbm version: 4.6.0<br>Platform: Linux-6.11.0-1018-azure-x86_64-with-glibc2.39<br>Processor: x86_64<br>CPU count: 4<br>Memory (GB): 16.77<br>Run time avg: 0.005481 s<br>Run time median: 0.005394 s<br>Run time p95: 0.005948 s<br>Run time std: 0.000270 s<br>Nº repeats: 10",
          "Forecaster: ForecasterRecursive<br>Regressor: DummyRegressor<br>Function: ForecasterRecursive_fit<br>Function_hash: 9d73eaf5faa980194d715362601eed68<br>Method: fit<br>Datetime: 2025-08-26 09:45:16.179265<br>Python version: 3.12.11<br>skforecast version: 0.15.1<br>numpy version: 2.1.3<br>pandas version: 2.3.2<br>sklearn version: 1.6.1<br>lightgbm version: 4.6.0<br>Platform: Linux-6.11.0-1018-azure-x86_64-with-glibc2.39<br>Processor: x86_64<br>CPU count: 4<br>Memory (GB): 16.77<br>Run time avg: 0.005439 s<br>Run time median: 0.005368 s<br>Run time p95: 0.005819 s<br>Run time std: 0.000216 s<br>Nº repeats: 10",
          "Forecaster: ForecasterRecursive<br>Regressor: DummyRegressor<br>Function: ForecasterRecursive_fit<br>Function_hash: 9d73eaf5faa980194d715362601eed68<br>Method: fit<br>Datetime: 2025-08-26 10:08:51.343537<br>Python version: 3.12.11<br>skforecast version: 0.15.1<br>numpy version: 2.1.3<br>pandas version: 2.3.2<br>sklearn version: 1.6.1<br>lightgbm version: 4.6.0<br>Platform: Linux-6.11.0-1018-azure-x86_64-with-glibc2.39<br>Processor: x86_64<br>CPU count: 4<br>Memory (GB): 16.77<br>Run time avg: 0.005470 s<br>Run time median: 0.005423 s<br>Run time p95: 0.005772 s<br>Run time std: 0.000175 s<br>Nº repeats: 10"
         ],
         "type": "scatter",
         "visible": false,
         "x": {
          "bdata": "4kPP/vkKoj/aCztpmzynv3rnvAKZi6I/tel4nF1zqL8=",
          "dtype": "f8"
         },
         "y": {
          "bdata": "zUweDWTUdT/NjNwpQ3N2PwDAWJVXR3Y/zUyWrhNodj8=",
          "dtype": "f8"
         }
        },
        {
         "error_y": {
          "array": {
           "bdata": "iZ5IsbimKD/yP0JbNH8lP8DKUhhIhjE/2rr0ot1RKj8=",
           "dtype": "f8"
          },
          "color": "#EF553B",
          "thickness": 1.5,
          "type": "data",
          "visible": true,
          "width": 5
         },
         "hovertemplate": "%{text}<extra></extra>",
         "marker": {
          "color": "#EF553B",
          "line": {
           "color": "white",
           "width": 1
          },
          "opacity": 0.85,
          "size": 10
         },
         "mode": "markers",
         "text": [
          "Forecaster: ForecasterRecursive<br>Regressor: DummyRegressor<br>Function: ForecasterRecursive_fit<br>Function_hash: 9d73eaf5faa980194d715362601eed68<br>Method: fit<br>Datetime: 2025-08-26 08:30:00.880972<br>Python version: 3.12.11<br>skforecast version: 0.16.0<br>numpy version: 2.1.3<br>pandas version: 2.3.2<br>sklearn version: 1.6.1<br>lightgbm version: 4.6.0<br>Platform: Linux-6.11.0-1018-azure-x86_64-with-glibc2.39<br>Processor: x86_64<br>CPU count: 4<br>Memory (GB): 16.77<br>Run time avg: 0.005401 s<br>Run time median: 0.005342 s<br>Run time p95: 0.005722 s<br>Run time std: 0.000188 s<br>Nº repeats: 10",
          "Forecaster: ForecasterRecursive<br>Regressor: DummyRegressor<br>Function: ForecasterRecursive_fit<br>Function_hash: 9d73eaf5faa980194d715362601eed68<br>Method: fit<br>Datetime: 2025-08-26 08:39:55.762200<br>Python version: 3.12.11<br>skforecast version: 0.16.0<br>numpy version: 2.1.3<br>pandas version: 2.3.2<br>sklearn version: 1.6.1<br>lightgbm version: 4.6.0<br>Platform: Linux-6.11.0-1018-azure-x86_64-with-glibc2.39<br>Processor: x86_64<br>CPU count: 4<br>Memory (GB): 16.77<br>Run time avg: 0.005288 s<br>Run time median: 0.005227 s<br>Run time p95: 0.005574 s<br>Run time std: 0.000164 s<br>Nº repeats: 10",
          "Forecaster: ForecasterRecursive<br>Regressor: DummyRegressor<br>Function: ForecasterRecursive_fit<br>Function_hash: 9d73eaf5faa980194d715362601eed68<br>Method: fit<br>Datetime: 2025-08-26 08:54:10.634403<br>Python version: 3.12.11<br>skforecast version: 0.16.0<br>numpy version: 2.1.3<br>pandas version: 2.3.2<br>sklearn version: 1.6.1<br>lightgbm version: 4.6.0<br>Platform: Linux-6.11.0-1018-azure-x86_64-with-glibc2.39<br>Processor: x86_64<br>CPU count: 4<br>Memory (GB): 16.77<br>Run time avg: 0.005427 s<br>Run time median: 0.005338 s<br>Run time p95: 0.005871 s<br>Run time std: 0.000267 s<br>Nº repeats: 10",
          "Forecaster: ForecasterRecursive<br>Regressor: DummyRegressor<br>Function: ForecasterRecursive_fit<br>Function_hash: 9d73eaf5faa980194d715362601eed68<br>Method: fit<br>Datetime: 2025-08-26 09:04:33.025780<br>Python version: 3.12.11<br>skforecast version: 0.16.0<br>numpy version: 2.1.3<br>pandas version: 2.3.2<br>sklearn version: 1.6.1<br>lightgbm version: 4.6.0<br>Platform: Linux-6.11.0-1018-azure-x86_64-with-glibc2.39<br>Processor: x86_64<br>CPU count: 4<br>Memory (GB): 16.77<br>Run time avg: 0.005446 s<br>Run time median: 0.005419 s<br>Run time p95: 0.005789 s<br>Run time std: 0.000201 s<br>Nº repeats: 10"
         ],
         "type": "scatter",
         "visible": false,
         "x": {
          "bdata": "2xXAY6hE8D9jBTBeJD/vP8nxWfIawu4/C5Gm5zux7j8=",
          "dtype": "f8"
         },
         "y": {
          "bdata": "AAADbSIfdj9mxtGiSal1PzMzNw7HOnY/zeySLyZOdj8=",
          "dtype": "f8"
         }
        },
        {
         "error_y": {
          "array": {
           "bdata": "iO4cmAQlUj+h4in3ocEgP/rRAGvhWyY/BB1uXI2yJj+VnkgYNfomPw==",
           "dtype": "f8"
          },
          "color": "#00CC96",
          "thickness": 1.5,
          "type": "data",
          "visible": true,
          "width": 5
         },
         "hovertemplate": "%{text}<extra></extra>",
         "marker": {
          "color": "#00CC96",
          "line": {
           "color": "white",
           "width": 1
          },
          "opacity": 0.85,
          "size": 10
         },
         "mode": "markers",
         "text": [
          "Forecaster: ForecasterRecursive<br>Regressor: DummyRegressor<br>Function: ForecasterRecursive_fit<br>Function_hash: 9d73eaf5faa980194d715362601eed68<br>Method: fit<br>Datetime: 2025-08-26 06:59:07.066656<br>Python version: 3.12.11<br>skforecast version: 0.17.0<br>numpy version: 2.1.3<br>pandas version: 2.3.2<br>sklearn version: 1.6.1<br>lightgbm version: 4.6.0<br>Platform: Linux-6.11.0-1018-azure-x86_64-with-glibc2.39<br>Processor: x86_64<br>CPU count: 4<br>Memory (GB): 16.77<br>Run time avg: 0.005956 s<br>Run time median: 0.005379 s<br>Run time p95: 0.008166 s<br>Run time std: 0.001107 s<br>Nº repeats: 10",
          "Forecaster: ForecasterRecursive<br>Regressor: DummyRegressor<br>Function: ForecasterRecursive_fit<br>Function_hash: 9d73eaf5faa980194d715362601eed68<br>Method: fit<br>Datetime: 2025-08-26 07:11:54.624476<br>Python version: 3.12.11<br>skforecast version: 0.17.0<br>numpy version: 2.1.3<br>pandas version: 2.3.2<br>sklearn version: 1.6.1<br>lightgbm version: 4.6.0<br>Platform: Linux-6.11.0-1018-azure-x86_64-with-glibc2.39<br>Processor: x86_64<br>CPU count: 4<br>Memory (GB): 16.77<br>Run time avg: 0.005467 s<br>Run time median: 0.005425 s<br>Run time p95: 0.005692 s<br>Run time std: 0.000128 s<br>Nº repeats: 10",
          "Forecaster: ForecasterRecursive<br>Regressor: DummyRegressor<br>Function: ForecasterRecursive_fit<br>Function_hash: 9d73eaf5faa980194d715362601eed68<br>Method: fit<br>Datetime: 2025-08-26 07:30:26.670077<br>Python version: 3.12.11<br>skforecast version: 0.17.0<br>numpy version: 2.1.3<br>pandas version: 2.3.2<br>sklearn version: 1.6.1<br>lightgbm version: 4.6.0<br>Platform: Linux-6.11.0-1018-azure-x86_64-with-glibc2.39<br>Processor: x86_64<br>CPU count: 4<br>Memory (GB): 16.77<br>Run time avg: 0.005479 s<br>Run time median: 0.005429 s<br>Run time p95: 0.005768 s<br>Run time std: 0.000171 s<br>Nº repeats: 10",
          "Forecaster: ForecasterRecursive<br>Regressor: DummyRegressor<br>Function: ForecasterRecursive_fit<br>Function_hash: 9d73eaf5faa980194d715362601eed68<br>Method: fit<br>Datetime: 2025-08-26 07:43:05.287144<br>Python version: 3.12.11<br>skforecast version: 0.17.0<br>numpy version: 2.1.3<br>pandas version: 2.3.2<br>sklearn version: 1.6.1<br>lightgbm version: 4.6.0<br>Platform: Linux-6.11.0-1018-azure-x86_64-with-glibc2.39<br>Processor: x86_64<br>CPU count: 4<br>Memory (GB): 16.77<br>Run time avg: 0.005437 s<br>Run time median: 0.005382 s<br>Run time p95: 0.005726 s<br>Run time std: 0.000173 s<br>Nº repeats: 10",
          "Forecaster: ForecasterRecursive<br>Regressor: DummyRegressor<br>Function: ForecasterRecursive_fit<br>Function_hash: 9d73eaf5faa980194d715362601eed68<br>Method: fit<br>Datetime: 2025-08-26 08:09:08.367854<br>Python version: 3.12.11<br>skforecast version: 0.17.0<br>numpy version: 2.1.3<br>pandas version: 2.3.2<br>sklearn version: 1.6.1<br>lightgbm version: 4.6.0<br>Platform: Linux-6.11.0-1018-azure-x86_64-with-glibc2.39<br>Processor: x86_64<br>CPU count: 4<br>Memory (GB): 16.77<br>Run time avg: 0.005414 s<br>Run time median: 0.005345 s<br>Run time p95: 0.005706 s<br>Run time std: 0.000175 s<br>Nº repeats: 10"
         ],
         "type": "scatter",
         "visible": false,
         "x": {
          "bdata": "cXbL6LlD/z8HLj23ZKD/P4B0sp+OYf8/7ilHHxPT/z/6sdEH2rT/Pw==",
          "dtype": "f8"
         },
         "y": {
          "bdata": "ZmaAXR1leD+aGebhFWR2PwCAdRGmcXY/AECVeQpFdj8zM2Nstix2Pw==",
          "dtype": "f8"
         }
        },
        {
         "error_y": {
          "array": {
           "bdata": "mjL2TDE2AT/hahKBGKcCP2va8BAbhwE/iII7h4cmAT8=",
           "dtype": "f8"
          },
          "color": "#636EFA",
          "thickness": 1.5,
          "type": "data",
          "visible": true,
          "width": 5
         },
         "hovertemplate": "%{text}<extra></extra>",
         "marker": {
          "color": "#636EFA",
          "line": {
           "color": "white",
           "width": 1
          },
          "opacity": 0.85,
          "size": 10
         },
         "mode": "markers",
         "text": [
          "Forecaster: ForecasterRecursive<br>Regressor: DummyRegressor<br>Function: ForecasterRecursive_check_predict_inputs<br>Function_hash: e5142828938182d8f4d6d18f008a3ea4<br>Method: check_predict_inputs<br>Datetime: 2025-08-26 09:16:24.592746<br>Python version: 3.12.11<br>skforecast version: 0.15.1<br>numpy version: 2.1.3<br>pandas version: 2.3.2<br>sklearn version: 1.6.1<br>lightgbm version: 4.6.0<br>Platform: Linux-6.11.0-1018-azure-x86_64-with-glibc2.39<br>Processor: x86_64<br>CPU count: 4<br>Memory (GB): 16.77<br>Run time avg: 0.000665 s<br>Run time median: 0.000658 s<br>Run time p95: 0.000713 s<br>Run time std: 0.000033 s<br>Nº repeats: 30",
          "Forecaster: ForecasterRecursive<br>Regressor: DummyRegressor<br>Function: ForecasterRecursive_check_predict_inputs<br>Function_hash: e5142828938182d8f4d6d18f008a3ea4<br>Method: check_predict_inputs<br>Datetime: 2025-08-26 09:32:24.848780<br>Python version: 3.12.11<br>skforecast version: 0.15.1<br>numpy version: 2.1.3<br>pandas version: 2.3.2<br>sklearn version: 1.6.1<br>lightgbm version: 4.6.0<br>Platform: Linux-6.11.0-1018-azure-x86_64-with-glibc2.39<br>Processor: x86_64<br>CPU count: 4<br>Memory (GB): 16.77<br>Run time avg: 0.000679 s<br>Run time median: 0.000668 s<br>Run time p95: 0.000724 s<br>Run time std: 0.000036 s<br>Nº repeats: 30",
          "Forecaster: ForecasterRecursive<br>Regressor: DummyRegressor<br>Function: ForecasterRecursive_check_predict_inputs<br>Function_hash: e5142828938182d8f4d6d18f008a3ea4<br>Method: check_predict_inputs<br>Datetime: 2025-08-26 09:45:16.211487<br>Python version: 3.12.11<br>skforecast version: 0.15.1<br>numpy version: 2.1.3<br>pandas version: 2.3.2<br>sklearn version: 1.6.1<br>lightgbm version: 4.6.0<br>Platform: Linux-6.11.0-1018-azure-x86_64-with-glibc2.39<br>Processor: x86_64<br>CPU count: 4<br>Memory (GB): 16.77<br>Run time avg: 0.000675 s<br>Run time median: 0.000670 s<br>Run time p95: 0.000721 s<br>Run time std: 0.000033 s<br>Nº repeats: 30",
          "Forecaster: ForecasterRecursive<br>Regressor: DummyRegressor<br>Function: ForecasterRecursive_check_predict_inputs<br>Function_hash: e5142828938182d8f4d6d18f008a3ea4<br>Method: check_predict_inputs<br>Datetime: 2025-08-26 10:08:51.376127<br>Python version: 3.12.11<br>skforecast version: 0.15.1<br>numpy version: 2.1.3<br>pandas version: 2.3.2<br>sklearn version: 1.6.1<br>lightgbm version: 4.6.0<br>Platform: Linux-6.11.0-1018-azure-x86_64-with-glibc2.39<br>Processor: x86_64<br>CPU count: 4<br>Memory (GB): 16.77<br>Run time avg: 0.000684 s<br>Run time median: 0.000678 s<br>Run time p95: 0.000727 s<br>Run time std: 0.000033 s<br>Nº repeats: 30"
         ],
         "type": "scatter",
         "visible": false,
         "x": {
          "bdata": "WPdcEzwlor9k+Dm/uS6ivwgEFXNVJ6e/t77MyKrEob8=",
          "dtype": "f8"
         },
         "y": {
          "bdata": "7+4Sga/JRT+JiCJxcUNGP5qZtycDHkY/q6rOOb1oRj8=",
          "dtype": "f8"
         }
        },
        {
         "error_y": {
          "array": {
           "bdata": "xvXBjWhh/z7xUfN7Ul7+Pmt4N9Z9fPw+B5JzVqW++z4=",
           "dtype": "f8"
          },
          "color": "#EF553B",
          "thickness": 1.5,
          "type": "data",
          "visible": true,
          "width": 5
         },
         "hovertemplate": "%{text}<extra></extra>",
         "marker": {
          "color": "#EF553B",
          "line": {
           "color": "white",
           "width": 1
          },
          "opacity": 0.85,
          "size": 10
         },
         "mode": "markers",
         "text": [
          "Forecaster: ForecasterRecursive<br>Regressor: DummyRegressor<br>Function: ForecasterRecursive_check_predict_inputs<br>Function_hash: e5142828938182d8f4d6d18f008a3ea4<br>Method: check_predict_inputs<br>Datetime: 2025-08-26 08:30:00.902603<br>Python version: 3.12.11<br>skforecast version: 0.16.0<br>numpy version: 2.1.3<br>pandas version: 2.3.2<br>sklearn version: 1.6.1<br>lightgbm version: 4.6.0<br>Platform: Linux-6.11.0-1018-azure-x86_64-with-glibc2.39<br>Processor: x86_64<br>CPU count: 4<br>Memory (GB): 16.77<br>Run time avg: 0.000303 s<br>Run time median: 0.000300 s<br>Run time p95: 0.000342 s<br>Run time std: 0.000030 s<br>Nº repeats: 30",
          "Forecaster: ForecasterRecursive<br>Regressor: DummyRegressor<br>Function: ForecasterRecursive_check_predict_inputs<br>Function_hash: e5142828938182d8f4d6d18f008a3ea4<br>Method: check_predict_inputs<br>Datetime: 2025-08-26 08:39:55.779734<br>Python version: 3.12.11<br>skforecast version: 0.16.0<br>numpy version: 2.1.3<br>pandas version: 2.3.2<br>sklearn version: 1.6.1<br>lightgbm version: 4.6.0<br>Platform: Linux-6.11.0-1018-azure-x86_64-with-glibc2.39<br>Processor: x86_64<br>CPU count: 4<br>Memory (GB): 16.77<br>Run time avg: 0.000206 s<br>Run time median: 0.000197 s<br>Run time p95: 0.000237 s<br>Run time std: 0.000029 s<br>Nº repeats: 30",
          "Forecaster: ForecasterRecursive<br>Regressor: DummyRegressor<br>Function: ForecasterRecursive_check_predict_inputs<br>Function_hash: e5142828938182d8f4d6d18f008a3ea4<br>Method: check_predict_inputs<br>Datetime: 2025-08-26 08:54:10.652652<br>Python version: 3.12.11<br>skforecast version: 0.16.0<br>numpy version: 2.1.3<br>pandas version: 2.3.2<br>sklearn version: 1.6.1<br>lightgbm version: 4.6.0<br>Platform: Linux-6.11.0-1018-azure-x86_64-with-glibc2.39<br>Processor: x86_64<br>CPU count: 4<br>Memory (GB): 16.77<br>Run time avg: 0.000214 s<br>Run time median: 0.000205 s<br>Run time p95: 0.000251 s<br>Run time std: 0.000027 s<br>Nº repeats: 30",
          "Forecaster: ForecasterRecursive<br>Regressor: DummyRegressor<br>Function: ForecasterRecursive_check_predict_inputs<br>Function_hash: e5142828938182d8f4d6d18f008a3ea4<br>Method: check_predict_inputs<br>Datetime: 2025-08-26 09:04:33.043842<br>Python version: 3.12.11<br>skforecast version: 0.16.0<br>numpy version: 2.1.3<br>pandas version: 2.3.2<br>sklearn version: 1.6.1<br>lightgbm version: 4.6.0<br>Platform: Linux-6.11.0-1018-azure-x86_64-with-glibc2.39<br>Processor: x86_64<br>CPU count: 4<br>Memory (GB): 16.77<br>Run time avg: 0.000213 s<br>Run time median: 0.000201 s<br>Run time p95: 0.000250 s<br>Run time std: 0.000026 s<br>Nº repeats: 30"
         ],
         "type": "scatter",
         "visible": false,
         "x": {
          "bdata": "I9hXtTgW8D+IVbGzR4fwP6dLWqC1J/A/76M6ROl/7z8=",
          "dtype": "f8"
         },
         "y": {
          "bdata": "RESEmKLbMz8REYkGJgkrPwAAAHhiCiw/ERGdT3z4Kz8=",
          "dtype": "f8"
         }
        },
        {
         "error_y": {
          "array": {
           "bdata": "1waV00SK+z6L2/b8QbH2PhYXUwbrhvc+ghskSDMg/D69eiU1XC76Pg==",
           "dtype": "f8"
          },
          "color": "#00CC96",
          "thickness": 1.5,
          "type": "data",
          "visible": true,
          "width": 5
         },
         "hovertemplate": "%{text}<extra></extra>",
         "marker": {
          "color": "#00CC96",
          "line": {
           "color": "white",
           "width": 1
          },
          "opacity": 0.85,
          "size": 10
         },
         "mode": "markers",
         "text": [
          "Forecaster: ForecasterRecursive<br>Regressor: DummyRegressor<br>Function: ForecasterRecursive_check_predict_inputs<br>Function_hash: e5142828938182d8f4d6d18f008a3ea4<br>Method: check_predict_inputs<br>Datetime: 2025-08-26 06:59:07.083365<br>Python version: 3.12.11<br>skforecast version: 0.17.0<br>numpy version: 2.1.3<br>pandas version: 2.3.2<br>sklearn version: 1.6.1<br>lightgbm version: 4.6.0<br>Platform: Linux-6.11.0-1018-azure-x86_64-with-glibc2.39<br>Processor: x86_64<br>CPU count: 4<br>Memory (GB): 16.77<br>Run time avg: 0.000204 s<br>Run time median: 0.000196 s<br>Run time p95: 0.000227 s<br>Run time std: 0.000026 s<br>Nº repeats: 30",
          "Forecaster: ForecasterRecursive<br>Regressor: DummyRegressor<br>Function: ForecasterRecursive_check_predict_inputs<br>Function_hash: e5142828938182d8f4d6d18f008a3ea4<br>Method: check_predict_inputs<br>Datetime: 2025-08-26 07:11:54.641270<br>Python version: 3.12.11<br>skforecast version: 0.17.0<br>numpy version: 2.1.3<br>pandas version: 2.3.2<br>sklearn version: 1.6.1<br>lightgbm version: 4.6.0<br>Platform: Linux-6.11.0-1018-azure-x86_64-with-glibc2.39<br>Processor: x86_64<br>CPU count: 4<br>Memory (GB): 16.77<br>Run time avg: 0.000205 s<br>Run time median: 0.000198 s<br>Run time p95: 0.000248 s<br>Run time std: 0.000022 s<br>Nº repeats: 30",
          "Forecaster: ForecasterRecursive<br>Regressor: DummyRegressor<br>Function: ForecasterRecursive_check_predict_inputs<br>Function_hash: e5142828938182d8f4d6d18f008a3ea4<br>Method: check_predict_inputs<br>Datetime: 2025-08-26 07:30:26.686990<br>Python version: 3.12.11<br>skforecast version: 0.17.0<br>numpy version: 2.1.3<br>pandas version: 2.3.2<br>sklearn version: 1.6.1<br>lightgbm version: 4.6.0<br>Platform: Linux-6.11.0-1018-azure-x86_64-with-glibc2.39<br>Processor: x86_64<br>CPU count: 4<br>Memory (GB): 16.77<br>Run time avg: 0.000207 s<br>Run time median: 0.000198 s<br>Run time p95: 0.000249 s<br>Run time std: 0.000022 s<br>Nº repeats: 30",
          "Forecaster: ForecasterRecursive<br>Regressor: DummyRegressor<br>Function: ForecasterRecursive_check_predict_inputs<br>Function_hash: e5142828938182d8f4d6d18f008a3ea4<br>Method: check_predict_inputs<br>Datetime: 2025-08-26 07:43:05.304246<br>Python version: 3.12.11<br>skforecast version: 0.17.0<br>numpy version: 2.1.3<br>pandas version: 2.3.2<br>sklearn version: 1.6.1<br>lightgbm version: 4.6.0<br>Platform: Linux-6.11.0-1018-azure-x86_64-with-glibc2.39<br>Processor: x86_64<br>CPU count: 4<br>Memory (GB): 16.77<br>Run time avg: 0.000202 s<br>Run time median: 0.000191 s<br>Run time p95: 0.000253 s<br>Run time std: 0.000027 s<br>Nº repeats: 30",
          "Forecaster: ForecasterRecursive<br>Regressor: DummyRegressor<br>Function: ForecasterRecursive_check_predict_inputs<br>Function_hash: e5142828938182d8f4d6d18f008a3ea4<br>Method: check_predict_inputs<br>Datetime: 2025-08-26 08:09:08.385048<br>Python version: 3.12.11<br>skforecast version: 0.17.0<br>numpy version: 2.1.3<br>pandas version: 2.3.2<br>sklearn version: 1.6.1<br>lightgbm version: 4.6.0<br>Platform: Linux-6.11.0-1018-azure-x86_64-with-glibc2.39<br>Processor: x86_64<br>CPU count: 4<br>Memory (GB): 16.77<br>Run time avg: 0.000207 s<br>Run time median: 0.000200 s<br>Run time p95: 0.000257 s<br>Run time std: 0.000025 s<br>Nº repeats: 30"
         ],
         "type": "scatter",
         "visible": false,
         "x": {
          "bdata": "wOXjyHVPAEDcNW71rQgAQHrzTARFr/8/s254GAWT/z92ffNjWUP/Pw==",
          "dtype": "f8"
         },
         "y": {
          "bdata": "7+5OZJCsKj+amfEh5t8qPyIiKqOOLys/q6rCslaIKj8zM3MDTRUrPw==",
          "dtype": "f8"
         }
        },
        {
         "error_y": {
          "array": {
           "bdata": "gemQRPzgFD/u8NYACRgdP35IxgnBSRY/OO4nIFslGT8=",
           "dtype": "f8"
          },
          "color": "#636EFA",
          "thickness": 1.5,
          "type": "data",
          "visible": true,
          "width": 5
         },
         "hovertemplate": "%{text}<extra></extra>",
         "marker": {
          "color": "#636EFA",
          "line": {
           "color": "white",
           "width": 1
          },
          "opacity": 0.85,
          "size": 10
         },
         "mode": "markers",
         "text": [
          "Forecaster: ForecasterRecursive<br>Regressor: DummyRegressor<br>Function: ForecasterRecursive__create_predict_inputs<br>Function_hash: 00720cf9fd37bb5bfbe41ab05dd1e25a<br>Method: _create_predict_inputs<br>Datetime: 2025-08-26 09:16:24.674871<br>Python version: 3.12.11<br>skforecast version: 0.15.1<br>numpy version: 2.1.3<br>pandas version: 2.3.2<br>sklearn version: 1.6.1<br>lightgbm version: 4.6.0<br>Platform: Linux-6.11.0-1018-azure-x86_64-with-glibc2.39<br>Processor: x86_64<br>CPU count: 4<br>Memory (GB): 16.77<br>Run time avg: 0.002590 s<br>Run time median: 0.002569 s<br>Run time p95: 0.002658 s<br>Run time std: 0.000080 s<br>Nº repeats: 30",
          "Forecaster: ForecasterRecursive<br>Regressor: DummyRegressor<br>Function: ForecasterRecursive__create_predict_inputs<br>Function_hash: 00720cf9fd37bb5bfbe41ab05dd1e25a<br>Method: _create_predict_inputs<br>Datetime: 2025-08-26 09:32:24.933835<br>Python version: 3.12.11<br>skforecast version: 0.15.1<br>numpy version: 2.1.3<br>pandas version: 2.3.2<br>sklearn version: 1.6.1<br>lightgbm version: 4.6.0<br>Platform: Linux-6.11.0-1018-azure-x86_64-with-glibc2.39<br>Processor: x86_64<br>CPU count: 4<br>Memory (GB): 16.77<br>Run time avg: 0.002672 s<br>Run time median: 0.002644 s<br>Run time p95: 0.002776 s<br>Run time std: 0.000111 s<br>Nº repeats: 30",
          "Forecaster: ForecasterRecursive<br>Regressor: DummyRegressor<br>Function: ForecasterRecursive__create_predict_inputs<br>Function_hash: 00720cf9fd37bb5bfbe41ab05dd1e25a<br>Method: _create_predict_inputs<br>Datetime: 2025-08-26 09:45:16.295569<br>Python version: 3.12.11<br>skforecast version: 0.15.1<br>numpy version: 2.1.3<br>pandas version: 2.3.2<br>sklearn version: 1.6.1<br>lightgbm version: 4.6.0<br>Platform: Linux-6.11.0-1018-azure-x86_64-with-glibc2.39<br>Processor: x86_64<br>CPU count: 4<br>Memory (GB): 16.77<br>Run time avg: 0.002644 s<br>Run time median: 0.002626 s<br>Run time p95: 0.002706 s<br>Run time std: 0.000085 s<br>Nº repeats: 30",
          "Forecaster: ForecasterRecursive<br>Regressor: DummyRegressor<br>Function: ForecasterRecursive__create_predict_inputs<br>Function_hash: 00720cf9fd37bb5bfbe41ab05dd1e25a<br>Method: _create_predict_inputs<br>Datetime: 2025-08-26 10:08:51.460426<br>Python version: 3.12.11<br>skforecast version: 0.15.1<br>numpy version: 2.1.3<br>pandas version: 2.3.2<br>sklearn version: 1.6.1<br>lightgbm version: 4.6.0<br>Platform: Linux-6.11.0-1018-azure-x86_64-with-glibc2.39<br>Processor: x86_64<br>CPU count: 4<br>Memory (GB): 16.77<br>Run time avg: 0.002649 s<br>Run time median: 0.002627 s<br>Run time p95: 0.002730 s<br>Run time std: 0.000096 s<br>Nº repeats: 30"
         ],
         "type": "scatter",
         "visible": false,
         "x": {
          "bdata": "SjGekDOcoz8OdSdIjwymPwVu18kzqqC/Gp/pCuy8oj8=",
          "dtype": "f8"
         },
         "y": {
          "bdata": "vLsLZXc4ZT/e3U2hjuNlP7z7tYwhqWU/VVXZuSGzZT8=",
          "dtype": "f8"
         }
        },
        {
         "error_y": {
          "array": {
           "bdata": "Qi6XPOd9Mz+UITTskRUUP32OEEjeGCE/RAJtrhEdGj8=",
           "dtype": "f8"
          },
          "color": "#EF553B",
          "thickness": 1.5,
          "type": "data",
          "visible": true,
          "width": 5
         },
         "hovertemplate": "%{text}<extra></extra>",
         "marker": {
          "color": "#EF553B",
          "line": {
           "color": "white",
           "width": 1
          },
          "opacity": 0.85,
          "size": 10
         },
         "mode": "markers",
         "text": [
          "Forecaster: ForecasterRecursive<br>Regressor: DummyRegressor<br>Function: ForecasterRecursive__create_predict_inputs<br>Function_hash: 00720cf9fd37bb5bfbe41ab05dd1e25a<br>Method: _create_predict_inputs<br>Datetime: 2025-08-26 08:30:00.974379<br>Python version: 3.12.11<br>skforecast version: 0.16.0<br>numpy version: 2.1.3<br>pandas version: 2.3.2<br>sklearn version: 1.6.1<br>lightgbm version: 4.6.0<br>Platform: Linux-6.11.0-1018-azure-x86_64-with-glibc2.39<br>Processor: x86_64<br>CPU count: 4<br>Memory (GB): 16.77<br>Run time avg: 0.002178 s<br>Run time median: 0.002110 s<br>Run time p95: 0.002262 s<br>Run time std: 0.000297 s<br>Nº repeats: 30",
          "Forecaster: ForecasterRecursive<br>Regressor: DummyRegressor<br>Function: ForecasterRecursive__create_predict_inputs<br>Function_hash: 00720cf9fd37bb5bfbe41ab05dd1e25a<br>Method: _create_predict_inputs<br>Datetime: 2025-08-26 08:39:55.847045<br>Python version: 3.12.11<br>skforecast version: 0.16.0<br>numpy version: 2.1.3<br>pandas version: 2.3.2<br>sklearn version: 1.6.1<br>lightgbm version: 4.6.0<br>Platform: Linux-6.11.0-1018-azure-x86_64-with-glibc2.39<br>Processor: x86_64<br>CPU count: 4<br>Memory (GB): 16.77<br>Run time avg: 0.002104 s<br>Run time median: 0.002091 s<br>Run time p95: 0.002159 s<br>Run time std: 0.000077 s<br>Nº repeats: 30",
          "Forecaster: ForecasterRecursive<br>Regressor: DummyRegressor<br>Function: ForecasterRecursive__create_predict_inputs<br>Function_hash: 00720cf9fd37bb5bfbe41ab05dd1e25a<br>Method: _create_predict_inputs<br>Datetime: 2025-08-26 08:54:10.738011<br>Python version: 3.12.11<br>skforecast version: 0.16.0<br>numpy version: 2.1.3<br>pandas version: 2.3.2<br>sklearn version: 1.6.1<br>lightgbm version: 4.6.0<br>Platform: Linux-6.11.0-1018-azure-x86_64-with-glibc2.39<br>Processor: x86_64<br>CPU count: 4<br>Memory (GB): 16.77<br>Run time avg: 0.002124 s<br>Run time median: 0.002091 s<br>Run time p95: 0.002209 s<br>Run time std: 0.000130 s<br>Nº repeats: 30",
          "Forecaster: ForecasterRecursive<br>Regressor: DummyRegressor<br>Function: ForecasterRecursive__create_predict_inputs<br>Function_hash: 00720cf9fd37bb5bfbe41ab05dd1e25a<br>Method: _create_predict_inputs<br>Datetime: 2025-08-26 09:04:33.113426<br>Python version: 3.12.11<br>skforecast version: 0.16.0<br>numpy version: 2.1.3<br>pandas version: 2.3.2<br>sklearn version: 1.6.1<br>lightgbm version: 4.6.0<br>Platform: Linux-6.11.0-1018-azure-x86_64-with-glibc2.39<br>Processor: x86_64<br>CPU count: 4<br>Memory (GB): 16.77<br>Run time avg: 0.002171 s<br>Run time median: 0.002151 s<br>Run time p95: 0.002296 s<br>Run time std: 0.000100 s<br>Nº repeats: 30"
         ],
         "type": "scatter",
         "visible": false,
         "x": {
          "bdata": "UyMWHt3C8D/A4v0ZQHPuP9OkYxJdafA/cW4dp2JB8D8=",
          "dtype": "f8"
         },
         "y": {
          "bdata": "q6oDac7WYT/enZrQ9jthP3d3ZzbwZmE/M3N/wbvIYT8=",
          "dtype": "f8"
         }
        },
        {
         "error_y": {
          "array": {
           "bdata": "w4WKtunGEz/f/6wGPWoeP++OQrc7FRQ/AEfFCkHNFD9gTMJkOAAUPw==",
           "dtype": "f8"
          },
          "color": "#00CC96",
          "thickness": 1.5,
          "type": "data",
          "visible": true,
          "width": 5
         },
         "hovertemplate": "%{text}<extra></extra>",
         "marker": {
          "color": "#00CC96",
          "line": {
           "color": "white",
           "width": 1
          },
          "opacity": 0.85,
          "size": 10
         },
         "mode": "markers",
         "text": [
          "Forecaster: ForecasterRecursive<br>Regressor: DummyRegressor<br>Function: ForecasterRecursive__create_predict_inputs<br>Function_hash: 00720cf9fd37bb5bfbe41ab05dd1e25a<br>Method: _create_predict_inputs<br>Datetime: 2025-08-26 06:59:07.149165<br>Python version: 3.12.11<br>skforecast version: 0.17.0<br>numpy version: 2.1.3<br>pandas version: 2.3.2<br>sklearn version: 1.6.1<br>lightgbm version: 4.6.0<br>Platform: Linux-6.11.0-1018-azure-x86_64-with-glibc2.39<br>Processor: x86_64<br>CPU count: 4<br>Memory (GB): 16.77<br>Run time avg: 0.002079 s<br>Run time median: 0.002070 s<br>Run time p95: 0.002147 s<br>Run time std: 0.000075 s<br>Nº repeats: 30",
          "Forecaster: ForecasterRecursive<br>Regressor: DummyRegressor<br>Function: ForecasterRecursive__create_predict_inputs<br>Function_hash: 00720cf9fd37bb5bfbe41ab05dd1e25a<br>Method: _create_predict_inputs<br>Datetime: 2025-08-26 07:11:54.708731<br>Python version: 3.12.11<br>skforecast version: 0.17.0<br>numpy version: 2.1.3<br>pandas version: 2.3.2<br>sklearn version: 1.6.1<br>lightgbm version: 4.6.0<br>Platform: Linux-6.11.0-1018-azure-x86_64-with-glibc2.39<br>Processor: x86_64<br>CPU count: 4<br>Memory (GB): 16.77<br>Run time avg: 0.002126 s<br>Run time median: 0.002084 s<br>Run time p95: 0.002346 s<br>Run time std: 0.000116 s<br>Nº repeats: 30",
          "Forecaster: ForecasterRecursive<br>Regressor: DummyRegressor<br>Function: ForecasterRecursive__create_predict_inputs<br>Function_hash: 00720cf9fd37bb5bfbe41ab05dd1e25a<br>Method: _create_predict_inputs<br>Datetime: 2025-08-26 07:30:26.753939<br>Python version: 3.12.11<br>skforecast version: 0.17.0<br>numpy version: 2.1.3<br>pandas version: 2.3.2<br>sklearn version: 1.6.1<br>lightgbm version: 4.6.0<br>Platform: Linux-6.11.0-1018-azure-x86_64-with-glibc2.39<br>Processor: x86_64<br>CPU count: 4<br>Memory (GB): 16.77<br>Run time avg: 0.002103 s<br>Run time median: 0.002086 s<br>Run time p95: 0.002184 s<br>Run time std: 0.000077 s<br>Nº repeats: 30",
          "Forecaster: ForecasterRecursive<br>Regressor: DummyRegressor<br>Function: ForecasterRecursive__create_predict_inputs<br>Function_hash: 00720cf9fd37bb5bfbe41ab05dd1e25a<br>Method: _create_predict_inputs<br>Datetime: 2025-08-26 07:43:05.370255<br>Python version: 3.12.11<br>skforecast version: 0.17.0<br>numpy version: 2.1.3<br>pandas version: 2.3.2<br>sklearn version: 1.6.1<br>lightgbm version: 4.6.0<br>Platform: Linux-6.11.0-1018-azure-x86_64-with-glibc2.39<br>Processor: x86_64<br>CPU count: 4<br>Memory (GB): 16.77<br>Run time avg: 0.002068 s<br>Run time median: 0.002050 s<br>Run time p95: 0.002126 s<br>Run time std: 0.000079 s<br>Nº repeats: 30",
          "Forecaster: ForecasterRecursive<br>Regressor: DummyRegressor<br>Function: ForecasterRecursive__create_predict_inputs<br>Function_hash: 00720cf9fd37bb5bfbe41ab05dd1e25a<br>Method: _create_predict_inputs<br>Datetime: 2025-08-26 08:09:08.451562<br>Python version: 3.12.11<br>skforecast version: 0.17.0<br>numpy version: 2.1.3<br>pandas version: 2.3.2<br>sklearn version: 1.6.1<br>lightgbm version: 4.6.0<br>Platform: Linux-6.11.0-1018-azure-x86_64-with-glibc2.39<br>Processor: x86_64<br>CPU count: 4<br>Memory (GB): 16.77<br>Run time avg: 0.002083 s<br>Run time median: 0.002066 s<br>Run time p95: 0.002118 s<br>Run time std: 0.000076 s<br>Nº repeats: 30"
         ],
         "type": "scatter",
         "visible": false,
         "x": {
          "bdata": "dLk0+ORL/z9M1oFtXBoAQMoU1ukBIgBANN3Ll29HAEAQLUZP+7H/Pw==",
          "dtype": "f8"
         },
         "y": {
          "bdata": "iYjUuZQIYT8RER2QdGphPwAApdY6O2E/VdVA2fHxYD8zM+nhiA9hPw==",
          "dtype": "f8"
         }
        },
        {
         "error_y": {
          "array": {
           "bdata": "KNFzrCchET/x1WMpNWM2PzCVDM3J/RQ/Nq5S68lYKD8=",
           "dtype": "f8"
          },
          "color": "#636EFA",
          "thickness": 1.5,
          "type": "data",
          "visible": true,
          "width": 5
         },
         "hovertemplate": "%{text}<extra></extra>",
         "marker": {
          "color": "#636EFA",
          "line": {
           "color": "white",
           "width": 1
          },
          "opacity": 0.85,
          "size": 10
         },
         "mode": "markers",
         "text": [
          "Forecaster: ForecasterRecursive<br>Regressor: DummyRegressor<br>Function: ForecasterRecursive_predict<br>Function_hash: 098241567b0d263ea500b9c57823af43<br>Method: predict<br>Datetime: 2025-08-26 09:16:24.855188<br>Python version: 3.12.11<br>skforecast version: 0.15.1<br>numpy version: 2.1.3<br>pandas version: 2.3.2<br>sklearn version: 1.6.1<br>lightgbm version: 4.6.0<br>Platform: Linux-6.11.0-1018-azure-x86_64-with-glibc2.39<br>Processor: x86_64<br>CPU count: 4<br>Memory (GB): 16.77<br>Run time avg: 0.005863 s<br>Run time median: 0.005858 s<br>Run time p95: 0.005985 s<br>Run time std: 0.000065 s<br>Nº repeats: 30",
          "Forecaster: ForecasterRecursive<br>Regressor: DummyRegressor<br>Function: ForecasterRecursive_predict<br>Function_hash: 098241567b0d263ea500b9c57823af43<br>Method: predict<br>Datetime: 2025-08-26 09:32:25.125362<br>Python version: 3.12.11<br>skforecast version: 0.15.1<br>numpy version: 2.1.3<br>pandas version: 2.3.2<br>sklearn version: 1.6.1<br>lightgbm version: 4.6.0<br>Platform: Linux-6.11.0-1018-azure-x86_64-with-glibc2.39<br>Processor: x86_64<br>CPU count: 4<br>Memory (GB): 16.77<br>Run time avg: 0.006221 s<br>Run time median: 0.006062 s<br>Run time p95: 0.006799 s<br>Run time std: 0.000342 s<br>Nº repeats: 30",
          "Forecaster: ForecasterRecursive<br>Regressor: DummyRegressor<br>Function: ForecasterRecursive_predict<br>Function_hash: 098241567b0d263ea500b9c57823af43<br>Method: predict<br>Datetime: 2025-08-26 09:45:16.476287<br>Python version: 3.12.11<br>skforecast version: 0.15.1<br>numpy version: 2.1.3<br>pandas version: 2.3.2<br>sklearn version: 1.6.1<br>lightgbm version: 4.6.0<br>Platform: Linux-6.11.0-1018-azure-x86_64-with-glibc2.39<br>Processor: x86_64<br>CPU count: 4<br>Memory (GB): 16.77<br>Run time avg: 0.005856 s<br>Run time median: 0.005839 s<br>Run time p95: 0.005953 s<br>Run time std: 0.000080 s<br>Nº repeats: 30",
          "Forecaster: ForecasterRecursive<br>Regressor: DummyRegressor<br>Function: ForecasterRecursive_predict<br>Function_hash: 098241567b0d263ea500b9c57823af43<br>Method: predict<br>Datetime: 2025-08-26 10:08:51.644151<br>Python version: 3.12.11<br>skforecast version: 0.15.1<br>numpy version: 2.1.3<br>pandas version: 2.3.2<br>sklearn version: 1.6.1<br>lightgbm version: 4.6.0<br>Platform: Linux-6.11.0-1018-azure-x86_64-with-glibc2.39<br>Processor: x86_64<br>CPU count: 4<br>Memory (GB): 16.77<br>Run time avg: 0.005960 s<br>Run time median: 0.005915 s<br>Run time p95: 0.006101 s<br>Run time std: 0.000186 s<br>Nº repeats: 30"
         ],
         "type": "scatter",
         "visible": false,
         "x": {
          "bdata": "+soD7KKcoL8W5zNLVd6mP0gEydzbVY8/EBYRZASGcb8=",
          "dtype": "f8"
         },
         "y": {
          "bdata": "ZuY+IrkDeD/vDgyntXp5P81sCsmh/Hc/EZG0L19peD8=",
          "dtype": "f8"
         }
        },
        {
         "error_y": {
          "array": {
           "bdata": "73ird9ptDT9Tjk+b3kMTP2wuwr48jQk/MZ9NhOKrEj8=",
           "dtype": "f8"
          },
          "color": "#EF553B",
          "thickness": 1.5,
          "type": "data",
          "visible": true,
          "width": 5
         },
         "hovertemplate": "%{text}<extra></extra>",
         "marker": {
          "color": "#EF553B",
          "line": {
           "color": "white",
           "width": 1
          },
          "opacity": 0.85,
          "size": 10
         },
         "mode": "markers",
         "text": [
          "Forecaster: ForecasterRecursive<br>Regressor: DummyRegressor<br>Function: ForecasterRecursive_predict<br>Function_hash: 098241567b0d263ea500b9c57823af43<br>Method: predict<br>Datetime: 2025-08-26 08:30:01.143207<br>Python version: 3.12.11<br>skforecast version: 0.16.0<br>numpy version: 2.1.3<br>pandas version: 2.3.2<br>sklearn version: 1.6.1<br>lightgbm version: 4.6.0<br>Platform: Linux-6.11.0-1018-azure-x86_64-with-glibc2.39<br>Processor: x86_64<br>CPU count: 4<br>Memory (GB): 16.77<br>Run time avg: 0.005477 s<br>Run time median: 0.005471 s<br>Run time p95: 0.005591 s<br>Run time std: 0.000056 s<br>Nº repeats: 30",
          "Forecaster: ForecasterRecursive<br>Regressor: DummyRegressor<br>Function: ForecasterRecursive_predict<br>Function_hash: 098241567b0d263ea500b9c57823af43<br>Method: predict<br>Datetime: 2025-08-26 08:39:56.014508<br>Python version: 3.12.11<br>skforecast version: 0.16.0<br>numpy version: 2.1.3<br>pandas version: 2.3.2<br>sklearn version: 1.6.1<br>lightgbm version: 4.6.0<br>Platform: Linux-6.11.0-1018-azure-x86_64-with-glibc2.39<br>Processor: x86_64<br>CPU count: 4<br>Memory (GB): 16.77<br>Run time avg: 0.005440 s<br>Run time median: 0.005428 s<br>Run time p95: 0.005536 s<br>Run time std: 0.000073 s<br>Nº repeats: 30",
          "Forecaster: ForecasterRecursive<br>Regressor: DummyRegressor<br>Function: ForecasterRecursive_predict<br>Function_hash: 098241567b0d263ea500b9c57823af43<br>Method: predict<br>Datetime: 2025-08-26 08:54:10.904857<br>Python version: 3.12.11<br>skforecast version: 0.16.0<br>numpy version: 2.1.3<br>pandas version: 2.3.2<br>sklearn version: 1.6.1<br>lightgbm version: 4.6.0<br>Platform: Linux-6.11.0-1018-azure-x86_64-with-glibc2.39<br>Processor: x86_64<br>CPU count: 4<br>Memory (GB): 16.77<br>Run time avg: 0.005409 s<br>Run time median: 0.005412 s<br>Run time p95: 0.005485 s<br>Run time std: 0.000049 s<br>Nº repeats: 30",
          "Forecaster: ForecasterRecursive<br>Regressor: DummyRegressor<br>Function: ForecasterRecursive_predict<br>Function_hash: 098241567b0d263ea500b9c57823af43<br>Method: predict<br>Datetime: 2025-08-26 09:04:33.283001<br>Python version: 3.12.11<br>skforecast version: 0.16.0<br>numpy version: 2.1.3<br>pandas version: 2.3.2<br>sklearn version: 1.6.1<br>lightgbm version: 4.6.0<br>Platform: Linux-6.11.0-1018-azure-x86_64-with-glibc2.39<br>Processor: x86_64<br>CPU count: 4<br>Memory (GB): 16.77<br>Run time avg: 0.005488 s<br>Run time median: 0.005462 s<br>Run time p95: 0.005632 s<br>Run time std: 0.000071 s<br>Nº repeats: 30"
         ],
         "type": "scatter",
         "visible": false,
         "x": {
          "bdata": "UG3f0DlW7z9KlEkyLMXvP0CteDQB/e4/5gLSHOEz7z8=",
          "dtype": "f8"
         },
         "y": {
          "bdata": "RMS3XOludj8zcxctsUh2P83MxD/+J3Y/zYw53Ll6dj8=",
          "dtype": "f8"
         }
        },
        {
         "error_y": {
          "array": {
           "bdata": "edAsxOF3CT8Lx50/Od0RPzoAEyaFXQs/UypWAxqFEz+xJ8ka5UNIPw==",
           "dtype": "f8"
          },
          "color": "#00CC96",
          "thickness": 1.5,
          "type": "data",
          "visible": true,
          "width": 5
         },
         "hovertemplate": "%{text}<extra></extra>",
         "marker": {
          "color": "#00CC96",
          "line": {
           "color": "white",
           "width": 1
          },
          "opacity": 0.85,
          "size": 10
         },
         "mode": "markers",
         "text": [
          "Forecaster: ForecasterRecursive<br>Regressor: DummyRegressor<br>Function: ForecasterRecursive_predict<br>Function_hash: 098241567b0d263ea500b9c57823af43<br>Method: predict<br>Datetime: 2025-08-26 06:59:07.314197<br>Python version: 3.12.11<br>skforecast version: 0.17.0<br>numpy version: 2.1.3<br>pandas version: 2.3.2<br>sklearn version: 1.6.1<br>lightgbm version: 4.6.0<br>Platform: Linux-6.11.0-1018-azure-x86_64-with-glibc2.39<br>Processor: x86_64<br>CPU count: 4<br>Memory (GB): 16.77<br>Run time avg: 0.005387 s<br>Run time median: 0.005382 s<br>Run time p95: 0.005474 s<br>Run time std: 0.000049 s<br>Nº repeats: 30",
          "Forecaster: ForecasterRecursive<br>Regressor: DummyRegressor<br>Function: ForecasterRecursive_predict<br>Function_hash: 098241567b0d263ea500b9c57823af43<br>Method: predict<br>Datetime: 2025-08-26 07:11:54.874783<br>Python version: 3.12.11<br>skforecast version: 0.17.0<br>numpy version: 2.1.3<br>pandas version: 2.3.2<br>sklearn version: 1.6.1<br>lightgbm version: 4.6.0<br>Platform: Linux-6.11.0-1018-azure-x86_64-with-glibc2.39<br>Processor: x86_64<br>CPU count: 4<br>Memory (GB): 16.77<br>Run time avg: 0.005413 s<br>Run time median: 0.005400 s<br>Run time p95: 0.005527 s<br>Run time std: 0.000068 s<br>Nº repeats: 30",
          "Forecaster: ForecasterRecursive<br>Regressor: DummyRegressor<br>Function: ForecasterRecursive_predict<br>Function_hash: 098241567b0d263ea500b9c57823af43<br>Method: predict<br>Datetime: 2025-08-26 07:30:26.920941<br>Python version: 3.12.11<br>skforecast version: 0.17.0<br>numpy version: 2.1.3<br>pandas version: 2.3.2<br>sklearn version: 1.6.1<br>lightgbm version: 4.6.0<br>Platform: Linux-6.11.0-1018-azure-x86_64-with-glibc2.39<br>Processor: x86_64<br>CPU count: 4<br>Memory (GB): 16.77<br>Run time avg: 0.005439 s<br>Run time median: 0.005433 s<br>Run time p95: 0.005527 s<br>Run time std: 0.000052 s<br>Nº repeats: 30",
          "Forecaster: ForecasterRecursive<br>Regressor: DummyRegressor<br>Function: ForecasterRecursive_predict<br>Function_hash: 098241567b0d263ea500b9c57823af43<br>Method: predict<br>Datetime: 2025-08-26 07:43:05.534660<br>Python version: 3.12.11<br>skforecast version: 0.17.0<br>numpy version: 2.1.3<br>pandas version: 2.3.2<br>sklearn version: 1.6.1<br>lightgbm version: 4.6.0<br>Platform: Linux-6.11.0-1018-azure-x86_64-with-glibc2.39<br>Processor: x86_64<br>CPU count: 4<br>Memory (GB): 16.77<br>Run time avg: 0.005342 s<br>Run time median: 0.005328 s<br>Run time p95: 0.005487 s<br>Run time std: 0.000074 s<br>Nº repeats: 30",
          "Forecaster: ForecasterRecursive<br>Regressor: DummyRegressor<br>Function: ForecasterRecursive_predict<br>Function_hash: 098241567b0d263ea500b9c57823af43<br>Method: predict<br>Datetime: 2025-08-26 08:09:08.622685<br>Python version: 3.12.11<br>skforecast version: 0.17.0<br>numpy version: 2.1.3<br>pandas version: 2.3.2<br>sklearn version: 1.6.1<br>lightgbm version: 4.6.0<br>Platform: Linux-6.11.0-1018-azure-x86_64-with-glibc2.39<br>Processor: x86_64<br>CPU count: 4<br>Memory (GB): 16.77<br>Run time avg: 0.005568 s<br>Run time median: 0.005390 s<br>Run time p95: 0.005873 s<br>Run time std: 0.000741 s<br>Nº repeats: 30"
         ],
         "type": "scatter",
         "visible": false,
         "x": {
          "bdata": "RpYRahdh/z+Wd53DrCEAQNpym8u5AwBAtkGN/o47/z9L+zWtHbf/Pw==",
          "dtype": "f8"
         },
         "y": {
          "bdata": "IiIhVWkQdj+JiIYDDSx2PwCAbvw6R3Y/RIT2y+7hdT/e3W1bB852Pw==",
          "dtype": "f8"
         }
        },
        {
         "error_y": {
          "array": {
           "bdata": "LiXYykyKVT9oDmi2PFcqP7eZxcp81yI/sB5No/dOFj8=",
           "dtype": "f8"
          },
          "color": "#636EFA",
          "thickness": 1.5,
          "type": "data",
          "visible": true,
          "width": 5
         },
         "hovertemplate": "%{text}<extra></extra>",
         "marker": {
          "color": "#636EFA",
          "line": {
           "color": "white",
           "width": 1
          },
          "opacity": 0.85,
          "size": 10
         },
         "mode": "markers",
         "text": [
          "Forecaster: ForecasterRecursive<br>Regressor: DummyRegressor<br>Function: ForecasterRecursive_predict_interval_conformal<br>Function_hash: e5b2b8e22e2931b304a30d8cdc7c802c<br>Method: predict_interval_conformal<br>Datetime: 2025-08-26 09:16:25.064279<br>Python version: 3.12.11<br>skforecast version: 0.15.1<br>numpy version: 2.1.3<br>pandas version: 2.3.2<br>sklearn version: 1.6.1<br>lightgbm version: 4.6.0<br>Platform: Linux-6.11.0-1018-azure-x86_64-with-glibc2.39<br>Processor: x86_64<br>CPU count: 4<br>Memory (GB): 16.77<br>Run time avg: 0.006813 s<br>Run time median: 0.006414 s<br>Run time p95: 0.009615 s<br>Run time std: 0.001315 s<br>Nº repeats: 30",
          "Forecaster: ForecasterRecursive<br>Regressor: DummyRegressor<br>Function: ForecasterRecursive_predict_interval_conformal<br>Function_hash: e5b2b8e22e2931b304a30d8cdc7c802c<br>Method: predict_interval_conformal<br>Datetime: 2025-08-26 09:32:25.333435<br>Python version: 3.12.11<br>skforecast version: 0.15.1<br>numpy version: 2.1.3<br>pandas version: 2.3.2<br>sklearn version: 1.6.1<br>lightgbm version: 4.6.0<br>Platform: Linux-6.11.0-1018-azure-x86_64-with-glibc2.39<br>Processor: x86_64<br>CPU count: 4<br>Memory (GB): 16.77<br>Run time avg: 0.006761 s<br>Run time median: 0.006742 s<br>Run time p95: 0.007174 s<br>Run time std: 0.000201 s<br>Nº repeats: 30",
          "Forecaster: ForecasterRecursive<br>Regressor: DummyRegressor<br>Function: ForecasterRecursive_predict_interval_conformal<br>Function_hash: e5b2b8e22e2931b304a30d8cdc7c802c<br>Method: predict_interval_conformal<br>Datetime: 2025-08-26 09:45:16.672354<br>Python version: 3.12.11<br>skforecast version: 0.15.1<br>numpy version: 2.1.3<br>pandas version: 2.3.2<br>sklearn version: 1.6.1<br>lightgbm version: 4.6.0<br>Platform: Linux-6.11.0-1018-azure-x86_64-with-glibc2.39<br>Processor: x86_64<br>CPU count: 4<br>Memory (GB): 16.77<br>Run time avg: 0.006371 s<br>Run time median: 0.006337 s<br>Run time p95: 0.006488 s<br>Run time std: 0.000144 s<br>Nº repeats: 30",
          "Forecaster: ForecasterRecursive<br>Regressor: DummyRegressor<br>Function: ForecasterRecursive_predict_interval_conformal<br>Function_hash: e5b2b8e22e2931b304a30d8cdc7c802c<br>Method: predict_interval_conformal<br>Datetime: 2025-08-26 10:08:51.843717<br>Python version: 3.12.11<br>skforecast version: 0.15.1<br>numpy version: 2.1.3<br>pandas version: 2.3.2<br>sklearn version: 1.6.1<br>lightgbm version: 4.6.0<br>Platform: Linux-6.11.0-1018-azure-x86_64-with-glibc2.39<br>Processor: x86_64<br>CPU count: 4<br>Memory (GB): 16.77<br>Run time avg: 0.006481 s<br>Run time median: 0.006451 s<br>Run time p95: 0.006679 s<br>Run time std: 0.000085 s<br>Nº repeats: 30"
         ],
         "type": "scatter",
         "visible": false,
         "x": {
          "bdata": "wInW+wGqej9E6SWbduOaP4hPEgHU14q/wJ0P3ZKaf78=",
          "dtype": "f8"
         },
         "y": {
          "bdata": "vDthlFToez+JKAE9rLF7PzNT0wgQGHo/vDtUiLaLej8=",
          "dtype": "f8"
         }
        },
        {
         "error_y": {
          "array": {
           "bdata": "i4dU3YBbDj9IIRpUH1JbPy//kX4DD0U/a1rN08KYFD8=",
           "dtype": "f8"
          },
          "color": "#EF553B",
          "thickness": 1.5,
          "type": "data",
          "visible": true,
          "width": 5
         },
         "hovertemplate": "%{text}<extra></extra>",
         "marker": {
          "color": "#EF553B",
          "line": {
           "color": "white",
           "width": 1
          },
          "opacity": 0.85,
          "size": 10
         },
         "mode": "markers",
         "text": [
          "Forecaster: ForecasterRecursive<br>Regressor: DummyRegressor<br>Function: ForecasterRecursive_predict_interval_conformal<br>Function_hash: e5b2b8e22e2931b304a30d8cdc7c802c<br>Method: predict_interval_conformal<br>Datetime: 2025-08-26 08:30:01.327301<br>Python version: 3.12.11<br>skforecast version: 0.16.0<br>numpy version: 2.1.3<br>pandas version: 2.3.2<br>sklearn version: 1.6.1<br>lightgbm version: 4.6.0<br>Platform: Linux-6.11.0-1018-azure-x86_64-with-glibc2.39<br>Processor: x86_64<br>CPU count: 4<br>Memory (GB): 16.77<br>Run time avg: 0.005984 s<br>Run time median: 0.005973 s<br>Run time p95: 0.006063 s<br>Run time std: 0.000058 s<br>Nº repeats: 30",
          "Forecaster: ForecasterRecursive<br>Regressor: DummyRegressor<br>Function: ForecasterRecursive_predict_interval_conformal<br>Function_hash: e5b2b8e22e2931b304a30d8cdc7c802c<br>Method: predict_interval_conformal<br>Datetime: 2025-08-26 08:39:56.215422<br>Python version: 3.12.11<br>skforecast version: 0.16.0<br>numpy version: 2.1.3<br>pandas version: 2.3.2<br>sklearn version: 1.6.1<br>lightgbm version: 4.6.0<br>Platform: Linux-6.11.0-1018-azure-x86_64-with-glibc2.39<br>Processor: x86_64<br>CPU count: 4<br>Memory (GB): 16.77<br>Run time avg: 0.006531 s<br>Run time median: 0.005946 s<br>Run time p95: 0.011438 s<br>Run time std: 0.001668 s<br>Nº repeats: 30",
          "Forecaster: ForecasterRecursive<br>Regressor: DummyRegressor<br>Function: ForecasterRecursive_predict_interval_conformal<br>Function_hash: e5b2b8e22e2931b304a30d8cdc7c802c<br>Method: predict_interval_conformal<br>Datetime: 2025-08-26 08:54:11.094191<br>Python version: 3.12.11<br>skforecast version: 0.16.0<br>numpy version: 2.1.3<br>pandas version: 2.3.2<br>sklearn version: 1.6.1<br>lightgbm version: 4.6.0<br>Platform: Linux-6.11.0-1018-azure-x86_64-with-glibc2.39<br>Processor: x86_64<br>CPU count: 4<br>Memory (GB): 16.77<br>Run time avg: 0.006152 s<br>Run time median: 0.006005 s<br>Run time p95: 0.006421 s<br>Run time std: 0.000643 s<br>Nº repeats: 30",
          "Forecaster: ForecasterRecursive<br>Regressor: DummyRegressor<br>Function: ForecasterRecursive_predict_interval_conformal<br>Function_hash: e5b2b8e22e2931b304a30d8cdc7c802c<br>Method: predict_interval_conformal<br>Datetime: 2025-08-26 09:04:33.469051<br>Python version: 3.12.11<br>skforecast version: 0.16.0<br>numpy version: 2.1.3<br>pandas version: 2.3.2<br>sklearn version: 1.6.1<br>lightgbm version: 4.6.0<br>Platform: Linux-6.11.0-1018-azure-x86_64-with-glibc2.39<br>Processor: x86_64<br>CPU count: 4<br>Memory (GB): 16.77<br>Run time avg: 0.006036 s<br>Run time median: 0.006028 s<br>Run time p95: 0.006167 s<br>Run time std: 0.000079 s<br>Nº repeats: 30"
         ],
         "type": "scatter",
         "visible": false,
         "x": {
          "bdata": "E+B55EQA8D8G6DixigzvPxfNJDJIoe8/cGp7dOEK8D8=",
          "dtype": "f8"
         },
         "y": {
          "bdata": "d/e2geqCeD9314Mzw8B6P4mIALl0Mnk/vBts+RK5eD8=",
          "dtype": "f8"
         }
        },
        {
         "error_y": {
          "array": {
           "bdata": "mvYEKBbpJT9WIObAybIQPy3lQhiR2yw/kjGlEzk1WT8nZL/GlwMqPw==",
           "dtype": "f8"
          },
          "color": "#00CC96",
          "thickness": 1.5,
          "type": "data",
          "visible": true,
          "width": 5
         },
         "hovertemplate": "%{text}<extra></extra>",
         "marker": {
          "color": "#00CC96",
          "line": {
           "color": "white",
           "width": 1
          },
          "opacity": 0.85,
          "size": 10
         },
         "mode": "markers",
         "text": [
          "Forecaster: ForecasterRecursive<br>Regressor: DummyRegressor<br>Function: ForecasterRecursive_predict_interval_conformal<br>Function_hash: e5b2b8e22e2931b304a30d8cdc7c802c<br>Method: predict_interval_conformal<br>Datetime: 2025-08-26 06:59:07.498213<br>Python version: 3.12.11<br>skforecast version: 0.17.0<br>numpy version: 2.1.3<br>pandas version: 2.3.2<br>sklearn version: 1.6.1<br>lightgbm version: 4.6.0<br>Platform: Linux-6.11.0-1018-azure-x86_64-with-glibc2.39<br>Processor: x86_64<br>CPU count: 4<br>Memory (GB): 16.77<br>Run time avg: 0.006018 s<br>Run time median: 0.005986 s<br>Run time p95: 0.006093 s<br>Run time std: 0.000167 s<br>Nº repeats: 30",
          "Forecaster: ForecasterRecursive<br>Regressor: DummyRegressor<br>Function: ForecasterRecursive_predict_interval_conformal<br>Function_hash: e5b2b8e22e2931b304a30d8cdc7c802c<br>Method: predict_interval_conformal<br>Datetime: 2025-08-26 07:11:55.058225<br>Python version: 3.12.11<br>skforecast version: 0.17.0<br>numpy version: 2.1.3<br>pandas version: 2.3.2<br>sklearn version: 1.6.1<br>lightgbm version: 4.6.0<br>Platform: Linux-6.11.0-1018-azure-x86_64-with-glibc2.39<br>Processor: x86_64<br>CPU count: 4<br>Memory (GB): 16.77<br>Run time avg: 0.005992 s<br>Run time median: 0.005977 s<br>Run time p95: 0.006065 s<br>Run time std: 0.000064 s<br>Nº repeats: 30",
          "Forecaster: ForecasterRecursive<br>Regressor: DummyRegressor<br>Function: ForecasterRecursive_predict_interval_conformal<br>Function_hash: e5b2b8e22e2931b304a30d8cdc7c802c<br>Method: predict_interval_conformal<br>Datetime: 2025-08-26 07:30:27.105081<br>Python version: 3.12.11<br>skforecast version: 0.17.0<br>numpy version: 2.1.3<br>pandas version: 2.3.2<br>sklearn version: 1.6.1<br>lightgbm version: 4.6.0<br>Platform: Linux-6.11.0-1018-azure-x86_64-with-glibc2.39<br>Processor: x86_64<br>CPU count: 4<br>Memory (GB): 16.77<br>Run time avg: 0.006006 s<br>Run time median: 0.005951 s<br>Run time p95: 0.006162 s<br>Run time std: 0.000220 s<br>Nº repeats: 30",
          "Forecaster: ForecasterRecursive<br>Regressor: DummyRegressor<br>Function: ForecasterRecursive_predict_interval_conformal<br>Function_hash: e5b2b8e22e2931b304a30d8cdc7c802c<br>Method: predict_interval_conformal<br>Datetime: 2025-08-26 07:43:05.741855<br>Python version: 3.12.11<br>skforecast version: 0.17.0<br>numpy version: 2.1.3<br>pandas version: 2.3.2<br>sklearn version: 1.6.1<br>lightgbm version: 4.6.0<br>Platform: Linux-6.11.0-1018-azure-x86_64-with-glibc2.39<br>Processor: x86_64<br>CPU count: 4<br>Memory (GB): 16.77<br>Run time avg: 0.006756 s<br>Run time median: 0.005911 s<br>Run time p95: 0.009779 s<br>Run time std: 0.001539 s<br>Nº repeats: 30",
          "Forecaster: ForecasterRecursive<br>Regressor: DummyRegressor<br>Function: ForecasterRecursive_predict_interval_conformal<br>Function_hash: e5b2b8e22e2931b304a30d8cdc7c802c<br>Method: predict_interval_conformal<br>Datetime: 2025-08-26 08:09:08.806605<br>Python version: 3.12.11<br>skforecast version: 0.17.0<br>numpy version: 2.1.3<br>pandas version: 2.3.2<br>sklearn version: 1.6.1<br>lightgbm version: 4.6.0<br>Platform: Linux-6.11.0-1018-azure-x86_64-with-glibc2.39<br>Processor: x86_64<br>CPU count: 4<br>Memory (GB): 16.77<br>Run time avg: 0.005988 s<br>Run time median: 0.005940 s<br>Run time p95: 0.006116 s<br>Run time std: 0.000198 s<br>Nº repeats: 30"
         ],
         "type": "scatter",
         "visible": false,
         "x": {
          "bdata": "NhxfcsBMAECq1M+R4Kv/P/8UppkPCwBA5IT13ZY+/z+mw3QeGe3/Pw==",
          "dtype": "f8"
         },
         "y": {
          "bdata": "AADlH6qmeD+amXs4wIp4P0REmXTkmXg/M/MQRHqsez/v7kAKkoZ4Pw==",
          "dtype": "f8"
         }
        },
        {
         "error_y": {
          "array": {
           "bdata": "r0rOABfyQz/gAmzGT71QP289VmgMEEQ/71o2rRgQOD8=",
           "dtype": "f8"
          },
          "color": "#636EFA",
          "thickness": 1.5,
          "type": "data",
          "visible": true,
          "width": 5
         },
         "hovertemplate": "%{text}<extra></extra>",
         "marker": {
          "color": "#636EFA",
          "line": {
           "color": "white",
           "width": 1
          },
          "opacity": 0.85,
          "size": 10
         },
         "mode": "markers",
         "text": [
          "Forecaster: ForecasterRecursive<br>Regressor: DummyRegressor<br>Function: ForecasterRecursive_backtesting<br>Function_hash: 29be8f5eb310588c56bd21f7250fa3c8<br>Method: backtesting<br>Datetime: 2025-08-26 09:16:25.455327<br>Python version: 3.12.11<br>skforecast version: 0.15.1<br>numpy version: 2.1.3<br>pandas version: 2.3.2<br>sklearn version: 1.6.1<br>lightgbm version: 4.6.0<br>Platform: Linux-6.11.0-1018-azure-x86_64-with-glibc2.39<br>Processor: x86_64<br>CPU count: 4<br>Memory (GB): 16.77<br>Run time avg: 0.077201 s<br>Run time median: 0.076857 s<br>Run time p95: 0.078142 s<br>Run time std: 0.000609 s<br>Nº repeats: 5",
          "Forecaster: ForecasterRecursive<br>Regressor: DummyRegressor<br>Function: ForecasterRecursive_backtesting<br>Function_hash: 29be8f5eb310588c56bd21f7250fa3c8<br>Method: backtesting<br>Datetime: 2025-08-26 09:32:25.739931<br>Python version: 3.12.11<br>skforecast version: 0.15.1<br>numpy version: 2.1.3<br>pandas version: 2.3.2<br>sklearn version: 1.6.1<br>lightgbm version: 4.6.0<br>Platform: Linux-6.11.0-1018-azure-x86_64-with-glibc2.39<br>Processor: x86_64<br>CPU count: 4<br>Memory (GB): 16.77<br>Run time avg: 0.080274 s<br>Run time median: 0.080524 s<br>Run time p95: 0.081468 s<br>Run time std: 0.001022 s<br>Nº repeats: 5",
          "Forecaster: ForecasterRecursive<br>Regressor: DummyRegressor<br>Function: ForecasterRecursive_backtesting<br>Function_hash: 29be8f5eb310588c56bd21f7250fa3c8<br>Method: backtesting<br>Datetime: 2025-08-26 09:45:17.062863<br>Python version: 3.12.11<br>skforecast version: 0.15.1<br>numpy version: 2.1.3<br>pandas version: 2.3.2<br>sklearn version: 1.6.1<br>lightgbm version: 4.6.0<br>Platform: Linux-6.11.0-1018-azure-x86_64-with-glibc2.39<br>Processor: x86_64<br>CPU count: 4<br>Memory (GB): 16.77<br>Run time avg: 0.077072 s<br>Run time median: 0.076808 s<br>Run time p95: 0.078005 s<br>Run time std: 0.000612 s<br>Nº repeats: 5",
          "Forecaster: ForecasterRecursive<br>Regressor: DummyRegressor<br>Function: ForecasterRecursive_backtesting<br>Function_hash: 29be8f5eb310588c56bd21f7250fa3c8<br>Method: backtesting<br>Datetime: 2025-08-26 10:08:52.241610<br>Python version: 3.12.11<br>skforecast version: 0.15.1<br>numpy version: 2.1.3<br>pandas version: 2.3.2<br>sklearn version: 1.6.1<br>lightgbm version: 4.6.0<br>Platform: Linux-6.11.0-1018-azure-x86_64-with-glibc2.39<br>Processor: x86_64<br>CPU count: 4<br>Memory (GB): 16.77<br>Run time avg: 0.078537 s<br>Run time median: 0.078329 s<br>Run time p95: 0.079039 s<br>Run time std: 0.000367 s<br>Nº repeats: 5"
         ],
         "type": "scatter",
         "visible": false,
         "x": {
          "bdata": "4oFQ3UOgpD9wN9wBPSFxvwC9vkBLqXs/OFeu3TpDkj8=",
          "dtype": "f8"
         },
         "y": {
          "bdata": "APAEYm7Dsz+a6aBWz4y0P2aqDmT1urM/AACMJP0atD8=",
          "dtype": "f8"
         }
        },
        {
         "error_y": {
          "array": {
           "bdata": "7+Nbg3AbRj8OION9ccpGP/4bI8BCZ0g/sKzcTMlbRT8=",
           "dtype": "f8"
          },
          "color": "#EF553B",
          "thickness": 1.5,
          "type": "data",
          "visible": true,
          "width": 5
         },
         "hovertemplate": "%{text}<extra></extra>",
         "marker": {
          "color": "#EF553B",
          "line": {
           "color": "white",
           "width": 1
          },
          "opacity": 0.85,
          "size": 10
         },
         "mode": "markers",
         "text": [
          "Forecaster: ForecasterRecursive<br>Regressor: DummyRegressor<br>Function: ForecasterRecursive_backtesting<br>Function_hash: 29be8f5eb310588c56bd21f7250fa3c8<br>Method: backtesting<br>Datetime: 2025-08-26 08:30:01.709309<br>Python version: 3.12.11<br>skforecast version: 0.16.0<br>numpy version: 2.1.3<br>pandas version: 2.3.2<br>sklearn version: 1.6.1<br>lightgbm version: 4.6.0<br>Platform: Linux-6.11.0-1018-azure-x86_64-with-glibc2.39<br>Processor: x86_64<br>CPU count: 4<br>Memory (GB): 16.77<br>Run time avg: 0.075488 s<br>Run time median: 0.075349 s<br>Run time p95: 0.076453 s<br>Run time std: 0.000675 s<br>Nº repeats: 5",
          "Forecaster: ForecasterRecursive<br>Regressor: DummyRegressor<br>Function: ForecasterRecursive_backtesting<br>Function_hash: 29be8f5eb310588c56bd21f7250fa3c8<br>Method: backtesting<br>Datetime: 2025-08-26 08:39:56.581152<br>Python version: 3.12.11<br>skforecast version: 0.16.0<br>numpy version: 2.1.3<br>pandas version: 2.3.2<br>sklearn version: 1.6.1<br>lightgbm version: 4.6.0<br>Platform: Linux-6.11.0-1018-azure-x86_64-with-glibc2.39<br>Processor: x86_64<br>CPU count: 4<br>Memory (GB): 16.77<br>Run time avg: 0.072229 s<br>Run time median: 0.071953 s<br>Run time p95: 0.073288 s<br>Run time std: 0.000696 s<br>Nº repeats: 5",
          "Forecaster: ForecasterRecursive<br>Regressor: DummyRegressor<br>Function: ForecasterRecursive_backtesting<br>Function_hash: 29be8f5eb310588c56bd21f7250fa3c8<br>Method: backtesting<br>Datetime: 2025-08-26 08:54:11.463781<br>Python version: 3.12.11<br>skforecast version: 0.16.0<br>numpy version: 2.1.3<br>pandas version: 2.3.2<br>sklearn version: 1.6.1<br>lightgbm version: 4.6.0<br>Platform: Linux-6.11.0-1018-azure-x86_64-with-glibc2.39<br>Processor: x86_64<br>CPU count: 4<br>Memory (GB): 16.77<br>Run time avg: 0.072944 s<br>Run time median: 0.072547 s<br>Run time p95: 0.074084 s<br>Run time std: 0.000745 s<br>Nº repeats: 5",
          "Forecaster: ForecasterRecursive<br>Regressor: DummyRegressor<br>Function: ForecasterRecursive_backtesting<br>Function_hash: 29be8f5eb310588c56bd21f7250fa3c8<br>Method: backtesting<br>Datetime: 2025-08-26 09:04:33.844242<br>Python version: 3.12.11<br>skforecast version: 0.16.0<br>numpy version: 2.1.3<br>pandas version: 2.3.2<br>sklearn version: 1.6.1<br>lightgbm version: 4.6.0<br>Platform: Linux-6.11.0-1018-azure-x86_64-with-glibc2.39<br>Processor: x86_64<br>CPU count: 4<br>Memory (GB): 16.77<br>Run time avg: 0.074023 s<br>Run time median: 0.073682 s<br>Run time p95: 0.075020 s<br>Run time std: 0.000652 s<br>Nº repeats: 5"
         ],
         "type": "scatter",
         "visible": false,
         "x": {
          "bdata": "sOEHQzmg8D9iQeAAx4PwP2DuRcjhe/A/VWBnOwXJ7j8=",
          "dtype": "f8"
         },
         "y": {
          "bdata": "ZlYtXDVTsz8AUCH6nX2yPzOzhV1trLI/zaCe9yzzsj8=",
          "dtype": "f8"
         }
        },
        {
         "error_y": {
          "array": {
           "bdata": "eErBX2L6Nz97sfoHq+9BPzIAqViefTI/AB6McwDPWz+YS53rQMwnPw==",
           "dtype": "f8"
          },
          "color": "#00CC96",
          "thickness": 1.5,
          "type": "data",
          "visible": true,
          "width": 5
         },
         "hovertemplate": "%{text}<extra></extra>",
         "marker": {
          "color": "#00CC96",
          "line": {
           "color": "white",
           "width": 1
          },
          "opacity": 0.85,
          "size": 10
         },
         "mode": "markers",
         "text": [
          "Forecaster: ForecasterRecursive<br>Regressor: DummyRegressor<br>Function: ForecasterRecursive_backtesting<br>Function_hash: 29be8f5eb310588c56bd21f7250fa3c8<br>Method: backtesting<br>Datetime: 2025-08-26 06:59:07.863046<br>Python version: 3.12.11<br>skforecast version: 0.17.0<br>numpy version: 2.1.3<br>pandas version: 2.3.2<br>sklearn version: 1.6.1<br>lightgbm version: 4.6.0<br>Platform: Linux-6.11.0-1018-azure-x86_64-with-glibc2.39<br>Processor: x86_64<br>CPU count: 4<br>Memory (GB): 16.77<br>Run time avg: 0.072247 s<br>Run time median: 0.072251 s<br>Run time p95: 0.072760 s<br>Run time std: 0.000366 s<br>Nº repeats: 5",
          "Forecaster: ForecasterRecursive<br>Regressor: DummyRegressor<br>Function: ForecasterRecursive_backtesting<br>Function_hash: 29be8f5eb310588c56bd21f7250fa3c8<br>Method: backtesting<br>Datetime: 2025-08-26 07:11:55.426708<br>Python version: 3.12.11<br>skforecast version: 0.17.0<br>numpy version: 2.1.3<br>pandas version: 2.3.2<br>sklearn version: 1.6.1<br>lightgbm version: 4.6.0<br>Platform: Linux-6.11.0-1018-azure-x86_64-with-glibc2.39<br>Processor: x86_64<br>CPU count: 4<br>Memory (GB): 16.77<br>Run time avg: 0.072949 s<br>Run time median: 0.072610 s<br>Run time p95: 0.073665 s<br>Run time std: 0.000547 s<br>Nº repeats: 5",
          "Forecaster: ForecasterRecursive<br>Regressor: DummyRegressor<br>Function: ForecasterRecursive_backtesting<br>Function_hash: 29be8f5eb310588c56bd21f7250fa3c8<br>Method: backtesting<br>Datetime: 2025-08-26 07:30:27.474522<br>Python version: 3.12.11<br>skforecast version: 0.17.0<br>numpy version: 2.1.3<br>pandas version: 2.3.2<br>sklearn version: 1.6.1<br>lightgbm version: 4.6.0<br>Platform: Linux-6.11.0-1018-azure-x86_64-with-glibc2.39<br>Processor: x86_64<br>CPU count: 4<br>Memory (GB): 16.77<br>Run time avg: 0.073063 s<br>Run time median: 0.072983 s<br>Run time p95: 0.073488 s<br>Run time std: 0.000282 s<br>Nº repeats: 5",
          "Forecaster: ForecasterRecursive<br>Regressor: DummyRegressor<br>Function: ForecasterRecursive_backtesting<br>Function_hash: 29be8f5eb310588c56bd21f7250fa3c8<br>Method: backtesting<br>Datetime: 2025-08-26 07:43:06.167071<br>Python version: 3.12.11<br>skforecast version: 0.17.0<br>numpy version: 2.1.3<br>pandas version: 2.3.2<br>sklearn version: 1.6.1<br>lightgbm version: 4.6.0<br>Platform: Linux-6.11.0-1018-azure-x86_64-with-glibc2.39<br>Processor: x86_64<br>CPU count: 4<br>Memory (GB): 16.77<br>Run time avg: 0.078863 s<br>Run time median: 0.078872 s<br>Run time p95: 0.081045 s<br>Run time std: 0.001697 s<br>Nº repeats: 5",
          "Forecaster: ForecasterRecursive<br>Regressor: DummyRegressor<br>Function: ForecasterRecursive_backtesting<br>Function_hash: 29be8f5eb310588c56bd21f7250fa3c8<br>Method: backtesting<br>Datetime: 2025-08-26 08:09:09.172694<br>Python version: 3.12.11<br>skforecast version: 0.17.0<br>numpy version: 2.1.3<br>pandas version: 2.3.2<br>sklearn version: 1.6.1<br>lightgbm version: 4.6.0<br>Platform: Linux-6.11.0-1018-azure-x86_64-with-glibc2.39<br>Processor: x86_64<br>CPU count: 4<br>Memory (GB): 16.77<br>Run time avg: 0.072353 s<br>Run time median: 0.072290 s<br>Run time p95: 0.072599 s<br>Run time std: 0.000182 s<br>Nº repeats: 5"
         ],
         "type": "scatter",
         "visible": false,
         "x": {
          "bdata": "POFDteu9/z+0xaTZOXn/P85AiFr5P/8/ucU2hlzz/z8tnEp+ulIAQA==",
          "dtype": "f8"
         },
         "y": {
          "bdata": "MxM9T8h+sj+aiay8zayyP800U2g8tLI/Zhpqnl8wtD9mxq6GwYWyPw==",
          "dtype": "f8"
         }
        },
        {
         "error_y": {
          "array": {
           "bdata": "HAPXPquJMT+HUkg1YpFhP12WFN0WgSo/baM4EVlBSj8=",
           "dtype": "f8"
          },
          "color": "#636EFA",
          "thickness": 1.5,
          "type": "data",
          "visible": true,
          "width": 5
         },
         "hovertemplate": "%{text}<extra></extra>",
         "marker": {
          "color": "#636EFA",
          "line": {
           "color": "white",
           "width": 1
          },
          "opacity": 0.85,
          "size": 10
         },
         "mode": "markers",
         "text": [
          "Forecaster: ForecasterRecursive<br>Regressor: DummyRegressor<br>Function: ForecasterRecursive_backtesting_conformal<br>Function_hash: ee1a6d6d840e0cef76079fec52dc6388<br>Method: backtesting_conformal<br>Datetime: 2025-08-26 09:16:25.895220<br>Python version: 3.12.11<br>skforecast version: 0.15.1<br>numpy version: 2.1.3<br>pandas version: 2.3.2<br>sklearn version: 1.6.1<br>lightgbm version: 4.6.0<br>Platform: Linux-6.11.0-1018-azure-x86_64-with-glibc2.39<br>Processor: x86_64<br>CPU count: 4<br>Memory (GB): 16.77<br>Run time avg: 0.086956 s<br>Run time median: 0.086970 s<br>Run time p95: 0.087280 s<br>Run time std: 0.000268 s<br>Nº repeats: 5",
          "Forecaster: ForecasterRecursive<br>Regressor: DummyRegressor<br>Function: ForecasterRecursive_backtesting_conformal<br>Function_hash: ee1a6d6d840e0cef76079fec52dc6388<br>Method: backtesting_conformal<br>Datetime: 2025-08-26 09:32:26.208053<br>Python version: 3.12.11<br>skforecast version: 0.15.1<br>numpy version: 2.1.3<br>pandas version: 2.3.2<br>sklearn version: 1.6.1<br>lightgbm version: 4.6.0<br>Platform: Linux-6.11.0-1018-azure-x86_64-with-glibc2.39<br>Processor: x86_64<br>CPU count: 4<br>Memory (GB): 16.77<br>Run time avg: 0.092610 s<br>Run time median: 0.092537 s<br>Run time p95: 0.095632 s<br>Run time std: 0.002145 s<br>Nº repeats: 5",
          "Forecaster: ForecasterRecursive<br>Regressor: DummyRegressor<br>Function: ForecasterRecursive_backtesting_conformal<br>Function_hash: ee1a6d6d840e0cef76079fec52dc6388<br>Method: backtesting_conformal<br>Datetime: 2025-08-26 09:45:17.503021<br>Python version: 3.12.11<br>skforecast version: 0.15.1<br>numpy version: 2.1.3<br>pandas version: 2.3.2<br>sklearn version: 1.6.1<br>lightgbm version: 4.6.0<br>Platform: Linux-6.11.0-1018-azure-x86_64-with-glibc2.39<br>Processor: x86_64<br>CPU count: 4<br>Memory (GB): 16.77<br>Run time avg: 0.087008 s<br>Run time median: 0.087021 s<br>Run time p95: 0.087215 s<br>Run time std: 0.000202 s<br>Nº repeats: 5",
          "Forecaster: ForecasterRecursive<br>Regressor: DummyRegressor<br>Function: ForecasterRecursive_backtesting_conformal<br>Function_hash: ee1a6d6d840e0cef76079fec52dc6388<br>Method: backtesting_conformal<br>Datetime: 2025-08-26 10:08:52.692350<br>Python version: 3.12.11<br>skforecast version: 0.15.1<br>numpy version: 2.1.3<br>pandas version: 2.3.2<br>sklearn version: 1.6.1<br>lightgbm version: 4.6.0<br>Platform: Linux-6.11.0-1018-azure-x86_64-with-glibc2.39<br>Processor: x86_64<br>CPU count: 4<br>Memory (GB): 16.77<br>Run time avg: 0.089099 s<br>Run time median: 0.088776 s<br>Run time p95: 0.090321 s<br>Run time std: 0.000801 s<br>Nº repeats: 5"
         ],
         "type": "scatter",
         "visible": false,
         "x": {
          "bdata": "LDoh/Ireo78AJn4POT+aP6QHHl8ywaM/zY96oPRnqb8=",
          "dtype": "f8"
         },
         "y": {
          "bdata": "mnlC5sRCtj9mplgpTLW3PzNz22IgRrY/AADx+yzPtj8=",
          "dtype": "f8"
         }
        },
        {
         "error_y": {
          "array": {
           "bdata": "sPBpKtdgTj89gC/VKGeCP6qARhSwBzE/L9R2IEQfSz8=",
           "dtype": "f8"
          },
          "color": "#EF553B",
          "thickness": 1.5,
          "type": "data",
          "visible": true,
          "width": 5
         },
         "hovertemplate": "%{text}<extra></extra>",
         "marker": {
          "color": "#EF553B",
          "line": {
           "color": "white",
           "width": 1
          },
          "opacity": 0.85,
          "size": 10
         },
         "mode": "markers",
         "text": [
          "Forecaster: ForecasterRecursive<br>Regressor: DummyRegressor<br>Function: ForecasterRecursive_backtesting_conformal<br>Function_hash: ee1a6d6d840e0cef76079fec52dc6388<br>Method: backtesting_conformal<br>Datetime: 2025-08-26 08:30:02.150922<br>Python version: 3.12.11<br>skforecast version: 0.16.0<br>numpy version: 2.1.3<br>pandas version: 2.3.2<br>sklearn version: 1.6.1<br>lightgbm version: 4.6.0<br>Platform: Linux-6.11.0-1018-azure-x86_64-with-glibc2.39<br>Processor: x86_64<br>CPU count: 4<br>Memory (GB): 16.77<br>Run time avg: 0.087350 s<br>Run time median: 0.087134 s<br>Run time p95: 0.088516 s<br>Run time std: 0.000927 s<br>Nº repeats: 5",
          "Forecaster: ForecasterRecursive<br>Regressor: DummyRegressor<br>Function: ForecasterRecursive_backtesting_conformal<br>Function_hash: ee1a6d6d840e0cef76079fec52dc6388<br>Method: backtesting_conformal<br>Datetime: 2025-08-26 08:39:57.037689<br>Python version: 3.12.11<br>skforecast version: 0.16.0<br>numpy version: 2.1.3<br>pandas version: 2.3.2<br>sklearn version: 1.6.1<br>lightgbm version: 4.6.0<br>Platform: Linux-6.11.0-1018-azure-x86_64-with-glibc2.39<br>Processor: x86_64<br>CPU count: 4<br>Memory (GB): 16.77<br>Run time avg: 0.090394 s<br>Run time median: 0.085924 s<br>Run time p95: 0.104229 s<br>Run time std: 0.008986 s<br>Nº repeats: 5",
          "Forecaster: ForecasterRecursive<br>Regressor: DummyRegressor<br>Function: ForecasterRecursive_backtesting_conformal<br>Function_hash: ee1a6d6d840e0cef76079fec52dc6388<br>Method: backtesting_conformal<br>Datetime: 2025-08-26 08:54:11.883469<br>Python version: 3.12.11<br>skforecast version: 0.16.0<br>numpy version: 2.1.3<br>pandas version: 2.3.2<br>sklearn version: 1.6.1<br>lightgbm version: 4.6.0<br>Platform: Linux-6.11.0-1018-azure-x86_64-with-glibc2.39<br>Processor: x86_64<br>CPU count: 4<br>Memory (GB): 16.77<br>Run time avg: 0.082981 s<br>Run time median: 0.082955 s<br>Run time p95: 0.083316 s<br>Run time std: 0.000260 s<br>Nº repeats: 5",
          "Forecaster: ForecasterRecursive<br>Regressor: DummyRegressor<br>Function: ForecasterRecursive_backtesting_conformal<br>Function_hash: ee1a6d6d840e0cef76079fec52dc6388<br>Method: backtesting_conformal<br>Datetime: 2025-08-26 09:04:34.271858<br>Python version: 3.12.11<br>skforecast version: 0.16.0<br>numpy version: 2.1.3<br>pandas version: 2.3.2<br>sklearn version: 1.6.1<br>lightgbm version: 4.6.0<br>Platform: Linux-6.11.0-1018-azure-x86_64-with-glibc2.39<br>Processor: x86_64<br>CPU count: 4<br>Memory (GB): 16.77<br>Run time avg: 0.084496 s<br>Run time median: 0.084272 s<br>Run time p95: 0.085720 s<br>Run time std: 0.000828 s<br>Nº repeats: 5"
         ],
         "type": "scatter",
         "visible": false,
         "x": {
          "bdata": "DR06Cd4N7z8MBMx9/A3wPy+5nQrGAvA/JhyXn5YH8D8=",
          "dtype": "f8"
         },
         "y": {
          "bdata": "mgmB44lctj9mxv+UFiS3P2ZmjLJCPrU/M/PXX4uhtT8=",
          "dtype": "f8"
         }
        },
        {
         "error_y": {
          "array": {
           "bdata": "fWn8NbJtKz8H52kWnF4mP9soW0WThTE/89ML59eXVT8wosGVW7tJPw==",
           "dtype": "f8"
          },
          "color": "#00CC96",
          "thickness": 1.5,
          "type": "data",
          "visible": true,
          "width": 5
         },
         "hovertemplate": "%{text}<extra></extra>",
         "marker": {
          "color": "#00CC96",
          "line": {
           "color": "white",
           "width": 1
          },
          "opacity": 0.85,
          "size": 10
         },
         "mode": "markers",
         "text": [
          "Forecaster: ForecasterRecursive<br>Regressor: DummyRegressor<br>Function: ForecasterRecursive_backtesting_conformal<br>Function_hash: ee1a6d6d840e0cef76079fec52dc6388<br>Method: backtesting_conformal<br>Datetime: 2025-08-26 06:59:08.276857<br>Python version: 3.12.11<br>skforecast version: 0.17.0<br>numpy version: 2.1.3<br>pandas version: 2.3.2<br>sklearn version: 1.6.1<br>lightgbm version: 4.6.0<br>Platform: Linux-6.11.0-1018-azure-x86_64-with-glibc2.39<br>Processor: x86_64<br>CPU count: 4<br>Memory (GB): 16.77<br>Run time avg: 0.082023 s<br>Run time median: 0.082049 s<br>Run time p95: 0.082259 s<br>Run time std: 0.000209 s<br>Nº repeats: 5",
          "Forecaster: ForecasterRecursive<br>Regressor: DummyRegressor<br>Function: ForecasterRecursive_backtesting_conformal<br>Function_hash: ee1a6d6d840e0cef76079fec52dc6388<br>Method: backtesting_conformal<br>Datetime: 2025-08-26 07:11:55.844133<br>Python version: 3.12.11<br>skforecast version: 0.17.0<br>numpy version: 2.1.3<br>pandas version: 2.3.2<br>sklearn version: 1.6.1<br>lightgbm version: 4.6.0<br>Platform: Linux-6.11.0-1018-azure-x86_64-with-glibc2.39<br>Processor: x86_64<br>CPU count: 4<br>Memory (GB): 16.77<br>Run time avg: 0.082683 s<br>Run time median: 0.082644 s<br>Run time p95: 0.082884 s<br>Run time std: 0.000171 s<br>Nº repeats: 5",
          "Forecaster: ForecasterRecursive<br>Regressor: DummyRegressor<br>Function: ForecasterRecursive_backtesting_conformal<br>Function_hash: ee1a6d6d840e0cef76079fec52dc6388<br>Method: backtesting_conformal<br>Datetime: 2025-08-26 07:30:27.892939<br>Python version: 3.12.11<br>skforecast version: 0.17.0<br>numpy version: 2.1.3<br>pandas version: 2.3.2<br>sklearn version: 1.6.1<br>lightgbm version: 4.6.0<br>Platform: Linux-6.11.0-1018-azure-x86_64-with-glibc2.39<br>Processor: x86_64<br>CPU count: 4<br>Memory (GB): 16.77<br>Run time avg: 0.082885 s<br>Run time median: 0.082775 s<br>Run time p95: 0.083295 s<br>Run time std: 0.000267 s<br>Nº repeats: 5",
          "Forecaster: ForecasterRecursive<br>Regressor: DummyRegressor<br>Function: ForecasterRecursive_backtesting_conformal<br>Function_hash: ee1a6d6d840e0cef76079fec52dc6388<br>Method: backtesting_conformal<br>Datetime: 2025-08-26 07:43:06.591296<br>Python version: 3.12.11<br>skforecast version: 0.17.0<br>numpy version: 2.1.3<br>pandas version: 2.3.2<br>sklearn version: 1.6.1<br>lightgbm version: 4.6.0<br>Platform: Linux-6.11.0-1018-azure-x86_64-with-glibc2.39<br>Processor: x86_64<br>CPU count: 4<br>Memory (GB): 16.77<br>Run time avg: 0.083846 s<br>Run time median: 0.083310 s<br>Run time p95: 0.085851 s<br>Run time std: 0.001318 s<br>Nº repeats: 5",
          "Forecaster: ForecasterRecursive<br>Regressor: DummyRegressor<br>Function: ForecasterRecursive_backtesting_conformal<br>Function_hash: ee1a6d6d840e0cef76079fec52dc6388<br>Method: backtesting_conformal<br>Datetime: 2025-08-26 08:09:09.588834<br>Python version: 3.12.11<br>skforecast version: 0.17.0<br>numpy version: 2.1.3<br>pandas version: 2.3.2<br>sklearn version: 1.6.1<br>lightgbm version: 4.6.0<br>Platform: Linux-6.11.0-1018-azure-x86_64-with-glibc2.39<br>Processor: x86_64<br>CPU count: 4<br>Memory (GB): 16.77<br>Run time avg: 0.082363 s<br>Run time median: 0.081942 s<br>Run time p95: 0.083575 s<br>Run time std: 0.000785 s<br>Nº repeats: 5"
         ],
         "type": "scatter",
         "visible": false,
         "x": {
          "bdata": "t3lNhazz/z8IbOmOrpD/Pyedel94EABAz58En8Cy/z8gkOESeVT/Pw==",
          "dtype": "f8"
         },
         "y": {
          "bdata": "mrmkCm7/tD8AiJ1qtCq1P2ZeC131N7U/mrnSpPB2tT8AgLDPvBW1Pw==",
          "dtype": "f8"
         }
        },
        {
         "line": {
          "color": "#374151",
          "width": 2
         },
         "marker": {
          "color": "#374151",
          "size": 8
         },
         "mode": "lines+markers",
         "name": "Median (per version)",
         "type": "scatter",
         "visible": true,
         "x": {
          "bdata": "AAEC",
          "dtype": "i1"
         },
         "y": {
          "bdata": "IhJ7bPu5cT9mVpBC+m1xP959Cu2ZunE/",
          "dtype": "f8"
         }
        },
        {
         "line": {
          "color": "#374151",
          "width": 2
         },
         "marker": {
          "color": "#374151",
          "size": 8
         },
         "mode": "lines+markers",
         "name": "Median (per version)",
         "type": "scatter",
         "visible": false,
         "x": {
          "bdata": "AAEC",
          "dtype": "i1"
         },
         "y": {
          "bdata": "Zob3obVXdj+aGZ299Cx2P5oZ5uEVZHY/",
          "dtype": "f8"
         }
        },
        {
         "line": {
          "color": "#374151",
          "width": 2
         },
         "marker": {
          "color": "#374151",
          "size": 8
         },
         "mode": "lines+markers",
         "name": "Median (per version)",
         "type": "scatter",
         "visible": false,
         "x": {
          "bdata": "AAEC",
          "dtype": "i1"
         },
         "y": {
          "bdata": "EhFtTLowRj+IiM5jbwEsP5qZ8SHm3yo/",
          "dtype": "f8"
         }
        },
        {
         "line": {
          "color": "#374151",
          "width": 2
         },
         "marker": {
          "color": "#374151",
          "size": 8
         },
         "mode": "lines+markers",
         "name": "Median (per version)",
         "type": "scatter",
         "visible": false,
         "x": {
          "bdata": "AAEC",
          "dtype": "i1"
         },
         "y": {
          "bdata": "iKhHoyGuZT9VdfP71ZdhPzMz6eGID2E/",
          "dtype": "f8"
         }
        },
        {
         "line": {
          "color": "#374151",
          "width": 2
         },
         "marker": {
          "color": "#374151",
          "size": 8
         },
         "mode": "lines+markers",
         "name": "Median (per version)",
         "type": "scatter",
         "visible": false,
         "x": {
          "bdata": "AAEC",
          "dtype": "i1"
         },
         "y": {
          "bdata": "vLv5KIw2eD+8m+dEzVt2P4mIhgMNLHY/",
          "dtype": "f8"
         }
        },
        {
         "line": {
          "color": "#374151",
          "width": 2
         },
         "marker": {
          "color": "#374151",
          "size": 8
         },
         "mode": "lines+markers",
         "name": "Median (per version)",
         "type": "scatter",
         "visible": false,
         "x": {
          "bdata": "AAEC",
          "dtype": "i1"
         },
         "y": {
          "bdata": "IrKqYrEeez8iUjbZw/V4P0REmXTkmXg/",
          "dtype": "f8"
         }
        },
        {
         "line": {
          "color": "#374151",
          "width": 2
         },
         "marker": {
          "color": "#374151",
          "size": 8
         },
         "mode": "lines+markers",
         "name": "Median (per version)",
         "type": "scatter",
         "visible": false,
         "x": {
          "bdata": "AAEC",
          "dtype": "i1"
         },
         "y": {
          "bdata": "AHhIwzXvsz8AKpIqzc+yP5qJrLzNrLI/",
          "dtype": "f8"
         }
        },
        {
         "line": {
          "color": "#374151",
          "width": 2
         },
         "marker": {
          "color": "#374151",
          "size": 8
         },
         "mode": "lines+markers",
         "name": "Median (per version)",
         "type": "scatter",
         "visible": false,
         "x": {
          "bdata": "AAEC",
          "dtype": "i1"
         },
         "y": {
          "bdata": "mjlmr6aKtj9mfqyhCv+1PwCInWq0KrU/",
          "dtype": "f8"
         }
        },
        {
         "line": {
          "color": "#9CA3AF",
          "dash": "dash",
          "width": 2
         },
         "marker": {
          "color": "#9CA3AF",
          "size": 8
         },
         "mode": "lines+markers",
         "name": "Mean (per version)",
         "type": "scatter",
         "visible": true,
         "x": {
          "bdata": "AAEC",
          "dtype": "i1"
         },
         "y": {
          "bdata": "3iXg8QmzcT+rSnpLRolxP/1CUWXiw3E/",
          "dtype": "f8"
         }
        },
        {
         "line": {
          "color": "#9CA3AF",
          "dash": "dash",
          "width": 2
         },
         "marker": {
          "color": "#9CA3AF",
          "size": 8
         },
         "mode": "lines+markers",
         "name": "Mean (per version)",
         "type": "scatter",
         "visible": false,
         "x": {
          "bdata": "AAEC",
          "dtype": "i1"
         },
         "y": {
          "bdata": "mnm6nsQ9dj+auWdTVhR2PwoXxNcevHY/",
          "dtype": "f8"
         }
        },
        {
         "line": {
          "color": "#9CA3AF",
          "dash": "dash",
          "width": 2
         },
         "marker": {
          "color": "#9CA3AF",
          "size": 8
         },
         "mode": "lines+markers",
         "name": "Mean (per version)",
         "type": "scatter",
         "visible": false,
         "x": {
          "bdata": "AAEC",
          "dtype": "i1"
         },
         "y": {
          "bdata": "7+7uVPgkRj+qqst/0rAuPxvo7F+73io/",
          "dtype": "f8"
         }
        },
        {
         "line": {
          "color": "#9CA3AF",
          "dash": "dash",
          "width": 2
         },
         "marker": {
          "color": "#9CA3AF",
          "size": 8
         },
         "mode": "lines+markers",
         "name": "Mean (per version)",
         "type": "scatter",
         "visible": false,
         "x": {
          "bdata": "AAEC",
          "dtype": "i1"
         },
         "y": {
          "bdata": "qzo6UxKeZT/NTGFMnJBhP6BT8ysmI2E/",
          "dtype": "f8"
         }
        },
        {
         "line": {
          "color": "#9CA3AF",
          "dash": "dash",
          "width": 2
         },
         "marker": {
          "color": "#9CA3AF",
          "size": 8
         },
         "mode": "lines+markers",
         "name": "Mean (per version)",
         "type": "scatter",
         "visible": false,
         "x": {
          "bdata": "AAEC",
          "dtype": "i1"
         },
         "y": {
          "bdata": "zXyC8Bt5eD9EZHOplFZ2PykcsuWHPXY/",
          "dtype": "f8"
         }
        },
        {
         "line": {
          "color": "#9CA3AF",
          "dash": "dash",
          "width": 2
         },
         "marker": {
          "color": "#9CA3AF",
          "size": 8
         },
         "mode": "lines+markers",
         "name": "Mean (per version)",
         "type": "scatter",
         "visible": false,
         "x": {
          "bdata": "AAEC",
          "dtype": "i1"
         },
         "y": {
          "bdata": "zXyi2HEPez/N3OlZzUt5P82MdQXfMnk/",
          "dtype": "f8"
         }
        },
        {
         "line": {
          "color": "#9CA3AF",
          "dash": "dash",
          "width": 2
         },
         "marker": {
          "color": "#9CA3AF",
          "size": 8
         },
         "mode": "lines+markers",
         "name": "Mean (per version)",
         "type": "scatter",
         "visible": false,
         "x": {
          "bdata": "AAEC",
          "dtype": "i1"
         },
         "y": {
          "bdata": "ACFQEIwJtD+avtxqG9yyP3vw3VHK6rI/",
          "dtype": "f8"
         }
        },
        {
         "line": {
          "color": "#9CA3AF",
          "dash": "dash",
          "width": 2
         },
         "marker": {
          "color": "#9CA3AF",
          "size": 8
         },
         "mode": "lines+markers",
         "name": "Mean (per version)",
         "type": "scatter",
         "visible": false,
         "x": {
          "bdata": "AAEC",
          "dtype": "i1"
         },
         "y": {
          "bdata": "zeSZm1fDtj9mSrmiGxi2Px7FKQ7BL7U/",
          "dtype": "f8"
         }
        }
       ],
       "layout": {
        "legend": {
         "title": {
          "text": ""
         }
        },
        "margin": {
         "b": 60,
         "l": 70,
         "r": 20,
         "t": 100
        },
        "showlegend": false,
        "template": {
         "data": {
          "bar": [
           {
            "error_x": {
             "color": "#2a3f5f"
            },
            "error_y": {
             "color": "#2a3f5f"
            },
            "marker": {
             "line": {
              "color": "#E5ECF6",
              "width": 0.5
             },
             "pattern": {
              "fillmode": "overlay",
              "size": 10,
              "solidity": 0.2
             }
            },
            "type": "bar"
           }
          ],
          "barpolar": [
           {
            "marker": {
             "line": {
              "color": "#E5ECF6",
              "width": 0.5
             },
             "pattern": {
              "fillmode": "overlay",
              "size": 10,
              "solidity": 0.2
             }
            },
            "type": "barpolar"
           }
          ],
          "carpet": [
           {
            "aaxis": {
             "endlinecolor": "#2a3f5f",
             "gridcolor": "white",
             "linecolor": "white",
             "minorgridcolor": "white",
             "startlinecolor": "#2a3f5f"
            },
            "baxis": {
             "endlinecolor": "#2a3f5f",
             "gridcolor": "white",
             "linecolor": "white",
             "minorgridcolor": "white",
             "startlinecolor": "#2a3f5f"
            },
            "type": "carpet"
           }
          ],
          "choropleth": [
           {
            "colorbar": {
             "outlinewidth": 0,
             "ticks": ""
            },
            "type": "choropleth"
           }
          ],
          "contour": [
           {
            "colorbar": {
             "outlinewidth": 0,
             "ticks": ""
            },
            "colorscale": [
             [
              0,
              "#0d0887"
             ],
             [
              0.1111111111111111,
              "#46039f"
             ],
             [
              0.2222222222222222,
              "#7201a8"
             ],
             [
              0.3333333333333333,
              "#9c179e"
             ],
             [
              0.4444444444444444,
              "#bd3786"
             ],
             [
              0.5555555555555556,
              "#d8576b"
             ],
             [
              0.6666666666666666,
              "#ed7953"
             ],
             [
              0.7777777777777778,
              "#fb9f3a"
             ],
             [
              0.8888888888888888,
              "#fdca26"
             ],
             [
              1,
              "#f0f921"
             ]
            ],
            "type": "contour"
           }
          ],
          "contourcarpet": [
           {
            "colorbar": {
             "outlinewidth": 0,
             "ticks": ""
            },
            "type": "contourcarpet"
           }
          ],
          "heatmap": [
           {
            "colorbar": {
             "outlinewidth": 0,
             "ticks": ""
            },
            "colorscale": [
             [
              0,
              "#0d0887"
             ],
             [
              0.1111111111111111,
              "#46039f"
             ],
             [
              0.2222222222222222,
              "#7201a8"
             ],
             [
              0.3333333333333333,
              "#9c179e"
             ],
             [
              0.4444444444444444,
              "#bd3786"
             ],
             [
              0.5555555555555556,
              "#d8576b"
             ],
             [
              0.6666666666666666,
              "#ed7953"
             ],
             [
              0.7777777777777778,
              "#fb9f3a"
             ],
             [
              0.8888888888888888,
              "#fdca26"
             ],
             [
              1,
              "#f0f921"
             ]
            ],
            "type": "heatmap"
           }
          ],
          "histogram": [
           {
            "marker": {
             "pattern": {
              "fillmode": "overlay",
              "size": 10,
              "solidity": 0.2
             }
            },
            "type": "histogram"
           }
          ],
          "histogram2d": [
           {
            "colorbar": {
             "outlinewidth": 0,
             "ticks": ""
            },
            "colorscale": [
             [
              0,
              "#0d0887"
             ],
             [
              0.1111111111111111,
              "#46039f"
             ],
             [
              0.2222222222222222,
              "#7201a8"
             ],
             [
              0.3333333333333333,
              "#9c179e"
             ],
             [
              0.4444444444444444,
              "#bd3786"
             ],
             [
              0.5555555555555556,
              "#d8576b"
             ],
             [
              0.6666666666666666,
              "#ed7953"
             ],
             [
              0.7777777777777778,
              "#fb9f3a"
             ],
             [
              0.8888888888888888,
              "#fdca26"
             ],
             [
              1,
              "#f0f921"
             ]
            ],
            "type": "histogram2d"
           }
          ],
          "histogram2dcontour": [
           {
            "colorbar": {
             "outlinewidth": 0,
             "ticks": ""
            },
            "colorscale": [
             [
              0,
              "#0d0887"
             ],
             [
              0.1111111111111111,
              "#46039f"
             ],
             [
              0.2222222222222222,
              "#7201a8"
             ],
             [
              0.3333333333333333,
              "#9c179e"
             ],
             [
              0.4444444444444444,
              "#bd3786"
             ],
             [
              0.5555555555555556,
              "#d8576b"
             ],
             [
              0.6666666666666666,
              "#ed7953"
             ],
             [
              0.7777777777777778,
              "#fb9f3a"
             ],
             [
              0.8888888888888888,
              "#fdca26"
             ],
             [
              1,
              "#f0f921"
             ]
            ],
            "type": "histogram2dcontour"
           }
          ],
          "mesh3d": [
           {
            "colorbar": {
             "outlinewidth": 0,
             "ticks": ""
            },
            "type": "mesh3d"
           }
          ],
          "parcoords": [
           {
            "line": {
             "colorbar": {
              "outlinewidth": 0,
              "ticks": ""
             }
            },
            "type": "parcoords"
           }
          ],
          "pie": [
           {
            "automargin": true,
            "type": "pie"
           }
          ],
          "scatter": [
           {
            "fillpattern": {
             "fillmode": "overlay",
             "size": 10,
             "solidity": 0.2
            },
            "type": "scatter"
           }
          ],
          "scatter3d": [
           {
            "line": {
             "colorbar": {
              "outlinewidth": 0,
              "ticks": ""
             }
            },
            "marker": {
             "colorbar": {
              "outlinewidth": 0,
              "ticks": ""
             }
            },
            "type": "scatter3d"
           }
          ],
          "scattercarpet": [
           {
            "marker": {
             "colorbar": {
              "outlinewidth": 0,
              "ticks": ""
             }
            },
            "type": "scattercarpet"
           }
          ],
          "scattergeo": [
           {
            "marker": {
             "colorbar": {
              "outlinewidth": 0,
              "ticks": ""
             }
            },
            "type": "scattergeo"
           }
          ],
          "scattergl": [
           {
            "marker": {
             "colorbar": {
              "outlinewidth": 0,
              "ticks": ""
             }
            },
            "type": "scattergl"
           }
          ],
          "scattermap": [
           {
            "marker": {
             "colorbar": {
              "outlinewidth": 0,
              "ticks": ""
             }
            },
            "type": "scattermap"
           }
          ],
          "scattermapbox": [
           {
            "marker": {
             "colorbar": {
              "outlinewidth": 0,
              "ticks": ""
             }
            },
            "type": "scattermapbox"
           }
          ],
          "scatterpolar": [
           {
            "marker": {
             "colorbar": {
              "outlinewidth": 0,
              "ticks": ""
             }
            },
            "type": "scatterpolar"
           }
          ],
          "scatterpolargl": [
           {
            "marker": {
             "colorbar": {
              "outlinewidth": 0,
              "ticks": ""
             }
            },
            "type": "scatterpolargl"
           }
          ],
          "scatterternary": [
           {
            "marker": {
             "colorbar": {
              "outlinewidth": 0,
              "ticks": ""
             }
            },
            "type": "scatterternary"
           }
          ],
          "surface": [
           {
            "colorbar": {
             "outlinewidth": 0,
             "ticks": ""
            },
            "colorscale": [
             [
              0,
              "#0d0887"
             ],
             [
              0.1111111111111111,
              "#46039f"
             ],
             [
              0.2222222222222222,
              "#7201a8"
             ],
             [
              0.3333333333333333,
              "#9c179e"
             ],
             [
              0.4444444444444444,
              "#bd3786"
             ],
             [
              0.5555555555555556,
              "#d8576b"
             ],
             [
              0.6666666666666666,
              "#ed7953"
             ],
             [
              0.7777777777777778,
              "#fb9f3a"
             ],
             [
              0.8888888888888888,
              "#fdca26"
             ],
             [
              1,
              "#f0f921"
             ]
            ],
            "type": "surface"
           }
          ],
          "table": [
           {
            "cells": {
             "fill": {
              "color": "#EBF0F8"
             },
             "line": {
              "color": "white"
             }
            },
            "header": {
             "fill": {
              "color": "#C8D4E3"
             },
             "line": {
              "color": "white"
             }
            },
            "type": "table"
           }
          ]
         },
         "layout": {
          "annotationdefaults": {
           "arrowcolor": "#2a3f5f",
           "arrowhead": 0,
           "arrowwidth": 1
          },
          "autotypenumbers": "strict",
          "coloraxis": {
           "colorbar": {
            "outlinewidth": 0,
            "ticks": ""
           }
          },
          "colorscale": {
           "diverging": [
            [
             0,
             "#8e0152"
            ],
            [
             0.1,
             "#c51b7d"
            ],
            [
             0.2,
             "#de77ae"
            ],
            [
             0.3,
             "#f1b6da"
            ],
            [
             0.4,
             "#fde0ef"
            ],
            [
             0.5,
             "#f7f7f7"
            ],
            [
             0.6,
             "#e6f5d0"
            ],
            [
             0.7,
             "#b8e186"
            ],
            [
             0.8,
             "#7fbc41"
            ],
            [
             0.9,
             "#4d9221"
            ],
            [
             1,
             "#276419"
            ]
           ],
           "sequential": [
            [
             0,
             "#0d0887"
            ],
            [
             0.1111111111111111,
             "#46039f"
            ],
            [
             0.2222222222222222,
             "#7201a8"
            ],
            [
             0.3333333333333333,
             "#9c179e"
            ],
            [
             0.4444444444444444,
             "#bd3786"
            ],
            [
             0.5555555555555556,
             "#d8576b"
            ],
            [
             0.6666666666666666,
             "#ed7953"
            ],
            [
             0.7777777777777778,
             "#fb9f3a"
            ],
            [
             0.8888888888888888,
             "#fdca26"
            ],
            [
             1,
             "#f0f921"
            ]
           ],
           "sequentialminus": [
            [
             0,
             "#0d0887"
            ],
            [
             0.1111111111111111,
             "#46039f"
            ],
            [
             0.2222222222222222,
             "#7201a8"
            ],
            [
             0.3333333333333333,
             "#9c179e"
            ],
            [
             0.4444444444444444,
             "#bd3786"
            ],
            [
             0.5555555555555556,
             "#d8576b"
            ],
            [
             0.6666666666666666,
             "#ed7953"
            ],
            [
             0.7777777777777778,
             "#fb9f3a"
            ],
            [
             0.8888888888888888,
             "#fdca26"
            ],
            [
             1,
             "#f0f921"
            ]
           ]
          },
          "colorway": [
           "#636efa",
           "#EF553B",
           "#00cc96",
           "#ab63fa",
           "#FFA15A",
           "#19d3f3",
           "#FF6692",
           "#B6E880",
           "#FF97FF",
           "#FECB52"
          ],
          "font": {
           "color": "#2a3f5f"
          },
          "geo": {
           "bgcolor": "white",
           "lakecolor": "white",
           "landcolor": "#E5ECF6",
           "showlakes": true,
           "showland": true,
           "subunitcolor": "white"
          },
          "hoverlabel": {
           "align": "left"
          },
          "hovermode": "closest",
          "mapbox": {
           "style": "light"
          },
          "paper_bgcolor": "white",
          "plot_bgcolor": "#E5ECF6",
          "polar": {
           "angularaxis": {
            "gridcolor": "white",
            "linecolor": "white",
            "ticks": ""
           },
           "bgcolor": "#E5ECF6",
           "radialaxis": {
            "gridcolor": "white",
            "linecolor": "white",
            "ticks": ""
           }
          },
          "scene": {
           "xaxis": {
            "backgroundcolor": "#E5ECF6",
            "gridcolor": "white",
            "gridwidth": 2,
            "linecolor": "white",
            "showbackground": true,
            "ticks": "",
            "zerolinecolor": "white"
           },
           "yaxis": {
            "backgroundcolor": "#E5ECF6",
            "gridcolor": "white",
            "gridwidth": 2,
            "linecolor": "white",
            "showbackground": true,
            "ticks": "",
            "zerolinecolor": "white"
           },
           "zaxis": {
            "backgroundcolor": "#E5ECF6",
            "gridcolor": "white",
            "gridwidth": 2,
            "linecolor": "white",
            "showbackground": true,
            "ticks": "",
            "zerolinecolor": "white"
           }
          },
          "shapedefaults": {
           "line": {
            "color": "#2a3f5f"
           }
          },
          "ternary": {
           "aaxis": {
            "gridcolor": "white",
            "linecolor": "white",
            "ticks": ""
           },
           "baxis": {
            "gridcolor": "white",
            "linecolor": "white",
            "ticks": ""
           },
           "bgcolor": "#E5ECF6",
           "caxis": {
            "gridcolor": "white",
            "linecolor": "white",
            "ticks": ""
           }
          },
          "title": {
           "x": 0.05
          },
          "xaxis": {
           "automargin": true,
           "gridcolor": "white",
           "linecolor": "white",
           "ticks": "",
           "title": {
            "standoff": 15
           },
           "zerolinecolor": "white",
           "zerolinewidth": 2
          },
          "yaxis": {
           "automargin": true,
           "gridcolor": "white",
           "linecolor": "white",
           "ticks": "",
           "title": {
            "standoff": 15
           },
           "zerolinecolor": "white",
           "zerolinewidth": 2
          }
         }
        },
        "title": {
         "text": "ForecasterRecursive — Execution time `_create_train_X_y`"
        },
        "updatemenus": [
         {
          "buttons": [
           {
            "args": [
             {
              "visible": [
               true,
               true,
               true,
               false,
               false,
               false,
               false,
               false,
               false,
               false,
               false,
               false,
               false,
               false,
               false,
               false,
               false,
               false,
               false,
               false,
               false,
               false,
               false,
               false,
               true,
               false,
               false,
               false,
               false,
               false,
               false,
               false,
               true,
               false,
               false,
               false,
               false,
               false,
               false,
               false
              ]
             },
             {
              "title": "Execution time — method: _create_train_X_y"
             }
            ],
            "label": "_create_train_X_y",
            "method": "update"
           },
           {
            "args": [
             {
              "visible": [
               false,
               false,
               false,
               true,
               true,
               true,
               false,
               false,
               false,
               false,
               false,
               false,
               false,
               false,
               false,
               false,
               false,
               false,
               false,
               false,
               false,
               false,
               false,
               false,
               false,
               true,
               false,
               false,
               false,
               false,
               false,
               false,
               false,
               true,
               false,
               false,
               false,
               false,
               false,
               false
              ]
             },
             {
              "title": "Execution time — method: fit"
             }
            ],
            "label": "fit",
            "method": "update"
           },
           {
            "args": [
             {
              "visible": [
               false,
               false,
               false,
               false,
               false,
               false,
               true,
               true,
               true,
               false,
               false,
               false,
               false,
               false,
               false,
               false,
               false,
               false,
               false,
               false,
               false,
               false,
               false,
               false,
               false,
               false,
               true,
               false,
               false,
               false,
               false,
               false,
               false,
               false,
               true,
               false,
               false,
               false,
               false,
               false
              ]
             },
             {
              "title": "Execution time — method: check_predict_inputs"
             }
            ],
            "label": "check_predict_inputs",
            "method": "update"
           },
           {
            "args": [
             {
              "visible": [
               false,
               false,
               false,
               false,
               false,
               false,
               false,
               false,
               false,
               true,
               true,
               true,
               false,
               false,
               false,
               false,
               false,
               false,
               false,
               false,
               false,
               false,
               false,
               false,
               false,
               false,
               false,
               true,
               false,
               false,
               false,
               false,
               false,
               false,
               false,
               true,
               false,
               false,
               false,
               false
              ]
             },
             {
              "title": "Execution time — method: _create_predict_inputs"
             }
            ],
            "label": "_create_predict_inputs",
            "method": "update"
           },
           {
            "args": [
             {
              "visible": [
               false,
               false,
               false,
               false,
               false,
               false,
               false,
               false,
               false,
               false,
               false,
               false,
               true,
               true,
               true,
               false,
               false,
               false,
               false,
               false,
               false,
               false,
               false,
               false,
               false,
               false,
               false,
               false,
               true,
               false,
               false,
               false,
               false,
               false,
               false,
               false,
               true,
               false,
               false,
               false
              ]
             },
             {
              "title": "Execution time — method: predict"
             }
            ],
            "label": "predict",
            "method": "update"
           },
           {
            "args": [
             {
              "visible": [
               false,
               false,
               false,
               false,
               false,
               false,
               false,
               false,
               false,
               false,
               false,
               false,
               false,
               false,
               false,
               true,
               true,
               true,
               false,
               false,
               false,
               false,
               false,
               false,
               false,
               false,
               false,
               false,
               false,
               true,
               false,
               false,
               false,
               false,
               false,
               false,
               false,
               true,
               false,
               false
              ]
             },
             {
              "title": "Execution time — method: predict_interval_conformal"
             }
            ],
            "label": "predict_interval_conformal",
            "method": "update"
           },
           {
            "args": [
             {
              "visible": [
               false,
               false,
               false,
               false,
               false,
               false,
               false,
               false,
               false,
               false,
               false,
               false,
               false,
               false,
               false,
               false,
               false,
               false,
               true,
               true,
               true,
               false,
               false,
               false,
               false,
               false,
               false,
               false,
               false,
               false,
               true,
               false,
               false,
               false,
               false,
               false,
               false,
               false,
               true,
               false
              ]
             },
             {
              "title": "Execution time — method: backtesting"
             }
            ],
            "label": "backtesting",
            "method": "update"
           },
           {
            "args": [
             {
              "visible": [
               false,
               false,
               false,
               false,
               false,
               false,
               false,
               false,
               false,
               false,
               false,
               false,
               false,
               false,
               false,
               false,
               false,
               false,
               false,
               false,
               false,
               true,
               true,
               true,
               false,
               false,
               false,
               false,
               false,
               false,
               false,
               true,
               false,
               false,
               false,
               false,
               false,
               false,
               false,
               true
              ]
             },
             {
              "title": "Execution time — method: backtesting_conformal"
             }
            ],
            "label": "backtesting_conformal",
            "method": "update"
           }
          ],
          "direction": "down",
          "pad": {
           "r": 2,
           "t": 0
          },
          "showactive": true,
          "type": "dropdown",
          "x": 1,
          "xanchor": "right",
          "y": 1.03,
          "yanchor": "bottom"
         }
        ],
        "xaxis": {
         "automargin": true,
         "tickangle": 0,
         "tickmode": "array",
         "ticktext": [
          "0.15.1",
          "0.16.0",
          "0.17.0"
         ],
         "tickvals": [
          0,
          1,
          2
         ],
         "title": {
          "text": "skforecast version"
         }
        },
        "yaxis": {
         "automargin": true,
         "title": {
          "text": "Execution time (s)"
         }
        }
       }
      }
     },
     "metadata": {},
     "output_type": "display_data"
    }
   ],
   "source": [
    "# Plot benchmark results\n",
    "# ==============================================================================\n",
    "plot_benchmark_results(\n",
    "    results_benchmark_all,\n",
    "    forecaster_names = ['ForecasterRecursive', 'ForecasterAutoreg'],\n",
    "    regressors       = ['DummyRegressor'],\n",
    "    add_mean         = True,\n",
    "    add_median       = True\n",
    ")"
   ]
  },
  {
   "cell_type": "markdown",
   "metadata": {},
   "source": [
    "## ForecasterDirect\n",
    "\n",
    "The [`ForecasterDirect` class](https://skforecast.org/latest/user_guides/direct-multi-step-forecasting.html) is benchmarked under a fixed experimental setup to ensure fair comparison across library versions. Key conditions are:\n",
    "\n",
    "| Condition           | Value                                                                                |\n",
    "|:--------------------|:-------------------------------------------------------------------------------------|\n",
    "| Regressor           | `sklearn.dummy.DummyRegressor` (to isolate forecaster overhead)                      |\n",
    "| Dataset length      | 2000 synthetic observations (generated with `bench_forecaster_direct._make_data`)    |\n",
    "| Lags as predictors  | 20                                                                                   |\n",
    "| Exogenous features  | 3                                                                                    |\n",
    "| Data transformation | `StandardScaler()` for time series features and exogenous variables                  |\n",
    "| Prediction horizon  | 10 steps ahead (10 regressors)                                                       |\n",
    "| Backtesting split   | 1200 training, remaining for testing, step size = 10, no re-fitting (see [guide](https://skforecast.org/latest/user_guides/backtesting.html)) |\n",
    "\n",
    "**Note:** In versions `< 0.14.0`, `ForecasterDirect` was named `ForecasterAutoregDirect`.  "
   ]
  },
  {
   "cell_type": "code",
   "execution_count": 19,
   "metadata": {},
   "outputs": [
    {
     "data": {
      "application/vnd.plotly.v1+json": {
       "config": {
        "plotlyServerURL": "https://plot.ly"
       },
       "data": [
        {
         "error_y": {
          "array": {
           "bdata": "grFYcZRtGT8SROp1Bs40P52LZtDoDh0/+5BOvH6oGT8=",
           "dtype": "f8"
          },
          "color": "#636EFA",
          "thickness": 1.5,
          "type": "data",
          "visible": true,
          "width": 5
         },
         "hovertemplate": "%{text}<extra></extra>",
         "marker": {
          "color": "#636EFA",
          "line": {
           "color": "white",
           "width": 1
          },
          "opacity": 0.85,
          "size": 10
         },
         "mode": "markers",
         "text": [
          "Forecaster: ForecasterDirect<br>Regressor: DummyRegressor<br>Function: ForecasterDirect__create_train_X_y<br>Function_hash: b27d0379b7b474b819c78e1534c516f2<br>Method: _create_train_X_y<br>Datetime: 2025-08-26 09:26:38.097253<br>Python version: 3.12.11<br>skforecast version: 0.15.1<br>numpy version: 2.1.3<br>pandas version: 2.3.2<br>sklearn version: 1.6.1<br>lightgbm version: 4.6.0<br>Platform: Linux-6.11.0-1018-azure-x86_64-with-glibc2.39<br>Processor: x86_64<br>CPU count: 4<br>Memory (GB): 16.77<br>Run time avg: 0.004872 s<br>Run time median: 0.004844 s<br>Run time p95: 0.004946 s<br>Run time std: 0.000097 s<br>Nº repeats: 30",
          "Forecaster: ForecasterDirect<br>Regressor: DummyRegressor<br>Function: ForecasterDirect__create_train_X_y<br>Function_hash: b27d0379b7b474b819c78e1534c516f2<br>Method: _create_train_X_y<br>Datetime: 2025-08-26 09:42:57.366018<br>Python version: 3.12.11<br>skforecast version: 0.15.1<br>numpy version: 2.1.3<br>pandas version: 2.3.2<br>sklearn version: 1.6.1<br>lightgbm version: 4.6.0<br>Platform: Linux-6.11.0-1018-azure-x86_64-with-glibc2.39<br>Processor: x86_64<br>CPU count: 4<br>Memory (GB): 16.77<br>Run time avg: 0.005200 s<br>Run time median: 0.005055 s<br>Run time p95: 0.005882 s<br>Run time std: 0.000317 s<br>Nº repeats: 30",
          "Forecaster: ForecasterDirect<br>Regressor: DummyRegressor<br>Function: ForecasterDirect__create_train_X_y<br>Function_hash: b27d0379b7b474b819c78e1534c516f2<br>Method: _create_train_X_y<br>Datetime: 2025-08-26 09:55:38.254694<br>Python version: 3.12.11<br>skforecast version: 0.15.1<br>numpy version: 2.1.3<br>pandas version: 2.3.2<br>sklearn version: 1.6.1<br>lightgbm version: 4.6.0<br>Platform: Linux-6.11.0-1018-azure-x86_64-with-glibc2.39<br>Processor: x86_64<br>CPU count: 4<br>Memory (GB): 16.77<br>Run time avg: 0.004863 s<br>Run time median: 0.004834 s<br>Run time p95: 0.004952 s<br>Run time std: 0.000111 s<br>Nº repeats: 30",
          "Forecaster: ForecasterDirect<br>Regressor: DummyRegressor<br>Function: ForecasterDirect__create_train_X_y<br>Function_hash: b27d0379b7b474b819c78e1534c516f2<br>Method: _create_train_X_y<br>Datetime: 2025-08-26 10:19:08.700698<br>Python version: 3.12.11<br>skforecast version: 0.15.1<br>numpy version: 2.1.3<br>pandas version: 2.3.2<br>sklearn version: 1.6.1<br>lightgbm version: 4.6.0<br>Platform: Linux-6.11.0-1018-azure-x86_64-with-glibc2.39<br>Processor: x86_64<br>CPU count: 4<br>Memory (GB): 16.77<br>Run time avg: 0.004823 s<br>Run time median: 0.004799 s<br>Run time p95: 0.004912 s<br>Run time std: 0.000098 s<br>Nº repeats: 30"
         ],
         "type": "scatter",
         "visible": true,
         "x": {
          "bdata": "mBgMpDAfgz+g+Q6OcLmgv8hC/rxpyIE/SPx71wMSjD8=",
          "dtype": "f8"
         },
         "y": {
          "bdata": "AADWTy70cz8iIrKnm0x1P2Zmvj6k63M/3t1i2rrBcz8=",
          "dtype": "f8"
         }
        },
        {
         "error_y": {
          "array": {
           "bdata": "VuZaLB3FHD8RZY5z128gP347ffC0bB0/WAztG5bkHD8=",
           "dtype": "f8"
          },
          "color": "#EF553B",
          "thickness": 1.5,
          "type": "data",
          "visible": true,
          "width": 5
         },
         "hovertemplate": "%{text}<extra></extra>",
         "marker": {
          "color": "#EF553B",
          "line": {
           "color": "white",
           "width": 1
          },
          "opacity": 0.85,
          "size": 10
         },
         "mode": "markers",
         "text": [
          "Forecaster: ForecasterDirect<br>Regressor: DummyRegressor<br>Function: ForecasterDirect__create_train_X_y<br>Function_hash: b27d0379b7b474b819c78e1534c516f2<br>Method: _create_train_X_y<br>Datetime: 2025-08-26 08:37:15.733697<br>Python version: 3.12.11<br>skforecast version: 0.16.0<br>numpy version: 2.1.3<br>pandas version: 2.3.2<br>sklearn version: 1.6.1<br>lightgbm version: 4.6.0<br>Platform: Linux-6.11.0-1018-azure-x86_64-with-glibc2.39<br>Processor: x86_64<br>CPU count: 4<br>Memory (GB): 16.77<br>Run time avg: 0.004711 s<br>Run time median: 0.004683 s<br>Run time p95: 0.004798 s<br>Run time std: 0.000110 s<br>Nº repeats: 30",
          "Forecaster: ForecasterDirect<br>Regressor: DummyRegressor<br>Function: ForecasterDirect__create_train_X_y<br>Function_hash: b27d0379b7b474b819c78e1534c516f2<br>Method: _create_train_X_y<br>Datetime: 2025-08-26 08:46:57.372804<br>Python version: 3.12.11<br>skforecast version: 0.16.0<br>numpy version: 2.1.3<br>pandas version: 2.3.2<br>sklearn version: 1.6.1<br>lightgbm version: 4.6.0<br>Platform: Linux-6.11.0-1018-azure-x86_64-with-glibc2.39<br>Processor: x86_64<br>CPU count: 4<br>Memory (GB): 16.77<br>Run time avg: 0.004694 s<br>Run time median: 0.004661 s<br>Run time p95: 0.004838 s<br>Run time std: 0.000125 s<br>Nº repeats: 30",
          "Forecaster: ForecasterDirect<br>Regressor: DummyRegressor<br>Function: ForecasterDirect__create_train_X_y<br>Function_hash: b27d0379b7b474b819c78e1534c516f2<br>Method: _create_train_X_y<br>Datetime: 2025-08-26 09:01:14.830786<br>Python version: 3.12.11<br>skforecast version: 0.16.0<br>numpy version: 2.1.3<br>pandas version: 2.3.2<br>sklearn version: 1.6.1<br>lightgbm version: 4.6.0<br>Platform: Linux-6.11.0-1018-azure-x86_64-with-glibc2.39<br>Processor: x86_64<br>CPU count: 4<br>Memory (GB): 16.77<br>Run time avg: 0.004726 s<br>Run time median: 0.004691 s<br>Run time p95: 0.004829 s<br>Run time std: 0.000112 s<br>Nº repeats: 30",
          "Forecaster: ForecasterDirect<br>Regressor: DummyRegressor<br>Function: ForecasterDirect__create_train_X_y<br>Function_hash: b27d0379b7b474b819c78e1534c516f2<br>Method: _create_train_X_y<br>Datetime: 2025-08-26 09:11:52.968645<br>Python version: 3.12.11<br>skforecast version: 0.16.0<br>numpy version: 2.1.3<br>pandas version: 2.3.2<br>sklearn version: 1.6.1<br>lightgbm version: 4.6.0<br>Platform: Linux-6.11.0-1018-azure-x86_64-with-glibc2.39<br>Processor: x86_64<br>CPU count: 4<br>Memory (GB): 16.77<br>Run time avg: 0.004814 s<br>Run time median: 0.004795 s<br>Run time p95: 0.004857 s<br>Run time std: 0.000110 s<br>Nº repeats: 30"
         ],
         "type": "scatter",
         "visible": true,
         "x": {
          "bdata": "krecZnmH7z8F1lNGyK/vP+6WoFWys/A/5LVrcz+V8D8=",
          "dtype": "f8"
         },
         "y": {
          "bdata": "zcy0ZwRMcz9VVRpsOTpzP83MENL4W3M/ERGaf5W3cz8=",
          "dtype": "f8"
         }
        },
        {
         "error_y": {
          "array": {
           "bdata": "loWV9/0hMT9e9ZD09mMdPzbxu8bAGCE/cwNrw7PhMT8/FWSgXi4aPw==",
           "dtype": "f8"
          },
          "color": "#00CC96",
          "thickness": 1.5,
          "type": "data",
          "visible": true,
          "width": 5
         },
         "hovertemplate": "%{text}<extra></extra>",
         "marker": {
          "color": "#00CC96",
          "line": {
           "color": "white",
           "width": 1
          },
          "opacity": 0.85,
          "size": 10
         },
         "mode": "markers",
         "text": [
          "Forecaster: ForecasterDirect<br>Regressor: DummyRegressor<br>Function: ForecasterDirect__create_train_X_y<br>Function_hash: b27d0379b7b474b819c78e1534c516f2<br>Method: _create_train_X_y<br>Datetime: 2025-08-26 07:07:49.055620<br>Python version: 3.12.11<br>skforecast version: 0.17.0<br>numpy version: 2.1.3<br>pandas version: 2.3.2<br>sklearn version: 1.6.1<br>lightgbm version: 4.6.0<br>Platform: Linux-6.11.0-1018-azure-x86_64-with-glibc2.39<br>Processor: x86_64<br>CPU count: 4<br>Memory (GB): 16.77<br>Run time avg: 0.004840 s<br>Run time median: 0.004749 s<br>Run time p95: 0.005476 s<br>Run time std: 0.000261 s<br>Nº repeats: 30",
          "Forecaster: ForecasterDirect<br>Regressor: DummyRegressor<br>Function: ForecasterDirect__create_train_X_y<br>Function_hash: b27d0379b7b474b819c78e1534c516f2<br>Method: _create_train_X_y<br>Datetime: 2025-08-26 07:20:49.023508<br>Python version: 3.12.11<br>skforecast version: 0.17.0<br>numpy version: 2.1.3<br>pandas version: 2.3.2<br>sklearn version: 1.6.1<br>lightgbm version: 4.6.0<br>Platform: Linux-6.11.0-1018-azure-x86_64-with-glibc2.39<br>Processor: x86_64<br>CPU count: 4<br>Memory (GB): 16.77<br>Run time avg: 0.004846 s<br>Run time median: 0.004823 s<br>Run time p95: 0.004932 s<br>Run time std: 0.000112 s<br>Nº repeats: 30",
          "Forecaster: ForecasterDirect<br>Regressor: DummyRegressor<br>Function: ForecasterDirect__create_train_X_y<br>Function_hash: b27d0379b7b474b819c78e1534c516f2<br>Method: _create_train_X_y<br>Datetime: 2025-08-26 07:39:15.679594<br>Python version: 3.12.11<br>skforecast version: 0.17.0<br>numpy version: 2.1.3<br>pandas version: 2.3.2<br>sklearn version: 1.6.1<br>lightgbm version: 4.6.0<br>Platform: Linux-6.11.0-1018-azure-x86_64-with-glibc2.39<br>Processor: x86_64<br>CPU count: 4<br>Memory (GB): 16.77<br>Run time avg: 0.004933 s<br>Run time median: 0.004912 s<br>Run time p95: 0.005101 s<br>Run time std: 0.000130 s<br>Nº repeats: 30",
          "Forecaster: ForecasterDirect<br>Regressor: DummyRegressor<br>Function: ForecasterDirect__create_train_X_y<br>Function_hash: b27d0379b7b474b819c78e1534c516f2<br>Method: _create_train_X_y<br>Datetime: 2025-08-26 07:52:00.346891<br>Python version: 3.12.11<br>skforecast version: 0.17.0<br>numpy version: 2.1.3<br>pandas version: 2.3.2<br>sklearn version: 1.6.1<br>lightgbm version: 4.6.0<br>Platform: Linux-6.11.0-1018-azure-x86_64-with-glibc2.39<br>Processor: x86_64<br>CPU count: 4<br>Memory (GB): 16.77<br>Run time avg: 0.004883 s<br>Run time median: 0.004819 s<br>Run time p95: 0.005380 s<br>Run time std: 0.000273 s<br>Nº repeats: 30",
          "Forecaster: ForecasterDirect<br>Regressor: DummyRegressor<br>Function: ForecasterDirect__create_train_X_y<br>Function_hash: b27d0379b7b474b819c78e1534c516f2<br>Method: _create_train_X_y<br>Datetime: 2025-08-26 08:17:55.943593<br>Python version: 3.12.11<br>skforecast version: 0.17.0<br>numpy version: 2.1.3<br>pandas version: 2.3.2<br>sklearn version: 1.6.1<br>lightgbm version: 4.6.0<br>Platform: Linux-6.11.0-1018-azure-x86_64-with-glibc2.39<br>Processor: x86_64<br>CPU count: 4<br>Memory (GB): 16.77<br>Run time avg: 0.004825 s<br>Run time median: 0.004808 s<br>Run time p95: 0.004861 s<br>Run time std: 0.000100 s<br>Nº repeats: 30"
         ],
         "type": "scatter",
         "visible": true,
         "x": {
          "bdata": "PEla7XGH/z9F9RZzPB8AQKTOTubMHQBAzcIe+9JlAEAZ31DKnVz/Pw==",
          "dtype": "f8"
         },
         "y": {
          "bdata": "3t3FRLDScz8iIgtHMtlzP97duPgbNHQ/mpmWiqwAdD+8u8uJt8NzPw==",
          "dtype": "f8"
         }
        },
        {
         "error_y": {
          "array": {
           "bdata": "8jIlV9m1PT96bawOF987P3vabOQ1ECE/gUlpePlrKD8=",
           "dtype": "f8"
          },
          "color": "#636EFA",
          "thickness": 1.5,
          "type": "data",
          "visible": true,
          "width": 5
         },
         "hovertemplate": "%{text}<extra></extra>",
         "marker": {
          "color": "#636EFA",
          "line": {
           "color": "white",
           "width": 1
          },
          "opacity": 0.85,
          "size": 10
         },
         "mode": "markers",
         "text": [
          "Forecaster: ForecasterDirect<br>Regressor: DummyRegressor<br>Function: ForecasterDirect_fit<br>Function_hash: 58b0986e26feb27e807c1fc760184d95<br>Method: fit<br>Datetime: 2025-08-26 09:26:38.233729<br>Python version: 3.12.11<br>skforecast version: 0.15.1<br>numpy version: 2.1.3<br>pandas version: 2.3.2<br>sklearn version: 1.6.1<br>lightgbm version: 4.6.0<br>Platform: Linux-6.11.0-1018-azure-x86_64-with-glibc2.39<br>Processor: x86_64<br>CPU count: 4<br>Memory (GB): 16.77<br>Run time avg: 0.013104 s<br>Run time median: 0.012888 s<br>Run time p95: 0.013972 s<br>Run time std: 0.000453 s<br>Nº repeats: 10",
          "Forecaster: ForecasterDirect<br>Regressor: DummyRegressor<br>Function: ForecasterDirect_fit<br>Function_hash: 58b0986e26feb27e807c1fc760184d95<br>Method: fit<br>Datetime: 2025-08-26 09:42:57.507539<br>Python version: 3.12.11<br>skforecast version: 0.15.1<br>numpy version: 2.1.3<br>pandas version: 2.3.2<br>sklearn version: 1.6.1<br>lightgbm version: 4.6.0<br>Platform: Linux-6.11.0-1018-azure-x86_64-with-glibc2.39<br>Processor: x86_64<br>CPU count: 4<br>Memory (GB): 16.77<br>Run time avg: 0.013584 s<br>Run time median: 0.013421 s<br>Run time p95: 0.014355 s<br>Run time std: 0.000425 s<br>Nº repeats: 10",
          "Forecaster: ForecasterDirect<br>Regressor: DummyRegressor<br>Function: ForecasterDirect_fit<br>Function_hash: 58b0986e26feb27e807c1fc760184d95<br>Method: fit<br>Datetime: 2025-08-26 09:55:38.386135<br>Python version: 3.12.11<br>skforecast version: 0.15.1<br>numpy version: 2.1.3<br>pandas version: 2.3.2<br>sklearn version: 1.6.1<br>lightgbm version: 4.6.0<br>Platform: Linux-6.11.0-1018-azure-x86_64-with-glibc2.39<br>Processor: x86_64<br>CPU count: 4<br>Memory (GB): 16.77<br>Run time avg: 0.012636 s<br>Run time median: 0.012593 s<br>Run time p95: 0.012853 s<br>Run time std: 0.000130 s<br>Nº repeats: 10",
          "Forecaster: ForecasterDirect<br>Regressor: DummyRegressor<br>Function: ForecasterDirect_fit<br>Function_hash: 58b0986e26feb27e807c1fc760184d95<br>Method: fit<br>Datetime: 2025-08-26 10:19:08.831123<br>Python version: 3.12.11<br>skforecast version: 0.15.1<br>numpy version: 2.1.3<br>pandas version: 2.3.2<br>sklearn version: 1.6.1<br>lightgbm version: 4.6.0<br>Platform: Linux-6.11.0-1018-azure-x86_64-with-glibc2.39<br>Processor: x86_64<br>CPU count: 4<br>Memory (GB): 16.77<br>Run time avg: 0.012511 s<br>Run time median: 0.012435 s<br>Run time p95: 0.012873 s<br>Run time std: 0.000186 s<br>Nº repeats: 10"
         ],
         "type": "scatter",
         "visible": false,
         "x": {
          "bdata": "AF4TCltAdb/82UxZfNeePwzsv5jNx4Q/KJXl97J0iL8=",
          "dtype": "f8"
         },
         "y": {
          "bdata": "zcziZAvWij/NTBVhFNKLPzOzDq8W4Yk/zUygt36fiT8=",
          "dtype": "f8"
         }
        },
        {
         "error_y": {
          "array": {
           "bdata": "QoPtYxrLHz8uUqlDX6oeP4DkG7Eg6yI/BpHDQcioID8=",
           "dtype": "f8"
          },
          "color": "#EF553B",
          "thickness": 1.5,
          "type": "data",
          "visible": true,
          "width": 5
         },
         "hovertemplate": "%{text}<extra></extra>",
         "marker": {
          "color": "#EF553B",
          "line": {
           "color": "white",
           "width": 1
          },
          "opacity": 0.85,
          "size": 10
         },
         "mode": "markers",
         "text": [
          "Forecaster: ForecasterDirect<br>Regressor: DummyRegressor<br>Function: ForecasterDirect_fit<br>Function_hash: 58b0986e26feb27e807c1fc760184d95<br>Method: fit<br>Datetime: 2025-08-26 08:37:15.864583<br>Python version: 3.12.11<br>skforecast version: 0.16.0<br>numpy version: 2.1.3<br>pandas version: 2.3.2<br>sklearn version: 1.6.1<br>lightgbm version: 4.6.0<br>Platform: Linux-6.11.0-1018-azure-x86_64-with-glibc2.39<br>Processor: x86_64<br>CPU count: 4<br>Memory (GB): 16.77<br>Run time avg: 0.012616 s<br>Run time median: 0.012601 s<br>Run time p95: 0.012819 s<br>Run time std: 0.000121 s<br>Nº repeats: 10",
          "Forecaster: ForecasterDirect<br>Regressor: DummyRegressor<br>Function: ForecasterDirect_fit<br>Function_hash: 58b0986e26feb27e807c1fc760184d95<br>Method: fit<br>Datetime: 2025-08-26 08:46:57.501598<br>Python version: 3.12.11<br>skforecast version: 0.16.0<br>numpy version: 2.1.3<br>pandas version: 2.3.2<br>sklearn version: 1.6.1<br>lightgbm version: 4.6.0<br>Platform: Linux-6.11.0-1018-azure-x86_64-with-glibc2.39<br>Processor: x86_64<br>CPU count: 4<br>Memory (GB): 16.77<br>Run time avg: 0.012421 s<br>Run time median: 0.012392 s<br>Run time p95: 0.012616 s<br>Run time std: 0.000117 s<br>Nº repeats: 10",
          "Forecaster: ForecasterDirect<br>Regressor: DummyRegressor<br>Function: ForecasterDirect_fit<br>Function_hash: 58b0986e26feb27e807c1fc760184d95<br>Method: fit<br>Datetime: 2025-08-26 09:01:14.960127<br>Python version: 3.12.11<br>skforecast version: 0.16.0<br>numpy version: 2.1.3<br>pandas version: 2.3.2<br>sklearn version: 1.6.1<br>lightgbm version: 4.6.0<br>Platform: Linux-6.11.0-1018-azure-x86_64-with-glibc2.39<br>Processor: x86_64<br>CPU count: 4<br>Memory (GB): 16.77<br>Run time avg: 0.012467 s<br>Run time median: 0.012428 s<br>Run time p95: 0.012716 s<br>Run time std: 0.000144 s<br>Nº repeats: 10",
          "Forecaster: ForecasterDirect<br>Regressor: DummyRegressor<br>Function: ForecasterDirect_fit<br>Function_hash: 58b0986e26feb27e807c1fc760184d95<br>Method: fit<br>Datetime: 2025-08-26 09:11:53.101202<br>Python version: 3.12.11<br>skforecast version: 0.16.0<br>numpy version: 2.1.3<br>pandas version: 2.3.2<br>sklearn version: 1.6.1<br>lightgbm version: 4.6.0<br>Platform: Linux-6.11.0-1018-azure-x86_64-with-glibc2.39<br>Processor: x86_64<br>CPU count: 4<br>Memory (GB): 16.77<br>Run time avg: 0.012753 s<br>Run time median: 0.012725 s<br>Run time p95: 0.012975 s<br>Run time std: 0.000127 s<br>Nº repeats: 10"
         ],
         "type": "scatter",
         "visible": false,
         "x": {
          "bdata": "aPktbM977z+fiJLF48juP4wFzR77qvA/d8rAngZo7z8=",
          "dtype": "f8"
         },
         "y": {
          "bdata": "ZmbHKqjWiT+amUlD92+JP2ZmSIh4iIk/Zma7q0oeij8=",
          "dtype": "f8"
         }
        },
        {
         "error_y": {
          "array": {
           "bdata": "UNNwPH6tIT9n2QBNjoEgP3zEbZDjTic/gdZACdKAMT/o5lQO0g0ePw==",
           "dtype": "f8"
          },
          "color": "#00CC96",
          "thickness": 1.5,
          "type": "data",
          "visible": true,
          "width": 5
         },
         "hovertemplate": "%{text}<extra></extra>",
         "marker": {
          "color": "#00CC96",
          "line": {
           "color": "white",
           "width": 1
          },
          "opacity": 0.85,
          "size": 10
         },
         "mode": "markers",
         "text": [
          "Forecaster: ForecasterDirect<br>Regressor: DummyRegressor<br>Function: ForecasterDirect_fit<br>Function_hash: 58b0986e26feb27e807c1fc760184d95<br>Method: fit<br>Datetime: 2025-08-26 07:07:49.184357<br>Python version: 3.12.11<br>skforecast version: 0.17.0<br>numpy version: 2.1.3<br>pandas version: 2.3.2<br>sklearn version: 1.6.1<br>lightgbm version: 4.6.0<br>Platform: Linux-6.11.0-1018-azure-x86_64-with-glibc2.39<br>Processor: x86_64<br>CPU count: 4<br>Memory (GB): 16.77<br>Run time avg: 0.012497 s<br>Run time median: 0.012449 s<br>Run time p95: 0.012730 s<br>Run time std: 0.000135 s<br>Nº repeats: 10",
          "Forecaster: ForecasterDirect<br>Regressor: DummyRegressor<br>Function: ForecasterDirect_fit<br>Function_hash: 58b0986e26feb27e807c1fc760184d95<br>Method: fit<br>Datetime: 2025-08-26 07:20:49.155255<br>Python version: 3.12.11<br>skforecast version: 0.17.0<br>numpy version: 2.1.3<br>pandas version: 2.3.2<br>sklearn version: 1.6.1<br>lightgbm version: 4.6.0<br>Platform: Linux-6.11.0-1018-azure-x86_64-with-glibc2.39<br>Processor: x86_64<br>CPU count: 4<br>Memory (GB): 16.77<br>Run time avg: 0.012781 s<br>Run time median: 0.012747 s<br>Run time p95: 0.012992 s<br>Run time std: 0.000126 s<br>Nº repeats: 10",
          "Forecaster: ForecasterDirect<br>Regressor: DummyRegressor<br>Function: ForecasterDirect_fit<br>Function_hash: 58b0986e26feb27e807c1fc760184d95<br>Method: fit<br>Datetime: 2025-08-26 07:39:15.814083<br>Python version: 3.12.11<br>skforecast version: 0.17.0<br>numpy version: 2.1.3<br>pandas version: 2.3.2<br>sklearn version: 1.6.1<br>lightgbm version: 4.6.0<br>Platform: Linux-6.11.0-1018-azure-x86_64-with-glibc2.39<br>Processor: x86_64<br>CPU count: 4<br>Memory (GB): 16.77<br>Run time avg: 0.013007 s<br>Run time median: 0.013010 s<br>Run time p95: 0.013285 s<br>Run time std: 0.000178 s<br>Nº repeats: 10",
          "Forecaster: ForecasterDirect<br>Regressor: DummyRegressor<br>Function: ForecasterDirect_fit<br>Function_hash: 58b0986e26feb27e807c1fc760184d95<br>Method: fit<br>Datetime: 2025-08-26 07:52:00.482066<br>Python version: 3.12.11<br>skforecast version: 0.17.0<br>numpy version: 2.1.3<br>pandas version: 2.3.2<br>sklearn version: 1.6.1<br>lightgbm version: 4.6.0<br>Platform: Linux-6.11.0-1018-azure-x86_64-with-glibc2.39<br>Processor: x86_64<br>CPU count: 4<br>Memory (GB): 16.77<br>Run time avg: 0.013068 s<br>Run time median: 0.013022 s<br>Run time p95: 0.013511 s<br>Run time std: 0.000267 s<br>Nº repeats: 10",
          "Forecaster: ForecasterDirect<br>Regressor: DummyRegressor<br>Function: ForecasterDirect_fit<br>Function_hash: 58b0986e26feb27e807c1fc760184d95<br>Method: fit<br>Datetime: 2025-08-26 08:17:56.075396<br>Python version: 3.12.11<br>skforecast version: 0.17.0<br>numpy version: 2.1.3<br>pandas version: 2.3.2<br>sklearn version: 1.6.1<br>lightgbm version: 4.6.0<br>Platform: Linux-6.11.0-1018-azure-x86_64-with-glibc2.39<br>Processor: x86_64<br>CPU count: 4<br>Memory (GB): 16.77<br>Run time avg: 0.012732 s<br>Run time median: 0.012698 s<br>Run time p95: 0.012928 s<br>Run time std: 0.000115 s<br>Nº repeats: 10"
         ],
         "type": "scatter",
         "visible": false,
         "x": {
          "bdata": "qlGiplOI/z8bl5fCCBMAQDxWI04Zvf8/XK/AgSlu/z/YMltBjZT/Pw==",
          "dtype": "f8"
         },
         "y": {
          "bdata": "MzN6T/eXiT9m5tWpyiyKPwAAIXY8o4o/ZubUApHDij+amQY+ehOKPw==",
          "dtype": "f8"
         }
        },
        {
         "error_y": {
          "array": {
           "bdata": "AAAAAAAA+H8AAAAAAAD4fwAAAAAAAPh/AAAAAAAA+H8=",
           "dtype": "f8"
          },
          "color": "#636EFA",
          "thickness": 1.5,
          "type": "data",
          "visible": false,
          "width": 5
         },
         "hovertemplate": "%{text}<extra></extra>",
         "marker": {
          "color": "#636EFA",
          "line": {
           "color": "white",
           "width": 1
          },
          "opacity": 0.85,
          "size": 10
         },
         "mode": "markers",
         "text": [
          "Forecaster: ForecasterDirect<br>Regressor: DummyRegressor<br>Function: ForecasterDirect_check_predict_inputs<br>Function_hash: d7d7ad1d81877ff8e93047935fcb796a<br>Method: check_predict_inputs<br>Datetime: 2025-08-26 09:26:38.253491<br>Python version: 3.12.11<br>skforecast version: 0.15.1<br>numpy version: 2.1.3<br>pandas version: 2.3.2<br>sklearn version: 1.6.1<br>lightgbm version: 4.6.0<br>Platform: Linux-6.11.0-1018-azure-x86_64-with-glibc2.39<br>Processor: x86_64<br>CPU count: 4<br>Memory (GB): 16.77<br>Run time avg: nan s<br>Run time median: nan s<br>Run time p95: nan s<br>Run time std: nan s<br>Nº repeats: 30",
          "Forecaster: ForecasterDirect<br>Regressor: DummyRegressor<br>Function: ForecasterDirect_check_predict_inputs<br>Function_hash: d7d7ad1d81877ff8e93047935fcb796a<br>Method: check_predict_inputs<br>Datetime: 2025-08-26 09:42:57.527600<br>Python version: 3.12.11<br>skforecast version: 0.15.1<br>numpy version: 2.1.3<br>pandas version: 2.3.2<br>sklearn version: 1.6.1<br>lightgbm version: 4.6.0<br>Platform: Linux-6.11.0-1018-azure-x86_64-with-glibc2.39<br>Processor: x86_64<br>CPU count: 4<br>Memory (GB): 16.77<br>Run time avg: nan s<br>Run time median: nan s<br>Run time p95: nan s<br>Run time std: nan s<br>Nº repeats: 30",
          "Forecaster: ForecasterDirect<br>Regressor: DummyRegressor<br>Function: ForecasterDirect_check_predict_inputs<br>Function_hash: d7d7ad1d81877ff8e93047935fcb796a<br>Method: check_predict_inputs<br>Datetime: 2025-08-26 09:55:38.405202<br>Python version: 3.12.11<br>skforecast version: 0.15.1<br>numpy version: 2.1.3<br>pandas version: 2.3.2<br>sklearn version: 1.6.1<br>lightgbm version: 4.6.0<br>Platform: Linux-6.11.0-1018-azure-x86_64-with-glibc2.39<br>Processor: x86_64<br>CPU count: 4<br>Memory (GB): 16.77<br>Run time avg: nan s<br>Run time median: nan s<br>Run time p95: nan s<br>Run time std: nan s<br>Nº repeats: 30",
          "Forecaster: ForecasterDirect<br>Regressor: DummyRegressor<br>Function: ForecasterDirect_check_predict_inputs<br>Function_hash: d7d7ad1d81877ff8e93047935fcb796a<br>Method: check_predict_inputs<br>Datetime: 2025-08-26 10:19:08.850120<br>Python version: 3.12.11<br>skforecast version: 0.15.1<br>numpy version: 2.1.3<br>pandas version: 2.3.2<br>sklearn version: 1.6.1<br>lightgbm version: 4.6.0<br>Platform: Linux-6.11.0-1018-azure-x86_64-with-glibc2.39<br>Processor: x86_64<br>CPU count: 4<br>Memory (GB): 16.77<br>Run time avg: nan s<br>Run time median: nan s<br>Run time p95: nan s<br>Run time std: nan s<br>Nº repeats: 30"
         ],
         "type": "scatter",
         "visible": false,
         "x": {
          "bdata": "NDFo5GIDgT8g9B1IIsGkP5iCO/ht8HQ/wLBJU3DxQD8=",
          "dtype": "f8"
         },
         "y": {
          "bdata": "AAAAAAAA+H8AAAAAAAD4fwAAAAAAAPh/AAAAAAAA+H8=",
          "dtype": "f8"
         }
        },
        {
         "error_y": {
          "array": {
           "bdata": "AAAAAAAA+H8AAAAAAAD4fwAAAAAAAPh/AAAAAAAA+H8=",
           "dtype": "f8"
          },
          "color": "#EF553B",
          "thickness": 1.5,
          "type": "data",
          "visible": false,
          "width": 5
         },
         "hovertemplate": "%{text}<extra></extra>",
         "marker": {
          "color": "#EF553B",
          "line": {
           "color": "white",
           "width": 1
          },
          "opacity": 0.85,
          "size": 10
         },
         "mode": "markers",
         "text": [
          "Forecaster: ForecasterDirect<br>Regressor: DummyRegressor<br>Function: ForecasterDirect_check_predict_inputs<br>Function_hash: d7d7ad1d81877ff8e93047935fcb796a<br>Method: check_predict_inputs<br>Datetime: 2025-08-26 08:37:15.883062<br>Python version: 3.12.11<br>skforecast version: 0.16.0<br>numpy version: 2.1.3<br>pandas version: 2.3.2<br>sklearn version: 1.6.1<br>lightgbm version: 4.6.0<br>Platform: Linux-6.11.0-1018-azure-x86_64-with-glibc2.39<br>Processor: x86_64<br>CPU count: 4<br>Memory (GB): 16.77<br>Run time avg: nan s<br>Run time median: nan s<br>Run time p95: nan s<br>Run time std: nan s<br>Nº repeats: 30",
          "Forecaster: ForecasterDirect<br>Regressor: DummyRegressor<br>Function: ForecasterDirect_check_predict_inputs<br>Function_hash: d7d7ad1d81877ff8e93047935fcb796a<br>Method: check_predict_inputs<br>Datetime: 2025-08-26 08:46:57.519862<br>Python version: 3.12.11<br>skforecast version: 0.16.0<br>numpy version: 2.1.3<br>pandas version: 2.3.2<br>sklearn version: 1.6.1<br>lightgbm version: 4.6.0<br>Platform: Linux-6.11.0-1018-azure-x86_64-with-glibc2.39<br>Processor: x86_64<br>CPU count: 4<br>Memory (GB): 16.77<br>Run time avg: nan s<br>Run time median: nan s<br>Run time p95: nan s<br>Run time std: nan s<br>Nº repeats: 30",
          "Forecaster: ForecasterDirect<br>Regressor: DummyRegressor<br>Function: ForecasterDirect_check_predict_inputs<br>Function_hash: d7d7ad1d81877ff8e93047935fcb796a<br>Method: check_predict_inputs<br>Datetime: 2025-08-26 09:01:14.978357<br>Python version: 3.12.11<br>skforecast version: 0.16.0<br>numpy version: 2.1.3<br>pandas version: 2.3.2<br>sklearn version: 1.6.1<br>lightgbm version: 4.6.0<br>Platform: Linux-6.11.0-1018-azure-x86_64-with-glibc2.39<br>Processor: x86_64<br>CPU count: 4<br>Memory (GB): 16.77<br>Run time avg: nan s<br>Run time median: nan s<br>Run time p95: nan s<br>Run time std: nan s<br>Nº repeats: 30",
          "Forecaster: ForecasterDirect<br>Regressor: DummyRegressor<br>Function: ForecasterDirect_check_predict_inputs<br>Function_hash: d7d7ad1d81877ff8e93047935fcb796a<br>Method: check_predict_inputs<br>Datetime: 2025-08-26 09:11:53.120340<br>Python version: 3.12.11<br>skforecast version: 0.16.0<br>numpy version: 2.1.3<br>pandas version: 2.3.2<br>sklearn version: 1.6.1<br>lightgbm version: 4.6.0<br>Platform: Linux-6.11.0-1018-azure-x86_64-with-glibc2.39<br>Processor: x86_64<br>CPU count: 4<br>Memory (GB): 16.77<br>Run time avg: nan s<br>Run time median: nan s<br>Run time p95: nan s<br>Run time std: nan s<br>Nº repeats: 30"
         ],
         "type": "scatter",
         "visible": false,
         "x": {
          "bdata": "jdvYCHBf8D9wL/AAXWjuP5tOL7AWQfA/nfJcgISv8D8=",
          "dtype": "f8"
         },
         "y": {
          "bdata": "AAAAAAAA+H8AAAAAAAD4fwAAAAAAAPh/AAAAAAAA+H8=",
          "dtype": "f8"
         }
        },
        {
         "error_y": {
          "array": {
           "bdata": "6t0VjYXW8z7VVnuSVLD2Pu9P8VxpF/w+VMsmnZl69T5Ek8VXU+71Pg==",
           "dtype": "f8"
          },
          "color": "#00CC96",
          "thickness": 1.5,
          "type": "data",
          "visible": true,
          "width": 5
         },
         "hovertemplate": "%{text}<extra></extra>",
         "marker": {
          "color": "#00CC96",
          "line": {
           "color": "white",
           "width": 1
          },
          "opacity": 0.85,
          "size": 10
         },
         "mode": "markers",
         "text": [
          "Forecaster: ForecasterDirect<br>Regressor: DummyRegressor<br>Function: ForecasterDirect_check_predict_inputs<br>Function_hash: d7d7ad1d81877ff8e93047935fcb796a<br>Method: check_predict_inputs<br>Datetime: 2025-08-26 07:07:49.208560<br>Python version: 3.12.11<br>skforecast version: 0.17.0<br>numpy version: 2.1.3<br>pandas version: 2.3.2<br>sklearn version: 1.6.1<br>lightgbm version: 4.6.0<br>Platform: Linux-6.11.0-1018-azure-x86_64-with-glibc2.39<br>Processor: x86_64<br>CPU count: 4<br>Memory (GB): 16.77<br>Run time avg: 0.000215 s<br>Run time median: 0.000208 s<br>Run time p95: 0.000242 s<br>Run time std: 0.000019 s<br>Nº repeats: 30",
          "Forecaster: ForecasterDirect<br>Regressor: DummyRegressor<br>Function: ForecasterDirect_check_predict_inputs<br>Function_hash: d7d7ad1d81877ff8e93047935fcb796a<br>Method: check_predict_inputs<br>Datetime: 2025-08-26 07:20:49.180008<br>Python version: 3.12.11<br>skforecast version: 0.17.0<br>numpy version: 2.1.3<br>pandas version: 2.3.2<br>sklearn version: 1.6.1<br>lightgbm version: 4.6.0<br>Platform: Linux-6.11.0-1018-azure-x86_64-with-glibc2.39<br>Processor: x86_64<br>CPU count: 4<br>Memory (GB): 16.77<br>Run time avg: 0.000218 s<br>Run time median: 0.000210 s<br>Run time p95: 0.000235 s<br>Run time std: 0.000022 s<br>Nº repeats: 30",
          "Forecaster: ForecasterDirect<br>Regressor: DummyRegressor<br>Function: ForecasterDirect_check_predict_inputs<br>Function_hash: d7d7ad1d81877ff8e93047935fcb796a<br>Method: check_predict_inputs<br>Datetime: 2025-08-26 07:39:15.840165<br>Python version: 3.12.11<br>skforecast version: 0.17.0<br>numpy version: 2.1.3<br>pandas version: 2.3.2<br>sklearn version: 1.6.1<br>lightgbm version: 4.6.0<br>Platform: Linux-6.11.0-1018-azure-x86_64-with-glibc2.39<br>Processor: x86_64<br>CPU count: 4<br>Memory (GB): 16.77<br>Run time avg: 0.000223 s<br>Run time median: 0.000214 s<br>Run time p95: 0.000248 s<br>Run time std: 0.000027 s<br>Nº repeats: 30",
          "Forecaster: ForecasterDirect<br>Regressor: DummyRegressor<br>Function: ForecasterDirect_check_predict_inputs<br>Function_hash: d7d7ad1d81877ff8e93047935fcb796a<br>Method: check_predict_inputs<br>Datetime: 2025-08-26 07:52:00.507493<br>Python version: 3.12.11<br>skforecast version: 0.17.0<br>numpy version: 2.1.3<br>pandas version: 2.3.2<br>sklearn version: 1.6.1<br>lightgbm version: 4.6.0<br>Platform: Linux-6.11.0-1018-azure-x86_64-with-glibc2.39<br>Processor: x86_64<br>CPU count: 4<br>Memory (GB): 16.77<br>Run time avg: 0.000218 s<br>Run time median: 0.000211 s<br>Run time p95: 0.000245 s<br>Run time std: 0.000020 s<br>Nº repeats: 30",
          "Forecaster: ForecasterDirect<br>Regressor: DummyRegressor<br>Function: ForecasterDirect_check_predict_inputs<br>Function_hash: d7d7ad1d81877ff8e93047935fcb796a<br>Method: check_predict_inputs<br>Datetime: 2025-08-26 08:17:56.100408<br>Python version: 3.12.11<br>skforecast version: 0.17.0<br>numpy version: 2.1.3<br>pandas version: 2.3.2<br>sklearn version: 1.6.1<br>lightgbm version: 4.6.0<br>Platform: Linux-6.11.0-1018-azure-x86_64-with-glibc2.39<br>Processor: x86_64<br>CPU count: 4<br>Memory (GB): 16.77<br>Run time avg: 0.000217 s<br>Run time median: 0.000209 s<br>Run time p95: 0.000249 s<br>Run time std: 0.000021 s<br>Nº repeats: 30"
         ],
         "type": "scatter",
         "visible": false,
         "x": {
          "bdata": "1JtrRqsBAEA6GYNWLwgAQFefzCu3SwBAdCYQZIP+/z/GW6ew9GD/Pw==",
          "dtype": "f8"
         },
         "y": {
          "bdata": "vLv7A38rLD/NzIwv66EsP7y7W3pbLy0/d3d3vAOJLD8RERFcbHUsPw==",
          "dtype": "f8"
         }
        },
        {
         "error_y": {
          "array": {
           "bdata": "l1kthOA0Fz/ZlTpS3dAcP51Z6BEMTw8/QcDAIvP9ET8=",
           "dtype": "f8"
          },
          "color": "#636EFA",
          "thickness": 1.5,
          "type": "data",
          "visible": true,
          "width": 5
         },
         "hovertemplate": "%{text}<extra></extra>",
         "marker": {
          "color": "#636EFA",
          "line": {
           "color": "white",
           "width": 1
          },
          "opacity": 0.85,
          "size": 10
         },
         "mode": "markers",
         "text": [
          "Forecaster: ForecasterDirect<br>Regressor: DummyRegressor<br>Function: ForecasterDirect__create_predict_inputs<br>Function_hash: f80c520201b2a38832aece38d0a7ddef<br>Method: _create_predict_inputs<br>Datetime: 2025-08-26 09:26:38.344669<br>Python version: 3.12.11<br>skforecast version: 0.15.1<br>numpy version: 2.1.3<br>pandas version: 2.3.2<br>sklearn version: 1.6.1<br>lightgbm version: 4.6.0<br>Platform: Linux-6.11.0-1018-azure-x86_64-with-glibc2.39<br>Processor: x86_64<br>CPU count: 4<br>Memory (GB): 16.77<br>Run time avg: 0.002856 s<br>Run time median: 0.002827 s<br>Run time p95: 0.002955 s<br>Run time std: 0.000089 s<br>Nº repeats: 30",
          "Forecaster: ForecasterDirect<br>Regressor: DummyRegressor<br>Function: ForecasterDirect__create_predict_inputs<br>Function_hash: f80c520201b2a38832aece38d0a7ddef<br>Method: _create_predict_inputs<br>Datetime: 2025-08-26 09:42:57.618031<br>Python version: 3.12.11<br>skforecast version: 0.15.1<br>numpy version: 2.1.3<br>pandas version: 2.3.2<br>sklearn version: 1.6.1<br>lightgbm version: 4.6.0<br>Platform: Linux-6.11.0-1018-azure-x86_64-with-glibc2.39<br>Processor: x86_64<br>CPU count: 4<br>Memory (GB): 16.77<br>Run time avg: 0.002830 s<br>Run time median: 0.002804 s<br>Run time p95: 0.002915 s<br>Run time std: 0.000110 s<br>Nº repeats: 30",
          "Forecaster: ForecasterDirect<br>Regressor: DummyRegressor<br>Function: ForecasterDirect__create_predict_inputs<br>Function_hash: f80c520201b2a38832aece38d0a7ddef<br>Method: _create_predict_inputs<br>Datetime: 2025-08-26 09:55:38.494017<br>Python version: 3.12.11<br>skforecast version: 0.15.1<br>numpy version: 2.1.3<br>pandas version: 2.3.2<br>sklearn version: 1.6.1<br>lightgbm version: 4.6.0<br>Platform: Linux-6.11.0-1018-azure-x86_64-with-glibc2.39<br>Processor: x86_64<br>CPU count: 4<br>Memory (GB): 16.77<br>Run time avg: 0.002800 s<br>Run time median: 0.002785 s<br>Run time p95: 0.002869 s<br>Run time std: 0.000060 s<br>Nº repeats: 30",
          "Forecaster: ForecasterDirect<br>Regressor: DummyRegressor<br>Function: ForecasterDirect__create_predict_inputs<br>Function_hash: f80c520201b2a38832aece38d0a7ddef<br>Method: _create_predict_inputs<br>Datetime: 2025-08-26 10:19:08.939019<br>Python version: 3.12.11<br>skforecast version: 0.15.1<br>numpy version: 2.1.3<br>pandas version: 2.3.2<br>sklearn version: 1.6.1<br>lightgbm version: 4.6.0<br>Platform: Linux-6.11.0-1018-azure-x86_64-with-glibc2.39<br>Processor: x86_64<br>CPU count: 4<br>Memory (GB): 16.77<br>Run time avg: 0.002802 s<br>Run time median: 0.002782 s<br>Run time p95: 0.002888 s<br>Run time std: 0.000069 s<br>Nº repeats: 30"
         ],
         "type": "scatter",
         "visible": false,
         "x": {
          "bdata": "0MCyWMHPjT/Ahi3o7U2IP/B9VkBUdHE/Pq72vRHepT8=",
          "dtype": "f8"
         },
         "y": {
          "bdata": "zcy0IUhmZz/NzHC5Vy9nP3d39fUD72Y/7+46+PPzZj8=",
          "dtype": "f8"
         }
        },
        {
         "error_y": {
          "array": {
           "bdata": "qe9Vc3PQDz+4Pl4pQ6koPzcVgmTk5wk/DoI32DKjEj8=",
           "dtype": "f8"
          },
          "color": "#EF553B",
          "thickness": 1.5,
          "type": "data",
          "visible": true,
          "width": 5
         },
         "hovertemplate": "%{text}<extra></extra>",
         "marker": {
          "color": "#EF553B",
          "line": {
           "color": "white",
           "width": 1
          },
          "opacity": 0.85,
          "size": 10
         },
         "mode": "markers",
         "text": [
          "Forecaster: ForecasterDirect<br>Regressor: DummyRegressor<br>Function: ForecasterDirect__create_predict_inputs<br>Function_hash: f80c520201b2a38832aece38d0a7ddef<br>Method: _create_predict_inputs<br>Datetime: 2025-08-26 08:37:15.955365<br>Python version: 3.12.11<br>skforecast version: 0.16.0<br>numpy version: 2.1.3<br>pandas version: 2.3.2<br>sklearn version: 1.6.1<br>lightgbm version: 4.6.0<br>Platform: Linux-6.11.0-1018-azure-x86_64-with-glibc2.39<br>Processor: x86_64<br>CPU count: 4<br>Memory (GB): 16.77<br>Run time avg: 0.002262 s<br>Run time median: 0.002247 s<br>Run time p95: 0.002322 s<br>Run time std: 0.000061 s<br>Nº repeats: 30",
          "Forecaster: ForecasterDirect<br>Regressor: DummyRegressor<br>Function: ForecasterDirect__create_predict_inputs<br>Function_hash: f80c520201b2a38832aece38d0a7ddef<br>Method: _create_predict_inputs<br>Datetime: 2025-08-26 08:46:57.593493<br>Python version: 3.12.11<br>skforecast version: 0.16.0<br>numpy version: 2.1.3<br>pandas version: 2.3.2<br>sklearn version: 1.6.1<br>lightgbm version: 4.6.0<br>Platform: Linux-6.11.0-1018-azure-x86_64-with-glibc2.39<br>Processor: x86_64<br>CPU count: 4<br>Memory (GB): 16.77<br>Run time avg: 0.002309 s<br>Run time median: 0.002245 s<br>Run time p95: 0.002729 s<br>Run time std: 0.000188 s<br>Nº repeats: 30",
          "Forecaster: ForecasterDirect<br>Regressor: DummyRegressor<br>Function: ForecasterDirect__create_predict_inputs<br>Function_hash: f80c520201b2a38832aece38d0a7ddef<br>Method: _create_predict_inputs<br>Datetime: 2025-08-26 09:01:15.050743<br>Python version: 3.12.11<br>skforecast version: 0.16.0<br>numpy version: 2.1.3<br>pandas version: 2.3.2<br>sklearn version: 1.6.1<br>lightgbm version: 4.6.0<br>Platform: Linux-6.11.0-1018-azure-x86_64-with-glibc2.39<br>Processor: x86_64<br>CPU count: 4<br>Memory (GB): 16.77<br>Run time avg: 0.002265 s<br>Run time median: 0.002250 s<br>Run time p95: 0.002317 s<br>Run time std: 0.000049 s<br>Nº repeats: 30",
          "Forecaster: ForecasterDirect<br>Regressor: DummyRegressor<br>Function: ForecasterDirect__create_predict_inputs<br>Function_hash: f80c520201b2a38832aece38d0a7ddef<br>Method: _create_predict_inputs<br>Datetime: 2025-08-26 09:11:53.193323<br>Python version: 3.12.11<br>skforecast version: 0.16.0<br>numpy version: 2.1.3<br>pandas version: 2.3.2<br>sklearn version: 1.6.1<br>lightgbm version: 4.6.0<br>Platform: Linux-6.11.0-1018-azure-x86_64-with-glibc2.39<br>Processor: x86_64<br>CPU count: 4<br>Memory (GB): 16.77<br>Run time avg: 0.002274 s<br>Run time median: 0.002255 s<br>Run time p95: 0.002347 s<br>Run time std: 0.000071 s<br>Nº repeats: 30"
         ],
         "type": "scatter",
         "visible": false,
         "x": {
          "bdata": "2cHQuPG98D8gSSdanbvwP6/owF8OBPA/jEGHPeGx8D8=",
          "dtype": "f8"
         },
         "y": {
          "bdata": "iYgAjd+GYj+rqtj3m+piP2ZmvlN/jmI/VVWZHmqgYj8=",
          "dtype": "f8"
         }
        },
        {
         "error_y": {
          "array": {
           "bdata": "RSf7gmGUED/we57cRP0WP6dsc1xZIBQ/Jt6h7rllFT8Nk1ZFuCAJPw==",
           "dtype": "f8"
          },
          "color": "#00CC96",
          "thickness": 1.5,
          "type": "data",
          "visible": true,
          "width": 5
         },
         "hovertemplate": "%{text}<extra></extra>",
         "marker": {
          "color": "#00CC96",
          "line": {
           "color": "white",
           "width": 1
          },
          "opacity": 0.85,
          "size": 10
         },
         "mode": "markers",
         "text": [
          "Forecaster: ForecasterDirect<br>Regressor: DummyRegressor<br>Function: ForecasterDirect__create_predict_inputs<br>Function_hash: f80c520201b2a38832aece38d0a7ddef<br>Method: _create_predict_inputs<br>Datetime: 2025-08-26 07:07:49.278617<br>Python version: 3.12.11<br>skforecast version: 0.17.0<br>numpy version: 2.1.3<br>pandas version: 2.3.2<br>sklearn version: 1.6.1<br>lightgbm version: 4.6.0<br>Platform: Linux-6.11.0-1018-azure-x86_64-with-glibc2.39<br>Processor: x86_64<br>CPU count: 4<br>Memory (GB): 16.77<br>Run time avg: 0.002215 s<br>Run time median: 0.002191 s<br>Run time p95: 0.002342 s<br>Run time std: 0.000063 s<br>Nº repeats: 30",
          "Forecaster: ForecasterDirect<br>Regressor: DummyRegressor<br>Function: ForecasterDirect__create_predict_inputs<br>Function_hash: f80c520201b2a38832aece38d0a7ddef<br>Method: _create_predict_inputs<br>Datetime: 2025-08-26 07:20:49.251411<br>Python version: 3.12.11<br>skforecast version: 0.17.0<br>numpy version: 2.1.3<br>pandas version: 2.3.2<br>sklearn version: 1.6.1<br>lightgbm version: 4.6.0<br>Platform: Linux-6.11.0-1018-azure-x86_64-with-glibc2.39<br>Processor: x86_64<br>CPU count: 4<br>Memory (GB): 16.77<br>Run time avg: 0.002250 s<br>Run time median: 0.002222 s<br>Run time p95: 0.002388 s<br>Run time std: 0.000088 s<br>Nº repeats: 30",
          "Forecaster: ForecasterDirect<br>Regressor: DummyRegressor<br>Function: ForecasterDirect__create_predict_inputs<br>Function_hash: f80c520201b2a38832aece38d0a7ddef<br>Method: _create_predict_inputs<br>Datetime: 2025-08-26 07:39:15.912782<br>Python version: 3.12.11<br>skforecast version: 0.17.0<br>numpy version: 2.1.3<br>pandas version: 2.3.2<br>sklearn version: 1.6.1<br>lightgbm version: 4.6.0<br>Platform: Linux-6.11.0-1018-azure-x86_64-with-glibc2.39<br>Processor: x86_64<br>CPU count: 4<br>Memory (GB): 16.77<br>Run time avg: 0.002274 s<br>Run time median: 0.002258 s<br>Run time p95: 0.002391 s<br>Run time std: 0.000077 s<br>Nº repeats: 30",
          "Forecaster: ForecasterDirect<br>Regressor: DummyRegressor<br>Function: ForecasterDirect__create_predict_inputs<br>Function_hash: f80c520201b2a38832aece38d0a7ddef<br>Method: _create_predict_inputs<br>Datetime: 2025-08-26 07:52:00.579808<br>Python version: 3.12.11<br>skforecast version: 0.17.0<br>numpy version: 2.1.3<br>pandas version: 2.3.2<br>sklearn version: 1.6.1<br>lightgbm version: 4.6.0<br>Platform: Linux-6.11.0-1018-azure-x86_64-with-glibc2.39<br>Processor: x86_64<br>CPU count: 4<br>Memory (GB): 16.77<br>Run time avg: 0.002263 s<br>Run time median: 0.002229 s<br>Run time p95: 0.002394 s<br>Run time std: 0.000082 s<br>Nº repeats: 30",
          "Forecaster: ForecasterDirect<br>Regressor: DummyRegressor<br>Function: ForecasterDirect__create_predict_inputs<br>Function_hash: f80c520201b2a38832aece38d0a7ddef<br>Method: _create_predict_inputs<br>Datetime: 2025-08-26 08:17:56.171641<br>Python version: 3.12.11<br>skforecast version: 0.17.0<br>numpy version: 2.1.3<br>pandas version: 2.3.2<br>sklearn version: 1.6.1<br>lightgbm version: 4.6.0<br>Platform: Linux-6.11.0-1018-azure-x86_64-with-glibc2.39<br>Processor: x86_64<br>CPU count: 4<br>Memory (GB): 16.77<br>Run time avg: 0.002238 s<br>Run time median: 0.002226 s<br>Run time p95: 0.002303 s<br>Run time std: 0.000048 s<br>Nº repeats: 30"
         ],
         "type": "scatter",
         "visible": false,
         "x": {
          "bdata": "lDZCPn4IAEBF2I2Hyfv/Px40qkRvRABAB0Xn77wDAEAgmp0btZX/Pw==",
          "dtype": "f8"
         },
         "y": {
          "bdata": "d3f3hl4kYj/NzE50c29iP7y7T0vdoWI/REQSCdKIYj9VVQFnIlZiPw==",
          "dtype": "f8"
         }
        },
        {
         "error_y": {
          "array": {
           "bdata": "RZz21NEZDT+QULXg72cUPzVgjrAjTxM/enzAbIVwCT8=",
           "dtype": "f8"
          },
          "color": "#636EFA",
          "thickness": 1.5,
          "type": "data",
          "visible": true,
          "width": 5
         },
         "hovertemplate": "%{text}<extra></extra>",
         "marker": {
          "color": "#636EFA",
          "line": {
           "color": "white",
           "width": 1
          },
          "opacity": 0.85,
          "size": 10
         },
         "mode": "markers",
         "text": [
          "Forecaster: ForecasterDirect<br>Regressor: DummyRegressor<br>Function: ForecasterDirect_predict<br>Function_hash: fc3b087be67f864a8a89388821503384<br>Method: predict<br>Datetime: 2025-08-26 09:26:38.448514<br>Python version: 3.12.11<br>skforecast version: 0.15.1<br>numpy version: 2.1.3<br>pandas version: 2.3.2<br>sklearn version: 1.6.1<br>lightgbm version: 4.6.0<br>Platform: Linux-6.11.0-1018-azure-x86_64-with-glibc2.39<br>Processor: x86_64<br>CPU count: 4<br>Memory (GB): 16.77<br>Run time avg: 0.003271 s<br>Run time median: 0.003260 s<br>Run time p95: 0.003342 s<br>Run time std: 0.000056 s<br>Nº repeats: 30",
          "Forecaster: ForecasterDirect<br>Regressor: DummyRegressor<br>Function: ForecasterDirect_predict<br>Function_hash: fc3b087be67f864a8a89388821503384<br>Method: predict<br>Datetime: 2025-08-26 09:42:57.722347<br>Python version: 3.12.11<br>skforecast version: 0.15.1<br>numpy version: 2.1.3<br>pandas version: 2.3.2<br>sklearn version: 1.6.1<br>lightgbm version: 4.6.0<br>Platform: Linux-6.11.0-1018-azure-x86_64-with-glibc2.39<br>Processor: x86_64<br>CPU count: 4<br>Memory (GB): 16.77<br>Run time avg: 0.003293 s<br>Run time median: 0.003261 s<br>Run time p95: 0.003477 s<br>Run time std: 0.000078 s<br>Nº repeats: 30",
          "Forecaster: ForecasterDirect<br>Regressor: DummyRegressor<br>Function: ForecasterDirect_predict<br>Function_hash: fc3b087be67f864a8a89388821503384<br>Method: predict<br>Datetime: 2025-08-26 09:55:38.596626<br>Python version: 3.12.11<br>skforecast version: 0.15.1<br>numpy version: 2.1.3<br>pandas version: 2.3.2<br>sklearn version: 1.6.1<br>lightgbm version: 4.6.0<br>Platform: Linux-6.11.0-1018-azure-x86_64-with-glibc2.39<br>Processor: x86_64<br>CPU count: 4<br>Memory (GB): 16.77<br>Run time avg: 0.003248 s<br>Run time median: 0.003228 s<br>Run time p95: 0.003303 s<br>Run time std: 0.000074 s<br>Nº repeats: 30",
          "Forecaster: ForecasterDirect<br>Regressor: DummyRegressor<br>Function: ForecasterDirect_predict<br>Function_hash: fc3b087be67f864a8a89388821503384<br>Method: predict<br>Datetime: 2025-08-26 10:19:09.042313<br>Python version: 3.12.11<br>skforecast version: 0.15.1<br>numpy version: 2.1.3<br>pandas version: 2.3.2<br>sklearn version: 1.6.1<br>lightgbm version: 4.6.0<br>Platform: Linux-6.11.0-1018-azure-x86_64-with-glibc2.39<br>Processor: x86_64<br>CPU count: 4<br>Memory (GB): 16.77<br>Run time avg: 0.003239 s<br>Run time median: 0.003228 s<br>Run time p95: 0.003329 s<br>Run time std: 0.000049 s<br>Nº repeats: 30"
         ],
         "type": "scatter",
         "visible": false,
         "x": {
          "bdata": "oPg3sq4xZ78IMuRKF5ikv2gDoYhdWaM/x7VOV2kVmL8=",
          "dtype": "f8"
         },
         "y": {
          "bdata": "IiJ2mnPMaj+ame9dKPlqP+/unMo5nGo/ZmZOVZWIaj8=",
          "dtype": "f8"
         }
        },
        {
         "error_y": {
          "array": {
           "bdata": "OwJoh2k6Fz+v4h35o1QHP2l3RcQ8cw8/OhrXJmhxBD8=",
           "dtype": "f8"
          },
          "color": "#EF553B",
          "thickness": 1.5,
          "type": "data",
          "visible": true,
          "width": 5
         },
         "hovertemplate": "%{text}<extra></extra>",
         "marker": {
          "color": "#EF553B",
          "line": {
           "color": "white",
           "width": 1
          },
          "opacity": 0.85,
          "size": 10
         },
         "mode": "markers",
         "text": [
          "Forecaster: ForecasterDirect<br>Regressor: DummyRegressor<br>Function: ForecasterDirect_predict<br>Function_hash: fc3b087be67f864a8a89388821503384<br>Method: predict<br>Datetime: 2025-08-26 08:37:16.041742<br>Python version: 3.12.11<br>skforecast version: 0.16.0<br>numpy version: 2.1.3<br>pandas version: 2.3.2<br>sklearn version: 1.6.1<br>lightgbm version: 4.6.0<br>Platform: Linux-6.11.0-1018-azure-x86_64-with-glibc2.39<br>Processor: x86_64<br>CPU count: 4<br>Memory (GB): 16.77<br>Run time avg: 0.002728 s<br>Run time median: 0.002709 s<br>Run time p95: 0.002842 s<br>Run time std: 0.000089 s<br>Nº repeats: 30",
          "Forecaster: ForecasterDirect<br>Regressor: DummyRegressor<br>Function: ForecasterDirect_predict<br>Function_hash: fc3b087be67f864a8a89388821503384<br>Method: predict<br>Datetime: 2025-08-26 08:46:57.679551<br>Python version: 3.12.11<br>skforecast version: 0.16.0<br>numpy version: 2.1.3<br>pandas version: 2.3.2<br>sklearn version: 1.6.1<br>lightgbm version: 4.6.0<br>Platform: Linux-6.11.0-1018-azure-x86_64-with-glibc2.39<br>Processor: x86_64<br>CPU count: 4<br>Memory (GB): 16.77<br>Run time avg: 0.002712 s<br>Run time median: 0.002701 s<br>Run time p95: 0.002753 s<br>Run time std: 0.000044 s<br>Nº repeats: 30",
          "Forecaster: ForecasterDirect<br>Regressor: DummyRegressor<br>Function: ForecasterDirect_predict<br>Function_hash: fc3b087be67f864a8a89388821503384<br>Method: predict<br>Datetime: 2025-08-26 09:01:15.136493<br>Python version: 3.12.11<br>skforecast version: 0.16.0<br>numpy version: 2.1.3<br>pandas version: 2.3.2<br>sklearn version: 1.6.1<br>lightgbm version: 4.6.0<br>Platform: Linux-6.11.0-1018-azure-x86_64-with-glibc2.39<br>Processor: x86_64<br>CPU count: 4<br>Memory (GB): 16.77<br>Run time avg: 0.002715 s<br>Run time median: 0.002693 s<br>Run time p95: 0.002853 s<br>Run time std: 0.000060 s<br>Nº repeats: 30",
          "Forecaster: ForecasterDirect<br>Regressor: DummyRegressor<br>Function: ForecasterDirect_predict<br>Function_hash: fc3b087be67f864a8a89388821503384<br>Method: predict<br>Datetime: 2025-08-26 09:11:53.279901<br>Python version: 3.12.11<br>skforecast version: 0.16.0<br>numpy version: 2.1.3<br>pandas version: 2.3.2<br>sklearn version: 1.6.1<br>lightgbm version: 4.6.0<br>Platform: Linux-6.11.0-1018-azure-x86_64-with-glibc2.39<br>Processor: x86_64<br>CPU count: 4<br>Memory (GB): 16.77<br>Run time avg: 0.002725 s<br>Run time median: 0.002710 s<br>Run time p95: 0.002785 s<br>Run time std: 0.000039 s<br>Nº repeats: 30"
         ],
         "type": "scatter",
         "visible": false,
         "x": {
          "bdata": "sNYj9oes7j/57JHwiDPvP8NA1j7b4O4/E3yNi5jo7z8=",
          "dtype": "f8"
         },
         "y": {
          "bdata": "zcywhf5ZZj/v7qKvUzhmP0REJKqpPWY/REQIjOlRZj8=",
          "dtype": "f8"
         }
        },
        {
         "error_y": {
          "array": {
           "bdata": "VRpz6Mi0Bz/0lFOUcBcCP+Nu1iJNMhQ/8B/j5AsnCT8zfxszYY0FPw==",
           "dtype": "f8"
          },
          "color": "#00CC96",
          "thickness": 1.5,
          "type": "data",
          "visible": true,
          "width": 5
         },
         "hovertemplate": "%{text}<extra></extra>",
         "marker": {
          "color": "#00CC96",
          "line": {
           "color": "white",
           "width": 1
          },
          "opacity": 0.85,
          "size": 10
         },
         "mode": "markers",
         "text": [
          "Forecaster: ForecasterDirect<br>Regressor: DummyRegressor<br>Function: ForecasterDirect_predict<br>Function_hash: fc3b087be67f864a8a89388821503384<br>Method: predict<br>Datetime: 2025-08-26 07:07:49.362136<br>Python version: 3.12.11<br>skforecast version: 0.17.0<br>numpy version: 2.1.3<br>pandas version: 2.3.2<br>sklearn version: 1.6.1<br>lightgbm version: 4.6.0<br>Platform: Linux-6.11.0-1018-azure-x86_64-with-glibc2.39<br>Processor: x86_64<br>CPU count: 4<br>Memory (GB): 16.77<br>Run time avg: 0.002651 s<br>Run time median: 0.002638 s<br>Run time p95: 0.002695 s<br>Run time std: 0.000045 s<br>Nº repeats: 30",
          "Forecaster: ForecasterDirect<br>Regressor: DummyRegressor<br>Function: ForecasterDirect_predict<br>Function_hash: fc3b087be67f864a8a89388821503384<br>Method: predict<br>Datetime: 2025-08-26 07:20:49.336893<br>Python version: 3.12.11<br>skforecast version: 0.17.0<br>numpy version: 2.1.3<br>pandas version: 2.3.2<br>sklearn version: 1.6.1<br>lightgbm version: 4.6.0<br>Platform: Linux-6.11.0-1018-azure-x86_64-with-glibc2.39<br>Processor: x86_64<br>CPU count: 4<br>Memory (GB): 16.77<br>Run time avg: 0.002715 s<br>Run time median: 0.002708 s<br>Run time p95: 0.002772 s<br>Run time std: 0.000035 s<br>Nº repeats: 30",
          "Forecaster: ForecasterDirect<br>Regressor: DummyRegressor<br>Function: ForecasterDirect_predict<br>Function_hash: fc3b087be67f864a8a89388821503384<br>Method: predict<br>Datetime: 2025-08-26 07:39:15.999850<br>Python version: 3.12.11<br>skforecast version: 0.17.0<br>numpy version: 2.1.3<br>pandas version: 2.3.2<br>sklearn version: 1.6.1<br>lightgbm version: 4.6.0<br>Platform: Linux-6.11.0-1018-azure-x86_64-with-glibc2.39<br>Processor: x86_64<br>CPU count: 4<br>Memory (GB): 16.77<br>Run time avg: 0.002749 s<br>Run time median: 0.002729 s<br>Run time p95: 0.002911 s<br>Run time std: 0.000077 s<br>Nº repeats: 30",
          "Forecaster: ForecasterDirect<br>Regressor: DummyRegressor<br>Function: ForecasterDirect_predict<br>Function_hash: fc3b087be67f864a8a89388821503384<br>Method: predict<br>Datetime: 2025-08-26 07:52:00.665132<br>Python version: 3.12.11<br>skforecast version: 0.17.0<br>numpy version: 2.1.3<br>pandas version: 2.3.2<br>sklearn version: 1.6.1<br>lightgbm version: 4.6.0<br>Platform: Linux-6.11.0-1018-azure-x86_64-with-glibc2.39<br>Processor: x86_64<br>CPU count: 4<br>Memory (GB): 16.77<br>Run time avg: 0.002685 s<br>Run time median: 0.002676 s<br>Run time p95: 0.002741 s<br>Run time std: 0.000048 s<br>Nº repeats: 30",
          "Forecaster: ForecasterDirect<br>Regressor: DummyRegressor<br>Function: ForecasterDirect_predict<br>Function_hash: fc3b087be67f864a8a89388821503384<br>Method: predict<br>Datetime: 2025-08-26 08:17:56.255868<br>Python version: 3.12.11<br>skforecast version: 0.17.0<br>numpy version: 2.1.3<br>pandas version: 2.3.2<br>sklearn version: 1.6.1<br>lightgbm version: 4.6.0<br>Platform: Linux-6.11.0-1018-azure-x86_64-with-glibc2.39<br>Processor: x86_64<br>CPU count: 4<br>Memory (GB): 16.77<br>Run time avg: 0.002672 s<br>Run time median: 0.002663 s<br>Run time p95: 0.002724 s<br>Run time std: 0.000041 s<br>Nº repeats: 30"
         ],
         "type": "scatter",
         "visible": false,
         "x": {
          "bdata": "UN3nk4YeAEB1xSfSMAYAQGLdJ/me/v8/QAGceYXu/z9Z8eyjY0H/Pw==",
          "dtype": "f8"
         },
         "y": {
          "bdata": "VVV1ViC4ZT+rqvZCIT5mP0REomL5hWY/AAB4bWz/ZT+JiGjju+NlPw==",
          "dtype": "f8"
         }
        },
        {
         "error_y": {
          "array": {
           "bdata": "UM9Jh2tuGj+ysp6ECJscPxnE1lC83g8/ezm+AAvnCz8=",
           "dtype": "f8"
          },
          "color": "#636EFA",
          "thickness": 1.5,
          "type": "data",
          "visible": true,
          "width": 5
         },
         "hovertemplate": "%{text}<extra></extra>",
         "marker": {
          "color": "#636EFA",
          "line": {
           "color": "white",
           "width": 1
          },
          "opacity": 0.85,
          "size": 10
         },
         "mode": "markers",
         "text": [
          "Forecaster: ForecasterDirect<br>Regressor: DummyRegressor<br>Function: ForecasterDirect_predict_interval_conformal<br>Function_hash: beb204ab41124bfb000d5311945c806b<br>Method: predict_interval_conformal<br>Datetime: 2025-08-26 09:26:38.569063<br>Python version: 3.12.11<br>skforecast version: 0.15.1<br>numpy version: 2.1.3<br>pandas version: 2.3.2<br>sklearn version: 1.6.1<br>lightgbm version: 4.6.0<br>Platform: Linux-6.11.0-1018-azure-x86_64-with-glibc2.39<br>Processor: x86_64<br>CPU count: 4<br>Memory (GB): 16.77<br>Run time avg: 0.003834 s<br>Run time median: 0.003810 s<br>Run time p95: 0.003963 s<br>Run time std: 0.000101 s<br>Nº repeats: 30",
          "Forecaster: ForecasterDirect<br>Regressor: DummyRegressor<br>Function: ForecasterDirect_predict_interval_conformal<br>Function_hash: beb204ab41124bfb000d5311945c806b<br>Method: predict_interval_conformal<br>Datetime: 2025-08-26 09:42:57.844470<br>Python version: 3.12.11<br>skforecast version: 0.15.1<br>numpy version: 2.1.3<br>pandas version: 2.3.2<br>sklearn version: 1.6.1<br>lightgbm version: 4.6.0<br>Platform: Linux-6.11.0-1018-azure-x86_64-with-glibc2.39<br>Processor: x86_64<br>CPU count: 4<br>Memory (GB): 16.77<br>Run time avg: 0.003890 s<br>Run time median: 0.003851 s<br>Run time p95: 0.004168 s<br>Run time std: 0.000109 s<br>Nº repeats: 30",
          "Forecaster: ForecasterDirect<br>Regressor: DummyRegressor<br>Function: ForecasterDirect_predict_interval_conformal<br>Function_hash: beb204ab41124bfb000d5311945c806b<br>Method: predict_interval_conformal<br>Datetime: 2025-08-26 09:55:38.715706<br>Python version: 3.12.11<br>skforecast version: 0.15.1<br>numpy version: 2.1.3<br>pandas version: 2.3.2<br>sklearn version: 1.6.1<br>lightgbm version: 4.6.0<br>Platform: Linux-6.11.0-1018-azure-x86_64-with-glibc2.39<br>Processor: x86_64<br>CPU count: 4<br>Memory (GB): 16.77<br>Run time avg: 0.003784 s<br>Run time median: 0.003765 s<br>Run time p95: 0.003905 s<br>Run time std: 0.000061 s<br>Nº repeats: 30",
          "Forecaster: ForecasterDirect<br>Regressor: DummyRegressor<br>Function: ForecasterDirect_predict_interval_conformal<br>Function_hash: beb204ab41124bfb000d5311945c806b<br>Method: predict_interval_conformal<br>Datetime: 2025-08-26 10:19:09.160045<br>Python version: 3.12.11<br>skforecast version: 0.15.1<br>numpy version: 2.1.3<br>pandas version: 2.3.2<br>sklearn version: 1.6.1<br>lightgbm version: 4.6.0<br>Platform: Linux-6.11.0-1018-azure-x86_64-with-glibc2.39<br>Processor: x86_64<br>CPU count: 4<br>Memory (GB): 16.77<br>Run time avg: 0.003763 s<br>Run time median: 0.003750 s<br>Run time p95: 0.003829 s<br>Run time std: 0.000053 s<br>Nº repeats: 30"
         ],
         "type": "scatter",
         "visible": false,
         "x": {
          "bdata": "KJgnBj4Ykj8GvFFQe+CmP6Qk62Qqe54/yt62X09hpD8=",
          "dtype": "f8"
         },
         "y": {
          "bdata": "REQsflxobz+rqhTUb95vP2Zmbt6e/24/zcwsyPnSbj8=",
          "dtype": "f8"
         }
        },
        {
         "error_y": {
          "array": {
           "bdata": "9RXkSPJkDD+h3eScHdsIPwuavxHfyQQ/YXS3YDnlED8=",
           "dtype": "f8"
          },
          "color": "#EF553B",
          "thickness": 1.5,
          "type": "data",
          "visible": true,
          "width": 5
         },
         "hovertemplate": "%{text}<extra></extra>",
         "marker": {
          "color": "#EF553B",
          "line": {
           "color": "white",
           "width": 1
          },
          "opacity": 0.85,
          "size": 10
         },
         "mode": "markers",
         "text": [
          "Forecaster: ForecasterDirect<br>Regressor: DummyRegressor<br>Function: ForecasterDirect_predict_interval_conformal<br>Function_hash: beb204ab41124bfb000d5311945c806b<br>Method: predict_interval_conformal<br>Datetime: 2025-08-26 08:37:16.144561<br>Python version: 3.12.11<br>skforecast version: 0.16.0<br>numpy version: 2.1.3<br>pandas version: 2.3.2<br>sklearn version: 1.6.1<br>lightgbm version: 4.6.0<br>Platform: Linux-6.11.0-1018-azure-x86_64-with-glibc2.39<br>Processor: x86_64<br>CPU count: 4<br>Memory (GB): 16.77<br>Run time avg: 0.003267 s<br>Run time median: 0.003252 s<br>Run time p95: 0.003343 s<br>Run time std: 0.000054 s<br>Nº repeats: 30",
          "Forecaster: ForecasterDirect<br>Regressor: DummyRegressor<br>Function: ForecasterDirect_predict_interval_conformal<br>Function_hash: beb204ab41124bfb000d5311945c806b<br>Method: predict_interval_conformal<br>Datetime: 2025-08-26 08:46:57.780938<br>Python version: 3.12.11<br>skforecast version: 0.16.0<br>numpy version: 2.1.3<br>pandas version: 2.3.2<br>sklearn version: 1.6.1<br>lightgbm version: 4.6.0<br>Platform: Linux-6.11.0-1018-azure-x86_64-with-glibc2.39<br>Processor: x86_64<br>CPU count: 4<br>Memory (GB): 16.77<br>Run time avg: 0.003237 s<br>Run time median: 0.003230 s<br>Run time p95: 0.003308 s<br>Run time std: 0.000047 s<br>Nº repeats: 30",
          "Forecaster: ForecasterDirect<br>Regressor: DummyRegressor<br>Function: ForecasterDirect_predict_interval_conformal<br>Function_hash: beb204ab41124bfb000d5311945c806b<br>Method: predict_interval_conformal<br>Datetime: 2025-08-26 09:01:15.237681<br>Python version: 3.12.11<br>skforecast version: 0.16.0<br>numpy version: 2.1.3<br>pandas version: 2.3.2<br>sklearn version: 1.6.1<br>lightgbm version: 4.6.0<br>Platform: Linux-6.11.0-1018-azure-x86_64-with-glibc2.39<br>Processor: x86_64<br>CPU count: 4<br>Memory (GB): 16.77<br>Run time avg: 0.003228 s<br>Run time median: 0.003217 s<br>Run time p95: 0.003273 s<br>Run time std: 0.000040 s<br>Nº repeats: 30",
          "Forecaster: ForecasterDirect<br>Regressor: DummyRegressor<br>Function: ForecasterDirect_predict_interval_conformal<br>Function_hash: beb204ab41124bfb000d5311945c806b<br>Method: predict_interval_conformal<br>Datetime: 2025-08-26 09:11:53.383649<br>Python version: 3.12.11<br>skforecast version: 0.16.0<br>numpy version: 2.1.3<br>pandas version: 2.3.2<br>sklearn version: 1.6.1<br>lightgbm version: 4.6.0<br>Platform: Linux-6.11.0-1018-azure-x86_64-with-glibc2.39<br>Processor: x86_64<br>CPU count: 4<br>Memory (GB): 16.77<br>Run time avg: 0.003294 s<br>Run time median: 0.003280 s<br>Run time p95: 0.003413 s<br>Run time std: 0.000064 s<br>Nº repeats: 30"
         ],
         "type": "scatter",
         "visible": false,
         "x": {
          "bdata": "igq8menG7j/2DfbDUhvwP4V0QHd8F/A/vcVrFCSg8D8=",
          "dtype": "f8"
         },
         "y": {
          "bdata": "mpkr9cPCaj+rqjYF+INqPwAAiIBRcWo/d3cdbG37aj8=",
          "dtype": "f8"
         }
        },
        {
         "error_y": {
          "array": {
           "bdata": "gva+eJDtOT+Jg6pVGp4GP0x+MB9DFRQ/H26x+pkuCj/mAsYt8YIaPw==",
           "dtype": "f8"
          },
          "color": "#00CC96",
          "thickness": 1.5,
          "type": "data",
          "visible": true,
          "width": 5
         },
         "hovertemplate": "%{text}<extra></extra>",
         "marker": {
          "color": "#00CC96",
          "line": {
           "color": "white",
           "width": 1
          },
          "opacity": 0.85,
          "size": 10
         },
         "mode": "markers",
         "text": [
          "Forecaster: ForecasterDirect<br>Regressor: DummyRegressor<br>Function: ForecasterDirect_predict_interval_conformal<br>Function_hash: beb204ab41124bfb000d5311945c806b<br>Method: predict_interval_conformal<br>Datetime: 2025-08-26 07:07:49.465040<br>Python version: 3.12.11<br>skforecast version: 0.17.0<br>numpy version: 2.1.3<br>pandas version: 2.3.2<br>sklearn version: 1.6.1<br>lightgbm version: 4.6.0<br>Platform: Linux-6.11.0-1018-azure-x86_64-with-glibc2.39<br>Processor: x86_64<br>CPU count: 4<br>Memory (GB): 16.77<br>Run time avg: 0.003300 s<br>Run time median: 0.003215 s<br>Run time p95: 0.003362 s<br>Run time std: 0.000396 s<br>Nº repeats: 30",
          "Forecaster: ForecasterDirect<br>Regressor: DummyRegressor<br>Function: ForecasterDirect_predict_interval_conformal<br>Function_hash: beb204ab41124bfb000d5311945c806b<br>Method: predict_interval_conformal<br>Datetime: 2025-08-26 07:20:49.438828<br>Python version: 3.12.11<br>skforecast version: 0.17.0<br>numpy version: 2.1.3<br>pandas version: 2.3.2<br>sklearn version: 1.6.1<br>lightgbm version: 4.6.0<br>Platform: Linux-6.11.0-1018-azure-x86_64-with-glibc2.39<br>Processor: x86_64<br>CPU count: 4<br>Memory (GB): 16.77<br>Run time avg: 0.003268 s<br>Run time median: 0.003261 s<br>Run time p95: 0.003313 s<br>Run time std: 0.000043 s<br>Nº repeats: 30",
          "Forecaster: ForecasterDirect<br>Regressor: DummyRegressor<br>Function: ForecasterDirect_predict_interval_conformal<br>Function_hash: beb204ab41124bfb000d5311945c806b<br>Method: predict_interval_conformal<br>Datetime: 2025-08-26 07:39:16.102815<br>Python version: 3.12.11<br>skforecast version: 0.17.0<br>numpy version: 2.1.3<br>pandas version: 2.3.2<br>sklearn version: 1.6.1<br>lightgbm version: 4.6.0<br>Platform: Linux-6.11.0-1018-azure-x86_64-with-glibc2.39<br>Processor: x86_64<br>CPU count: 4<br>Memory (GB): 16.77<br>Run time avg: 0.003281 s<br>Run time median: 0.003261 s<br>Run time p95: 0.003410 s<br>Run time std: 0.000077 s<br>Nº repeats: 30",
          "Forecaster: ForecasterDirect<br>Regressor: DummyRegressor<br>Function: ForecasterDirect_predict_interval_conformal<br>Function_hash: beb204ab41124bfb000d5311945c806b<br>Method: predict_interval_conformal<br>Datetime: 2025-08-26 07:52:00.766409<br>Python version: 3.12.11<br>skforecast version: 0.17.0<br>numpy version: 2.1.3<br>pandas version: 2.3.2<br>sklearn version: 1.6.1<br>lightgbm version: 4.6.0<br>Platform: Linux-6.11.0-1018-azure-x86_64-with-glibc2.39<br>Processor: x86_64<br>CPU count: 4<br>Memory (GB): 16.77<br>Run time avg: 0.003223 s<br>Run time median: 0.003209 s<br>Run time p95: 0.003290 s<br>Run time std: 0.000050 s<br>Nº repeats: 30",
          "Forecaster: ForecasterDirect<br>Regressor: DummyRegressor<br>Function: ForecasterDirect_predict_interval_conformal<br>Function_hash: beb204ab41124bfb000d5311945c806b<br>Method: predict_interval_conformal<br>Datetime: 2025-08-26 08:17:56.357836<br>Python version: 3.12.11<br>skforecast version: 0.17.0<br>numpy version: 2.1.3<br>pandas version: 2.3.2<br>sklearn version: 1.6.1<br>lightgbm version: 4.6.0<br>Platform: Linux-6.11.0-1018-azure-x86_64-with-glibc2.39<br>Processor: x86_64<br>CPU count: 4<br>Memory (GB): 16.77<br>Run time avg: 0.003260 s<br>Run time median: 0.003230 s<br>Run time p95: 0.003374 s<br>Run time std: 0.000101 s<br>Nº repeats: 30"
         ],
         "type": "scatter",
         "visible": false,
         "x": {
          "bdata": "AnOEAN9l/z+05SBJ01kAQF6lLVPbXwBA9CJJBa0tAEDPI1THezcAQA==",
          "dtype": "f8"
         },
         "y": {
          "bdata": "MzOLrCcIaz8iIlpk4cRqP83MrAVJ4Wo/vLtnth1oaj9mZg7BorRqPw==",
          "dtype": "f8"
         }
        },
        {
         "error_y": {
          "array": {
           "bdata": "MDXKCxDbRj8hj4yqkRt0P8IlxhN70EU/pn1Dg1CsUD8=",
           "dtype": "f8"
          },
          "color": "#636EFA",
          "thickness": 1.5,
          "type": "data",
          "visible": true,
          "width": 5
         },
         "hovertemplate": "%{text}<extra></extra>",
         "marker": {
          "color": "#636EFA",
          "line": {
           "color": "white",
           "width": 1
          },
          "opacity": 0.85,
          "size": 10
         },
         "mode": "markers",
         "text": [
          "Forecaster: ForecasterDirect<br>Regressor: DummyRegressor<br>Function: ForecasterDirect_backtesting<br>Function_hash: d0089d4cd16b54bfb8b05d3d1bd59340<br>Method: backtesting<br>Datetime: 2025-08-26 09:26:39.950959<br>Python version: 3.12.11<br>skforecast version: 0.15.1<br>numpy version: 2.1.3<br>pandas version: 2.3.2<br>sklearn version: 1.6.1<br>lightgbm version: 4.6.0<br>Platform: Linux-6.11.0-1018-azure-x86_64-with-glibc2.39<br>Processor: x86_64<br>CPU count: 4<br>Memory (GB): 16.77<br>Run time avg: 0.275254 s<br>Run time median: 0.275051 s<br>Run time p95: 0.276309 s<br>Run time std: 0.000698 s<br>Nº repeats: 5",
          "Forecaster: ForecasterDirect<br>Regressor: DummyRegressor<br>Function: ForecasterDirect_backtesting<br>Function_hash: d0089d4cd16b54bfb8b05d3d1bd59340<br>Method: backtesting<br>Datetime: 2025-08-26 09:42:59.263393<br>Python version: 3.12.11<br>skforecast version: 0.15.1<br>numpy version: 2.1.3<br>pandas version: 2.3.2<br>sklearn version: 1.6.1<br>lightgbm version: 4.6.0<br>Platform: Linux-6.11.0-1018-azure-x86_64-with-glibc2.39<br>Processor: x86_64<br>CPU count: 4<br>Memory (GB): 16.77<br>Run time avg: 0.282630 s<br>Run time median: 0.281985 s<br>Run time p95: 0.289132 s<br>Run time std: 0.004909 s<br>Nº repeats: 5",
          "Forecaster: ForecasterDirect<br>Regressor: DummyRegressor<br>Function: ForecasterDirect_backtesting<br>Function_hash: d0089d4cd16b54bfb8b05d3d1bd59340<br>Method: backtesting<br>Datetime: 2025-08-26 09:55:40.094514<br>Python version: 3.12.11<br>skforecast version: 0.15.1<br>numpy version: 2.1.3<br>pandas version: 2.3.2<br>sklearn version: 1.6.1<br>lightgbm version: 4.6.0<br>Platform: Linux-6.11.0-1018-azure-x86_64-with-glibc2.39<br>Processor: x86_64<br>CPU count: 4<br>Memory (GB): 16.77<br>Run time avg: 0.274660 s<br>Run time median: 0.274387 s<br>Run time p95: 0.275677 s<br>Run time std: 0.000666 s<br>Nº repeats: 5",
          "Forecaster: ForecasterDirect<br>Regressor: DummyRegressor<br>Function: ForecasterDirect_backtesting<br>Function_hash: d0089d4cd16b54bfb8b05d3d1bd59340<br>Method: backtesting<br>Datetime: 2025-08-26 10:19:10.529952<br>Python version: 3.12.11<br>skforecast version: 0.15.1<br>numpy version: 2.1.3<br>pandas version: 2.3.2<br>sklearn version: 1.6.1<br>lightgbm version: 4.6.0<br>Platform: Linux-6.11.0-1018-azure-x86_64-with-glibc2.39<br>Processor: x86_64<br>CPU count: 4<br>Memory (GB): 16.77<br>Run time avg: 0.272893 s<br>Run time median: 0.272449 s<br>Run time p95: 0.274426 s<br>Run time std: 0.001018 s<br>Nº repeats: 5"
         ],
         "type": "scatter",
         "visible": false,
         "x": {
          "bdata": "ihv8I4KGoT9A5hHPep6ov5i67Nl2C5c/5nK+z4hFqD8=",
          "dtype": "f8"
         },
         "y": {
          "bdata": "ZuZ/TMOd0T/N1OM6nRbSP5rZf0UIlNE/ZkYihxN30T8=",
          "dtype": "f8"
         }
        },
        {
         "error_y": {
          "array": {
           "bdata": "6H34QXvMQT8fW2qAqxxAP8L8ri/R9Uk/YbXyMDDAQT8=",
           "dtype": "f8"
          },
          "color": "#EF553B",
          "thickness": 1.5,
          "type": "data",
          "visible": true,
          "width": 5
         },
         "hovertemplate": "%{text}<extra></extra>",
         "marker": {
          "color": "#EF553B",
          "line": {
           "color": "white",
           "width": 1
          },
          "opacity": 0.85,
          "size": 10
         },
         "mode": "markers",
         "text": [
          "Forecaster: ForecasterDirect<br>Regressor: DummyRegressor<br>Function: ForecasterDirect_backtesting<br>Function_hash: d0089d4cd16b54bfb8b05d3d1bd59340<br>Method: backtesting<br>Datetime: 2025-08-26 08:37:17.385076<br>Python version: 3.12.11<br>skforecast version: 0.16.0<br>numpy version: 2.1.3<br>pandas version: 2.3.2<br>sklearn version: 1.6.1<br>lightgbm version: 4.6.0<br>Platform: Linux-6.11.0-1018-azure-x86_64-with-glibc2.39<br>Processor: x86_64<br>CPU count: 4<br>Memory (GB): 16.77<br>Run time avg: 0.247158 s<br>Run time median: 0.247054 s<br>Run time p95: 0.247964 s<br>Run time std: 0.000543 s<br>Nº repeats: 5",
          "Forecaster: ForecasterDirect<br>Regressor: DummyRegressor<br>Function: ForecasterDirect_backtesting<br>Function_hash: d0089d4cd16b54bfb8b05d3d1bd59340<br>Method: backtesting<br>Datetime: 2025-08-26 08:46:59.015075<br>Python version: 3.12.11<br>skforecast version: 0.16.0<br>numpy version: 2.1.3<br>pandas version: 2.3.2<br>sklearn version: 1.6.1<br>lightgbm version: 4.6.0<br>Platform: Linux-6.11.0-1018-azure-x86_64-with-glibc2.39<br>Processor: x86_64<br>CPU count: 4<br>Memory (GB): 16.77<br>Run time avg: 0.245935 s<br>Run time median: 0.246079 s<br>Run time p95: 0.246492 s<br>Run time std: 0.000492 s<br>Nº repeats: 5",
          "Forecaster: ForecasterDirect<br>Regressor: DummyRegressor<br>Function: ForecasterDirect_backtesting<br>Function_hash: d0089d4cd16b54bfb8b05d3d1bd59340<br>Method: backtesting<br>Datetime: 2025-08-26 09:01:16.463031<br>Python version: 3.12.11<br>skforecast version: 0.16.0<br>numpy version: 2.1.3<br>pandas version: 2.3.2<br>sklearn version: 1.6.1<br>lightgbm version: 4.6.0<br>Platform: Linux-6.11.0-1018-azure-x86_64-with-glibc2.39<br>Processor: x86_64<br>CPU count: 4<br>Memory (GB): 16.77<br>Run time avg: 0.244186 s<br>Run time median: 0.243834 s<br>Run time p95: 0.245400 s<br>Run time std: 0.000792 s<br>Nº repeats: 5",
          "Forecaster: ForecasterDirect<br>Regressor: DummyRegressor<br>Function: ForecasterDirect_backtesting<br>Function_hash: d0089d4cd16b54bfb8b05d3d1bd59340<br>Method: backtesting<br>Datetime: 2025-08-26 09:11:54.629389<br>Python version: 3.12.11<br>skforecast version: 0.16.0<br>numpy version: 2.1.3<br>pandas version: 2.3.2<br>sklearn version: 1.6.1<br>lightgbm version: 4.6.0<br>Platform: Linux-6.11.0-1018-azure-x86_64-with-glibc2.39<br>Processor: x86_64<br>CPU count: 4<br>Memory (GB): 16.77<br>Run time avg: 0.248106 s<br>Run time median: 0.247855 s<br>Run time p95: 0.248859 s<br>Run time std: 0.000542 s<br>Nº repeats: 5"
         ],
         "type": "scatter",
         "visible": false,
         "x": {
          "bdata": "idT4m1iJ7z/SyMX0QhnwP0DCDyi6H+8/skNpFaJw7j8=",
          "dtype": "f8"
         },
         "y": {
          "bdata": "zQyfNuOizz+a2YlqyHrPP83MZpB/Qc8/M/ORLe3Bzz8=",
          "dtype": "f8"
         }
        },
        {
         "error_y": {
          "array": {
           "bdata": "/PEY70JkPT8f25JippktP8YKYzKMLlM/boQWpVXWTT+qFcYnj7orPw==",
           "dtype": "f8"
          },
          "color": "#00CC96",
          "thickness": 1.5,
          "type": "data",
          "visible": true,
          "width": 5
         },
         "hovertemplate": "%{text}<extra></extra>",
         "marker": {
          "color": "#00CC96",
          "line": {
           "color": "white",
           "width": 1
          },
          "opacity": 0.85,
          "size": 10
         },
         "mode": "markers",
         "text": [
          "Forecaster: ForecasterDirect<br>Regressor: DummyRegressor<br>Function: ForecasterDirect_backtesting<br>Function_hash: d0089d4cd16b54bfb8b05d3d1bd59340<br>Method: backtesting<br>Datetime: 2025-08-26 07:07:50.675766<br>Python version: 3.12.11<br>skforecast version: 0.17.0<br>numpy version: 2.1.3<br>pandas version: 2.3.2<br>sklearn version: 1.6.1<br>lightgbm version: 4.6.0<br>Platform: Linux-6.11.0-1018-azure-x86_64-with-glibc2.39<br>Processor: x86_64<br>CPU count: 4<br>Memory (GB): 16.77<br>Run time avg: 0.241324 s<br>Run time median: 0.241423 s<br>Run time p95: 0.241876 s<br>Run time std: 0.000448 s<br>Nº repeats: 5",
          "Forecaster: ForecasterDirect<br>Regressor: DummyRegressor<br>Function: ForecasterDirect_backtesting<br>Function_hash: d0089d4cd16b54bfb8b05d3d1bd59340<br>Method: backtesting<br>Datetime: 2025-08-26 07:20:50.669513<br>Python version: 3.12.11<br>skforecast version: 0.17.0<br>numpy version: 2.1.3<br>pandas version: 2.3.2<br>sklearn version: 1.6.1<br>lightgbm version: 4.6.0<br>Platform: Linux-6.11.0-1018-azure-x86_64-with-glibc2.39<br>Processor: x86_64<br>CPU count: 4<br>Memory (GB): 16.77<br>Run time avg: 0.245345 s<br>Run time median: 0.245322 s<br>Run time p95: 0.245637 s<br>Run time std: 0.000226 s<br>Nº repeats: 5",
          "Forecaster: ForecasterDirect<br>Regressor: DummyRegressor<br>Function: ForecasterDirect_backtesting<br>Function_hash: d0089d4cd16b54bfb8b05d3d1bd59340<br>Method: backtesting<br>Datetime: 2025-08-26 07:39:17.349490<br>Python version: 3.12.11<br>skforecast version: 0.17.0<br>numpy version: 2.1.3<br>pandas version: 2.3.2<br>sklearn version: 1.6.1<br>lightgbm version: 4.6.0<br>Platform: Linux-6.11.0-1018-azure-x86_64-with-glibc2.39<br>Processor: x86_64<br>CPU count: 4<br>Memory (GB): 16.77<br>Run time avg: 0.248399 s<br>Run time median: 0.248166 s<br>Run time p95: 0.250162 s<br>Run time std: 0.001171 s<br>Nº repeats: 5",
          "Forecaster: ForecasterDirect<br>Regressor: DummyRegressor<br>Function: ForecasterDirect_backtesting<br>Function_hash: d0089d4cd16b54bfb8b05d3d1bd59340<br>Method: backtesting<br>Datetime: 2025-08-26 07:52:01.992523<br>Python version: 3.12.11<br>skforecast version: 0.17.0<br>numpy version: 2.1.3<br>pandas version: 2.3.2<br>sklearn version: 1.6.1<br>lightgbm version: 4.6.0<br>Platform: Linux-6.11.0-1018-azure-x86_64-with-glibc2.39<br>Processor: x86_64<br>CPU count: 4<br>Memory (GB): 16.77<br>Run time avg: 0.244292 s<br>Run time median: 0.244733 s<br>Run time p95: 0.244906 s<br>Run time std: 0.000911 s<br>Nº repeats: 5",
          "Forecaster: ForecasterDirect<br>Regressor: DummyRegressor<br>Function: ForecasterDirect_backtesting<br>Function_hash: d0089d4cd16b54bfb8b05d3d1bd59340<br>Method: backtesting<br>Datetime: 2025-08-26 08:17:57.584431<br>Python version: 3.12.11<br>skforecast version: 0.17.0<br>numpy version: 2.1.3<br>pandas version: 2.3.2<br>sklearn version: 1.6.1<br>lightgbm version: 4.6.0<br>Platform: Linux-6.11.0-1018-azure-x86_64-with-glibc2.39<br>Processor: x86_64<br>CPU count: 4<br>Memory (GB): 16.77<br>Run time avg: 0.244385 s<br>Run time median: 0.244317 s<br>Run time p95: 0.244705 s<br>Run time std: 0.000212 s<br>Nº repeats: 5"
         ],
         "type": "scatter",
         "visible": false,
         "x": {
          "bdata": "K1+yHHE5/z+KE2Ljh8X/P7GRl7b8nP8/Nym4gALX/z/YFX+nfDgAQA==",
          "dtype": "f8"
         },
         "y": {
          "bdata": "ZsZ3YLHjzj9mtorRdGfPP81sxHqJy88/AMCKAvhEzz+auaw0BUjPPw==",
          "dtype": "f8"
         }
        },
        {
         "error_y": {
          "array": {
           "bdata": "bHfMFCmUUz8HVfNWJ4d0PyGAPDM0rVA/ZiYbKJF6Tj8=",
           "dtype": "f8"
          },
          "color": "#636EFA",
          "thickness": 1.5,
          "type": "data",
          "visible": true,
          "width": 5
         },
         "hovertemplate": "%{text}<extra></extra>",
         "marker": {
          "color": "#636EFA",
          "line": {
           "color": "white",
           "width": 1
          },
          "opacity": 0.85,
          "size": 10
         },
         "mode": "markers",
         "text": [
          "Forecaster: ForecasterDirect<br>Regressor: DummyRegressor<br>Function: ForecasterDirect_backtesting_conformal<br>Function_hash: 8bdd8d8e438de0ecc7912f4f83112136<br>Method: backtesting_conformal<br>Datetime: 2025-08-26 09:26:41.564318<br>Python version: 3.12.11<br>skforecast version: 0.15.1<br>numpy version: 2.1.3<br>pandas version: 2.3.2<br>sklearn version: 1.6.1<br>lightgbm version: 4.6.0<br>Platform: Linux-6.11.0-1018-azure-x86_64-with-glibc2.39<br>Processor: x86_64<br>CPU count: 4<br>Memory (GB): 16.77<br>Run time avg: 0.321597 s<br>Run time median: 0.321001 s<br>Run time p95: 0.323253 s<br>Run time std: 0.001195 s<br>Nº repeats: 5",
          "Forecaster: ForecasterDirect<br>Regressor: DummyRegressor<br>Function: ForecasterDirect_backtesting_conformal<br>Function_hash: 8bdd8d8e438de0ecc7912f4f83112136<br>Method: backtesting_conformal<br>Datetime: 2025-08-26 09:43:00.908568<br>Python version: 3.12.11<br>skforecast version: 0.15.1<br>numpy version: 2.1.3<br>pandas version: 2.3.2<br>sklearn version: 1.6.1<br>lightgbm version: 4.6.0<br>Platform: Linux-6.11.0-1018-azure-x86_64-with-glibc2.39<br>Processor: x86_64<br>CPU count: 4<br>Memory (GB): 16.77<br>Run time avg: 0.327959 s<br>Run time median: 0.325095 s<br>Run time p95: 0.335033 s<br>Run time std: 0.005012 s<br>Nº repeats: 5",
          "Forecaster: ForecasterDirect<br>Regressor: DummyRegressor<br>Function: ForecasterDirect_backtesting_conformal<br>Function_hash: 8bdd8d8e438de0ecc7912f4f83112136<br>Method: backtesting_conformal<br>Datetime: 2025-08-26 09:55:41.706705<br>Python version: 3.12.11<br>skforecast version: 0.15.1<br>numpy version: 2.1.3<br>pandas version: 2.3.2<br>sklearn version: 1.6.1<br>lightgbm version: 4.6.0<br>Platform: Linux-6.11.0-1018-azure-x86_64-with-glibc2.39<br>Processor: x86_64<br>CPU count: 4<br>Memory (GB): 16.77<br>Run time avg: 0.321352 s<br>Run time median: 0.320984 s<br>Run time p95: 0.322905 s<br>Run time std: 0.001018 s<br>Nº repeats: 5",
          "Forecaster: ForecasterDirect<br>Regressor: DummyRegressor<br>Function: ForecasterDirect_backtesting_conformal<br>Function_hash: 8bdd8d8e438de0ecc7912f4f83112136<br>Method: backtesting_conformal<br>Datetime: 2025-08-26 10:19:12.132001<br>Python version: 3.12.11<br>skforecast version: 0.15.1<br>numpy version: 2.1.3<br>pandas version: 2.3.2<br>sklearn version: 1.6.1<br>lightgbm version: 4.6.0<br>Platform: Linux-6.11.0-1018-azure-x86_64-with-glibc2.39<br>Processor: x86_64<br>CPU count: 4<br>Memory (GB): 16.77<br>Run time avg: 0.319318 s<br>Run time median: 0.319103 s<br>Run time p95: 0.320725 s<br>Run time std: 0.000930 s<br>Nº repeats: 5"
         ],
         "type": "scatter",
         "visible": false,
         "x": {
          "bdata": "6M4tN4Meo78IQqw78+GnP8qH7TLN8KA/8NlkXb0Ldb8=",
          "dtype": "f8"
         },
         "y": {
          "bdata": "zbQZcQqV1D8zu5G0Rv3UP2aGT1AIkdQ/zfxBgrRv1D8=",
          "dtype": "f8"
         }
        },
        {
         "error_y": {
          "array": {
           "bdata": "QFNRIfc9Qj+9NPAhuppBP94Cd/fbDUE/NcvBNs6ARj8=",
           "dtype": "f8"
          },
          "color": "#EF553B",
          "thickness": 1.5,
          "type": "data",
          "visible": true,
          "width": 5
         },
         "hovertemplate": "%{text}<extra></extra>",
         "marker": {
          "color": "#EF553B",
          "line": {
           "color": "white",
           "width": 1
          },
          "opacity": 0.85,
          "size": 10
         },
         "mode": "markers",
         "text": [
          "Forecaster: ForecasterDirect<br>Regressor: DummyRegressor<br>Function: ForecasterDirect_backtesting_conformal<br>Function_hash: 8bdd8d8e438de0ecc7912f4f83112136<br>Method: backtesting_conformal<br>Datetime: 2025-08-26 08:37:18.852390<br>Python version: 3.12.11<br>skforecast version: 0.16.0<br>numpy version: 2.1.3<br>pandas version: 2.3.2<br>sklearn version: 1.6.1<br>lightgbm version: 4.6.0<br>Platform: Linux-6.11.0-1018-azure-x86_64-with-glibc2.39<br>Processor: x86_64<br>CPU count: 4<br>Memory (GB): 16.77<br>Run time avg: 0.292504 s<br>Run time median: 0.292545 s<br>Run time p95: 0.293127 s<br>Run time std: 0.000557 s<br>Nº repeats: 5",
          "Forecaster: ForecasterDirect<br>Regressor: DummyRegressor<br>Function: ForecasterDirect_backtesting_conformal<br>Function_hash: 8bdd8d8e438de0ecc7912f4f83112136<br>Method: backtesting_conformal<br>Datetime: 2025-08-26 08:47:00.478571<br>Python version: 3.12.11<br>skforecast version: 0.16.0<br>numpy version: 2.1.3<br>pandas version: 2.3.2<br>sklearn version: 1.6.1<br>lightgbm version: 4.6.0<br>Platform: Linux-6.11.0-1018-azure-x86_64-with-glibc2.39<br>Processor: x86_64<br>CPU count: 4<br>Memory (GB): 16.77<br>Run time avg: 0.291719 s<br>Run time median: 0.291882 s<br>Run time p95: 0.292220 s<br>Run time std: 0.000537 s<br>Nº repeats: 5",
          "Forecaster: ForecasterDirect<br>Regressor: DummyRegressor<br>Function: ForecasterDirect_backtesting_conformal<br>Function_hash: 8bdd8d8e438de0ecc7912f4f83112136<br>Method: backtesting_conformal<br>Datetime: 2025-08-26 09:01:17.919980<br>Python version: 3.12.11<br>skforecast version: 0.16.0<br>numpy version: 2.1.3<br>pandas version: 2.3.2<br>sklearn version: 1.6.1<br>lightgbm version: 4.6.0<br>Platform: Linux-6.11.0-1018-azure-x86_64-with-glibc2.39<br>Processor: x86_64<br>CPU count: 4<br>Memory (GB): 16.77<br>Run time avg: 0.290404 s<br>Run time median: 0.290541 s<br>Run time p95: 0.290985 s<br>Run time std: 0.000520 s<br>Nº repeats: 5",
          "Forecaster: ForecasterDirect<br>Regressor: DummyRegressor<br>Function: ForecasterDirect_backtesting_conformal<br>Function_hash: 8bdd8d8e438de0ecc7912f4f83112136<br>Method: backtesting_conformal<br>Datetime: 2025-08-26 09:11:56.111705<br>Python version: 3.12.11<br>skforecast version: 0.16.0<br>numpy version: 2.1.3<br>pandas version: 2.3.2<br>sklearn version: 1.6.1<br>lightgbm version: 4.6.0<br>Platform: Linux-6.11.0-1018-azure-x86_64-with-glibc2.39<br>Processor: x86_64<br>CPU count: 4<br>Memory (GB): 16.77<br>Run time avg: 0.295401 s<br>Run time median: 0.295160 s<br>Run time p95: 0.296223 s<br>Run time std: 0.000687 s<br>Nº repeats: 5"
         ],
         "type": "scatter",
         "visible": false,
         "x": {
          "bdata": "hT5mbM157j9YUwf/KWPwP6XnUSZmCPA/8qv0/GRB8D8=",
          "dtype": "f8"
         },
         "y": {
          "bdata": "zVy0QWS40j+aGTeJhqvSP81MvLr4ldI/mtGzF9nn0j8=",
          "dtype": "f8"
         }
        },
        {
         "error_y": {
          "array": {
           "bdata": "Ywx0jbAuVj/mGWD9RzJGP+Kqe0bnUnc/aIZziERMaT8zfSmP1MpFPw==",
           "dtype": "f8"
          },
          "color": "#00CC96",
          "thickness": 1.5,
          "type": "data",
          "visible": true,
          "width": 5
         },
         "hovertemplate": "%{text}<extra></extra>",
         "marker": {
          "color": "#00CC96",
          "line": {
           "color": "white",
           "width": 1
          },
          "opacity": 0.85,
          "size": 10
         },
         "mode": "markers",
         "text": [
          "Forecaster: ForecasterDirect<br>Regressor: DummyRegressor<br>Function: ForecasterDirect_backtesting_conformal<br>Function_hash: 8bdd8d8e438de0ecc7912f4f83112136<br>Method: backtesting_conformal<br>Datetime: 2025-08-26 07:07:52.117232<br>Python version: 3.12.11<br>skforecast version: 0.17.0<br>numpy version: 2.1.3<br>pandas version: 2.3.2<br>sklearn version: 1.6.1<br>lightgbm version: 4.6.0<br>Platform: Linux-6.11.0-1018-azure-x86_64-with-glibc2.39<br>Processor: x86_64<br>CPU count: 4<br>Memory (GB): 16.77<br>Run time avg: 0.287509 s<br>Run time median: 0.287081 s<br>Run time p95: 0.289557 s<br>Run time std: 0.001354 s<br>Nº repeats: 5",
          "Forecaster: ForecasterDirect<br>Regressor: DummyRegressor<br>Function: ForecasterDirect_backtesting_conformal<br>Function_hash: 8bdd8d8e438de0ecc7912f4f83112136<br>Method: backtesting_conformal<br>Datetime: 2025-08-26 07:20:52.135077<br>Python version: 3.12.11<br>skforecast version: 0.17.0<br>numpy version: 2.1.3<br>pandas version: 2.3.2<br>sklearn version: 1.6.1<br>lightgbm version: 4.6.0<br>Platform: Linux-6.11.0-1018-azure-x86_64-with-glibc2.39<br>Processor: x86_64<br>CPU count: 4<br>Memory (GB): 16.77<br>Run time avg: 0.292265 s<br>Run time median: 0.292330 s<br>Run time p95: 0.293179 s<br>Run time std: 0.000677 s<br>Nº repeats: 5",
          "Forecaster: ForecasterDirect<br>Regressor: DummyRegressor<br>Function: ForecasterDirect_backtesting_conformal<br>Function_hash: 8bdd8d8e438de0ecc7912f4f83112136<br>Method: backtesting_conformal<br>Datetime: 2025-08-26 07:39:18.851588<br>Python version: 3.12.11<br>skforecast version: 0.17.0<br>numpy version: 2.1.3<br>pandas version: 2.3.2<br>sklearn version: 1.6.1<br>lightgbm version: 4.6.0<br>Platform: Linux-6.11.0-1018-azure-x86_64-with-glibc2.39<br>Processor: x86_64<br>CPU count: 4<br>Memory (GB): 16.77<br>Run time avg: 0.299515 s<br>Run time median: 0.297042 s<br>Run time p95: 0.308136 s<br>Run time std: 0.005694 s<br>Nº repeats: 5",
          "Forecaster: ForecasterDirect<br>Regressor: DummyRegressor<br>Function: ForecasterDirect_backtesting_conformal<br>Function_hash: 8bdd8d8e438de0ecc7912f4f83112136<br>Method: backtesting_conformal<br>Datetime: 2025-08-26 07:52:03.454124<br>Python version: 3.12.11<br>skforecast version: 0.17.0<br>numpy version: 2.1.3<br>pandas version: 2.3.2<br>sklearn version: 1.6.1<br>lightgbm version: 4.6.0<br>Platform: Linux-6.11.0-1018-azure-x86_64-with-glibc2.39<br>Processor: x86_64<br>CPU count: 4<br>Memory (GB): 16.77<br>Run time avg: 0.291410 s<br>Run time median: 0.290758 s<br>Run time p95: 0.296038 s<br>Run time std: 0.003088 s<br>Nº repeats: 5",
          "Forecaster: ForecasterDirect<br>Regressor: DummyRegressor<br>Function: ForecasterDirect_backtesting_conformal<br>Function_hash: 8bdd8d8e438de0ecc7912f4f83112136<br>Method: backtesting_conformal<br>Datetime: 2025-08-26 08:17:59.046152<br>Python version: 3.12.11<br>skforecast version: 0.17.0<br>numpy version: 2.1.3<br>pandas version: 2.3.2<br>sklearn version: 1.6.1<br>lightgbm version: 4.6.0<br>Platform: Linux-6.11.0-1018-azure-x86_64-with-glibc2.39<br>Processor: x86_64<br>CPU count: 4<br>Memory (GB): 16.77<br>Run time avg: 0.291429 s<br>Run time median: 0.291134 s<br>Run time p95: 0.292451 s<br>Run time std: 0.000665 s<br>Nº repeats: 5"
         ],
         "type": "scatter",
         "visible": false,
         "x": {
          "bdata": "QEATbORh/z/bCkLKODUAQEAs8o/aOgBAOxhWPp8lAEDIcssu3AMAQA==",
          "dtype": "f8"
         },
         "y": {
          "bdata": "Ziau0Ytm0j/NbHNgebTSPzNrlNBCK9M/M+vOQXWm0j8AEMrxxqbSPw==",
          "dtype": "f8"
         }
        },
        {
         "line": {
          "color": "#374151",
          "width": 2
         },
         "marker": {
          "color": "#374151",
          "size": 8
         },
         "mode": "lines+markers",
         "name": "Median (per version)",
         "type": "scatter",
         "visible": true,
         "x": {
          "bdata": "AAEC",
          "dtype": "i1"
         },
         "y": {
          "bdata": "MzNKR+nvcz/NzOKc/lNzPyIiC0cy2XM/",
          "dtype": "f8"
         }
        },
        {
         "line": {
          "color": "#374151",
          "width": 2
         },
         "marker": {
          "color": "#374151",
          "size": 8
         },
         "mode": "lines+markers",
         "name": "Median (per version)",
         "type": "scatter",
         "visible": false,
         "x": {
          "bdata": "AAEC",
          "dtype": "i1"
         },
         "y": {
          "bdata": "AMD4CZFbij9m5odZkK+JP2bm1anKLIo/",
          "dtype": "f8"
         }
        },
        {
         "line": {
          "color": "#374151",
          "width": 2
         },
         "marker": {
          "color": "#374151",
          "size": 8
         },
         "mode": "lines+markers",
         "name": "Median (per version)",
         "type": "scatter",
         "visible": false,
         "x": {
          "bdata": "AAEC",
          "dtype": "i1"
         },
         "y": {
          "bdata": "AAAAAAAA+H8AAAAAAAD4f3d3d7wDiSw/",
          "dtype": "f8"
         }
        },
        {
         "line": {
          "color": "#374151",
          "width": 2
         },
         "marker": {
          "color": "#374151",
          "size": 8
         },
         "mode": "lines+markers",
         "name": "Median (per version)",
         "type": "scatter",
         "visible": false,
         "x": {
          "bdata": "AAEC",
          "dtype": "i1"
         },
         "y": {
          "bdata": "3t3V2KURZz/e3Su5dJdiP83MTnRzb2I/",
          "dtype": "f8"
         }
        },
        {
         "line": {
          "color": "#374151",
          "width": 2
         },
         "marker": {
          "color": "#374151",
          "size": 8
         },
         "mode": "lines+markers",
         "name": "Median (per version)",
         "type": "scatter",
         "visible": false,
         "x": {
          "bdata": "AAEC",
          "dtype": "i1"
         },
         "y": {
          "bdata": "iIiJsla0aj9ERBabyUdmPwAAeG1s/2U/",
          "dtype": "f8"
         }
        },
        {
         "line": {
          "color": "#374151",
          "width": 2
         },
         "marker": {
          "color": "#374151",
          "size": 8
         },
         "mode": "lines+markers",
         "name": "Median (per version)",
         "type": "scatter",
         "visible": false,
         "x": {
          "bdata": "AAEC",
          "dtype": "i1"
         },
         "y": {
          "bdata": "VVVNrv0zbz8iIjH9XaNqPyIiWmThxGo/",
          "dtype": "f8"
         }
        },
        {
         "line": {
          "color": "#374151",
          "width": 2
         },
         "marker": {
          "color": "#374151",
          "size": 8
         },
         "mode": "lines+markers",
         "name": "Median (per version)",
         "type": "scatter",
         "visible": false,
         "x": {
          "bdata": "AAEC",
          "dtype": "i1"
         },
         "y": {
          "bdata": "AOD/yOWY0T80c5TQ1Y7PP5q5rDQFSM8/",
          "dtype": "f8"
         }
        },
        {
         "line": {
          "color": "#374151",
          "width": 2
         },
         "marker": {
          "color": "#374151",
          "size": 8
         },
         "mode": "lines+markers",
         "name": "Median (per version)",
         "type": "scatter",
         "visible": false,
         "x": {
          "bdata": "AAEC",
          "dtype": "i1"
         },
         "y": {
          "bdata": "mp20YAmT1D80u3Vl9bHSPwAQyvHGptI/",
          "dtype": "f8"
         }
        },
        {
         "line": {
          "color": "#9CA3AF",
          "dash": "dash",
          "width": 2
         },
         "marker": {
          "color": "#9CA3AF",
          "size": 8
         },
         "mode": "lines+markers",
         "name": "Mean (per version)",
         "type": "scatter",
         "visible": true,
         "x": {
          "bdata": "AAEC",
          "dtype": "i1"
         },
         "y": {
          "bdata": "mlkqRIo7dD8AgF4Jc2ZzPwrXyFGt7XM/",
          "dtype": "f8"
         }
        },
        {
         "line": {
          "color": "#9CA3AF",
          "dash": "dash",
          "width": 2
         },
         "marker": {
          "color": "#9CA3AF",
          "size": 8
         },
         "mode": "lines+markers",
         "name": "Mean (per version)",
         "type": "scatter",
         "visible": false,
         "x": {
          "bdata": "AAEC",
          "dtype": "i1"
         },
         "y": {
          "bdata": "ZsYpSy2Kij8zM4WoWLuJP7ge3LzOP4o/",
          "dtype": "f8"
         }
        },
        {
         "line": {
          "color": "#9CA3AF",
          "dash": "dash",
          "width": 2
         },
         "marker": {
          "color": "#9CA3AF",
          "size": 8
         },
         "mode": "lines+markers",
         "name": "Mean (per version)",
         "type": "scatter",
         "visible": false,
         "x": {
          "bdata": "AAEC",
          "dtype": "i1"
         },
         "y": {
          "bdata": "AAAAAAAA+H8AAAAAAAD4f12P4lqkmCw/",
          "dtype": "f8"
         }
        },
        {
         "line": {
          "color": "#9CA3AF",
          "dash": "dash",
          "width": 2
         },
         "marker": {
          "color": "#9CA3AF",
          "size": 8
         },
         "mode": "lines+markers",
         "name": "Mean (per version)",
         "type": "scatter",
         "visible": false,
         "x": {
          "bdata": "AAEC",
          "dtype": "i1"
         },
         "y": {
          "bdata": "AIBV8iUeZz+8O8w9GahiP+tRiCSHamI/",
          "dtype": "f8"
         }
        },
        {
         "line": {
          "color": "#9CA3AF",
          "dash": "dash",
          "width": 2
         },
         "marker": {
          "color": "#9CA3AF",
          "size": 8
         },
         "mode": "lines+markers",
         "name": "Mean (per version)",
         "type": "scatter",
         "visible": false,
         "x": {
          "bdata": "AAEC",
          "dtype": "i1"
         },
         "y": {
          "bdata": "REQUxpq6aj8REeBaeUhmP4/CL9wTE2Y/",
          "dtype": "f8"
         }
        },
        {
         "line": {
          "color": "#9CA3AF",
          "dash": "dash",
          "width": 2
         },
         "marker": {
          "color": "#9CA3AF",
          "size": 8
         },
         "mode": "lines+markers",
         "name": "Mean (per version)",
         "type": "scatter",
         "visible": false,
         "x": {
          "bdata": "AAEC",
          "dtype": "i1"
         },
         "y": {
          "bdata": "iAg3PllGbz/v7sG53qxqP3PaNOk2wmo/",
          "dtype": "f8"
         }
        },
        {
         "line": {
          "color": "#9CA3AF",
          "dash": "dash",
          "width": 2
         },
         "marker": {
          "color": "#9CA3AF",
          "size": 8
         },
         "mode": "lines+markers",
         "name": "Mean (per version)",
         "type": "scatter",
         "visible": false,
         "x": {
          "bdata": "AAEC",
          "dtype": "i1"
         },
         "y": {
          "bdata": "zXYBFd+v0T+aacgXRojPPz16zGDvU88/",
          "dtype": "f8"
         }
        },
        {
         "line": {
          "color": "#9CA3AF",
          "dash": "dash",
          "width": 2
         },
         "marker": {
          "color": "#9CA3AF",
          "size": 8
         },
         "mode": "lines+markers",
         "name": "Mean (per version)",
         "type": "scatter",
         "visible": false,
         "x": {
          "bdata": "AAEC",
          "dtype": "i1"
         },
         "y": {
          "bdata": "zTwPfsOk1D805VYnb7jSP7j+QnEat9I/",
          "dtype": "f8"
         }
        }
       ],
       "layout": {
        "legend": {
         "title": {
          "text": ""
         }
        },
        "margin": {
         "b": 60,
         "l": 70,
         "r": 20,
         "t": 100
        },
        "showlegend": false,
        "template": {
         "data": {
          "bar": [
           {
            "error_x": {
             "color": "#2a3f5f"
            },
            "error_y": {
             "color": "#2a3f5f"
            },
            "marker": {
             "line": {
              "color": "#E5ECF6",
              "width": 0.5
             },
             "pattern": {
              "fillmode": "overlay",
              "size": 10,
              "solidity": 0.2
             }
            },
            "type": "bar"
           }
          ],
          "barpolar": [
           {
            "marker": {
             "line": {
              "color": "#E5ECF6",
              "width": 0.5
             },
             "pattern": {
              "fillmode": "overlay",
              "size": 10,
              "solidity": 0.2
             }
            },
            "type": "barpolar"
           }
          ],
          "carpet": [
           {
            "aaxis": {
             "endlinecolor": "#2a3f5f",
             "gridcolor": "white",
             "linecolor": "white",
             "minorgridcolor": "white",
             "startlinecolor": "#2a3f5f"
            },
            "baxis": {
             "endlinecolor": "#2a3f5f",
             "gridcolor": "white",
             "linecolor": "white",
             "minorgridcolor": "white",
             "startlinecolor": "#2a3f5f"
            },
            "type": "carpet"
           }
          ],
          "choropleth": [
           {
            "colorbar": {
             "outlinewidth": 0,
             "ticks": ""
            },
            "type": "choropleth"
           }
          ],
          "contour": [
           {
            "colorbar": {
             "outlinewidth": 0,
             "ticks": ""
            },
            "colorscale": [
             [
              0,
              "#0d0887"
             ],
             [
              0.1111111111111111,
              "#46039f"
             ],
             [
              0.2222222222222222,
              "#7201a8"
             ],
             [
              0.3333333333333333,
              "#9c179e"
             ],
             [
              0.4444444444444444,
              "#bd3786"
             ],
             [
              0.5555555555555556,
              "#d8576b"
             ],
             [
              0.6666666666666666,
              "#ed7953"
             ],
             [
              0.7777777777777778,
              "#fb9f3a"
             ],
             [
              0.8888888888888888,
              "#fdca26"
             ],
             [
              1,
              "#f0f921"
             ]
            ],
            "type": "contour"
           }
          ],
          "contourcarpet": [
           {
            "colorbar": {
             "outlinewidth": 0,
             "ticks": ""
            },
            "type": "contourcarpet"
           }
          ],
          "heatmap": [
           {
            "colorbar": {
             "outlinewidth": 0,
             "ticks": ""
            },
            "colorscale": [
             [
              0,
              "#0d0887"
             ],
             [
              0.1111111111111111,
              "#46039f"
             ],
             [
              0.2222222222222222,
              "#7201a8"
             ],
             [
              0.3333333333333333,
              "#9c179e"
             ],
             [
              0.4444444444444444,
              "#bd3786"
             ],
             [
              0.5555555555555556,
              "#d8576b"
             ],
             [
              0.6666666666666666,
              "#ed7953"
             ],
             [
              0.7777777777777778,
              "#fb9f3a"
             ],
             [
              0.8888888888888888,
              "#fdca26"
             ],
             [
              1,
              "#f0f921"
             ]
            ],
            "type": "heatmap"
           }
          ],
          "histogram": [
           {
            "marker": {
             "pattern": {
              "fillmode": "overlay",
              "size": 10,
              "solidity": 0.2
             }
            },
            "type": "histogram"
           }
          ],
          "histogram2d": [
           {
            "colorbar": {
             "outlinewidth": 0,
             "ticks": ""
            },
            "colorscale": [
             [
              0,
              "#0d0887"
             ],
             [
              0.1111111111111111,
              "#46039f"
             ],
             [
              0.2222222222222222,
              "#7201a8"
             ],
             [
              0.3333333333333333,
              "#9c179e"
             ],
             [
              0.4444444444444444,
              "#bd3786"
             ],
             [
              0.5555555555555556,
              "#d8576b"
             ],
             [
              0.6666666666666666,
              "#ed7953"
             ],
             [
              0.7777777777777778,
              "#fb9f3a"
             ],
             [
              0.8888888888888888,
              "#fdca26"
             ],
             [
              1,
              "#f0f921"
             ]
            ],
            "type": "histogram2d"
           }
          ],
          "histogram2dcontour": [
           {
            "colorbar": {
             "outlinewidth": 0,
             "ticks": ""
            },
            "colorscale": [
             [
              0,
              "#0d0887"
             ],
             [
              0.1111111111111111,
              "#46039f"
             ],
             [
              0.2222222222222222,
              "#7201a8"
             ],
             [
              0.3333333333333333,
              "#9c179e"
             ],
             [
              0.4444444444444444,
              "#bd3786"
             ],
             [
              0.5555555555555556,
              "#d8576b"
             ],
             [
              0.6666666666666666,
              "#ed7953"
             ],
             [
              0.7777777777777778,
              "#fb9f3a"
             ],
             [
              0.8888888888888888,
              "#fdca26"
             ],
             [
              1,
              "#f0f921"
             ]
            ],
            "type": "histogram2dcontour"
           }
          ],
          "mesh3d": [
           {
            "colorbar": {
             "outlinewidth": 0,
             "ticks": ""
            },
            "type": "mesh3d"
           }
          ],
          "parcoords": [
           {
            "line": {
             "colorbar": {
              "outlinewidth": 0,
              "ticks": ""
             }
            },
            "type": "parcoords"
           }
          ],
          "pie": [
           {
            "automargin": true,
            "type": "pie"
           }
          ],
          "scatter": [
           {
            "fillpattern": {
             "fillmode": "overlay",
             "size": 10,
             "solidity": 0.2
            },
            "type": "scatter"
           }
          ],
          "scatter3d": [
           {
            "line": {
             "colorbar": {
              "outlinewidth": 0,
              "ticks": ""
             }
            },
            "marker": {
             "colorbar": {
              "outlinewidth": 0,
              "ticks": ""
             }
            },
            "type": "scatter3d"
           }
          ],
          "scattercarpet": [
           {
            "marker": {
             "colorbar": {
              "outlinewidth": 0,
              "ticks": ""
             }
            },
            "type": "scattercarpet"
           }
          ],
          "scattergeo": [
           {
            "marker": {
             "colorbar": {
              "outlinewidth": 0,
              "ticks": ""
             }
            },
            "type": "scattergeo"
           }
          ],
          "scattergl": [
           {
            "marker": {
             "colorbar": {
              "outlinewidth": 0,
              "ticks": ""
             }
            },
            "type": "scattergl"
           }
          ],
          "scattermap": [
           {
            "marker": {
             "colorbar": {
              "outlinewidth": 0,
              "ticks": ""
             }
            },
            "type": "scattermap"
           }
          ],
          "scattermapbox": [
           {
            "marker": {
             "colorbar": {
              "outlinewidth": 0,
              "ticks": ""
             }
            },
            "type": "scattermapbox"
           }
          ],
          "scatterpolar": [
           {
            "marker": {
             "colorbar": {
              "outlinewidth": 0,
              "ticks": ""
             }
            },
            "type": "scatterpolar"
           }
          ],
          "scatterpolargl": [
           {
            "marker": {
             "colorbar": {
              "outlinewidth": 0,
              "ticks": ""
             }
            },
            "type": "scatterpolargl"
           }
          ],
          "scatterternary": [
           {
            "marker": {
             "colorbar": {
              "outlinewidth": 0,
              "ticks": ""
             }
            },
            "type": "scatterternary"
           }
          ],
          "surface": [
           {
            "colorbar": {
             "outlinewidth": 0,
             "ticks": ""
            },
            "colorscale": [
             [
              0,
              "#0d0887"
             ],
             [
              0.1111111111111111,
              "#46039f"
             ],
             [
              0.2222222222222222,
              "#7201a8"
             ],
             [
              0.3333333333333333,
              "#9c179e"
             ],
             [
              0.4444444444444444,
              "#bd3786"
             ],
             [
              0.5555555555555556,
              "#d8576b"
             ],
             [
              0.6666666666666666,
              "#ed7953"
             ],
             [
              0.7777777777777778,
              "#fb9f3a"
             ],
             [
              0.8888888888888888,
              "#fdca26"
             ],
             [
              1,
              "#f0f921"
             ]
            ],
            "type": "surface"
           }
          ],
          "table": [
           {
            "cells": {
             "fill": {
              "color": "#EBF0F8"
             },
             "line": {
              "color": "white"
             }
            },
            "header": {
             "fill": {
              "color": "#C8D4E3"
             },
             "line": {
              "color": "white"
             }
            },
            "type": "table"
           }
          ]
         },
         "layout": {
          "annotationdefaults": {
           "arrowcolor": "#2a3f5f",
           "arrowhead": 0,
           "arrowwidth": 1
          },
          "autotypenumbers": "strict",
          "coloraxis": {
           "colorbar": {
            "outlinewidth": 0,
            "ticks": ""
           }
          },
          "colorscale": {
           "diverging": [
            [
             0,
             "#8e0152"
            ],
            [
             0.1,
             "#c51b7d"
            ],
            [
             0.2,
             "#de77ae"
            ],
            [
             0.3,
             "#f1b6da"
            ],
            [
             0.4,
             "#fde0ef"
            ],
            [
             0.5,
             "#f7f7f7"
            ],
            [
             0.6,
             "#e6f5d0"
            ],
            [
             0.7,
             "#b8e186"
            ],
            [
             0.8,
             "#7fbc41"
            ],
            [
             0.9,
             "#4d9221"
            ],
            [
             1,
             "#276419"
            ]
           ],
           "sequential": [
            [
             0,
             "#0d0887"
            ],
            [
             0.1111111111111111,
             "#46039f"
            ],
            [
             0.2222222222222222,
             "#7201a8"
            ],
            [
             0.3333333333333333,
             "#9c179e"
            ],
            [
             0.4444444444444444,
             "#bd3786"
            ],
            [
             0.5555555555555556,
             "#d8576b"
            ],
            [
             0.6666666666666666,
             "#ed7953"
            ],
            [
             0.7777777777777778,
             "#fb9f3a"
            ],
            [
             0.8888888888888888,
             "#fdca26"
            ],
            [
             1,
             "#f0f921"
            ]
           ],
           "sequentialminus": [
            [
             0,
             "#0d0887"
            ],
            [
             0.1111111111111111,
             "#46039f"
            ],
            [
             0.2222222222222222,
             "#7201a8"
            ],
            [
             0.3333333333333333,
             "#9c179e"
            ],
            [
             0.4444444444444444,
             "#bd3786"
            ],
            [
             0.5555555555555556,
             "#d8576b"
            ],
            [
             0.6666666666666666,
             "#ed7953"
            ],
            [
             0.7777777777777778,
             "#fb9f3a"
            ],
            [
             0.8888888888888888,
             "#fdca26"
            ],
            [
             1,
             "#f0f921"
            ]
           ]
          },
          "colorway": [
           "#636efa",
           "#EF553B",
           "#00cc96",
           "#ab63fa",
           "#FFA15A",
           "#19d3f3",
           "#FF6692",
           "#B6E880",
           "#FF97FF",
           "#FECB52"
          ],
          "font": {
           "color": "#2a3f5f"
          },
          "geo": {
           "bgcolor": "white",
           "lakecolor": "white",
           "landcolor": "#E5ECF6",
           "showlakes": true,
           "showland": true,
           "subunitcolor": "white"
          },
          "hoverlabel": {
           "align": "left"
          },
          "hovermode": "closest",
          "mapbox": {
           "style": "light"
          },
          "paper_bgcolor": "white",
          "plot_bgcolor": "#E5ECF6",
          "polar": {
           "angularaxis": {
            "gridcolor": "white",
            "linecolor": "white",
            "ticks": ""
           },
           "bgcolor": "#E5ECF6",
           "radialaxis": {
            "gridcolor": "white",
            "linecolor": "white",
            "ticks": ""
           }
          },
          "scene": {
           "xaxis": {
            "backgroundcolor": "#E5ECF6",
            "gridcolor": "white",
            "gridwidth": 2,
            "linecolor": "white",
            "showbackground": true,
            "ticks": "",
            "zerolinecolor": "white"
           },
           "yaxis": {
            "backgroundcolor": "#E5ECF6",
            "gridcolor": "white",
            "gridwidth": 2,
            "linecolor": "white",
            "showbackground": true,
            "ticks": "",
            "zerolinecolor": "white"
           },
           "zaxis": {
            "backgroundcolor": "#E5ECF6",
            "gridcolor": "white",
            "gridwidth": 2,
            "linecolor": "white",
            "showbackground": true,
            "ticks": "",
            "zerolinecolor": "white"
           }
          },
          "shapedefaults": {
           "line": {
            "color": "#2a3f5f"
           }
          },
          "ternary": {
           "aaxis": {
            "gridcolor": "white",
            "linecolor": "white",
            "ticks": ""
           },
           "baxis": {
            "gridcolor": "white",
            "linecolor": "white",
            "ticks": ""
           },
           "bgcolor": "#E5ECF6",
           "caxis": {
            "gridcolor": "white",
            "linecolor": "white",
            "ticks": ""
           }
          },
          "title": {
           "x": 0.05
          },
          "xaxis": {
           "automargin": true,
           "gridcolor": "white",
           "linecolor": "white",
           "ticks": "",
           "title": {
            "standoff": 15
           },
           "zerolinecolor": "white",
           "zerolinewidth": 2
          },
          "yaxis": {
           "automargin": true,
           "gridcolor": "white",
           "linecolor": "white",
           "ticks": "",
           "title": {
            "standoff": 15
           },
           "zerolinecolor": "white",
           "zerolinewidth": 2
          }
         }
        },
        "title": {
         "text": "ForecasterDirect — Execution time `_create_train_X_y`"
        },
        "updatemenus": [
         {
          "buttons": [
           {
            "args": [
             {
              "visible": [
               true,
               true,
               true,
               false,
               false,
               false,
               false,
               false,
               false,
               false,
               false,
               false,
               false,
               false,
               false,
               false,
               false,
               false,
               false,
               false,
               false,
               false,
               false,
               false,
               true,
               false,
               false,
               false,
               false,
               false,
               false,
               false,
               true,
               false,
               false,
               false,
               false,
               false,
               false,
               false
              ]
             },
             {
              "title": "Execution time — method: _create_train_X_y"
             }
            ],
            "label": "_create_train_X_y",
            "method": "update"
           },
           {
            "args": [
             {
              "visible": [
               false,
               false,
               false,
               true,
               true,
               true,
               false,
               false,
               false,
               false,
               false,
               false,
               false,
               false,
               false,
               false,
               false,
               false,
               false,
               false,
               false,
               false,
               false,
               false,
               false,
               true,
               false,
               false,
               false,
               false,
               false,
               false,
               false,
               true,
               false,
               false,
               false,
               false,
               false,
               false
              ]
             },
             {
              "title": "Execution time — method: fit"
             }
            ],
            "label": "fit",
            "method": "update"
           },
           {
            "args": [
             {
              "visible": [
               false,
               false,
               false,
               false,
               false,
               false,
               true,
               true,
               true,
               false,
               false,
               false,
               false,
               false,
               false,
               false,
               false,
               false,
               false,
               false,
               false,
               false,
               false,
               false,
               false,
               false,
               true,
               false,
               false,
               false,
               false,
               false,
               false,
               false,
               true,
               false,
               false,
               false,
               false,
               false
              ]
             },
             {
              "title": "Execution time — method: check_predict_inputs"
             }
            ],
            "label": "check_predict_inputs",
            "method": "update"
           },
           {
            "args": [
             {
              "visible": [
               false,
               false,
               false,
               false,
               false,
               false,
               false,
               false,
               false,
               true,
               true,
               true,
               false,
               false,
               false,
               false,
               false,
               false,
               false,
               false,
               false,
               false,
               false,
               false,
               false,
               false,
               false,
               true,
               false,
               false,
               false,
               false,
               false,
               false,
               false,
               true,
               false,
               false,
               false,
               false
              ]
             },
             {
              "title": "Execution time — method: _create_predict_inputs"
             }
            ],
            "label": "_create_predict_inputs",
            "method": "update"
           },
           {
            "args": [
             {
              "visible": [
               false,
               false,
               false,
               false,
               false,
               false,
               false,
               false,
               false,
               false,
               false,
               false,
               true,
               true,
               true,
               false,
               false,
               false,
               false,
               false,
               false,
               false,
               false,
               false,
               false,
               false,
               false,
               false,
               true,
               false,
               false,
               false,
               false,
               false,
               false,
               false,
               true,
               false,
               false,
               false
              ]
             },
             {
              "title": "Execution time — method: predict"
             }
            ],
            "label": "predict",
            "method": "update"
           },
           {
            "args": [
             {
              "visible": [
               false,
               false,
               false,
               false,
               false,
               false,
               false,
               false,
               false,
               false,
               false,
               false,
               false,
               false,
               false,
               true,
               true,
               true,
               false,
               false,
               false,
               false,
               false,
               false,
               false,
               false,
               false,
               false,
               false,
               true,
               false,
               false,
               false,
               false,
               false,
               false,
               false,
               true,
               false,
               false
              ]
             },
             {
              "title": "Execution time — method: predict_interval_conformal"
             }
            ],
            "label": "predict_interval_conformal",
            "method": "update"
           },
           {
            "args": [
             {
              "visible": [
               false,
               false,
               false,
               false,
               false,
               false,
               false,
               false,
               false,
               false,
               false,
               false,
               false,
               false,
               false,
               false,
               false,
               false,
               true,
               true,
               true,
               false,
               false,
               false,
               false,
               false,
               false,
               false,
               false,
               false,
               true,
               false,
               false,
               false,
               false,
               false,
               false,
               false,
               true,
               false
              ]
             },
             {
              "title": "Execution time — method: backtesting"
             }
            ],
            "label": "backtesting",
            "method": "update"
           },
           {
            "args": [
             {
              "visible": [
               false,
               false,
               false,
               false,
               false,
               false,
               false,
               false,
               false,
               false,
               false,
               false,
               false,
               false,
               false,
               false,
               false,
               false,
               false,
               false,
               false,
               true,
               true,
               true,
               false,
               false,
               false,
               false,
               false,
               false,
               false,
               true,
               false,
               false,
               false,
               false,
               false,
               false,
               false,
               true
              ]
             },
             {
              "title": "Execution time — method: backtesting_conformal"
             }
            ],
            "label": "backtesting_conformal",
            "method": "update"
           }
          ],
          "direction": "down",
          "pad": {
           "r": 2,
           "t": 0
          },
          "showactive": true,
          "type": "dropdown",
          "x": 1,
          "xanchor": "right",
          "y": 1.03,
          "yanchor": "bottom"
         }
        ],
        "xaxis": {
         "automargin": true,
         "tickangle": 0,
         "tickmode": "array",
         "ticktext": [
          "0.15.1",
          "0.16.0",
          "0.17.0"
         ],
         "tickvals": [
          0,
          1,
          2
         ],
         "title": {
          "text": "skforecast version"
         }
        },
        "yaxis": {
         "automargin": true,
         "title": {
          "text": "Execution time (s)"
         }
        }
       }
      }
     },
     "metadata": {},
     "output_type": "display_data"
    }
   ],
   "source": [
    "# Plot benchmark results\n",
    "# ==============================================================================\n",
    "plot_benchmark_results(\n",
    "    results_benchmark_all,\n",
    "    forecaster_names = ['ForecasterDirect', 'ForecasterAutoregDirect'],\n",
    "    regressors       = ['DummyRegressor'],\n",
    "    add_mean         = True,\n",
    "    add_median       = True\n",
    ")"
   ]
  },
  {
   "cell_type": "markdown",
   "metadata": {},
   "source": [
    "## ForecasterRecursiveMultiSeries\n",
    "\n",
    "The [`ForecasterRecursiveMultiSeries` class](https://skforecast.org/latest/user_guides/independent-multi-time-series-forecasting.html) is benchmarked under a fixed experimental setup to ensure fair comparison across library versions. Key conditions are:\n",
    "\n",
    "| Condition           | Value                                                                                                       |\n",
    "|:--------------------|:------------------------------------------------------------------------------------------------------------|\n",
    "| Regressor           | `sklearn.dummy.DummyRegressor` (to isolate forecaster overhead)                                             |\n",
    "| Number of series    | 600 time series                                                                                             |\n",
    "| Dataset length      | 2000 synthetic observations per series (generated with `bench_forecaster_recursive_multiseries._make_data`) |\n",
    "| Lags as predictors  | 50                                                                                                          |\n",
    "| Exogenous features  | 3                                                                                                           |\n",
    "| Data transformation | `StandardScaler()` for time series features and exogenous variables                                         |\n",
    "| Prediction horizon  | 100 steps ahead                                                                                             |\n",
    "| Backtesting split   | 1200 training, remaining for testing, step size = 50, no re-fitting (see [guide](https://skforecast.org/latest/user_guides/backtesting.html)) |\n",
    "\n",
    "**Note:** In versions `< 0.14.0`, `ForecasterRecursiveMultiSeries` was named `ForecasterAutoregMultiSeries`.  "
   ]
  },
  {
   "cell_type": "code",
   "execution_count": 20,
   "metadata": {},
   "outputs": [
    {
     "data": {
      "application/vnd.plotly.v1+json": {
       "config": {
        "plotlyServerURL": "https://plot.ly"
       },
       "data": [
        {
         "error_y": {
          "array": {
           "bdata": "E4+5x5usqz/2j3o1DzSsP+6fIew+x6Q/ey2P44PQpD8=",
           "dtype": "f8"
          },
          "color": "#636EFA",
          "thickness": 1.5,
          "type": "data",
          "visible": true,
          "width": 5
         },
         "hovertemplate": "%{text}<extra></extra>",
         "marker": {
          "color": "#636EFA",
          "line": {
           "color": "white",
           "width": 1
          },
          "opacity": 0.85,
          "size": 10
         },
         "mode": "markers",
         "text": [
          "Forecaster: ForecasterRecursiveMultiSeries<br>Regressor: DummyRegressor<br>Function: ForecasterRecursiveMultiSeries__create_train_X_y_series_is_dict_no_exog<br>Function_hash: 884eb9ee19bb306145a0fd967253bbfc<br>Method: _create_train_X_y_series_is_dict_no_exog<br>Datetime: 2025-08-26 09:16:44.855557<br>Python version: 3.12.11<br>skforecast version: 0.15.1<br>numpy version: 2.1.3<br>pandas version: 2.3.2<br>sklearn version: 1.6.1<br>lightgbm version: 4.6.0<br>Platform: Linux-6.11.0-1018-azure-x86_64-with-glibc2.39<br>Processor: x86_64<br>CPU count: 4<br>Memory (GB): 16.77<br>Run time avg: 1.817318 s<br>Run time median: 1.812321 s<br>Run time p95: 1.910855 s<br>Run time std: 0.054051 s<br>Nº repeats: 10",
          "Forecaster: ForecasterRecursiveMultiSeries<br>Regressor: DummyRegressor<br>Function: ForecasterRecursiveMultiSeries__create_train_X_y_series_is_dict_no_exog<br>Function_hash: 884eb9ee19bb306145a0fd967253bbfc<br>Method: _create_train_X_y_series_is_dict_no_exog<br>Datetime: 2025-08-26 09:32:45.343465<br>Python version: 3.12.11<br>skforecast version: 0.15.1<br>numpy version: 2.1.3<br>pandas version: 2.3.2<br>sklearn version: 1.6.1<br>lightgbm version: 4.6.0<br>Platform: Linux-6.11.0-1018-azure-x86_64-with-glibc2.39<br>Processor: x86_64<br>CPU count: 4<br>Memory (GB): 16.77<br>Run time avg: 1.831855 s<br>Run time median: 1.839436 s<br>Run time p95: 1.906595 s<br>Run time std: 0.055085 s<br>Nº repeats: 10",
          "Forecaster: ForecasterRecursiveMultiSeries<br>Regressor: DummyRegressor<br>Function: ForecasterRecursiveMultiSeries__create_train_X_y_series_is_dict_no_exog<br>Function_hash: 884eb9ee19bb306145a0fd967253bbfc<br>Method: _create_train_X_y_series_is_dict_no_exog<br>Datetime: 2025-08-26 09:45:36.411819<br>Python version: 3.12.11<br>skforecast version: 0.15.1<br>numpy version: 2.1.3<br>pandas version: 2.3.2<br>sklearn version: 1.6.1<br>lightgbm version: 4.6.0<br>Platform: Linux-6.11.0-1018-azure-x86_64-with-glibc2.39<br>Processor: x86_64<br>CPU count: 4<br>Memory (GB): 16.77<br>Run time avg: 1.810209 s<br>Run time median: 1.813572 s<br>Run time p95: 1.867506 s<br>Run time std: 0.040583 s<br>Nº repeats: 10",
          "Forecaster: ForecasterRecursiveMultiSeries<br>Regressor: DummyRegressor<br>Function: ForecasterRecursiveMultiSeries__create_train_X_y_series_is_dict_no_exog<br>Function_hash: 884eb9ee19bb306145a0fd967253bbfc<br>Method: _create_train_X_y_series_is_dict_no_exog<br>Datetime: 2025-08-26 10:09:11.540446<br>Python version: 3.12.11<br>skforecast version: 0.15.1<br>numpy version: 2.1.3<br>pandas version: 2.3.2<br>sklearn version: 1.6.1<br>lightgbm version: 4.6.0<br>Platform: Linux-6.11.0-1018-azure-x86_64-with-glibc2.39<br>Processor: x86_64<br>CPU count: 4<br>Memory (GB): 16.77<br>Run time avg: 1.803387 s<br>Run time median: 1.803819 s<br>Run time p95: 1.865457 s<br>Run time std: 0.040653 s<br>Nº repeats: 10"
         ],
         "type": "scatter",
         "visible": true,
         "x": {
          "bdata": "kEJxzL0llT8cXYLBvOGePzxqO3wBtZA/kCrY27Nror8=",
          "dtype": "f8"
         },
         "y": {
          "bdata": "GrwTjLsT/T8N55ctR0/9P0YjgJOd9vw/zYy6Cqza/D8=",
          "dtype": "f8"
         }
        },
        {
         "error_y": {
          "array": {
           "bdata": "vHWO8y3bpj9kmBNAydylP4DmZBDwvKY/pZLSxCTepj8=",
           "dtype": "f8"
          },
          "color": "#EF553B",
          "thickness": 1.5,
          "type": "data",
          "visible": true,
          "width": 5
         },
         "hovertemplate": "%{text}<extra></extra>",
         "marker": {
          "color": "#EF553B",
          "line": {
           "color": "white",
           "width": 1
          },
          "opacity": 0.85,
          "size": 10
         },
         "mode": "markers",
         "text": [
          "Forecaster: ForecasterRecursiveMultiSeries<br>Regressor: DummyRegressor<br>Function: ForecasterRecursiveMultiSeries__create_train_X_y_series_is_dict_no_exog<br>Function_hash: 884eb9ee19bb306145a0fd967253bbfc<br>Method: _create_train_X_y_series_is_dict_no_exog<br>Datetime: 2025-08-26 08:30:12.850007<br>Python version: 3.12.11<br>skforecast version: 0.16.0<br>numpy version: 2.1.3<br>pandas version: 2.3.2<br>sklearn version: 1.6.1<br>lightgbm version: 4.6.0<br>Platform: Linux-6.11.0-1018-azure-x86_64-with-glibc2.39<br>Processor: x86_64<br>CPU count: 4<br>Memory (GB): 16.77<br>Run time avg: 0.985971 s<br>Run time median: 0.992489 s<br>Run time p95: 1.050565 s<br>Run time std: 0.044641 s<br>Nº repeats: 10",
          "Forecaster: ForecasterRecursiveMultiSeries<br>Regressor: DummyRegressor<br>Function: ForecasterRecursiveMultiSeries__create_train_X_y_series_is_dict_no_exog<br>Function_hash: 884eb9ee19bb306145a0fd967253bbfc<br>Method: _create_train_X_y_series_is_dict_no_exog<br>Datetime: 2025-08-26 08:40:07.472622<br>Python version: 3.12.11<br>skforecast version: 0.16.0<br>numpy version: 2.1.3<br>pandas version: 2.3.2<br>sklearn version: 1.6.1<br>lightgbm version: 4.6.0<br>Platform: Linux-6.11.0-1018-azure-x86_64-with-glibc2.39<br>Processor: x86_64<br>CPU count: 4<br>Memory (GB): 16.77<br>Run time avg: 0.960706 s<br>Run time median: 0.961391 s<br>Run time p95: 1.028577 s<br>Run time std: 0.042700 s<br>Nº repeats: 10",
          "Forecaster: ForecasterRecursiveMultiSeries<br>Regressor: DummyRegressor<br>Function: ForecasterRecursiveMultiSeries__create_train_X_y_series_is_dict_no_exog<br>Function_hash: 884eb9ee19bb306145a0fd967253bbfc<br>Method: _create_train_X_y_series_is_dict_no_exog<br>Datetime: 2025-08-26 08:54:22.589828<br>Python version: 3.12.11<br>skforecast version: 0.16.0<br>numpy version: 2.1.3<br>pandas version: 2.3.2<br>sklearn version: 1.6.1<br>lightgbm version: 4.6.0<br>Platform: Linux-6.11.0-1018-azure-x86_64-with-glibc2.39<br>Processor: x86_64<br>CPU count: 4<br>Memory (GB): 16.77<br>Run time avg: 0.989098 s<br>Run time median: 0.995439 s<br>Run time p95: 1.052381 s<br>Run time std: 0.044410 s<br>Nº repeats: 10",
          "Forecaster: ForecasterRecursiveMultiSeries<br>Regressor: DummyRegressor<br>Function: ForecasterRecursiveMultiSeries__create_train_X_y_series_is_dict_no_exog<br>Function_hash: 884eb9ee19bb306145a0fd967253bbfc<br>Method: _create_train_X_y_series_is_dict_no_exog<br>Datetime: 2025-08-26 09:04:45.053085<br>Python version: 3.12.11<br>skforecast version: 0.16.0<br>numpy version: 2.1.3<br>pandas version: 2.3.2<br>sklearn version: 1.6.1<br>lightgbm version: 4.6.0<br>Platform: Linux-6.11.0-1018-azure-x86_64-with-glibc2.39<br>Processor: x86_64<br>CPU count: 4<br>Memory (GB): 16.77<br>Run time avg: 0.995495 s<br>Run time median: 1.001657 s<br>Run time p95: 1.060528 s<br>Run time std: 0.044664 s<br>Nº repeats: 10"
         ],
         "type": "scatter",
         "visible": true,
         "x": {
          "bdata": "zbxp5nGr7j+sCdG8Gl3wP+rcy+O5LPA/VPHMdbtI8D8=",
          "dtype": "f8"
         },
         "y": {
          "bdata": "zQkYKxKN7z/N4jJeGr7uP81sSI+wpu8/DXTzVBnb7z8=",
          "dtype": "f8"
         }
        },
        {
         "error_y": {
          "array": {
           "bdata": "OxCiXU0Hpz9yQudLYNOoP+zCAcOO5aY/UYXvGdIipj9Chmdg+MulPw==",
           "dtype": "f8"
          },
          "color": "#00CC96",
          "thickness": 1.5,
          "type": "data",
          "visible": true,
          "width": 5
         },
         "hovertemplate": "%{text}<extra></extra>",
         "marker": {
          "color": "#00CC96",
          "line": {
           "color": "white",
           "width": 1
          },
          "opacity": 0.85,
          "size": 10
         },
         "mode": "markers",
         "text": [
          "Forecaster: ForecasterRecursiveMultiSeries<br>Regressor: DummyRegressor<br>Function: ForecasterRecursiveMultiSeries__create_train_X_y_series_is_dict_no_exog<br>Function_hash: 884eb9ee19bb306145a0fd967253bbfc<br>Method: _create_train_X_y_series_is_dict_no_exog<br>Datetime: 2025-08-26 06:59:18.632208<br>Python version: 3.12.11<br>skforecast version: 0.17.0<br>numpy version: 2.1.3<br>pandas version: 2.3.2<br>sklearn version: 1.6.1<br>lightgbm version: 4.6.0<br>Platform: Linux-6.11.0-1018-azure-x86_64-with-glibc2.39<br>Processor: x86_64<br>CPU count: 4<br>Memory (GB): 16.77<br>Run time avg: 0.957987 s<br>Run time median: 0.959988 s<br>Run time p95: 1.025637 s<br>Run time std: 0.044978 s<br>Nº repeats: 10",
          "Forecaster: ForecasterRecursiveMultiSeries<br>Regressor: DummyRegressor<br>Function: ForecasterRecursiveMultiSeries__create_train_X_y_series_is_dict_no_exog<br>Function_hash: 884eb9ee19bb306145a0fd967253bbfc<br>Method: _create_train_X_y_series_is_dict_no_exog<br>Datetime: 2025-08-26 07:12:06.499790<br>Python version: 3.12.11<br>skforecast version: 0.17.0<br>numpy version: 2.1.3<br>pandas version: 2.3.2<br>sklearn version: 1.6.1<br>lightgbm version: 4.6.0<br>Platform: Linux-6.11.0-1018-azure-x86_64-with-glibc2.39<br>Processor: x86_64<br>CPU count: 4<br>Memory (GB): 16.77<br>Run time avg: 0.987680 s<br>Run time median: 0.987770 s<br>Run time p95: 1.063823 s<br>Run time std: 0.048488 s<br>Nº repeats: 10",
          "Forecaster: ForecasterRecursiveMultiSeries<br>Regressor: DummyRegressor<br>Function: ForecasterRecursiveMultiSeries__create_train_X_y_series_is_dict_no_exog<br>Function_hash: 884eb9ee19bb306145a0fd967253bbfc<br>Method: _create_train_X_y_series_is_dict_no_exog<br>Datetime: 2025-08-26 07:30:38.425637<br>Python version: 3.12.11<br>skforecast version: 0.17.0<br>numpy version: 2.1.3<br>pandas version: 2.3.2<br>sklearn version: 1.6.1<br>lightgbm version: 4.6.0<br>Platform: Linux-6.11.0-1018-azure-x86_64-with-glibc2.39<br>Processor: x86_64<br>CPU count: 4<br>Memory (GB): 16.77<br>Run time avg: 0.973898 s<br>Run time median: 0.978560 s<br>Run time p95: 1.040727 s<br>Run time std: 0.044720 s<br>Nº repeats: 10",
          "Forecaster: ForecasterRecursiveMultiSeries<br>Regressor: DummyRegressor<br>Function: ForecasterRecursiveMultiSeries__create_train_X_y_series_is_dict_no_exog<br>Function_hash: 884eb9ee19bb306145a0fd967253bbfc<br>Method: _create_train_X_y_series_is_dict_no_exog<br>Datetime: 2025-08-26 07:43:17.267246<br>Python version: 3.12.11<br>skforecast version: 0.17.0<br>numpy version: 2.1.3<br>pandas version: 2.3.2<br>sklearn version: 1.6.1<br>lightgbm version: 4.6.0<br>Platform: Linux-6.11.0-1018-azure-x86_64-with-glibc2.39<br>Processor: x86_64<br>CPU count: 4<br>Memory (GB): 16.77<br>Run time avg: 0.987801 s<br>Run time median: 0.994495 s<br>Run time p95: 1.049480 s<br>Run time std: 0.043234 s<br>Nº repeats: 10",
          "Forecaster: ForecasterRecursiveMultiSeries<br>Regressor: DummyRegressor<br>Function: ForecasterRecursiveMultiSeries__create_train_X_y_series_is_dict_no_exog<br>Function_hash: 884eb9ee19bb306145a0fd967253bbfc<br>Method: _create_train_X_y_series_is_dict_no_exog<br>Datetime: 2025-08-26 08:09:20.125668<br>Python version: 3.12.11<br>skforecast version: 0.17.0<br>numpy version: 2.1.3<br>pandas version: 2.3.2<br>sklearn version: 1.6.1<br>lightgbm version: 4.6.0<br>Platform: Linux-6.11.0-1018-azure-x86_64-with-glibc2.39<br>Processor: x86_64<br>CPU count: 4<br>Memory (GB): 16.77<br>Run time avg: 0.974897 s<br>Run time median: 0.979442 s<br>Run time p95: 1.040247 s<br>Run time std: 0.042572 s<br>Nº repeats: 10"
         ],
         "type": "scatter",
         "visible": true,
         "x": {
          "bdata": "obgk/q0KAECCsEdCaqj/P4q0gMQwSABA3ovFQLQOAEBM2xnryFn/Pw==",
          "dtype": "f8"
         },
         "y": {
          "bdata": "ZoJrFdWn7j9mDlCjEpvvP5ppDcwrKu8/mtzDzw+c7z+aN+7xWjLvPw==",
          "dtype": "f8"
         }
        },
        {
         "error_y": {
          "array": {
           "bdata": "s3ikn6NqoT+dtPY0l/urP0G4n+kMeps/vO/sd0O+oz8=",
           "dtype": "f8"
          },
          "color": "#636EFA",
          "thickness": 1.5,
          "type": "data",
          "visible": true,
          "width": 5
         },
         "hovertemplate": "%{text}<extra></extra>",
         "marker": {
          "color": "#636EFA",
          "line": {
           "color": "white",
           "width": 1
          },
          "opacity": 0.85,
          "size": 10
         },
         "mode": "markers",
         "text": [
          "Forecaster: ForecasterRecursiveMultiSeries<br>Regressor: DummyRegressor<br>Function: ForecasterRecursiveMultiSeries__create_train_X_y_series_is_dict_exog_is_dict<br>Function_hash: c70cf08e09088bd1bcfbf3c005078457<br>Method: _create_train_X_y_series_is_dict_exog_is_dict<br>Datetime: 2025-08-26 09:17:05.521412<br>Python version: 3.12.11<br>skforecast version: 0.15.1<br>numpy version: 2.1.3<br>pandas version: 2.3.2<br>sklearn version: 1.6.1<br>lightgbm version: 4.6.0<br>Platform: Linux-6.11.0-1018-azure-x86_64-with-glibc2.39<br>Processor: x86_64<br>CPU count: 4<br>Memory (GB): 16.77<br>Run time avg: 2.066053 s<br>Run time median: 2.055871 s<br>Run time p95: 2.128615 s<br>Run time std: 0.034017 s<br>Nº repeats: 10",
          "Forecaster: ForecasterRecursiveMultiSeries<br>Regressor: DummyRegressor<br>Function: ForecasterRecursiveMultiSeries__create_train_X_y_series_is_dict_exog_is_dict<br>Function_hash: c70cf08e09088bd1bcfbf3c005078457<br>Method: _create_train_X_y_series_is_dict_exog_is_dict<br>Datetime: 2025-08-26 09:33:06.132015<br>Python version: 3.12.11<br>skforecast version: 0.15.1<br>numpy version: 2.1.3<br>pandas version: 2.3.2<br>sklearn version: 1.6.1<br>lightgbm version: 4.6.0<br>Platform: Linux-6.11.0-1018-azure-x86_64-with-glibc2.39<br>Processor: x86_64<br>CPU count: 4<br>Memory (GB): 16.77<br>Run time avg: 2.078292 s<br>Run time median: 2.072860 s<br>Run time p95: 2.166637 s<br>Run time std: 0.054654 s<br>Nº repeats: 10",
          "Forecaster: ForecasterRecursiveMultiSeries<br>Regressor: DummyRegressor<br>Function: ForecasterRecursiveMultiSeries__create_train_X_y_series_is_dict_exog_is_dict<br>Function_hash: c70cf08e09088bd1bcfbf3c005078457<br>Method: _create_train_X_y_series_is_dict_exog_is_dict<br>Datetime: 2025-08-26 09:45:57.153225<br>Python version: 3.12.11<br>skforecast version: 0.15.1<br>numpy version: 2.1.3<br>pandas version: 2.3.2<br>sklearn version: 1.6.1<br>lightgbm version: 4.6.0<br>Platform: Linux-6.11.0-1018-azure-x86_64-with-glibc2.39<br>Processor: x86_64<br>CPU count: 4<br>Memory (GB): 16.77<br>Run time avg: 2.073582 s<br>Run time median: 2.062931 s<br>Run time p95: 2.118569 s<br>Run time std: 0.026833 s<br>Nº repeats: 10",
          "Forecaster: ForecasterRecursiveMultiSeries<br>Regressor: DummyRegressor<br>Function: ForecasterRecursiveMultiSeries__create_train_X_y_series_is_dict_exog_is_dict<br>Function_hash: c70cf08e09088bd1bcfbf3c005078457<br>Method: _create_train_X_y_series_is_dict_exog_is_dict<br>Datetime: 2025-08-26 10:09:32.093155<br>Python version: 3.12.11<br>skforecast version: 0.15.1<br>numpy version: 2.1.3<br>pandas version: 2.3.2<br>sklearn version: 1.6.1<br>lightgbm version: 4.6.0<br>Platform: Linux-6.11.0-1018-azure-x86_64-with-glibc2.39<br>Processor: x86_64<br>CPU count: 4<br>Memory (GB): 16.77<br>Run time avg: 2.054710 s<br>Run time median: 2.051150 s<br>Run time p95: 2.111571 s<br>Run time std: 0.038561 s<br>Nº repeats: 10"
         ],
         "type": "scatter",
         "visible": false,
         "x": {
          "bdata": "3IvWeQMqkz+4Yj035umNPypzLB0LcaO/opX2Gpnqoz8=",
          "dtype": "f8"
         },
         "y": {
          "bdata": "jVDOnUaHAED2ydKRV6AAQOB5pyGylgBAQLaB8QtwAEA=",
          "dtype": "f8"
         }
        },
        {
         "error_y": {
          "array": {
           "bdata": "YtkIzbBJpT+64d1G0feWP0Gk9E+dO5Y/FWJcJMEcnT8=",
           "dtype": "f8"
          },
          "color": "#EF553B",
          "thickness": 1.5,
          "type": "data",
          "visible": true,
          "width": 5
         },
         "hovertemplate": "%{text}<extra></extra>",
         "marker": {
          "color": "#EF553B",
          "line": {
           "color": "white",
           "width": 1
          },
          "opacity": 0.85,
          "size": 10
         },
         "mode": "markers",
         "text": [
          "Forecaster: ForecasterRecursiveMultiSeries<br>Regressor: DummyRegressor<br>Function: ForecasterRecursiveMultiSeries__create_train_X_y_series_is_dict_exog_is_dict<br>Function_hash: c70cf08e09088bd1bcfbf3c005078457<br>Method: _create_train_X_y_series_is_dict_exog_is_dict<br>Datetime: 2025-08-26 08:30:25.349250<br>Python version: 3.12.11<br>skforecast version: 0.16.0<br>numpy version: 2.1.3<br>pandas version: 2.3.2<br>sklearn version: 1.6.1<br>lightgbm version: 4.6.0<br>Platform: Linux-6.11.0-1018-azure-x86_64-with-glibc2.39<br>Processor: x86_64<br>CPU count: 4<br>Memory (GB): 16.77<br>Run time avg: 1.249419 s<br>Run time median: 1.243370 s<br>Run time p95: 1.311856 s<br>Run time std: 0.041578 s<br>Nº repeats: 10",
          "Forecaster: ForecasterRecursiveMultiSeries<br>Regressor: DummyRegressor<br>Function: ForecasterRecursiveMultiSeries__create_train_X_y_series_is_dict_exog_is_dict<br>Function_hash: c70cf08e09088bd1bcfbf3c005078457<br>Method: _create_train_X_y_series_is_dict_exog_is_dict<br>Datetime: 2025-08-26 08:40:19.748276<br>Python version: 3.12.11<br>skforecast version: 0.16.0<br>numpy version: 2.1.3<br>pandas version: 2.3.2<br>sklearn version: 1.6.1<br>lightgbm version: 4.6.0<br>Platform: Linux-6.11.0-1018-azure-x86_64-with-glibc2.39<br>Processor: x86_64<br>CPU count: 4<br>Memory (GB): 16.77<br>Run time avg: 1.227065 s<br>Run time median: 1.216374 s<br>Run time p95: 1.269010 s<br>Run time std: 0.022430 s<br>Nº repeats: 10",
          "Forecaster: ForecasterRecursiveMultiSeries<br>Regressor: DummyRegressor<br>Function: ForecasterRecursiveMultiSeries__create_train_X_y_series_is_dict_exog_is_dict<br>Function_hash: c70cf08e09088bd1bcfbf3c005078457<br>Method: _create_train_X_y_series_is_dict_exog_is_dict<br>Datetime: 2025-08-26 08:54:35.455861<br>Python version: 3.12.11<br>skforecast version: 0.16.0<br>numpy version: 2.1.3<br>pandas version: 2.3.2<br>sklearn version: 1.6.1<br>lightgbm version: 4.6.0<br>Platform: Linux-6.11.0-1018-azure-x86_64-with-glibc2.39<br>Processor: x86_64<br>CPU count: 4<br>Memory (GB): 16.77<br>Run time avg: 1.286068 s<br>Run time median: 1.281044 s<br>Run time p95: 1.327373 s<br>Run time std: 0.021712 s<br>Nº repeats: 10",
          "Forecaster: ForecasterRecursiveMultiSeries<br>Regressor: DummyRegressor<br>Function: ForecasterRecursiveMultiSeries__create_train_X_y_series_is_dict_exog_is_dict<br>Function_hash: c70cf08e09088bd1bcfbf3c005078457<br>Method: _create_train_X_y_series_is_dict_exog_is_dict<br>Datetime: 2025-08-26 09:04:58.001682<br>Python version: 3.12.11<br>skforecast version: 0.16.0<br>numpy version: 2.1.3<br>pandas version: 2.3.2<br>sklearn version: 1.6.1<br>lightgbm version: 4.6.0<br>Platform: Linux-6.11.0-1018-azure-x86_64-with-glibc2.39<br>Processor: x86_64<br>CPU count: 4<br>Memory (GB): 16.77<br>Run time avg: 1.294300 s<br>Run time median: 1.285981 s<br>Run time p95: 1.344518 s<br>Run time std: 0.028430 s<br>Nº repeats: 10"
         ],
         "type": "scatter",
         "visible": false,
         "x": {
          "bdata": "rfpOwViL7z8ISw4cUITwP4lWfRAEee8/Ch5GdcOw8D8=",
          "dtype": "f8"
         },
         "y": {
          "bdata": "GvmdIp/98z8tSRJCD6LzP83wWmi8k/Q/Grh2XHS19D8=",
          "dtype": "f8"
         }
        },
        {
         "error_y": {
          "array": {
           "bdata": "diKo+yBulj8DHdDVcVmkP5oBb8ergZw/hgZV8kxImT/4/x4IZsKkPw==",
           "dtype": "f8"
          },
          "color": "#00CC96",
          "thickness": 1.5,
          "type": "data",
          "visible": true,
          "width": 5
         },
         "hovertemplate": "%{text}<extra></extra>",
         "marker": {
          "color": "#00CC96",
          "line": {
           "color": "white",
           "width": 1
          },
          "opacity": 0.85,
          "size": 10
         },
         "mode": "markers",
         "text": [
          "Forecaster: ForecasterRecursiveMultiSeries<br>Regressor: DummyRegressor<br>Function: ForecasterRecursiveMultiSeries__create_train_X_y_series_is_dict_exog_is_dict<br>Function_hash: c70cf08e09088bd1bcfbf3c005078457<br>Method: _create_train_X_y_series_is_dict_exog_is_dict<br>Datetime: 2025-08-26 06:59:31.476707<br>Python version: 3.12.11<br>skforecast version: 0.17.0<br>numpy version: 2.1.3<br>pandas version: 2.3.2<br>sklearn version: 1.6.1<br>lightgbm version: 4.6.0<br>Platform: Linux-6.11.0-1018-azure-x86_64-with-glibc2.39<br>Processor: x86_64<br>CPU count: 4<br>Memory (GB): 16.77<br>Run time avg: 1.284028 s<br>Run time median: 1.276731 s<br>Run time p95: 1.324669 s<br>Run time std: 0.021904 s<br>Nº repeats: 10",
          "Forecaster: ForecasterRecursiveMultiSeries<br>Regressor: DummyRegressor<br>Function: ForecasterRecursiveMultiSeries__create_train_X_y_series_is_dict_exog_is_dict<br>Function_hash: c70cf08e09088bd1bcfbf3c005078457<br>Method: _create_train_X_y_series_is_dict_exog_is_dict<br>Datetime: 2025-08-26 07:12:19.883082<br>Python version: 3.12.11<br>skforecast version: 0.17.0<br>numpy version: 2.1.3<br>pandas version: 2.3.2<br>sklearn version: 1.6.1<br>lightgbm version: 4.6.0<br>Platform: Linux-6.11.0-1018-azure-x86_64-with-glibc2.39<br>Processor: x86_64<br>CPU count: 4<br>Memory (GB): 16.77<br>Run time avg: 1.337861 s<br>Run time median: 1.321587 s<br>Run time p95: 1.412478 s<br>Run time std: 0.039745 s<br>Nº repeats: 10",
          "Forecaster: ForecasterRecursiveMultiSeries<br>Regressor: DummyRegressor<br>Function: ForecasterRecursiveMultiSeries__create_train_X_y_series_is_dict_exog_is_dict<br>Function_hash: c70cf08e09088bd1bcfbf3c005078457<br>Method: _create_train_X_y_series_is_dict_exog_is_dict<br>Datetime: 2025-08-26 07:30:51.566071<br>Python version: 3.12.11<br>skforecast version: 0.17.0<br>numpy version: 2.1.3<br>pandas version: 2.3.2<br>sklearn version: 1.6.1<br>lightgbm version: 4.6.0<br>Platform: Linux-6.11.0-1018-azure-x86_64-with-glibc2.39<br>Processor: x86_64<br>CPU count: 4<br>Memory (GB): 16.77<br>Run time avg: 1.313582 s<br>Run time median: 1.301044 s<br>Run time p95: 1.364147 s<br>Run time std: 0.027838 s<br>Nº repeats: 10",
          "Forecaster: ForecasterRecursiveMultiSeries<br>Regressor: DummyRegressor<br>Function: ForecasterRecursiveMultiSeries__create_train_X_y_series_is_dict_exog_is_dict<br>Function_hash: c70cf08e09088bd1bcfbf3c005078457<br>Method: _create_train_X_y_series_is_dict_exog_is_dict<br>Datetime: 2025-08-26 07:43:30.532207<br>Python version: 3.12.11<br>skforecast version: 0.17.0<br>numpy version: 2.1.3<br>pandas version: 2.3.2<br>sklearn version: 1.6.1<br>lightgbm version: 4.6.0<br>Platform: Linux-6.11.0-1018-azure-x86_64-with-glibc2.39<br>Processor: x86_64<br>CPU count: 4<br>Memory (GB): 16.77<br>Run time avg: 1.326020 s<br>Run time median: 1.315841 s<br>Run time p95: 1.373672 s<br>Run time std: 0.024690 s<br>Nº repeats: 10",
          "Forecaster: ForecasterRecursiveMultiSeries<br>Regressor: DummyRegressor<br>Function: ForecasterRecursiveMultiSeries__create_train_X_y_series_is_dict_exog_is_dict<br>Function_hash: c70cf08e09088bd1bcfbf3c005078457<br>Method: _create_train_X_y_series_is_dict_exog_is_dict<br>Datetime: 2025-08-26 08:09:33.223066<br>Python version: 3.12.11<br>skforecast version: 0.17.0<br>numpy version: 2.1.3<br>pandas version: 2.3.2<br>sklearn version: 1.6.1<br>lightgbm version: 4.6.0<br>Platform: Linux-6.11.0-1018-azure-x86_64-with-glibc2.39<br>Processor: x86_64<br>CPU count: 4<br>Memory (GB): 16.77<br>Run time avg: 1.309244 s<br>Run time median: 1.292634 s<br>Run time p95: 1.388827 s<br>Run time std: 0.040546 s<br>Nº repeats: 10"
         ],
         "type": "scatter",
         "visible": false,
         "x": {
          "bdata": "796gLUtQAECEWn4MHzb/P/x/o9lusv8/LLf39UDU/z+POag/tB0AQA==",
          "dtype": "f8"
         },
         "y": {
          "bdata": "mjOrqmCL9D/aYj/A4Gf1P0Be+NJuBPU/ZuCJdmA39T/NUrPBqfL0Pw==",
          "dtype": "f8"
         }
        },
        {
         "error_y": {
          "array": {
           "bdata": "kDvWIG+YoD/9m8Vdr+GmP1O9ASN3jpo/yY5B94wanz8=",
           "dtype": "f8"
          },
          "color": "#636EFA",
          "thickness": 1.5,
          "type": "data",
          "visible": true,
          "width": 5
         },
         "hovertemplate": "%{text}<extra></extra>",
         "marker": {
          "color": "#636EFA",
          "line": {
           "color": "white",
           "width": 1
          },
          "opacity": 0.85,
          "size": 10
         },
         "mode": "markers",
         "text": [
          "Forecaster: ForecasterRecursiveMultiSeries<br>Regressor: DummyRegressor<br>Function: ForecasterRecursiveMultiSeries__create_train_X_y_series_is_dict_different_length_exog_is_dict<br>Function_hash: 91a35cbbffcab7d1203c8394333ee5f9<br>Method: _create_train_X_y_series_is_dict_different_length_exog_is_dict<br>Datetime: 2025-08-26 09:17:25.875261<br>Python version: 3.12.11<br>skforecast version: 0.15.1<br>numpy version: 2.1.3<br>pandas version: 2.3.2<br>sklearn version: 1.6.1<br>lightgbm version: 4.6.0<br>Platform: Linux-6.11.0-1018-azure-x86_64-with-glibc2.39<br>Processor: x86_64<br>CPU count: 4<br>Memory (GB): 16.77<br>Run time avg: 2.034827 s<br>Run time median: 2.028280 s<br>Run time p95: 2.085911 s<br>Run time std: 0.032413 s<br>Nº repeats: 10",
          "Forecaster: ForecasterRecursiveMultiSeries<br>Regressor: DummyRegressor<br>Function: ForecasterRecursiveMultiSeries__create_train_X_y_series_is_dict_different_length_exog_is_dict<br>Function_hash: 91a35cbbffcab7d1203c8394333ee5f9<br>Method: _create_train_X_y_series_is_dict_different_length_exog_is_dict<br>Datetime: 2025-08-26 09:33:26.396286<br>Python version: 3.12.11<br>skforecast version: 0.15.1<br>numpy version: 2.1.3<br>pandas version: 2.3.2<br>sklearn version: 1.6.1<br>lightgbm version: 4.6.0<br>Platform: Linux-6.11.0-1018-azure-x86_64-with-glibc2.39<br>Processor: x86_64<br>CPU count: 4<br>Memory (GB): 16.77<br>Run time avg: 2.025838 s<br>Run time median: 2.018308 s<br>Run time p95: 2.100743 s<br>Run time std: 0.044691 s<br>Nº repeats: 10",
          "Forecaster: ForecasterRecursiveMultiSeries<br>Regressor: DummyRegressor<br>Function: ForecasterRecursiveMultiSeries__create_train_X_y_series_is_dict_different_length_exog_is_dict<br>Function_hash: 91a35cbbffcab7d1203c8394333ee5f9<br>Method: _create_train_X_y_series_is_dict_different_length_exog_is_dict<br>Datetime: 2025-08-26 09:46:17.343633<br>Python version: 3.12.11<br>skforecast version: 0.15.1<br>numpy version: 2.1.3<br>pandas version: 2.3.2<br>sklearn version: 1.6.1<br>lightgbm version: 4.6.0<br>Platform: Linux-6.11.0-1018-azure-x86_64-with-glibc2.39<br>Processor: x86_64<br>CPU count: 4<br>Memory (GB): 16.77<br>Run time avg: 2.018466 s<br>Run time median: 2.015099 s<br>Run time p95: 2.061831 s<br>Run time std: 0.025934 s<br>Nº repeats: 10",
          "Forecaster: ForecasterRecursiveMultiSeries<br>Regressor: DummyRegressor<br>Function: ForecasterRecursiveMultiSeries__create_train_X_y_series_is_dict_different_length_exog_is_dict<br>Function_hash: 91a35cbbffcab7d1203c8394333ee5f9<br>Method: _create_train_X_y_series_is_dict_different_length_exog_is_dict<br>Datetime: 2025-08-26 10:09:52.188971<br>Python version: 3.12.11<br>skforecast version: 0.15.1<br>numpy version: 2.1.3<br>pandas version: 2.3.2<br>sklearn version: 1.6.1<br>lightgbm version: 4.6.0<br>Platform: Linux-6.11.0-1018-azure-x86_64-with-glibc2.39<br>Processor: x86_64<br>CPU count: 4<br>Memory (GB): 16.77<br>Run time avg: 2.008998 s<br>Run time median: 1.997628 s<br>Run time p95: 2.067447 s<br>Run time std: 0.030375 s<br>Nº repeats: 10"
         ],
         "type": "scatter",
         "visible": false,
         "x": {
          "bdata": "aB0q2Bf1lz+w3u24t6iNP8rwbnymPqa/Wqmaj+I1qT8=",
          "dtype": "f8"
         },
         "y": {
          "bdata": "JtUMm1NHAEAzpdHM6jQAQKCYpkDRJQBAQNVCs20SAEA=",
          "dtype": "f8"
         }
        },
        {
         "error_y": {
          "array": {
           "bdata": "m9JWBXIZoz+0C3EhumeWPy9jkLdjU5Q//0tkjZ64pD8=",
           "dtype": "f8"
          },
          "color": "#EF553B",
          "thickness": 1.5,
          "type": "data",
          "visible": true,
          "width": 5
         },
         "hovertemplate": "%{text}<extra></extra>",
         "marker": {
          "color": "#EF553B",
          "line": {
           "color": "white",
           "width": 1
          },
          "opacity": 0.85,
          "size": 10
         },
         "mode": "markers",
         "text": [
          "Forecaster: ForecasterRecursiveMultiSeries<br>Regressor: DummyRegressor<br>Function: ForecasterRecursiveMultiSeries__create_train_X_y_series_is_dict_different_length_exog_is_dict<br>Function_hash: 91a35cbbffcab7d1203c8394333ee5f9<br>Method: _create_train_X_y_series_is_dict_different_length_exog_is_dict<br>Datetime: 2025-08-26 08:30:37.808794<br>Python version: 3.12.11<br>skforecast version: 0.16.0<br>numpy version: 2.1.3<br>pandas version: 2.3.2<br>sklearn version: 1.6.1<br>lightgbm version: 4.6.0<br>Platform: Linux-6.11.0-1018-azure-x86_64-with-glibc2.39<br>Processor: x86_64<br>CPU count: 4<br>Memory (GB): 16.77<br>Run time avg: 1.245427 s<br>Run time median: 1.238341 s<br>Run time p95: 1.313618 s<br>Run time std: 0.037304 s<br>Nº repeats: 10",
          "Forecaster: ForecasterRecursiveMultiSeries<br>Regressor: DummyRegressor<br>Function: ForecasterRecursiveMultiSeries__create_train_X_y_series_is_dict_different_length_exog_is_dict<br>Function_hash: 91a35cbbffcab7d1203c8394333ee5f9<br>Method: _create_train_X_y_series_is_dict_different_length_exog_is_dict<br>Datetime: 2025-08-26 08:40:31.631723<br>Python version: 3.12.11<br>skforecast version: 0.16.0<br>numpy version: 2.1.3<br>pandas version: 2.3.2<br>sklearn version: 1.6.1<br>lightgbm version: 4.6.0<br>Platform: Linux-6.11.0-1018-azure-x86_64-with-glibc2.39<br>Processor: x86_64<br>CPU count: 4<br>Memory (GB): 16.77<br>Run time avg: 1.187822 s<br>Run time median: 1.182003 s<br>Run time p95: 1.223061 s<br>Run time std: 0.021880 s<br>Nº repeats: 10",
          "Forecaster: ForecasterRecursiveMultiSeries<br>Regressor: DummyRegressor<br>Function: ForecasterRecursiveMultiSeries__create_train_X_y_series_is_dict_different_length_exog_is_dict<br>Function_hash: 91a35cbbffcab7d1203c8394333ee5f9<br>Method: _create_train_X_y_series_is_dict_different_length_exog_is_dict<br>Datetime: 2025-08-26 08:54:47.608290<br>Python version: 3.12.11<br>skforecast version: 0.16.0<br>numpy version: 2.1.3<br>pandas version: 2.3.2<br>sklearn version: 1.6.1<br>lightgbm version: 4.6.0<br>Platform: Linux-6.11.0-1018-azure-x86_64-with-glibc2.39<br>Processor: x86_64<br>CPU count: 4<br>Memory (GB): 16.77<br>Run time avg: 1.214716 s<br>Run time median: 1.210967 s<br>Run time p95: 1.247573 s<br>Run time std: 0.019849 s<br>Nº repeats: 10",
          "Forecaster: ForecasterRecursiveMultiSeries<br>Regressor: DummyRegressor<br>Function: ForecasterRecursiveMultiSeries__create_train_X_y_series_is_dict_different_length_exog_is_dict<br>Function_hash: 91a35cbbffcab7d1203c8394333ee5f9<br>Method: _create_train_X_y_series_is_dict_different_length_exog_is_dict<br>Datetime: 2025-08-26 09:05:10.548197<br>Python version: 3.12.11<br>skforecast version: 0.16.0<br>numpy version: 2.1.3<br>pandas version: 2.3.2<br>sklearn version: 1.6.1<br>lightgbm version: 4.6.0<br>Platform: Linux-6.11.0-1018-azure-x86_64-with-glibc2.39<br>Processor: x86_64<br>CPU count: 4<br>Memory (GB): 16.77<br>Run time avg: 1.254089 s<br>Run time median: 1.244341 s<br>Run time p95: 1.319811 s<br>Run time std: 0.040471 s<br>Nº repeats: 10"
         ],
         "type": "scatter",
         "visible": false,
         "x": {
          "bdata": "hkDfJnJX8D+sRbss8dbvP+LLSxSWbu8/zbJfCnyj7j8=",
          "dtype": "f8"
         },
         "y": {
          "bdata": "M/CsZ0Tt8z8N7D7fUQHzP804pJR5b/M/wAsSlL8Q9D8=",
          "dtype": "f8"
         }
        },
        {
         "error_y": {
          "array": {
           "bdata": "K0sYZMoolj8kR7BHU8WXP3rNwwmvCZw/ehbm1soDnz+6Ud0vZ7SaPw==",
           "dtype": "f8"
          },
          "color": "#00CC96",
          "thickness": 1.5,
          "type": "data",
          "visible": true,
          "width": 5
         },
         "hovertemplate": "%{text}<extra></extra>",
         "marker": {
          "color": "#00CC96",
          "line": {
           "color": "white",
           "width": 1
          },
          "opacity": 0.85,
          "size": 10
         },
         "mode": "markers",
         "text": [
          "Forecaster: ForecasterRecursiveMultiSeries<br>Regressor: DummyRegressor<br>Function: ForecasterRecursiveMultiSeries__create_train_X_y_series_is_dict_different_length_exog_is_dict<br>Function_hash: 91a35cbbffcab7d1203c8394333ee5f9<br>Method: _create_train_X_y_series_is_dict_different_length_exog_is_dict<br>Datetime: 2025-08-26 06:59:43.329845<br>Python version: 3.12.11<br>skforecast version: 0.17.0<br>numpy version: 2.1.3<br>pandas version: 2.3.2<br>sklearn version: 1.6.1<br>lightgbm version: 4.6.0<br>Platform: Linux-6.11.0-1018-azure-x86_64-with-glibc2.39<br>Processor: x86_64<br>CPU count: 4<br>Memory (GB): 16.77<br>Run time avg: 1.184894 s<br>Run time median: 1.179469 s<br>Run time p95: 1.222944 s<br>Run time std: 0.021640 s<br>Nº repeats: 10",
          "Forecaster: ForecasterRecursiveMultiSeries<br>Regressor: DummyRegressor<br>Function: ForecasterRecursiveMultiSeries__create_train_X_y_series_is_dict_different_length_exog_is_dict<br>Function_hash: 91a35cbbffcab7d1203c8394333ee5f9<br>Method: _create_train_X_y_series_is_dict_different_length_exog_is_dict<br>Datetime: 2025-08-26 07:12:32.305632<br>Python version: 3.12.11<br>skforecast version: 0.17.0<br>numpy version: 2.1.3<br>pandas version: 2.3.2<br>sklearn version: 1.6.1<br>lightgbm version: 4.6.0<br>Platform: Linux-6.11.0-1018-azure-x86_64-with-glibc2.39<br>Processor: x86_64<br>CPU count: 4<br>Memory (GB): 16.77<br>Run time avg: 1.241758 s<br>Run time median: 1.235144 s<br>Run time p95: 1.281488 s<br>Run time std: 0.023214 s<br>Nº repeats: 10",
          "Forecaster: ForecasterRecursiveMultiSeries<br>Regressor: DummyRegressor<br>Function: ForecasterRecursiveMultiSeries__create_train_X_y_series_is_dict_different_length_exog_is_dict<br>Function_hash: 91a35cbbffcab7d1203c8394333ee5f9<br>Method: _create_train_X_y_series_is_dict_different_length_exog_is_dict<br>Datetime: 2025-08-26 07:31:03.767663<br>Python version: 3.12.11<br>skforecast version: 0.17.0<br>numpy version: 2.1.3<br>pandas version: 2.3.2<br>sklearn version: 1.6.1<br>lightgbm version: 4.6.0<br>Platform: Linux-6.11.0-1018-azure-x86_64-with-glibc2.39<br>Processor: x86_64<br>CPU count: 4<br>Memory (GB): 16.77<br>Run time avg: 1.219684 s<br>Run time median: 1.208901 s<br>Run time p95: 1.272002 s<br>Run time std: 0.027381 s<br>Nº repeats: 10",
          "Forecaster: ForecasterRecursiveMultiSeries<br>Regressor: DummyRegressor<br>Function: ForecasterRecursiveMultiSeries__create_train_X_y_series_is_dict_different_length_exog_is_dict<br>Function_hash: 91a35cbbffcab7d1203c8394333ee5f9<br>Method: _create_train_X_y_series_is_dict_different_length_exog_is_dict<br>Datetime: 2025-08-26 07:43:42.884037<br>Python version: 3.12.11<br>skforecast version: 0.17.0<br>numpy version: 2.1.3<br>pandas version: 2.3.2<br>sklearn version: 1.6.1<br>lightgbm version: 4.6.0<br>Platform: Linux-6.11.0-1018-azure-x86_64-with-glibc2.39<br>Processor: x86_64<br>CPU count: 4<br>Memory (GB): 16.77<br>Run time avg: 1.234690 s<br>Run time median: 1.224955 s<br>Run time p95: 1.285795 s<br>Run time std: 0.030288 s<br>Nº repeats: 10",
          "Forecaster: ForecasterRecursiveMultiSeries<br>Regressor: DummyRegressor<br>Function: ForecasterRecursiveMultiSeries__create_train_X_y_series_is_dict_different_length_exog_is_dict<br>Function_hash: 91a35cbbffcab7d1203c8394333ee5f9<br>Method: _create_train_X_y_series_is_dict_different_length_exog_is_dict<br>Datetime: 2025-08-26 08:09:45.403827<br>Python version: 3.12.11<br>skforecast version: 0.17.0<br>numpy version: 2.1.3<br>pandas version: 2.3.2<br>sklearn version: 1.6.1<br>lightgbm version: 4.6.0<br>Platform: Linux-6.11.0-1018-azure-x86_64-with-glibc2.39<br>Processor: x86_64<br>CPU count: 4<br>Memory (GB): 16.77<br>Run time avg: 1.217582 s<br>Run time median: 1.207164 s<br>Run time p95: 1.265811 s<br>Run time std: 0.026079 s<br>Nº repeats: 10"
         ],
         "type": "scatter",
         "visible": false,
         "x": {
          "bdata": "GxJFjvkQAEDE32vJy1n/P9JF5cSmUP8/35V8tVgaAEAAVm+4zhAAQA==",
          "dtype": "f8"
         },
         "y": {
          "bdata": "ze+1zFP18j+zn9cQPt7zP01dnt/Tg/M/89gs+UnB8z/NQcinN3vzPw==",
          "dtype": "f8"
         }
        },
        {
         "error_y": {
          "array": {
           "bdata": "d84FCwGeoT+NXOwT2zajP78yLrML0aQ/ZBk4F1HdpT8iIp5Z6oyqPw==",
           "dtype": "f8"
          },
          "color": "#00CC96",
          "thickness": 1.5,
          "type": "data",
          "visible": true,
          "width": 5
         },
         "hovertemplate": "%{text}<extra></extra>",
         "marker": {
          "color": "#00CC96",
          "line": {
           "color": "white",
           "width": 1
          },
          "opacity": 0.85,
          "size": 10
         },
         "mode": "markers",
         "text": [
          "Forecaster: ForecasterRecursiveMultiSeries<br>Regressor: DummyRegressor<br>Function: ForecasterRecursiveMultiSeries__create_train_X_y_series_is_dict_exog_is_df_wide<br>Function_hash: 26a326aa875d25a0daa46bd8a609bf42<br>Method: _create_train_X_y_series_is_dict_exog_is_df_wide<br>Datetime: 2025-08-26 06:59:55.285659<br>Python version: 3.12.11<br>skforecast version: 0.17.0<br>numpy version: 2.1.3<br>pandas version: 2.3.2<br>sklearn version: 1.6.1<br>lightgbm version: 4.6.0<br>Platform: Linux-6.11.0-1018-azure-x86_64-with-glibc2.39<br>Processor: x86_64<br>CPU count: 4<br>Memory (GB): 16.77<br>Run time avg: 1.195156 s<br>Run time median: 1.208084 s<br>Run time p95: 1.230520 s<br>Run time std: 0.034409 s<br>Nº repeats: 10",
          "Forecaster: ForecasterRecursiveMultiSeries<br>Regressor: DummyRegressor<br>Function: ForecasterRecursiveMultiSeries__create_train_X_y_series_is_dict_exog_is_df_wide<br>Function_hash: 26a326aa875d25a0daa46bd8a609bf42<br>Method: _create_train_X_y_series_is_dict_exog_is_df_wide<br>Datetime: 2025-08-26 07:12:44.687373<br>Python version: 3.12.11<br>skforecast version: 0.17.0<br>numpy version: 2.1.3<br>pandas version: 2.3.2<br>sklearn version: 1.6.1<br>lightgbm version: 4.6.0<br>Platform: Linux-6.11.0-1018-azure-x86_64-with-glibc2.39<br>Processor: x86_64<br>CPU count: 4<br>Memory (GB): 16.77<br>Run time avg: 1.237692 s<br>Run time median: 1.247577 s<br>Run time p95: 1.280117 s<br>Run time std: 0.037528 s<br>Nº repeats: 10",
          "Forecaster: ForecasterRecursiveMultiSeries<br>Regressor: DummyRegressor<br>Function: ForecasterRecursiveMultiSeries__create_train_X_y_series_is_dict_exog_is_df_wide<br>Function_hash: 26a326aa875d25a0daa46bd8a609bf42<br>Method: _create_train_X_y_series_is_dict_exog_is_df_wide<br>Datetime: 2025-08-26 07:31:16.042352<br>Python version: 3.12.11<br>skforecast version: 0.17.0<br>numpy version: 2.1.3<br>pandas version: 2.3.2<br>sklearn version: 1.6.1<br>lightgbm version: 4.6.0<br>Platform: Linux-6.11.0-1018-azure-x86_64-with-glibc2.39<br>Processor: x86_64<br>CPU count: 4<br>Memory (GB): 16.77<br>Run time avg: 1.226989 s<br>Run time median: 1.250877 s<br>Run time p95: 1.260425 s<br>Run time std: 0.040657 s<br>Nº repeats: 10",
          "Forecaster: ForecasterRecursiveMultiSeries<br>Regressor: DummyRegressor<br>Function: ForecasterRecursiveMultiSeries__create_train_X_y_series_is_dict_exog_is_df_wide<br>Function_hash: 26a326aa875d25a0daa46bd8a609bf42<br>Method: _create_train_X_y_series_is_dict_exog_is_df_wide<br>Datetime: 2025-08-26 07:43:55.196835<br>Python version: 3.12.11<br>skforecast version: 0.17.0<br>numpy version: 2.1.3<br>pandas version: 2.3.2<br>sklearn version: 1.6.1<br>lightgbm version: 4.6.0<br>Platform: Linux-6.11.0-1018-azure-x86_64-with-glibc2.39<br>Processor: x86_64<br>CPU count: 4<br>Memory (GB): 16.77<br>Run time avg: 1.230775 s<br>Run time median: 1.250620 s<br>Run time p95: 1.269881 s<br>Run time std: 0.042704 s<br>Nº repeats: 10",
          "Forecaster: ForecasterRecursiveMultiSeries<br>Regressor: DummyRegressor<br>Function: ForecasterRecursiveMultiSeries__create_train_X_y_series_is_dict_exog_is_df_wide<br>Function_hash: 26a326aa875d25a0daa46bd8a609bf42<br>Method: _create_train_X_y_series_is_dict_exog_is_df_wide<br>Datetime: 2025-08-26 08:09:57.913969<br>Python version: 3.12.11<br>skforecast version: 0.17.0<br>numpy version: 2.1.3<br>pandas version: 2.3.2<br>sklearn version: 1.6.1<br>lightgbm version: 4.6.0<br>Platform: Linux-6.11.0-1018-azure-x86_64-with-glibc2.39<br>Processor: x86_64<br>CPU count: 4<br>Memory (GB): 16.77<br>Run time avg: 1.250501 s<br>Run time median: 1.275024 s<br>Run time p95: 1.300164 s<br>Run time std: 0.051856 s<br>Nº repeats: 10"
         ],
         "type": "scatter",
         "visible": false,
         "x": {
          "bdata": "AZfk1mJw/z8KYVfHq1QAQA7/wLgiNABAMIXyI7qk/z/vpPrJA9f/Pw==",
          "dtype": "f8"
         },
         "y": {
          "bdata": "mo+ag1sf8z+ASLZWls3zP401uXq/ofM/GvlpCEGx8z+aGRxWDQL0Pw==",
          "dtype": "f8"
         }
        },
        {
         "error_y": {
          "array": {
           "bdata": "EwMUYpHvpD/I7Y395rarPz0kq66yRaY/LMTvIbF8qD8J4t81EN2uPw==",
           "dtype": "f8"
          },
          "color": "#00CC96",
          "thickness": 1.5,
          "type": "data",
          "visible": true,
          "width": 5
         },
         "hovertemplate": "%{text}<extra></extra>",
         "marker": {
          "color": "#00CC96",
          "line": {
           "color": "white",
           "width": 1
          },
          "opacity": 0.85,
          "size": 10
         },
         "mode": "markers",
         "text": [
          "Forecaster: ForecasterRecursiveMultiSeries<br>Regressor: DummyRegressor<br>Function: ForecasterRecursiveMultiSeries__create_train_X_y_series_is_df_long_no_exog<br>Function_hash: d097835b20174d3f50f8da85080fb7f4<br>Method: _create_train_X_y_series_is_df_long_no_exog<br>Datetime: 2025-08-26 07:00:06.141793<br>Python version: 3.12.11<br>skforecast version: 0.17.0<br>numpy version: 2.1.3<br>pandas version: 2.3.2<br>sklearn version: 1.6.1<br>lightgbm version: 4.6.0<br>Platform: Linux-6.11.0-1018-azure-x86_64-with-glibc2.39<br>Processor: x86_64<br>CPU count: 4<br>Memory (GB): 16.77<br>Run time avg: 1.085193 s<br>Run time median: 1.107672 s<br>Run time p95: 1.129978 s<br>Run time std: 0.040890 s<br>Nº repeats: 10",
          "Forecaster: ForecasterRecursiveMultiSeries<br>Regressor: DummyRegressor<br>Function: ForecasterRecursiveMultiSeries__create_train_X_y_series_is_df_long_no_exog<br>Function_hash: d097835b20174d3f50f8da85080fb7f4<br>Method: _create_train_X_y_series_is_df_long_no_exog<br>Datetime: 2025-08-26 07:12:56.057857<br>Python version: 3.12.11<br>skforecast version: 0.17.0<br>numpy version: 2.1.3<br>pandas version: 2.3.2<br>sklearn version: 1.6.1<br>lightgbm version: 4.6.0<br>Platform: Linux-6.11.0-1018-azure-x86_64-with-glibc2.39<br>Processor: x86_64<br>CPU count: 4<br>Memory (GB): 16.77<br>Run time avg: 1.136563 s<br>Run time median: 1.167005 s<br>Run time p95: 1.192428 s<br>Run time std: 0.054130 s<br>Nº repeats: 10",
          "Forecaster: ForecasterRecursiveMultiSeries<br>Regressor: DummyRegressor<br>Function: ForecasterRecursiveMultiSeries__create_train_X_y_series_is_df_long_no_exog<br>Function_hash: d097835b20174d3f50f8da85080fb7f4<br>Method: _create_train_X_y_series_is_df_long_no_exog<br>Datetime: 2025-08-26 07:31:27.040213<br>Python version: 3.12.11<br>skforecast version: 0.17.0<br>numpy version: 2.1.3<br>pandas version: 2.3.2<br>sklearn version: 1.6.1<br>lightgbm version: 4.6.0<br>Platform: Linux-6.11.0-1018-azure-x86_64-with-glibc2.39<br>Processor: x86_64<br>CPU count: 4<br>Memory (GB): 16.77<br>Run time avg: 1.099307 s<br>Run time median: 1.128720 s<br>Run time p95: 1.140251 s<br>Run time std: 0.043501 s<br>Nº repeats: 10",
          "Forecaster: ForecasterRecursiveMultiSeries<br>Regressor: DummyRegressor<br>Function: ForecasterRecursiveMultiSeries__create_train_X_y_series_is_df_long_no_exog<br>Function_hash: d097835b20174d3f50f8da85080fb7f4<br>Method: _create_train_X_y_series_is_df_long_no_exog<br>Datetime: 2025-08-26 07:44:06.366794<br>Python version: 3.12.11<br>skforecast version: 0.17.0<br>numpy version: 2.1.3<br>pandas version: 2.3.2<br>sklearn version: 1.6.1<br>lightgbm version: 4.6.0<br>Platform: Linux-6.11.0-1018-azure-x86_64-with-glibc2.39<br>Processor: x86_64<br>CPU count: 4<br>Memory (GB): 16.77<br>Run time avg: 1.116491 s<br>Run time median: 1.147527 s<br>Run time p95: 1.165464 s<br>Run time std: 0.047826 s<br>Nº repeats: 10",
          "Forecaster: ForecasterRecursiveMultiSeries<br>Regressor: DummyRegressor<br>Function: ForecasterRecursiveMultiSeries__create_train_X_y_series_is_df_long_no_exog<br>Function_hash: d097835b20174d3f50f8da85080fb7f4<br>Method: _create_train_X_y_series_is_df_long_no_exog<br>Datetime: 2025-08-26 08:10:09.176050<br>Python version: 3.12.11<br>skforecast version: 0.17.0<br>numpy version: 2.1.3<br>pandas version: 2.3.2<br>sklearn version: 1.6.1<br>lightgbm version: 4.6.0<br>Platform: Linux-6.11.0-1018-azure-x86_64-with-glibc2.39<br>Processor: x86_64<br>CPU count: 4<br>Memory (GB): 16.77<br>Run time avg: 1.125688 s<br>Run time median: 1.155145 s<br>Run time p95: 1.192366 s<br>Run time std: 0.060280 s<br>Nº repeats: 10"
         ],
         "type": "scatter",
         "visible": false,
         "x": {
          "bdata": "2m6F6aItAEB5vGRgEND/PzfJpWE7PQBAQ5r4EcAlAECMkV4d2FIAQA==",
          "dtype": "f8"
         },
         "y": {
          "bdata": "ZgnE2PJc8T+ai423XC/yP3MYQ27DlvE/gPBnLCXd8T8AsttI0QLyPw==",
          "dtype": "f8"
         }
        },
        {
         "error_y": {
          "array": {
           "bdata": "IdQ+9+9zmT8wATSDl3WkP3PJ1bwZX5w/yqLxS2FooT/Gx9VVli6jPw==",
           "dtype": "f8"
          },
          "color": "#00CC96",
          "thickness": 1.5,
          "type": "data",
          "visible": true,
          "width": 5
         },
         "hovertemplate": "%{text}<extra></extra>",
         "marker": {
          "color": "#00CC96",
          "line": {
           "color": "white",
           "width": 1
          },
          "opacity": 0.85,
          "size": 10
         },
         "mode": "markers",
         "text": [
          "Forecaster: ForecasterRecursiveMultiSeries<br>Regressor: DummyRegressor<br>Function: ForecasterRecursiveMultiSeries__create_train_X_y_series_is_df_long_exog_is_df_long<br>Function_hash: ab84dd154f04628b9f730c84329c51df<br>Method: _create_train_X_y_series_is_df_long_exog_is_df_long<br>Datetime: 2025-08-26 07:00:24.946244<br>Python version: 3.12.11<br>skforecast version: 0.17.0<br>numpy version: 2.1.3<br>pandas version: 2.3.2<br>sklearn version: 1.6.1<br>lightgbm version: 4.6.0<br>Platform: Linux-6.11.0-1018-azure-x86_64-with-glibc2.39<br>Processor: x86_64<br>CPU count: 4<br>Memory (GB): 16.77<br>Run time avg: 1.880017 s<br>Run time median: 1.886362 s<br>Run time p95: 1.896357 s<br>Run time std: 0.024856 s<br>Nº repeats: 10",
          "Forecaster: ForecasterRecursiveMultiSeries<br>Regressor: DummyRegressor<br>Function: ForecasterRecursiveMultiSeries__create_train_X_y_series_is_df_long_exog_is_df_long<br>Function_hash: ab84dd154f04628b9f730c84329c51df<br>Method: _create_train_X_y_series_is_df_long_exog_is_df_long<br>Datetime: 2025-08-26 07:13:15.454354<br>Python version: 3.12.11<br>skforecast version: 0.17.0<br>numpy version: 2.1.3<br>pandas version: 2.3.2<br>sklearn version: 1.6.1<br>lightgbm version: 4.6.0<br>Platform: Linux-6.11.0-1018-azure-x86_64-with-glibc2.39<br>Processor: x86_64<br>CPU count: 4<br>Memory (GB): 16.77<br>Run time avg: 1.939182 s<br>Run time median: 1.951982 s<br>Run time p95: 1.982681 s<br>Run time std: 0.039960 s<br>Nº repeats: 10",
          "Forecaster: ForecasterRecursiveMultiSeries<br>Regressor: DummyRegressor<br>Function: ForecasterRecursiveMultiSeries__create_train_X_y_series_is_df_long_exog_is_df_long<br>Function_hash: ab84dd154f04628b9f730c84329c51df<br>Method: _create_train_X_y_series_is_df_long_exog_is_df_long<br>Datetime: 2025-08-26 07:31:46.185298<br>Python version: 3.12.11<br>skforecast version: 0.17.0<br>numpy version: 2.1.3<br>pandas version: 2.3.2<br>sklearn version: 1.6.1<br>lightgbm version: 4.6.0<br>Platform: Linux-6.11.0-1018-azure-x86_64-with-glibc2.39<br>Processor: x86_64<br>CPU count: 4<br>Memory (GB): 16.77<br>Run time avg: 1.914035 s<br>Run time median: 1.919346 s<br>Run time p95: 1.936008 s<br>Run time std: 0.027707 s<br>Nº repeats: 10",
          "Forecaster: ForecasterRecursiveMultiSeries<br>Regressor: DummyRegressor<br>Function: ForecasterRecursiveMultiSeries__create_train_X_y_series_is_df_long_exog_is_df_long<br>Function_hash: ab84dd154f04628b9f730c84329c51df<br>Method: _create_train_X_y_series_is_df_long_exog_is_df_long<br>Datetime: 2025-08-26 07:44:25.826793<br>Python version: 3.12.11<br>skforecast version: 0.17.0<br>numpy version: 2.1.3<br>pandas version: 2.3.2<br>sklearn version: 1.6.1<br>lightgbm version: 4.6.0<br>Platform: Linux-6.11.0-1018-azure-x86_64-with-glibc2.39<br>Processor: x86_64<br>CPU count: 4<br>Memory (GB): 16.77<br>Run time avg: 1.945497 s<br>Run time median: 1.951563 s<br>Run time p95: 1.976545 s<br>Run time std: 0.033999 s<br>Nº repeats: 10",
          "Forecaster: ForecasterRecursiveMultiSeries<br>Regressor: DummyRegressor<br>Function: ForecasterRecursiveMultiSeries__create_train_X_y_series_is_df_long_exog_is_df_long<br>Function_hash: ab84dd154f04628b9f730c84329c51df<br>Method: _create_train_X_y_series_is_df_long_exog_is_df_long<br>Datetime: 2025-08-26 08:10:28.582385<br>Python version: 3.12.11<br>skforecast version: 0.17.0<br>numpy version: 2.1.3<br>pandas version: 2.3.2<br>sklearn version: 1.6.1<br>lightgbm version: 4.6.0<br>Platform: Linux-6.11.0-1018-azure-x86_64-with-glibc2.39<br>Processor: x86_64<br>CPU count: 4<br>Memory (GB): 16.77<br>Run time avg: 1.940105 s<br>Run time median: 1.952116 s<br>Run time p95: 1.965234 s<br>Run time std: 0.037465 s<br>Nº repeats: 10"
         ],
         "type": "scatter",
         "visible": false,
         "x": {
          "bdata": "C0104jBBAEDdAP2NGcb/P3KX0PdrWQBAJGiXr+ZCAEB0nBg77nn/Pw==",
          "dtype": "f8"
         },
         "y": {
          "bdata": "M65e6owU/j8aPJ614wb/P40ZNKLjn/4/WqLU2MEg/z+aMq4Yqwr/Pw==",
          "dtype": "f8"
         }
        },
        {
         "error_y": {
          "array": {
           "bdata": "TZ5Eb/reoj8EuewQzOqmP+HhaZeZGKQ/9XDx6OTTpT9jWnOzP9qnPw==",
           "dtype": "f8"
          },
          "color": "#00CC96",
          "thickness": 1.5,
          "type": "data",
          "visible": true,
          "width": 5
         },
         "hovertemplate": "%{text}<extra></extra>",
         "marker": {
          "color": "#00CC96",
          "line": {
           "color": "white",
           "width": 1
          },
          "opacity": 0.85,
          "size": 10
         },
         "mode": "markers",
         "text": [
          "Forecaster: ForecasterRecursiveMultiSeries<br>Regressor: DummyRegressor<br>Function: ForecasterRecursiveMultiSeries__create_train_X_y_series_is_df_long_exog_is_df_wide<br>Function_hash: df5c78b2387302f0197bee35d7a75cd1<br>Method: _create_train_X_y_series_is_df_long_exog_is_df_wide<br>Datetime: 2025-08-26 07:00:38.317756<br>Python version: 3.12.11<br>skforecast version: 0.17.0<br>numpy version: 2.1.3<br>pandas version: 2.3.2<br>sklearn version: 1.6.1<br>lightgbm version: 4.6.0<br>Platform: Linux-6.11.0-1018-azure-x86_64-with-glibc2.39<br>Processor: x86_64<br>CPU count: 4<br>Memory (GB): 16.77<br>Run time avg: 1.336722 s<br>Run time median: 1.350804 s<br>Run time p95: 1.367878 s<br>Run time std: 0.036857 s<br>Nº repeats: 10",
          "Forecaster: ForecasterRecursiveMultiSeries<br>Regressor: DummyRegressor<br>Function: ForecasterRecursiveMultiSeries__create_train_X_y_series_is_df_long_exog_is_df_wide<br>Function_hash: df5c78b2387302f0197bee35d7a75cd1<br>Method: _create_train_X_y_series_is_df_long_exog_is_df_wide<br>Datetime: 2025-08-26 07:13:29.361486<br>Python version: 3.12.11<br>skforecast version: 0.17.0<br>numpy version: 2.1.3<br>pandas version: 2.3.2<br>sklearn version: 1.6.1<br>lightgbm version: 4.6.0<br>Platform: Linux-6.11.0-1018-azure-x86_64-with-glibc2.39<br>Processor: x86_64<br>CPU count: 4<br>Memory (GB): 16.77<br>Run time avg: 1.390252 s<br>Run time median: 1.396927 s<br>Run time p95: 1.447633 s<br>Run time std: 0.044760 s<br>Nº repeats: 10",
          "Forecaster: ForecasterRecursiveMultiSeries<br>Regressor: DummyRegressor<br>Function: ForecasterRecursiveMultiSeries__create_train_X_y_series_is_df_long_exog_is_df_wide<br>Function_hash: df5c78b2387302f0197bee35d7a75cd1<br>Method: _create_train_X_y_series_is_df_long_exog_is_df_wide<br>Datetime: 2025-08-26 07:31:59.907702<br>Python version: 3.12.11<br>skforecast version: 0.17.0<br>numpy version: 2.1.3<br>pandas version: 2.3.2<br>sklearn version: 1.6.1<br>lightgbm version: 4.6.0<br>Platform: Linux-6.11.0-1018-azure-x86_64-with-glibc2.39<br>Processor: x86_64<br>CPU count: 4<br>Memory (GB): 16.77<br>Run time avg: 1.371770 s<br>Run time median: 1.388683 s<br>Run time p95: 1.403220 s<br>Run time std: 0.039250 s<br>Nº repeats: 10",
          "Forecaster: ForecasterRecursiveMultiSeries<br>Regressor: DummyRegressor<br>Function: ForecasterRecursiveMultiSeries__create_train_X_y_series_is_df_long_exog_is_df_wide<br>Function_hash: df5c78b2387302f0197bee35d7a75cd1<br>Method: _create_train_X_y_series_is_df_long_exog_is_df_wide<br>Datetime: 2025-08-26 07:44:39.630532<br>Python version: 3.12.11<br>skforecast version: 0.17.0<br>numpy version: 2.1.3<br>pandas version: 2.3.2<br>sklearn version: 1.6.1<br>lightgbm version: 4.6.0<br>Platform: Linux-6.11.0-1018-azure-x86_64-with-glibc2.39<br>Processor: x86_64<br>CPU count: 4<br>Memory (GB): 16.77<br>Run time avg: 1.379877 s<br>Run time median: 1.394014 s<br>Run time p95: 1.412577 s<br>Run time std: 0.042632 s<br>Nº repeats: 10",
          "Forecaster: ForecasterRecursiveMultiSeries<br>Regressor: DummyRegressor<br>Function: ForecasterRecursiveMultiSeries__create_train_X_y_series_is_df_long_exog_is_df_wide<br>Function_hash: df5c78b2387302f0197bee35d7a75cd1<br>Method: _create_train_X_y_series_is_df_long_exog_is_df_wide<br>Datetime: 2025-08-26 08:10:42.505088<br>Python version: 3.12.11<br>skforecast version: 0.17.0<br>numpy version: 2.1.3<br>pandas version: 2.3.2<br>sklearn version: 1.6.1<br>lightgbm version: 4.6.0<br>Platform: Linux-6.11.0-1018-azure-x86_64-with-glibc2.39<br>Processor: x86_64<br>CPU count: 4<br>Memory (GB): 16.77<br>Run time avg: 1.391733 s<br>Run time median: 1.413731 s<br>Run time p95: 1.429273 s<br>Run time std: 0.046587 s<br>Nº repeats: 10"
         ],
         "type": "scatter",
         "visible": false,
         "x": {
          "bdata": "SfL+eQFi/z+bj/EPW2H/P6VPwM/v9f8/XMWIqaU7AECpPrEBN0AAQA==",
          "dtype": "f8"
         },
         "y": {
          "bdata": "mkBREjdj9T/mMTAWeT72P+YvywrF8vU/WgAhNvoT9j+aF+lciUT2Pw==",
          "dtype": "f8"
         }
        },
        {
         "error_y": {
          "array": {
           "bdata": "gmDUgCuOID8PXNrUBNcfP3HCyOyhYx8/t+fK/LMRHj8=",
           "dtype": "f8"
          },
          "color": "#636EFA",
          "thickness": 1.5,
          "type": "data",
          "visible": true,
          "width": 5
         },
         "hovertemplate": "%{text}<extra></extra>",
         "marker": {
          "color": "#636EFA",
          "line": {
           "color": "white",
           "width": 1
          },
          "opacity": 0.85,
          "size": 10
         },
         "mode": "markers",
         "text": [
          "Forecaster: ForecasterRecursiveMultiSeries<br>Regressor: DummyRegressor<br>Function: ForecasterRecursiveMultiSeries__create_train_X_y_single_series<br>Function_hash: 3bf6c304af7db116a03c86a88d30ca70<br>Method: _create_train_X_y_single_series<br>Datetime: 2025-08-26 09:17:25.901463<br>Python version: 3.12.11<br>skforecast version: 0.15.1<br>numpy version: 2.1.3<br>pandas version: 2.3.2<br>sklearn version: 1.6.1<br>lightgbm version: 4.6.0<br>Platform: Linux-6.11.0-1018-azure-x86_64-with-glibc2.39<br>Processor: x86_64<br>CPU count: 4<br>Memory (GB): 16.77<br>Run time avg: 0.002068 s<br>Run time median: 0.002017 s<br>Run time p95: 0.002314 s<br>Run time std: 0.000126 s<br>Nº repeats: 10",
          "Forecaster: ForecasterRecursiveMultiSeries<br>Regressor: DummyRegressor<br>Function: ForecasterRecursiveMultiSeries__create_train_X_y_single_series<br>Function_hash: 3bf6c304af7db116a03c86a88d30ca70<br>Method: _create_train_X_y_single_series<br>Datetime: 2025-08-26 09:33:26.422572<br>Python version: 3.12.11<br>skforecast version: 0.15.1<br>numpy version: 2.1.3<br>pandas version: 2.3.2<br>sklearn version: 1.6.1<br>lightgbm version: 4.6.0<br>Platform: Linux-6.11.0-1018-azure-x86_64-with-glibc2.39<br>Processor: x86_64<br>CPU count: 4<br>Memory (GB): 16.77<br>Run time avg: 0.002078 s<br>Run time median: 0.002042 s<br>Run time p95: 0.002279 s<br>Run time std: 0.000121 s<br>Nº repeats: 10",
          "Forecaster: ForecasterRecursiveMultiSeries<br>Regressor: DummyRegressor<br>Function: ForecasterRecursiveMultiSeries__create_train_X_y_single_series<br>Function_hash: 3bf6c304af7db116a03c86a88d30ca70<br>Method: _create_train_X_y_single_series<br>Datetime: 2025-08-26 09:46:17.370395<br>Python version: 3.12.11<br>skforecast version: 0.15.1<br>numpy version: 2.1.3<br>pandas version: 2.3.2<br>sklearn version: 1.6.1<br>lightgbm version: 4.6.0<br>Platform: Linux-6.11.0-1018-azure-x86_64-with-glibc2.39<br>Processor: x86_64<br>CPU count: 4<br>Memory (GB): 16.77<br>Run time avg: 0.002098 s<br>Run time median: 0.002053 s<br>Run time p95: 0.002298 s<br>Run time std: 0.000120 s<br>Nº repeats: 10",
          "Forecaster: ForecasterRecursiveMultiSeries<br>Regressor: DummyRegressor<br>Function: ForecasterRecursiveMultiSeries__create_train_X_y_single_series<br>Function_hash: 3bf6c304af7db116a03c86a88d30ca70<br>Method: _create_train_X_y_single_series<br>Datetime: 2025-08-26 10:09:52.215458<br>Python version: 3.12.11<br>skforecast version: 0.15.1<br>numpy version: 2.1.3<br>pandas version: 2.3.2<br>sklearn version: 1.6.1<br>lightgbm version: 4.6.0<br>Platform: Linux-6.11.0-1018-azure-x86_64-with-glibc2.39<br>Processor: x86_64<br>CPU count: 4<br>Memory (GB): 16.77<br>Run time avg: 0.002075 s<br>Run time median: 0.002044 s<br>Run time p95: 0.002253 s<br>Run time std: 0.000115 s<br>Nº repeats: 10"
         ],
         "type": "scatter",
         "visible": false,
         "x": {
          "bdata": "UM/SF8rLZT80fkCzF3eIv2AMnYTiIFM/8JTctpbGkD8=",
          "dtype": "f8"
         },
         "y": {
          "bdata": "zcyuPTvxYD/NzKUQ1QZhP2ZmKWafMGE/ZmakVocAYT8=",
          "dtype": "f8"
         }
        },
        {
         "error_y": {
          "array": {
           "bdata": "FxGadh6aGj+H9ot2O8wTPzlO/PnY/hQ/Ng1RE/sKGj8=",
           "dtype": "f8"
          },
          "color": "#EF553B",
          "thickness": 1.5,
          "type": "data",
          "visible": true,
          "width": 5
         },
         "hovertemplate": "%{text}<extra></extra>",
         "marker": {
          "color": "#EF553B",
          "line": {
           "color": "white",
           "width": 1
          },
          "opacity": 0.85,
          "size": 10
         },
         "mode": "markers",
         "text": [
          "Forecaster: ForecasterRecursiveMultiSeries<br>Regressor: DummyRegressor<br>Function: ForecasterRecursiveMultiSeries__create_train_X_y_single_series<br>Function_hash: 3bf6c304af7db116a03c86a88d30ca70<br>Method: _create_train_X_y_single_series<br>Datetime: 2025-08-26 08:30:37.823346<br>Python version: 3.12.11<br>skforecast version: 0.16.0<br>numpy version: 2.1.3<br>pandas version: 2.3.2<br>sklearn version: 1.6.1<br>lightgbm version: 4.6.0<br>Platform: Linux-6.11.0-1018-azure-x86_64-with-glibc2.39<br>Processor: x86_64<br>CPU count: 4<br>Memory (GB): 16.77<br>Run time avg: 0.000938 s<br>Run time median: 0.000897 s<br>Run time p95: 0.001118 s<br>Run time std: 0.000101 s<br>Nº repeats: 10",
          "Forecaster: ForecasterRecursiveMultiSeries<br>Regressor: DummyRegressor<br>Function: ForecasterRecursiveMultiSeries__create_train_X_y_single_series<br>Function_hash: 3bf6c304af7db116a03c86a88d30ca70<br>Method: _create_train_X_y_single_series<br>Datetime: 2025-08-26 08:40:31.645970<br>Python version: 3.12.11<br>skforecast version: 0.16.0<br>numpy version: 2.1.3<br>pandas version: 2.3.2<br>sklearn version: 1.6.1<br>lightgbm version: 4.6.0<br>Platform: Linux-6.11.0-1018-azure-x86_64-with-glibc2.39<br>Processor: x86_64<br>CPU count: 4<br>Memory (GB): 16.77<br>Run time avg: 0.000914 s<br>Run time median: 0.000884 s<br>Run time p95: 0.001047 s<br>Run time std: 0.000076 s<br>Nº repeats: 10",
          "Forecaster: ForecasterRecursiveMultiSeries<br>Regressor: DummyRegressor<br>Function: ForecasterRecursiveMultiSeries__create_train_X_y_single_series<br>Function_hash: 3bf6c304af7db116a03c86a88d30ca70<br>Method: _create_train_X_y_single_series<br>Datetime: 2025-08-26 08:54:47.622738<br>Python version: 3.12.11<br>skforecast version: 0.16.0<br>numpy version: 2.1.3<br>pandas version: 2.3.2<br>sklearn version: 1.6.1<br>lightgbm version: 4.6.0<br>Platform: Linux-6.11.0-1018-azure-x86_64-with-glibc2.39<br>Processor: x86_64<br>CPU count: 4<br>Memory (GB): 16.77<br>Run time avg: 0.000931 s<br>Run time median: 0.000904 s<br>Run time p95: 0.001069 s<br>Run time std: 0.000080 s<br>Nº repeats: 10",
          "Forecaster: ForecasterRecursiveMultiSeries<br>Regressor: DummyRegressor<br>Function: ForecasterRecursiveMultiSeries__create_train_X_y_single_series<br>Function_hash: 3bf6c304af7db116a03c86a88d30ca70<br>Method: _create_train_X_y_single_series<br>Datetime: 2025-08-26 09:05:10.563388<br>Python version: 3.12.11<br>skforecast version: 0.16.0<br>numpy version: 2.1.3<br>pandas version: 2.3.2<br>sklearn version: 1.6.1<br>lightgbm version: 4.6.0<br>Platform: Linux-6.11.0-1018-azure-x86_64-with-glibc2.39<br>Processor: x86_64<br>CPU count: 4<br>Memory (GB): 16.77<br>Run time avg: 0.000963 s<br>Run time median: 0.000940 s<br>Run time p95: 0.001129 s<br>Run time std: 0.000099 s<br>Nº repeats: 10"
         ],
         "type": "scatter",
         "visible": false,
         "x": {
          "bdata": "V1ypKWVn8D9vwFG0m0HwPyL27/TcDfA/rOiZ4zpr7z8=",
          "dtype": "f8"
         },
         "y": {
          "bdata": "MzOPpH7ATj+amQXdX/dNPwAAIB3agE4/zcx9CcSLTz8=",
          "dtype": "f8"
         }
        },
        {
         "error_y": {
          "array": {
           "bdata": "rfTzmqkjEj9Y9zWAn/4YP7G4ao009BU/nyiJfhFoGT/JzCeSH6YfPw==",
           "dtype": "f8"
          },
          "color": "#00CC96",
          "thickness": 1.5,
          "type": "data",
          "visible": true,
          "width": 5
         },
         "hovertemplate": "%{text}<extra></extra>",
         "marker": {
          "color": "#00CC96",
          "line": {
           "color": "white",
           "width": 1
          },
          "opacity": 0.85,
          "size": 10
         },
         "mode": "markers",
         "text": [
          "Forecaster: ForecasterRecursiveMultiSeries<br>Regressor: DummyRegressor<br>Function: ForecasterRecursiveMultiSeries__create_train_X_y_single_series<br>Function_hash: 3bf6c304af7db116a03c86a88d30ca70<br>Method: _create_train_X_y_single_series<br>Datetime: 2025-08-26 07:00:38.330862<br>Python version: 3.12.11<br>skforecast version: 0.17.0<br>numpy version: 2.1.3<br>pandas version: 2.3.2<br>sklearn version: 1.6.1<br>lightgbm version: 4.6.0<br>Platform: Linux-6.11.0-1018-azure-x86_64-with-glibc2.39<br>Processor: x86_64<br>CPU count: 4<br>Memory (GB): 16.77<br>Run time avg: 0.000913 s<br>Run time median: 0.000896 s<br>Run time p95: 0.001026 s<br>Run time std: 0.000069 s<br>Nº repeats: 10",
          "Forecaster: ForecasterRecursiveMultiSeries<br>Regressor: DummyRegressor<br>Function: ForecasterRecursiveMultiSeries__create_train_X_y_single_series<br>Function_hash: 3bf6c304af7db116a03c86a88d30ca70<br>Method: _create_train_X_y_single_series<br>Datetime: 2025-08-26 07:13:29.375259<br>Python version: 3.12.11<br>skforecast version: 0.17.0<br>numpy version: 2.1.3<br>pandas version: 2.3.2<br>sklearn version: 1.6.1<br>lightgbm version: 4.6.0<br>Platform: Linux-6.11.0-1018-azure-x86_64-with-glibc2.39<br>Processor: x86_64<br>CPU count: 4<br>Memory (GB): 16.77<br>Run time avg: 0.000938 s<br>Run time median: 0.000918 s<br>Run time p95: 0.001088 s<br>Run time std: 0.000095 s<br>Nº repeats: 10",
          "Forecaster: ForecasterRecursiveMultiSeries<br>Regressor: DummyRegressor<br>Function: ForecasterRecursiveMultiSeries__create_train_X_y_single_series<br>Function_hash: 3bf6c304af7db116a03c86a88d30ca70<br>Method: _create_train_X_y_single_series<br>Datetime: 2025-08-26 07:31:59.921570<br>Python version: 3.12.11<br>skforecast version: 0.17.0<br>numpy version: 2.1.3<br>pandas version: 2.3.2<br>sklearn version: 1.6.1<br>lightgbm version: 4.6.0<br>Platform: Linux-6.11.0-1018-azure-x86_64-with-glibc2.39<br>Processor: x86_64<br>CPU count: 4<br>Memory (GB): 16.77<br>Run time avg: 0.000936 s<br>Run time median: 0.000901 s<br>Run time p95: 0.001079 s<br>Run time std: 0.000084 s<br>Nº repeats: 10",
          "Forecaster: ForecasterRecursiveMultiSeries<br>Regressor: DummyRegressor<br>Function: ForecasterRecursiveMultiSeries__create_train_X_y_single_series<br>Function_hash: 3bf6c304af7db116a03c86a88d30ca70<br>Method: _create_train_X_y_single_series<br>Datetime: 2025-08-26 07:44:39.644577<br>Python version: 3.12.11<br>skforecast version: 0.17.0<br>numpy version: 2.1.3<br>pandas version: 2.3.2<br>sklearn version: 1.6.1<br>lightgbm version: 4.6.0<br>Platform: Linux-6.11.0-1018-azure-x86_64-with-glibc2.39<br>Processor: x86_64<br>CPU count: 4<br>Memory (GB): 16.77<br>Run time avg: 0.000934 s<br>Run time median: 0.000896 s<br>Run time p95: 0.001098 s<br>Run time std: 0.000097 s<br>Nº repeats: 10",
          "Forecaster: ForecasterRecursiveMultiSeries<br>Regressor: DummyRegressor<br>Function: ForecasterRecursiveMultiSeries__create_train_X_y_single_series<br>Function_hash: 3bf6c304af7db116a03c86a88d30ca70<br>Method: _create_train_X_y_single_series<br>Datetime: 2025-08-26 08:10:42.519740<br>Python version: 3.12.11<br>skforecast version: 0.17.0<br>numpy version: 2.1.3<br>pandas version: 2.3.2<br>sklearn version: 1.6.1<br>lightgbm version: 4.6.0<br>Platform: Linux-6.11.0-1018-azure-x86_64-with-glibc2.39<br>Processor: x86_64<br>CPU count: 4<br>Memory (GB): 16.77<br>Run time avg: 0.000955 s<br>Run time median: 0.000907 s<br>Run time p95: 0.001172 s<br>Run time std: 0.000121 s<br>Nº repeats: 10"
         ],
         "type": "scatter",
         "visible": false,
         "x": {
          "bdata": "ldSPPUjB/z/y/cGdXlr/P5WunnR3hf8/MycewvSk/z9lu25VuWn/Pw==",
          "dtype": "f8"
         },
         "y": {
          "bdata": "MzMzknLrTT/NzNjvKbpOP5qZBRWDrk4/zcwkk4SZTj8AABAX4ktPPw==",
          "dtype": "f8"
         }
        },
        {
         "error_y": {
          "array": {
           "bdata": "FQrJFxVeqD8paOEvDU6vP7VZpsUmlKc/WbpeLjBFpT8=",
           "dtype": "f8"
          },
          "color": "#636EFA",
          "thickness": 1.5,
          "type": "data",
          "visible": true,
          "width": 5
         },
         "hovertemplate": "%{text}<extra></extra>",
         "marker": {
          "color": "#636EFA",
          "line": {
           "color": "white",
           "width": 1
          },
          "opacity": 0.85,
          "size": 10
         },
         "mode": "markers",
         "text": [
          "Forecaster: ForecasterRecursiveMultiSeries<br>Regressor: DummyRegressor<br>Function: ForecasterRecursiveMultiSeries_fit_series_is_dict_no_exog<br>Function_hash: 1bf35d7af3e076bed0b1e6bd4b5fcb8a<br>Method: fit_series_is_dict_no_exog<br>Datetime: 2025-08-26 09:17:40.719349<br>Python version: 3.12.11<br>skforecast version: 0.15.1<br>numpy version: 2.1.3<br>pandas version: 2.3.2<br>sklearn version: 1.6.1<br>lightgbm version: 4.6.0<br>Platform: Linux-6.11.0-1018-azure-x86_64-with-glibc2.39<br>Processor: x86_64<br>CPU count: 4<br>Memory (GB): 16.77<br>Run time avg: 2.962357 s<br>Run time median: 2.992064 s<br>Run time p95: 3.008658 s<br>Run time std: 0.047593 s<br>Nº repeats: 5",
          "Forecaster: ForecasterRecursiveMultiSeries<br>Regressor: DummyRegressor<br>Function: ForecasterRecursiveMultiSeries_fit_series_is_dict_no_exog<br>Function_hash: 1bf35d7af3e076bed0b1e6bd4b5fcb8a<br>Method: fit_series_is_dict_no_exog<br>Datetime: 2025-08-26 09:33:41.617964<br>Python version: 3.12.11<br>skforecast version: 0.15.1<br>numpy version: 2.1.3<br>pandas version: 2.3.2<br>sklearn version: 1.6.1<br>lightgbm version: 4.6.0<br>Platform: Linux-6.11.0-1018-azure-x86_64-with-glibc2.39<br>Processor: x86_64<br>CPU count: 4<br>Memory (GB): 16.77<br>Run time avg: 3.037833 s<br>Run time median: 3.048690 s<br>Run time p95: 3.104033 s<br>Run time std: 0.061142 s<br>Nº repeats: 5",
          "Forecaster: ForecasterRecursiveMultiSeries<br>Regressor: DummyRegressor<br>Function: ForecasterRecursiveMultiSeries_fit_series_is_dict_no_exog<br>Function_hash: 1bf35d7af3e076bed0b1e6bd4b5fcb8a<br>Method: fit_series_is_dict_no_exog<br>Datetime: 2025-08-26 09:46:32.371836<br>Python version: 3.12.11<br>skforecast version: 0.15.1<br>numpy version: 2.1.3<br>pandas version: 2.3.2<br>sklearn version: 1.6.1<br>lightgbm version: 4.6.0<br>Platform: Linux-6.11.0-1018-azure-x86_64-with-glibc2.39<br>Processor: x86_64<br>CPU count: 4<br>Memory (GB): 16.77<br>Run time avg: 2.999029 s<br>Run time median: 3.015012 s<br>Run time p95: 3.052353 s<br>Run time std: 0.046052 s<br>Nº repeats: 5",
          "Forecaster: ForecasterRecursiveMultiSeries<br>Regressor: DummyRegressor<br>Function: ForecasterRecursiveMultiSeries_fit_series_is_dict_no_exog<br>Function_hash: 1bf35d7af3e076bed0b1e6bd4b5fcb8a<br>Method: fit_series_is_dict_no_exog<br>Datetime: 2025-08-26 10:10:07.186089<br>Python version: 3.12.11<br>skforecast version: 0.15.1<br>numpy version: 2.1.3<br>pandas version: 2.3.2<br>sklearn version: 1.6.1<br>lightgbm version: 4.6.0<br>Platform: Linux-6.11.0-1018-azure-x86_64-with-glibc2.39<br>Processor: x86_64<br>CPU count: 4<br>Memory (GB): 16.77<br>Run time avg: 2.992911 s<br>Run time median: 3.000175 s<br>Run time p95: 3.046443 s<br>Run time std: 0.041543 s<br>Nº repeats: 5"
         ],
         "type": "scatter",
         "visible": false,
         "x": {
          "bdata": "IEG96qSilr9St9DZLm6mv8+N3wrr9ai/GjOkE7Zgmr8=",
          "dtype": "f8"
         },
         "y": {
          "bdata": "5hfOd+iyB0CzEtgze00IQICqHfAC/gdAM8Iqf3vxB0A=",
          "dtype": "f8"
         }
        },
        {
         "error_y": {
          "array": {
           "bdata": "E7TTBeIRqj8PaIflrkakP/crberbYaQ/5vOWIAPlpz8=",
           "dtype": "f8"
          },
          "color": "#EF553B",
          "thickness": 1.5,
          "type": "data",
          "visible": true,
          "width": 5
         },
         "hovertemplate": "%{text}<extra></extra>",
         "marker": {
          "color": "#EF553B",
          "line": {
           "color": "white",
           "width": 1
          },
          "opacity": 0.85,
          "size": 10
         },
         "mode": "markers",
         "text": [
          "Forecaster: ForecasterRecursiveMultiSeries<br>Regressor: DummyRegressor<br>Function: ForecasterRecursiveMultiSeries_fit_series_is_dict_no_exog<br>Function_hash: 1bf35d7af3e076bed0b1e6bd4b5fcb8a<br>Method: fit_series_is_dict_no_exog<br>Datetime: 2025-08-26 08:30:45.710706<br>Python version: 3.12.11<br>skforecast version: 0.16.0<br>numpy version: 2.1.3<br>pandas version: 2.3.2<br>sklearn version: 1.6.1<br>lightgbm version: 4.6.0<br>Platform: Linux-6.11.0-1018-azure-x86_64-with-glibc2.39<br>Processor: x86_64<br>CPU count: 4<br>Memory (GB): 16.77<br>Run time avg: 1.576423 s<br>Run time median: 1.616219 s<br>Run time p95: 1.618986 s<br>Run time std: 0.050918 s<br>Nº repeats: 5",
          "Forecaster: ForecasterRecursiveMultiSeries<br>Regressor: DummyRegressor<br>Function: ForecasterRecursiveMultiSeries_fit_series_is_dict_no_exog<br>Function_hash: 1bf35d7af3e076bed0b1e6bd4b5fcb8a<br>Method: fit_series_is_dict_no_exog<br>Datetime: 2025-08-26 08:40:39.359927<br>Python version: 3.12.11<br>skforecast version: 0.16.0<br>numpy version: 2.1.3<br>pandas version: 2.3.2<br>sklearn version: 1.6.1<br>lightgbm version: 4.6.0<br>Platform: Linux-6.11.0-1018-azure-x86_64-with-glibc2.39<br>Processor: x86_64<br>CPU count: 4<br>Memory (GB): 16.77<br>Run time avg: 1.541736 s<br>Run time median: 1.552845 s<br>Run time p95: 1.584556 s<br>Run time std: 0.039602 s<br>Nº repeats: 5",
          "Forecaster: ForecasterRecursiveMultiSeries<br>Regressor: DummyRegressor<br>Function: ForecasterRecursiveMultiSeries_fit_series_is_dict_no_exog<br>Function_hash: 1bf35d7af3e076bed0b1e6bd4b5fcb8a<br>Method: fit_series_is_dict_no_exog<br>Datetime: 2025-08-26 08:54:55.404864<br>Python version: 3.12.11<br>skforecast version: 0.16.0<br>numpy version: 2.1.3<br>pandas version: 2.3.2<br>sklearn version: 1.6.1<br>lightgbm version: 4.6.0<br>Platform: Linux-6.11.0-1018-azure-x86_64-with-glibc2.39<br>Processor: x86_64<br>CPU count: 4<br>Memory (GB): 16.77<br>Run time avg: 1.555391 s<br>Run time median: 1.587126 s<br>Run time p95: 1.588318 s<br>Run time std: 0.039809 s<br>Nº repeats: 5",
          "Forecaster: ForecasterRecursiveMultiSeries<br>Regressor: DummyRegressor<br>Function: ForecasterRecursiveMultiSeries_fit_series_is_dict_no_exog<br>Function_hash: 1bf35d7af3e076bed0b1e6bd4b5fcb8a<br>Method: fit_series_is_dict_no_exog<br>Datetime: 2025-08-26 09:05:18.549123<br>Python version: 3.12.11<br>skforecast version: 0.16.0<br>numpy version: 2.1.3<br>pandas version: 2.3.2<br>sklearn version: 1.6.1<br>lightgbm version: 4.6.0<br>Platform: Linux-6.11.0-1018-azure-x86_64-with-glibc2.39<br>Processor: x86_64<br>CPU count: 4<br>Memory (GB): 16.77<br>Run time avg: 1.595971 s<br>Run time median: 1.627332 s<br>Run time p95: 1.639453 s<br>Run time std: 0.046669 s<br>Nº repeats: 5"
         ],
         "type": "scatter",
         "visible": false,
         "x": {
          "bdata": "DDfGFKYS7z+sHZp2qKnwPy8p4wHsXO8/SKEXrImH8D8=",
          "dtype": "f8"
         },
         "y": {
          "bdata": "Zp+Snwc5+T+zBbE086r4P2amuizh4vg/gILPoRiJ+T8=",
          "dtype": "f8"
         }
        },
        {
         "error_y": {
          "array": {
           "bdata": "fmfoS2ospD/FfaaZLxqsPzzijSdAd6c/PJbSl3QBqD+jvmC78+6rPw==",
           "dtype": "f8"
          },
          "color": "#00CC96",
          "thickness": 1.5,
          "type": "data",
          "visible": true,
          "width": 5
         },
         "hovertemplate": "%{text}<extra></extra>",
         "marker": {
          "color": "#00CC96",
          "line": {
           "color": "white",
           "width": 1
          },
          "opacity": 0.85,
          "size": 10
         },
         "mode": "markers",
         "text": [
          "Forecaster: ForecasterRecursiveMultiSeries<br>Regressor: DummyRegressor<br>Function: ForecasterRecursiveMultiSeries_fit_series_is_dict_no_exog<br>Function_hash: 1bf35d7af3e076bed0b1e6bd4b5fcb8a<br>Method: fit_series_is_dict_no_exog<br>Datetime: 2025-08-26 07:00:45.990541<br>Python version: 3.12.11<br>skforecast version: 0.17.0<br>numpy version: 2.1.3<br>pandas version: 2.3.2<br>sklearn version: 1.6.1<br>lightgbm version: 4.6.0<br>Platform: Linux-6.11.0-1018-azure-x86_64-with-glibc2.39<br>Processor: x86_64<br>CPU count: 4<br>Memory (GB): 16.77<br>Run time avg: 1.531072 s<br>Run time median: 1.550869 s<br>Run time p95: 1.570511 s<br>Run time std: 0.039401 s<br>Nº repeats: 5",
          "Forecaster: ForecasterRecursiveMultiSeries<br>Regressor: DummyRegressor<br>Function: ForecasterRecursiveMultiSeries_fit_series_is_dict_no_exog<br>Function_hash: 1bf35d7af3e076bed0b1e6bd4b5fcb8a<br>Method: fit_series_is_dict_no_exog<br>Datetime: 2025-08-26 07:13:37.358403<br>Python version: 3.12.11<br>skforecast version: 0.17.0<br>numpy version: 2.1.3<br>pandas version: 2.3.2<br>sklearn version: 1.6.1<br>lightgbm version: 4.6.0<br>Platform: Linux-6.11.0-1018-azure-x86_64-with-glibc2.39<br>Processor: x86_64<br>CPU count: 4<br>Memory (GB): 16.77<br>Run time avg: 1.595675 s<br>Run time median: 1.627876 s<br>Run time p95: 1.648532 s<br>Run time std: 0.054887 s<br>Nº repeats: 5",
          "Forecaster: ForecasterRecursiveMultiSeries<br>Regressor: DummyRegressor<br>Function: ForecasterRecursiveMultiSeries_fit_series_is_dict_no_exog<br>Function_hash: 1bf35d7af3e076bed0b1e6bd4b5fcb8a<br>Method: fit_series_is_dict_no_exog<br>Datetime: 2025-08-26 07:32:07.720850<br>Python version: 3.12.11<br>skforecast version: 0.17.0<br>numpy version: 2.1.3<br>pandas version: 2.3.2<br>sklearn version: 1.6.1<br>lightgbm version: 4.6.0<br>Platform: Linux-6.11.0-1018-azure-x86_64-with-glibc2.39<br>Processor: x86_64<br>CPU count: 4<br>Memory (GB): 16.77<br>Run time avg: 1.558897 s<br>Run time median: 1.592679 s<br>Run time p95: 1.599005 s<br>Run time std: 0.045832 s<br>Nº repeats: 5",
          "Forecaster: ForecasterRecursiveMultiSeries<br>Regressor: DummyRegressor<br>Function: ForecasterRecursiveMultiSeries_fit_series_is_dict_no_exog<br>Function_hash: 1bf35d7af3e076bed0b1e6bd4b5fcb8a<br>Method: fit_series_is_dict_no_exog<br>Datetime: 2025-08-26 07:44:47.494143<br>Python version: 3.12.11<br>skforecast version: 0.17.0<br>numpy version: 2.1.3<br>pandas version: 2.3.2<br>sklearn version: 1.6.1<br>lightgbm version: 4.6.0<br>Platform: Linux-6.11.0-1018-azure-x86_64-with-glibc2.39<br>Processor: x86_64<br>CPU count: 4<br>Memory (GB): 16.77<br>Run time avg: 1.568902 s<br>Run time median: 1.599604 s<br>Run time p95: 1.613802 s<br>Run time std: 0.046886 s<br>Nº repeats: 5",
          "Forecaster: ForecasterRecursiveMultiSeries<br>Regressor: DummyRegressor<br>Function: ForecasterRecursiveMultiSeries_fit_series_is_dict_no_exog<br>Function_hash: 1bf35d7af3e076bed0b1e6bd4b5fcb8a<br>Method: fit_series_is_dict_no_exog<br>Datetime: 2025-08-26 08:10:50.378313<br>Python version: 3.12.11<br>skforecast version: 0.17.0<br>numpy version: 2.1.3<br>pandas version: 2.3.2<br>sklearn version: 1.6.1<br>lightgbm version: 4.6.0<br>Platform: Linux-6.11.0-1018-azure-x86_64-with-glibc2.39<br>Processor: x86_64<br>CPU count: 4<br>Memory (GB): 16.77<br>Run time avg: 1.570579 s<br>Run time median: 1.606957 s<br>Run time p95: 1.619954 s<br>Run time std: 0.054557 s<br>Nº repeats: 5"
         ],
         "type": "scatter",
         "visible": false,
         "x": {
          "bdata": "8CbE6llBAECUOwSipWj/P5T6s5TUJwBAKH7OS1/s/z/hTOVedYL/Pw==",
          "dtype": "f8"
         },
         "y": {
          "bdata": "mj8V2UV/+D/Nh1ZG4of5P81qDaA98fg/GsNmQDka+T8z4Ui+FyH5Pw==",
          "dtype": "f8"
         }
        },
        {
         "error_y": {
          "array": {
           "bdata": "h5jScwIsoD+D7GcCOZKTPzDEd8MY6Zc/09w9IcBaeT8=",
           "dtype": "f8"
          },
          "color": "#636EFA",
          "thickness": 1.5,
          "type": "data",
          "visible": true,
          "width": 5
         },
         "hovertemplate": "%{text}<extra></extra>",
         "marker": {
          "color": "#636EFA",
          "line": {
           "color": "white",
           "width": 1
          },
          "opacity": 0.85,
          "size": 10
         },
         "mode": "markers",
         "text": [
          "Forecaster: ForecasterRecursiveMultiSeries<br>Regressor: DummyRegressor<br>Function: ForecasterRecursiveMultiSeries_fit_series_is_dict_exog_is_dict<br>Function_hash: 60954df9d9e8b50a801581c853a9d82e<br>Method: fit_series_is_dict_exog_is_dict<br>Datetime: 2025-08-26 09:17:57.097353<br>Python version: 3.12.11<br>skforecast version: 0.15.1<br>numpy version: 2.1.3<br>pandas version: 2.3.2<br>sklearn version: 1.6.1<br>lightgbm version: 4.6.0<br>Platform: Linux-6.11.0-1018-azure-x86_64-with-glibc2.39<br>Processor: x86_64<br>CPU count: 4<br>Memory (GB): 16.77<br>Run time avg: 3.274467 s<br>Run time median: 3.262632 s<br>Run time p95: 3.318261 s<br>Run time std: 0.031586 s<br>Nº repeats: 5",
          "Forecaster: ForecasterRecursiveMultiSeries<br>Regressor: DummyRegressor<br>Function: ForecasterRecursiveMultiSeries_fit_series_is_dict_exog_is_dict<br>Function_hash: 60954df9d9e8b50a801581c853a9d82e<br>Method: fit_series_is_dict_exog_is_dict<br>Datetime: 2025-08-26 09:33:58.388473<br>Python version: 3.12.11<br>skforecast version: 0.15.1<br>numpy version: 2.1.3<br>pandas version: 2.3.2<br>sklearn version: 1.6.1<br>lightgbm version: 4.6.0<br>Platform: Linux-6.11.0-1018-azure-x86_64-with-glibc2.39<br>Processor: x86_64<br>CPU count: 4<br>Memory (GB): 16.77<br>Run time avg: 3.352942 s<br>Run time median: 3.352169 s<br>Run time p95: 3.378420 s<br>Run time std: 0.019112 s<br>Nº repeats: 5",
          "Forecaster: ForecasterRecursiveMultiSeries<br>Regressor: DummyRegressor<br>Function: ForecasterRecursiveMultiSeries_fit_series_is_dict_exog_is_dict<br>Function_hash: 60954df9d9e8b50a801581c853a9d82e<br>Method: fit_series_is_dict_exog_is_dict<br>Datetime: 2025-08-26 09:46:48.911057<br>Python version: 3.12.11<br>skforecast version: 0.15.1<br>numpy version: 2.1.3<br>pandas version: 2.3.2<br>sklearn version: 1.6.1<br>lightgbm version: 4.6.0<br>Platform: Linux-6.11.0-1018-azure-x86_64-with-glibc2.39<br>Processor: x86_64<br>CPU count: 4<br>Memory (GB): 16.77<br>Run time avg: 3.306684 s<br>Run time median: 3.312488 s<br>Run time p95: 3.332403 s<br>Run time std: 0.023350 s<br>Nº repeats: 5",
          "Forecaster: ForecasterRecursiveMultiSeries<br>Regressor: DummyRegressor<br>Function: ForecasterRecursiveMultiSeries_fit_series_is_dict_exog_is_dict<br>Function_hash: 60954df9d9e8b50a801581c853a9d82e<br>Method: fit_series_is_dict_exog_is_dict<br>Datetime: 2025-08-26 10:10:23.498518<br>Python version: 3.12.11<br>skforecast version: 0.15.1<br>numpy version: 2.1.3<br>pandas version: 2.3.2<br>sklearn version: 1.6.1<br>lightgbm version: 4.6.0<br>Platform: Linux-6.11.0-1018-azure-x86_64-with-glibc2.39<br>Processor: x86_64<br>CPU count: 4<br>Memory (GB): 16.77<br>Run time avg: 3.261300 s<br>Run time median: 3.258836 s<br>Run time p95: 3.270777 s<br>Run time std: 0.006190 s<br>Nº repeats: 5"
         ],
         "type": "scatter",
         "visible": false,
         "x": {
          "bdata": "7Hz7zmLGgT+QenYorC2jv6T7He+LDJO/1bNy1Dj1oL8=",
          "dtype": "f8"
         },
         "y": {
          "bdata": "zdPRihsyCkBzGXwu09IKQE39gNkWdApAzX9iOCQXCkA=",
          "dtype": "f8"
         }
        },
        {
         "error_y": {
          "array": {
           "bdata": "ysqPNWeqhj+Vz4UsERyBP/rfkZJ9A5E/xXNXyEbDcD8=",
           "dtype": "f8"
          },
          "color": "#EF553B",
          "thickness": 1.5,
          "type": "data",
          "visible": true,
          "width": 5
         },
         "hovertemplate": "%{text}<extra></extra>",
         "marker": {
          "color": "#EF553B",
          "line": {
           "color": "white",
           "width": 1
          },
          "opacity": 0.85,
          "size": 10
         },
         "mode": "markers",
         "text": [
          "Forecaster: ForecasterRecursiveMultiSeries<br>Regressor: DummyRegressor<br>Function: ForecasterRecursiveMultiSeries_fit_series_is_dict_exog_is_dict<br>Function_hash: 60954df9d9e8b50a801581c853a9d82e<br>Method: fit_series_is_dict_exog_is_dict<br>Datetime: 2025-08-26 08:30:55.105630<br>Python version: 3.12.11<br>skforecast version: 0.16.0<br>numpy version: 2.1.3<br>pandas version: 2.3.2<br>sklearn version: 1.6.1<br>lightgbm version: 4.6.0<br>Platform: Linux-6.11.0-1018-azure-x86_64-with-glibc2.39<br>Processor: x86_64<br>CPU count: 4<br>Memory (GB): 16.77<br>Run time avg: 1.877965 s<br>Run time median: 1.881936 s<br>Run time p95: 1.888902 s<br>Run time std: 0.011067 s<br>Nº repeats: 5",
          "Forecaster: ForecasterRecursiveMultiSeries<br>Regressor: DummyRegressor<br>Function: ForecasterRecursiveMultiSeries_fit_series_is_dict_exog_is_dict<br>Function_hash: 60954df9d9e8b50a801581c853a9d82e<br>Method: fit_series_is_dict_exog_is_dict<br>Datetime: 2025-08-26 08:40:48.416004<br>Python version: 3.12.11<br>skforecast version: 0.16.0<br>numpy version: 2.1.3<br>pandas version: 2.3.2<br>sklearn version: 1.6.1<br>lightgbm version: 4.6.0<br>Platform: Linux-6.11.0-1018-azure-x86_64-with-glibc2.39<br>Processor: x86_64<br>CPU count: 4<br>Memory (GB): 16.77<br>Run time avg: 1.810180 s<br>Run time median: 1.811976 s<br>Run time p95: 1.821234 s<br>Run time std: 0.008354 s<br>Nº repeats: 5",
          "Forecaster: ForecasterRecursiveMultiSeries<br>Regressor: DummyRegressor<br>Function: ForecasterRecursiveMultiSeries_fit_series_is_dict_exog_is_dict<br>Function_hash: 60954df9d9e8b50a801581c853a9d82e<br>Method: fit_series_is_dict_exog_is_dict<br>Datetime: 2025-08-26 08:55:04.571289<br>Python version: 3.12.11<br>skforecast version: 0.16.0<br>numpy version: 2.1.3<br>pandas version: 2.3.2<br>sklearn version: 1.6.1<br>lightgbm version: 4.6.0<br>Platform: Linux-6.11.0-1018-azure-x86_64-with-glibc2.39<br>Processor: x86_64<br>CPU count: 4<br>Memory (GB): 16.77<br>Run time avg: 1.832212 s<br>Run time median: 1.826301 s<br>Run time p95: 1.857650 s<br>Run time std: 0.016615 s<br>Nº repeats: 5",
          "Forecaster: ForecasterRecursiveMultiSeries<br>Regressor: DummyRegressor<br>Function: ForecasterRecursiveMultiSeries_fit_series_is_dict_exog_is_dict<br>Function_hash: 60954df9d9e8b50a801581c853a9d82e<br>Method: fit_series_is_dict_exog_is_dict<br>Datetime: 2025-08-26 09:05:28.015147<br>Python version: 3.12.11<br>skforecast version: 0.16.0<br>numpy version: 2.1.3<br>pandas version: 2.3.2<br>sklearn version: 1.6.1<br>lightgbm version: 4.6.0<br>Platform: Linux-6.11.0-1018-azure-x86_64-with-glibc2.39<br>Processor: x86_64<br>CPU count: 4<br>Memory (GB): 16.77<br>Run time avg: 1.892097 s<br>Run time median: 1.890682 s<br>Run time p95: 1.897901 s<br>Run time std: 0.004092 s<br>Nº repeats: 5"
         ],
         "type": "scatter",
         "visible": false,
         "x": {
          "bdata": "LX2qetle8D+y9e0sv2PwP4ImVwwBaPA/Ejf7v+B67z8=",
          "dtype": "f8"
         },
         "y": {
          "bdata": "zd48MiUM/j8zenaCf/b8PzMz+tq9UP0/5if/5gdG/j8=",
          "dtype": "f8"
         }
        },
        {
         "error_y": {
          "array": {
           "bdata": "mOGPY39Fjj/huHhhKhJ1P2/7QXUFa3Q/bDuG03eWhT9bHUhH9+aVPw==",
           "dtype": "f8"
          },
          "color": "#00CC96",
          "thickness": 1.5,
          "type": "data",
          "visible": true,
          "width": 5
         },
         "hovertemplate": "%{text}<extra></extra>",
         "marker": {
          "color": "#00CC96",
          "line": {
           "color": "white",
           "width": 1
          },
          "opacity": 0.85,
          "size": 10
         },
         "mode": "markers",
         "text": [
          "Forecaster: ForecasterRecursiveMultiSeries<br>Regressor: DummyRegressor<br>Function: ForecasterRecursiveMultiSeries_fit_series_is_dict_exog_is_dict<br>Function_hash: 60954df9d9e8b50a801581c853a9d82e<br>Method: fit_series_is_dict_exog_is_dict<br>Datetime: 2025-08-26 07:00:55.370722<br>Python version: 3.12.11<br>skforecast version: 0.17.0<br>numpy version: 2.1.3<br>pandas version: 2.3.2<br>sklearn version: 1.6.1<br>lightgbm version: 4.6.0<br>Platform: Linux-6.11.0-1018-azure-x86_64-with-glibc2.39<br>Processor: x86_64<br>CPU count: 4<br>Memory (GB): 16.77<br>Run time avg: 1.875200 s<br>Run time median: 1.879321 s<br>Run time p95: 1.893503 s<br>Run time std: 0.014781 s<br>Nº repeats: 5",
          "Forecaster: ForecasterRecursiveMultiSeries<br>Regressor: DummyRegressor<br>Function: ForecasterRecursiveMultiSeries_fit_series_is_dict_exog_is_dict<br>Function_hash: 60954df9d9e8b50a801581c853a9d82e<br>Method: fit_series_is_dict_exog_is_dict<br>Datetime: 2025-08-26 07:13:46.939782<br>Python version: 3.12.11<br>skforecast version: 0.17.0<br>numpy version: 2.1.3<br>pandas version: 2.3.2<br>sklearn version: 1.6.1<br>lightgbm version: 4.6.0<br>Platform: Linux-6.11.0-1018-azure-x86_64-with-glibc2.39<br>Processor: x86_64<br>CPU count: 4<br>Memory (GB): 16.77<br>Run time avg: 1.915390 s<br>Run time median: 1.916939 s<br>Run time p95: 1.920915 s<br>Run time std: 0.005144 s<br>Nº repeats: 5",
          "Forecaster: ForecasterRecursiveMultiSeries<br>Regressor: DummyRegressor<br>Function: ForecasterRecursiveMultiSeries_fit_series_is_dict_exog_is_dict<br>Function_hash: 60954df9d9e8b50a801581c853a9d82e<br>Method: fit_series_is_dict_exog_is_dict<br>Datetime: 2025-08-26 07:32:17.259306<br>Python version: 3.12.11<br>skforecast version: 0.17.0<br>numpy version: 2.1.3<br>pandas version: 2.3.2<br>sklearn version: 1.6.1<br>lightgbm version: 4.6.0<br>Platform: Linux-6.11.0-1018-azure-x86_64-with-glibc2.39<br>Processor: x86_64<br>CPU count: 4<br>Memory (GB): 16.77<br>Run time avg: 1.906762 s<br>Run time median: 1.905771 s<br>Run time p95: 1.912964 s<br>Run time std: 0.004985 s<br>Nº repeats: 5",
          "Forecaster: ForecasterRecursiveMultiSeries<br>Regressor: DummyRegressor<br>Function: ForecasterRecursiveMultiSeries_fit_series_is_dict_exog_is_dict<br>Function_hash: 60954df9d9e8b50a801581c853a9d82e<br>Method: fit_series_is_dict_exog_is_dict<br>Datetime: 2025-08-26 07:44:57.145737<br>Python version: 3.12.11<br>skforecast version: 0.17.0<br>numpy version: 2.1.3<br>pandas version: 2.3.2<br>sklearn version: 1.6.1<br>lightgbm version: 4.6.0<br>Platform: Linux-6.11.0-1018-azure-x86_64-with-glibc2.39<br>Processor: x86_64<br>CPU count: 4<br>Memory (GB): 16.77<br>Run time avg: 1.929376 s<br>Run time median: 1.927465 s<br>Run time p95: 1.941250 s<br>Run time std: 0.010541 s<br>Nº repeats: 5",
          "Forecaster: ForecasterRecursiveMultiSeries<br>Regressor: DummyRegressor<br>Function: ForecasterRecursiveMultiSeries_fit_series_is_dict_exog_is_dict<br>Function_hash: 60954df9d9e8b50a801581c853a9d82e<br>Method: fit_series_is_dict_exog_is_dict<br>Datetime: 2025-08-26 08:11:00.000766<br>Python version: 3.12.11<br>skforecast version: 0.17.0<br>numpy version: 2.1.3<br>pandas version: 2.3.2<br>sklearn version: 1.6.1<br>lightgbm version: 4.6.0<br>Platform: Linux-6.11.0-1018-azure-x86_64-with-glibc2.39<br>Processor: x86_64<br>CPU count: 4<br>Memory (GB): 16.77<br>Run time avg: 1.923517 s<br>Run time median: 1.911288 s<br>Run time p95: 1.952947 s<br>Run time std: 0.021389 s<br>Nº repeats: 5"
         ],
         "type": "scatter",
         "visible": false,
         "x": {
          "bdata": "912I+IkBAEAs9exCWeT/P8qxqTpWMwBACy1sDiRn/z+P4Ecuajn/Pw==",
          "dtype": "f8"
         },
         "y": {
          "bdata": "mqFlhtEA/j+a5eN3b6X+PzNKeVsYgv4/zc9fb7ne/j/NtP7xucb+Pw==",
          "dtype": "f8"
         }
        },
        {
         "error_y": {
          "array": {
           "bdata": "qKyoDoVelz8OtTAFMIeyP2GIPuUNeqk/dYkL+GtEqD8=",
           "dtype": "f8"
          },
          "color": "#636EFA",
          "thickness": 1.5,
          "type": "data",
          "visible": true,
          "width": 5
         },
         "hovertemplate": "%{text}<extra></extra>",
         "marker": {
          "color": "#636EFA",
          "line": {
           "color": "white",
           "width": 1
          },
          "opacity": 0.85,
          "size": 10
         },
         "mode": "markers",
         "text": [
          "Forecaster: ForecasterRecursiveMultiSeries<br>Regressor: DummyRegressor<br>Function: ForecasterRecursiveMultiSeries_fit_series_is_dict_different_length_exog_is_dict<br>Function_hash: 24ff7aa90f744c5f28f301482e3210f5<br>Method: fit_series_is_dict_different_length_exog_is_dict<br>Datetime: 2025-08-26 09:18:12.330366<br>Python version: 3.12.11<br>skforecast version: 0.15.1<br>numpy version: 2.1.3<br>pandas version: 2.3.2<br>sklearn version: 1.6.1<br>lightgbm version: 4.6.0<br>Platform: Linux-6.11.0-1018-azure-x86_64-with-glibc2.39<br>Processor: x86_64<br>CPU count: 4<br>Memory (GB): 16.77<br>Run time avg: 3.045465 s<br>Run time median: 3.035334 s<br>Run time p95: 3.080376 s<br>Run time std: 0.022822 s<br>Nº repeats: 5",
          "Forecaster: ForecasterRecursiveMultiSeries<br>Regressor: DummyRegressor<br>Function: ForecasterRecursiveMultiSeries_fit_series_is_dict_different_length_exog_is_dict<br>Function_hash: 24ff7aa90f744c5f28f301482e3210f5<br>Method: fit_series_is_dict_different_length_exog_is_dict<br>Datetime: 2025-08-26 09:34:13.593375<br>Python version: 3.12.11<br>skforecast version: 0.15.1<br>numpy version: 2.1.3<br>pandas version: 2.3.2<br>sklearn version: 1.6.1<br>lightgbm version: 4.6.0<br>Platform: Linux-6.11.0-1018-azure-x86_64-with-glibc2.39<br>Processor: x86_64<br>CPU count: 4<br>Memory (GB): 16.77<br>Run time avg: 3.039849 s<br>Run time median: 3.009227 s<br>Run time p95: 3.148139 s<br>Run time std: 0.072375 s<br>Nº repeats: 5",
          "Forecaster: ForecasterRecursiveMultiSeries<br>Regressor: DummyRegressor<br>Function: ForecasterRecursiveMultiSeries_fit_series_is_dict_different_length_exog_is_dict<br>Function_hash: 24ff7aa90f744c5f28f301482e3210f5<br>Method: fit_series_is_dict_different_length_exog_is_dict<br>Datetime: 2025-08-26 09:47:04.313915<br>Python version: 3.12.11<br>skforecast version: 0.15.1<br>numpy version: 2.1.3<br>pandas version: 2.3.2<br>sklearn version: 1.6.1<br>lightgbm version: 4.6.0<br>Platform: Linux-6.11.0-1018-azure-x86_64-with-glibc2.39<br>Processor: x86_64<br>CPU count: 4<br>Memory (GB): 16.77<br>Run time avg: 3.079389 s<br>Run time median: 3.054603 s<br>Run time p95: 3.154845 s<br>Run time std: 0.049759 s<br>Nº repeats: 5",
          "Forecaster: ForecasterRecursiveMultiSeries<br>Regressor: DummyRegressor<br>Function: ForecasterRecursiveMultiSeries_fit_series_is_dict_different_length_exog_is_dict<br>Function_hash: 24ff7aa90f744c5f28f301482e3210f5<br>Method: fit_series_is_dict_different_length_exog_is_dict<br>Datetime: 2025-08-26 10:10:38.480126<br>Python version: 3.12.11<br>skforecast version: 0.15.1<br>numpy version: 2.1.3<br>pandas version: 2.3.2<br>sklearn version: 1.6.1<br>lightgbm version: 4.6.0<br>Platform: Linux-6.11.0-1018-azure-x86_64-with-glibc2.39<br>Processor: x86_64<br>CPU count: 4<br>Memory (GB): 16.77<br>Run time avg: 2.995146 s<br>Run time median: 2.974015 s<br>Run time p95: 3.067651 s<br>Run time std: 0.047397 s<br>Nº repeats: 5"
         ],
         "type": "scatter",
         "visible": false,
         "x": {
          "bdata": "7mpm7gwFoz9f10cEKyymv0jFve9yk6M/fj6o7zGxoj8=",
          "dtype": "f8"
         },
         "y": {
          "bdata": "Gt9LihxdCECNuT9lnFEIQADNqcOWoghATbQBJA/2B0A=",
          "dtype": "f8"
         }
        },
        {
         "error_y": {
          "array": {
           "bdata": "3IZxcDD7jT+xpdvS9VedPwcPpd3zmqA/IBtLqJmNrj8=",
           "dtype": "f8"
          },
          "color": "#EF553B",
          "thickness": 1.5,
          "type": "data",
          "visible": true,
          "width": 5
         },
         "hovertemplate": "%{text}<extra></extra>",
         "marker": {
          "color": "#EF553B",
          "line": {
           "color": "white",
           "width": 1
          },
          "opacity": 0.85,
          "size": 10
         },
         "mode": "markers",
         "text": [
          "Forecaster: ForecasterRecursiveMultiSeries<br>Regressor: DummyRegressor<br>Function: ForecasterRecursiveMultiSeries_fit_series_is_dict_different_length_exog_is_dict<br>Function_hash: 24ff7aa90f744c5f28f301482e3210f5<br>Method: fit_series_is_dict_different_length_exog_is_dict<br>Datetime: 2025-08-26 08:31:03.863725<br>Python version: 3.12.11<br>skforecast version: 0.16.0<br>numpy version: 2.1.3<br>pandas version: 2.3.2<br>sklearn version: 1.6.1<br>lightgbm version: 4.6.0<br>Platform: Linux-6.11.0-1018-azure-x86_64-with-glibc2.39<br>Processor: x86_64<br>CPU count: 4<br>Memory (GB): 16.77<br>Run time avg: 1.750582 s<br>Run time median: 1.742928 s<br>Run time p95: 1.773064 s<br>Run time std: 0.014639 s<br>Nº repeats: 5",
          "Forecaster: ForecasterRecursiveMultiSeries<br>Regressor: DummyRegressor<br>Function: ForecasterRecursiveMultiSeries_fit_series_is_dict_different_length_exog_is_dict<br>Function_hash: 24ff7aa90f744c5f28f301482e3210f5<br>Method: fit_series_is_dict_different_length_exog_is_dict<br>Datetime: 2025-08-26 08:40:56.946517<br>Python version: 3.12.11<br>skforecast version: 0.16.0<br>numpy version: 2.1.3<br>pandas version: 2.3.2<br>sklearn version: 1.6.1<br>lightgbm version: 4.6.0<br>Platform: Linux-6.11.0-1018-azure-x86_64-with-glibc2.39<br>Processor: x86_64<br>CPU count: 4<br>Memory (GB): 16.77<br>Run time avg: 1.705092 s<br>Run time median: 1.695283 s<br>Run time p95: 1.748914 s<br>Run time std: 0.028656 s<br>Nº repeats: 5",
          "Forecaster: ForecasterRecursiveMultiSeries<br>Regressor: DummyRegressor<br>Function: ForecasterRecursiveMultiSeries_fit_series_is_dict_different_length_exog_is_dict<br>Function_hash: 24ff7aa90f744c5f28f301482e3210f5<br>Method: fit_series_is_dict_different_length_exog_is_dict<br>Datetime: 2025-08-26 08:55:13.208140<br>Python version: 3.12.11<br>skforecast version: 0.16.0<br>numpy version: 2.1.3<br>pandas version: 2.3.2<br>sklearn version: 1.6.1<br>lightgbm version: 4.6.0<br>Platform: Linux-6.11.0-1018-azure-x86_64-with-glibc2.39<br>Processor: x86_64<br>CPU count: 4<br>Memory (GB): 16.77<br>Run time avg: 1.726326 s<br>Run time median: 1.706364 s<br>Run time p95: 1.770039 s<br>Run time std: 0.032432 s<br>Nº repeats: 5",
          "Forecaster: ForecasterRecursiveMultiSeries<br>Regressor: DummyRegressor<br>Function: ForecasterRecursiveMultiSeries_fit_series_is_dict_different_length_exog_is_dict<br>Function_hash: 24ff7aa90f744c5f28f301482e3210f5<br>Method: fit_series_is_dict_different_length_exog_is_dict<br>Datetime: 2025-08-26 09:05:36.979518<br>Python version: 3.12.11<br>skforecast version: 0.16.0<br>numpy version: 2.1.3<br>pandas version: 2.3.2<br>sklearn version: 1.6.1<br>lightgbm version: 4.6.0<br>Platform: Linux-6.11.0-1018-azure-x86_64-with-glibc2.39<br>Processor: x86_64<br>CPU count: 4<br>Memory (GB): 16.77<br>Run time avg: 1.791762 s<br>Run time median: 1.772231 s<br>Run time p95: 1.882270 s<br>Run time std: 0.059674 s<br>Nº repeats: 5"
         ],
         "type": "scatter",
         "visible": false,
         "x": {
          "bdata": "HZN8jzU/7z+3ravoGyvwP/zpaDs4U+8/taWVXUpz7z8=",
          "dtype": "f8"
         },
         "y": {
          "bdata": "mmOcjmIC/D/mLy+lDkj7P80MemUIn/s/mql2cQ6r/D8=",
          "dtype": "f8"
         }
        },
        {
         "error_y": {
          "array": {
           "bdata": "tAPcDMKcgT8zK9LqGzSDP+HHXgoSRHw/yr99mTsBgj8OQHl4Qc2PPw==",
           "dtype": "f8"
          },
          "color": "#00CC96",
          "thickness": 1.5,
          "type": "data",
          "visible": true,
          "width": 5
         },
         "hovertemplate": "%{text}<extra></extra>",
         "marker": {
          "color": "#00CC96",
          "line": {
           "color": "white",
           "width": 1
          },
          "opacity": 0.85,
          "size": 10
         },
         "mode": "markers",
         "text": [
          "Forecaster: ForecasterRecursiveMultiSeries<br>Regressor: DummyRegressor<br>Function: ForecasterRecursiveMultiSeries_fit_series_is_dict_different_length_exog_is_dict<br>Function_hash: 24ff7aa90f744c5f28f301482e3210f5<br>Method: fit_series_is_dict_different_length_exog_is_dict<br>Datetime: 2025-08-26 07:01:03.893242<br>Python version: 3.12.11<br>skforecast version: 0.17.0<br>numpy version: 2.1.3<br>pandas version: 2.3.2<br>sklearn version: 1.6.1<br>lightgbm version: 4.6.0<br>Platform: Linux-6.11.0-1018-azure-x86_64-with-glibc2.39<br>Processor: x86_64<br>CPU count: 4<br>Memory (GB): 16.77<br>Run time avg: 1.703668 s<br>Run time median: 1.700454 s<br>Run time p95: 1.715143 s<br>Run time std: 0.008600 s<br>Nº repeats: 5",
          "Forecaster: ForecasterRecursiveMultiSeries<br>Regressor: DummyRegressor<br>Function: ForecasterRecursiveMultiSeries_fit_series_is_dict_different_length_exog_is_dict<br>Function_hash: 24ff7aa90f744c5f28f301482e3210f5<br>Method: fit_series_is_dict_different_length_exog_is_dict<br>Datetime: 2025-08-26 07:13:55.632288<br>Python version: 3.12.11<br>skforecast version: 0.17.0<br>numpy version: 2.1.3<br>pandas version: 2.3.2<br>sklearn version: 1.6.1<br>lightgbm version: 4.6.0<br>Platform: Linux-6.11.0-1018-azure-x86_64-with-glibc2.39<br>Processor: x86_64<br>CPU count: 4<br>Memory (GB): 16.77<br>Run time avg: 1.737611 s<br>Run time median: 1.732148 s<br>Run time p95: 1.750798 s<br>Run time std: 0.009377 s<br>Nº repeats: 5",
          "Forecaster: ForecasterRecursiveMultiSeries<br>Regressor: DummyRegressor<br>Function: ForecasterRecursiveMultiSeries_fit_series_is_dict_different_length_exog_is_dict<br>Function_hash: 24ff7aa90f744c5f28f301482e3210f5<br>Method: fit_series_is_dict_different_length_exog_is_dict<br>Datetime: 2025-08-26 07:32:25.920968<br>Python version: 3.12.11<br>skforecast version: 0.17.0<br>numpy version: 2.1.3<br>pandas version: 2.3.2<br>sklearn version: 1.6.1<br>lightgbm version: 4.6.0<br>Platform: Linux-6.11.0-1018-azure-x86_64-with-glibc2.39<br>Processor: x86_64<br>CPU count: 4<br>Memory (GB): 16.77<br>Run time avg: 1.731398 s<br>Run time median: 1.729768 s<br>Run time p95: 1.740903 s<br>Run time std: 0.006901 s<br>Nº repeats: 5",
          "Forecaster: ForecasterRecursiveMultiSeries<br>Regressor: DummyRegressor<br>Function: ForecasterRecursiveMultiSeries_fit_series_is_dict_different_length_exog_is_dict<br>Function_hash: 24ff7aa90f744c5f28f301482e3210f5<br>Method: fit_series_is_dict_different_length_exog_is_dict<br>Datetime: 2025-08-26 07:45:05.926088<br>Python version: 3.12.11<br>skforecast version: 0.17.0<br>numpy version: 2.1.3<br>pandas version: 2.3.2<br>sklearn version: 1.6.1<br>lightgbm version: 4.6.0<br>Platform: Linux-6.11.0-1018-azure-x86_64-with-glibc2.39<br>Processor: x86_64<br>CPU count: 4<br>Memory (GB): 16.77<br>Run time avg: 1.755132 s<br>Run time median: 1.749663 s<br>Run time p95: 1.767293 s<br>Run time std: 0.008791 s<br>Nº repeats: 5",
          "Forecaster: ForecasterRecursiveMultiSeries<br>Regressor: DummyRegressor<br>Function: ForecasterRecursiveMultiSeries_fit_series_is_dict_different_length_exog_is_dict<br>Function_hash: 24ff7aa90f744c5f28f301482e3210f5<br>Method: fit_series_is_dict_different_length_exog_is_dict<br>Datetime: 2025-08-26 08:11:08.661153<br>Python version: 3.12.11<br>skforecast version: 0.17.0<br>numpy version: 2.1.3<br>pandas version: 2.3.2<br>sklearn version: 1.6.1<br>lightgbm version: 4.6.0<br>Platform: Linux-6.11.0-1018-azure-x86_64-with-glibc2.39<br>Processor: x86_64<br>CPU count: 4<br>Memory (GB): 16.77<br>Run time avg: 1.731081 s<br>Run time median: 1.728705 s<br>Run time p95: 1.753759 s<br>Run time std: 0.015528 s<br>Nº repeats: 5"
         ],
         "type": "scatter",
         "visible": false,
         "x": {
          "bdata": "z9Sa6hdU/z9uT0HRWsb/Pxi6j77ZWwBAft1++6Th/z8510m9B57/Pw==",
          "dtype": "f8"
         },
         "y": {
          "bdata": "AJSu+zhC+z+aoAutQc37PwCVtNnOs/s/zTPHEAUV/D+aRTLDgbL7Pw==",
          "dtype": "f8"
         }
        },
        {
         "error_y": {
          "array": {
           "bdata": "tZvRrHEjpD9vYR6gehGsP/1wd236n6o/0dUjamitqz+N3MAU4iGrPw==",
           "dtype": "f8"
          },
          "color": "#00CC96",
          "thickness": 1.5,
          "type": "data",
          "visible": true,
          "width": 5
         },
         "hovertemplate": "%{text}<extra></extra>",
         "marker": {
          "color": "#00CC96",
          "line": {
           "color": "white",
           "width": 1
          },
          "opacity": 0.85,
          "size": 10
         },
         "mode": "markers",
         "text": [
          "Forecaster: ForecasterRecursiveMultiSeries<br>Regressor: DummyRegressor<br>Function: ForecasterRecursiveMultiSeries_fit_series_is_dataframe_no_exog<br>Function_hash: da51fde5e25b72af3316343a7aec1255<br>Method: fit_series_is_dataframe_no_exog<br>Datetime: 2025-08-26 07:01:12.350241<br>Python version: 3.12.11<br>skforecast version: 0.17.0<br>numpy version: 2.1.3<br>pandas version: 2.3.2<br>sklearn version: 1.6.1<br>lightgbm version: 4.6.0<br>Platform: Linux-6.11.0-1018-azure-x86_64-with-glibc2.39<br>Processor: x86_64<br>CPU count: 4<br>Memory (GB): 16.77<br>Run time avg: 1.690570 s<br>Run time median: 1.711007 s<br>Run time p95: 1.725303 s<br>Run time std: 0.039333 s<br>Nº repeats: 5",
          "Forecaster: ForecasterRecursiveMultiSeries<br>Regressor: DummyRegressor<br>Function: ForecasterRecursiveMultiSeries_fit_series_is_dataframe_no_exog<br>Function_hash: da51fde5e25b72af3316343a7aec1255<br>Method: fit_series_is_dataframe_no_exog<br>Datetime: 2025-08-26 07:14:04.203711<br>Python version: 3.12.11<br>skforecast version: 0.17.0<br>numpy version: 2.1.3<br>pandas version: 2.3.2<br>sklearn version: 1.6.1<br>lightgbm version: 4.6.0<br>Platform: Linux-6.11.0-1018-azure-x86_64-with-glibc2.39<br>Processor: x86_64<br>CPU count: 4<br>Memory (GB): 16.77<br>Run time avg: 1.713400 s<br>Run time median: 1.745116 s<br>Run time p95: 1.769018 s<br>Run time std: 0.054821 s<br>Nº repeats: 5",
          "Forecaster: ForecasterRecursiveMultiSeries<br>Regressor: DummyRegressor<br>Function: ForecasterRecursiveMultiSeries_fit_series_is_dataframe_no_exog<br>Function_hash: da51fde5e25b72af3316343a7aec1255<br>Method: fit_series_is_dataframe_no_exog<br>Datetime: 2025-08-26 07:32:34.442574<br>Python version: 3.12.11<br>skforecast version: 0.17.0<br>numpy version: 2.1.3<br>pandas version: 2.3.2<br>sklearn version: 1.6.1<br>lightgbm version: 4.6.0<br>Platform: Linux-6.11.0-1018-azure-x86_64-with-glibc2.39<br>Processor: x86_64<br>CPU count: 4<br>Memory (GB): 16.77<br>Run time avg: 1.703409 s<br>Run time median: 1.734972 s<br>Run time p95: 1.751506 s<br>Run time std: 0.052002 s<br>Nº repeats: 5",
          "Forecaster: ForecasterRecursiveMultiSeries<br>Regressor: DummyRegressor<br>Function: ForecasterRecursiveMultiSeries_fit_series_is_dataframe_no_exog<br>Function_hash: da51fde5e25b72af3316343a7aec1255<br>Method: fit_series_is_dataframe_no_exog<br>Datetime: 2025-08-26 07:45:14.536360<br>Python version: 3.12.11<br>skforecast version: 0.17.0<br>numpy version: 2.1.3<br>pandas version: 2.3.2<br>sklearn version: 1.6.1<br>lightgbm version: 4.6.0<br>Platform: Linux-6.11.0-1018-azure-x86_64-with-glibc2.39<br>Processor: x86_64<br>CPU count: 4<br>Memory (GB): 16.77<br>Run time avg: 1.721098 s<br>Run time median: 1.750567 s<br>Run time p95: 1.773481 s<br>Run time std: 0.054057 s<br>Nº repeats: 5",
          "Forecaster: ForecasterRecursiveMultiSeries<br>Regressor: DummyRegressor<br>Function: ForecasterRecursiveMultiSeries_fit_series_is_dataframe_no_exog<br>Function_hash: da51fde5e25b72af3316343a7aec1255<br>Method: fit_series_is_dataframe_no_exog<br>Datetime: 2025-08-26 08:11:17.174345<br>Python version: 3.12.11<br>skforecast version: 0.17.0<br>numpy version: 2.1.3<br>pandas version: 2.3.2<br>sklearn version: 1.6.1<br>lightgbm version: 4.6.0<br>Platform: Linux-6.11.0-1018-azure-x86_64-with-glibc2.39<br>Processor: x86_64<br>CPU count: 4<br>Memory (GB): 16.77<br>Run time avg: 1.701663 s<br>Run time median: 1.733726 s<br>Run time p95: 1.755809 s<br>Run time std: 0.052993 s<br>Nº repeats: 5"
         ],
         "type": "scatter",
         "visible": false,
         "x": {
          "bdata": "/M5lrSK6/z8AqD1d/ywAQClD49BQZf8/VstRbf0AAEDUCbCEGQgAQA==",
          "dtype": "f8"
         },
         "y": {
          "bdata": "zWBUpJMM+z+aolZlFmr7P83I+B0qQfs/mgVPcp6J+z/NwOKyAjr7Pw==",
          "dtype": "f8"
         }
        },
        {
         "error_y": {
          "array": {
           "bdata": "KVhWba3sdT+IEJXiNcZ7Pw0mbHNYW4o/YchseSm0kD+pmaBL6/6YPw==",
           "dtype": "f8"
          },
          "color": "#00CC96",
          "thickness": 1.5,
          "type": "data",
          "visible": true,
          "width": 5
         },
         "hovertemplate": "%{text}<extra></extra>",
         "marker": {
          "color": "#00CC96",
          "line": {
           "color": "white",
           "width": 1
          },
          "opacity": 0.85,
          "size": 10
         },
         "mode": "markers",
         "text": [
          "Forecaster: ForecasterRecursiveMultiSeries<br>Regressor: DummyRegressor<br>Function: ForecasterRecursiveMultiSeries_fit_series_is_dataframe_exog_is_dataframe<br>Function_hash: 5cc81dc4752859f688f8f727ea07af38<br>Method: fit_series_is_dataframe_exog_is_dataframe<br>Datetime: 2025-08-26 07:01:24.810896<br>Python version: 3.12.11<br>skforecast version: 0.17.0<br>numpy version: 2.1.3<br>pandas version: 2.3.2<br>sklearn version: 1.6.1<br>lightgbm version: 4.6.0<br>Platform: Linux-6.11.0-1018-azure-x86_64-with-glibc2.39<br>Processor: x86_64<br>CPU count: 4<br>Memory (GB): 16.77<br>Run time avg: 2.491282 s<br>Run time median: 2.489968 s<br>Run time p95: 2.498520 s<br>Run time std: 0.005353 s<br>Nº repeats: 5",
          "Forecaster: ForecasterRecursiveMultiSeries<br>Regressor: DummyRegressor<br>Function: ForecasterRecursiveMultiSeries_fit_series_is_dataframe_exog_is_dataframe<br>Function_hash: 5cc81dc4752859f688f8f727ea07af38<br>Method: fit_series_is_dataframe_exog_is_dataframe<br>Datetime: 2025-08-26 07:14:16.938888<br>Python version: 3.12.11<br>skforecast version: 0.17.0<br>numpy version: 2.1.3<br>pandas version: 2.3.2<br>sklearn version: 1.6.1<br>lightgbm version: 4.6.0<br>Platform: Linux-6.11.0-1018-azure-x86_64-with-glibc2.39<br>Processor: x86_64<br>CPU count: 4<br>Memory (GB): 16.77<br>Run time avg: 2.546134 s<br>Run time median: 2.548640 s<br>Run time p95: 2.553417 s<br>Run time std: 0.006781 s<br>Nº repeats: 5",
          "Forecaster: ForecasterRecursiveMultiSeries<br>Regressor: DummyRegressor<br>Function: ForecasterRecursiveMultiSeries_fit_series_is_dataframe_exog_is_dataframe<br>Function_hash: 5cc81dc4752859f688f8f727ea07af38<br>Method: fit_series_is_dataframe_exog_is_dataframe<br>Datetime: 2025-08-26 07:32:47.167275<br>Python version: 3.12.11<br>skforecast version: 0.17.0<br>numpy version: 2.1.3<br>pandas version: 2.3.2<br>sklearn version: 1.6.1<br>lightgbm version: 4.6.0<br>Platform: Linux-6.11.0-1018-azure-x86_64-with-glibc2.39<br>Processor: x86_64<br>CPU count: 4<br>Memory (GB): 16.77<br>Run time avg: 2.544025 s<br>Run time median: 2.546608 s<br>Run time p95: 2.560522 s<br>Run time std: 0.012870 s<br>Nº repeats: 5",
          "Forecaster: ForecasterRecursiveMultiSeries<br>Regressor: DummyRegressor<br>Function: ForecasterRecursiveMultiSeries_fit_series_is_dataframe_exog_is_dataframe<br>Function_hash: 5cc81dc4752859f688f8f727ea07af38<br>Method: fit_series_is_dataframe_exog_is_dataframe<br>Datetime: 2025-08-26 07:45:27.338213<br>Python version: 3.12.11<br>skforecast version: 0.17.0<br>numpy version: 2.1.3<br>pandas version: 2.3.2<br>sklearn version: 1.6.1<br>lightgbm version: 4.6.0<br>Platform: Linux-6.11.0-1018-azure-x86_64-with-glibc2.39<br>Processor: x86_64<br>CPU count: 4<br>Memory (GB): 16.77<br>Run time avg: 2.559379 s<br>Run time median: 2.563897 s<br>Run time p95: 2.580746 s<br>Run time std: 0.016312 s<br>Nº repeats: 5",
          "Forecaster: ForecasterRecursiveMultiSeries<br>Regressor: DummyRegressor<br>Function: ForecasterRecursiveMultiSeries_fit_series_is_dataframe_exog_is_dataframe<br>Function_hash: 5cc81dc4752859f688f8f727ea07af38<br>Method: fit_series_is_dataframe_exog_is_dataframe<br>Datetime: 2025-08-26 08:11:29.903571<br>Python version: 3.12.11<br>skforecast version: 0.17.0<br>numpy version: 2.1.3<br>pandas version: 2.3.2<br>sklearn version: 1.6.1<br>lightgbm version: 4.6.0<br>Platform: Linux-6.11.0-1018-azure-x86_64-with-glibc2.39<br>Processor: x86_64<br>CPU count: 4<br>Memory (GB): 16.77<br>Run time avg: 2.544829 s<br>Run time median: 2.526630 s<br>Run time p95: 2.579884 s<br>Run time std: 0.024410 s<br>Nº repeats: 5"
         ],
         "type": "scatter",
         "visible": false,
         "x": {
          "bdata": "3gM2t0YZAEAYDZWgWyUAQFQpd5PQRABANsA4wwH+/z+H/BM24BIAQA==",
          "dtype": "f8"
         },
         "y": {
          "bdata": "Mzh7byXuA0DNi3qve14EQACp6bYpWgRAJoqDkJt5BEDN14Rzz1sEQA==",
          "dtype": "f8"
         }
        },
        {
         "error_y": {
          "array": {
           "bdata": "5g8135Ucrj8iZHgyX52vP/yaTF2cEbI/KbA6Qrmrsz/hqK4iqHC0Pw==",
           "dtype": "f8"
          },
          "color": "#00CC96",
          "thickness": 1.5,
          "type": "data",
          "visible": true,
          "width": 5
         },
         "hovertemplate": "%{text}<extra></extra>",
         "marker": {
          "color": "#00CC96",
          "line": {
           "color": "white",
           "width": 1
          },
          "opacity": 0.85,
          "size": 10
         },
         "mode": "markers",
         "text": [
          "Forecaster: ForecasterRecursiveMultiSeries<br>Regressor: DummyRegressor<br>Function: ForecasterRecursiveMultiSeries_fit_series_is_dataframe_exog_is_dict<br>Function_hash: 225fcb6ba44356037af28b7a68f2ed15<br>Method: fit_series_is_dataframe_exog_is_dict<br>Datetime: 2025-08-26 07:01:34.926065<br>Python version: 3.12.11<br>skforecast version: 0.17.0<br>numpy version: 2.1.3<br>pandas version: 2.3.2<br>sklearn version: 1.6.1<br>lightgbm version: 4.6.0<br>Platform: Linux-6.11.0-1018-azure-x86_64-with-glibc2.39<br>Processor: x86_64<br>CPU count: 4<br>Memory (GB): 16.77<br>Run time avg: 2.022188 s<br>Run time median: 2.018709 s<br>Run time p95: 2.097495 s<br>Run time std: 0.058812 s<br>Nº repeats: 5",
          "Forecaster: ForecasterRecursiveMultiSeries<br>Regressor: DummyRegressor<br>Function: ForecasterRecursiveMultiSeries_fit_series_is_dataframe_exog_is_dict<br>Function_hash: 225fcb6ba44356037af28b7a68f2ed15<br>Method: fit_series_is_dataframe_exog_is_dict<br>Datetime: 2025-08-26 07:14:27.354070<br>Python version: 3.12.11<br>skforecast version: 0.17.0<br>numpy version: 2.1.3<br>pandas version: 2.3.2<br>sklearn version: 1.6.1<br>lightgbm version: 4.6.0<br>Platform: Linux-6.11.0-1018-azure-x86_64-with-glibc2.39<br>Processor: x86_64<br>CPU count: 4<br>Memory (GB): 16.77<br>Run time avg: 2.082128 s<br>Run time median: 2.092354 s<br>Run time p95: 2.159720 s<br>Run time std: 0.061748 s<br>Nº repeats: 5",
          "Forecaster: ForecasterRecursiveMultiSeries<br>Regressor: DummyRegressor<br>Function: ForecasterRecursiveMultiSeries_fit_series_is_dataframe_exog_is_dict<br>Function_hash: 225fcb6ba44356037af28b7a68f2ed15<br>Method: fit_series_is_dataframe_exog_is_dict<br>Datetime: 2025-08-26 07:32:57.470399<br>Python version: 3.12.11<br>skforecast version: 0.17.0<br>numpy version: 2.1.3<br>pandas version: 2.3.2<br>sklearn version: 1.6.1<br>lightgbm version: 4.6.0<br>Platform: Linux-6.11.0-1018-azure-x86_64-with-glibc2.39<br>Processor: x86_64<br>CPU count: 4<br>Memory (GB): 16.77<br>Run time avg: 2.059704 s<br>Run time median: 2.072659 s<br>Run time p95: 2.143808 s<br>Run time std: 0.070581 s<br>Nº repeats: 5",
          "Forecaster: ForecasterRecursiveMultiSeries<br>Regressor: DummyRegressor<br>Function: ForecasterRecursiveMultiSeries_fit_series_is_dataframe_exog_is_dict<br>Function_hash: 225fcb6ba44356037af28b7a68f2ed15<br>Method: fit_series_is_dataframe_exog_is_dict<br>Datetime: 2025-08-26 07:45:37.812048<br>Python version: 3.12.11<br>skforecast version: 0.17.0<br>numpy version: 2.1.3<br>pandas version: 2.3.2<br>sklearn version: 1.6.1<br>lightgbm version: 4.6.0<br>Platform: Linux-6.11.0-1018-azure-x86_64-with-glibc2.39<br>Processor: x86_64<br>CPU count: 4<br>Memory (GB): 16.77<br>Run time avg: 2.093800 s<br>Run time median: 2.096131 s<br>Run time p95: 2.180652 s<br>Run time std: 0.076839 s<br>Nº repeats: 5",
          "Forecaster: ForecasterRecursiveMultiSeries<br>Regressor: DummyRegressor<br>Function: ForecasterRecursiveMultiSeries_fit_series_is_dataframe_exog_is_dict<br>Function_hash: 225fcb6ba44356037af28b7a68f2ed15<br>Method: fit_series_is_dataframe_exog_is_dict<br>Datetime: 2025-08-26 08:11:40.163999<br>Python version: 3.12.11<br>skforecast version: 0.17.0<br>numpy version: 2.1.3<br>pandas version: 2.3.2<br>sklearn version: 1.6.1<br>lightgbm version: 4.6.0<br>Platform: Linux-6.11.0-1018-azure-x86_64-with-glibc2.39<br>Processor: x86_64<br>CPU count: 4<br>Memory (GB): 16.77<br>Run time avg: 2.051073 s<br>Run time median: 2.047073 s<br>Run time p95: 2.155925 s<br>Run time std: 0.079844 s<br>Nº repeats: 5"
         ],
         "type": "scatter",
         "visible": false,
         "x": {
          "bdata": "iY5Q5YVTAEAPfMJkcGQAQLRhDesu0f8/tiFapseq/z9Sxux63GEAQA==",
          "dtype": "f8"
         },
         "y": {
          "bdata": "mo9hGnEtAECzNUmXMqgAQM1WhExGegBAAK5pERrAAEAzfRYImWgAQA==",
          "dtype": "f8"
         }
        },
        {
         "error_y": {
          "array": {
           "bdata": "u6pD09r8RD/WOjKu64KbP1be+/LkoE0/YL3kXXIhnT8=",
           "dtype": "f8"
          },
          "color": "#636EFA",
          "thickness": 1.5,
          "type": "data",
          "visible": true,
          "width": 5
         },
         "hovertemplate": "%{text}<extra></extra>",
         "marker": {
          "color": "#636EFA",
          "line": {
           "color": "white",
           "width": 1
          },
          "opacity": 0.85,
          "size": 10
         },
         "mode": "markers",
         "text": [
          "Forecaster: ForecasterRecursiveMultiSeries<br>Regressor: DummyRegressor<br>Function: ForecasterRecursiveMultiSeries_check_predict_inputs<br>Function_hash: 1ba49feb05f0ff3c32cf3bbff4d6a52b<br>Method: check_predict_inputs<br>Datetime: 2025-08-26 09:18:18.729852<br>Python version: 3.12.11<br>skforecast version: 0.15.1<br>numpy version: 2.1.3<br>pandas version: 2.3.2<br>sklearn version: 1.6.1<br>lightgbm version: 4.6.0<br>Platform: Linux-6.11.0-1018-azure-x86_64-with-glibc2.39<br>Processor: x86_64<br>CPU count: 4<br>Memory (GB): 16.77<br>Run time avg: 0.256828 s<br>Run time median: 0.256713 s<br>Run time p95: 0.257849 s<br>Run time std: 0.000640 s<br>Nº repeats: 10",
          "Forecaster: ForecasterRecursiveMultiSeries<br>Regressor: DummyRegressor<br>Function: ForecasterRecursiveMultiSeries_check_predict_inputs<br>Function_hash: 1ba49feb05f0ff3c32cf3bbff4d6a52b<br>Method: check_predict_inputs<br>Datetime: 2025-08-26 09:34:20.121940<br>Python version: 3.12.11<br>skforecast version: 0.15.1<br>numpy version: 2.1.3<br>pandas version: 2.3.2<br>sklearn version: 1.6.1<br>lightgbm version: 4.6.0<br>Platform: Linux-6.11.0-1018-azure-x86_64-with-glibc2.39<br>Processor: x86_64<br>CPU count: 4<br>Memory (GB): 16.77<br>Run time avg: 0.268028 s<br>Run time median: 0.259251 s<br>Run time p95: 0.309103 s<br>Run time std: 0.026867 s<br>Nº repeats: 10",
          "Forecaster: ForecasterRecursiveMultiSeries<br>Regressor: DummyRegressor<br>Function: ForecasterRecursiveMultiSeries_check_predict_inputs<br>Function_hash: 1ba49feb05f0ff3c32cf3bbff4d6a52b<br>Method: check_predict_inputs<br>Datetime: 2025-08-26 09:47:10.794977<br>Python version: 3.12.11<br>skforecast version: 0.15.1<br>numpy version: 2.1.3<br>pandas version: 2.3.2<br>sklearn version: 1.6.1<br>lightgbm version: 4.6.0<br>Platform: Linux-6.11.0-1018-azure-x86_64-with-glibc2.39<br>Processor: x86_64<br>CPU count: 4<br>Memory (GB): 16.77<br>Run time avg: 0.255982 s<br>Run time median: 0.255836 s<br>Run time p95: 0.257424 s<br>Run time std: 0.000904 s<br>Nº repeats: 10",
          "Forecaster: ForecasterRecursiveMultiSeries<br>Regressor: DummyRegressor<br>Function: ForecasterRecursiveMultiSeries_check_predict_inputs<br>Function_hash: 1ba49feb05f0ff3c32cf3bbff4d6a52b<br>Method: check_predict_inputs<br>Datetime: 2025-08-26 10:10:45.009507<br>Python version: 3.12.11<br>skforecast version: 0.15.1<br>numpy version: 2.1.3<br>pandas version: 2.3.2<br>sklearn version: 1.6.1<br>lightgbm version: 4.6.0<br>Platform: Linux-6.11.0-1018-azure-x86_64-with-glibc2.39<br>Processor: x86_64<br>CPU count: 4<br>Memory (GB): 16.77<br>Run time avg: 0.269375 s<br>Run time median: 0.259891 s<br>Run time p95: 0.312537 s<br>Run time std: 0.028448 s<br>Nº repeats: 10"
         ],
         "type": "scatter",
         "visible": false,
         "x": {
          "bdata": "UA1ttbhamz+3w9eu80Kav+hQuixZY4A/hy2kBLVOo78=",
          "dtype": "f8"
         },
         "y": {
          "bdata": "AOh8eN9v0D8zF6utXyfRP5qooNYAYtA/M8Em2nE90T8=",
          "dtype": "f8"
         }
        },
        {
         "error_y": {
          "array": {
           "bdata": "aCjOpiOJTz8qAOhtH1BYPwoXFfHLZ0w/FtZYHIZeUD8=",
           "dtype": "f8"
          },
          "color": "#EF553B",
          "thickness": 1.5,
          "type": "data",
          "visible": true,
          "width": 5
         },
         "hovertemplate": "%{text}<extra></extra>",
         "marker": {
          "color": "#EF553B",
          "line": {
           "color": "white",
           "width": 1
          },
          "opacity": 0.85,
          "size": 10
         },
         "mode": "markers",
         "text": [
          "Forecaster: ForecasterRecursiveMultiSeries<br>Regressor: DummyRegressor<br>Function: ForecasterRecursiveMultiSeries_check_predict_inputs<br>Function_hash: 1ba49feb05f0ff3c32cf3bbff4d6a52b<br>Method: check_predict_inputs<br>Datetime: 2025-08-26 08:31:06.902898<br>Python version: 3.12.11<br>skforecast version: 0.16.0<br>numpy version: 2.1.3<br>pandas version: 2.3.2<br>sklearn version: 1.6.1<br>lightgbm version: 4.6.0<br>Platform: Linux-6.11.0-1018-azure-x86_64-with-glibc2.39<br>Processor: x86_64<br>CPU count: 4<br>Memory (GB): 16.77<br>Run time avg: 0.063272 s<br>Run time median: 0.063066 s<br>Run time p95: 0.064722 s<br>Run time std: 0.000962 s<br>Nº repeats: 10",
          "Forecaster: ForecasterRecursiveMultiSeries<br>Regressor: DummyRegressor<br>Function: ForecasterRecursiveMultiSeries_check_predict_inputs<br>Function_hash: 1ba49feb05f0ff3c32cf3bbff4d6a52b<br>Method: check_predict_inputs<br>Datetime: 2025-08-26 08:40:59.894910<br>Python version: 3.12.11<br>skforecast version: 0.16.0<br>numpy version: 2.1.3<br>pandas version: 2.3.2<br>sklearn version: 1.6.1<br>lightgbm version: 4.6.0<br>Platform: Linux-6.11.0-1018-azure-x86_64-with-glibc2.39<br>Processor: x86_64<br>CPU count: 4<br>Memory (GB): 16.77<br>Run time avg: 0.061206 s<br>Run time median: 0.060735 s<br>Run time p95: 0.063709 s<br>Run time std: 0.001484 s<br>Nº repeats: 10",
          "Forecaster: ForecasterRecursiveMultiSeries<br>Regressor: DummyRegressor<br>Function: ForecasterRecursiveMultiSeries_check_predict_inputs<br>Function_hash: 1ba49feb05f0ff3c32cf3bbff4d6a52b<br>Method: check_predict_inputs<br>Datetime: 2025-08-26 08:55:16.198775<br>Python version: 3.12.11<br>skforecast version: 0.16.0<br>numpy version: 2.1.3<br>pandas version: 2.3.2<br>sklearn version: 1.6.1<br>lightgbm version: 4.6.0<br>Platform: Linux-6.11.0-1018-azure-x86_64-with-glibc2.39<br>Processor: x86_64<br>CPU count: 4<br>Memory (GB): 16.77<br>Run time avg: 0.062172 s<br>Run time median: 0.061910 s<br>Run time p95: 0.063723 s<br>Run time std: 0.000867 s<br>Nº repeats: 10",
          "Forecaster: ForecasterRecursiveMultiSeries<br>Regressor: DummyRegressor<br>Function: ForecasterRecursiveMultiSeries_check_predict_inputs<br>Function_hash: 1ba49feb05f0ff3c32cf3bbff4d6a52b<br>Method: check_predict_inputs<br>Datetime: 2025-08-26 09:05:40.046001<br>Python version: 3.12.11<br>skforecast version: 0.16.0<br>numpy version: 2.1.3<br>pandas version: 2.3.2<br>sklearn version: 1.6.1<br>lightgbm version: 4.6.0<br>Platform: Linux-6.11.0-1018-azure-x86_64-with-glibc2.39<br>Processor: x86_64<br>CPU count: 4<br>Memory (GB): 16.77<br>Run time avg: 0.065158 s<br>Run time median: 0.065125 s<br>Run time p95: 0.066400 s<br>Run time std: 0.000999 s<br>Nº repeats: 10"
         ],
         "type": "scatter",
         "visible": false,
         "x": {
          "bdata": "TI6Dj48S7z9MzB7gYK3wP82arTgfkO8/tnFmDCuv7z8=",
          "dtype": "f8"
         },
         "y": {
          "bdata": "ABCF65kysD8z+8Z/VFavPzMzEOoH1a8/ABCa8TausD8=",
          "dtype": "f8"
         }
        },
        {
         "error_y": {
          "array": {
           "bdata": "FL3tteGHUz/+QjV0oEFjPwVke8JxfVQ/2deozpwuSj+FKclGdmpUPw==",
           "dtype": "f8"
          },
          "color": "#00CC96",
          "thickness": 1.5,
          "type": "data",
          "visible": true,
          "width": 5
         },
         "hovertemplate": "%{text}<extra></extra>",
         "marker": {
          "color": "#00CC96",
          "line": {
           "color": "white",
           "width": 1
          },
          "opacity": 0.85,
          "size": 10
         },
         "mode": "markers",
         "text": [
          "Forecaster: ForecasterRecursiveMultiSeries<br>Regressor: DummyRegressor<br>Function: ForecasterRecursiveMultiSeries_check_predict_inputs<br>Function_hash: 1ba49feb05f0ff3c32cf3bbff4d6a52b<br>Method: check_predict_inputs<br>Datetime: 2025-08-26 07:01:37.853267<br>Python version: 3.12.11<br>skforecast version: 0.17.0<br>numpy version: 2.1.3<br>pandas version: 2.3.2<br>sklearn version: 1.6.1<br>lightgbm version: 4.6.0<br>Platform: Linux-6.11.0-1018-azure-x86_64-with-glibc2.39<br>Processor: x86_64<br>CPU count: 4<br>Memory (GB): 16.77<br>Run time avg: 0.061537 s<br>Run time median: 0.060986 s<br>Run time p95: 0.063754 s<br>Run time std: 0.001192 s<br>Nº repeats: 10",
          "Forecaster: ForecasterRecursiveMultiSeries<br>Regressor: DummyRegressor<br>Function: ForecasterRecursiveMultiSeries_check_predict_inputs<br>Function_hash: 1ba49feb05f0ff3c32cf3bbff4d6a52b<br>Method: check_predict_inputs<br>Datetime: 2025-08-26 07:14:30.410572<br>Python version: 3.12.11<br>skforecast version: 0.17.0<br>numpy version: 2.1.3<br>pandas version: 2.3.2<br>sklearn version: 1.6.1<br>lightgbm version: 4.6.0<br>Platform: Linux-6.11.0-1018-azure-x86_64-with-glibc2.39<br>Processor: x86_64<br>CPU count: 4<br>Memory (GB): 16.77<br>Run time avg: 0.063572 s<br>Run time median: 0.062510 s<br>Run time p95: 0.067644 s<br>Run time std: 0.002351 s<br>Nº repeats: 10",
          "Forecaster: ForecasterRecursiveMultiSeries<br>Regressor: DummyRegressor<br>Function: ForecasterRecursiveMultiSeries_check_predict_inputs<br>Function_hash: 1ba49feb05f0ff3c32cf3bbff4d6a52b<br>Method: check_predict_inputs<br>Datetime: 2025-08-26 07:33:00.434773<br>Python version: 3.12.11<br>skforecast version: 0.17.0<br>numpy version: 2.1.3<br>pandas version: 2.3.2<br>sklearn version: 1.6.1<br>lightgbm version: 4.6.0<br>Platform: Linux-6.11.0-1018-azure-x86_64-with-glibc2.39<br>Processor: x86_64<br>CPU count: 4<br>Memory (GB): 16.77<br>Run time avg: 0.061690 s<br>Run time median: 0.061135 s<br>Run time p95: 0.063818 s<br>Run time std: 0.001251 s<br>Nº repeats: 10",
          "Forecaster: ForecasterRecursiveMultiSeries<br>Regressor: DummyRegressor<br>Function: ForecasterRecursiveMultiSeries_check_predict_inputs<br>Function_hash: 1ba49feb05f0ff3c32cf3bbff4d6a52b<br>Method: check_predict_inputs<br>Datetime: 2025-08-26 07:45:40.823438<br>Python version: 3.12.11<br>skforecast version: 0.17.0<br>numpy version: 2.1.3<br>pandas version: 2.3.2<br>sklearn version: 1.6.1<br>lightgbm version: 4.6.0<br>Platform: Linux-6.11.0-1018-azure-x86_64-with-glibc2.39<br>Processor: x86_64<br>CPU count: 4<br>Memory (GB): 16.77<br>Run time avg: 0.062987 s<br>Run time median: 0.062785 s<br>Run time p95: 0.064493 s<br>Run time std: 0.000799 s<br>Nº repeats: 10",
          "Forecaster: ForecasterRecursiveMultiSeries<br>Regressor: DummyRegressor<br>Function: ForecasterRecursiveMultiSeries_check_predict_inputs<br>Function_hash: 1ba49feb05f0ff3c32cf3bbff4d6a52b<br>Method: check_predict_inputs<br>Datetime: 2025-08-26 08:11:43.126399<br>Python version: 3.12.11<br>skforecast version: 0.17.0<br>numpy version: 2.1.3<br>pandas version: 2.3.2<br>sklearn version: 1.6.1<br>lightgbm version: 4.6.0<br>Platform: Linux-6.11.0-1018-azure-x86_64-with-glibc2.39<br>Processor: x86_64<br>CPU count: 4<br>Memory (GB): 16.77<br>Run time avg: 0.061921 s<br>Run time median: 0.061496 s<br>Run time p95: 0.064112 s<br>Run time std: 0.001246 s<br>Nº repeats: 10"
         ],
         "type": "scatter",
         "visible": false,
         "x": {
          "bdata": "xhjOZ03K/z8UZpeZ2wkAQEIwu55Div8/pncnkN2p/z9Q5eSNsgsAQA==",
          "dtype": "f8"
         },
         "y": {
          "bdata": "mllAibiBrz8AWCrDRkawP83cxqfQla8/Zvb/g+4fsD9mZuJFFbSvPw==",
          "dtype": "f8"
         }
        },
        {
         "error_y": {
          "array": {
           "bdata": "J7zEFlYKZz+sxNnlUglzP5K9FsusE3k/E0sFdjczbT8=",
           "dtype": "f8"
          },
          "color": "#636EFA",
          "thickness": 1.5,
          "type": "data",
          "visible": true,
          "width": 5
         },
         "hovertemplate": "%{text}<extra></extra>",
         "marker": {
          "color": "#636EFA",
          "line": {
           "color": "white",
           "width": 1
          },
          "opacity": 0.85,
          "size": 10
         },
         "mode": "markers",
         "text": [
          "Forecaster: ForecasterRecursiveMultiSeries<br>Regressor: DummyRegressor<br>Function: ForecasterRecursiveMultiSeries__create_predict_inputs_exog_is_dict<br>Function_hash: 83cdd92e8d778b9e48a83bc8d05b4aa1<br>Method: _create_predict_inputs_exog_is_dict<br>Datetime: 2025-08-26 09:18:33.754968<br>Python version: 3.12.11<br>skforecast version: 0.15.1<br>numpy version: 2.1.3<br>pandas version: 2.3.2<br>sklearn version: 1.6.1<br>lightgbm version: 4.6.0<br>Platform: Linux-6.11.0-1018-azure-x86_64-with-glibc2.39<br>Processor: x86_64<br>CPU count: 4<br>Memory (GB): 16.77<br>Run time avg: 1.501947 s<br>Run time median: 1.501077 s<br>Run time p95: 1.506667 s<br>Run time std: 0.002813 s<br>Nº repeats: 10",
          "Forecaster: ForecasterRecursiveMultiSeries<br>Regressor: DummyRegressor<br>Function: ForecasterRecursiveMultiSeries__create_predict_inputs_exog_is_dict<br>Function_hash: 83cdd92e8d778b9e48a83bc8d05b4aa1<br>Method: _create_predict_inputs_exog_is_dict<br>Datetime: 2025-08-26 09:34:35.169648<br>Python version: 3.12.11<br>skforecast version: 0.15.1<br>numpy version: 2.1.3<br>pandas version: 2.3.2<br>sklearn version: 1.6.1<br>lightgbm version: 4.6.0<br>Platform: Linux-6.11.0-1018-azure-x86_64-with-glibc2.39<br>Processor: x86_64<br>CPU count: 4<br>Memory (GB): 16.77<br>Run time avg: 1.504215 s<br>Run time median: 1.503808 s<br>Run time p95: 1.511998 s<br>Run time std: 0.004648 s<br>Nº repeats: 10",
          "Forecaster: ForecasterRecursiveMultiSeries<br>Regressor: DummyRegressor<br>Function: ForecasterRecursiveMultiSeries__create_predict_inputs_exog_is_dict<br>Function_hash: 83cdd92e8d778b9e48a83bc8d05b4aa1<br>Method: _create_predict_inputs_exog_is_dict<br>Datetime: 2025-08-26 09:47:25.902353<br>Python version: 3.12.11<br>skforecast version: 0.15.1<br>numpy version: 2.1.3<br>pandas version: 2.3.2<br>sklearn version: 1.6.1<br>lightgbm version: 4.6.0<br>Platform: Linux-6.11.0-1018-azure-x86_64-with-glibc2.39<br>Processor: x86_64<br>CPU count: 4<br>Memory (GB): 16.77<br>Run time avg: 1.510142 s<br>Run time median: 1.508711 s<br>Run time p95: 1.519234 s<br>Run time std: 0.006122 s<br>Nº repeats: 10",
          "Forecaster: ForecasterRecursiveMultiSeries<br>Regressor: DummyRegressor<br>Function: ForecasterRecursiveMultiSeries__create_predict_inputs_exog_is_dict<br>Function_hash: 83cdd92e8d778b9e48a83bc8d05b4aa1<br>Method: _create_predict_inputs_exog_is_dict<br>Datetime: 2025-08-26 10:11:00.113260<br>Python version: 3.12.11<br>skforecast version: 0.15.1<br>numpy version: 2.1.3<br>pandas version: 2.3.2<br>sklearn version: 1.6.1<br>lightgbm version: 4.6.0<br>Platform: Linux-6.11.0-1018-azure-x86_64-with-glibc2.39<br>Processor: x86_64<br>CPU count: 4<br>Memory (GB): 16.77<br>Run time avg: 1.509798 s<br>Run time median: 1.511103 s<br>Run time p95: 1.514249 s<br>Run time std: 0.003564 s<br>Nº repeats: 10"
         ],
         "type": "scatter",
         "visible": false,
         "x": {
          "bdata": "JDuNqVdPlz+A7DNIe56Ev62f4ouTaqC/SJtUeuVTmT8=",
          "dtype": "f8"
         },
         "y": {
          "bdata": "s8L85/kH+D+zDGynQxH4P2ZaVV6KKfg/s6cT1CEo+D8=",
          "dtype": "f8"
         }
        },
        {
         "error_y": {
          "array": {
           "bdata": "rnhu5JrQqT9tyedy5umiP8L+MdcwJaQ/umO9TxCwpD8=",
           "dtype": "f8"
          },
          "color": "#EF553B",
          "thickness": 1.5,
          "type": "data",
          "visible": true,
          "width": 5
         },
         "hovertemplate": "%{text}<extra></extra>",
         "marker": {
          "color": "#EF553B",
          "line": {
           "color": "white",
           "width": 1
          },
          "opacity": 0.85,
          "size": 10
         },
         "mode": "markers",
         "text": [
          "Forecaster: ForecasterRecursiveMultiSeries<br>Regressor: DummyRegressor<br>Function: ForecasterRecursiveMultiSeries__create_predict_inputs_exog_is_dict<br>Function_hash: 83cdd92e8d778b9e48a83bc8d05b4aa1<br>Method: _create_predict_inputs_exog_is_dict<br>Datetime: 2025-08-26 08:31:09.389508<br>Python version: 3.12.11<br>skforecast version: 0.16.0<br>numpy version: 2.1.3<br>pandas version: 2.3.2<br>sklearn version: 1.6.1<br>lightgbm version: 4.6.0<br>Platform: Linux-6.11.0-1018-azure-x86_64-with-glibc2.39<br>Processor: x86_64<br>CPU count: 4<br>Memory (GB): 16.77<br>Run time avg: 0.248155 s<br>Run time median: 0.216601 s<br>Run time p95: 0.330280 s<br>Run time std: 0.050420 s<br>Nº repeats: 10",
          "Forecaster: ForecasterRecursiveMultiSeries<br>Regressor: DummyRegressor<br>Function: ForecasterRecursiveMultiSeries__create_predict_inputs_exog_is_dict<br>Function_hash: 83cdd92e8d778b9e48a83bc8d05b4aa1<br>Method: _create_predict_inputs_exog_is_dict<br>Datetime: 2025-08-26 08:41:02.197850<br>Python version: 3.12.11<br>skforecast version: 0.16.0<br>numpy version: 2.1.3<br>pandas version: 2.3.2<br>sklearn version: 1.6.1<br>lightgbm version: 4.6.0<br>Platform: Linux-6.11.0-1018-azure-x86_64-with-glibc2.39<br>Processor: x86_64<br>CPU count: 4<br>Memory (GB): 16.77<br>Run time avg: 0.229804 s<br>Run time median: 0.211582 s<br>Run time p95: 0.303887 s<br>Run time std: 0.036941 s<br>Nº repeats: 10",
          "Forecaster: ForecasterRecursiveMultiSeries<br>Regressor: DummyRegressor<br>Function: ForecasterRecursiveMultiSeries__create_predict_inputs_exog_is_dict<br>Function_hash: 83cdd92e8d778b9e48a83bc8d05b4aa1<br>Method: _create_predict_inputs_exog_is_dict<br>Datetime: 2025-08-26 08:55:18.534470<br>Python version: 3.12.11<br>skforecast version: 0.16.0<br>numpy version: 2.1.3<br>pandas version: 2.3.2<br>sklearn version: 1.6.1<br>lightgbm version: 4.6.0<br>Platform: Linux-6.11.0-1018-azure-x86_64-with-glibc2.39<br>Processor: x86_64<br>CPU count: 4<br>Memory (GB): 16.77<br>Run time avg: 0.233069 s<br>Run time median: 0.216169 s<br>Run time p95: 0.312006 s<br>Run time std: 0.039346 s<br>Nº repeats: 10",
          "Forecaster: ForecasterRecursiveMultiSeries<br>Regressor: DummyRegressor<br>Function: ForecasterRecursiveMultiSeries__create_predict_inputs_exog_is_dict<br>Function_hash: 83cdd92e8d778b9e48a83bc8d05b4aa1<br>Method: _create_predict_inputs_exog_is_dict<br>Datetime: 2025-08-26 09:05:42.454559<br>Python version: 3.12.11<br>skforecast version: 0.16.0<br>numpy version: 2.1.3<br>pandas version: 2.3.2<br>sklearn version: 1.6.1<br>lightgbm version: 4.6.0<br>Platform: Linux-6.11.0-1018-azure-x86_64-with-glibc2.39<br>Processor: x86_64<br>CPU count: 4<br>Memory (GB): 16.77<br>Run time avg: 0.240306 s<br>Run time median: 0.220622 s<br>Run time p95: 0.321180 s<br>Run time std: 0.040406 s<br>Nº repeats: 10"
         ],
         "type": "scatter",
         "visible": false,
         "x": {
          "bdata": "MP+akLPu7z+wRJv3ik7wP1fV8Lkbje4/s6IEQgGI8D8=",
          "dtype": "f8"
         },
         "y": {
          "bdata": "M+sR0Y3Dzz8AHOjMNmrNP2bGcbsz1c0/zaaCGlbCzj8=",
          "dtype": "f8"
         }
        },
        {
         "error_y": {
          "array": {
           "bdata": "xrB+E1UapT+EPwEsv16oPw07ERFEQ6U/ja3UDCBrqT9k+In3OuKlPw==",
           "dtype": "f8"
          },
          "color": "#00CC96",
          "thickness": 1.5,
          "type": "data",
          "visible": true,
          "width": 5
         },
         "hovertemplate": "%{text}<extra></extra>",
         "marker": {
          "color": "#00CC96",
          "line": {
           "color": "white",
           "width": 1
          },
          "opacity": 0.85,
          "size": 10
         },
         "mode": "markers",
         "text": [
          "Forecaster: ForecasterRecursiveMultiSeries<br>Regressor: DummyRegressor<br>Function: ForecasterRecursiveMultiSeries__create_predict_inputs_exog_is_dict<br>Function_hash: 83cdd92e8d778b9e48a83bc8d05b4aa1<br>Method: _create_predict_inputs_exog_is_dict<br>Datetime: 2025-08-26 07:01:40.168655<br>Python version: 3.12.11<br>skforecast version: 0.17.0<br>numpy version: 2.1.3<br>pandas version: 2.3.2<br>sklearn version: 1.6.1<br>lightgbm version: 4.6.0<br>Platform: Linux-6.11.0-1018-azure-x86_64-with-glibc2.39<br>Processor: x86_64<br>CPU count: 4<br>Memory (GB): 16.77<br>Run time avg: 0.231142 s<br>Run time median: 0.210658 s<br>Run time p95: 0.313974 s<br>Run time std: 0.041217 s<br>Nº repeats: 10",
          "Forecaster: ForecasterRecursiveMultiSeries<br>Regressor: DummyRegressor<br>Function: ForecasterRecursiveMultiSeries__create_predict_inputs_exog_is_dict<br>Function_hash: 83cdd92e8d778b9e48a83bc8d05b4aa1<br>Method: _create_predict_inputs_exog_is_dict<br>Datetime: 2025-08-26 07:14:32.795689<br>Python version: 3.12.11<br>skforecast version: 0.17.0<br>numpy version: 2.1.3<br>pandas version: 2.3.2<br>sklearn version: 1.6.1<br>lightgbm version: 4.6.0<br>Platform: Linux-6.11.0-1018-azure-x86_64-with-glibc2.39<br>Processor: x86_64<br>CPU count: 4<br>Memory (GB): 16.77<br>Run time avg: 0.238084 s<br>Run time median: 0.214531 s<br>Run time p95: 0.333440 s<br>Run time std: 0.047598 s<br>Nº repeats: 10",
          "Forecaster: ForecasterRecursiveMultiSeries<br>Regressor: DummyRegressor<br>Function: ForecasterRecursiveMultiSeries__create_predict_inputs_exog_is_dict<br>Function_hash: 83cdd92e8d778b9e48a83bc8d05b4aa1<br>Method: _create_predict_inputs_exog_is_dict<br>Datetime: 2025-08-26 07:33:02.761340<br>Python version: 3.12.11<br>skforecast version: 0.17.0<br>numpy version: 2.1.3<br>pandas version: 2.3.2<br>sklearn version: 1.6.1<br>lightgbm version: 4.6.0<br>Platform: Linux-6.11.0-1018-azure-x86_64-with-glibc2.39<br>Processor: x86_64<br>CPU count: 4<br>Memory (GB): 16.77<br>Run time avg: 0.232213 s<br>Run time median: 0.211952 s<br>Run time p95: 0.315442 s<br>Run time std: 0.041529 s<br>Nº repeats: 10",
          "Forecaster: ForecasterRecursiveMultiSeries<br>Regressor: DummyRegressor<br>Function: ForecasterRecursiveMultiSeries__create_predict_inputs_exog_is_dict<br>Function_hash: 83cdd92e8d778b9e48a83bc8d05b4aa1<br>Method: _create_predict_inputs_exog_is_dict<br>Datetime: 2025-08-26 07:45:43.230752<br>Python version: 3.12.11<br>skforecast version: 0.17.0<br>numpy version: 2.1.3<br>pandas version: 2.3.2<br>sklearn version: 1.6.1<br>lightgbm version: 4.6.0<br>Platform: Linux-6.11.0-1018-azure-x86_64-with-glibc2.39<br>Processor: x86_64<br>CPU count: 4<br>Memory (GB): 16.77<br>Run time avg: 0.240244 s<br>Run time median: 0.215880 s<br>Run time p95: 0.339647 s<br>Run time std: 0.049645 s<br>Nº repeats: 10",
          "Forecaster: ForecasterRecursiveMultiSeries<br>Regressor: DummyRegressor<br>Function: ForecasterRecursiveMultiSeries__create_predict_inputs_exog_is_dict<br>Function_hash: 83cdd92e8d778b9e48a83bc8d05b4aa1<br>Method: _create_predict_inputs_exog_is_dict<br>Datetime: 2025-08-26 08:11:45.466675<br>Python version: 3.12.11<br>skforecast version: 0.17.0<br>numpy version: 2.1.3<br>pandas version: 2.3.2<br>sklearn version: 1.6.1<br>lightgbm version: 4.6.0<br>Platform: Linux-6.11.0-1018-azure-x86_64-with-glibc2.39<br>Processor: x86_64<br>CPU count: 4<br>Memory (GB): 16.77<br>Run time avg: 0.233559 s<br>Run time median: 0.212579 s<br>Run time p95: 0.319153 s<br>Run time std: 0.042742 s<br>Nº repeats: 10"
         ],
         "type": "scatter",
         "visible": false,
         "x": {
          "bdata": "Ed8vyzVJAEDK6rqlmYz/PzXmN28vMgBAnKlq518oAEC5Yluo5CIAQA==",
          "dtype": "f8"
         },
         "y": {
          "bdata": "Zk5PEQ2WzT/NmD3yhnnOP81Y0KQruc0/zSalDlTAzj9m/ptXQuXNPw==",
          "dtype": "f8"
         }
        },
        {
         "error_y": {
          "array": {
           "bdata": "YjCkWht2qT88lScWkhquP95WT+2uX6s//g0BLxdPrz9XZdyst/msPw==",
           "dtype": "f8"
          },
          "color": "#00CC96",
          "thickness": 1.5,
          "type": "data",
          "visible": true,
          "width": 5
         },
         "hovertemplate": "%{text}<extra></extra>",
         "marker": {
          "color": "#00CC96",
          "line": {
           "color": "white",
           "width": 1
          },
          "opacity": 0.85,
          "size": 10
         },
         "mode": "markers",
         "text": [
          "Forecaster: ForecasterRecursiveMultiSeries<br>Regressor: DummyRegressor<br>Function: ForecasterRecursiveMultiSeries__create_predict_inputs_exog_is_df_long<br>Function_hash: 61d50fcbf09fd65a8d12d39705a591c1<br>Method: _create_predict_inputs_exog_is_df_long<br>Datetime: 2025-08-26 07:01:44.350613<br>Python version: 3.12.11<br>skforecast version: 0.17.0<br>numpy version: 2.1.3<br>pandas version: 2.3.2<br>sklearn version: 1.6.1<br>lightgbm version: 4.6.0<br>Platform: Linux-6.11.0-1018-azure-x86_64-with-glibc2.39<br>Processor: x86_64<br>CPU count: 4<br>Memory (GB): 16.77<br>Run time avg: 0.417798 s<br>Run time median: 0.379224 s<br>Run time p95: 0.483257 s<br>Run time std: 0.049729 s<br>Nº repeats: 10",
          "Forecaster: ForecasterRecursiveMultiSeries<br>Regressor: DummyRegressor<br>Function: ForecasterRecursiveMultiSeries__create_predict_inputs_exog_is_df_long<br>Function_hash: 61d50fcbf09fd65a8d12d39705a591c1<br>Method: _create_predict_inputs_exog_is_df_long<br>Datetime: 2025-08-26 07:14:37.123456<br>Python version: 3.12.11<br>skforecast version: 0.17.0<br>numpy version: 2.1.3<br>pandas version: 2.3.2<br>sklearn version: 1.6.1<br>lightgbm version: 4.6.0<br>Platform: Linux-6.11.0-1018-azure-x86_64-with-glibc2.39<br>Processor: x86_64<br>CPU count: 4<br>Memory (GB): 16.77<br>Run time avg: 0.432332 s<br>Run time median: 0.385313 s<br>Run time p95: 0.506849 s<br>Run time std: 0.058796 s<br>Nº repeats: 10",
          "Forecaster: ForecasterRecursiveMultiSeries<br>Regressor: DummyRegressor<br>Function: ForecasterRecursiveMultiSeries__create_predict_inputs_exog_is_df_long<br>Function_hash: 61d50fcbf09fd65a8d12d39705a591c1<br>Method: _create_predict_inputs_exog_is_df_long<br>Datetime: 2025-08-26 07:33:07.025339<br>Python version: 3.12.11<br>skforecast version: 0.17.0<br>numpy version: 2.1.3<br>pandas version: 2.3.2<br>sklearn version: 1.6.1<br>lightgbm version: 4.6.0<br>Platform: Linux-6.11.0-1018-azure-x86_64-with-glibc2.39<br>Processor: x86_64<br>CPU count: 4<br>Memory (GB): 16.77<br>Run time avg: 0.425961 s<br>Run time median: 0.383428 s<br>Run time p95: 0.493978 s<br>Run time std: 0.053464 s<br>Nº repeats: 10",
          "Forecaster: ForecasterRecursiveMultiSeries<br>Regressor: DummyRegressor<br>Function: ForecasterRecursiveMultiSeries__create_predict_inputs_exog_is_df_long<br>Function_hash: 61d50fcbf09fd65a8d12d39705a591c1<br>Method: _create_predict_inputs_exog_is_df_long<br>Datetime: 2025-08-26 07:45:47.580818<br>Python version: 3.12.11<br>skforecast version: 0.17.0<br>numpy version: 2.1.3<br>pandas version: 2.3.2<br>sklearn version: 1.6.1<br>lightgbm version: 4.6.0<br>Platform: Linux-6.11.0-1018-azure-x86_64-with-glibc2.39<br>Processor: x86_64<br>CPU count: 4<br>Memory (GB): 16.77<br>Run time avg: 0.434552 s<br>Run time median: 0.386467 s<br>Run time p95: 0.519571 s<br>Run time std: 0.061150 s<br>Nº repeats: 10",
          "Forecaster: ForecasterRecursiveMultiSeries<br>Regressor: DummyRegressor<br>Function: ForecasterRecursiveMultiSeries__create_predict_inputs_exog_is_df_long<br>Function_hash: 61d50fcbf09fd65a8d12d39705a591c1<br>Method: _create_predict_inputs_exog_is_df_long<br>Datetime: 2025-08-26 08:11:49.748357<br>Python version: 3.12.11<br>skforecast version: 0.17.0<br>numpy version: 2.1.3<br>pandas version: 2.3.2<br>sklearn version: 1.6.1<br>lightgbm version: 4.6.0<br>Platform: Linux-6.11.0-1018-azure-x86_64-with-glibc2.39<br>Processor: x86_64<br>CPU count: 4<br>Memory (GB): 16.77<br>Run time avg: 0.427716 s<br>Run time median: 0.387769 s<br>Run time p95: 0.503904 s<br>Run time std: 0.056593 s<br>Nº repeats: 10"
         ],
         "type": "scatter",
         "visible": false,
         "x": {
          "bdata": "Ubn9zqVp/z//kwz99qb/P3gs3R6pAABAkMj5pCtmAEARSkG/Xqf/Pw==",
          "dtype": "f8"
         },
         "y": {
          "bdata": "zRydVDS92j8zy6EIU6vbP822gQXwQts/MwB9XbHP2z8z62zXs1/bPw==",
          "dtype": "f8"
         }
        },
        {
         "error_y": {
          "array": {
           "bdata": "iOpqQGmHYz++4TJILUVPPw5kVN8BZ0g/K39dCJjITT8DrZ54cstQPw==",
           "dtype": "f8"
          },
          "color": "#00CC96",
          "thickness": 1.5,
          "type": "data",
          "visible": true,
          "width": 5
         },
         "hovertemplate": "%{text}<extra></extra>",
         "marker": {
          "color": "#00CC96",
          "line": {
           "color": "white",
           "width": 1
          },
          "opacity": 0.85,
          "size": 10
         },
         "mode": "markers",
         "text": [
          "Forecaster: ForecasterRecursiveMultiSeries<br>Regressor: DummyRegressor<br>Function: ForecasterRecursiveMultiSeries__create_predict_inputs_exog_is_df_wide<br>Function_hash: c87d67f05cf35fbeac7206fd00f94b2d<br>Method: _create_predict_inputs_exog_is_df_wide<br>Datetime: 2025-08-26 07:01:47.832982<br>Python version: 3.12.11<br>skforecast version: 0.17.0<br>numpy version: 2.1.3<br>pandas version: 2.3.2<br>sklearn version: 1.6.1<br>lightgbm version: 4.6.0<br>Platform: Linux-6.11.0-1018-azure-x86_64-with-glibc2.39<br>Processor: x86_64<br>CPU count: 4<br>Memory (GB): 16.77<br>Run time avg: 0.110175 s<br>Run time median: 0.109210 s<br>Run time p95: 0.114647 s<br>Run time std: 0.002384 s<br>Nº repeats: 10",
          "Forecaster: ForecasterRecursiveMultiSeries<br>Regressor: DummyRegressor<br>Function: ForecasterRecursiveMultiSeries__create_predict_inputs_exog_is_df_wide<br>Function_hash: c87d67f05cf35fbeac7206fd00f94b2d<br>Method: _create_predict_inputs_exog_is_df_wide<br>Datetime: 2025-08-26 07:14:40.673150<br>Python version: 3.12.11<br>skforecast version: 0.17.0<br>numpy version: 2.1.3<br>pandas version: 2.3.2<br>sklearn version: 1.6.1<br>lightgbm version: 4.6.0<br>Platform: Linux-6.11.0-1018-azure-x86_64-with-glibc2.39<br>Processor: x86_64<br>CPU count: 4<br>Memory (GB): 16.77<br>Run time avg: 0.109003 s<br>Run time median: 0.108741 s<br>Run time p95: 0.110682 s<br>Run time std: 0.000954 s<br>Nº repeats: 10",
          "Forecaster: ForecasterRecursiveMultiSeries<br>Regressor: DummyRegressor<br>Function: ForecasterRecursiveMultiSeries__create_predict_inputs_exog_is_df_wide<br>Function_hash: c87d67f05cf35fbeac7206fd00f94b2d<br>Method: _create_predict_inputs_exog_is_df_wide<br>Datetime: 2025-08-26 07:33:10.519411<br>Python version: 3.12.11<br>skforecast version: 0.17.0<br>numpy version: 2.1.3<br>pandas version: 2.3.2<br>sklearn version: 1.6.1<br>lightgbm version: 4.6.0<br>Platform: Linux-6.11.0-1018-azure-x86_64-with-glibc2.39<br>Processor: x86_64<br>CPU count: 4<br>Memory (GB): 16.77<br>Run time avg: 0.108919 s<br>Run time median: 0.108667 s<br>Run time p95: 0.110226 s<br>Run time std: 0.000745 s<br>Nº repeats: 10",
          "Forecaster: ForecasterRecursiveMultiSeries<br>Regressor: DummyRegressor<br>Function: ForecasterRecursiveMultiSeries__create_predict_inputs_exog_is_df_wide<br>Function_hash: c87d67f05cf35fbeac7206fd00f94b2d<br>Method: _create_predict_inputs_exog_is_df_wide<br>Datetime: 2025-08-26 07:45:51.170809<br>Python version: 3.12.11<br>skforecast version: 0.17.0<br>numpy version: 2.1.3<br>pandas version: 2.3.2<br>sklearn version: 1.6.1<br>lightgbm version: 4.6.0<br>Platform: Linux-6.11.0-1018-azure-x86_64-with-glibc2.39<br>Processor: x86_64<br>CPU count: 4<br>Memory (GB): 16.77<br>Run time avg: 0.112002 s<br>Run time median: 0.111888 s<br>Run time p95: 0.113532 s<br>Run time std: 0.000909 s<br>Nº repeats: 10",
          "Forecaster: ForecasterRecursiveMultiSeries<br>Regressor: DummyRegressor<br>Function: ForecasterRecursiveMultiSeries__create_predict_inputs_exog_is_df_wide<br>Function_hash: c87d67f05cf35fbeac7206fd00f94b2d<br>Method: _create_predict_inputs_exog_is_df_wide<br>Datetime: 2025-08-26 08:11:53.267348<br>Python version: 3.12.11<br>skforecast version: 0.17.0<br>numpy version: 2.1.3<br>pandas version: 2.3.2<br>sklearn version: 1.6.1<br>lightgbm version: 4.6.0<br>Platform: Linux-6.11.0-1018-azure-x86_64-with-glibc2.39<br>Processor: x86_64<br>CPU count: 4<br>Memory (GB): 16.77<br>Run time avg: 0.110044 s<br>Run time median: 0.109679 s<br>Run time p95: 0.111775 s<br>Run time std: 0.001025 s<br>Nº repeats: 10"
         ],
         "type": "scatter",
         "visible": false,
         "x": {
          "bdata": "wdxfyFE3AEAiSh0bqj//P0wjijs5CQBA450h5cE2/z+lIvXodQsAQA==",
          "dtype": "f8"
         },
         "y": {
          "bdata": "mtmXJmg0vD9mXsPzpue7P5qB/JMZ4rs/mv0r1CesvD9mhhzK2iu8Pw==",
          "dtype": "f8"
         }
        },
        {
         "error_y": {
          "array": {
           "bdata": "iguAOWQeoj/h6j2tYo2lPwIBZAXKuKg/Cfm06/fopj8=",
           "dtype": "f8"
          },
          "color": "#636EFA",
          "thickness": 1.5,
          "type": "data",
          "visible": true,
          "width": 5
         },
         "hovertemplate": "%{text}<extra></extra>",
         "marker": {
          "color": "#636EFA",
          "line": {
           "color": "white",
           "width": 1
          },
          "opacity": 0.85,
          "size": 10
         },
         "mode": "markers",
         "text": [
          "Forecaster: ForecasterRecursiveMultiSeries<br>Regressor: DummyRegressor<br>Function: ForecasterRecursiveMultiSeries_predict_exog_is_dict<br>Function_hash: 8626a423a7a4e5854c2626dd17722504<br>Method: predict_exog_is_dict<br>Datetime: 2025-08-26 09:18:49.552517<br>Python version: 3.12.11<br>skforecast version: 0.15.1<br>numpy version: 2.1.3<br>pandas version: 2.3.2<br>sklearn version: 1.6.1<br>lightgbm version: 4.6.0<br>Platform: Linux-6.11.0-1018-azure-x86_64-with-glibc2.39<br>Processor: x86_64<br>CPU count: 4<br>Memory (GB): 16.77<br>Run time avg: 1.579206 s<br>Run time median: 1.569598 s<br>Run time p95: 1.634275 s<br>Run time std: 0.035388 s<br>Nº repeats: 10",
          "Forecaster: ForecasterRecursiveMultiSeries<br>Regressor: DummyRegressor<br>Function: ForecasterRecursiveMultiSeries_predict_exog_is_dict<br>Function_hash: 8626a423a7a4e5854c2626dd17722504<br>Method: predict_exog_is_dict<br>Datetime: 2025-08-26 09:34:51.070536<br>Python version: 3.12.11<br>skforecast version: 0.15.1<br>numpy version: 2.1.3<br>pandas version: 2.3.2<br>sklearn version: 1.6.1<br>lightgbm version: 4.6.0<br>Platform: Linux-6.11.0-1018-azure-x86_64-with-glibc2.39<br>Processor: x86_64<br>CPU count: 4<br>Memory (GB): 16.77<br>Run time avg: 1.589536 s<br>Run time median: 1.577805 s<br>Run time p95: 1.653993 s<br>Run time std: 0.042094 s<br>Nº repeats: 10",
          "Forecaster: ForecasterRecursiveMultiSeries<br>Regressor: DummyRegressor<br>Function: ForecasterRecursiveMultiSeries_predict_exog_is_dict<br>Function_hash: 8626a423a7a4e5854c2626dd17722504<br>Method: predict_exog_is_dict<br>Datetime: 2025-08-26 09:47:41.877380<br>Python version: 3.12.11<br>skforecast version: 0.15.1<br>numpy version: 2.1.3<br>pandas version: 2.3.2<br>sklearn version: 1.6.1<br>lightgbm version: 4.6.0<br>Platform: Linux-6.11.0-1018-azure-x86_64-with-glibc2.39<br>Processor: x86_64<br>CPU count: 4<br>Memory (GB): 16.77<br>Run time avg: 1.596939 s<br>Run time median: 1.578284 s<br>Run time p95: 1.679329 s<br>Run time std: 0.048285 s<br>Nº repeats: 10",
          "Forecaster: ForecasterRecursiveMultiSeries<br>Regressor: DummyRegressor<br>Function: ForecasterRecursiveMultiSeries_predict_exog_is_dict<br>Function_hash: 8626a423a7a4e5854c2626dd17722504<br>Method: predict_exog_is_dict<br>Datetime: 2025-08-26 10:11:16.123461<br>Python version: 3.12.11<br>skforecast version: 0.15.1<br>numpy version: 2.1.3<br>pandas version: 2.3.2<br>sklearn version: 1.6.1<br>lightgbm version: 4.6.0<br>Platform: Linux-6.11.0-1018-azure-x86_64-with-glibc2.39<br>Processor: x86_64<br>CPU count: 4<br>Memory (GB): 16.77<br>Run time avg: 1.600454 s<br>Run time median: 1.587964 s<br>Run time p95: 1.670410 s<br>Run time std: 0.044746 s<br>Nº repeats: 10"
         ],
         "type": "scatter",
         "visible": false,
         "x": {
          "bdata": "ElYlCLIDqL8i/Z81FkigPyg4yXcK0pU/9EuR8w26ib8=",
          "dtype": "f8"
         },
         "y": {
          "bdata": "gM54OW1E+T9m6qnDvW75P80epPgPjfk/s3pvHXab+T8=",
          "dtype": "f8"
         }
        },
        {
         "error_y": {
          "array": {
           "bdata": "62SRbJH7pD8ZR6dwm9ekP3FirDaIlqc/1D1urmwOpj8=",
           "dtype": "f8"
          },
          "color": "#EF553B",
          "thickness": 1.5,
          "type": "data",
          "visible": true,
          "width": 5
         },
         "hovertemplate": "%{text}<extra></extra>",
         "marker": {
          "color": "#EF553B",
          "line": {
           "color": "white",
           "width": 1
          },
          "opacity": 0.85,
          "size": 10
         },
         "mode": "markers",
         "text": [
          "Forecaster: ForecasterRecursiveMultiSeries<br>Regressor: DummyRegressor<br>Function: ForecasterRecursiveMultiSeries_predict_exog_is_dict<br>Function_hash: 8626a423a7a4e5854c2626dd17722504<br>Method: predict_exog_is_dict<br>Datetime: 2025-08-26 08:31:12.405044<br>Python version: 3.12.11<br>skforecast version: 0.16.0<br>numpy version: 2.1.3<br>pandas version: 2.3.2<br>sklearn version: 1.6.1<br>lightgbm version: 4.6.0<br>Platform: Linux-6.11.0-1018-azure-x86_64-with-glibc2.39<br>Processor: x86_64<br>CPU count: 4<br>Memory (GB): 16.77<br>Run time avg: 0.301051 s<br>Run time median: 0.280874 s<br>Run time p95: 0.383265 s<br>Run time std: 0.040982 s<br>Nº repeats: 10",
          "Forecaster: ForecasterRecursiveMultiSeries<br>Regressor: DummyRegressor<br>Function: ForecasterRecursiveMultiSeries_predict_exog_is_dict<br>Function_hash: 8626a423a7a4e5854c2626dd17722504<br>Method: predict_exog_is_dict<br>Datetime: 2025-08-26 08:41:05.171181<br>Python version: 3.12.11<br>skforecast version: 0.16.0<br>numpy version: 2.1.3<br>pandas version: 2.3.2<br>sklearn version: 1.6.1<br>lightgbm version: 4.6.0<br>Platform: Linux-6.11.0-1018-azure-x86_64-with-glibc2.39<br>Processor: x86_64<br>CPU count: 4<br>Memory (GB): 16.77<br>Run time avg: 0.296850 s<br>Run time median: 0.277266 s<br>Run time p95: 0.378740 s<br>Run time std: 0.040707 s<br>Nº repeats: 10",
          "Forecaster: ForecasterRecursiveMultiSeries<br>Regressor: DummyRegressor<br>Function: ForecasterRecursiveMultiSeries_predict_exog_is_dict<br>Function_hash: 8626a423a7a4e5854c2626dd17722504<br>Method: predict_exog_is_dict<br>Datetime: 2025-08-26 08:55:21.537173<br>Python version: 3.12.11<br>skforecast version: 0.16.0<br>numpy version: 2.1.3<br>pandas version: 2.3.2<br>sklearn version: 1.6.1<br>lightgbm version: 4.6.0<br>Platform: Linux-6.11.0-1018-azure-x86_64-with-glibc2.39<br>Processor: x86_64<br>CPU count: 4<br>Memory (GB): 16.77<br>Run time avg: 0.299780 s<br>Run time median: 0.277580 s<br>Run time p95: 0.392370 s<br>Run time std: 0.046070 s<br>Nº repeats: 10",
          "Forecaster: ForecasterRecursiveMultiSeries<br>Regressor: DummyRegressor<br>Function: ForecasterRecursiveMultiSeries_predict_exog_is_dict<br>Function_hash: 8626a423a7a4e5854c2626dd17722504<br>Method: predict_exog_is_dict<br>Datetime: 2025-08-26 09:05:45.537437<br>Python version: 3.12.11<br>skforecast version: 0.16.0<br>numpy version: 2.1.3<br>pandas version: 2.3.2<br>sklearn version: 1.6.1<br>lightgbm version: 4.6.0<br>Platform: Linux-6.11.0-1018-azure-x86_64-with-glibc2.39<br>Processor: x86_64<br>CPU count: 4<br>Memory (GB): 16.77<br>Run time avg: 0.307767 s<br>Run time median: 0.286469 s<br>Run time p95: 0.394091 s<br>Run time std: 0.043079 s<br>Nº repeats: 10"
         ],
         "type": "scatter",
         "visible": false,
         "x": {
          "bdata": "akVQbUDX7j8KfZYyIpXwP20dLcBcfO8/lXEmoWTJ7z8=",
          "dtype": "f8"
         },
         "y": {
          "bdata": "M5mX52tE0z/NpzbFlv/SP81MHWCZL9M/ZipPXnSy0z8=",
          "dtype": "f8"
         }
        },
        {
         "error_y": {
          "array": {
           "bdata": "I7Sx1nqEpT+cmPd+NummPzJfWMvSmaU/vpBbEmKZqD+Q31z3/jyqPw==",
           "dtype": "f8"
          },
          "color": "#00CC96",
          "thickness": 1.5,
          "type": "data",
          "visible": true,
          "width": 5
         },
         "hovertemplate": "%{text}<extra></extra>",
         "marker": {
          "color": "#00CC96",
          "line": {
           "color": "white",
           "width": 1
          },
          "opacity": 0.85,
          "size": 10
         },
         "mode": "markers",
         "text": [
          "Forecaster: ForecasterRecursiveMultiSeries<br>Regressor: DummyRegressor<br>Function: ForecasterRecursiveMultiSeries_predict_exog_is_dict<br>Function_hash: 8626a423a7a4e5854c2626dd17722504<br>Method: predict_exog_is_dict<br>Datetime: 2025-08-26 07:01:50.809674<br>Python version: 3.12.11<br>skforecast version: 0.17.0<br>numpy version: 2.1.3<br>pandas version: 2.3.2<br>sklearn version: 1.6.1<br>lightgbm version: 4.6.0<br>Platform: Linux-6.11.0-1018-azure-x86_64-with-glibc2.39<br>Processor: x86_64<br>CPU count: 4<br>Memory (GB): 16.77<br>Run time avg: 0.297276 s<br>Run time median: 0.276100 s<br>Run time p95: 0.381392 s<br>Run time std: 0.042026 s<br>Nº repeats: 10",
          "Forecaster: ForecasterRecursiveMultiSeries<br>Regressor: DummyRegressor<br>Function: ForecasterRecursiveMultiSeries_predict_exog_is_dict<br>Function_hash: 8626a423a7a4e5854c2626dd17722504<br>Method: predict_exog_is_dict<br>Datetime: 2025-08-26 07:14:43.692721<br>Python version: 3.12.11<br>skforecast version: 0.17.0<br>numpy version: 2.1.3<br>pandas version: 2.3.2<br>sklearn version: 1.6.1<br>lightgbm version: 4.6.0<br>Platform: Linux-6.11.0-1018-azure-x86_64-with-glibc2.39<br>Processor: x86_64<br>CPU count: 4<br>Memory (GB): 16.77<br>Run time avg: 0.301538 s<br>Run time median: 0.280009 s<br>Run time p95: 0.391199 s<br>Run time std: 0.044748 s<br>Nº repeats: 10",
          "Forecaster: ForecasterRecursiveMultiSeries<br>Regressor: DummyRegressor<br>Function: ForecasterRecursiveMultiSeries_predict_exog_is_dict<br>Function_hash: 8626a423a7a4e5854c2626dd17722504<br>Method: predict_exog_is_dict<br>Datetime: 2025-08-26 07:33:13.494100<br>Python version: 3.12.11<br>skforecast version: 0.17.0<br>numpy version: 2.1.3<br>pandas version: 2.3.2<br>sklearn version: 1.6.1<br>lightgbm version: 4.6.0<br>Platform: Linux-6.11.0-1018-azure-x86_64-with-glibc2.39<br>Processor: x86_64<br>CPU count: 4<br>Memory (GB): 16.77<br>Run time avg: 0.297037 s<br>Run time median: 0.276677 s<br>Run time p95: 0.381452 s<br>Run time std: 0.042189 s<br>Nº repeats: 10",
          "Forecaster: ForecasterRecursiveMultiSeries<br>Regressor: DummyRegressor<br>Function: ForecasterRecursiveMultiSeries_predict_exog_is_dict<br>Function_hash: 8626a423a7a4e5854c2626dd17722504<br>Method: predict_exog_is_dict<br>Datetime: 2025-08-26 07:45:54.248236<br>Python version: 3.12.11<br>skforecast version: 0.17.0<br>numpy version: 2.1.3<br>pandas version: 2.3.2<br>sklearn version: 1.6.1<br>lightgbm version: 4.6.0<br>Platform: Linux-6.11.0-1018-azure-x86_64-with-glibc2.39<br>Processor: x86_64<br>CPU count: 4<br>Memory (GB): 16.77<br>Run time avg: 0.307268 s<br>Run time median: 0.282178 s<br>Run time p95: 0.403218 s<br>Run time std: 0.048045 s<br>Nº repeats: 10",
          "Forecaster: ForecasterRecursiveMultiSeries<br>Regressor: DummyRegressor<br>Function: ForecasterRecursiveMultiSeries_predict_exog_is_dict<br>Function_hash: 8626a423a7a4e5854c2626dd17722504<br>Method: predict_exog_is_dict<br>Datetime: 2025-08-26 08:11:56.300137<br>Python version: 3.12.11<br>skforecast version: 0.17.0<br>numpy version: 2.1.3<br>pandas version: 2.3.2<br>sklearn version: 1.6.1<br>lightgbm version: 4.6.0<br>Platform: Linux-6.11.0-1018-azure-x86_64-with-glibc2.39<br>Processor: x86_64<br>CPU count: 4<br>Memory (GB): 16.77<br>Run time avg: 0.302811 s<br>Run time median: 0.278812 s<br>Run time p95: 0.405894 s<br>Run time std: 0.051247 s<br>Nº repeats: 10"
         ],
         "type": "scatter",
         "visible": false,
         "x": {
          "bdata": "W4mwIu99/z/1rRGqew4AQMYA3CmpPwBASnSBnK9VAEADmBwd2hcAQA==",
          "dtype": "f8"
         },
         "y": {
          "bdata": "MyOJYpEG0z9mpmLOZ0zTP2ZChQCnAtM/zcRHDEaq0z8AUEzLQWHTPw==",
          "dtype": "f8"
         }
        },
        {
         "error_y": {
          "array": {
           "bdata": "C5+Tnk90pz+LxqulAnWyP+ns1oe8cak/vf/eQSsuqz/7M27gA4KuPw==",
           "dtype": "f8"
          },
          "color": "#00CC96",
          "thickness": 1.5,
          "type": "data",
          "visible": true,
          "width": 5
         },
         "hovertemplate": "%{text}<extra></extra>",
         "marker": {
          "color": "#00CC96",
          "line": {
           "color": "white",
           "width": 1
          },
          "opacity": 0.85,
          "size": 10
         },
         "mode": "markers",
         "text": [
          "Forecaster: ForecasterRecursiveMultiSeries<br>Regressor: DummyRegressor<br>Function: ForecasterRecursiveMultiSeries_predict_exog_is_df_long<br>Function_hash: 40e4e852c2942a892c0074b0f055dd06<br>Method: predict_exog_is_df_long<br>Datetime: 2025-08-26 07:01:55.622885<br>Python version: 3.12.11<br>skforecast version: 0.17.0<br>numpy version: 2.1.3<br>pandas version: 2.3.2<br>sklearn version: 1.6.1<br>lightgbm version: 4.6.0<br>Platform: Linux-6.11.0-1018-azure-x86_64-with-glibc2.39<br>Processor: x86_64<br>CPU count: 4<br>Memory (GB): 16.77<br>Run time avg: 0.480914 s<br>Run time median: 0.454877 s<br>Run time p95: 0.553077 s<br>Run time std: 0.045809 s<br>Nº repeats: 10",
          "Forecaster: ForecasterRecursiveMultiSeries<br>Regressor: DummyRegressor<br>Function: ForecasterRecursiveMultiSeries_predict_exog_is_df_long<br>Function_hash: 40e4e852c2942a892c0074b0f055dd06<br>Method: predict_exog_is_df_long<br>Datetime: 2025-08-26 07:14:48.741536<br>Python version: 3.12.11<br>skforecast version: 0.17.0<br>numpy version: 2.1.3<br>pandas version: 2.3.2<br>sklearn version: 1.6.1<br>lightgbm version: 4.6.0<br>Platform: Linux-6.11.0-1018-azure-x86_64-with-glibc2.39<br>Processor: x86_64<br>CPU count: 4<br>Memory (GB): 16.77<br>Run time avg: 0.504441 s<br>Run time median: 0.461385 s<br>Run time p95: 0.617676 s<br>Run time std: 0.072098 s<br>Nº repeats: 10",
          "Forecaster: ForecasterRecursiveMultiSeries<br>Regressor: DummyRegressor<br>Function: ForecasterRecursiveMultiSeries_predict_exog_is_df_long<br>Function_hash: 40e4e852c2942a892c0074b0f055dd06<br>Method: predict_exog_is_df_long<br>Datetime: 2025-08-26 07:33:18.282486<br>Python version: 3.12.11<br>skforecast version: 0.17.0<br>numpy version: 2.1.3<br>pandas version: 2.3.2<br>sklearn version: 1.6.1<br>lightgbm version: 4.6.0<br>Platform: Linux-6.11.0-1018-azure-x86_64-with-glibc2.39<br>Processor: x86_64<br>CPU count: 4<br>Memory (GB): 16.77<br>Run time avg: 0.478409 s<br>Run time median: 0.446381 s<br>Run time p95: 0.554847 s<br>Run time std: 0.049696 s<br>Nº repeats: 10",
          "Forecaster: ForecasterRecursiveMultiSeries<br>Regressor: DummyRegressor<br>Function: ForecasterRecursiveMultiSeries_predict_exog_is_df_long<br>Function_hash: 40e4e852c2942a892c0074b0f055dd06<br>Method: predict_exog_is_df_long<br>Datetime: 2025-08-26 07:45:59.101034<br>Python version: 3.12.11<br>skforecast version: 0.17.0<br>numpy version: 2.1.3<br>pandas version: 2.3.2<br>sklearn version: 1.6.1<br>lightgbm version: 4.6.0<br>Platform: Linux-6.11.0-1018-azure-x86_64-with-glibc2.39<br>Processor: x86_64<br>CPU count: 4<br>Memory (GB): 16.77<br>Run time avg: 0.484804 s<br>Run time median: 0.450991 s<br>Run time p95: 0.567792 s<br>Run time std: 0.053087 s<br>Nº repeats: 10",
          "Forecaster: ForecasterRecursiveMultiSeries<br>Regressor: DummyRegressor<br>Function: ForecasterRecursiveMultiSeries_predict_exog_is_df_long<br>Function_hash: 40e4e852c2942a892c0074b0f055dd06<br>Method: predict_exog_is_df_long<br>Datetime: 2025-08-26 08:12:01.156571<br>Python version: 3.12.11<br>skforecast version: 0.17.0<br>numpy version: 2.1.3<br>pandas version: 2.3.2<br>sklearn version: 1.6.1<br>lightgbm version: 4.6.0<br>Platform: Linux-6.11.0-1018-azure-x86_64-with-glibc2.39<br>Processor: x86_64<br>CPU count: 4<br>Memory (GB): 16.77<br>Run time avg: 0.485160 s<br>Run time median: 0.448284 s<br>Run time p95: 0.585179 s<br>Run time std: 0.059586 s<br>Nº repeats: 10"
         ],
         "type": "scatter",
         "visible": false,
         "x": {
          "bdata": "gSlEajtK/z+MaFJGGnb/P6flwGqsBQBASHHGISEjAEA6uTk//A4AQA==",
          "dtype": "f8"
         },
         "y": {
          "bdata": "zYS1zkvH3j8A86Q3YSTgP5qFjco/nt4/miHslAYH3z8ARMs62wzfPw==",
          "dtype": "f8"
         }
        },
        {
         "error_y": {
          "array": {
           "bdata": "Goy30Ov8bz/ItlEGKUSAP3bisZB37YE/261KdJlGdj8=",
           "dtype": "f8"
          },
          "color": "#636EFA",
          "thickness": 1.5,
          "type": "data",
          "visible": true,
          "width": 5
         },
         "hovertemplate": "%{text}<extra></extra>",
         "marker": {
          "color": "#636EFA",
          "line": {
           "color": "white",
           "width": 1
          },
          "opacity": 0.85,
          "size": 10
         },
         "mode": "markers",
         "text": [
          "Forecaster: ForecasterRecursiveMultiSeries<br>Regressor: DummyRegressor<br>Function: ForecasterRecursiveMultiSeries_predict_interval_exog_is_dict_conformal<br>Function_hash: a906bd18c2d5634ddbc7fa3a22c073fa<br>Method: predict_interval_exog_is_dict_conformal<br>Datetime: 2025-08-26 09:19:07.618547<br>Python version: 3.12.11<br>skforecast version: 0.15.1<br>numpy version: 2.1.3<br>pandas version: 2.3.2<br>sklearn version: 1.6.1<br>lightgbm version: 4.6.0<br>Platform: Linux-6.11.0-1018-azure-x86_64-with-glibc2.39<br>Processor: x86_64<br>CPU count: 4<br>Memory (GB): 16.77<br>Run time avg: 1.806048 s<br>Run time median: 1.807644 s<br>Run time p95: 1.810957 s<br>Run time std: 0.003905 s<br>Nº repeats: 10",
          "Forecaster: ForecasterRecursiveMultiSeries<br>Regressor: DummyRegressor<br>Function: ForecasterRecursiveMultiSeries_predict_interval_exog_is_dict_conformal<br>Function_hash: a906bd18c2d5634ddbc7fa3a22c073fa<br>Method: predict_interval_exog_is_dict_conformal<br>Datetime: 2025-08-26 09:35:09.204649<br>Python version: 3.12.11<br>skforecast version: 0.15.1<br>numpy version: 2.1.3<br>pandas version: 2.3.2<br>sklearn version: 1.6.1<br>lightgbm version: 4.6.0<br>Platform: Linux-6.11.0-1018-azure-x86_64-with-glibc2.39<br>Processor: x86_64<br>CPU count: 4<br>Memory (GB): 16.77<br>Run time avg: 1.812855 s<br>Run time median: 1.813617 s<br>Run time p95: 1.823245 s<br>Run time std: 0.007943 s<br>Nº repeats: 10",
          "Forecaster: ForecasterRecursiveMultiSeries<br>Regressor: DummyRegressor<br>Function: ForecasterRecursiveMultiSeries_predict_interval_exog_is_dict_conformal<br>Function_hash: a906bd18c2d5634ddbc7fa3a22c073fa<br>Method: predict_interval_exog_is_dict_conformal<br>Datetime: 2025-08-26 09:47:59.992419<br>Python version: 3.12.11<br>skforecast version: 0.15.1<br>numpy version: 2.1.3<br>pandas version: 2.3.2<br>sklearn version: 1.6.1<br>lightgbm version: 4.6.0<br>Platform: Linux-6.11.0-1018-azure-x86_64-with-glibc2.39<br>Processor: x86_64<br>CPU count: 4<br>Memory (GB): 16.77<br>Run time avg: 1.810924 s<br>Run time median: 1.807730 s<br>Run time p95: 1.826270 s<br>Run time std: 0.008754 s<br>Nº repeats: 10",
          "Forecaster: ForecasterRecursiveMultiSeries<br>Regressor: DummyRegressor<br>Function: ForecasterRecursiveMultiSeries_predict_interval_exog_is_dict_conformal<br>Function_hash: a906bd18c2d5634ddbc7fa3a22c073fa<br>Method: predict_interval_exog_is_dict_conformal<br>Datetime: 2025-08-26 10:11:34.422893<br>Python version: 3.12.11<br>skforecast version: 0.15.1<br>numpy version: 2.1.3<br>pandas version: 2.3.2<br>sklearn version: 1.6.1<br>lightgbm version: 4.6.0<br>Platform: Linux-6.11.0-1018-azure-x86_64-with-glibc2.39<br>Processor: x86_64<br>CPU count: 4<br>Memory (GB): 16.77<br>Run time avg: 1.829356 s<br>Run time median: 1.831131 s<br>Run time p95: 1.835287 s<br>Run time std: 0.005438 s<br>Nº repeats: 10"
         ],
         "type": "scatter",
         "visible": false,
         "x": {
          "bdata": "6hv2e3Z4nb8O4tAo6JWoP2BvcMLh11i/dDBWnp19gL8=",
          "dtype": "f8"
         },
         "y": {
          "bdata": "5u8HIJLl/D8z5omkdAH9P/MGcVeL+fw/TdSg5QpF/T8=",
          "dtype": "f8"
         }
        },
        {
         "error_y": {
          "array": {
           "bdata": "g828nzxDpz8VNnzH4vukP/aW2Cuu76g/HCfmyvANqD8=",
           "dtype": "f8"
          },
          "color": "#EF553B",
          "thickness": 1.5,
          "type": "data",
          "visible": true,
          "width": 5
         },
         "hovertemplate": "%{text}<extra></extra>",
         "marker": {
          "color": "#EF553B",
          "line": {
           "color": "white",
           "width": 1
          },
          "opacity": 0.85,
          "size": 10
         },
         "mode": "markers",
         "text": [
          "Forecaster: ForecasterRecursiveMultiSeries<br>Regressor: DummyRegressor<br>Function: ForecasterRecursiveMultiSeries_predict_interval_exog_is_dict_conformal<br>Function_hash: a906bd18c2d5634ddbc7fa3a22c073fa<br>Method: predict_interval_exog_is_dict_conformal<br>Datetime: 2025-08-26 08:31:17.823936<br>Python version: 3.12.11<br>skforecast version: 0.16.0<br>numpy version: 2.1.3<br>pandas version: 2.3.2<br>sklearn version: 1.6.1<br>lightgbm version: 4.6.0<br>Platform: Linux-6.11.0-1018-azure-x86_64-with-glibc2.39<br>Processor: x86_64<br>CPU count: 4<br>Memory (GB): 16.77<br>Run time avg: 0.541379 s<br>Run time median: 0.518628 s<br>Run time p95: 0.632236 s<br>Run time std: 0.045435 s<br>Nº repeats: 10",
          "Forecaster: ForecasterRecursiveMultiSeries<br>Regressor: DummyRegressor<br>Function: ForecasterRecursiveMultiSeries_predict_interval_exog_is_dict_conformal<br>Function_hash: a906bd18c2d5634ddbc7fa3a22c073fa<br>Method: predict_interval_exog_is_dict_conformal<br>Datetime: 2025-08-26 08:41:10.488731<br>Python version: 3.12.11<br>skforecast version: 0.16.0<br>numpy version: 2.1.3<br>pandas version: 2.3.2<br>sklearn version: 1.6.1<br>lightgbm version: 4.6.0<br>Platform: Linux-6.11.0-1018-azure-x86_64-with-glibc2.39<br>Processor: x86_64<br>CPU count: 4<br>Memory (GB): 16.77<br>Run time avg: 0.531262 s<br>Run time median: 0.511260 s<br>Run time p95: 0.613444 s<br>Run time std: 0.040984 s<br>Nº repeats: 10",
          "Forecaster: ForecasterRecursiveMultiSeries<br>Regressor: DummyRegressor<br>Function: ForecasterRecursiveMultiSeries_predict_interval_exog_is_dict_conformal<br>Function_hash: a906bd18c2d5634ddbc7fa3a22c073fa<br>Method: predict_interval_exog_is_dict_conformal<br>Datetime: 2025-08-26 08:55:26.989607<br>Python version: 3.12.11<br>skforecast version: 0.16.0<br>numpy version: 2.1.3<br>pandas version: 2.3.2<br>sklearn version: 1.6.1<br>lightgbm version: 4.6.0<br>Platform: Linux-6.11.0-1018-azure-x86_64-with-glibc2.39<br>Processor: x86_64<br>CPU count: 4<br>Memory (GB): 16.77<br>Run time avg: 0.544725 s<br>Run time median: 0.520184 s<br>Run time p95: 0.642255 s<br>Run time std: 0.048704 s<br>Nº repeats: 10",
          "Forecaster: ForecasterRecursiveMultiSeries<br>Regressor: DummyRegressor<br>Function: ForecasterRecursiveMultiSeries_predict_interval_exog_is_dict_conformal<br>Function_hash: a906bd18c2d5634ddbc7fa3a22c073fa<br>Method: predict_interval_exog_is_dict_conformal<br>Datetime: 2025-08-26 09:05:51.048470<br>Python version: 3.12.11<br>skforecast version: 0.16.0<br>numpy version: 2.1.3<br>pandas version: 2.3.2<br>sklearn version: 1.6.1<br>lightgbm version: 4.6.0<br>Platform: Linux-6.11.0-1018-azure-x86_64-with-glibc2.39<br>Processor: x86_64<br>CPU count: 4<br>Memory (GB): 16.77<br>Run time avg: 0.550553 s<br>Run time median: 0.527772 s<br>Run time p95: 0.644490 s<br>Run time std: 0.046981 s<br>Nº repeats: 10"
         ],
         "type": "scatter",
         "visible": false,
         "x": {
          "bdata": "ED05G+qI8D8k3LMlFlLvP9+jwrtC4e4/Sh21bSpj7z8=",
          "dtype": "f8"
         },
         "y": {
          "bdata": "mvJgefpS4T/mMTU+GQDhPwBQCcRjbuE/5qtYbyGe4T8=",
          "dtype": "f8"
         }
        },
        {
         "error_y": {
          "array": {
           "bdata": "7JkLSEgxqD+KYRNGUDmuP6OJl1U4K6Y/9Xt9Al7Wqj/owlmtAVSpPw==",
           "dtype": "f8"
          },
          "color": "#00CC96",
          "thickness": 1.5,
          "type": "data",
          "visible": true,
          "width": 5
         },
         "hovertemplate": "%{text}<extra></extra>",
         "marker": {
          "color": "#00CC96",
          "line": {
           "color": "white",
           "width": 1
          },
          "opacity": 0.85,
          "size": 10
         },
         "mode": "markers",
         "text": [
          "Forecaster: ForecasterRecursiveMultiSeries<br>Regressor: DummyRegressor<br>Function: ForecasterRecursiveMultiSeries_predict_interval_exog_is_dict_conformal<br>Function_hash: a906bd18c2d5634ddbc7fa3a22c073fa<br>Method: predict_interval_exog_is_dict_conformal<br>Datetime: 2025-08-26 07:02:01.016683<br>Python version: 3.12.11<br>skforecast version: 0.17.0<br>numpy version: 2.1.3<br>pandas version: 2.3.2<br>sklearn version: 1.6.1<br>lightgbm version: 4.6.0<br>Platform: Linux-6.11.0-1018-azure-x86_64-with-glibc2.39<br>Processor: x86_64<br>CPU count: 4<br>Memory (GB): 16.77<br>Run time avg: 0.538928 s<br>Run time median: 0.516335 s<br>Run time p95: 0.633831 s<br>Run time std: 0.047251 s<br>Nº repeats: 10",
          "Forecaster: ForecasterRecursiveMultiSeries<br>Regressor: DummyRegressor<br>Function: ForecasterRecursiveMultiSeries_predict_interval_exog_is_dict_conformal<br>Function_hash: a906bd18c2d5634ddbc7fa3a22c073fa<br>Method: predict_interval_exog_is_dict_conformal<br>Datetime: 2025-08-26 07:14:54.347634<br>Python version: 3.12.11<br>skforecast version: 0.17.0<br>numpy version: 2.1.3<br>pandas version: 2.3.2<br>sklearn version: 1.6.1<br>lightgbm version: 4.6.0<br>Platform: Linux-6.11.0-1018-azure-x86_64-with-glibc2.39<br>Processor: x86_64<br>CPU count: 4<br>Memory (GB): 16.77<br>Run time avg: 0.560156 s<br>Run time median: 0.529442 s<br>Run time p95: 0.678345 s<br>Run time std: 0.059031 s<br>Nº repeats: 10",
          "Forecaster: ForecasterRecursiveMultiSeries<br>Regressor: DummyRegressor<br>Function: ForecasterRecursiveMultiSeries_predict_interval_exog_is_dict_conformal<br>Function_hash: a906bd18c2d5634ddbc7fa3a22c073fa<br>Method: predict_interval_exog_is_dict_conformal<br>Datetime: 2025-08-26 07:33:23.666471<br>Python version: 3.12.11<br>skforecast version: 0.17.0<br>numpy version: 2.1.3<br>pandas version: 2.3.2<br>sklearn version: 1.6.1<br>lightgbm version: 4.6.0<br>Platform: Linux-6.11.0-1018-azure-x86_64-with-glibc2.39<br>Processor: x86_64<br>CPU count: 4<br>Memory (GB): 16.77<br>Run time avg: 0.537962 s<br>Run time median: 0.516921 s<br>Run time p95: 0.624670 s<br>Run time std: 0.043298 s<br>Nº repeats: 10",
          "Forecaster: ForecasterRecursiveMultiSeries<br>Regressor: DummyRegressor<br>Function: ForecasterRecursiveMultiSeries_predict_interval_exog_is_dict_conformal<br>Function_hash: a906bd18c2d5634ddbc7fa3a22c073fa<br>Method: predict_interval_exog_is_dict_conformal<br>Datetime: 2025-08-26 07:46:04.576846<br>Python version: 3.12.11<br>skforecast version: 0.17.0<br>numpy version: 2.1.3<br>pandas version: 2.3.2<br>sklearn version: 1.6.1<br>lightgbm version: 4.6.0<br>Platform: Linux-6.11.0-1018-azure-x86_64-with-glibc2.39<br>Processor: x86_64<br>CPU count: 4<br>Memory (GB): 16.77<br>Run time avg: 0.547111 s<br>Run time median: 0.521399 s<br>Run time p95: 0.652135 s<br>Run time std: 0.052417 s<br>Nº repeats: 10",
          "Forecaster: ForecasterRecursiveMultiSeries<br>Regressor: DummyRegressor<br>Function: ForecasterRecursiveMultiSeries_predict_interval_exog_is_dict_conformal<br>Function_hash: a906bd18c2d5634ddbc7fa3a22c073fa<br>Method: predict_interval_exog_is_dict_conformal<br>Datetime: 2025-08-26 08:12:06.620886<br>Python version: 3.12.11<br>skforecast version: 0.17.0<br>numpy version: 2.1.3<br>pandas version: 2.3.2<br>sklearn version: 1.6.1<br>lightgbm version: 4.6.0<br>Platform: Linux-6.11.0-1018-azure-x86_64-with-glibc2.39<br>Processor: x86_64<br>CPU count: 4<br>Memory (GB): 16.77<br>Run time avg: 0.545964 s<br>Run time median: 0.523280 s<br>Run time p95: 0.645025 s<br>Run time std: 0.049469 s<br>Nº repeats: 10"
         ],
         "type": "scatter",
         "visible": false,
         "x": {
          "bdata": "9Gai9P67/z+QzeMDytX/P9HwpHy21/8/662HtVJA/z8KAWtWl1AAQA==",
          "dtype": "f8"
         },
         "y": {
          "bdata": "mt9Eu+U+4T8zJA50zOzhPzMSFGj8NuE/ALIZiO+B4T8AUNWGiHjhPw==",
          "dtype": "f8"
         }
        },
        {
         "error_y": {
          "array": {
           "bdata": "908Lz21i3j9AKxjHBxfaPzIZSVL+WNc/dSCfAGof2j8=",
           "dtype": "f8"
          },
          "color": "#636EFA",
          "thickness": 1.5,
          "type": "data",
          "visible": true,
          "width": 5
         },
         "hovertemplate": "%{text}<extra></extra>",
         "marker": {
          "color": "#636EFA",
          "line": {
           "color": "white",
           "width": 1
          },
          "opacity": 0.85,
          "size": 10
         },
         "mode": "markers",
         "text": [
          "Forecaster: ForecasterRecursiveMultiSeries<br>Regressor: DummyRegressor<br>Function: ForecasterRecursiveMultiSeries_backtesting_series_is_dict_no_exog<br>Function_hash: 2c9727c449bbc1a8a9d5f25df1fae262<br>Method: backtesting_series_is_dict_no_exog<br>Datetime: 2025-08-26 09:20:21.666853<br>Python version: 3.12.11<br>skforecast version: 0.15.1<br>numpy version: 2.1.3<br>pandas version: 2.3.2<br>sklearn version: 1.6.1<br>lightgbm version: 4.6.0<br>Platform: Linux-6.11.0-1018-azure-x86_64-with-glibc2.39<br>Processor: x86_64<br>CPU count: 4<br>Memory (GB): 16.77<br>Run time avg: 14.807157 s<br>Run time median: 14.520143 s<br>Run time p95: 15.532535 s<br>Run time std: 0.474758 s<br>Nº repeats: 5",
          "Forecaster: ForecasterRecursiveMultiSeries<br>Regressor: DummyRegressor<br>Function: ForecasterRecursiveMultiSeries_backtesting_series_is_dict_no_exog<br>Function_hash: 2c9727c449bbc1a8a9d5f25df1fae262<br>Method: backtesting_series_is_dict_no_exog<br>Datetime: 2025-08-26 09:36:26.660104<br>Python version: 3.12.11<br>skforecast version: 0.15.1<br>numpy version: 2.1.3<br>pandas version: 2.3.2<br>sklearn version: 1.6.1<br>lightgbm version: 4.6.0<br>Platform: Linux-6.11.0-1018-azure-x86_64-with-glibc2.39<br>Processor: x86_64<br>CPU count: 4<br>Memory (GB): 16.77<br>Run time avg: 15.488637 s<br>Run time median: 15.362119 s<br>Run time p95: 16.085637 s<br>Run time std: 0.407656 s<br>Nº repeats: 5",
          "Forecaster: ForecasterRecursiveMultiSeries<br>Regressor: DummyRegressor<br>Function: ForecasterRecursiveMultiSeries_backtesting_series_is_dict_no_exog<br>Function_hash: 2c9727c449bbc1a8a9d5f25df1fae262<br>Method: backtesting_series_is_dict_no_exog<br>Datetime: 2025-08-26 09:49:16.798371<br>Python version: 3.12.11<br>skforecast version: 0.15.1<br>numpy version: 2.1.3<br>pandas version: 2.3.2<br>sklearn version: 1.6.1<br>lightgbm version: 4.6.0<br>Platform: Linux-6.11.0-1018-azure-x86_64-with-glibc2.39<br>Processor: x86_64<br>CPU count: 4<br>Memory (GB): 16.77<br>Run time avg: 15.358569 s<br>Run time median: 15.191430 s<br>Run time p95: 15.907909 s<br>Run time std: 0.364807 s<br>Nº repeats: 5",
          "Forecaster: ForecasterRecursiveMultiSeries<br>Regressor: DummyRegressor<br>Function: ForecasterRecursiveMultiSeries_backtesting_series_is_dict_no_exog<br>Function_hash: 2c9727c449bbc1a8a9d5f25df1fae262<br>Method: backtesting_series_is_dict_no_exog<br>Datetime: 2025-08-26 10:12:50.638611<br>Python version: 3.12.11<br>skforecast version: 0.15.1<br>numpy version: 2.1.3<br>pandas version: 2.3.2<br>sklearn version: 1.6.1<br>lightgbm version: 4.6.0<br>Platform: Linux-6.11.0-1018-azure-x86_64-with-glibc2.39<br>Processor: x86_64<br>CPU count: 4<br>Memory (GB): 16.77<br>Run time avg: 15.240642 s<br>Run time median: 15.122994 s<br>Run time p95: 15.849938 s<br>Run time std: 0.408167 s<br>Nº repeats: 5"
         ],
         "type": "scatter",
         "visible": false,
         "x": {
          "bdata": "zpxuZzA8kL+sWJq2/ZeKv5Qt2mRx1IO/LP71ue5DnT8=",
          "dtype": "f8"
         },
         "y": {
          "bdata": "jYc4pkOdLUDaTUeXLvouQKbjBl6Wty5AgJ7JXjV7LkA=",
          "dtype": "f8"
         }
        },
        {
         "error_y": {
          "array": {
           "bdata": "q+35BN7B4z9fEHsst6ngP37+tBNH6NY/vj8k3NVi3T8=",
           "dtype": "f8"
          },
          "color": "#EF553B",
          "thickness": 1.5,
          "type": "data",
          "visible": true,
          "width": 5
         },
         "hovertemplate": "%{text}<extra></extra>",
         "marker": {
          "color": "#EF553B",
          "line": {
           "color": "white",
           "width": 1
          },
          "opacity": 0.85,
          "size": 10
         },
         "mode": "markers",
         "text": [
          "Forecaster: ForecasterRecursiveMultiSeries<br>Regressor: DummyRegressor<br>Function: ForecasterRecursiveMultiSeries_backtesting_series_is_dict_no_exog<br>Function_hash: 2c9727c449bbc1a8a9d5f25df1fae262<br>Method: backtesting_series_is_dict_no_exog<br>Datetime: 2025-08-26 08:32:26.098418<br>Python version: 3.12.11<br>skforecast version: 0.16.0<br>numpy version: 2.1.3<br>pandas version: 2.3.2<br>sklearn version: 1.6.1<br>lightgbm version: 4.6.0<br>Platform: Linux-6.11.0-1018-azure-x86_64-with-glibc2.39<br>Processor: x86_64<br>CPU count: 4<br>Memory (GB): 16.77<br>Run time avg: 13.652469 s<br>Run time median: 13.391164 s<br>Run time p95: 14.592776 s<br>Run time std: 0.617415 s<br>Nº repeats: 5",
          "Forecaster: ForecasterRecursiveMultiSeries<br>Regressor: DummyRegressor<br>Function: ForecasterRecursiveMultiSeries_backtesting_series_is_dict_no_exog<br>Function_hash: 2c9727c449bbc1a8a9d5f25df1fae262<br>Method: backtesting_series_is_dict_no_exog<br>Datetime: 2025-08-26 08:42:17.335011<br>Python version: 3.12.11<br>skforecast version: 0.16.0<br>numpy version: 2.1.3<br>pandas version: 2.3.2<br>sklearn version: 1.6.1<br>lightgbm version: 4.6.0<br>Platform: Linux-6.11.0-1018-azure-x86_64-with-glibc2.39<br>Processor: x86_64<br>CPU count: 4<br>Memory (GB): 16.77<br>Run time avg: 13.366964 s<br>Run time median: 13.136810 s<br>Run time p95: 14.164614 s<br>Run time std: 0.520717 s<br>Nº repeats: 5",
          "Forecaster: ForecasterRecursiveMultiSeries<br>Regressor: DummyRegressor<br>Function: ForecasterRecursiveMultiSeries_backtesting_series_is_dict_no_exog<br>Function_hash: 2c9727c449bbc1a8a9d5f25df1fae262<br>Method: backtesting_series_is_dict_no_exog<br>Datetime: 2025-08-26 08:56:33.039489<br>Python version: 3.12.11<br>skforecast version: 0.16.0<br>numpy version: 2.1.3<br>pandas version: 2.3.2<br>sklearn version: 1.6.1<br>lightgbm version: 4.6.0<br>Platform: Linux-6.11.0-1018-azure-x86_64-with-glibc2.39<br>Processor: x86_64<br>CPU count: 4<br>Memory (GB): 16.77<br>Run time avg: 13.207637 s<br>Run time median: 13.113517 s<br>Run time p95: 13.730100 s<br>Run time std: 0.357927 s<br>Nº repeats: 5",
          "Forecaster: ForecasterRecursiveMultiSeries<br>Regressor: DummyRegressor<br>Function: ForecasterRecursiveMultiSeries_backtesting_series_is_dict_no_exog<br>Function_hash: 2c9727c449bbc1a8a9d5f25df1fae262<br>Method: backtesting_series_is_dict_no_exog<br>Datetime: 2025-08-26 09:06:59.702447<br>Python version: 3.12.11<br>skforecast version: 0.16.0<br>numpy version: 2.1.3<br>pandas version: 2.3.2<br>sklearn version: 1.6.1<br>lightgbm version: 4.6.0<br>Platform: Linux-6.11.0-1018-azure-x86_64-with-glibc2.39<br>Processor: x86_64<br>CPU count: 4<br>Memory (GB): 16.77<br>Run time avg: 13.728345 s<br>Run time median: 13.694800 s<br>Run time p95: 14.406863 s<br>Run time std: 0.459157 s<br>Nº repeats: 5"
         ],
         "type": "scatter",
         "visible": false,
         "x": {
          "bdata": "7aofS31C7z+nsq8OjXnuP1fWM5Y2ZvA/vnh8Rphy7z8=",
          "dtype": "f8"
         },
         "y": {
          "bdata": "k37vWRBOK0AzzSy14rsqQM12P2lPaipAM/83mel0K0A=",
          "dtype": "f8"
         }
        },
        {
         "error_y": {
          "array": {
           "bdata": "Ia4YTwt81z+maRU+QmziP+3Jd8rI4tQ/ivjGIjaW1T/IuuNw5l3ePw==",
           "dtype": "f8"
          },
          "color": "#00CC96",
          "thickness": 1.5,
          "type": "data",
          "visible": true,
          "width": 5
         },
         "hovertemplate": "%{text}<extra></extra>",
         "marker": {
          "color": "#00CC96",
          "line": {
           "color": "white",
           "width": 1
          },
          "opacity": 0.85,
          "size": 10
         },
         "mode": "markers",
         "text": [
          "Forecaster: ForecasterRecursiveMultiSeries<br>Regressor: DummyRegressor<br>Function: ForecasterRecursiveMultiSeries_backtesting_series_is_dict_no_exog<br>Function_hash: 2c9727c449bbc1a8a9d5f25df1fae262<br>Method: backtesting_series_is_dict_no_exog<br>Datetime: 2025-08-26 07:03:08.263096<br>Python version: 3.12.11<br>skforecast version: 0.17.0<br>numpy version: 2.1.3<br>pandas version: 2.3.2<br>sklearn version: 1.6.1<br>lightgbm version: 4.6.0<br>Platform: Linux-6.11.0-1018-azure-x86_64-with-glibc2.39<br>Processor: x86_64<br>CPU count: 4<br>Memory (GB): 16.77<br>Run time avg: 13.447181 s<br>Run time median: 13.321802 s<br>Run time p95: 13.999729 s<br>Run time std: 0.366946 s<br>Nº repeats: 5",
          "Forecaster: ForecasterRecursiveMultiSeries<br>Regressor: DummyRegressor<br>Function: ForecasterRecursiveMultiSeries_backtesting_series_is_dict_no_exog<br>Function_hash: 2c9727c449bbc1a8a9d5f25df1fae262<br>Method: backtesting_series_is_dict_no_exog<br>Datetime: 2025-08-26 07:16:05.041767<br>Python version: 3.12.11<br>skforecast version: 0.17.0<br>numpy version: 2.1.3<br>pandas version: 2.3.2<br>sklearn version: 1.6.1<br>lightgbm version: 4.6.0<br>Platform: Linux-6.11.0-1018-azure-x86_64-with-glibc2.39<br>Processor: x86_64<br>CPU count: 4<br>Memory (GB): 16.77<br>Run time avg: 14.136429 s<br>Run time median: 14.021468 s<br>Run time p95: 14.962053 s<br>Run time std: 0.575715 s<br>Nº repeats: 5",
          "Forecaster: ForecasterRecursiveMultiSeries<br>Regressor: DummyRegressor<br>Function: ForecasterRecursiveMultiSeries_backtesting_series_is_dict_no_exog<br>Function_hash: 2c9727c449bbc1a8a9d5f25df1fae262<br>Method: backtesting_series_is_dict_no_exog<br>Datetime: 2025-08-26 07:34:31.769617<br>Python version: 3.12.11<br>skforecast version: 0.17.0<br>numpy version: 2.1.3<br>pandas version: 2.3.2<br>sklearn version: 1.6.1<br>lightgbm version: 4.6.0<br>Platform: Linux-6.11.0-1018-azure-x86_64-with-glibc2.39<br>Processor: x86_64<br>CPU count: 4<br>Memory (GB): 16.77<br>Run time avg: 13.618446 s<br>Run time median: 13.522158 s<br>Run time p95: 14.104516 s<br>Run time std: 0.326342 s<br>Nº repeats: 5",
          "Forecaster: ForecasterRecursiveMultiSeries<br>Regressor: DummyRegressor<br>Function: ForecasterRecursiveMultiSeries_backtesting_series_is_dict_no_exog<br>Function_hash: 2c9727c449bbc1a8a9d5f25df1fae262<br>Method: backtesting_series_is_dict_no_exog<br>Datetime: 2025-08-26 07:47:14.363980<br>Python version: 3.12.11<br>skforecast version: 0.17.0<br>numpy version: 2.1.3<br>pandas version: 2.3.2<br>sklearn version: 1.6.1<br>lightgbm version: 4.6.0<br>Platform: Linux-6.11.0-1018-azure-x86_64-with-glibc2.39<br>Processor: x86_64<br>CPU count: 4<br>Memory (GB): 16.77<br>Run time avg: 13.955177 s<br>Run time median: 13.951320 s<br>Run time p95: 14.423373 s<br>Run time std: 0.337293 s<br>Nº repeats: 5",
          "Forecaster: ForecasterRecursiveMultiSeries<br>Regressor: DummyRegressor<br>Function: ForecasterRecursiveMultiSeries_backtesting_series_is_dict_no_exog<br>Function_hash: 2c9727c449bbc1a8a9d5f25df1fae262<br>Method: backtesting_series_is_dict_no_exog<br>Datetime: 2025-08-26 08:13:14.293769<br>Python version: 3.12.11<br>skforecast version: 0.17.0<br>numpy version: 2.1.3<br>pandas version: 2.3.2<br>sklearn version: 1.6.1<br>lightgbm version: 4.6.0<br>Platform: Linux-6.11.0-1018-azure-x86_64-with-glibc2.39<br>Processor: x86_64<br>CPU count: 4<br>Memory (GB): 16.77<br>Run time avg: 13.532225 s<br>Run time median: 13.340956 s<br>Run time p95: 14.259422 s<br>Run time std: 0.474481 s<br>Nº repeats: 5"
         ],
         "type": "scatter",
         "visible": false,
         "x": {
          "bdata": "o3o/mHBi/z8zcLlt+kwAQEoOyweqAQBAQMRzxwoGAEBWw1lfcVT/Pw==",
          "dtype": "f8"
         },
         "y": {
          "bdata": "5rN23vTkKkAgXaED2kUsQMYx0eqkPCtAIDhO8QzpK0ANIC2+fxArQA==",
          "dtype": "f8"
         }
        },
        {
         "error_y": {
          "array": {
           "bdata": "tfRJuUCBxz96r+TsmIXjP5/yOMBkYNQ/qppTjphIyj8=",
           "dtype": "f8"
          },
          "color": "#636EFA",
          "thickness": 1.5,
          "type": "data",
          "visible": true,
          "width": 5
         },
         "hovertemplate": "%{text}<extra></extra>",
         "marker": {
          "color": "#636EFA",
          "line": {
           "color": "white",
           "width": 1
          },
          "opacity": 0.85,
          "size": 10
         },
         "mode": "markers",
         "text": [
          "Forecaster: ForecasterRecursiveMultiSeries<br>Regressor: DummyRegressor<br>Function: ForecasterRecursiveMultiSeries_backtesting_series_is_dict_exog_is_dict<br>Function_hash: c6c6f711ae63ba6ff3cf78862e9e0c54<br>Method: backtesting_series_is_dict_exog_is_dict<br>Datetime: 2025-08-26 09:22:35.913125<br>Python version: 3.12.11<br>skforecast version: 0.15.1<br>numpy version: 2.1.3<br>pandas version: 2.3.2<br>sklearn version: 1.6.1<br>lightgbm version: 4.6.0<br>Platform: Linux-6.11.0-1018-azure-x86_64-with-glibc2.39<br>Processor: x86_64<br>CPU count: 4<br>Memory (GB): 16.77<br>Run time avg: 26.848166 s<br>Run time median: 26.883672 s<br>Run time p95: 27.068516 s<br>Run time std: 0.183632 s<br>Nº repeats: 5",
          "Forecaster: ForecasterRecursiveMultiSeries<br>Regressor: DummyRegressor<br>Function: ForecasterRecursiveMultiSeries_backtesting_series_is_dict_exog_is_dict<br>Function_hash: c6c6f711ae63ba6ff3cf78862e9e0c54<br>Method: backtesting_series_is_dict_exog_is_dict<br>Datetime: 2025-08-26 09:38:44.982445<br>Python version: 3.12.11<br>skforecast version: 0.15.1<br>numpy version: 2.1.3<br>pandas version: 2.3.2<br>sklearn version: 1.6.1<br>lightgbm version: 4.6.0<br>Platform: Linux-6.11.0-1018-azure-x86_64-with-glibc2.39<br>Processor: x86_64<br>CPU count: 4<br>Memory (GB): 16.77<br>Run time avg: 27.663198 s<br>Run time median: 27.744243 s<br>Run time p95: 28.357218 s<br>Run time std: 0.610058 s<br>Nº repeats: 5",
          "Forecaster: ForecasterRecursiveMultiSeries<br>Regressor: DummyRegressor<br>Function: ForecasterRecursiveMultiSeries_backtesting_series_is_dict_exog_is_dict<br>Function_hash: c6c6f711ae63ba6ff3cf78862e9e0c54<br>Method: backtesting_series_is_dict_exog_is_dict<br>Datetime: 2025-08-26 09:51:31.800674<br>Python version: 3.12.11<br>skforecast version: 0.15.1<br>numpy version: 2.1.3<br>pandas version: 2.3.2<br>sklearn version: 1.6.1<br>lightgbm version: 4.6.0<br>Platform: Linux-6.11.0-1018-azure-x86_64-with-glibc2.39<br>Processor: x86_64<br>CPU count: 4<br>Memory (GB): 16.77<br>Run time avg: 26.999308 s<br>Run time median: 26.860108 s<br>Run time p95: 27.429605 s<br>Run time std: 0.318383 s<br>Nº repeats: 5",
          "Forecaster: ForecasterRecursiveMultiSeries<br>Regressor: DummyRegressor<br>Function: ForecasterRecursiveMultiSeries_backtesting_series_is_dict_exog_is_dict<br>Function_hash: c6c6f711ae63ba6ff3cf78862e9e0c54<br>Method: backtesting_series_is_dict_exog_is_dict<br>Datetime: 2025-08-26 10:15:05.344363<br>Python version: 3.12.11<br>skforecast version: 0.15.1<br>numpy version: 2.1.3<br>pandas version: 2.3.2<br>sklearn version: 1.6.1<br>lightgbm version: 4.6.0<br>Platform: Linux-6.11.0-1018-azure-x86_64-with-glibc2.39<br>Processor: x86_64<br>CPU count: 4<br>Memory (GB): 16.77<br>Run time avg: 26.939991 s<br>Run time median: 26.867162 s<br>Run time p95: 27.205189 s<br>Run time std: 0.205340 s<br>Nº repeats: 5"
         ],
         "type": "scatter",
         "visible": false,
         "x": {
          "bdata": "wBKvB54Mqb/A38xqmiF5v+jvJqrqkqc/gBsAXBWyaj8=",
          "dtype": "f8"
         },
         "y": {
          "bdata": "IAOtZyHZOkBgd5VRx6k7QO0bCqDS/zpA2sg1OKPwOkA=",
          "dtype": "f8"
         }
        },
        {
         "error_y": {
          "array": {
           "bdata": "BOp3qn5G2D/WW7rGX5bMP9rrQZRPa8k/Q5U3njlT1z8=",
           "dtype": "f8"
          },
          "color": "#EF553B",
          "thickness": 1.5,
          "type": "data",
          "visible": true,
          "width": 5
         },
         "hovertemplate": "%{text}<extra></extra>",
         "marker": {
          "color": "#EF553B",
          "line": {
           "color": "white",
           "width": 1
          },
          "opacity": 0.85,
          "size": 10
         },
         "mode": "markers",
         "text": [
          "Forecaster: ForecasterRecursiveMultiSeries<br>Regressor: DummyRegressor<br>Function: ForecasterRecursiveMultiSeries_backtesting_series_is_dict_exog_is_dict<br>Function_hash: c6c6f711ae63ba6ff3cf78862e9e0c54<br>Method: backtesting_series_is_dict_exog_is_dict<br>Datetime: 2025-08-26 08:34:01.471827<br>Python version: 3.12.11<br>skforecast version: 0.16.0<br>numpy version: 2.1.3<br>pandas version: 2.3.2<br>sklearn version: 1.6.1<br>lightgbm version: 4.6.0<br>Platform: Linux-6.11.0-1018-azure-x86_64-with-glibc2.39<br>Processor: x86_64<br>CPU count: 4<br>Memory (GB): 16.77<br>Run time avg: 19.073650 s<br>Run time median: 18.881058 s<br>Run time p95: 19.590320 s<br>Run time std: 0.379303 s<br>Nº repeats: 5",
          "Forecaster: ForecasterRecursiveMultiSeries<br>Regressor: DummyRegressor<br>Function: ForecasterRecursiveMultiSeries_backtesting_series_is_dict_exog_is_dict<br>Function_hash: c6c6f711ae63ba6ff3cf78862e9e0c54<br>Method: backtesting_series_is_dict_exog_is_dict<br>Datetime: 2025-08-26 08:43:49.584778<br>Python version: 3.12.11<br>skforecast version: 0.16.0<br>numpy version: 2.1.3<br>pandas version: 2.3.2<br>sklearn version: 1.6.1<br>lightgbm version: 4.6.0<br>Platform: Linux-6.11.0-1018-azure-x86_64-with-glibc2.39<br>Processor: x86_64<br>CPU count: 4<br>Memory (GB): 16.77<br>Run time avg: 18.448883 s<br>Run time median: 18.362201 s<br>Run time p95: 18.791051 s<br>Run time std: 0.223339 s<br>Nº repeats: 5",
          "Forecaster: ForecasterRecursiveMultiSeries<br>Regressor: DummyRegressor<br>Function: ForecasterRecursiveMultiSeries_backtesting_series_is_dict_exog_is_dict<br>Function_hash: c6c6f711ae63ba6ff3cf78862e9e0c54<br>Method: backtesting_series_is_dict_exog_is_dict<br>Datetime: 2025-08-26 08:58:05.328521<br>Python version: 3.12.11<br>skforecast version: 0.16.0<br>numpy version: 2.1.3<br>pandas version: 2.3.2<br>sklearn version: 1.6.1<br>lightgbm version: 4.6.0<br>Platform: Linux-6.11.0-1018-azure-x86_64-with-glibc2.39<br>Processor: x86_64<br>CPU count: 4<br>Memory (GB): 16.77<br>Run time avg: 18.456723 s<br>Run time median: 18.457160 s<br>Run time p95: 18.716951 s<br>Run time std: 0.198587 s<br>Nº repeats: 5",
          "Forecaster: ForecasterRecursiveMultiSeries<br>Regressor: DummyRegressor<br>Function: ForecasterRecursiveMultiSeries_backtesting_series_is_dict_exog_is_dict<br>Function_hash: c6c6f711ae63ba6ff3cf78862e9e0c54<br>Method: backtesting_series_is_dict_exog_is_dict<br>Datetime: 2025-08-26 09:08:36.034997<br>Python version: 3.12.11<br>skforecast version: 0.16.0<br>numpy version: 2.1.3<br>pandas version: 2.3.2<br>sklearn version: 1.6.1<br>lightgbm version: 4.6.0<br>Platform: Linux-6.11.0-1018-azure-x86_64-with-glibc2.39<br>Processor: x86_64<br>CPU count: 4<br>Memory (GB): 16.77<br>Run time avg: 19.265394 s<br>Run time median: 19.108826 s<br>Run time p95: 19.747602 s<br>Run time std: 0.364455 s<br>Nº repeats: 5"
         ],
         "type": "scatter",
         "visible": false,
         "x": {
          "bdata": "5qYrm4hf8D+keGweOBjvP05sSZL4bfA/nxvFU23K8D8=",
          "dtype": "f8"
         },
         "y": {
          "bdata": "msy6wNoSM0AwMKgA6nIyQE0GpczrdDJArXnL4vBDM0A=",
          "dtype": "f8"
         }
        },
        {
         "error_y": {
          "array": {
           "bdata": "DYmfSt541j9p27iM5bvfP/eZdsL4acY/rTNWVkCpzD8lOYJQB63IPw==",
           "dtype": "f8"
          },
          "color": "#00CC96",
          "thickness": 1.5,
          "type": "data",
          "visible": true,
          "width": 5
         },
         "hovertemplate": "%{text}<extra></extra>",
         "marker": {
          "color": "#00CC96",
          "line": {
           "color": "white",
           "width": 1
          },
          "opacity": 0.85,
          "size": 10
         },
         "mode": "markers",
         "text": [
          "Forecaster: ForecasterRecursiveMultiSeries<br>Regressor: DummyRegressor<br>Function: ForecasterRecursiveMultiSeries_backtesting_series_is_dict_exog_is_dict<br>Function_hash: c6c6f711ae63ba6ff3cf78862e9e0c54<br>Method: backtesting_series_is_dict_exog_is_dict<br>Datetime: 2025-08-26 07:04:41.922650<br>Python version: 3.12.11<br>skforecast version: 0.17.0<br>numpy version: 2.1.3<br>pandas version: 2.3.2<br>sklearn version: 1.6.1<br>lightgbm version: 4.6.0<br>Platform: Linux-6.11.0-1018-azure-x86_64-with-glibc2.39<br>Processor: x86_64<br>CPU count: 4<br>Memory (GB): 16.77<br>Run time avg: 18.731009 s<br>Run time median: 18.732510 s<br>Run time p95: 19.237991 s<br>Run time std: 0.351127 s<br>Nº repeats: 5",
          "Forecaster: ForecasterRecursiveMultiSeries<br>Regressor: DummyRegressor<br>Function: ForecasterRecursiveMultiSeries_backtesting_series_is_dict_exog_is_dict<br>Function_hash: c6c6f711ae63ba6ff3cf78862e9e0c54<br>Method: backtesting_series_is_dict_exog_is_dict<br>Datetime: 2025-08-26 07:17:39.941753<br>Python version: 3.12.11<br>skforecast version: 0.17.0<br>numpy version: 2.1.3<br>pandas version: 2.3.2<br>sklearn version: 1.6.1<br>lightgbm version: 4.6.0<br>Platform: Linux-6.11.0-1018-azure-x86_64-with-glibc2.39<br>Processor: x86_64<br>CPU count: 4<br>Memory (GB): 16.77<br>Run time avg: 18.979054 s<br>Run time median: 18.774953 s<br>Run time p95: 19.722553 s<br>Run time std: 0.495843 s<br>Nº repeats: 5",
          "Forecaster: ForecasterRecursiveMultiSeries<br>Regressor: DummyRegressor<br>Function: ForecasterRecursiveMultiSeries_backtesting_series_is_dict_exog_is_dict<br>Function_hash: c6c6f711ae63ba6ff3cf78862e9e0c54<br>Method: backtesting_series_is_dict_exog_is_dict<br>Datetime: 2025-08-26 07:36:05.356627<br>Python version: 3.12.11<br>skforecast version: 0.17.0<br>numpy version: 2.1.3<br>pandas version: 2.3.2<br>sklearn version: 1.6.1<br>lightgbm version: 4.6.0<br>Platform: Linux-6.11.0-1018-azure-x86_64-with-glibc2.39<br>Processor: x86_64<br>CPU count: 4<br>Memory (GB): 16.77<br>Run time avg: 18.716430 s<br>Run time median: 18.643546 s<br>Run time p95: 18.985697 s<br>Run time std: 0.175109 s<br>Nº repeats: 5",
          "Forecaster: ForecasterRecursiveMultiSeries<br>Regressor: DummyRegressor<br>Function: ForecasterRecursiveMultiSeries_backtesting_series_is_dict_exog_is_dict<br>Function_hash: c6c6f711ae63ba6ff3cf78862e9e0c54<br>Method: backtesting_series_is_dict_exog_is_dict<br>Datetime: 2025-08-26 07:48:50.025529<br>Python version: 3.12.11<br>skforecast version: 0.17.0<br>numpy version: 2.1.3<br>pandas version: 2.3.2<br>sklearn version: 1.6.1<br>lightgbm version: 4.6.0<br>Platform: Linux-6.11.0-1018-azure-x86_64-with-glibc2.39<br>Processor: x86_64<br>CPU count: 4<br>Memory (GB): 16.77<br>Run time avg: 19.131313 s<br>Run time median: 19.102859 s<br>Run time p95: 19.449620 s<br>Run time std: 0.223915 s<br>Nº repeats: 5",
          "Forecaster: ForecasterRecursiveMultiSeries<br>Regressor: DummyRegressor<br>Function: ForecasterRecursiveMultiSeries_backtesting_series_is_dict_exog_is_dict<br>Function_hash: c6c6f711ae63ba6ff3cf78862e9e0c54<br>Method: backtesting_series_is_dict_exog_is_dict<br>Datetime: 2025-08-26 08:14:47.205408<br>Python version: 3.12.11<br>skforecast version: 0.17.0<br>numpy version: 2.1.3<br>pandas version: 2.3.2<br>sklearn version: 1.6.1<br>lightgbm version: 4.6.0<br>Platform: Linux-6.11.0-1018-azure-x86_64-with-glibc2.39<br>Processor: x86_64<br>CPU count: 4<br>Memory (GB): 16.77<br>Run time avg: 18.581301 s<br>Run time median: 18.572492 s<br>Run time p95: 18.792262 s<br>Run time std: 0.192780 s<br>Nº repeats: 5"
         ],
         "type": "scatter",
         "visible": false,
         "x": {
          "bdata": "yZ4ZCDbL/z8DX1fRYl4AQDyp045r9P8/8rXtjaVDAEBzwJbhOAMAQA==",
          "dtype": "f8"
         },
         "y": {
          "bdata": "OmKebSO7MkD9hs1Ho/oyQMbrO/1ntzJA6if6vJ0hM0Ag9jQf0JQyQA==",
          "dtype": "f8"
         }
        },
        {
         "error_y": {
          "array": {
           "bdata": "5w8C9pyyyT9CukBX+43VP/OHcLLiXsQ/f/9R3DhYzD8=",
           "dtype": "f8"
          },
          "color": "#636EFA",
          "thickness": 1.5,
          "type": "data",
          "visible": true,
          "width": 5
         },
         "hovertemplate": "%{text}<extra></extra>",
         "marker": {
          "color": "#636EFA",
          "line": {
           "color": "white",
           "width": 1
          },
          "opacity": 0.85,
          "size": 10
         },
         "mode": "markers",
         "text": [
          "Forecaster: ForecasterRecursiveMultiSeries<br>Regressor: DummyRegressor<br>Function: ForecasterRecursiveMultiSeries_backtesting_series_is_dict_no_exog_conformal<br>Function_hash: 0bbb8879ad4c01b44244adbbf25f17e6<br>Method: backtesting_series_is_dict_no_exog_conformal<br>Datetime: 2025-08-26 09:24:07.083339<br>Python version: 3.12.11<br>skforecast version: 0.15.1<br>numpy version: 2.1.3<br>pandas version: 2.3.2<br>sklearn version: 1.6.1<br>lightgbm version: 4.6.0<br>Platform: Linux-6.11.0-1018-azure-x86_64-with-glibc2.39<br>Processor: x86_64<br>CPU count: 4<br>Memory (GB): 16.77<br>Run time avg: 18.232945 s<br>Run time median: 18.354727 s<br>Run time p95: 18.412991 s<br>Run time std: 0.200763 s<br>Nº repeats: 5",
          "Forecaster: ForecasterRecursiveMultiSeries<br>Regressor: DummyRegressor<br>Function: ForecasterRecursiveMultiSeries_backtesting_series_is_dict_no_exog_conformal<br>Function_hash: 0bbb8879ad4c01b44244adbbf25f17e6<br>Method: backtesting_series_is_dict_no_exog_conformal<br>Datetime: 2025-08-26 09:40:20.107802<br>Python version: 3.12.11<br>skforecast version: 0.15.1<br>numpy version: 2.1.3<br>pandas version: 2.3.2<br>sklearn version: 1.6.1<br>lightgbm version: 4.6.0<br>Platform: Linux-6.11.0-1018-azure-x86_64-with-glibc2.39<br>Processor: x86_64<br>CPU count: 4<br>Memory (GB): 16.77<br>Run time avg: 19.023941 s<br>Run time median: 19.192931 s<br>Run time p95: 19.283487 s<br>Run time std: 0.336791 s<br>Nº repeats: 5",
          "Forecaster: ForecasterRecursiveMultiSeries<br>Regressor: DummyRegressor<br>Function: ForecasterRecursiveMultiSeries_backtesting_series_is_dict_no_exog_conformal<br>Function_hash: 0bbb8879ad4c01b44244adbbf25f17e6<br>Method: backtesting_series_is_dict_no_exog_conformal<br>Datetime: 2025-08-26 09:53:04.276864<br>Python version: 3.12.11<br>skforecast version: 0.15.1<br>numpy version: 2.1.3<br>pandas version: 2.3.2<br>sklearn version: 1.6.1<br>lightgbm version: 4.6.0<br>Platform: Linux-6.11.0-1018-azure-x86_64-with-glibc2.39<br>Processor: x86_64<br>CPU count: 4<br>Memory (GB): 16.77<br>Run time avg: 18.494053 s<br>Run time median: 18.511279 s<br>Run time p95: 18.653098 s<br>Run time std: 0.159146 s<br>Nº repeats: 5",
          "Forecaster: ForecasterRecursiveMultiSeries<br>Regressor: DummyRegressor<br>Function: ForecasterRecursiveMultiSeries_backtesting_series_is_dict_no_exog_conformal<br>Function_hash: 0bbb8879ad4c01b44244adbbf25f17e6<br>Method: backtesting_series_is_dict_no_exog_conformal<br>Datetime: 2025-08-26 10:16:37.889414<br>Python version: 3.12.11<br>skforecast version: 0.15.1<br>numpy version: 2.1.3<br>pandas version: 2.3.2<br>sklearn version: 1.6.1<br>lightgbm version: 4.6.0<br>Platform: Linux-6.11.0-1018-azure-x86_64-with-glibc2.39<br>Processor: x86_64<br>CPU count: 4<br>Memory (GB): 16.77<br>Run time avg: 18.507823 s<br>Run time median: 18.408412 s<br>Run time p95: 18.840470 s<br>Run time std: 0.221442 s<br>Nº repeats: 5"
         ],
         "type": "scatter",
         "visible": false,
         "x": {
          "bdata": "HOPS6Q+Dp7+YeRTuorGZP3Uzm4xZf6m/2D9Lb8tNkD8=",
          "dtype": "f8"
         },
         "y": {
          "bdata": "wBh7Q6I7MkBKXeT+IAYzQCPIuTx6fjJAgLmZrgCCMkA=",
          "dtype": "f8"
         }
        },
        {
         "error_y": {
          "array": {
           "bdata": "jllepotP0j9J816pwDDAP+9JR1OKebc/76aOGYZj0T8=",
           "dtype": "f8"
          },
          "color": "#EF553B",
          "thickness": 1.5,
          "type": "data",
          "visible": true,
          "width": 5
         },
         "hovertemplate": "%{text}<extra></extra>",
         "marker": {
          "color": "#EF553B",
          "line": {
           "color": "white",
           "width": 1
          },
          "opacity": 0.85,
          "size": 10
         },
         "mode": "markers",
         "text": [
          "Forecaster: ForecasterRecursiveMultiSeries<br>Regressor: DummyRegressor<br>Function: ForecasterRecursiveMultiSeries_backtesting_series_is_dict_no_exog_conformal<br>Function_hash: 0bbb8879ad4c01b44244adbbf25f17e6<br>Method: backtesting_series_is_dict_no_exog_conformal<br>Datetime: 2025-08-26 08:35:24.769047<br>Python version: 3.12.11<br>skforecast version: 0.16.0<br>numpy version: 2.1.3<br>pandas version: 2.3.2<br>sklearn version: 1.6.1<br>lightgbm version: 4.6.0<br>Platform: Linux-6.11.0-1018-azure-x86_64-with-glibc2.39<br>Processor: x86_64<br>CPU count: 4<br>Memory (GB): 16.77<br>Run time avg: 16.658379 s<br>Run time median: 16.781387 s<br>Run time p95: 16.901804 s<br>Run time std: 0.286105 s<br>Nº repeats: 5",
          "Forecaster: ForecasterRecursiveMultiSeries<br>Regressor: DummyRegressor<br>Function: ForecasterRecursiveMultiSeries_backtesting_series_is_dict_no_exog_conformal<br>Function_hash: 0bbb8879ad4c01b44244adbbf25f17e6<br>Method: backtesting_series_is_dict_no_exog_conformal<br>Datetime: 2025-08-26 08:45:10.665216<br>Python version: 3.12.11<br>skforecast version: 0.16.0<br>numpy version: 2.1.3<br>pandas version: 2.3.2<br>sklearn version: 1.6.1<br>lightgbm version: 4.6.0<br>Platform: Linux-6.11.0-1018-azure-x86_64-with-glibc2.39<br>Processor: x86_64<br>CPU count: 4<br>Memory (GB): 16.77<br>Run time avg: 16.215008 s<br>Run time median: 16.276606 s<br>Run time p95: 16.349597 s<br>Run time std: 0.126488 s<br>Nº repeats: 5",
          "Forecaster: ForecasterRecursiveMultiSeries<br>Regressor: DummyRegressor<br>Function: ForecasterRecursiveMultiSeries_backtesting_series_is_dict_no_exog_conformal<br>Function_hash: 0bbb8879ad4c01b44244adbbf25f17e6<br>Method: backtesting_series_is_dict_no_exog_conformal<br>Datetime: 2025-08-26 08:59:26.363439<br>Python version: 3.12.11<br>skforecast version: 0.16.0<br>numpy version: 2.1.3<br>pandas version: 2.3.2<br>sklearn version: 1.6.1<br>lightgbm version: 4.6.0<br>Platform: Linux-6.11.0-1018-azure-x86_64-with-glibc2.39<br>Processor: x86_64<br>CPU count: 4<br>Memory (GB): 16.77<br>Run time avg: 16.205922 s<br>Run time median: 16.251103 s<br>Run time p95: 16.301929 s<br>Run time std: 0.091698 s<br>Nº repeats: 5",
          "Forecaster: ForecasterRecursiveMultiSeries<br>Regressor: DummyRegressor<br>Function: ForecasterRecursiveMultiSeries_backtesting_series_is_dict_no_exog_conformal<br>Function_hash: 0bbb8879ad4c01b44244adbbf25f17e6<br>Method: backtesting_series_is_dict_no_exog_conformal<br>Datetime: 2025-08-26 09:10:00.324696<br>Python version: 3.12.11<br>skforecast version: 0.16.0<br>numpy version: 2.1.3<br>pandas version: 2.3.2<br>sklearn version: 1.6.1<br>lightgbm version: 4.6.0<br>Platform: Linux-6.11.0-1018-azure-x86_64-with-glibc2.39<br>Processor: x86_64<br>CPU count: 4<br>Memory (GB): 16.77<br>Run time avg: 16.856809 s<br>Run time median: 16.896751 s<br>Run time p95: 17.174687 s<br>Run time std: 0.271699 s<br>Nº repeats: 5"
         ],
         "type": "scatter",
         "visible": false,
         "x": {
          "bdata": "And5ikRj8D+CVe0EKq/vPySvOCvu3e4/CkdJCz5v7j8=",
          "dtype": "f8"
         },
         "y": {
          "bdata": "04LmjIuoMEC2vVDECjcwQM0TgUu3NDBAtiyc1VfbMEA=",
          "dtype": "f8"
         }
        },
        {
         "error_y": {
          "array": {
           "bdata": "vnmhmlL5xj/pBMLqSxy7P6iO5gmBcNU/mlyWz93Owz/ClZLxJOjNPw==",
           "dtype": "f8"
          },
          "color": "#00CC96",
          "thickness": 1.5,
          "type": "data",
          "visible": true,
          "width": 5
         },
         "hovertemplate": "%{text}<extra></extra>",
         "marker": {
          "color": "#00CC96",
          "line": {
           "color": "white",
           "width": 1
          },
          "opacity": 0.85,
          "size": 10
         },
         "mode": "markers",
         "text": [
          "Forecaster: ForecasterRecursiveMultiSeries<br>Regressor: DummyRegressor<br>Function: ForecasterRecursiveMultiSeries_backtesting_series_is_dict_no_exog_conformal<br>Function_hash: 0bbb8879ad4c01b44244adbbf25f17e6<br>Method: backtesting_series_is_dict_no_exog_conformal<br>Datetime: 2025-08-26 07:06:02.861383<br>Python version: 3.12.11<br>skforecast version: 0.17.0<br>numpy version: 2.1.3<br>pandas version: 2.3.2<br>sklearn version: 1.6.1<br>lightgbm version: 4.6.0<br>Platform: Linux-6.11.0-1018-azure-x86_64-with-glibc2.39<br>Processor: x86_64<br>CPU count: 4<br>Memory (GB): 16.77<br>Run time avg: 16.186857 s<br>Run time median: 16.126991 s<br>Run time p95: 16.435766 s<br>Run time std: 0.179484 s<br>Nº repeats: 5",
          "Forecaster: ForecasterRecursiveMultiSeries<br>Regressor: DummyRegressor<br>Function: ForecasterRecursiveMultiSeries_backtesting_series_is_dict_no_exog_conformal<br>Function_hash: 0bbb8879ad4c01b44244adbbf25f17e6<br>Method: backtesting_series_is_dict_no_exog_conformal<br>Datetime: 2025-08-26 07:19:01.151962<br>Python version: 3.12.11<br>skforecast version: 0.17.0<br>numpy version: 2.1.3<br>pandas version: 2.3.2<br>sklearn version: 1.6.1<br>lightgbm version: 4.6.0<br>Platform: Linux-6.11.0-1018-azure-x86_64-with-glibc2.39<br>Processor: x86_64<br>CPU count: 4<br>Memory (GB): 16.77<br>Run time avg: 16.241111 s<br>Run time median: 16.175255 s<br>Run time p95: 16.401526 s<br>Run time std: 0.105901 s<br>Nº repeats: 5",
          "Forecaster: ForecasterRecursiveMultiSeries<br>Regressor: DummyRegressor<br>Function: ForecasterRecursiveMultiSeries_backtesting_series_is_dict_no_exog_conformal<br>Function_hash: 0bbb8879ad4c01b44244adbbf25f17e6<br>Method: backtesting_series_is_dict_no_exog_conformal<br>Datetime: 2025-08-26 07:37:26.366613<br>Python version: 3.12.11<br>skforecast version: 0.17.0<br>numpy version: 2.1.3<br>pandas version: 2.3.2<br>sklearn version: 1.6.1<br>lightgbm version: 4.6.0<br>Platform: Linux-6.11.0-1018-azure-x86_64-with-glibc2.39<br>Processor: x86_64<br>CPU count: 4<br>Memory (GB): 16.77<br>Run time avg: 16.201029 s<br>Run time median: 16.151330 s<br>Run time p95: 16.670849 s<br>Run time std: 0.334992 s<br>Nº repeats: 5",
          "Forecaster: ForecasterRecursiveMultiSeries<br>Regressor: DummyRegressor<br>Function: ForecasterRecursiveMultiSeries_backtesting_series_is_dict_no_exog_conformal<br>Function_hash: 0bbb8879ad4c01b44244adbbf25f17e6<br>Method: backtesting_series_is_dict_no_exog_conformal<br>Datetime: 2025-08-26 07:50:10.932279<br>Python version: 3.12.11<br>skforecast version: 0.17.0<br>numpy version: 2.1.3<br>pandas version: 2.3.2<br>sklearn version: 1.6.1<br>lightgbm version: 4.6.0<br>Platform: Linux-6.11.0-1018-azure-x86_64-with-glibc2.39<br>Processor: x86_64<br>CPU count: 4<br>Memory (GB): 16.77<br>Run time avg: 16.180377 s<br>Run time median: 16.087699 s<br>Run time p95: 16.419988 s<br>Run time std: 0.154751 s<br>Nº repeats: 5",
          "Forecaster: ForecasterRecursiveMultiSeries<br>Regressor: DummyRegressor<br>Function: ForecasterRecursiveMultiSeries_backtesting_series_is_dict_no_exog_conformal<br>Function_hash: 0bbb8879ad4c01b44244adbbf25f17e6<br>Method: backtesting_series_is_dict_no_exog_conformal<br>Datetime: 2025-08-26 08:16:07.633480<br>Python version: 3.12.11<br>skforecast version: 0.17.0<br>numpy version: 2.1.3<br>pandas version: 2.3.2<br>sklearn version: 1.6.1<br>lightgbm version: 4.6.0<br>Platform: Linux-6.11.0-1018-azure-x86_64-with-glibc2.39<br>Processor: x86_64<br>CPU count: 4<br>Memory (GB): 16.77<br>Run time avg: 16.084589 s<br>Run time median: 16.162917 s<br>Run time p95: 16.309382 s<br>Run time std: 0.233647 s<br>Nº repeats: 5"
         ],
         "type": "scatter",
         "visible": false,
         "x": {
          "bdata": "x/dOmQ9TAEB9IvdFQ0MAQDFpf+qkVwBACHuA+9xj/z86PnYZUEMAQA==",
          "dtype": "f8"
         },
         "y": {
          "bdata": "82kZ2tUvMECAILlwuT0wQNOjYaN2MzBAc/kTNC0uMECAPUOmpxUwQA==",
          "dtype": "f8"
         }
        },
        {
         "error_y": {
          "array": {
           "bdata": "08nluNWGzj/d1ujPjO7VPwG3/HLnF98/L0vMKZwS1T8=",
           "dtype": "f8"
          },
          "color": "#636EFA",
          "thickness": 1.5,
          "type": "data",
          "visible": true,
          "width": 5
         },
         "hovertemplate": "%{text}<extra></extra>",
         "marker": {
          "color": "#636EFA",
          "line": {
           "color": "white",
           "width": 1
          },
          "opacity": 0.85,
          "size": 10
         },
         "mode": "markers",
         "text": [
          "Forecaster: ForecasterRecursiveMultiSeries<br>Regressor: DummyRegressor<br>Function: ForecasterRecursiveMultiSeries_backtesting_series_is_dict_exog_dict_conformal<br>Function_hash: dfc7faacb372c27f41c7601de640b981<br>Method: backtesting_series_is_dict_exog_dict_conformal<br>Datetime: 2025-08-26 09:26:37.941499<br>Python version: 3.12.11<br>skforecast version: 0.15.1<br>numpy version: 2.1.3<br>pandas version: 2.3.2<br>sklearn version: 1.6.1<br>lightgbm version: 4.6.0<br>Platform: Linux-6.11.0-1018-azure-x86_64-with-glibc2.39<br>Processor: x86_64<br>CPU count: 4<br>Memory (GB): 16.77<br>Run time avg: 30.170466 s<br>Run time median: 30.139936 s<br>Run time p95: 30.508069 s<br>Run time std: 0.238490 s<br>Nº repeats: 5",
          "Forecaster: ForecasterRecursiveMultiSeries<br>Regressor: DummyRegressor<br>Function: ForecasterRecursiveMultiSeries_backtesting_series_is_dict_exog_dict_conformal<br>Function_hash: dfc7faacb372c27f41c7601de640b981<br>Method: backtesting_series_is_dict_exog_dict_conformal<br>Datetime: 2025-08-26 09:42:57.200119<br>Python version: 3.12.11<br>skforecast version: 0.15.1<br>numpy version: 2.1.3<br>pandas version: 2.3.2<br>sklearn version: 1.6.1<br>lightgbm version: 4.6.0<br>Platform: Linux-6.11.0-1018-azure-x86_64-with-glibc2.39<br>Processor: x86_64<br>CPU count: 4<br>Memory (GB): 16.77<br>Run time avg: 31.417281 s<br>Run time median: 31.337542 s<br>Run time p95: 31.921723 s<br>Run time std: 0.342685 s<br>Nº repeats: 5",
          "Forecaster: ForecasterRecursiveMultiSeries<br>Regressor: DummyRegressor<br>Function: ForecasterRecursiveMultiSeries_backtesting_series_is_dict_exog_dict_conformal<br>Function_hash: dfc7faacb372c27f41c7601de640b981<br>Method: backtesting_series_is_dict_exog_dict_conformal<br>Datetime: 2025-08-26 09:55:38.098927<br>Python version: 3.12.11<br>skforecast version: 0.15.1<br>numpy version: 2.1.3<br>pandas version: 2.3.2<br>sklearn version: 1.6.1<br>lightgbm version: 4.6.0<br>Platform: Linux-6.11.0-1018-azure-x86_64-with-glibc2.39<br>Processor: x86_64<br>CPU count: 4<br>Memory (GB): 16.77<br>Run time avg: 30.763247 s<br>Run time median: 30.789819 s<br>Run time p95: 31.339177 s<br>Run time std: 0.485834 s<br>Nº repeats: 5",
          "Forecaster: ForecasterRecursiveMultiSeries<br>Regressor: DummyRegressor<br>Function: ForecasterRecursiveMultiSeries_backtesting_series_is_dict_exog_dict_conformal<br>Function_hash: dfc7faacb372c27f41c7601de640b981<br>Method: backtesting_series_is_dict_exog_dict_conformal<br>Datetime: 2025-08-26 10:19:08.546112<br>Python version: 3.12.11<br>skforecast version: 0.15.1<br>numpy version: 2.1.3<br>pandas version: 2.3.2<br>sklearn version: 1.6.1<br>lightgbm version: 4.6.0<br>Platform: Linux-6.11.0-1018-azure-x86_64-with-glibc2.39<br>Processor: x86_64<br>CPU count: 4<br>Memory (GB): 16.77<br>Run time avg: 30.130186 s<br>Run time median: 30.118046 s<br>Run time p95: 30.553242 s<br>Run time std: 0.329261 s<br>Nº repeats: 5"
         ],
         "type": "scatter",
         "visible": false,
         "x": {
          "bdata": "AM5USUr0Iz8EJxoM59Cjv3IfK9QW0aO/ONMn2JxKob8=",
          "dtype": "f8"
         },
         "y": {
          "bdata": "c1jArKMrPkBAikbn0mo/QCa5zSpkwz5AenQM2VMhPkA=",
          "dtype": "f8"
         }
        },
        {
         "error_y": {
          "array": {
           "bdata": "frt2VjJdxz9iHc9zMYjfP4cVikZJI9c/mar4l9nswT8=",
           "dtype": "f8"
          },
          "color": "#EF553B",
          "thickness": 1.5,
          "type": "data",
          "visible": true,
          "width": 5
         },
         "hovertemplate": "%{text}<extra></extra>",
         "marker": {
          "color": "#EF553B",
          "line": {
           "color": "white",
           "width": 1
          },
          "opacity": 0.85,
          "size": 10
         },
         "mode": "markers",
         "text": [
          "Forecaster: ForecasterRecursiveMultiSeries<br>Regressor: DummyRegressor<br>Function: ForecasterRecursiveMultiSeries_backtesting_series_is_dict_exog_dict_conformal<br>Function_hash: dfc7faacb372c27f41c7601de640b981<br>Method: backtesting_series_is_dict_exog_dict_conformal<br>Datetime: 2025-08-26 08:37:15.485067<br>Python version: 3.12.11<br>skforecast version: 0.16.0<br>numpy version: 2.1.3<br>pandas version: 2.3.2<br>sklearn version: 1.6.1<br>lightgbm version: 4.6.0<br>Platform: Linux-6.11.0-1018-azure-x86_64-with-glibc2.39<br>Processor: x86_64<br>CPU count: 4<br>Memory (GB): 16.77<br>Run time avg: 22.142142 s<br>Run time median: 22.210329 s<br>Run time p95: 22.317511 s<br>Run time std: 0.182532 s<br>Nº repeats: 5",
          "Forecaster: ForecasterRecursiveMultiSeries<br>Regressor: DummyRegressor<br>Function: ForecasterRecursiveMultiSeries_backtesting_series_is_dict_exog_dict_conformal<br>Function_hash: dfc7faacb372c27f41c7601de640b981<br>Method: backtesting_series_is_dict_exog_dict_conformal<br>Datetime: 2025-08-26 08:46:57.131022<br>Python version: 3.12.11<br>skforecast version: 0.16.0<br>numpy version: 2.1.3<br>pandas version: 2.3.2<br>sklearn version: 1.6.1<br>lightgbm version: 4.6.0<br>Platform: Linux-6.11.0-1018-azure-x86_64-with-glibc2.39<br>Processor: x86_64<br>CPU count: 4<br>Memory (GB): 16.77<br>Run time avg: 21.292102 s<br>Run time median: 20.994125 s<br>Run time p95: 21.950172 s<br>Run time std: 0.492688 s<br>Nº repeats: 5",
          "Forecaster: ForecasterRecursiveMultiSeries<br>Regressor: DummyRegressor<br>Function: ForecasterRecursiveMultiSeries_backtesting_series_is_dict_exog_dict_conformal<br>Function_hash: dfc7faacb372c27f41c7601de640b981<br>Method: backtesting_series_is_dict_exog_dict_conformal<br>Datetime: 2025-08-26 09:01:14.589453<br>Python version: 3.12.11<br>skforecast version: 0.16.0<br>numpy version: 2.1.3<br>pandas version: 2.3.2<br>sklearn version: 1.6.1<br>lightgbm version: 4.6.0<br>Platform: Linux-6.11.0-1018-azure-x86_64-with-glibc2.39<br>Processor: x86_64<br>CPU count: 4<br>Memory (GB): 16.77<br>Run time avg: 21.644087 s<br>Run time median: 21.838583 s<br>Run time p95: 22.028329 s<br>Run time std: 0.361529 s<br>Nº repeats: 5",
          "Forecaster: ForecasterRecursiveMultiSeries<br>Regressor: DummyRegressor<br>Function: ForecasterRecursiveMultiSeries_backtesting_series_is_dict_exog_dict_conformal<br>Function_hash: dfc7faacb372c27f41c7601de640b981<br>Method: backtesting_series_is_dict_exog_dict_conformal<br>Datetime: 2025-08-26 09:11:52.715009<br>Python version: 3.12.11<br>skforecast version: 0.16.0<br>numpy version: 2.1.3<br>pandas version: 2.3.2<br>sklearn version: 1.6.1<br>lightgbm version: 4.6.0<br>Platform: Linux-6.11.0-1018-azure-x86_64-with-glibc2.39<br>Processor: x86_64<br>CPU count: 4<br>Memory (GB): 16.77<br>Run time avg: 22.476901 s<br>Run time median: 22.533001 s<br>Run time p95: 22.632615 s<br>Run time std: 0.140041 s<br>Nº repeats: 5"
         ],
         "type": "scatter",
         "visible": false,
         "x": {
          "bdata": "QyvA99uC7j9pbBBJImjvP0S1CutLCPA/YCyob1lc8D8=",
          "dtype": "f8"
         },
         "y": {
          "bdata": "LWmPamMkNkDAWFA6x0o1QE3q7uHipDVAYz2FLxZ6NkA=",
          "dtype": "f8"
         }
        },
        {
         "error_y": {
          "array": {
           "bdata": "H0d5oENC0T8qbjfN/aTJP0EdkbvqttE/NxJfM4x10D+cMOJLBNvJPw==",
           "dtype": "f8"
          },
          "color": "#00CC96",
          "thickness": 1.5,
          "type": "data",
          "visible": true,
          "width": 5
         },
         "hovertemplate": "%{text}<extra></extra>",
         "marker": {
          "color": "#00CC96",
          "line": {
           "color": "white",
           "width": 1
          },
          "opacity": 0.85,
          "size": 10
         },
         "mode": "markers",
         "text": [
          "Forecaster: ForecasterRecursiveMultiSeries<br>Regressor: DummyRegressor<br>Function: ForecasterRecursiveMultiSeries_backtesting_series_is_dict_exog_dict_conformal<br>Function_hash: dfc7faacb372c27f41c7601de640b981<br>Method: backtesting_series_is_dict_exog_dict_conformal<br>Datetime: 2025-08-26 07:07:48.891039<br>Python version: 3.12.11<br>skforecast version: 0.17.0<br>numpy version: 2.1.3<br>pandas version: 2.3.2<br>sklearn version: 1.6.1<br>lightgbm version: 4.6.0<br>Platform: Linux-6.11.0-1018-azure-x86_64-with-glibc2.39<br>Processor: x86_64<br>CPU count: 4<br>Memory (GB): 16.77<br>Run time avg: 21.205036 s<br>Run time median: 21.227285 s<br>Run time p95: 21.560410 s<br>Run time std: 0.269669 s<br>Nº repeats: 5",
          "Forecaster: ForecasterRecursiveMultiSeries<br>Regressor: DummyRegressor<br>Function: ForecasterRecursiveMultiSeries_backtesting_series_is_dict_exog_dict_conformal<br>Function_hash: dfc7faacb372c27f41c7601de640b981<br>Method: backtesting_series_is_dict_exog_dict_conformal<br>Datetime: 2025-08-26 07:20:48.857766<br>Python version: 3.12.11<br>skforecast version: 0.17.0<br>numpy version: 2.1.3<br>pandas version: 2.3.2<br>sklearn version: 1.6.1<br>lightgbm version: 4.6.0<br>Platform: Linux-6.11.0-1018-azure-x86_64-with-glibc2.39<br>Processor: x86_64<br>CPU count: 4<br>Memory (GB): 16.77<br>Run time avg: 21.540190 s<br>Run time median: 21.402319 s<br>Run time p95: 21.829475 s<br>Run time std: 0.200348 s<br>Nº repeats: 5",
          "Forecaster: ForecasterRecursiveMultiSeries<br>Regressor: DummyRegressor<br>Function: ForecasterRecursiveMultiSeries_backtesting_series_is_dict_exog_dict_conformal<br>Function_hash: dfc7faacb372c27f41c7601de640b981<br>Method: backtesting_series_is_dict_exog_dict_conformal<br>Datetime: 2025-08-26 07:39:15.509573<br>Python version: 3.12.11<br>skforecast version: 0.17.0<br>numpy version: 2.1.3<br>pandas version: 2.3.2<br>sklearn version: 1.6.1<br>lightgbm version: 4.6.0<br>Platform: Linux-6.11.0-1018-azure-x86_64-with-glibc2.39<br>Processor: x86_64<br>CPU count: 4<br>Memory (GB): 16.77<br>Run time avg: 21.827602 s<br>Run time median: 21.930811 s<br>Run time p95: 22.158277 s<br>Run time std: 0.276789 s<br>Nº repeats: 5",
          "Forecaster: ForecasterRecursiveMultiSeries<br>Regressor: DummyRegressor<br>Function: ForecasterRecursiveMultiSeries_backtesting_series_is_dict_exog_dict_conformal<br>Function_hash: dfc7faacb372c27f41c7601de640b981<br>Method: backtesting_series_is_dict_exog_dict_conformal<br>Datetime: 2025-08-26 07:52:00.178874<br>Python version: 3.12.11<br>skforecast version: 0.17.0<br>numpy version: 2.1.3<br>pandas version: 2.3.2<br>sklearn version: 1.6.1<br>lightgbm version: 4.6.0<br>Platform: Linux-6.11.0-1018-azure-x86_64-with-glibc2.39<br>Processor: x86_64<br>CPU count: 4<br>Memory (GB): 16.77<br>Run time avg: 21.848323 s<br>Run time median: 21.773426 s<br>Run time p95: 22.204963 s<br>Run time std: 0.257175 s<br>Nº repeats: 5",
          "Forecaster: ForecasterRecursiveMultiSeries<br>Regressor: DummyRegressor<br>Function: ForecasterRecursiveMultiSeries_backtesting_series_is_dict_exog_dict_conformal<br>Function_hash: dfc7faacb372c27f41c7601de640b981<br>Method: backtesting_series_is_dict_exog_dict_conformal<br>Datetime: 2025-08-26 08:17:55.778124<br>Python version: 3.12.11<br>skforecast version: 0.17.0<br>numpy version: 2.1.3<br>pandas version: 2.3.2<br>sklearn version: 1.6.1<br>lightgbm version: 4.6.0<br>Platform: Linux-6.11.0-1018-azure-x86_64-with-glibc2.39<br>Processor: x86_64<br>CPU count: 4<br>Memory (GB): 16.77<br>Run time avg: 21.627897 s<br>Run time median: 21.734955 s<br>Run time p95: 21.848927 s<br>Run time std: 0.201996 s<br>Nº repeats: 5"
         ],
         "type": "scatter",
         "visible": false,
         "x": {
          "bdata": "x+Av/p4QAEAC+38mB9f/P8K4TaRVVv8/82KIrBI6AED9GxOE4m3/Pw==",
          "dtype": "f8"
         },
         "y": {
          "bdata": "TVjJPn00NUBzEo/qSYo1QPoi8bzd0zVA9r0mtyvZNUBm9oHZvaA1QA==",
          "dtype": "f8"
         }
        },
        {
         "line": {
          "color": "#374151",
          "width": 2
         },
         "marker": {
          "color": "#374151",
          "size": 8
         },
         "mode": "lines+markers",
         "name": "Median (per version)",
         "type": "scatter",
         "visible": true,
         "x": {
          "bdata": "AAEC",
          "dtype": "i1"
         },
         "y": {
          "bdata": "sO/JjywF/T9NOzBd4ZnvP5o37vFaMu8/",
          "dtype": "f8"
         }
        },
        {
         "line": {
          "color": "#374151",
          "width": 2
         },
         "marker": {
          "color": "#374151",
          "size": 8
         },
         "mode": "lines+markers",
         "name": "Median (per version)",
         "type": "scatter",
         "visible": false,
         "x": {
          "bdata": "AAEC",
          "dtype": "i1"
         },
         "y": {
          "bdata": "NuW6X/yOAED0dHzFrUj0P0Be+NJuBPU/",
          "dtype": "f8"
         }
        },
        {
         "line": {
          "color": "#374151",
          "width": 2
         },
         "marker": {
          "color": "#374151",
          "size": 8
         },
         "mode": "lines+markers",
         "name": "Median (per version)",
         "type": "scatter",
         "visible": false,
         "x": {
          "bdata": "AAEC",
          "dtype": "i1"
         },
         "y": {
          "bdata": "6h68Bl4tAECAlCj+Xq7zP01dnt/Tg/M/",
          "dtype": "f8"
         }
        },
        {
         "line": {
          "color": "#374151",
          "width": 2
         },
         "marker": {
          "color": "#374151",
          "size": 8
         },
         "mode": "lines+markers",
         "name": "Median (per version)",
         "type": "scatter",
         "visible": false,
         "x": {
          "bdata": "Ag==",
          "dtype": "i1"
         },
         "y": {
          "bdata": "GvlpCEGx8z8=",
          "dtype": "f8"
         }
        },
        {
         "line": {
          "color": "#374151",
          "width": 2
         },
         "marker": {
          "color": "#374151",
          "size": 8
         },
         "mode": "lines+markers",
         "name": "Median (per version)",
         "type": "scatter",
         "visible": false,
         "x": {
          "bdata": "Ag==",
          "dtype": "i1"
         },
         "y": {
          "bdata": "gPBnLCXd8T8=",
          "dtype": "f8"
         }
        },
        {
         "line": {
          "color": "#374151",
          "width": 2
         },
         "marker": {
          "color": "#374151",
          "size": 8
         },
         "mode": "lines+markers",
         "name": "Median (per version)",
         "type": "scatter",
         "visible": false,
         "x": {
          "bdata": "Ag==",
          "dtype": "i1"
         },
         "y": {
          "bdata": "GjyeteMG/z8=",
          "dtype": "f8"
         }
        },
        {
         "line": {
          "color": "#374151",
          "width": 2
         },
         "marker": {
          "color": "#374151",
          "size": 8
         },
         "mode": "lines+markers",
         "name": "Median (per version)",
         "type": "scatter",
         "visible": false,
         "x": {
          "bdata": "Ag==",
          "dtype": "i1"
         },
         "y": {
          "bdata": "WgAhNvoT9j8=",
          "dtype": "f8"
         }
        },
        {
         "line": {
          "color": "#374151",
          "width": 2
         },
         "marker": {
          "color": "#374151",
          "size": 8
         },
         "mode": "lines+markers",
         "name": "Median (per version)",
         "type": "scatter",
         "visible": false,
         "x": {
          "bdata": "AAEC",
          "dtype": "i1"
         },
         "y": {
          "bdata": "mhmlM64DYT+amddgrKBOP5qZBRWDrk4/",
          "dtype": "f8"
         }
        },
        {
         "line": {
          "color": "#374151",
          "width": 2
         },
         "marker": {
          "color": "#374151",
          "size": 8
         },
         "mode": "lines+markers",
         "name": "Median (per version)",
         "type": "scatter",
         "visible": false,
         "x": {
          "bdata": "AAEC",
          "dtype": "i1"
         },
         "y": {
          "bdata": "WjakN7/3B0DmoiZm9A35PxrDZkA5Gvk/",
          "dtype": "f8"
         }
        },
        {
         "line": {
          "color": "#374151",
          "width": 2
         },
         "marker": {
          "color": "#374151",
          "size": 8
         },
         "mode": "lines+markers",
         "name": "Median (per version)",
         "type": "scatter",
         "visible": false,
         "x": {
          "bdata": "AAEC",
          "dtype": "i1"
         },
         "y": {
          "bdata": "jWgpMhlTCkAAiZuGca79P5rl43dvpf4/",
          "dtype": "f8"
         }
        },
        {
         "line": {
          "color": "#374151",
          "width": 2
         },
         "marker": {
          "color": "#374151",
          "size": 8
         },
         "mode": "lines+markers",
         "name": "Median (per version)",
         "type": "scatter",
         "visible": false,
         "x": {
          "bdata": "AAEC",
          "dtype": "i1"
         },
         "y": {
          "bdata": "VMzFd1xXCEA0OAt6tdD7PwCVtNnOs/s/",
          "dtype": "f8"
         }
        },
        {
         "line": {
          "color": "#374151",
          "width": 2
         },
         "marker": {
          "color": "#374151",
          "size": 8
         },
         "mode": "lines+markers",
         "name": "Median (per version)",
         "type": "scatter",
         "visible": false,
         "x": {
          "bdata": "Ag==",
          "dtype": "i1"
         },
         "y": {
          "bdata": "zcj4HSpB+z8=",
          "dtype": "f8"
         }
        },
        {
         "line": {
          "color": "#374151",
          "width": 2
         },
         "marker": {
          "color": "#374151",
          "size": 8
         },
         "mode": "lines+markers",
         "name": "Median (per version)",
         "type": "scatter",
         "visible": false,
         "x": {
          "bdata": "Ag==",
          "dtype": "i1"
         },
         "y": {
          "bdata": "zdeEc89bBEA=",
          "dtype": "f8"
         }
        },
        {
         "line": {
          "color": "#374151",
          "width": 2
         },
         "marker": {
          "color": "#374151",
          "size": 8
         },
         "mode": "lines+markers",
         "name": "Median (per version)",
         "type": "scatter",
         "visible": false,
         "x": {
          "bdata": "Ag==",
          "dtype": "i1"
         },
         "y": {
          "bdata": "zVaETEZ6AEA=",
          "dtype": "f8"
         }
        },
        {
         "line": {
          "color": "#374151",
          "width": 2
         },
         "marker": {
          "color": "#374151",
          "size": 8
         },
         "mode": "lines+markers",
         "name": "Median (per version)",
         "type": "scatter",
         "visible": false,
         "x": {
          "bdata": "AAEC",
          "dtype": "i1"
         },
         "y": {
          "bdata": "mv8Tk5/L0D/NlEbwjg6wP2Zm4kUVtK8/",
          "dtype": "f8"
         }
        },
        {
         "line": {
          "color": "#374151",
          "width": 2
         },
         "marker": {
          "color": "#374151",
          "size": 8
         },
         "mode": "lines+markers",
         "name": "Median (per version)",
         "type": "scatter",
         "visible": false,
         "x": {
          "bdata": "AAEC",
          "dtype": "i1"
         },
         "y": {
          "bdata": "M9q/vbIc+D+aNvrqxEvOP2b+m1dC5c0/",
          "dtype": "f8"
         }
        },
        {
         "line": {
          "color": "#374151",
          "width": 2
         },
         "marker": {
          "color": "#374151",
          "size": 8
         },
         "mode": "lines+markers",
         "name": "Median (per version)",
         "type": "scatter",
         "visible": false,
         "x": {
          "bdata": "Ag==",
          "dtype": "i1"
         },
         "y": {
          "bdata": "M+ts17Nf2z8=",
          "dtype": "f8"
         }
        },
        {
         "line": {
          "color": "#374151",
          "width": 2
         },
         "marker": {
          "color": "#374151",
          "size": 8
         },
         "mode": "lines+markers",
         "name": "Median (per version)",
         "type": "scatter",
         "visible": false,
         "x": {
          "bdata": "Ag==",
          "dtype": "i1"
         },
         "y": {
          "bdata": "ZoYcytorvD8=",
          "dtype": "f8"
         }
        },
        {
         "line": {
          "color": "#374151",
          "width": 2
         },
         "marker": {
          "color": "#374151",
          "size": 8
         },
         "mode": "lines+markers",
         "name": "Median (per version)",
         "type": "scatter",
         "visible": false,
         "x": {
          "bdata": "AAEC",
          "dtype": "i1"
         },
         "y": {
          "bdata": "mgQn3uZ9+T8Ac9qjAjrTP2amYs5nTNM/",
          "dtype": "f8"
         }
        },
        {
         "line": {
          "color": "#374151",
          "width": 2
         },
         "marker": {
          "color": "#374151",
          "size": 8
         },
         "mode": "lines+markers",
         "name": "Median (per version)",
         "type": "scatter",
         "visible": false,
         "x": {
          "bdata": "Ag==",
          "dtype": "i1"
         },
         "y": {
          "bdata": "miHslAYH3z8=",
          "dtype": "f8"
         }
        },
        {
         "line": {
          "color": "#374151",
          "width": 2
         },
         "marker": {
          "color": "#374151",
          "size": 8
         },
         "mode": "lines+markers",
         "name": "Median (per version)",
         "type": "scatter",
         "visible": false,
         "x": {
          "bdata": "AAEC",
          "dtype": "i1"
         },
         "y": {
          "bdata": "k3b9/X/9/D9NIbUer2DhPwBQ1YaIeOE/",
          "dtype": "f8"
         }
        },
        {
         "line": {
          "color": "#374151",
          "width": 2
         },
         "marker": {
          "color": "#374151",
          "size": 8
         },
         "mode": "lines+markers",
         "name": "Median (per version)",
         "type": "scatter",
         "visible": false,
         "x": {
          "bdata": "AAEC",
          "dtype": "i1"
         },
         "y": {
          "bdata": "E0Fo3mWZLkDjJY6H+QQrQMYx0eqkPCtA",
          "dtype": "f8"
         }
        },
        {
         "line": {
          "color": "#374151",
          "width": 2
         },
         "marker": {
          "color": "#374151",
          "size": 8
         },
         "mode": "lines+markers",
         "name": "Median (per version)",
         "type": "scatter",
         "visible": false,
         "x": {
          "bdata": "AAEC",
          "dtype": "i1"
         },
         "y": {
          "bdata": "ZPIf7Dr4OkB06a9G48MyQDpinm0juzJA",
          "dtype": "f8"
         }
        },
        {
         "line": {
          "color": "#374151",
          "width": 2
         },
         "marker": {
          "color": "#374151",
          "size": 8
         },
         "mode": "lines+markers",
         "name": "Median (per version)",
         "type": "scatter",
         "visible": false,
         "x": {
          "bdata": "AAEC",
          "dtype": "i1"
         },
         "y": {
          "bdata": "0sCpdT2AMkBEoJsoy28wQPNpGdrVLzBA",
          "dtype": "f8"
         }
        },
        {
         "line": {
          "color": "#374151",
          "width": 2
         },
         "marker": {
          "color": "#374151",
          "size": 8
         },
         "mode": "lines+markers",
         "name": "Median (per version)",
         "type": "scatter",
         "visible": false,
         "x": {
          "bdata": "AAEC",
          "dtype": "i1"
         },
         "y": {
          "bdata": "zAjH64N3PkC9KT8mo+Q1QGb2gdm9oDVA",
          "dtype": "f8"
         }
        },
        {
         "line": {
          "color": "#9CA3AF",
          "dash": "dash",
          "width": 2
         },
         "marker": {
          "color": "#9CA3AF",
          "size": 8
         },
         "mode": "lines+markers",
         "name": "Mean (per version)",
         "type": "scatter",
         "visible": true,
         "x": {
          "bdata": "AAEC",
          "dtype": "i1"
         },
         "y": {
          "bdata": "zpT5FRMN/T9ds2GbPXPvP7jPS0EZP+8/",
          "dtype": "f8"
         }
        },
        {
         "line": {
          "color": "#9CA3AF",
          "dash": "dash",
          "width": 2
         },
         "marker": {
          "color": "#9CA3AF",
          "size": 8
         },
         "mode": "lines+markers",
         "name": "Mean (per version)",
         "type": "scatter",
         "visible": false,
         "x": {
          "bdata": "AAEC",
          "dtype": "i1"
         },
         "y": {
          "bdata": "qZKyEJeLAEDMemDKNzr0P8jUbOS+BvU/",
          "dtype": "f8"
         }
        },
        {
         "line": {
          "color": "#9CA3AF",
          "dash": "dash",
          "width": 2
         },
         "marker": {
          "color": "#9CA3AF",
          "size": 8
         },
         "mode": "lines+markers",
         "name": "Mean (per version)",
         "type": "scatter",
         "visible": false,
         "x": {
          "bdata": "AAEC",
          "dtype": "i1"
         },
         "y": {
          "bdata": "DvrxVh8tAEAziOjbs5vzP+ln0xL7g/M/",
          "dtype": "f8"
         }
        },
        {
         "line": {
          "color": "#9CA3AF",
          "dash": "dash",
          "width": 2
         },
         "marker": {
          "color": "#9CA3AF",
          "size": 8
         },
         "mode": "lines+markers",
         "name": "Mean (per version)",
         "type": "scatter",
         "visible": false,
         "x": {
          "bdata": "Ag==",
          "dtype": "i1"
         },
         "y": {
          "bdata": "rDmDvcym8z8=",
          "dtype": "f8"
         }
        },
        {
         "line": {
          "color": "#9CA3AF",
          "dash": "dash",
          "width": 2
         },
         "marker": {
          "color": "#9CA3AF",
          "size": 8
         },
         "mode": "lines+markers",
         "name": "Mean (per version)",
         "type": "scatter",
         "visible": false,
         "x": {
          "bdata": "Ag==",
          "dtype": "i1"
         },
         "y": {
          "bdata": "ZHZeSmjN8T8=",
          "dtype": "f8"
         }
        },
        {
         "line": {
          "color": "#9CA3AF",
          "dash": "dash",
          "width": 2
         },
         "marker": {
          "color": "#9CA3AF",
          "size": 8
         },
         "mode": "lines+markers",
         "name": "Mean (per version)",
         "type": "scatter",
         "visible": false,
         "x": {
          "bdata": "Ag==",
          "dtype": "i1"
         },
         "y": {
          "bdata": "kF6KPcDH/j8=",
          "dtype": "f8"
         }
        },
        {
         "line": {
          "color": "#9CA3AF",
          "dash": "dash",
          "width": 2
         },
         "marker": {
          "color": "#9CA3AF",
          "size": 8
         },
         "mode": "lines+markers",
         "name": "Mean (per version)",
         "type": "scatter",
         "visible": false,
         "x": {
          "bdata": "Ag==",
          "dtype": "i1"
         },
         "y": {
          "bdata": "q4tEwTH89T8=",
          "dtype": "f8"
         }
        },
        {
         "line": {
          "color": "#9CA3AF",
          "dash": "dash",
          "width": 2
         },
         "marker": {
          "color": "#9CA3AF",
          "size": 8
         },
         "mode": "lines+markers",
         "name": "Mean (per version)",
         "type": "scatter",
         "visible": false,
         "x": {
          "bdata": "AAEC",
          "dtype": "i1"
         },
         "y": {
          "bdata": "mpnIwk0KYT9mpgwqH7FOP0jh2tkapU4/",
          "dtype": "f8"
         }
        },
        {
         "line": {
          "color": "#9CA3AF",
          "dash": "dash",
          "width": 2
         },
         "marker": {
          "color": "#9CA3AF",
          "size": 8
         },
         "mode": "lines+markers",
         "name": "Mean (per version)",
         "type": "scatter",
         "visible": false,
         "x": {
          "bdata": "AAEC",
          "dtype": "i1"
         },
         "y": {
          "bdata": "06W7hvj7B0CAc7Mo/RP5P4DEob9XCvk/",
          "dtype": "f8"
         }
        },
        {
         "line": {
          "color": "#9CA3AF",
          "dash": "dash",
          "width": 2
         },
         "marker": {
          "color": "#9CA3AF",
          "size": 8
         },
         "mode": "lines+markers",
         "name": "Mean (per version)",
         "type": "scatter",
         "visible": false,
         "x": {
          "bdata": "AAEC",
          "dtype": "i1"
         },
         "y": {
          "bdata": "llrMcgpkCkAGLaudWqb9P2ZEoFiPj/4/",
          "dtype": "f8"
         }
        },
        {
         "line": {
          "color": "#9CA3AF",
          "dash": "dash",
          "width": 2
         },
         "marker": {
          "color": "#9CA3AF",
          "size": 8
         },
         "mode": "lines+markers",
         "name": "Mean (per version)",
         "type": "scatter",
         "visible": false,
         "x": {
          "bdata": "AAEC",
          "dtype": "i1"
         },
         "y": {
          "bdata": "fcbNtddRCEB6Eq8CIuX7PzPaFN5ctfs/",
          "dtype": "f8"
         }
        },
        {
         "line": {
          "color": "#9CA3AF",
          "dash": "dash",
          "width": 2
         },
         "marker": {
          "color": "#9CA3AF",
          "size": 8
         },
         "mode": "lines+markers",
         "name": "Mean (per version)",
         "type": "scatter",
         "visible": false,
         "x": {
          "bdata": "Ag==",
          "dtype": "i1"
         },
         "y": {
          "bdata": "Uh2RQuRL+z8=",
          "dtype": "f8"
         }
        },
        {
         "line": {
          "color": "#9CA3AF",
          "dash": "dash",
          "width": 2
         },
         "marker": {
          "color": "#9CA3AF",
          "size": 8
         },
         "mode": "lines+markers",
         "name": "Mean (per version)",
         "type": "scatter",
         "visible": false,
         "x": {
          "bdata": "Ag==",
          "dtype": "i1"
         },
         "y": {
          "bdata": "l1wuxQpMBEA=",
          "dtype": "f8"
         }
        },
        {
         "line": {
          "color": "#9CA3AF",
          "dash": "dash",
          "width": 2
         },
         "marker": {
          "color": "#9CA3AF",
          "size": 8
         },
         "mode": "lines+markers",
         "name": "Mean (per version)",
         "type": "scatter",
         "visible": false,
         "x": {
          "bdata": "Ag==",
          "dtype": "i1"
         },
         "y": {
          "bdata": "qXSJ0YV+AEA=",
          "dtype": "f8"
         }
        },
        {
         "line": {
          "color": "#9CA3AF",
          "dash": "dash",
          "width": 2
         },
         "marker": {
          "color": "#9CA3AF",
          "size": 8
         },
         "mode": "lines+markers",
         "name": "Mean (per version)",
         "type": "scatter",
         "visible": false,
         "x": {
          "bdata": "AAEC",
          "dtype": "i1"
         },
         "y": {
          "bdata": "QNq7dazN0D/NrYLEnx2wP+txDAE1668/",
          "dtype": "f8"
         }
        },
        {
         "line": {
          "color": "#9CA3AF",
          "dash": "dash",
          "width": 2
         },
         "marker": {
          "color": "#9CA3AF",
          "size": 8
         },
         "mode": "lines+markers",
         "name": "Mean (per version)",
         "type": "scatter",
         "visible": false,
         "x": {
          "bdata": "AAEC",
          "dtype": "i1"
         },
         "y": {
          "bdata": "YHR0cLoa+D8anfucU3HOP9atHzYRFs4/",
          "dtype": "f8"
         }
        },
        {
         "line": {
          "color": "#9CA3AF",
          "dash": "dash",
          "width": 2
         },
         "marker": {
          "color": "#9CA3AF",
          "size": 8
         },
         "mode": "lines+markers",
         "name": "Mean (per version)",
         "type": "scatter",
         "visible": false,
         "x": {
          "bdata": "Ag==",
          "dtype": "i1"
         },
         "y": {
          "bdata": "oxsi6/he2z8=",
          "dtype": "f8"
         }
        },
        {
         "line": {
          "color": "#9CA3AF",
          "dash": "dash",
          "width": 2
         },
         "marker": {
          "color": "#9CA3AF",
          "size": 8
         },
         "mode": "lines+markers",
         "name": "Mean (per version)",
         "type": "scatter",
         "visible": false,
         "x": {
          "bdata": "Ag==",
          "dtype": "i1"
         },
         "y": {
          "bdata": "66W5ddUqvD8=",
          "dtype": "f8"
         }
        },
        {
         "line": {
          "color": "#9CA3AF",
          "dash": "dash",
          "width": 2
         },
         "marker": {
          "color": "#9CA3AF",
          "size": 8
         },
         "mode": "lines+markers",
         "name": "Mean (per version)",
         "type": "scatter",
         "visible": false,
         "x": {
          "bdata": "AAEC",
          "dtype": "i1"
         },
         "y": {
          "bdata": "mpTNROx2+T8Nrs4ahEnTP/ZsZ5uhRtM/",
          "dtype": "f8"
         }
        },
        {
         "line": {
          "color": "#9CA3AF",
          "dash": "dash",
          "width": 2
         },
         "marker": {
          "color": "#9CA3AF",
          "size": 8
         },
         "mode": "lines+markers",
         "name": "Mean (per version)",
         "type": "scatter",
         "visible": false,
         "x": {
          "bdata": "Ag==",
          "dtype": "i1"
         },
         "y": {
          "bdata": "MxF0XtYm3z8=",
          "dtype": "f8"
         }
        },
        {
         "line": {
          "color": "#9CA3AF",
          "dash": "dash",
          "width": 2
         },
         "marker": {
          "color": "#9CA3AF",
          "size": 8
         },
         "mode": "lines+markers",
         "name": "Mean (per version)",
         "type": "scatter",
         "visible": false,
         "x": {
          "bdata": "AAEC",
          "dtype": "i1"
         },
         "y": {
          "bdata": "VuxoQGcJ/T8aCL465lfhP80E3roHeeE/",
          "dtype": "f8"
         }
        },
        {
         "line": {
          "color": "#9CA3AF",
          "dash": "dash",
          "width": 2
         },
         "marker": {
          "color": "#9CA3AF",
          "size": 8
         },
         "mode": "lines+markers",
         "name": "Mean (per version)",
         "type": "scatter",
         "visible": false,
         "x": {
          "bdata": "AAEC",
          "dtype": "i1"
         },
         "y": {
          "bdata": "4xWUfo9yLkBy8GQES/oqQJi4reXMeStA",
          "dtype": "f8"
         }
        },
        {
         "line": {
          "color": "#9CA3AF",
          "dash": "dash",
          "width": 2
         },
         "marker": {
          "color": "#9CA3AF",
          "size": 8
         },
         "mode": "lines+markers",
         "name": "Mean (per version)",
         "type": "scatter",
         "visible": false,
         "x": {
          "bdata": "AAEC",
          "dtype": "i1"
         },
         "y": {
          "bdata": "0pdgpNccO0Ax3zRcqM8yQM5jkRzs0zJA",
          "dtype": "f8"
         }
        },
        {
         "line": {
          "color": "#9CA3AF",
          "dash": "dash",
          "width": 2
         },
         "marker": {
          "color": "#9CA3AF",
          "size": 8
         },
         "mode": "lines+markers",
         "name": "Mean (per version)",
         "type": "scatter",
         "visible": false,
         "x": {
          "bdata": "AAEC",
          "dtype": "i1"
         },
         "y": {
          "bdata": "671si4+QMkBDIJVc6XswQD4UT1vFLTBA",
          "dtype": "f8"
         }
        },
        {
         "line": {
          "color": "#9CA3AF",
          "dash": "dash",
          "width": 2
         },
         "marker": {
          "color": "#9CA3AF",
          "size": 8
         },
         "mode": "lines+markers",
         "name": "Mean (per version)",
         "type": "scatter",
         "visible": false,
         "x": {
          "bdata": "AAEC",
          "dtype": "i1"
         },
         "y": {
          "bdata": "FUT4pcuePkBn+pTtiOM1QJ5zMH4cnDVA",
          "dtype": "f8"
         }
        }
       ],
       "layout": {
        "legend": {
         "title": {
          "text": ""
         }
        },
        "margin": {
         "b": 60,
         "l": 70,
         "r": 20,
         "t": 100
        },
        "showlegend": false,
        "template": {
         "data": {
          "bar": [
           {
            "error_x": {
             "color": "#2a3f5f"
            },
            "error_y": {
             "color": "#2a3f5f"
            },
            "marker": {
             "line": {
              "color": "#E5ECF6",
              "width": 0.5
             },
             "pattern": {
              "fillmode": "overlay",
              "size": 10,
              "solidity": 0.2
             }
            },
            "type": "bar"
           }
          ],
          "barpolar": [
           {
            "marker": {
             "line": {
              "color": "#E5ECF6",
              "width": 0.5
             },
             "pattern": {
              "fillmode": "overlay",
              "size": 10,
              "solidity": 0.2
             }
            },
            "type": "barpolar"
           }
          ],
          "carpet": [
           {
            "aaxis": {
             "endlinecolor": "#2a3f5f",
             "gridcolor": "white",
             "linecolor": "white",
             "minorgridcolor": "white",
             "startlinecolor": "#2a3f5f"
            },
            "baxis": {
             "endlinecolor": "#2a3f5f",
             "gridcolor": "white",
             "linecolor": "white",
             "minorgridcolor": "white",
             "startlinecolor": "#2a3f5f"
            },
            "type": "carpet"
           }
          ],
          "choropleth": [
           {
            "colorbar": {
             "outlinewidth": 0,
             "ticks": ""
            },
            "type": "choropleth"
           }
          ],
          "contour": [
           {
            "colorbar": {
             "outlinewidth": 0,
             "ticks": ""
            },
            "colorscale": [
             [
              0,
              "#0d0887"
             ],
             [
              0.1111111111111111,
              "#46039f"
             ],
             [
              0.2222222222222222,
              "#7201a8"
             ],
             [
              0.3333333333333333,
              "#9c179e"
             ],
             [
              0.4444444444444444,
              "#bd3786"
             ],
             [
              0.5555555555555556,
              "#d8576b"
             ],
             [
              0.6666666666666666,
              "#ed7953"
             ],
             [
              0.7777777777777778,
              "#fb9f3a"
             ],
             [
              0.8888888888888888,
              "#fdca26"
             ],
             [
              1,
              "#f0f921"
             ]
            ],
            "type": "contour"
           }
          ],
          "contourcarpet": [
           {
            "colorbar": {
             "outlinewidth": 0,
             "ticks": ""
            },
            "type": "contourcarpet"
           }
          ],
          "heatmap": [
           {
            "colorbar": {
             "outlinewidth": 0,
             "ticks": ""
            },
            "colorscale": [
             [
              0,
              "#0d0887"
             ],
             [
              0.1111111111111111,
              "#46039f"
             ],
             [
              0.2222222222222222,
              "#7201a8"
             ],
             [
              0.3333333333333333,
              "#9c179e"
             ],
             [
              0.4444444444444444,
              "#bd3786"
             ],
             [
              0.5555555555555556,
              "#d8576b"
             ],
             [
              0.6666666666666666,
              "#ed7953"
             ],
             [
              0.7777777777777778,
              "#fb9f3a"
             ],
             [
              0.8888888888888888,
              "#fdca26"
             ],
             [
              1,
              "#f0f921"
             ]
            ],
            "type": "heatmap"
           }
          ],
          "histogram": [
           {
            "marker": {
             "pattern": {
              "fillmode": "overlay",
              "size": 10,
              "solidity": 0.2
             }
            },
            "type": "histogram"
           }
          ],
          "histogram2d": [
           {
            "colorbar": {
             "outlinewidth": 0,
             "ticks": ""
            },
            "colorscale": [
             [
              0,
              "#0d0887"
             ],
             [
              0.1111111111111111,
              "#46039f"
             ],
             [
              0.2222222222222222,
              "#7201a8"
             ],
             [
              0.3333333333333333,
              "#9c179e"
             ],
             [
              0.4444444444444444,
              "#bd3786"
             ],
             [
              0.5555555555555556,
              "#d8576b"
             ],
             [
              0.6666666666666666,
              "#ed7953"
             ],
             [
              0.7777777777777778,
              "#fb9f3a"
             ],
             [
              0.8888888888888888,
              "#fdca26"
             ],
             [
              1,
              "#f0f921"
             ]
            ],
            "type": "histogram2d"
           }
          ],
          "histogram2dcontour": [
           {
            "colorbar": {
             "outlinewidth": 0,
             "ticks": ""
            },
            "colorscale": [
             [
              0,
              "#0d0887"
             ],
             [
              0.1111111111111111,
              "#46039f"
             ],
             [
              0.2222222222222222,
              "#7201a8"
             ],
             [
              0.3333333333333333,
              "#9c179e"
             ],
             [
              0.4444444444444444,
              "#bd3786"
             ],
             [
              0.5555555555555556,
              "#d8576b"
             ],
             [
              0.6666666666666666,
              "#ed7953"
             ],
             [
              0.7777777777777778,
              "#fb9f3a"
             ],
             [
              0.8888888888888888,
              "#fdca26"
             ],
             [
              1,
              "#f0f921"
             ]
            ],
            "type": "histogram2dcontour"
           }
          ],
          "mesh3d": [
           {
            "colorbar": {
             "outlinewidth": 0,
             "ticks": ""
            },
            "type": "mesh3d"
           }
          ],
          "parcoords": [
           {
            "line": {
             "colorbar": {
              "outlinewidth": 0,
              "ticks": ""
             }
            },
            "type": "parcoords"
           }
          ],
          "pie": [
           {
            "automargin": true,
            "type": "pie"
           }
          ],
          "scatter": [
           {
            "fillpattern": {
             "fillmode": "overlay",
             "size": 10,
             "solidity": 0.2
            },
            "type": "scatter"
           }
          ],
          "scatter3d": [
           {
            "line": {
             "colorbar": {
              "outlinewidth": 0,
              "ticks": ""
             }
            },
            "marker": {
             "colorbar": {
              "outlinewidth": 0,
              "ticks": ""
             }
            },
            "type": "scatter3d"
           }
          ],
          "scattercarpet": [
           {
            "marker": {
             "colorbar": {
              "outlinewidth": 0,
              "ticks": ""
             }
            },
            "type": "scattercarpet"
           }
          ],
          "scattergeo": [
           {
            "marker": {
             "colorbar": {
              "outlinewidth": 0,
              "ticks": ""
             }
            },
            "type": "scattergeo"
           }
          ],
          "scattergl": [
           {
            "marker": {
             "colorbar": {
              "outlinewidth": 0,
              "ticks": ""
             }
            },
            "type": "scattergl"
           }
          ],
          "scattermap": [
           {
            "marker": {
             "colorbar": {
              "outlinewidth": 0,
              "ticks": ""
             }
            },
            "type": "scattermap"
           }
          ],
          "scattermapbox": [
           {
            "marker": {
             "colorbar": {
              "outlinewidth": 0,
              "ticks": ""
             }
            },
            "type": "scattermapbox"
           }
          ],
          "scatterpolar": [
           {
            "marker": {
             "colorbar": {
              "outlinewidth": 0,
              "ticks": ""
             }
            },
            "type": "scatterpolar"
           }
          ],
          "scatterpolargl": [
           {
            "marker": {
             "colorbar": {
              "outlinewidth": 0,
              "ticks": ""
             }
            },
            "type": "scatterpolargl"
           }
          ],
          "scatterternary": [
           {
            "marker": {
             "colorbar": {
              "outlinewidth": 0,
              "ticks": ""
             }
            },
            "type": "scatterternary"
           }
          ],
          "surface": [
           {
            "colorbar": {
             "outlinewidth": 0,
             "ticks": ""
            },
            "colorscale": [
             [
              0,
              "#0d0887"
             ],
             [
              0.1111111111111111,
              "#46039f"
             ],
             [
              0.2222222222222222,
              "#7201a8"
             ],
             [
              0.3333333333333333,
              "#9c179e"
             ],
             [
              0.4444444444444444,
              "#bd3786"
             ],
             [
              0.5555555555555556,
              "#d8576b"
             ],
             [
              0.6666666666666666,
              "#ed7953"
             ],
             [
              0.7777777777777778,
              "#fb9f3a"
             ],
             [
              0.8888888888888888,
              "#fdca26"
             ],
             [
              1,
              "#f0f921"
             ]
            ],
            "type": "surface"
           }
          ],
          "table": [
           {
            "cells": {
             "fill": {
              "color": "#EBF0F8"
             },
             "line": {
              "color": "white"
             }
            },
            "header": {
             "fill": {
              "color": "#C8D4E3"
             },
             "line": {
              "color": "white"
             }
            },
            "type": "table"
           }
          ]
         },
         "layout": {
          "annotationdefaults": {
           "arrowcolor": "#2a3f5f",
           "arrowhead": 0,
           "arrowwidth": 1
          },
          "autotypenumbers": "strict",
          "coloraxis": {
           "colorbar": {
            "outlinewidth": 0,
            "ticks": ""
           }
          },
          "colorscale": {
           "diverging": [
            [
             0,
             "#8e0152"
            ],
            [
             0.1,
             "#c51b7d"
            ],
            [
             0.2,
             "#de77ae"
            ],
            [
             0.3,
             "#f1b6da"
            ],
            [
             0.4,
             "#fde0ef"
            ],
            [
             0.5,
             "#f7f7f7"
            ],
            [
             0.6,
             "#e6f5d0"
            ],
            [
             0.7,
             "#b8e186"
            ],
            [
             0.8,
             "#7fbc41"
            ],
            [
             0.9,
             "#4d9221"
            ],
            [
             1,
             "#276419"
            ]
           ],
           "sequential": [
            [
             0,
             "#0d0887"
            ],
            [
             0.1111111111111111,
             "#46039f"
            ],
            [
             0.2222222222222222,
             "#7201a8"
            ],
            [
             0.3333333333333333,
             "#9c179e"
            ],
            [
             0.4444444444444444,
             "#bd3786"
            ],
            [
             0.5555555555555556,
             "#d8576b"
            ],
            [
             0.6666666666666666,
             "#ed7953"
            ],
            [
             0.7777777777777778,
             "#fb9f3a"
            ],
            [
             0.8888888888888888,
             "#fdca26"
            ],
            [
             1,
             "#f0f921"
            ]
           ],
           "sequentialminus": [
            [
             0,
             "#0d0887"
            ],
            [
             0.1111111111111111,
             "#46039f"
            ],
            [
             0.2222222222222222,
             "#7201a8"
            ],
            [
             0.3333333333333333,
             "#9c179e"
            ],
            [
             0.4444444444444444,
             "#bd3786"
            ],
            [
             0.5555555555555556,
             "#d8576b"
            ],
            [
             0.6666666666666666,
             "#ed7953"
            ],
            [
             0.7777777777777778,
             "#fb9f3a"
            ],
            [
             0.8888888888888888,
             "#fdca26"
            ],
            [
             1,
             "#f0f921"
            ]
           ]
          },
          "colorway": [
           "#636efa",
           "#EF553B",
           "#00cc96",
           "#ab63fa",
           "#FFA15A",
           "#19d3f3",
           "#FF6692",
           "#B6E880",
           "#FF97FF",
           "#FECB52"
          ],
          "font": {
           "color": "#2a3f5f"
          },
          "geo": {
           "bgcolor": "white",
           "lakecolor": "white",
           "landcolor": "#E5ECF6",
           "showlakes": true,
           "showland": true,
           "subunitcolor": "white"
          },
          "hoverlabel": {
           "align": "left"
          },
          "hovermode": "closest",
          "mapbox": {
           "style": "light"
          },
          "paper_bgcolor": "white",
          "plot_bgcolor": "#E5ECF6",
          "polar": {
           "angularaxis": {
            "gridcolor": "white",
            "linecolor": "white",
            "ticks": ""
           },
           "bgcolor": "#E5ECF6",
           "radialaxis": {
            "gridcolor": "white",
            "linecolor": "white",
            "ticks": ""
           }
          },
          "scene": {
           "xaxis": {
            "backgroundcolor": "#E5ECF6",
            "gridcolor": "white",
            "gridwidth": 2,
            "linecolor": "white",
            "showbackground": true,
            "ticks": "",
            "zerolinecolor": "white"
           },
           "yaxis": {
            "backgroundcolor": "#E5ECF6",
            "gridcolor": "white",
            "gridwidth": 2,
            "linecolor": "white",
            "showbackground": true,
            "ticks": "",
            "zerolinecolor": "white"
           },
           "zaxis": {
            "backgroundcolor": "#E5ECF6",
            "gridcolor": "white",
            "gridwidth": 2,
            "linecolor": "white",
            "showbackground": true,
            "ticks": "",
            "zerolinecolor": "white"
           }
          },
          "shapedefaults": {
           "line": {
            "color": "#2a3f5f"
           }
          },
          "ternary": {
           "aaxis": {
            "gridcolor": "white",
            "linecolor": "white",
            "ticks": ""
           },
           "baxis": {
            "gridcolor": "white",
            "linecolor": "white",
            "ticks": ""
           },
           "bgcolor": "#E5ECF6",
           "caxis": {
            "gridcolor": "white",
            "linecolor": "white",
            "ticks": ""
           }
          },
          "title": {
           "x": 0.05
          },
          "xaxis": {
           "automargin": true,
           "gridcolor": "white",
           "linecolor": "white",
           "ticks": "",
           "title": {
            "standoff": 15
           },
           "zerolinecolor": "white",
           "zerolinewidth": 2
          },
          "yaxis": {
           "automargin": true,
           "gridcolor": "white",
           "linecolor": "white",
           "ticks": "",
           "title": {
            "standoff": 15
           },
           "zerolinecolor": "white",
           "zerolinewidth": 2
          }
         }
        },
        "title": {
         "text": "ForecasterRecursiveMultiSeries — Execution time `_create_train_X_y_series_is_dict_no_exog`"
        },
        "updatemenus": [
         {
          "buttons": [
           {
            "args": [
             {
              "visible": [
               true,
               true,
               true,
               false,
               false,
               false,
               false,
               false,
               false,
               false,
               false,
               false,
               false,
               false,
               false,
               false,
               false,
               false,
               false,
               false,
               false,
               false,
               false,
               false,
               false,
               false,
               false,
               false,
               false,
               false,
               false,
               false,
               false,
               false,
               false,
               false,
               false,
               false,
               false,
               false,
               false,
               false,
               false,
               false,
               false,
               false,
               false,
               false,
               false,
               false,
               false,
               false,
               false,
               false,
               false,
               true,
               false,
               false,
               false,
               false,
               false,
               false,
               false,
               false,
               false,
               false,
               false,
               false,
               false,
               false,
               false,
               false,
               false,
               false,
               false,
               false,
               false,
               false,
               false,
               false,
               true,
               false,
               false,
               false,
               false,
               false,
               false,
               false,
               false,
               false,
               false,
               false,
               false,
               false,
               false,
               false,
               false,
               false,
               false,
               false,
               false,
               false,
               false,
               false,
               false
              ]
             },
             {
              "title": "Execution time — method: _create_train_X_y_series_is_dict_no_exog"
             }
            ],
            "label": "_create_train_X_y_series_is_dict_no_exog",
            "method": "update"
           },
           {
            "args": [
             {
              "visible": [
               false,
               false,
               false,
               true,
               true,
               true,
               false,
               false,
               false,
               false,
               false,
               false,
               false,
               false,
               false,
               false,
               false,
               false,
               false,
               false,
               false,
               false,
               false,
               false,
               false,
               false,
               false,
               false,
               false,
               false,
               false,
               false,
               false,
               false,
               false,
               false,
               false,
               false,
               false,
               false,
               false,
               false,
               false,
               false,
               false,
               false,
               false,
               false,
               false,
               false,
               false,
               false,
               false,
               false,
               false,
               false,
               true,
               false,
               false,
               false,
               false,
               false,
               false,
               false,
               false,
               false,
               false,
               false,
               false,
               false,
               false,
               false,
               false,
               false,
               false,
               false,
               false,
               false,
               false,
               false,
               false,
               true,
               false,
               false,
               false,
               false,
               false,
               false,
               false,
               false,
               false,
               false,
               false,
               false,
               false,
               false,
               false,
               false,
               false,
               false,
               false,
               false,
               false,
               false,
               false
              ]
             },
             {
              "title": "Execution time — method: _create_train_X_y_series_is_dict_exog_is_dict"
             }
            ],
            "label": "_create_train_X_y_series_is_dict_exog_is_dict",
            "method": "update"
           },
           {
            "args": [
             {
              "visible": [
               false,
               false,
               false,
               false,
               false,
               false,
               true,
               true,
               true,
               false,
               false,
               false,
               false,
               false,
               false,
               false,
               false,
               false,
               false,
               false,
               false,
               false,
               false,
               false,
               false,
               false,
               false,
               false,
               false,
               false,
               false,
               false,
               false,
               false,
               false,
               false,
               false,
               false,
               false,
               false,
               false,
               false,
               false,
               false,
               false,
               false,
               false,
               false,
               false,
               false,
               false,
               false,
               false,
               false,
               false,
               false,
               false,
               true,
               false,
               false,
               false,
               false,
               false,
               false,
               false,
               false,
               false,
               false,
               false,
               false,
               false,
               false,
               false,
               false,
               false,
               false,
               false,
               false,
               false,
               false,
               false,
               false,
               true,
               false,
               false,
               false,
               false,
               false,
               false,
               false,
               false,
               false,
               false,
               false,
               false,
               false,
               false,
               false,
               false,
               false,
               false,
               false,
               false,
               false,
               false
              ]
             },
             {
              "title": "Execution time — method: _create_train_X_y_series_is_dict_different_length_exog_is_dict"
             }
            ],
            "label": "_create_train_X_y_series_is_dict_different_length_exog_is_dict",
            "method": "update"
           },
           {
            "args": [
             {
              "visible": [
               false,
               false,
               false,
               false,
               false,
               false,
               false,
               false,
               false,
               true,
               false,
               false,
               false,
               false,
               false,
               false,
               false,
               false,
               false,
               false,
               false,
               false,
               false,
               false,
               false,
               false,
               false,
               false,
               false,
               false,
               false,
               false,
               false,
               false,
               false,
               false,
               false,
               false,
               false,
               false,
               false,
               false,
               false,
               false,
               false,
               false,
               false,
               false,
               false,
               false,
               false,
               false,
               false,
               false,
               false,
               false,
               false,
               false,
               true,
               false,
               false,
               false,
               false,
               false,
               false,
               false,
               false,
               false,
               false,
               false,
               false,
               false,
               false,
               false,
               false,
               false,
               false,
               false,
               false,
               false,
               false,
               false,
               false,
               true,
               false,
               false,
               false,
               false,
               false,
               false,
               false,
               false,
               false,
               false,
               false,
               false,
               false,
               false,
               false,
               false,
               false,
               false,
               false,
               false,
               false
              ]
             },
             {
              "title": "Execution time — method: _create_train_X_y_series_is_dict_exog_is_df_wide"
             }
            ],
            "label": "_create_train_X_y_series_is_dict_exog_is_df_wide",
            "method": "update"
           },
           {
            "args": [
             {
              "visible": [
               false,
               false,
               false,
               false,
               false,
               false,
               false,
               false,
               false,
               false,
               true,
               false,
               false,
               false,
               false,
               false,
               false,
               false,
               false,
               false,
               false,
               false,
               false,
               false,
               false,
               false,
               false,
               false,
               false,
               false,
               false,
               false,
               false,
               false,
               false,
               false,
               false,
               false,
               false,
               false,
               false,
               false,
               false,
               false,
               false,
               false,
               false,
               false,
               false,
               false,
               false,
               false,
               false,
               false,
               false,
               false,
               false,
               false,
               false,
               true,
               false,
               false,
               false,
               false,
               false,
               false,
               false,
               false,
               false,
               false,
               false,
               false,
               false,
               false,
               false,
               false,
               false,
               false,
               false,
               false,
               false,
               false,
               false,
               false,
               true,
               false,
               false,
               false,
               false,
               false,
               false,
               false,
               false,
               false,
               false,
               false,
               false,
               false,
               false,
               false,
               false,
               false,
               false,
               false,
               false
              ]
             },
             {
              "title": "Execution time — method: _create_train_X_y_series_is_df_long_no_exog"
             }
            ],
            "label": "_create_train_X_y_series_is_df_long_no_exog",
            "method": "update"
           },
           {
            "args": [
             {
              "visible": [
               false,
               false,
               false,
               false,
               false,
               false,
               false,
               false,
               false,
               false,
               false,
               true,
               false,
               false,
               false,
               false,
               false,
               false,
               false,
               false,
               false,
               false,
               false,
               false,
               false,
               false,
               false,
               false,
               false,
               false,
               false,
               false,
               false,
               false,
               false,
               false,
               false,
               false,
               false,
               false,
               false,
               false,
               false,
               false,
               false,
               false,
               false,
               false,
               false,
               false,
               false,
               false,
               false,
               false,
               false,
               false,
               false,
               false,
               false,
               false,
               true,
               false,
               false,
               false,
               false,
               false,
               false,
               false,
               false,
               false,
               false,
               false,
               false,
               false,
               false,
               false,
               false,
               false,
               false,
               false,
               false,
               false,
               false,
               false,
               false,
               true,
               false,
               false,
               false,
               false,
               false,
               false,
               false,
               false,
               false,
               false,
               false,
               false,
               false,
               false,
               false,
               false,
               false,
               false,
               false
              ]
             },
             {
              "title": "Execution time — method: _create_train_X_y_series_is_df_long_exog_is_df_long"
             }
            ],
            "label": "_create_train_X_y_series_is_df_long_exog_is_df_long",
            "method": "update"
           },
           {
            "args": [
             {
              "visible": [
               false,
               false,
               false,
               false,
               false,
               false,
               false,
               false,
               false,
               false,
               false,
               false,
               true,
               false,
               false,
               false,
               false,
               false,
               false,
               false,
               false,
               false,
               false,
               false,
               false,
               false,
               false,
               false,
               false,
               false,
               false,
               false,
               false,
               false,
               false,
               false,
               false,
               false,
               false,
               false,
               false,
               false,
               false,
               false,
               false,
               false,
               false,
               false,
               false,
               false,
               false,
               false,
               false,
               false,
               false,
               false,
               false,
               false,
               false,
               false,
               false,
               true,
               false,
               false,
               false,
               false,
               false,
               false,
               false,
               false,
               false,
               false,
               false,
               false,
               false,
               false,
               false,
               false,
               false,
               false,
               false,
               false,
               false,
               false,
               false,
               false,
               true,
               false,
               false,
               false,
               false,
               false,
               false,
               false,
               false,
               false,
               false,
               false,
               false,
               false,
               false,
               false,
               false,
               false,
               false
              ]
             },
             {
              "title": "Execution time — method: _create_train_X_y_series_is_df_long_exog_is_df_wide"
             }
            ],
            "label": "_create_train_X_y_series_is_df_long_exog_is_df_wide",
            "method": "update"
           },
           {
            "args": [
             {
              "visible": [
               false,
               false,
               false,
               false,
               false,
               false,
               false,
               false,
               false,
               false,
               false,
               false,
               false,
               true,
               true,
               true,
               false,
               false,
               false,
               false,
               false,
               false,
               false,
               false,
               false,
               false,
               false,
               false,
               false,
               false,
               false,
               false,
               false,
               false,
               false,
               false,
               false,
               false,
               false,
               false,
               false,
               false,
               false,
               false,
               false,
               false,
               false,
               false,
               false,
               false,
               false,
               false,
               false,
               false,
               false,
               false,
               false,
               false,
               false,
               false,
               false,
               false,
               true,
               false,
               false,
               false,
               false,
               false,
               false,
               false,
               false,
               false,
               false,
               false,
               false,
               false,
               false,
               false,
               false,
               false,
               false,
               false,
               false,
               false,
               false,
               false,
               false,
               true,
               false,
               false,
               false,
               false,
               false,
               false,
               false,
               false,
               false,
               false,
               false,
               false,
               false,
               false,
               false,
               false,
               false
              ]
             },
             {
              "title": "Execution time — method: _create_train_X_y_single_series"
             }
            ],
            "label": "_create_train_X_y_single_series",
            "method": "update"
           },
           {
            "args": [
             {
              "visible": [
               false,
               false,
               false,
               false,
               false,
               false,
               false,
               false,
               false,
               false,
               false,
               false,
               false,
               false,
               false,
               false,
               true,
               true,
               true,
               false,
               false,
               false,
               false,
               false,
               false,
               false,
               false,
               false,
               false,
               false,
               false,
               false,
               false,
               false,
               false,
               false,
               false,
               false,
               false,
               false,
               false,
               false,
               false,
               false,
               false,
               false,
               false,
               false,
               false,
               false,
               false,
               false,
               false,
               false,
               false,
               false,
               false,
               false,
               false,
               false,
               false,
               false,
               false,
               true,
               false,
               false,
               false,
               false,
               false,
               false,
               false,
               false,
               false,
               false,
               false,
               false,
               false,
               false,
               false,
               false,
               false,
               false,
               false,
               false,
               false,
               false,
               false,
               false,
               true,
               false,
               false,
               false,
               false,
               false,
               false,
               false,
               false,
               false,
               false,
               false,
               false,
               false,
               false,
               false,
               false
              ]
             },
             {
              "title": "Execution time — method: fit_series_is_dict_no_exog"
             }
            ],
            "label": "fit_series_is_dict_no_exog",
            "method": "update"
           },
           {
            "args": [
             {
              "visible": [
               false,
               false,
               false,
               false,
               false,
               false,
               false,
               false,
               false,
               false,
               false,
               false,
               false,
               false,
               false,
               false,
               false,
               false,
               false,
               true,
               true,
               true,
               false,
               false,
               false,
               false,
               false,
               false,
               false,
               false,
               false,
               false,
               false,
               false,
               false,
               false,
               false,
               false,
               false,
               false,
               false,
               false,
               false,
               false,
               false,
               false,
               false,
               false,
               false,
               false,
               false,
               false,
               false,
               false,
               false,
               false,
               false,
               false,
               false,
               false,
               false,
               false,
               false,
               false,
               true,
               false,
               false,
               false,
               false,
               false,
               false,
               false,
               false,
               false,
               false,
               false,
               false,
               false,
               false,
               false,
               false,
               false,
               false,
               false,
               false,
               false,
               false,
               false,
               false,
               true,
               false,
               false,
               false,
               false,
               false,
               false,
               false,
               false,
               false,
               false,
               false,
               false,
               false,
               false,
               false
              ]
             },
             {
              "title": "Execution time — method: fit_series_is_dict_exog_is_dict"
             }
            ],
            "label": "fit_series_is_dict_exog_is_dict",
            "method": "update"
           },
           {
            "args": [
             {
              "visible": [
               false,
               false,
               false,
               false,
               false,
               false,
               false,
               false,
               false,
               false,
               false,
               false,
               false,
               false,
               false,
               false,
               false,
               false,
               false,
               false,
               false,
               false,
               true,
               true,
               true,
               false,
               false,
               false,
               false,
               false,
               false,
               false,
               false,
               false,
               false,
               false,
               false,
               false,
               false,
               false,
               false,
               false,
               false,
               false,
               false,
               false,
               false,
               false,
               false,
               false,
               false,
               false,
               false,
               false,
               false,
               false,
               false,
               false,
               false,
               false,
               false,
               false,
               false,
               false,
               false,
               true,
               false,
               false,
               false,
               false,
               false,
               false,
               false,
               false,
               false,
               false,
               false,
               false,
               false,
               false,
               false,
               false,
               false,
               false,
               false,
               false,
               false,
               false,
               false,
               false,
               true,
               false,
               false,
               false,
               false,
               false,
               false,
               false,
               false,
               false,
               false,
               false,
               false,
               false,
               false
              ]
             },
             {
              "title": "Execution time — method: fit_series_is_dict_different_length_exog_is_dict"
             }
            ],
            "label": "fit_series_is_dict_different_length_exog_is_dict",
            "method": "update"
           },
           {
            "args": [
             {
              "visible": [
               false,
               false,
               false,
               false,
               false,
               false,
               false,
               false,
               false,
               false,
               false,
               false,
               false,
               false,
               false,
               false,
               false,
               false,
               false,
               false,
               false,
               false,
               false,
               false,
               false,
               true,
               false,
               false,
               false,
               false,
               false,
               false,
               false,
               false,
               false,
               false,
               false,
               false,
               false,
               false,
               false,
               false,
               false,
               false,
               false,
               false,
               false,
               false,
               false,
               false,
               false,
               false,
               false,
               false,
               false,
               false,
               false,
               false,
               false,
               false,
               false,
               false,
               false,
               false,
               false,
               false,
               true,
               false,
               false,
               false,
               false,
               false,
               false,
               false,
               false,
               false,
               false,
               false,
               false,
               false,
               false,
               false,
               false,
               false,
               false,
               false,
               false,
               false,
               false,
               false,
               false,
               true,
               false,
               false,
               false,
               false,
               false,
               false,
               false,
               false,
               false,
               false,
               false,
               false,
               false
              ]
             },
             {
              "title": "Execution time — method: fit_series_is_dataframe_no_exog"
             }
            ],
            "label": "fit_series_is_dataframe_no_exog",
            "method": "update"
           },
           {
            "args": [
             {
              "visible": [
               false,
               false,
               false,
               false,
               false,
               false,
               false,
               false,
               false,
               false,
               false,
               false,
               false,
               false,
               false,
               false,
               false,
               false,
               false,
               false,
               false,
               false,
               false,
               false,
               false,
               false,
               true,
               false,
               false,
               false,
               false,
               false,
               false,
               false,
               false,
               false,
               false,
               false,
               false,
               false,
               false,
               false,
               false,
               false,
               false,
               false,
               false,
               false,
               false,
               false,
               false,
               false,
               false,
               false,
               false,
               false,
               false,
               false,
               false,
               false,
               false,
               false,
               false,
               false,
               false,
               false,
               false,
               true,
               false,
               false,
               false,
               false,
               false,
               false,
               false,
               false,
               false,
               false,
               false,
               false,
               false,
               false,
               false,
               false,
               false,
               false,
               false,
               false,
               false,
               false,
               false,
               false,
               true,
               false,
               false,
               false,
               false,
               false,
               false,
               false,
               false,
               false,
               false,
               false,
               false
              ]
             },
             {
              "title": "Execution time — method: fit_series_is_dataframe_exog_is_dataframe"
             }
            ],
            "label": "fit_series_is_dataframe_exog_is_dataframe",
            "method": "update"
           },
           {
            "args": [
             {
              "visible": [
               false,
               false,
               false,
               false,
               false,
               false,
               false,
               false,
               false,
               false,
               false,
               false,
               false,
               false,
               false,
               false,
               false,
               false,
               false,
               false,
               false,
               false,
               false,
               false,
               false,
               false,
               false,
               true,
               false,
               false,
               false,
               false,
               false,
               false,
               false,
               false,
               false,
               false,
               false,
               false,
               false,
               false,
               false,
               false,
               false,
               false,
               false,
               false,
               false,
               false,
               false,
               false,
               false,
               false,
               false,
               false,
               false,
               false,
               false,
               false,
               false,
               false,
               false,
               false,
               false,
               false,
               false,
               false,
               true,
               false,
               false,
               false,
               false,
               false,
               false,
               false,
               false,
               false,
               false,
               false,
               false,
               false,
               false,
               false,
               false,
               false,
               false,
               false,
               false,
               false,
               false,
               false,
               false,
               true,
               false,
               false,
               false,
               false,
               false,
               false,
               false,
               false,
               false,
               false,
               false
              ]
             },
             {
              "title": "Execution time — method: fit_series_is_dataframe_exog_is_dict"
             }
            ],
            "label": "fit_series_is_dataframe_exog_is_dict",
            "method": "update"
           },
           {
            "args": [
             {
              "visible": [
               false,
               false,
               false,
               false,
               false,
               false,
               false,
               false,
               false,
               false,
               false,
               false,
               false,
               false,
               false,
               false,
               false,
               false,
               false,
               false,
               false,
               false,
               false,
               false,
               false,
               false,
               false,
               false,
               true,
               true,
               true,
               false,
               false,
               false,
               false,
               false,
               false,
               false,
               false,
               false,
               false,
               false,
               false,
               false,
               false,
               false,
               false,
               false,
               false,
               false,
               false,
               false,
               false,
               false,
               false,
               false,
               false,
               false,
               false,
               false,
               false,
               false,
               false,
               false,
               false,
               false,
               false,
               false,
               false,
               true,
               false,
               false,
               false,
               false,
               false,
               false,
               false,
               false,
               false,
               false,
               false,
               false,
               false,
               false,
               false,
               false,
               false,
               false,
               false,
               false,
               false,
               false,
               false,
               false,
               true,
               false,
               false,
               false,
               false,
               false,
               false,
               false,
               false,
               false,
               false
              ]
             },
             {
              "title": "Execution time — method: check_predict_inputs"
             }
            ],
            "label": "check_predict_inputs",
            "method": "update"
           },
           {
            "args": [
             {
              "visible": [
               false,
               false,
               false,
               false,
               false,
               false,
               false,
               false,
               false,
               false,
               false,
               false,
               false,
               false,
               false,
               false,
               false,
               false,
               false,
               false,
               false,
               false,
               false,
               false,
               false,
               false,
               false,
               false,
               false,
               false,
               false,
               true,
               true,
               true,
               false,
               false,
               false,
               false,
               false,
               false,
               false,
               false,
               false,
               false,
               false,
               false,
               false,
               false,
               false,
               false,
               false,
               false,
               false,
               false,
               false,
               false,
               false,
               false,
               false,
               false,
               false,
               false,
               false,
               false,
               false,
               false,
               false,
               false,
               false,
               false,
               true,
               false,
               false,
               false,
               false,
               false,
               false,
               false,
               false,
               false,
               false,
               false,
               false,
               false,
               false,
               false,
               false,
               false,
               false,
               false,
               false,
               false,
               false,
               false,
               false,
               true,
               false,
               false,
               false,
               false,
               false,
               false,
               false,
               false,
               false
              ]
             },
             {
              "title": "Execution time — method: _create_predict_inputs_exog_is_dict"
             }
            ],
            "label": "_create_predict_inputs_exog_is_dict",
            "method": "update"
           },
           {
            "args": [
             {
              "visible": [
               false,
               false,
               false,
               false,
               false,
               false,
               false,
               false,
               false,
               false,
               false,
               false,
               false,
               false,
               false,
               false,
               false,
               false,
               false,
               false,
               false,
               false,
               false,
               false,
               false,
               false,
               false,
               false,
               false,
               false,
               false,
               false,
               false,
               false,
               true,
               false,
               false,
               false,
               false,
               false,
               false,
               false,
               false,
               false,
               false,
               false,
               false,
               false,
               false,
               false,
               false,
               false,
               false,
               false,
               false,
               false,
               false,
               false,
               false,
               false,
               false,
               false,
               false,
               false,
               false,
               false,
               false,
               false,
               false,
               false,
               false,
               true,
               false,
               false,
               false,
               false,
               false,
               false,
               false,
               false,
               false,
               false,
               false,
               false,
               false,
               false,
               false,
               false,
               false,
               false,
               false,
               false,
               false,
               false,
               false,
               false,
               true,
               false,
               false,
               false,
               false,
               false,
               false,
               false,
               false
              ]
             },
             {
              "title": "Execution time — method: _create_predict_inputs_exog_is_df_long"
             }
            ],
            "label": "_create_predict_inputs_exog_is_df_long",
            "method": "update"
           },
           {
            "args": [
             {
              "visible": [
               false,
               false,
               false,
               false,
               false,
               false,
               false,
               false,
               false,
               false,
               false,
               false,
               false,
               false,
               false,
               false,
               false,
               false,
               false,
               false,
               false,
               false,
               false,
               false,
               false,
               false,
               false,
               false,
               false,
               false,
               false,
               false,
               false,
               false,
               false,
               true,
               false,
               false,
               false,
               false,
               false,
               false,
               false,
               false,
               false,
               false,
               false,
               false,
               false,
               false,
               false,
               false,
               false,
               false,
               false,
               false,
               false,
               false,
               false,
               false,
               false,
               false,
               false,
               false,
               false,
               false,
               false,
               false,
               false,
               false,
               false,
               false,
               true,
               false,
               false,
               false,
               false,
               false,
               false,
               false,
               false,
               false,
               false,
               false,
               false,
               false,
               false,
               false,
               false,
               false,
               false,
               false,
               false,
               false,
               false,
               false,
               false,
               true,
               false,
               false,
               false,
               false,
               false,
               false,
               false
              ]
             },
             {
              "title": "Execution time — method: _create_predict_inputs_exog_is_df_wide"
             }
            ],
            "label": "_create_predict_inputs_exog_is_df_wide",
            "method": "update"
           },
           {
            "args": [
             {
              "visible": [
               false,
               false,
               false,
               false,
               false,
               false,
               false,
               false,
               false,
               false,
               false,
               false,
               false,
               false,
               false,
               false,
               false,
               false,
               false,
               false,
               false,
               false,
               false,
               false,
               false,
               false,
               false,
               false,
               false,
               false,
               false,
               false,
               false,
               false,
               false,
               false,
               true,
               true,
               true,
               false,
               false,
               false,
               false,
               false,
               false,
               false,
               false,
               false,
               false,
               false,
               false,
               false,
               false,
               false,
               false,
               false,
               false,
               false,
               false,
               false,
               false,
               false,
               false,
               false,
               false,
               false,
               false,
               false,
               false,
               false,
               false,
               false,
               false,
               true,
               false,
               false,
               false,
               false,
               false,
               false,
               false,
               false,
               false,
               false,
               false,
               false,
               false,
               false,
               false,
               false,
               false,
               false,
               false,
               false,
               false,
               false,
               false,
               false,
               true,
               false,
               false,
               false,
               false,
               false,
               false
              ]
             },
             {
              "title": "Execution time — method: predict_exog_is_dict"
             }
            ],
            "label": "predict_exog_is_dict",
            "method": "update"
           },
           {
            "args": [
             {
              "visible": [
               false,
               false,
               false,
               false,
               false,
               false,
               false,
               false,
               false,
               false,
               false,
               false,
               false,
               false,
               false,
               false,
               false,
               false,
               false,
               false,
               false,
               false,
               false,
               false,
               false,
               false,
               false,
               false,
               false,
               false,
               false,
               false,
               false,
               false,
               false,
               false,
               false,
               false,
               false,
               true,
               false,
               false,
               false,
               false,
               false,
               false,
               false,
               false,
               false,
               false,
               false,
               false,
               false,
               false,
               false,
               false,
               false,
               false,
               false,
               false,
               false,
               false,
               false,
               false,
               false,
               false,
               false,
               false,
               false,
               false,
               false,
               false,
               false,
               false,
               true,
               false,
               false,
               false,
               false,
               false,
               false,
               false,
               false,
               false,
               false,
               false,
               false,
               false,
               false,
               false,
               false,
               false,
               false,
               false,
               false,
               false,
               false,
               false,
               false,
               true,
               false,
               false,
               false,
               false,
               false
              ]
             },
             {
              "title": "Execution time — method: predict_exog_is_df_long"
             }
            ],
            "label": "predict_exog_is_df_long",
            "method": "update"
           },
           {
            "args": [
             {
              "visible": [
               false,
               false,
               false,
               false,
               false,
               false,
               false,
               false,
               false,
               false,
               false,
               false,
               false,
               false,
               false,
               false,
               false,
               false,
               false,
               false,
               false,
               false,
               false,
               false,
               false,
               false,
               false,
               false,
               false,
               false,
               false,
               false,
               false,
               false,
               false,
               false,
               false,
               false,
               false,
               false,
               true,
               true,
               true,
               false,
               false,
               false,
               false,
               false,
               false,
               false,
               false,
               false,
               false,
               false,
               false,
               false,
               false,
               false,
               false,
               false,
               false,
               false,
               false,
               false,
               false,
               false,
               false,
               false,
               false,
               false,
               false,
               false,
               false,
               false,
               false,
               true,
               false,
               false,
               false,
               false,
               false,
               false,
               false,
               false,
               false,
               false,
               false,
               false,
               false,
               false,
               false,
               false,
               false,
               false,
               false,
               false,
               false,
               false,
               false,
               false,
               true,
               false,
               false,
               false,
               false
              ]
             },
             {
              "title": "Execution time — method: predict_interval_exog_is_dict_conformal"
             }
            ],
            "label": "predict_interval_exog_is_dict_conformal",
            "method": "update"
           },
           {
            "args": [
             {
              "visible": [
               false,
               false,
               false,
               false,
               false,
               false,
               false,
               false,
               false,
               false,
               false,
               false,
               false,
               false,
               false,
               false,
               false,
               false,
               false,
               false,
               false,
               false,
               false,
               false,
               false,
               false,
               false,
               false,
               false,
               false,
               false,
               false,
               false,
               false,
               false,
               false,
               false,
               false,
               false,
               false,
               false,
               false,
               false,
               true,
               true,
               true,
               false,
               false,
               false,
               false,
               false,
               false,
               false,
               false,
               false,
               false,
               false,
               false,
               false,
               false,
               false,
               false,
               false,
               false,
               false,
               false,
               false,
               false,
               false,
               false,
               false,
               false,
               false,
               false,
               false,
               false,
               true,
               false,
               false,
               false,
               false,
               false,
               false,
               false,
               false,
               false,
               false,
               false,
               false,
               false,
               false,
               false,
               false,
               false,
               false,
               false,
               false,
               false,
               false,
               false,
               false,
               true,
               false,
               false,
               false
              ]
             },
             {
              "title": "Execution time — method: backtesting_series_is_dict_no_exog"
             }
            ],
            "label": "backtesting_series_is_dict_no_exog",
            "method": "update"
           },
           {
            "args": [
             {
              "visible": [
               false,
               false,
               false,
               false,
               false,
               false,
               false,
               false,
               false,
               false,
               false,
               false,
               false,
               false,
               false,
               false,
               false,
               false,
               false,
               false,
               false,
               false,
               false,
               false,
               false,
               false,
               false,
               false,
               false,
               false,
               false,
               false,
               false,
               false,
               false,
               false,
               false,
               false,
               false,
               false,
               false,
               false,
               false,
               false,
               false,
               false,
               true,
               true,
               true,
               false,
               false,
               false,
               false,
               false,
               false,
               false,
               false,
               false,
               false,
               false,
               false,
               false,
               false,
               false,
               false,
               false,
               false,
               false,
               false,
               false,
               false,
               false,
               false,
               false,
               false,
               false,
               false,
               true,
               false,
               false,
               false,
               false,
               false,
               false,
               false,
               false,
               false,
               false,
               false,
               false,
               false,
               false,
               false,
               false,
               false,
               false,
               false,
               false,
               false,
               false,
               false,
               false,
               true,
               false,
               false
              ]
             },
             {
              "title": "Execution time — method: backtesting_series_is_dict_exog_is_dict"
             }
            ],
            "label": "backtesting_series_is_dict_exog_is_dict",
            "method": "update"
           },
           {
            "args": [
             {
              "visible": [
               false,
               false,
               false,
               false,
               false,
               false,
               false,
               false,
               false,
               false,
               false,
               false,
               false,
               false,
               false,
               false,
               false,
               false,
               false,
               false,
               false,
               false,
               false,
               false,
               false,
               false,
               false,
               false,
               false,
               false,
               false,
               false,
               false,
               false,
               false,
               false,
               false,
               false,
               false,
               false,
               false,
               false,
               false,
               false,
               false,
               false,
               false,
               false,
               false,
               true,
               true,
               true,
               false,
               false,
               false,
               false,
               false,
               false,
               false,
               false,
               false,
               false,
               false,
               false,
               false,
               false,
               false,
               false,
               false,
               false,
               false,
               false,
               false,
               false,
               false,
               false,
               false,
               false,
               true,
               false,
               false,
               false,
               false,
               false,
               false,
               false,
               false,
               false,
               false,
               false,
               false,
               false,
               false,
               false,
               false,
               false,
               false,
               false,
               false,
               false,
               false,
               false,
               false,
               true,
               false
              ]
             },
             {
              "title": "Execution time — method: backtesting_series_is_dict_no_exog_conformal"
             }
            ],
            "label": "backtesting_series_is_dict_no_exog_conformal",
            "method": "update"
           },
           {
            "args": [
             {
              "visible": [
               false,
               false,
               false,
               false,
               false,
               false,
               false,
               false,
               false,
               false,
               false,
               false,
               false,
               false,
               false,
               false,
               false,
               false,
               false,
               false,
               false,
               false,
               false,
               false,
               false,
               false,
               false,
               false,
               false,
               false,
               false,
               false,
               false,
               false,
               false,
               false,
               false,
               false,
               false,
               false,
               false,
               false,
               false,
               false,
               false,
               false,
               false,
               false,
               false,
               false,
               false,
               false,
               true,
               true,
               true,
               false,
               false,
               false,
               false,
               false,
               false,
               false,
               false,
               false,
               false,
               false,
               false,
               false,
               false,
               false,
               false,
               false,
               false,
               false,
               false,
               false,
               false,
               false,
               false,
               true,
               false,
               false,
               false,
               false,
               false,
               false,
               false,
               false,
               false,
               false,
               false,
               false,
               false,
               false,
               false,
               false,
               false,
               false,
               false,
               false,
               false,
               false,
               false,
               false,
               true
              ]
             },
             {
              "title": "Execution time — method: backtesting_series_is_dict_exog_dict_conformal"
             }
            ],
            "label": "backtesting_series_is_dict_exog_dict_conformal",
            "method": "update"
           }
          ],
          "direction": "down",
          "pad": {
           "r": 2,
           "t": 0
          },
          "showactive": true,
          "type": "dropdown",
          "x": 1,
          "xanchor": "right",
          "y": 1.03,
          "yanchor": "bottom"
         }
        ],
        "xaxis": {
         "automargin": true,
         "tickangle": 0,
         "tickmode": "array",
         "ticktext": [
          "0.15.1",
          "0.16.0",
          "0.17.0"
         ],
         "tickvals": [
          0,
          1,
          2
         ],
         "title": {
          "text": "skforecast version"
         }
        },
        "yaxis": {
         "automargin": true,
         "title": {
          "text": "Execution time (s)"
         }
        }
       }
      }
     },
     "metadata": {},
     "output_type": "display_data"
    }
   ],
   "source": [
    "# Plot benchmark results\n",
    "# ==============================================================================\n",
    "plot_benchmark_results(\n",
    "    results_benchmark_all,\n",
    "    forecaster_names = ['ForecasterRecursiveMultiSeries', 'ForecasterAutoregMultiSeries'],\n",
    "    regressors       = ['DummyRegressor'],\n",
    "    add_mean         = True,\n",
    "    add_median       = True\n",
    ")"
   ]
  },
  {
   "cell_type": "markdown",
   "metadata": {},
   "source": [
    "## ForecasterDirectMultiVariate\n",
    "\n",
    "The [`ForecasterDirectMultiVariate` class](https://skforecast.org/latest/user_guides/dependent-multi-series-multivariate-forecasting.html) is benchmarked under a fixed experimental setup to ensure fair comparison across library versions. Key conditions are:\n",
    "\n",
    "| Condition           | Value                                                                                          |\n",
    "|:--------------------|:-----------------------------------------------------------------------------------------------|\n",
    "| Regressor           | `sklearn.dummy.DummyRegressor` (to isolate forecaster overhead)                                |\n",
    "| Number of series    | 13 time series                                                                                 |\n",
    "| Dataset length      | 1000 synthetic observations (generated with `bench_forecaster_direct_multivariate._make_data`) |\n",
    "| Lags as predictors  | 20                                                                                             |\n",
    "| Exogenous features  | 3                                                                                              |\n",
    "| Data transformation | `StandardScaler()` for time series features and exogenous variables                            |\n",
    "| Prediction horizon  | 10 steps ahead (10 regressors)                                                                 |\n",
    "| Backtesting split   | 900 training, remaining for testing, step size = 10, no re-fitting (see [guide](https://skforecast.org/latest/user_guides/backtesting.html)) |\n",
    "\n",
    "**Note:** In versions `< 0.14.0`, `ForecasterDirectMultiVariate` was named `ForecasterAutoregMultiVariate`.  "
   ]
  },
  {
   "cell_type": "code",
   "execution_count": 21,
   "metadata": {},
   "outputs": [
    {
     "data": {
      "application/vnd.plotly.v1+json": {
       "config": {
        "plotlyServerURL": "https://plot.ly"
       },
       "data": [
        {
         "error_y": {
          "array": {
           "bdata": "BHx0jJFKJT/6lxpFBQFDPxtg7GyVLjI/XpxPyly4Mj8=",
           "dtype": "f8"
          },
          "color": "#636EFA",
          "thickness": 1.5,
          "type": "data",
          "visible": true,
          "width": 5
         },
         "hovertemplate": "%{text}<extra></extra>",
         "marker": {
          "color": "#636EFA",
          "line": {
           "color": "white",
           "width": 1
          },
          "opacity": 0.85,
          "size": 10
         },
         "mode": "markers",
         "text": [
          "Forecaster: ForecasterDirectMultiVariate<br>Regressor: DummyRegressor<br>Function: ForecasterDirectMultiVariate__create_train_X_y<br>Function_hash: 376309f7138e749dc0a50d758cde50bb<br>Method: _create_train_X_y<br>Datetime: 2025-08-26 09:26:41.839716<br>Python version: 3.12.11<br>skforecast version: 0.15.1<br>numpy version: 2.1.3<br>pandas version: 2.3.2<br>sklearn version: 1.6.1<br>lightgbm version: 4.6.0<br>Platform: Linux-6.11.0-1018-azure-x86_64-with-glibc2.39<br>Processor: x86_64<br>CPU count: 4<br>Memory (GB): 16.77<br>Run time avg: 0.026547 s<br>Run time median: 0.026550 s<br>Run time p95: 0.026786 s<br>Run time std: 0.000162 s<br>Nº repeats: 10",
          "Forecaster: ForecasterDirectMultiVariate<br>Regressor: DummyRegressor<br>Function: ForecasterDirectMultiVariate__create_train_X_y<br>Function_hash: 376309f7138e749dc0a50d758cde50bb<br>Method: _create_train_X_y<br>Datetime: 2025-08-26 09:43:01.191103<br>Python version: 3.12.11<br>skforecast version: 0.15.1<br>numpy version: 2.1.3<br>pandas version: 2.3.2<br>sklearn version: 1.6.1<br>lightgbm version: 4.6.0<br>Platform: Linux-6.11.0-1018-azure-x86_64-with-glibc2.39<br>Processor: x86_64<br>CPU count: 4<br>Memory (GB): 16.77<br>Run time avg: 0.027182 s<br>Run time median: 0.027153 s<br>Run time p95: 0.028190 s<br>Run time std: 0.000580 s<br>Nº repeats: 10",
          "Forecaster: ForecasterDirectMultiVariate<br>Regressor: DummyRegressor<br>Function: ForecasterDirectMultiVariate__create_train_X_y<br>Function_hash: 376309f7138e749dc0a50d758cde50bb<br>Method: _create_train_X_y<br>Datetime: 2025-08-26 09:55:41.982980<br>Python version: 3.12.11<br>skforecast version: 0.15.1<br>numpy version: 2.1.3<br>pandas version: 2.3.2<br>sklearn version: 1.6.1<br>lightgbm version: 4.6.0<br>Platform: Linux-6.11.0-1018-azure-x86_64-with-glibc2.39<br>Processor: x86_64<br>CPU count: 4<br>Memory (GB): 16.77<br>Run time avg: 0.026615 s<br>Run time median: 0.026531 s<br>Run time p95: 0.027122 s<br>Run time std: 0.000277 s<br>Nº repeats: 10",
          "Forecaster: ForecasterDirectMultiVariate<br>Regressor: DummyRegressor<br>Function: ForecasterDirectMultiVariate__create_train_X_y<br>Function_hash: 376309f7138e749dc0a50d758cde50bb<br>Method: _create_train_X_y<br>Datetime: 2025-08-26 10:19:12.403473<br>Python version: 3.12.11<br>skforecast version: 0.15.1<br>numpy version: 2.1.3<br>pandas version: 2.3.2<br>sklearn version: 1.6.1<br>lightgbm version: 4.6.0<br>Platform: Linux-6.11.0-1018-azure-x86_64-with-glibc2.39<br>Processor: x86_64<br>CPU count: 4<br>Memory (GB): 16.77<br>Run time avg: 0.026136 s<br>Run time median: 0.026017 s<br>Run time p95: 0.026611 s<br>Run time std: 0.000286 s<br>Nº repeats: 10"
         ],
         "type": "scatter",
         "visible": true,
         "x": {
          "bdata": "mDwDuMJipz/NZpsEwsOYvxblQeJAjZC/GMKAMX68qD8=",
          "dtype": "f8"
         },
         "y": {
          "bdata": "zQxz8UAvmz/NDNlxhtWbP83McuUTQZs/M/MeLVzDmj8=",
          "dtype": "f8"
         }
        },
        {
         "error_y": {
          "array": {
           "bdata": "83IBXA+RMT+NwrX804YwP8A6ebSQrys/WI33HyB6OD8=",
           "dtype": "f8"
          },
          "color": "#EF553B",
          "thickness": 1.5,
          "type": "data",
          "visible": true,
          "width": 5
         },
         "hovertemplate": "%{text}<extra></extra>",
         "marker": {
          "color": "#EF553B",
          "line": {
           "color": "white",
           "width": 1
          },
          "opacity": 0.85,
          "size": 10
         },
         "mode": "markers",
         "text": [
          "Forecaster: ForecasterDirectMultiVariate<br>Regressor: DummyRegressor<br>Function: ForecasterDirectMultiVariate__create_train_X_y<br>Function_hash: 376309f7138e749dc0a50d758cde50bb<br>Method: _create_train_X_y<br>Datetime: 2025-08-26 08:37:18.965668<br>Python version: 3.12.11<br>skforecast version: 0.16.0<br>numpy version: 2.1.3<br>pandas version: 2.3.2<br>sklearn version: 1.6.1<br>lightgbm version: 4.6.0<br>Platform: Linux-6.11.0-1018-azure-x86_64-with-glibc2.39<br>Processor: x86_64<br>CPU count: 4<br>Memory (GB): 16.77<br>Run time avg: 0.010404 s<br>Run time median: 0.010324 s<br>Run time p95: 0.010852 s<br>Run time std: 0.000268 s<br>Nº repeats: 10",
          "Forecaster: ForecasterDirectMultiVariate<br>Regressor: DummyRegressor<br>Function: ForecasterDirectMultiVariate__create_train_X_y<br>Function_hash: 376309f7138e749dc0a50d758cde50bb<br>Method: _create_train_X_y<br>Datetime: 2025-08-26 08:47:00.589489<br>Python version: 3.12.11<br>skforecast version: 0.16.0<br>numpy version: 2.1.3<br>pandas version: 2.3.2<br>sklearn version: 1.6.1<br>lightgbm version: 4.6.0<br>Platform: Linux-6.11.0-1018-azure-x86_64-with-glibc2.39<br>Processor: x86_64<br>CPU count: 4<br>Memory (GB): 16.77<br>Run time avg: 0.010188 s<br>Run time median: 0.010121 s<br>Run time p95: 0.010594 s<br>Run time std: 0.000252 s<br>Nº repeats: 10",
          "Forecaster: ForecasterDirectMultiVariate<br>Regressor: DummyRegressor<br>Function: ForecasterDirectMultiVariate__create_train_X_y<br>Function_hash: 376309f7138e749dc0a50d758cde50bb<br>Method: _create_train_X_y<br>Datetime: 2025-08-26 09:01:18.032310<br>Python version: 3.12.11<br>skforecast version: 0.16.0<br>numpy version: 2.1.3<br>pandas version: 2.3.2<br>sklearn version: 1.6.1<br>lightgbm version: 4.6.0<br>Platform: Linux-6.11.0-1018-azure-x86_64-with-glibc2.39<br>Processor: x86_64<br>CPU count: 4<br>Memory (GB): 16.77<br>Run time avg: 0.010336 s<br>Run time median: 0.010270 s<br>Run time p95: 0.010695 s<br>Run time std: 0.000211 s<br>Nº repeats: 10",
          "Forecaster: ForecasterDirectMultiVariate<br>Regressor: DummyRegressor<br>Function: ForecasterDirectMultiVariate__create_train_X_y<br>Function_hash: 376309f7138e749dc0a50d758cde50bb<br>Method: _create_train_X_y<br>Datetime: 2025-08-26 09:11:56.226489<br>Python version: 3.12.11<br>skforecast version: 0.16.0<br>numpy version: 2.1.3<br>pandas version: 2.3.2<br>sklearn version: 1.6.1<br>lightgbm version: 4.6.0<br>Platform: Linux-6.11.0-1018-azure-x86_64-with-glibc2.39<br>Processor: x86_64<br>CPU count: 4<br>Memory (GB): 16.77<br>Run time avg: 0.010501 s<br>Run time median: 0.010354 s<br>Run time p95: 0.011152 s<br>Run time std: 0.000373 s<br>Nº repeats: 10"
         ],
         "type": "scatter",
         "visible": true,
         "x": {
          "bdata": "8r2hmOUl8D+vXbpi5djvP6LIClrxWPA/SL8jvmMn8D8=",
          "dtype": "f8"
         },
         "y": {
          "bdata": "zczCo5xOhT+aGRcFXd2EP83MNrNKK4U/ZuYG87KBhT8=",
          "dtype": "f8"
         }
        },
        {
         "error_y": {
          "array": {
           "bdata": "3CJieV9OLj++QBL2KJQxPwn+0Mjjayk/XnGALkb0Mj8pyjsf4Z0sPw==",
           "dtype": "f8"
          },
          "color": "#00CC96",
          "thickness": 1.5,
          "type": "data",
          "visible": true,
          "width": 5
         },
         "hovertemplate": "%{text}<extra></extra>",
         "marker": {
          "color": "#00CC96",
          "line": {
           "color": "white",
           "width": 1
          },
          "opacity": 0.85,
          "size": 10
         },
         "mode": "markers",
         "text": [
          "Forecaster: ForecasterDirectMultiVariate<br>Regressor: DummyRegressor<br>Function: ForecasterDirectMultiVariate__create_train_X_y<br>Function_hash: 376309f7138e749dc0a50d758cde50bb<br>Method: _create_train_X_y<br>Datetime: 2025-08-26 07:07:52.224913<br>Python version: 3.12.11<br>skforecast version: 0.17.0<br>numpy version: 2.1.3<br>pandas version: 2.3.2<br>sklearn version: 1.6.1<br>lightgbm version: 4.6.0<br>Platform: Linux-6.11.0-1018-azure-x86_64-with-glibc2.39<br>Processor: x86_64<br>CPU count: 4<br>Memory (GB): 16.77<br>Run time avg: 0.009929 s<br>Run time median: 0.009842 s<br>Run time p95: 0.010310 s<br>Run time std: 0.000231 s<br>Nº repeats: 10",
          "Forecaster: ForecasterDirectMultiVariate<br>Regressor: DummyRegressor<br>Function: ForecasterDirectMultiVariate__create_train_X_y<br>Function_hash: 376309f7138e749dc0a50d758cde50bb<br>Method: _create_train_X_y<br>Datetime: 2025-08-26 07:20:52.244277<br>Python version: 3.12.11<br>skforecast version: 0.17.0<br>numpy version: 2.1.3<br>pandas version: 2.3.2<br>sklearn version: 1.6.1<br>lightgbm version: 4.6.0<br>Platform: Linux-6.11.0-1018-azure-x86_64-with-glibc2.39<br>Processor: x86_64<br>CPU count: 4<br>Memory (GB): 16.77<br>Run time avg: 0.010068 s<br>Run time median: 0.009979 s<br>Run time p95: 0.010517 s<br>Run time std: 0.000268 s<br>Nº repeats: 10",
          "Forecaster: ForecasterDirectMultiVariate<br>Regressor: DummyRegressor<br>Function: ForecasterDirectMultiVariate__create_train_X_y<br>Function_hash: 376309f7138e749dc0a50d758cde50bb<br>Method: _create_train_X_y<br>Datetime: 2025-08-26 07:39:18.964025<br>Python version: 3.12.11<br>skforecast version: 0.17.0<br>numpy version: 2.1.3<br>pandas version: 2.3.2<br>sklearn version: 1.6.1<br>lightgbm version: 4.6.0<br>Platform: Linux-6.11.0-1018-azure-x86_64-with-glibc2.39<br>Processor: x86_64<br>CPU count: 4<br>Memory (GB): 16.77<br>Run time avg: 0.010345 s<br>Run time median: 0.010280 s<br>Run time p95: 0.010677 s<br>Run time std: 0.000194 s<br>Nº repeats: 10",
          "Forecaster: ForecasterDirectMultiVariate<br>Regressor: DummyRegressor<br>Function: ForecasterDirectMultiVariate__create_train_X_y<br>Function_hash: 376309f7138e749dc0a50d758cde50bb<br>Method: _create_train_X_y<br>Datetime: 2025-08-26 07:52:03.562136<br>Python version: 3.12.11<br>skforecast version: 0.17.0<br>numpy version: 2.1.3<br>pandas version: 2.3.2<br>sklearn version: 1.6.1<br>lightgbm version: 4.6.0<br>Platform: Linux-6.11.0-1018-azure-x86_64-with-glibc2.39<br>Processor: x86_64<br>CPU count: 4<br>Memory (GB): 16.77<br>Run time avg: 0.009920 s<br>Run time median: 0.009795 s<br>Run time p95: 0.010394 s<br>Run time std: 0.000289 s<br>Nº repeats: 10",
          "Forecaster: ForecasterDirectMultiVariate<br>Regressor: DummyRegressor<br>Function: ForecasterDirectMultiVariate__create_train_X_y<br>Function_hash: 376309f7138e749dc0a50d758cde50bb<br>Method: _create_train_X_y<br>Datetime: 2025-08-26 08:17:59.156434<br>Python version: 3.12.11<br>skforecast version: 0.17.0<br>numpy version: 2.1.3<br>pandas version: 2.3.2<br>sklearn version: 1.6.1<br>lightgbm version: 4.6.0<br>Platform: Linux-6.11.0-1018-azure-x86_64-with-glibc2.39<br>Processor: x86_64<br>CPU count: 4<br>Memory (GB): 16.77<br>Run time avg: 0.010139 s<br>Run time median: 0.010076 s<br>Run time p95: 0.010504 s<br>Run time std: 0.000218 s<br>Nº repeats: 10"
         ],
         "type": "scatter",
         "visible": true,
         "x": {
          "bdata": "nNHDKQ5K/z8JesGCjn//P3BCVaeUff8/1HWq7bNMAED/ZZO9VV//Pw==",
          "dtype": "f8"
         },
         "y": {
          "bdata": "MzMRL6ZVhD9m5kdzv56EP2bmwum/L4U/ZmZYneBQhD8zM4ei68OEPw==",
          "dtype": "f8"
         }
        },
        {
         "error_y": {
          "array": {
           "bdata": "yu6/OoLsIz+GoU6qUoAvP7hwrxCu3CM/kNkK5Z4FIz8=",
           "dtype": "f8"
          },
          "color": "#636EFA",
          "thickness": 1.5,
          "type": "data",
          "visible": true,
          "width": 5
         },
         "hovertemplate": "%{text}<extra></extra>",
         "marker": {
          "color": "#636EFA",
          "line": {
           "color": "white",
           "width": 1
          },
          "opacity": 0.85,
          "size": 10
         },
         "mode": "markers",
         "text": [
          "Forecaster: ForecasterDirectMultiVariate<br>Regressor: DummyRegressor<br>Function: ForecasterDirectMultiVariate__create_train_X_y_no_exog<br>Function_hash: b372eea4a4311f51ded53db33ae6294f<br>Method: _create_train_X_y_no_exog<br>Datetime: 2025-08-26 09:26:42.085403<br>Python version: 3.12.11<br>skforecast version: 0.15.1<br>numpy version: 2.1.3<br>pandas version: 2.3.2<br>sklearn version: 1.6.1<br>lightgbm version: 4.6.0<br>Platform: Linux-6.11.0-1018-azure-x86_64-with-glibc2.39<br>Processor: x86_64<br>CPU count: 4<br>Memory (GB): 16.77<br>Run time avg: 0.024022 s<br>Run time median: 0.023998 s<br>Run time p95: 0.024245 s<br>Run time std: 0.000152 s<br>Nº repeats: 10",
          "Forecaster: ForecasterDirectMultiVariate<br>Regressor: DummyRegressor<br>Function: ForecasterDirectMultiVariate__create_train_X_y_no_exog<br>Function_hash: b372eea4a4311f51ded53db33ae6294f<br>Method: _create_train_X_y_no_exog<br>Datetime: 2025-08-26 09:43:01.437200<br>Python version: 3.12.11<br>skforecast version: 0.15.1<br>numpy version: 2.1.3<br>pandas version: 2.3.2<br>sklearn version: 1.6.1<br>lightgbm version: 4.6.0<br>Platform: Linux-6.11.0-1018-azure-x86_64-with-glibc2.39<br>Processor: x86_64<br>CPU count: 4<br>Memory (GB): 16.77<br>Run time avg: 0.024072 s<br>Run time median: 0.024119 s<br>Run time p95: 0.024392 s<br>Run time std: 0.000240 s<br>Nº repeats: 10",
          "Forecaster: ForecasterDirectMultiVariate<br>Regressor: DummyRegressor<br>Function: ForecasterDirectMultiVariate__create_train_X_y_no_exog<br>Function_hash: b372eea4a4311f51ded53db33ae6294f<br>Method: _create_train_X_y_no_exog<br>Datetime: 2025-08-26 09:55:42.228907<br>Python version: 3.12.11<br>skforecast version: 0.15.1<br>numpy version: 2.1.3<br>pandas version: 2.3.2<br>sklearn version: 1.6.1<br>lightgbm version: 4.6.0<br>Platform: Linux-6.11.0-1018-azure-x86_64-with-glibc2.39<br>Processor: x86_64<br>CPU count: 4<br>Memory (GB): 16.77<br>Run time avg: 0.024046 s<br>Run time median: 0.024047 s<br>Run time p95: 0.024281 s<br>Run time std: 0.000152 s<br>Nº repeats: 10",
          "Forecaster: ForecasterDirectMultiVariate<br>Regressor: DummyRegressor<br>Function: ForecasterDirectMultiVariate__create_train_X_y_no_exog<br>Function_hash: b372eea4a4311f51ded53db33ae6294f<br>Method: _create_train_X_y_no_exog<br>Datetime: 2025-08-26 10:19:12.645655<br>Python version: 3.12.11<br>skforecast version: 0.15.1<br>numpy version: 2.1.3<br>pandas version: 2.3.2<br>sklearn version: 1.6.1<br>lightgbm version: 4.6.0<br>Platform: Linux-6.11.0-1018-azure-x86_64-with-glibc2.39<br>Processor: x86_64<br>CPU count: 4<br>Memory (GB): 16.77<br>Run time avg: 0.023687 s<br>Run time median: 0.023624 s<br>Run time p95: 0.023926 s<br>Run time std: 0.000145 s<br>Nº repeats: 10"
         ],
         "type": "scatter",
         "visible": false,
         "x": {
          "bdata": "3NzdljmHqD//cVQVxqaiv4CxEyJ2/Xc/cIxH1ISZdL8=",
          "dtype": "f8"
         },
         "y": {
          "bdata": "zQytRlqZmD+a2bC6S6aYP5oZ0I+Nn5g/zYwbk2NBmD8=",
          "dtype": "f8"
         }
        },
        {
         "error_y": {
          "array": {
           "bdata": "Ki08uOEfIT/QtayrnAkTP9c5m4I1xhw/RjmVCz43Iz8=",
           "dtype": "f8"
          },
          "color": "#EF553B",
          "thickness": 1.5,
          "type": "data",
          "visible": true,
          "width": 5
         },
         "hovertemplate": "%{text}<extra></extra>",
         "marker": {
          "color": "#EF553B",
          "line": {
           "color": "white",
           "width": 1
          },
          "opacity": 0.85,
          "size": 10
         },
         "mode": "markers",
         "text": [
          "Forecaster: ForecasterDirectMultiVariate<br>Regressor: DummyRegressor<br>Function: ForecasterDirectMultiVariate__create_train_X_y_no_exog<br>Function_hash: b372eea4a4311f51ded53db33ae6294f<br>Method: _create_train_X_y_no_exog<br>Datetime: 2025-08-26 08:37:19.048220<br>Python version: 3.12.11<br>skforecast version: 0.16.0<br>numpy version: 2.1.3<br>pandas version: 2.3.2<br>sklearn version: 1.6.1<br>lightgbm version: 4.6.0<br>Platform: Linux-6.11.0-1018-azure-x86_64-with-glibc2.39<br>Processor: x86_64<br>CPU count: 4<br>Memory (GB): 16.77<br>Run time avg: 0.007799 s<br>Run time median: 0.007770 s<br>Run time p95: 0.008014 s<br>Run time std: 0.000131 s<br>Nº repeats: 10",
          "Forecaster: ForecasterDirectMultiVariate<br>Regressor: DummyRegressor<br>Function: ForecasterDirectMultiVariate__create_train_X_y_no_exog<br>Function_hash: b372eea4a4311f51ded53db33ae6294f<br>Method: _create_train_X_y_no_exog<br>Datetime: 2025-08-26 08:47:00.670791<br>Python version: 3.12.11<br>skforecast version: 0.16.0<br>numpy version: 2.1.3<br>pandas version: 2.3.2<br>sklearn version: 1.6.1<br>lightgbm version: 4.6.0<br>Platform: Linux-6.11.0-1018-azure-x86_64-with-glibc2.39<br>Processor: x86_64<br>CPU count: 4<br>Memory (GB): 16.77<br>Run time avg: 0.007688 s<br>Run time median: 0.007677 s<br>Run time p95: 0.007817 s<br>Run time std: 0.000073 s<br>Nº repeats: 10",
          "Forecaster: ForecasterDirectMultiVariate<br>Regressor: DummyRegressor<br>Function: ForecasterDirectMultiVariate__create_train_X_y_no_exog<br>Function_hash: b372eea4a4311f51ded53db33ae6294f<br>Method: _create_train_X_y_no_exog<br>Datetime: 2025-08-26 09:01:18.114811<br>Python version: 3.12.11<br>skforecast version: 0.16.0<br>numpy version: 2.1.3<br>pandas version: 2.3.2<br>sklearn version: 1.6.1<br>lightgbm version: 4.6.0<br>Platform: Linux-6.11.0-1018-azure-x86_64-with-glibc2.39<br>Processor: x86_64<br>CPU count: 4<br>Memory (GB): 16.77<br>Run time avg: 0.007815 s<br>Run time median: 0.007792 s<br>Run time p95: 0.007998 s<br>Run time std: 0.000110 s<br>Nº repeats: 10",
          "Forecaster: ForecasterDirectMultiVariate<br>Regressor: DummyRegressor<br>Function: ForecasterDirectMultiVariate__create_train_X_y_no_exog<br>Function_hash: b372eea4a4311f51ded53db33ae6294f<br>Method: _create_train_X_y_no_exog<br>Datetime: 2025-08-26 09:11:56.310604<br>Python version: 3.12.11<br>skforecast version: 0.16.0<br>numpy version: 2.1.3<br>pandas version: 2.3.2<br>sklearn version: 1.6.1<br>lightgbm version: 4.6.0<br>Platform: Linux-6.11.0-1018-azure-x86_64-with-glibc2.39<br>Processor: x86_64<br>CPU count: 4<br>Memory (GB): 16.77<br>Run time avg: 0.007909 s<br>Run time median: 0.007854 s<br>Run time p95: 0.008196 s<br>Run time std: 0.000147 s<br>Nº repeats: 10"
         ],
         "type": "scatter",
         "visible": false,
         "x": {
          "bdata": "7RQxuXkc8D9vbj1VZVTwP6k+f6MdkO8/aAPxmD6V7z8=",
          "dtype": "f8"
         },
         "y": {
          "bdata": "ZmYmgKzxfz8zMwww031/P83MzKAlAYA/AIDnooUygD8=",
          "dtype": "f8"
         }
        },
        {
         "error_y": {
          "array": {
           "bdata": "TfIUadWuFD8RDk0LYW8oPwEFaZHFHiI/unV2Dv+tHT+pPij7KMUVPw==",
           "dtype": "f8"
          },
          "color": "#00CC96",
          "thickness": 1.5,
          "type": "data",
          "visible": true,
          "width": 5
         },
         "hovertemplate": "%{text}<extra></extra>",
         "marker": {
          "color": "#00CC96",
          "line": {
           "color": "white",
           "width": 1
          },
          "opacity": 0.85,
          "size": 10
         },
         "mode": "markers",
         "text": [
          "Forecaster: ForecasterDirectMultiVariate<br>Regressor: DummyRegressor<br>Function: ForecasterDirectMultiVariate__create_train_X_y_no_exog<br>Function_hash: b372eea4a4311f51ded53db33ae6294f<br>Method: _create_train_X_y_no_exog<br>Datetime: 2025-08-26 07:07:52.302326<br>Python version: 3.12.11<br>skforecast version: 0.17.0<br>numpy version: 2.1.3<br>pandas version: 2.3.2<br>sklearn version: 1.6.1<br>lightgbm version: 4.6.0<br>Platform: Linux-6.11.0-1018-azure-x86_64-with-glibc2.39<br>Processor: x86_64<br>CPU count: 4<br>Memory (GB): 16.77<br>Run time avg: 0.007361 s<br>Run time median: 0.007338 s<br>Run time p95: 0.007488 s<br>Run time std: 0.000079 s<br>Nº repeats: 10",
          "Forecaster: ForecasterDirectMultiVariate<br>Regressor: DummyRegressor<br>Function: ForecasterDirectMultiVariate__create_train_X_y_no_exog<br>Function_hash: b372eea4a4311f51ded53db33ae6294f<br>Method: _create_train_X_y_no_exog<br>Datetime: 2025-08-26 07:20:52.323277<br>Python version: 3.12.11<br>skforecast version: 0.17.0<br>numpy version: 2.1.3<br>pandas version: 2.3.2<br>sklearn version: 1.6.1<br>lightgbm version: 4.6.0<br>Platform: Linux-6.11.0-1018-azure-x86_64-with-glibc2.39<br>Processor: x86_64<br>CPU count: 4<br>Memory (GB): 16.77<br>Run time avg: 0.007508 s<br>Run time median: 0.007473 s<br>Run time p95: 0.007802 s<br>Run time std: 0.000186 s<br>Nº repeats: 10",
          "Forecaster: ForecasterDirectMultiVariate<br>Regressor: DummyRegressor<br>Function: ForecasterDirectMultiVariate__create_train_X_y_no_exog<br>Function_hash: b372eea4a4311f51ded53db33ae6294f<br>Method: _create_train_X_y_no_exog<br>Datetime: 2025-08-26 07:39:19.045154<br>Python version: 3.12.11<br>skforecast version: 0.17.0<br>numpy version: 2.1.3<br>pandas version: 2.3.2<br>sklearn version: 1.6.1<br>lightgbm version: 4.6.0<br>Platform: Linux-6.11.0-1018-azure-x86_64-with-glibc2.39<br>Processor: x86_64<br>CPU count: 4<br>Memory (GB): 16.77<br>Run time avg: 0.007657 s<br>Run time median: 0.007624 s<br>Run time p95: 0.007865 s<br>Run time std: 0.000138 s<br>Nº repeats: 10",
          "Forecaster: ForecasterDirectMultiVariate<br>Regressor: DummyRegressor<br>Function: ForecasterDirectMultiVariate__create_train_X_y_no_exog<br>Function_hash: b372eea4a4311f51ded53db33ae6294f<br>Method: _create_train_X_y_no_exog<br>Datetime: 2025-08-26 07:52:03.640411<br>Python version: 3.12.11<br>skforecast version: 0.17.0<br>numpy version: 2.1.3<br>pandas version: 2.3.2<br>sklearn version: 1.6.1<br>lightgbm version: 4.6.0<br>Platform: Linux-6.11.0-1018-azure-x86_64-with-glibc2.39<br>Processor: x86_64<br>CPU count: 4<br>Memory (GB): 16.77<br>Run time avg: 0.007383 s<br>Run time median: 0.007354 s<br>Run time p95: 0.007570 s<br>Run time std: 0.000113 s<br>Nº repeats: 10",
          "Forecaster: ForecasterDirectMultiVariate<br>Regressor: DummyRegressor<br>Function: ForecasterDirectMultiVariate__create_train_X_y_no_exog<br>Function_hash: b372eea4a4311f51ded53db33ae6294f<br>Method: _create_train_X_y_no_exog<br>Datetime: 2025-08-26 08:17:59.235936<br>Python version: 3.12.11<br>skforecast version: 0.17.0<br>numpy version: 2.1.3<br>pandas version: 2.3.2<br>sklearn version: 1.6.1<br>lightgbm version: 4.6.0<br>Platform: Linux-6.11.0-1018-azure-x86_64-with-glibc2.39<br>Processor: x86_64<br>CPU count: 4<br>Memory (GB): 16.77<br>Run time avg: 0.007497 s<br>Run time median: 0.007462 s<br>Run time p95: 0.007641 s<br>Run time std: 0.000083 s<br>Nº repeats: 10"
         ],
         "type": "scatter",
         "visible": false,
         "x": {
          "bdata": "0ZJSK8UYAEA79MTR783/PyLNSHZTIABAB4f2UcfZ/z9oHi6ZbBsAQA==",
          "dtype": "f8"
         },
         "y": {
          "bdata": "zcwwmUsmfj9mZmhNE8F+P2Zm83bEXH8/Zmb0vQs+fj8AAFp307R+Pw==",
          "dtype": "f8"
         }
        },
        {
         "error_y": {
          "array": {
           "bdata": "2RrK6RVZMT/lFSY11mYgP3aFvf4wFD4/oHd4A+H2Kz8=",
           "dtype": "f8"
          },
          "color": "#636EFA",
          "thickness": 1.5,
          "type": "data",
          "visible": true,
          "width": 5
         },
         "hovertemplate": "%{text}<extra></extra>",
         "marker": {
          "color": "#636EFA",
          "line": {
           "color": "white",
           "width": 1
          },
          "opacity": 0.85,
          "size": 10
         },
         "mode": "markers",
         "text": [
          "Forecaster: ForecasterDirectMultiVariate<br>Regressor: DummyRegressor<br>Function: ForecasterDirectMultiVariate_fit<br>Function_hash: 47471f487e0e7d61036a1954e2805bab<br>Method: fit<br>Datetime: 2025-08-26 09:26:42.273584<br>Python version: 3.12.11<br>skforecast version: 0.15.1<br>numpy version: 2.1.3<br>pandas version: 2.3.2<br>sklearn version: 1.6.1<br>lightgbm version: 4.6.0<br>Platform: Linux-6.11.0-1018-azure-x86_64-with-glibc2.39<br>Processor: x86_64<br>CPU count: 4<br>Memory (GB): 16.77<br>Run time avg: 0.036542 s<br>Run time median: 0.036454 s<br>Run time p95: 0.036946 s<br>Run time std: 0.000265 s<br>Nº repeats: 5",
          "Forecaster: ForecasterDirectMultiVariate<br>Regressor: DummyRegressor<br>Function: ForecasterDirectMultiVariate_fit<br>Function_hash: 47471f487e0e7d61036a1954e2805bab<br>Method: fit<br>Datetime: 2025-08-26 09:43:01.630355<br>Python version: 3.12.11<br>skforecast version: 0.15.1<br>numpy version: 2.1.3<br>pandas version: 2.3.2<br>sklearn version: 1.6.1<br>lightgbm version: 4.6.0<br>Platform: Linux-6.11.0-1018-azure-x86_64-with-glibc2.39<br>Processor: x86_64<br>CPU count: 4<br>Memory (GB): 16.77<br>Run time avg: 0.037504 s<br>Run time median: 0.037558 s<br>Run time p95: 0.037646 s<br>Run time std: 0.000125 s<br>Nº repeats: 5",
          "Forecaster: ForecasterDirectMultiVariate<br>Regressor: DummyRegressor<br>Function: ForecasterDirectMultiVariate_fit<br>Function_hash: 47471f487e0e7d61036a1954e2805bab<br>Method: fit<br>Datetime: 2025-08-26 09:55:42.419865<br>Python version: 3.12.11<br>skforecast version: 0.15.1<br>numpy version: 2.1.3<br>pandas version: 2.3.2<br>sklearn version: 1.6.1<br>lightgbm version: 4.6.0<br>Platform: Linux-6.11.0-1018-azure-x86_64-with-glibc2.39<br>Processor: x86_64<br>CPU count: 4<br>Memory (GB): 16.77<br>Run time avg: 0.037068 s<br>Run time median: 0.036939 s<br>Run time p95: 0.037709 s<br>Run time std: 0.000459 s<br>Nº repeats: 5",
          "Forecaster: ForecasterDirectMultiVariate<br>Regressor: DummyRegressor<br>Function: ForecasterDirectMultiVariate_fit<br>Function_hash: 47471f487e0e7d61036a1954e2805bab<br>Method: fit<br>Datetime: 2025-08-26 10:19:12.835177<br>Python version: 3.12.11<br>skforecast version: 0.15.1<br>numpy version: 2.1.3<br>pandas version: 2.3.2<br>sklearn version: 1.6.1<br>lightgbm version: 4.6.0<br>Platform: Linux-6.11.0-1018-azure-x86_64-with-glibc2.39<br>Processor: x86_64<br>CPU count: 4<br>Memory (GB): 16.77<br>Run time avg: 0.036774 s<br>Run time median: 0.036815 s<br>Run time p95: 0.037006 s<br>Run time std: 0.000213 s<br>Nº repeats: 5"
         ],
         "type": "scatter",
         "visible": false,
         "x": {
          "bdata": "rJIwM/E3pb+oJ8tiYeaWPyD8gPSlkpS/ijuDLbNrlL8=",
          "dtype": "f8"
         },
         "y": {
          "bdata": "mhlxDJO1oj/NzAjExTOjPzNzr9qF+qI/MzNgtwXUoj8=",
          "dtype": "f8"
         }
        },
        {
         "error_y": {
          "array": {
           "bdata": "WcwMP35BNz+uLFvknaojP6heYQyS3iY/lrPzcgfzMz8=",
           "dtype": "f8"
          },
          "color": "#EF553B",
          "thickness": 1.5,
          "type": "data",
          "visible": true,
          "width": 5
         },
         "hovertemplate": "%{text}<extra></extra>",
         "marker": {
          "color": "#EF553B",
          "line": {
           "color": "white",
           "width": 1
          },
          "opacity": 0.85,
          "size": 10
         },
         "mode": "markers",
         "text": [
          "Forecaster: ForecasterDirectMultiVariate<br>Regressor: DummyRegressor<br>Function: ForecasterDirectMultiVariate_fit<br>Function_hash: 47471f487e0e7d61036a1954e2805bab<br>Method: fit<br>Datetime: 2025-08-26 08:37:19.155818<br>Python version: 3.12.11<br>skforecast version: 0.16.0<br>numpy version: 2.1.3<br>pandas version: 2.3.2<br>sklearn version: 1.6.1<br>lightgbm version: 4.6.0<br>Platform: Linux-6.11.0-1018-azure-x86_64-with-glibc2.39<br>Processor: x86_64<br>CPU count: 4<br>Memory (GB): 16.77<br>Run time avg: 0.020536 s<br>Run time median: 0.020367 s<br>Run time p95: 0.021078 s<br>Run time std: 0.000355 s<br>Nº repeats: 5",
          "Forecaster: ForecasterDirectMultiVariate<br>Regressor: DummyRegressor<br>Function: ForecasterDirectMultiVariate_fit<br>Function_hash: 47471f487e0e7d61036a1954e2805bab<br>Method: fit<br>Datetime: 2025-08-26 08:47:00.774178<br>Python version: 3.12.11<br>skforecast version: 0.16.0<br>numpy version: 2.1.3<br>pandas version: 2.3.2<br>sklearn version: 1.6.1<br>lightgbm version: 4.6.0<br>Platform: Linux-6.11.0-1018-azure-x86_64-with-glibc2.39<br>Processor: x86_64<br>CPU count: 4<br>Memory (GB): 16.77<br>Run time avg: 0.019807 s<br>Run time median: 0.019782 s<br>Run time p95: 0.020032 s<br>Run time std: 0.000150 s<br>Nº repeats: 5",
          "Forecaster: ForecasterDirectMultiVariate<br>Regressor: DummyRegressor<br>Function: ForecasterDirectMultiVariate_fit<br>Function_hash: 47471f487e0e7d61036a1954e2805bab<br>Method: fit<br>Datetime: 2025-08-26 09:01:18.220018<br>Python version: 3.12.11<br>skforecast version: 0.16.0<br>numpy version: 2.1.3<br>pandas version: 2.3.2<br>sklearn version: 1.6.1<br>lightgbm version: 4.6.0<br>Platform: Linux-6.11.0-1018-azure-x86_64-with-glibc2.39<br>Processor: x86_64<br>CPU count: 4<br>Memory (GB): 16.77<br>Run time avg: 0.020176 s<br>Run time median: 0.020162 s<br>Run time p95: 0.020434 s<br>Run time std: 0.000174 s<br>Nº repeats: 5",
          "Forecaster: ForecasterDirectMultiVariate<br>Regressor: DummyRegressor<br>Function: ForecasterDirectMultiVariate_fit<br>Function_hash: 47471f487e0e7d61036a1954e2805bab<br>Method: fit<br>Datetime: 2025-08-26 09:11:56.417411<br>Python version: 3.12.11<br>skforecast version: 0.16.0<br>numpy version: 2.1.3<br>pandas version: 2.3.2<br>sklearn version: 1.6.1<br>lightgbm version: 4.6.0<br>Platform: Linux-6.11.0-1018-azure-x86_64-with-glibc2.39<br>Processor: x86_64<br>CPU count: 4<br>Memory (GB): 16.77<br>Run time avg: 0.020360 s<br>Run time median: 0.020253 s<br>Run time p95: 0.020814 s<br>Run time std: 0.000304 s<br>Nº repeats: 5"
         ],
         "type": "scatter",
         "visible": false,
         "x": {
          "bdata": "J4yYdtC27j9SpXRXLa7wPwNvFHIkau8/Fiz5a2iF8D8=",
          "dtype": "f8"
         },
         "y": {
          "bdata": "mhkAcFYHlT9m5p4FPEiUP2ZmTqv4qJQ/mhlJnFPZlD8=",
          "dtype": "f8"
         }
        },
        {
         "error_y": {
          "array": {
           "bdata": "UXXgZEJwJj9HPb49dKsiP9bHYLISFkQ/4fkL1qq9KD/ByqULGSUrPw==",
           "dtype": "f8"
          },
          "color": "#00CC96",
          "thickness": 1.5,
          "type": "data",
          "visible": true,
          "width": 5
         },
         "hovertemplate": "%{text}<extra></extra>",
         "marker": {
          "color": "#00CC96",
          "line": {
           "color": "white",
           "width": 1
          },
          "opacity": 0.85,
          "size": 10
         },
         "mode": "markers",
         "text": [
          "Forecaster: ForecasterDirectMultiVariate<br>Regressor: DummyRegressor<br>Function: ForecasterDirectMultiVariate_fit<br>Function_hash: 47471f487e0e7d61036a1954e2805bab<br>Method: fit<br>Datetime: 2025-08-26 07:07:52.406046<br>Python version: 3.12.11<br>skforecast version: 0.17.0<br>numpy version: 2.1.3<br>pandas version: 2.3.2<br>sklearn version: 1.6.1<br>lightgbm version: 4.6.0<br>Platform: Linux-6.11.0-1018-azure-x86_64-with-glibc2.39<br>Processor: x86_64<br>CPU count: 4<br>Memory (GB): 16.77<br>Run time avg: 0.020016 s<br>Run time median: 0.019955 s<br>Run time p95: 0.020278 s<br>Run time std: 0.000171 s<br>Nº repeats: 5",
          "Forecaster: ForecasterDirectMultiVariate<br>Regressor: DummyRegressor<br>Function: ForecasterDirectMultiVariate_fit<br>Function_hash: 47471f487e0e7d61036a1954e2805bab<br>Method: fit<br>Datetime: 2025-08-26 07:20:52.429620<br>Python version: 3.12.11<br>skforecast version: 0.17.0<br>numpy version: 2.1.3<br>pandas version: 2.3.2<br>sklearn version: 1.6.1<br>lightgbm version: 4.6.0<br>Platform: Linux-6.11.0-1018-azure-x86_64-with-glibc2.39<br>Processor: x86_64<br>CPU count: 4<br>Memory (GB): 16.77<br>Run time avg: 0.020496 s<br>Run time median: 0.020549 s<br>Run time p95: 0.020636 s<br>Run time std: 0.000142 s<br>Nº repeats: 5",
          "Forecaster: ForecasterDirectMultiVariate<br>Regressor: DummyRegressor<br>Function: ForecasterDirectMultiVariate_fit<br>Function_hash: 47471f487e0e7d61036a1954e2805bab<br>Method: fit<br>Datetime: 2025-08-26 07:39:19.155915<br>Python version: 3.12.11<br>skforecast version: 0.17.0<br>numpy version: 2.1.3<br>pandas version: 2.3.2<br>sklearn version: 1.6.1<br>lightgbm version: 4.6.0<br>Platform: Linux-6.11.0-1018-azure-x86_64-with-glibc2.39<br>Processor: x86_64<br>CPU count: 4<br>Memory (GB): 16.77<br>Run time avg: 0.021204 s<br>Run time median: 0.020934 s<br>Run time p95: 0.022141 s<br>Run time std: 0.000613 s<br>Nº repeats: 5",
          "Forecaster: ForecasterDirectMultiVariate<br>Regressor: DummyRegressor<br>Function: ForecasterDirectMultiVariate_fit<br>Function_hash: 47471f487e0e7d61036a1954e2805bab<br>Method: fit<br>Datetime: 2025-08-26 07:52:03.746120<br>Python version: 3.12.11<br>skforecast version: 0.17.0<br>numpy version: 2.1.3<br>pandas version: 2.3.2<br>sklearn version: 1.6.1<br>lightgbm version: 4.6.0<br>Platform: Linux-6.11.0-1018-azure-x86_64-with-glibc2.39<br>Processor: x86_64<br>CPU count: 4<br>Memory (GB): 16.77<br>Run time avg: 0.020236 s<br>Run time median: 0.020117 s<br>Run time p95: 0.020497 s<br>Run time std: 0.000189 s<br>Nº repeats: 5",
          "Forecaster: ForecasterDirectMultiVariate<br>Regressor: DummyRegressor<br>Function: ForecasterDirectMultiVariate_fit<br>Function_hash: 47471f487e0e7d61036a1954e2805bab<br>Method: fit<br>Datetime: 2025-08-26 08:17:59.343844<br>Python version: 3.12.11<br>skforecast version: 0.17.0<br>numpy version: 2.1.3<br>pandas version: 2.3.2<br>sklearn version: 1.6.1<br>lightgbm version: 4.6.0<br>Platform: Linux-6.11.0-1018-azure-x86_64-with-glibc2.39<br>Processor: x86_64<br>CPU count: 4<br>Memory (GB): 16.77<br>Run time avg: 0.020650 s<br>Run time median: 0.020629 s<br>Run time p95: 0.020956 s<br>Run time std: 0.000207 s<br>Nº repeats: 5"
         ],
         "type": "scatter",
         "visible": false,
         "x": {
          "bdata": "UpGx0fVKAECB2Wp/CFMAQIzIzUcxYwBAbKopGYwEAEBFfKIY3T4AQA==",
          "dtype": "f8"
         },
         "y": {
          "bdata": "MzNtBRt/lD8AAETX3/yUP2ZmLzF0tpU/MzMJA8O4lD8zM5pVZiWVPw==",
          "dtype": "f8"
         }
        },
        {
         "error_y": {
          "array": {
           "bdata": "BR32z9xuID9cC3JBwt41P/se8ebPkCM/g3m5tEZ/Kz8=",
           "dtype": "f8"
          },
          "color": "#636EFA",
          "thickness": 1.5,
          "type": "data",
          "visible": true,
          "width": 5
         },
         "hovertemplate": "%{text}<extra></extra>",
         "marker": {
          "color": "#636EFA",
          "line": {
           "color": "white",
           "width": 1
          },
          "opacity": 0.85,
          "size": 10
         },
         "mode": "markers",
         "text": [
          "Forecaster: ForecasterDirectMultiVariate<br>Regressor: DummyRegressor<br>Function: ForecasterDirectMultiVariate_fit_series_no_exog<br>Function_hash: 9b50bdc77fb5ebc83bef7062a929329d<br>Method: fit_series_no_exog<br>Datetime: 2025-08-26 09:26:42.434220<br>Python version: 3.12.11<br>skforecast version: 0.15.1<br>numpy version: 2.1.3<br>pandas version: 2.3.2<br>sklearn version: 1.6.1<br>lightgbm version: 4.6.0<br>Platform: Linux-6.11.0-1018-azure-x86_64-with-glibc2.39<br>Processor: x86_64<br>CPU count: 4<br>Memory (GB): 16.77<br>Run time avg: 0.031097 s<br>Run time median: 0.031087 s<br>Run time p95: 0.031239 s<br>Run time std: 0.000125 s<br>Nº repeats: 5",
          "Forecaster: ForecasterDirectMultiVariate<br>Regressor: DummyRegressor<br>Function: ForecasterDirectMultiVariate_fit_series_no_exog<br>Function_hash: 9b50bdc77fb5ebc83bef7062a929329d<br>Method: fit_series_no_exog<br>Datetime: 2025-08-26 09:43:01.794480<br>Python version: 3.12.11<br>skforecast version: 0.15.1<br>numpy version: 2.1.3<br>pandas version: 2.3.2<br>sklearn version: 1.6.1<br>lightgbm version: 4.6.0<br>Platform: Linux-6.11.0-1018-azure-x86_64-with-glibc2.39<br>Processor: x86_64<br>CPU count: 4<br>Memory (GB): 16.77<br>Run time avg: 0.031725 s<br>Run time median: 0.031597 s<br>Run time p95: 0.032230 s<br>Run time std: 0.000334 s<br>Nº repeats: 5",
          "Forecaster: ForecasterDirectMultiVariate<br>Regressor: DummyRegressor<br>Function: ForecasterDirectMultiVariate_fit_series_no_exog<br>Function_hash: 9b50bdc77fb5ebc83bef7062a929329d<br>Method: fit_series_no_exog<br>Datetime: 2025-08-26 09:55:42.579863<br>Python version: 3.12.11<br>skforecast version: 0.15.1<br>numpy version: 2.1.3<br>pandas version: 2.3.2<br>sklearn version: 1.6.1<br>lightgbm version: 4.6.0<br>Platform: Linux-6.11.0-1018-azure-x86_64-with-glibc2.39<br>Processor: x86_64<br>CPU count: 4<br>Memory (GB): 16.77<br>Run time avg: 0.030894 s<br>Run time median: 0.030890 s<br>Run time p95: 0.031108 s<br>Run time std: 0.000149 s<br>Nº repeats: 5",
          "Forecaster: ForecasterDirectMultiVariate<br>Regressor: DummyRegressor<br>Function: ForecasterDirectMultiVariate_fit_series_no_exog<br>Function_hash: 9b50bdc77fb5ebc83bef7062a929329d<br>Method: fit_series_no_exog<br>Datetime: 2025-08-26 10:19:12.994265<br>Python version: 3.12.11<br>skforecast version: 0.15.1<br>numpy version: 2.1.3<br>pandas version: 2.3.2<br>sklearn version: 1.6.1<br>lightgbm version: 4.6.0<br>Platform: Linux-6.11.0-1018-azure-x86_64-with-glibc2.39<br>Processor: x86_64<br>CPU count: 4<br>Memory (GB): 16.77<br>Run time avg: 0.030718 s<br>Run time median: 0.030626 s<br>Run time p95: 0.031006 s<br>Run time std: 0.000210 s<br>Nº repeats: 5"
         ],
         "type": "scatter",
         "visible": false,
         "x": {
          "bdata": "btXIPi3/oj++QPaah5+mP6zU+Wrrr4c/DYEQuXK/k78=",
          "dtype": "f8"
         },
         "y": {
          "bdata": "mhm/xMvXnz/NTNKmMz6gP81MwHG/op8/AIDnpYp0nz8=",
          "dtype": "f8"
         }
        },
        {
         "error_y": {
          "array": {
           "bdata": "jbyrDbLcIT/2a/tBRyBBP+HP1lwb8BM/wV/Xb9SpKz8=",
           "dtype": "f8"
          },
          "color": "#EF553B",
          "thickness": 1.5,
          "type": "data",
          "visible": true,
          "width": 5
         },
         "hovertemplate": "%{text}<extra></extra>",
         "marker": {
          "color": "#EF553B",
          "line": {
           "color": "white",
           "width": 1
          },
          "opacity": 0.85,
          "size": 10
         },
         "mode": "markers",
         "text": [
          "Forecaster: ForecasterDirectMultiVariate<br>Regressor: DummyRegressor<br>Function: ForecasterDirectMultiVariate_fit_series_no_exog<br>Function_hash: 9b50bdc77fb5ebc83bef7062a929329d<br>Method: fit_series_no_exog<br>Datetime: 2025-08-26 08:37:19.233295<br>Python version: 3.12.11<br>skforecast version: 0.16.0<br>numpy version: 2.1.3<br>pandas version: 2.3.2<br>sklearn version: 1.6.1<br>lightgbm version: 4.6.0<br>Platform: Linux-6.11.0-1018-azure-x86_64-with-glibc2.39<br>Processor: x86_64<br>CPU count: 4<br>Memory (GB): 16.77<br>Run time avg: 0.014537 s<br>Run time median: 0.014507 s<br>Run time p95: 0.014723 s<br>Run time std: 0.000136 s<br>Nº repeats: 5",
          "Forecaster: ForecasterDirectMultiVariate<br>Regressor: DummyRegressor<br>Function: ForecasterDirectMultiVariate_fit_series_no_exog<br>Function_hash: 9b50bdc77fb5ebc83bef7062a929329d<br>Method: fit_series_no_exog<br>Datetime: 2025-08-26 08:47:00.851725<br>Python version: 3.12.11<br>skforecast version: 0.16.0<br>numpy version: 2.1.3<br>pandas version: 2.3.2<br>sklearn version: 1.6.1<br>lightgbm version: 4.6.0<br>Platform: Linux-6.11.0-1018-azure-x86_64-with-glibc2.39<br>Processor: x86_64<br>CPU count: 4<br>Memory (GB): 16.77<br>Run time avg: 0.014597 s<br>Run time median: 0.014395 s<br>Run time p95: 0.015398 s<br>Run time std: 0.000523 s<br>Nº repeats: 5",
          "Forecaster: ForecasterDirectMultiVariate<br>Regressor: DummyRegressor<br>Function: ForecasterDirectMultiVariate_fit_series_no_exog<br>Function_hash: 9b50bdc77fb5ebc83bef7062a929329d<br>Method: fit_series_no_exog<br>Datetime: 2025-08-26 09:01:18.296488<br>Python version: 3.12.11<br>skforecast version: 0.16.0<br>numpy version: 2.1.3<br>pandas version: 2.3.2<br>sklearn version: 1.6.1<br>lightgbm version: 4.6.0<br>Platform: Linux-6.11.0-1018-azure-x86_64-with-glibc2.39<br>Processor: x86_64<br>CPU count: 4<br>Memory (GB): 16.77<br>Run time avg: 0.014428 s<br>Run time median: 0.014420 s<br>Run time p95: 0.014538 s<br>Run time std: 0.000076 s<br>Nº repeats: 5",
          "Forecaster: ForecasterDirectMultiVariate<br>Regressor: DummyRegressor<br>Function: ForecasterDirectMultiVariate_fit_series_no_exog<br>Function_hash: 9b50bdc77fb5ebc83bef7062a929329d<br>Method: fit_series_no_exog<br>Datetime: 2025-08-26 09:11:56.496487<br>Python version: 3.12.11<br>skforecast version: 0.16.0<br>numpy version: 2.1.3<br>pandas version: 2.3.2<br>sklearn version: 1.6.1<br>lightgbm version: 4.6.0<br>Platform: Linux-6.11.0-1018-azure-x86_64-with-glibc2.39<br>Processor: x86_64<br>CPU count: 4<br>Memory (GB): 16.77<br>Run time avg: 0.014802 s<br>Run time median: 0.014636 s<br>Run time p95: 0.015082 s<br>Run time std: 0.000211 s<br>Nº repeats: 5"
         ],
         "type": "scatter",
         "visible": false,
         "x": {
          "bdata": "tkBPZ7B38D+O5djItt/vP3q/jSI+YfA/uHFB4uOg7z8=",
          "dtype": "f8"
         },
         "y": {
          "bdata": "zcwpfGDFjT9mZmDHEuWNP2ZmqnZBjI0/MzOt5YFQjj8=",
          "dtype": "f8"
         }
        },
        {
         "error_y": {
          "array": {
           "bdata": "JuzzdjwcKD9VaaHDOBoWP6ZKDvruAiM/aBqi6pc2FT+AtEUyVIkjPw==",
           "dtype": "f8"
          },
          "color": "#00CC96",
          "thickness": 1.5,
          "type": "data",
          "visible": true,
          "width": 5
         },
         "hovertemplate": "%{text}<extra></extra>",
         "marker": {
          "color": "#00CC96",
          "line": {
           "color": "white",
           "width": 1
          },
          "opacity": 0.85,
          "size": 10
         },
         "mode": "markers",
         "text": [
          "Forecaster: ForecasterDirectMultiVariate<br>Regressor: DummyRegressor<br>Function: ForecasterDirectMultiVariate_fit_series_no_exog<br>Function_hash: 9b50bdc77fb5ebc83bef7062a929329d<br>Method: fit_series_no_exog<br>Datetime: 2025-08-26 07:07:52.482156<br>Python version: 3.12.11<br>skforecast version: 0.17.0<br>numpy version: 2.1.3<br>pandas version: 2.3.2<br>sklearn version: 1.6.1<br>lightgbm version: 4.6.0<br>Platform: Linux-6.11.0-1018-azure-x86_64-with-glibc2.39<br>Processor: x86_64<br>CPU count: 4<br>Memory (GB): 16.77<br>Run time avg: 0.014487 s<br>Run time median: 0.014395 s<br>Run time p95: 0.014757 s<br>Run time std: 0.000184 s<br>Nº repeats: 5",
          "Forecaster: ForecasterDirectMultiVariate<br>Regressor: DummyRegressor<br>Function: ForecasterDirectMultiVariate_fit_series_no_exog<br>Function_hash: 9b50bdc77fb5ebc83bef7062a929329d<br>Method: fit_series_no_exog<br>Datetime: 2025-08-26 07:20:52.507014<br>Python version: 3.12.11<br>skforecast version: 0.17.0<br>numpy version: 2.1.3<br>pandas version: 2.3.2<br>sklearn version: 1.6.1<br>lightgbm version: 4.6.0<br>Platform: Linux-6.11.0-1018-azure-x86_64-with-glibc2.39<br>Processor: x86_64<br>CPU count: 4<br>Memory (GB): 16.77<br>Run time avg: 0.014702 s<br>Run time median: 0.014697 s<br>Run time p95: 0.014801 s<br>Run time std: 0.000084 s<br>Nº repeats: 5",
          "Forecaster: ForecasterDirectMultiVariate<br>Regressor: DummyRegressor<br>Function: ForecasterDirectMultiVariate_fit_series_no_exog<br>Function_hash: 9b50bdc77fb5ebc83bef7062a929329d<br>Method: fit_series_no_exog<br>Datetime: 2025-08-26 07:39:19.235988<br>Python version: 3.12.11<br>skforecast version: 0.17.0<br>numpy version: 2.1.3<br>pandas version: 2.3.2<br>sklearn version: 1.6.1<br>lightgbm version: 4.6.0<br>Platform: Linux-6.11.0-1018-azure-x86_64-with-glibc2.39<br>Processor: x86_64<br>CPU count: 4<br>Memory (GB): 16.77<br>Run time avg: 0.015106 s<br>Run time median: 0.015078 s<br>Run time p95: 0.015319 s<br>Run time std: 0.000145 s<br>Nº repeats: 5",
          "Forecaster: ForecasterDirectMultiVariate<br>Regressor: DummyRegressor<br>Function: ForecasterDirectMultiVariate_fit_series_no_exog<br>Function_hash: 9b50bdc77fb5ebc83bef7062a929329d<br>Method: fit_series_no_exog<br>Datetime: 2025-08-26 07:52:03.822451<br>Python version: 3.12.11<br>skforecast version: 0.17.0<br>numpy version: 2.1.3<br>pandas version: 2.3.2<br>sklearn version: 1.6.1<br>lightgbm version: 4.6.0<br>Platform: Linux-6.11.0-1018-azure-x86_64-with-glibc2.39<br>Processor: x86_64<br>CPU count: 4<br>Memory (GB): 16.77<br>Run time avg: 0.014397 s<br>Run time median: 0.014377 s<br>Run time p95: 0.014519 s<br>Run time std: 0.000081 s<br>Nº repeats: 5",
          "Forecaster: ForecasterDirectMultiVariate<br>Regressor: DummyRegressor<br>Function: ForecasterDirectMultiVariate_fit_series_no_exog<br>Function_hash: 9b50bdc77fb5ebc83bef7062a929329d<br>Method: fit_series_no_exog<br>Datetime: 2025-08-26 08:17:59.421997<br>Python version: 3.12.11<br>skforecast version: 0.17.0<br>numpy version: 2.1.3<br>pandas version: 2.3.2<br>sklearn version: 1.6.1<br>lightgbm version: 4.6.0<br>Platform: Linux-6.11.0-1018-azure-x86_64-with-glibc2.39<br>Processor: x86_64<br>CPU count: 4<br>Memory (GB): 16.77<br>Run time avg: 0.014714 s<br>Run time median: 0.014670 s<br>Run time p95: 0.014905 s<br>Run time std: 0.000149 s<br>Nº repeats: 5"
         ],
         "type": "scatter",
         "visible": false,
         "x": {
          "bdata": "TyzQ315NAEDo6YoN95P/PxTN477QRgBA3vbssAXE/z8VEwR947v/Pw==",
          "dtype": "f8"
         },
         "y": {
          "bdata": "mpmh6ZGrjT8zM3MoExyOP5qZhMPr744/MzPOjhd8jT+amZ9BlSKOPw==",
          "dtype": "f8"
         }
        },
        {
         "error_y": {
          "array": {
           "bdata": "AAAAAAAA+H8AAAAAAAD4fwAAAAAAAPh/AAAAAAAA+H8=",
           "dtype": "f8"
          },
          "color": "#636EFA",
          "thickness": 1.5,
          "type": "data",
          "visible": false,
          "width": 5
         },
         "hovertemplate": "%{text}<extra></extra>",
         "marker": {
          "color": "#636EFA",
          "line": {
           "color": "white",
           "width": 1
          },
          "opacity": 0.85,
          "size": 10
         },
         "mode": "markers",
         "text": [
          "Forecaster: ForecasterDirectMultiVariate<br>Regressor: DummyRegressor<br>Function: ForecasterDirectMultiVariate_check_predict_inputs<br>Function_hash: 2ff60b0dcc87e6f062a64b8a10e0a9e0<br>Method: check_predict_inputs<br>Datetime: 2025-08-26 09:26:42.477283<br>Python version: 3.12.11<br>skforecast version: 0.15.1<br>numpy version: 2.1.3<br>pandas version: 2.3.2<br>sklearn version: 1.6.1<br>lightgbm version: 4.6.0<br>Platform: Linux-6.11.0-1018-azure-x86_64-with-glibc2.39<br>Processor: x86_64<br>CPU count: 4<br>Memory (GB): 16.77<br>Run time avg: nan s<br>Run time median: nan s<br>Run time p95: nan s<br>Run time std: nan s<br>Nº repeats: 10",
          "Forecaster: ForecasterDirectMultiVariate<br>Regressor: DummyRegressor<br>Function: ForecasterDirectMultiVariate_check_predict_inputs<br>Function_hash: 2ff60b0dcc87e6f062a64b8a10e0a9e0<br>Method: check_predict_inputs<br>Datetime: 2025-08-26 09:43:01.839713<br>Python version: 3.12.11<br>skforecast version: 0.15.1<br>numpy version: 2.1.3<br>pandas version: 2.3.2<br>sklearn version: 1.6.1<br>lightgbm version: 4.6.0<br>Platform: Linux-6.11.0-1018-azure-x86_64-with-glibc2.39<br>Processor: x86_64<br>CPU count: 4<br>Memory (GB): 16.77<br>Run time avg: nan s<br>Run time median: nan s<br>Run time p95: nan s<br>Run time std: nan s<br>Nº repeats: 10",
          "Forecaster: ForecasterDirectMultiVariate<br>Regressor: DummyRegressor<br>Function: ForecasterDirectMultiVariate_check_predict_inputs<br>Function_hash: 2ff60b0dcc87e6f062a64b8a10e0a9e0<br>Method: check_predict_inputs<br>Datetime: 2025-08-26 09:55:42.623527<br>Python version: 3.12.11<br>skforecast version: 0.15.1<br>numpy version: 2.1.3<br>pandas version: 2.3.2<br>sklearn version: 1.6.1<br>lightgbm version: 4.6.0<br>Platform: Linux-6.11.0-1018-azure-x86_64-with-glibc2.39<br>Processor: x86_64<br>CPU count: 4<br>Memory (GB): 16.77<br>Run time avg: nan s<br>Run time median: nan s<br>Run time p95: nan s<br>Run time std: nan s<br>Nº repeats: 10",
          "Forecaster: ForecasterDirectMultiVariate<br>Regressor: DummyRegressor<br>Function: ForecasterDirectMultiVariate_check_predict_inputs<br>Function_hash: 2ff60b0dcc87e6f062a64b8a10e0a9e0<br>Method: check_predict_inputs<br>Datetime: 2025-08-26 10:19:13.036814<br>Python version: 3.12.11<br>skforecast version: 0.15.1<br>numpy version: 2.1.3<br>pandas version: 2.3.2<br>sklearn version: 1.6.1<br>lightgbm version: 4.6.0<br>Platform: Linux-6.11.0-1018-azure-x86_64-with-glibc2.39<br>Processor: x86_64<br>CPU count: 4<br>Memory (GB): 16.77<br>Run time avg: nan s<br>Run time median: nan s<br>Run time p95: nan s<br>Run time std: nan s<br>Nº repeats: 10"
         ],
         "type": "scatter",
         "visible": false,
         "x": {
          "bdata": "50uZR5Ncl7+wuRHYGGyLP0ZCs3fugqc/Re/dFNtGp78=",
          "dtype": "f8"
         },
         "y": {
          "bdata": "AAAAAAAA+H8AAAAAAAD4fwAAAAAAAPh/AAAAAAAA+H8=",
          "dtype": "f8"
         }
        },
        {
         "error_y": {
          "array": {
           "bdata": "AAAAAAAA+H8AAAAAAAD4fwAAAAAAAPh/AAAAAAAA+H8=",
           "dtype": "f8"
          },
          "color": "#EF553B",
          "thickness": 1.5,
          "type": "data",
          "visible": false,
          "width": 5
         },
         "hovertemplate": "%{text}<extra></extra>",
         "marker": {
          "color": "#EF553B",
          "line": {
           "color": "white",
           "width": 1
          },
          "opacity": 0.85,
          "size": 10
         },
         "mode": "markers",
         "text": [
          "Forecaster: ForecasterDirectMultiVariate<br>Regressor: DummyRegressor<br>Function: ForecasterDirectMultiVariate_check_predict_inputs<br>Function_hash: 2ff60b0dcc87e6f062a64b8a10e0a9e0<br>Method: check_predict_inputs<br>Datetime: 2025-08-26 08:37:19.259517<br>Python version: 3.12.11<br>skforecast version: 0.16.0<br>numpy version: 2.1.3<br>pandas version: 2.3.2<br>sklearn version: 1.6.1<br>lightgbm version: 4.6.0<br>Platform: Linux-6.11.0-1018-azure-x86_64-with-glibc2.39<br>Processor: x86_64<br>CPU count: 4<br>Memory (GB): 16.77<br>Run time avg: nan s<br>Run time median: nan s<br>Run time p95: nan s<br>Run time std: nan s<br>Nº repeats: 10",
          "Forecaster: ForecasterDirectMultiVariate<br>Regressor: DummyRegressor<br>Function: ForecasterDirectMultiVariate_check_predict_inputs<br>Function_hash: 2ff60b0dcc87e6f062a64b8a10e0a9e0<br>Method: check_predict_inputs<br>Datetime: 2025-08-26 08:47:00.877095<br>Python version: 3.12.11<br>skforecast version: 0.16.0<br>numpy version: 2.1.3<br>pandas version: 2.3.2<br>sklearn version: 1.6.1<br>lightgbm version: 4.6.0<br>Platform: Linux-6.11.0-1018-azure-x86_64-with-glibc2.39<br>Processor: x86_64<br>CPU count: 4<br>Memory (GB): 16.77<br>Run time avg: nan s<br>Run time median: nan s<br>Run time p95: nan s<br>Run time std: nan s<br>Nº repeats: 10",
          "Forecaster: ForecasterDirectMultiVariate<br>Regressor: DummyRegressor<br>Function: ForecasterDirectMultiVariate_check_predict_inputs<br>Function_hash: 2ff60b0dcc87e6f062a64b8a10e0a9e0<br>Method: check_predict_inputs<br>Datetime: 2025-08-26 09:01:18.321953<br>Python version: 3.12.11<br>skforecast version: 0.16.0<br>numpy version: 2.1.3<br>pandas version: 2.3.2<br>sklearn version: 1.6.1<br>lightgbm version: 4.6.0<br>Platform: Linux-6.11.0-1018-azure-x86_64-with-glibc2.39<br>Processor: x86_64<br>CPU count: 4<br>Memory (GB): 16.77<br>Run time avg: nan s<br>Run time median: nan s<br>Run time p95: nan s<br>Run time std: nan s<br>Nº repeats: 10",
          "Forecaster: ForecasterDirectMultiVariate<br>Regressor: DummyRegressor<br>Function: ForecasterDirectMultiVariate_check_predict_inputs<br>Function_hash: 2ff60b0dcc87e6f062a64b8a10e0a9e0<br>Method: check_predict_inputs<br>Datetime: 2025-08-26 09:11:56.523295<br>Python version: 3.12.11<br>skforecast version: 0.16.0<br>numpy version: 2.1.3<br>pandas version: 2.3.2<br>sklearn version: 1.6.1<br>lightgbm version: 4.6.0<br>Platform: Linux-6.11.0-1018-azure-x86_64-with-glibc2.39<br>Processor: x86_64<br>CPU count: 4<br>Memory (GB): 16.77<br>Run time avg: nan s<br>Run time median: nan s<br>Run time p95: nan s<br>Run time std: nan s<br>Nº repeats: 10"
         ],
         "type": "scatter",
         "visible": false,
         "x": {
          "bdata": "n1pQ2xil7j8RzcLyIn/wP+ZE4OLkq+4/PUHws+ts8D8=",
          "dtype": "f8"
         },
         "y": {
          "bdata": "AAAAAAAA+H8AAAAAAAD4fwAAAAAAAPh/AAAAAAAA+H8=",
          "dtype": "f8"
         }
        },
        {
         "error_y": {
          "array": {
           "bdata": "tiup1xdfAT9k1nt2x2L+PqjIEVu3xwI/OkkrO7NsBz/BB4Yrd9f+Pg==",
           "dtype": "f8"
          },
          "color": "#00CC96",
          "thickness": 1.5,
          "type": "data",
          "visible": true,
          "width": 5
         },
         "hovertemplate": "%{text}<extra></extra>",
         "marker": {
          "color": "#00CC96",
          "line": {
           "color": "white",
           "width": 1
          },
          "opacity": 0.85,
          "size": 10
         },
         "mode": "markers",
         "text": [
          "Forecaster: ForecasterDirectMultiVariate<br>Regressor: DummyRegressor<br>Function: ForecasterDirectMultiVariate_check_predict_inputs<br>Function_hash: 2ff60b0dcc87e6f062a64b8a10e0a9e0<br>Method: check_predict_inputs<br>Datetime: 2025-08-26 07:07:52.509625<br>Python version: 3.12.11<br>skforecast version: 0.17.0<br>numpy version: 2.1.3<br>pandas version: 2.3.2<br>sklearn version: 1.6.1<br>lightgbm version: 4.6.0<br>Platform: Linux-6.11.0-1018-azure-x86_64-with-glibc2.39<br>Processor: x86_64<br>CPU count: 4<br>Memory (GB): 16.77<br>Run time avg: 0.000232 s<br>Run time median: 0.000221 s<br>Run time p95: 0.000286 s<br>Run time std: 0.000033 s<br>Nº repeats: 10",
          "Forecaster: ForecasterDirectMultiVariate<br>Regressor: DummyRegressor<br>Function: ForecasterDirectMultiVariate_check_predict_inputs<br>Function_hash: 2ff60b0dcc87e6f062a64b8a10e0a9e0<br>Method: check_predict_inputs<br>Datetime: 2025-08-26 07:20:52.535532<br>Python version: 3.12.11<br>skforecast version: 0.17.0<br>numpy version: 2.1.3<br>pandas version: 2.3.2<br>sklearn version: 1.6.1<br>lightgbm version: 4.6.0<br>Platform: Linux-6.11.0-1018-azure-x86_64-with-glibc2.39<br>Processor: x86_64<br>CPU count: 4<br>Memory (GB): 16.77<br>Run time avg: 0.000234 s<br>Run time median: 0.000219 s<br>Run time p95: 0.000287 s<br>Run time std: 0.000029 s<br>Nº repeats: 10",
          "Forecaster: ForecasterDirectMultiVariate<br>Regressor: DummyRegressor<br>Function: ForecasterDirectMultiVariate_check_predict_inputs<br>Function_hash: 2ff60b0dcc87e6f062a64b8a10e0a9e0<br>Method: check_predict_inputs<br>Datetime: 2025-08-26 07:39:19.265642<br>Python version: 3.12.11<br>skforecast version: 0.17.0<br>numpy version: 2.1.3<br>pandas version: 2.3.2<br>sklearn version: 1.6.1<br>lightgbm version: 4.6.0<br>Platform: Linux-6.11.0-1018-azure-x86_64-with-glibc2.39<br>Processor: x86_64<br>CPU count: 4<br>Memory (GB): 16.77<br>Run time avg: 0.000237 s<br>Run time median: 0.000226 s<br>Run time p95: 0.000296 s<br>Run time std: 0.000036 s<br>Nº repeats: 10",
          "Forecaster: ForecasterDirectMultiVariate<br>Regressor: DummyRegressor<br>Function: ForecasterDirectMultiVariate_check_predict_inputs<br>Function_hash: 2ff60b0dcc87e6f062a64b8a10e0a9e0<br>Method: check_predict_inputs<br>Datetime: 2025-08-26 07:52:03.850912<br>Python version: 3.12.11<br>skforecast version: 0.17.0<br>numpy version: 2.1.3<br>pandas version: 2.3.2<br>sklearn version: 1.6.1<br>lightgbm version: 4.6.0<br>Platform: Linux-6.11.0-1018-azure-x86_64-with-glibc2.39<br>Processor: x86_64<br>CPU count: 4<br>Memory (GB): 16.77<br>Run time avg: 0.000240 s<br>Run time median: 0.000221 s<br>Run time p95: 0.000325 s<br>Run time std: 0.000045 s<br>Nº repeats: 10",
          "Forecaster: ForecasterDirectMultiVariate<br>Regressor: DummyRegressor<br>Function: ForecasterDirectMultiVariate_check_predict_inputs<br>Function_hash: 2ff60b0dcc87e6f062a64b8a10e0a9e0<br>Method: check_predict_inputs<br>Datetime: 2025-08-26 08:17:59.450869<br>Python version: 3.12.11<br>skforecast version: 0.17.0<br>numpy version: 2.1.3<br>pandas version: 2.3.2<br>sklearn version: 1.6.1<br>lightgbm version: 4.6.0<br>Platform: Linux-6.11.0-1018-azure-x86_64-with-glibc2.39<br>Processor: x86_64<br>CPU count: 4<br>Memory (GB): 16.77<br>Run time avg: 0.000236 s<br>Run time median: 0.000224 s<br>Run time p95: 0.000286 s<br>Run time std: 0.000029 s<br>Nº repeats: 10"
         ],
         "type": "scatter",
         "visible": false,
         "x": {
          "bdata": "IwA0PuE4/z/uYJ+M3Mn/P8DvRDq6Xf8/plM2pwoHAEBZ4FLusEkAQA==",
          "dtype": "f8"
         },
         "y": {
          "bdata": "mplZjwteLj+amZn7Tp8uP5qZmQcqIS8/zcwMvtx1Lz+amVkIe+kuPw==",
          "dtype": "f8"
         }
        },
        {
         "error_y": {
          "array": {
           "bdata": "JDN0JQKFID+2RmPEHEMlPzfWaOUDnx8/zGUmbAyaIT8=",
           "dtype": "f8"
          },
          "color": "#636EFA",
          "thickness": 1.5,
          "type": "data",
          "visible": true,
          "width": 5
         },
         "hovertemplate": "%{text}<extra></extra>",
         "marker": {
          "color": "#636EFA",
          "line": {
           "color": "white",
           "width": 1
          },
          "opacity": 0.85,
          "size": 10
         },
         "mode": "markers",
         "text": [
          "Forecaster: ForecasterDirectMultiVariate<br>Regressor: DummyRegressor<br>Function: ForecasterDirectMultiVariate__create_predict_inputs<br>Function_hash: ec796080a559c0c7537d647aaea608ff<br>Method: _create_predict_inputs<br>Datetime: 2025-08-26 09:26:42.534608<br>Python version: 3.12.11<br>skforecast version: 0.15.1<br>numpy version: 2.1.3<br>pandas version: 2.3.2<br>sklearn version: 1.6.1<br>lightgbm version: 4.6.0<br>Platform: Linux-6.11.0-1018-azure-x86_64-with-glibc2.39<br>Processor: x86_64<br>CPU count: 4<br>Memory (GB): 16.77<br>Run time avg: 0.005223 s<br>Run time median: 0.005172 s<br>Run time p95: 0.005442 s<br>Run time std: 0.000126 s<br>Nº repeats: 10",
          "Forecaster: ForecasterDirectMultiVariate<br>Regressor: DummyRegressor<br>Function: ForecasterDirectMultiVariate__create_predict_inputs<br>Function_hash: ec796080a559c0c7537d647aaea608ff<br>Method: _create_predict_inputs<br>Datetime: 2025-08-26 09:43:01.898921<br>Python version: 3.12.11<br>skforecast version: 0.15.1<br>numpy version: 2.1.3<br>pandas version: 2.3.2<br>sklearn version: 1.6.1<br>lightgbm version: 4.6.0<br>Platform: Linux-6.11.0-1018-azure-x86_64-with-glibc2.39<br>Processor: x86_64<br>CPU count: 4<br>Memory (GB): 16.77<br>Run time avg: 0.005370 s<br>Run time median: 0.005319 s<br>Run time p95: 0.005652 s<br>Run time std: 0.000162 s<br>Nº repeats: 10",
          "Forecaster: ForecasterDirectMultiVariate<br>Regressor: DummyRegressor<br>Function: ForecasterDirectMultiVariate__create_predict_inputs<br>Function_hash: ec796080a559c0c7537d647aaea608ff<br>Method: _create_predict_inputs<br>Datetime: 2025-08-26 09:55:42.681144<br>Python version: 3.12.11<br>skforecast version: 0.15.1<br>numpy version: 2.1.3<br>pandas version: 2.3.2<br>sklearn version: 1.6.1<br>lightgbm version: 4.6.0<br>Platform: Linux-6.11.0-1018-azure-x86_64-with-glibc2.39<br>Processor: x86_64<br>CPU count: 4<br>Memory (GB): 16.77<br>Run time avg: 0.005242 s<br>Run time median: 0.005202 s<br>Run time p95: 0.005460 s<br>Run time std: 0.000121 s<br>Nº repeats: 10",
          "Forecaster: ForecasterDirectMultiVariate<br>Regressor: DummyRegressor<br>Function: ForecasterDirectMultiVariate__create_predict_inputs<br>Function_hash: ec796080a559c0c7537d647aaea608ff<br>Method: _create_predict_inputs<br>Datetime: 2025-08-26 10:19:13.093951<br>Python version: 3.12.11<br>skforecast version: 0.15.1<br>numpy version: 2.1.3<br>pandas version: 2.3.2<br>sklearn version: 1.6.1<br>lightgbm version: 4.6.0<br>Platform: Linux-6.11.0-1018-azure-x86_64-with-glibc2.39<br>Processor: x86_64<br>CPU count: 4<br>Memory (GB): 16.77<br>Run time avg: 0.005214 s<br>Run time median: 0.005174 s<br>Run time p95: 0.005432 s<br>Run time std: 0.000134 s<br>Nº repeats: 10"
         ],
         "type": "scatter",
         "visible": false,
         "x": {
          "bdata": "9MlJu3bQmD/YAHdY2zalvyw2GpS9haQ/yqD/INN6kL8=",
          "dtype": "f8"
         },
         "y": {
          "bdata": "MzOEP+5kdT8AAJSBg/51PzMzgeCKeHU/ZmZNArlbdT8=",
          "dtype": "f8"
         }
        },
        {
         "error_y": {
          "array": {
           "bdata": "OwawDgeQIT8H8Dvpk10ZP0S9HCysNhw/7EJ5a1VZHT8=",
           "dtype": "f8"
          },
          "color": "#EF553B",
          "thickness": 1.5,
          "type": "data",
          "visible": true,
          "width": 5
         },
         "hovertemplate": "%{text}<extra></extra>",
         "marker": {
          "color": "#EF553B",
          "line": {
           "color": "white",
           "width": 1
          },
          "opacity": 0.85,
          "size": 10
         },
         "mode": "markers",
         "text": [
          "Forecaster: ForecasterDirectMultiVariate<br>Regressor: DummyRegressor<br>Function: ForecasterDirectMultiVariate__create_predict_inputs<br>Function_hash: ec796080a559c0c7537d647aaea608ff<br>Method: _create_predict_inputs<br>Datetime: 2025-08-26 08:37:19.309645<br>Python version: 3.12.11<br>skforecast version: 0.16.0<br>numpy version: 2.1.3<br>pandas version: 2.3.2<br>sklearn version: 1.6.1<br>lightgbm version: 4.6.0<br>Platform: Linux-6.11.0-1018-azure-x86_64-with-glibc2.39<br>Processor: x86_64<br>CPU count: 4<br>Memory (GB): 16.77<br>Run time avg: 0.004557 s<br>Run time median: 0.004497 s<br>Run time p95: 0.004808 s<br>Run time std: 0.000134 s<br>Nº repeats: 10",
          "Forecaster: ForecasterDirectMultiVariate<br>Regressor: DummyRegressor<br>Function: ForecasterDirectMultiVariate__create_predict_inputs<br>Function_hash: ec796080a559c0c7537d647aaea608ff<br>Method: _create_predict_inputs<br>Datetime: 2025-08-26 08:47:00.926228<br>Python version: 3.12.11<br>skforecast version: 0.16.0<br>numpy version: 2.1.3<br>pandas version: 2.3.2<br>sklearn version: 1.6.1<br>lightgbm version: 4.6.0<br>Platform: Linux-6.11.0-1018-azure-x86_64-with-glibc2.39<br>Processor: x86_64<br>CPU count: 4<br>Memory (GB): 16.77<br>Run time avg: 0.004479 s<br>Run time median: 0.004447 s<br>Run time p95: 0.004635 s<br>Run time std: 0.000097 s<br>Nº repeats: 10",
          "Forecaster: ForecasterDirectMultiVariate<br>Regressor: DummyRegressor<br>Function: ForecasterDirectMultiVariate__create_predict_inputs<br>Function_hash: ec796080a559c0c7537d647aaea608ff<br>Method: _create_predict_inputs<br>Datetime: 2025-08-26 09:01:18.371631<br>Python version: 3.12.11<br>skforecast version: 0.16.0<br>numpy version: 2.1.3<br>pandas version: 2.3.2<br>sklearn version: 1.6.1<br>lightgbm version: 4.6.0<br>Platform: Linux-6.11.0-1018-azure-x86_64-with-glibc2.39<br>Processor: x86_64<br>CPU count: 4<br>Memory (GB): 16.77<br>Run time avg: 0.004528 s<br>Run time median: 0.004509 s<br>Run time p95: 0.004707 s<br>Run time std: 0.000108 s<br>Nº repeats: 10",
          "Forecaster: ForecasterDirectMultiVariate<br>Regressor: DummyRegressor<br>Function: ForecasterDirectMultiVariate__create_predict_inputs<br>Function_hash: ec796080a559c0c7537d647aaea608ff<br>Method: _create_predict_inputs<br>Datetime: 2025-08-26 09:11:56.574182<br>Python version: 3.12.11<br>skforecast version: 0.16.0<br>numpy version: 2.1.3<br>pandas version: 2.3.2<br>sklearn version: 1.6.1<br>lightgbm version: 4.6.0<br>Platform: Linux-6.11.0-1018-azure-x86_64-with-glibc2.39<br>Processor: x86_64<br>CPU count: 4<br>Memory (GB): 16.77<br>Run time avg: 0.004622 s<br>Run time median: 0.004585 s<br>Run time p95: 0.004815 s<br>Run time std: 0.000112 s<br>Nº repeats: 10"
         ],
         "type": "scatter",
         "visible": false,
         "x": {
          "bdata": "TZ/Rmvtp8D/0t8y7SKfwP5QZ/0eNcPA/CrGKfsSK7j8=",
          "dtype": "f8"
         },
         "y": {
          "bdata": "zcwJzXCqcj8AAOWwfFhyPzMzaxwZjHI/ZmbgMqPucj8=",
          "dtype": "f8"
         }
        },
        {
         "error_y": {
          "array": {
           "bdata": "ujNcb6AlIj+/hScwdRAYPyplpTjNXCI/CG+28tw9ID+FdGa+PewcPw==",
           "dtype": "f8"
          },
          "color": "#00CC96",
          "thickness": 1.5,
          "type": "data",
          "visible": true,
          "width": 5
         },
         "hovertemplate": "%{text}<extra></extra>",
         "marker": {
          "color": "#00CC96",
          "line": {
           "color": "white",
           "width": 1
          },
          "opacity": 0.85,
          "size": 10
         },
         "mode": "markers",
         "text": [
          "Forecaster: ForecasterDirectMultiVariate<br>Regressor: DummyRegressor<br>Function: ForecasterDirectMultiVariate__create_predict_inputs<br>Function_hash: ec796080a559c0c7537d647aaea608ff<br>Method: _create_predict_inputs<br>Datetime: 2025-08-26 07:07:52.558162<br>Python version: 3.12.11<br>skforecast version: 0.17.0<br>numpy version: 2.1.3<br>pandas version: 2.3.2<br>sklearn version: 1.6.1<br>lightgbm version: 4.6.0<br>Platform: Linux-6.11.0-1018-azure-x86_64-with-glibc2.39<br>Processor: x86_64<br>CPU count: 4<br>Memory (GB): 16.77<br>Run time avg: 0.004492 s<br>Run time median: 0.004441 s<br>Run time p95: 0.004758 s<br>Run time std: 0.000138 s<br>Nº repeats: 10",
          "Forecaster: ForecasterDirectMultiVariate<br>Regressor: DummyRegressor<br>Function: ForecasterDirectMultiVariate__create_predict_inputs<br>Function_hash: ec796080a559c0c7537d647aaea608ff<br>Method: _create_predict_inputs<br>Datetime: 2025-08-26 07:20:52.585102<br>Python version: 3.12.11<br>skforecast version: 0.17.0<br>numpy version: 2.1.3<br>pandas version: 2.3.2<br>sklearn version: 1.6.1<br>lightgbm version: 4.6.0<br>Platform: Linux-6.11.0-1018-azure-x86_64-with-glibc2.39<br>Processor: x86_64<br>CPU count: 4<br>Memory (GB): 16.77<br>Run time avg: 0.004579 s<br>Run time median: 0.004549 s<br>Run time p95: 0.004733 s<br>Run time std: 0.000092 s<br>Nº repeats: 10",
          "Forecaster: ForecasterDirectMultiVariate<br>Regressor: DummyRegressor<br>Function: ForecasterDirectMultiVariate__create_predict_inputs<br>Function_hash: ec796080a559c0c7537d647aaea608ff<br>Method: _create_predict_inputs<br>Datetime: 2025-08-26 07:39:19.316613<br>Python version: 3.12.11<br>skforecast version: 0.17.0<br>numpy version: 2.1.3<br>pandas version: 2.3.2<br>sklearn version: 1.6.1<br>lightgbm version: 4.6.0<br>Platform: Linux-6.11.0-1018-azure-x86_64-with-glibc2.39<br>Processor: x86_64<br>CPU count: 4<br>Memory (GB): 16.77<br>Run time avg: 0.004660 s<br>Run time median: 0.004626 s<br>Run time p95: 0.004887 s<br>Run time std: 0.000140 s<br>Nº repeats: 10",
          "Forecaster: ForecasterDirectMultiVariate<br>Regressor: DummyRegressor<br>Function: ForecasterDirectMultiVariate__create_predict_inputs<br>Function_hash: ec796080a559c0c7537d647aaea608ff<br>Method: _create_predict_inputs<br>Datetime: 2025-08-26 07:52:03.900382<br>Python version: 3.12.11<br>skforecast version: 0.17.0<br>numpy version: 2.1.3<br>pandas version: 2.3.2<br>sklearn version: 1.6.1<br>lightgbm version: 4.6.0<br>Platform: Linux-6.11.0-1018-azure-x86_64-with-glibc2.39<br>Processor: x86_64<br>CPU count: 4<br>Memory (GB): 16.77<br>Run time avg: 0.004510 s<br>Run time median: 0.004470 s<br>Run time p95: 0.004728 s<br>Run time std: 0.000124 s<br>Nº repeats: 10",
          "Forecaster: ForecasterDirectMultiVariate<br>Regressor: DummyRegressor<br>Function: ForecasterDirectMultiVariate__create_predict_inputs<br>Function_hash: ec796080a559c0c7537d647aaea608ff<br>Method: _create_predict_inputs<br>Datetime: 2025-08-26 08:17:59.500902<br>Python version: 3.12.11<br>skforecast version: 0.17.0<br>numpy version: 2.1.3<br>pandas version: 2.3.2<br>sklearn version: 1.6.1<br>lightgbm version: 4.6.0<br>Platform: Linux-6.11.0-1018-azure-x86_64-with-glibc2.39<br>Processor: x86_64<br>CPU count: 4<br>Memory (GB): 16.77<br>Run time avg: 0.004572 s<br>Run time median: 0.004525 s<br>Run time p95: 0.004759 s<br>Run time std: 0.000110 s<br>Nº repeats: 10"
         ],
         "type": "scatter",
         "visible": false,
         "x": {
          "bdata": "siU0UXlLAEB1WjgxAZn/Pw6QVTUnVgBAD8l0hLoQAED2U63Cc+j/Pw==",
          "dtype": "f8"
         },
         "y": {
          "bdata": "mpkXWh5mcj+ameXwW8FyPzMzGoVhFnM/MzOHval4cj9mZrbtPrpyPw==",
          "dtype": "f8"
         }
        },
        {
         "error_y": {
          "array": {
           "bdata": "X9jwgDxyDz+4/or9AQUpP8nZIoYihhQ/scfzB6RcFz8=",
           "dtype": "f8"
          },
          "color": "#636EFA",
          "thickness": 1.5,
          "type": "data",
          "visible": true,
          "width": 5
         },
         "hovertemplate": "%{text}<extra></extra>",
         "marker": {
          "color": "#636EFA",
          "line": {
           "color": "white",
           "width": 1
          },
          "opacity": 0.85,
          "size": 10
         },
         "mode": "markers",
         "text": [
          "Forecaster: ForecasterDirectMultiVariate<br>Regressor: DummyRegressor<br>Function: ForecasterDirectMultiVariate_predict<br>Function_hash: 78b2fa05725896153959b66585e2d277<br>Method: predict<br>Datetime: 2025-08-26 09:26:42.597405<br>Python version: 3.12.11<br>skforecast version: 0.15.1<br>numpy version: 2.1.3<br>pandas version: 2.3.2<br>sklearn version: 1.6.1<br>lightgbm version: 4.6.0<br>Platform: Linux-6.11.0-1018-azure-x86_64-with-glibc2.39<br>Processor: x86_64<br>CPU count: 4<br>Memory (GB): 16.77<br>Run time avg: 0.005816 s<br>Run time median: 0.005799 s<br>Run time p95: 0.005916 s<br>Run time std: 0.000060 s<br>Nº repeats: 10",
          "Forecaster: ForecasterDirectMultiVariate<br>Regressor: DummyRegressor<br>Function: ForecasterDirectMultiVariate_predict<br>Function_hash: 78b2fa05725896153959b66585e2d277<br>Method: predict<br>Datetime: 2025-08-26 09:43:01.964941<br>Python version: 3.12.11<br>skforecast version: 0.15.1<br>numpy version: 2.1.3<br>pandas version: 2.3.2<br>sklearn version: 1.6.1<br>lightgbm version: 4.6.0<br>Platform: Linux-6.11.0-1018-azure-x86_64-with-glibc2.39<br>Processor: x86_64<br>CPU count: 4<br>Memory (GB): 16.77<br>Run time avg: 0.006034 s<br>Run time median: 0.005934 s<br>Run time p95: 0.006380 s<br>Run time std: 0.000191 s<br>Nº repeats: 10",
          "Forecaster: ForecasterDirectMultiVariate<br>Regressor: DummyRegressor<br>Function: ForecasterDirectMultiVariate_predict<br>Function_hash: 78b2fa05725896153959b66585e2d277<br>Method: predict<br>Datetime: 2025-08-26 09:55:42.744233<br>Python version: 3.12.11<br>skforecast version: 0.15.1<br>numpy version: 2.1.3<br>pandas version: 2.3.2<br>sklearn version: 1.6.1<br>lightgbm version: 4.6.0<br>Platform: Linux-6.11.0-1018-azure-x86_64-with-glibc2.39<br>Processor: x86_64<br>CPU count: 4<br>Memory (GB): 16.77<br>Run time avg: 0.005806 s<br>Run time median: 0.005780 s<br>Run time p95: 0.005940 s<br>Run time std: 0.000078 s<br>Nº repeats: 10",
          "Forecaster: ForecasterDirectMultiVariate<br>Regressor: DummyRegressor<br>Function: ForecasterDirectMultiVariate_predict<br>Function_hash: 78b2fa05725896153959b66585e2d277<br>Method: predict<br>Datetime: 2025-08-26 10:19:13.155876<br>Python version: 3.12.11<br>skforecast version: 0.15.1<br>numpy version: 2.1.3<br>pandas version: 2.3.2<br>sklearn version: 1.6.1<br>lightgbm version: 4.6.0<br>Platform: Linux-6.11.0-1018-azure-x86_64-with-glibc2.39<br>Processor: x86_64<br>CPU count: 4<br>Memory (GB): 16.77<br>Run time avg: 0.005707 s<br>Run time median: 0.005682 s<br>Run time p95: 0.005858 s<br>Run time std: 0.000089 s<br>Nº repeats: 10"
         ],
         "type": "scatter",
         "visible": false,
         "x": {
          "bdata": "zC4FUxfblj+QXqtGjxKYv7CUiuqi3mO/vUJDV8sWn78=",
          "dtype": "f8"
         },
         "y": {
          "bdata": "MzNgap3Sdz+amexCrrZ4P2ZmvBpOyHc/AACOMzVgdz8=",
          "dtype": "f8"
         }
        },
        {
         "error_y": {
          "array": {
           "bdata": "Q+FyqgLTDz/FBp2uiuNkP2VSqIlltRI/Jm4wab6tEz8=",
           "dtype": "f8"
          },
          "color": "#EF553B",
          "thickness": 1.5,
          "type": "data",
          "visible": true,
          "width": 5
         },
         "hovertemplate": "%{text}<extra></extra>",
         "marker": {
          "color": "#EF553B",
          "line": {
           "color": "white",
           "width": 1
          },
          "opacity": 0.85,
          "size": 10
         },
         "mode": "markers",
         "text": [
          "Forecaster: ForecasterDirectMultiVariate<br>Regressor: DummyRegressor<br>Function: ForecasterDirectMultiVariate_predict<br>Function_hash: 78b2fa05725896153959b66585e2d277<br>Method: predict<br>Datetime: 2025-08-26 08:37:19.365714<br>Python version: 3.12.11<br>skforecast version: 0.16.0<br>numpy version: 2.1.3<br>pandas version: 2.3.2<br>sklearn version: 1.6.1<br>lightgbm version: 4.6.0<br>Platform: Linux-6.11.0-1018-azure-x86_64-with-glibc2.39<br>Processor: x86_64<br>CPU count: 4<br>Memory (GB): 16.77<br>Run time avg: 0.005159 s<br>Run time median: 0.005154 s<br>Run time p95: 0.005259 s<br>Run time std: 0.000061 s<br>Nº repeats: 10",
          "Forecaster: ForecasterDirectMultiVariate<br>Regressor: DummyRegressor<br>Function: ForecasterDirectMultiVariate_predict<br>Function_hash: 78b2fa05725896153959b66585e2d277<br>Method: predict<br>Datetime: 2025-08-26 08:47:00.998350<br>Python version: 3.12.11<br>skforecast version: 0.16.0<br>numpy version: 2.1.3<br>pandas version: 2.3.2<br>sklearn version: 1.6.1<br>lightgbm version: 4.6.0<br>Platform: Linux-6.11.0-1018-azure-x86_64-with-glibc2.39<br>Processor: x86_64<br>CPU count: 4<br>Memory (GB): 16.77<br>Run time avg: 0.006760 s<br>Run time median: 0.005227 s<br>Run time p95: 0.011311 s<br>Run time std: 0.002550 s<br>Nº repeats: 10",
          "Forecaster: ForecasterDirectMultiVariate<br>Regressor: DummyRegressor<br>Function: ForecasterDirectMultiVariate_predict<br>Function_hash: 78b2fa05725896153959b66585e2d277<br>Method: predict<br>Datetime: 2025-08-26 09:01:18.427219<br>Python version: 3.12.11<br>skforecast version: 0.16.0<br>numpy version: 2.1.3<br>pandas version: 2.3.2<br>sklearn version: 1.6.1<br>lightgbm version: 4.6.0<br>Platform: Linux-6.11.0-1018-azure-x86_64-with-glibc2.39<br>Processor: x86_64<br>CPU count: 4<br>Memory (GB): 16.77<br>Run time avg: 0.005126 s<br>Run time median: 0.005103 s<br>Run time p95: 0.005245 s<br>Run time std: 0.000071 s<br>Nº repeats: 10",
          "Forecaster: ForecasterDirectMultiVariate<br>Regressor: DummyRegressor<br>Function: ForecasterDirectMultiVariate_predict<br>Function_hash: 78b2fa05725896153959b66585e2d277<br>Method: predict<br>Datetime: 2025-08-26 09:11:56.630615<br>Python version: 3.12.11<br>skforecast version: 0.16.0<br>numpy version: 2.1.3<br>pandas version: 2.3.2<br>sklearn version: 1.6.1<br>lightgbm version: 4.6.0<br>Platform: Linux-6.11.0-1018-azure-x86_64-with-glibc2.39<br>Processor: x86_64<br>CPU count: 4<br>Memory (GB): 16.77<br>Run time avg: 0.005171 s<br>Run time median: 0.005139 s<br>Run time p95: 0.005304 s<br>Run time std: 0.000075 s<br>Nº repeats: 10"
         ],
         "type": "scatter",
         "visible": false,
         "x": {
          "bdata": "HRs1jcp37j9m8yubEIDwPwGaw29WPPA/tpQd//gx8D8=",
          "dtype": "f8"
         },
         "y": {
          "bdata": "mpngURUhdT9mZjw4s7B7P5qZge+E/nQ/MzMWdi0udT8=",
          "dtype": "f8"
         }
        },
        {
         "error_y": {
          "array": {
           "bdata": "Ypd+ruFFDT9vDgpIZrcOP2RP64OfriQ///gACSrbJD+mVdD5Hi0TPw==",
           "dtype": "f8"
          },
          "color": "#00CC96",
          "thickness": 1.5,
          "type": "data",
          "visible": true,
          "width": 5
         },
         "hovertemplate": "%{text}<extra></extra>",
         "marker": {
          "color": "#00CC96",
          "line": {
           "color": "white",
           "width": 1
          },
          "opacity": 0.85,
          "size": 10
         },
         "mode": "markers",
         "text": [
          "Forecaster: ForecasterDirectMultiVariate<br>Regressor: DummyRegressor<br>Function: ForecasterDirectMultiVariate_predict<br>Function_hash: 78b2fa05725896153959b66585e2d277<br>Method: predict<br>Datetime: 2025-08-26 07:07:52.612492<br>Python version: 3.12.11<br>skforecast version: 0.17.0<br>numpy version: 2.1.3<br>pandas version: 2.3.2<br>sklearn version: 1.6.1<br>lightgbm version: 4.6.0<br>Platform: Linux-6.11.0-1018-azure-x86_64-with-glibc2.39<br>Processor: x86_64<br>CPU count: 4<br>Memory (GB): 16.77<br>Run time avg: 0.005075 s<br>Run time median: 0.005060 s<br>Run time p95: 0.005174 s<br>Run time std: 0.000056 s<br>Nº repeats: 10",
          "Forecaster: ForecasterDirectMultiVariate<br>Regressor: DummyRegressor<br>Function: ForecasterDirectMultiVariate_predict<br>Function_hash: 78b2fa05725896153959b66585e2d277<br>Method: predict<br>Datetime: 2025-08-26 07:20:52.640567<br>Python version: 3.12.11<br>skforecast version: 0.17.0<br>numpy version: 2.1.3<br>pandas version: 2.3.2<br>sklearn version: 1.6.1<br>lightgbm version: 4.6.0<br>Platform: Linux-6.11.0-1018-azure-x86_64-with-glibc2.39<br>Processor: x86_64<br>CPU count: 4<br>Memory (GB): 16.77<br>Run time avg: 0.005171 s<br>Run time median: 0.005154 s<br>Run time p95: 0.005274 s<br>Run time std: 0.000059 s<br>Nº repeats: 10",
          "Forecaster: ForecasterDirectMultiVariate<br>Regressor: DummyRegressor<br>Function: ForecasterDirectMultiVariate_predict<br>Function_hash: 78b2fa05725896153959b66585e2d277<br>Method: predict<br>Datetime: 2025-08-26 07:39:19.374680<br>Python version: 3.12.11<br>skforecast version: 0.17.0<br>numpy version: 2.1.3<br>pandas version: 2.3.2<br>sklearn version: 1.6.1<br>lightgbm version: 4.6.0<br>Platform: Linux-6.11.0-1018-azure-x86_64-with-glibc2.39<br>Processor: x86_64<br>CPU count: 4<br>Memory (GB): 16.77<br>Run time avg: 0.005327 s<br>Run time median: 0.005260 s<br>Run time p95: 0.005613 s<br>Run time std: 0.000158 s<br>Nº repeats: 10",
          "Forecaster: ForecasterDirectMultiVariate<br>Regressor: DummyRegressor<br>Function: ForecasterDirectMultiVariate_predict<br>Function_hash: 78b2fa05725896153959b66585e2d277<br>Method: predict<br>Datetime: 2025-08-26 07:52:03.956521<br>Python version: 3.12.11<br>skforecast version: 0.17.0<br>numpy version: 2.1.3<br>pandas version: 2.3.2<br>sklearn version: 1.6.1<br>lightgbm version: 4.6.0<br>Platform: Linux-6.11.0-1018-azure-x86_64-with-glibc2.39<br>Processor: x86_64<br>CPU count: 4<br>Memory (GB): 16.77<br>Run time avg: 0.005146 s<br>Run time median: 0.005097 s<br>Run time p95: 0.005422 s<br>Run time std: 0.000159 s<br>Nº repeats: 10",
          "Forecaster: ForecasterDirectMultiVariate<br>Regressor: DummyRegressor<br>Function: ForecasterDirectMultiVariate_predict<br>Function_hash: 78b2fa05725896153959b66585e2d277<br>Method: predict<br>Datetime: 2025-08-26 08:17:59.556512<br>Python version: 3.12.11<br>skforecast version: 0.17.0<br>numpy version: 2.1.3<br>pandas version: 2.3.2<br>sklearn version: 1.6.1<br>lightgbm version: 4.6.0<br>Platform: Linux-6.11.0-1018-azure-x86_64-with-glibc2.39<br>Processor: x86_64<br>CPU count: 4<br>Memory (GB): 16.77<br>Run time avg: 0.005140 s<br>Run time median: 0.005109 s<br>Run time p95: 0.005269 s<br>Run time std: 0.000073 s<br>Nº repeats: 10"
         ],
         "type": "scatter",
         "visible": false,
         "x": {
          "bdata": "4lux9UB2/z9WkXtHB7b/Px5zM3bf1/8/QTpzqA4IAECMHTE+8sv/Pw==",
          "dtype": "f8"
         },
         "y": {
          "bdata": "mpkxe/DJdD+amQ09Pi51P2ZmlZNI0nU/mpnmZRQUdT/NzAQuMQ11Pw==",
          "dtype": "f8"
         }
        },
        {
         "error_y": {
          "array": {
           "bdata": "+P1CxxcYGT/cTUW+mqUiP/s1k+LcIR4/F/VYCQKzEj8=",
           "dtype": "f8"
          },
          "color": "#636EFA",
          "thickness": 1.5,
          "type": "data",
          "visible": true,
          "width": 5
         },
         "hovertemplate": "%{text}<extra></extra>",
         "marker": {
          "color": "#636EFA",
          "line": {
           "color": "white",
           "width": 1
          },
          "opacity": 0.85,
          "size": 10
         },
         "mode": "markers",
         "text": [
          "Forecaster: ForecasterDirectMultiVariate<br>Regressor: DummyRegressor<br>Function: ForecasterDirectMultiVariate_predict_interval_conformal<br>Function_hash: 6c36425a6cefc20ce1b28e2acb4ed9bd<br>Method: predict_interval_conformal<br>Datetime: 2025-08-26 09:26:42.666737<br>Python version: 3.12.11<br>skforecast version: 0.15.1<br>numpy version: 2.1.3<br>pandas version: 2.3.2<br>sklearn version: 1.6.1<br>lightgbm version: 4.6.0<br>Platform: Linux-6.11.0-1018-azure-x86_64-with-glibc2.39<br>Processor: x86_64<br>CPU count: 4<br>Memory (GB): 16.77<br>Run time avg: 0.006468 s<br>Run time median: 0.006437 s<br>Run time p95: 0.006620 s<br>Run time std: 0.000096 s<br>Nº repeats: 10",
          "Forecaster: ForecasterDirectMultiVariate<br>Regressor: DummyRegressor<br>Function: ForecasterDirectMultiVariate_predict_interval_conformal<br>Function_hash: 6c36425a6cefc20ce1b28e2acb4ed9bd<br>Method: predict_interval_conformal<br>Datetime: 2025-08-26 09:43:02.038184<br>Python version: 3.12.11<br>skforecast version: 0.15.1<br>numpy version: 2.1.3<br>pandas version: 2.3.2<br>sklearn version: 1.6.1<br>lightgbm version: 4.6.0<br>Platform: Linux-6.11.0-1018-azure-x86_64-with-glibc2.39<br>Processor: x86_64<br>CPU count: 4<br>Memory (GB): 16.77<br>Run time avg: 0.006775 s<br>Run time median: 0.006750 s<br>Run time p95: 0.006970 s<br>Run time std: 0.000142 s<br>Nº repeats: 10",
          "Forecaster: ForecasterDirectMultiVariate<br>Regressor: DummyRegressor<br>Function: ForecasterDirectMultiVariate_predict_interval_conformal<br>Function_hash: 6c36425a6cefc20ce1b28e2acb4ed9bd<br>Method: predict_interval_conformal<br>Datetime: 2025-08-26 09:55:42.814449<br>Python version: 3.12.11<br>skforecast version: 0.15.1<br>numpy version: 2.1.3<br>pandas version: 2.3.2<br>sklearn version: 1.6.1<br>lightgbm version: 4.6.0<br>Platform: Linux-6.11.0-1018-azure-x86_64-with-glibc2.39<br>Processor: x86_64<br>CPU count: 4<br>Memory (GB): 16.77<br>Run time avg: 0.006476 s<br>Run time median: 0.006420 s<br>Run time p95: 0.006685 s<br>Run time std: 0.000115 s<br>Nº repeats: 10",
          "Forecaster: ForecasterDirectMultiVariate<br>Regressor: DummyRegressor<br>Function: ForecasterDirectMultiVariate_predict_interval_conformal<br>Function_hash: 6c36425a6cefc20ce1b28e2acb4ed9bd<br>Method: predict_interval_conformal<br>Datetime: 2025-08-26 10:19:13.223879<br>Python version: 3.12.11<br>skforecast version: 0.15.1<br>numpy version: 2.1.3<br>pandas version: 2.3.2<br>sklearn version: 1.6.1<br>lightgbm version: 4.6.0<br>Platform: Linux-6.11.0-1018-azure-x86_64-with-glibc2.39<br>Processor: x86_64<br>CPU count: 4<br>Memory (GB): 16.77<br>Run time avg: 0.006330 s<br>Run time median: 0.006306 s<br>Run time p95: 0.006462 s<br>Run time std: 0.000071 s<br>Nº repeats: 10"
         ],
         "type": "scatter",
         "visible": false,
         "x": {
          "bdata": "6LIGm/+yfT/wLodw8Wt6P/BygXPK9qI/UKcyWEAobL8=",
          "dtype": "f8"
         },
         "y": {
          "bdata": "mpmy5mR+ej8zM+YZD8B7P2Zmt3AHh3o/mpmBW7/teT8=",
          "dtype": "f8"
         }
        },
        {
         "error_y": {
          "array": {
           "bdata": "xuLatGxOFT+OaNnagSZSPxmHR89InQ8//rUFeSVvKz8=",
           "dtype": "f8"
          },
          "color": "#EF553B",
          "thickness": 1.5,
          "type": "data",
          "visible": true,
          "width": 5
         },
         "hovertemplate": "%{text}<extra></extra>",
         "marker": {
          "color": "#EF553B",
          "line": {
           "color": "white",
           "width": 1
          },
          "opacity": 0.85,
          "size": 10
         },
         "mode": "markers",
         "text": [
          "Forecaster: ForecasterDirectMultiVariate<br>Regressor: DummyRegressor<br>Function: ForecasterDirectMultiVariate_predict_interval_conformal<br>Function_hash: 6c36425a6cefc20ce1b28e2acb4ed9bd<br>Method: predict_interval_conformal<br>Datetime: 2025-08-26 08:37:19.428047<br>Python version: 3.12.11<br>skforecast version: 0.16.0<br>numpy version: 2.1.3<br>pandas version: 2.3.2<br>sklearn version: 1.6.1<br>lightgbm version: 4.6.0<br>Platform: Linux-6.11.0-1018-azure-x86_64-with-glibc2.39<br>Processor: x86_64<br>CPU count: 4<br>Memory (GB): 16.77<br>Run time avg: 0.005790 s<br>Run time median: 0.005768 s<br>Run time p95: 0.005926 s<br>Run time std: 0.000081 s<br>Nº repeats: 10",
          "Forecaster: ForecasterDirectMultiVariate<br>Regressor: DummyRegressor<br>Function: ForecasterDirectMultiVariate_predict_interval_conformal<br>Function_hash: 6c36425a6cefc20ce1b28e2acb4ed9bd<br>Method: predict_interval_conformal<br>Datetime: 2025-08-26 08:47:01.066544<br>Python version: 3.12.11<br>skforecast version: 0.16.0<br>numpy version: 2.1.3<br>pandas version: 2.3.2<br>sklearn version: 1.6.1<br>lightgbm version: 4.6.0<br>Platform: Linux-6.11.0-1018-azure-x86_64-with-glibc2.39<br>Processor: x86_64<br>CPU count: 4<br>Memory (GB): 16.77<br>Run time avg: 0.006038 s<br>Run time median: 0.005672 s<br>Run time p95: 0.007727 s<br>Run time std: 0.001108 s<br>Nº repeats: 10",
          "Forecaster: ForecasterDirectMultiVariate<br>Regressor: DummyRegressor<br>Function: ForecasterDirectMultiVariate_predict_interval_conformal<br>Function_hash: 6c36425a6cefc20ce1b28e2acb4ed9bd<br>Method: predict_interval_conformal<br>Datetime: 2025-08-26 09:01:18.489163<br>Python version: 3.12.11<br>skforecast version: 0.16.0<br>numpy version: 2.1.3<br>pandas version: 2.3.2<br>sklearn version: 1.6.1<br>lightgbm version: 4.6.0<br>Platform: Linux-6.11.0-1018-azure-x86_64-with-glibc2.39<br>Processor: x86_64<br>CPU count: 4<br>Memory (GB): 16.77<br>Run time avg: 0.005767 s<br>Run time median: 0.005744 s<br>Run time p95: 0.005872 s<br>Run time std: 0.000060 s<br>Nº repeats: 10",
          "Forecaster: ForecasterDirectMultiVariate<br>Regressor: DummyRegressor<br>Function: ForecasterDirectMultiVariate_predict_interval_conformal<br>Function_hash: 6c36425a6cefc20ce1b28e2acb4ed9bd<br>Method: predict_interval_conformal<br>Datetime: 2025-08-26 09:11:56.694375<br>Python version: 3.12.11<br>skforecast version: 0.16.0<br>numpy version: 2.1.3<br>pandas version: 2.3.2<br>sklearn version: 1.6.1<br>lightgbm version: 4.6.0<br>Platform: Linux-6.11.0-1018-azure-x86_64-with-glibc2.39<br>Processor: x86_64<br>CPU count: 4<br>Memory (GB): 16.77<br>Run time avg: 0.005911 s<br>Run time median: 0.005814 s<br>Run time p95: 0.006297 s<br>Run time std: 0.000209 s<br>Nº repeats: 10"
         ],
         "type": "scatter",
         "visible": false,
         "x": {
          "bdata": "IyAKDjNw7z9mjqdTGrrvP00/um/Uxe4/XmPar++e7j8=",
          "dtype": "f8"
         },
         "y": {
          "bdata": "MzMe1iC3dz+amVPTCbt4P83MyJh6n3c/MzN1zz42eD8=",
          "dtype": "f8"
         }
        },
        {
         "error_y": {
          "array": {
           "bdata": "ucfJ5Y9BED8hp1RWVZMMP2AV7FwzfSQ/yZppyw4aET88DhDwPV8TPw==",
           "dtype": "f8"
          },
          "color": "#00CC96",
          "thickness": 1.5,
          "type": "data",
          "visible": true,
          "width": 5
         },
         "hovertemplate": "%{text}<extra></extra>",
         "marker": {
          "color": "#00CC96",
          "line": {
           "color": "white",
           "width": 1
          },
          "opacity": 0.85,
          "size": 10
         },
         "mode": "markers",
         "text": [
          "Forecaster: ForecasterDirectMultiVariate<br>Regressor: DummyRegressor<br>Function: ForecasterDirectMultiVariate_predict_interval_conformal<br>Function_hash: 6c36425a6cefc20ce1b28e2acb4ed9bd<br>Method: predict_interval_conformal<br>Datetime: 2025-08-26 07:07:52.672972<br>Python version: 3.12.11<br>skforecast version: 0.17.0<br>numpy version: 2.1.3<br>pandas version: 2.3.2<br>sklearn version: 1.6.1<br>lightgbm version: 4.6.0<br>Platform: Linux-6.11.0-1018-azure-x86_64-with-glibc2.39<br>Processor: x86_64<br>CPU count: 4<br>Memory (GB): 16.77<br>Run time avg: 0.005690 s<br>Run time median: 0.005672 s<br>Run time p95: 0.005803 s<br>Run time std: 0.000062 s<br>Nº repeats: 10",
          "Forecaster: ForecasterDirectMultiVariate<br>Regressor: DummyRegressor<br>Function: ForecasterDirectMultiVariate_predict_interval_conformal<br>Function_hash: 6c36425a6cefc20ce1b28e2acb4ed9bd<br>Method: predict_interval_conformal<br>Datetime: 2025-08-26 07:20:52.703001<br>Python version: 3.12.11<br>skforecast version: 0.17.0<br>numpy version: 2.1.3<br>pandas version: 2.3.2<br>sklearn version: 1.6.1<br>lightgbm version: 4.6.0<br>Platform: Linux-6.11.0-1018-azure-x86_64-with-glibc2.39<br>Processor: x86_64<br>CPU count: 4<br>Memory (GB): 16.77<br>Run time avg: 0.005869 s<br>Run time median: 0.005887 s<br>Run time p95: 0.005933 s<br>Run time std: 0.000055 s<br>Nº repeats: 10",
          "Forecaster: ForecasterDirectMultiVariate<br>Regressor: DummyRegressor<br>Function: ForecasterDirectMultiVariate_predict_interval_conformal<br>Function_hash: 6c36425a6cefc20ce1b28e2acb4ed9bd<br>Method: predict_interval_conformal<br>Datetime: 2025-08-26 07:39:19.438872<br>Python version: 3.12.11<br>skforecast version: 0.17.0<br>numpy version: 2.1.3<br>pandas version: 2.3.2<br>sklearn version: 1.6.1<br>lightgbm version: 4.6.0<br>Platform: Linux-6.11.0-1018-azure-x86_64-with-glibc2.39<br>Processor: x86_64<br>CPU count: 4<br>Memory (GB): 16.77<br>Run time avg: 0.005961 s<br>Run time median: 0.005934 s<br>Run time p95: 0.006220 s<br>Run time std: 0.000156 s<br>Nº repeats: 10",
          "Forecaster: ForecasterDirectMultiVariate<br>Regressor: DummyRegressor<br>Function: ForecasterDirectMultiVariate_predict_interval_conformal<br>Function_hash: 6c36425a6cefc20ce1b28e2acb4ed9bd<br>Method: predict_interval_conformal<br>Datetime: 2025-08-26 07:52:04.018115<br>Python version: 3.12.11<br>skforecast version: 0.17.0<br>numpy version: 2.1.3<br>pandas version: 2.3.2<br>sklearn version: 1.6.1<br>lightgbm version: 4.6.0<br>Platform: Linux-6.11.0-1018-azure-x86_64-with-glibc2.39<br>Processor: x86_64<br>CPU count: 4<br>Memory (GB): 16.77<br>Run time avg: 0.005714 s<br>Run time median: 0.005705 s<br>Run time p95: 0.005819 s<br>Run time std: 0.000065 s<br>Nº repeats: 10",
          "Forecaster: ForecasterDirectMultiVariate<br>Regressor: DummyRegressor<br>Function: ForecasterDirectMultiVariate_predict_interval_conformal<br>Function_hash: 6c36425a6cefc20ce1b28e2acb4ed9bd<br>Method: predict_interval_conformal<br>Datetime: 2025-08-26 08:17:59.618522<br>Python version: 3.12.11<br>skforecast version: 0.17.0<br>numpy version: 2.1.3<br>pandas version: 2.3.2<br>sklearn version: 1.6.1<br>lightgbm version: 4.6.0<br>Platform: Linux-6.11.0-1018-azure-x86_64-with-glibc2.39<br>Processor: x86_64<br>CPU count: 4<br>Memory (GB): 16.77<br>Run time avg: 0.005768 s<br>Run time median: 0.005743 s<br>Run time p95: 0.005889 s<br>Run time std: 0.000074 s<br>Nº repeats: 10"
         ],
         "type": "scatter",
         "visible": false,
         "x": {
          "bdata": "qva9RJqU/z8+phoJ4MP/P0MVr3xCSQBAUowQeNw2AEDn15CrDO3/Pw==",
          "dtype": "f8"
         },
         "y": {
          "bdata": "AABcG2hOdz+amXJ53Al4PzMzADpiang/MzMc/k5ndz8zM0m8Q6B3Pw==",
          "dtype": "f8"
         }
        },
        {
         "error_y": {
          "array": {
           "bdata": "zoJJQ0VCOz8iV157iERWP8rvLhDXxEs/FV2Z7PkMRT8=",
           "dtype": "f8"
          },
          "color": "#636EFA",
          "thickness": 1.5,
          "type": "data",
          "visible": true,
          "width": 5
         },
         "hovertemplate": "%{text}<extra></extra>",
         "marker": {
          "color": "#636EFA",
          "line": {
           "color": "white",
           "width": 1
          },
          "opacity": 0.85,
          "size": 10
         },
         "mode": "markers",
         "text": [
          "Forecaster: ForecasterDirectMultiVariate<br>Regressor: DummyRegressor<br>Function: ForecasterDirectMultiVariate_backtesting<br>Function_hash: 84ff29fb10b6ba20d9d5096358d00a74<br>Method: backtesting<br>Datetime: 2025-08-26 09:26:43.467685<br>Python version: 3.12.11<br>skforecast version: 0.15.1<br>numpy version: 2.1.3<br>pandas version: 2.3.2<br>sklearn version: 1.6.1<br>lightgbm version: 4.6.0<br>Platform: Linux-6.11.0-1018-azure-x86_64-with-glibc2.39<br>Processor: x86_64<br>CPU count: 4<br>Memory (GB): 16.77<br>Run time avg: 0.159218 s<br>Run time median: 0.159126 s<br>Run time p95: 0.159817 s<br>Run time std: 0.000416 s<br>Nº repeats: 5",
          "Forecaster: ForecasterDirectMultiVariate<br>Regressor: DummyRegressor<br>Function: ForecasterDirectMultiVariate_backtesting<br>Function_hash: 84ff29fb10b6ba20d9d5096358d00a74<br>Method: backtesting<br>Datetime: 2025-08-26 09:43:02.880306<br>Python version: 3.12.11<br>skforecast version: 0.15.1<br>numpy version: 2.1.3<br>pandas version: 2.3.2<br>sklearn version: 1.6.1<br>lightgbm version: 4.6.0<br>Platform: Linux-6.11.0-1018-azure-x86_64-with-glibc2.39<br>Processor: x86_64<br>CPU count: 4<br>Memory (GB): 16.77<br>Run time avg: 0.167203 s<br>Run time median: 0.167003 s<br>Run time p95: 0.169197 s<br>Run time std: 0.001359 s<br>Nº repeats: 5",
          "Forecaster: ForecasterDirectMultiVariate<br>Regressor: DummyRegressor<br>Function: ForecasterDirectMultiVariate_backtesting<br>Function_hash: 84ff29fb10b6ba20d9d5096358d00a74<br>Method: backtesting<br>Datetime: 2025-08-26 09:55:43.629887<br>Python version: 3.12.11<br>skforecast version: 0.15.1<br>numpy version: 2.1.3<br>pandas version: 2.3.2<br>sklearn version: 1.6.1<br>lightgbm version: 4.6.0<br>Platform: Linux-6.11.0-1018-azure-x86_64-with-glibc2.39<br>Processor: x86_64<br>CPU count: 4<br>Memory (GB): 16.77<br>Run time avg: 0.161944 s<br>Run time median: 0.161694 s<br>Run time p95: 0.163229 s<br>Run time std: 0.000847 s<br>Nº repeats: 5",
          "Forecaster: ForecasterDirectMultiVariate<br>Regressor: DummyRegressor<br>Function: ForecasterDirectMultiVariate_backtesting<br>Function_hash: 84ff29fb10b6ba20d9d5096358d00a74<br>Method: backtesting<br>Datetime: 2025-08-26 10:19:14.029216<br>Python version: 3.12.11<br>skforecast version: 0.15.1<br>numpy version: 2.1.3<br>pandas version: 2.3.2<br>sklearn version: 1.6.1<br>lightgbm version: 4.6.0<br>Platform: Linux-6.11.0-1018-azure-x86_64-with-glibc2.39<br>Processor: x86_64<br>CPU count: 4<br>Memory (GB): 16.77<br>Run time avg: 0.160108 s<br>Run time median: 0.160162 s<br>Run time p95: 0.160887 s<br>Run time std: 0.000642 s<br>Nº repeats: 5"
         ],
         "type": "scatter",
         "visible": false,
         "x": {
          "bdata": "LPf7LKYkgr8Mg1aAbLKRP4D9RRKRYpk/KO4AdzfwnT8=",
          "dtype": "f8"
         },
         "y": {
          "bdata": "mjmnIj9hxD/NPFaw5GbFP82sWsKTusQ/zXyxhGh+xD8=",
          "dtype": "f8"
         }
        },
        {
         "error_y": {
          "array": {
           "bdata": "7aif1HeEQj+GYE08Se9LP5csoYxOXEQ/pWVfruf1Pz8=",
           "dtype": "f8"
          },
          "color": "#EF553B",
          "thickness": 1.5,
          "type": "data",
          "visible": true,
          "width": 5
         },
         "hovertemplate": "%{text}<extra></extra>",
         "marker": {
          "color": "#EF553B",
          "line": {
           "color": "white",
           "width": 1
          },
          "opacity": 0.85,
          "size": 10
         },
         "mode": "markers",
         "text": [
          "Forecaster: ForecasterDirectMultiVariate<br>Regressor: DummyRegressor<br>Function: ForecasterDirectMultiVariate_backtesting<br>Function_hash: 84ff29fb10b6ba20d9d5096358d00a74<br>Method: backtesting<br>Datetime: 2025-08-26 08:37:20.129154<br>Python version: 3.12.11<br>skforecast version: 0.16.0<br>numpy version: 2.1.3<br>pandas version: 2.3.2<br>sklearn version: 1.6.1<br>lightgbm version: 4.6.0<br>Platform: Linux-6.11.0-1018-azure-x86_64-with-glibc2.39<br>Processor: x86_64<br>CPU count: 4<br>Memory (GB): 16.77<br>Run time avg: 0.139284 s<br>Run time median: 0.139308 s<br>Run time p95: 0.140062 s<br>Run time std: 0.000565 s<br>Nº repeats: 5",
          "Forecaster: ForecasterDirectMultiVariate<br>Regressor: DummyRegressor<br>Function: ForecasterDirectMultiVariate_backtesting<br>Function_hash: 84ff29fb10b6ba20d9d5096358d00a74<br>Method: backtesting<br>Datetime: 2025-08-26 08:47:01.754294<br>Python version: 3.12.11<br>skforecast version: 0.16.0<br>numpy version: 2.1.3<br>pandas version: 2.3.2<br>sklearn version: 1.6.1<br>lightgbm version: 4.6.0<br>Platform: Linux-6.11.0-1018-azure-x86_64-with-glibc2.39<br>Processor: x86_64<br>CPU count: 4<br>Memory (GB): 16.77<br>Run time avg: 0.136640 s<br>Run time median: 0.136338 s<br>Run time p95: 0.137933 s<br>Run time std: 0.000852 s<br>Nº repeats: 5",
          "Forecaster: ForecasterDirectMultiVariate<br>Regressor: DummyRegressor<br>Function: ForecasterDirectMultiVariate_backtesting<br>Function_hash: 84ff29fb10b6ba20d9d5096358d00a74<br>Method: backtesting<br>Datetime: 2025-08-26 09:01:19.176729<br>Python version: 3.12.11<br>skforecast version: 0.16.0<br>numpy version: 2.1.3<br>pandas version: 2.3.2<br>sklearn version: 1.6.1<br>lightgbm version: 4.6.0<br>Platform: Linux-6.11.0-1018-azure-x86_64-with-glibc2.39<br>Processor: x86_64<br>CPU count: 4<br>Memory (GB): 16.77<br>Run time avg: 0.136625 s<br>Run time median: 0.136317 s<br>Run time p95: 0.137580 s<br>Run time std: 0.000621 s<br>Nº repeats: 5",
          "Forecaster: ForecasterDirectMultiVariate<br>Regressor: DummyRegressor<br>Function: ForecasterDirectMultiVariate_backtesting<br>Function_hash: 84ff29fb10b6ba20d9d5096358d00a74<br>Method: backtesting<br>Datetime: 2025-08-26 09:11:57.397863<br>Python version: 3.12.11<br>skforecast version: 0.16.0<br>numpy version: 2.1.3<br>pandas version: 2.3.2<br>sklearn version: 1.6.1<br>lightgbm version: 4.6.0<br>Platform: Linux-6.11.0-1018-azure-x86_64-with-glibc2.39<br>Processor: x86_64<br>CPU count: 4<br>Memory (GB): 16.77<br>Run time avg: 0.139608 s<br>Run time median: 0.139390 s<br>Run time p95: 0.140347 s<br>Run time std: 0.000488 s<br>Nº repeats: 5"
         ],
         "type": "scatter",
         "visible": false,
         "x": {
          "bdata": "6MmpWFzH7z8wxIQtodvvPxb0/eDAU/A/GCMrUN8L7z8=",
          "dtype": "f8"
         },
         "y": {
          "bdata": "AEC6TwzUwT8zw1hzbn3BPzMzNSvsfME/AFBiga3ewT8=",
          "dtype": "f8"
         }
        },
        {
         "error_y": {
          "array": {
           "bdata": "XIPoVJx7ND+p38YEJ/MuPzHow0li7lg/Rs9AJxNAQD8EkGCJOgpDPw==",
           "dtype": "f8"
          },
          "color": "#00CC96",
          "thickness": 1.5,
          "type": "data",
          "visible": true,
          "width": 5
         },
         "hovertemplate": "%{text}<extra></extra>",
         "marker": {
          "color": "#00CC96",
          "line": {
           "color": "white",
           "width": 1
          },
          "opacity": 0.85,
          "size": 10
         },
         "mode": "markers",
         "text": [
          "Forecaster: ForecasterDirectMultiVariate<br>Regressor: DummyRegressor<br>Function: ForecasterDirectMultiVariate_backtesting<br>Function_hash: 84ff29fb10b6ba20d9d5096358d00a74<br>Method: backtesting<br>Datetime: 2025-08-26 07:07:53.361222<br>Python version: 3.12.11<br>skforecast version: 0.17.0<br>numpy version: 2.1.3<br>pandas version: 2.3.2<br>sklearn version: 1.6.1<br>lightgbm version: 4.6.0<br>Platform: Linux-6.11.0-1018-azure-x86_64-with-glibc2.39<br>Processor: x86_64<br>CPU count: 4<br>Memory (GB): 16.77<br>Run time avg: 0.136907 s<br>Run time median: 0.137057 s<br>Run time p95: 0.137106 s<br>Run time std: 0.000313 s<br>Nº repeats: 5",
          "Forecaster: ForecasterDirectMultiVariate<br>Regressor: DummyRegressor<br>Function: ForecasterDirectMultiVariate_backtesting<br>Function_hash: 84ff29fb10b6ba20d9d5096358d00a74<br>Method: backtesting<br>Datetime: 2025-08-26 07:20:53.401471<br>Python version: 3.12.11<br>skforecast version: 0.17.0<br>numpy version: 2.1.3<br>pandas version: 2.3.2<br>sklearn version: 1.6.1<br>lightgbm version: 4.6.0<br>Platform: Linux-6.11.0-1018-azure-x86_64-with-glibc2.39<br>Processor: x86_64<br>CPU count: 4<br>Memory (GB): 16.77<br>Run time avg: 0.138920 s<br>Run time median: 0.139046 s<br>Run time p95: 0.139182 s<br>Run time std: 0.000236 s<br>Nº repeats: 5",
          "Forecaster: ForecasterDirectMultiVariate<br>Regressor: DummyRegressor<br>Function: ForecasterDirectMultiVariate_backtesting<br>Function_hash: 84ff29fb10b6ba20d9d5096358d00a74<br>Method: backtesting<br>Datetime: 2025-08-26 07:39:20.150774<br>Python version: 3.12.11<br>skforecast version: 0.17.0<br>numpy version: 2.1.3<br>pandas version: 2.3.2<br>sklearn version: 1.6.1<br>lightgbm version: 4.6.0<br>Platform: Linux-6.11.0-1018-azure-x86_64-with-glibc2.39<br>Processor: x86_64<br>CPU count: 4<br>Memory (GB): 16.77<br>Run time avg: 0.141449 s<br>Run time median: 0.141690 s<br>Run time p95: 0.143140 s<br>Run time std: 0.001522 s<br>Nº repeats: 5",
          "Forecaster: ForecasterDirectMultiVariate<br>Regressor: DummyRegressor<br>Function: ForecasterDirectMultiVariate_backtesting<br>Function_hash: 84ff29fb10b6ba20d9d5096358d00a74<br>Method: backtesting<br>Datetime: 2025-08-26 07:52:04.712967<br>Python version: 3.12.11<br>skforecast version: 0.17.0<br>numpy version: 2.1.3<br>pandas version: 2.3.2<br>sklearn version: 1.6.1<br>lightgbm version: 4.6.0<br>Platform: Linux-6.11.0-1018-azure-x86_64-with-glibc2.39<br>Processor: x86_64<br>CPU count: 4<br>Memory (GB): 16.77<br>Run time avg: 0.138040 s<br>Run time median: 0.137733 s<br>Run time p95: 0.138793 s<br>Run time std: 0.000496 s<br>Nº repeats: 5",
          "Forecaster: ForecasterDirectMultiVariate<br>Regressor: DummyRegressor<br>Function: ForecasterDirectMultiVariate_backtesting<br>Function_hash: 84ff29fb10b6ba20d9d5096358d00a74<br>Method: backtesting<br>Datetime: 2025-08-26 08:18:00.313331<br>Python version: 3.12.11<br>skforecast version: 0.17.0<br>numpy version: 2.1.3<br>pandas version: 2.3.2<br>sklearn version: 1.6.1<br>lightgbm version: 4.6.0<br>Platform: Linux-6.11.0-1018-azure-x86_64-with-glibc2.39<br>Processor: x86_64<br>CPU count: 4<br>Memory (GB): 16.77<br>Run time avg: 0.138069 s<br>Run time median: 0.137910 s<br>Run time p95: 0.138778 s<br>Run time std: 0.000581 s<br>Nº repeats: 5"
         ],
         "type": "scatter",
         "visible": false,
         "x": {
          "bdata": "JrLtTnFKAECjWjZ8MeT/P8GbljJbVABAh9+wZvFy/z+vm2C19UD/Pw==",
          "dtype": "f8"
         },
         "y": {
          "bdata": "zYxmgiyGwT+aGZQ6IMjBP5rJrU0CG8I/Zrae4UmrwT8zc5d/O6zBPw==",
          "dtype": "f8"
         }
        },
        {
         "error_y": {
          "array": {
           "bdata": "I2L2oXkLOD9uQtKkZo5dP4Wpxgwj4zs/ejs8guRCQj8=",
           "dtype": "f8"
          },
          "color": "#636EFA",
          "thickness": 1.5,
          "type": "data",
          "visible": true,
          "width": 5
         },
         "hovertemplate": "%{text}<extra></extra>",
         "marker": {
          "color": "#636EFA",
          "line": {
           "color": "white",
           "width": 1
          },
          "opacity": 0.85,
          "size": 10
         },
         "mode": "markers",
         "text": [
          "Forecaster: ForecasterDirectMultiVariate<br>Regressor: DummyRegressor<br>Function: ForecasterDirectMultiVariate_backtesting_no_exog<br>Function_hash: ddb15f106bc905b52fb0b2b6560fdbac<br>Method: backtesting_no_exog<br>Datetime: 2025-08-26 09:26:44.129640<br>Python version: 3.12.11<br>skforecast version: 0.15.1<br>numpy version: 2.1.3<br>pandas version: 2.3.2<br>sklearn version: 1.6.1<br>lightgbm version: 4.6.0<br>Platform: Linux-6.11.0-1018-azure-x86_64-with-glibc2.39<br>Processor: x86_64<br>CPU count: 4<br>Memory (GB): 16.77<br>Run time avg: 0.131342 s<br>Run time median: 0.131361 s<br>Run time p95: 0.131862 s<br>Run time std: 0.000367 s<br>Nº repeats: 5",
          "Forecaster: ForecasterDirectMultiVariate<br>Regressor: DummyRegressor<br>Function: ForecasterDirectMultiVariate_backtesting_no_exog<br>Function_hash: ddb15f106bc905b52fb0b2b6560fdbac<br>Method: backtesting_no_exog<br>Datetime: 2025-08-26 09:43:03.580820<br>Python version: 3.12.11<br>skforecast version: 0.15.1<br>numpy version: 2.1.3<br>pandas version: 2.3.2<br>sklearn version: 1.6.1<br>lightgbm version: 4.6.0<br>Platform: Linux-6.11.0-1018-azure-x86_64-with-glibc2.39<br>Processor: x86_64<br>CPU count: 4<br>Memory (GB): 16.77<br>Run time avg: 0.138773 s<br>Run time median: 0.138880 s<br>Run time p95: 0.140976 s<br>Run time std: 0.001804 s<br>Nº repeats: 5",
          "Forecaster: ForecasterDirectMultiVariate<br>Regressor: DummyRegressor<br>Function: ForecasterDirectMultiVariate_backtesting_no_exog<br>Function_hash: ddb15f106bc905b52fb0b2b6560fdbac<br>Method: backtesting_no_exog<br>Datetime: 2025-08-26 09:55:44.302838<br>Python version: 3.12.11<br>skforecast version: 0.15.1<br>numpy version: 2.1.3<br>pandas version: 2.3.2<br>sklearn version: 1.6.1<br>lightgbm version: 4.6.0<br>Platform: Linux-6.11.0-1018-azure-x86_64-with-glibc2.39<br>Processor: x86_64<br>CPU count: 4<br>Memory (GB): 16.77<br>Run time avg: 0.133472 s<br>Run time median: 0.133395 s<br>Run time p95: 0.134082 s<br>Run time std: 0.000426 s<br>Nº repeats: 5",
          "Forecaster: ForecasterDirectMultiVariate<br>Regressor: DummyRegressor<br>Function: ForecasterDirectMultiVariate_backtesting_no_exog<br>Function_hash: ddb15f106bc905b52fb0b2b6560fdbac<br>Method: backtesting_no_exog<br>Datetime: 2025-08-26 10:19:14.694698<br>Python version: 3.12.11<br>skforecast version: 0.15.1<br>numpy version: 2.1.3<br>pandas version: 2.3.2<br>sklearn version: 1.6.1<br>lightgbm version: 4.6.0<br>Platform: Linux-6.11.0-1018-azure-x86_64-with-glibc2.39<br>Processor: x86_64<br>CPU count: 4<br>Memory (GB): 16.77<br>Run time avg: 0.131973 s<br>Run time median: 0.131687 s<br>Run time p95: 0.132779 s<br>Run time std: 0.000557 s<br>Nº repeats: 5"
         ],
         "type": "scatter",
         "visible": false,
         "x": {
          "bdata": "Vi55DZiIkL+NzqLTrtaZv+zcL4ezF6m/SrU+YgWmk78=",
          "dtype": "f8"
         },
         "y": {
          "bdata": "zRyTBdDPwD/NzLlbUcPBPwBQps6aFcE/ADCqI3/kwD8=",
          "dtype": "f8"
         }
        },
        {
         "error_y": {
          "array": {
           "bdata": "r2Vu291xRD8+gy8b07g9P8LiPyJUVjc/GkSVhlRGQT8=",
           "dtype": "f8"
          },
          "color": "#EF553B",
          "thickness": 1.5,
          "type": "data",
          "visible": true,
          "width": 5
         },
         "hovertemplate": "%{text}<extra></extra>",
         "marker": {
          "color": "#EF553B",
          "line": {
           "color": "white",
           "width": 1
          },
          "opacity": 0.85,
          "size": 10
         },
         "mode": "markers",
         "text": [
          "Forecaster: ForecasterDirectMultiVariate<br>Regressor: DummyRegressor<br>Function: ForecasterDirectMultiVariate_backtesting_no_exog<br>Function_hash: ddb15f106bc905b52fb0b2b6560fdbac<br>Method: backtesting_no_exog<br>Datetime: 2025-08-26 08:37:20.700301<br>Python version: 3.12.11<br>skforecast version: 0.16.0<br>numpy version: 2.1.3<br>pandas version: 2.3.2<br>sklearn version: 1.6.1<br>lightgbm version: 4.6.0<br>Platform: Linux-6.11.0-1018-azure-x86_64-with-glibc2.39<br>Processor: x86_64<br>CPU count: 4<br>Memory (GB): 16.77<br>Run time avg: 0.113242 s<br>Run time median: 0.113075 s<br>Run time p95: 0.114188 s<br>Run time std: 0.000624 s<br>Nº repeats: 5",
          "Forecaster: ForecasterDirectMultiVariate<br>Regressor: DummyRegressor<br>Function: ForecasterDirectMultiVariate_backtesting_no_exog<br>Function_hash: ddb15f106bc905b52fb0b2b6560fdbac<br>Method: backtesting_no_exog<br>Datetime: 2025-08-26 08:47:02.320441<br>Python version: 3.12.11<br>skforecast version: 0.16.0<br>numpy version: 2.1.3<br>pandas version: 2.3.2<br>sklearn version: 1.6.1<br>lightgbm version: 4.6.0<br>Platform: Linux-6.11.0-1018-azure-x86_64-with-glibc2.39<br>Processor: x86_64<br>CPU count: 4<br>Memory (GB): 16.77<br>Run time avg: 0.112248 s<br>Run time median: 0.112415 s<br>Run time p95: 0.112588 s<br>Run time std: 0.000454 s<br>Nº repeats: 5",
          "Forecaster: ForecasterDirectMultiVariate<br>Regressor: DummyRegressor<br>Function: ForecasterDirectMultiVariate_backtesting_no_exog<br>Function_hash: ddb15f106bc905b52fb0b2b6560fdbac<br>Method: backtesting_no_exog<br>Datetime: 2025-08-26 09:01:19.739679<br>Python version: 3.12.11<br>skforecast version: 0.16.0<br>numpy version: 2.1.3<br>pandas version: 2.3.2<br>sklearn version: 1.6.1<br>lightgbm version: 4.6.0<br>Platform: Linux-6.11.0-1018-azure-x86_64-with-glibc2.39<br>Processor: x86_64<br>CPU count: 4<br>Memory (GB): 16.77<br>Run time avg: 0.111624 s<br>Run time median: 0.111637 s<br>Run time p95: 0.112082 s<br>Run time std: 0.000356 s<br>Nº repeats: 5",
          "Forecaster: ForecasterDirectMultiVariate<br>Regressor: DummyRegressor<br>Function: ForecasterDirectMultiVariate_backtesting_no_exog<br>Function_hash: ddb15f106bc905b52fb0b2b6560fdbac<br>Method: backtesting_no_exog<br>Datetime: 2025-08-26 09:11:57.971818<br>Python version: 3.12.11<br>skforecast version: 0.16.0<br>numpy version: 2.1.3<br>pandas version: 2.3.2<br>sklearn version: 1.6.1<br>lightgbm version: 4.6.0<br>Platform: Linux-6.11.0-1018-azure-x86_64-with-glibc2.39<br>Processor: x86_64<br>CPU count: 4<br>Memory (GB): 16.77<br>Run time avg: 0.113761 s<br>Run time median: 0.114018 s<br>Run time p95: 0.114285 s<br>Run time std: 0.000527 s<br>Nº repeats: 5"
         ],
         "type": "scatter",
         "visible": false,
         "x": {
          "bdata": "1q/S8jC17j8dUCN/gY7uP2T68eqwXO8/29j+Z/OV7j8=",
          "dtype": "f8"
         },
         "y": {
          "bdata": "MzMJJ2f9vD9mxgA0S7y8P2ZmQv1fk7w/mhk/DGkfvT8=",
          "dtype": "f8"
         }
        },
        {
         "error_y": {
          "array": {
           "bdata": "TPHIIVu4Qj8uPdtPzLxFPyzgmFauuVU/SoydvZVbQj94xTRjkrxKPw==",
           "dtype": "f8"
          },
          "color": "#00CC96",
          "thickness": 1.5,
          "type": "data",
          "visible": true,
          "width": 5
         },
         "hovertemplate": "%{text}<extra></extra>",
         "marker": {
          "color": "#00CC96",
          "line": {
           "color": "white",
           "width": 1
          },
          "opacity": 0.85,
          "size": 10
         },
         "mode": "markers",
         "text": [
          "Forecaster: ForecasterDirectMultiVariate<br>Regressor: DummyRegressor<br>Function: ForecasterDirectMultiVariate_backtesting_no_exog<br>Function_hash: ddb15f106bc905b52fb0b2b6560fdbac<br>Method: backtesting_no_exog<br>Datetime: 2025-08-26 07:07:53.925141<br>Python version: 3.12.11<br>skforecast version: 0.17.0<br>numpy version: 2.1.3<br>pandas version: 2.3.2<br>sklearn version: 1.6.1<br>lightgbm version: 4.6.0<br>Platform: Linux-6.11.0-1018-azure-x86_64-with-glibc2.39<br>Processor: x86_64<br>CPU count: 4<br>Memory (GB): 16.77<br>Run time avg: 0.111994 s<br>Run time median: 0.111728 s<br>Run time p95: 0.112764 s<br>Run time std: 0.000571 s<br>Nº repeats: 5",
          "Forecaster: ForecasterDirectMultiVariate<br>Regressor: DummyRegressor<br>Function: ForecasterDirectMultiVariate_backtesting_no_exog<br>Function_hash: ddb15f106bc905b52fb0b2b6560fdbac<br>Method: backtesting_no_exog<br>Datetime: 2025-08-26 07:20:53.967771<br>Python version: 3.12.11<br>skforecast version: 0.17.0<br>numpy version: 2.1.3<br>pandas version: 2.3.2<br>sklearn version: 1.6.1<br>lightgbm version: 4.6.0<br>Platform: Linux-6.11.0-1018-azure-x86_64-with-glibc2.39<br>Processor: x86_64<br>CPU count: 4<br>Memory (GB): 16.77<br>Run time avg: 0.112408 s<br>Run time median: 0.112048 s<br>Run time p95: 0.113249 s<br>Run time std: 0.000663 s<br>Nº repeats: 5",
          "Forecaster: ForecasterDirectMultiVariate<br>Regressor: DummyRegressor<br>Function: ForecasterDirectMultiVariate_backtesting_no_exog<br>Function_hash: ddb15f106bc905b52fb0b2b6560fdbac<br>Method: backtesting_no_exog<br>Datetime: 2025-08-26 07:39:20.728168<br>Python version: 3.12.11<br>skforecast version: 0.17.0<br>numpy version: 2.1.3<br>pandas version: 2.3.2<br>sklearn version: 1.6.1<br>lightgbm version: 4.6.0<br>Platform: Linux-6.11.0-1018-azure-x86_64-with-glibc2.39<br>Processor: x86_64<br>CPU count: 4<br>Memory (GB): 16.77<br>Run time avg: 0.114580 s<br>Run time median: 0.114298 s<br>Run time p95: 0.116549 s<br>Run time std: 0.001326 s<br>Nº repeats: 5",
          "Forecaster: ForecasterDirectMultiVariate<br>Regressor: DummyRegressor<br>Function: ForecasterDirectMultiVariate_backtesting_no_exog<br>Function_hash: ddb15f106bc905b52fb0b2b6560fdbac<br>Method: backtesting_no_exog<br>Datetime: 2025-08-26 07:52:05.285067<br>Python version: 3.12.11<br>skforecast version: 0.17.0<br>numpy version: 2.1.3<br>pandas version: 2.3.2<br>sklearn version: 1.6.1<br>lightgbm version: 4.6.0<br>Platform: Linux-6.11.0-1018-azure-x86_64-with-glibc2.39<br>Processor: x86_64<br>CPU count: 4<br>Memory (GB): 16.77<br>Run time avg: 0.113515 s<br>Run time median: 0.113529 s<br>Run time p95: 0.114221 s<br>Run time std: 0.000560 s<br>Nº repeats: 5",
          "Forecaster: ForecasterDirectMultiVariate<br>Regressor: DummyRegressor<br>Function: ForecasterDirectMultiVariate_backtesting_no_exog<br>Function_hash: ddb15f106bc905b52fb0b2b6560fdbac<br>Method: backtesting_no_exog<br>Datetime: 2025-08-26 08:18:00.878887<br>Python version: 3.12.11<br>skforecast version: 0.17.0<br>numpy version: 2.1.3<br>pandas version: 2.3.2<br>sklearn version: 1.6.1<br>lightgbm version: 4.6.0<br>Platform: Linux-6.11.0-1018-azure-x86_64-with-glibc2.39<br>Processor: x86_64<br>CPU count: 4<br>Memory (GB): 16.77<br>Run time avg: 0.112181 s<br>Run time median: 0.111964 s<br>Run time p95: 0.113394 s<br>Run time std: 0.000816 s<br>Nº repeats: 5"
         ],
         "type": "scatter",
         "visible": false,
         "x": {
          "bdata": "kj7VfZOb/z+p1ImFbAQAQJIVoSzCNABADvAFCMdTAEAyBazlXpr/Pw==",
          "dtype": "f8"
         },
         "y": {
          "bdata": "ZiaSyZ+rvD8z02z5wMa8P2ZmvZgkVb0/ZmZjEEsPvT8AAKlg7Le8Pw==",
          "dtype": "f8"
         }
        },
        {
         "error_y": {
          "array": {
           "bdata": "FvwISbHTMT+BdM37v/5gP0niR9bByFU/x+KWDeyQQD8=",
           "dtype": "f8"
          },
          "color": "#636EFA",
          "thickness": 1.5,
          "type": "data",
          "visible": true,
          "width": 5
         },
         "hovertemplate": "%{text}<extra></extra>",
         "marker": {
          "color": "#636EFA",
          "line": {
           "color": "white",
           "width": 1
          },
          "opacity": 0.85,
          "size": 10
         },
         "mode": "markers",
         "text": [
          "Forecaster: ForecasterDirectMultiVariate<br>Regressor: DummyRegressor<br>Function: ForecasterDirectMultiVariate_backtesting_conformal<br>Function_hash: ad4b23932ecff7727297de5a23950e4d<br>Method: backtesting_conformal<br>Datetime: 2025-08-26 09:26:44.979561<br>Python version: 3.12.11<br>skforecast version: 0.15.1<br>numpy version: 2.1.3<br>pandas version: 2.3.2<br>sklearn version: 1.6.1<br>lightgbm version: 4.6.0<br>Platform: Linux-6.11.0-1018-azure-x86_64-with-glibc2.39<br>Processor: x86_64<br>CPU count: 4<br>Memory (GB): 16.77<br>Run time avg: 0.168886 s<br>Run time median: 0.169010 s<br>Run time p95: 0.169172 s<br>Run time std: 0.000272 s<br>Nº repeats: 5",
          "Forecaster: ForecasterDirectMultiVariate<br>Regressor: DummyRegressor<br>Function: ForecasterDirectMultiVariate_backtesting_conformal<br>Function_hash: ad4b23932ecff7727297de5a23950e4d<br>Method: backtesting_conformal<br>Datetime: 2025-08-26 09:43:04.470916<br>Python version: 3.12.11<br>skforecast version: 0.15.1<br>numpy version: 2.1.3<br>pandas version: 2.3.2<br>sklearn version: 1.6.1<br>lightgbm version: 4.6.0<br>Platform: Linux-6.11.0-1018-azure-x86_64-with-glibc2.39<br>Processor: x86_64<br>CPU count: 4<br>Memory (GB): 16.77<br>Run time avg: 0.176920 s<br>Run time median: 0.175976 s<br>Run time p95: 0.179602 s<br>Run time std: 0.002075 s<br>Nº repeats: 5",
          "Forecaster: ForecasterDirectMultiVariate<br>Regressor: DummyRegressor<br>Function: ForecasterDirectMultiVariate_backtesting_conformal<br>Function_hash: ad4b23932ecff7727297de5a23950e4d<br>Method: backtesting_conformal<br>Datetime: 2025-08-26 09:55:45.169803<br>Python version: 3.12.11<br>skforecast version: 0.15.1<br>numpy version: 2.1.3<br>pandas version: 2.3.2<br>sklearn version: 1.6.1<br>lightgbm version: 4.6.0<br>Platform: Linux-6.11.0-1018-azure-x86_64-with-glibc2.39<br>Processor: x86_64<br>CPU count: 4<br>Memory (GB): 16.77<br>Run time avg: 0.172242 s<br>Run time median: 0.171517 s<br>Run time p95: 0.173875 s<br>Run time std: 0.001330 s<br>Nº repeats: 5",
          "Forecaster: ForecasterDirectMultiVariate<br>Regressor: DummyRegressor<br>Function: ForecasterDirectMultiVariate_backtesting_conformal<br>Function_hash: ad4b23932ecff7727297de5a23950e4d<br>Method: backtesting_conformal<br>Datetime: 2025-08-26 10:19:15.541508<br>Python version: 3.12.11<br>skforecast version: 0.15.1<br>numpy version: 2.1.3<br>pandas version: 2.3.2<br>sklearn version: 1.6.1<br>lightgbm version: 4.6.0<br>Platform: Linux-6.11.0-1018-azure-x86_64-with-glibc2.39<br>Processor: x86_64<br>CPU count: 4<br>Memory (GB): 16.77<br>Run time avg: 0.168255 s<br>Run time median: 0.167889 s<br>Run time p95: 0.168987 s<br>Run time std: 0.000506 s<br>Nº repeats: 5"
         ],
         "type": "scatter",
         "visible": false,
         "x": {
          "bdata": "dKMA+OKHgT+En5+hasWlP8QUl/BEAJU/mLU1DRofdD8=",
          "dtype": "f8"
         },
         "y": {
          "bdata": "M2N3pg+exT9mhlHyU6XGP2YmZcwJDMY/mjlwdWKJxT8=",
          "dtype": "f8"
         }
        },
        {
         "error_y": {
          "array": {
           "bdata": "p1vl+GSsST8X1XDDt5UxP6pykjFedk4/sTnE2lwOQj8=",
           "dtype": "f8"
          },
          "color": "#EF553B",
          "thickness": 1.5,
          "type": "data",
          "visible": true,
          "width": 5
         },
         "hovertemplate": "%{text}<extra></extra>",
         "marker": {
          "color": "#EF553B",
          "line": {
           "color": "white",
           "width": 1
          },
          "opacity": 0.85,
          "size": 10
         },
         "mode": "markers",
         "text": [
          "Forecaster: ForecasterDirectMultiVariate<br>Regressor: DummyRegressor<br>Function: ForecasterDirectMultiVariate_backtesting_conformal<br>Function_hash: ad4b23932ecff7727297de5a23950e4d<br>Method: backtesting_conformal<br>Datetime: 2025-08-26 08:37:21.443557<br>Python version: 3.12.11<br>skforecast version: 0.16.0<br>numpy version: 2.1.3<br>pandas version: 2.3.2<br>sklearn version: 1.6.1<br>lightgbm version: 4.6.0<br>Platform: Linux-6.11.0-1018-azure-x86_64-with-glibc2.39<br>Processor: x86_64<br>CPU count: 4<br>Memory (GB): 16.77<br>Run time avg: 0.147642 s<br>Run time median: 0.147332 s<br>Run time p95: 0.148696 s<br>Run time std: 0.000783 s<br>Nº repeats: 5",
          "Forecaster: ForecasterDirectMultiVariate<br>Regressor: DummyRegressor<br>Function: ForecasterDirectMultiVariate_backtesting_conformal<br>Function_hash: ad4b23932ecff7727297de5a23950e4d<br>Method: backtesting_conformal<br>Datetime: 2025-08-26 08:47:03.055269<br>Python version: 3.12.11<br>skforecast version: 0.16.0<br>numpy version: 2.1.3<br>pandas version: 2.3.2<br>sklearn version: 1.6.1<br>lightgbm version: 4.6.0<br>Platform: Linux-6.11.0-1018-azure-x86_64-with-glibc2.39<br>Processor: x86_64<br>CPU count: 4<br>Memory (GB): 16.77<br>Run time avg: 0.145983 s<br>Run time median: 0.145937 s<br>Run time p95: 0.146344 s<br>Run time std: 0.000268 s<br>Nº repeats: 5",
          "Forecaster: ForecasterDirectMultiVariate<br>Regressor: DummyRegressor<br>Function: ForecasterDirectMultiVariate_backtesting_conformal<br>Function_hash: ad4b23932ecff7727297de5a23950e4d<br>Method: backtesting_conformal<br>Datetime: 2025-08-26 09:01:20.469044<br>Python version: 3.12.11<br>skforecast version: 0.16.0<br>numpy version: 2.1.3<br>pandas version: 2.3.2<br>sklearn version: 1.6.1<br>lightgbm version: 4.6.0<br>Platform: Linux-6.11.0-1018-azure-x86_64-with-glibc2.39<br>Processor: x86_64<br>CPU count: 4<br>Memory (GB): 16.77<br>Run time avg: 0.144920 s<br>Run time median: 0.144711 s<br>Run time p95: 0.146285 s<br>Run time std: 0.000930 s<br>Nº repeats: 5",
          "Forecaster: ForecasterDirectMultiVariate<br>Regressor: DummyRegressor<br>Function: ForecasterDirectMultiVariate_backtesting_conformal<br>Function_hash: ad4b23932ecff7727297de5a23950e4d<br>Method: backtesting_conformal<br>Datetime: 2025-08-26 09:11:58.719236<br>Python version: 3.12.11<br>skforecast version: 0.16.0<br>numpy version: 2.1.3<br>pandas version: 2.3.2<br>sklearn version: 1.6.1<br>lightgbm version: 4.6.0<br>Platform: Linux-6.11.0-1018-azure-x86_64-with-glibc2.39<br>Processor: x86_64<br>CPU count: 4<br>Memory (GB): 16.77<br>Run time avg: 0.148453 s<br>Run time median: 0.148626 s<br>Run time p95: 0.149051 s<br>Run time std: 0.000551 s<br>Nº repeats: 5"
         ],
         "type": "scatter",
         "visible": false,
         "x": {
          "bdata": "sT39dIiW7j84FFgdy8LwP3d9UVWhjPA/Nfkl7dk97z8=",
          "dtype": "f8"
         },
         "y": {
          "bdata": "M7Nxxu3lwj+aWWUHla/CPzMz6vK8jMI/zdzME38Awz8=",
          "dtype": "f8"
         }
        },
        {
         "error_y": {
          "array": {
           "bdata": "b0IMk4wiQT/dN3nju7FZPxPe1HEXLFk/1AGfMJvCUj9rtqtskelSPw==",
           "dtype": "f8"
          },
          "color": "#00CC96",
          "thickness": 1.5,
          "type": "data",
          "visible": true,
          "width": 5
         },
         "hovertemplate": "%{text}<extra></extra>",
         "marker": {
          "color": "#00CC96",
          "line": {
           "color": "white",
           "width": 1
          },
          "opacity": 0.85,
          "size": 10
         },
         "mode": "markers",
         "text": [
          "Forecaster: ForecasterDirectMultiVariate<br>Regressor: DummyRegressor<br>Function: ForecasterDirectMultiVariate_backtesting_conformal<br>Function_hash: ad4b23932ecff7727297de5a23950e4d<br>Method: backtesting_conformal<br>Datetime: 2025-08-26 07:07:54.657943<br>Python version: 3.12.11<br>skforecast version: 0.17.0<br>numpy version: 2.1.3<br>pandas version: 2.3.2<br>sklearn version: 1.6.1<br>lightgbm version: 4.6.0<br>Platform: Linux-6.11.0-1018-azure-x86_64-with-glibc2.39<br>Processor: x86_64<br>CPU count: 4<br>Memory (GB): 16.77<br>Run time avg: 0.145776 s<br>Run time median: 0.145888 s<br>Run time p95: 0.146313 s<br>Run time std: 0.000523 s<br>Nº repeats: 5",
          "Forecaster: ForecasterDirectMultiVariate<br>Regressor: DummyRegressor<br>Function: ForecasterDirectMultiVariate_backtesting_conformal<br>Function_hash: ad4b23932ecff7727297de5a23950e4d<br>Method: backtesting_conformal<br>Datetime: 2025-08-26 07:20:54.709467<br>Python version: 3.12.11<br>skforecast version: 0.17.0<br>numpy version: 2.1.3<br>pandas version: 2.3.2<br>sklearn version: 1.6.1<br>lightgbm version: 4.6.0<br>Platform: Linux-6.11.0-1018-azure-x86_64-with-glibc2.39<br>Processor: x86_64<br>CPU count: 4<br>Memory (GB): 16.77<br>Run time avg: 0.147491 s<br>Run time median: 0.147188 s<br>Run time p95: 0.149775 s<br>Run time std: 0.001568 s<br>Nº repeats: 5",
          "Forecaster: ForecasterDirectMultiVariate<br>Regressor: DummyRegressor<br>Function: ForecasterDirectMultiVariate_backtesting_conformal<br>Function_hash: ad4b23932ecff7727297de5a23950e4d<br>Method: backtesting_conformal<br>Datetime: 2025-08-26 07:39:21.478279<br>Python version: 3.12.11<br>skforecast version: 0.17.0<br>numpy version: 2.1.3<br>pandas version: 2.3.2<br>sklearn version: 1.6.1<br>lightgbm version: 4.6.0<br>Platform: Linux-6.11.0-1018-azure-x86_64-with-glibc2.39<br>Processor: x86_64<br>CPU count: 4<br>Memory (GB): 16.77<br>Run time avg: 0.149139 s<br>Run time median: 0.148601 s<br>Run time p95: 0.151470 s<br>Run time std: 0.001536 s<br>Nº repeats: 5",
          "Forecaster: ForecasterDirectMultiVariate<br>Regressor: DummyRegressor<br>Function: ForecasterDirectMultiVariate_backtesting_conformal<br>Function_hash: ad4b23932ecff7727297de5a23950e4d<br>Method: backtesting_conformal<br>Datetime: 2025-08-26 07:52:06.030076<br>Python version: 3.12.11<br>skforecast version: 0.17.0<br>numpy version: 2.1.3<br>pandas version: 2.3.2<br>sklearn version: 1.6.1<br>lightgbm version: 4.6.0<br>Platform: Linux-6.11.0-1018-azure-x86_64-with-glibc2.39<br>Processor: x86_64<br>CPU count: 4<br>Memory (GB): 16.77<br>Run time avg: 0.148093 s<br>Run time median: 0.148054 s<br>Run time p95: 0.149662 s<br>Run time std: 0.001145 s<br>Nº repeats: 5",
          "Forecaster: ForecasterDirectMultiVariate<br>Regressor: DummyRegressor<br>Function: ForecasterDirectMultiVariate_backtesting_conformal<br>Function_hash: ad4b23932ecff7727297de5a23950e4d<br>Method: backtesting_conformal<br>Datetime: 2025-08-26 08:18:01.619993<br>Python version: 3.12.11<br>skforecast version: 0.17.0<br>numpy version: 2.1.3<br>pandas version: 2.3.2<br>sklearn version: 1.6.1<br>lightgbm version: 4.6.0<br>Platform: Linux-6.11.0-1018-azure-x86_64-with-glibc2.39<br>Processor: x86_64<br>CPU count: 4<br>Memory (GB): 16.77<br>Run time avg: 0.147286 s<br>Run time median: 0.147173 s<br>Run time p95: 0.148828 s<br>Run time std: 0.001154 s<br>Nº repeats: 5"
         ],
         "type": "scatter",
         "visible": false,
         "x": {
          "bdata": "mFjQoIhGAEBkbzCcCyoAQBZHYuiYXP8/TH0SQXM8AECgUbgM/VwAQA==",
          "dtype": "f8"
         },
         "y": {
          "bdata": "mlnqvM2owj8zY+XR/uDCPzPzEv7/FsM/M3M34bP0wj8zEz5GR9rCPw==",
          "dtype": "f8"
         }
        },
        {
         "line": {
          "color": "#374151",
          "width": 2
         },
         "marker": {
          "color": "#374151",
          "size": 8
         },
         "mode": "lines+markers",
         "name": "Median (per version)",
         "type": "scatter",
         "visible": true,
         "x": {
          "bdata": "AAEC",
          "dtype": "i1"
         },
         "y": {
          "bdata": "zexyayo4mz/NzHyr8zyFP2bmR3O/noQ/",
          "dtype": "f8"
         }
        },
        {
         "line": {
          "color": "#374151",
          "width": 2
         },
         "marker": {
          "color": "#374151",
          "size": 8
         },
         "mode": "lines+markers",
         "name": "Median (per version)",
         "type": "scatter",
         "visible": false,
         "x": {
          "bdata": "AAEC",
          "dtype": "i1"
         },
         "y": {
          "bdata": "NJM+63OcmD8AAODg+/l/PwAAWnfTtH4/",
          "dtype": "f8"
         }
        },
        {
         "line": {
          "color": "#374151",
          "width": 2
         },
         "marker": {
          "color": "#374151",
          "size": 8
         },
         "mode": "lines+markers",
         "name": "Median (per version)",
         "type": "scatter",
         "visible": false,
         "x": {
          "bdata": "AAEC",
          "dtype": "i1"
         },
         "y": {
          "bdata": "M9MHyUXnoj8AwMsjJsGUPwAARNff/JQ/",
          "dtype": "f8"
         }
        },
        {
         "line": {
          "color": "#374151",
          "width": 2
         },
         "marker": {
          "color": "#374151",
          "size": 8
         },
         "mode": "lines+markers",
         "name": "Median (per version)",
         "type": "scatter",
         "visible": false,
         "x": {
          "bdata": "AAEC",
          "dtype": "i1"
         },
         "y": {
          "bdata": "NLM/m0W9nz+aGcWhOdWNPzMzcygTHI4/",
          "dtype": "f8"
         }
        },
        {
         "line": {
          "color": "#374151",
          "width": 2
         },
         "marker": {
          "color": "#374151",
          "size": 8
         },
         "mode": "lines+markers",
         "name": "Median (per version)",
         "type": "scatter",
         "visible": false,
         "x": {
          "bdata": "AAEC",
          "dtype": "i1"
         },
         "y": {
          "bdata": "AAAAAAAA+H8AAAAAAAD4f5qZWQh76S4/",
          "dtype": "f8"
         }
        },
        {
         "line": {
          "color": "#374151",
          "width": 2
         },
         "marker": {
          "color": "#374151",
          "size": 8
         },
         "mode": "lines+markers",
         "name": "Median (per version)",
         "type": "scatter",
         "visible": false,
         "x": {
          "bdata": "AAEC",
          "dtype": "i1"
         },
         "y": {
          "bdata": "M7MCkLxudT8AgLr0RJtyP2Zmtu0+unI/",
          "dtype": "f8"
         }
        },
        {
         "line": {
          "color": "#374151",
          "width": 2
         },
         "marker": {
          "color": "#374151",
          "size": 8
         },
         "mode": "lines+markers",
         "name": "Median (per version)",
         "type": "scatter",
         "visible": false,
         "x": {
          "bdata": "AAEC",
          "dtype": "i1"
         },
         "y": {
          "bdata": "zEyOwnXNdz9mZvtjoSd1P5qZ5mUUFHU/",
          "dtype": "f8"
         }
        },
        {
         "line": {
          "color": "#374151",
          "width": 2
         },
         "marker": {
          "color": "#374151",
          "size": 8
         },
         "mode": "lines+markers",
         "name": "Median (per version)",
         "type": "scatter",
         "visible": false,
         "x": {
          "bdata": "AAEC",
          "dtype": "i1"
         },
         "y": {
          "bdata": "AAC1K7aCej8zs8nSr/Z3PzMzSbxDoHc/",
          "dtype": "f8"
         }
        },
        {
         "line": {
          "color": "#374151",
          "width": 2
         },
         "marker": {
          "color": "#374151",
          "size": 8
         },
         "mode": "lines+markers",
         "name": "Median (per version)",
         "type": "scatter",
         "visible": false,
         "x": {
          "bdata": "AAEC",
          "dtype": "i1"
         },
         "y": {
          "bdata": "zRSGI36cxD+agYlhvajBPzNzl387rME/",
          "dtype": "f8"
         }
        },
        {
         "line": {
          "color": "#374151",
          "width": 2
         },
         "marker": {
          "color": "#374151",
          "size": 8
         },
         "mode": "lines+markers",
         "name": "Median (per version)",
         "type": "scatter",
         "visible": false,
         "x": {
          "bdata": "AAEC",
          "dtype": "i1"
         },
         "y": {
          "bdata": "AEAo+Qz9wD/M/IQt2dy8PzPTbPnAxrw/",
          "dtype": "f8"
         }
        },
        {
         "line": {
          "color": "#374151",
          "width": 2
         },
         "marker": {
          "color": "#374151",
          "size": 8
         },
         "mode": "lines+markers",
         "name": "Median (per version)",
         "type": "scatter",
         "visible": false,
         "x": {
          "bdata": "AAEC",
          "dtype": "i1"
         },
         "y": {
          "bdata": "zERuuQzVxT9mhutmwcrCPzNj5dH+4MI/",
          "dtype": "f8"
         }
        },
        {
         "line": {
          "color": "#9CA3AF",
          "dash": "dash",
          "width": 2
         },
         "marker": {
          "color": "#9CA3AF",
          "size": 8
         },
         "mode": "lines+markers",
         "name": "Mean (per version)",
         "type": "scatter",
         "visible": true,
         "x": {
          "bdata": "AAEC",
          "dtype": "i1"
         },
         "y": {
          "bdata": "ZnZ33U1Cmz9m5sXTPTaFP4Xryyj9pIQ/",
          "dtype": "f8"
         }
        },
        {
         "line": {
          "color": "#9CA3AF",
          "dash": "dash",
          "width": 2
         },
         "marker": {
          "color": "#9CA3AF",
          "size": 8
         },
         "mode": "lines+markers",
         "name": "Mean (per version)",
         "type": "scatter",
         "visible": false,
         "x": {
          "bdata": "AAEC",
          "dtype": "i1"
         },
         "y": {
          "bdata": "NGMSySWImD/NzOaNtfV/PwAAXx2apH4/",
          "dtype": "f8"
         }
        },
        {
         "line": {
          "color": "#9CA3AF",
          "dash": "dash",
          "width": 2
         },
         "marker": {
          "color": "#9CA3AF",
          "size": 8
         },
         "mode": "lines+markers",
         "name": "Mean (per version)",
         "type": "scatter",
         "visible": false,
         "x": {
          "bdata": "AAEC",
          "dtype": "i1"
         },
         "y": {
          "bdata": "M2OiGPntoj8AoE2vd7SUP2ZmGq5RA5U/",
          "dtype": "f8"
         }
        },
        {
         "line": {
          "color": "#9CA3AF",
          "dash": "dash",
          "width": 2
         },
         "marker": {
          "color": "#9CA3AF",
          "size": 8
         },
         "mode": "lines+markers",
         "name": "Mean (per version)",
         "type": "scatter",
         "visible": false,
         "x": {
          "bdata": "AAEC",
          "dtype": "i1"
         },
         "y": {
          "bdata": "AOCCSt/anz8zc/inzeGNPz0Km4c/EY4/",
          "dtype": "f8"
         }
        },
        {
         "line": {
          "color": "#9CA3AF",
          "dash": "dash",
          "width": 2
         },
         "marker": {
          "color": "#9CA3AF",
          "size": 8
         },
         "mode": "lines+markers",
         "name": "Mean (per version)",
         "type": "scatter",
         "visible": false,
         "x": {
          "bdata": "AAEC",
          "dtype": "i1"
         },
         "y": {
          "bdata": "AAAAAAAA+H8AAAAAAAD4fz4Kl9745S4/",
          "dtype": "f8"
         }
        },
        {
         "line": {
          "color": "#9CA3AF",
          "dash": "dash",
          "width": 2
         },
         "marker": {
          "color": "#9CA3AF",
          "size": 8
         },
         "mode": "lines+markers",
         "name": "Mean (per version)",
         "type": "scatter",
         "visible": false,
         "x": {
          "bdata": "AAEC",
          "dtype": "i1"
         },
         "y": {
          "bdata": "M7P5aO2NdT+amU5zap9yP83M3UsnsHI/",
          "dtype": "f8"
         }
        },
        {
         "line": {
          "color": "#9CA3AF",
          "dash": "dash",
          "width": 2
         },
         "marker": {
          "color": "#9CA3AF",
          "size": 8
         },
         "mode": "lines+markers",
         "name": "Mean (per version)",
         "type": "scatter",
         "visible": false,
         "x": {
          "bdata": "AAEC",
          "dtype": "i1"
         },
         "y": {
          "bdata": "zczlvnPsdz8zM+27nr92P5qZWcYlL3U/",
          "dtype": "f8"
         }
        },
        {
         "line": {
          "color": "#9CA3AF",
          "dash": "dash",
          "width": 2
         },
         "marker": {
          "color": "#9CA3AF",
          "size": 8
         },
         "mode": "lines+markers",
         "name": "Mean (per version)",
         "type": "scatter",
         "visible": false,
         "x": {
          "bdata": "AAEC",
          "dtype": "i1"
         },
         "y": {
          "bdata": "M3M0s86sej8z82sE+RF4P3E914ELwnc/",
          "dtype": "f8"
         }
        },
        {
         "line": {
          "color": "#9CA3AF",
          "dash": "dash",
          "width": 2
         },
         "marker": {
          "color": "#9CA3AF",
          "size": 8
         },
         "mode": "lines+markers",
         "name": "Mean (per version)",
         "type": "scatter",
         "visible": false,
         "x": {
          "bdata": "AAEC",
          "dtype": "i1"
         },
         "y": {
          "bdata": "AGiCBkjAxD+aoeobRavBP+tR+XsqwME/",
          "dtype": "f8"
         }
        },
        {
         "line": {
          "color": "#9CA3AF",
          "dash": "dash",
          "width": 2
         },
         "marker": {
          "color": "#9CA3AF",
          "size": 8
         },
         "mode": "lines+markers",
         "name": "Mean (per version)",
         "type": "scatter",
         "visible": false,
         "x": {
          "bdata": "AAEC",
          "dtype": "i1"
         },
         "y": {
          "bdata": "Zlrn1E4jwT9m3iLZHtu8P0jBwfVY6bw/",
          "dtype": "f8"
         }
        },
        {
         "line": {
          "color": "#9CA3AF",
          "dash": "dash",
          "width": 2
         },
         "marker": {
          "color": "#9CA3AF",
          "size": 8
         },
         "mode": "lines+markers",
         "name": "Mean (per version)",
         "type": "scatter",
         "visible": false,
         "x": {
          "bdata": "AAEC",
          "dtype": "i1"
         },
         "y": {
          "bdata": "ZpKn9jP2xT8zhyO1r8jCP0hx3vAn48I/",
          "dtype": "f8"
         }
        }
       ],
       "layout": {
        "legend": {
         "title": {
          "text": ""
         }
        },
        "margin": {
         "b": 60,
         "l": 70,
         "r": 20,
         "t": 100
        },
        "showlegend": false,
        "template": {
         "data": {
          "bar": [
           {
            "error_x": {
             "color": "#2a3f5f"
            },
            "error_y": {
             "color": "#2a3f5f"
            },
            "marker": {
             "line": {
              "color": "#E5ECF6",
              "width": 0.5
             },
             "pattern": {
              "fillmode": "overlay",
              "size": 10,
              "solidity": 0.2
             }
            },
            "type": "bar"
           }
          ],
          "barpolar": [
           {
            "marker": {
             "line": {
              "color": "#E5ECF6",
              "width": 0.5
             },
             "pattern": {
              "fillmode": "overlay",
              "size": 10,
              "solidity": 0.2
             }
            },
            "type": "barpolar"
           }
          ],
          "carpet": [
           {
            "aaxis": {
             "endlinecolor": "#2a3f5f",
             "gridcolor": "white",
             "linecolor": "white",
             "minorgridcolor": "white",
             "startlinecolor": "#2a3f5f"
            },
            "baxis": {
             "endlinecolor": "#2a3f5f",
             "gridcolor": "white",
             "linecolor": "white",
             "minorgridcolor": "white",
             "startlinecolor": "#2a3f5f"
            },
            "type": "carpet"
           }
          ],
          "choropleth": [
           {
            "colorbar": {
             "outlinewidth": 0,
             "ticks": ""
            },
            "type": "choropleth"
           }
          ],
          "contour": [
           {
            "colorbar": {
             "outlinewidth": 0,
             "ticks": ""
            },
            "colorscale": [
             [
              0,
              "#0d0887"
             ],
             [
              0.1111111111111111,
              "#46039f"
             ],
             [
              0.2222222222222222,
              "#7201a8"
             ],
             [
              0.3333333333333333,
              "#9c179e"
             ],
             [
              0.4444444444444444,
              "#bd3786"
             ],
             [
              0.5555555555555556,
              "#d8576b"
             ],
             [
              0.6666666666666666,
              "#ed7953"
             ],
             [
              0.7777777777777778,
              "#fb9f3a"
             ],
             [
              0.8888888888888888,
              "#fdca26"
             ],
             [
              1,
              "#f0f921"
             ]
            ],
            "type": "contour"
           }
          ],
          "contourcarpet": [
           {
            "colorbar": {
             "outlinewidth": 0,
             "ticks": ""
            },
            "type": "contourcarpet"
           }
          ],
          "heatmap": [
           {
            "colorbar": {
             "outlinewidth": 0,
             "ticks": ""
            },
            "colorscale": [
             [
              0,
              "#0d0887"
             ],
             [
              0.1111111111111111,
              "#46039f"
             ],
             [
              0.2222222222222222,
              "#7201a8"
             ],
             [
              0.3333333333333333,
              "#9c179e"
             ],
             [
              0.4444444444444444,
              "#bd3786"
             ],
             [
              0.5555555555555556,
              "#d8576b"
             ],
             [
              0.6666666666666666,
              "#ed7953"
             ],
             [
              0.7777777777777778,
              "#fb9f3a"
             ],
             [
              0.8888888888888888,
              "#fdca26"
             ],
             [
              1,
              "#f0f921"
             ]
            ],
            "type": "heatmap"
           }
          ],
          "histogram": [
           {
            "marker": {
             "pattern": {
              "fillmode": "overlay",
              "size": 10,
              "solidity": 0.2
             }
            },
            "type": "histogram"
           }
          ],
          "histogram2d": [
           {
            "colorbar": {
             "outlinewidth": 0,
             "ticks": ""
            },
            "colorscale": [
             [
              0,
              "#0d0887"
             ],
             [
              0.1111111111111111,
              "#46039f"
             ],
             [
              0.2222222222222222,
              "#7201a8"
             ],
             [
              0.3333333333333333,
              "#9c179e"
             ],
             [
              0.4444444444444444,
              "#bd3786"
             ],
             [
              0.5555555555555556,
              "#d8576b"
             ],
             [
              0.6666666666666666,
              "#ed7953"
             ],
             [
              0.7777777777777778,
              "#fb9f3a"
             ],
             [
              0.8888888888888888,
              "#fdca26"
             ],
             [
              1,
              "#f0f921"
             ]
            ],
            "type": "histogram2d"
           }
          ],
          "histogram2dcontour": [
           {
            "colorbar": {
             "outlinewidth": 0,
             "ticks": ""
            },
            "colorscale": [
             [
              0,
              "#0d0887"
             ],
             [
              0.1111111111111111,
              "#46039f"
             ],
             [
              0.2222222222222222,
              "#7201a8"
             ],
             [
              0.3333333333333333,
              "#9c179e"
             ],
             [
              0.4444444444444444,
              "#bd3786"
             ],
             [
              0.5555555555555556,
              "#d8576b"
             ],
             [
              0.6666666666666666,
              "#ed7953"
             ],
             [
              0.7777777777777778,
              "#fb9f3a"
             ],
             [
              0.8888888888888888,
              "#fdca26"
             ],
             [
              1,
              "#f0f921"
             ]
            ],
            "type": "histogram2dcontour"
           }
          ],
          "mesh3d": [
           {
            "colorbar": {
             "outlinewidth": 0,
             "ticks": ""
            },
            "type": "mesh3d"
           }
          ],
          "parcoords": [
           {
            "line": {
             "colorbar": {
              "outlinewidth": 0,
              "ticks": ""
             }
            },
            "type": "parcoords"
           }
          ],
          "pie": [
           {
            "automargin": true,
            "type": "pie"
           }
          ],
          "scatter": [
           {
            "fillpattern": {
             "fillmode": "overlay",
             "size": 10,
             "solidity": 0.2
            },
            "type": "scatter"
           }
          ],
          "scatter3d": [
           {
            "line": {
             "colorbar": {
              "outlinewidth": 0,
              "ticks": ""
             }
            },
            "marker": {
             "colorbar": {
              "outlinewidth": 0,
              "ticks": ""
             }
            },
            "type": "scatter3d"
           }
          ],
          "scattercarpet": [
           {
            "marker": {
             "colorbar": {
              "outlinewidth": 0,
              "ticks": ""
             }
            },
            "type": "scattercarpet"
           }
          ],
          "scattergeo": [
           {
            "marker": {
             "colorbar": {
              "outlinewidth": 0,
              "ticks": ""
             }
            },
            "type": "scattergeo"
           }
          ],
          "scattergl": [
           {
            "marker": {
             "colorbar": {
              "outlinewidth": 0,
              "ticks": ""
             }
            },
            "type": "scattergl"
           }
          ],
          "scattermap": [
           {
            "marker": {
             "colorbar": {
              "outlinewidth": 0,
              "ticks": ""
             }
            },
            "type": "scattermap"
           }
          ],
          "scattermapbox": [
           {
            "marker": {
             "colorbar": {
              "outlinewidth": 0,
              "ticks": ""
             }
            },
            "type": "scattermapbox"
           }
          ],
          "scatterpolar": [
           {
            "marker": {
             "colorbar": {
              "outlinewidth": 0,
              "ticks": ""
             }
            },
            "type": "scatterpolar"
           }
          ],
          "scatterpolargl": [
           {
            "marker": {
             "colorbar": {
              "outlinewidth": 0,
              "ticks": ""
             }
            },
            "type": "scatterpolargl"
           }
          ],
          "scatterternary": [
           {
            "marker": {
             "colorbar": {
              "outlinewidth": 0,
              "ticks": ""
             }
            },
            "type": "scatterternary"
           }
          ],
          "surface": [
           {
            "colorbar": {
             "outlinewidth": 0,
             "ticks": ""
            },
            "colorscale": [
             [
              0,
              "#0d0887"
             ],
             [
              0.1111111111111111,
              "#46039f"
             ],
             [
              0.2222222222222222,
              "#7201a8"
             ],
             [
              0.3333333333333333,
              "#9c179e"
             ],
             [
              0.4444444444444444,
              "#bd3786"
             ],
             [
              0.5555555555555556,
              "#d8576b"
             ],
             [
              0.6666666666666666,
              "#ed7953"
             ],
             [
              0.7777777777777778,
              "#fb9f3a"
             ],
             [
              0.8888888888888888,
              "#fdca26"
             ],
             [
              1,
              "#f0f921"
             ]
            ],
            "type": "surface"
           }
          ],
          "table": [
           {
            "cells": {
             "fill": {
              "color": "#EBF0F8"
             },
             "line": {
              "color": "white"
             }
            },
            "header": {
             "fill": {
              "color": "#C8D4E3"
             },
             "line": {
              "color": "white"
             }
            },
            "type": "table"
           }
          ]
         },
         "layout": {
          "annotationdefaults": {
           "arrowcolor": "#2a3f5f",
           "arrowhead": 0,
           "arrowwidth": 1
          },
          "autotypenumbers": "strict",
          "coloraxis": {
           "colorbar": {
            "outlinewidth": 0,
            "ticks": ""
           }
          },
          "colorscale": {
           "diverging": [
            [
             0,
             "#8e0152"
            ],
            [
             0.1,
             "#c51b7d"
            ],
            [
             0.2,
             "#de77ae"
            ],
            [
             0.3,
             "#f1b6da"
            ],
            [
             0.4,
             "#fde0ef"
            ],
            [
             0.5,
             "#f7f7f7"
            ],
            [
             0.6,
             "#e6f5d0"
            ],
            [
             0.7,
             "#b8e186"
            ],
            [
             0.8,
             "#7fbc41"
            ],
            [
             0.9,
             "#4d9221"
            ],
            [
             1,
             "#276419"
            ]
           ],
           "sequential": [
            [
             0,
             "#0d0887"
            ],
            [
             0.1111111111111111,
             "#46039f"
            ],
            [
             0.2222222222222222,
             "#7201a8"
            ],
            [
             0.3333333333333333,
             "#9c179e"
            ],
            [
             0.4444444444444444,
             "#bd3786"
            ],
            [
             0.5555555555555556,
             "#d8576b"
            ],
            [
             0.6666666666666666,
             "#ed7953"
            ],
            [
             0.7777777777777778,
             "#fb9f3a"
            ],
            [
             0.8888888888888888,
             "#fdca26"
            ],
            [
             1,
             "#f0f921"
            ]
           ],
           "sequentialminus": [
            [
             0,
             "#0d0887"
            ],
            [
             0.1111111111111111,
             "#46039f"
            ],
            [
             0.2222222222222222,
             "#7201a8"
            ],
            [
             0.3333333333333333,
             "#9c179e"
            ],
            [
             0.4444444444444444,
             "#bd3786"
            ],
            [
             0.5555555555555556,
             "#d8576b"
            ],
            [
             0.6666666666666666,
             "#ed7953"
            ],
            [
             0.7777777777777778,
             "#fb9f3a"
            ],
            [
             0.8888888888888888,
             "#fdca26"
            ],
            [
             1,
             "#f0f921"
            ]
           ]
          },
          "colorway": [
           "#636efa",
           "#EF553B",
           "#00cc96",
           "#ab63fa",
           "#FFA15A",
           "#19d3f3",
           "#FF6692",
           "#B6E880",
           "#FF97FF",
           "#FECB52"
          ],
          "font": {
           "color": "#2a3f5f"
          },
          "geo": {
           "bgcolor": "white",
           "lakecolor": "white",
           "landcolor": "#E5ECF6",
           "showlakes": true,
           "showland": true,
           "subunitcolor": "white"
          },
          "hoverlabel": {
           "align": "left"
          },
          "hovermode": "closest",
          "mapbox": {
           "style": "light"
          },
          "paper_bgcolor": "white",
          "plot_bgcolor": "#E5ECF6",
          "polar": {
           "angularaxis": {
            "gridcolor": "white",
            "linecolor": "white",
            "ticks": ""
           },
           "bgcolor": "#E5ECF6",
           "radialaxis": {
            "gridcolor": "white",
            "linecolor": "white",
            "ticks": ""
           }
          },
          "scene": {
           "xaxis": {
            "backgroundcolor": "#E5ECF6",
            "gridcolor": "white",
            "gridwidth": 2,
            "linecolor": "white",
            "showbackground": true,
            "ticks": "",
            "zerolinecolor": "white"
           },
           "yaxis": {
            "backgroundcolor": "#E5ECF6",
            "gridcolor": "white",
            "gridwidth": 2,
            "linecolor": "white",
            "showbackground": true,
            "ticks": "",
            "zerolinecolor": "white"
           },
           "zaxis": {
            "backgroundcolor": "#E5ECF6",
            "gridcolor": "white",
            "gridwidth": 2,
            "linecolor": "white",
            "showbackground": true,
            "ticks": "",
            "zerolinecolor": "white"
           }
          },
          "shapedefaults": {
           "line": {
            "color": "#2a3f5f"
           }
          },
          "ternary": {
           "aaxis": {
            "gridcolor": "white",
            "linecolor": "white",
            "ticks": ""
           },
           "baxis": {
            "gridcolor": "white",
            "linecolor": "white",
            "ticks": ""
           },
           "bgcolor": "#E5ECF6",
           "caxis": {
            "gridcolor": "white",
            "linecolor": "white",
            "ticks": ""
           }
          },
          "title": {
           "x": 0.05
          },
          "xaxis": {
           "automargin": true,
           "gridcolor": "white",
           "linecolor": "white",
           "ticks": "",
           "title": {
            "standoff": 15
           },
           "zerolinecolor": "white",
           "zerolinewidth": 2
          },
          "yaxis": {
           "automargin": true,
           "gridcolor": "white",
           "linecolor": "white",
           "ticks": "",
           "title": {
            "standoff": 15
           },
           "zerolinecolor": "white",
           "zerolinewidth": 2
          }
         }
        },
        "title": {
         "text": "ForecasterDirectMultiVariate — Execution time `_create_train_X_y`"
        },
        "updatemenus": [
         {
          "buttons": [
           {
            "args": [
             {
              "visible": [
               true,
               true,
               true,
               false,
               false,
               false,
               false,
               false,
               false,
               false,
               false,
               false,
               false,
               false,
               false,
               false,
               false,
               false,
               false,
               false,
               false,
               false,
               false,
               false,
               false,
               false,
               false,
               false,
               false,
               false,
               false,
               false,
               false,
               true,
               false,
               false,
               false,
               false,
               false,
               false,
               false,
               false,
               false,
               false,
               true,
               false,
               false,
               false,
               false,
               false,
               false,
               false,
               false,
               false,
               false
              ]
             },
             {
              "title": "Execution time — method: _create_train_X_y"
             }
            ],
            "label": "_create_train_X_y",
            "method": "update"
           },
           {
            "args": [
             {
              "visible": [
               false,
               false,
               false,
               true,
               true,
               true,
               false,
               false,
               false,
               false,
               false,
               false,
               false,
               false,
               false,
               false,
               false,
               false,
               false,
               false,
               false,
               false,
               false,
               false,
               false,
               false,
               false,
               false,
               false,
               false,
               false,
               false,
               false,
               false,
               true,
               false,
               false,
               false,
               false,
               false,
               false,
               false,
               false,
               false,
               false,
               true,
               false,
               false,
               false,
               false,
               false,
               false,
               false,
               false,
               false
              ]
             },
             {
              "title": "Execution time — method: _create_train_X_y_no_exog"
             }
            ],
            "label": "_create_train_X_y_no_exog",
            "method": "update"
           },
           {
            "args": [
             {
              "visible": [
               false,
               false,
               false,
               false,
               false,
               false,
               true,
               true,
               true,
               false,
               false,
               false,
               false,
               false,
               false,
               false,
               false,
               false,
               false,
               false,
               false,
               false,
               false,
               false,
               false,
               false,
               false,
               false,
               false,
               false,
               false,
               false,
               false,
               false,
               false,
               true,
               false,
               false,
               false,
               false,
               false,
               false,
               false,
               false,
               false,
               false,
               true,
               false,
               false,
               false,
               false,
               false,
               false,
               false,
               false
              ]
             },
             {
              "title": "Execution time — method: fit"
             }
            ],
            "label": "fit",
            "method": "update"
           },
           {
            "args": [
             {
              "visible": [
               false,
               false,
               false,
               false,
               false,
               false,
               false,
               false,
               false,
               true,
               true,
               true,
               false,
               false,
               false,
               false,
               false,
               false,
               false,
               false,
               false,
               false,
               false,
               false,
               false,
               false,
               false,
               false,
               false,
               false,
               false,
               false,
               false,
               false,
               false,
               false,
               true,
               false,
               false,
               false,
               false,
               false,
               false,
               false,
               false,
               false,
               false,
               true,
               false,
               false,
               false,
               false,
               false,
               false,
               false
              ]
             },
             {
              "title": "Execution time — method: fit_series_no_exog"
             }
            ],
            "label": "fit_series_no_exog",
            "method": "update"
           },
           {
            "args": [
             {
              "visible": [
               false,
               false,
               false,
               false,
               false,
               false,
               false,
               false,
               false,
               false,
               false,
               false,
               true,
               true,
               true,
               false,
               false,
               false,
               false,
               false,
               false,
               false,
               false,
               false,
               false,
               false,
               false,
               false,
               false,
               false,
               false,
               false,
               false,
               false,
               false,
               false,
               false,
               true,
               false,
               false,
               false,
               false,
               false,
               false,
               false,
               false,
               false,
               false,
               true,
               false,
               false,
               false,
               false,
               false,
               false
              ]
             },
             {
              "title": "Execution time — method: check_predict_inputs"
             }
            ],
            "label": "check_predict_inputs",
            "method": "update"
           },
           {
            "args": [
             {
              "visible": [
               false,
               false,
               false,
               false,
               false,
               false,
               false,
               false,
               false,
               false,
               false,
               false,
               false,
               false,
               false,
               true,
               true,
               true,
               false,
               false,
               false,
               false,
               false,
               false,
               false,
               false,
               false,
               false,
               false,
               false,
               false,
               false,
               false,
               false,
               false,
               false,
               false,
               false,
               true,
               false,
               false,
               false,
               false,
               false,
               false,
               false,
               false,
               false,
               false,
               true,
               false,
               false,
               false,
               false,
               false
              ]
             },
             {
              "title": "Execution time — method: _create_predict_inputs"
             }
            ],
            "label": "_create_predict_inputs",
            "method": "update"
           },
           {
            "args": [
             {
              "visible": [
               false,
               false,
               false,
               false,
               false,
               false,
               false,
               false,
               false,
               false,
               false,
               false,
               false,
               false,
               false,
               false,
               false,
               false,
               true,
               true,
               true,
               false,
               false,
               false,
               false,
               false,
               false,
               false,
               false,
               false,
               false,
               false,
               false,
               false,
               false,
               false,
               false,
               false,
               false,
               true,
               false,
               false,
               false,
               false,
               false,
               false,
               false,
               false,
               false,
               false,
               true,
               false,
               false,
               false,
               false
              ]
             },
             {
              "title": "Execution time — method: predict"
             }
            ],
            "label": "predict",
            "method": "update"
           },
           {
            "args": [
             {
              "visible": [
               false,
               false,
               false,
               false,
               false,
               false,
               false,
               false,
               false,
               false,
               false,
               false,
               false,
               false,
               false,
               false,
               false,
               false,
               false,
               false,
               false,
               true,
               true,
               true,
               false,
               false,
               false,
               false,
               false,
               false,
               false,
               false,
               false,
               false,
               false,
               false,
               false,
               false,
               false,
               false,
               true,
               false,
               false,
               false,
               false,
               false,
               false,
               false,
               false,
               false,
               false,
               true,
               false,
               false,
               false
              ]
             },
             {
              "title": "Execution time — method: predict_interval_conformal"
             }
            ],
            "label": "predict_interval_conformal",
            "method": "update"
           },
           {
            "args": [
             {
              "visible": [
               false,
               false,
               false,
               false,
               false,
               false,
               false,
               false,
               false,
               false,
               false,
               false,
               false,
               false,
               false,
               false,
               false,
               false,
               false,
               false,
               false,
               false,
               false,
               false,
               true,
               true,
               true,
               false,
               false,
               false,
               false,
               false,
               false,
               false,
               false,
               false,
               false,
               false,
               false,
               false,
               false,
               true,
               false,
               false,
               false,
               false,
               false,
               false,
               false,
               false,
               false,
               false,
               true,
               false,
               false
              ]
             },
             {
              "title": "Execution time — method: backtesting"
             }
            ],
            "label": "backtesting",
            "method": "update"
           },
           {
            "args": [
             {
              "visible": [
               false,
               false,
               false,
               false,
               false,
               false,
               false,
               false,
               false,
               false,
               false,
               false,
               false,
               false,
               false,
               false,
               false,
               false,
               false,
               false,
               false,
               false,
               false,
               false,
               false,
               false,
               false,
               true,
               true,
               true,
               false,
               false,
               false,
               false,
               false,
               false,
               false,
               false,
               false,
               false,
               false,
               false,
               true,
               false,
               false,
               false,
               false,
               false,
               false,
               false,
               false,
               false,
               false,
               true,
               false
              ]
             },
             {
              "title": "Execution time — method: backtesting_no_exog"
             }
            ],
            "label": "backtesting_no_exog",
            "method": "update"
           },
           {
            "args": [
             {
              "visible": [
               false,
               false,
               false,
               false,
               false,
               false,
               false,
               false,
               false,
               false,
               false,
               false,
               false,
               false,
               false,
               false,
               false,
               false,
               false,
               false,
               false,
               false,
               false,
               false,
               false,
               false,
               false,
               false,
               false,
               false,
               true,
               true,
               true,
               false,
               false,
               false,
               false,
               false,
               false,
               false,
               false,
               false,
               false,
               true,
               false,
               false,
               false,
               false,
               false,
               false,
               false,
               false,
               false,
               false,
               true
              ]
             },
             {
              "title": "Execution time — method: backtesting_conformal"
             }
            ],
            "label": "backtesting_conformal",
            "method": "update"
           }
          ],
          "direction": "down",
          "pad": {
           "r": 2,
           "t": 0
          },
          "showactive": true,
          "type": "dropdown",
          "x": 1,
          "xanchor": "right",
          "y": 1.03,
          "yanchor": "bottom"
         }
        ],
        "xaxis": {
         "automargin": true,
         "tickangle": 0,
         "tickmode": "array",
         "ticktext": [
          "0.15.1",
          "0.16.0",
          "0.17.0"
         ],
         "tickvals": [
          0,
          1,
          2
         ],
         "title": {
          "text": "skforecast version"
         }
        },
        "yaxis": {
         "automargin": true,
         "title": {
          "text": "Execution time (s)"
         }
        }
       }
      }
     },
     "metadata": {},
     "output_type": "display_data"
    }
   ],
   "source": [
    "# Plot benchmark results\n",
    "# ==============================================================================\n",
    "plot_benchmark_results(\n",
    "    results_benchmark_all,\n",
    "    forecaster_names = ['ForecasterDirectMultiVariate', 'ForecasterAutoregMultiVariate'],\n",
    "    regressors       = ['DummyRegressor'],\n",
    "    add_mean         = True,\n",
    "    add_median       = True\n",
    ")"
   ]
  },
  {
   "cell_type": "markdown",
   "metadata": {},
   "source": [
    "## Plot function"
   ]
  },
  {
   "cell_type": "code",
   "execution_count": 22,
   "metadata": {},
   "outputs": [],
   "source": [
    "#  Plot function\n",
    "# ==============================================================================\n",
    "from __future__ import annotations\n",
    "import numpy as np\n",
    "import pandas as pd\n",
    "import plotly.graph_objects as go\n",
    "from plotly.express.colors import qualitative\n",
    "from packaging.version import Version, InvalidVersion\n",
    "\n",
    "\n",
    "def plot_benchmark_results(\n",
    "    df: pd.DataFrame, \n",
    "    forecaster_names: str | list[str], \n",
    "    regressors: str | list[str] | None = None, \n",
    "    add_median: bool = True, \n",
    "    add_mean: bool = True\n",
    ") -> None:\n",
    "    \"\"\"\n",
    "    Plot interactive benchmark results by method and package version.\n",
    "\n",
    "    This function renders an interactive Plotly chart that visualizes execution\n",
    "    times for multiple methods across `skforecast` versions. Each data point\n",
    "    represents a run (or an aggregated run) for a given `(method, version)` and is\n",
    "    jittered horizontally to avoid overlap. Points are **colored by version** and\n",
    "    (optionally) per-version **median** and **mean** lines are overlaid for the\n",
    "    selected method. A dropdown allows switching the visible method.\n",
    "\n",
    "    Parameters\n",
    "    ----------\n",
    "    df : pandas DataFrame\n",
    "        Input data to benchmark.\n",
    "    forecaster_names : str, list \n",
    "        Forecaster(s) to filter in `df` (column `forecaster_name`).\n",
    "    regressors : str, list, default None\n",
    "        Regressor(s) to filter in `df` (column `regressor_name`). If `None`,\n",
    "        no additional filtering by regressor is applied.\n",
    "    add_median : bool, default True\n",
    "        If `True`, draw one per-version **median** line for the selected method.\n",
    "    add_mean : bool, default True\n",
    "        If `True`, draw one per-version **mean** line for the selected method.\n",
    "    \n",
    "    Returns\n",
    "    -------\n",
    "    plotly.graph_objects.Figure\n",
    "        A Plotly figure object containing the benchmark results.\n",
    "\n",
    "    \"\"\"\n",
    "\n",
    "    if not isinstance(forecaster_names, list):\n",
    "        forecaster_names = [forecaster_names]\n",
    "    df = df.query(\"forecaster_name in @forecaster_names\")\n",
    "\n",
    "    if regressors is not None:\n",
    "        if not isinstance(regressors, list):\n",
    "            regressors = [regressors]\n",
    "        df = df.query(\"regressor_name in @regressors\")\n",
    "\n",
    "    def try_version(v):\n",
    "        try: \n",
    "            return Version(str(v).lstrip('v'))\n",
    "        except InvalidVersion: \n",
    "            return Version(\"0\")  # fallback\n",
    "\n",
    "    versions_sorted = sorted(df['skforecast_version'].unique(), key=try_version)\n",
    "    version_to_num = {v: i for i, v in enumerate(versions_sorted)}\n",
    "    df['skforecast_version'] = pd.Categorical(\n",
    "        df['skforecast_version'], \n",
    "        categories=versions_sorted, \n",
    "        ordered=True\n",
    "    )\n",
    "    df['x_jittered'] = (\n",
    "        df['skforecast_version'].map(version_to_num).astype(float) + \n",
    "        np.random.uniform(-0.05, 0.05, size=len(df))\n",
    "    )\n",
    "\n",
    "    # --- paleta por versión ---\n",
    "    version_colors = {\n",
    "        v: qualitative.Plotly[i % len(qualitative.Plotly)] \n",
    "        for i, v in enumerate(versions_sorted)\n",
    "    }\n",
    "\n",
    "    methods = list(df['method_name'].unique())\n",
    "\n",
    "    fig = go.Figure()\n",
    "\n",
    "    # --- un trace por (método, métrica); colores por versión en los puntos ---\n",
    "    method_to_traces = {m: [] for m in methods}\n",
    "    for i, m in enumerate(methods):\n",
    "        for version in versions_sorted:\n",
    "\n",
    "            sub_df = df[\n",
    "                (df['method_name'] == m) & \n",
    "                (df['skforecast_version'] == version)\n",
    "            ]\n",
    "            if sub_df.empty:\n",
    "                continue\n",
    "\n",
    "            marker = dict(\n",
    "                size=10,\n",
    "                color=version_colors[version],\n",
    "                opacity=0.85,\n",
    "                line=dict(color=\"white\", width=1)\n",
    "            )   \n",
    "\n",
    "            error_y = dict(\n",
    "                type='data', \n",
    "                array=sub_df['run_time_std'].to_numpy(), \n",
    "                visible=not sub_df['run_time_std'].isna().all(),\n",
    "                color=version_colors[version],\n",
    "                thickness=1.5,\n",
    "                width=5\n",
    "            )\n",
    "\n",
    "            fig.add_trace(go.Scatter(\n",
    "                x=sub_df['x_jittered'],\n",
    "                y=sub_df['run_time_avg'],\n",
    "                mode='markers',\n",
    "                marker=marker,\n",
    "                error_y=error_y,\n",
    "                visible=(i == 0),\n",
    "                # name=f\"{methods[i]} — {label}\",\n",
    "                text = sub_df.apply(lambda row: (\n",
    "                    f\"Forecaster: {row['forecaster_name']}<br>\"\n",
    "                    f\"Regressor: {row['regressor_name']}<br>\"\n",
    "                    f\"Function: {row['function_name']}<br>\"\n",
    "                    f\"Function_hash: {row['function_hash']}<br>\"\n",
    "                    f\"Method: {row['method_name']}<br>\"\n",
    "                    f\"Datetime: {row['datetime']}<br>\"\n",
    "                    f\"Python version: {row['python_version']}<br>\"\n",
    "                    f\"skforecast version: {row['skforecast_version']}<br>\"\n",
    "                    f\"numpy version: {row['numpy_version']}<br>\"\n",
    "                    f\"pandas version: {row['pandas_version']}<br>\"\n",
    "                    f\"sklearn version: {row['sklearn_version']}<br>\"\n",
    "                    f\"lightgbm version: {row['lightgbm_version']}<br>\"\n",
    "                    f\"Platform: {row['platform']}<br>\"\n",
    "                    f\"Processor: {row['processor']}<br>\"\n",
    "                    f\"CPU count: {row['cpu_count']}<br>\"\n",
    "                    f\"Memory (GB): {row['memory_gb']:.2f}<br>\"\n",
    "                    f\"Run time avg: {row['run_time_avg']:.6f} s<br>\"\n",
    "                    f\"Run time median: {row['run_time_median']:.6f} s<br>\"\n",
    "                    f\"Run time p95: {row['run_time_p95']:.6f} s<br>\"\n",
    "                    f\"Run time std: {row['run_time_std']:.6f} s<br>\"\n",
    "                    f\"Nº repeats: {row['n_repeats']}\"\n",
    "                ), axis=1),\n",
    "                hovertemplate = '%{text}<extra></extra>'\n",
    "            ))\n",
    "            method_to_traces[m].append(len(fig.data) - 1)\n",
    "\n",
    "    median_trace_id = {}\n",
    "    if add_median:\n",
    "        for i, m in enumerate(methods):\n",
    "\n",
    "            med_df = (\n",
    "                df[df['method_name'] == m]\n",
    "                .groupby('skforecast_version', observed=True)['run_time_avg']\n",
    "                .median()\n",
    "                .reset_index()\n",
    "            )\n",
    "            if med_df.empty:\n",
    "                continue\n",
    "\n",
    "            median_color = \"#374151\"\n",
    "            med_df['x_center'] = med_df['skforecast_version'].map(version_to_num)\n",
    "            fig.add_trace(go.Scatter(\n",
    "                x=med_df['x_center'],\n",
    "                y=med_df['run_time_avg'],\n",
    "                mode='lines+markers',\n",
    "                line=dict(color=median_color, width=2),\n",
    "                marker=dict(size=8, color=median_color),\n",
    "                name='Median (per version)',\n",
    "                visible=(i == 0)\n",
    "            ))\n",
    "            median_trace_id[m] = len(fig.data) - 1\n",
    "\n",
    "    mean_trace_id = {}\n",
    "    if add_mean:\n",
    "        for i, m in enumerate(methods):\n",
    "\n",
    "            mean_df = (\n",
    "                df[df['method_name'] == m]\n",
    "                .groupby('skforecast_version', observed=True)['run_time_avg']\n",
    "                .mean()\n",
    "                .reset_index()\n",
    "            )\n",
    "            if mean_df.empty:\n",
    "                continue\n",
    "\n",
    "            mean_color = \"#9CA3AF\"\n",
    "            mean_df['x_center'] = mean_df['skforecast_version'].map(version_to_num)\n",
    "            fig.add_trace(go.Scatter(\n",
    "                x=mean_df['x_center'],\n",
    "                y=mean_df['run_time_avg'],\n",
    "                mode='lines+markers',\n",
    "                line=dict(color=mean_color, width=2, dash='dash'),\n",
    "                marker=dict(size=8, color=mean_color),\n",
    "                name='Mean (per version)',\n",
    "                visible=(i == 0)\n",
    "            ))\n",
    "            mean_trace_id[m] = len(fig.data) - 1\n",
    "\n",
    "    def visible_mask_for(method):\n",
    "        n = len(fig.data)\n",
    "        mask = [False] * n\n",
    "\n",
    "        # puntos del método (todas sus versiones)\n",
    "        for idx in method_to_traces.get(method, []):\n",
    "            mask[idx] = True\n",
    "        # su mediana y media (si existen)\n",
    "        if add_median and method in median_trace_id:\n",
    "            mask[median_trace_id[method]] = True\n",
    "        if add_mean and method in mean_trace_id:\n",
    "            mask[mean_trace_id[method]] = True\n",
    "\n",
    "        return mask\n",
    "\n",
    "    buttons_methods = []\n",
    "    for i, m in enumerate(methods):\n",
    "        buttons_methods.append(dict(\n",
    "            label=m,\n",
    "            method=\"update\",\n",
    "            args=[\n",
    "                {\"visible\": visible_mask_for(m)}, \n",
    "                {\"title\": f\"Execution time — method: {m}\"} \n",
    "            ]\n",
    "        ))\n",
    "\n",
    "    fig.update_layout(\n",
    "        title=f\"{forecaster_names[0]} — Execution time `{methods[0]}`\",\n",
    "        xaxis=dict(\n",
    "            tickmode=\"array\",\n",
    "            tickvals=list(version_to_num.values()),\n",
    "            ticktext=list(version_to_num.keys()),\n",
    "            title=\"skforecast version\",\n",
    "            tickangle=0,\n",
    "            automargin=True,\n",
    "        ),\n",
    "        yaxis=dict(\n",
    "            title=\"Execution time (s)\", \n",
    "            automargin=True\n",
    "        ),\n",
    "        # template=\"plotly_white\",\n",
    "        margin=dict(l=70, r=20, t=100, b=60), \n",
    "        updatemenus=[\n",
    "            dict(\n",
    "                type=\"dropdown\",\n",
    "                buttons=buttons_methods,\n",
    "                showactive=True,\n",
    "                direction=\"down\",\n",
    "                x=1.00,\n",
    "                y=1.03,\n",
    "                xanchor=\"right\",\n",
    "                yanchor=\"bottom\",\n",
    "                pad={\"r\": 2, \"t\": 0},\n",
    "            ),\n",
    "        ],\n",
    "        legend=dict(title=\"\"),\n",
    "        showlegend=False,\n",
    "    )\n",
    "\n",
    "    fig.show()"
   ]
  }
 ],
 "metadata": {
  "kernelspec": {
   "display_name": "skforecast_py12",
   "language": "python",
   "name": "python3"
  },
  "language_info": {
   "codemirror_mode": {
    "name": "ipython",
    "version": 3
   },
   "file_extension": ".py",
   "mimetype": "text/x-python",
   "name": "python",
   "nbconvert_exporter": "python",
   "pygments_lexer": "ipython3",
   "version": "3.12.11"
  },
  "orig_nbformat": 4
 },
 "nbformat": 4,
 "nbformat_minor": 2
}
